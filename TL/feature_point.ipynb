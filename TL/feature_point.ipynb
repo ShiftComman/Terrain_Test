{
 "cells": [
  {
   "cell_type": "code",
   "execution_count": 1,
   "metadata": {},
   "outputs": [],
   "source": [
    "import arcpy\n",
    "from arcpy.management import *\n",
    "from arcpy.conversion import *\n",
    "from arcpy.da import *\n",
    "from arcpy.sa import *\n",
    "from arcpy import env\n",
    "import os\n",
    "import pandas as pd\n",
    "import numpy as np"
   ]
  },
  {
   "cell_type": "code",
   "execution_count": 2,
   "metadata": {},
   "outputs": [],
   "source": [
    "# 读取全数据点\n",
    "point_data = r\"D:\\ArcgisData\\pred_tl\\TL.gdb\\HZR\""
   ]
  },
  {
   "cell_type": "code",
   "execution_count": 3,
   "metadata": {},
   "outputs": [],
   "source": [
    "# 特征数据\n",
    "fetatus_data = r\"D:\\ArcgisData\\basedata\\basetrain_5m.gdb\""
   ]
  },
  {
   "cell_type": "code",
   "execution_count": 4,
   "metadata": {},
   "outputs": [],
   "source": [
    "# 设置工作环境\n",
    "env.workspace = fetatus_data"
   ]
  },
  {
   "cell_type": "code",
   "execution_count": 8,
   "metadata": {},
   "outputs": [],
   "source": [
    "# 采样\n",
    "def sample_point(point_,raster_,out_name):\n",
    "    Sample(raster_,point_,out_name,\"NEAREST\", \"OBJECTID\", \"CURRENT_SLICE\", None, '', None, None, \"ROW_WISE\", \"TABLE\")\n",
    "    return None\n",
    "\n",
    "# 导出CSV\n",
    "def export_csv(table_,out_path,out_name):\n",
    "    TableToTable(table_,out_path,out_name)\n",
    "    return None\n",
    "    "
   ]
  },
  {
   "cell_type": "code",
   "execution_count": 5,
   "metadata": {},
   "outputs": [],
   "source": [
    "# 获取栅格列表\n",
    "raster_list = arcpy.ListRasters()"
   ]
  },
  {
   "cell_type": "code",
   "execution_count": 6,
   "metadata": {},
   "outputs": [
    {
     "data": {
      "text/html": [
       "<div class='gpresult'><h2>Messages</h2><div id='messages' data-messages='[\"开始时间: 2023年8月10日 11:08:00\",\"运行 成功，结束时间： 2023年8月10日 11:08:00 (历时: 0.03 秒)\"]' data-show='true'><div id = 'default' /></div></div>"
      ],
      "text/plain": [
       "<Result 'D:\\\\ArcgisData\\\\pred_organic_p_n\\\\feature_table\\\\tableresult.gdb'>"
      ]
     },
     "execution_count": 6,
     "metadata": {},
     "output_type": "execute_result"
    }
   ],
   "source": [
    "table_gdb_path = r\"D:\\ArcgisData\\pred_organic_p_n\\feature_table\\tableresult.gdb\"\n",
    "# 使用Delete_management函数删除数据库中的所有内容\n",
    "arcpy.Delete_management(table_gdb_path)\n",
    "# 创建一个数据库\n",
    "arcpy.management.CreateFileGDB(r\"D:\\ArcgisData\\pred_organic_p_n\\feature_table\", \"tableresult\", \"CURRENT\")"
   ]
  },
  {
   "cell_type": "code",
   "execution_count": 9,
   "metadata": {},
   "outputs": [],
   "source": [
    "# 逐个采样\n",
    "for one_raster in raster_list:\n",
    "    sample_point(point_data,one_raster,os.path.join(table_gdb_path,one_raster))"
   ]
  },
  {
   "cell_type": "code",
   "execution_count": 10,
   "metadata": {},
   "outputs": [],
   "source": [
    "env.workspace = table_gdb_path"
   ]
  },
  {
   "cell_type": "code",
   "execution_count": 16,
   "metadata": {},
   "outputs": [
    {
     "data": {
      "text/plain": [
       "['OBJECTID', 'Shape', '坡位', '亚类', 'DLMC', '岩性', '属', '土种']"
      ]
     },
     "execution_count": 16,
     "metadata": {},
     "output_type": "execute_result"
    }
   ],
   "source": [
    "list_name = [_.name for _ in arcpy.ListFields(point_data)]\n",
    "list_name"
   ]
  },
  {
   "cell_type": "code",
   "execution_count": 17,
   "metadata": {},
   "outputs": [],
   "source": [
    "result_df = pd.DataFrame(arcpy.da.FeatureClassToNumPyArray(point_data,[\"OBJECTID\",\"坡位\",\"岩性\",\"DLMC\",\"亚类\",\"属\",\"土种\"]))\n",
    "result_df.rename(columns={\"OBJECTID\":\"HZR\"},inplace=True)\n",
    "tables = arcpy.ListTables()\n",
    "# 存储每个表的最后一个字段的数据\n",
    "\n",
    "# 读取每个表的最后一个字段的数据\n",
    "for table in tables:\n",
    "    \n",
    "    # 将表转换为pandas数据帧\n",
    "    df = pd.DataFrame(arcpy.da.TableToNumPyArray(table, \"*\"))\n",
    "    # 提取最后一个字段的数据\n",
    "    merged_df = df[['HZR', df.columns[-1]]]\n",
    "    # 合并\n",
    "    result_df = pd.merge(result_df, merged_df, on=['HZR'])"
   ]
  },
  {
   "cell_type": "code",
   "execution_count": 18,
   "metadata": {},
   "outputs": [
    {
     "data": {
      "text/plain": [
       "Index(['HZR', '坡位', '岩性', 'DLMC', '亚类', '属', '土种', 'TWI_5_Band_1',\n",
       "       'TPI_201_Band_1', 'TPI_101_Band_1', 'TPI_11_Band_1', 'TPI_3_Band_1',\n",
       "       'TMP_Band_1', 'SOILQS_Band_1', 'SLOP_Band_1', 'PRE_Band_1',\n",
       "       'NIGTH_Band_1', 'NDVI_Band_1', 'DEM_Band_1', 'CUR_Band_1', 'ASP_Band_1',\n",
       "       'PLCUR_Band_1', 'POCUR_Band_1', 'OSJL_Band_1', 'LAT_Band_1',\n",
       "       'LON_Band_1', 'DZ_Band_1', 'DL_Band_1', 'TRI_Band_1'],\n",
       "      dtype='object')"
      ]
     },
     "execution_count": 18,
     "metadata": {},
     "output_type": "execute_result"
    }
   ],
   "source": [
    "\n",
    "result_df.columns"
   ]
  },
  {
   "cell_type": "code",
   "execution_count": 19,
   "metadata": {},
   "outputs": [],
   "source": [
    "new_columns = [str(_).replace(\"_Band_1\",\"\").replace(\"_\",\"\").replace(\"DLMC\",\"地类名称\") for _ in result_df.columns]"
   ]
  },
  {
   "cell_type": "code",
   "execution_count": 20,
   "metadata": {},
   "outputs": [],
   "source": [
    "result_df.rename(columns=dict(zip(result_df.columns, new_columns)),inplace=True)"
   ]
  },
  {
   "cell_type": "code",
   "execution_count": 21,
   "metadata": {},
   "outputs": [],
   "source": [
    "# 存储位置\n",
    "feature_out_path = r\"D:\\ArcgisData\\pred_organic_p_n\\feature_table\\feature_table_result\"\n",
    "result_df.to_csv(os.path.join(feature_out_path,\"all_tl_result.csv\"))"
   ]
  }
 ],
 "metadata": {
  "kernelspec": {
   "display_name": "Python 3",
   "language": "python",
   "name": "python3"
  },
  "language_info": {
   "codemirror_mode": {
    "name": "ipython",
    "version": 3
   },
   "file_extension": ".py",
   "mimetype": "text/x-python",
   "name": "python",
   "nbconvert_exporter": "python",
   "pygments_lexer": "ipython3",
   "version": "3.9.11"
  },
  "orig_nbformat": 4
 },
 "nbformat": 4,
 "nbformat_minor": 2
}
