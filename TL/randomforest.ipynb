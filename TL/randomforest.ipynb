{
 "cells": [
  {
   "cell_type": "code",
   "execution_count": 43,
   "metadata": {},
   "outputs": [],
   "source": [
    "import pandas as pd\n",
    "import numpy as np\n",
    "from sklearn.preprocessing import StandardScaler,LabelEncoder\n",
    "from sklearn.ensemble import RandomForestRegressor,RandomForestClassifier\n",
    "from sklearn.metrics import accuracy_score,precision_score,recall_score,f1_score,confusion_matrix,roc_auc_score,roc_curve,precision_recall_curve\n",
    "from sklearn.model_selection import cross_val_score,train_test_split\n",
    "import matplotlib.pyplot as plt\n",
    "import pickle\n"
   ]
  },
  {
   "cell_type": "code",
   "execution_count": 13,
   "metadata": {},
   "outputs": [
    {
     "name": "stdout",
     "output_type": "stream",
     "text": [
      "424\n"
     ]
    },
    {
     "data": {
      "text/plain": [
       "(424,\n",
       " Index(['Unnamed: 0', 'HZR', '坡位', '岩性', '地类名称', '亚类', '属', '土种', 'TWI5',\n",
       "        'TPI201', 'TPI101', 'TPI11', 'TPI3', 'TMP', 'SOILQS', 'SLOP', 'PRE',\n",
       "        'NIGTH', 'NDVI', 'DEM', 'CUR', 'ASP', 'PLCUR', 'POCUR', 'OSJL', 'LAT',\n",
       "        'LON', 'DZ', 'DL', 'TRI'],\n",
       "       dtype='object'))"
      ]
     },
     "execution_count": 13,
     "metadata": {},
     "output_type": "execute_result"
    }
   ],
   "source": [
    "# 读取数据\n",
    "data = pd.read_csv(r'D:\\ArcgisData\\pred_organic_p_n\\feature_table\\feature_table_result\\all_tl_result.csv')\n",
    "print(len(data))\n",
    "# 删除有缺失值的行\n",
    "data.dropna(inplace=True)\n",
    "len(data),data.columns\n"
   ]
  },
  {
   "cell_type": "code",
   "execution_count": 14,
   "metadata": {},
   "outputs": [
    {
     "data": {
      "text/plain": [
       "Index(['亚类', '属', '土种', 'TPI201', 'TMP', 'SLOP', 'PRE', 'NDVI', 'DEM', 'LAT',\n",
       "       'LON', 'DZ', 'DL'],\n",
       "      dtype='object')"
      ]
     },
     "execution_count": 14,
     "metadata": {},
     "output_type": "execute_result"
    }
   ],
   "source": [
    "data.drop(['Unnamed: 0','HZR','坡位','岩性','地类名称','TWI5','TPI101', 'TPI11', 'TPI3', 'SOILQS', 'NIGTH',  'CUR', 'ASP', 'PLCUR', 'POCUR', 'OSJL', 'TRI'], axis=1, inplace=True)\n",
    "data.columns"
   ]
  },
  {
   "cell_type": "code",
   "execution_count": 15,
   "metadata": {},
   "outputs": [
    {
     "data": {
      "text/plain": [
       "亚类         object\n",
       "属          object\n",
       "土种         object\n",
       "TPI201    float64\n",
       "TMP       float64\n",
       "SLOP      float64\n",
       "PRE       float64\n",
       "NDVI      float64\n",
       "DEM       float64\n",
       "LAT       float64\n",
       "LON       float64\n",
       "DZ         object\n",
       "DL         object\n",
       "dtype: object"
      ]
     },
     "execution_count": 15,
     "metadata": {},
     "output_type": "execute_result"
    }
   ],
   "source": [
    "data['DL'] = data['DL'].astype(str)\n",
    "data['DZ'] = data['DZ'].astype(str)\n",
    "data.dtypes"
   ]
  },
  {
   "cell_type": "code",
   "execution_count": 16,
   "metadata": {},
   "outputs": [
    {
     "data": {
      "text/plain": [
       "Index(['土种', 'TPI201', 'TMP', 'SLOP', 'PRE', 'NDVI', 'DEM', 'LAT', 'LON', 'DZ',\n",
       "       'DL'],\n",
       "      dtype='object')"
      ]
     },
     "execution_count": 16,
     "metadata": {},
     "output_type": "execute_result"
    }
   ],
   "source": [
    "# data['label'] = data.apply(lambda row: ''.join(row[['亚类', '属','土种']]), axis=1)\n",
    "data.drop(columns=['亚类','属'], inplace=True)\n",
    "data.columns"
   ]
  },
  {
   "cell_type": "code",
   "execution_count": 17,
   "metadata": {},
   "outputs": [
    {
     "data": {
      "text/html": [
       "<div>\n",
       "<style scoped>\n",
       "    .dataframe tbody tr th:only-of-type {\n",
       "        vertical-align: middle;\n",
       "    }\n",
       "\n",
       "    .dataframe tbody tr th {\n",
       "        vertical-align: top;\n",
       "    }\n",
       "\n",
       "    .dataframe thead th {\n",
       "        text-align: right;\n",
       "    }\n",
       "</style>\n",
       "<table border=\"1\" class=\"dataframe\">\n",
       "  <thead>\n",
       "    <tr style=\"text-align: right;\">\n",
       "      <th></th>\n",
       "      <th>土种</th>\n",
       "      <th>TPI201</th>\n",
       "      <th>TMP</th>\n",
       "      <th>SLOP</th>\n",
       "      <th>PRE</th>\n",
       "      <th>NDVI</th>\n",
       "      <th>DEM</th>\n",
       "      <th>LAT</th>\n",
       "      <th>LON</th>\n",
       "      <th>DZ</th>\n",
       "      <th>DL</th>\n",
       "    </tr>\n",
       "  </thead>\n",
       "  <tbody>\n",
       "    <tr>\n",
       "      <th>0</th>\n",
       "      <td>硅铁质中层黄壤</td>\n",
       "      <td>-9.662842</td>\n",
       "      <td>126.000000</td>\n",
       "      <td>13.553528</td>\n",
       "      <td>852.8333</td>\n",
       "      <td>228.0</td>\n",
       "      <td>1489.2</td>\n",
       "      <td>2917300.0</td>\n",
       "      <td>422950.0</td>\n",
       "      <td>6</td>\n",
       "      <td>25</td>\n",
       "    </tr>\n",
       "    <tr>\n",
       "      <th>1</th>\n",
       "      <td>硅铁质中层黄壤</td>\n",
       "      <td>48.692260</td>\n",
       "      <td>128.166670</td>\n",
       "      <td>10.494256</td>\n",
       "      <td>845.6667</td>\n",
       "      <td>219.0</td>\n",
       "      <td>1487.3</td>\n",
       "      <td>2918230.0</td>\n",
       "      <td>418540.0</td>\n",
       "      <td>6</td>\n",
       "      <td>25</td>\n",
       "    </tr>\n",
       "    <tr>\n",
       "      <th>2</th>\n",
       "      <td>硅铁质中层黄壤</td>\n",
       "      <td>-8.729492</td>\n",
       "      <td>124.166664</td>\n",
       "      <td>21.866072</td>\n",
       "      <td>902.8333</td>\n",
       "      <td>187.0</td>\n",
       "      <td>1465.2</td>\n",
       "      <td>3144910.0</td>\n",
       "      <td>477430.0</td>\n",
       "      <td>6</td>\n",
       "      <td>3</td>\n",
       "    </tr>\n",
       "    <tr>\n",
       "      <th>3</th>\n",
       "      <td>硅铁质中层黄壤</td>\n",
       "      <td>0.955444</td>\n",
       "      <td>128.166670</td>\n",
       "      <td>9.961898</td>\n",
       "      <td>845.6667</td>\n",
       "      <td>219.0</td>\n",
       "      <td>1454.8</td>\n",
       "      <td>2916130.0</td>\n",
       "      <td>418210.0</td>\n",
       "      <td>6</td>\n",
       "      <td>25</td>\n",
       "    </tr>\n",
       "    <tr>\n",
       "      <th>4</th>\n",
       "      <td>硅铁质中层黄壤</td>\n",
       "      <td>2.545776</td>\n",
       "      <td>126.000000</td>\n",
       "      <td>34.142120</td>\n",
       "      <td>852.8333</td>\n",
       "      <td>228.0</td>\n",
       "      <td>1504.9</td>\n",
       "      <td>2917390.0</td>\n",
       "      <td>423220.0</td>\n",
       "      <td>6</td>\n",
       "      <td>25</td>\n",
       "    </tr>\n",
       "    <tr>\n",
       "      <th>...</th>\n",
       "      <td>...</td>\n",
       "      <td>...</td>\n",
       "      <td>...</td>\n",
       "      <td>...</td>\n",
       "      <td>...</td>\n",
       "      <td>...</td>\n",
       "      <td>...</td>\n",
       "      <td>...</td>\n",
       "      <td>...</td>\n",
       "      <td>...</td>\n",
       "      <td>...</td>\n",
       "    </tr>\n",
       "    <tr>\n",
       "      <th>419</th>\n",
       "      <td>厚层泥质黄棕壤</td>\n",
       "      <td>19.782104</td>\n",
       "      <td>133.583330</td>\n",
       "      <td>10.614898</td>\n",
       "      <td>882.5000</td>\n",
       "      <td>184.0</td>\n",
       "      <td>1473.6</td>\n",
       "      <td>3120550.0</td>\n",
       "      <td>476350.0</td>\n",
       "      <td>6</td>\n",
       "      <td>6</td>\n",
       "    </tr>\n",
       "    <tr>\n",
       "      <th>420</th>\n",
       "      <td>厚层泥质黄棕壤</td>\n",
       "      <td>15.012817</td>\n",
       "      <td>132.083330</td>\n",
       "      <td>9.836691</td>\n",
       "      <td>884.0000</td>\n",
       "      <td>196.0</td>\n",
       "      <td>1462.2</td>\n",
       "      <td>3119170.0</td>\n",
       "      <td>467530.0</td>\n",
       "      <td>6</td>\n",
       "      <td>3</td>\n",
       "    </tr>\n",
       "    <tr>\n",
       "      <th>421</th>\n",
       "      <td>中层泥质黄棕壤</td>\n",
       "      <td>25.525757</td>\n",
       "      <td>122.500000</td>\n",
       "      <td>18.445740</td>\n",
       "      <td>905.6667</td>\n",
       "      <td>170.0</td>\n",
       "      <td>1552.5</td>\n",
       "      <td>3141160.0</td>\n",
       "      <td>464380.0</td>\n",
       "      <td>6</td>\n",
       "      <td>6</td>\n",
       "    </tr>\n",
       "    <tr>\n",
       "      <th>422</th>\n",
       "      <td>中层泥质黄棕壤</td>\n",
       "      <td>61.216064</td>\n",
       "      <td>119.583336</td>\n",
       "      <td>34.981655</td>\n",
       "      <td>917.5000</td>\n",
       "      <td>311.0</td>\n",
       "      <td>1674.4</td>\n",
       "      <td>3148030.0</td>\n",
       "      <td>464560.0</td>\n",
       "      <td>6</td>\n",
       "      <td>6</td>\n",
       "    </tr>\n",
       "    <tr>\n",
       "      <th>423</th>\n",
       "      <td>中层泥质黄棕壤</td>\n",
       "      <td>11.560181</td>\n",
       "      <td>117.916664</td>\n",
       "      <td>22.544363</td>\n",
       "      <td>919.9167</td>\n",
       "      <td>170.0</td>\n",
       "      <td>1584.5</td>\n",
       "      <td>3142660.0</td>\n",
       "      <td>463300.0</td>\n",
       "      <td>6</td>\n",
       "      <td>6</td>\n",
       "    </tr>\n",
       "  </tbody>\n",
       "</table>\n",
       "<p>424 rows × 11 columns</p>\n",
       "</div>"
      ],
      "text/plain": [
       "          土种     TPI201         TMP       SLOP       PRE   NDVI     DEM  \\\n",
       "0    硅铁质中层黄壤  -9.662842  126.000000  13.553528  852.8333  228.0  1489.2   \n",
       "1    硅铁质中层黄壤  48.692260  128.166670  10.494256  845.6667  219.0  1487.3   \n",
       "2    硅铁质中层黄壤  -8.729492  124.166664  21.866072  902.8333  187.0  1465.2   \n",
       "3    硅铁质中层黄壤   0.955444  128.166670   9.961898  845.6667  219.0  1454.8   \n",
       "4    硅铁质中层黄壤   2.545776  126.000000  34.142120  852.8333  228.0  1504.9   \n",
       "..       ...        ...         ...        ...       ...    ...     ...   \n",
       "419  厚层泥质黄棕壤  19.782104  133.583330  10.614898  882.5000  184.0  1473.6   \n",
       "420  厚层泥质黄棕壤  15.012817  132.083330   9.836691  884.0000  196.0  1462.2   \n",
       "421  中层泥质黄棕壤  25.525757  122.500000  18.445740  905.6667  170.0  1552.5   \n",
       "422  中层泥质黄棕壤  61.216064  119.583336  34.981655  917.5000  311.0  1674.4   \n",
       "423  中层泥质黄棕壤  11.560181  117.916664  22.544363  919.9167  170.0  1584.5   \n",
       "\n",
       "           LAT       LON DZ  DL  \n",
       "0    2917300.0  422950.0  6  25  \n",
       "1    2918230.0  418540.0  6  25  \n",
       "2    3144910.0  477430.0  6   3  \n",
       "3    2916130.0  418210.0  6  25  \n",
       "4    2917390.0  423220.0  6  25  \n",
       "..         ...       ... ..  ..  \n",
       "419  3120550.0  476350.0  6   6  \n",
       "420  3119170.0  467530.0  6   3  \n",
       "421  3141160.0  464380.0  6   6  \n",
       "422  3148030.0  464560.0  6   6  \n",
       "423  3142660.0  463300.0  6   6  \n",
       "\n",
       "[424 rows x 11 columns]"
      ]
     },
     "execution_count": 17,
     "metadata": {},
     "output_type": "execute_result"
    }
   ],
   "source": [
    "data"
   ]
  },
  {
   "cell_type": "code",
   "execution_count": 18,
   "metadata": {},
   "outputs": [],
   "source": [
    "le =LabelEncoder()\n",
    "data['土种'] = le.fit_transform(data['土种'])"
   ]
  },
  {
   "cell_type": "code",
   "execution_count": 20,
   "metadata": {},
   "outputs": [],
   "source": [
    "# 划分数据\n",
    "\n",
    "X = data.drop(columns='土种')\n",
    "\n",
    "y = data['土种']\n",
    "\n",
    "X_train,X_test,y_train,y_test = train_test_split(X,y,test_size=0.3,random_state=42)"
   ]
  },
  {
   "cell_type": "code",
   "execution_count": 22,
   "metadata": {},
   "outputs": [
    {
     "data": {
      "image/png": "[encoded data removed]",
      "text/plain": [
       "<Figure size 720x432 with 1 Axes>"
      ]
     },
     "metadata": {
      "needs_background": "light"
     },
     "output_type": "display_data"
    },
    {
     "name": "stdout",
     "output_type": "stream",
     "text": [
      "The optimal number of trees is 910\n"
     ]
    }
   ],
   "source": [
    "# 设置树的数目范围\n",
    "n_estimators_range = range(10, 2000, 300)\n",
    "cv_scores = []\n",
    "\n",
    "# 使用交叉验证\n",
    "for n_estimators in n_estimators_range:\n",
    "    rf = RandomForestClassifier(n_estimators=n_estimators, random_state=42)\n",
    "    #scores = cross_val_score(rf, X, y, cv=5, scoring='r2')  # 5折交叉验证\n",
    "    scores = cross_val_score(rf,X_train, y_train, cv=3, scoring='neg_mean_squared_error')  # 3折交叉验证\n",
    "    cv_scores.append(scores.mean())\n",
    "\n",
    "# 绘制交叉验证得分图\n",
    "plt.figure(figsize=(10, 6))\n",
    "plt.plot(n_estimators_range, cv_scores, marker='o')\n",
    "plt.xlabel('Number of Trees')\n",
    "plt.ylabel('Cross-Validation Accuracy')\n",
    "# plt.savefig('target.png') # 保存图片\n",
    "plt.show()\n",
    "\n",
    "# 选择最优数量的树\n",
    "optimal_n_estimators = n_estimators_range[cv_scores.index(max(cv_scores))]\n",
    "print(\"The optimal number of trees is {}\".format(optimal_n_estimators))"
   ]
  },
  {
   "cell_type": "code",
   "execution_count": 24,
   "metadata": {},
   "outputs": [
    {
     "data": {
      "text/html": [
       "<style>#sk-container-id-1 {color: black;background-color: white;}#sk-container-id-1 pre{padding: 0;}#sk-container-id-1 div.sk-toggleable {background-color: white;}#sk-container-id-1 label.sk-toggleable__label {cursor: pointer;display: block;width: 100%;margin-bottom: 0;padding: 0.3em;box-sizing: border-box;text-align: center;}#sk-container-id-1 label.sk-toggleable__label-arrow:before {content: \"▸\";float: left;margin-right: 0.25em;color: #696969;}#sk-container-id-1 label.sk-toggleable__label-arrow:hover:before {color: black;}#sk-container-id-1 div.sk-estimator:hover label.sk-toggleable__label-arrow:before {color: black;}#sk-container-id-1 div.sk-toggleable__content {max-height: 0;max-width: 0;overflow: hidden;text-align: left;background-color: #f0f8ff;}#sk-container-id-1 div.sk-toggleable__content pre {margin: 0.2em;color: black;border-radius: 0.25em;background-color: #f0f8ff;}#sk-container-id-1 input.sk-toggleable__control:checked~div.sk-toggleable__content {max-height: 200px;max-width: 100%;overflow: auto;}#sk-container-id-1 input.sk-toggleable__control:checked~label.sk-toggleable__label-arrow:before {content: \"▾\";}#sk-container-id-1 div.sk-estimator input.sk-toggleable__control:checked~label.sk-toggleable__label {background-color: #d4ebff;}#sk-container-id-1 div.sk-label input.sk-toggleable__control:checked~label.sk-toggleable__label {background-color: #d4ebff;}#sk-container-id-1 input.sk-hidden--visually {border: 0;clip: rect(1px 1px 1px 1px);clip: rect(1px, 1px, 1px, 1px);height: 1px;margin: -1px;overflow: hidden;padding: 0;position: absolute;width: 1px;}#sk-container-id-1 div.sk-estimator {font-family: monospace;background-color: #f0f8ff;border: 1px dotted black;border-radius: 0.25em;box-sizing: border-box;margin-bottom: 0.5em;}#sk-container-id-1 div.sk-estimator:hover {background-color: #d4ebff;}#sk-container-id-1 div.sk-parallel-item::after {content: \"\";width: 100%;border-bottom: 1px solid gray;flex-grow: 1;}#sk-container-id-1 div.sk-label:hover label.sk-toggleable__label {background-color: #d4ebff;}#sk-container-id-1 div.sk-serial::before {content: \"\";position: absolute;border-left: 1px solid gray;box-sizing: border-box;top: 0;bottom: 0;left: 50%;z-index: 0;}#sk-container-id-1 div.sk-serial {display: flex;flex-direction: column;align-items: center;background-color: white;padding-right: 0.2em;padding-left: 0.2em;position: relative;}#sk-container-id-1 div.sk-item {position: relative;z-index: 1;}#sk-container-id-1 div.sk-parallel {display: flex;align-items: stretch;justify-content: center;background-color: white;position: relative;}#sk-container-id-1 div.sk-item::before, #sk-container-id-1 div.sk-parallel-item::before {content: \"\";position: absolute;border-left: 1px solid gray;box-sizing: border-box;top: 0;bottom: 0;left: 50%;z-index: -1;}#sk-container-id-1 div.sk-parallel-item {display: flex;flex-direction: column;z-index: 1;position: relative;background-color: white;}#sk-container-id-1 div.sk-parallel-item:first-child::after {align-self: flex-end;width: 50%;}#sk-container-id-1 div.sk-parallel-item:last-child::after {align-self: flex-start;width: 50%;}#sk-container-id-1 div.sk-parallel-item:only-child::after {width: 0;}#sk-container-id-1 div.sk-dashed-wrapped {border: 1px dashed gray;margin: 0 0.4em 0.5em 0.4em;box-sizing: border-box;padding-bottom: 0.4em;background-color: white;}#sk-container-id-1 div.sk-label label {font-family: monospace;font-weight: bold;display: inline-block;line-height: 1.2em;}#sk-container-id-1 div.sk-label-container {text-align: center;}#sk-container-id-1 div.sk-container {/* jupyter's `normalize.less` sets `[hidden] { display: none; }` but bootstrap.min.css set `[hidden] { display: none !important; }` so we also need the `!important` here to be able to override the default hidden behavior on the sphinx rendered scikit-learn.org. See: https://github.com/scikit-learn/scikit-learn/issues/21755 */display: inline-block !important;position: relative;}#sk-container-id-1 div.sk-text-repr-fallback {display: none;}</style><div id=\"sk-container-id-1\" class=\"sk-top-container\"><div class=\"sk-text-repr-fallback\"><pre>RandomForestClassifier(n_estimators=910, random_state=42)</pre><b>In a Jupyter environment, please rerun this cell to show the HTML representation or trust the notebook. <br />On GitHub, the HTML representation is unable to render, please try loading this page with nbviewer.org.</b></div><div class=\"sk-container\" hidden><div class=\"sk-item\"><div class=\"sk-estimator sk-toggleable\"><input class=\"sk-toggleable__control sk-hidden--visually\" id=\"sk-estimator-id-1\" type=\"checkbox\" checked><label for=\"sk-estimator-id-1\" class=\"sk-toggleable__label sk-toggleable__label-arrow\">RandomForestClassifier</label><div class=\"sk-toggleable__content\"><pre>RandomForestClassifier(n_estimators=910, random_state=42)</pre></div></div></div></div></div>"
      ],
      "text/plain": [
       "RandomForestClassifier(n_estimators=910, random_state=42)"
      ]
     },
     "execution_count": 24,
     "metadata": {},
     "output_type": "execute_result"
    }
   ],
   "source": [
    "# 初始化和训练随机森林模型\n",
    "rf = RandomForestClassifier(n_estimators=910, random_state=42)\n",
    "rf.fit(X_train,y_train)"
   ]
  },
  {
   "cell_type": "code",
   "execution_count": 44,
   "metadata": {},
   "outputs": [],
   "source": [
    "# 保存模型\n",
    "modle_path =r\"D:\\ArcgisData\\pred_tl\\pred_moudle\" \n",
    "with open(f'{modle_path}\\\\rfmodel.pkl', 'wb') as f:\n",
    "    pickle.dump(rf, f)"
   ]
  },
  {
   "cell_type": "code",
   "execution_count": 27,
   "metadata": {},
   "outputs": [],
   "source": [
    "y_train_pred = rf.predict(X_train)\n",
    "y_test_pred = rf.predict(X_test)"
   ]
  },
  {
   "cell_type": "code",
   "execution_count": 40,
   "metadata": {},
   "outputs": [
    {
     "data": {
      "image/png": "[encoded data removed]",
      "text/plain": [
       "<Figure size 432x288 with 1 Axes>"
      ]
     },
     "metadata": {
      "needs_background": "light"
     },
     "output_type": "display_data"
    }
   ],
   "source": [
    "plt.scatter(y_test,y_test_pred)\n",
    "plt.xlabel('Actual')\n",
    "plt.ylabel('Predicted')\n",
    "plt.title('Actual vs Predicted')\n",
    "plt.show()"
   ]
  },
  {
   "cell_type": "code",
   "execution_count": 39,
   "metadata": {},
   "outputs": [
    {
     "data": {
      "text/plain": [
       "(1.0, 0.828125)"
      ]
     },
     "execution_count": 39,
     "metadata": {},
     "output_type": "execute_result"
    }
   ],
   "source": [
    "# 计算准确率Accuracy\n",
    "train_accuracy = accuracy_score(y_train,y_train_pred)\n",
    "test_accuracy = accuracy_score(y_test,y_test_pred)\n",
    "# 计算精确率Precision\n",
    "# 计算召回率Recall\n",
    "# 计算F1-score\n",
    "# 计算ROC曲线下的面积\n",
    "# 计算混淆矩阵\n",
    "train_accuracy,test_accuracy"
   ]
  },
  {
   "cell_type": "code",
   "execution_count": 41,
   "metadata": {},
   "outputs": [
    {
     "data": {
      "image/png": "[encoded data removed]",
      "text/plain": [
       "<Figure size 720x432 with 1 Axes>"
      ]
     },
     "metadata": {
      "needs_background": "light"
     },
     "output_type": "display_data"
    }
   ],
   "source": [
    "import matplotlib.pyplot as plt\n",
    "importance = rf.feature_importances_\n",
    "features = X.columns\n",
    "plt.figure(figsize=(10,6))\n",
    "plt.bar(range(len(features)), importance, align='center')\n",
    "plt.xticks(np.arange(len(features)), features, rotation = 45)\n",
    "plt.ylabel(\"Feature importance\")\n",
    "plt.xlabel(\"Feature\")\n",
    "plt.show()"
   ]
  },
  {
   "cell_type": "code",
   "execution_count": 42,
   "metadata": {},
   "outputs": [
    {
     "data": {
      "image/png": "[encoded data removed]",
      "text/plain": [
       "<Figure size 720x360 with 1 Axes>"
      ]
     },
     "metadata": {
      "needs_background": "light"
     },
     "output_type": "display_data"
    }
   ],
   "source": [
    "# 在训练集和测试集上的预测值\n",
    "\n",
    "train_preds = rf.predict(X_train)\n",
    "\n",
    "test_preds = rf.predict(X_test)\n",
    "\n",
    "\n",
    "\n",
    "plt.figure(figsize=(10,5))\n",
    "\n",
    "\n",
    "\n",
    "# 画出训练集的散点图\n",
    "\n",
    "plt.scatter(y_train, train_preds, label='Train', alpha=.7)\n",
    "\n",
    "# 画出测试集的散点图\n",
    "\n",
    "plt.scatter(y_test, test_preds, label='Test', alpha=.7)\n",
    "\n",
    "# 画出y=x线\n",
    "plt.plot(y_test, y_test, color='red')\n",
    "\n",
    "\n",
    "\n",
    "plt.legend()\n",
    "\n",
    "plt.title('Random Forest Regression: Predicted vs Actual')\n",
    "\n",
    "plt.show()"
   ]
  }
 ],
 "metadata": {
  "kernelspec": {
   "display_name": "Python 3",
   "language": "python",
   "name": "python3"
  },
  "language_info": {
   "codemirror_mode": {
    "name": "ipython",
    "version": 3
   },
   "file_extension": ".py",
   "mimetype": "text/x-python",
   "name": "python",
   "nbconvert_exporter": "python",
   "pygments_lexer": "ipython3",
   "version": "3.9.11"
  },
  "orig_nbformat": 4
 },
 "nbformat": 4,
 "nbformat_minor": 2
}
