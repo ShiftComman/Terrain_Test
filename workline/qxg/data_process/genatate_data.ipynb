{
 "cells": [
  {
   "cell_type": "code",
   "execution_count": 1,
   "metadata": {},
   "outputs": [],
   "source": [
    "import os\n",
    "import time\n",
    "import pandas as pd\n",
    "from datetime import datetime"
   ]
  },
  {
   "cell_type": "code",
   "execution_count": 2,
   "metadata": {},
   "outputs": [],
   "source": [
    "# 数据路径\n",
    "data_path = r\"F:\\collection_spb_info\\XJSH\\ALL_DATA\\ALL_RESULT\\ALL_TABLE\\52_贵州省_result_20250109.xlsx\""
   ]
  },
  {
   "cell_type": "code",
   "execution_count": 3,
   "metadata": {},
   "outputs": [],
   "source": [
    "df = pd.read_excel(data_path)"
   ]
  },
  {
   "cell_type": "code",
   "execution_count": 4,
   "metadata": {},
   "outputs": [],
   "source": [
    "# 提取信息\n",
    "use_col = ['ydbh','dwjd','dwwd','dwgc','ydlb','yypbh','jcjg','yjz','ph','ylzjhl','qdan','qlin','qjia','qxi','yxlin','sxjia','hxjia','zgong','zshen','zqian','zge','zge2','jxzc1trzd','gzchd_x','gzchd_y','yxtchd','fsxtl','fsxyl','fsxts','fsxtz','my', 'myqt', 'mz', 'mzqt']"
   ]
  },
  {
   "cell_type": "code",
   "execution_count": 115,
   "metadata": {},
   "outputs": [],
   "source": [
    "# col_dict = {'ydbh':\"YDBH\",'dwjd':\"DWJD\",'dwwd':\"DWWD\",'dwgc':\"DWGC\",'ydlb','yypbh','jcjg','yjz','ph','ylzjhl','qdan','qlin','qjia','qxi','yxlin','sxjia','hxjia','zgong','zshen','zqian','zge','zge2','jxzc1trzd','gzchd_x','gzchd_y','yxtchd','fsxtl','fsxyl','fsxts','fsxtz'}"
   ]
  },
  {
   "cell_type": "code",
   "execution_count": 6,
   "metadata": {},
   "outputs": [],
   "source": [
    "dy_df = df[df['xjdm']==520502]"
   ]
  },
  {
   "cell_type": "code",
   "execution_count": 7,
   "metadata": {},
   "outputs": [],
   "source": [
    "dy_df = dy_df[use_col]"
   ]
  },
  {
   "cell_type": "code",
   "execution_count": 8,
   "metadata": {},
   "outputs": [
    {
     "data": {
      "text/plain": [
       "(2739, 3172, 3242)"
      ]
     },
     "execution_count": 8,
     "metadata": {},
     "output_type": "execute_result"
    }
   ],
   "source": [
    "len(dy_df['ydbh'].unique()),len(dy_df['yypbh'].unique()),dy_df.shape[0]"
   ]
  },
  {
   "cell_type": "code",
   "execution_count": 9,
   "metadata": {},
   "outputs": [
    {
     "data": {
      "text/plain": [
       "(2739, 2739, 2802)"
      ]
     },
     "execution_count": 9,
     "metadata": {},
     "output_type": "execute_result"
    }
   ],
   "source": [
    "# 去除yypbh结尾不为10和11的\n",
    "dy_df['yypbh'] = dy_df['yypbh'].astype(str)\n",
    "filter_dy_df = dy_df[dy_df['yypbh'].str.endswith('10') | dy_df['yypbh'].str.endswith('11')]\n",
    "len(filter_dy_df['ydbh'].unique()),len(filter_dy_df['yypbh'].unique()),filter_dy_df.shape[0]"
   ]
  },
  {
   "cell_type": "code",
   "execution_count": 10,
   "metadata": {},
   "outputs": [
    {
     "data": {
      "text/plain": [
       "(2739, 2739, 2739)"
      ]
     },
     "execution_count": 10,
     "metadata": {},
     "output_type": "execute_result"
    }
   ],
   "source": [
    "# 去除yypbh重复的数据，只保留第一个\n",
    "re_filter_dy_df = filter_dy_df.drop_duplicates(subset=['yypbh'], keep='first')\n",
    "len(re_filter_dy_df['ydbh'].unique()),len(re_filter_dy_df['yypbh'].unique()),re_filter_dy_df.shape[0]"
   ]
  },
  {
   "cell_type": "code",
   "execution_count": 11,
   "metadata": {},
   "outputs": [],
   "source": [
    "# 计算gzchd,(gzchd_x,gzchd_y,两列不为空和不为0的值，如果为空和0，则取0)\n",
    "def cal_gzchd(row):\n",
    "    try:\n",
    "        if float(row['gzchd_x']) != 0:\n",
    "            return float(row['gzchd_x'])\n",
    "        elif float(row['gzchd_y']) != 0:\n",
    "            return float(row['gzchd_y'])\n",
    "        else:\n",
    "            return 0\n",
    "    except:\n",
    "        return 0"
   ]
  },
  {
   "cell_type": "code",
   "execution_count": 12,
   "metadata": {},
   "outputs": [],
   "source": [
    "result_col = use_col = ['ydbh','dwjd','dwwd','dwgc','ydlb','yypbh','jcjg','yjz','ph','ylzjhl','qdan','qlin','qjia','qxi','yxlin','sxjia','hxjia','zgong','zshen','zqian','zge','zge2','jxzc1trzd','gzchd_x','gzchd_y','yxtchd','fsxtl','fsxyl','fsxts','fsxtz','my', 'myqt', 'mz', 'mzqt']"
   ]
  },
  {
   "cell_type": "code",
   "execution_count": 13,
   "metadata": {},
   "outputs": [],
   "source": [
    "result_df = re_filter_dy_df[result_col]"
   ]
  },
  {
   "cell_type": "code",
   "execution_count": 14,
   "metadata": {},
   "outputs": [],
   "source": [
    "# 获取耕作层厚度\n",
    "result_df['gzchd'] = result_df.apply(cal_gzchd,axis=1)\n",
    "# 删除gzchd_x,gzchd_y\n",
    "result_df = result_df.copy()\n",
    "result_df.drop(columns=['gzchd_x','gzchd_y'],inplace=True)"
   ]
  },
  {
   "cell_type": "code",
   "execution_count": 15,
   "metadata": {},
   "outputs": [],
   "source": [
    "mymz_dict = {\n",
    "    'AS': '风积沙', 'LO': '原生黄土', 'LOP': '黄土状物质（次生黄土）', 'LI': '坡积物',\n",
    "    'LG': '坡积物', 'MA': '洪积物', 'FL': '冲积物', 'PY': '海积物',\n",
    "    'AL': '湖积物', 'VA': '河流沉积物', 'CO': '火成碎屑沉积物', 'WE': '冰川沉积物',\n",
    "    'SA': '有机沉积物', 'CD': '崩积物', 'QR': '红黏土', 'OT': '其他',\n",
    "    '01': '第四纪松散沉积物', '02': '花岗岩', '03': '流纹岩', '04': '闪长岩',\n",
    "    '05': '安山岩', '06': '正长岩', '07': '粗面岩', '08': '辉长岩',\n",
    "    '09': '玄武岩', '10': '橄榄岩', '11': '脉岩', '12': '块集岩',\n",
    "    '13': '火山角砾岩', '14': '凝灰岩', '15': '角砾岩', '16': '砾岩',\n",
    "    '17': '砂岩', '18': '页岩', '19': '化学石灰岩', '20': '生物石灰岩',\n",
    "    '21': '白云岩', '22': '片麻岩', '23': '石英岩', '24': '板岩',\n",
    "    '25': '结晶片岩', '26': '大理岩', '27': '泥岩', '99': '其他'\n",
    "}\n",
    "# 返回muyanmz信息\n",
    "def get_muyanmz(value):\n",
    "    # 处理空值和NaN\n",
    "    if pd.isna(value):\n",
    "        return ''\n",
    "    # 转换为字符串\n",
    "    value = str(value)\n",
    "    # 考虑多个组合的情况\n",
    "    if ',' in value:\n",
    "        value_list = value.split(',')\n",
    "        result_list = []\n",
    "        for val in value_list:\n",
    "            try:\n",
    "                result_list.append(mymz_dict.get(val, ''))\n",
    "            except:\n",
    "                result_list.append(val)\n",
    "        return ','.join(result_list)\n",
    "    else:\n",
    "        try:\n",
    "            return mymz_dict.get(value, '')\n",
    "        except:\n",
    "            return value"
   ]
  },
  {
   "cell_type": "code",
   "execution_count": 16,
   "metadata": {},
   "outputs": [],
   "source": [
    "# 计算my myqt mz mzqt\n",
    "result_df['my'] = result_df['my'].apply(get_muyanmz)\n",
    "result_df['mz'] = result_df['mz'].apply(get_muyanmz)\n",
    "result_df['myqt'] = result_df['myqt'].apply(get_muyanmz)\n",
    "result_df['mzqt'] = result_df['mzqt'].apply(get_muyanmz)"
   ]
  },
  {
   "cell_type": "code",
   "execution_count": 17,
   "metadata": {},
   "outputs": [],
   "source": [
    "# 导出\n",
    "result_df['ydbh'] = result_df['ydbh'].astype(str)\n",
    "# 筛选列\n",
    "filter_result_df = result_df[['ydbh','dwjd','dwwd','ydlb','my','myqt','mz','mzqt']]"
   ]
  },
  {
   "cell_type": "code",
   "execution_count": 18,
   "metadata": {},
   "outputs": [],
   "source": [
    "# 使用dwjd、dwwd将df转换为shp点文件\n",
    "import geopandas as gpd\n",
    "from shapely.geometry import Point\n",
    "\n",
    "# 创建geometry列\n",
    "geometry = [Point(xy) for xy in zip(filter_result_df['dwjd'], filter_result_df['dwwd'])]\n",
    "\n",
    "# 转换为GeoDataFrame\n",
    "gdf = gpd.GeoDataFrame(filter_result_df, geometry=geometry)\n",
    "\n",
    "# 设置坐标系统为WGS84\n",
    "gdf.crs = \"EPSG:4326\"\n",
    "out_path =r\"C:\\Users\\Runker\\Desktop\\shp\\qxg_points.shp\"\n",
    "os.makedirs(os.path.dirname(out_path), exist_ok=True)\n",
    "# 导出为shp文件\n",
    "gdf.to_file(out_path, encoding='utf-8')\n"
   ]
  }
 ],
 "metadata": {
  "kernelspec": {
   "display_name": ".venvgis",
   "language": "python",
   "name": "python3"
  },
  "language_info": {
   "codemirror_mode": {
    "name": "ipython",
    "version": 3
   },
   "file_extension": ".py",
   "mimetype": "text/x-python",
   "name": "python",
   "nbconvert_exporter": "python",
   "pygments_lexer": "ipython3",
   "version": "3.10.11"
  }
 },
 "nbformat": 4,
 "nbformat_minor": 2
}
