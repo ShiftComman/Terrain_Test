{
 "cells": [
  {
   "cell_type": "code",
   "execution_count": 1,
   "metadata": {},
   "outputs": [],
   "source": [
    "import os\n",
    "import json\n",
    "import pandas as pd\n",
    "import numpy as np\n",
    "from autogluon.tabular import TabularPredictor\n",
    "from pykrige.ok import OrdinaryKriging\n",
    "from sklearn.metrics import r2_score\n",
    "from pyproj import Transformer\n",
    "from tqdm import tqdm\n",
    "import pickle"
   ]
  },
  {
   "cell_type": "code",
   "execution_count": 2,
   "metadata": {},
   "outputs": [],
   "source": [
    "# 获取当前日期\n",
    "def get_dtime():\n",
    "    # 例如20240516\n",
    "    import datetime\n",
    "    dtime = datetime.datetime.now().strftime('%Y%m%d')\n",
    "    return dtime"
   ]
  },
  {
   "cell_type": "code",
   "execution_count": 3,
   "metadata": {},
   "outputs": [],
   "source": [
    "# 导入autogluon模型\n",
    "model_path = r\"F:\\cache_data\\zone_ana\\sb\\modle\\autogluon_type_2\""
   ]
  },
  {
   "cell_type": "code",
   "execution_count": 4,
   "metadata": {},
   "outputs": [],
   "source": [
    "# 砂岩\n",
    "sy_sdt_predictor = TabularPredictor.load(os.path.join(os.path.join(model_path,'sy'),'sdt'))\n",
    "sy_fzrt_predictor = TabularPredictor.load(os.path.join(os.path.join(model_path,'sy'),'fzrt'))\n",
    "sy_zrt_predictor = TabularPredictor.load(os.path.join(os.path.join(model_path,'sy'),'zrt'))\n",
    "# 碳酸岩\n",
    "tsy_sdt_predictor = TabularPredictor.load(os.path.join(os.path.join(model_path,'tsy'),'sdt'))\n",
    "tsy_fzrt_predictor = TabularPredictor.load(os.path.join(os.path.join(model_path,'tsy'),'fzrt'))\n",
    "tsy_zrt_predictor = TabularPredictor.load(os.path.join(os.path.join(model_path,'tsy'),'zrt'))\n",
    "# 第四纪红色粘土\n",
    "hnt_sdt_predictor = TabularPredictor.load(os.path.join(os.path.join(model_path,'hnt'),'sdt'))\n",
    "hnt_fzrt_predictor = TabularPredictor.load(os.path.join(os.path.join(model_path,'hnt'),'fzrt'))\n",
    "hnt_zrt_predictor = TabularPredictor.load(os.path.join(os.path.join(model_path,'hnt'),'zrt'))\n",
    "# 泥页岩\n",
    "nyy_sdt_predictor = TabularPredictor.load(os.path.join(os.path.join(model_path,'nyy'),'sdt'))\n",
    "nyy_fzrt_predictor = TabularPredictor.load(os.path.join(os.path.join(model_path,'nyy'),'fzrt'))\n",
    "nyy_zrt_predictor = TabularPredictor.load(os.path.join(os.path.join(model_path,'nyy'),'zrt'))\n",
    "# 紫红色砂页岩\n",
    "zhsyy_sdt_predictor = TabularPredictor.load(os.path.join(os.path.join(model_path,'zhsyy'),'sdt'))\n",
    "zhsyy_fzrt_predictor = TabularPredictor.load(os.path.join(os.path.join(model_path,'zhsyy'),'fzrt'))\n",
    "zhsyy_zrt_predictor = TabularPredictor.load(os.path.join(os.path.join(model_path,'zhsyy'),'zrt'))\n",
    "# 河流冲积物\n",
    "hlcjw_sdt_predictor = TabularPredictor.load(os.path.join(os.path.join(model_path,'hlcjw'),'sdt'))\n",
    "hlcjw_fzrt_predictor = TabularPredictor.load(os.path.join(os.path.join(model_path,'hlcjw'),'fzrt'))\n",
    "# 砂页岩\n",
    "syy_sdt_predictor = TabularPredictor.load(os.path.join(os.path.join(model_path,'syy'),'sdt'))\n",
    "syy_fzrt_predictor = TabularPredictor.load(os.path.join(os.path.join(model_path,'syy'),'fzrt'))\n",
    "syy_zrt_predictor = TabularPredictor.load(os.path.join(os.path.join(model_path,'syy'),'zrt'))"
   ]
  },
  {
   "cell_type": "code",
   "execution_count": 5,
   "metadata": {},
   "outputs": [
    {
     "name": "stdout",
     "output_type": "stream",
     "text": [
      "SDT ['analytical_hillshading', 'aspect', 'channel_network_base_level', 'channel_network_distance', 'convergence_index', 'dem', 'dz', 'dl', 'etp2022_1', 'etp2022_10', 'etp2022_11', 'etp2022_12', 'etp2022_2', 'etp2022_3', 'etp2022_4', 'etp2022_5', 'etp2022_6', 'etp2022_7', 'etp2022_8', 'etp2022_9', 'etp2022_mean', 'evi', 'lat', 'lon', 'lswi', 'ls_factor', 'mndwi', 'mrrtf', 'mrvbf', 'ndvi', 'ndwi', 'night2022', 'pca_1', 'pca_2', 'plan_curvature', 'pre2022_1', 'pre2022_10', 'pre2022_11', 'pre2022_12', 'pre2022_2', 'pre2022_3', 'pre2022_4', 'pre2022_5', 'pre2022_6', 'pre2022_7', 'pre2022_8', 'pre2022_9', 'pre2022_mean', 'profile_curvature', 'relative_slope_position', 'savi', 'slope', 'slope_postion_101_smooth', 'tmp2022_1', 'tmp2022_10', 'tmp2022_11', 'tmp2022_12', 'tmp2022_2', 'tmp2022_3', 'tmp2022_4', 'tmp2022_5', 'tmp2022_6', 'tmp2022_7', 'tmp2022_8', 'tmp2022_9', 'tmp2022_mean', 'topographic_wetness_index', 'total_catchment_area', 'valley_depth', 'vari']\n",
      "FZRT ['analytical_hillshading', 'aspect', 'channel_network_base_level', 'channel_network_distance', 'convergence_index', 'dem', 'dz', 'dl', 'etp2022_1', 'etp2022_10', 'etp2022_11', 'etp2022_12', 'etp2022_2', 'etp2022_3', 'etp2022_4', 'etp2022_5', 'etp2022_6', 'etp2022_7', 'etp2022_8', 'etp2022_9', 'etp2022_mean', 'evi', 'lat', 'lon', 'lswi', 'ls_factor', 'mndwi', 'mrrtf', 'mrvbf', 'ndvi', 'ndwi', 'night2022', 'pca_1', 'pca_2', 'plan_curvature', 'pre2022_1', 'pre2022_10', 'pre2022_11', 'pre2022_12', 'pre2022_2', 'pre2022_3', 'pre2022_4', 'pre2022_5', 'pre2022_6', 'pre2022_7', 'pre2022_8', 'pre2022_9', 'pre2022_mean', 'profile_curvature', 'relative_slope_position', 'savi', 'slope', 'slope_postion_101_smooth', 'tmp2022_1', 'tmp2022_10', 'tmp2022_11', 'tmp2022_12', 'tmp2022_2', 'tmp2022_3', 'tmp2022_4', 'tmp2022_5', 'tmp2022_6', 'tmp2022_7', 'tmp2022_8', 'tmp2022_9', 'tmp2022_mean', 'topographic_wetness_index', 'total_catchment_area', 'valley_depth', 'vari']\n",
      "ZRT ['analytical_hillshading', 'aspect', 'channel_network_base_level', 'channel_network_distance', 'convergence_index', 'dem', 'dz', 'dl', 'etp2022_1', 'etp2022_10', 'etp2022_11', 'etp2022_12', 'etp2022_2', 'etp2022_3', 'etp2022_4', 'etp2022_5', 'etp2022_6', 'etp2022_7', 'etp2022_8', 'etp2022_9', 'etp2022_mean', 'evi', 'lat', 'lon', 'lswi', 'ls_factor', 'mndwi', 'mrrtf', 'mrvbf', 'ndvi', 'ndwi', 'night2022', 'pca_1', 'pca_2', 'plan_curvature', 'pre2022_1', 'pre2022_10', 'pre2022_11', 'pre2022_12', 'pre2022_2', 'pre2022_3', 'pre2022_4', 'pre2022_5', 'pre2022_6', 'pre2022_7', 'pre2022_8', 'pre2022_9', 'pre2022_mean', 'profile_curvature', 'relative_slope_position', 'savi', 'slope', 'slope_postion_101_smooth', 'tmp2022_1', 'tmp2022_10', 'tmp2022_11', 'tmp2022_12', 'tmp2022_2', 'tmp2022_3', 'tmp2022_4', 'tmp2022_5', 'tmp2022_6', 'tmp2022_7', 'tmp2022_8', 'tmp2022_9', 'tmp2022_mean', 'topographic_wetness_index', 'total_catchment_area', 'valley_depth', 'vari']\n"
     ]
    }
   ],
   "source": [
    "# 获取特征函数\n",
    "\n",
    "def get_feature_names(predictor):\n",
    "    feature_names = predictor.feature_metadata_in.get_features()\n",
    "    return feature_names\n",
    "sdt_feature_names = syy_sdt_predictor.feature_metadata_in.get_features()\n",
    "print(\"SDT\",sdt_feature_names)\n",
    "fzrt_feature_names = syy_fzrt_predictor.feature_metadata_in.get_features()\n",
    "print(\"FZRT\",fzrt_feature_names)\n",
    "zrt_feature_names = syy_zrt_predictor.feature_metadata_in.get_features()\n",
    "print(\"ZRT\",zrt_feature_names)"
   ]
  },
  {
   "cell_type": "code",
   "execution_count": 6,
   "metadata": {},
   "outputs": [],
   "source": [
    "# 存放预测结果的路径\n",
    "result_path =  r\"F:\\cache_data\\zone_ana\\sb\\prediction_result\""
   ]
  },
  {
   "cell_type": "code",
   "execution_count": 7,
   "metadata": {},
   "outputs": [],
   "source": [
    "# 读取数据集\n",
    "feature_path = r\"F:\\cache_data\\zone_ana\\sb\\prediction_data\\result_20241029.csv\""
   ]
  },
  {
   "cell_type": "code",
   "execution_count": 8,
   "metadata": {},
   "outputs": [],
   "source": [
    "feature_df = pd.read_csv(feature_path)"
   ]
  },
  {
   "cell_type": "code",
   "execution_count": 9,
   "metadata": {},
   "outputs": [
    {
     "data": {
      "text/plain": [
       "192101"
      ]
     },
     "execution_count": 9,
     "metadata": {},
     "output_type": "execute_result"
    }
   ],
   "source": [
    "feature_df.shape[0]"
   ]
  },
  {
   "cell_type": "code",
   "execution_count": 16,
   "metadata": {},
   "outputs": [],
   "source": [
    "# 重命名列\n",
    "# 保留名称中包含'MEAN'、'MAJORITY'和'PCT90'的列,删除其他列\n",
    "keep_cols = ['FID', 'DLBM', 'DLMC', 'BZ', 'DLDM', 'DLDMN', 'gridcode', 'TDLYLX', 'MZMC']  # 保留的基础列\n",
    "keep_cols.extend([col for col in feature_df.columns if 'MEAN' in col or 'MAJORITY' in col or 'PCT90' in col])  # 添加需要保留的特征列\n",
    "\n",
    "# 只保留指定的列\n",
    "feature_df = feature_df[keep_cols]"
   ]
  },
  {
   "cell_type": "code",
   "execution_count": 19,
   "metadata": {},
   "outputs": [],
   "source": [
    "# 创建一个字典来存储新的列名映射\n",
    "rename_dict = {}\n",
    "\n",
    "# 遍历所有列名\n",
    "for col in feature_df.columns:\n",
    "    # 如果列名包含 _MEAN 或 _PCT90\n",
    "    if '_MEAN' in col or '_PCT90' in col:\n",
    "        # 获取基础名称（去掉后缀）\n",
    "        base_name = col.replace('_MEAN', '').replace('_PCT90', '')\n",
    "        \n",
    "        # 如果基础名称已经在字典中且当前列包含PCT90\n",
    "        if base_name in rename_dict.values() and '_PCT90' in col:\n",
    "            # 用新列名替换旧的映射\n",
    "            old_key = [k for k, v in rename_dict.items() if v == base_name][0]\n",
    "            rename_dict.pop(old_key)\n",
    "            rename_dict[col] = base_name\n",
    "        # 如果基础名称还没有在字典中\n",
    "        elif base_name not in rename_dict.values():\n",
    "            rename_dict[col] = base_name\n",
    "\n",
    "# 重命名列\n",
    "feature_df = feature_df.rename(columns=rename_dict)"
   ]
  },
  {
   "cell_type": "code",
   "execution_count": 21,
   "metadata": {},
   "outputs": [
    {
     "data": {
      "text/plain": [
       "['FID',\n",
       " 'DLBM',\n",
       " 'DLMC',\n",
       " 'BZ',\n",
       " 'DLDM',\n",
       " 'DLDMN',\n",
       " 'gridcode',\n",
       " 'TDLYLX',\n",
       " 'MZMC',\n",
       " 'analytical_hillshading_MEAN',\n",
       " 'analytical_hillshading',\n",
       " 'aspect_MEAN',\n",
       " 'aspect',\n",
       " 'channel_network_base_level_MEAN',\n",
       " 'channel_network_base_level',\n",
       " 'channel_network_distance_MEAN',\n",
       " 'channel_network_distance',\n",
       " 'convergence_index_MEAN',\n",
       " 'convergence_index',\n",
       " 'dem_MEAN',\n",
       " 'dem',\n",
       " 'dl_MEAN',\n",
       " 'dl',\n",
       " 'dz_MEAN',\n",
       " 'dz',\n",
       " 'etp2022_1_MEAN',\n",
       " 'etp2022_1',\n",
       " 'etp2022_10_MEAN',\n",
       " 'etp2022_10',\n",
       " 'etp2022_11_MEAN',\n",
       " 'etp2022_11',\n",
       " 'etp2022_12_MEAN',\n",
       " 'etp2022_12',\n",
       " 'etp2022_2_MEAN',\n",
       " 'etp2022_2',\n",
       " 'etp2022_3_MEAN',\n",
       " 'etp2022_3',\n",
       " 'etp2022_4_MEAN',\n",
       " 'etp2022_4',\n",
       " 'etp2022_5_MEAN',\n",
       " 'etp2022_5',\n",
       " 'etp2022_6_MEAN',\n",
       " 'etp2022_6',\n",
       " 'etp2022_7_MEAN',\n",
       " 'etp2022_7',\n",
       " 'etp2022_8_MEAN',\n",
       " 'etp2022_8',\n",
       " 'etp2022_9_MEAN',\n",
       " 'etp2022_9',\n",
       " 'etp2022_mean_MEAN',\n",
       " 'etp2022_mean',\n",
       " 'evi_MEAN',\n",
       " 'evi',\n",
       " 'lat_MEAN',\n",
       " 'lat',\n",
       " 'lon_MEAN',\n",
       " 'lon',\n",
       " 'lswi_MEAN',\n",
       " 'lswi',\n",
       " 'ls_factor_MEAN',\n",
       " 'ls_factor',\n",
       " 'mndwi_MEAN',\n",
       " 'mndwi',\n",
       " 'mrrtf_MEAN',\n",
       " 'mrrtf',\n",
       " 'mrvbf_MEAN',\n",
       " 'mrvbf',\n",
       " 'ndmi_MEAN',\n",
       " 'ndmi',\n",
       " 'ndvi_MEAN',\n",
       " 'ndvi',\n",
       " 'ndwi_MEAN',\n",
       " 'ndwi',\n",
       " 'night2022_MEAN',\n",
       " 'night2022',\n",
       " 'pca_1_MEAN',\n",
       " 'pca_1',\n",
       " 'pca_2_MEAN',\n",
       " 'pca_2',\n",
       " 'plan_curvature_MEAN',\n",
       " 'plan_curvature',\n",
       " 'pre2022_1_MEAN',\n",
       " 'pre2022_1',\n",
       " 'pre2022_10_MEAN',\n",
       " 'pre2022_10',\n",
       " 'pre2022_11_MEAN',\n",
       " 'pre2022_11',\n",
       " 'pre2022_12_MEAN',\n",
       " 'pre2022_12',\n",
       " 'pre2022_2_MEAN',\n",
       " 'pre2022_2',\n",
       " 'pre2022_3_MEAN',\n",
       " 'pre2022_3',\n",
       " 'pre2022_4_MEAN',\n",
       " 'pre2022_4',\n",
       " 'pre2022_5_MEAN',\n",
       " 'pre2022_5',\n",
       " 'pre2022_6_MEAN',\n",
       " 'pre2022_6',\n",
       " 'pre2022_7_MEAN',\n",
       " 'pre2022_7',\n",
       " 'pre2022_8_MEAN',\n",
       " 'pre2022_8',\n",
       " 'pre2022_9_MEAN',\n",
       " 'pre2022_9',\n",
       " 'pre2022_mean_MEAN',\n",
       " 'pre2022_mean',\n",
       " 'profile_curvature_MEAN',\n",
       " 'profile_curvature',\n",
       " 'relative_slope_position_MEAN',\n",
       " 'relative_slope_position',\n",
       " 'savi_MEAN',\n",
       " 'savi',\n",
       " 'slope_MEAN',\n",
       " 'slope',\n",
       " 'slope_postion_101_smooth_MEAN',\n",
       " 'slope_postion_101_smooth_MAJORITY',\n",
       " 'slope_postion_101_smooth',\n",
       " 'tmp2022_1_MEAN',\n",
       " 'tmp2022_1',\n",
       " 'tmp2022_10_MEAN',\n",
       " 'tmp2022_10',\n",
       " 'tmp2022_11_MEAN',\n",
       " 'tmp2022_11',\n",
       " 'tmp2022_12_MEAN',\n",
       " 'tmp2022_12',\n",
       " 'tmp2022_2_MEAN',\n",
       " 'tmp2022_2',\n",
       " 'tmp2022_3_MEAN',\n",
       " 'tmp2022_3',\n",
       " 'tmp2022_4_MEAN',\n",
       " 'tmp2022_4',\n",
       " 'tmp2022_5_MEAN',\n",
       " 'tmp2022_5',\n",
       " 'tmp2022_6_MEAN',\n",
       " 'tmp2022_6',\n",
       " 'tmp2022_7_MEAN',\n",
       " 'tmp2022_7',\n",
       " 'tmp2022_8_MEAN',\n",
       " 'tmp2022_8',\n",
       " 'tmp2022_9_MEAN',\n",
       " 'tmp2022_9',\n",
       " 'tmp2022_mean_MEAN',\n",
       " 'tmp2022_mean',\n",
       " 'topographic_wetness_index_MEAN',\n",
       " 'topographic_wetness_index',\n",
       " 'total_catchment_area_MEAN',\n",
       " 'total_catchment_area',\n",
       " 'valley_depth_MEAN',\n",
       " 'valley_depth',\n",
       " 'vari_MEAN',\n",
       " 'vari']"
      ]
     },
     "execution_count": 21,
     "metadata": {},
     "output_type": "execute_result"
    }
   ],
   "source": [
    "[_ for _ in feature_df.columns]"
   ]
  },
  {
   "cell_type": "code",
   "execution_count": 22,
   "metadata": {},
   "outputs": [
    {
     "data": {
      "text/html": [
       "<div>\n",
       "<style scoped>\n",
       "    .dataframe tbody tr th:only-of-type {\n",
       "        vertical-align: middle;\n",
       "    }\n",
       "\n",
       "    .dataframe tbody tr th {\n",
       "        vertical-align: top;\n",
       "    }\n",
       "\n",
       "    .dataframe thead th {\n",
       "        text-align: right;\n",
       "    }\n",
       "</style>\n",
       "<table border=\"1\" class=\"dataframe\">\n",
       "  <thead>\n",
       "    <tr style=\"text-align: right;\">\n",
       "      <th></th>\n",
       "      <th>FID</th>\n",
       "      <th>DLBM</th>\n",
       "      <th>DLMC</th>\n",
       "      <th>BZ</th>\n",
       "      <th>DLDM</th>\n",
       "      <th>DLDMN</th>\n",
       "      <th>gridcode</th>\n",
       "      <th>TDLYLX</th>\n",
       "      <th>MZMC</th>\n",
       "      <th>analytical_hillshading_MEAN</th>\n",
       "      <th>...</th>\n",
       "      <th>tmp2022_mean_MEAN</th>\n",
       "      <th>tmp2022_mean</th>\n",
       "      <th>topographic_wetness_index_MEAN</th>\n",
       "      <th>topographic_wetness_index</th>\n",
       "      <th>total_catchment_area_MEAN</th>\n",
       "      <th>total_catchment_area</th>\n",
       "      <th>valley_depth_MEAN</th>\n",
       "      <th>valley_depth</th>\n",
       "      <th>vari_MEAN</th>\n",
       "      <th>vari</th>\n",
       "    </tr>\n",
       "  </thead>\n",
       "  <tbody>\n",
       "  </tbody>\n",
       "</table>\n",
       "<p>0 rows × 152 columns</p>\n",
       "</div>"
      ],
      "text/plain": [
       "Empty DataFrame\n",
       "Columns: [FID, DLBM, DLMC, BZ, DLDM, DLDMN, gridcode, TDLYLX, MZMC, analytical_hillshading_MEAN, analytical_hillshading, aspect_MEAN, aspect, channel_network_base_level_MEAN, channel_network_base_level, channel_network_distance_MEAN, channel_network_distance, convergence_index_MEAN, convergence_index, dem_MEAN, dem, dl_MEAN, dl, dz_MEAN, dz, etp2022_1_MEAN, etp2022_1, etp2022_10_MEAN, etp2022_10, etp2022_11_MEAN, etp2022_11, etp2022_12_MEAN, etp2022_12, etp2022_2_MEAN, etp2022_2, etp2022_3_MEAN, etp2022_3, etp2022_4_MEAN, etp2022_4, etp2022_5_MEAN, etp2022_5, etp2022_6_MEAN, etp2022_6, etp2022_7_MEAN, etp2022_7, etp2022_8_MEAN, etp2022_8, etp2022_9_MEAN, etp2022_9, etp2022_mean_MEAN, etp2022_mean, evi_MEAN, evi, lat_MEAN, lat, lon_MEAN, lon, lswi_MEAN, lswi, ls_factor_MEAN, ls_factor, mndwi_MEAN, mndwi, mrrtf_MEAN, mrrtf, mrvbf_MEAN, mrvbf, ndmi_MEAN, ndmi, ndvi_MEAN, ndvi, ndwi_MEAN, ndwi, night2022_MEAN, night2022, pca_1_MEAN, pca_1, pca_2_MEAN, pca_2, plan_curvature_MEAN, plan_curvature, pre2022_1_MEAN, pre2022_1, pre2022_10_MEAN, pre2022_10, pre2022_11_MEAN, pre2022_11, pre2022_12_MEAN, pre2022_12, pre2022_2_MEAN, pre2022_2, pre2022_3_MEAN, pre2022_3, pre2022_4_MEAN, pre2022_4, pre2022_5_MEAN, pre2022_5, pre2022_6_MEAN, pre2022_6, pre2022_7_MEAN, ...]\n",
       "Index: []\n",
       "\n",
       "[0 rows x 152 columns]"
      ]
     },
     "execution_count": 22,
     "metadata": {},
     "output_type": "execute_result"
    }
   ],
   "source": [
    "rows_with_nan = feature_df.loc[feature_df.isnull().any(axis=1)]\n",
    "rows_with_nan"
   ]
  },
  {
   "cell_type": "code",
   "execution_count": 23,
   "metadata": {},
   "outputs": [],
   "source": [
    "# 选择数值类型的列\n",
    "numeric_cols = feature_df.select_dtypes(include=[np.float64])\n",
    "\n",
    "# 计算数值列的均值\n",
    "mean_values = numeric_cols.mean()\n",
    "\n",
    "# 用均值填充数值列的空值\n",
    "feature_df[numeric_cols.columns] = numeric_cols.fillna(mean_values)"
   ]
  },
  {
   "cell_type": "code",
   "execution_count": 24,
   "metadata": {},
   "outputs": [
    {
     "data": {
      "text/html": [
       "<div>\n",
       "<style scoped>\n",
       "    .dataframe tbody tr th:only-of-type {\n",
       "        vertical-align: middle;\n",
       "    }\n",
       "\n",
       "    .dataframe tbody tr th {\n",
       "        vertical-align: top;\n",
       "    }\n",
       "\n",
       "    .dataframe thead th {\n",
       "        text-align: right;\n",
       "    }\n",
       "</style>\n",
       "<table border=\"1\" class=\"dataframe\">\n",
       "  <thead>\n",
       "    <tr style=\"text-align: right;\">\n",
       "      <th></th>\n",
       "      <th>FID</th>\n",
       "      <th>DLBM</th>\n",
       "      <th>DLMC</th>\n",
       "      <th>BZ</th>\n",
       "      <th>DLDM</th>\n",
       "      <th>DLDMN</th>\n",
       "      <th>gridcode</th>\n",
       "      <th>TDLYLX</th>\n",
       "      <th>MZMC</th>\n",
       "      <th>analytical_hillshading_MEAN</th>\n",
       "      <th>...</th>\n",
       "      <th>tmp2022_mean_MEAN</th>\n",
       "      <th>tmp2022_mean</th>\n",
       "      <th>topographic_wetness_index_MEAN</th>\n",
       "      <th>topographic_wetness_index</th>\n",
       "      <th>total_catchment_area_MEAN</th>\n",
       "      <th>total_catchment_area</th>\n",
       "      <th>valley_depth_MEAN</th>\n",
       "      <th>valley_depth</th>\n",
       "      <th>vari_MEAN</th>\n",
       "      <th>vari</th>\n",
       "    </tr>\n",
       "  </thead>\n",
       "  <tbody>\n",
       "  </tbody>\n",
       "</table>\n",
       "<p>0 rows × 152 columns</p>\n",
       "</div>"
      ],
      "text/plain": [
       "Empty DataFrame\n",
       "Columns: [FID, DLBM, DLMC, BZ, DLDM, DLDMN, gridcode, TDLYLX, MZMC, analytical_hillshading_MEAN, analytical_hillshading, aspect_MEAN, aspect, channel_network_base_level_MEAN, channel_network_base_level, channel_network_distance_MEAN, channel_network_distance, convergence_index_MEAN, convergence_index, dem_MEAN, dem, dl_MEAN, dl, dz_MEAN, dz, etp2022_1_MEAN, etp2022_1, etp2022_10_MEAN, etp2022_10, etp2022_11_MEAN, etp2022_11, etp2022_12_MEAN, etp2022_12, etp2022_2_MEAN, etp2022_2, etp2022_3_MEAN, etp2022_3, etp2022_4_MEAN, etp2022_4, etp2022_5_MEAN, etp2022_5, etp2022_6_MEAN, etp2022_6, etp2022_7_MEAN, etp2022_7, etp2022_8_MEAN, etp2022_8, etp2022_9_MEAN, etp2022_9, etp2022_mean_MEAN, etp2022_mean, evi_MEAN, evi, lat_MEAN, lat, lon_MEAN, lon, lswi_MEAN, lswi, ls_factor_MEAN, ls_factor, mndwi_MEAN, mndwi, mrrtf_MEAN, mrrtf, mrvbf_MEAN, mrvbf, ndmi_MEAN, ndmi, ndvi_MEAN, ndvi, ndwi_MEAN, ndwi, night2022_MEAN, night2022, pca_1_MEAN, pca_1, pca_2_MEAN, pca_2, plan_curvature_MEAN, plan_curvature, pre2022_1_MEAN, pre2022_1, pre2022_10_MEAN, pre2022_10, pre2022_11_MEAN, pre2022_11, pre2022_12_MEAN, pre2022_12, pre2022_2_MEAN, pre2022_2, pre2022_3_MEAN, pre2022_3, pre2022_4_MEAN, pre2022_4, pre2022_5_MEAN, pre2022_5, pre2022_6_MEAN, pre2022_6, pre2022_7_MEAN, ...]\n",
       "Index: []\n",
       "\n",
       "[0 rows x 152 columns]"
      ]
     },
     "execution_count": 24,
     "metadata": {},
     "output_type": "execute_result"
    }
   ],
   "source": [
    "rows_with_nan = feature_df.loc[feature_df.isnull().any(axis=1)]\n",
    "rows_with_nan"
   ]
  },
  {
   "cell_type": "code",
   "execution_count": 25,
   "metadata": {},
   "outputs": [],
   "source": [
    "dataset = feature_df"
   ]
  },
  {
   "cell_type": "code",
   "execution_count": 26,
   "metadata": {},
   "outputs": [
    {
     "data": {
      "text/plain": [
       "Index(['FID', 'DLBM', 'DLMC', 'BZ', 'DLDM', 'DLDMN', 'gridcode', 'TDLYLX',\n",
       "       'MZMC', 'analytical_hillshading_MEAN',\n",
       "       ...\n",
       "       'tmp2022_mean_MEAN', 'tmp2022_mean', 'topographic_wetness_index_MEAN',\n",
       "       'topographic_wetness_index', 'total_catchment_area_MEAN',\n",
       "       'total_catchment_area', 'valley_depth_MEAN', 'valley_depth',\n",
       "       'vari_MEAN', 'vari'],\n",
       "      dtype='object', length=152)"
      ]
     },
     "execution_count": 26,
     "metadata": {},
     "output_type": "execute_result"
    }
   ],
   "source": [
    "dataset.columns"
   ]
  },
  {
   "cell_type": "code",
   "execution_count": 27,
   "metadata": {},
   "outputs": [],
   "source": [
    "\n",
    "duplicated_rows = dataset[dataset['FID'].duplicated(keep=False)]"
   ]
  },
  {
   "cell_type": "code",
   "execution_count": 28,
   "metadata": {},
   "outputs": [
    {
     "data": {
      "text/html": [
       "<div>\n",
       "<style scoped>\n",
       "    .dataframe tbody tr th:only-of-type {\n",
       "        vertical-align: middle;\n",
       "    }\n",
       "\n",
       "    .dataframe tbody tr th {\n",
       "        vertical-align: top;\n",
       "    }\n",
       "\n",
       "    .dataframe thead th {\n",
       "        text-align: right;\n",
       "    }\n",
       "</style>\n",
       "<table border=\"1\" class=\"dataframe\">\n",
       "  <thead>\n",
       "    <tr style=\"text-align: right;\">\n",
       "      <th></th>\n",
       "      <th>FID</th>\n",
       "      <th>DLBM</th>\n",
       "      <th>DLMC</th>\n",
       "      <th>BZ</th>\n",
       "      <th>DLDM</th>\n",
       "      <th>DLDMN</th>\n",
       "      <th>gridcode</th>\n",
       "      <th>TDLYLX</th>\n",
       "      <th>MZMC</th>\n",
       "      <th>analytical_hillshading_MEAN</th>\n",
       "      <th>...</th>\n",
       "      <th>tmp2022_mean_MEAN</th>\n",
       "      <th>tmp2022_mean</th>\n",
       "      <th>topographic_wetness_index_MEAN</th>\n",
       "      <th>topographic_wetness_index</th>\n",
       "      <th>total_catchment_area_MEAN</th>\n",
       "      <th>total_catchment_area</th>\n",
       "      <th>valley_depth_MEAN</th>\n",
       "      <th>valley_depth</th>\n",
       "      <th>vari_MEAN</th>\n",
       "      <th>vari</th>\n",
       "    </tr>\n",
       "  </thead>\n",
       "  <tbody>\n",
       "  </tbody>\n",
       "</table>\n",
       "<p>0 rows × 152 columns</p>\n",
       "</div>"
      ],
      "text/plain": [
       "Empty DataFrame\n",
       "Columns: [FID, DLBM, DLMC, BZ, DLDM, DLDMN, gridcode, TDLYLX, MZMC, analytical_hillshading_MEAN, analytical_hillshading, aspect_MEAN, aspect, channel_network_base_level_MEAN, channel_network_base_level, channel_network_distance_MEAN, channel_network_distance, convergence_index_MEAN, convergence_index, dem_MEAN, dem, dl_MEAN, dl, dz_MEAN, dz, etp2022_1_MEAN, etp2022_1, etp2022_10_MEAN, etp2022_10, etp2022_11_MEAN, etp2022_11, etp2022_12_MEAN, etp2022_12, etp2022_2_MEAN, etp2022_2, etp2022_3_MEAN, etp2022_3, etp2022_4_MEAN, etp2022_4, etp2022_5_MEAN, etp2022_5, etp2022_6_MEAN, etp2022_6, etp2022_7_MEAN, etp2022_7, etp2022_8_MEAN, etp2022_8, etp2022_9_MEAN, etp2022_9, etp2022_mean_MEAN, etp2022_mean, evi_MEAN, evi, lat_MEAN, lat, lon_MEAN, lon, lswi_MEAN, lswi, ls_factor_MEAN, ls_factor, mndwi_MEAN, mndwi, mrrtf_MEAN, mrrtf, mrvbf_MEAN, mrvbf, ndmi_MEAN, ndmi, ndvi_MEAN, ndvi, ndwi_MEAN, ndwi, night2022_MEAN, night2022, pca_1_MEAN, pca_1, pca_2_MEAN, pca_2, plan_curvature_MEAN, plan_curvature, pre2022_1_MEAN, pre2022_1, pre2022_10_MEAN, pre2022_10, pre2022_11_MEAN, pre2022_11, pre2022_12_MEAN, pre2022_12, pre2022_2_MEAN, pre2022_2, pre2022_3_MEAN, pre2022_3, pre2022_4_MEAN, pre2022_4, pre2022_5_MEAN, pre2022_5, pre2022_6_MEAN, pre2022_6, pre2022_7_MEAN, ...]\n",
       "Index: []\n",
       "\n",
       "[0 rows x 152 columns]"
      ]
     },
     "execution_count": 28,
     "metadata": {},
     "output_type": "execute_result"
    }
   ],
   "source": [
    "duplicated_rows"
   ]
  },
  {
   "cell_type": "code",
   "execution_count": 29,
   "metadata": {},
   "outputs": [
    {
     "data": {
      "text/plain": [
       "{'白云岩': 101197,\n",
       " '第四纪粘土': 26977,\n",
       " '灰岩': 20555,\n",
       " '砂页岩': 11476,\n",
       " '砂岩': 10750,\n",
       " '泥(页)岩': 6787,\n",
       " '河流冲积物': 5283,\n",
       " '紫色砂页岩': 4676,\n",
       " '第四纪红黏土': 1303,\n",
       " '变余砂岩': 1190,\n",
       " '板岩': 837,\n",
       " '酸性紫色砂页岩': 620,\n",
       " '砂砾岩': 403,\n",
       " '砾岩': 47}"
      ]
     },
     "execution_count": 29,
     "metadata": {},
     "output_type": "execute_result"
    }
   ],
   "source": [
    "# 统计总数据中各个岩石类型的总数\n",
    "value_counts_dict = dataset['MZMC'].value_counts().to_dict()\n",
    "value_counts_dict"
   ]
  },
  {
   "cell_type": "code",
   "execution_count": 31,
   "metadata": {},
   "outputs": [
    {
     "name": "stdout",
     "output_type": "stream",
     "text": [
      "11940 11940\n"
     ]
    }
   ],
   "source": [
    "# 筛选砂岩水稻土数据\n",
    "sy_sdt_data = dataset[(dataset['TDLYLX']=='水稻土') \n",
    "                      & ((dataset['MZMC'] == '砂岩')|(dataset['MZMC'] == '变余砂岩'))]\n",
    "# 筛砂岩选非自然土数据\n",
    "sy_fzrt_data = dataset[(dataset['TDLYLX']=='非自然土') \n",
    "                       & ((dataset['MZMC'] == '砂岩')|(dataset['MZMC'] == '变余砂岩'))]\n",
    "# 筛选自然土数据\n",
    "sy_zrt_data = dataset[(dataset['TDLYLX']=='自然土')\n",
    "                   & ((dataset['MZMC'] == '砂岩')|(dataset['MZMC'] == '变余砂岩'))]\n",
    "print(sy_sdt_data.shape[0]+sy_fzrt_data.shape[0]+sy_zrt_data.shape[0],value_counts_dict['砂岩']+value_counts_dict['变余砂岩'])"
   ]
  },
  {
   "cell_type": "code",
   "execution_count": 32,
   "metadata": {},
   "outputs": [
    {
     "name": "stdout",
     "output_type": "stream",
     "text": [
      "121752 121752\n"
     ]
    }
   ],
   "source": [
    "# 筛选碳酸岩水稻土数据\n",
    "tsy_sdt_data = dataset[(dataset['TDLYLX']=='水稻土') \n",
    "                      & ((dataset['MZMC'] == '白云岩')|(dataset['MZMC'] == '灰岩'))]\n",
    "\n",
    "# 筛选碳酸岩选非自然土数据\n",
    "tsy_fzrt_data = dataset[(dataset['TDLYLX']=='非自然土') \n",
    "                        & ((dataset['MZMC'] == '白云岩')|(dataset['MZMC'] == '灰岩'))]\n",
    "\n",
    "# 筛选碳酸岩自然土数据\n",
    "tsy_zrt_data = dataset[(dataset['TDLYLX']=='自然土')\n",
    "                   & ((dataset['MZMC'] == '白云岩')|(dataset['MZMC'] == '灰岩'))]\n",
    "print(tsy_sdt_data.shape[0]+tsy_fzrt_data.shape[0]+tsy_zrt_data.shape[0],value_counts_dict['白云岩']+value_counts_dict['灰岩'])"
   ]
  },
  {
   "cell_type": "code",
   "execution_count": 33,
   "metadata": {},
   "outputs": [
    {
     "name": "stdout",
     "output_type": "stream",
     "text": [
      "28280 28280\n"
     ]
    }
   ],
   "source": [
    "# 筛选第四系红粘土水稻土数据\n",
    "hnt_sdt_data = dataset[(dataset['TDLYLX']=='水稻土') \n",
    "                      & ((dataset['MZMC'] == '第四纪粘土')|(dataset['MZMC'] == '第四纪红黏土'))]\n",
    "\n",
    "# 筛选第四系红粘土非自然土数据\n",
    "hnt_fzrt_data = dataset[(dataset['TDLYLX']=='非自然土') \n",
    "                       & ((dataset['MZMC'] == '第四纪粘土')|(dataset['MZMC'] == '第四纪红黏土'))]\n",
    "\n",
    "# 筛选第四系红粘土自然土数据\n",
    "hnt_zrt_data = dataset[(dataset['TDLYLX']=='自然土')\n",
    "                   & ((dataset['MZMC'] == '第四纪粘土')|(dataset['MZMC'] == '第四纪红黏土'))]\n",
    "print(hnt_sdt_data.shape[0]+hnt_fzrt_data.shape[0]+hnt_zrt_data.shape[0],value_counts_dict['第四纪红黏土']+value_counts_dict['第四纪粘土'])"
   ]
  },
  {
   "cell_type": "code",
   "execution_count": 39,
   "metadata": {},
   "outputs": [
    {
     "name": "stdout",
     "output_type": "stream",
     "text": [
      "7671 7671\n"
     ]
    }
   ],
   "source": [
    "# 筛选泥(页)岩水稻土数据\n",
    "nyy_sdt_data = dataset[(dataset['TDLYLX']=='水稻土')\n",
    "                   & ((dataset['MZMC'] == '泥(页)岩')|(dataset['MZMC'] == '板岩')|(dataset['MZMC'] == '砾岩'))]\n",
    "\n",
    "# 筛选泥(页)岩非自然土数据\n",
    "nyy_fzrt_data = dataset[(dataset['TDLYLX']=='非自然土')\n",
    "                       & ((dataset['MZMC'] == '泥(页)岩')|(dataset['MZMC'] == '板岩')|(dataset['MZMC'] == '砾岩'))]\n",
    "\n",
    "# 筛选泥(页)岩自然土数据\n",
    "nyy_zrt_data = dataset[(dataset['TDLYLX']=='自然土')\n",
    "                   & ((dataset['MZMC'] == '泥(页)岩')|(dataset['MZMC'] == '板岩')|(dataset['MZMC'] == '砾岩'))]\n",
    "print(nyy_sdt_data.shape[0]+nyy_fzrt_data.shape[0]+nyy_zrt_data.shape[0],value_counts_dict['泥(页)岩']+value_counts_dict['板岩']+value_counts_dict['砾岩'])"
   ]
  },
  {
   "cell_type": "code",
   "execution_count": 35,
   "metadata": {},
   "outputs": [
    {
     "name": "stdout",
     "output_type": "stream",
     "text": [
      "5296 5296\n"
     ]
    }
   ],
   "source": [
    "# 筛选紫红色砂页岩水稻土数据\n",
    "zhsyy_sdt_data = dataset[(dataset['TDLYLX']=='水稻土')\n",
    "                      &((dataset['MZMC'] == '酸性紫色砂页岩')|(dataset['MZMC'] == '紫色砂页岩'))]\n",
    "\n",
    "# 筛选紫红色砂页岩非自然土数据\n",
    "zhsyy_fzrt_data = dataset[(dataset['TDLYLX']=='非自然土')\n",
    "                       & ((dataset['MZMC'] == '酸性紫色砂页岩')|(dataset['MZMC'] == '紫色砂页岩'))]\n",
    "\n",
    "# 筛选紫红色砂页岩自然土数据\n",
    "zhsyy_zrt_data = dataset[(dataset['TDLYLX']=='自然土')\n",
    "                   & ((dataset['MZMC'] == '酸性紫色砂页岩')|(dataset['MZMC'] == '紫色砂页岩'))]\n",
    "print(zhsyy_sdt_data.shape[0]+zhsyy_fzrt_data.shape[0]+zhsyy_zrt_data.shape[0],value_counts_dict['酸性紫色砂页岩']+value_counts_dict['紫色砂页岩'])"
   ]
  },
  {
   "cell_type": "code",
   "execution_count": 37,
   "metadata": {},
   "outputs": [
    {
     "name": "stdout",
     "output_type": "stream",
     "text": [
      "5283 5283\n"
     ]
    }
   ],
   "source": [
    "# 筛选河流冲积物水稻土数据\n",
    "hlcjw_sdt_data = dataset[(dataset['TDLYLX']=='水稻土') \n",
    "                      &(dataset['MZMC'] == '河流冲积物')]\n",
    "# 筛选河流冲积物非自然土数据\n",
    "hlcjw_fzrt_data = dataset[(dataset['TDLYLX']=='非自然土') \n",
    "                       & (dataset['MZMC'] == '河流冲积物')]\n",
    "# 筛选河流冲积物自然土数据\n",
    "hlcjw_zrt_data = dataset[(dataset['TDLYLX']=='自然土')\n",
    "                   & (dataset['MZMC'] == '河流冲积物')]\n",
    "print(hlcjw_sdt_data.shape[0]+hlcjw_fzrt_data.shape[0]+hlcjw_zrt_data.shape[0],value_counts_dict['河流冲积物'])"
   ]
  },
  {
   "cell_type": "code",
   "execution_count": 38,
   "metadata": {},
   "outputs": [
    {
     "name": "stdout",
     "output_type": "stream",
     "text": [
      "11879 11879\n"
     ]
    }
   ],
   "source": [
    "# 筛选砂页岩水稻土数据\n",
    "syy_sdt_data = dataset[(dataset['TDLYLX']=='水稻土') \n",
    "                      & ((dataset['MZMC'] == '砂页岩')|(dataset['MZMC'] == '砂砾岩'))]\n",
    "\n",
    "# 筛选砂页岩非自然土数据\n",
    "syy_fzrt_data = dataset[(dataset['TDLYLX']=='非自然土') \n",
    "                       & ((dataset['MZMC'] == '砂页岩')|(dataset['MZMC'] == '砂砾岩'))]\n",
    "\n",
    "# 筛选砂页岩自然土数据\n",
    "syy_zrt_data = dataset[(dataset['TDLYLX']=='自然土')\n",
    "                   & ((dataset['MZMC'] == '砂页岩')|(dataset['MZMC'] == '砂砾岩'))]\n",
    "print(syy_sdt_data.shape[0]+syy_fzrt_data.shape[0]+syy_zrt_data.shape[0],value_counts_dict['砂页岩']+value_counts_dict['砂砾岩'])\n"
   ]
  },
  {
   "cell_type": "code",
   "execution_count": 43,
   "metadata": {},
   "outputs": [
    {
     "name": "stdout",
     "output_type": "stream",
     "text": [
      "砂岩 (3154, 152) (2692, 152) (6094, 152)\n",
      "碳酸盐岩 (14677, 152) (46554, 152) (60521, 152)\n",
      "第四纪红色粘土 (4789, 152) (15926, 152) (7565, 152)\n",
      "泥页岩 (1644, 152) (2349, 152) (3678, 152)\n",
      "紫红色砂(页)岩 (1400, 152) (1961, 152) (1935, 152)\n",
      "河流冲积物 (3309, 152)\n",
      "砂(页)岩 (3600, 152) (2462, 152) (5817, 152)\n",
      "192101\n"
     ]
    },
    {
     "data": {
      "text/plain": [
       "192101"
      ]
     },
     "execution_count": 43,
     "metadata": {},
     "output_type": "execute_result"
    }
   ],
   "source": [
    "# 查看各个数据集的大小\n",
    "print('砂岩',sy_sdt_data.shape,sy_fzrt_data.shape,sy_zrt_data.shape)\n",
    "print('碳酸盐岩',tsy_sdt_data.shape,tsy_fzrt_data.shape,tsy_zrt_data.shape)\n",
    "print('第四纪红色粘土',hnt_sdt_data.shape,hnt_fzrt_data.shape,hnt_zrt_data.shape)\n",
    "print('泥页岩',nyy_sdt_data.shape,nyy_fzrt_data.shape,nyy_zrt_data.shape)\n",
    "print('紫红色砂(页)岩',zhsyy_sdt_data.shape,zhsyy_fzrt_data.shape,zhsyy_zrt_data.shape)\n",
    "print('河流冲积物',hlcjw_sdt_data.shape)\n",
    "print('砂(页)岩',syy_sdt_data.shape,syy_fzrt_data.shape,syy_zrt_data.shape)\n",
    "# 计算总和\n",
    "print(sy_sdt_data.shape[0]+sy_fzrt_data.shape[0]+sy_zrt_data.shape[0]+tsy_sdt_data.shape[0]+tsy_fzrt_data.shape[0]+tsy_zrt_data.shape[0]+hnt_sdt_data.shape[0]+hnt_fzrt_data.shape[0]+hnt_zrt_data.shape[0]+nyy_sdt_data.shape[0]+nyy_fzrt_data.shape[0]+nyy_zrt_data.shape[0]+zhsyy_sdt_data.shape[0]+zhsyy_fzrt_data.shape[0]+zhsyy_zrt_data.shape[0]+hlcjw_sdt_data.shape[0]+hlcjw_fzrt_data.shape[0]+ hlcjw_zrt_data.shape[0]+syy_sdt_data.shape[0]+syy_fzrt_data.shape[0]+syy_zrt_data.shape[0])\n",
    "# 数据总和\n",
    "feature_df.shape[0]\n"
   ]
  },
  {
   "cell_type": "code",
   "execution_count": 44,
   "metadata": {},
   "outputs": [],
   "source": [
    "# 获取对照字典\n",
    "with open(r'D:\\worker_code\\Terrain_Test\\data\\soil_dict_20241029_sb.json', 'r') as f:\n",
    "    soil_dict = json.load(f)\n",
    "# 将键转为int\n",
    "soil_dict = {int(k):v for k, v in soil_dict.items()}"
   ]
  },
  {
   "cell_type": "code",
   "execution_count": 45,
   "metadata": {},
   "outputs": [
    {
     "data": {
      "text/plain": [
       "['NeuralNetFastAI',\n",
       " 'RandomForestGini',\n",
       " 'RandomForestEntr',\n",
       " 'ExtraTreesGini',\n",
       " 'ExtraTreesEntr',\n",
       " 'NeuralNetTorch',\n",
       " 'WeightedEnsemble_L2']"
      ]
     },
     "execution_count": 45,
     "metadata": {},
     "output_type": "execute_result"
    }
   ],
   "source": [
    "zhsyy_sdt_predictor.model_names()"
   ]
  },
  {
   "cell_type": "code",
   "execution_count": 46,
   "metadata": {},
   "outputs": [],
   "source": [
    "# 模型选择\n",
    "# select_model = 'WeightedEnsemble_L2'\n",
    "select_model = 'RandomForestEntr'"
   ]
  },
  {
   "cell_type": "code",
   "execution_count": 47,
   "metadata": {},
   "outputs": [],
   "source": [
    "# 概率预测函数\n",
    "def predict_top_classes(data, predictor,feature_names, model, top_n, soil_dict):\n",
    "    \"\"\"\n",
    "    根据给定的AutoGluon模型，预测数据集中的前n个最可能的类别及其概率，并根据提供的字典转换类别编号为描述字符串。\n",
    "    参数:\n",
    "    data (DataFrame): 输入的数据集。\n",
    "    predictor（model）: 对应的模型\n",
    "    feature_names (list): 用于预测的特征名列表。\n",
    "    model (str): 选择的模型名称。\n",
    "    top_n (int): 需要返回的最高概率的类别数量。\n",
    "    soil_dict (dict): 类别编号到描述字符串的映射字典。\n",
    "    \n",
    "    返回:\n",
    "    DataFrame: 原始数据与预测结果合并后的DataFrame。\n",
    "    \"\"\"\n",
    "    # 复制数据\n",
    "    data = data.copy()\n",
    "    # 预测概率\n",
    "    pred_probs = predictor.predict_proba(data[feature_names], model=model)\n",
    "    # 获取概率最高的前n个类别及其概率\n",
    "    top_classes = pred_probs.apply(lambda x: pd.Series(x.nlargest(top_n).index.astype(int).tolist() + x.nlargest(top_n).values.tolist()), axis=1)\n",
    "    # 重命名列\n",
    "    class_cols = ['Class{}'.format(i+1) for i in range(top_n)]\n",
    "    prob_cols = ['Prob{}'.format(i+1) for i in range(top_n)]\n",
    "    top_classes.columns = class_cols + prob_cols\n",
    "    # 转换类别编号为描述字符串\n",
    "    for col in class_cols:\n",
    "        top_classes[col] = top_classes[col].map(soil_dict)\n",
    "    # 计算每个预测的熵\n",
    "    entropy = pred_probs.apply(lambda x: -np.sum(x * np.log(x + 1e-9)), axis=1)\n",
    "    top_classes['Entropy'] = entropy\n",
    "    # 计算每个预测的不确定性（标准差）\n",
    "    uncertainty = pred_probs.std(axis=1)\n",
    "    top_classes['Uncertainty'] = uncertainty\n",
    "    # 将新列添加到原有的DataFrame中\n",
    "    return pd.concat([data, top_classes], axis=1)"
   ]
  },
  {
   "cell_type": "code",
   "execution_count": 48,
   "metadata": {},
   "outputs": [
    {
     "data": {
      "text/plain": [
       "Index(['FID', 'DLBM', 'DLMC', 'BZ', 'DLDM', 'DLDMN', 'gridcode', 'TDLYLX',\n",
       "       'MZMC', 'analytical_hillshading_MEAN',\n",
       "       ...\n",
       "       'tmp2022_mean_MEAN', 'tmp2022_mean', 'topographic_wetness_index_MEAN',\n",
       "       'topographic_wetness_index', 'total_catchment_area_MEAN',\n",
       "       'total_catchment_area', 'valley_depth_MEAN', 'valley_depth',\n",
       "       'vari_MEAN', 'vari'],\n",
       "      dtype='object', length=152)"
      ]
     },
     "execution_count": 48,
     "metadata": {},
     "output_type": "execute_result"
    }
   ],
   "source": [
    "sy_sdt_data.columns"
   ]
  },
  {
   "cell_type": "code",
   "execution_count": 49,
   "metadata": {},
   "outputs": [],
   "source": [
    "# 模型预测\n",
    "sy_sdt_result_df = predict_top_classes(sy_sdt_data, sy_sdt_predictor,get_feature_names(sy_sdt_predictor), select_model, 2, soil_dict)\n",
    "sy_fzrt_result_df = predict_top_classes(sy_fzrt_data, sy_fzrt_predictor,get_feature_names(sy_fzrt_predictor), select_model, 2, soil_dict)\n",
    "sy_zrt_result_df = predict_top_classes(sy_zrt_data, sy_zrt_predictor,get_feature_names(sy_zrt_predictor), select_model, 2, soil_dict)\n",
    "\n",
    "tsy_sdt_result_df = predict_top_classes(tsy_sdt_data, tsy_sdt_predictor,get_feature_names(tsy_sdt_predictor), select_model, 2, soil_dict)\n",
    "tsy_fzrt_result_df = predict_top_classes(tsy_fzrt_data, tsy_fzrt_predictor,get_feature_names(tsy_fzrt_predictor), select_model, 2, soil_dict)\n",
    "tsy_zrt_result_df = predict_top_classes(tsy_zrt_data, tsy_zrt_predictor,get_feature_names(tsy_zrt_predictor), select_model, 2, soil_dict)\n",
    "\n",
    "hnt_sdt_result_df = predict_top_classes(hnt_sdt_data, hnt_sdt_predictor,get_feature_names(hnt_sdt_predictor), select_model, 2, soil_dict)\n",
    "hnt_fzrt_result_df = predict_top_classes(hnt_fzrt_data, hnt_fzrt_predictor,get_feature_names(hnt_fzrt_predictor), select_model, 2, soil_dict)\n",
    "hnt_zrt_result_df = predict_top_classes(hnt_zrt_data, hnt_zrt_predictor,get_feature_names(hnt_zrt_predictor), select_model, 2, soil_dict)\n",
    "\n",
    "nyy_sdt_result_df = predict_top_classes(nyy_sdt_data, nyy_sdt_predictor,get_feature_names(nyy_sdt_predictor), select_model, 2, soil_dict)\n",
    "nyy_fzrt_result_df = predict_top_classes(nyy_fzrt_data, nyy_fzrt_predictor,get_feature_names(nyy_fzrt_predictor), select_model, 2, soil_dict)\n",
    "nyy_zrt_result_df = predict_top_classes(nyy_zrt_data, nyy_zrt_predictor,get_feature_names(nyy_zrt_predictor), select_model, 2, soil_dict)\n",
    "\n",
    "zhsyy_sdt_result_df = predict_top_classes(zhsyy_sdt_data, zhsyy_sdt_predictor,get_feature_names(zhsyy_sdt_predictor), select_model, 2, soil_dict)\n",
    "zhsyy_fzrt_result_df = predict_top_classes(zhsyy_fzrt_data, zhsyy_fzrt_predictor,get_feature_names(zhsyy_fzrt_predictor), select_model, 2, soil_dict)\n",
    "zhsyy_zrt_result_df = predict_top_classes(zhsyy_zrt_data, zhsyy_zrt_predictor,get_feature_names(zhsyy_zrt_predictor), select_model, 2, soil_dict)\n",
    "\n",
    "hlcjw_sdt_result_df = predict_top_classes(hlcjw_sdt_data, hlcjw_sdt_predictor,get_feature_names(hlcjw_sdt_predictor), select_model, 2, soil_dict)\n",
    "hlcjw_fzrt_result_df = predict_top_classes(hlcjw_fzrt_data, hlcjw_fzrt_predictor,get_feature_names(hlcjw_fzrt_predictor), select_model, 2, soil_dict)\n",
    "hlcjw_zrt_result_df = predict_top_classes(hlcjw_zrt_data, hlcjw_fzrt_predictor,get_feature_names(hlcjw_fzrt_predictor), select_model, 2, soil_dict)\n",
    "\n",
    "syy_sdt_result_df = predict_top_classes(syy_sdt_data, syy_sdt_predictor,get_feature_names(syy_sdt_predictor), select_model, 2, soil_dict)\n",
    "syy_fzrt_result_df = predict_top_classes(syy_fzrt_data, syy_fzrt_predictor,get_feature_names(syy_fzrt_predictor), select_model, 2, soil_dict)\n",
    "syy_zrt_result_df = predict_top_classes(syy_zrt_data, syy_zrt_predictor,get_feature_names(syy_zrt_predictor), select_model, 2, soil_dict)"
   ]
  },
  {
   "cell_type": "code",
   "execution_count": 50,
   "metadata": {},
   "outputs": [],
   "source": [
    "# 将所有的DataFrame放入一个列表中\n",
    "dfs = [\n",
    "    sy_sdt_result_df, sy_fzrt_result_df, sy_zrt_result_df,\n",
    "    tsy_sdt_result_df, tsy_fzrt_result_df, tsy_zrt_result_df,\n",
    "    hnt_sdt_result_df, hnt_fzrt_result_df, hnt_zrt_result_df,\n",
    "    nyy_sdt_result_df, nyy_fzrt_result_df, nyy_zrt_result_df,\n",
    "    zhsyy_sdt_result_df, zhsyy_fzrt_result_df, zhsyy_zrt_result_df,\n",
    "    hlcjw_sdt_result_df,hlcjw_fzrt_result_df, hlcjw_zrt_result_df,\n",
    "    syy_sdt_result_df, syy_fzrt_result_df, syy_zrt_result_df\n",
    "]\n",
    "\n",
    "# 使用pd.concat合并所有的DataFrame\n",
    "result_df = pd.concat(dfs, ignore_index=True)\n"
   ]
  },
  {
   "cell_type": "code",
   "execution_count": 51,
   "metadata": {},
   "outputs": [
    {
     "data": {
      "text/plain": [
       "Index(['FID', 'DLBM', 'DLMC', 'BZ', 'DLDM', 'DLDMN', 'gridcode', 'TDLYLX',\n",
       "       'MZMC', 'analytical_hillshading_MEAN',\n",
       "       ...\n",
       "       'valley_depth_MEAN', 'valley_depth', 'vari_MEAN', 'vari', 'Class1',\n",
       "       'Class2', 'Prob1', 'Prob2', 'Entropy', 'Uncertainty'],\n",
       "      dtype='object', length=158)"
      ]
     },
     "execution_count": 51,
     "metadata": {},
     "output_type": "execute_result"
    }
   ],
   "source": [
    "result_df.columns"
   ]
  },
  {
   "cell_type": "code",
   "execution_count": 52,
   "metadata": {},
   "outputs": [],
   "source": [
    "# 获取指定列\n",
    "result_df = result_df[['FID','Class1', 'Class2', 'Prob1','Prob2', 'Entropy', 'Uncertainty']]"
   ]
  },
  {
   "cell_type": "code",
   "execution_count": 53,
   "metadata": {},
   "outputs": [],
   "source": [
    "search_dict = {'腐中层壤质黄色石灰土': ['石灰土', '黄色石灰土', '壤质黄色石灰土', '腐中层壤质黄色石灰土'], '中层壤质黄色石灰土': ['石灰土', '黄色石灰土', '壤质黄色石灰土', '中层壤质黄色石灰土'], '腐中层红泥质黄壤': ['黄壤', '典型黄壤', '红泥质黄壤', '腐中层红泥质黄壤'], '腐薄层硅质黄壤': ['黄壤', '典型黄壤', '硅质黄壤', '腐薄层硅质黄壤'], '腐中层砂泥质黄壤': ['黄壤', '典型黄壤', '砂泥质黄壤', '腐中层砂泥质黄壤'], '腐中层泥质黄壤': ['黄壤', '典型黄壤', '泥质黄壤', '腐中层泥质黄壤'], '腐中层壤质中性紫色土': ['紫色土', '中性紫色土', '壤质中性紫色土', '腐中层壤质中性紫色土'], '腐薄层壤质中性紫色土': ['紫色土', '中性紫色土', '壤质中性紫色土', '腐薄层壤质中性紫色土'], '中层壤质中性紫色土': ['紫色土', '中性紫色土', '黏质中性紫色土', '中层壤质中性紫色土'], '腐薄层壤质黄色石灰土': ['石灰土', '黄色石灰土', '壤质黄色石灰土', '腐薄层壤质黄色石灰土'], '腐薄层砂泥质黄壤': ['黄壤', '典型黄壤', '砂泥质黄壤', '腐薄层砂泥质黄壤'], '腐薄层红泥质黄壤': ['黄壤', '典型黄壤', '红泥质黄壤', '腐薄层红泥质黄壤'], '腐薄层泥质黄壤': ['黄壤', '典型黄壤', '泥质黄壤', '腐薄层泥质黄壤'], '薄层壤质黄色石灰土': ['石灰土', '黄色石灰土', '壤质黄色石灰土', '薄层壤质黄色石灰土'], '腐薄层壤质酸性紫色土': ['紫色土', '酸性紫色土', '壤质酸性紫色土', '腐薄层壤质酸性紫色土'], '腐厚层壤质黄色石灰土': ['石灰土', '黄色石灰土', '壤质黄色石灰土', '腐厚层壤质黄色石灰土'], '腐厚层红泥质黄壤': ['黄壤', '典型黄壤', '红泥质黄壤', '腐厚层红泥质黄壤'], '腐厚层砂泥质黄壤': ['黄壤', '典型黄壤', '砂泥质黄壤', '腐厚层砂泥质黄壤'], '腐厚层泥质黄壤': ['黄壤', '典型黄壤', '泥质黄壤', '腐厚层泥质黄壤'], '腐厚层壤质中性紫色土': ['紫色土', '中性紫色土', '壤质中性紫色土', '腐厚层壤质中性紫色土'], '厚层壤质中性紫色土': ['紫色土', '中性紫色土', '壤质中性紫色土', '厚层壤质中性紫色土'], '厚层壤质黄色石灰土': ['石灰土', '黄色石灰土', '壤质黄色石灰土', '厚层壤质黄色石灰土'], '薄层灰泥质黄壤': ['黄壤', '典型黄壤', '灰泥质黄壤', '薄层灰泥质黄壤'], '腐中层灰泥质黄壤': ['黄壤', '典型黄壤', '灰泥质黄壤', '腐中层灰泥质黄壤'], '腐中层硅质黄壤': ['黄壤', '典型黄壤', '硅质黄壤', '腐中层硅质黄壤'], '腐薄层灰泥质黄壤': ['黄壤', '典型黄壤', '灰泥质黄壤', '腐薄层灰泥质黄壤'], '中层灰泥质黄壤': ['黄壤', '典型黄壤', '灰泥质黄壤', '中层灰泥质黄壤'], '中层泥质黄壤': ['黄壤', '典型黄壤', '泥质黄壤', '中层泥质黄壤'], '腐厚层硅质黄壤': ['黄壤', '典型黄壤', '硅质黄壤', '腐厚层硅质黄壤'], '腐厚层灰泥质黄壤': ['黄壤', '典型黄壤', '灰泥质黄壤', '腐厚层灰泥质黄壤'], '中层红泥质黄壤': ['黄壤', '典型黄壤', '红泥质黄壤', '中层红泥质黄壤'], '中层砂质灰潮土': ['潮土', '灰潮土', '砂质灰潮土', '中层砂质灰潮土'], '中层砂泥质黄壤': ['黄壤', '典型黄壤', '砂泥质黄壤', '中层砂泥质黄壤'], '薄层泥质黄壤': ['黄壤', '典型黄壤', '泥质黄壤', '薄层泥质黄壤'], '中层黏质黄色石灰土': ['石灰土', '黄色石灰土', '黏质黄色石灰土', '中层黏质黄色石灰土'], '腐中层黏质黄色石灰土': ['石灰土', '黄色石灰土', '黏质黄色石灰土', '腐中层黏质黄色石灰土'], '薄层红泥质黄壤': ['黄壤', '典型黄壤', '红泥质黄壤', '薄层红泥质黄壤'], '薄层硅质黄壤': ['黄壤', '典型黄壤', '硅质黄壤', '薄层硅质黄壤'], '薄层壤质中性紫色土': ['紫色土', '中性紫色土', '壤质中性紫色土', '薄层壤质中性紫色土'], '腐中层壤质酸性紫色土': ['紫色土', '酸性紫色土', '壤质酸性紫色土', '腐中层壤质酸性紫色土'], '厚层红泥质黄壤': ['黄壤', '典型黄壤', '红泥质黄壤', '厚层红泥质黄壤'], '厚层砂泥质黄壤': ['黄壤', '典型黄壤', '砂泥质黄壤', '厚层砂泥质黄壤'], '厚层泥质黄壤': ['黄壤', '典型黄壤', '泥质黄壤', '厚层泥质黄壤'], '石灰泥田': ['水稻土', '潴育水稻土', '灰泥田', '石灰泥田'], '黄红泥田': ['水稻土', '潴育水稻土', '红泥田', '黄红泥田'], '潮泥砂田': ['水稻土', '潴育水稻土', '潮泥砂田', '潮泥砂田'], '潮泥田': ['水稻土', '潴育水稻土', '潮泥田', '潮泥田'], '黄渗红泥田': ['水稻土', '渗育水稻土', '渗红泥田', '黄渗红泥田'], '紫泥田': ['水稻土', '潴育水稻土', '紫泥田', '紫泥田'], '浅石灰泥田': ['水稻土', '淹育水稻土', '浅灰泥田', '浅石灰泥田'], '渗石灰泥田': ['水稻土', '渗育水稻土', '渗灰泥田', '渗石灰泥田'], '黄渗白粉泥田': ['水稻土', '渗育水稻土', '渗白粉泥田', '黄渗白粉泥田'], '黄渗砂泥田': ['水稻土', '渗育水稻土', '渗砂泥田', '黄渗砂泥田'], '渗紫泥田': ['水稻土', '渗育水稻土', '渗紫泥田', '渗紫泥田'], '黄砂泥田': ['水稻土', '潴育水稻土', '砂泥田', '黄砂泥田'], '黄鳝泥田': ['水稻土', '潴育水稻土', '鳝泥田', '黄鳝泥田'], '腐薄层黏质黄色石灰土': ['石灰土', '黄色石灰土', '黏质黄色石灰土', '腐薄层黏质黄色石灰土'], '黄灰泥田': ['水稻土', '潴育水稻土', '灰泥田', '黄灰泥田'], '黄渗鳝泥田': ['水稻土', '渗育水稻土', '渗鳝泥田', '黄渗鳝泥田'], '厚层灰泥质黄壤': ['黄壤', '典型黄壤', '灰泥质黄壤', '厚层灰泥质黄壤'], '厚层硅质黄壤': ['黄壤', '典型黄壤', '硅质黄壤', '厚层硅质黄壤'], '中层硅质黄壤': ['黄壤', '典型黄壤', '硅质黄壤', '中层硅质黄壤'], '腐厚层黏质黄色石灰土': ['石灰土', '黄色石灰土', '黏质黄色石灰土', '腐厚层黏质黄色石灰土'], '黄白粉泥田': ['水稻土', '潴育水稻土', '白粉泥田', '黄白粉泥田'], '黄浅砂泥田': ['水稻土', '淹育水稻土', '浅砂泥田', '黄浅砂泥田'], '黄渗灰泥田': ['水稻土', '渗育水稻土', '渗灰泥田', '黄渗灰泥田'], '黄浅白粉泥田': ['水稻土', '淹育水稻土', '浅白粉泥田', '黄浅白粉泥田'], '薄层砂泥质黄壤': ['黄壤', '典型黄壤', '砂泥质黄壤', '薄层砂泥质黄壤'], '腐薄层硅质黄棕壤': ['黄棕壤', '暗黄棕壤', '硅质暗黄棕壤', '腐薄层硅质黄棕壤'], '腐厚层泥质黄棕壤': ['黄棕壤', '暗黄棕壤', '泥质暗黄棕壤', '腐厚层泥质黄棕壤'], '腐中层硅质黄棕壤': ['黄棕壤', '暗黄棕壤', '硅质暗黄棕壤', '腐中层硅质黄棕壤'], '薄层泥质黄棕壤': ['黄棕壤', '暗黄棕壤', '泥质暗黄棕壤', '薄层泥质黄棕壤'], '腐薄层泥质黄棕壤': ['黄棕壤', '暗黄棕壤', '泥质暗黄棕壤', '腐薄层泥质黄棕壤'], '腐中层泥质黄棕壤': ['黄棕壤', '暗黄棕壤', '泥质暗黄棕壤', '腐中层泥质黄棕壤'], '黄浅鳝泥田': ['水稻土', '淹育水稻土', '浅鳝泥田', '黄浅鳝泥田'], '厚层砂质灰潮土': ['潮土', '灰潮土', '砂质灰潮土', '厚层砂质灰潮土'], '厚层黏质黄色石灰土': ['石灰土', '黄色石灰土', '黏质黄色石灰土', '厚层黏质黄色石灰土'], '黄石灰泥田': ['水稻土', '脱潜水稻土', '黄灰泥田', '黄石灰泥田'], '薄层壤质酸性紫色土': ['紫色土', '酸性紫色土', '壤质酸性紫色土', '薄层壤质酸性紫色土'], '酸紫泥田': ['水稻土', '潴育水稻土', '紫泥田', '酸紫泥田'], '酸渗紫泥田': ['水稻土', '渗育水稻土', '渗紫泥田', '酸渗紫泥田'], '黄浅灰泥田': ['水稻土', '淹育水稻土', '浅灰泥田', '黄浅灰泥田'], '漂石灰泥田': ['水稻土', '漂洗水稻土', '漂灰泥田', '漂石灰泥田'], '薄层黏质黄色石灰土': ['石灰土', '黄色石灰土', '黏质黄色石灰土', '薄层黏质黄色石灰土'], '腐薄层灰泥质石灰性粗骨土': ['粗骨土', '石灰性粗骨土', '灰泥质石灰性粗骨土', '腐薄层灰泥质石灰性粗骨土'], '薄层灰泥质石灰性粗骨土': ['粗骨土', '石灰性粗骨土', '灰泥质石灰性粗骨土', '薄层灰泥质石灰性粗骨土'], '薄层泥质酸性粗骨土': ['粗骨土', '酸性粗骨土', '泥质酸性粗骨土', '薄层泥质酸性粗骨土'], '腐薄层硅质酸性粗骨土': ['粗骨土', '酸性粗骨土', '硅质酸性粗骨土', '腐薄层硅质酸性粗骨土'], '腐中层黏质中性紫色土': ['紫色土', '中性紫色土', '黏质中性紫色土', '腐中层黏质中性紫色土']}\n"
   ]
  },
  {
   "cell_type": "code",
   "execution_count": 54,
   "metadata": {},
   "outputs": [],
   "source": [
    "soil_type_dict = {}\n",
    "for key in search_dict:\n",
    "    soil_type_dict[key] = {\"土类\":search_dict[key][0],\"亚类\":search_dict[key][1],\"土属\":search_dict[key][2]}\n"
   ]
  },
  {
   "cell_type": "code",
   "execution_count": 55,
   "metadata": {},
   "outputs": [],
   "source": [
    "# 使用 apply 方法结合 lambda 函数来获取对应的 '土类' 值\n",
    "result_df = result_df.copy()\n",
    "result_df['Class1_tl'] = result_df['Class1'].apply(lambda x: soil_type_dict.get(x, {}).get('土类', None))\n",
    "result_df['Class1_yl'] = result_df['Class1'].apply(lambda x: soil_type_dict.get(x, {}).get('亚类', None))\n",
    "result_df['Class1_ts'] = result_df['Class1'].apply(lambda x: soil_type_dict.get(x, {}).get('土属', None))\n"
   ]
  },
  {
   "cell_type": "code",
   "execution_count": 56,
   "metadata": {},
   "outputs": [
    {
     "data": {
      "text/html": [
       "<div>\n",
       "<style scoped>\n",
       "    .dataframe tbody tr th:only-of-type {\n",
       "        vertical-align: middle;\n",
       "    }\n",
       "\n",
       "    .dataframe tbody tr th {\n",
       "        vertical-align: top;\n",
       "    }\n",
       "\n",
       "    .dataframe thead th {\n",
       "        text-align: right;\n",
       "    }\n",
       "</style>\n",
       "<table border=\"1\" class=\"dataframe\">\n",
       "  <thead>\n",
       "    <tr style=\"text-align: right;\">\n",
       "      <th></th>\n",
       "      <th>FID</th>\n",
       "      <th>Class1</th>\n",
       "      <th>Class2</th>\n",
       "      <th>Prob1</th>\n",
       "      <th>Prob2</th>\n",
       "      <th>Entropy</th>\n",
       "      <th>Uncertainty</th>\n",
       "      <th>Class1_tl</th>\n",
       "      <th>Class1_yl</th>\n",
       "      <th>Class1_ts</th>\n",
       "    </tr>\n",
       "  </thead>\n",
       "  <tbody>\n",
       "    <tr>\n",
       "      <th>0</th>\n",
       "      <td>2240</td>\n",
       "      <td>黄白粉泥田</td>\n",
       "      <td>黄渗白粉泥田</td>\n",
       "      <td>0.466667</td>\n",
       "      <td>0.460000</td>\n",
       "      <td>0.904469</td>\n",
       "      <td>0.225191</td>\n",
       "      <td>水稻土</td>\n",
       "      <td>潴育水稻土</td>\n",
       "      <td>白粉泥田</td>\n",
       "    </tr>\n",
       "    <tr>\n",
       "      <th>1</th>\n",
       "      <td>2242</td>\n",
       "      <td>黄白粉泥田</td>\n",
       "      <td>黄渗白粉泥田</td>\n",
       "      <td>0.496667</td>\n",
       "      <td>0.443333</td>\n",
       "      <td>0.877012</td>\n",
       "      <td>0.238211</td>\n",
       "      <td>水稻土</td>\n",
       "      <td>潴育水稻土</td>\n",
       "      <td>白粉泥田</td>\n",
       "    </tr>\n",
       "    <tr>\n",
       "      <th>2</th>\n",
       "      <td>2245</td>\n",
       "      <td>黄白粉泥田</td>\n",
       "      <td>黄渗白粉泥田</td>\n",
       "      <td>0.500000</td>\n",
       "      <td>0.400000</td>\n",
       "      <td>0.943348</td>\n",
       "      <td>0.208167</td>\n",
       "      <td>水稻土</td>\n",
       "      <td>潴育水稻土</td>\n",
       "      <td>白粉泥田</td>\n",
       "    </tr>\n",
       "    <tr>\n",
       "      <th>3</th>\n",
       "      <td>2246</td>\n",
       "      <td>黄白粉泥田</td>\n",
       "      <td>黄渗白粉泥田</td>\n",
       "      <td>0.636667</td>\n",
       "      <td>0.296667</td>\n",
       "      <td>0.828491</td>\n",
       "      <td>0.286764</td>\n",
       "      <td>水稻土</td>\n",
       "      <td>潴育水稻土</td>\n",
       "      <td>白粉泥田</td>\n",
       "    </tr>\n",
       "    <tr>\n",
       "      <th>4</th>\n",
       "      <td>2247</td>\n",
       "      <td>黄白粉泥田</td>\n",
       "      <td>黄渗白粉泥田</td>\n",
       "      <td>0.536667</td>\n",
       "      <td>0.326667</td>\n",
       "      <td>0.971485</td>\n",
       "      <td>0.200083</td>\n",
       "      <td>水稻土</td>\n",
       "      <td>潴育水稻土</td>\n",
       "      <td>白粉泥田</td>\n",
       "    </tr>\n",
       "    <tr>\n",
       "      <th>...</th>\n",
       "      <td>...</td>\n",
       "      <td>...</td>\n",
       "      <td>...</td>\n",
       "      <td>...</td>\n",
       "      <td>...</td>\n",
       "      <td>...</td>\n",
       "      <td>...</td>\n",
       "      <td>...</td>\n",
       "      <td>...</td>\n",
       "      <td>...</td>\n",
       "    </tr>\n",
       "    <tr>\n",
       "      <th>192096</th>\n",
       "      <td>191656</td>\n",
       "      <td>腐中层砂泥质黄壤</td>\n",
       "      <td>腐薄层砂泥质黄壤</td>\n",
       "      <td>0.613333</td>\n",
       "      <td>0.286667</td>\n",
       "      <td>0.888256</td>\n",
       "      <td>0.259829</td>\n",
       "      <td>黄壤</td>\n",
       "      <td>典型黄壤</td>\n",
       "      <td>砂泥质黄壤</td>\n",
       "    </tr>\n",
       "    <tr>\n",
       "      <th>192097</th>\n",
       "      <td>191657</td>\n",
       "      <td>腐薄层砂泥质黄壤</td>\n",
       "      <td>腐中层砂泥质黄壤</td>\n",
       "      <td>0.553333</td>\n",
       "      <td>0.426667</td>\n",
       "      <td>0.769114</td>\n",
       "      <td>0.278648</td>\n",
       "      <td>黄壤</td>\n",
       "      <td>典型黄壤</td>\n",
       "      <td>砂泥质黄壤</td>\n",
       "    </tr>\n",
       "    <tr>\n",
       "      <th>192098</th>\n",
       "      <td>191691</td>\n",
       "      <td>腐中层砂泥质黄壤</td>\n",
       "      <td>腐薄层砂泥质黄壤</td>\n",
       "      <td>0.676667</td>\n",
       "      <td>0.210000</td>\n",
       "      <td>0.838801</td>\n",
       "      <td>0.301238</td>\n",
       "      <td>黄壤</td>\n",
       "      <td>典型黄壤</td>\n",
       "      <td>砂泥质黄壤</td>\n",
       "    </tr>\n",
       "    <tr>\n",
       "      <th>192099</th>\n",
       "      <td>191699</td>\n",
       "      <td>腐中层砂泥质黄壤</td>\n",
       "      <td>腐薄层砂泥质黄壤</td>\n",
       "      <td>0.680000</td>\n",
       "      <td>0.253333</td>\n",
       "      <td>0.790626</td>\n",
       "      <td>0.314395</td>\n",
       "      <td>黄壤</td>\n",
       "      <td>典型黄壤</td>\n",
       "      <td>砂泥质黄壤</td>\n",
       "    </tr>\n",
       "    <tr>\n",
       "      <th>192100</th>\n",
       "      <td>191712</td>\n",
       "      <td>腐中层砂泥质黄壤</td>\n",
       "      <td>腐薄层砂泥质黄壤</td>\n",
       "      <td>0.696667</td>\n",
       "      <td>0.206667</td>\n",
       "      <td>0.803510</td>\n",
       "      <td>0.319427</td>\n",
       "      <td>黄壤</td>\n",
       "      <td>典型黄壤</td>\n",
       "      <td>砂泥质黄壤</td>\n",
       "    </tr>\n",
       "  </tbody>\n",
       "</table>\n",
       "<p>192101 rows × 10 columns</p>\n",
       "</div>"
      ],
      "text/plain": [
       "           FID    Class1    Class2     Prob1     Prob2   Entropy  Uncertainty  \\\n",
       "0         2240     黄白粉泥田    黄渗白粉泥田  0.466667  0.460000  0.904469     0.225191   \n",
       "1         2242     黄白粉泥田    黄渗白粉泥田  0.496667  0.443333  0.877012     0.238211   \n",
       "2         2245     黄白粉泥田    黄渗白粉泥田  0.500000  0.400000  0.943348     0.208167   \n",
       "3         2246     黄白粉泥田    黄渗白粉泥田  0.636667  0.296667  0.828491     0.286764   \n",
       "4         2247     黄白粉泥田    黄渗白粉泥田  0.536667  0.326667  0.971485     0.200083   \n",
       "...        ...       ...       ...       ...       ...       ...          ...   \n",
       "192096  191656  腐中层砂泥质黄壤  腐薄层砂泥质黄壤  0.613333  0.286667  0.888256     0.259829   \n",
       "192097  191657  腐薄层砂泥质黄壤  腐中层砂泥质黄壤  0.553333  0.426667  0.769114     0.278648   \n",
       "192098  191691  腐中层砂泥质黄壤  腐薄层砂泥质黄壤  0.676667  0.210000  0.838801     0.301238   \n",
       "192099  191699  腐中层砂泥质黄壤  腐薄层砂泥质黄壤  0.680000  0.253333  0.790626     0.314395   \n",
       "192100  191712  腐中层砂泥质黄壤  腐薄层砂泥质黄壤  0.696667  0.206667  0.803510     0.319427   \n",
       "\n",
       "       Class1_tl Class1_yl Class1_ts  \n",
       "0            水稻土     潴育水稻土      白粉泥田  \n",
       "1            水稻土     潴育水稻土      白粉泥田  \n",
       "2            水稻土     潴育水稻土      白粉泥田  \n",
       "3            水稻土     潴育水稻土      白粉泥田  \n",
       "4            水稻土     潴育水稻土      白粉泥田  \n",
       "...          ...       ...       ...  \n",
       "192096        黄壤      典型黄壤     砂泥质黄壤  \n",
       "192097        黄壤      典型黄壤     砂泥质黄壤  \n",
       "192098        黄壤      典型黄壤     砂泥质黄壤  \n",
       "192099        黄壤      典型黄壤     砂泥质黄壤  \n",
       "192100        黄壤      典型黄壤     砂泥质黄壤  \n",
       "\n",
       "[192101 rows x 10 columns]"
      ]
     },
     "execution_count": 56,
     "metadata": {},
     "output_type": "execute_result"
    }
   ],
   "source": [
    "result_df"
   ]
  },
  {
   "cell_type": "code",
   "execution_count": 57,
   "metadata": {},
   "outputs": [],
   "source": [
    "# 保存数据\n",
    "result_df.to_csv(os.path.join(result_path, f'prediction_class_{select_model}_{get_dtime()}.csv'),index=False)"
   ]
  },
  {
   "cell_type": "code",
   "execution_count": 59,
   "metadata": {},
   "outputs": [],
   "source": [
    "\n",
    "\n",
    "def analyze_class_distribution(result_df):\n",
    "    # 计算 Class1 的值计数\n",
    "    class1_counts = result_df['Class1'].value_counts()\n",
    "    \n",
    "    # 计算 Class1 和 Class1_ts 的唯一值数量\n",
    "    class1_unique_count = len(result_df['Class1'].unique())\n",
    "    class1_ts_unique_count = len(result_df['Class1_ts'].unique())\n",
    "    \n",
    "    # 创建一个包含所有信息的 DataFrame\n",
    "    summary_df = pd.DataFrame({\n",
    "        'Class': class1_counts.index,\n",
    "        'Count': class1_counts.values\n",
    "    })\n",
    "    \n",
    "    # 添加百分比列\n",
    "    summary_df['Percentage'] = summary_df['Count'] / summary_df['Count'].sum() * 100\n",
    "    \n",
    "    # 排序并重置索引\n",
    "    summary_df = summary_df.sort_values('Count', ascending=False).reset_index(drop=True)\n",
    "    \n",
    "    \n",
    "    return summary_df\n",
    "\n",
    "# 使用示例\n",
    "view_df = analyze_class_distribution(result_df)"
   ]
  },
  {
   "cell_type": "code",
   "execution_count": 60,
   "metadata": {},
   "outputs": [
    {
     "data": {
      "text/html": [
       "<div>\n",
       "<style scoped>\n",
       "    .dataframe tbody tr th:only-of-type {\n",
       "        vertical-align: middle;\n",
       "    }\n",
       "\n",
       "    .dataframe tbody tr th {\n",
       "        vertical-align: top;\n",
       "    }\n",
       "\n",
       "    .dataframe thead th {\n",
       "        text-align: right;\n",
       "    }\n",
       "</style>\n",
       "<table border=\"1\" class=\"dataframe\">\n",
       "  <thead>\n",
       "    <tr style=\"text-align: right;\">\n",
       "      <th></th>\n",
       "      <th>Class</th>\n",
       "      <th>Count</th>\n",
       "      <th>Percentage</th>\n",
       "    </tr>\n",
       "  </thead>\n",
       "  <tbody>\n",
       "    <tr>\n",
       "      <th>0</th>\n",
       "      <td>腐中层壤质黄色石灰土</td>\n",
       "      <td>28588</td>\n",
       "      <td>14.881755</td>\n",
       "    </tr>\n",
       "    <tr>\n",
       "      <th>1</th>\n",
       "      <td>腐中层灰泥质黄壤</td>\n",
       "      <td>13671</td>\n",
       "      <td>7.116569</td>\n",
       "    </tr>\n",
       "    <tr>\n",
       "      <th>2</th>\n",
       "      <td>中层壤质黄色石灰土</td>\n",
       "      <td>13650</td>\n",
       "      <td>7.105637</td>\n",
       "    </tr>\n",
       "    <tr>\n",
       "      <th>3</th>\n",
       "      <td>腐薄层壤质黄色石灰土</td>\n",
       "      <td>12582</td>\n",
       "      <td>6.549680</td>\n",
       "    </tr>\n",
       "    <tr>\n",
       "      <th>4</th>\n",
       "      <td>中层红泥质黄壤</td>\n",
       "      <td>11671</td>\n",
       "      <td>6.075450</td>\n",
       "    </tr>\n",
       "    <tr>\n",
       "      <th>...</th>\n",
       "      <td>...</td>\n",
       "      <td>...</td>\n",
       "      <td>...</td>\n",
       "    </tr>\n",
       "    <tr>\n",
       "      <th>81</th>\n",
       "      <td>腐薄层硅质黄棕壤</td>\n",
       "      <td>32</td>\n",
       "      <td>0.016658</td>\n",
       "    </tr>\n",
       "    <tr>\n",
       "      <th>82</th>\n",
       "      <td>漂石灰泥田</td>\n",
       "      <td>29</td>\n",
       "      <td>0.015096</td>\n",
       "    </tr>\n",
       "    <tr>\n",
       "      <th>83</th>\n",
       "      <td>腐中层泥质黄棕壤</td>\n",
       "      <td>24</td>\n",
       "      <td>0.012493</td>\n",
       "    </tr>\n",
       "    <tr>\n",
       "      <th>84</th>\n",
       "      <td>腐中层黏质中性紫色土</td>\n",
       "      <td>24</td>\n",
       "      <td>0.012493</td>\n",
       "    </tr>\n",
       "    <tr>\n",
       "      <th>85</th>\n",
       "      <td>腐薄层硅质酸性粗骨土</td>\n",
       "      <td>16</td>\n",
       "      <td>0.008329</td>\n",
       "    </tr>\n",
       "  </tbody>\n",
       "</table>\n",
       "<p>86 rows × 3 columns</p>\n",
       "</div>"
      ],
      "text/plain": [
       "         Class  Count  Percentage\n",
       "0   腐中层壤质黄色石灰土  28588   14.881755\n",
       "1     腐中层灰泥质黄壤  13671    7.116569\n",
       "2    中层壤质黄色石灰土  13650    7.105637\n",
       "3   腐薄层壤质黄色石灰土  12582    6.549680\n",
       "4      中层红泥质黄壤  11671    6.075450\n",
       "..         ...    ...         ...\n",
       "81    腐薄层硅质黄棕壤     32    0.016658\n",
       "82       漂石灰泥田     29    0.015096\n",
       "83    腐中层泥质黄棕壤     24    0.012493\n",
       "84  腐中层黏质中性紫色土     24    0.012493\n",
       "85  腐薄层硅质酸性粗骨土     16    0.008329\n",
       "\n",
       "[86 rows x 3 columns]"
      ]
     },
     "execution_count": 60,
     "metadata": {},
     "output_type": "execute_result"
    }
   ],
   "source": [
    "view_df"
   ]
  },
  {
   "cell_type": "code",
   "execution_count": 61,
   "metadata": {},
   "outputs": [
    {
     "data": {
      "image/png": "[encoded data removed]",
      "text/plain": [
       "<Figure size 640x480 with 1 Axes>"
      ]
     },
     "metadata": {},
     "output_type": "display_data"
    },
    {
     "name": "stdout",
     "output_type": "stream",
     "text": [
      "分界值: 1.5484870263804666\n"
     ]
    }
   ],
   "source": [
    "import numpy as np\n",
    "import pandas as pd\n",
    "import matplotlib.pyplot as plt\n",
    "\n",
    "# 提取熵值\n",
    "entropy = result_df['Entropy']\n",
    "\n",
    "# 计算熵的均值和标准差\n",
    "entropy_mean = entropy.mean()\n",
    "entropy_std = entropy.std()\n",
    "entropy_threshold = entropy_mean + entropy_std\n",
    "\n",
    "# 绘制熵的分布图\n",
    "plt.hist(entropy, bins=50, alpha=0.75, label='Entropy')\n",
    "plt.xlabel('Entropy')\n",
    "plt.ylabel('Frequency')\n",
    "plt.title('Entropy Distribution')\n",
    "plt.axvline(entropy_threshold, color='r', linestyle='dashed', linewidth=2, label='Threshold')\n",
    "plt.legend()\n",
    "plt.show()\n",
    "\n",
    "# 可信的预测结果\n",
    "reliable_predictions = result_df[entropy <= entropy_threshold]\n",
    "\n",
    "# 输出结果\n",
    "print(f\"分界值: {entropy_threshold}\")\n"
   ]
  },
  {
   "cell_type": "code",
   "execution_count": 62,
   "metadata": {},
   "outputs": [
    {
     "data": {
      "image/png": "[encoded data removed]",
      "text/plain": [
       "<Figure size 640x480 with 1 Axes>"
      ]
     },
     "metadata": {},
     "output_type": "display_data"
    },
    {
     "name": "stdout",
     "output_type": "stream",
     "text": [
      "不确定性分界值: 0.3218404839022753\n"
     ]
    }
   ],
   "source": [
    "import numpy as np\n",
    "import pandas as pd\n",
    "import matplotlib.pyplot as plt\n",
    "uncertainty = result_df['Uncertainty']\n",
    "# 计算不确定性的均值和标准差\n",
    "uncertainty_mean = uncertainty.mean()\n",
    "uncertainty_std = uncertainty.std()\n",
    "uncertainty_threshold = uncertainty_mean + uncertainty_std\n",
    "\n",
    "# 绘制不确定性的分布图\n",
    "plt.hist(uncertainty, bins=50, alpha=0.75, label='Uncertainty')\n",
    "plt.xlabel('Uncertainty')\n",
    "plt.ylabel('Frequency')\n",
    "plt.title('Uncertainty Distribution')\n",
    "plt.axvline(uncertainty_threshold, color='r', linestyle='dashed', linewidth=2, label='Threshold')\n",
    "plt.legend()\n",
    "plt.show()\n",
    "\n",
    "# 可信的预测结果\n",
    "reliable_predictions = result_df[uncertainty <= uncertainty_threshold]\n",
    "\n",
    "# 输出结果\n",
    "print(f\"不确定性分界值: {uncertainty_threshold}\")\n"
   ]
  },
  {
   "cell_type": "code",
   "execution_count": 63,
   "metadata": {},
   "outputs": [
    {
     "data": {
      "image/png": "[encoded data removed]",
      "text/plain": [
       "<Figure size 640x480 with 1 Axes>"
      ]
     },
     "metadata": {},
     "output_type": "display_data"
    },
    {
     "name": "stdout",
     "output_type": "stream",
     "text": [
      "第75百分位数分界值: 0.250953733921051\n"
     ]
    }
   ],
   "source": [
    "# 计算第75百分位数\n",
    "uncertainty_threshold_75 = np.percentile(uncertainty, 75)\n",
    "\n",
    "# 绘制不确定性的分布图\n",
    "plt.hist(uncertainty, bins=50, alpha=0.75, label='Uncertainty')\n",
    "plt.xlabel('Uncertainty')\n",
    "plt.ylabel('Frequency')\n",
    "plt.title('Uncertainty Distribution')\n",
    "plt.axvline(uncertainty_threshold_75, color='r', linestyle='dashed', linewidth=2, label='75th Percentile Threshold')\n",
    "plt.legend()\n",
    "plt.show()\n",
    "\n",
    "# 可信的预测结果\n",
    "reliable_predictions_75 = result_df[uncertainty <= uncertainty_threshold_75]\n",
    "\n",
    "# 输出结果\n",
    "print(f\"第75百分位数分界值: {uncertainty_threshold_75}\")"
   ]
  }
 ],
 "metadata": {
  "kernelspec": {
   "display_name": ".venvgis",
   "language": "python",
   "name": "python3"
  },
  "language_info": {
   "codemirror_mode": {
    "name": "ipython",
    "version": 3
   },
   "file_extension": ".py",
   "mimetype": "text/x-python",
   "name": "python",
   "nbconvert_exporter": "python",
   "pygments_lexer": "ipython3",
   "version": "3.10.11"
  }
 },
 "nbformat": 4,
 "nbformat_minor": 2
}
