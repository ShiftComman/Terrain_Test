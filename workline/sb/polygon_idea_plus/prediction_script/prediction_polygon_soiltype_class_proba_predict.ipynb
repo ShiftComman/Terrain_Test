{
 "cells": [
  {
   "cell_type": "code",
   "execution_count": 1,
   "metadata": {},
   "outputs": [],
   "source": [
    "import os\n",
    "import json\n",
    "import pandas as pd\n",
    "import numpy as np\n",
    "from autogluon.tabular import TabularPredictor\n",
    "from pykrige.ok import OrdinaryKriging\n",
    "from sklearn.metrics import r2_score\n",
    "from pyproj import Transformer\n",
    "from tqdm import tqdm\n",
    "import pickle"
   ]
  },
  {
   "cell_type": "code",
   "execution_count": 2,
   "metadata": {},
   "outputs": [],
   "source": [
    "# 获取当前日期\n",
    "def get_dtime():\n",
    "    # 例如20240516\n",
    "    import datetime\n",
    "    dtime = datetime.datetime.now().strftime('%Y%m%d')\n",
    "    return dtime"
   ]
  },
  {
   "cell_type": "code",
   "execution_count": 3,
   "metadata": {},
   "outputs": [],
   "source": [
    "# 导入autogluon模型\n",
    "model_path = r\"F:\\cache_data\\zone_ana\\sb\\modle\\autogluon_type\""
   ]
  },
  {
   "cell_type": "code",
   "execution_count": 4,
   "metadata": {},
   "outputs": [],
   "source": [
    "# 砂岩\n",
    "sy_sdt_predictor = TabularPredictor.load(os.path.join(os.path.join(model_path,'sy'),'sdt'))\n",
    "sy_fzrt_predictor = TabularPredictor.load(os.path.join(os.path.join(model_path,'sy'),'fzrt'))\n",
    "sy_zrt_predictor = TabularPredictor.load(os.path.join(os.path.join(model_path,'sy'),'zrt'))\n",
    "# 碳酸岩\n",
    "tsy_sdt_predictor = TabularPredictor.load(os.path.join(os.path.join(model_path,'tsy'),'sdt'))\n",
    "tsy_fzrt_predictor = TabularPredictor.load(os.path.join(os.path.join(model_path,'tsy'),'fzrt'))\n",
    "tsy_zrt_predictor = TabularPredictor.load(os.path.join(os.path.join(model_path,'tsy'),'zrt'))\n",
    "# 第四纪红色粘土\n",
    "hnt_sdt_predictor = TabularPredictor.load(os.path.join(os.path.join(model_path,'hnt'),'sdt'))\n",
    "hnt_fzrt_predictor = TabularPredictor.load(os.path.join(os.path.join(model_path,'hnt'),'fzrt'))\n",
    "hnt_zrt_predictor = TabularPredictor.load(os.path.join(os.path.join(model_path,'hnt'),'zrt'))\n",
    "# 泥页岩\n",
    "nyy_sdt_predictor = TabularPredictor.load(os.path.join(os.path.join(model_path,'nyy'),'sdt'))\n",
    "nyy_fzrt_predictor = TabularPredictor.load(os.path.join(os.path.join(model_path,'nyy'),'fzrt'))\n",
    "nyy_zrt_predictor = TabularPredictor.load(os.path.join(os.path.join(model_path,'nyy'),'zrt'))\n",
    "# 紫红色砂页岩\n",
    "zhsyy_sdt_predictor = TabularPredictor.load(os.path.join(os.path.join(model_path,'zhsyy'),'sdt'))\n",
    "zhsyy_fzrt_predictor = TabularPredictor.load(os.path.join(os.path.join(model_path,'zhsyy'),'fzrt'))\n",
    "zhsyy_zrt_predictor = TabularPredictor.load(os.path.join(os.path.join(model_path,'zhsyy'),'zrt'))\n",
    "# 河流冲积物\n",
    "hlcjw_sdt_predictor = TabularPredictor.load(os.path.join(os.path.join(model_path,'hlcjw'),'sdt'))\n",
    "hlcjw_fzrt_predictor = TabularPredictor.load(os.path.join(os.path.join(model_path,'hlcjw'),'fzrt'))\n",
    "# 板岩\n",
    "by_zrt_predictor = TabularPredictor.load(os.path.join(os.path.join(model_path,'by'),'zrt'))\n",
    "# 凝灰岩\n",
    "nhy_sdt_predictor = TabularPredictor.load(os.path.join(os.path.join(model_path,'nhy'),'sdt'))\n",
    "nhy_fzrt_predictor = TabularPredictor.load(os.path.join(os.path.join(model_path,'nhy'),'fzrt'))\n",
    "nhy_zrt_predictor = TabularPredictor.load(os.path.join(os.path.join(model_path,'nhy'),'zrt'))\n",
    "# 砂页岩\n",
    "syy_sdt_predictor = TabularPredictor.load(os.path.join(os.path.join(model_path,'syy'),'sdt'))\n",
    "syy_fzrt_predictor = TabularPredictor.load(os.path.join(os.path.join(model_path,'syy'),'fzrt'))\n",
    "syy_zrt_predictor = TabularPredictor.load(os.path.join(os.path.join(model_path,'syy'),'zrt'))"
   ]
  },
  {
   "cell_type": "code",
   "execution_count": 5,
   "metadata": {},
   "outputs": [
    {
     "name": "stdout",
     "output_type": "stream",
     "text": [
      "SDT ['Centroid_X', 'Centroid_Y', 'aligned_AnalyticalHillshading_MEAN', 'aligned_ChannelNetworkBaseLevel_MEAN', 'aligned_ChannelNetworkDistance_MEAN', 'aligned_ConvergenceIndex_MEAN', 'aligned_Aspect_MEAN', 'aligned_dem_MEAN', 'aligned_ETP2022_3_MEAN', 'aligned_ETP2022_8_MEAN', 'aligned_ETP2022_mean_MEAN', 'aligned_evi_MEAN', 'aligned_LS_Factor_MEAN', 'aligned_lswi_MEAN', 'aligned_mndwi_MEAN', 'aligned_ndvi_MEAN', 'aligned_ndwi_MEAN', 'aligned_NIGHT2022_MEAN', 'aligned_pca_1_MEAN', 'aligned_pca_2_MEAN', 'aligned_Plan_Curvature_MEAN', 'aligned_PRE2022_3_MEAN', 'aligned_PRE2022_8_MEAN', 'aligned_PRE2022_mean_MEAN', 'aligned_Profile_Curvature_MEAN', 'aligned_Relative_Slope_Position_MEAN', 'aligned_savi_MEAN', 'aligned_Slope_MEAN', 'aligned_TMP2022_3_MEAN', 'aligned_TMP2022_8_MEAN', 'aligned_TMP2022_mean_MEAN', 'aligned_Topographic_Wetness_Index_MEAN', 'aligned_Total_Catchment_Area_MEAN', 'aligned_Valley_Depth_MEAN', 'aligned_vari_MEAN', 'MRRTF_MEAN', 'MRVBF_MEAN', 'slope_postion_101_smooth_MAJORITY']\n",
      "FZRT ['Centroid_X', 'Centroid_Y', 'aligned_AnalyticalHillshading_MEAN', 'aligned_ChannelNetworkBaseLevel_MEAN', 'aligned_ChannelNetworkDistance_MEAN', 'aligned_ConvergenceIndex_MEAN', 'aligned_Aspect_MEAN', 'aligned_dem_MEAN', 'aligned_ETP2022_3_MEAN', 'aligned_ETP2022_8_MEAN', 'aligned_ETP2022_mean_MEAN', 'aligned_evi_MEAN', 'aligned_LS_Factor_MEAN', 'aligned_lswi_MEAN', 'aligned_mndwi_MEAN', 'aligned_ndvi_MEAN', 'aligned_ndwi_MEAN', 'aligned_NIGHT2022_MEAN', 'aligned_pca_1_MEAN', 'aligned_pca_2_MEAN', 'aligned_Plan_Curvature_MEAN', 'aligned_PRE2022_3_MEAN', 'aligned_PRE2022_8_MEAN', 'aligned_PRE2022_mean_MEAN', 'aligned_Profile_Curvature_MEAN', 'aligned_Relative_Slope_Position_MEAN', 'aligned_savi_MEAN', 'aligned_Slope_MEAN', 'aligned_TMP2022_3_MEAN', 'aligned_TMP2022_8_MEAN', 'aligned_TMP2022_mean_MEAN', 'aligned_Topographic_Wetness_Index_MEAN', 'aligned_Total_Catchment_Area_MEAN', 'aligned_Valley_Depth_MEAN', 'aligned_vari_MEAN', 'MRRTF_MEAN', 'MRVBF_MEAN', 'slope_postion_101_smooth_MAJORITY']\n",
      "ZRT ['DLMC', 'Centroid_X', 'Centroid_Y', 'aligned_AnalyticalHillshading_MEAN', 'aligned_ChannelNetworkBaseLevel_MEAN', 'aligned_ChannelNetworkDistance_MEAN', 'aligned_ConvergenceIndex_MEAN', 'aligned_Aspect_MEAN', 'aligned_dem_MEAN', 'aligned_ETP2022_3_MEAN', 'aligned_ETP2022_8_MEAN', 'aligned_ETP2022_mean_MEAN', 'aligned_evi_MEAN', 'aligned_LS_Factor_MEAN', 'aligned_lswi_MEAN', 'aligned_mndwi_MEAN', 'aligned_ndvi_MEAN', 'aligned_ndwi_MEAN', 'aligned_NIGHT2022_MEAN', 'aligned_pca_1_MEAN', 'aligned_pca_2_MEAN', 'aligned_Plan_Curvature_MEAN', 'aligned_PRE2022_3_MEAN', 'aligned_PRE2022_8_MEAN', 'aligned_PRE2022_mean_MEAN', 'aligned_Profile_Curvature_MEAN', 'aligned_Relative_Slope_Position_MEAN', 'aligned_savi_MEAN', 'aligned_Slope_MEAN', 'aligned_TMP2022_3_MEAN', 'aligned_TMP2022_8_MEAN', 'aligned_TMP2022_mean_MEAN', 'aligned_Topographic_Wetness_Index_MEAN', 'aligned_Total_Catchment_Area_MEAN', 'aligned_Valley_Depth_MEAN', 'aligned_vari_MEAN', 'MRRTF_MEAN', 'MRVBF_MEAN', 'slope_postion_101_smooth_MAJORITY']\n"
     ]
    }
   ],
   "source": [
    "# 获取特征函数\n",
    "\n",
    "def get_feature_names(predictor):\n",
    "    feature_names = predictor.feature_metadata_in.get_features()\n",
    "    return feature_names\n",
    "sdt_feature_names = syy_sdt_predictor.feature_metadata_in.get_features()\n",
    "print(\"SDT\",sdt_feature_names)\n",
    "fzrt_feature_names = syy_fzrt_predictor.feature_metadata_in.get_features()\n",
    "print(\"FZRT\",fzrt_feature_names)\n",
    "zrt_feature_names = syy_zrt_predictor.feature_metadata_in.get_features()\n",
    "print(\"ZRT\",zrt_feature_names)"
   ]
  },
  {
   "cell_type": "code",
   "execution_count": 6,
   "metadata": {},
   "outputs": [],
   "source": [
    "# 存放预测结果的路径\n",
    "result_path =  r\"F:\\cache_data\\zone_ana\\sb\\prediction_result\""
   ]
  },
  {
   "cell_type": "code",
   "execution_count": 7,
   "metadata": {},
   "outputs": [],
   "source": [
    "# 读取数据集\n",
    "feature_path = r\"F:\\cache_data\\zone_ana\\sb\\prediction_data\\result_20240905.csv\""
   ]
  },
  {
   "cell_type": "code",
   "execution_count": 42,
   "metadata": {},
   "outputs": [],
   "source": [
    "feature_df = pd.read_csv(feature_path)"
   ]
  },
  {
   "cell_type": "code",
   "execution_count": 82,
   "metadata": {},
   "outputs": [
    {
     "data": {
      "text/plain": [
       "186131"
      ]
     },
     "execution_count": 82,
     "metadata": {},
     "output_type": "execute_result"
    }
   ],
   "source": [
    "feature_df.shape[0]"
   ]
  },
  {
   "cell_type": "code",
   "execution_count": 44,
   "metadata": {},
   "outputs": [],
   "source": [
    "# 重命名列\n",
    "\n",
    "feature_df.rename(columns={'aligned_Analytical_Hillshading_MEAN': 'aligned_AnalyticalHillshading_MEAN',\n",
    "                            'aligned_Channel_Network_Base_Level_MEAN': 'aligned_ChannelNetworkBaseLevel_MEAN', \n",
    "                            'aligned_Channel_Network_Distance_MEAN': 'aligned_ChannelNetworkDistance_MEAN', \n",
    "                            'aligned_Convergence_Index_MEAN': 'aligned_ConvergenceIndex_MEAN'}, inplace=True)"
   ]
  },
  {
   "cell_type": "code",
   "execution_count": 45,
   "metadata": {},
   "outputs": [
    {
     "data": {
      "text/plain": [
       "Index(['OBJECTID', 'DLBM', 'DLMC', 'DLDM', 'MZMC', 'Centroid_X', 'Centroid_Y',\n",
       "       'aligned_Analytical_Hillshading_COUNT',\n",
       "       'aligned_Analytical_Hillshading_AREA',\n",
       "       'aligned_Analytical_Hillshading_MIN',\n",
       "       ...\n",
       "       'slope_postion_101_smooth_MAX', 'slope_postion_101_smooth_RANGE',\n",
       "       'slope_postion_101_smooth_MEAN', 'slope_postion_101_smooth_STD',\n",
       "       'slope_postion_101_smooth_SUM', 'slope_postion_101_smooth_VARIETY',\n",
       "       'slope_postion_101_smooth_MAJORITY',\n",
       "       'slope_postion_101_smooth_MINORITY', 'slope_postion_101_smooth_MEDIAN',\n",
       "       'slope_postion_101_smooth_PCT90'],\n",
       "      dtype='object', length=377)"
      ]
     },
     "execution_count": 45,
     "metadata": {},
     "output_type": "execute_result"
    }
   ],
   "source": [
    "feature_df.columns"
   ]
  },
  {
   "cell_type": "code",
   "execution_count": 46,
   "metadata": {},
   "outputs": [
    {
     "data": {
      "text/html": [
       "<div>\n",
       "<style scoped>\n",
       "    .dataframe tbody tr th:only-of-type {\n",
       "        vertical-align: middle;\n",
       "    }\n",
       "\n",
       "    .dataframe tbody tr th {\n",
       "        vertical-align: top;\n",
       "    }\n",
       "\n",
       "    .dataframe thead th {\n",
       "        text-align: right;\n",
       "    }\n",
       "</style>\n",
       "<table border=\"1\" class=\"dataframe\">\n",
       "  <thead>\n",
       "    <tr style=\"text-align: right;\">\n",
       "      <th></th>\n",
       "      <th>OBJECTID</th>\n",
       "      <th>DLBM</th>\n",
       "      <th>DLMC</th>\n",
       "      <th>DLDM</th>\n",
       "      <th>MZMC</th>\n",
       "      <th>Centroid_X</th>\n",
       "      <th>Centroid_Y</th>\n",
       "      <th>aligned_Analytical_Hillshading_COUNT</th>\n",
       "      <th>aligned_Analytical_Hillshading_AREA</th>\n",
       "      <th>aligned_Analytical_Hillshading_MIN</th>\n",
       "      <th>...</th>\n",
       "      <th>slope_postion_101_smooth_MAX</th>\n",
       "      <th>slope_postion_101_smooth_RANGE</th>\n",
       "      <th>slope_postion_101_smooth_MEAN</th>\n",
       "      <th>slope_postion_101_smooth_STD</th>\n",
       "      <th>slope_postion_101_smooth_SUM</th>\n",
       "      <th>slope_postion_101_smooth_VARIETY</th>\n",
       "      <th>slope_postion_101_smooth_MAJORITY</th>\n",
       "      <th>slope_postion_101_smooth_MINORITY</th>\n",
       "      <th>slope_postion_101_smooth_MEDIAN</th>\n",
       "      <th>slope_postion_101_smooth_PCT90</th>\n",
       "    </tr>\n",
       "  </thead>\n",
       "  <tbody>\n",
       "  </tbody>\n",
       "</table>\n",
       "<p>0 rows × 377 columns</p>\n",
       "</div>"
      ],
      "text/plain": [
       "Empty DataFrame\n",
       "Columns: [OBJECTID, DLBM, DLMC, DLDM, MZMC, Centroid_X, Centroid_Y, aligned_Analytical_Hillshading_COUNT, aligned_Analytical_Hillshading_AREA, aligned_Analytical_Hillshading_MIN, aligned_Analytical_Hillshading_MAX, aligned_Analytical_Hillshading_RANGE, aligned_AnalyticalHillshading_MEAN, aligned_Analytical_Hillshading_STD, aligned_Analytical_Hillshading_SUM, aligned_Analytical_Hillshading_MEDIAN, aligned_Analytical_Hillshading_PCT90, aligned_Aspect_COUNT, aligned_Aspect_AREA, aligned_Aspect_MIN, aligned_Aspect_MAX, aligned_Aspect_RANGE, aligned_Aspect_MEAN, aligned_Aspect_STD, aligned_Aspect_SUM, aligned_Aspect_MEDIAN, aligned_Aspect_PCT90, aligned_Channel_Network_Base_Level_COUNT, aligned_Channel_Network_Base_Level_AREA, aligned_Channel_Network_Base_Level_MIN, aligned_Channel_Network_Base_Level_MAX, aligned_Channel_Network_Base_Level_RANGE, aligned_ChannelNetworkBaseLevel_MEAN, aligned_Channel_Network_Base_Level_STD, aligned_Channel_Network_Base_Level_SUM, aligned_Channel_Network_Base_Level_MEDIAN, aligned_Channel_Network_Base_Level_PCT90, aligned_Channel_Network_Distance_COUNT, aligned_Channel_Network_Distance_AREA, aligned_Channel_Network_Distance_MIN, aligned_Channel_Network_Distance_MAX, aligned_Channel_Network_Distance_RANGE, aligned_ChannelNetworkDistance_MEAN, aligned_Channel_Network_Distance_STD, aligned_Channel_Network_Distance_SUM, aligned_Channel_Network_Distance_MEDIAN, aligned_Channel_Network_Distance_PCT90, aligned_Convergence_Index_COUNT, aligned_Convergence_Index_AREA, aligned_Convergence_Index_MIN, aligned_Convergence_Index_MAX, aligned_Convergence_Index_RANGE, aligned_ConvergenceIndex_MEAN, aligned_Convergence_Index_STD, aligned_Convergence_Index_SUM, aligned_Convergence_Index_MEDIAN, aligned_Convergence_Index_PCT90, aligned_dem_COUNT, aligned_dem_AREA, aligned_dem_MIN, aligned_dem_MAX, aligned_dem_RANGE, aligned_dem_MEAN, aligned_dem_STD, aligned_dem_SUM, aligned_dem_MEDIAN, aligned_dem_PCT90, aligned_ETP2022_3_COUNT, aligned_ETP2022_3_AREA, aligned_ETP2022_3_MIN, aligned_ETP2022_3_MAX, aligned_ETP2022_3_RANGE, aligned_ETP2022_3_MEAN, aligned_ETP2022_3_STD, aligned_ETP2022_3_SUM, aligned_ETP2022_3_MEDIAN, aligned_ETP2022_3_PCT90, aligned_ETP2022_8_COUNT, aligned_ETP2022_8_AREA, aligned_ETP2022_8_MIN, aligned_ETP2022_8_MAX, aligned_ETP2022_8_RANGE, aligned_ETP2022_8_MEAN, aligned_ETP2022_8_STD, aligned_ETP2022_8_SUM, aligned_ETP2022_8_MEDIAN, aligned_ETP2022_8_PCT90, aligned_ETP2022_mean_COUNT, aligned_ETP2022_mean_AREA, aligned_ETP2022_mean_MIN, aligned_ETP2022_mean_MAX, aligned_ETP2022_mean_RANGE, aligned_ETP2022_mean_MEAN, aligned_ETP2022_mean_STD, aligned_ETP2022_mean_SUM, aligned_ETP2022_mean_MEDIAN, aligned_ETP2022_mean_PCT90, aligned_evi_COUNT, aligned_evi_AREA, aligned_evi_MIN, ...]\n",
       "Index: []\n",
       "\n",
       "[0 rows x 377 columns]"
      ]
     },
     "execution_count": 46,
     "metadata": {},
     "output_type": "execute_result"
    }
   ],
   "source": [
    "rows_with_nan = feature_df.loc[feature_df.isnull().any(axis=1)]\n",
    "rows_with_nan"
   ]
  },
  {
   "cell_type": "code",
   "execution_count": 47,
   "metadata": {},
   "outputs": [],
   "source": [
    "# 选择数值类型的列\n",
    "numeric_cols = feature_df.select_dtypes(include=[np.float64])\n",
    "\n",
    "# 计算数值列的均值\n",
    "mean_values = numeric_cols.mean()\n",
    "\n",
    "# 用均值填充数值列的空值\n",
    "feature_df[numeric_cols.columns] = numeric_cols.fillna(mean_values)"
   ]
  },
  {
   "cell_type": "code",
   "execution_count": 48,
   "metadata": {},
   "outputs": [
    {
     "data": {
      "text/html": [
       "<div>\n",
       "<style scoped>\n",
       "    .dataframe tbody tr th:only-of-type {\n",
       "        vertical-align: middle;\n",
       "    }\n",
       "\n",
       "    .dataframe tbody tr th {\n",
       "        vertical-align: top;\n",
       "    }\n",
       "\n",
       "    .dataframe thead th {\n",
       "        text-align: right;\n",
       "    }\n",
       "</style>\n",
       "<table border=\"1\" class=\"dataframe\">\n",
       "  <thead>\n",
       "    <tr style=\"text-align: right;\">\n",
       "      <th></th>\n",
       "      <th>OBJECTID</th>\n",
       "      <th>DLBM</th>\n",
       "      <th>DLMC</th>\n",
       "      <th>DLDM</th>\n",
       "      <th>MZMC</th>\n",
       "      <th>Centroid_X</th>\n",
       "      <th>Centroid_Y</th>\n",
       "      <th>aligned_Analytical_Hillshading_COUNT</th>\n",
       "      <th>aligned_Analytical_Hillshading_AREA</th>\n",
       "      <th>aligned_Analytical_Hillshading_MIN</th>\n",
       "      <th>...</th>\n",
       "      <th>slope_postion_101_smooth_MAX</th>\n",
       "      <th>slope_postion_101_smooth_RANGE</th>\n",
       "      <th>slope_postion_101_smooth_MEAN</th>\n",
       "      <th>slope_postion_101_smooth_STD</th>\n",
       "      <th>slope_postion_101_smooth_SUM</th>\n",
       "      <th>slope_postion_101_smooth_VARIETY</th>\n",
       "      <th>slope_postion_101_smooth_MAJORITY</th>\n",
       "      <th>slope_postion_101_smooth_MINORITY</th>\n",
       "      <th>slope_postion_101_smooth_MEDIAN</th>\n",
       "      <th>slope_postion_101_smooth_PCT90</th>\n",
       "    </tr>\n",
       "  </thead>\n",
       "  <tbody>\n",
       "  </tbody>\n",
       "</table>\n",
       "<p>0 rows × 377 columns</p>\n",
       "</div>"
      ],
      "text/plain": [
       "Empty DataFrame\n",
       "Columns: [OBJECTID, DLBM, DLMC, DLDM, MZMC, Centroid_X, Centroid_Y, aligned_Analytical_Hillshading_COUNT, aligned_Analytical_Hillshading_AREA, aligned_Analytical_Hillshading_MIN, aligned_Analytical_Hillshading_MAX, aligned_Analytical_Hillshading_RANGE, aligned_AnalyticalHillshading_MEAN, aligned_Analytical_Hillshading_STD, aligned_Analytical_Hillshading_SUM, aligned_Analytical_Hillshading_MEDIAN, aligned_Analytical_Hillshading_PCT90, aligned_Aspect_COUNT, aligned_Aspect_AREA, aligned_Aspect_MIN, aligned_Aspect_MAX, aligned_Aspect_RANGE, aligned_Aspect_MEAN, aligned_Aspect_STD, aligned_Aspect_SUM, aligned_Aspect_MEDIAN, aligned_Aspect_PCT90, aligned_Channel_Network_Base_Level_COUNT, aligned_Channel_Network_Base_Level_AREA, aligned_Channel_Network_Base_Level_MIN, aligned_Channel_Network_Base_Level_MAX, aligned_Channel_Network_Base_Level_RANGE, aligned_ChannelNetworkBaseLevel_MEAN, aligned_Channel_Network_Base_Level_STD, aligned_Channel_Network_Base_Level_SUM, aligned_Channel_Network_Base_Level_MEDIAN, aligned_Channel_Network_Base_Level_PCT90, aligned_Channel_Network_Distance_COUNT, aligned_Channel_Network_Distance_AREA, aligned_Channel_Network_Distance_MIN, aligned_Channel_Network_Distance_MAX, aligned_Channel_Network_Distance_RANGE, aligned_ChannelNetworkDistance_MEAN, aligned_Channel_Network_Distance_STD, aligned_Channel_Network_Distance_SUM, aligned_Channel_Network_Distance_MEDIAN, aligned_Channel_Network_Distance_PCT90, aligned_Convergence_Index_COUNT, aligned_Convergence_Index_AREA, aligned_Convergence_Index_MIN, aligned_Convergence_Index_MAX, aligned_Convergence_Index_RANGE, aligned_ConvergenceIndex_MEAN, aligned_Convergence_Index_STD, aligned_Convergence_Index_SUM, aligned_Convergence_Index_MEDIAN, aligned_Convergence_Index_PCT90, aligned_dem_COUNT, aligned_dem_AREA, aligned_dem_MIN, aligned_dem_MAX, aligned_dem_RANGE, aligned_dem_MEAN, aligned_dem_STD, aligned_dem_SUM, aligned_dem_MEDIAN, aligned_dem_PCT90, aligned_ETP2022_3_COUNT, aligned_ETP2022_3_AREA, aligned_ETP2022_3_MIN, aligned_ETP2022_3_MAX, aligned_ETP2022_3_RANGE, aligned_ETP2022_3_MEAN, aligned_ETP2022_3_STD, aligned_ETP2022_3_SUM, aligned_ETP2022_3_MEDIAN, aligned_ETP2022_3_PCT90, aligned_ETP2022_8_COUNT, aligned_ETP2022_8_AREA, aligned_ETP2022_8_MIN, aligned_ETP2022_8_MAX, aligned_ETP2022_8_RANGE, aligned_ETP2022_8_MEAN, aligned_ETP2022_8_STD, aligned_ETP2022_8_SUM, aligned_ETP2022_8_MEDIAN, aligned_ETP2022_8_PCT90, aligned_ETP2022_mean_COUNT, aligned_ETP2022_mean_AREA, aligned_ETP2022_mean_MIN, aligned_ETP2022_mean_MAX, aligned_ETP2022_mean_RANGE, aligned_ETP2022_mean_MEAN, aligned_ETP2022_mean_STD, aligned_ETP2022_mean_SUM, aligned_ETP2022_mean_MEDIAN, aligned_ETP2022_mean_PCT90, aligned_evi_COUNT, aligned_evi_AREA, aligned_evi_MIN, ...]\n",
       "Index: []\n",
       "\n",
       "[0 rows x 377 columns]"
      ]
     },
     "execution_count": 48,
     "metadata": {},
     "output_type": "execute_result"
    }
   ],
   "source": [
    "rows_with_nan = feature_df.loc[feature_df.isnull().any(axis=1)]\n",
    "rows_with_nan"
   ]
  },
  {
   "cell_type": "code",
   "execution_count": 49,
   "metadata": {},
   "outputs": [],
   "source": [
    "dataset = feature_df"
   ]
  },
  {
   "cell_type": "code",
   "execution_count": 50,
   "metadata": {},
   "outputs": [
    {
     "data": {
      "text/plain": [
       "Index(['OBJECTID', 'DLBM', 'DLMC', 'DLDM', 'MZMC', 'Centroid_X', 'Centroid_Y',\n",
       "       'aligned_Analytical_Hillshading_COUNT',\n",
       "       'aligned_Analytical_Hillshading_AREA',\n",
       "       'aligned_Analytical_Hillshading_MIN',\n",
       "       ...\n",
       "       'slope_postion_101_smooth_MAX', 'slope_postion_101_smooth_RANGE',\n",
       "       'slope_postion_101_smooth_MEAN', 'slope_postion_101_smooth_STD',\n",
       "       'slope_postion_101_smooth_SUM', 'slope_postion_101_smooth_VARIETY',\n",
       "       'slope_postion_101_smooth_MAJORITY',\n",
       "       'slope_postion_101_smooth_MINORITY', 'slope_postion_101_smooth_MEDIAN',\n",
       "       'slope_postion_101_smooth_PCT90'],\n",
       "      dtype='object', length=377)"
      ]
     },
     "execution_count": 50,
     "metadata": {},
     "output_type": "execute_result"
    }
   ],
   "source": [
    "dataset.columns"
   ]
  },
  {
   "cell_type": "code",
   "execution_count": 51,
   "metadata": {},
   "outputs": [],
   "source": [
    "\n",
    "duplicated_rows = dataset[dataset['OBJECTID'].duplicated(keep=False)]"
   ]
  },
  {
   "cell_type": "code",
   "execution_count": 52,
   "metadata": {},
   "outputs": [
    {
     "data": {
      "text/html": [
       "<div>\n",
       "<style scoped>\n",
       "    .dataframe tbody tr th:only-of-type {\n",
       "        vertical-align: middle;\n",
       "    }\n",
       "\n",
       "    .dataframe tbody tr th {\n",
       "        vertical-align: top;\n",
       "    }\n",
       "\n",
       "    .dataframe thead th {\n",
       "        text-align: right;\n",
       "    }\n",
       "</style>\n",
       "<table border=\"1\" class=\"dataframe\">\n",
       "  <thead>\n",
       "    <tr style=\"text-align: right;\">\n",
       "      <th></th>\n",
       "      <th>OBJECTID</th>\n",
       "      <th>DLBM</th>\n",
       "      <th>DLMC</th>\n",
       "      <th>DLDM</th>\n",
       "      <th>MZMC</th>\n",
       "      <th>Centroid_X</th>\n",
       "      <th>Centroid_Y</th>\n",
       "      <th>aligned_Analytical_Hillshading_COUNT</th>\n",
       "      <th>aligned_Analytical_Hillshading_AREA</th>\n",
       "      <th>aligned_Analytical_Hillshading_MIN</th>\n",
       "      <th>...</th>\n",
       "      <th>slope_postion_101_smooth_MAX</th>\n",
       "      <th>slope_postion_101_smooth_RANGE</th>\n",
       "      <th>slope_postion_101_smooth_MEAN</th>\n",
       "      <th>slope_postion_101_smooth_STD</th>\n",
       "      <th>slope_postion_101_smooth_SUM</th>\n",
       "      <th>slope_postion_101_smooth_VARIETY</th>\n",
       "      <th>slope_postion_101_smooth_MAJORITY</th>\n",
       "      <th>slope_postion_101_smooth_MINORITY</th>\n",
       "      <th>slope_postion_101_smooth_MEDIAN</th>\n",
       "      <th>slope_postion_101_smooth_PCT90</th>\n",
       "    </tr>\n",
       "  </thead>\n",
       "  <tbody>\n",
       "  </tbody>\n",
       "</table>\n",
       "<p>0 rows × 377 columns</p>\n",
       "</div>"
      ],
      "text/plain": [
       "Empty DataFrame\n",
       "Columns: [OBJECTID, DLBM, DLMC, DLDM, MZMC, Centroid_X, Centroid_Y, aligned_Analytical_Hillshading_COUNT, aligned_Analytical_Hillshading_AREA, aligned_Analytical_Hillshading_MIN, aligned_Analytical_Hillshading_MAX, aligned_Analytical_Hillshading_RANGE, aligned_AnalyticalHillshading_MEAN, aligned_Analytical_Hillshading_STD, aligned_Analytical_Hillshading_SUM, aligned_Analytical_Hillshading_MEDIAN, aligned_Analytical_Hillshading_PCT90, aligned_Aspect_COUNT, aligned_Aspect_AREA, aligned_Aspect_MIN, aligned_Aspect_MAX, aligned_Aspect_RANGE, aligned_Aspect_MEAN, aligned_Aspect_STD, aligned_Aspect_SUM, aligned_Aspect_MEDIAN, aligned_Aspect_PCT90, aligned_Channel_Network_Base_Level_COUNT, aligned_Channel_Network_Base_Level_AREA, aligned_Channel_Network_Base_Level_MIN, aligned_Channel_Network_Base_Level_MAX, aligned_Channel_Network_Base_Level_RANGE, aligned_ChannelNetworkBaseLevel_MEAN, aligned_Channel_Network_Base_Level_STD, aligned_Channel_Network_Base_Level_SUM, aligned_Channel_Network_Base_Level_MEDIAN, aligned_Channel_Network_Base_Level_PCT90, aligned_Channel_Network_Distance_COUNT, aligned_Channel_Network_Distance_AREA, aligned_Channel_Network_Distance_MIN, aligned_Channel_Network_Distance_MAX, aligned_Channel_Network_Distance_RANGE, aligned_ChannelNetworkDistance_MEAN, aligned_Channel_Network_Distance_STD, aligned_Channel_Network_Distance_SUM, aligned_Channel_Network_Distance_MEDIAN, aligned_Channel_Network_Distance_PCT90, aligned_Convergence_Index_COUNT, aligned_Convergence_Index_AREA, aligned_Convergence_Index_MIN, aligned_Convergence_Index_MAX, aligned_Convergence_Index_RANGE, aligned_ConvergenceIndex_MEAN, aligned_Convergence_Index_STD, aligned_Convergence_Index_SUM, aligned_Convergence_Index_MEDIAN, aligned_Convergence_Index_PCT90, aligned_dem_COUNT, aligned_dem_AREA, aligned_dem_MIN, aligned_dem_MAX, aligned_dem_RANGE, aligned_dem_MEAN, aligned_dem_STD, aligned_dem_SUM, aligned_dem_MEDIAN, aligned_dem_PCT90, aligned_ETP2022_3_COUNT, aligned_ETP2022_3_AREA, aligned_ETP2022_3_MIN, aligned_ETP2022_3_MAX, aligned_ETP2022_3_RANGE, aligned_ETP2022_3_MEAN, aligned_ETP2022_3_STD, aligned_ETP2022_3_SUM, aligned_ETP2022_3_MEDIAN, aligned_ETP2022_3_PCT90, aligned_ETP2022_8_COUNT, aligned_ETP2022_8_AREA, aligned_ETP2022_8_MIN, aligned_ETP2022_8_MAX, aligned_ETP2022_8_RANGE, aligned_ETP2022_8_MEAN, aligned_ETP2022_8_STD, aligned_ETP2022_8_SUM, aligned_ETP2022_8_MEDIAN, aligned_ETP2022_8_PCT90, aligned_ETP2022_mean_COUNT, aligned_ETP2022_mean_AREA, aligned_ETP2022_mean_MIN, aligned_ETP2022_mean_MAX, aligned_ETP2022_mean_RANGE, aligned_ETP2022_mean_MEAN, aligned_ETP2022_mean_STD, aligned_ETP2022_mean_SUM, aligned_ETP2022_mean_MEDIAN, aligned_ETP2022_mean_PCT90, aligned_evi_COUNT, aligned_evi_AREA, aligned_evi_MIN, ...]\n",
       "Index: []\n",
       "\n",
       "[0 rows x 377 columns]"
      ]
     },
     "execution_count": 52,
     "metadata": {},
     "output_type": "execute_result"
    }
   ],
   "source": [
    "duplicated_rows"
   ]
  },
  {
   "cell_type": "code",
   "execution_count": 53,
   "metadata": {},
   "outputs": [
    {
     "data": {
      "text/plain": [
       "{'碳酸盐岩': 109420,\n",
       " '砂岩': 21769,\n",
       " '第四纪红色粘土': 19255,\n",
       " '泥(页)岩': 18432,\n",
       " '河流冲积物': 8346,\n",
       " '紫红色砂(页)岩': 3589,\n",
       " '砂页岩': 3068,\n",
       " '凝灰岩': 2071,\n",
       " '板岩': 181}"
      ]
     },
     "execution_count": 53,
     "metadata": {},
     "output_type": "execute_result"
    }
   ],
   "source": [
    "# 统计总数据中各个岩石类型的总数\n",
    "value_counts_dict = dataset['MZMC'].value_counts().to_dict()\n",
    "value_counts_dict"
   ]
  },
  {
   "cell_type": "code",
   "execution_count": 54,
   "metadata": {},
   "outputs": [
    {
     "name": "stdout",
     "output_type": "stream",
     "text": [
      "21769 21769\n"
     ]
    }
   ],
   "source": [
    "# 筛选砂岩水稻土数据\n",
    "sy_sdt_data = dataset[dataset['DLMC'].isin(['水田','水浇地','坑塘水面','养殖坑塘','内陆滩涂']) \n",
    "                      & (dataset['MZMC'] == '砂岩')]\n",
    "# 筛砂岩选非自然土数据\n",
    "sy_fzrt_data = dataset[~dataset['DLMC'].isin(['乔木林地','灌木林地','竹林地','其他林地','其他草地','天然牧草地','人工牧草地','水田','水浇地','坑塘水面','养殖坑塘','内陆滩涂']) \n",
    "                       & (dataset['MZMC'] == '砂岩')]\n",
    "# 筛选自然土数据\n",
    "sy_zrt_data = dataset[dataset['DLMC'].isin(['乔木林地','灌木林地','竹林地','其他林地','其他草地','天然牧草地','人工牧草地'])\n",
    "                   & (dataset['MZMC'] == '砂岩')]\n",
    "print(sy_sdt_data.shape[0]+sy_fzrt_data.shape[0]+sy_zrt_data.shape[0],value_counts_dict['砂岩'])"
   ]
  },
  {
   "cell_type": "code",
   "execution_count": 55,
   "metadata": {},
   "outputs": [
    {
     "name": "stdout",
     "output_type": "stream",
     "text": [
      "109420 109420\n"
     ]
    }
   ],
   "source": [
    "# 筛选碳酸岩水稻土数据\n",
    "tsy_sdt_data = dataset[dataset['DLMC'].isin(['水田','水浇地','坑塘水面','养殖坑塘','内陆滩涂']) \n",
    "                      & (dataset['MZMC'] == '碳酸盐岩')]\n",
    "\n",
    "# 筛选碳酸岩选非自然土数据\n",
    "tsy_fzrt_data = dataset[~dataset['DLMC'].isin(['乔木林地','灌木林地','竹林地','其他林地','其他草地','天然牧草地','人工牧草地','水田','水浇地','坑塘水面','养殖坑塘','内陆滩涂']) \n",
    "                        &(dataset['MZMC'] == '碳酸盐岩')]\n",
    "\n",
    "# 筛选碳酸岩自然土数据\n",
    "tsy_zrt_data = dataset[dataset['DLMC'].isin(['乔木林地','灌木林地','竹林地','其他林地','其他草地','天然牧草地','人工牧草地'])\n",
    "                   & (dataset['MZMC'] == '碳酸盐岩')]\n",
    "print(tsy_sdt_data.shape[0]+tsy_fzrt_data.shape[0]+tsy_zrt_data.shape[0],value_counts_dict['碳酸盐岩'])"
   ]
  },
  {
   "cell_type": "code",
   "execution_count": 56,
   "metadata": {},
   "outputs": [
    {
     "name": "stdout",
     "output_type": "stream",
     "text": [
      "19255 19255\n"
     ]
    }
   ],
   "source": [
    "# 筛选第四系红粘土水稻土数据\n",
    "hnt_sdt_data = dataset[dataset['DLMC'].isin(['水田','水浇地','坑塘水面','养殖坑塘','内陆滩涂']) \n",
    "                      & (dataset['MZMC'] == '第四纪红色粘土')]\n",
    "\n",
    "# 筛选第四系红粘土非自然土数据\n",
    "hnt_fzrt_data = dataset[~dataset['DLMC'].isin(['乔木林地','灌木林地','竹林地','其他林地','其他草地','天然牧草地','人工牧草地','水田','水浇地','坑塘水面','养殖坑塘','内陆滩涂']) \n",
    "                       & (dataset['MZMC'] == '第四纪红色粘土')]\n",
    "\n",
    "# 筛选第四系红粘土自然土数据\n",
    "hnt_zrt_data = dataset[dataset['DLMC'].isin(['乔木林地','灌木林地','竹林地','其他林地','其他草地','天然牧草地','人工牧草地'])\n",
    "                   & (dataset['MZMC'] == '第四纪红色粘土')]\n",
    "print(hnt_sdt_data.shape[0]+hnt_fzrt_data.shape[0]+hnt_zrt_data.shape[0],value_counts_dict['第四纪红色粘土'])"
   ]
  },
  {
   "cell_type": "code",
   "execution_count": 57,
   "metadata": {},
   "outputs": [
    {
     "name": "stdout",
     "output_type": "stream",
     "text": [
      "18432 18432\n"
     ]
    }
   ],
   "source": [
    "# 筛选泥(页)岩水稻土数据\n",
    "nyy_sdt_data = dataset[dataset['DLMC'].isin(['水田','水浇地','坑塘水面','养殖坑塘','内陆滩涂']) \n",
    "                      & (dataset['MZMC'] == '泥(页)岩')]\n",
    "\n",
    "# 筛选泥(页)岩非自然土数据\n",
    "nyy_fzrt_data = dataset[~dataset['DLMC'].isin(['乔木林地','灌木林地','竹林地','其他林地','其他草地','天然牧草地','人工牧草地','水田','水浇地','坑塘水面','养殖坑塘','内陆滩涂']) \n",
    "                       & (dataset['MZMC'] == '泥(页)岩')]\n",
    "\n",
    "# 筛选泥(页)岩自然土数据\n",
    "nyy_zrt_data = dataset[dataset['DLMC'].isin(['乔木林地','灌木林地','竹林地','其他林地','其他草地','天然牧草地','人工牧草地'])\n",
    "                   & (dataset['MZMC'] == '泥(页)岩')]\n",
    "print(nyy_sdt_data.shape[0]+nyy_fzrt_data.shape[0]+nyy_zrt_data.shape[0],value_counts_dict['泥(页)岩'])"
   ]
  },
  {
   "cell_type": "code",
   "execution_count": 58,
   "metadata": {},
   "outputs": [
    {
     "name": "stdout",
     "output_type": "stream",
     "text": [
      "3589 3589\n"
     ]
    }
   ],
   "source": [
    "# 筛选紫红色砂页岩水稻土数据\n",
    "zhsyy_sdt_data = dataset[dataset['DLMC'].isin(['水田','水浇地','坑塘水面','养殖坑塘','内陆滩涂']) \n",
    "                      &(dataset['MZMC'] == '紫红色砂(页)岩')]\n",
    "\n",
    "# 筛选紫红色砂页岩非自然土数据\n",
    "zhsyy_fzrt_data = dataset[~dataset['DLMC'].isin(['乔木林地','灌木林地','竹林地','其他林地','其他草地','天然牧草地','人工牧草地','水田','水浇地','坑塘水面','养殖坑塘','内陆滩涂']) \n",
    "                       & (dataset['MZMC'] == '紫红色砂(页)岩')]\n",
    "\n",
    "# 筛选紫红色砂页岩自然土数据\n",
    "zhsyy_zrt_data = dataset[dataset['DLMC'].isin(['乔木林地','灌木林地','竹林地','其他林地','其他草地','天然牧草地','人工牧草地'])\n",
    "                   & (dataset['MZMC'] == '紫红色砂(页)岩')]\n",
    "print(zhsyy_sdt_data.shape[0]+zhsyy_fzrt_data.shape[0]+zhsyy_zrt_data.shape[0],value_counts_dict['紫红色砂(页)岩'])"
   ]
  },
  {
   "cell_type": "code",
   "execution_count": 59,
   "metadata": {},
   "outputs": [
    {
     "name": "stdout",
     "output_type": "stream",
     "text": [
      "8346 8346\n"
     ]
    }
   ],
   "source": [
    "# 筛选河流冲积物水稻土数据\n",
    "hlcjw_sdt_data = dataset[dataset['DLMC'].isin(['水田','水浇地','坑塘水面','养殖坑塘','内陆滩涂']) \n",
    "                      &(dataset['MZMC'] == '河流冲积物')]\n",
    "# 筛选河流冲积物非自然土数据\n",
    "hlcjw_fzrt_data = dataset[~dataset['DLMC'].isin(['水田','水浇地','坑塘水面','养殖坑塘','内陆滩涂']) \n",
    "                       & (dataset['MZMC'] == '河流冲积物')]\n",
    "\n",
    "print(hlcjw_sdt_data.shape[0]+hlcjw_fzrt_data.shape[0],value_counts_dict['河流冲积物'])"
   ]
  },
  {
   "cell_type": "code",
   "execution_count": 60,
   "metadata": {},
   "outputs": [
    {
     "name": "stdout",
     "output_type": "stream",
     "text": [
      "181 181\n"
     ]
    }
   ],
   "source": [
    "# 筛选板岩水稻土数据\n",
    "by_sdt_data = dataset[dataset['DLMC'].isin(['水田','水浇地','坑塘水面','养殖坑塘','内陆滩涂']) \n",
    "                      & (dataset['MZMC'] == '板岩')]\n",
    "\n",
    "# 筛选板岩非自然土数据\n",
    "by_fzrt_data = dataset[~dataset['DLMC'].isin(['乔木林地','灌木林地','竹林地','其他林地','其他草地','天然牧草地','人工牧草地','水田','水浇地','坑塘水面','养殖坑塘','内陆滩涂']) \n",
    "                       & (dataset['MZMC'] == '板岩')]\n",
    "\n",
    "# 筛选板岩非自然土数据\n",
    "by_zrt_data = dataset[dataset['DLMC'].isin(['乔木林地','灌木林地','竹林地','其他林地','其他草地','天然牧草地','人工牧草地']) \n",
    "                       & (dataset['MZMC'] == '板岩')]\n",
    "print(by_sdt_data.shape[0]+by_fzrt_data.shape[0]+by_zrt_data.shape[0],value_counts_dict['板岩'])"
   ]
  },
  {
   "cell_type": "code",
   "execution_count": 61,
   "metadata": {},
   "outputs": [
    {
     "name": "stdout",
     "output_type": "stream",
     "text": [
      "2071 2071\n"
     ]
    }
   ],
   "source": [
    "# 筛选凝灰岩水稻土数据\n",
    "nhy_sdt_data = dataset[dataset['DLMC'].isin(['水田','水浇地','坑塘水面','养殖坑塘','内陆滩涂']) \n",
    "                     & (dataset['MZMC'] == '凝灰岩')]\n",
    "\n",
    "# 筛选凝灰岩非自然土数据\n",
    "nhy_fzrt_data = dataset[~dataset['DLMC'].isin(['乔木林地','灌木林地','竹林地','其他林地','其他草地','天然牧草地','人工牧草地','水田','水浇地','坑塘水面','养殖坑塘','内陆滩涂']) \n",
    "                       & (dataset['MZMC'] == '凝灰岩')]\n",
    "\n",
    "# 筛选凝灰岩自然土数据\n",
    "nhy_zrt_data = dataset[dataset['DLMC'].isin(['乔木林地','灌木林地','竹林地','其他林地','其他草地','天然牧草地','人工牧草地'])\n",
    "                   & (dataset['MZMC'] == '凝灰岩')]\n",
    "print(nhy_sdt_data.shape[0]+nhy_fzrt_data.shape[0]+nhy_zrt_data.shape[0],value_counts_dict['凝灰岩'])"
   ]
  },
  {
   "cell_type": "code",
   "execution_count": 62,
   "metadata": {},
   "outputs": [
    {
     "name": "stdout",
     "output_type": "stream",
     "text": [
      "3068 3068\n"
     ]
    }
   ],
   "source": [
    "# 筛选砂页岩水稻土数据\n",
    "syy_sdt_data = dataset[dataset['DLMC'].isin(['水田','水浇地','坑塘水面','养殖坑塘','内陆滩涂']) \n",
    "                      & (dataset['MZMC'] == '砂页岩')]\n",
    "\n",
    "# 筛选砂页岩非自然土数据\n",
    "syy_fzrt_data = dataset[~dataset['DLMC'].isin(['乔木林地','灌木林地','竹林地','其他林地','其他草地','天然牧草地','人工牧草地','水田','水浇地','坑塘水面','养殖坑塘','内陆滩涂']) \n",
    "                       & (dataset['MZMC'] == '砂页岩')]\n",
    "\n",
    "# 筛选砂页岩物自然土数据\n",
    "syy_zrt_data = dataset[dataset['DLMC'].isin(['乔木林地','灌木林地','竹林地','其他林地','其他草地','天然牧草地','人工牧草地'])\n",
    "                   & (dataset['MZMC'] == '砂页岩')]\n",
    "print(syy_sdt_data.shape[0]+syy_fzrt_data.shape[0]+syy_zrt_data.shape[0],value_counts_dict['砂页岩'])"
   ]
  },
  {
   "cell_type": "code",
   "execution_count": 63,
   "metadata": {},
   "outputs": [
    {
     "name": "stdout",
     "output_type": "stream",
     "text": [
      "砂岩 (6463, 377) (6150, 377) (9156, 377)\n",
      "碳酸盐岩 (17191, 377) (45932, 377) (46297, 377)\n",
      "第四纪红色粘土 (1956, 377) (10458, 377) (6841, 377)\n",
      "泥页岩 (4615, 377) (6190, 377) (7627, 377)\n",
      "紫红色砂(页)岩 (1191, 377) (1428, 377) (970, 377)\n",
      "河流冲积物 (5967, 377)\n",
      "板岩 (2, 377) (1, 377) (178, 377)\n",
      "凝灰岩 (724, 377) (497, 377) (850, 377)\n",
      "砂(页)岩 (1026, 377) (934, 377) (1108, 377)\n"
     ]
    }
   ],
   "source": [
    "# 查看各个数据集的大小\n",
    "print('砂岩',sy_sdt_data.shape,sy_fzrt_data.shape,sy_zrt_data.shape)\n",
    "print('碳酸盐岩',tsy_sdt_data.shape,tsy_fzrt_data.shape,tsy_zrt_data.shape)\n",
    "print('第四纪红色粘土',hnt_sdt_data.shape,hnt_fzrt_data.shape,hnt_zrt_data.shape)\n",
    "print('泥页岩',nyy_sdt_data.shape,nyy_fzrt_data.shape,nyy_zrt_data.shape)\n",
    "print('紫红色砂(页)岩',zhsyy_sdt_data.shape,zhsyy_fzrt_data.shape,zhsyy_zrt_data.shape)\n",
    "print('河流冲积物',hlcjw_sdt_data.shape)\n",
    "print('板岩',by_sdt_data.shape,by_fzrt_data.shape,by_zrt_data.shape)\n",
    "print('凝灰岩',nhy_sdt_data.shape,nhy_fzrt_data.shape,nhy_zrt_data.shape)\n",
    "print('砂(页)岩',syy_sdt_data.shape,syy_fzrt_data.shape,syy_zrt_data.shape)\n",
    "\n"
   ]
  },
  {
   "cell_type": "code",
   "execution_count": 64,
   "metadata": {},
   "outputs": [],
   "source": [
    "# 获取对照字典\n",
    "with open(r'D:\\worker_code\\Terrain_Test\\data\\soil_dict_20240905_sb.json', 'r') as f:\n",
    "    soil_dict = json.load(f)\n",
    "# 将键转为int\n",
    "soil_dict = {int(k):v for k, v in soil_dict.items()}"
   ]
  },
  {
   "cell_type": "code",
   "execution_count": 65,
   "metadata": {},
   "outputs": [
    {
     "data": {
      "text/plain": [
       "['NeuralNetFastAI',\n",
       " 'RandomForestGini',\n",
       " 'RandomForestEntr',\n",
       " 'ExtraTreesGini',\n",
       " 'ExtraTreesEntr',\n",
       " 'NeuralNetTorch',\n",
       " 'WeightedEnsemble_L2']"
      ]
     },
     "execution_count": 65,
     "metadata": {},
     "output_type": "execute_result"
    }
   ],
   "source": [
    "zhsyy_sdt_predictor.model_names()"
   ]
  },
  {
   "cell_type": "code",
   "execution_count": 66,
   "metadata": {},
   "outputs": [],
   "source": [
    "# 模型选择\n",
    "# select_model = 'WeightedEnsemble_L2'\n",
    "select_model = 'RandomForestEntr'"
   ]
  },
  {
   "cell_type": "code",
   "execution_count": 71,
   "metadata": {},
   "outputs": [],
   "source": [
    "# 概率预测函数\n",
    "def predict_top_classes(data, predictor,feature_names, model, top_n, soil_dict):\n",
    "    \"\"\"\n",
    "    根据给定的AutoGluon模型，预测数据集中的前n个最可能的类别及其概率，并根据提供的字典转换类别编号为描述字符串。\n",
    "    参数:\n",
    "    data (DataFrame): 输入的数据集。\n",
    "    predictor（model）: 对应的模型\n",
    "    feature_names (list): 用于预测的特征名列表。\n",
    "    model (str): 选择的模型名称。\n",
    "    top_n (int): 需要返回的最高概率的类别数量。\n",
    "    soil_dict (dict): 类别编号到描述字符串的映射字典。\n",
    "    \n",
    "    返回:\n",
    "    DataFrame: 原始数据与预测结果合并后的DataFrame。\n",
    "    \"\"\"\n",
    "    # 复制数据\n",
    "    data = data.copy()\n",
    "    # 预测概率\n",
    "    pred_probs = predictor.predict_proba(data[feature_names], model=model)\n",
    "    # 获取概率最高的前n个类别及其概率\n",
    "    top_classes = pred_probs.apply(lambda x: pd.Series(x.nlargest(top_n).index.astype(int).tolist() + x.nlargest(top_n).values.tolist()), axis=1)\n",
    "    # 重命名列\n",
    "    class_cols = ['Class{}'.format(i+1) for i in range(top_n)]\n",
    "    prob_cols = ['Prob{}'.format(i+1) for i in range(top_n)]\n",
    "    top_classes.columns = class_cols + prob_cols\n",
    "    # 转换类别编号为描述字符串\n",
    "    for col in class_cols:\n",
    "        top_classes[col] = top_classes[col].map(soil_dict)\n",
    "    # 计算每个预测的熵\n",
    "    entropy = pred_probs.apply(lambda x: -np.sum(x * np.log(x + 1e-9)), axis=1)\n",
    "    top_classes['Entropy'] = entropy\n",
    "    # 计算每个预测的不确定性（标准差）\n",
    "    uncertainty = pred_probs.std(axis=1)\n",
    "    top_classes['Uncertainty'] = uncertainty\n",
    "    # 将新列添加到原有的DataFrame中\n",
    "    return pd.concat([data, top_classes], axis=1)"
   ]
  },
  {
   "cell_type": "code",
   "execution_count": 69,
   "metadata": {},
   "outputs": [
    {
     "data": {
      "text/plain": [
       "Index(['OBJECTID', 'DLBM', 'DLMC', 'DLDM', 'MZMC', 'Centroid_X', 'Centroid_Y',\n",
       "       'aligned_Analytical_Hillshading_COUNT',\n",
       "       'aligned_Analytical_Hillshading_AREA',\n",
       "       'aligned_Analytical_Hillshading_MIN',\n",
       "       ...\n",
       "       'slope_postion_101_smooth_MAX', 'slope_postion_101_smooth_RANGE',\n",
       "       'slope_postion_101_smooth_MEAN', 'slope_postion_101_smooth_STD',\n",
       "       'slope_postion_101_smooth_SUM', 'slope_postion_101_smooth_VARIETY',\n",
       "       'slope_postion_101_smooth_MAJORITY',\n",
       "       'slope_postion_101_smooth_MINORITY', 'slope_postion_101_smooth_MEDIAN',\n",
       "       'slope_postion_101_smooth_PCT90'],\n",
       "      dtype='object', length=377)"
      ]
     },
     "execution_count": 69,
     "metadata": {},
     "output_type": "execute_result"
    }
   ],
   "source": [
    "sy_sdt_data.columns"
   ]
  },
  {
   "cell_type": "code",
   "execution_count": 72,
   "metadata": {},
   "outputs": [],
   "source": [
    "# 模型预测\n",
    "sy_sdt_result_df = predict_top_classes(sy_sdt_data, sy_sdt_predictor,get_feature_names(sy_sdt_predictor), select_model, 2, soil_dict)\n",
    "sy_fzrt_result_df = predict_top_classes(sy_fzrt_data, sy_fzrt_predictor,get_feature_names(sy_fzrt_predictor), select_model, 2, soil_dict)\n",
    "sy_zrt_result_df = predict_top_classes(sy_zrt_data, sy_zrt_predictor,get_feature_names(sy_zrt_predictor), select_model, 2, soil_dict)\n",
    "\n",
    "tsy_sdt_result_df = predict_top_classes(tsy_sdt_data, tsy_sdt_predictor,get_feature_names(tsy_sdt_predictor), select_model, 2, soil_dict)\n",
    "tsy_fzrt_result_df = predict_top_classes(tsy_fzrt_data, tsy_fzrt_predictor,get_feature_names(tsy_fzrt_predictor), select_model, 2, soil_dict)\n",
    "tsy_zrt_result_df = predict_top_classes(tsy_zrt_data, tsy_zrt_predictor,get_feature_names(tsy_zrt_predictor), select_model, 2, soil_dict)\n",
    "\n",
    "hnt_sdt_result_df = predict_top_classes(hnt_sdt_data, hnt_sdt_predictor,get_feature_names(hnt_sdt_predictor), select_model, 2, soil_dict)\n",
    "hnt_fzrt_result_df = predict_top_classes(hnt_fzrt_data, hnt_fzrt_predictor,get_feature_names(hnt_fzrt_predictor), select_model, 2, soil_dict)\n",
    "hnt_zrt_result_df = predict_top_classes(hnt_zrt_data, hnt_zrt_predictor,get_feature_names(hnt_zrt_predictor), select_model, 2, soil_dict)\n",
    "\n",
    "nyy_sdt_result_df = predict_top_classes(nyy_sdt_data, nyy_sdt_predictor,get_feature_names(nyy_sdt_predictor), select_model, 2, soil_dict)\n",
    "nyy_fzrt_result_df = predict_top_classes(nyy_fzrt_data, nyy_fzrt_predictor,get_feature_names(nyy_fzrt_predictor), select_model, 2, soil_dict)\n",
    "nyy_zrt_result_df = predict_top_classes(nyy_zrt_data, nyy_zrt_predictor,get_feature_names(nyy_zrt_predictor), select_model, 2, soil_dict)\n",
    "\n",
    "zhsyy_sdt_result_df = predict_top_classes(zhsyy_sdt_data, zhsyy_sdt_predictor,get_feature_names(zhsyy_sdt_predictor), select_model, 2, soil_dict)\n",
    "zhsyy_fzrt_result_df = predict_top_classes(zhsyy_fzrt_data, zhsyy_fzrt_predictor,get_feature_names(zhsyy_fzrt_predictor), select_model, 2, soil_dict)\n",
    "zhsyy_zrt_result_df = predict_top_classes(zhsyy_zrt_data, zhsyy_zrt_predictor,get_feature_names(zhsyy_zrt_predictor), select_model, 2, soil_dict)\n",
    "\n",
    "hlcjw_sdt_result_df = predict_top_classes(hlcjw_sdt_data, hlcjw_sdt_predictor,get_feature_names(hlcjw_sdt_predictor), select_model, 2, soil_dict)\n",
    "hlcjw_fzrt_result_df = predict_top_classes(hlcjw_fzrt_data, hlcjw_fzrt_predictor,get_feature_names(hlcjw_fzrt_predictor), select_model, 2, soil_dict)\n",
    "\n",
    "\n",
    "# by_sdt_result_df = predict_top_classes(by_sdt_data, by_sdt_predictor,get_feature_names(by_sdt_predictor), select_model, 2, soil_dict)\n",
    "# by_fzrt_result_df = predict_top_classes(by_fzrt_data, by_fzrt_predictor,get_feature_names(by_fzrt_predictor), select_model, 2, soil_dict)\n",
    "by_zrt_result_df = predict_top_classes(by_zrt_data, by_zrt_predictor,get_feature_names(by_zrt_predictor), select_model, 2, soil_dict)\n",
    "\n",
    "nhy_sdt_result_df = predict_top_classes(nhy_sdt_data, nhy_sdt_predictor,get_feature_names(nhy_sdt_predictor), select_model, 2, soil_dict)\n",
    "nhy_fzrt_result_df = predict_top_classes(nhy_fzrt_data, nhy_fzrt_predictor,get_feature_names(nhy_fzrt_predictor), select_model, 2, soil_dict)\n",
    "nhy_zrt_result_df = predict_top_classes(nhy_zrt_data, nhy_zrt_predictor,get_feature_names(nhy_zrt_predictor), select_model, 2, soil_dict)\n",
    "\n",
    "syy_sdt_result_df = predict_top_classes(syy_sdt_data, syy_sdt_predictor,get_feature_names(syy_sdt_predictor), select_model, 2, soil_dict)\n",
    "syy_fzrt_result_df = predict_top_classes(syy_fzrt_data, syy_fzrt_predictor,get_feature_names(syy_fzrt_predictor), select_model, 2, soil_dict)\n",
    "syy_zrt_result_df = predict_top_classes(syy_zrt_data, syy_zrt_predictor,get_feature_names(syy_zrt_predictor), select_model, 2, soil_dict)"
   ]
  },
  {
   "cell_type": "code",
   "execution_count": 73,
   "metadata": {},
   "outputs": [],
   "source": [
    "# 将所有的DataFrame放入一个列表中\n",
    "dfs = [\n",
    "    sy_sdt_result_df, sy_fzrt_result_df, sy_zrt_result_df,\n",
    "    tsy_sdt_result_df, tsy_fzrt_result_df, tsy_zrt_result_df,\n",
    "    hnt_sdt_result_df, hnt_fzrt_result_df, hnt_zrt_result_df,\n",
    "    nyy_sdt_result_df, nyy_fzrt_result_df, nyy_zrt_result_df,\n",
    "    zhsyy_sdt_result_df, zhsyy_fzrt_result_df, zhsyy_zrt_result_df,\n",
    "    hlcjw_sdt_result_df,hlcjw_fzrt_result_df,\n",
    "    by_zrt_result_df,\n",
    "    nhy_sdt_result_df, nhy_fzrt_result_df, nhy_zrt_result_df,\n",
    "    syy_sdt_result_df, syy_fzrt_result_df, syy_zrt_result_df\n",
    "]\n",
    "\n",
    "# 使用pd.concat合并所有的DataFrame\n",
    "result_df = pd.concat(dfs, ignore_index=True)\n"
   ]
  },
  {
   "cell_type": "code",
   "execution_count": 74,
   "metadata": {},
   "outputs": [
    {
     "data": {
      "text/plain": [
       "Index(['OBJECTID', 'DLBM', 'DLMC', 'DLDM', 'MZMC', 'Centroid_X', 'Centroid_Y',\n",
       "       'aligned_Analytical_Hillshading_COUNT',\n",
       "       'aligned_Analytical_Hillshading_AREA',\n",
       "       'aligned_Analytical_Hillshading_MIN',\n",
       "       ...\n",
       "       'slope_postion_101_smooth_MAJORITY',\n",
       "       'slope_postion_101_smooth_MINORITY', 'slope_postion_101_smooth_MEDIAN',\n",
       "       'slope_postion_101_smooth_PCT90', 'Class1', 'Class2', 'Prob1', 'Prob2',\n",
       "       'Entropy', 'Uncertainty'],\n",
       "      dtype='object', length=383)"
      ]
     },
     "execution_count": 74,
     "metadata": {},
     "output_type": "execute_result"
    }
   ],
   "source": [
    "result_df.columns"
   ]
  },
  {
   "cell_type": "code",
   "execution_count": 75,
   "metadata": {},
   "outputs": [],
   "source": [
    "# 获取指定列\n",
    "result_df = result_df[['OBJECTID','Class1', 'Class2', 'Prob1','Prob2', 'Entropy', 'Uncertainty']]"
   ]
  },
  {
   "cell_type": "code",
   "execution_count": 76,
   "metadata": {},
   "outputs": [],
   "source": [
    "search_dict = {'腐薄层泥质黄壤': ['黄壤', '典型黄壤', '泥质黄壤', '腐薄层泥质黄壤'],\n",
    " '薄层泥质黄壤': ['黄壤', '典型黄壤', '泥质黄壤', '薄层泥质黄壤'],\n",
    " '腐薄层泥质酸性粗骨土': ['粗骨土', '酸性粗骨土', '泥质酸性粗骨土', '腐薄层泥质酸性粗骨土'],\n",
    " '腐薄层硅质黄壤': ['黄壤', '典型黄壤', '硅质黄壤', '腐薄层硅质黄壤'],\n",
    " '黄浅鳝泥田': ['水稻土', '淹育型水稻土', '浅鳝泥田', '黄浅鳝泥田'],\n",
    " '黄红泥田': ['水稻土', '潴育型水稻土', '红泥田', '黄红泥田'],\n",
    " '薄层泥质酸性粗骨土': ['粗骨土', '酸性粗骨土', '泥质酸性粗骨土', '薄层泥质酸性粗骨土'],\n",
    " '腐中层泥质黄壤': ['黄壤', '典型黄壤', '泥质黄壤', '腐中层泥质黄壤'],\n",
    " '中层泥质黄壤': ['黄壤', '典型黄壤', '泥质黄壤', '中层泥质黄壤'],\n",
    " '黄浅白粉泥田': ['水稻土', '淹育型水稻土', '浅白粉泥田', '黄浅白粉泥田'],\n",
    " '腐厚层泥质黄壤': ['黄壤', '典型黄壤', '泥质黄壤', '腐厚层泥质黄壤'],\n",
    " '黄青白粉泥田': ['水稻土', '潜育型水稻土', '青白粉泥田', '黄青白粉泥田'],\n",
    " '腐厚层硅质黄壤': ['黄壤', '典型黄壤', '硅质黄壤', '腐厚层硅质黄壤'],\n",
    " '腐中层硅质黄壤': ['黄壤', '典型黄壤', '硅质黄壤', '腐中层硅质黄壤'],\n",
    " '重漂潮泥田': ['水稻土', '漂洗型水稻土', '漂潮泥田', '重漂潮泥田'],\n",
    " '薄层硅质黄壤': ['黄壤', '典型黄壤', '硅质黄壤', '薄层硅质黄壤'],\n",
    " '中层硅质黄壤': ['黄壤', '典型黄壤', '硅质黄壤', '中层硅质黄壤'],\n",
    " '潮砂泥田': ['水稻土', '潴育型水稻土', '潮砂泥田', '潮砂泥田'],\n",
    " '黄浅砂泥田': ['水稻土', '淹育型水稻土', '浅砂泥田', '黄浅砂泥田'],\n",
    " '厚层硅质黄壤': ['黄壤', '典型黄壤', '硅质黄壤', '厚层硅质黄壤'],\n",
    " '轻漂潮泥田': ['水稻土', '漂洗型水稻土', '漂潮泥田', '轻漂潮泥田'],\n",
    " '黄白粉泥田': ['水稻土', '潴育型水稻土', '白粉泥田', '黄白粉泥田'],\n",
    " '轻漂砂泥田': ['水稻土', '漂洗型水稻土', '漂砂泥田', '轻漂砂泥田'],\n",
    " '青潮泥田': ['水稻土', '潜育型水稻土', '青潮泥田', '青潮泥田'],\n",
    " '潮泥田': ['水稻土', '潴育型水稻土', '潮泥田', '潮泥田'],\n",
    " '黄青砂泥田': ['水稻土', '潜育型水稻土', '青砂泥田', '黄青砂泥田'],\n",
    " '腐中层灰泥质黄壤': ['黄壤', '典型黄壤', '灰泥质黄壤', '腐中层灰泥质黄壤'],\n",
    " '轻漂白粉泥田': ['水稻土', '漂洗型水稻土', '漂白粉泥田', '轻漂白粉泥田'],\n",
    " '中层灰泥质黄壤': ['黄壤', '典型黄壤', '灰泥质黄壤', '中层灰泥质黄壤'],\n",
    " '厚层泥质黄壤': ['黄壤', '典型黄壤', '泥质黄壤', '厚层泥质黄壤'],\n",
    " '腐薄层壤质黄色石灰土': ['石灰土', '黄色石灰土', '壤质黄色石灰土', '腐薄层壤质黄色石灰土'],\n",
    " '薄层壤质黄色石灰土': ['石灰土', '黄色石灰土', '壤质黄色石灰土', '薄层壤质黄色石灰土'],\n",
    " '腐中层黏质黄色石灰土': ['石灰土', '黄色石灰土', '黏质黄色石灰土', '腐中层黏质黄色石灰土'],\n",
    " '中层黏质黄色石灰土': ['石灰土', '黄色石灰土', '黏质黄色石灰土', '中层黏质黄色石灰土'],\n",
    " '浅鳝泥田': ['水稻土', '淹育型水稻土', '浅鳝泥田', '浅鳝泥田'],\n",
    " '浅黄泥田': ['水稻土', '淹育型水稻土', '浅黄泥田', '浅黄泥田'],\n",
    " '中漂鳝泥田': ['水稻土', '漂洗型水稻土', '漂鳝泥田', '中漂鳝泥田'],\n",
    " '黄鳝泥田': ['水稻土', '潴育型水稻土', '鳝泥田', '黄鳝泥田'],\n",
    " '轻漂鳝泥田': ['水稻土', '漂洗型水稻土', '漂鳝泥田', '轻漂鳝泥田'],\n",
    " '腐中层泥质黄棕壤': ['黄棕壤', '暗黄棕壤', '泥质暗黄棕壤', '腐中层泥质黄棕壤'],\n",
    " '厚层砂泥质黄壤': ['黄壤', '典型黄壤', '砂泥质黄壤', '厚层砂泥质黄壤'],\n",
    " '腐中层砂泥质黄壤': ['黄壤', '典型黄壤', '砂泥质黄壤', '腐中层砂泥质黄壤'],\n",
    " '黄轻鳝泥田': ['水稻土', '潜育型水稻土', '青鳝泥田', '黄轻鳝泥田'],\n",
    " '腐中层壤质黄色石灰土': ['石灰土', '黄色石灰土', '壤质黄色石灰土', '腐中层壤质黄色石灰土'],\n",
    " '黄黄白粉泥田': ['水稻土', '脱潜型水稻土', '黄白粉泥田', '黄黄白粉泥田'],\n",
    " '青鳝泥田': ['水稻土', '潜育型水稻土', '青鳝泥田', '青鳝泥田'],\n",
    " '青灰泥田': ['水稻土', '潜育型水稻土', '灰泥田', '青灰泥田'],\n",
    " '石灰泥田': ['水稻土', '潴育型水稻土', '灰泥田', '石灰泥田'],\n",
    " '中层壤质黄色石灰土': ['石灰土', '黄色石灰土', '壤质黄色石灰土', '中层壤质黄色石灰土'],\n",
    " '黄青灰泥田': ['水稻土', '潜育型水稻土', '青白粉泥田', '黄青灰泥田'],\n",
    " '中层砂泥质黄壤': ['黄壤', '典型黄壤', '砂泥质黄壤', '中层砂泥质黄壤'],\n",
    " '黄浅灰泥田': ['水稻土', '淹育型水稻土', '浅灰泥田', '黄浅灰泥田'],\n",
    " '浅石灰泥田': ['水稻土', '淹育型水稻土', '浅灰泥田', '浅石灰泥田'],\n",
    " '石鳝泥田': ['水稻土', '潴育型水稻土', '鳝泥田', '石鳝泥田'],\n",
    " '黄潮泥田': ['水稻土', '脱潜型水稻土', '黄潮泥田', '黄潮泥田'],\n",
    " '薄层黏质黄色石灰土': ['石灰土', '黄色石灰土', '黏质黄色石灰土', '薄层黏质黄色石灰土'],\n",
    " '紫泥田': ['水稻土', '潴育型水稻土', '紫泥田', '紫泥田'],\n",
    " '腐薄层黏质黄色石灰土': ['石灰土', '黄色石灰土', '黏质黄色石灰土', '腐薄层黏质黄色石灰土'],\n",
    " '腐厚层壤质黄色石灰土': ['石灰土', '黄色石灰土', '壤质黄色石灰土', '腐厚层壤质黄色石灰土'],\n",
    " '腐中层壤质中性紫色土': ['紫色土', '中性紫色土', '壤质中性紫色土', '腐中层壤质中性紫色土'],\n",
    " '厚层壤质黄色石灰土': ['石灰土', '黄色石灰土', '壤质黄色石灰土', '厚层壤质黄色石灰土'],\n",
    " '中层壤质中性紫色土': ['紫色土', '中性紫色土', '壤质中性紫色土', '中层壤质中性紫色土'],\n",
    " '黄黄泥田': ['水稻土', '潴育型水稻土', '黄泥田', '黄黄泥田'],\n",
    " '腐厚层砂泥质黄壤': ['黄壤', '典型黄壤', '砂泥质黄壤', '腐厚层砂泥质黄壤'],\n",
    " '腐中层壤质酸性紫色土': ['紫色土', '酸性紫色土', '壤质酸性紫色土', '腐中层壤质酸性紫色土'],\n",
    " '酸浅紫泥田': ['水稻土', '淹育型水稻土', '浅紫泥田', '酸浅紫泥田'],\n",
    " '薄层壤质酸性紫色土': ['紫色土', '酸性紫色土', '壤质酸性紫色土', '薄层壤质酸性紫色土'],\n",
    " '腐薄层壤质酸性紫色土': ['紫色土', '酸性紫色土', '壤质酸性紫色土', '腐薄层壤质酸性紫色土'],\n",
    " '腐厚层灰泥质黄壤': ['黄壤', '典型黄壤', '灰泥质黄壤', '腐厚层灰泥质黄壤'],\n",
    " '腐薄层灰泥质黄壤': ['黄壤', '典型黄壤', '灰泥质黄壤', '腐薄层灰泥质黄壤'],\n",
    " '薄层灰泥质黄壤': ['黄壤', '典型黄壤', '灰泥质黄壤', '薄层灰泥质黄壤'],\n",
    " '厚层灰泥质黄壤': ['黄壤', '典型黄壤', '灰泥质黄壤', '厚层灰泥质黄壤'],\n",
    " '腐厚层黏质黄色石灰土': ['石灰土', '黄色石灰土', '黏质黄色石灰土', '腐厚层黏质黄色石灰土'],\n",
    " '厚层黏质黄色石灰土': ['石灰土', '黄色石灰土', '黏质黄色石灰土', '厚层黏质黄色石灰土'],\n",
    " '青紫泥田': ['水稻土', '潜育型水稻土', '青紫泥田', '青紫泥田'],\n",
    " '冷水泥田': ['水稻土', '潴育型水稻土', '冷水泥田', '冷水泥田'],\n",
    " '浅紫泥田': ['水稻土', '淹育型水稻土', '浅紫泥田', '浅紫泥田'],\n",
    " '青石灰泥田': ['水稻土', '潜育型水稻土', '青灰泥田', '青石灰泥田'],\n",
    " '重漂砂泥田': ['水稻土', '漂洗型水稻土', '漂砂泥田', '重漂砂泥田'],\n",
    " '重漂白粉泥田': ['水稻土', '漂洗型水稻土', '漂白粉泥田', '重漂白粉泥田'],\n",
    " '中层壤质酸性紫色土': ['紫色土', '酸性紫色土', '壤质酸性紫色土', '中层壤质酸性紫色土'],\n",
    " '腐薄层灰泥质石灰性粗骨土': ['粗骨土', '石灰性粗骨土', '灰泥质石灰性粗骨土', '腐薄层灰泥质石灰性粗骨土'],\n",
    " '薄层灰泥质石灰性粗骨土': ['粗骨土', '石灰性粗骨土', '灰泥质石灰性粗骨土', '薄层灰泥质石灰性粗骨土'],\n",
    " '中层砂质灰潮土': ['潮土', '灰潮土', '砂质灰潮土', '中层砂质灰潮土'],\n",
    " '中层红泥质黄壤': ['黄壤', '典型黄壤', '红泥质黄壤', '中层红泥质黄壤'],\n",
    " '腐中层红泥质黄壤': ['黄壤', '典型黄壤', '红泥质黄壤', '腐中层红泥质黄壤'],\n",
    " '黄浅红泥田': ['水稻土', '淹育型水稻土', '浅红泥田', '黄浅红泥田'],\n",
    " '黄砂泥田': ['水稻土', '潴育型水稻土', '砂泥田', '黄砂泥田'],\n",
    " '腐薄层壤质中性紫色土': ['紫色土', '中性紫色土', '壤质中性紫色土', '腐薄层壤质中性紫色土'],\n",
    " '腐薄层砂泥质黄壤': ['黄壤', '典型黄壤', '砂泥质黄壤', '腐薄层砂泥质黄壤'],\n",
    " '黄沙泥田': ['水稻土', '潴育型水稻土', '砂泥田', '黄沙泥田'],\n",
    " '薄层壤质中性紫色土': ['紫色土', '中性紫色土', '壤质中性紫色土', '薄层壤质中性紫色土'],\n",
    " '薄层红泥质黄壤': ['黄壤', '典型黄壤', '红泥质黄壤', '薄层红泥质黄壤'],\n",
    " '腐薄层红泥质黄壤': ['黄壤', '典型黄壤', '红泥质黄壤', '腐薄层红泥质黄壤'],\n",
    " '中层黏质中性紫色土': ['紫色土', '中性紫色土', '黏质中性紫色土', '中层黏质中性紫色土'],\n",
    " '熟漂鳝泥田': ['水稻土', '漂洗型水稻土', '漂鳝泥田', '熟漂鳝泥田'],\n",
    " '黄青红泥田': ['水稻土', '潜育型水稻土', '青红泥田', '黄青红泥田'],\n",
    " '厚层红泥质黄壤': ['黄壤', '典型黄壤', '红泥质黄壤', '厚层红泥质黄壤'],\n",
    " '腐厚层红泥质黄壤': ['黄壤', '典型黄壤', '红泥质黄壤', '腐厚层红泥质黄壤'],\n",
    " '厚层壤质中性紫色土': ['紫色土', '中性紫色土', '壤质中性紫色土', '厚层壤质中性紫色土'],\n",
    " '腐厚层壤质中性紫色土': ['紫色土', '中性紫色土', '壤质中性紫色土', '腐厚层壤质中性紫色土'],\n",
    " '腐厚层壤质酸性紫色土': ['紫色土', '酸性紫色土', '壤质酸性紫色土', '腐厚层壤质酸性紫色土'],\n",
    " '厚层壤质酸性紫色土': ['紫色土', '酸性紫色土', '壤质酸性紫色土', '厚层壤质酸性紫色土'],\n",
    " '腐厚层泥质黄棕壤': ['黄棕壤', '暗黄棕壤', '泥质暗黄棕壤', '腐厚层泥质黄棕壤'],\n",
    " '腐厚层暗泥质黄壤': ['黄壤', '典型黄壤', '暗泥质黄壤', '腐厚层暗泥质黄壤'],\n",
    " '腐薄层暗泥质黄壤': ['黄壤', '典型黄壤', '暗泥质黄壤', '腐薄层暗泥质黄壤'],\n",
    " '薄层暗泥质黄壤': ['黄壤', '典型黄壤', '暗泥质黄壤', '薄层暗泥质黄壤'],\n",
    " '腐中层暗泥质黄壤': ['黄壤', '典型黄壤', '暗泥质黄壤', '腐中层暗泥质黄壤'],\n",
    " '中层暗泥质黄壤': ['黄壤', '典型黄壤', '暗泥质黄壤', '中层暗泥质黄壤'],\n",
    " '腐薄层硅质酸性粗骨土': ['粗骨土', '酸性粗骨土', '硅质酸性粗骨土', '腐薄层硅质酸性粗骨土'],\n",
    " '黄浅暗泥田': ['水稻土', '淹育型水稻土', '浅暗泥田', '黄浅暗泥田'],\n",
    " '腐薄层泥质黄棕壤': ['黄棕壤', '暗黄棕壤', '泥质暗黄棕壤', '腐薄层泥质黄棕壤'],\n",
    " '黄暗泥田': ['水稻土', '潴育型水稻土', '暗泥田', '黄暗泥田'],\n",
    " '腐中层黏质中性紫色土': ['紫色土', '中性紫色土', '黏质中性紫色土', '腐中层黏质中性紫色土']}"
   ]
  },
  {
   "cell_type": "code",
   "execution_count": 78,
   "metadata": {},
   "outputs": [],
   "source": [
    "soil_type_dict = {}\n",
    "for key in search_dict:\n",
    "    soil_type_dict[key] = {\"土类\":search_dict[key][0],\"亚类\":search_dict[key][1],\"土属\":search_dict[key][2]}\n"
   ]
  },
  {
   "cell_type": "code",
   "execution_count": 80,
   "metadata": {},
   "outputs": [],
   "source": [
    "# 使用 apply 方法结合 lambda 函数来获取对应的 '土类' 值\n",
    "result_df = result_df.copy()\n",
    "result_df['Class1_tl'] = result_df['Class1'].apply(lambda x: soil_type_dict.get(x, {}).get('土类', None))\n",
    "result_df['Class1_yl'] = result_df['Class1'].apply(lambda x: soil_type_dict.get(x, {}).get('亚类', None))\n",
    "result_df['Class1_ts'] = result_df['Class1'].apply(lambda x: soil_type_dict.get(x, {}).get('土属', None))\n"
   ]
  },
  {
   "cell_type": "code",
   "execution_count": 81,
   "metadata": {},
   "outputs": [
    {
     "data": {
      "text/html": [
       "<div>\n",
       "<style scoped>\n",
       "    .dataframe tbody tr th:only-of-type {\n",
       "        vertical-align: middle;\n",
       "    }\n",
       "\n",
       "    .dataframe tbody tr th {\n",
       "        vertical-align: top;\n",
       "    }\n",
       "\n",
       "    .dataframe thead th {\n",
       "        text-align: right;\n",
       "    }\n",
       "</style>\n",
       "<table border=\"1\" class=\"dataframe\">\n",
       "  <thead>\n",
       "    <tr style=\"text-align: right;\">\n",
       "      <th></th>\n",
       "      <th>OBJECTID</th>\n",
       "      <th>Class1</th>\n",
       "      <th>Class2</th>\n",
       "      <th>Prob1</th>\n",
       "      <th>Prob2</th>\n",
       "      <th>Entropy</th>\n",
       "      <th>Uncertainty</th>\n",
       "      <th>Class1_tl</th>\n",
       "      <th>Class1_yl</th>\n",
       "      <th>Class1_ts</th>\n",
       "    </tr>\n",
       "  </thead>\n",
       "  <tbody>\n",
       "    <tr>\n",
       "      <th>0</th>\n",
       "      <td>235</td>\n",
       "      <td>黄白粉泥田</td>\n",
       "      <td>黄浅白粉泥田</td>\n",
       "      <td>0.400000</td>\n",
       "      <td>0.253333</td>\n",
       "      <td>1.472059</td>\n",
       "      <td>0.142969</td>\n",
       "      <td>水稻土</td>\n",
       "      <td>潴育型水稻土</td>\n",
       "      <td>白粉泥田</td>\n",
       "    </tr>\n",
       "    <tr>\n",
       "      <th>1</th>\n",
       "      <td>274</td>\n",
       "      <td>黄白粉泥田</td>\n",
       "      <td>黄浅白粉泥田</td>\n",
       "      <td>0.403333</td>\n",
       "      <td>0.313333</td>\n",
       "      <td>1.410805</td>\n",
       "      <td>0.158114</td>\n",
       "      <td>水稻土</td>\n",
       "      <td>潴育型水稻土</td>\n",
       "      <td>白粉泥田</td>\n",
       "    </tr>\n",
       "    <tr>\n",
       "      <th>2</th>\n",
       "      <td>309</td>\n",
       "      <td>黄白粉泥田</td>\n",
       "      <td>黄浅白粉泥田</td>\n",
       "      <td>0.410000</td>\n",
       "      <td>0.250000</td>\n",
       "      <td>1.384934</td>\n",
       "      <td>0.159039</td>\n",
       "      <td>水稻土</td>\n",
       "      <td>潴育型水稻土</td>\n",
       "      <td>白粉泥田</td>\n",
       "    </tr>\n",
       "    <tr>\n",
       "      <th>3</th>\n",
       "      <td>322</td>\n",
       "      <td>黄白粉泥田</td>\n",
       "      <td>黄浅白粉泥田</td>\n",
       "      <td>0.483333</td>\n",
       "      <td>0.260000</td>\n",
       "      <td>1.346308</td>\n",
       "      <td>0.178736</td>\n",
       "      <td>水稻土</td>\n",
       "      <td>潴育型水稻土</td>\n",
       "      <td>白粉泥田</td>\n",
       "    </tr>\n",
       "    <tr>\n",
       "      <th>4</th>\n",
       "      <td>332</td>\n",
       "      <td>黄白粉泥田</td>\n",
       "      <td>黄浅白粉泥田</td>\n",
       "      <td>0.560000</td>\n",
       "      <td>0.233333</td>\n",
       "      <td>1.250150</td>\n",
       "      <td>0.207150</td>\n",
       "      <td>水稻土</td>\n",
       "      <td>潴育型水稻土</td>\n",
       "      <td>白粉泥田</td>\n",
       "    </tr>\n",
       "    <tr>\n",
       "      <th>...</th>\n",
       "      <td>...</td>\n",
       "      <td>...</td>\n",
       "      <td>...</td>\n",
       "      <td>...</td>\n",
       "      <td>...</td>\n",
       "      <td>...</td>\n",
       "      <td>...</td>\n",
       "      <td>...</td>\n",
       "      <td>...</td>\n",
       "      <td>...</td>\n",
       "    </tr>\n",
       "    <tr>\n",
       "      <th>186123</th>\n",
       "      <td>184515</td>\n",
       "      <td>腐中层砂泥质黄壤</td>\n",
       "      <td>腐厚层砂泥质黄壤</td>\n",
       "      <td>0.636667</td>\n",
       "      <td>0.330000</td>\n",
       "      <td>0.766693</td>\n",
       "      <td>0.301680</td>\n",
       "      <td>黄壤</td>\n",
       "      <td>典型黄壤</td>\n",
       "      <td>砂泥质黄壤</td>\n",
       "    </tr>\n",
       "    <tr>\n",
       "      <th>186124</th>\n",
       "      <td>184587</td>\n",
       "      <td>腐中层砂泥质黄壤</td>\n",
       "      <td>腐厚层砂泥质黄壤</td>\n",
       "      <td>0.583333</td>\n",
       "      <td>0.390000</td>\n",
       "      <td>0.778291</td>\n",
       "      <td>0.282627</td>\n",
       "      <td>黄壤</td>\n",
       "      <td>典型黄壤</td>\n",
       "      <td>砂泥质黄壤</td>\n",
       "    </tr>\n",
       "    <tr>\n",
       "      <th>186125</th>\n",
       "      <td>184606</td>\n",
       "      <td>腐中层砂泥质黄壤</td>\n",
       "      <td>腐厚层砂泥质黄壤</td>\n",
       "      <td>0.680000</td>\n",
       "      <td>0.310000</td>\n",
       "      <td>0.671369</td>\n",
       "      <td>0.335609</td>\n",
       "      <td>黄壤</td>\n",
       "      <td>典型黄壤</td>\n",
       "      <td>砂泥质黄壤</td>\n",
       "    </tr>\n",
       "    <tr>\n",
       "      <th>186126</th>\n",
       "      <td>184608</td>\n",
       "      <td>腐中层砂泥质黄壤</td>\n",
       "      <td>腐厚层砂泥质黄壤</td>\n",
       "      <td>0.586667</td>\n",
       "      <td>0.393333</td>\n",
       "      <td>0.758127</td>\n",
       "      <td>0.288059</td>\n",
       "      <td>黄壤</td>\n",
       "      <td>典型黄壤</td>\n",
       "      <td>砂泥质黄壤</td>\n",
       "    </tr>\n",
       "    <tr>\n",
       "      <th>186127</th>\n",
       "      <td>184741</td>\n",
       "      <td>腐中层砂泥质黄壤</td>\n",
       "      <td>腐厚层砂泥质黄壤</td>\n",
       "      <td>0.553333</td>\n",
       "      <td>0.430000</td>\n",
       "      <td>0.758606</td>\n",
       "      <td>0.281089</td>\n",
       "      <td>黄壤</td>\n",
       "      <td>典型黄壤</td>\n",
       "      <td>砂泥质黄壤</td>\n",
       "    </tr>\n",
       "  </tbody>\n",
       "</table>\n",
       "<p>186128 rows × 10 columns</p>\n",
       "</div>"
      ],
      "text/plain": [
       "        OBJECTID    Class1    Class2     Prob1     Prob2   Entropy  \\\n",
       "0            235     黄白粉泥田    黄浅白粉泥田  0.400000  0.253333  1.472059   \n",
       "1            274     黄白粉泥田    黄浅白粉泥田  0.403333  0.313333  1.410805   \n",
       "2            309     黄白粉泥田    黄浅白粉泥田  0.410000  0.250000  1.384934   \n",
       "3            322     黄白粉泥田    黄浅白粉泥田  0.483333  0.260000  1.346308   \n",
       "4            332     黄白粉泥田    黄浅白粉泥田  0.560000  0.233333  1.250150   \n",
       "...          ...       ...       ...       ...       ...       ...   \n",
       "186123    184515  腐中层砂泥质黄壤  腐厚层砂泥质黄壤  0.636667  0.330000  0.766693   \n",
       "186124    184587  腐中层砂泥质黄壤  腐厚层砂泥质黄壤  0.583333  0.390000  0.778291   \n",
       "186125    184606  腐中层砂泥质黄壤  腐厚层砂泥质黄壤  0.680000  0.310000  0.671369   \n",
       "186126    184608  腐中层砂泥质黄壤  腐厚层砂泥质黄壤  0.586667  0.393333  0.758127   \n",
       "186127    184741  腐中层砂泥质黄壤  腐厚层砂泥质黄壤  0.553333  0.430000  0.758606   \n",
       "\n",
       "        Uncertainty Class1_tl Class1_yl Class1_ts  \n",
       "0          0.142969       水稻土    潴育型水稻土      白粉泥田  \n",
       "1          0.158114       水稻土    潴育型水稻土      白粉泥田  \n",
       "2          0.159039       水稻土    潴育型水稻土      白粉泥田  \n",
       "3          0.178736       水稻土    潴育型水稻土      白粉泥田  \n",
       "4          0.207150       水稻土    潴育型水稻土      白粉泥田  \n",
       "...             ...       ...       ...       ...  \n",
       "186123     0.301680        黄壤      典型黄壤     砂泥质黄壤  \n",
       "186124     0.282627        黄壤      典型黄壤     砂泥质黄壤  \n",
       "186125     0.335609        黄壤      典型黄壤     砂泥质黄壤  \n",
       "186126     0.288059        黄壤      典型黄壤     砂泥质黄壤  \n",
       "186127     0.281089        黄壤      典型黄壤     砂泥质黄壤  \n",
       "\n",
       "[186128 rows x 10 columns]"
      ]
     },
     "execution_count": 81,
     "metadata": {},
     "output_type": "execute_result"
    }
   ],
   "source": [
    "result_df"
   ]
  },
  {
   "cell_type": "code",
   "execution_count": 83,
   "metadata": {},
   "outputs": [],
   "source": [
    "# 保存数据\n",
    "result_df.to_csv(os.path.join(result_path, f'prediction_class_{select_model}_{get_dtime()}.csv'),index=False)"
   ]
  },
  {
   "cell_type": "code",
   "execution_count": 89,
   "metadata": {},
   "outputs": [],
   "source": [
    "\n",
    "\n",
    "def analyze_class_distribution(result_df):\n",
    "    # 计算 Class1 的值计数\n",
    "    class1_counts = result_df['Class1'].value_counts()\n",
    "    \n",
    "    # 计算 Class1 和 Class1_ts 的唯一值数量\n",
    "    class1_unique_count = len(result_df['Class1'].unique())\n",
    "    class1_ts_unique_count = len(result_df['Class1_ts'].unique())\n",
    "    \n",
    "    # 创建一个包含所有信息的 DataFrame\n",
    "    summary_df = pd.DataFrame({\n",
    "        'Class': class1_counts.index,\n",
    "        'Count': class1_counts.values\n",
    "    })\n",
    "    \n",
    "    # 添加百分比列\n",
    "    summary_df['Percentage'] = summary_df['Count'] / summary_df['Count'].sum() * 100\n",
    "    \n",
    "    # 排序并重置索引\n",
    "    summary_df = summary_df.sort_values('Count', ascending=False).reset_index(drop=True)\n",
    "    \n",
    "    \n",
    "    return summary_df\n",
    "\n",
    "# 使用示例\n",
    "view_df = analyze_class_distribution(result_df)"
   ]
  },
  {
   "cell_type": "code",
   "execution_count": 90,
   "metadata": {},
   "outputs": [
    {
     "data": {
      "text/html": [
       "<div>\n",
       "<style scoped>\n",
       "    .dataframe tbody tr th:only-of-type {\n",
       "        vertical-align: middle;\n",
       "    }\n",
       "\n",
       "    .dataframe tbody tr th {\n",
       "        vertical-align: top;\n",
       "    }\n",
       "\n",
       "    .dataframe thead th {\n",
       "        text-align: right;\n",
       "    }\n",
       "</style>\n",
       "<table border=\"1\" class=\"dataframe\">\n",
       "  <thead>\n",
       "    <tr style=\"text-align: right;\">\n",
       "      <th></th>\n",
       "      <th>Class</th>\n",
       "      <th>Count</th>\n",
       "      <th>Percentage</th>\n",
       "    </tr>\n",
       "  </thead>\n",
       "  <tbody>\n",
       "    <tr>\n",
       "      <th>0</th>\n",
       "      <td>腐中层壤质黄色石灰土</td>\n",
       "      <td>33834</td>\n",
       "      <td>18.177813</td>\n",
       "    </tr>\n",
       "    <tr>\n",
       "      <th>1</th>\n",
       "      <td>中层壤质黄色石灰土</td>\n",
       "      <td>23269</td>\n",
       "      <td>12.501612</td>\n",
       "    </tr>\n",
       "    <tr>\n",
       "      <th>2</th>\n",
       "      <td>腐薄层壤质黄色石灰土</td>\n",
       "      <td>10991</td>\n",
       "      <td>5.905076</td>\n",
       "    </tr>\n",
       "    <tr>\n",
       "      <th>3</th>\n",
       "      <td>薄层壤质黄色石灰土</td>\n",
       "      <td>9428</td>\n",
       "      <td>5.065331</td>\n",
       "    </tr>\n",
       "    <tr>\n",
       "      <th>4</th>\n",
       "      <td>浅石灰泥田</td>\n",
       "      <td>8169</td>\n",
       "      <td>4.388915</td>\n",
       "    </tr>\n",
       "    <tr>\n",
       "      <th>...</th>\n",
       "      <td>...</td>\n",
       "      <td>...</td>\n",
       "      <td>...</td>\n",
       "    </tr>\n",
       "    <tr>\n",
       "      <th>95</th>\n",
       "      <td>腐薄层硅质酸性粗骨土</td>\n",
       "      <td>29</td>\n",
       "      <td>0.015581</td>\n",
       "    </tr>\n",
       "    <tr>\n",
       "      <th>96</th>\n",
       "      <td>腐薄层砂泥质黄壤</td>\n",
       "      <td>25</td>\n",
       "      <td>0.013432</td>\n",
       "    </tr>\n",
       "    <tr>\n",
       "      <th>97</th>\n",
       "      <td>腐中层壤质酸性紫色土</td>\n",
       "      <td>20</td>\n",
       "      <td>0.010745</td>\n",
       "    </tr>\n",
       "    <tr>\n",
       "      <th>98</th>\n",
       "      <td>腐薄层黏质黄色石灰土</td>\n",
       "      <td>17</td>\n",
       "      <td>0.009133</td>\n",
       "    </tr>\n",
       "    <tr>\n",
       "      <th>99</th>\n",
       "      <td>冷水泥田</td>\n",
       "      <td>1</td>\n",
       "      <td>0.000537</td>\n",
       "    </tr>\n",
       "  </tbody>\n",
       "</table>\n",
       "<p>100 rows × 3 columns</p>\n",
       "</div>"
      ],
      "text/plain": [
       "         Class  Count  Percentage\n",
       "0   腐中层壤质黄色石灰土  33834   18.177813\n",
       "1    中层壤质黄色石灰土  23269   12.501612\n",
       "2   腐薄层壤质黄色石灰土  10991    5.905076\n",
       "3    薄层壤质黄色石灰土   9428    5.065331\n",
       "4        浅石灰泥田   8169    4.388915\n",
       "..         ...    ...         ...\n",
       "95  腐薄层硅质酸性粗骨土     29    0.015581\n",
       "96    腐薄层砂泥质黄壤     25    0.013432\n",
       "97  腐中层壤质酸性紫色土     20    0.010745\n",
       "98  腐薄层黏质黄色石灰土     17    0.009133\n",
       "99        冷水泥田      1    0.000537\n",
       "\n",
       "[100 rows x 3 columns]"
      ]
     },
     "execution_count": 90,
     "metadata": {},
     "output_type": "execute_result"
    }
   ],
   "source": [
    "view_df"
   ]
  },
  {
   "cell_type": "code",
   "execution_count": 91,
   "metadata": {},
   "outputs": [
    {
     "data": {
      "image/png": "[encoded data removed]",
      "text/plain": [
       "<Figure size 640x480 with 1 Axes>"
      ]
     },
     "metadata": {},
     "output_type": "display_data"
    },
    {
     "name": "stdout",
     "output_type": "stream",
     "text": [
      "分界值: 1.8463105947018215\n"
     ]
    }
   ],
   "source": [
    "import numpy as np\n",
    "import pandas as pd\n",
    "import matplotlib.pyplot as plt\n",
    "\n",
    "# 提取熵值\n",
    "entropy = result_df['Entropy']\n",
    "\n",
    "# 计算熵的均值和标准差\n",
    "entropy_mean = entropy.mean()\n",
    "entropy_std = entropy.std()\n",
    "entropy_threshold = entropy_mean + entropy_std\n",
    "\n",
    "# 绘制熵的分布图\n",
    "plt.hist(entropy, bins=50, alpha=0.75, label='Entropy')\n",
    "plt.xlabel('Entropy')\n",
    "plt.ylabel('Frequency')\n",
    "plt.title('Entropy Distribution')\n",
    "plt.axvline(entropy_threshold, color='r', linestyle='dashed', linewidth=2, label='Threshold')\n",
    "plt.legend()\n",
    "plt.show()\n",
    "\n",
    "# 可信的预测结果\n",
    "reliable_predictions = result_df[entropy <= entropy_threshold]\n",
    "\n",
    "# 输出结果\n",
    "print(f\"分界值: {entropy_threshold}\")\n"
   ]
  },
  {
   "cell_type": "code",
   "execution_count": 92,
   "metadata": {},
   "outputs": [
    {
     "data": {
      "image/png": "[encoded data removed]",
      "text/plain": [
       "<Figure size 640x480 with 1 Axes>"
      ]
     },
     "metadata": {},
     "output_type": "display_data"
    },
    {
     "name": "stdout",
     "output_type": "stream",
     "text": [
      "不确定性分界值: 0.2490421285209335\n"
     ]
    }
   ],
   "source": [
    "import numpy as np\n",
    "import pandas as pd\n",
    "import matplotlib.pyplot as plt\n",
    "uncertainty = result_df['Uncertainty']\n",
    "# 计算不确定性的均值和标准差\n",
    "uncertainty_mean = uncertainty.mean()\n",
    "uncertainty_std = uncertainty.std()\n",
    "uncertainty_threshold = uncertainty_mean + uncertainty_std\n",
    "\n",
    "# 绘制不确定性的分布图\n",
    "plt.hist(uncertainty, bins=50, alpha=0.75, label='Uncertainty')\n",
    "plt.xlabel('Uncertainty')\n",
    "plt.ylabel('Frequency')\n",
    "plt.title('Uncertainty Distribution')\n",
    "plt.axvline(uncertainty_threshold, color='r', linestyle='dashed', linewidth=2, label='Threshold')\n",
    "plt.legend()\n",
    "plt.show()\n",
    "\n",
    "# 可信的预测结果\n",
    "reliable_predictions = result_df[uncertainty <= uncertainty_threshold]\n",
    "\n",
    "# 输出结果\n",
    "print(f\"不确定性分界值: {uncertainty_threshold}\")\n"
   ]
  },
  {
   "cell_type": "code",
   "execution_count": 93,
   "metadata": {},
   "outputs": [
    {
     "data": {
      "image/png": "[encoded data removed]",
      "text/plain": [
       "<Figure size 640x480 with 1 Axes>"
      ]
     },
     "metadata": {},
     "output_type": "display_data"
    },
    {
     "name": "stdout",
     "output_type": "stream",
     "text": [
      "第75百分位数分界值: 0.19942975044250488\n"
     ]
    }
   ],
   "source": [
    "# 计算第75百分位数\n",
    "uncertainty_threshold_75 = np.percentile(uncertainty, 75)\n",
    "\n",
    "# 绘制不确定性的分布图\n",
    "plt.hist(uncertainty, bins=50, alpha=0.75, label='Uncertainty')\n",
    "plt.xlabel('Uncertainty')\n",
    "plt.ylabel('Frequency')\n",
    "plt.title('Uncertainty Distribution')\n",
    "plt.axvline(uncertainty_threshold_75, color='r', linestyle='dashed', linewidth=2, label='75th Percentile Threshold')\n",
    "plt.legend()\n",
    "plt.show()\n",
    "\n",
    "# 可信的预测结果\n",
    "reliable_predictions_75 = result_df[uncertainty <= uncertainty_threshold_75]\n",
    "\n",
    "# 输出结果\n",
    "print(f\"第75百分位数分界值: {uncertainty_threshold_75}\")"
   ]
  }
 ],
 "metadata": {
  "kernelspec": {
   "display_name": ".venvgis",
   "language": "python",
   "name": "python3"
  },
  "language_info": {
   "codemirror_mode": {
    "name": "ipython",
    "version": 3
   },
   "file_extension": ".py",
   "mimetype": "text/x-python",
   "name": "python",
   "nbconvert_exporter": "python",
   "pygments_lexer": "ipython3",
   "version": "3.10.11"
  }
 },
 "nbformat": 4,
 "nbformat_minor": 2
}
