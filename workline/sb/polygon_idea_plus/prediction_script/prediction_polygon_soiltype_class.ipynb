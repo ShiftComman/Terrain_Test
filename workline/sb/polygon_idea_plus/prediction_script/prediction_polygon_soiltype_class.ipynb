{
 "cells": [
  {
   "cell_type": "code",
   "execution_count": 33,
   "metadata": {},
   "outputs": [],
   "source": [
    "import os\n",
    "import json\n",
    "import pandas as pd\n",
    "import numpy as np\n",
    "from autogluon.tabular import TabularPredictor\n",
    "from pykrige.ok import OrdinaryKriging\n",
    "from sklearn.metrics import r2_score\n",
    "from pyproj import Transformer\n",
    "from tqdm import tqdm\n",
    "import pickle"
   ]
  },
  {
   "cell_type": "code",
   "execution_count": 34,
   "metadata": {},
   "outputs": [],
   "source": [
    "# 获取当前日期\n",
    "def get_dtime():\n",
    "    # 例如20240516\n",
    "    import datetime\n",
    "    dtime = datetime.datetime.now().strftime('%Y%m%d')\n",
    "    return dtime"
   ]
  },
  {
   "cell_type": "code",
   "execution_count": 35,
   "metadata": {},
   "outputs": [],
   "source": [
    "# 导入autogluon模型\n",
    "model_path = r\"F:\\cache_data\\zone_ana\\dy\\modle\\autogluon_type_class\"\n",
    "sdt_predictor = TabularPredictor.load(os.path.join(model_path, f\"{'sdt'}_model\"))\n",
    "fzrt_predictor = TabularPredictor.load(os.path.join(model_path, f\"{'fzrt'}_model\"))\n",
    "zrt_predictor = TabularPredictor.load(os.path.join(model_path, f\"{'zrt'}_model\"))"
   ]
  },
  {
   "cell_type": "code",
   "execution_count": 36,
   "metadata": {},
   "outputs": [
    {
     "data": {
      "text/plain": [
       "('WeightedEnsemble_L2',\n",
       " ['NeuralNetFastAI',\n",
       "  'RandomForestGini',\n",
       "  'RandomForestEntr',\n",
       "  'ExtraTreesGini',\n",
       "  'ExtraTreesEntr',\n",
       "  'NeuralNetTorch',\n",
       "  'WeightedEnsemble_L2'])"
      ]
     },
     "execution_count": 36,
     "metadata": {},
     "output_type": "execute_result"
    }
   ],
   "source": [
    "sdt_predictor.model_best,sdt_predictor.model_names()"
   ]
  },
  {
   "cell_type": "code",
   "execution_count": 37,
   "metadata": {},
   "outputs": [
    {
     "data": {
      "text/plain": [
       "('WeightedEnsemble_L2',\n",
       " ['NeuralNetFastAI',\n",
       "  'RandomForestGini',\n",
       "  'RandomForestEntr',\n",
       "  'ExtraTreesGini',\n",
       "  'ExtraTreesEntr',\n",
       "  'NeuralNetTorch',\n",
       "  'WeightedEnsemble_L2'])"
      ]
     },
     "execution_count": 37,
     "metadata": {},
     "output_type": "execute_result"
    }
   ],
   "source": [
    "fzrt_predictor.model_best,fzrt_predictor.model_names()"
   ]
  },
  {
   "cell_type": "code",
   "execution_count": 38,
   "metadata": {},
   "outputs": [
    {
     "data": {
      "text/plain": [
       "('WeightedEnsemble_L2',\n",
       " ['NeuralNetFastAI',\n",
       "  'RandomForestGini',\n",
       "  'RandomForestEntr',\n",
       "  'ExtraTreesGini',\n",
       "  'ExtraTreesEntr',\n",
       "  'NeuralNetTorch',\n",
       "  'WeightedEnsemble_L2'])"
      ]
     },
     "execution_count": 38,
     "metadata": {},
     "output_type": "execute_result"
    }
   ],
   "source": [
    "zrt_predictor.model_best,zrt_predictor.model_names()"
   ]
  },
  {
   "cell_type": "code",
   "execution_count": 39,
   "metadata": {},
   "outputs": [
    {
     "name": "stdout",
     "output_type": "stream",
     "text": [
      "SDT ['DLMC', 'XMin', 'XMax', 'YMin', 'YMax', 'Centroid_X', 'Centroid_Y', 'Riverdis', 'DEM_MAX', 'DEM_MIN', 'DEM_MEAN', 'DEM_RANGE', 'DEM_AREA', 'ndvi_MEAN', 'PCA_0_MEAN', 'Slope_MAX', 'Slope_MIN', 'Slope_MEAN', 'Slope_RANGE', 'Aspect_MEAN', 'MRVBF_MAX', 'MRVBF_MIN', 'MRVBF_MEAN', 'MRVBF_RANGE', 'TopographicWetnessIndex_MEAN', 'TopographicWetnessIndex_RANGE', 'Mean_MEAN', 'PH_MEAN', 'PRE_MEAN', 'PRE_RANGE', 'SRA_MEAN', 'SRA_RANGE', 'TMP_MEAN', 'TMP_RANGE', 'VAP_MEAN', 'VAP_RANGE', 'WIND_MEAN', 'WIND_RANGE', 'PlanCurvature_MEAN', 'PlanCurvature_RANGE']\n",
      "FZRT ['DLMC', 'XMin', 'XMax', 'YMin', 'YMax', 'Centroid_X', 'Centroid_Y', 'DEM_MAX', 'DEM_MIN', 'DEM_MEAN', 'DEM_RANGE', 'DEM_AREA', 'ndvi_MEAN', 'PCA_0_MEAN', 'Slope_MAX', 'Slope_MIN', 'Slope_MEAN', 'Slope_RANGE', 'Aspect_MEAN', 'MRVBF_MAX', 'MRVBF_MIN', 'MRVBF_MEAN', 'MRVBF_RANGE', 'TopographicWetnessIndex_MEAN', 'TopographicWetnessIndex_RANGE', 'Mean_MEAN', 'PH_MEAN', 'PRE_MEAN', 'PRE_RANGE', 'SRA_MEAN', 'SRA_RANGE', 'TMP_MEAN', 'TMP_RANGE', 'VAP_MEAN', 'VAP_RANGE', 'WIND_MEAN', 'WIND_RANGE', 'PlanCurvature_MEAN', 'PlanCurvature_RANGE']\n",
      "ZRT ['DLMC', 'XMin', 'XMax', 'YMin', 'YMax', 'Centroid_X', 'Centroid_Y', 'DEM_MAX', 'DEM_MIN', 'DEM_MEAN', 'DEM_RANGE', 'DEM_AREA', 'ndvi_MEAN', 'PCA_0_MEAN', 'Slope_MAX', 'Slope_MIN', 'Slope_MEAN', 'Slope_RANGE', 'Aspect_MEAN', 'MRVBF_MAX', 'MRVBF_MIN', 'MRVBF_MEAN', 'MRVBF_RANGE', 'TopographicWetnessIndex_MEAN', 'TopographicWetnessIndex_RANGE', 'Mean_MEAN', 'PH_MEAN', 'PRE_MEAN', 'PRE_RANGE', 'SRA_MEAN', 'SRA_RANGE', 'TMP_MEAN', 'TMP_RANGE', 'VAP_MEAN', 'VAP_RANGE', 'WIND_MEAN', 'WIND_RANGE', 'PlanCurvature_MEAN', 'PlanCurvature_RANGE']\n"
     ]
    }
   ],
   "source": [
    "# 获取特征\n",
    "sdt_feature_names = sdt_predictor.feature_metadata_in.get_features()\n",
    "print(\"SDT\",sdt_feature_names)\n",
    "fzrt_feature_names = fzrt_predictor.feature_metadata_in.get_features()\n",
    "print(\"FZRT\",fzrt_feature_names)\n",
    "zrt_feature_names = zrt_predictor.feature_metadata_in.get_features()\n",
    "print(\"ZRT\",zrt_feature_names)"
   ]
  },
  {
   "cell_type": "code",
   "execution_count": 40,
   "metadata": {},
   "outputs": [],
   "source": [
    "# 存放预测结果的路径\n",
    "result_path =  r\"F:\\cache_data\\zone_ana\\dy\\prediction_result\""
   ]
  },
  {
   "cell_type": "code",
   "execution_count": 41,
   "metadata": {},
   "outputs": [],
   "source": [
    "# 读取数据集\n",
    "feature_path = r'F:\\cache_data\\zone_ana\\dy\\prediction_data\\result.csv'"
   ]
  },
  {
   "cell_type": "code",
   "execution_count": 42,
   "metadata": {},
   "outputs": [],
   "source": [
    "feature_df = pd.read_csv(feature_path)"
   ]
  },
  {
   "cell_type": "code",
   "execution_count": 43,
   "metadata": {},
   "outputs": [],
   "source": [
    "# 区分数据\n",
    "# 筛选水稻土数据\n",
    "sdt_data = feature_df[feature_df['DLMC'].isin(['水田','水浇地','坑塘水面','养殖坑塘','内陆滩涂'])]"
   ]
  },
  {
   "cell_type": "code",
   "execution_count": 44,
   "metadata": {},
   "outputs": [],
   "source": [
    "# 筛选非自然土数据\n",
    "fzrt_data = feature_df[~feature_df['DLMC'].isin(['乔木林地','灌木林地','竹林地','其他林地','其他草地','天然牧草地','人工牧草地','水田','水浇地','坑塘水面','养殖坑塘','内陆滩涂'])]"
   ]
  },
  {
   "cell_type": "code",
   "execution_count": 45,
   "metadata": {},
   "outputs": [],
   "source": [
    "# 筛选自然土数据\n",
    "zrt_data = feature_df[feature_df['DLMC'].isin(['乔木林地','灌木林地','竹林地','其他林地','其他草地','天然牧草地','人工牧草地'])]"
   ]
  },
  {
   "cell_type": "code",
   "execution_count": 46,
   "metadata": {},
   "outputs": [
    {
     "data": {
      "text/plain": [
       "((24169, 400), (50414, 400), (42820, 400), (117403, 400), True)"
      ]
     },
     "execution_count": 46,
     "metadata": {},
     "output_type": "execute_result"
    }
   ],
   "source": [
    "# 检查数据完整性\n",
    "sdt_data.shape,fzrt_data.shape,zrt_data.shape,feature_df.shape,sdt_data.shape[0]+fzrt_data.shape[0]+zrt_data.shape[0]==feature_df.shape[0]"
   ]
  },
  {
   "cell_type": "code",
   "execution_count": 47,
   "metadata": {},
   "outputs": [],
   "source": [
    "# 获取对照字典\n",
    "with open(r'D:\\worker_code\\Terrain_Test\\data\\soil_dict.json', 'r') as f:\n",
    "    soil_dict = json.load(f)"
   ]
  },
  {
   "cell_type": "code",
   "execution_count": 48,
   "metadata": {},
   "outputs": [],
   "source": [
    "# 模型选择\n",
    "select_model = 'RandomForestEntr'"
   ]
  },
  {
   "cell_type": "code",
   "execution_count": 49,
   "metadata": {},
   "outputs": [],
   "source": [
    "# 使用对应模型进行预测\n",
    "sdt_data = sdt_data.copy()\n",
    "sdt_data['pre_value'] = sdt_predictor.predict(sdt_data[sdt_feature_names], model=select_model).to_frame()['TZ_label']\n",
    "fzrt_data = fzrt_data.copy()\n",
    "fzrt_data['pre_value'] = fzrt_predictor.predict(fzrt_data[fzrt_feature_names], model=select_model).to_frame()['TZ_label']\n",
    "zrt_data = zrt_data.copy()\n",
    "zrt_data['pre_value'] = zrt_predictor.predict(zrt_data[zrt_feature_names],model=select_model).to_frame()['TZ_label']\n"
   ]
  },
  {
   "cell_type": "code",
   "execution_count": 59,
   "metadata": {},
   "outputs": [],
   "source": [
    "# 合并数据\n",
    "result_df = pd.concat([sdt_data,fzrt_data,zrt_data])"
   ]
  },
  {
   "cell_type": "code",
   "execution_count": 60,
   "metadata": {},
   "outputs": [],
   "source": [
    "result_df = result_df[['OBJECTID','new_TZ','pre_value']]\n",
    "result_df['pre_value'] = result_df['pre_value'].astype(str)"
   ]
  },
  {
   "cell_type": "code",
   "execution_count": 61,
   "metadata": {},
   "outputs": [],
   "source": [
    "result_df = result_df.copy()\n",
    "result_df['reclass_tz'] = result_df['pre_value'].map(soil_dict)"
   ]
  },
  {
   "cell_type": "code",
   "execution_count": 62,
   "metadata": {},
   "outputs": [
    {
     "data": {
      "text/html": [
       "<div>\n",
       "<style scoped>\n",
       "    .dataframe tbody tr th:only-of-type {\n",
       "        vertical-align: middle;\n",
       "    }\n",
       "\n",
       "    .dataframe tbody tr th {\n",
       "        vertical-align: top;\n",
       "    }\n",
       "\n",
       "    .dataframe thead th {\n",
       "        text-align: right;\n",
       "    }\n",
       "</style>\n",
       "<table border=\"1\" class=\"dataframe\">\n",
       "  <thead>\n",
       "    <tr style=\"text-align: right;\">\n",
       "      <th></th>\n",
       "      <th>OBJECTID</th>\n",
       "      <th>new_TZ</th>\n",
       "      <th>reclass_tz</th>\n",
       "    </tr>\n",
       "  </thead>\n",
       "  <tbody>\n",
       "    <tr>\n",
       "      <th>0</th>\n",
       "      <td>1</td>\n",
       "      <td>腐薄层灰泥质黄壤</td>\n",
       "      <td>石灰泥田</td>\n",
       "    </tr>\n",
       "    <tr>\n",
       "      <th>1</th>\n",
       "      <td>2</td>\n",
       "      <td>腐薄层灰泥质黄壤</td>\n",
       "      <td>青石灰泥田</td>\n",
       "    </tr>\n",
       "    <tr>\n",
       "      <th>2</th>\n",
       "      <td>3</td>\n",
       "      <td>腐薄层灰泥质黄壤</td>\n",
       "      <td>青石灰泥田</td>\n",
       "    </tr>\n",
       "    <tr>\n",
       "      <th>3</th>\n",
       "      <td>4</td>\n",
       "      <td>薄层砾硅质黄壤</td>\n",
       "      <td>黄浅白粉泥田</td>\n",
       "    </tr>\n",
       "    <tr>\n",
       "      <th>4</th>\n",
       "      <td>5</td>\n",
       "      <td>薄层砾硅质黄壤</td>\n",
       "      <td>黄浅白粉泥田</td>\n",
       "    </tr>\n",
       "    <tr>\n",
       "      <th>...</th>\n",
       "      <td>...</td>\n",
       "      <td>...</td>\n",
       "      <td>...</td>\n",
       "    </tr>\n",
       "    <tr>\n",
       "      <th>117124</th>\n",
       "      <td>141483</td>\n",
       "      <td>腐薄层硅质黄壤</td>\n",
       "      <td>腐薄层硅质黄壤</td>\n",
       "    </tr>\n",
       "    <tr>\n",
       "      <th>117394</th>\n",
       "      <td>155830</td>\n",
       "      <td>腐中层壤质黄色石灰土,浅石红泥田</td>\n",
       "      <td>腐厚层红泥质黄壤</td>\n",
       "    </tr>\n",
       "    <tr>\n",
       "      <th>117396</th>\n",
       "      <td>155834</td>\n",
       "      <td>腐薄层红泥质黄壤</td>\n",
       "      <td>腐薄层红泥质黄壤</td>\n",
       "    </tr>\n",
       "    <tr>\n",
       "      <th>117397</th>\n",
       "      <td>155835</td>\n",
       "      <td>石红泥田</td>\n",
       "      <td>腐厚层红泥质黄壤</td>\n",
       "    </tr>\n",
       "    <tr>\n",
       "      <th>117401</th>\n",
       "      <td>155840</td>\n",
       "      <td>石红泥田</td>\n",
       "      <td>腐厚层砂泥质黄壤</td>\n",
       "    </tr>\n",
       "  </tbody>\n",
       "</table>\n",
       "<p>117403 rows × 3 columns</p>\n",
       "</div>"
      ],
      "text/plain": [
       "        OBJECTID            new_TZ reclass_tz\n",
       "0              1          腐薄层灰泥质黄壤       石灰泥田\n",
       "1              2          腐薄层灰泥质黄壤      青石灰泥田\n",
       "2              3          腐薄层灰泥质黄壤      青石灰泥田\n",
       "3              4           薄层砾硅质黄壤     黄浅白粉泥田\n",
       "4              5           薄层砾硅质黄壤     黄浅白粉泥田\n",
       "...          ...               ...        ...\n",
       "117124    141483           腐薄层硅质黄壤    腐薄层硅质黄壤\n",
       "117394    155830  腐中层壤质黄色石灰土,浅石红泥田   腐厚层红泥质黄壤\n",
       "117396    155834          腐薄层红泥质黄壤   腐薄层红泥质黄壤\n",
       "117397    155835              石红泥田   腐厚层红泥质黄壤\n",
       "117401    155840              石红泥田   腐厚层砂泥质黄壤\n",
       "\n",
       "[117403 rows x 3 columns]"
      ]
     },
     "execution_count": 62,
     "metadata": {},
     "output_type": "execute_result"
    }
   ],
   "source": [
    "result_df = result_df[['OBJECTID','new_TZ','reclass_tz']]\n",
    "result_df"
   ]
  },
  {
   "cell_type": "code",
   "execution_count": 63,
   "metadata": {},
   "outputs": [],
   "source": [
    "# 获取三普土种对照字典\n",
    "# 读取Excel文件\n",
    "sp_file_path = r\"C:\\Users\\Runker\\Desktop\\search_dict.xlsx\"\n",
    "df = pd.read_excel(sp_file_path)\n",
    "\n",
    "# 使用前向填充（ffill）处理合并单元格的情况\n",
    "df_filled = df.ffill()\n",
    "# 定义一个函数来为每一行生成一个字典\n",
    "def create_dict(row):\n",
    "    return {\n",
    "        row['三普土种']: {\n",
    "            '土类': row['三普土类'],\n",
    "            '亚类': row['三普亚类'],\n",
    "            '土属': row['三普土属'],\n",
    "        }\n",
    "    }\n",
    "\n",
    "# 使用apply方法为每一行应用这个函数，并将结果合并到一个字典中\n",
    "sp_soiltype_dict = {}\n",
    "for d in df_filled.apply(create_dict, axis=1):\n",
    "    sp_soiltype_dict.update(d)"
   ]
  },
  {
   "cell_type": "code",
   "execution_count": 64,
   "metadata": {},
   "outputs": [
    {
     "data": {
      "text/plain": [
       "{'薄层红泥质黄壤': {'土类': '黄壤', '亚类': '典型黄壤', '土属': '红泥质黄壤'},\n",
       " '中层红泥质黄壤': {'土类': '黄壤', '亚类': '典型黄壤', '土属': '红泥质黄壤'},\n",
       " '厚层红泥质黄壤': {'土类': '黄壤', '亚类': '典型黄壤', '土属': '红泥质黄壤'},\n",
       " '薄层砂泥质黄壤': {'土类': '黄壤', '亚类': '典型黄壤', '土属': '砂泥质黄壤'},\n",
       " '中层砂泥质黄壤': {'土类': '黄壤', '亚类': '典型黄壤', '土属': '砂泥质黄壤'},\n",
       " '厚层砂泥质黄壤': {'土类': '黄壤', '亚类': '典型黄壤', '土属': '砂泥质黄壤'},\n",
       " '薄层砾硅质黄壤': {'土类': '黄壤', '亚类': '典型黄壤', '土属': '砾硅质黄壤'},\n",
       " '腐薄层砂泥质黄壤': {'土类': '黄壤', '亚类': '典型黄壤', '土属': '砂泥质黄壤'},\n",
       " '腐厚层砂泥质黄壤': {'土类': '黄壤', '亚类': '典型黄壤', '土属': '砂泥质黄壤'},\n",
       " '腐中层砂泥质黄壤': {'土类': '黄壤', '亚类': '典型黄壤', '土属': '砂泥质黄壤'},\n",
       " '腐薄层红泥质黄壤': {'土类': '黄壤', '亚类': '典型黄壤', '土属': '红泥质黄壤'},\n",
       " '腐厚层红泥质黄壤': {'土类': '黄壤', '亚类': '典型黄壤', '土属': '红泥质黄壤'},\n",
       " '腐中层红泥质黄壤': {'土类': '黄壤', '亚类': '典型黄壤', '土属': '红泥质黄壤'},\n",
       " '腐厚层硅质黄壤': {'土类': '黄壤', '亚类': '典型黄壤', '土属': '硅质黄壤'},\n",
       " '腐薄层硅质黄壤': {'土类': '黄壤', '亚类': '典型黄壤', '土属': '硅质黄壤'},\n",
       " '腐中层硅质黄壤': {'土类': '黄壤', '亚类': '典型黄壤', '土属': '硅质黄壤'},\n",
       " '腐薄层灰泥质黄壤': {'土类': '黄壤', '亚类': '典型黄壤', '土属': '灰泥质黄壤'},\n",
       " '腐厚层灰泥质黄壤': {'土类': '黄壤', '亚类': '典型黄壤', '土属': '灰泥质黄壤'},\n",
       " '腐中层灰泥质黄壤': {'土类': '黄壤', '亚类': '典型黄壤', '土属': '灰泥质黄壤'},\n",
       " '腐薄层暗泥质黄壤': {'土类': '黄壤', '亚类': '典型黄壤', '土属': '暗泥质黄壤'},\n",
       " '腐中层砂泥质黄壤性土': {'土类': '黄壤', '亚类': '黄壤性土', '土属': '砂泥质黄壤性土\\n'},\n",
       " '腐薄层砾暗泥质黄壤性土': {'土类': '黄壤', '亚类': '黄壤性土', '土属': '砾暗泥质黄壤性土'},\n",
       " '薄层硅质酸性粗骨土': {'土类': '粗骨土', '亚类': '酸性粗骨土', '土属': '硅质酸性粗骨土'},\n",
       " '腐薄层硅质山地灌丛草甸土': {'土类': '山地草甸土', '亚类': '山地灌丛草甸土', '土属': '硅质山地灌丛草甸土'},\n",
       " '中层灰泥质黄色石灰土': {'土类': '石灰土', '亚类': '黄色石灰土', '土属': '壤质黄色石灰土'},\n",
       " '薄层灰泥质黄色石灰土': {'土类': '石灰土', '亚类': '黄色石灰土', '土属': '黏质黄色石灰土'},\n",
       " '厚层黏质黄色石灰土': {'土类': '石灰土', '亚类': '黄色石灰土', '土属': '黏质黄色石灰土'},\n",
       " '薄层砾壤质黑色石灰土': {'土类': '石灰土', '亚类': '黑色石灰土', '土属': '砾壤质黑色石灰土'},\n",
       " '薄层砾壤质黄色石灰土': {'土类': '石灰土', '亚类': '黄色石灰土', '土属': '砾壤质黄色石灰土'},\n",
       " '腐薄层砾砂质黑色石灰土': {'土类': '石灰土', '亚类': '黑色石灰土', '土属': '砾砂质黑色石灰土'},\n",
       " '腐厚层壤质黑色石灰土': {'土类': '石灰土', '亚类': '黑色石灰土', '土属': '壤质黑色石灰土'},\n",
       " '腐中层壤质黑色石灰土': {'土类': '石灰土', '亚类': '黑色石灰土', '土属': '壤质黑色石灰土'},\n",
       " '腐薄层黏质黄色石灰土': {'土类': '石灰土', '亚类': '黄色石灰土', '土属': '黏质黄色石灰土'},\n",
       " '腐薄层壤质黄色石灰土': {'土类': '石灰土', '亚类': '黄色石灰土', '土属': '壤质黄色石灰土'},\n",
       " '腐厚层壤质黄色石灰土': {'土类': '石灰土', '亚类': '黄色石灰土', '土属': '壤质黄色石灰土'},\n",
       " '腐中层壤质黄色石灰土': {'土类': '石灰土', '亚类': '黄色石灰土', '土属': '壤质黄色石灰土'},\n",
       " '腐中层砾壤质钙质紫色土': {'土类': '紫色土', '亚类': '钙质紫色土', '土属': '砾壤质钙质紫色土'},\n",
       " '腐中层砾壤质酸性紫色土': {'土类': '紫色土', '亚类': '酸性紫色土', '土属': '砾壤质酸性紫色土'},\n",
       " '薄层壤质中性紫色土': {'土类': '紫色土', '亚类': '中性紫色土', '土属': '壤质中性紫色土'},\n",
       " '中层砾壤质中性紫色土': {'土类': '紫色土', '亚类': '中性紫色土', '土属': '砾壤质中性紫色土'},\n",
       " '薄层砾壤质中性紫色土': {'土类': '紫色土', '亚类': '中性紫色土', '土属': '砾壤质中性紫色土'},\n",
       " '黄浅红泥田': {'土类': '水稻土', '亚类': '淹育型水稻土', '土属': '浅红泥田'},\n",
       " '黄浅砂泥田': {'土类': '水稻土', '亚类': '淹育型水稻土', '土属': '浅砂泥田'},\n",
       " '黄浅白粉泥田': {'土类': '水稻土', '亚类': '淹育型水稻土', '土属': '浅白粉泥田'},\n",
       " '黄浅鳝泥田': {'土类': '水稻土', '亚类': '淹育型水稻土', '土属': '浅鳝泥田'},\n",
       " '黄白粉泥田': {'土类': '水稻土', '亚类': '潴育型水稻土', '土属': '白粉泥田'},\n",
       " '浅石红泥田': {'土类': '水稻土', '亚类': '淹育型水稻土', '土属': '浅红泥田'},\n",
       " '浅石灰泥田': {'土类': '水稻土', '亚类': '淹育型水稻土', '土属': '浅灰泥田'},\n",
       " '潮砂泥田': {'土类': '水稻土', '亚类': '潴育型水稻土', '土属': '潮砂泥田'},\n",
       " '黄鳝泥田': {'土类': '水稻土', '亚类': '潴育型水稻土', '土属': '鳝泥田'},\n",
       " '黄红泥田': {'土类': '水稻土', '亚类': '潴育型水稻土', '土属': '红泥田'},\n",
       " '石灰泥田': {'土类': '水稻土', '亚类': '潴育型水稻土', '土属': '石灰泥田'},\n",
       " '石红泥田': {'土类': '水稻土', '亚类': '潴育型水稻土', '土属': '红泥田'},\n",
       " '紫泥田': {'土类': '水稻土', '亚类': '潴育型水稻土', '土属': '紫泥田'},\n",
       " '潮泥田': {'土类': '水稻土', '亚类': '潴育型水稻土', '土属': '潮泥田'},\n",
       " '黄砂泥田': {'土类': '水稻土', '亚类': '潴育型水稻土', '土属': '砂泥田'},\n",
       " '青石灰泥田': {'土类': '水稻土', '亚类': '潜育型水稻土', '土属': '青灰泥田'},\n",
       " '黄黄砂泥田': {'土类': '水稻土', '亚类': '脱潜型水稻土', '土属': '黄砂泥田'},\n",
       " '重漂红泥田': {'土类': '水稻土', '亚类': '漂洗型水稻土', '土属': '漂红泥田'},\n",
       " '重漂砂泥田': {'土类': '水稻土', '亚类': '漂洗型水稻土', '土属': '漂砂泥田'},\n",
       " '轻漂白粉泥田': {'土类': '水稻土', '亚类': '漂洗型水稻土', '土属': '漂白粉泥田'},\n",
       " '黄青白粉泥田': {'土类': '水稻土', '亚类': '潜育型水稻土', '土属': '青白粉泥田'}}"
      ]
     },
     "execution_count": 64,
     "metadata": {},
     "output_type": "execute_result"
    }
   ],
   "source": [
    "sp_soiltype_dict"
   ]
  },
  {
   "cell_type": "code",
   "execution_count": 65,
   "metadata": {},
   "outputs": [],
   "source": [
    "# 使用 apply 方法结合 lambda 函数来获取对应的 '土类' 值\n",
    "result_df['reclass_tl'] = result_df['reclass_tz'].apply(lambda x: sp_soiltype_dict.get(x, {}).get('土类', None))\n",
    "result_df['reclass_yl'] = result_df['reclass_tz'].apply(lambda x: sp_soiltype_dict.get(x, {}).get('亚类', None))\n",
    "result_df['reclass_ts'] = result_df['reclass_tz'].apply(lambda x: sp_soiltype_dict.get(x, {}).get('土属', None))"
   ]
  },
  {
   "cell_type": "code",
   "execution_count": 66,
   "metadata": {},
   "outputs": [
    {
     "data": {
      "text/html": [
       "<div>\n",
       "<style scoped>\n",
       "    .dataframe tbody tr th:only-of-type {\n",
       "        vertical-align: middle;\n",
       "    }\n",
       "\n",
       "    .dataframe tbody tr th {\n",
       "        vertical-align: top;\n",
       "    }\n",
       "\n",
       "    .dataframe thead th {\n",
       "        text-align: right;\n",
       "    }\n",
       "</style>\n",
       "<table border=\"1\" class=\"dataframe\">\n",
       "  <thead>\n",
       "    <tr style=\"text-align: right;\">\n",
       "      <th></th>\n",
       "      <th>OBJECTID</th>\n",
       "      <th>new_TZ</th>\n",
       "      <th>reclass_tz</th>\n",
       "      <th>reclass_tl</th>\n",
       "      <th>reclass_yl</th>\n",
       "      <th>reclass_ts</th>\n",
       "    </tr>\n",
       "  </thead>\n",
       "  <tbody>\n",
       "    <tr>\n",
       "      <th>0</th>\n",
       "      <td>1</td>\n",
       "      <td>腐薄层灰泥质黄壤</td>\n",
       "      <td>石灰泥田</td>\n",
       "      <td>水稻土</td>\n",
       "      <td>潴育型水稻土</td>\n",
       "      <td>石灰泥田</td>\n",
       "    </tr>\n",
       "    <tr>\n",
       "      <th>1</th>\n",
       "      <td>2</td>\n",
       "      <td>腐薄层灰泥质黄壤</td>\n",
       "      <td>青石灰泥田</td>\n",
       "      <td>水稻土</td>\n",
       "      <td>潜育型水稻土</td>\n",
       "      <td>青灰泥田</td>\n",
       "    </tr>\n",
       "    <tr>\n",
       "      <th>2</th>\n",
       "      <td>3</td>\n",
       "      <td>腐薄层灰泥质黄壤</td>\n",
       "      <td>青石灰泥田</td>\n",
       "      <td>水稻土</td>\n",
       "      <td>潜育型水稻土</td>\n",
       "      <td>青灰泥田</td>\n",
       "    </tr>\n",
       "    <tr>\n",
       "      <th>3</th>\n",
       "      <td>4</td>\n",
       "      <td>薄层砾硅质黄壤</td>\n",
       "      <td>黄浅白粉泥田</td>\n",
       "      <td>水稻土</td>\n",
       "      <td>淹育型水稻土</td>\n",
       "      <td>浅白粉泥田</td>\n",
       "    </tr>\n",
       "    <tr>\n",
       "      <th>4</th>\n",
       "      <td>5</td>\n",
       "      <td>薄层砾硅质黄壤</td>\n",
       "      <td>黄浅白粉泥田</td>\n",
       "      <td>水稻土</td>\n",
       "      <td>淹育型水稻土</td>\n",
       "      <td>浅白粉泥田</td>\n",
       "    </tr>\n",
       "    <tr>\n",
       "      <th>...</th>\n",
       "      <td>...</td>\n",
       "      <td>...</td>\n",
       "      <td>...</td>\n",
       "      <td>...</td>\n",
       "      <td>...</td>\n",
       "      <td>...</td>\n",
       "    </tr>\n",
       "    <tr>\n",
       "      <th>117124</th>\n",
       "      <td>141483</td>\n",
       "      <td>腐薄层硅质黄壤</td>\n",
       "      <td>腐薄层硅质黄壤</td>\n",
       "      <td>黄壤</td>\n",
       "      <td>典型黄壤</td>\n",
       "      <td>硅质黄壤</td>\n",
       "    </tr>\n",
       "    <tr>\n",
       "      <th>117394</th>\n",
       "      <td>155830</td>\n",
       "      <td>腐中层壤质黄色石灰土,浅石红泥田</td>\n",
       "      <td>腐厚层红泥质黄壤</td>\n",
       "      <td>黄壤</td>\n",
       "      <td>典型黄壤</td>\n",
       "      <td>红泥质黄壤</td>\n",
       "    </tr>\n",
       "    <tr>\n",
       "      <th>117396</th>\n",
       "      <td>155834</td>\n",
       "      <td>腐薄层红泥质黄壤</td>\n",
       "      <td>腐薄层红泥质黄壤</td>\n",
       "      <td>黄壤</td>\n",
       "      <td>典型黄壤</td>\n",
       "      <td>红泥质黄壤</td>\n",
       "    </tr>\n",
       "    <tr>\n",
       "      <th>117397</th>\n",
       "      <td>155835</td>\n",
       "      <td>石红泥田</td>\n",
       "      <td>腐厚层红泥质黄壤</td>\n",
       "      <td>黄壤</td>\n",
       "      <td>典型黄壤</td>\n",
       "      <td>红泥质黄壤</td>\n",
       "    </tr>\n",
       "    <tr>\n",
       "      <th>117401</th>\n",
       "      <td>155840</td>\n",
       "      <td>石红泥田</td>\n",
       "      <td>腐厚层砂泥质黄壤</td>\n",
       "      <td>黄壤</td>\n",
       "      <td>典型黄壤</td>\n",
       "      <td>砂泥质黄壤</td>\n",
       "    </tr>\n",
       "  </tbody>\n",
       "</table>\n",
       "<p>117403 rows × 6 columns</p>\n",
       "</div>"
      ],
      "text/plain": [
       "        OBJECTID            new_TZ reclass_tz reclass_tl reclass_yl reclass_ts\n",
       "0              1          腐薄层灰泥质黄壤       石灰泥田        水稻土     潴育型水稻土       石灰泥田\n",
       "1              2          腐薄层灰泥质黄壤      青石灰泥田        水稻土     潜育型水稻土       青灰泥田\n",
       "2              3          腐薄层灰泥质黄壤      青石灰泥田        水稻土     潜育型水稻土       青灰泥田\n",
       "3              4           薄层砾硅质黄壤     黄浅白粉泥田        水稻土     淹育型水稻土      浅白粉泥田\n",
       "4              5           薄层砾硅质黄壤     黄浅白粉泥田        水稻土     淹育型水稻土      浅白粉泥田\n",
       "...          ...               ...        ...        ...        ...        ...\n",
       "117124    141483           腐薄层硅质黄壤    腐薄层硅质黄壤         黄壤       典型黄壤       硅质黄壤\n",
       "117394    155830  腐中层壤质黄色石灰土,浅石红泥田   腐厚层红泥质黄壤         黄壤       典型黄壤      红泥质黄壤\n",
       "117396    155834          腐薄层红泥质黄壤   腐薄层红泥质黄壤         黄壤       典型黄壤      红泥质黄壤\n",
       "117397    155835              石红泥田   腐厚层红泥质黄壤         黄壤       典型黄壤      红泥质黄壤\n",
       "117401    155840              石红泥田   腐厚层砂泥质黄壤         黄壤       典型黄壤      砂泥质黄壤\n",
       "\n",
       "[117403 rows x 6 columns]"
      ]
     },
     "execution_count": 66,
     "metadata": {},
     "output_type": "execute_result"
    }
   ],
   "source": [
    "result_df"
   ]
  },
  {
   "cell_type": "code",
   "execution_count": 67,
   "metadata": {},
   "outputs": [],
   "source": [
    "# 保存数据\n",
    "result_df.to_csv(os.path.join(result_path, f'prediction_class_{select_model}_{get_dtime()}.csv'),index=False)"
   ]
  }
 ],
 "metadata": {
  "kernelspec": {
   "display_name": ".venvgis",
   "language": "python",
   "name": "python3"
  },
  "language_info": {
   "codemirror_mode": {
    "name": "ipython",
    "version": 3
   },
   "file_extension": ".py",
   "mimetype": "text/x-python",
   "name": "python",
   "nbconvert_exporter": "python",
   "pygments_lexer": "ipython3",
   "version": "3.10.11"
  }
 },
 "nbformat": 4,
 "nbformat_minor": 2
}
