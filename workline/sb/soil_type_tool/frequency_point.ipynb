{
 "cells": [
  {
   "cell_type": "code",
   "execution_count": 1,
   "metadata": {},
   "outputs": [],
   "source": [
    "import pandas as pd\n",
    "import numpy as np\n",
    "import matplotlib.pyplot as plt"
   ]
  },
  {
   "cell_type": "code",
   "execution_count": 13,
   "metadata": {},
   "outputs": [],
   "source": [
    "# 加载您的数据\n",
    "data = pd.read_csv(r\"D:\\ArcGISProjects\\workspace\\frequency_filter\\dy_frequency.csv\")  "
   ]
  },
  {
   "cell_type": "code",
   "execution_count": 14,
   "metadata": {},
   "outputs": [],
   "source": [
    "data.fillna(data.select_dtypes(include='number').mean(),inplace=True)"
   ]
  },
  {
   "cell_type": "code",
   "execution_count": 15,
   "metadata": {},
   "outputs": [
    {
     "data": {
      "text/plain": [
       "Index(['TL', 'YL', 'TS', 'TZ', 'DEM', 'AnalyticalHillshading', 'Aspect',\n",
       "       'ChannelNetworkBaseLevel', 'ChannelNetworkDistance',\n",
       "       'ClosedDepressions', 'ConvergenceIndex', 'LSFactor', 'PlanCurvature',\n",
       "       'ProfileCurvature', 'RelativeSlopePosition', 'Slope',\n",
       "       'TopographicWetnessIndex', 'TotalCatchmentArea', 'ValleyDepth',\n",
       "       'Contrast', 'Correlation', 'Dissimilarity', 'Entropy', 'Homogeneity',\n",
       "       'Mean', 'ndvi', 'PCA_0', 'PCA_1', 'SecondMoment', 'Variance', 'PRE',\n",
       "       'SRA', 'TMP', 'VAP', 'WIND', 'BIO', 'LON', 'LAT'],\n",
       "      dtype='object')"
      ]
     },
     "execution_count": 15,
     "metadata": {},
     "output_type": "execute_result"
    }
   ],
   "source": [
    "data.columns"
   ]
  },
  {
   "cell_type": "code",
   "execution_count": 23,
   "metadata": {},
   "outputs": [],
   "source": [
    "feature_columns = ['DEM', 'AnalyticalHillshading', 'Aspect',\n",
    "       'ChannelNetworkBaseLevel', 'ChannelNetworkDistance',\n",
    "       'ClosedDepressions', 'ConvergenceIndex', 'LSFactor', 'PlanCurvature',\n",
    "       'ProfileCurvature', 'RelativeSlopePosition', 'Slope',\n",
    "       'TopographicWetnessIndex', 'TotalCatchmentArea', 'ValleyDepth',\n",
    "       'Contrast', 'Correlation', 'Dissimilarity', 'Entropy', 'Homogeneity',\n",
    "       'Mean', 'ndvi', 'PCA_0', 'PCA_1', 'SecondMoment', 'Variance', 'PRE',\n",
    "       'SRA', 'TMP', 'VAP', 'WIND', 'BIO', 'LON', 'LAT']"
   ]
  },
  {
   "cell_type": "code",
   "execution_count": 24,
   "metadata": {},
   "outputs": [
    {
     "data": {
      "text/plain": [
       "34"
      ]
     },
     "execution_count": 24,
     "metadata": {},
     "output_type": "execute_result"
    }
   ],
   "source": [
    "len(feature_columns)"
   ]
  },
  {
   "cell_type": "code",
   "execution_count": 35,
   "metadata": {},
   "outputs": [],
   "source": [
    "# 选择您的环境因子列和土壤类型列\n",
    "columns = feature_columns  # 替换为您的环境因子列名\n",
    "soil_type_column = 'TL'  # 替换为您的土壤类型列名\n",
    "\n",
    "# 确定要在多少特征的峰值内保留样本\n",
    "peak_features_required = 7  # 例如，需要在至少2个特征的峰值区域内\n",
    "\n",
    "# 分别对每个土壤类型进行处理\n",
    "unique_soil_types = data[soil_type_column].unique()\n",
    "representative_samples = pd.DataFrame()\n",
    "\n",
    "for soil_type in unique_soil_types:\n",
    "    soil_data = data[data[soil_type_column] == soil_type]\n",
    "    peak_regions = {}\n",
    "\n",
    "    # 计算每个环境因子的峰值区域\n",
    "    for col in columns:\n",
    "        counts, bin_edges = np.histogram(soil_data[col], bins='auto')\n",
    "        peak_index = np.argmax(counts)\n",
    "        peak_region = (bin_edges[peak_index], bin_edges[peak_index + 1])\n",
    "        peak_regions[col] = peak_region\n",
    "\n",
    "    # 筛选出同时在指定数量的特征峰值区域内的样本\n",
    "    for index, row in soil_data.iterrows():\n",
    "        peak_count = sum(row[col] >= low and row[col] <= high for col, (low, high) in peak_regions.items())\n",
    "        if peak_count >= peak_features_required:\n",
    "            representative_samples = pd.concat([representative_samples, pd.DataFrame([row])], ignore_index=True)\n",
    "\n",
    "# 删除重复样本\n",
    "representative_samples = representative_samples.drop_duplicates()\n",
    "\n"
   ]
  },
  {
   "cell_type": "code",
   "execution_count": 36,
   "metadata": {},
   "outputs": [
    {
     "name": "stdout",
     "output_type": "stream",
     "text": [
      "黄壤         1243\n",
      "水稻土        1001\n",
      "None        755\n",
      "石灰土         603\n",
      "紫色土          26\n",
      "山地灌丛草甸土      21\n",
      "Name: TL, dtype: int64\n"
     ]
    }
   ],
   "source": [
    "# 输出结果\n",
    "print(representative_samples['TL'].value_counts())"
   ]
  },
  {
   "cell_type": "code",
   "execution_count": 39,
   "metadata": {},
   "outputs": [
    {
     "data": {
      "text/plain": [
       "3649"
      ]
     },
     "execution_count": 39,
     "metadata": {},
     "output_type": "execute_result"
    }
   ],
   "source": [
    "len(representative_samples)"
   ]
  },
  {
   "cell_type": "code",
   "execution_count": 38,
   "metadata": {},
   "outputs": [],
   "source": [
    "representative_samples.to_csv(r\"C:\\Users\\Runker\\Desktop\\frequency.csv\")"
   ]
  }
 ],
 "metadata": {
  "kernelspec": {
   "display_name": ".venvgis",
   "language": "python",
   "name": "python3"
  },
  "language_info": {
   "codemirror_mode": {
    "name": "ipython",
    "version": 3
   },
   "file_extension": ".py",
   "mimetype": "text/x-python",
   "name": "python",
   "nbconvert_exporter": "python",
   "pygments_lexer": "ipython3",
   "version": "3.10.11"
  }
 },
 "nbformat": 4,
 "nbformat_minor": 2
}
