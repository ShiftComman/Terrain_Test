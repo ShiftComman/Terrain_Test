{
 "cells": [
  {
   "cell_type": "markdown",
   "metadata": {},
   "source": [
    "# 坡位分类(按照坡度和相对位置)"
   ]
  },
  {
   "cell_type": "code",
   "execution_count": 1,
   "metadata": {},
   "outputs": [],
   "source": [
    "import arcpy\n",
    "from arcpy.sa import *\n",
    "from arcpy import env\n",
    "from arcpy.conversion import *\n",
    "from arcpy.management import *\n",
    "from arcpy.da import *\n",
    "import math"
   ]
  },
  {
   "cell_type": "code",
   "execution_count": 2,
   "metadata": {},
   "outputs": [],
   "source": [
    "# 分析函数\n",
    "\n",
    "# 取消并行处理\n",
    "def disable_parallel_processing(func):\n",
    "    def wrapper(*args, **kwargs):\n",
    "        with arcpy.EnvManager(parallelProcessingFactor=\"0\"):\n",
    "            return func(*args, **kwargs)\n",
    "    return wrapper\n",
    "\n",
    "# 填洼\n",
    "@disable_parallel_processing\n",
    "def fill_dem(dem_raster):\n",
    "    \"\"\"参数默认为最佳\"\"\"\n",
    "    fill_raster = Fill(dem_raster)\n",
    "    print(\"fill done!\")\n",
    "    return fill_raster\n",
    "# 流向\n",
    "@disable_parallel_processing\n",
    "def flowdir_dem(dem_raster,dir_index):\n",
    "    \"\"\"\"D8算法,dir_index{1:正常流动,0:强制外向流动}\"\"\"\n",
    "    if dir_index:\n",
    "        flowdir_raster = FlowDirection(dem_raster,\"NORMAL\",None,\"D8\")\n",
    "        return flowdir_raster\n",
    "    else:\n",
    "        flowdir_raster = FlowDirection(dem_raster,\"FORCE\", None, \"D8\")\n",
    "        return flowdir_raster\n",
    "# 流量\n",
    "@disable_parallel_processing\n",
    "def acc_dem(fd_raster):\n",
    "    \"\"\"输入流向类型D8\"\"\"\n",
    "    acc_raster = FlowAccumulation(fd_raster,None,\"FLOAT\",\"D8\")\n",
    "    return acc_raster\n",
    "\n",
    "# 基于焦点的正负地形\n",
    "def pos_neg_dem(dem_raster,focus_size,index_):\n",
    "    \"\"\"focus_size:统计焦点,Test:if:(true:1正),else:0负\"\"\"\n",
    "    if index_:\n",
    "        pos_raster = Test(dem_raster - FocalStatistics(dem_raster,NbrRectangle(focus_size,focus_size,\"CELL\"),\"MEAN\",\"DATA\"),\"value>0\")\n",
    "        return pos_raster\n",
    "    else:\n",
    "        neg_raster = Test(dem_raster - FocalStatistics(dem_raster,NbrRectangle(focus_size,focus_size,\"CELL\"),\"MEAN\",\"DATA\"),\"value<0\")\n",
    "        return neg_raster\n",
    "# 基于指定值的负地形\n",
    "def digital_dem(dem_raster,elevation_value):\n",
    "    \"\"\"基于指定值于DEM作差得出的栅格\"\"\"\n",
    "    return elevation_value-arcpy.Raster(dem_raster)\n",
    "# 坡度\n",
    "@disable_parallel_processing\n",
    "def get_slope(dem_raser):\n",
    "    \"\"\"取消并行处理\"\"\"\n",
    "    slope_raster = Slope(dem_raser,\"DEGREE\",1,\"PLANAR\",\"METER\")\n",
    "    return slope_raster\n",
    "# 坡向\n",
    "@disable_parallel_processing\n",
    "def get_asp(dem_raster):\n",
    "    \"\"\"取消并行处理\"\"\"\n",
    "    asp_raster = Aspect(dem_raster,\"PLANAR\", \"METER\", \"GEODESIC_AZIMUTHS\")\n",
    "    return asp_raster\n",
    "# 计算曲率\n",
    "@disable_parallel_processing\n",
    "def get_cur(dem_raster,count):\n",
    "    \"\"\"count:{0:曲率,1:[剖面曲率,平面曲率]}\"\"\"\n",
    "    if count:\n",
    "        asp_raster = Curvature(dem_raster,1,\"profile_curve\",\"plan_curve\")\n",
    "        return asp_raster\n",
    "    else:\n",
    "        asp_raster = Curvature(dem_raster,1,None,None)\n",
    "        return asp_raster\n",
    "    \n",
    "\n"
   ]
  },
  {
   "cell_type": "code",
   "execution_count": 3,
   "metadata": {},
   "outputs": [],
   "source": [
    "def calc_class_raster(dem_raster, slope_raster, focus_size):\n",
    "    \"\"\"\n",
    "    根据规则计算DEM栅格的TPI并分类：\n",
    "    tpi > 1 sd : 山脊(6)，\n",
    "    0.5 sd <= tpi <= 1 sd : 坡上(5)，\n",
    "    -0.5 sd < tpi < 0.5 sd and slope > 8: 中坡(4)，(默认5度)\n",
    "    -0.5 sd < tpi < 0.5 sd and slope <= 8: 平坡(3)，(默认5度)\n",
    "    -1 sd < tpi <= -0.5 sd : 坡下(2)，\n",
    "    tpi < -1 sd : 山谷(1)。\n",
    "    \"\"\"\n",
    "    # DEM\n",
    "    dem_raster = Raster(dem_raster)\n",
    "    # 计算局部均值\n",
    "    mean_raster = FocalStatistics(\n",
    "        dem_raster, NbrRectangle(focus_size, focus_size, \"CELL\"), \"MEAN\", \"DATA\"\n",
    "    )\n",
    "    # 输出日志\n",
    "    print(\"计算局部均值完成\")\n",
    "    # 计算局部标准差\n",
    "    std_raster = FocalStatistics(\n",
    "        dem_raster, NbrRectangle(focus_size, focus_size, \"CELL\"), \"STD\", \"DATA\"\n",
    "    )\n",
    "    # 输出日志\n",
    "    print(\"计算局部标准差完成\")\n",
    "    # 计算TPI\n",
    "    tpi_raster = dem_raster - mean_raster\n",
    "    # 输出日志\n",
    "    print(\"计算TPI完成\")\n",
    "\n",
    "    # 根据规则分类\n",
    "    result_raster = Con(tpi_raster > std_raster, 6,\n",
    "                        Con((tpi_raster > 0.5 * std_raster) & (tpi_raster <= std_raster), 5,\n",
    "                            Con((tpi_raster > -0.5 * std_raster) & (tpi_raster < 0.5 * std_raster) & (slope_raster > 5), 4,\n",
    "                                Con((tpi_raster > -0.5 * std_raster) & (tpi_raster < 0.5 * std_raster) & (slope_raster <= 5), 3,\n",
    "                                    Con((tpi_raster > -std_raster) & (tpi_raster <= -0.5 * std_raster), 2,\n",
    "                                        Con(tpi_raster < -std_raster, 1))))))\n",
    "    # 输出日志\n",
    "    print(\"计算DEM栅格的TPI并分类完成\")\n",
    "    \n",
    "    return result_raster"
   ]
  },
  {
   "cell_type": "code",
   "execution_count": 4,
   "metadata": {},
   "outputs": [],
   "source": [
    "# 焦点统计函数\n",
    "# 获取均值\n",
    "def get_mean(dem_raster,focus_size):\n",
    "    dem_raster = Raster(dem_raster)\n",
    "    mean_raster = FocalStatistics(\n",
    "        dem_raster, NbrRectangle(focus_size, focus_size, \"CELL\"), \"MEAN\", \"DATA\"\n",
    "    )\n",
    "    return mean_raster\n",
    "\n",
    "# 获取标准差\n",
    "def get_std(dem_raster,focus_size):\n",
    "    dem_raster = Raster(dem_raster)\n",
    "    std_raster = FocalStatistics(\n",
    "        dem_raster, NbrRectangle(focus_size, focus_size, \"CELL\"), \"STD\", \"DATA\"\n",
    "        )\n",
    "    return std_raster\n",
    "# 获取TPI\n",
    "def get_tpi(dem_raster,mean_raster,focus_size):\n",
    "    dem_raster = Raster(dem_raster)\n",
    "    tpi_raster = dem_raster - mean_raster\n",
    "    return tpi_raster"
   ]
  },
  {
   "cell_type": "code",
   "execution_count": 5,
   "metadata": {},
   "outputs": [],
   "source": [
    "# 设定工作环境\n",
    "env.workspace=r\"C:\\Users\\Runker\\Desktop\\slope_temp\"\n",
    "dem_file_path  = r\"F:\\tif_features\\county_feature\\ky\\dem.tif\""
   ]
  },
  {
   "cell_type": "code",
   "execution_count": 6,
   "metadata": {},
   "outputs": [],
   "source": [
    "# 允许覆盖\n",
    "env.overwriteOutput = True"
   ]
  },
  {
   "cell_type": "code",
   "execution_count": 7,
   "metadata": {},
   "outputs": [],
   "source": [
    "# 得到坡度\n",
    "slope_raster  = get_slope(dem_file_path)\n",
    "slope_raster.save('ky_slope.tif')"
   ]
  },
  {
   "cell_type": "code",
   "execution_count": 8,
   "metadata": {},
   "outputs": [
    {
     "name": "stdout",
     "output_type": "stream",
     "text": [
      "计算局部均值完成\n",
      "计算局部标准差完成\n",
      "计算TPI完成\n",
      "计算DEM栅格的TPI并分类完成\n"
     ]
    }
   ],
   "source": [
    "# 得到分类结果\n",
    "result = calc_class_raster(dem_file_path,slope_raster,101)"
   ]
  },
  {
   "cell_type": "code",
   "execution_count": 9,
   "metadata": {},
   "outputs": [],
   "source": [
    "result.save('ky_slope_postion_101.tif')\n"
   ]
  },
  {
   "cell_type": "code",
   "execution_count": 10,
   "metadata": {},
   "outputs": [
    {
     "name": "stdout",
     "output_type": "stream",
     "text": [
      "计算局部均值完成\n",
      "计算局部标准差完成\n",
      "计算TPI完成\n",
      "计算DEM栅格的TPI并分类完成\n",
      "计算局部均值完成\n",
      "计算局部标准差完成\n",
      "计算TPI完成\n",
      "计算DEM栅格的TPI并分类完成\n",
      "计算局部均值完成\n",
      "计算局部标准差完成\n",
      "计算TPI完成\n",
      "计算DEM栅格的TPI并分类完成\n",
      "计算局部均值完成\n",
      "计算局部标准差完成\n",
      "计算TPI完成\n",
      "计算DEM栅格的TPI并分类完成\n",
      "计算局部均值完成\n",
      "计算局部标准差完成\n",
      "计算TPI完成\n",
      "计算DEM栅格的TPI并分类完成\n",
      "计算局部均值完成\n",
      "计算局部标准差完成\n",
      "计算TPI完成\n",
      "计算DEM栅格的TPI并分类完成\n",
      "计算局部均值完成\n",
      "计算局部标准差完成\n",
      "计算TPI完成\n",
      "计算DEM栅格的TPI并分类完成\n",
      "计算局部均值完成\n",
      "计算局部标准差完成\n",
      "计算TPI完成\n",
      "计算DEM栅格的TPI并分类完成\n",
      "计算局部均值完成\n",
      "计算局部标准差完成\n",
      "计算TPI完成\n",
      "计算DEM栅格的TPI并分类完成\n",
      "计算局部均值完成\n",
      "计算局部标准差完成\n",
      "计算TPI完成\n",
      "计算DEM栅格的TPI并分类完成\n",
      "计算局部均值完成\n",
      "计算局部标准差完成\n",
      "计算TPI完成\n",
      "计算DEM栅格的TPI并分类完成\n",
      "计算局部均值完成\n",
      "计算局部标准差完成\n",
      "计算TPI完成\n",
      "计算DEM栅格的TPI并分类完成\n",
      "计算局部均值完成\n",
      "计算局部标准差完成\n",
      "计算TPI完成\n",
      "计算DEM栅格的TPI并分类完成\n",
      "计算局部均值完成\n",
      "计算局部标准差完成\n",
      "计算TPI完成\n",
      "计算DEM栅格的TPI并分类完成\n",
      "计算局部均值完成\n",
      "计算局部标准差完成\n",
      "计算TPI完成\n",
      "计算DEM栅格的TPI并分类完成\n"
     ]
    }
   ],
   "source": [
    "# 得到分类结果\n",
    "\n",
    "for i in range(51,201,10):\n",
    "    result = calc_class_raster(dem_file_path,Raster('SLOPE'),i)\n",
    "    result.save(f'RESULT_8_{i}')"
   ]
  }
 ],
 "metadata": {
  "kernelspec": {
   "display_name": "Python 3",
   "language": "python",
   "name": "python3"
  },
  "language_info": {
   "codemirror_mode": {
    "name": "ipython",
    "version": 3
   },
   "file_extension": ".py",
   "mimetype": "text/x-python",
   "name": "python",
   "nbconvert_exporter": "python",
   "pygments_lexer": "ipython3",
   "version": "3.9.16"
  },
  "orig_nbformat": 4
 },
 "nbformat": 4,
 "nbformat_minor": 2
}
