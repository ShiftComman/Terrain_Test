{
 "cells": [
  {
   "cell_type": "code",
   "execution_count": 1,
   "metadata": {},
   "outputs": [],
   "source": [
    "import os\n",
    "import numpy as np \n",
    "import pandas as pd\n",
    "import arcpy\n",
    "from arcpy import env"
   ]
  },
  {
   "cell_type": "code",
   "execution_count": 2,
   "metadata": {},
   "outputs": [],
   "source": [
    "result_path = r\"D:\\ArcGISProjects\\workspace\\pred_feature_table\\dy\\predict_table\\prediction_ph.csv\""
   ]
  },
  {
   "cell_type": "code",
   "execution_count": 3,
   "metadata": {},
   "outputs": [],
   "source": [
    "# 读取预测结果\n",
    "data = pd.read_csv(result_path,index_col=False)"
   ]
  },
  {
   "cell_type": "code",
   "execution_count": 4,
   "metadata": {},
   "outputs": [],
   "source": [
    "stander_path = r\"D:\\ArcGISProjects\\workspace\\shbyq\\features_data_dy.gdb\\DEM\""
   ]
  },
  {
   "cell_type": "code",
   "execution_count": 5,
   "metadata": {},
   "outputs": [
    {
     "data": {
      "text/plain": [
       "Index(['prediction_0', 'prediction_1', 'prediction_2', 'prediction_3',\n",
       "       'prediction_4', 'prediction_5', 'prediction_6', 'prediction_7',\n",
       "       'prediction_8', 'prediction_9',\n",
       "       ...\n",
       "       'prediction_334', 'prediction_335', 'prediction_336', 'prediction_337',\n",
       "       'prediction_338', 'prediction_339', 'prediction_340', 'prediction_341',\n",
       "       'prediction_342', 'prediction_343'],\n",
       "      dtype='object', length=344)"
      ]
     },
     "execution_count": 5,
     "metadata": {},
     "output_type": "execute_result"
    }
   ],
   "source": [
    "data.columns"
   ]
  },
  {
   "cell_type": "code",
   "execution_count": 6,
   "metadata": {},
   "outputs": [],
   "source": [
    "# 合并除第一列外的所有列到第一列\n",
    "frames = []\n",
    "for col in data.columns:\n",
    "    frames.append(data[col])\n",
    "\n",
    "# 合并 DataFrame\n",
    "merged_data = pd.concat(frames, axis=0, ignore_index=True)"
   ]
  },
  {
   "cell_type": "code",
   "execution_count": 8,
   "metadata": {},
   "outputs": [],
   "source": [
    "merged_data.dropna(inplace=True)"
   ]
  },
  {
   "cell_type": "code",
   "execution_count": 9,
   "metadata": {},
   "outputs": [
    {
     "data": {
      "text/plain": [
       "171871183"
      ]
     },
     "execution_count": 9,
     "metadata": {},
     "output_type": "execute_result"
    }
   ],
   "source": [
    "merged_data.size"
   ]
  },
  {
   "cell_type": "code",
   "execution_count": 20,
   "metadata": {},
   "outputs": [
    {
     "data": {
      "text/plain": [
       "pandas.core.series.Series"
      ]
     },
     "execution_count": 20,
     "metadata": {},
     "output_type": "execute_result"
    }
   ],
   "source": [
    "type(merged_data)"
   ]
  },
  {
   "cell_type": "code",
   "execution_count": 10,
   "metadata": {},
   "outputs": [
    {
     "data": {
      "text/plain": [
       "(12881, 13343)"
      ]
     },
     "execution_count": 10,
     "metadata": {},
     "output_type": "execute_result"
    }
   ],
   "source": [
    "dem_array = arcpy.RasterToNumPyArray(stander_path)\n",
    "dem_array.shape"
   ]
  },
  {
   "cell_type": "code",
   "execution_count": 11,
   "metadata": {},
   "outputs": [
    {
     "data": {
      "text/plain": [
       "171871183"
      ]
     },
     "execution_count": 11,
     "metadata": {},
     "output_type": "execute_result"
    }
   ],
   "source": [
    "dem_array.shape[0] * dem_array.shape[1]"
   ]
  },
  {
   "cell_type": "code",
   "execution_count": 12,
   "metadata": {},
   "outputs": [
    {
     "data": {
      "text/plain": [
       "array([[6.2363377, 6.2363377, 6.2363377, ..., 6.4920735, 6.4920735,\n",
       "        6.4920735],\n",
       "       [6.2363377, 6.2363377, 6.2363377, ..., 6.4920735, 6.4920735,\n",
       "        6.4920735],\n",
       "       [6.2363377, 6.2363377, 6.2363377, ..., 6.4920735, 6.4920735,\n",
       "        6.4920735],\n",
       "       ...,\n",
       "       [5.999602 , 5.999602 , 5.999602 , ..., 5.8613887, 5.8613887,\n",
       "        5.8613887],\n",
       "       [5.999602 , 5.999602 , 5.999602 , ..., 5.8613887, 5.8613887,\n",
       "        5.8613887],\n",
       "       [5.999602 , 5.999602 , 5.999602 , ..., 5.8613887, 5.8613887,\n",
       "        5.8613887]])"
      ]
     },
     "execution_count": 12,
     "metadata": {},
     "output_type": "execute_result"
    }
   ],
   "source": [
    "raster_array = np.reshape(merged_data.values,dem_array.shape)\n",
    "raster_array"
   ]
  },
  {
   "cell_type": "code",
   "execution_count": 14,
   "metadata": {},
   "outputs": [],
   "source": [
    "env.workspace = r\"D:\\ArcGISProjects\\workspace\\shbyq\\feature_soiltype_result.gdb\"\n",
    "env.extent = stander_path"
   ]
  },
  {
   "cell_type": "code",
   "execution_count": 15,
   "metadata": {},
   "outputs": [],
   "source": [
    "# 掩膜提取\n",
    "def mask_raster(array,mask_ele,cell_size):\n",
    "    out_raster = arcpy.NumPyArrayToRaster(\n",
    "    array,\n",
    "    arcpy.Point(arcpy.env.extent.XMin, arcpy.env.extent.YMin),\n",
    "    cell_size,\n",
    "    cell_size,\n",
    ")\n",
    "    \"\"\"按掩膜提取栅格,空间参考设定为:CGCS2000_3_Degree_GK_CM_108E\"\"\"\n",
    "    output_coordinate_system = arcpy.Describe(mask_ele).spatialReference\n",
    "    with arcpy.EnvManager(outputCoordinateSystem=output_coordinate_system,snapRaster=mask_ele, cellSize=mask_ele):\n",
    "        result_raster = arcpy.sa.ExtractByMask(out_raster, mask_ele, \"INSIDE\")\n",
    "        return result_raster"
   ]
  },
  {
   "cell_type": "code",
   "execution_count": 17,
   "metadata": {},
   "outputs": [
    {
     "name": "stdout",
     "output_type": "stream",
     "text": [
      "完成\n"
     ]
    }
   ],
   "source": [
    "# 按掩膜处理\n",
    "result_raster = mask_raster(raster_array,stander_path, 5)\n",
    "result_raster.save(\"prediction_ph\")\n",
    "print(\"完成\")"
   ]
  }
 ],
 "metadata": {
  "kernelspec": {
   "display_name": "Python 3",
   "language": "python",
   "name": "python3"
  },
  "language_info": {
   "codemirror_mode": {
    "name": "ipython",
    "version": 3
   },
   "file_extension": ".py",
   "mimetype": "text/x-python",
   "name": "python",
   "nbconvert_exporter": "python",
   "pygments_lexer": "ipython3",
   "version": "3.9.11"
  },
  "orig_nbformat": 4
 },
 "nbformat": 4,
 "nbformat_minor": 2
}
