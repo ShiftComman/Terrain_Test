{
 "cells": [
  {
   "cell_type": "markdown",
   "metadata": {},
   "source": [
    "# 生成所需数据"
   ]
  },
  {
   "cell_type": "code",
   "execution_count": 1,
   "metadata": {},
   "outputs": [],
   "source": [
    "import os\n",
    "import pandas as pd\n",
    "import numpy as np\n",
    "import shutil\n",
    "import arcpy\n",
    "from arcpy import env\n",
    "from arcpy.management import *\n",
    "from arcpy.sa import *\n",
    "from arcpy.da import *\n",
    "from arcpy.conversion import *"
   ]
  },
  {
   "cell_type": "code",
   "execution_count": 14,
   "metadata": {},
   "outputs": [],
   "source": [
    "def add_and_calc_field(in_feature, source_field, target_field, field_type='TEXT'):\n",
    "    \"\"\"\n",
    "    添加新字段并根据源字段计算值\n",
    "    \n",
    "    Parameters:\n",
    "    -----------\n",
    "    in_feature : str\n",
    "        输入要素路径\n",
    "    source_field : str\n",
    "        源字段名称\n",
    "    target_field : str\n",
    "        目标字段名称（新增字段）\n",
    "    field_type : str, optional\n",
    "        新增字段类型，默认为'TEXT'\n",
    "    \"\"\"\n",
    "    # 添加新字段\n",
    "    arcpy.AddField_management(in_table=in_feature, \n",
    "                            field_name=target_field,\n",
    "                            field_type=field_type)\n",
    "    \n",
    "    # 定义计算表达式（单行形式）\n",
    "    code_block = \"\"\"\n",
    "def get_value(val):\n",
    "    if val is None:\n",
    "        return 1\n",
    "    try:\n",
    "        map_dict = {1:1, 2:1, 3:2, 4:2, 5:3, 6:3}\n",
    "        return map_dict.get(int(val), 1)\n",
    "    except:\n",
    "        return 1\n",
    "\"\"\"\n",
    "    expression = f\"get_value(!{source_field}!)\"\n",
    "    \n",
    "    # 使用字段计算工具更新字段值\n",
    "    arcpy.CalculateField_management(in_table=in_feature,\n",
    "                                  field=target_field,\n",
    "                                  expression=expression,\n",
    "                                  expression_type=\"PYTHON3\",\n",
    "                                  code_block=code_block)"
   ]
  },
  {
   "cell_type": "code",
   "execution_count": 8,
   "metadata": {},
   "outputs": [],
   "source": [
    "# 指定工作空间\n",
    "env.workspace = r'F:\\cache_data\\shp_file\\ky\\ele_ky'\n",
    "if not os.path.exists(env.workspace):\n",
    "    os.makedirs(env.workspace)\n",
    "env.overwriteOutput = True"
   ]
  },
  {
   "cell_type": "code",
   "execution_count": 9,
   "metadata": {},
   "outputs": [],
   "source": [
    "# 三调地块路径\n",
    "sd_data = r'F:\\cache_data\\shp_file\\ky\\ky_sd_polygon.shp'\n",
    "# 母质路径\n",
    "mz_data = r'F:\\cache_data\\shp_file\\ky\\dz\\dz_dissove_20250228.shp'\n",
    "# 坡位矢量路径\n",
    "slope_data = r'F:\\cache_data\\shp_file\\ky\\ky_slopepostion_smooth.shp'"
   ]
  },
  {
   "cell_type": "code",
   "execution_count": null,
   "metadata": {},
   "outputs": [],
   "source": [
    "# 更新坡位\n",
    "add_and_calc_field(slope_data,'gridcode','slope')"
   ]
  },
  {
   "cell_type": "code",
   "execution_count": 17,
   "metadata": {},
   "outputs": [
    {
     "data": {
      "text/html": [
       "<div class='gpresult'><h2>Messages</h2><div id='messages' data-messages='[\"开始时间: 2025年2月28日 11:39:23\",\"正在对属性进行排序...\",\"正在融合...\",\"运行 成功，结束时间： 2025年2月28日 11:40:01 (历时: 37.78 秒)\"]' data-show='true'><div id = 'default' /></div></div>"
      ],
      "text/plain": [
       "<Result 'F:\\\\cache_data\\\\shp_file\\\\ky\\\\ele_ky\\\\ky_slopepostion_dissove.shp'>"
      ]
     },
     "execution_count": 17,
     "metadata": {},
     "output_type": "execute_result"
    }
   ],
   "source": [
    "# 融合坡位\n",
    "dissolve_name = 'ky_slopepostion_dissove.shp'\n",
    "arcpy.analysis.PairwiseDissolve(\n",
    "    in_features=slope_data,\n",
    "    out_feature_class=dissolve_name,\n",
    "    dissolve_field=['slope'],\n",
    "    statistics_fields=None,\n",
    "    multi_part=\"SINGLE_PART\",\n",
    "    concatenation_separator=\"\"\n",
    ")"
   ]
  },
  {
   "cell_type": "code",
   "execution_count": 18,
   "metadata": {},
   "outputs": [
    {
     "data": {
      "text/html": [
       "<div class='gpresult'><h2>Messages</h2><div id='messages' data-messages='[\"开始时间: 2025年2月28日 11:40:52\",\"运行 成功，结束时间： 2025年2月28日 11:41:12 (历时: 20.65 秒)\"]' data-show='true'><div id = 'default' /></div></div>"
      ],
      "text/plain": [
       "<Result 'F:\\\\cache_data\\\\shp_file\\\\ky\\\\ele_ky\\\\ky_sd_select.shp'>"
      ]
     },
     "execution_count": 18,
     "metadata": {},
     "output_type": "execute_result"
    }
   ],
   "source": [
    "# 提取耕林园草\n",
    "select_name = 'ky_sd_select.shp'\n",
    "arcpy.Select_analysis(sd_data,select_name,f\"{'DLLB'} IN ('自然土','水稻土', '非自然土')\")"
   ]
  },
  {
   "cell_type": "code",
   "execution_count": 20,
   "metadata": {},
   "outputs": [
    {
     "data": {
      "text/html": [
       "<div class='gpresult'><h2>Messages</h2><div id='messages' data-messages='[\"开始时间: 2025年2月28日 11:44:20\",\"正在读取要素...\",\"正在裂化要素...\",\"正在组合要素...\",\"运行 成功，结束时间：2025年2月28日 11:48:36 (历时: 4 分 15 秒)\"]' data-show='true'><div id = 'default' /></div></div>"
      ],
      "text/plain": [
       "<Result 'F:\\\\cache_data\\\\shp_file\\\\ky\\\\ele_ky\\\\ky_merge_data.shp'>"
      ]
     },
     "execution_count": 20,
     "metadata": {},
     "output_type": "execute_result"
    }
   ],
   "source": [
    "# 标识\n",
    "intersect_name = 'ky_merge_data.shp'\n",
    "# 使用标识工具而非相交，保持第一个数据集的完整性\n",
    "# 第一步：先对第一个和第二个数据集执行标识\n",
    "temp_identity_name = 'ky_identity_temp.shp'\n",
    "arcpy.Identity_analysis(in_features=select_name, \n",
    "                      identity_features=mz_data, \n",
    "                      out_feature_class=temp_identity_name,\n",
    "                      join_attributes='ALL')\n",
    "\n",
    "# 第二步：对中间结果和第三个数据集执行标识\n",
    "arcpy.Identity_analysis(in_features=temp_identity_name, \n",
    "                      identity_features=dissolve_name, \n",
    "                      out_feature_class=intersect_name,\n",
    "                      join_attributes='ALL')"
   ]
  },
  {
   "cell_type": "code",
   "execution_count": 21,
   "metadata": {},
   "outputs": [
    {
     "data": {
      "text/html": [
       "<div class='gpresult'><h2>Messages</h2><div id='messages' data-messages='[\"开始时间: 2025年2月28日 11:48:36\",\"运行 成功，结束时间： 2025年2月28日 11:49:04 (历时: 27.76 秒)\"]' data-show='true'><div id = 'default' /></div></div>"
      ],
      "text/plain": [
       "<Result 'F:\\\\cache_data\\\\shp_file\\\\ky\\\\ele_ky\\\\ky_merge_data_single.shp'>"
      ]
     },
     "execution_count": 21,
     "metadata": {},
     "output_type": "execute_result"
    }
   ],
   "source": [
    "# 转单部件\n",
    "single_name = 'ky_merge_data_single.shp'\n",
    "arcpy.MultipartToSinglepart_management(intersect_name,single_name)"
   ]
  }
 ],
 "metadata": {
  "kernelspec": {
   "display_name": "Python 3",
   "language": "python",
   "name": "python3"
  },
  "language_info": {
   "codemirror_mode": {
    "name": "ipython",
    "version": 3
   },
   "file_extension": ".py",
   "mimetype": "text/x-python",
   "name": "python",
   "nbconvert_exporter": "python",
   "pygments_lexer": "ipython3",
   "version": "3.9.16"
  }
 },
 "nbformat": 4,
 "nbformat_minor": 2
}
