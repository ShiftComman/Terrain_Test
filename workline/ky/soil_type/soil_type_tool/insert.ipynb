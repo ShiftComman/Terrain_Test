{
 "cells": [
  {
   "cell_type": "markdown",
   "metadata": {},
   "source": [
    "# 生成所需数据"
   ]
  },
  {
   "cell_type": "code",
   "execution_count": 1,
   "metadata": {},
   "outputs": [],
   "source": [
    "import os\n",
    "import pandas as pd\n",
    "import numpy as np\n",
    "import shutil\n",
    "import arcpy\n",
    "from arcpy import env\n",
    "from arcpy.management import *\n",
    "from arcpy.sa import *\n",
    "from arcpy.da import *\n",
    "from arcpy.conversion import *"
   ]
  },
  {
   "cell_type": "code",
   "execution_count": 2,
   "metadata": {},
   "outputs": [],
   "source": [
    "# 指定工作空间\n",
    "env.workspace = r'C:\\Users\\Runker\\Desktop\\ele_sb'\n",
    "env.overwriteOutput = True"
   ]
  },
  {
   "cell_type": "code",
   "execution_count": 4,
   "metadata": {},
   "outputs": [],
   "source": [
    "# 三调地块路径\n",
    "sd_data = r'C:\\Users\\Runker\\Desktop\\ele_sb\\gl_sd_dltb_sthd.shp'\n",
    "# 母质路径\n",
    "mz_data = r'C:\\Users\\Runker\\Desktop\\ele_sb\\gl_dz_1km_polygon_20241010_river.shp'\n",
    "# 坡位矢量路径\n",
    "slope_data = r'C:\\Users\\Runker\\Desktop\\ele_sb\\gl_slope_101_smooth_smooth.shp'"
   ]
  },
  {
   "cell_type": "code",
   "execution_count": 6,
   "metadata": {},
   "outputs": [
    {
     "data": {
      "text/html": [
       "<div class='gpresult'><h2>Messages</h2><div id='messages' data-messages='[\"开始时间: 2024年11月15日 16:05:59\",\"运行 成功，结束时间： 2024年11月15日 16:06:02 (历时: 3.12 秒)\"]' data-show='true'><div id = 'default' /></div></div>"
      ],
      "text/plain": [
       "<Result 'C:\\\\Users\\\\Runker\\\\Desktop\\\\ele_sb\\\\gl_sd_dlyc.shp'>"
      ]
     },
     "execution_count": 6,
     "metadata": {},
     "output_type": "execute_result"
    }
   ],
   "source": [
    "# 提取耕林园草\n",
    "arcpy.Select_analysis(sd_data,\"gl_sd_dlyc.shp\",f\"{'DLBM'} IN ('00','01', '02', '03','04','12')\")"
   ]
  },
  {
   "cell_type": "code",
   "execution_count": 7,
   "metadata": {},
   "outputs": [
    {
     "data": {
      "text/html": [
       "<div class='gpresult'><h2>Messages</h2><div id='messages' data-messages='[\"开始时间: 2024年11月15日 16:09:37\",\"正在对属性进行排序...\",\"正在融合...\",\"运行 成功，结束时间： 2024年11月15日 16:09:58 (历时: 20.95 秒)\"]' data-show='true'><div id = 'default' /></div></div>"
      ],
      "text/plain": [
       "<Result 'C:\\\\Users\\\\Runker\\\\Desktop\\\\ele_sb\\\\gl_dz_result_dissove.shp'>"
      ]
     },
     "execution_count": 7,
     "metadata": {},
     "output_type": "execute_result"
    }
   ],
   "source": [
    "# 融合母质\n",
    "arcpy.Dissolve_management(in_features=mz_data,out_feature_class='gl_dz_result_dissove.shp',dissolve_field='MZMC',multi_part='SINGLE_PART')"
   ]
  },
  {
   "cell_type": "code",
   "execution_count": 8,
   "metadata": {},
   "outputs": [
    {
     "data": {
      "text/html": [
       "<div class='gpresult'><h2>Messages</h2><div id='messages' data-messages='[\"开始时间: 2024年11月15日 16:10:03\",\"正在读取要素...\",\"正在裂化要素...\",\"正在组合要素...\",\"运行 成功，结束时间：2024年11月15日 16:11:46 (历时: 1 分 43 秒)\"]' data-show='true'><div id = 'default' /></div></div>"
      ],
      "text/plain": [
       "<Result 'C:\\\\Users\\\\Runker\\\\Desktop\\\\ele_sb\\\\gl_merge_data.shp'>"
      ]
     },
     "execution_count": 8,
     "metadata": {},
     "output_type": "execute_result"
    }
   ],
   "source": [
    "# 相交\n",
    "arcpy.Intersect_analysis(in_features=['gl_sd_dlyc','gl_dz_result_dissove',slope_data],out_feature_class='gl_merge_data',join_attributes='ALL')    "
   ]
  },
  {
   "cell_type": "code",
   "execution_count": 9,
   "metadata": {},
   "outputs": [
    {
     "data": {
      "text/html": [
       "<div class='gpresult'><h2>Messages</h2><div id='messages' data-messages='[\"开始时间: 2024年11月15日 16:21:28\",\"运行 成功，结束时间： 2024年11月15日 16:21:41 (历时: 13.34 秒)\"]' data-show='true'><div id = 'default' /></div></div>"
      ],
      "text/plain": [
       "<Result 'C:\\\\Users\\\\Runker\\\\Desktop\\\\ele_sb\\\\gl_merge_data_single.shp'>"
      ]
     },
     "execution_count": 9,
     "metadata": {},
     "output_type": "execute_result"
    }
   ],
   "source": [
    "# 转单部件\n",
    "arcpy.MultipartToSinglepart_management('gl_merge_data','gl_merge_data_single')\n"
   ]
  }
 ],
 "metadata": {
  "kernelspec": {
   "display_name": "Python 3",
   "language": "python",
   "name": "python3"
  },
  "language_info": {
   "codemirror_mode": {
    "name": "ipython",
    "version": 3
   },
   "file_extension": ".py",
   "mimetype": "text/x-python",
   "name": "python",
   "nbconvert_exporter": "python",
   "pygments_lexer": "ipython3",
   "version": "3.9.16"
  }
 },
 "nbformat": 4,
 "nbformat_minor": 2
}
