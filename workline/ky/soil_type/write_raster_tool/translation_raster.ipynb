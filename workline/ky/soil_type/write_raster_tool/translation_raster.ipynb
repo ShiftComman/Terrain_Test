{
 "cells": [
  {
   "cell_type": "code",
   "execution_count": 22,
   "metadata": {},
   "outputs": [],
   "source": [
    "import arcpy\n",
    "import os\n",
    "import pandas as pd\n",
    "import numpy as np\n",
    "from arcpy import env\n",
    "from arcpy.management import *\n",
    "from arcpy.conversion import *\n",
    "from arcpy.da import *\n",
    "from arcpy.sa import *"
   ]
  },
  {
   "cell_type": "code",
   "execution_count": 23,
   "metadata": {},
   "outputs": [],
   "source": [
    "# 辅助函数\n",
    "# 栅格转面\n",
    "def raster_to_polygon(in_raster, out_polygon, field_name):\n",
    "    \"\"\"栅格转面\"\"\"\n",
    "    in_raster = arcpy.sa.Int(in_raster)\n",
    "    output_coordinate_system = arcpy.Describe(in_raster).spatialReference\n",
    "    with arcpy.EnvManager(outputCoordinateSystem=output_coordinate_system):\n",
    "        arcpy.conversion.RasterToPolygon(in_raster, out_polygon, \"SIMPLIFY\", f\"{field_name}\", \"SINGLE_OUTER_PART\", None)\n",
    "\n",
    "# 添加字段\n",
    "def add_field(input_table,field_name,field_type='TEXT'):\n",
    "    \"\"\"参数说明：\n",
    "        input_table: 输入数据表\n",
    "        field_name: 字段名\n",
    "        field_type: 字段类型\"\"\"\n",
    "    arcpy.AddField_management(input_table,field_name,field_type)"
   ]
  },
  {
   "cell_type": "code",
   "execution_count": 24,
   "metadata": {},
   "outputs": [],
   "source": [
    "# 构建转换字典\n",
    "table_path = r\"F:\\cache_data\\frequency_filter\\ky\\scaler_csv\\ky_stander_filter_all_type.csv\""
   ]
  },
  {
   "cell_type": "code",
   "execution_count": 25,
   "metadata": {},
   "outputs": [],
   "source": [
    "df = pd.read_csv(table_path)"
   ]
  },
  {
   "cell_type": "code",
   "execution_count": 26,
   "metadata": {},
   "outputs": [],
   "source": [
    "# 对每个唯一的土种编号生成一个字典\n",
    "def aggregate_rows(group):\n",
    "    records = group[['TL', 'YL', 'TS']].to_dict('records')\n",
    "    # 假设每个土种编号下的记录是相同的，这里我们取第一个记录\n",
    "    return records[0] if records else {}\n",
    "\n",
    "# 使用groupby按照`土种编号`聚合，并应用自定义函数\n",
    "soil_dict = df.groupby('TZ').apply(aggregate_rows).to_dict()"
   ]
  },
  {
   "cell_type": "code",
   "execution_count": 27,
   "metadata": {},
   "outputs": [],
   "source": [
    "tz_dict = {0: ['中层次生黄色石灰土'], 1: ['中层淋溶黄色石灰土'], 2: ['中层硅质黄壤'], 3: ['中层硅铁质黄壤'], 4: ['中层硅铁质黄壤性土'], 5: ['中层硅铁质黄棕壤'], 6: ['中层硅铝质黄壤'], 7: ['中层硅铝质黄壤性土'], 8: ['中层硅铝质黄棕壤'], 9: ['中层紫色土'], 10: ['中层紫色沙土'], 11: ['中层酸性紫色土'], 12: ['中层酸性紫色砂土'], 13: ['中层铁质黄壤'], 14: ['中层铁铝质黄壤'], 15: ['中层黄色石灰土'], 16: ['中层黑色石灰土'], 17: ['中白善泥'], 18: ['中白胶泥'], 19: ['冷水田'], 20: ['冷浸田'], 21: ['冷砂土'], 22: ['冷砂田'], 23: ['厚层次生黄色石灰土'], 24: ['厚层淋溶黄色石灰土'], 25: ['厚层硅质黄壤'], 26: ['厚层硅铁质黄壤'], 27: ['厚层硅铁质黄壤性土'], 28: ['厚层硅铁质黄棕壤'], 29: ['厚层硅铝质黄壤'], 30: ['厚层硅铝质黄壤性土'], 31: ['厚层硅铝质黄棕壤'], 32: ['厚层酸性紫色土'], 33: ['厚层酸性紫色砂土'], 34: ['厚层铁质黄壤'], 35: ['厚层铁铝质黄壤'], 36: ['厚层黄色石灰土'], 37: ['厚层黑色石灰土'], 38: ['大土泥'], 39: ['大泥'], 40: ['大泥土'], 41: ['大眼泥'], 42: ['寡黄泥'], 43: ['小土泥'], 44: ['小黄泥'], 45: ['小黄泥土'], 46: ['岩泥'], 47: ['岩灰泥'], 48: ['干鸭屎泥'], 49: ['扁砂土'], 50: ['扁砂泥'], 51: ['死黄泥'], 52: ['死黄泥土'], 53: ['浅脚烂泥田'], 54: ['浅血泥田'], 55: ['深脚烂泥田'], 56: ['湿鸭屎泥'], 57: ['潮泥'], 58: ['潮砂土'], 59: ['潮砂泥'], 60: ['火石砂土'], 61: ['灰泡土'], 62: ['灰泡黄泥土'], 63: ['烂锈田'], 64: ['热鸭屎泥'], 65: ['煤锈田'], 66: ['熟白善泥'], 67: ['熟白胶泥'], 68: ['白云砂土'], 69: ['白大泥'], 70: ['白砂土'], 71: ['白胶泥土'], 72: ['石喳子土'], 73: ['砾石紫泥土'], 74: ['紫油泥'], 75: ['紫油砂土'], 76: ['紫泥'], 77: ['紫砂土'], 78: ['紫砂泥'], 79: ['紫色土'], 80: ['紫色大土'], 81: ['羊肝泥'], 82: ['羊肝石土'], 83: ['苦大泥'], 84: ['苦鸭屎泥'], 85: ['薄层次生黄色石灰土'], 86: ['薄层淋溶黄色石灰土'], 87: ['薄层硅质黄壤'], 88: ['薄层硅质黄壤性土'], 89: ['薄层硅铁质黄壤'], 90: ['薄层硅铁质黄壤性土'], 91: ['薄层硅铝质黄壤'], 92: ['薄层硅铝质黄壤性土'], 93: ['薄层酸性紫色土'], 94: ['薄层铁铝质黄壤'], 95: ['薄层黄色石灰土'], 96: ['薄层黑色石灰土'], 97: ['血砂泥土'], 98: ['豆办泥土'], 99: ['豆办砂泥'], 100: ['豆面泥土'], 101: ['轻白善泥'], 102: ['轻白胶泥'], 103: ['重白善泥'], 104: ['重白胶泥'], 105: ['锈水田'], 106: ['黄大泥'], 107: ['黄油砂土'], 108: ['黄油砂泥'], 109: ['黄泥'], 110: ['黄泥土'], 111: ['黄灰泡土'], 112: ['黄石砂田'], 113: ['黄砂土'], 114: ['黄砂泥'], 115: ['黄胶泥'], 116: ['黄胶泥土'], 117: ['黑潮泥'], 118: ['黑色油砂石'], 119: ['龙凤大眼泥']}"
   ]
  },
  {
   "cell_type": "code",
   "execution_count": 28,
   "metadata": {},
   "outputs": [],
   "source": [
    "result_dict = {}\n",
    "for one_key in tz_dict:\n",
    "    result_dict[one_key] = {'TZ':tz_dict[one_key][0],'TL':soil_dict[tz_dict[one_key][0]]['TL'],'TS':soil_dict[tz_dict[one_key][0]]['TS'],'YL':soil_dict[tz_dict[one_key][0]]['YL']}"
   ]
  },
  {
   "cell_type": "code",
   "execution_count": 29,
   "metadata": {},
   "outputs": [
    {
     "data": {
      "text/plain": [
       "{0: {'TZ': '中层次生黄色石灰土', 'TL': '石灰土', 'TS': '次生黄色石灰土', 'YL': '黄色石灰土'},\n",
       " 1: {'TZ': '中层淋溶黄色石灰土', 'TL': '石灰土', 'TS': '淋溶黄色石灰石', 'YL': '黄色石灰土'},\n",
       " 2: {'TZ': '中层硅质黄壤', 'TL': '黄壤', 'TS': '硅质黄壤', 'YL': '黄壤'},\n",
       " 3: {'TZ': '中层硅铁质黄壤', 'TL': '黄壤', 'TS': '硅铁质黄壤', 'YL': '黄壤'},\n",
       " 4: {'TZ': '中层硅铁质黄壤性土', 'TL': '黄壤', 'TS': '硅铁质黄壤性土', 'YL': '黄壤性土'},\n",
       " 5: {'TZ': '中层硅铁质黄棕壤', 'TL': '山地黄棕壤', 'TS': '硅铁质黄棕壤', 'YL': '山地黄壤'},\n",
       " 6: {'TZ': '中层硅铝质黄壤', 'TL': '黄壤', 'TS': '硅铝质黄壤', 'YL': '黄壤'},\n",
       " 7: {'TZ': '中层硅铝质黄壤性土', 'TL': '黄壤', 'TS': '硅铝质黄壤性土', 'YL': '黄壤性土'},\n",
       " 8: {'TZ': '中层硅铝质黄棕壤', 'TL': '山地黄棕壤', 'TS': '硅铝质黄棕壤', 'YL': '山地黄壤'},\n",
       " 9: {'TZ': '中层紫色土', 'TL': '紫色土', 'TS': '紫色土', 'YL': '钙质和中性紫色土'},\n",
       " 10: {'TZ': '中层紫色沙土', 'TL': '紫色土', 'TS': '紫色沙土', 'YL': '钙质和中性紫色土'},\n",
       " 11: {'TZ': '中层酸性紫色土', 'TL': '紫色土', 'TS': '酸性紫色土', 'YL': '酸性紫色土'},\n",
       " 12: {'TZ': '中层酸性紫色砂土', 'TL': '紫色土', 'TS': '酸性紫色砂土', 'YL': '酸性紫色土'},\n",
       " 13: {'TZ': '中层铁质黄壤', 'TL': '黄壤', 'TS': '铁质黄壤', 'YL': '黄壤'},\n",
       " 14: {'TZ': '中层铁铝质黄壤', 'TL': '黄壤', 'TS': '铁铝质黄壤', 'YL': '黄壤'},\n",
       " 15: {'TZ': '中层黄色石灰土', 'TL': '石灰土', 'TS': '黄色石灰土', 'YL': '黄色石灰土'},\n",
       " 16: {'TZ': '中层黑色石灰土', 'TL': '石灰土', 'TS': '黑色石灰土', 'YL': '黑色石灰土'},\n",
       " 17: {'TZ': '中白善泥', 'TL': '水稻土', 'TS': '白善泥', 'YL': '侧渗型'},\n",
       " 18: {'TZ': '中白胶泥', 'TL': '水稻土', 'TS': '白胶泥', 'YL': '侧渗型'},\n",
       " 19: {'TZ': '冷水田', 'TL': '水稻土', 'TS': '冷水田', 'YL': '潴育型'},\n",
       " 20: {'TZ': '冷浸田', 'TL': '水稻土', 'TS': '冷浸田', 'YL': '替育型'},\n",
       " 21: {'TZ': '冷砂土', 'TL': '黄壤', 'TS': '石砂土', 'YL': '黄泥土'},\n",
       " 22: {'TZ': '冷砂田', 'TL': '水稻土', 'TS': '冷浸田', 'YL': '替育型'},\n",
       " 23: {'TZ': '厚层次生黄色石灰土', 'TL': '石灰土', 'TS': '次生黄色石灰土', 'YL': '黄色石灰土'},\n",
       " 24: {'TZ': '厚层淋溶黄色石灰土', 'TL': '石灰土', 'TS': '淋溶黄色石灰石', 'YL': '黄色石灰土'},\n",
       " 25: {'TZ': '厚层硅质黄壤', 'TL': '黄壤', 'TS': '硅质黄壤', 'YL': '黄壤'},\n",
       " 26: {'TZ': '厚层硅铁质黄壤', 'TL': '黄壤', 'TS': '硅铁质黄壤', 'YL': '黄壤'},\n",
       " 27: {'TZ': '厚层硅铁质黄壤性土', 'TL': '黄壤', 'TS': '硅铁质黄壤性土', 'YL': '黄壤性土'},\n",
       " 28: {'TZ': '厚层硅铁质黄棕壤', 'TL': '山地黄棕壤', 'TS': '硅铁质黄棕壤', 'YL': '山地黄壤'},\n",
       " 29: {'TZ': '厚层硅铝质黄壤', 'TL': '黄壤', 'TS': '硅铝质黄壤', 'YL': '黄壤'},\n",
       " 30: {'TZ': '厚层硅铝质黄壤性土', 'TL': '黄壤', 'TS': '硅铝质黄壤性土', 'YL': '黄壤性土'},\n",
       " 31: {'TZ': '厚层硅铝质黄棕壤', 'TL': '山地黄棕壤', 'TS': '硅铝质黄棕壤', 'YL': '山地黄壤'},\n",
       " 32: {'TZ': '厚层酸性紫色土', 'TL': '紫色土', 'TS': '酸性紫色土', 'YL': '酸性紫色土'},\n",
       " 33: {'TZ': '厚层酸性紫色砂土', 'TL': '紫色土', 'TS': '酸性紫色砂土', 'YL': '酸性紫色土'},\n",
       " 34: {'TZ': '厚层铁质黄壤', 'TL': '黄壤', 'TS': '铁质黄壤', 'YL': '黄壤'},\n",
       " 35: {'TZ': '厚层铁铝质黄壤', 'TL': '黄壤', 'TS': '铁铝质黄壤', 'YL': '黄壤'},\n",
       " 36: {'TZ': '厚层黄色石灰土', 'TL': '石灰土', 'TS': '黄色石灰土', 'YL': '黄色石灰土'},\n",
       " 37: {'TZ': '厚层黑色石灰土', 'TL': '石灰土', 'TS': '黑色石灰土', 'YL': '黑色石灰土'},\n",
       " 38: {'TZ': '大土泥', 'TL': '石灰土', 'TS': '大土泥', 'YL': '大土泥'},\n",
       " 39: {'TZ': '大泥', 'TL': '水稻土', 'TS': '大泥', 'YL': '淹育型'},\n",
       " 40: {'TZ': '大泥土', 'TL': '石灰土', 'TS': '大土泥', 'YL': '大土泥'},\n",
       " 41: {'TZ': '大眼泥', 'TL': '水稻土', 'TS': '大眼泥', 'YL': '潴育型'},\n",
       " 42: {'TZ': '寡黄泥', 'TL': '水稻土', 'TS': '坡塝黄泥', 'YL': '淹育型'},\n",
       " 43: {'TZ': '小土泥', 'TL': '石灰土', 'TS': '小土泥', 'YL': '大土泥'},\n",
       " 44: {'TZ': '小黄泥', 'TL': '水稻土', 'TS': '黄泥', 'YL': '潴育型'},\n",
       " 45: {'TZ': '小黄泥土', 'TL': '黄壤', 'TS': '黄泥土', 'YL': '黄泥土'},\n",
       " 46: {'TZ': '岩泥', 'TL': '石灰土', 'TS': '大土泥', 'YL': '大土泥'},\n",
       " 47: {'TZ': '岩灰泥', 'TL': '石灰土', 'TS': '大土泥', 'YL': '大土泥'},\n",
       " 48: {'TZ': '干鸭屎泥', 'TL': '水稻土', 'TS': '鸭屎泥', 'YL': '替育型'},\n",
       " 49: {'TZ': '扁砂土', 'TL': '黄壤', 'TS': '石砂土', 'YL': '黄泥土'},\n",
       " 50: {'TZ': '扁砂泥', 'TL': '水稻土', 'TS': '坡塝黄泥', 'YL': '淹育型'},\n",
       " 51: {'TZ': '死黄泥', 'TL': '水稻土', 'TS': '坡塝黄泥', 'YL': '淹育型'},\n",
       " 52: {'TZ': '死黄泥土', 'TL': '黄壤', 'TS': '黄泥土', 'YL': '黄泥土'},\n",
       " 53: {'TZ': '浅脚烂泥田', 'TL': '水稻土', 'TS': '烂泥田', 'YL': '沼泽型'},\n",
       " 54: {'TZ': '浅血泥田', 'TL': '水稻土', 'TS': '紫泥', 'YL': '潴育型'},\n",
       " 55: {'TZ': '深脚烂泥田', 'TL': '水稻土', 'TS': '烂泥田', 'YL': '沼泽型'},\n",
       " 56: {'TZ': '湿鸭屎泥', 'TL': '水稻土', 'TS': '鸭屎泥', 'YL': '替育型'},\n",
       " 57: {'TZ': '潮泥', 'TL': '水稻土', 'TS': '潮泥', 'YL': '潴育型'},\n",
       " 58: {'TZ': '潮砂土', 'TL': '潮土', 'TS': '潮砂泥土', 'YL': '潮土'},\n",
       " 59: {'TZ': '潮砂泥', 'TL': '水稻土', 'TS': '潮泥', 'YL': '潴育型'},\n",
       " 60: {'TZ': '火石砂土', 'TL': '黄壤', 'TS': '石砂土', 'YL': '黄泥土'},\n",
       " 61: {'TZ': '灰泡土', 'TL': '山地黄棕壤', 'TS': '灰泡土', 'YL': '灰泡土'},\n",
       " 62: {'TZ': '灰泡黄泥土', 'TL': '黄壤', 'TS': '灰泡黄泥土', 'YL': '黄泥土'},\n",
       " 63: {'TZ': '烂锈田', 'TL': '水稻土', 'TS': '锈毒田', 'YL': '矿毒田'},\n",
       " 64: {'TZ': '热鸭屎泥', 'TL': '水稻土', 'TS': '鸭屎泥', 'YL': '替育型'},\n",
       " 65: {'TZ': '煤锈田', 'TL': '水稻土', 'TS': '锈毒田', 'YL': '矿毒田'},\n",
       " 66: {'TZ': '熟白善泥', 'TL': '水稻土', 'TS': '白善泥', 'YL': '侧渗型'},\n",
       " 67: {'TZ': '熟白胶泥', 'TL': '水稻土', 'TS': '白胶泥', 'YL': '侧渗型'},\n",
       " 68: {'TZ': '白云砂土', 'TL': '石灰土', 'TS': '白砂土', 'YL': '大土泥'},\n",
       " 69: {'TZ': '白大泥', 'TL': '水稻土', 'TS': '大泥', 'YL': '淹育型'},\n",
       " 70: {'TZ': '白砂土', 'TL': '黄壤', 'TS': '石砂土', 'YL': '黄泥土'},\n",
       " 71: {'TZ': '白胶泥土', 'TL': '黄壤', 'TS': '胶泥土', 'YL': '黄泥土'},\n",
       " 72: {'TZ': '石喳子土', 'TL': '黄壤', 'TS': '石砂土', 'YL': '黄泥土'},\n",
       " 73: {'TZ': '砾石紫泥土', 'TL': '紫色土', 'TS': '砾质紫泥土', 'YL': '紫色土'},\n",
       " 74: {'TZ': '紫油泥', 'TL': '水稻土', 'TS': '紫泥', 'YL': '潴育型'},\n",
       " 75: {'TZ': '紫油砂土', 'TL': '紫色土', 'TS': '紫砂土', 'YL': '紫色土'},\n",
       " 76: {'TZ': '紫泥', 'TL': '水稻土', 'TS': '紫泥', 'YL': '潴育型'},\n",
       " 77: {'TZ': '紫砂土', 'TL': '紫色土', 'TS': '紫砂土', 'YL': '紫色土'},\n",
       " 78: {'TZ': '紫砂泥', 'TL': '水稻土', 'TS': '紫泥', 'YL': '潴育型'},\n",
       " 79: {'TZ': '紫色土', 'TL': '紫色土', 'TS': '紫色土', 'YL': '紫色土'},\n",
       " 80: {'TZ': '紫色大土', 'TL': '紫色土', 'TS': '紫色土', 'YL': '紫色土'},\n",
       " 81: {'TZ': '羊肝泥', 'TL': '水稻土', 'TS': '血肝泥', 'YL': '淹育型'},\n",
       " 82: {'TZ': '羊肝石土', 'TL': '紫色土', 'TS': '紫色土', 'YL': '紫色土'},\n",
       " 83: {'TZ': '苦大泥', 'TL': '水稻土', 'TS': '大泥', 'YL': '淹育型'},\n",
       " 84: {'TZ': '苦鸭屎泥', 'TL': '水稻土', 'TS': '鸭屎泥', 'YL': '替育型'},\n",
       " 85: {'TZ': '薄层次生黄色石灰土', 'TL': '石灰土', 'TS': '次生黄色石灰土', 'YL': '黄色石灰土'},\n",
       " 86: {'TZ': '薄层淋溶黄色石灰土', 'TL': '石灰土', 'TS': '淋溶黄色石灰石', 'YL': '黄色石灰土'},\n",
       " 87: {'TZ': '薄层硅质黄壤', 'TL': '黄壤', 'TS': '硅质黄壤', 'YL': '黄壤'},\n",
       " 88: {'TZ': '薄层硅质黄壤性土', 'TL': '黄壤', 'TS': '硅质黄壤性土', 'YL': '黄壤性土'},\n",
       " 89: {'TZ': '薄层硅铁质黄壤', 'TL': '黄壤', 'TS': '硅铁质黄壤', 'YL': '黄壤'},\n",
       " 90: {'TZ': '薄层硅铁质黄壤性土', 'TL': '黄壤', 'TS': '硅铁质黄壤性土', 'YL': '黄壤性土'},\n",
       " 91: {'TZ': '薄层硅铝质黄壤', 'TL': '黄壤', 'TS': '硅铝质黄壤', 'YL': '黄壤'},\n",
       " 92: {'TZ': '薄层硅铝质黄壤性土', 'TL': '黄壤', 'TS': '硅铝质黄壤性土', 'YL': '黄壤性土'},\n",
       " 93: {'TZ': '薄层酸性紫色土', 'TL': '紫色土', 'TS': '酸性紫色土', 'YL': '酸性紫色土'},\n",
       " 94: {'TZ': '薄层铁铝质黄壤', 'TL': '黄壤', 'TS': '铁铝质黄壤', 'YL': '黄壤'},\n",
       " 95: {'TZ': '薄层黄色石灰土', 'TL': '石灰土', 'TS': '黄色石灰土', 'YL': '黄色石灰土'},\n",
       " 96: {'TZ': '薄层黑色石灰土', 'TL': '石灰土', 'TS': '黑色石灰土', 'YL': '黑色石灰土'},\n",
       " 97: {'TZ': '血砂泥土', 'TL': '紫色土', 'TS': '血泥土', 'YL': '紫色土'},\n",
       " 98: {'TZ': '豆办泥土', 'TL': '黄壤', 'TS': '黄泥土', 'YL': '黄泥土'},\n",
       " 99: {'TZ': '豆办砂泥', 'TL': '水稻土', 'TS': '坡塝黄泥', 'YL': '淹育型'},\n",
       " 100: {'TZ': '豆面泥土', 'TL': '黄壤', 'TS': '黄砂泥土', 'YL': '黄泥土'},\n",
       " 101: {'TZ': '轻白善泥', 'TL': '水稻土', 'TS': '白善泥', 'YL': '侧渗型'},\n",
       " 102: {'TZ': '轻白胶泥', 'TL': '水稻土', 'TS': '白胶泥', 'YL': '侧渗型'},\n",
       " 103: {'TZ': '重白善泥', 'TL': '水稻土', 'TS': '白善泥', 'YL': '侧渗型'},\n",
       " 104: {'TZ': '重白胶泥', 'TL': '水稻土', 'TS': '白胶泥', 'YL': '侧渗型'},\n",
       " 105: {'TZ': '锈水田', 'TL': '水稻土', 'TS': '锈毒田', 'YL': '矿毒田'},\n",
       " 106: {'TZ': '黄大泥', 'TL': '水稻土', 'TS': '大泥', 'YL': '淹育型'},\n",
       " 107: {'TZ': '黄油砂土', 'TL': '黄壤', 'TS': '黄砂泥土', 'YL': '黄泥土'},\n",
       " 108: {'TZ': '黄油砂泥', 'TL': '水稻土', 'TS': '黄泥', 'YL': '潴育型'},\n",
       " 109: {'TZ': '黄泥', 'TL': '水稻土', 'TS': '黄泥', 'YL': '潴育型'},\n",
       " 110: {'TZ': '黄泥土', 'TL': '黄壤', 'TS': '黄泥土', 'YL': '黄泥土'},\n",
       " 111: {'TZ': '黄灰泡土', 'TL': '山地黄棕壤', 'TS': '灰泡土', 'YL': '灰泡土'},\n",
       " 112: {'TZ': '黄石砂田', 'TL': '水稻土', 'TS': '坡塝黄泥', 'YL': '淹育型'},\n",
       " 113: {'TZ': '黄砂土', 'TL': '黄壤', 'TS': '黄砂泥土', 'YL': '黄泥土'},\n",
       " 114: {'TZ': '黄砂泥', 'TL': '水稻土', 'TS': '坡塝黄泥', 'YL': '淹育型'},\n",
       " 115: {'TZ': '黄胶泥', 'TL': '水稻土', 'TS': '黄泥', 'YL': '潴育型'},\n",
       " 116: {'TZ': '黄胶泥土', 'TL': '黄壤', 'TS': '胶泥土', 'YL': '黄泥土'},\n",
       " 117: {'TZ': '黑潮泥', 'TL': '水稻土', 'TS': '潮泥', 'YL': '潴育型'},\n",
       " 118: {'TZ': '黑色油砂石', 'TL': '石灰土', 'TS': '大土泥', 'YL': '大土泥'},\n",
       " 119: {'TZ': '龙凤大眼泥', 'TL': '水稻土', 'TS': '大眼泥', 'YL': '潴育型'}}"
      ]
     },
     "execution_count": 29,
     "metadata": {},
     "output_type": "execute_result"
    }
   ],
   "source": [
    "result_dict"
   ]
  },
  {
   "cell_type": "code",
   "execution_count": 30,
   "metadata": {},
   "outputs": [],
   "source": [
    "raster_path = r'D:\\ArcGISProjects\\workspace\\shbyq\\feature_soiltype_result\\feature_soiltype_result_ky.gdb\\prediction_sioltype_RandomForestEntr_20240411_reclass_smooth'\n",
    "out_polygon_path = r'D:\\ArcGISProjects\\workspace\\shbyq\\soil_type_result.gdb\\soiltype_ky\\prediction_sioltype_RandomForestEntr_20240411_reclass_smooth'\n",
    "field_name = 'Value'"
   ]
  },
  {
   "cell_type": "code",
   "execution_count": 31,
   "metadata": {},
   "outputs": [],
   "source": [
    "# 栅格转面\n",
    "raster_to_polygon(raster_path, out_polygon_path, field_name)"
   ]
  },
  {
   "cell_type": "code",
   "execution_count": 40,
   "metadata": {},
   "outputs": [],
   "source": [
    "code_block =f\"\"\"\n",
    "def get_soil_class(soil_code):\n",
    "    soil_dict = {result_dict}\n",
    "    TZ = soil_dict[soil_code]['TZ']\n",
    "    TL = soil_dict[soil_code]['TL']\n",
    "    YL = soil_dict[soil_code]['YL']\n",
    "    TS = soil_dict[soil_code]['TS']\n",
    "    result_list = [TZ,TS,YL,TL]\n",
    "    return result_list[0]\n",
    "\"\"\"\n",
    "field_name = 'TZ'"
   ]
  },
  {
   "cell_type": "code",
   "execution_count": 33,
   "metadata": {},
   "outputs": [],
   "source": [
    "expression = \"get_soil_class(!gridcode!)\""
   ]
  },
  {
   "cell_type": "code",
   "execution_count": 34,
   "metadata": {},
   "outputs": [],
   "source": [
    "# 增加字段\n",
    "for one_field in ['TL','YL','TS','TZ']:\n",
    "    add_field(out_polygon_path, one_field, 'TEXT')"
   ]
  },
  {
   "cell_type": "code",
   "execution_count": 41,
   "metadata": {},
   "outputs": [
    {
     "data": {
      "text/html": [
       "<div class='gpresult'><h2>Messages</h2><div id='messages' data-messages='[\"开始时间: 2024年4月11日 11:11:21\",\"运行 成功，结束时间： 2024年4月11日 11:11:23 (历时: 2.16 秒)\"]' data-show='true'><div id = 'default' /></div></div>"
      ],
      "text/plain": [
       "<Result 'D:\\\\ArcGISProjects\\\\workspace\\\\shbyq\\\\soil_type_result.gdb\\\\soiltype_ky\\\\prediction_sioltype_RandomForestEntr_20240411_reclass_smooth'>"
      ]
     },
     "execution_count": 41,
     "metadata": {},
     "output_type": "execute_result"
    }
   ],
   "source": [
    "# 计算字段\n",
    "arcpy.CalculateField_management(in_table=out_polygon_path, field=field_name, expression=expression, expression_type=\"PYTHON3\", code_block=code_block)\n",
    "    "
   ]
  },
  {
   "cell_type": "code",
   "execution_count": null,
   "metadata": {},
   "outputs": [],
   "source": []
  },
  {
   "cell_type": "code",
   "execution_count": null,
   "metadata": {},
   "outputs": [],
   "source": []
  }
 ],
 "metadata": {
  "kernelspec": {
   "display_name": "Python 3",
   "language": "python",
   "name": "python3"
  },
  "language_info": {
   "codemirror_mode": {
    "name": "ipython",
    "version": 3
   },
   "file_extension": ".py",
   "mimetype": "text/x-python",
   "name": "python",
   "nbconvert_exporter": "python",
   "pygments_lexer": "ipython3",
   "version": "3.9.11"
  }
 },
 "nbformat": 4,
 "nbformat_minor": 2
}
