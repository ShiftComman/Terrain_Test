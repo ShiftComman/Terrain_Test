{
 "cells": [
  {
   "cell_type": "markdown",
   "metadata": {},
   "source": [
    "# 耕地质量等级评价"
   ]
  },
  {
   "cell_type": "markdown",
   "metadata": {},
   "source": [
    "## 一、确定评价单元\n",
    "以三调底图种同一土地利用类型、同一村级行政区在按照同一土类划分评价单元。"
   ]
  },
  {
   "cell_type": "markdown",
   "metadata": {},
   "source": [
    "## 二、确定所评价区域的指标\n",
    "参照耕地质量评价技术指南。"
   ]
  },
  {
   "cell_type": "markdown",
   "metadata": {},
   "source": [
    "## 三、连接属性\n",
    "参照耕地质量评价技术指南选定评价区域所需属性链接至单元（一般以单元覆盖区域均值求取）。"
   ]
  },
  {
   "cell_type": "markdown",
   "metadata": {},
   "source": [
    "## 四、计算耕地质量综合指数\n",
    "采用累加法计算:$$P= \\sum(C_i \\times F_i)$$\n",
    "\n",
    "式中:$P$代表耕地质量综合指数，\n",
    "    $C_i$代表第i个评价指标的组合权重，\n",
    "    $F_i$代表第i个评价指标的隶属度。"
   ]
  },
  {
   "cell_type": "markdown",
   "metadata": {
    "vscode": {
     "languageId": "plaintext"
    }
   },
   "source": [
    "## 五、耕地质量等级划分\n",
    "获得综合指数以后，按照技术指南等级划分指数做等级划分。"
   ]
  },
  {
   "cell_type": "markdown",
   "metadata": {},
   "source": [
    "## 六、耕地质量生产潜力评估\n",
    "#### 1.年度粮食产能水平\n",
    "$$ y=\n",
    "\\begin{cases} \n",
    "y_{\\min}, & u \\leq u_1 \\\\\n",
    "\\frac{b}{{1 + a(u-c)^2}}, & u_1 < u \\leq u_2\\\\\n",
    "y_{\\max}, & u \\geq u_2 \n",
    "\\end{cases}\n",
    "$$\n",
    "式中：y为某一评价单元全年耕地粮食产能水平，$y_{\\min}$为最低等级地综合指数平均值计算的产能水平，$y_{\\max}$为最高等级地综合指数平均值计算的产能水平，u为综合指数得分，u1为最低等级地综合指数平均值，u2为最高等级地综合指数平均值，a、b为系数，c为标准值。\n",
    "#### 2.单季粮食产能水平\n",
    "$$Y_1 = y/m$$\n",
    "式中：$Y_1$为某一评价单元打击耕地粮食产能水平，$y$为区域年度耕地粮食产能水平，$m$为当地熟制。\n",
    "#### 3. 年度粮食生产潜力\n",
    "$$Y_2 = y \\cdot s \\cdot k$$\n",
    "式中：$Y_2$为区域年度耕地粮食生产潜力，$y$为区域年度耕地粮食产能水平，$s$为区域面积，$k$为校正系数（区域耕地种粮面积及与区域耕地面积的比值）。\n",
    "\n",
    "拟合系数计算：\n",
    "```python\n",
    "import numpy as np\n",
    "from scipy.optimize import curve_fit\n",
    "# 提供的数据点\n",
    "scores = np.array([0.89, 0.87, 0.84, 0.82, 0.79, 0.77, 0.74, 0.72])\n",
    "yields = np.array([1200, 1100, 1000, 900, 800, 700, 600, 500])\n",
    "# 定义戒上型函数模型\n",
    "def upper_bound_model(x, a, c, b):\n",
    "    return b / (1 + a * (x - c)**2)\n",
    "# 更新初始参数猜测: 我们可以尝试将a的初始值设为更小的数值，c设为评分的中间值\n",
    "updated_initial_guess = [0.01, np.mean(scores), max(yields)]\n",
    "\n",
    "# 更新curve_fit的参数，增加最大迭代次数 maxfev\n",
    "params, params_covariance = curve_fit(\n",
    "    upper_bound_model, scores, yields, \n",
    "    p0=updated_initial_guess, \n",
    "    maxfev=1000  # 增加最大迭代次数\n",
    ")\n",
    "# 输出拟合的参数\n",
    "a_fit, c_fit, b_fit = params\n",
    "a_fit, c_fit, b_fit\n",
    "```\n"
   ]
  },
  {
   "cell_type": "markdown",
   "metadata": {},
   "source": [
    "# 七、计算示例\n",
    "示例数据中各评价单元已连接所需指标。"
   ]
  },
  {
   "cell_type": "code",
   "execution_count": 80,
   "metadata": {},
   "outputs": [],
   "source": [
    "# type:ignore\n",
    "import os\n",
    "import pandas as pd\n",
    "import numpy as np\n",
    "import json\n",
    "import matplotlib.pyplot as plt\n",
    "data_path = r\"G:\\soil_property_result\\qzs\\grade_evaluation\\table\\grade_evaluation_have_index.csv\""
   ]
  },
  {
   "cell_type": "code",
   "execution_count": 81,
   "metadata": {},
   "outputs": [
    {
     "data": {
      "text/plain": [
       "Index(['FID', 'DLMC', 'ZLDWDM', 'ZLDWMC', 'Class1', 'Class1_ts', 'Class1_yl',\n",
       "       'Class1_tl', 'DLBM', 'QSDWDM', 'QSDWMC', 'DLLB', 'DLDM', 'MZMC',\n",
       "       'gridcode', 'project_Area', '酸碱度', '有机质', '速效钾', '有效磷', '土壤容重', '耕层厚度',\n",
       "       '有效土层厚度', '海拔高度', '地形部位', '灌溉能力', '排水能力', '耕层质地', '质地构型'],\n",
       "      dtype='object')"
      ]
     },
     "execution_count": 81,
     "metadata": {},
     "output_type": "execute_result"
    }
   ],
   "source": [
    "data_frame = pd.read_csv(data_path)\n",
    "data_frame.columns"
   ]
  },
  {
   "cell_type": "code",
   "execution_count": 82,
   "metadata": {},
   "outputs": [
    {
     "data": {
      "text/html": [
       "<div>\n",
       "<style scoped>\n",
       "    .dataframe tbody tr th:only-of-type {\n",
       "        vertical-align: middle;\n",
       "    }\n",
       "\n",
       "    .dataframe tbody tr th {\n",
       "        vertical-align: top;\n",
       "    }\n",
       "\n",
       "    .dataframe thead th {\n",
       "        text-align: right;\n",
       "    }\n",
       "</style>\n",
       "<table border=\"1\" class=\"dataframe\">\n",
       "  <thead>\n",
       "    <tr style=\"text-align: right;\">\n",
       "      <th></th>\n",
       "      <th>FID</th>\n",
       "      <th>DLMC</th>\n",
       "      <th>ZLDWDM</th>\n",
       "      <th>ZLDWMC</th>\n",
       "      <th>Class1</th>\n",
       "      <th>Class1_ts</th>\n",
       "      <th>Class1_yl</th>\n",
       "      <th>Class1_tl</th>\n",
       "      <th>DLBM</th>\n",
       "      <th>QSDWDM</th>\n",
       "      <th>...</th>\n",
       "      <th>有效磷</th>\n",
       "      <th>土壤容重</th>\n",
       "      <th>耕层厚度</th>\n",
       "      <th>有效土层厚度</th>\n",
       "      <th>海拔高度</th>\n",
       "      <th>地形部位</th>\n",
       "      <th>灌溉能力</th>\n",
       "      <th>排水能力</th>\n",
       "      <th>耕层质地</th>\n",
       "      <th>质地构型</th>\n",
       "    </tr>\n",
       "  </thead>\n",
       "  <tbody>\n",
       "    <tr>\n",
       "      <th>59302</th>\n",
       "      <td>59302</td>\n",
       "      <td>水田</td>\n",
       "      <td>5201812032120000000</td>\n",
       "      <td>洛阳村</td>\n",
       "      <td>石灰泥田</td>\n",
       "      <td>灰泥田</td>\n",
       "      <td>潴育水稻土</td>\n",
       "      <td>水稻土</td>\n",
       "      <td>1</td>\n",
       "      <td>5201812032120000000</td>\n",
       "      <td>...</td>\n",
       "      <td>9.26</td>\n",
       "      <td>1.27</td>\n",
       "      <td>13.74</td>\n",
       "      <td>111.09</td>\n",
       "      <td>1212.58</td>\n",
       "      <td>山地坡下</td>\n",
       "      <td>满足</td>\n",
       "      <td>不满足</td>\n",
       "      <td>壤质黏土</td>\n",
       "      <td>紧实型</td>\n",
       "    </tr>\n",
       "  </tbody>\n",
       "</table>\n",
       "<p>1 rows × 29 columns</p>\n",
       "</div>"
      ],
      "text/plain": [
       "         FID DLMC               ZLDWDM ZLDWMC Class1 Class1_ts Class1_yl  \\\n",
       "59302  59302   水田  5201812032120000000    洛阳村   石灰泥田       灰泥田     潴育水稻土   \n",
       "\n",
       "      Class1_tl  DLBM               QSDWDM  ...  有效磷 土壤容重  耕层厚度 有效土层厚度  \\\n",
       "59302       水稻土     1  5201812032120000000  ... 9.26 1.27 13.74 111.09   \n",
       "\n",
       "         海拔高度  地形部位  灌溉能力  排水能力  耕层质地  质地构型  \n",
       "59302 1212.58  山地坡下    满足   不满足  壤质黏土   紧实型  \n",
       "\n",
       "[1 rows x 29 columns]"
      ]
     },
     "execution_count": 82,
     "metadata": {},
     "output_type": "execute_result"
    }
   ],
   "source": [
    "data_frame.sample(1)"
   ]
  },
  {
   "cell_type": "code",
   "execution_count": 83,
   "metadata": {},
   "outputs": [],
   "source": [
    "# 1、获取该地区所需的评价指标。\n",
    "# 打开 JSON 文件并加载内容\n",
    "with open(r'D:\\worker_code\\Terrain_Test\\data\\grade_evaluation\\region_all.json', 'r', encoding='utf-8') as file:\n",
    "    dictionary_data = json.load(file)"
   ]
  },
  {
   "cell_type": "code",
   "execution_count": 84,
   "metadata": {},
   "outputs": [
    {
     "name": "stdout",
     "output_type": "stream",
     "text": [
      "dict_keys(['地形部位', '灌溉能力', '有效土层厚度', '有机质', '耕层质地', '酸碱度', '土壤容重', '海拔高度', '速效钾', '排水能力', '有效磷', '质地构型', '耕层厚度'])\n",
      "Index(['FID', 'DLMC', 'ZLDWDM', 'ZLDWMC', 'Class1', 'Class1_ts', 'Class1_yl',\n",
      "       'Class1_tl', 'DLBM', 'QSDWDM', 'QSDWMC', 'DLLB', 'DLDM', 'MZMC',\n",
      "       'gridcode', 'project_Area', '酸碱度', '有机质', '速效钾', '有效磷', '土壤容重', '耕层厚度',\n",
      "       '有效土层厚度', '海拔高度', '地形部位', '灌溉能力', '排水能力', '耕层质地', '质地构型'],\n",
      "      dtype='object')\n",
      "set()\n"
     ]
    }
   ],
   "source": [
    "index_level = dictionary_data['西南区']['黔桂高原山地林农牧区']['权重'].keys()\n",
    "print(index_level)\n",
    "print(data_frame.columns)\n",
    "print(set(index_level)-set(data_frame.columns)) # 检查是否缺少指标参数"
   ]
  },
  {
   "cell_type": "code",
   "execution_count": 85,
   "metadata": {},
   "outputs": [
    {
     "name": "stdout",
     "output_type": "stream",
     "text": [
      "{'地形部位': {'山间盆地': 0.86, '宽谷盆地': 0.95, '平原低阶': 1.0, '平原中阶': 0.94, '平原高阶': 0.85, '丘陵上部': 0.62, '丘陵中部': 0.77, '丘陵下部': 0.84, '山地坡上': 0.47, '山地坡中': 0.65, '山地坡下': 0.75}, '质地构型': {'海绵型': 1.0, '夹层型': 0.9, '紧实型': 0.65, '松散型': 0.7, '薄层型': 0.5, '上松下紧型': 0.35, '上紧下松型': 0.3}, '耕层质地': {'壤土': 1.0, '粉(砂)质壤土': 0.9, '黏壤土': 0.85, '粉(砂)质黏壤土': 0.8, '粉(砂)质黏土': 0.7, '砂质黏壤土': 0.83, '砂质壤土': 0.76, '壤质黏土': 0.73, '黏土': 0.6, '砂质黏土': 0.7, '重黏土': 0.52, '砂土及壤质砂土': 0.47}, '灌溉能力': {'充分满足': 1.0, '满足': 0.85, '基本满足': 0.7, '不满足': 0.4}, '排水能力': {'充分满足': 1.0, '满足': 0.85, '基本满足': 0.7, '不满足': 0.45}}\n"
     ]
    }
   ],
   "source": [
    "## 隶属度计算\n",
    "## 概念型指标\n",
    "gn_value = dictionary_data['西南区']['黔桂高原山地林农牧区']['隶属度函数']['概念型']\n",
    "print(gn_value)"
   ]
  },
  {
   "cell_type": "code",
   "execution_count": 86,
   "metadata": {},
   "outputs": [
    {
     "name": "stdout",
     "output_type": "stream",
     "text": [
      "计算地形部位\n",
      "计算质地构型\n",
      "计算耕层质地\n",
      "计算灌溉能力\n",
      "计算排水能力\n"
     ]
    }
   ],
   "source": [
    "# 计算概念性指标\n",
    "for one_index in gn_value:\n",
    "    print(f\"计算{one_index}\")\n",
    "    data_frame[f'{one_index}_sub'] = data_frame[one_index].map(gn_value[one_index])"
   ]
  },
  {
   "cell_type": "code",
   "execution_count": 87,
   "metadata": {},
   "outputs": [],
   "source": [
    "# 定义一个计算函数，根据函数类型选择对应的公式进行计算\n",
    "def calculate_value(row, value):\n",
    "    \"\"\"注:公式中y为隶属度;a为系数;b为截距;c为标准指标:u为实测值。\n",
    "    当函数类型为负直线型,u小于等于下限值时y为1;u大于等于上限值时,y为0;\n",
    "    当函数类型为戒上型,u小于等于下限值时,y为0;u大于等于上限值时,y为1;\n",
    "    当函数类型为峰型,u小于等于下限值或u大于等于上限值时,y为0。\"\"\"\n",
    "    function_type = row['类型']\n",
    "    a = row.get('系数a', None)\n",
    "    b = row.get('截距b', None)\n",
    "    c = row.get('标准值c', None)\n",
    "    u_min = row.get('最小值', None)\n",
    "    u_max = row.get('最大值', None)\n",
    "    \n",
    "    if function_type == '负直线型':\n",
    "        return np.where(value <= u_min, 1,\n",
    "               np.where(value >= u_max, 0,\n",
    "               b - a * value))\n",
    "    elif function_type == '戒上型':\n",
    "        return np.where(value <= u_min, 0,\n",
    "               np.where(value >= u_max, 1,\n",
    "               1 / (1 + a * (value-c) ** 2)))\n",
    "    elif function_type == '峰型':\n",
    "        return np.where((value <= u_min) | (value >= u_max), 0,\n",
    "               1 / (1 + a * (value-c) ** 2))\n",
    "    else:\n",
    "        return None"
   ]
  },
  {
   "cell_type": "code",
   "execution_count": 88,
   "metadata": {},
   "outputs": [
    {
     "data": {
      "text/plain": [
       "{'海拔高度': {'类型': '负直线型',\n",
       "  '公式': 'y=b-au',\n",
       "  '表达式': 'y=1.042457-0.000302u',\n",
       "  '系数a': 0.000302,\n",
       "  '截距b': 1.042457,\n",
       "  '最小值': 300.0,\n",
       "  '最大值': 3446.5},\n",
       " '有效土层厚度': {'类型': '戒上型',\n",
       "  '公式': 'y=1/(1+a(u-c)^2)',\n",
       "  '表达式': 'y=1/(1+0.000478(u-91.652186)^2)',\n",
       "  '系数a': 0.000478,\n",
       "  '标准值c': 91.652186,\n",
       "  '最小值': 5,\n",
       "  '最大值': 91.6},\n",
       " '土壤容重': {'类型': '峰型',\n",
       "  '公式': 'y=1/(1+a(u-c)^2)',\n",
       "  '表达式': 'y=1/(1+7.708057(u-1.122518)^2)',\n",
       "  '系数a': 7.708057,\n",
       "  '标准值c': 1.122518,\n",
       "  '最小值': 0.5,\n",
       "  '最大值': 1.8},\n",
       " '酸碱度': {'类型': '峰型',\n",
       "  '公式': 'y=1/(1+a(u-c)^2)',\n",
       "  '表达式': 'y=1/(1+0.312760(u-6.686935)^2)',\n",
       "  '系数a': 0.31276,\n",
       "  '标准值c': 6.686935,\n",
       "  '最小值': 3.0,\n",
       "  '最大值': 9.5},\n",
       " '有机质': {'类型': '戒上型',\n",
       "  '公式': 'y=1/(1+a(u-c)^2)',\n",
       "  '表达式': 'y=1/(1+0.002657(u-36.824713)^2)',\n",
       "  '系数a': 0.002657,\n",
       "  '标准值c': 36.824713,\n",
       "  '最小值': 2,\n",
       "  '最大值': 36.8},\n",
       " '速效钾': {'类型': '戒上型',\n",
       "  '公式': 'y=1/(1+a(u-c)^2)',\n",
       "  '表达式': 'y=1/(1+0.000072(u-187.581753)^2)',\n",
       "  '系数a': 7.2e-05,\n",
       "  '标准值c': 187.581753,\n",
       "  '最小值': 10,\n",
       "  '最大值': 187},\n",
       " '有效磷': {'类型': '戒上型',\n",
       "  '公式': 'y=1/(1+a(u-c)^2)',\n",
       "  '表达式': 'y=1/(1+0.001643(u-38.123057)^2)',\n",
       "  '系数a': 0.001643,\n",
       "  '标准值c': 38.123057,\n",
       "  '最小值': 0.1,\n",
       "  '最大值': 38.1},\n",
       " '耕层厚度': {'类型': '戒上型',\n",
       "  '公式': 'y=1/(1+a(u-c)^2)',\n",
       "  '表达式': 'y=1/(1+0.007127(u-25.203801)^2)',\n",
       "  '系数a': 0.007127,\n",
       "  '标准值c': 25.203801,\n",
       "  '最小值': 5,\n",
       "  '最大值': 25}}"
      ]
     },
     "execution_count": 88,
     "metadata": {},
     "output_type": "execute_result"
    }
   ],
   "source": [
    "## 数值型指标\n",
    "sz_value = dictionary_data['西南区']['黔桂高原山地林农牧区']['隶属度函数']['数值型']\n",
    "sz_value"
   ]
  },
  {
   "cell_type": "code",
   "execution_count": 89,
   "metadata": {},
   "outputs": [],
   "source": [
    "# 计算数值型指标\n",
    "for one_index in sz_value:\n",
    "    data_frame[f'{one_index}_sub'] = calculate_value(sz_value[one_index],data_frame[one_index])"
   ]
  },
  {
   "cell_type": "code",
   "execution_count": 90,
   "metadata": {},
   "outputs": [
    {
     "data": {
      "text/plain": [
       "{'地形部位': 0.1367,\n",
       " '灌溉能力': 0.1314,\n",
       " '有效土层厚度': 0.075,\n",
       " '有机质': 0.0738,\n",
       " '耕层质地': 0.0736,\n",
       " '酸碱度': 0.0671,\n",
       " '土壤容重': 0.0648,\n",
       " '海拔高度': 0.0646,\n",
       " '速效钾': 0.0644,\n",
       " '排水能力': 0.0643,\n",
       " '有效磷': 0.0642,\n",
       " '质地构型': 0.064,\n",
       " '耕层厚度': 0.0561}"
      ]
     },
     "execution_count": 90,
     "metadata": {},
     "output_type": "execute_result"
    }
   ],
   "source": [
    "## 计算综合指数\n",
    "index_value = dictionary_data['西南区']['黔桂高原山地林农牧区']['权重']\n",
    "index_value"
   ]
  },
  {
   "cell_type": "code",
   "execution_count": 91,
   "metadata": {},
   "outputs": [
    {
     "data": {
      "text/plain": [
       "{'地形部位_sub': 0.1367,\n",
       " '灌溉能力_sub': 0.1314,\n",
       " '有效土层厚度_sub': 0.075,\n",
       " '有机质_sub': 0.0738,\n",
       " '耕层质地_sub': 0.0736,\n",
       " '酸碱度_sub': 0.0671,\n",
       " '土壤容重_sub': 0.0648,\n",
       " '海拔高度_sub': 0.0646,\n",
       " '速效钾_sub': 0.0644,\n",
       " '排水能力_sub': 0.0643,\n",
       " '有效磷_sub': 0.0642,\n",
       " '质地构型_sub': 0.064,\n",
       " '耕层厚度_sub': 0.0561}"
      ]
     },
     "execution_count": 91,
     "metadata": {},
     "output_type": "execute_result"
    }
   ],
   "source": [
    "values_dict = {key + '_sub': value for key, value in index_value.items()}\n",
    "values_dict"
   ]
  },
  {
   "cell_type": "code",
   "execution_count": 92,
   "metadata": {},
   "outputs": [
    {
     "data": {
      "text/plain": [
       "dict_keys(['地形部位_sub', '灌溉能力_sub', '有效土层厚度_sub', '有机质_sub', '耕层质地_sub', '酸碱度_sub', '土壤容重_sub', '海拔高度_sub', '速效钾_sub', '排水能力_sub', '有效磷_sub', '质地构型_sub', '耕层厚度_sub'])"
      ]
     },
     "execution_count": 92,
     "metadata": {},
     "output_type": "execute_result"
    }
   ],
   "source": [
    "# 选择要计算权重的列\n",
    "columns_to_calculate = values_dict.keys()\n",
    "columns_to_calculate"
   ]
  },
  {
   "cell_type": "code",
   "execution_count": 93,
   "metadata": {},
   "outputs": [],
   "source": [
    "data_frame['综合指数'] = (data_frame[columns_to_calculate]*pd.Series(values_dict)).sum(axis=1)"
   ]
  },
  {
   "cell_type": "code",
   "execution_count": 94,
   "metadata": {},
   "outputs": [
    {
     "data": {
      "text/plain": [
       "count   60191.00\n",
       "mean        0.73\n",
       "std         0.04\n",
       "min         0.60\n",
       "25%         0.70\n",
       "50%         0.73\n",
       "75%         0.76\n",
       "max         0.86\n",
       "Name: 综合指数, dtype: float64"
      ]
     },
     "execution_count": 94,
     "metadata": {},
     "output_type": "execute_result"
    }
   ],
   "source": [
    "data_frame['综合指数'].describe()"
   ]
  },
  {
   "cell_type": "code",
   "execution_count": 95,
   "metadata": {},
   "outputs": [
    {
     "data": {
      "text/plain": [
       "[{'最小值': 0.838, '最大值': 1.0, '等级': '一等'},\n",
       " {'最小值': 0.8105, '最大值': 0.838, '等级': '二等'},\n",
       " {'最小值': 0.783, '最大值': 0.8105, '等级': '三等'},\n",
       " {'最小值': 0.7555, '最大值': 0.783, '等级': '四等'},\n",
       " {'最小值': 0.728, '最大值': 0.7555, '等级': '五等'},\n",
       " {'最小值': 0.7005, '最大值': 0.728, '等级': '六等'},\n",
       " {'最小值': 0.673, '最大值': 0.7005, '等级': '七等'},\n",
       " {'最小值': 0.6455, '最大值': 0.673, '等级': '八等'},\n",
       " {'最小值': 0.618, '最大值': 0.6455, '等级': '九等'},\n",
       " {'最小值': 0.0, '最大值': 0.618, '等级': '十等'}]"
      ]
     },
     "execution_count": 95,
     "metadata": {},
     "output_type": "execute_result"
    }
   ],
   "source": [
    "# 等级划分\n",
    "# 获取划分指数\n",
    "level_value = dictionary_data['西南区']['黔桂高原山地林农牧区']['等级划分']\n",
    "level_value"
   ]
  },
  {
   "cell_type": "code",
   "execution_count": 96,
   "metadata": {},
   "outputs": [],
   "source": [
    "# 等级划分函数\n",
    "def calc_level(value):\n",
    "    for level_dict in level_value:\n",
    "        if level_dict['最小值'] <= value < level_dict['最大值']:\n",
    "            return level_dict['等级']\n",
    "    return None"
   ]
  },
  {
   "cell_type": "code",
   "execution_count": 97,
   "metadata": {},
   "outputs": [],
   "source": [
    "data_frame['综合质量等级'] = data_frame['综合指数'].apply(calc_level)"
   ]
  },
  {
   "cell_type": "code",
   "execution_count": 98,
   "metadata": {},
   "outputs": [
    {
     "data": {
      "text/plain": [
       "综合质量等级\n",
       "六等    16200\n",
       "五等    13390\n",
       "四等    10131\n",
       "七等     9372\n",
       "三等     4216\n",
       "八等     3704\n",
       "九等     1670\n",
       "二等     1289\n",
       "一等      110\n",
       "十等      109\n",
       "Name: count, dtype: int64"
      ]
     },
     "execution_count": 98,
     "metadata": {},
     "output_type": "execute_result"
    }
   ],
   "source": [
    "data_frame['综合质量等级'].value_counts()"
   ]
  },
  {
   "cell_type": "code",
   "execution_count": 99,
   "metadata": {},
   "outputs": [
    {
     "data": {
      "image/png": "[encoded data removed]",
      "text/plain": [
       "<Figure size 500x200 with 1 Axes>"
      ]
     },
     "metadata": {},
     "output_type": "display_data"
    }
   ],
   "source": [
    "\n",
    "level_area = data_frame.groupby('综合质量等级')['project_Area'].sum().reset_index()\n",
    "\n",
    "# 设置中文字体\n",
    "plt.rcParams['font.sans-serif'] = ['SimHei']  # 用来正常显示中文标签\n",
    "plt.rcParams['axes.unicode_minus'] = False  # 用来正常显示负号\n",
    "\n",
    "# 绘制\n",
    "ax = level_area.plot(kind='bar', x='综合质量等级', y='project_Area', figsize=(5, 2))\n",
    "plt.xlabel('综合质量等级')\n",
    "plt.ylabel('project_Area')\n",
    "plt.title('各等级土地面积分布')\n",
    "plt.show()"
   ]
  },
  {
   "cell_type": "code",
   "execution_count": 100,
   "metadata": {},
   "outputs": [],
   "source": [
    "# 导出等级质量评价表\n",
    "save_path = r'G:\\soil_property_result\\qzs\\grade_evaluation\\result'\n",
    "data_frame['QSDWDM'] = data_frame['QSDWDM'].astype(str)\n",
    "data_frame['ZLDWDM'] = data_frame['ZLDWDM'].astype(str)\n",
    "data_frame.to_excel(os.path.join(save_path,'grade_evaluation_result.xlsx'),index=False)"
   ]
  },
  {
   "cell_type": "code",
   "execution_count": 101,
   "metadata": {},
   "outputs": [
    {
     "data": {
      "text/plain": [
       "综合质量等级\n",
       "六等    16200\n",
       "五等    13390\n",
       "四等    10131\n",
       "七等     9372\n",
       "三等     4216\n",
       "八等     3704\n",
       "九等     1670\n",
       "二等     1289\n",
       "一等      110\n",
       "十等      109\n",
       "Name: count, dtype: int64"
      ]
     },
     "execution_count": 101,
     "metadata": {},
     "output_type": "execute_result"
    }
   ],
   "source": [
    "## 计算年度粮食产能\n",
    "data_frame['综合质量等级'].value_counts()"
   ]
  },
  {
   "cell_type": "code",
   "execution_count": 102,
   "metadata": {},
   "outputs": [
    {
     "data": {
      "text/html": [
       "<div>\n",
       "<style scoped>\n",
       "    .dataframe tbody tr th:only-of-type {\n",
       "        vertical-align: middle;\n",
       "    }\n",
       "\n",
       "    .dataframe tbody tr th {\n",
       "        vertical-align: top;\n",
       "    }\n",
       "\n",
       "    .dataframe thead th {\n",
       "        text-align: right;\n",
       "    }\n",
       "</style>\n",
       "<table border=\"1\" class=\"dataframe\">\n",
       "  <thead>\n",
       "    <tr style=\"text-align: right;\">\n",
       "      <th></th>\n",
       "      <th>综合质量等级</th>\n",
       "      <th>project_Area</th>\n",
       "      <th>综合指数</th>\n",
       "    </tr>\n",
       "  </thead>\n",
       "  <tbody>\n",
       "    <tr>\n",
       "      <th>0</th>\n",
       "      <td>一等</td>\n",
       "      <td>576074.17</td>\n",
       "      <td>0.85</td>\n",
       "    </tr>\n",
       "    <tr>\n",
       "      <th>1</th>\n",
       "      <td>七等</td>\n",
       "      <td>48729868.54</td>\n",
       "      <td>0.69</td>\n",
       "    </tr>\n",
       "    <tr>\n",
       "      <th>2</th>\n",
       "      <td>三等</td>\n",
       "      <td>36675266.77</td>\n",
       "      <td>0.79</td>\n",
       "    </tr>\n",
       "    <tr>\n",
       "      <th>3</th>\n",
       "      <td>九等</td>\n",
       "      <td>5185457.08</td>\n",
       "      <td>0.63</td>\n",
       "    </tr>\n",
       "    <tr>\n",
       "      <th>4</th>\n",
       "      <td>二等</td>\n",
       "      <td>9168920.20</td>\n",
       "      <td>0.82</td>\n",
       "    </tr>\n",
       "    <tr>\n",
       "      <th>5</th>\n",
       "      <td>五等</td>\n",
       "      <td>104251221.17</td>\n",
       "      <td>0.74</td>\n",
       "    </tr>\n",
       "    <tr>\n",
       "      <th>6</th>\n",
       "      <td>八等</td>\n",
       "      <td>15703988.56</td>\n",
       "      <td>0.66</td>\n",
       "    </tr>\n",
       "    <tr>\n",
       "      <th>7</th>\n",
       "      <td>六等</td>\n",
       "      <td>109816268.19</td>\n",
       "      <td>0.71</td>\n",
       "    </tr>\n",
       "    <tr>\n",
       "      <th>8</th>\n",
       "      <td>十等</td>\n",
       "      <td>277397.35</td>\n",
       "      <td>0.61</td>\n",
       "    </tr>\n",
       "    <tr>\n",
       "      <th>9</th>\n",
       "      <td>四等</td>\n",
       "      <td>105844985.32</td>\n",
       "      <td>0.77</td>\n",
       "    </tr>\n",
       "  </tbody>\n",
       "</table>\n",
       "</div>"
      ],
      "text/plain": [
       "  综合质量等级  project_Area  综合指数\n",
       "0     一等     576074.17  0.85\n",
       "1     七等   48729868.54  0.69\n",
       "2     三等   36675266.77  0.79\n",
       "3     九等    5185457.08  0.63\n",
       "4     二等    9168920.20  0.82\n",
       "5     五等  104251221.17  0.74\n",
       "6     八等   15703988.56  0.66\n",
       "7     六等  109816268.19  0.71\n",
       "8     十等     277397.35  0.61\n",
       "9     四等  105844985.32  0.77"
      ]
     },
     "execution_count": 102,
     "metadata": {},
     "output_type": "execute_result"
    }
   ],
   "source": [
    "result_frame = data_frame.groupby('综合质量等级').agg({'project_Area': 'sum', '综合指数': 'mean'}).reset_index()\n",
    "result_frame"
   ]
  },
  {
   "cell_type": "code",
   "execution_count": 103,
   "metadata": {},
   "outputs": [
    {
     "data": {
      "text/html": [
       "<div>\n",
       "<style scoped>\n",
       "    .dataframe tbody tr th:only-of-type {\n",
       "        vertical-align: middle;\n",
       "    }\n",
       "\n",
       "    .dataframe tbody tr th {\n",
       "        vertical-align: top;\n",
       "    }\n",
       "\n",
       "    .dataframe thead th {\n",
       "        text-align: right;\n",
       "    }\n",
       "</style>\n",
       "<table border=\"1\" class=\"dataframe\">\n",
       "  <thead>\n",
       "    <tr style=\"text-align: right;\">\n",
       "      <th></th>\n",
       "      <th>综合质量等级</th>\n",
       "      <th>project_Area</th>\n",
       "      <th>综合指数</th>\n",
       "      <th>预估产量</th>\n",
       "    </tr>\n",
       "  </thead>\n",
       "  <tbody>\n",
       "    <tr>\n",
       "      <th>0</th>\n",
       "      <td>一等</td>\n",
       "      <td>576074.17</td>\n",
       "      <td>0.85</td>\n",
       "      <td>1500</td>\n",
       "    </tr>\n",
       "    <tr>\n",
       "      <th>1</th>\n",
       "      <td>七等</td>\n",
       "      <td>48729868.54</td>\n",
       "      <td>0.69</td>\n",
       "      <td>996</td>\n",
       "    </tr>\n",
       "    <tr>\n",
       "      <th>2</th>\n",
       "      <td>三等</td>\n",
       "      <td>36675266.77</td>\n",
       "      <td>0.79</td>\n",
       "      <td>1320</td>\n",
       "    </tr>\n",
       "    <tr>\n",
       "      <th>3</th>\n",
       "      <td>九等</td>\n",
       "      <td>5185457.08</td>\n",
       "      <td>0.63</td>\n",
       "      <td>735</td>\n",
       "    </tr>\n",
       "    <tr>\n",
       "      <th>4</th>\n",
       "      <td>二等</td>\n",
       "      <td>9168920.20</td>\n",
       "      <td>0.82</td>\n",
       "      <td>1478</td>\n",
       "    </tr>\n",
       "    <tr>\n",
       "      <th>5</th>\n",
       "      <td>五等</td>\n",
       "      <td>104251221.17</td>\n",
       "      <td>0.74</td>\n",
       "      <td>1116</td>\n",
       "    </tr>\n",
       "    <tr>\n",
       "      <th>6</th>\n",
       "      <td>八等</td>\n",
       "      <td>15703988.56</td>\n",
       "      <td>0.66</td>\n",
       "      <td>826</td>\n",
       "    </tr>\n",
       "    <tr>\n",
       "      <th>7</th>\n",
       "      <td>六等</td>\n",
       "      <td>109816268.19</td>\n",
       "      <td>0.71</td>\n",
       "      <td>1018</td>\n",
       "    </tr>\n",
       "    <tr>\n",
       "      <th>8</th>\n",
       "      <td>十等</td>\n",
       "      <td>277397.35</td>\n",
       "      <td>0.61</td>\n",
       "      <td>665</td>\n",
       "    </tr>\n",
       "    <tr>\n",
       "      <th>9</th>\n",
       "      <td>四等</td>\n",
       "      <td>105844985.32</td>\n",
       "      <td>0.77</td>\n",
       "      <td>1218</td>\n",
       "    </tr>\n",
       "  </tbody>\n",
       "</table>\n",
       "</div>"
      ],
      "text/plain": [
       "  综合质量等级  project_Area  综合指数  预估产量\n",
       "0     一等     576074.17  0.85  1500\n",
       "1     七等   48729868.54  0.69   996\n",
       "2     三等   36675266.77  0.79  1320\n",
       "3     九等    5185457.08  0.63   735\n",
       "4     二等    9168920.20  0.82  1478\n",
       "5     五等  104251221.17  0.74  1116\n",
       "6     八等   15703988.56  0.66   826\n",
       "7     六等  109816268.19  0.71  1018\n",
       "8     十等     277397.35  0.61   665\n",
       "9     四等  105844985.32  0.77  1218"
      ]
     },
     "execution_count": 103,
     "metadata": {},
     "output_type": "execute_result"
    }
   ],
   "source": [
    "# 产量录入\n",
    "yield_dict = {\"一等\":1500,\"二等\":1478,\"三等\":1320,\"四等\":1218,\"五等\":1116,\"六等\":1018,\"七等\":996,\"八等\":826,\"九等\":735,\"十等\":665,}\n",
    "result_frame['预估产量'] = result_frame['综合质量等级'].map(yield_dict)\n",
    "result_frame\n"
   ]
  },
  {
   "cell_type": "code",
   "execution_count": 104,
   "metadata": {},
   "outputs": [],
   "source": [
    "# 计算模拟系数\n",
    "# type:ignore\n",
    "from scipy.optimize import curve_fit\n",
    "def fit_upper_bound_model(scores, yields):\n",
    "    \"\"\"\n",
    "    scores: 评分数据 (numpy 数组)\n",
    "    yields: 预估产量数据 (numpy 数组)\n",
    "    返回拟合结果 (a 值, c 值, 固定的 b 值)\n",
    "    \"\"\"\n",
    "    # 定义戒上型函数模型，将参数 b 从参数列表中移除\n",
    "    def upper_bound_model(x, a, c):\n",
    "        b = max(yields)  # 固定 b 值为 yields 中的最大值\n",
    "        return b / (1 + a * (x - c)**2)\n",
    "    # 更新初始参数猜测: 我们可以尝试将 a 的初始值设为更小的数值，c 设为评分的中间值\n",
    "    updated_initial_guess = [0.01, np.mean(scores)]\n",
    "    # 更新 curve_fit 的参数，增加最大迭代次数 maxfev\n",
    "    params, params_covariance = curve_fit(\n",
    "        upper_bound_model, scores, yields, \n",
    "        p0=updated_initial_guess, \n",
    "        maxfev=1000  # 增加最大迭代次数\n",
    "    )\n",
    "    # 输出拟合的参数\n",
    "    a_fit, c_fit = params\n",
    "    fixed_b = max(yields)  # 固定的 b 值\n",
    "    return a_fit, c_fit, fixed_b"
   ]
  },
  {
   "cell_type": "code",
   "execution_count": 105,
   "metadata": {},
   "outputs": [
    {
     "name": "stdout",
     "output_type": "stream",
     "text": [
      "系数a: 17.97,  系数c: 0.87,  系数b: 1500\n"
     ]
    }
   ],
   "source": [
    "coe = fit_upper_bound_model(result_frame['综合指数'],result_frame['预估产量'])\n",
    "print(f\"系数a: {coe[0]:.2f},  系数c: {coe[1]:.2f},  系数b: {coe[2]}\")"
   ]
  },
  {
   "cell_type": "code",
   "execution_count": 106,
   "metadata": {},
   "outputs": [
    {
     "name": "stdout",
     "output_type": "stream",
     "text": [
      "上限：1478.43,下限：300.33\n"
     ]
    }
   ],
   "source": [
    "# 计算产量上限和下限\n",
    "max_ = result_frame['预估产量'].max() / (1+coe[0]*(result_frame['综合指数'].max()-coe[1]) ** 2)\n",
    "min_ = result_frame['预估产量'].min() / (1+coe[0]*(result_frame['综合指数'].min()-coe[1]) ** 2)\n",
    "print(f\"上限：{max_:.2f},下限：{min_:.2f}\")"
   ]
  },
  {
   "cell_type": "code",
   "execution_count": 107,
   "metadata": {},
   "outputs": [],
   "source": [
    "# 计算每个地块对应的预测产能\n",
    "# 产能计算函数\n",
    "def calc_yields(value):\n",
    "    if value > result_frame['综合指数'].max():\n",
    "        return max_\n",
    "    elif value < result_frame['综合指数'].min():\n",
    "        return min_\n",
    "    else:\n",
    "        temp_value = coe[2] / (1 + coe[0] * (value - coe[1]) ** 2)\n",
    "        return temp_value"
   ]
  },
  {
   "cell_type": "code",
   "execution_count": 108,
   "metadata": {},
   "outputs": [],
   "source": [
    "# 得到单个地块产能\n",
    "data_frame['预测产能'] = data_frame['综合指数'].apply(calc_yields)"
   ]
  },
  {
   "cell_type": "code",
   "execution_count": 109,
   "metadata": {},
   "outputs": [],
   "source": [
    "# 得到单个地块产量，面积为公顷换位亩，即乘15\n",
    "data_frame['产量'] = data_frame['预测产能']*data_frame['project_Area']*15"
   ]
  },
  {
   "cell_type": "code",
   "execution_count": 110,
   "metadata": {},
   "outputs": [],
   "source": [
    "# 单季粮食产能水平（这里以一年两熟为例）\n",
    "data_frame['单季粮食产能水平'] = data_frame['预测产能'] / 2"
   ]
  },
  {
   "cell_type": "code",
   "execution_count": 111,
   "metadata": {},
   "outputs": [
    {
     "data": {
      "text/html": [
       "<div>\n",
       "<style scoped>\n",
       "    .dataframe tbody tr th:only-of-type {\n",
       "        vertical-align: middle;\n",
       "    }\n",
       "\n",
       "    .dataframe tbody tr th {\n",
       "        vertical-align: top;\n",
       "    }\n",
       "\n",
       "    .dataframe thead th {\n",
       "        text-align: right;\n",
       "    }\n",
       "</style>\n",
       "<table border=\"1\" class=\"dataframe\">\n",
       "  <thead>\n",
       "    <tr style=\"text-align: right;\">\n",
       "      <th></th>\n",
       "      <th>综合质量等级</th>\n",
       "      <th>project_Area</th>\n",
       "      <th>产量</th>\n",
       "    </tr>\n",
       "  </thead>\n",
       "  <tbody>\n",
       "    <tr>\n",
       "      <th>0</th>\n",
       "      <td>一等</td>\n",
       "      <td>576074.17</td>\n",
       "      <td>12753263190.49</td>\n",
       "    </tr>\n",
       "    <tr>\n",
       "      <th>1</th>\n",
       "      <td>七等</td>\n",
       "      <td>48729868.54</td>\n",
       "      <td>683829070420.67</td>\n",
       "    </tr>\n",
       "    <tr>\n",
       "      <th>2</th>\n",
       "      <td>三等</td>\n",
       "      <td>36675266.77</td>\n",
       "      <td>739978653954.62</td>\n",
       "    </tr>\n",
       "    <tr>\n",
       "      <th>3</th>\n",
       "      <td>九等</td>\n",
       "      <td>5185457.08</td>\n",
       "      <td>57934629418.06</td>\n",
       "    </tr>\n",
       "    <tr>\n",
       "      <th>4</th>\n",
       "      <td>二等</td>\n",
       "      <td>9168920.20</td>\n",
       "      <td>196124909714.20</td>\n",
       "    </tr>\n",
       "    <tr>\n",
       "      <th>5</th>\n",
       "      <td>五等</td>\n",
       "      <td>104251221.17</td>\n",
       "      <td>1789844905737.50</td>\n",
       "    </tr>\n",
       "    <tr>\n",
       "      <th>6</th>\n",
       "      <td>八等</td>\n",
       "      <td>15703988.56</td>\n",
       "      <td>194277455651.36</td>\n",
       "    </tr>\n",
       "    <tr>\n",
       "      <th>7</th>\n",
       "      <td>六等</td>\n",
       "      <td>109816268.19</td>\n",
       "      <td>1698880053371.96</td>\n",
       "    </tr>\n",
       "    <tr>\n",
       "      <th>8</th>\n",
       "      <td>十等</td>\n",
       "      <td>277397.35</td>\n",
       "      <td>2431215257.58</td>\n",
       "    </tr>\n",
       "    <tr>\n",
       "      <th>9</th>\n",
       "      <td>四等</td>\n",
       "      <td>105844985.32</td>\n",
       "      <td>1978763950844.30</td>\n",
       "    </tr>\n",
       "  </tbody>\n",
       "</table>\n",
       "</div>"
      ],
      "text/plain": [
       "  综合质量等级  project_Area               产量\n",
       "0     一等     576074.17   12753263190.49\n",
       "1     七等   48729868.54  683829070420.67\n",
       "2     三等   36675266.77  739978653954.62\n",
       "3     九等    5185457.08   57934629418.06\n",
       "4     二等    9168920.20  196124909714.20\n",
       "5     五等  104251221.17 1789844905737.50\n",
       "6     八等   15703988.56  194277455651.36\n",
       "7     六等  109816268.19 1698880053371.96\n",
       "8     十等     277397.35    2431215257.58\n",
       "9     四等  105844985.32 1978763950844.30"
      ]
     },
     "execution_count": 111,
     "metadata": {},
     "output_type": "execute_result"
    }
   ],
   "source": [
    "# 区域年度粮食生产潜力\n",
    "pd.set_option('display.float_format', '{:.2f}'.format)\n",
    "dj_result = data_frame.groupby('综合质量等级').agg({'project_Area':'sum','产量':'sum'}).reset_index()\n",
    "dj_result"
   ]
  },
  {
   "cell_type": "code",
   "execution_count": 112,
   "metadata": {},
   "outputs": [
    {
     "data": {
      "text/plain": [
       "0.4"
      ]
     },
     "execution_count": 112,
     "metadata": {},
     "output_type": "execute_result"
    }
   ],
   "source": [
    "# 计算校正系数K（计算系数=实际播种面积/理论耕地平差面积/播种季数）\n",
    "# 实际应用中，实际播种面积从年鉴资料获取，播种季数按地区指定。（这里实际面积按平差面积80%计算，季数取2。）\n",
    "k_index = (dj_result['project_Area'].sum() * 15 * 0.8) /  (dj_result['project_Area'].sum() * 15) / 2\n",
    "k_index"
   ]
  },
  {
   "cell_type": "code",
   "execution_count": 113,
   "metadata": {},
   "outputs": [
    {
     "data": {
      "text/plain": [
       "2941927243024.294"
      ]
     },
     "execution_count": 113,
     "metadata": {},
     "output_type": "execute_result"
    }
   ],
   "source": [
    "# 计算区域耕地年度粮食生产潜力\n",
    "yields_ability = dj_result['产量'].sum()*k_index\n",
    "yields_ability"
   ]
  },
  {
   "cell_type": "code",
   "execution_count": 114,
   "metadata": {},
   "outputs": [],
   "source": [
    "# 将结果保存\n",
    "data_frame.to_excel(os.path.join(save_path,'grade_evaluation_result_have_channeng.xlsx'),index=False)"
   ]
  }
 ],
 "metadata": {
  "kernelspec": {
   "display_name": ".venvgis",
   "language": "python",
   "name": "python3"
  },
  "language_info": {
   "codemirror_mode": {
    "name": "ipython",
    "version": 3
   },
   "file_extension": ".py",
   "mimetype": "text/x-python",
   "name": "python",
   "nbconvert_exporter": "python",
   "pygments_lexer": "ipython3",
   "version": "3.10.11"
  }
 },
 "nbformat": 4,
 "nbformat_minor": 2
}
