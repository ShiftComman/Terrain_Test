{
 "cells": [
  {
   "cell_type": "code",
   "execution_count": 1,
   "metadata": {},
   "outputs": [],
   "source": [
    "import os\n",
    "import geopandas as gpd\n",
    "import pandas as pd\n",
    "import numpy as np\n",
    "import matplotlib.pyplot as plt\n",
    "import seaborn as sns\n"
   ]
  },
  {
   "cell_type": "code",
   "execution_count": 3,
   "metadata": {},
   "outputs": [],
   "source": [
    "# 保存路径\n",
    "save_dir = r'G:\\soil_property_result\\qzs\\grade_evaluation'"
   ]
  },
  {
   "cell_type": "code",
   "execution_count": 2,
   "metadata": {},
   "outputs": [],
   "source": [
    "# 土类图路径\n",
    "soil_type_path = r\"F:\\cache_data\\shp_file\\qz\\soiltypepredict\\qz_soiltype_RandomForestEntr_20250219.shp\""
   ]
  },
  {
   "cell_type": "code",
   "execution_count": null,
   "metadata": {},
   "outputs": [],
   "source": [
    "# 筛选耕地并保存\n",
    "def crop_filter(soil_type_path,field_name,value_list, crop_path):\n",
    "    # 读取土类图\n",
    "    soil_type_gdf = gpd.read_file(soil_type_path,encoding='utf-8')\n",
    "    # 筛选耕地\n",
    "    crop_gdf = soil_type_gdf[soil_type_gdf[field_name].isin(value_list)]\n",
    "    # 保存\n",
    "    crop_gdf.to_file(crop_path, driver='ESRI Shapefile',encoding='utf-8')\n",
    "\n",
    "# 筛选耕地并保存\n",
    "crop_path = os.path.join(save_dir, \"shp\", \"crop.shp\")\n",
    "select_field_name = 'DLMC'\n",
    "selected_value_list = ['水田','旱地','水浇地']\n",
    "crop_filter(soil_type_path, select_field_name,selected_value_list,crop_path)\n"
   ]
  },
  {
   "cell_type": "code",
   "execution_count": 8,
   "metadata": {},
   "outputs": [],
   "source": [
    "# 读取耕地\n",
    "crop_gdf = gpd.read_file(crop_path,encoding='utf-8')"
   ]
  },
  {
   "cell_type": "code",
   "execution_count": 9,
   "metadata": {},
   "outputs": [
    {
     "data": {
      "text/plain": [
       "Index(['BSM', 'DLBM', 'DLMC', 'QSDWDM', 'QSDWMC', 'ZLDWDM', 'ZLDWMC', 'TBMJ',\n",
       "       'KCMJ', 'TBDLMJ', 'BZ', 'JSMJ', 'DLBZ', 'YDLBM', 'LXDWMJ', 'XZDWMJ',\n",
       "       'KCLX', 'YKCDLBM', 'BGRQ', 'BGJLH', 'SDDLZHBZ', 'YBSM', 'JBNTBS',\n",
       "       'PDBS', 'YBTBYBH', 'GLTBYBH', 'XXZQUDM', 'DLLB', 'DLDM', 'MZMC',\n",
       "       'gridcode', 'min_width', 'area', 'FID_1', 'Class1', 'Class2', 'Prob1',\n",
       "       'Prob2', 'Entropy', 'Uncertaint', 'Class1_tl', 'Class1_yl', 'Class1_ts',\n",
       "       'geometry'],\n",
       "      dtype='object')"
      ]
     },
     "execution_count": 9,
     "metadata": {},
     "output_type": "execute_result"
    }
   ],
   "source": [
    "crop_gdf.columns"
   ]
  },
  {
   "cell_type": "code",
   "execution_count": 12,
   "metadata": {},
   "outputs": [],
   "source": [
    "# 按照唯一字段列表进行融合\n",
    "def unique_field_merge(gdf, unique_field_list):\n",
    "    # 按照唯一字段列表进行融合\n",
    "    gdf = gdf.dissolve(by=unique_field_list)\n",
    "    # 单部件\n",
    "    gdf = gdf.explode(index_parts=False)\n",
    "    return gdf\n",
    "\n",
    "# 按照唯一字段列表进行融合\n",
    "dissolve_field_list = ['DLMC','ZLDWDM','ZLDWMC','Class1','Class1_ts','Class1_yl','Class1_tl']\n",
    "# save_path \n",
    "dissolve_path = os.path.join(save_dir, \"shp\", \"crop_dissolve.shp\")\n",
    "crop_gdf = unique_field_merge(crop_gdf, dissolve_field_list)"
   ]
  },
  {
   "cell_type": "code",
   "execution_count": 13,
   "metadata": {},
   "outputs": [],
   "source": [
    "# 保存\n",
    "crop_gdf.to_file(dissolve_path, driver='ESRI Shapefile',encoding='utf-8')"
   ]
  }
 ],
 "metadata": {
  "kernelspec": {
   "display_name": ".venvgis",
   "language": "python",
   "name": "python3"
  },
  "language_info": {
   "codemirror_mode": {
    "name": "ipython",
    "version": 3
   },
   "file_extension": ".py",
   "mimetype": "text/x-python",
   "name": "python",
   "nbconvert_exporter": "python",
   "pygments_lexer": "ipython3",
   "version": "3.10.11"
  }
 },
 "nbformat": 4,
 "nbformat_minor": 2
}
