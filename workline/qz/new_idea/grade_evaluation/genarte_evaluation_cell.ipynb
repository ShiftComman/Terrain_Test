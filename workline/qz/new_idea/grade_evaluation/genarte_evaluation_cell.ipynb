{
 "cells": [
  {
   "cell_type": "code",
   "execution_count": 1,
   "metadata": {},
   "outputs": [],
   "source": [
    "import os\n",
    "import geopandas as gpd\n",
    "import pandas as pd\n",
    "import numpy as np\n",
    "import matplotlib.pyplot as plt\n",
    "import seaborn as sns\n"
   ]
  },
  {
   "cell_type": "code",
   "execution_count": 2,
   "metadata": {},
   "outputs": [],
   "source": [
    "# 相交\n",
    "def intersect_shapefiles(gdf1, gdf2, gdf1_path=None, gdf2_path=None, keep_columns1=None, keep_columns2=None):\n",
    "    \"\"\"\n",
    "    对两个矢量数据进行空间相交操作\n",
    "    \n",
    "    参数:\n",
    "    gdf1: GeoDataFrame对象或None，如为None则从gdf1_path读取\n",
    "    gdf2: GeoDataFrame对象或None，如为None则从gdf2_path读取\n",
    "    gdf1_path: str, 第一个shapefile的路径\n",
    "    gdf2_path: str, 第二个shapefile的路径\n",
    "    keep_columns1: list, 需要保留的gdf1字段列表，默认保留所有字段\n",
    "    keep_columns2: list, 需要保留的gdf2字段列表，默认保留所有字段\n",
    "    \n",
    "    返回:\n",
    "    GeoDataFrame: 相交后的结果\n",
    "    \"\"\"\n",
    "    # 如果传入的是路径，则读取数据\n",
    "    if gdf1 is None and gdf1_path is not None:\n",
    "        gdf1 = gpd.read_file(gdf1_path, encoding='utf-8')\n",
    "    if gdf2 is None and gdf2_path is not None:\n",
    "        gdf2 = gpd.read_file(gdf2_path, encoding='utf-8')\n",
    "        \n",
    "    # 确保两个GeoDataFrame使用相同的坐标系\n",
    "    if gdf1.crs != gdf2.crs:\n",
    "        gdf2 = gdf2.to_crs(gdf1.crs)\n",
    "    \n",
    "    # 筛选需要保留的列\n",
    "    if keep_columns1 is not None:\n",
    "        keep_columns1 = [col for col in keep_columns1 if col in gdf1.columns]\n",
    "        keep_columns1.append(gdf1.geometry.name)\n",
    "        gdf1 = gdf1[keep_columns1]\n",
    "    \n",
    "    if keep_columns2 is not None:\n",
    "        keep_columns2 = [col for col in keep_columns2 if col in gdf2.columns]\n",
    "        keep_columns2.append(gdf2.geometry.name)\n",
    "        gdf2 = gdf2[keep_columns2]\n",
    "    \n",
    "    # 执行空间相交\n",
    "    intersect_gdf = gpd.overlay(gdf1, gdf2, how='intersection')\n",
    "    \n",
    "    # 计算相交后的面积\n",
    "    intersect_gdf['Intersect_area'] = intersect_gdf.area\n",
    "    \n",
    "    return intersect_gdf\n",
    "# 筛选耕地并保存\n",
    "def crop_filter(soil_type_path,field_name,value_list, crop_path):\n",
    "    # 读取土类图\n",
    "    soil_type_gdf = gpd.read_file(soil_type_path,encoding='utf-8')\n",
    "    # 筛选耕地\n",
    "    crop_gdf = soil_type_gdf[soil_type_gdf[field_name].isin(value_list)]\n",
    "    # 计算一个投影面积\n",
    "    crop_gdf['P_area'] = crop_gdf.area\n",
    "    # 保存\n",
    "    crop_gdf.to_file(crop_path, driver='ESRI Shapefile',encoding='utf-8')"
   ]
  },
  {
   "cell_type": "code",
   "execution_count": 3,
   "metadata": {},
   "outputs": [],
   "source": [
    "# 保存路径\n",
    "save_dir = r'G:\\soil_property_result\\qzs\\grade_evaluation'"
   ]
  },
  {
   "cell_type": "code",
   "execution_count": 4,
   "metadata": {},
   "outputs": [],
   "source": [
    "# 土类图路径\n",
    "soil_type_path = r\"F:\\cache_data\\shp_file\\qz\\ele_qz\\qz_soiltype_RandomForestEntr_20250227.shp\""
   ]
  },
  {
   "cell_type": "code",
   "execution_count": null,
   "metadata": {},
   "outputs": [],
   "source": [
    "# 筛选耕地并保存\n",
    "crop_path = os.path.join(save_dir, \"shp\", \"crop.shp\")\n",
    "select_field_name = 'DLMC'\n",
    "selected_value_list = ['水田','旱地','水浇地']\n",
    "crop_filter(soil_type_path, select_field_name,selected_value_list,crop_path)"
   ]
  },
  {
   "cell_type": "code",
   "execution_count": 11,
   "metadata": {},
   "outputs": [],
   "source": [
    "# 读取耕地\n",
    "crop_gdf = gpd.read_file(crop_path,encoding='utf-8')"
   ]
  },
  {
   "cell_type": "code",
   "execution_count": null,
   "metadata": {},
   "outputs": [],
   "source": [
    "crop_gdf.columns"
   ]
  },
  {
   "cell_type": "code",
   "execution_count": 14,
   "metadata": {},
   "outputs": [],
   "source": [
    "# 按照唯一字段列表进行融合\n",
    "def unique_field_merge(gdf, unique_field_list):\n",
    "    # 按照唯一字段列表进行融合\n",
    "    gdf = gdf.dissolve(by=unique_field_list)\n",
    "    # 单部件\n",
    "    gdf = gdf.explode(index_parts=False)\n",
    "    return gdf\n",
    "\n",
    "# 按照唯一字段列表进行融合\n",
    "dissolve_field_list = ['BSM','DLMC','DLBM', 'DLMC','ZLDWDM','ZLDWMC','Class1','Class1_ts','Class1_yl','Class1_tl']\n",
    "# save_path \n",
    "dissolve_path = os.path.join(save_dir, \"shp\", \"crop_dissolve.shp\")\n",
    "crops_gdf = unique_field_merge(crop_gdf, dissolve_field_list)"
   ]
  },
  {
   "cell_type": "code",
   "execution_count": null,
   "metadata": {},
   "outputs": [],
   "source": [
    "crops_gdf['BSM'].unique()"
   ]
  },
  {
   "cell_type": "code",
   "execution_count": 9,
   "metadata": {},
   "outputs": [],
   "source": [
    "# 保存\n",
    "crop_gdf.to_file(dissolve_path, driver='ESRI Shapefile',encoding='utf-8')"
   ]
  }
 ],
 "metadata": {
  "kernelspec": {
   "display_name": ".venvgis",
   "language": "python",
   "name": "python3"
  },
  "language_info": {
   "codemirror_mode": {
    "name": "ipython",
    "version": 3
   },
   "file_extension": ".py",
   "mimetype": "text/x-python",
   "name": "python",
   "nbconvert_exporter": "python",
   "pygments_lexer": "ipython3",
   "version": "3.10.11"
  }
 },
 "nbformat": 4,
 "nbformat_minor": 2
}
