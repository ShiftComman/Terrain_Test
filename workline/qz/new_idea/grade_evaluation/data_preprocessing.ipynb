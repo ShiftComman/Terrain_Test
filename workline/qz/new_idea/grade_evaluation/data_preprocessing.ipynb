{
 "cells": [
  {
   "cell_type": "code",
   "execution_count": 40,
   "metadata": {},
   "outputs": [],
   "source": [
    "import os\n",
    "import json\n",
    "import pandas as pd\n",
    "import geopandas as gpd\n",
    "from shapely import wkt"
   ]
  },
  {
   "cell_type": "code",
   "execution_count": 41,
   "metadata": {},
   "outputs": [],
   "source": [
    "# 重命名内容\n",
    "def rename_columns_text(df):\n",
    "    # 字段中包含'_prediction_mean','predeiction_majority',统一替换为空字符串\n",
    "    df.columns = df.columns.str.replace('_prediction_mean', '')\n",
    "    df.columns = df.columns.str.replace('_prediction_majority', '')\n",
    "    df.columns = df.columns.str.replace('_mean', '')\n",
    "    df.columns = df.columns.str.replace('_majority', '')\n",
    "    # 字段中包含'irrigation','drainage',去除其他字符串只保留'irrigation','drainage'\n",
    "    df.columns = df.columns.str.replace(r'.*?(irrigation|drainage).*', r'\\1', regex=True)\n",
    "    return df\n",
    "# 计算地形部位\n",
    "def calculate_slope_position(value):\n",
    "    value = int(value)\n",
    "    # 1 2 为山地坡下，3 4 为山地坡中，5 6 为山地坡上\n",
    "    if value == 1 or value == 2:\n",
    "        return '山地坡下'\n",
    "    elif value == 3 or value == 4:\n",
    "        return '山地坡中'\n",
    "    elif value == 5 or value == 6:\n",
    "        return '山地坡上'\n",
    "    else:\n",
    "        return None\n",
    "# 计算灌溉能力\n",
    "def calculate_irrigation_ability(value):\n",
    "    value = int(value)\n",
    "    # 1 不满足 2 基本满足 3 满足 4 充分满足\n",
    "    if value == 1:\n",
    "        return '不满足'\n",
    "    elif value == 2:\n",
    "        return '基本满足'\n",
    "    elif value == 3:\n",
    "        return '满足'\n",
    "    elif value == 4:\n",
    "        return '充分满足'\n",
    "    else:\n",
    "        return None\n",
    "# 计算排水能力\n",
    "def calculate_drainage_ability(value):\n",
    "    value = int(value)\n",
    "    # 1 不满足 2 基本满足 3 满足 4 充分满足\n",
    "    if value == 1:\n",
    "        return '不满足'\n",
    "    elif value == 2:\n",
    "        return '基本满足'\n",
    "    elif value == 3:\n",
    "        return '满足'\n",
    "    elif value == 4:\n",
    "        return '充分满足'\n",
    "    else:\n",
    "        return None\n",
    "# 计算耕层质地\n",
    "def calculate_soil_texture(value,search_dict):\n",
    "    value = int(value)\n",
    "    # 字典的值等于value的key\n",
    "    for key, val in search_dict.items():\n",
    "        if val == value:\n",
    "            return key\n",
    "    return None\n",
    "# 计算质地构型\n",
    "def determine_soil_texture_structure(soil_texture: str,soil_type: str, land_use: str) -> str:\n",
    "    \"\"\"\n",
    "    根据土壤类型、土地利用方式和土壤质地判断质地构型\n",
    "    \n",
    "    参数:\n",
    "        soil_type: 土壤类型 (黄壤、石灰土、水稻土、潮土、黄棕壤)\n",
    "        land_use: 土地利用方式 (水田、旱地、水浇地)\n",
    "        soil_texture: 土壤质地 (壤质黏土、黏土、黏壤土、粉(砂)质黏土、砂质黏土、\n",
    "                        砂质黏壤土、重黏土、粉(砂)质黏壤土、砂质壤土、粉(砂)质壤土、壤土)\n",
    "    \n",
    "    返回:\n",
    "        质地构型类型 (上松下紧型、海绵型、夹层型、紧实型、上紧下松型、松散型、薄层型)\n",
    "    \"\"\"\n",
    "    # 质地分类字典\n",
    "    texture_groups = {\n",
    "        \"黏质类\": [\"黏土\", \"重黏土\", \"壤质黏土\"],\n",
    "        \"壤质类\": [\"黏壤土\", \"粉(砂)质黏壤土\", \"砂质黏壤土\", \"壤土\"],\n",
    "        \"砂质类\": [\"砂质壤土\", \"粉(砂)质壤土\"],\n",
    "        \"特殊类\": [\"粉(砂)质黏土\", \"砂质黏土\"]\n",
    "    }\n",
    "    \n",
    "    # 规则判断\n",
    "    if land_use == \"水田\":\n",
    "        if soil_type == \"水稻土\":\n",
    "            return \"紧实型\"\n",
    "        if soil_texture in texture_groups[\"黏质类\"]:\n",
    "            return \"上松下紧型\"\n",
    "        return \"海绵型\"\n",
    "    \n",
    "    if land_use in [\"旱地\", \"水浇地\"]:\n",
    "        if soil_type in [\"黄壤\", \"黄棕壤\"]:\n",
    "            if soil_texture in texture_groups[\"砂质类\"]:\n",
    "                return \"松散型\"\n",
    "            if soil_texture in texture_groups[\"壤质类\"]:\n",
    "                return \"海绵型\"\n",
    "            return \"上松下紧型\"\n",
    "        \n",
    "        if soil_type == \"石灰土\":\n",
    "            if soil_texture in texture_groups[\"黏质类\"]:\n",
    "                return \"夹层型\"\n",
    "            return \"薄层型\"\n",
    "        \n",
    "        if soil_type == \"潮土\":\n",
    "            if soil_texture in texture_groups[\"砂质类\"] + [\"壤土\"]:\n",
    "                return \"上紧下松型\"\n",
    "            return \"海绵型\"\n",
    "    \n",
    "    # 默认返回（当所有条件不满足时）\n",
    "    return \"海绵型\"  # 海绵型作为最普遍的构型\n",
    "# 计算有效土层厚度\n",
    "def calc_yxtchd(soil_type, land_use, slop_position):\n",
    "    \"\"\"\n",
    "    计算贵州省地区的有效土层厚度\n",
    "    \n",
    "    参数:\n",
    "    soil_type (str): 土壤类型 - '紫色土', '石灰岩土', '黄壤', '黄棕壤', '水稻土'\n",
    "    land_use (str): 土地利用类型 - '水田', '旱地' 或 '水浇地'\n",
    "    slop_position (str): 坡位 - '山地坡上', '山地坡中' 或 '山地坡下'\n",
    "    \n",
    "    返回:\n",
    "    float: 有效土层厚度（厘米）\n",
    "    \"\"\"\n",
    "    # 土壤类型基础厚度\n",
    "    base_thickness = {\n",
    "        \"紫色土\": 75,\n",
    "        \"石灰(岩)土\": 55,\n",
    "        \"黄壤\": 70,\n",
    "        \"黄棕壤\": 65,\n",
    "        \"水稻土\": 85\n",
    "    }\n",
    "    \n",
    "    # 坡位修正系数\n",
    "    slope_factor = {\n",
    "        \"山地坡上\": 0.7,   # 坡上侵蚀严重，土层较薄\n",
    "        \"山地坡中\": 1.0,   # 坡中为基准\n",
    "        \"山地坡下\": 1.3    # 坡下有堆积，土层较厚\n",
    "    }\n",
    "    \n",
    "    # 土地利用修正系数\n",
    "    land_use_factor = {\n",
    "        \"水田\": 1.2,      # 水田通常经过整平和长期水耕，土层较厚\n",
    "        \"水浇地\": 1.1,    # 水浇地次之\n",
    "        \"旱地\": 0.9       # 旱地土层较薄\n",
    "    }\n",
    "    \n",
    "    # 计算最终厚度\n",
    "    thickness = base_thickness.get(soil_type, 65) * slope_factor.get(slop_position, 1.0) * land_use_factor.get(land_use, 1.0)\n",
    "    \n",
    "    # 确保厚度在合理范围内 (25-130cm)\n",
    "    thickness = max(25, min(thickness, 130))\n",
    "    \n",
    "    # 贵州省特殊地区调整\n",
    "    # 石灰岩土在坡上位置特别薄\n",
    "    if soil_type == \"石灰(岩)土\" and slop_position == \"山地坡上\":\n",
    "        thickness = max(25, thickness * 0.85)  # 额外降低15%，但不低于最小值\n",
    "    \n",
    "    # 紫色土在坡下水田特别厚\n",
    "    if soil_type == \"紫色土\" and slop_position == \"山地坡下\" and land_use == \"水田\":\n",
    "        thickness = min(130, thickness * 1.15)  # 额外增加15%，但不超过最大值\n",
    "    \n",
    "    # 水稻土在水田区域特别厚\n",
    "    if soil_type == \"水稻土\" and land_use == \"水田\":\n",
    "        thickness = min(130, thickness * 1.2)  # 额外增加20%，但不超过最大值\n",
    "    \n",
    "    # 黄壤在坡上旱地特别薄\n",
    "    if soil_type == \"黄壤\" and slop_position == \"山地坡上\" and land_use == \"旱地\":\n",
    "        thickness = max(25, thickness * 0.9)  # 额外降低10%，但不低于最小值\n",
    "    # 潮土在水田和水浇地条件下特别厚\n",
    "    if soil_type == \"潮土\" and land_use in [\"水田\", \"水浇地\"]:\n",
    "        thickness = min(130, thickness * 1.15)  # 额外增加15%，但不超过最大值\n",
    "    \n",
    "    # 潮土在坡下位置更厚\n",
    "    if soil_type == \"潮土\" and slop_position == \"山地坡下\":\n",
    "        thickness = min(130, thickness * 1.1)  # 额外增加10%，但不超过最大值\n",
    "    return round(thickness, 1)  # 返回保留一位小数的厚度值\n",
    "\n",
    "# 保存为shp\n",
    "def save_shp(df,path):\n",
    "    os.makedirs(os.path.dirname(path), exist_ok=True)\n",
    "    # 直接创建GeoDataFrame，因为geometry已经是Shapely对象\n",
    "    gdf = gpd.GeoDataFrame(df, geometry='geometry')\n",
    "    gdf.to_file(path, driver='ESRI Shapefile', encoding='gbk')\n"
   ]
  },
  {
   "cell_type": "code",
   "execution_count": 42,
   "metadata": {},
   "outputs": [],
   "source": [
    "# 数据路径\n",
    "data_path = r\"G:\\soil_property_result\\qzs\\grade_evaluation\\table\\grade_evaluation_sample_near.csv\""
   ]
  },
  {
   "cell_type": "code",
   "execution_count": 43,
   "metadata": {},
   "outputs": [],
   "source": [
    "df = pd.read_csv(data_path)\n",
    "df.rename(columns={'TRZD':'邻近质地'}, inplace=True)"
   ]
  },
  {
   "cell_type": "code",
   "execution_count": 44,
   "metadata": {},
   "outputs": [],
   "source": [
    "# 重命名字段\n",
    "df = rename_columns_text(df)"
   ]
  },
  {
   "cell_type": "code",
   "execution_count": 45,
   "metadata": {},
   "outputs": [],
   "source": [
    "# 重命名字段\n",
    "map_dict = {'PH':'酸碱度','OM':'有机质','AK':'速效钾','AP':'有效磷','TRRZ':'土壤容重','GZCHD':'耕层厚度','YXTCHD':'有效土层厚度',\n",
    "            'CD':'镉','HG':'汞','AS2':'砷','PB':'铅','CR':'铬','slopepostion':'坡位','dem':'海拔高度','irrigation':'灌溉','drainage':'排水','TRZD':'质地'}\n",
    "df.rename(columns=map_dict, inplace=True)"
   ]
  },
  {
   "cell_type": "code",
   "execution_count": 46,
   "metadata": {},
   "outputs": [],
   "source": [
    "# 计算地形部位\n",
    "df['地形部位'] = df['坡位'].apply(calculate_slope_position)"
   ]
  },
  {
   "cell_type": "code",
   "execution_count": 47,
   "metadata": {},
   "outputs": [],
   "source": [
    "# 计算灌溉能力\n",
    "df['灌溉能力'] = df['灌溉'].apply(calculate_irrigation_ability)\n"
   ]
  },
  {
   "cell_type": "code",
   "execution_count": 48,
   "metadata": {},
   "outputs": [],
   "source": [
    "# 计算排水能力\n",
    "df['排水能力'] = df['排水'].apply(calculate_drainage_ability)"
   ]
  },
  {
   "cell_type": "code",
   "execution_count": 49,
   "metadata": {},
   "outputs": [],
   "source": [
    "# 计算耕层质地（邻近点）\n",
    "# dict_path = r\"G:\\soil_property_result\\qzs\\models\\soil_property_class\\label_mappings\\TRZD_mapping.json\"\n",
    "# search_dict = json.load(open(dict_path, 'r', encoding='utf-8'))\n",
    "# df['耕层质地'] = df['质地'].apply(calculate_soil_texture, args=(search_dict,))\n",
    "# 计算耕层质地\n",
    "df['耕层质地'] = df['邻近质地']"
   ]
  },
  {
   "cell_type": "code",
   "execution_count": 50,
   "metadata": {},
   "outputs": [],
   "source": [
    "# 计算有效土层\n",
    "df['有效土层厚度'] = df.apply(lambda row: calc_yxtchd(row['Class1_tl'], row['DLMC'], row['坡位']), axis=1)"
   ]
  },
  {
   "cell_type": "code",
   "execution_count": 51,
   "metadata": {},
   "outputs": [],
   "source": [
    "# 计算质地构型\n",
    "df['质地构型'] = df.apply(lambda row: determine_soil_texture_structure(row['耕层质地'], row['Class1_tl'], row['DLMC']), axis=1)"
   ]
  },
  {
   "cell_type": "code",
   "execution_count": 52,
   "metadata": {},
   "outputs": [
    {
     "data": {
      "text/plain": [
       "Index(['FID', 'BSM', 'DLBM', 'DLMC', 'QSDWDM', 'QSDWMC', 'DLDM', 'DLLB',\n",
       "       'Class1', 'Class1_tl', 'Class1_yl', 'Class1_ts', 'geometry', '酸碱度',\n",
       "       '有机质', '速效钾', '有效磷', '土壤容重', '耕层厚度', '有效土层厚度', '镉', '汞', '砷', '铅', '铬',\n",
       "       '坡位', '海拔高度', '灌溉', '排水', '质地', 'Centroid_X', 'Centroid_Y', 'XMin',\n",
       "       'YMin', 'XMax', 'YMax', 'project_Area', '邻近质地', 'nearest_distance',\n",
       "       '地形部位', '灌溉能力', '排水能力', '耕层质地', '质地构型'],\n",
       "      dtype='object')"
      ]
     },
     "execution_count": 52,
     "metadata": {},
     "output_type": "execute_result"
    }
   ],
   "source": [
    "df.columns"
   ]
  },
  {
   "cell_type": "code",
   "execution_count": 53,
   "metadata": {},
   "outputs": [],
   "source": [
    "# 整理字段\n",
    "filter_df = df[['FID','BSM', 'DLMC', 'QSDWDM', 'QSDWMC', 'Class1', 'Class1_ts', 'Class1_yl',\n",
    "       'Class1_tl', 'DLBM', 'QSDWDM', 'QSDWMC', 'DLLB', 'DLDM',  'Centroid_X', 'Centroid_Y',\n",
    "       'project_Area','酸碱度', '有机质', '速效钾', '有效磷', '土壤容重', '耕层厚度',\n",
    "       '有效土层厚度', '海拔高度', '地形部位', '灌溉能力', '排水能力', '耕层质地','质地构型']]"
   ]
  },
  {
   "cell_type": "code",
   "execution_count": 54,
   "metadata": {},
   "outputs": [],
   "source": [
    "# 保证都为正值（对对应列应用ABS函数）\n",
    "for col in ['酸碱度', '有机质', '速效钾', '有效磷', '土壤容重', '耕层厚度','有效土层厚度', '海拔高度']:\n",
    "    filter_df.loc[:, col] = filter_df[col].apply(lambda x: abs(x))"
   ]
  },
  {
   "cell_type": "code",
   "execution_count": 55,
   "metadata": {},
   "outputs": [
    {
     "name": "stderr",
     "output_type": "stream",
     "text": [
      "C:\\Users\\Runker\\AppData\\Local\\Temp\\ipykernel_17092\\3822077219.py:7: SettingWithCopyWarning: \n",
      "A value is trying to be set on a copy of a slice from a DataFrame.\n",
      "Try using .loc[row_indexer,col_indexer] = value instead\n",
      "\n",
      "See the caveats in the documentation: https://pandas.pydata.org/pandas-docs/stable/user_guide/indexing.html#returning-a-view-versus-a-copy\n",
      "  filter_df['平差面积'] = filter_df['BSM'].apply(lambda x: area_index_dict[str(x)])*filter_df['project_Area']\n"
     ]
    }
   ],
   "source": [
    "# 计算平差面积\n",
    "import json\n",
    "area_index_dict = {}\n",
    "with open(r\"F:\\cache_data\\shp_file\\qz\\json_file\\area_index_dict.json\", 'r', encoding='utf-8') as f:\n",
    "    area_index_dict = json.load(f)\n",
    "\n",
    "filter_df['平差面积'] = filter_df['BSM'].apply(lambda x: area_index_dict[str(x)])*filter_df['project_Area']\n"
   ]
  },
  {
   "cell_type": "code",
   "execution_count": 56,
   "metadata": {},
   "outputs": [
    {
     "data": {
      "text/plain": [
       "401284369.4296734"
      ]
     },
     "execution_count": 56,
     "metadata": {},
     "output_type": "execute_result"
    }
   ],
   "source": [
    "filter_df['平差面积'].sum()"
   ]
  },
  {
   "cell_type": "code",
   "execution_count": 58,
   "metadata": {},
   "outputs": [],
   "source": [
    "# 保存为csv和excel\n",
    "filter_df.to_csv(r'G:\\soil_property_result\\qzs\\grade_evaluation\\table\\grade_evaluation_have_index.csv', index=False)\n",
    "filter_df.to_excel(r'G:\\soil_property_result\\qzs\\grade_evaluation\\table\\grade_evaluation_have_index.xlsx', index=False)"
   ]
  }
 ],
 "metadata": {
  "kernelspec": {
   "display_name": ".venvgis",
   "language": "python",
   "name": "python3"
  },
  "language_info": {
   "codemirror_mode": {
    "name": "ipython",
    "version": 3
   },
   "file_extension": ".py",
   "mimetype": "text/x-python",
   "name": "python",
   "nbconvert_exporter": "python",
   "pygments_lexer": "ipython3",
   "version": "3.10.11"
  }
 },
 "nbformat": 4,
 "nbformat_minor": 2
}
