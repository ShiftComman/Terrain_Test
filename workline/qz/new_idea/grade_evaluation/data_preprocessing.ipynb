{
 "cells": [
  {
   "cell_type": "code",
   "execution_count": 15,
   "metadata": {},
   "outputs": [],
   "source": [
    "import os\n",
    "import json\n",
    "import pandas as pd\n",
    "import geopandas as gpd\n",
    "from shapely import wkt"
   ]
  },
  {
   "cell_type": "code",
   "execution_count": 16,
   "metadata": {},
   "outputs": [],
   "source": [
    "# 重命名内容\n",
    "def rename_columns_text(df):\n",
    "    # 字段中包含'_prediction_mean','predeiction_majority',统一替换为空字符串\n",
    "    df.columns = df.columns.str.replace('_prediction_mean', '')\n",
    "    df.columns = df.columns.str.replace('_prediction_majority', '')\n",
    "    df.columns = df.columns.str.replace('_mean', '')\n",
    "    df.columns = df.columns.str.replace('_majority', '')\n",
    "    # 字段中包含'irrigation','drainage',去除其他字符串只保留'irrigation','drainage'\n",
    "    df.columns = df.columns.str.replace(r'.*?(irrigation|drainage).*', r'\\1', regex=True)\n",
    "    return df\n",
    "# 计算地形部位\n",
    "def calculate_slope_position(value):\n",
    "    value = int(value)\n",
    "    # 1 2 为山地坡下，3 4 为山地坡中，5 6 为山地坡上\n",
    "    if value == 1 or value == 2:\n",
    "        return '山地坡下'\n",
    "    elif value == 3 or value == 4:\n",
    "        return '山地坡中'\n",
    "    elif value == 5 or value == 6:\n",
    "        return '山地坡上'\n",
    "    else:\n",
    "        return None\n",
    "# 计算灌溉能力\n",
    "def calculate_irrigation_ability(value):\n",
    "    value = int(value)\n",
    "    # 1 不满足 2 基本满足 3 满足 4 充分满足\n",
    "    if value == 1:\n",
    "        return '不满足'\n",
    "    elif value == 2:\n",
    "        return '基本满足'\n",
    "    elif value == 3:\n",
    "        return '满足'\n",
    "    elif value == 4:\n",
    "        return '充分满足'\n",
    "    else:\n",
    "        return None\n",
    "# 计算排水能力\n",
    "def calculate_drainage_ability(value):\n",
    "    value = int(value)\n",
    "    # 1 不满足 2 基本满足 3 满足 4 充分满足\n",
    "    if value == 1:\n",
    "        return '不满足'\n",
    "    elif value == 2:\n",
    "        return '基本满足'\n",
    "    elif value == 3:\n",
    "        return '满足'\n",
    "    elif value == 4:\n",
    "        return '充分满足'\n",
    "    else:\n",
    "        return None\n",
    "# 计算耕层质地\n",
    "def calculate_soil_texture(value,search_dict):\n",
    "    value = int(value)\n",
    "    # 字典的值等于value的key\n",
    "    for key, val in search_dict.items():\n",
    "        if val == value:\n",
    "            return key\n",
    "    return None\n",
    "# 计算质地构型\n",
    "def determine_soil_texture_structure(soil_texture: str,soil_type: str, land_use: str) -> str:\n",
    "    \"\"\"\n",
    "    根据土壤类型、土地利用方式和土壤质地判断质地构型\n",
    "    \n",
    "    参数:\n",
    "        soil_type: 土壤类型 (黄壤、石灰土、水稻土、潮土、黄棕壤)\n",
    "        land_use: 土地利用方式 (水田、旱地、水浇地)\n",
    "        soil_texture: 土壤质地 (壤质黏土、黏土、黏壤土、粉(砂)质黏土、砂质黏土、\n",
    "                        砂质黏壤土、重黏土、粉(砂)质黏壤土、砂质壤土、粉(砂)质壤土、壤土)\n",
    "    \n",
    "    返回:\n",
    "        质地构型类型 (上松下紧型、海绵型、夹层型、紧实型、上紧下松型、松散型、薄层型)\n",
    "    \"\"\"\n",
    "    # 质地分类字典\n",
    "    texture_groups = {\n",
    "        \"黏质类\": [\"黏土\", \"重黏土\", \"壤质黏土\"],\n",
    "        \"壤质类\": [\"黏壤土\", \"粉(砂)质黏壤土\", \"砂质黏壤土\", \"壤土\"],\n",
    "        \"砂质类\": [\"砂质壤土\", \"粉(砂)质壤土\"],\n",
    "        \"特殊类\": [\"粉(砂)质黏土\", \"砂质黏土\"]\n",
    "    }\n",
    "    \n",
    "    # 规则判断\n",
    "    if land_use == \"水田\":\n",
    "        if soil_type == \"水稻土\":\n",
    "            return \"紧实型\"\n",
    "        if soil_texture in texture_groups[\"黏质类\"]:\n",
    "            return \"上松下紧型\"\n",
    "        return \"海绵型\"\n",
    "    \n",
    "    if land_use in [\"旱地\", \"水浇地\"]:\n",
    "        if soil_type in [\"黄壤\", \"黄棕壤\"]:\n",
    "            if soil_texture in texture_groups[\"砂质类\"]:\n",
    "                return \"松散型\"\n",
    "            if soil_texture in texture_groups[\"壤质类\"]:\n",
    "                return \"海绵型\"\n",
    "            return \"上松下紧型\"\n",
    "        \n",
    "        if soil_type == \"石灰土\":\n",
    "            if soil_texture in texture_groups[\"黏质类\"]:\n",
    "                return \"夹层型\"\n",
    "            return \"薄层型\"\n",
    "        \n",
    "        if soil_type == \"潮土\":\n",
    "            if soil_texture in texture_groups[\"砂质类\"] + [\"壤土\"]:\n",
    "                return \"上紧下松型\"\n",
    "            return \"海绵型\"\n",
    "    \n",
    "    # 默认返回（当所有条件不满足时）\n",
    "    return \"海绵型\"  # 海绵型作为最普遍的构型\n",
    "\n",
    "\n",
    "# 保存为shp\n",
    "def save_shp(df,path):\n",
    "    os.makedirs(os.path.dirname(path), exist_ok=True)\n",
    "    # 直接创建GeoDataFrame，因为geometry已经是Shapely对象\n",
    "    gdf = gpd.GeoDataFrame(df, geometry='geometry')\n",
    "    gdf.to_file(path, driver='ESRI Shapefile', encoding='gbk')\n"
   ]
  },
  {
   "cell_type": "code",
   "execution_count": 17,
   "metadata": {},
   "outputs": [],
   "source": [
    "# 数据路径\n",
    "data_path = r\"G:\\soil_property_result\\qzs\\grade_evaluation\\table\\grade_evaluation_sample_near.csv\""
   ]
  },
  {
   "cell_type": "code",
   "execution_count": 18,
   "metadata": {},
   "outputs": [],
   "source": [
    "df = pd.read_csv(data_path)\n",
    "df.rename(columns={'TRZD':'邻近质地'}, inplace=True)"
   ]
  },
  {
   "cell_type": "code",
   "execution_count": 19,
   "metadata": {},
   "outputs": [],
   "source": [
    "# 重命名字段\n",
    "df = rename_columns_text(df)"
   ]
  },
  {
   "cell_type": "code",
   "execution_count": 20,
   "metadata": {},
   "outputs": [],
   "source": [
    "# 重命名字段\n",
    "map_dict = {'PH':'酸碱度','OM':'有机质','AK':'速效钾','AP':'有效磷','TRRZ':'土壤容重','GZCHD':'耕层厚度','YXTCHD':'有效土层厚度',\n",
    "            'CD':'镉','HG':'汞','AS2':'砷','PB':'铅','CR':'铬','slopepostion':'坡位','dem':'海拔高度','irrigation':'灌溉','drainage':'排水','TRZD':'质地'}\n",
    "df.rename(columns=map_dict, inplace=True)"
   ]
  },
  {
   "cell_type": "code",
   "execution_count": 21,
   "metadata": {},
   "outputs": [],
   "source": [
    "# 计算地形部位\n",
    "df['地形部位'] = df['坡位'].apply(calculate_slope_position)"
   ]
  },
  {
   "cell_type": "code",
   "execution_count": 22,
   "metadata": {},
   "outputs": [],
   "source": [
    "# 计算灌溉能力\n",
    "df['灌溉能力'] = df['灌溉'].apply(calculate_irrigation_ability)\n"
   ]
  },
  {
   "cell_type": "code",
   "execution_count": 23,
   "metadata": {},
   "outputs": [],
   "source": [
    "# 计算排水能力\n",
    "df['排水能力'] = df['排水'].apply(calculate_drainage_ability)"
   ]
  },
  {
   "cell_type": "code",
   "execution_count": 24,
   "metadata": {},
   "outputs": [],
   "source": [
    "# 计算耕层质地（邻近点）\n",
    "# dict_path = r\"G:\\soil_property_result\\qzs\\models\\soil_property_class\\label_mappings\\TRZD_mapping.json\"\n",
    "# search_dict = json.load(open(dict_path, 'r', encoding='utf-8'))\n",
    "# df['耕层质地'] = df['质地'].apply(calculate_soil_texture, args=(search_dict,))\n",
    "# 计算耕层质地\n",
    "df['耕层质地'] = df['邻近质地']"
   ]
  },
  {
   "cell_type": "code",
   "execution_count": 25,
   "metadata": {},
   "outputs": [],
   "source": [
    "# 计算质地构型\n",
    "df['质地构型'] = df.apply(lambda row: determine_soil_texture_structure(row['耕层质地'], row['Class1_tl'], row['DLMC']), axis=1)"
   ]
  },
  {
   "cell_type": "code",
   "execution_count": 26,
   "metadata": {},
   "outputs": [],
   "source": [
    "# 整理字段\n",
    "filter_df = df[['FID', 'DLMC', 'ZLDWDM', 'ZLDWMC', 'Class1', 'Class1_ts', 'Class1_yl',\n",
    "       'Class1_tl', 'DLBM', 'QSDWDM', 'QSDWMC', 'DLLB', 'DLDM', 'MZMC', 'gridcode', 'Centroid_X', 'Centroid_Y',\n",
    "       'project_Area','酸碱度', '有机质', '速效钾', '有效磷', '土壤容重', '耕层厚度',\n",
    "       '有效土层厚度', '海拔高度', '地形部位', '灌溉能力', '排水能力', '耕层质地','质地构型']]"
   ]
  },
  {
   "cell_type": "code",
   "execution_count": 27,
   "metadata": {},
   "outputs": [],
   "source": [
    "# 保证都为正值（对对应列应用ABS函数）\n",
    "for col in ['酸碱度', '有机质', '速效钾', '有效磷', '土壤容重', '耕层厚度','有效土层厚度', '海拔高度']:\n",
    "    filter_df.loc[:, col] = filter_df[col].apply(lambda x: abs(x))"
   ]
  },
  {
   "cell_type": "code",
   "execution_count": 28,
   "metadata": {},
   "outputs": [],
   "source": [
    "# 保存为csv和excel\n",
    "filter_df.to_csv(r'G:\\soil_property_result\\qzs\\grade_evaluation\\table\\grade_evaluation_have_index.csv', index=False)\n",
    "filter_df.to_excel(r'G:\\soil_property_result\\qzs\\grade_evaluation\\table\\grade_evaluation_have_index.xlsx', index=False)"
   ]
  }
 ],
 "metadata": {
  "kernelspec": {
   "display_name": ".venvgis",
   "language": "python",
   "name": "python3"
  },
  "language_info": {
   "codemirror_mode": {
    "name": "ipython",
    "version": 3
   },
   "file_extension": ".py",
   "mimetype": "text/x-python",
   "name": "python",
   "nbconvert_exporter": "python",
   "pygments_lexer": "ipython3",
   "version": "3.10.11"
  }
 },
 "nbformat": 4,
 "nbformat_minor": 2
}
