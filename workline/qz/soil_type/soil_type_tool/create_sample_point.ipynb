{
 "cells": [
  {
   "cell_type": "markdown",
   "metadata": {},
   "source": [
    "# 生成土壤类型虚拟点"
   ]
  },
  {
   "cell_type": "code",
   "execution_count": 1,
   "metadata": {},
   "outputs": [],
   "source": [
    "# type:ignore\n",
    "import os\n",
    "import pandas as pd\n",
    "import arcpy\n",
    "from arcpy import env\n",
    "from arcpy.management import *\n",
    "from arcpy.sa import *\n",
    "from arcpy.da import *\n",
    "from arcpy.conversion import *\n",
    "from arcpy.analysis import *\n",
    "import numpy as np"
   ]
  },
  {
   "cell_type": "code",
   "execution_count": 2,
   "metadata": {},
   "outputs": [],
   "source": [
    "# type:ignore\n",
    "# tool function\n",
    "# 创建渔网\n",
    "def create_net(output_file,extent_file,cell_size):\n",
    "    \"\"\"参数说明：\n",
    "        output_file: 输出文件\n",
    "        extent_file: 输入范围文件\n",
    "        cell_size: 生成的cell大小\n",
    "    \"\"\"\n",
    "    proj = arcpy.Describe(extent_file).spatialReference\n",
    "    extent_x_min = arcpy.Describe(extent_file).extent.XMin\n",
    "    extent_y_min = arcpy.Describe(extent_file).extent.YMin\n",
    "    extent_x_max = arcpy.Describe(extent_file).extent.XMax\n",
    "    extent_y_max = arcpy.Describe(extent_file).extent.YMax\n",
    "    with arcpy.EnvManager(outputCoordinateSystem = proj):\n",
    "        arcpy.management.CreateFishnet(out_feature_class=output_file,origin_coord=f\"{extent_x_min} {extent_y_min}\",y_axis_coord=f\"{extent_x_min} {extent_y_min+10}\",cell_width=cell_size,cell_height=cell_size,number_rows=None,number_columns=None,corner_coord=f\"{extent_x_max} {extent_y_max}\",labels=\"NO_LABELS\",template=\"#\",geometry_type=\"POLYGON\")\n",
    "# 面转点\n",
    "def polygon_point(in_feature, out_feature):\n",
    "    \"\"\"参数说明：\n",
    "        in_feature: 输入面\n",
    "        out_feature: 输出点\n",
    "    \"\"\"\n",
    "    proj = arcpy.Describe(in_feature).spatialReference\n",
    "    with arcpy.EnvManager(outputCoordinateSystem=proj):\n",
    "        arcpy.management.FeatureToPoint(in_features=in_feature,out_feature_class=out_feature,point_location=\"INSIDE\")\n",
    "\n",
    "# 筛选点\n",
    "\n",
    "def select_point(input_polygon,input_point,output_point):\n",
    "    \"\"\"参数说明：\n",
    "        input_polygon: 选择面\n",
    "        input_point: 待选择点\n",
    "        output_point: 选择点\n",
    "    \"\"\"\n",
    "    polygon_layer = \"polygonLayer\"\n",
    "    point_layer = \"pointLayer\"\n",
    "    arcpy.MakeFeatureLayer_management(input_polygon, polygon_layer)\n",
    "    arcpy.MakeFeatureLayer_management(input_point, point_layer)\n",
    "    arcpy.SelectLayerByLocation_management(in_layer=point_layer, overlap_type=\"INTERSECT\", select_features=polygon_layer,search_distance=0,selection_type='NEW_SELECTION',invert_spatial_relationship=\"NOT_INVERT\")\n",
    "    # 导出选择的要素\n",
    "    arcpy.CopyFeatures_management(point_layer, output_point)\n",
    "\n",
    "# 添加字段\n",
    "def add_field(input_table,field_name,field_type='TEXT'):\n",
    "    \"\"\"参数说明：\n",
    "        input_table: 输入数据表\n",
    "        field_name: 字段名\n",
    "        field_type: 字段类型\"\"\"\n",
    "    arcpy.AddField_management(input_table,field_name,field_type)\n",
    "# 删除要素\n",
    "def delete_feature(input_feature):\n",
    "    arcpy.Delete_management(input_feature)\n",
    "# 空间连接\n",
    "def perform_spatial_join(target_layer_path, join_layer_path, output_layer_path, field_mapping_dict):\n",
    "    \"\"\"参数说明：\n",
    "        target_layer_path: 目标图层路径 (点图层)\n",
    "        join_layer_path: 连接图层路径 (包含属性的面图层)\n",
    "        output_layer_path: 输出图层路径\n",
    "        field_mapping_dict: 字段映射字典 {目标字段:源字段}\n",
    "    \"\"\"\n",
    "    # 创建空的 FieldMappings 对象\n",
    "    field_mappings = arcpy.FieldMappings()\n",
    "\n",
    "    # 只添加需要的字段映射\n",
    "    for target_field, source_field in field_mapping_dict.items():\n",
    "        # 创建字段映射对象\n",
    "        field_map = arcpy.FieldMap()\n",
    "        \n",
    "        # 添加源字段（从连接图层）\n",
    "        field_map.addInputField(join_layer_path, source_field)\n",
    "        \n",
    "        # 设置输出字段属性\n",
    "        output_field = field_map.outputField\n",
    "        output_field.name = target_field\n",
    "        output_field.aliasName = target_field\n",
    "        field_map.outputField = output_field\n",
    "        \n",
    "        # 添加到field_mappings\n",
    "        field_mappings.addFieldMap(field_map)\n",
    "\n",
    "    # 执行空间连接操作\n",
    "    arcpy.analysis.SpatialJoin(\n",
    "        target_layer_path, \n",
    "        join_layer_path, \n",
    "        output_layer_path,\n",
    "        \"JOIN_ONE_TO_ONE\", \n",
    "        \"KEEP_ALL\", \n",
    "        field_mappings,\n",
    "        match_option=\"INTERSECT\"\n",
    "    )\n",
    "\n",
    "def perform_multiple_spatial_joins(target_layer_path, join_layers_info, final_output):\n",
    "    \"\"\"\n",
    "    对一个目标图层执行多个空间连接操作,并清理中间文件\n",
    "    \n",
    "    参数说明：\n",
    "        target_layer_path: 目标图层路径 (点图层)\n",
    "        join_layers_info: 连接图层信息列表，每个元素为字典，包含：\n",
    "            {\n",
    "                'join_layer': 连接图层路径,\n",
    "                'field_mapping': 字段映射字典 {目标字段:源字段}\n",
    "            }\n",
    "        final_output: 最终输出图层路径\n",
    "    \"\"\"\n",
    "    current_input = target_layer_path\n",
    "    temp_outputs = []  # 存储中间输出文件路径\n",
    "    \n",
    "    # 获取工作空间路径\n",
    "    workspace = os.path.dirname(target_layer_path)\n",
    "    \n",
    "    for idx, join_info in enumerate(join_layers_info):\n",
    "        # 获取当前连接操作的参数\n",
    "        join_layer = join_info['join_layer']\n",
    "        # 生成临时输出文件完整路径\n",
    "        temp_output = os.path.join(workspace, f\"temp_join_{idx}.shp\")\n",
    "        temp_outputs.append(temp_output)\n",
    "        \n",
    "        # 最后一次连接时使用最终输出路径\n",
    "        output_layer = final_output if idx == len(join_layers_info) - 1 else temp_output\n",
    "        field_mapping_dict = join_info['field_mapping']\n",
    "        \n",
    "        # 创建空的 FieldMappings 对象\n",
    "        field_mappings = arcpy.FieldMappings()\n",
    "        \n",
    "        # 保留目标图层的所有字段\n",
    "        field_mappings.addTable(current_input)\n",
    "        field_mappings.addTable(join_layer)\n",
    "        \n",
    "        # 获取需要保留的字段列表\n",
    "        keep_fields = [f.name for f in arcpy.ListFields(current_input)]  # 保留目标图层的所有字段\n",
    "        keep_fields.extend(list(field_mapping_dict.keys()))  # 添加新的映射字段\n",
    "        \n",
    "        # 移除所有不需要的字段\n",
    "        field_indices_to_remove = []\n",
    "        for i in range(field_mappings.fieldCount):\n",
    "            field = field_mappings.getFieldMap(i)\n",
    "            if field.getInputFieldName(0) not in keep_fields and \\\n",
    "               field.outputField.name not in keep_fields:\n",
    "                field_indices_to_remove.append(i)\n",
    "        \n",
    "        # 从后向前移除字段，避免索引变化\n",
    "        for i in reversed(field_indices_to_remove):\n",
    "            field_mappings.removeFieldMap(i)\n",
    "        \n",
    "        # 添加或更新需要的连接字段映射\n",
    "        for target_field, source_field in field_mapping_dict.items():\n",
    "            # 创建字段映射对象\n",
    "            field_map = arcpy.FieldMap()\n",
    "            \n",
    "            # 添加源字段（从连接图层）\n",
    "            field_map.addInputField(join_layer, source_field)\n",
    "            \n",
    "            # 设置输出字段属性\n",
    "            output_field = field_map.outputField\n",
    "            output_field.name = target_field\n",
    "            output_field.aliasName = target_field\n",
    "            field_map.outputField = output_field\n",
    "            \n",
    "            # 找到并替换现有的字段映射（如果存在）\n",
    "            field_index = field_mappings.findFieldMapIndex(target_field)\n",
    "            if field_index != -1:\n",
    "                field_mappings.replaceFieldMap(field_index, field_map)\n",
    "            else:\n",
    "                field_mappings.addFieldMap(field_map)\n",
    "        \n",
    "        # 执行空间连接操作\n",
    "        arcpy.analysis.SpatialJoin(\n",
    "            current_input, \n",
    "            join_layer, \n",
    "            output_layer,\n",
    "            \"JOIN_ONE_TO_ONE\", \n",
    "            \"KEEP_ALL\", \n",
    "            field_mappings,\n",
    "            match_option=\"INTERSECT\"\n",
    "        )\n",
    "        \n",
    "        # 更新当前输入图层为最新的输出图层\n",
    "        current_input = output_layer  # 这是关键修改\n",
    "\n",
    "    # 清理中间文件\n",
    "    for temp_file in temp_outputs[:-1]:  # 不删除最后一个输出文件\n",
    "        if arcpy.Exists(temp_file):\n",
    "            arcpy.Delete_management(temp_file)\n",
    "# 点采样\n",
    "def sample_point(point_,raster_,out_name):\n",
    "    \"\"\"根据栅格采样点,输出为表格\"\"\"\n",
    "    Sample(raster_,point_,out_name,\"NEAREST\", \"OBJECTID\", \"CURRENT_SLICE\", None, '', None, None, \"ROW_WISE\", \"TABLE\")\n",
    "    return None\n",
    "\n",
    "# 导出CSV\n",
    "def export_csv(table_,out_path,out_name):\n",
    "    \"\"\"参数说明：\n",
    "        table_: 输入数据表\n",
    "        out_path: 输出路径\n",
    "        out_name: 输出表名\"\"\"\n",
    "    TableToTable(table_,out_path,out_name)\n",
    "    return None\n",
    "\n",
    "# 要素转点\n",
    "def feature_to_point(input_layer,output_layer):\n",
    "    \"\"\"参数说明：\"\"\"\n",
    "    proj = arcpy.Describe(input_layer).spatialReference\n",
    "    with arcpy.EnvManager(outputCoordinateSystem=proj):\n",
    "        arcpy.management.FeatureToPoint(input_layer, output_layer, \"INSIDE\")\n",
    "\n",
    "# 删除多余字段\n",
    "def delete_extra_fields(input_feature_class, fields_list):\n",
    "    \"\"\"参数说明：\"\"\"\n",
    "    fields = arcpy.ListFields(input_feature_class)\n",
    "    for field in fields:\n",
    "        name = field.name\n",
    "        type = field.type.upper()\n",
    "        # 如果字段名不在删选列表中且类型不为OID和Geometry便删除这个字段\n",
    "        if name not in fields_list and type not in ['OID','GEOMETRY']:\n",
    "            arcpy.DeleteField_management(input_feature_class, [name])"
   ]
  },
  {
   "cell_type": "code",
   "execution_count": 3,
   "metadata": {},
   "outputs": [],
   "source": [
    "# 设置工作空间\n",
    "env.workspace = r'F:\\cache_data\\shp_file\\qz'\n",
    "env.overwriteOutput=True"
   ]
  },
  {
   "cell_type": "code",
   "execution_count": 4,
   "metadata": {},
   "outputs": [],
   "source": [
    "def create_point(input_layer):\n",
    "    \"\"\"生成虚拟点\"\"\"\n",
    "    # 定义文件名称\n",
    "    fish_net_name = \"qz_grid\"\n",
    "    net_to_point_name = \"qz_inside_point\"\n",
    "    select_point_name = \"select_point\"\n",
    "    result_point_name = \"join_point\"\n",
    "    # 渔网构建\n",
    "    create_net(fish_net_name,input_layer,300)\n",
    "    # 要素转点\n",
    "    polygon_point(fish_net_name,net_to_point_name)\n",
    "    # 按位置选择\n",
    "    select_point(input_layer,net_to_point_name,select_point_name)\n",
    "    # 添加字段\n",
    "    field_list = ['TL','YL','TS','TZ']\n",
    "    for one_field in field_list:\n",
    "        # 添加字段\n",
    "        add_field(input_table=select_point_name,field_name=one_field,field_type='TEXT')\n",
    "    # 空间连接赋予地类属性\n",
    "    # 定义目标要素图层和连接要素图层的路径  {目标字段:源字段}\n",
    "    fields_mapping = {\n",
    "        \"TL\": \"清镇市\",\n",
    "        \"YL\": \"清镇_1\",\n",
    "        \"TS\": \"清镇_12\",\n",
    "        \"TZ\": \"清镇__13\"\n",
    "    }\n",
    "    # 空间连接\n",
    "    perform_spatial_join(select_point_name,input_layer,result_point_name,fields_mapping)\n",
    "    # 删除多余数据\n",
    "    for one_feature in [fish_net_name,net_to_point_name,select_point_name]:\n",
    "        delete_feature(one_feature)"
   ]
  },
  {
   "cell_type": "code",
   "execution_count": 5,
   "metadata": {},
   "outputs": [],
   "source": [
    "# 生成渔网点\n",
    "create_point(input_layer=\"qz_ep_polygon\")"
   ]
  },
  {
   "cell_type": "code",
   "execution_count": 6,
   "metadata": {},
   "outputs": [],
   "source": [
    "# 生成面内部点\n",
    "feature_to_point(input_layer=\"qz_ep_polygon\",output_layer=\"qz_tl_dh_point\")"
   ]
  },
  {
   "cell_type": "code",
   "execution_count": 8,
   "metadata": {},
   "outputs": [],
   "source": [
    "# 内部点字段整理\n",
    "input_feature = r\"F:\\cache_data\\shp_file\\qz\\qz_tl_dh_point.shp\"\n",
    "# 定义字段映射关系：新字段名:原字段名\n",
    "field_mapping = {\n",
    "    'TL': '清镇市',\n",
    "    'YL': '清镇_1',\n",
    "    'TS': '清镇_12',\n",
    "    'TZ': '清镇__13'\n",
    "}\n",
    "\n",
    "# 添加字段并复制值\n",
    "for new_field, source_field in field_mapping.items():\n",
    "    # 添加新字段\n",
    "    add_field(input_table=input_feature, field_name=new_field, field_type='TEXT')\n",
    "    # 从原有字段复制值到新字段\n",
    "    arcpy.CalculateField_management(input_feature, new_field, f\"!{source_field}!\", \"PYTHON3\")\n",
    "\n",
    "# 只保留新添加的字段\n",
    "delete_extra_fields(input_feature, list(field_mapping.keys()))"
   ]
  },
  {
   "cell_type": "code",
   "execution_count": 9,
   "metadata": {},
   "outputs": [],
   "source": [
    "# 渔网点字段整理\n",
    "# 添加字段\n",
    "# input_feature = r\"F:\\cache_data\\shp_file\\ky\\join_point.shp\"\n",
    "input_feature = r\"F:\\cache_data\\shp_file\\qz\\qz_tl_dh_point.shp\"\n",
    "field_list = ['TL','YL','TS','TZ']\n",
    "# 删除多余字段\n",
    "delete_extra_fields(input_feature, field_list)"
   ]
  },
  {
   "cell_type": "code",
   "execution_count": 10,
   "metadata": {},
   "outputs": [],
   "source": [
    "# 为两个点位数据增加label\n",
    "feature_1 = r\"F:\\cache_data\\shp_file\\qz\\join_point.shp\"\n",
    "feature_2 = r\"F:\\cache_data\\shp_file\\qz\\qz_tl_dh_point.shp\"\n",
    "for one_feature in [[feature_1,'fish_net'],[feature_2,'inner']]:\n",
    "    features = one_feature[0]\n",
    "    labels = one_feature[1]\n",
    "    field_name = \"label\"\n",
    "    # 添加字段\n",
    "    add_field(input_table=features,field_name=\"label\",field_type='TEXT')\n",
    "    # 注意：这里使用了Python表达式\n",
    "    arcpy.CalculateField_management(features, field_name, f\"'{labels}'\", \"PYTHON3\")\n"
   ]
  },
  {
   "cell_type": "code",
   "execution_count": 11,
   "metadata": {},
   "outputs": [],
   "source": [
    "# 合并点位数据\n",
    "feature_1 = \"join_point\"\n",
    "feature_2 = \"qz_tl_dh_point\"\n",
    "output_feature = \"filter_result_point\"\n",
    "# 合并\n",
    "arcpy.management.Merge([feature_1,feature_2],output_feature)\n",
    "# 删除过渡文件\n",
    "for one_feature in [feature_1,feature_2]:\n",
    "    delete_feature(one_feature)"
   ]
  },
  {
   "cell_type": "code",
   "execution_count": 12,
   "metadata": {},
   "outputs": [
    {
     "data": {
      "text/html": [
       "<div class='gpresult'><h2>Messages</h2><div id='messages' data-messages='[\"开始时间: 2025年1月14日 11:18:53\",\"运行 成功，结束时间： 2025年1月14日 11:18:56 (历时: 2.94 秒)\"]' data-show='true'><div id = 'default' /></div></div>"
      ],
      "text/plain": [
       "<Result 'F:\\\\cache_data\\\\shp_file\\\\qz\\\\filter_result_point'>"
      ]
     },
     "execution_count": 12,
     "metadata": {},
     "output_type": "execute_result"
    }
   ],
   "source": [
    "# 添加经纬度字段并计算经纬度\n",
    "\n",
    "# 输入和输出文件\n",
    "input_feature_class = \"filter_result_point\"  # 请替换为您的点文件的名称\n",
    "\n",
    "# 添加字段\n",
    "arcpy.AddField_management(input_feature_class, \"LON\", \"DOUBLE\")\n",
    "arcpy.AddField_management(input_feature_class, \"LAT\", \"DOUBLE\")\n",
    "\n",
    "# 使用CalculateField_management计算经纬度\n",
    "# 假设您的点文件有一个名为\"SHAPE\"的字段，它包含了点的几何信息\n",
    "# arcpy.CalculateField_management(input_feature_class, \"LON\", \"!SHAPE.firstPoint.X!\", \"PYTHON3\")\n",
    "# arcpy.CalculateField_management(input_feature_class, \"LAT\", \"!SHAPE.firstPoint.Y!\", \"PYTHON3\")\n",
    "arcpy.management.CalculateGeometryAttributes(input_feature_class, [['LON','POINT_X'], ['LAT','POINT_Y']],coordinate_format='DD')\n",
    "# print(\"字段添加和计算完成！\")"
   ]
  },
  {
   "cell_type": "markdown",
   "metadata": {},
   "source": [
    "# 名称完善"
   ]
  },
  {
   "cell_type": "code",
   "execution_count": 8,
   "metadata": {},
   "outputs": [],
   "source": [
    "excel_path = r\"D:\\worker\\工作\\work\\三普\\数据\\开阳\\开阳县土种明细表20240905.xlsx\""
   ]
  },
  {
   "cell_type": "code",
   "execution_count": 9,
   "metadata": {},
   "outputs": [],
   "source": [
    "df_excel = pd.read_excel(excel_path)\n",
    "# 向前填充\n",
    "df_excel = df_excel.ffill()"
   ]
  },
  {
   "cell_type": "code",
   "execution_count": null,
   "metadata": {},
   "outputs": [],
   "source": [
    "# 查看所有土种\n",
    "table_list = list(set(df_excel['开阳土种'].unique()))\n",
    "table_list"
   ]
  },
  {
   "cell_type": "code",
   "execution_count": null,
   "metadata": {},
   "outputs": [],
   "source": [
    "shp_list = list(set(pd.DataFrame(arcpy.da.FeatureClassToNumPyArray(r'F:\\cache_data\\shp_file\\ky\\filter_result_point.shp', ['TZ'])).TZ.unique()))\n",
    "shp_list"
   ]
  },
  {
   "cell_type": "code",
   "execution_count": null,
   "metadata": {},
   "outputs": [],
   "source": [
    "# 比较两个列表\n",
    "# 表中有的，shp中没有的\n",
    "set(table_list) - set(shp_list)"
   ]
  },
  {
   "cell_type": "code",
   "execution_count": null,
   "metadata": {},
   "outputs": [],
   "source": [
    "# shp中有的，表中没有的\n",
    "set(shp_list) - set(table_list)"
   ]
  },
  {
   "cell_type": "code",
   "execution_count": 14,
   "metadata": {},
   "outputs": [],
   "source": [
    "# 使用groupby按照`土种编号`聚合，并应用自定义函数\n",
    "# 定义聚合函数\n",
    "def aggregate_rows(group):\n",
    "    records = group[['三普土类', '三普亚类', '三普土属', '三普土种']].to_dict('records')\n",
    "    return records[0] if records else {}\n",
    "\n",
    "# 使用groupby按照`开阳土种`聚合\n",
    "result_dict = df_excel.groupby('开阳土种').apply(aggregate_rows).to_dict()\n"
   ]
  },
  {
   "cell_type": "code",
   "execution_count": null,
   "metadata": {},
   "outputs": [],
   "source": [
    "result_dict,len(result_dict),len(df_excel['开阳土种'].unique())"
   ]
  },
  {
   "cell_type": "code",
   "execution_count": null,
   "metadata": {},
   "outputs": [],
   "source": [
    "# 去除字典中值和键的空格，并将中文括号替换为英文括号\n",
    "result_dict = {str(k).strip(): {str(key).strip().replace('（', '(').replace('）', ')'): str(value).strip().replace('（', '(').replace('）', ')') for key, value in v.items()} for k, v in result_dict.items() if v}\n",
    "result_dict, len(result_dict)"
   ]
  },
  {
   "cell_type": "code",
   "execution_count": 13,
   "metadata": {},
   "outputs": [],
   "source": [
    "file_path2 = r'F:\\cache_data\\shp_file\\qz\\filter_result_point.shp'"
   ]
  },
  {
   "cell_type": "code",
   "execution_count": 14,
   "metadata": {},
   "outputs": [
    {
     "name": "stdout",
     "output_type": "stream",
     "text": [
      "FID\n",
      "Shape\n",
      "Join_Count\n",
      "TARGET_FID\n",
      "TL\n",
      "YL\n",
      "TS\n",
      "TZ\n",
      "label\n",
      "LON\n",
      "LAT\n"
     ]
    }
   ],
   "source": [
    "for one_name in arcpy.ListFields(file_path2):\n",
    "    print(one_name.name)"
   ]
  },
  {
   "cell_type": "code",
   "execution_count": 27,
   "metadata": {},
   "outputs": [],
   "source": [
    "code_block =f\"\"\"\n",
    "def get_soil_class(soil_code):\n",
    "    \n",
    "    soil_dict = {result_dict}\n",
    "    if soil_code in soil_dict:\n",
    "        return soil_dict[soil_code]['三普土种']\n",
    "    else:\n",
    "        return \"NONE\"\n",
    "\"\"\"\n",
    "field_name = \"NEW_TZ\"\n",
    "expression = \"get_soil_class(!TZ!)\""
   ]
  },
  {
   "cell_type": "code",
   "execution_count": null,
   "metadata": {},
   "outputs": [],
   "source": [
    "arcpy.CalculateField_management(in_table=file_path2, field=field_name, expression=expression, expression_type=\"PYTHON3\", code_block=code_block)"
   ]
  },
  {
   "cell_type": "code",
   "execution_count": 5,
   "metadata": {},
   "outputs": [],
   "source": [
    "# 使用空间连接获取点位数据的地类名称、地质类别、坡位\n",
    "point_layer = r\"F:\\cache_data\\shp_file\\qz\\filter_result_point.shp\"\n",
    "dl_layer = r\"F:\\cache_data\\shp_file\\qz\\qz_sd_polygon.shp\"\n",
    "dz_layer = r\"C:\\Users\\Runker\\Desktop\\rock_type\\predict_raster\\rock_type_predict_smooth_smooth.shp\"\n",
    "pw_layer = r\"F:\\cache_data\\shp_file\\qz\\qz_slopepostion_polygon.shp\""
   ]
  },
  {
   "cell_type": "code",
   "execution_count": 6,
   "metadata": {},
   "outputs": [],
   "source": [
    "# 添加字段\n",
    "add_field(input_table=point_layer,field_name=\"DL\",field_type=\"TEXT\")\n",
    "add_field(input_table=point_layer,field_name=\"DLLB\",field_type=\"TEXT\")\n",
    "add_field(input_table=point_layer,field_name=\"MZMC\",field_type=\"TEXT\")\n",
    "add_field(input_table=point_layer,field_name=\"PW\",field_type=\"TEXT\")"
   ]
  },
  {
   "cell_type": "code",
   "execution_count": 7,
   "metadata": {},
   "outputs": [],
   "source": [
    "# 空间连接\n",
    "output_layer = r\"F:\\cache_data\\shp_file\\qz\\filter_result_point_join.shp\"\n",
    "perform_multiple_spatial_joins(point_layer,[\n",
    "    {'join_layer':dl_layer,'output_layer':'filter_result_point_dl','field_mapping':{'DL':'DLMC'}},\n",
    "    {'join_layer':dl_layer,'output_layer':'filter_result_point_dllb','field_mapping':{'DLLB':'DLLB'}},\n",
    "    {'join_layer':dz_layer,'output_layer':'filter_result_point_dz','field_mapping':{'MZMC':'rocks'}},\n",
    "    {'join_layer':pw_layer,'output_layer':'filter_result_point_pw','field_mapping':{'PW':'gridcode'}}\n",
    "],final_output=output_layer)\n"
   ]
  },
  {
   "cell_type": "code",
   "execution_count": 9,
   "metadata": {},
   "outputs": [
    {
     "name": "stdout",
     "output_type": "stream",
     "text": [
      "['FID', 'Shape', 'Join_Count', 'TARGET_FID', 'Join_Cou_1', 'TARGET_F_1', 'Join_Cou_2', 'TARGET_F_2', 'Join_Cou_3', 'TARGET_F_3', 'Join_Cou_4', 'TARGET_F_4', 'TL', 'YL', 'TS', 'TZ', 'label', 'LON', 'LAT', 'DL', 'DLLB', 'MZMC', 'PW']\n"
     ]
    }
   ],
   "source": [
    "# 查看字段\n",
    "print([one_field.name for one_field in arcpy.ListFields(output_layer)])"
   ]
  },
  {
   "cell_type": "code",
   "execution_count": 10,
   "metadata": {},
   "outputs": [],
   "source": [
    "# 清除多余字段\n",
    "join_point_field_list = ['TL', 'YL', 'TS', 'TZ', 'label', 'LON', 'LAT', 'DL', 'DLLB', 'MZMC', 'PW']\n",
    "# 删除多余字段\n",
    "delete_extra_fields(output_layer, join_point_field_list)"
   ]
  },
  {
   "cell_type": "code",
   "execution_count": 14,
   "metadata": {},
   "outputs": [],
   "source": [
    "# 删除DLLB值不为[水稻土、自然土、非自然土]的点\n",
    "try:\n",
    "    # 创建图层\n",
    "    arcpy.MakeFeatureLayer_management(output_layer, \"point_layer\")\n",
    "\n",
    "    # 选择符合条件的要素\n",
    "    arcpy.SelectLayerByAttribute_management(\"point_layer\", \"NEW_SELECTION\", \"DLLB NOT in ('水稻土','自然土','非自然土')\")\n",
    "\n",
    "    # 删除选择的要素\n",
    "    arcpy.DeleteFeatures_management(\"point_layer\")\n",
    "\n",
    "finally:\n",
    "    # 删除临时图层\n",
    "    arcpy.Delete_management(\"point_layer\")\n"
   ]
  },
  {
   "cell_type": "markdown",
   "metadata": {},
   "source": [
    "# 土壤分类系统字典查看"
   ]
  },
  {
   "cell_type": "code",
   "execution_count": 3,
   "metadata": {},
   "outputs": [],
   "source": [
    "# 虚拟点路径\n",
    "soil_point_path = r'F:\\cache_data\\shp_file\\qz\\filter_result_point_join.shp'"
   ]
  },
  {
   "cell_type": "code",
   "execution_count": 4,
   "metadata": {},
   "outputs": [],
   "source": [
    "# 查看df\n",
    "field_list = ['TL','YL','TS','TZ','DL','DLLB','MZMC','PW']\n",
    "soil_type_df = pd.DataFrame(arcpy.da.FeatureClassToNumPyArray(soil_point_path, field_list))"
   ]
  },
  {
   "cell_type": "code",
   "execution_count": 5,
   "metadata": {},
   "outputs": [],
   "source": [
    "# 去重\n",
    "fileter_soil_type_df = soil_type_df.drop_duplicates()\n",
    "# 删除包含' '的行\n",
    "fileter_soil_type_df = fileter_soil_type_df[fileter_soil_type_df['TL'] != ' ']"
   ]
  },
  {
   "cell_type": "code",
   "execution_count": 6,
   "metadata": {},
   "outputs": [
    {
     "data": {
      "text/html": [
       "<div>\n",
       "<style scoped>\n",
       "    .dataframe tbody tr th:only-of-type {\n",
       "        vertical-align: middle;\n",
       "    }\n",
       "\n",
       "    .dataframe tbody tr th {\n",
       "        vertical-align: top;\n",
       "    }\n",
       "\n",
       "    .dataframe thead th {\n",
       "        text-align: right;\n",
       "    }\n",
       "</style>\n",
       "<table border=\"1\" class=\"dataframe\">\n",
       "  <thead>\n",
       "    <tr style=\"text-align: right;\">\n",
       "      <th></th>\n",
       "      <th>TL</th>\n",
       "      <th>YL</th>\n",
       "      <th>TS</th>\n",
       "      <th>TZ</th>\n",
       "      <th>DL</th>\n",
       "      <th>DLLB</th>\n",
       "      <th>MZMC</th>\n",
       "      <th>PW</th>\n",
       "    </tr>\n",
       "  </thead>\n",
       "  <tbody>\n",
       "    <tr>\n",
       "      <th>0</th>\n",
       "      <td>黄壤</td>\n",
       "      <td>黄泥土</td>\n",
       "      <td>黄泥土</td>\n",
       "      <td>黄泥土</td>\n",
       "      <td>水田</td>\n",
       "      <td>水稻土</td>\n",
       "      <td>河流冲积物</td>\n",
       "      <td>2.0</td>\n",
       "    </tr>\n",
       "    <tr>\n",
       "      <th>1</th>\n",
       "      <td>黄壤</td>\n",
       "      <td>黄泥土</td>\n",
       "      <td>黄泥土</td>\n",
       "      <td>黄泥土</td>\n",
       "      <td>林地</td>\n",
       "      <td>自然土</td>\n",
       "      <td>白云岩</td>\n",
       "      <td>2.0</td>\n",
       "    </tr>\n",
       "    <tr>\n",
       "      <th>2</th>\n",
       "      <td>黄壤</td>\n",
       "      <td>黄壤</td>\n",
       "      <td>硅铁质黄壤</td>\n",
       "      <td>硅铁质黄壤</td>\n",
       "      <td>种植园用地</td>\n",
       "      <td>非自然土</td>\n",
       "      <td>河流冲积物</td>\n",
       "      <td>3.0</td>\n",
       "    </tr>\n",
       "    <tr>\n",
       "      <th>4</th>\n",
       "      <td>水稻土</td>\n",
       "      <td>大眼泥田</td>\n",
       "      <td>大眼泥田</td>\n",
       "      <td>大眼泥田</td>\n",
       "      <td>水田</td>\n",
       "      <td>水稻土</td>\n",
       "      <td>河流冲积物</td>\n",
       "      <td>3.0</td>\n",
       "    </tr>\n",
       "    <tr>\n",
       "      <th>5</th>\n",
       "      <td>黄壤</td>\n",
       "      <td>黄泥土</td>\n",
       "      <td>黄泥土</td>\n",
       "      <td>黄泥土</td>\n",
       "      <td>林地</td>\n",
       "      <td>自然土</td>\n",
       "      <td>白云岩</td>\n",
       "      <td>5.0</td>\n",
       "    </tr>\n",
       "    <tr>\n",
       "      <th>...</th>\n",
       "      <td>...</td>\n",
       "      <td>...</td>\n",
       "      <td>...</td>\n",
       "      <td>...</td>\n",
       "      <td>...</td>\n",
       "      <td>...</td>\n",
       "      <td>...</td>\n",
       "      <td>...</td>\n",
       "    </tr>\n",
       "    <tr>\n",
       "      <th>14296</th>\n",
       "      <td>水稻土</td>\n",
       "      <td>黄泥田</td>\n",
       "      <td>黄沙泥田</td>\n",
       "      <td>黄沙泥田</td>\n",
       "      <td>旱地</td>\n",
       "      <td>非自然土</td>\n",
       "      <td>泥(页)岩</td>\n",
       "      <td>1.0</td>\n",
       "    </tr>\n",
       "    <tr>\n",
       "      <th>14366</th>\n",
       "      <td>水稻土</td>\n",
       "      <td>潮泥田</td>\n",
       "      <td>潮泥田</td>\n",
       "      <td>潮沙泥田</td>\n",
       "      <td>林地</td>\n",
       "      <td>自然土</td>\n",
       "      <td>泥岩</td>\n",
       "      <td>4.0</td>\n",
       "    </tr>\n",
       "    <tr>\n",
       "      <th>14380</th>\n",
       "      <td>石灰土</td>\n",
       "      <td>淋溶黄色石灰土</td>\n",
       "      <td>淋溶黄色石灰土</td>\n",
       "      <td>淋溶黄色石灰土</td>\n",
       "      <td>林地</td>\n",
       "      <td>自然土</td>\n",
       "      <td>砂岩</td>\n",
       "      <td>4.0</td>\n",
       "    </tr>\n",
       "    <tr>\n",
       "      <th>14381</th>\n",
       "      <td>石灰土</td>\n",
       "      <td>黄色石灰土</td>\n",
       "      <td>黄色石灰土</td>\n",
       "      <td>黄色石灰土</td>\n",
       "      <td>水田</td>\n",
       "      <td>水稻土</td>\n",
       "      <td>灰岩</td>\n",
       "      <td>5.0</td>\n",
       "    </tr>\n",
       "    <tr>\n",
       "      <th>14391</th>\n",
       "      <td>黄壤</td>\n",
       "      <td>黄泥土</td>\n",
       "      <td>黄泥沙土</td>\n",
       "      <td>黄沙土</td>\n",
       "      <td>林地</td>\n",
       "      <td>自然土</td>\n",
       "      <td>泥(页)岩</td>\n",
       "      <td>1.0</td>\n",
       "    </tr>\n",
       "  </tbody>\n",
       "</table>\n",
       "<p>2501 rows × 8 columns</p>\n",
       "</div>"
      ],
      "text/plain": [
       "        TL       YL       TS       TZ     DL  DLLB   MZMC   PW\n",
       "0       黄壤      黄泥土      黄泥土      黄泥土     水田   水稻土  河流冲积物  2.0\n",
       "1       黄壤      黄泥土      黄泥土      黄泥土     林地   自然土    白云岩  2.0\n",
       "2       黄壤       黄壤    硅铁质黄壤    硅铁质黄壤  种植园用地  非自然土  河流冲积物  3.0\n",
       "4      水稻土     大眼泥田     大眼泥田     大眼泥田     水田   水稻土  河流冲积物  3.0\n",
       "5       黄壤      黄泥土      黄泥土      黄泥土     林地   自然土    白云岩  5.0\n",
       "...    ...      ...      ...      ...    ...   ...    ...  ...\n",
       "14296  水稻土      黄泥田     黄沙泥田     黄沙泥田     旱地  非自然土  泥(页)岩  1.0\n",
       "14366  水稻土      潮泥田      潮泥田     潮沙泥田     林地   自然土     泥岩  4.0\n",
       "14380  石灰土  淋溶黄色石灰土  淋溶黄色石灰土  淋溶黄色石灰土     林地   自然土     砂岩  4.0\n",
       "14381  石灰土    黄色石灰土    黄色石灰土    黄色石灰土     水田   水稻土     灰岩  5.0\n",
       "14391   黄壤      黄泥土     黄泥沙土      黄沙土     林地   自然土  泥(页)岩  1.0\n",
       "\n",
       "[2501 rows x 8 columns]"
      ]
     },
     "execution_count": 6,
     "metadata": {},
     "output_type": "execute_result"
    }
   ],
   "source": [
    "fileter_soil_type_df"
   ]
  },
  {
   "cell_type": "code",
   "execution_count": 16,
   "metadata": {},
   "outputs": [],
   "source": [
    "fileter_soil_type_df.to_excel(r\"C:\\Users\\Runker\\Desktop\\type_dict.xlsx\",index=False)"
   ]
  },
  {
   "cell_type": "code",
   "execution_count": 13,
   "metadata": {},
   "outputs": [],
   "source": [
    "# 根据字典返回计算值\n",
    "result_soil_type_df = pd.read_excel(r\"C:\\Users\\Runker\\Desktop\\type_dict.xlsx\")"
   ]
  },
  {
   "cell_type": "code",
   "execution_count": 14,
   "metadata": {},
   "outputs": [],
   "source": [
    "# 构造字典\n",
    "# 创建一个查询字典，使用元组作为键来存储多个列的值\n",
    "lookup_dict = {}\n",
    "# 假设我们要使用的列是 TL, YL, TS, TZ, DL, DLLB, MZMC, PW\n",
    "columns_to_match = ['TL', 'YL', 'TS', 'TZ', 'DL', 'DLLB', 'MZMC', 'PW']\n",
    "\n",
    "# 构建查询字典\n",
    "for idx, row in result_soil_type_df.iterrows():\n",
    "    # 创建一个元组作为键，包含所有需要匹配的列的值\n",
    "    key = tuple(row[columns_to_match])\n",
    "    # 将 NEW_TZ 的值作为字典的值\n",
    "    lookup_dict[key] = row['NEW_TZ']\n"
   ]
  },
  {
   "cell_type": "code",
   "execution_count": 17,
   "metadata": {},
   "outputs": [],
   "source": [
    "def update_shp_with_new_tz(input_shp, lookup_dict, columns_to_match):\n",
    "    \"\"\"\n",
    "    在shp文件中添加NEW_TZ字段并根据lookup_dict更新值\n",
    "    \"\"\"\n",
    "    # 添加NEW_TZ字段\n",
    "    arcpy.AddField_management(input_shp, \"NEW_TZ\", \"TEXT\", field_length=50)\n",
    "    \n",
    "    # 构造代码块\n",
    "    code_block = f\"\"\"\n",
    "def get_soil_type({', '.join(columns_to_match)}):\n",
    "    # 将PW转换为整数\n",
    "    try:\n",
    "        PW = int(float(PW)) if PW is not None else None\n",
    "    except:\n",
    "        PW = None\n",
    "        \n",
    "    # 构建键元组\n",
    "    key = (\n",
    "        str(TL),\n",
    "        str(YL),\n",
    "        str(TS),\n",
    "        str(TZ),\n",
    "        str(DL),\n",
    "        str(DLLB),\n",
    "        str(MZMC),\n",
    "        PW\n",
    "    )\n",
    "    # 查询字典\n",
    "    lookup_dict = {lookup_dict}\n",
    "    return lookup_dict.get(key, '未匹配')\n",
    "\"\"\"\n",
    "    \n",
    "    # 构造表达式\n",
    "    field_refs = [f\"!{col}!\" for col in columns_to_match]\n",
    "    expression = f\"get_soil_type({', '.join(field_refs)})\"\n",
    "    \n",
    "    # 执行字段计算\n",
    "    arcpy.CalculateField_management(\n",
    "        in_table=input_shp,\n",
    "        field=\"NEW_TZ\",\n",
    "        expression=expression,\n",
    "        expression_type=\"PYTHON3\",\n",
    "        code_block=code_block\n",
    "    )"
   ]
  },
  {
   "cell_type": "code",
   "execution_count": 18,
   "metadata": {},
   "outputs": [],
   "source": [
    "# 假设你的shp文件路径为\n",
    "input_shp = r\"F:\\cache_data\\shp_file\\qz\\filter_result_point_join.shp\"\n",
    "\n",
    "# 需要匹配的字段列表\n",
    "columns_to_match = ['TL', 'YL', 'TS', 'TZ', 'DL', 'DLLB', 'MZMC', 'PW']\n",
    "\n",
    "# 调用函数\n",
    "update_shp_with_new_tz(input_shp, lookup_dict, columns_to_match)"
   ]
  },
  {
   "cell_type": "markdown",
   "metadata": {},
   "source": [
    "# 5MDEM数据拷贝"
   ]
  },
  {
   "cell_type": "code",
   "execution_count": 65,
   "metadata": {},
   "outputs": [],
   "source": [
    "import os\n",
    "import shutil"
   ]
  },
  {
   "cell_type": "code",
   "execution_count": 105,
   "metadata": {},
   "outputs": [],
   "source": [
    "in_dir = r'G:\\data\\第三次全国土壤普查\\贵州省地理国情普查框架数据更新DEM（5米格网_2000坐标系）\\G48'\n",
    "# in_dir = r'G:\\data\\第三次全国土壤普查\\贵州省地理国情普查框架数据更新DEM（5米格网_2000坐标系）\\H48'\n",
    "# in_dir = r'G:\\data\\第三次全国土壤普查\\贵州省地理国情普查框架数据更新DEM（5米格网_2000坐标系）\\H49'\n",
    "out_dir = r'F:\\ArcgisData\\m5\\qz'"
   ]
  },
  {
   "cell_type": "code",
   "execution_count": 106,
   "metadata": {},
   "outputs": [],
   "source": [
    "# 复制指定范围的文件夹到指定路径\n",
    "mid_min = 25   # 23\n",
    "min_max = 39   # 06\n",
    "\n",
    "tail_min = 65  # 66  001\n",
    "tail_max = 75  # 47  008\n",
    "\n",
    "def get_file_name(file_name):\n",
    "    mid = file_name[4:7]\n",
    "    tail = file_name[7:]\n",
    "    # 判断mid 和tail是否可以转换位数字\n",
    "    if mid.isdigit() and tail.isdigit():\n",
    "        if int(mid) >= mid_min and int(mid) <= min_max and int(tail) >= tail_min and int(tail) <= tail_max:\n",
    "            return True\n",
    "    else:\n",
    "        print(file_name)\n",
    "        return False"
   ]
  },
  {
   "cell_type": "code",
   "execution_count": null,
   "metadata": {},
   "outputs": [],
   "source": [
    "for one_dir in os.listdir(in_dir):\n",
    "    if get_file_name(one_dir):\n",
    "        if not os.path.exists(os.path.join(out_dir,one_dir)):\n",
    "            shutil.copytree(os.path.join(in_dir,one_dir),os.path.join(out_dir,one_dir))\n",
    "    else:\n",
    "        continue"
   ]
  }
 ],
 "metadata": {
  "kernelspec": {
   "display_name": "Python 3",
   "language": "python",
   "name": "python3"
  },
  "language_info": {
   "codemirror_mode": {
    "name": "ipython",
    "version": 3
   },
   "file_extension": ".py",
   "mimetype": "text/x-python",
   "name": "python",
   "nbconvert_exporter": "python",
   "pygments_lexer": "ipython3",
   "version": "3.9.16"
  }
 },
 "nbformat": 4,
 "nbformat_minor": 2
}
