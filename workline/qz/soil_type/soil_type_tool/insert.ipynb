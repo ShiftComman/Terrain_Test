{
 "cells": [
  {
   "cell_type": "markdown",
   "metadata": {},
   "source": [
    "# 生成所需数据"
   ]
  },
  {
   "cell_type": "code",
   "execution_count": 5,
   "metadata": {},
   "outputs": [],
   "source": [
    "import os\n",
    "import pandas as pd\n",
    "import numpy as np\n",
    "import shutil\n",
    "import arcpy\n",
    "from arcpy import env\n",
    "from arcpy.management import *\n",
    "from arcpy.sa import *\n",
    "from arcpy.da import *\n",
    "from arcpy.conversion import *"
   ]
  },
  {
   "cell_type": "code",
   "execution_count": 6,
   "metadata": {},
   "outputs": [],
   "source": [
    "# 指定工作空间\n",
    "env.workspace = r'F:\\cache_data\\shp_file\\qz\\ele_qz'\n",
    "if not os.path.exists(env.workspace):\n",
    "    os.makedirs(env.workspace)\n",
    "env.overwriteOutput = True"
   ]
  },
  {
   "cell_type": "code",
   "execution_count": 7,
   "metadata": {},
   "outputs": [],
   "source": [
    "# 三调地块路径\n",
    "sd_data = r'F:\\cache_data\\shp_file\\qz\\qz_sd_polygon.shp'\n",
    "# 母质路径\n",
    "mz_data = r'F:\\cache_data\\shp_file\\qz\\dz\\rock_type_result_20250219.shp'\n",
    "# 坡位矢量路径\n",
    "slope_data = r'F:\\cache_data\\shp_file\\qz\\qz_slopepostion_polygon.shp'"
   ]
  },
  {
   "cell_type": "code",
   "execution_count": null,
   "metadata": {},
   "outputs": [],
   "source": [
    "# 提取耕林园草\n",
    "select_name = 'qz_sd_select.shp'\n",
    "arcpy.Select_analysis(sd_data,select_name,f\"{'DLLB'} IN ('自然土','水稻土', '非自然土')\")"
   ]
  },
  {
   "cell_type": "code",
   "execution_count": null,
   "metadata": {},
   "outputs": [],
   "source": [
    "# 融合母质\n",
    "dissolve_name = 'qz_mz_result_dissove.shp'\n",
    "arcpy.Dissolve_management(in_features=mz_data,out_feature_class=dissolve_name,dissolve_field='MZMC',multi_part='SINGLE_PART')"
   ]
  },
  {
   "cell_type": "code",
   "execution_count": null,
   "metadata": {},
   "outputs": [],
   "source": [
    "# 相交\n",
    "intersect_name = 'qz_merge_data.shp'\n",
    "arcpy.Intersect_analysis(in_features=[select_name,dissolve_name,slope_data],out_feature_class=intersect_name,join_attributes='ALL')    "
   ]
  },
  {
   "cell_type": "code",
   "execution_count": null,
   "metadata": {},
   "outputs": [],
   "source": [
    "# 转单部件\n",
    "single_name = 'qz_merge_data_single.shp'\n",
    "arcpy.MultipartToSinglepart_management(intersect_name,single_name)"
   ]
  }
 ],
 "metadata": {
  "kernelspec": {
   "display_name": "Python 3",
   "language": "python",
   "name": "python3"
  },
  "language_info": {
   "codemirror_mode": {
    "name": "ipython",
    "version": 3
   },
   "file_extension": ".py",
   "mimetype": "text/x-python",
   "name": "python",
   "nbconvert_exporter": "python",
   "pygments_lexer": "ipython3",
   "version": "3.9.16"
  }
 },
 "nbformat": 4,
 "nbformat_minor": 2
}
