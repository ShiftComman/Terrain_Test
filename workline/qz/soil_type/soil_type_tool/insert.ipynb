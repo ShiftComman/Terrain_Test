{
 "cells": [
  {
   "cell_type": "markdown",
   "metadata": {},
   "source": [
    "# 生成所需数据"
   ]
  },
  {
   "cell_type": "code",
   "execution_count": 1,
   "metadata": {},
   "outputs": [],
   "source": [
    "import os\n",
    "import pandas as pd\n",
    "import numpy as np\n",
    "import shutil\n",
    "import arcpy\n",
    "from arcpy import env\n",
    "from arcpy.management import *\n",
    "from arcpy.sa import *\n",
    "from arcpy.da import *\n",
    "from arcpy.conversion import *"
   ]
  },
  {
   "cell_type": "code",
   "execution_count": 2,
   "metadata": {},
   "outputs": [],
   "source": [
    "# 指定工作空间\n",
    "env.workspace = r'F:\\cache_data\\shp_file\\qz\\ele_qz'\n",
    "if not os.path.exists(env.workspace):\n",
    "    os.makedirs(env.workspace)\n",
    "env.overwriteOutput = True"
   ]
  },
  {
   "cell_type": "code",
   "execution_count": 4,
   "metadata": {},
   "outputs": [],
   "source": [
    "# 三调地块路径\n",
    "sd_data = r'F:\\cache_data\\shp_file\\qz\\qz_sd_polygon.shp'\n",
    "# 母质路径\n",
    "mz_data = r'F:\\cache_data\\shp_file\\qz\\dz\\rock_type_qz_result_20250228.shp'\n",
    "# 坡位矢量路径\n",
    "slope_data = r'F:\\cache_data\\shp_file\\qz\\qz_slopepostion_polygon.shp'"
   ]
  },
  {
   "cell_type": "code",
   "execution_count": 5,
   "metadata": {},
   "outputs": [],
   "source": [
    "# 提取耕林园草\n",
    "select_name = 'qz_sd_select.shp'\n",
    "# arcpy.Select_analysis(sd_data,select_name,f\"{'DLLB'} IN ('自然土','水稻土', '非自然土')\")"
   ]
  },
  {
   "cell_type": "code",
   "execution_count": 6,
   "metadata": {},
   "outputs": [],
   "source": [
    "# 融合母质\n",
    "dissolve_name = 'qz_mz_result_dissove.shp'\n",
    "# arcpy.Dissolve_management(in_features=mz_data,out_feature_class=dissolve_name,dissolve_field='MZMC',multi_part='SINGLE_PART')"
   ]
  },
  {
   "cell_type": "code",
   "execution_count": 7,
   "metadata": {},
   "outputs": [
    {
     "data": {
      "text/html": [
       "<div class='gpresult'><h2>Messages</h2><div id='messages' data-messages='[\"开始时间: 2025年2月27日 18:45:47\",\"正在读取要素...\",\"正在裂化要素...\",\"正在组合要素...\",\"运行 成功，结束时间：2025年2月27日 18:48:20 (历时: 2 分 33 秒)\"]' data-show='true'><div id = 'default' /></div></div>"
      ],
      "text/plain": [
       "<Result 'F:\\\\cache_data\\\\shp_file\\\\qz\\\\ele_qz\\\\qz_merge_data.shp'>"
      ]
     },
     "execution_count": 7,
     "metadata": {},
     "output_type": "execute_result"
    }
   ],
   "source": [
    "# 标识\n",
    "intersect_name = 'qz_merge_data.shp'\n",
    "# 使用标识工具而非相交，保持第一个数据集的完整性\n",
    "# 第一步：先对第一个和第二个数据集执行标识\n",
    "temp_identity_name = 'qz_identity_temp.shp'\n",
    "arcpy.Identity_analysis(in_features=select_name, \n",
    "                      identity_features=dissolve_name, \n",
    "                      out_feature_class=temp_identity_name,\n",
    "                      join_attributes='ALL')\n",
    "\n",
    "# 第二步：对中间结果和第三个数据集执行标识\n",
    "intersect_name = 'qz_merge_data.shp'  # 保持输出名称一致\n",
    "arcpy.Identity_analysis(in_features=temp_identity_name, \n",
    "                      identity_features=slope_data, \n",
    "                      out_feature_class=intersect_name,\n",
    "                      join_attributes='ALL')"
   ]
  },
  {
   "cell_type": "code",
   "execution_count": 8,
   "metadata": {},
   "outputs": [
    {
     "data": {
      "text/html": [
       "<div class='gpresult'><h2>Messages</h2><div id='messages' data-messages='[\"开始时间: 2025年2月27日 18:48:28\",\"运行 成功，结束时间： 2025年2月27日 18:48:47 (历时: 18.51 秒)\"]' data-show='true'><div id = 'default' /></div></div>"
      ],
      "text/plain": [
       "<Result 'F:\\\\cache_data\\\\shp_file\\\\qz\\\\ele_qz\\\\qz_merge_data_single.shp'>"
      ]
     },
     "execution_count": 8,
     "metadata": {},
     "output_type": "execute_result"
    }
   ],
   "source": [
    "# 转单部件\n",
    "single_name = 'qz_merge_data_single.shp'\n",
    "arcpy.MultipartToSinglepart_management(intersect_name,single_name)"
   ]
  }
 ],
 "metadata": {
  "kernelspec": {
   "display_name": "Python 3",
   "language": "python",
   "name": "python3"
  },
  "language_info": {
   "codemirror_mode": {
    "name": "ipython",
    "version": 3
   },
   "file_extension": ".py",
   "mimetype": "text/x-python",
   "name": "python",
   "nbconvert_exporter": "python",
   "pygments_lexer": "ipython3",
   "version": "3.9.16"
  }
 },
 "nbformat": 4,
 "nbformat_minor": 2
}
