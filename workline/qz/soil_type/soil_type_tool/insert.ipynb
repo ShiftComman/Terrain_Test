{
 "cells": [
  {
   "cell_type": "markdown",
   "metadata": {},
   "source": [
    "# 生成所需数据"
   ]
  },
  {
   "cell_type": "code",
   "execution_count": 13,
   "metadata": {},
   "outputs": [],
   "source": [
    "import os\n",
    "import pandas as pd\n",
    "import numpy as np\n",
    "import shutil\n",
    "import arcpy\n",
    "from arcpy import env\n",
    "from arcpy.management import *\n",
    "from arcpy.sa import *\n",
    "from arcpy.da import *\n",
    "from arcpy.conversion import *"
   ]
  },
  {
   "cell_type": "code",
   "execution_count": 14,
   "metadata": {},
   "outputs": [],
   "source": [
    "# 指定工作空间\n",
    "env.workspace = r'C:\\Users\\Runker\\Desktop\\ele_ky'\n",
    "if not os.path.exists(env.workspace):\n",
    "    os.makedirs(env.workspace)\n",
    "env.overwriteOutput = True"
   ]
  },
  {
   "cell_type": "code",
   "execution_count": 15,
   "metadata": {},
   "outputs": [],
   "source": [
    "# 三调地块路径\n",
    "sd_data = r'F:\\cache_data\\shp_file\\ky\\ky_sd_polygon.shp'\n",
    "# 母质路径\n",
    "mz_data = r'F:\\cache_data\\shp_file\\ky\\ky_dzhaveriver_polygon.shp'\n",
    "# 坡位矢量路径\n",
    "slope_data = r'F:\\cache_data\\shp_file\\ky\\ky_slope_postion_101_smooth.shp'"
   ]
  },
  {
   "cell_type": "code",
   "execution_count": 9,
   "metadata": {},
   "outputs": [
    {
     "data": {
      "text/html": [
       "<div class='gpresult'><h2>Messages</h2><div id='messages' data-messages='[\"开始时间: 2024年12月16日 15:10:04\",\"运行 成功，结束时间： 2024年12月16日 15:10:10 (历时: 5.66 秒)\"]' data-show='true'><div id = 'default' /></div></div>"
      ],
      "text/plain": [
       "<Result 'C:\\\\Users\\\\Runker\\\\Desktop\\\\ele_ky\\\\ky_sd_dlyc.shp'>"
      ]
     },
     "execution_count": 9,
     "metadata": {},
     "output_type": "execute_result"
    }
   ],
   "source": [
    "# 提取耕林园草\n",
    "arcpy.Select_analysis(sd_data,\"ky_sd_dlyc.shp\",f\"{'DLLB'} IN ('自然土','水稻土', '非自然土')\")"
   ]
  },
  {
   "cell_type": "code",
   "execution_count": 10,
   "metadata": {},
   "outputs": [
    {
     "data": {
      "text/html": [
       "<div class='gpresult'><h2>Messages</h2><div id='messages' data-messages='[\"开始时间: 2024年12月16日 15:11:20\",\"正在对属性进行排序...\",\"正在融合...\",\"运行 成功，结束时间： 2024年12月16日 15:11:52 (历时: 31.84 秒)\"]' data-show='true'><div id = 'default' /></div></div>"
      ],
      "text/plain": [
       "<Result 'C:\\\\Users\\\\Runker\\\\Desktop\\\\ele_ky\\\\ky_dz_result_dissove.shp'>"
      ]
     },
     "execution_count": 10,
     "metadata": {},
     "output_type": "execute_result"
    }
   ],
   "source": [
    "# 融合母质\n",
    "arcpy.Dissolve_management(in_features=mz_data,out_feature_class='ky_dz_result_dissove.shp',dissolve_field='MZMC',multi_part='SINGLE_PART')"
   ]
  },
  {
   "cell_type": "code",
   "execution_count": 16,
   "metadata": {},
   "outputs": [
    {
     "data": {
      "text/html": [
       "<div class='gpresult'><h2>Messages</h2><div id='messages' data-messages='[\"开始时间: 2024年12月16日 16:20:47\",\"正在读取要素...\",\"正在处理分块...\",\"正在组合分块要素...\",\"运行 成功，结束时间：2024年12月16日 16:23:53 (历时: 3 分 6 秒)\"]' data-show='true'><div id = 'default' /></div></div>"
      ],
      "text/plain": [
       "<Result 'C:\\\\Users\\\\Runker\\\\Desktop\\\\ele_ky\\\\ky_merge_data.shp'>"
      ]
     },
     "execution_count": 16,
     "metadata": {},
     "output_type": "execute_result"
    }
   ],
   "source": [
    "# 相交\n",
    "arcpy.Intersect_analysis(in_features=['ky_sd_dlyc','ky_dz_result_dissove',slope_data],out_feature_class='ky_merge_data',join_attributes='ALL')    "
   ]
  },
  {
   "cell_type": "code",
   "execution_count": 17,
   "metadata": {},
   "outputs": [
    {
     "data": {
      "text/html": [
       "<div class='gpresult'><h2>Messages</h2><div id='messages' data-messages='[\"开始时间: 2024年12月16日 16:23:53\",\"运行 成功，结束时间： 2024年12月16日 16:24:16 (历时: 23.04 秒)\"]' data-show='true'><div id = 'default' /></div></div>"
      ],
      "text/plain": [
       "<Result 'C:\\\\Users\\\\Runker\\\\Desktop\\\\ele_ky\\\\ky_merge_data_single.shp'>"
      ]
     },
     "execution_count": 17,
     "metadata": {},
     "output_type": "execute_result"
    }
   ],
   "source": [
    "# 转单部件\n",
    "arcpy.MultipartToSinglepart_management('ky_merge_data','ky_merge_data_single')\n"
   ]
  }
 ],
 "metadata": {
  "kernelspec": {
   "display_name": "Python 3",
   "language": "python",
   "name": "python3"
  },
  "language_info": {
   "codemirror_mode": {
    "name": "ipython",
    "version": 3
   },
   "file_extension": ".py",
   "mimetype": "text/x-python",
   "name": "python",
   "nbconvert_exporter": "python",
   "pygments_lexer": "ipython3",
   "version": "3.9.16"
  }
 },
 "nbformat": 4,
 "nbformat_minor": 2
}
