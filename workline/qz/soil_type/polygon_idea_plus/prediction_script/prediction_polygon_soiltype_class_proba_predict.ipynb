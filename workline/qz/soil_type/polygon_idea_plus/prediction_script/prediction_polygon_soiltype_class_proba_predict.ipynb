{
 "cells": [
  {
   "cell_type": "code",
   "execution_count": 1,
   "metadata": {},
   "outputs": [],
   "source": [
    "import os\n",
    "import json\n",
    "import pandas as pd\n",
    "import numpy as np\n",
    "from autogluon.tabular import TabularPredictor\n",
    "from pykrige.ok import OrdinaryKriging\n",
    "from sklearn.metrics import r2_score\n",
    "from pyproj import Transformer\n",
    "from tqdm import tqdm\n",
    "import pickle"
   ]
  },
  {
   "cell_type": "code",
   "execution_count": 2,
   "metadata": {},
   "outputs": [],
   "source": [
    "# 获取当前日期\n",
    "def get_dtime():\n",
    "    # 例如20240516\n",
    "    import datetime\n",
    "    dtime = datetime.datetime.now().strftime('%Y%m%d')\n",
    "    return dtime"
   ]
  },
  {
   "cell_type": "code",
   "execution_count": 3,
   "metadata": {},
   "outputs": [],
   "source": [
    "# 导入autogluon模型\n",
    "model_path = r\"F:\\cache_data\\zone_ana\\qz\\modle\\autogluon_type\""
   ]
  },
  {
   "cell_type": "code",
   "execution_count": 4,
   "metadata": {},
   "outputs": [],
   "source": [
    "# 砂岩\n",
    "sy_sdt_predictor = TabularPredictor.load(os.path.join(os.path.join(model_path,'sy'),'sdt'))\n",
    "sy_fzrt_predictor = TabularPredictor.load(os.path.join(os.path.join(model_path,'sy'),'fzrt'))\n",
    "sy_zrt_predictor = TabularPredictor.load(os.path.join(os.path.join(model_path,'sy'),'zrt'))\n",
    "# 碳酸岩\n",
    "tsy_sdt_predictor = TabularPredictor.load(os.path.join(os.path.join(model_path,'tsy'),'sdt'))\n",
    "tsy_fzrt_predictor = TabularPredictor.load(os.path.join(os.path.join(model_path,'tsy'),'fzrt'))\n",
    "tsy_zrt_predictor = TabularPredictor.load(os.path.join(os.path.join(model_path,'tsy'),'zrt'))\n",
    "# 第四纪红色粘土\n",
    "# hnt_sdt_predictor = TabularPredictor.load(os.path.join(os.path.join(model_path,'hnt'),'sdt'))\n",
    "hnt_fzrt_predictor = TabularPredictor.load(os.path.join(os.path.join(model_path,'hnt'),'fzrt'))\n",
    "hnt_zrt_predictor = TabularPredictor.load(os.path.join(os.path.join(model_path,'hnt'),'zrt'))\n",
    "# 泥页岩\n",
    "nyy_sdt_predictor = TabularPredictor.load(os.path.join(os.path.join(model_path,'nyy'),'sdt'))\n",
    "nyy_fzrt_predictor = TabularPredictor.load(os.path.join(os.path.join(model_path,'nyy'),'fzrt'))\n",
    "nyy_zrt_predictor = TabularPredictor.load(os.path.join(os.path.join(model_path,'nyy'),'zrt'))\n",
    "# 紫红色砂页岩\n",
    "# zhsyy_sdt_predictor = TabularPredictor.load(os.path.join(os.path.join(model_path,'zhsyy'),'sdt'))\n",
    "# zhsyy_fzrt_predictor = TabularPredictor.load(os.path.join(os.path.join(model_path,'zhsyy'),'fzrt'))\n",
    "zhsyy_zrt_predictor = TabularPredictor.load(os.path.join(os.path.join(model_path,'zhs'),'zrt'))\n",
    "# 河流冲积物\n",
    "hlcjw_sdt_predictor = TabularPredictor.load(os.path.join(os.path.join(model_path,'hlcjw'),'sdt'))\n",
    "hlcjw_fzrt_predictor = TabularPredictor.load(os.path.join(os.path.join(model_path,'hlcjw'),'fzrt'))\n",
    "hlcjw_zrt_predictor = TabularPredictor.load(os.path.join(os.path.join(model_path,'hlcjw'),'zrt'))\n",
    "# 砂页岩\n",
    "syy_sdt_predictor = TabularPredictor.load(os.path.join(os.path.join(model_path,'syy'),'sdt'))\n",
    "syy_fzrt_predictor = TabularPredictor.load(os.path.join(os.path.join(model_path,'syy'),'fzrt'))\n",
    "syy_zrt_predictor = TabularPredictor.load(os.path.join(os.path.join(model_path,'syy'),'zrt'))\n",
    "# 玄武岩\n",
    "xwy_sdt_predictor = TabularPredictor.load(os.path.join(os.path.join(model_path,'xw'),'sdt'))\n",
    "xwy_fzrt_predictor = TabularPredictor.load(os.path.join(os.path.join(model_path,'xw'),'fzrt'))\n",
    "xwy_zrt_predictor = TabularPredictor.load(os.path.join(os.path.join(model_path,'xw'),'zrt'))\n"
   ]
  },
  {
   "cell_type": "code",
   "execution_count": 5,
   "metadata": {},
   "outputs": [
    {
     "name": "stdout",
     "output_type": "stream",
     "text": [
      "SDT ['aspect', 'carbonate', 'channelnetworkbaselevel', 'channelnetworkdistance', 'clay_minerals', 'contrast', 'convergenceindex', 'correlation', 'dem', 'dissimilarity', 'entropy', 'etp22_3', 'etp22_mean', 'evi', 'ferrous_minerals', 'hillshade', 'homogeneity', 'lat', 'lon', 'lsfactor', 'mean', 'mndwi', 'mrrtf', 'mrvbf', 'ndvi', 'ndwi', 'night22_', 'pc1', 'pc2', 'plancurvature', 'pre22_3', 'pre22_mean', 'profilecurvature', 'relativeslopeposition', 'rock_outcrop', 'savi', 'secondmoment', 'slope', 'slopepostion', 'terrainruggednessindex', 'tmp22_3', 'tmp22_mean', 'topographicwetnessindex', 'totalcatchmentarea', 'valleydepth', 'vari', 'variance']\n",
      "FZRT ['aspect', 'carbonate', 'channelnetworkbaselevel', 'channelnetworkdistance', 'clay_minerals', 'contrast', 'convergenceindex', 'correlation', 'dem', 'dissimilarity', 'dl', 'entropy', 'etp22_3', 'etp22_mean', 'evi', 'ferrous_minerals', 'hillshade', 'homogeneity', 'lat', 'lon', 'lsfactor', 'mean', 'mndwi', 'mrrtf', 'mrvbf', 'ndvi', 'ndwi', 'night22_', 'pc1', 'pc2', 'plancurvature', 'pre22_3', 'pre22_mean', 'profilecurvature', 'relativeslopeposition', 'rock_outcrop', 'savi', 'secondmoment', 'slope', 'slopepostion', 'terrainruggednessindex', 'tmp22_3', 'tmp22_mean', 'topographicwetnessindex', 'totalcatchmentarea', 'valleydepth', 'vari', 'variance']\n",
      "ZRT ['aspect', 'carbonate', 'channelnetworkbaselevel', 'channelnetworkdistance', 'clay_minerals', 'contrast', 'convergenceindex', 'correlation', 'dem', 'dissimilarity', 'dl', 'dz', 'entropy', 'etp22_3', 'etp22_mean', 'evi', 'ferrous_minerals', 'hillshade', 'homogeneity', 'lat', 'lon', 'lsfactor', 'mean', 'mndwi', 'mrrtf', 'mrvbf', 'ndvi', 'ndwi', 'night22_', 'pc1', 'pc2', 'plancurvature', 'pre22_3', 'pre22_mean', 'profilecurvature', 'relativeslopeposition', 'rock_outcrop', 'savi', 'secondmoment', 'slope', 'slopepostion', 'terrainruggednessindex', 'tmp22_3', 'tmp22_mean', 'topographicwetnessindex', 'totalcatchmentarea', 'valleydepth', 'vari', 'variance']\n"
     ]
    }
   ],
   "source": [
    "# 获取特征函数\n",
    "\n",
    "def get_feature_names(predictor):\n",
    "    feature_names = predictor.feature_metadata_in.get_features()\n",
    "    return feature_names\n",
    "sdt_feature_names = syy_sdt_predictor.feature_metadata_in.get_features()\n",
    "print(\"SDT\",sdt_feature_names)\n",
    "fzrt_feature_names = syy_fzrt_predictor.feature_metadata_in.get_features()\n",
    "print(\"FZRT\",fzrt_feature_names)\n",
    "zrt_feature_names = syy_zrt_predictor.feature_metadata_in.get_features()\n",
    "print(\"ZRT\",zrt_feature_names)"
   ]
  },
  {
   "cell_type": "code",
   "execution_count": 6,
   "metadata": {},
   "outputs": [],
   "source": [
    "# 存放预测结果的路径\n",
    "result_path =  r\"F:\\cache_data\\zone_ana\\qz\\prediction_result\"\n",
    "if not os.path.exists(result_path):\n",
    "    os.makedirs(result_path)\n"
   ]
  },
  {
   "cell_type": "code",
   "execution_count": 7,
   "metadata": {},
   "outputs": [],
   "source": [
    "# 读取数据集\n",
    "feature_path = r\"F:\\cache_data\\zone_ana\\qz\\train_data\\custom_soil_type_predict.csv\""
   ]
  },
  {
   "cell_type": "code",
   "execution_count": 8,
   "metadata": {},
   "outputs": [
    {
     "name": "stderr",
     "output_type": "stream",
     "text": [
      "C:\\Users\\Runker\\AppData\\Local\\Temp\\ipykernel_32524\\3221913873.py:1: DtypeWarning: Columns (20,22,23) have mixed types. Specify dtype option on import or set low_memory=False.\n",
      "  feature_df = pd.read_csv(feature_path)\n"
     ]
    }
   ],
   "source": [
    "feature_df = pd.read_csv(feature_path)"
   ]
  },
  {
   "cell_type": "code",
   "execution_count": 9,
   "metadata": {},
   "outputs": [
    {
     "data": {
      "text/plain": [
       "267282"
      ]
     },
     "execution_count": 9,
     "metadata": {},
     "output_type": "execute_result"
    }
   ],
   "source": [
    "feature_df.shape[0]"
   ]
  },
  {
   "cell_type": "code",
   "execution_count": 10,
   "metadata": {},
   "outputs": [
    {
     "data": {
      "text/plain": [
       "['FID',\n",
       " 'FID_qz_ide',\n",
       " 'FID_qz_sd_',\n",
       " 'OBJECTID',\n",
       " 'BSM',\n",
       " 'YSDM',\n",
       " 'TBYBH',\n",
       " 'TBBH',\n",
       " 'DLBM',\n",
       " 'DLMC',\n",
       " 'QSXZ',\n",
       " 'QSDWDM',\n",
       " 'QSDWMC',\n",
       " 'ZLDWDM',\n",
       " 'ZLDWMC',\n",
       " 'TBMJ',\n",
       " 'KCDLBM',\n",
       " 'KCXS',\n",
       " 'KCMJ',\n",
       " 'TBDLMJ',\n",
       " 'GDLX',\n",
       " 'XZDWKD',\n",
       " 'TBXHDM',\n",
       " 'TBXHMC',\n",
       " 'ZZSXDM',\n",
       " 'ZZSXMC',\n",
       " 'GDDB',\n",
       " 'CZCSXM',\n",
       " 'SJNF',\n",
       " 'MSSM',\n",
       " 'GDPDJB',\n",
       " 'FRDBS',\n",
       " 'HDMC',\n",
       " 'BZ',\n",
       " 'Shape_Leng',\n",
       " 'DLDM',\n",
       " 'DLLB',\n",
       " 'FID_qz_mz_',\n",
       " 'MZMC',\n",
       " 'FID_qz_slo',\n",
       " 'Id',\n",
       " 'gridcode',\n",
       " 'InPoly_FID',\n",
       " 'SmoPgnFlag',\n",
       " 'ORIG_FID',\n",
       " 'area',\n",
       " 'min_width',\n",
       " 'threshold',\n",
       " 'Shape_Le_1',\n",
       " 'Shape_Area',\n",
       " 'geometry',\n",
       " 'aspect_mean',\n",
       " 'carbonate_mean',\n",
       " 'channelnetworkbaselevel_mean',\n",
       " 'channelnetworkdistance_mean',\n",
       " 'clay_minerals_mean',\n",
       " 'contrast_mean',\n",
       " 'convergenceindex_mean',\n",
       " 'correlation_mean',\n",
       " 'dem_mean',\n",
       " 'dissimilarity_mean',\n",
       " 'dl_majority',\n",
       " 'dz_majority',\n",
       " 'entropy_mean',\n",
       " 'etp22_3_mean',\n",
       " 'etp22_mean_mean',\n",
       " 'evi_mean',\n",
       " 'ferrous_minerals_mean',\n",
       " 'hillshade_mean',\n",
       " 'homogeneity_mean',\n",
       " 'lat_mean',\n",
       " 'lon_mean',\n",
       " 'lsfactor_mean',\n",
       " 'lswi_mean',\n",
       " 'mean_mean',\n",
       " 'mndwi_mean',\n",
       " 'mrrtf_mean',\n",
       " 'mrvbf_mean',\n",
       " 'ndmi_mean',\n",
       " 'ndvi_mean',\n",
       " 'ndwi_mean',\n",
       " 'night22__mean',\n",
       " 'pc1_mean',\n",
       " 'pc2_mean',\n",
       " 'plancurvature_mean',\n",
       " 'pre22_3_mean',\n",
       " 'pre22_mean_mean',\n",
       " 'profilecurvature_mean',\n",
       " 'relativeslopeposition_mean',\n",
       " 'rock_outcrop_mean',\n",
       " 'savi_mean',\n",
       " 'secondmoment_mean',\n",
       " 'slope_mean',\n",
       " 'slopepostion_majority',\n",
       " 'terrainruggednessindex_mean',\n",
       " 'tmp22_3_mean',\n",
       " 'tmp22_mean_mean',\n",
       " 'topographicwetnessindex_mean',\n",
       " 'totalcatchmentarea_mean',\n",
       " 'valleydepth_mean',\n",
       " 'vari_mean',\n",
       " 'variance_mean',\n",
       " 'Centroid_X',\n",
       " 'Centroid_Y',\n",
       " 'XMin',\n",
       " 'YMin',\n",
       " 'XMax',\n",
       " 'YMax']"
      ]
     },
     "execution_count": 10,
     "metadata": {},
     "output_type": "execute_result"
    }
   ],
   "source": [
    "[_ for _ in feature_df.columns]"
   ]
  },
  {
   "cell_type": "code",
   "execution_count": 11,
   "metadata": {},
   "outputs": [],
   "source": [
    "# 重命名列\n",
    "# 保留名称中包含'MEAN'、'MAJORITY'和'PCT90'的列,删除其他列\n",
    "keep_cols = ['FID', 'DLBM', 'DLMC', 'DLLB','MZMC','gridcode']  # 保留的基础列\n",
    "keep_cols.extend([col for col in feature_df.columns if 'mean' in col or 'majority' in col or 'PCT90' in col])  # 添加需要保留的特征列\n",
    "\n",
    "# 只保留指定的列\n",
    "feature_df = feature_df[keep_cols]"
   ]
  },
  {
   "cell_type": "code",
   "execution_count": 12,
   "metadata": {},
   "outputs": [
    {
     "data": {
      "text/html": [
       "<div>\n",
       "<style scoped>\n",
       "    .dataframe tbody tr th:only-of-type {\n",
       "        vertical-align: middle;\n",
       "    }\n",
       "\n",
       "    .dataframe tbody tr th {\n",
       "        vertical-align: top;\n",
       "    }\n",
       "\n",
       "    .dataframe thead th {\n",
       "        text-align: right;\n",
       "    }\n",
       "</style>\n",
       "<table border=\"1\" class=\"dataframe\">\n",
       "  <thead>\n",
       "    <tr style=\"text-align: right;\">\n",
       "      <th></th>\n",
       "      <th>FID</th>\n",
       "      <th>dem_mean</th>\n",
       "      <th>dl_majority</th>\n",
       "      <th>dz_majority</th>\n",
       "    </tr>\n",
       "  </thead>\n",
       "  <tbody>\n",
       "    <tr>\n",
       "      <th>0</th>\n",
       "      <td>0</td>\n",
       "      <td>1544.357936</td>\n",
       "      <td>1.0</td>\n",
       "      <td>8.0</td>\n",
       "    </tr>\n",
       "    <tr>\n",
       "      <th>1</th>\n",
       "      <td>1</td>\n",
       "      <td>1339.224935</td>\n",
       "      <td>3.0</td>\n",
       "      <td>5.0</td>\n",
       "    </tr>\n",
       "    <tr>\n",
       "      <th>2</th>\n",
       "      <td>2</td>\n",
       "      <td>1345.616923</td>\n",
       "      <td>3.0</td>\n",
       "      <td>6.0</td>\n",
       "    </tr>\n",
       "    <tr>\n",
       "      <th>3</th>\n",
       "      <td>3</td>\n",
       "      <td>1341.636275</td>\n",
       "      <td>3.0</td>\n",
       "      <td>6.0</td>\n",
       "    </tr>\n",
       "    <tr>\n",
       "      <th>4</th>\n",
       "      <td>4</td>\n",
       "      <td>1289.528739</td>\n",
       "      <td>4.0</td>\n",
       "      <td>2.0</td>\n",
       "    </tr>\n",
       "  </tbody>\n",
       "</table>\n",
       "</div>"
      ],
      "text/plain": [
       "   FID     dem_mean  dl_majority  dz_majority\n",
       "0    0  1544.357936          1.0          8.0\n",
       "1    1  1339.224935          3.0          5.0\n",
       "2    2  1345.616923          3.0          6.0\n",
       "3    3  1341.636275          3.0          6.0\n",
       "4    4  1289.528739          4.0          2.0"
      ]
     },
     "execution_count": 12,
     "metadata": {},
     "output_type": "execute_result"
    }
   ],
   "source": [
    "feature_df.head()[['FID','dem_mean','dl_majority','dz_majority']]\n"
   ]
  },
  {
   "cell_type": "code",
   "execution_count": 13,
   "metadata": {},
   "outputs": [],
   "source": [
    "# 创建一个字典来存储新的列名映射\n",
    "rename_dict = {}\n",
    "\n",
    "# 遍历所有列名\n",
    "for col in feature_df.columns:\n",
    "    if col.endswith('_mean') and col not in ['dl_mean', 'dz_mean']:\n",
    "        # 获取基础名称（去掉后缀）\n",
    "        base_name = col[:-5]  # 去掉'_mean'\n",
    "        rename_dict[col] = base_name\n",
    "            \n",
    "# 直接添加我们想要的两个映射\n",
    "rename_dict['dl_majority'] = 'dl'\n",
    "rename_dict['dz_majority'] = 'dz'\n",
    "rename_dict['slopepostion_majority'] = 'slopepostion'"
   ]
  },
  {
   "cell_type": "code",
   "execution_count": 14,
   "metadata": {},
   "outputs": [
    {
     "data": {
      "text/plain": [
       "{'aspect_mean': 'aspect',\n",
       " 'carbonate_mean': 'carbonate',\n",
       " 'channelnetworkbaselevel_mean': 'channelnetworkbaselevel',\n",
       " 'channelnetworkdistance_mean': 'channelnetworkdistance',\n",
       " 'clay_minerals_mean': 'clay_minerals',\n",
       " 'contrast_mean': 'contrast',\n",
       " 'convergenceindex_mean': 'convergenceindex',\n",
       " 'correlation_mean': 'correlation',\n",
       " 'dem_mean': 'dem',\n",
       " 'dissimilarity_mean': 'dissimilarity',\n",
       " 'entropy_mean': 'entropy',\n",
       " 'etp22_3_mean': 'etp22_3',\n",
       " 'etp22_mean_mean': 'etp22_mean',\n",
       " 'evi_mean': 'evi',\n",
       " 'ferrous_minerals_mean': 'ferrous_minerals',\n",
       " 'hillshade_mean': 'hillshade',\n",
       " 'homogeneity_mean': 'homogeneity',\n",
       " 'lat_mean': 'lat',\n",
       " 'lon_mean': 'lon',\n",
       " 'lsfactor_mean': 'lsfactor',\n",
       " 'lswi_mean': 'lswi',\n",
       " 'mean_mean': 'mean',\n",
       " 'mndwi_mean': 'mndwi',\n",
       " 'mrrtf_mean': 'mrrtf',\n",
       " 'mrvbf_mean': 'mrvbf',\n",
       " 'ndmi_mean': 'ndmi',\n",
       " 'ndvi_mean': 'ndvi',\n",
       " 'ndwi_mean': 'ndwi',\n",
       " 'night22__mean': 'night22_',\n",
       " 'pc1_mean': 'pc1',\n",
       " 'pc2_mean': 'pc2',\n",
       " 'plancurvature_mean': 'plancurvature',\n",
       " 'pre22_3_mean': 'pre22_3',\n",
       " 'pre22_mean_mean': 'pre22_mean',\n",
       " 'profilecurvature_mean': 'profilecurvature',\n",
       " 'relativeslopeposition_mean': 'relativeslopeposition',\n",
       " 'rock_outcrop_mean': 'rock_outcrop',\n",
       " 'savi_mean': 'savi',\n",
       " 'secondmoment_mean': 'secondmoment',\n",
       " 'slope_mean': 'slope',\n",
       " 'terrainruggednessindex_mean': 'terrainruggednessindex',\n",
       " 'tmp22_3_mean': 'tmp22_3',\n",
       " 'tmp22_mean_mean': 'tmp22_mean',\n",
       " 'topographicwetnessindex_mean': 'topographicwetnessindex',\n",
       " 'totalcatchmentarea_mean': 'totalcatchmentarea',\n",
       " 'valleydepth_mean': 'valleydepth',\n",
       " 'vari_mean': 'vari',\n",
       " 'variance_mean': 'variance',\n",
       " 'dl_majority': 'dl',\n",
       " 'dz_majority': 'dz',\n",
       " 'slopepostion_majority': 'slopepostion'}"
      ]
     },
     "execution_count": 14,
     "metadata": {},
     "output_type": "execute_result"
    }
   ],
   "source": [
    "rename_dict"
   ]
  },
  {
   "cell_type": "code",
   "execution_count": 15,
   "metadata": {},
   "outputs": [],
   "source": [
    "# 重命名列\n",
    "feature_df = feature_df.rename(columns=rename_dict)"
   ]
  },
  {
   "cell_type": "code",
   "execution_count": 16,
   "metadata": {},
   "outputs": [
    {
     "data": {
      "text/plain": [
       "['FID',\n",
       " 'DLBM',\n",
       " 'DLMC',\n",
       " 'DLLB',\n",
       " 'MZMC',\n",
       " 'gridcode',\n",
       " 'aspect',\n",
       " 'carbonate',\n",
       " 'channelnetworkbaselevel',\n",
       " 'channelnetworkdistance',\n",
       " 'clay_minerals',\n",
       " 'contrast',\n",
       " 'convergenceindex',\n",
       " 'correlation',\n",
       " 'dem',\n",
       " 'dissimilarity',\n",
       " 'dl',\n",
       " 'dz',\n",
       " 'entropy',\n",
       " 'etp22_3',\n",
       " 'etp22_mean',\n",
       " 'evi',\n",
       " 'ferrous_minerals',\n",
       " 'hillshade',\n",
       " 'homogeneity',\n",
       " 'lat',\n",
       " 'lon',\n",
       " 'lsfactor',\n",
       " 'lswi',\n",
       " 'mean',\n",
       " 'mndwi',\n",
       " 'mrrtf',\n",
       " 'mrvbf',\n",
       " 'ndmi',\n",
       " 'ndvi',\n",
       " 'ndwi',\n",
       " 'night22_',\n",
       " 'pc1',\n",
       " 'pc2',\n",
       " 'plancurvature',\n",
       " 'pre22_3',\n",
       " 'pre22_mean',\n",
       " 'profilecurvature',\n",
       " 'relativeslopeposition',\n",
       " 'rock_outcrop',\n",
       " 'savi',\n",
       " 'secondmoment',\n",
       " 'slope',\n",
       " 'slopepostion',\n",
       " 'terrainruggednessindex',\n",
       " 'tmp22_3',\n",
       " 'tmp22_mean',\n",
       " 'topographicwetnessindex',\n",
       " 'totalcatchmentarea',\n",
       " 'valleydepth',\n",
       " 'vari',\n",
       " 'variance']"
      ]
     },
     "execution_count": 16,
     "metadata": {},
     "output_type": "execute_result"
    }
   ],
   "source": [
    "[_ for _ in feature_df.columns]"
   ]
  },
  {
   "cell_type": "code",
   "execution_count": 17,
   "metadata": {},
   "outputs": [
    {
     "data": {
      "text/html": [
       "<div>\n",
       "<style scoped>\n",
       "    .dataframe tbody tr th:only-of-type {\n",
       "        vertical-align: middle;\n",
       "    }\n",
       "\n",
       "    .dataframe tbody tr th {\n",
       "        vertical-align: top;\n",
       "    }\n",
       "\n",
       "    .dataframe thead th {\n",
       "        text-align: right;\n",
       "    }\n",
       "</style>\n",
       "<table border=\"1\" class=\"dataframe\">\n",
       "  <thead>\n",
       "    <tr style=\"text-align: right;\">\n",
       "      <th></th>\n",
       "      <th>FID</th>\n",
       "      <th>DLBM</th>\n",
       "      <th>DLMC</th>\n",
       "      <th>DLLB</th>\n",
       "      <th>MZMC</th>\n",
       "      <th>gridcode</th>\n",
       "      <th>aspect</th>\n",
       "      <th>carbonate</th>\n",
       "      <th>channelnetworkbaselevel</th>\n",
       "      <th>channelnetworkdistance</th>\n",
       "      <th>...</th>\n",
       "      <th>slope</th>\n",
       "      <th>slopepostion</th>\n",
       "      <th>terrainruggednessindex</th>\n",
       "      <th>tmp22_3</th>\n",
       "      <th>tmp22_mean</th>\n",
       "      <th>topographicwetnessindex</th>\n",
       "      <th>totalcatchmentarea</th>\n",
       "      <th>valleydepth</th>\n",
       "      <th>vari</th>\n",
       "      <th>variance</th>\n",
       "    </tr>\n",
       "  </thead>\n",
       "  <tbody>\n",
       "  </tbody>\n",
       "</table>\n",
       "<p>0 rows × 57 columns</p>\n",
       "</div>"
      ],
      "text/plain": [
       "Empty DataFrame\n",
       "Columns: [FID, DLBM, DLMC, DLLB, MZMC, gridcode, aspect, carbonate, channelnetworkbaselevel, channelnetworkdistance, clay_minerals, contrast, convergenceindex, correlation, dem, dissimilarity, dl, dz, entropy, etp22_3, etp22_mean, evi, ferrous_minerals, hillshade, homogeneity, lat, lon, lsfactor, lswi, mean, mndwi, mrrtf, mrvbf, ndmi, ndvi, ndwi, night22_, pc1, pc2, plancurvature, pre22_3, pre22_mean, profilecurvature, relativeslopeposition, rock_outcrop, savi, secondmoment, slope, slopepostion, terrainruggednessindex, tmp22_3, tmp22_mean, topographicwetnessindex, totalcatchmentarea, valleydepth, vari, variance]\n",
       "Index: []\n",
       "\n",
       "[0 rows x 57 columns]"
      ]
     },
     "execution_count": 17,
     "metadata": {},
     "output_type": "execute_result"
    }
   ],
   "source": [
    "rows_with_nan = feature_df.loc[feature_df.isnull().any(axis=1)]\n",
    "rows_with_nan"
   ]
  },
  {
   "cell_type": "code",
   "execution_count": 18,
   "metadata": {},
   "outputs": [],
   "source": [
    "# 选择数值类型的列\n",
    "numeric_cols = feature_df.select_dtypes(include=[np.float64])\n",
    "\n",
    "# 计算数值列的均值\n",
    "mean_values = numeric_cols.mean()\n",
    "\n",
    "# 用均值填充数值列的空值\n",
    "feature_df[numeric_cols.columns] = numeric_cols.fillna(mean_values)"
   ]
  },
  {
   "cell_type": "code",
   "execution_count": 19,
   "metadata": {},
   "outputs": [
    {
     "data": {
      "text/html": [
       "<div>\n",
       "<style scoped>\n",
       "    .dataframe tbody tr th:only-of-type {\n",
       "        vertical-align: middle;\n",
       "    }\n",
       "\n",
       "    .dataframe tbody tr th {\n",
       "        vertical-align: top;\n",
       "    }\n",
       "\n",
       "    .dataframe thead th {\n",
       "        text-align: right;\n",
       "    }\n",
       "</style>\n",
       "<table border=\"1\" class=\"dataframe\">\n",
       "  <thead>\n",
       "    <tr style=\"text-align: right;\">\n",
       "      <th></th>\n",
       "      <th>FID</th>\n",
       "      <th>DLBM</th>\n",
       "      <th>DLMC</th>\n",
       "      <th>DLLB</th>\n",
       "      <th>MZMC</th>\n",
       "      <th>gridcode</th>\n",
       "      <th>aspect</th>\n",
       "      <th>carbonate</th>\n",
       "      <th>channelnetworkbaselevel</th>\n",
       "      <th>channelnetworkdistance</th>\n",
       "      <th>...</th>\n",
       "      <th>slope</th>\n",
       "      <th>slopepostion</th>\n",
       "      <th>terrainruggednessindex</th>\n",
       "      <th>tmp22_3</th>\n",
       "      <th>tmp22_mean</th>\n",
       "      <th>topographicwetnessindex</th>\n",
       "      <th>totalcatchmentarea</th>\n",
       "      <th>valleydepth</th>\n",
       "      <th>vari</th>\n",
       "      <th>variance</th>\n",
       "    </tr>\n",
       "  </thead>\n",
       "  <tbody>\n",
       "  </tbody>\n",
       "</table>\n",
       "<p>0 rows × 57 columns</p>\n",
       "</div>"
      ],
      "text/plain": [
       "Empty DataFrame\n",
       "Columns: [FID, DLBM, DLMC, DLLB, MZMC, gridcode, aspect, carbonate, channelnetworkbaselevel, channelnetworkdistance, clay_minerals, contrast, convergenceindex, correlation, dem, dissimilarity, dl, dz, entropy, etp22_3, etp22_mean, evi, ferrous_minerals, hillshade, homogeneity, lat, lon, lsfactor, lswi, mean, mndwi, mrrtf, mrvbf, ndmi, ndvi, ndwi, night22_, pc1, pc2, plancurvature, pre22_3, pre22_mean, profilecurvature, relativeslopeposition, rock_outcrop, savi, secondmoment, slope, slopepostion, terrainruggednessindex, tmp22_3, tmp22_mean, topographicwetnessindex, totalcatchmentarea, valleydepth, vari, variance]\n",
       "Index: []\n",
       "\n",
       "[0 rows x 57 columns]"
      ]
     },
     "execution_count": 19,
     "metadata": {},
     "output_type": "execute_result"
    }
   ],
   "source": [
    "rows_with_nan = feature_df.loc[feature_df.isnull().any(axis=1)]\n",
    "rows_with_nan"
   ]
  },
  {
   "cell_type": "code",
   "execution_count": 20,
   "metadata": {},
   "outputs": [],
   "source": [
    "dataset = feature_df"
   ]
  },
  {
   "cell_type": "code",
   "execution_count": 21,
   "metadata": {},
   "outputs": [
    {
     "data": {
      "text/plain": [
       "Index(['FID', 'DLBM', 'DLMC', 'DLLB', 'MZMC', 'gridcode', 'aspect',\n",
       "       'carbonate', 'channelnetworkbaselevel', 'channelnetworkdistance',\n",
       "       'clay_minerals', 'contrast', 'convergenceindex', 'correlation', 'dem',\n",
       "       'dissimilarity', 'dl', 'dz', 'entropy', 'etp22_3', 'etp22_mean', 'evi',\n",
       "       'ferrous_minerals', 'hillshade', 'homogeneity', 'lat', 'lon',\n",
       "       'lsfactor', 'lswi', 'mean', 'mndwi', 'mrrtf', 'mrvbf', 'ndmi', 'ndvi',\n",
       "       'ndwi', 'night22_', 'pc1', 'pc2', 'plancurvature', 'pre22_3',\n",
       "       'pre22_mean', 'profilecurvature', 'relativeslopeposition',\n",
       "       'rock_outcrop', 'savi', 'secondmoment', 'slope', 'slopepostion',\n",
       "       'terrainruggednessindex', 'tmp22_3', 'tmp22_mean',\n",
       "       'topographicwetnessindex', 'totalcatchmentarea', 'valleydepth', 'vari',\n",
       "       'variance'],\n",
       "      dtype='object')"
      ]
     },
     "execution_count": 21,
     "metadata": {},
     "output_type": "execute_result"
    }
   ],
   "source": [
    "dataset.columns"
   ]
  },
  {
   "cell_type": "code",
   "execution_count": 22,
   "metadata": {},
   "outputs": [],
   "source": [
    "\n",
    "duplicated_rows = dataset[dataset['FID'].duplicated(keep=False)]"
   ]
  },
  {
   "cell_type": "code",
   "execution_count": 23,
   "metadata": {},
   "outputs": [
    {
     "data": {
      "text/html": [
       "<div>\n",
       "<style scoped>\n",
       "    .dataframe tbody tr th:only-of-type {\n",
       "        vertical-align: middle;\n",
       "    }\n",
       "\n",
       "    .dataframe tbody tr th {\n",
       "        vertical-align: top;\n",
       "    }\n",
       "\n",
       "    .dataframe thead th {\n",
       "        text-align: right;\n",
       "    }\n",
       "</style>\n",
       "<table border=\"1\" class=\"dataframe\">\n",
       "  <thead>\n",
       "    <tr style=\"text-align: right;\">\n",
       "      <th></th>\n",
       "      <th>FID</th>\n",
       "      <th>DLBM</th>\n",
       "      <th>DLMC</th>\n",
       "      <th>DLLB</th>\n",
       "      <th>MZMC</th>\n",
       "      <th>gridcode</th>\n",
       "      <th>aspect</th>\n",
       "      <th>carbonate</th>\n",
       "      <th>channelnetworkbaselevel</th>\n",
       "      <th>channelnetworkdistance</th>\n",
       "      <th>...</th>\n",
       "      <th>slope</th>\n",
       "      <th>slopepostion</th>\n",
       "      <th>terrainruggednessindex</th>\n",
       "      <th>tmp22_3</th>\n",
       "      <th>tmp22_mean</th>\n",
       "      <th>topographicwetnessindex</th>\n",
       "      <th>totalcatchmentarea</th>\n",
       "      <th>valleydepth</th>\n",
       "      <th>vari</th>\n",
       "      <th>variance</th>\n",
       "    </tr>\n",
       "  </thead>\n",
       "  <tbody>\n",
       "  </tbody>\n",
       "</table>\n",
       "<p>0 rows × 57 columns</p>\n",
       "</div>"
      ],
      "text/plain": [
       "Empty DataFrame\n",
       "Columns: [FID, DLBM, DLMC, DLLB, MZMC, gridcode, aspect, carbonate, channelnetworkbaselevel, channelnetworkdistance, clay_minerals, contrast, convergenceindex, correlation, dem, dissimilarity, dl, dz, entropy, etp22_3, etp22_mean, evi, ferrous_minerals, hillshade, homogeneity, lat, lon, lsfactor, lswi, mean, mndwi, mrrtf, mrvbf, ndmi, ndvi, ndwi, night22_, pc1, pc2, plancurvature, pre22_3, pre22_mean, profilecurvature, relativeslopeposition, rock_outcrop, savi, secondmoment, slope, slopepostion, terrainruggednessindex, tmp22_3, tmp22_mean, topographicwetnessindex, totalcatchmentarea, valleydepth, vari, variance]\n",
       "Index: []\n",
       "\n",
       "[0 rows x 57 columns]"
      ]
     },
     "execution_count": 23,
     "metadata": {},
     "output_type": "execute_result"
    }
   ],
   "source": [
    "duplicated_rows"
   ]
  },
  {
   "cell_type": "code",
   "execution_count": 24,
   "metadata": {},
   "outputs": [
    {
     "data": {
      "text/plain": [
       "{'灰岩': 126891,\n",
       " '白云岩': 67535,\n",
       " '砂岩': 26800,\n",
       " '泥(页)岩': 18026,\n",
       " '河流冲积物': 9612,\n",
       " '粘土岩': 6634,\n",
       " '页岩': 6308,\n",
       " '玄武岩': 2361,\n",
       " '砂页岩': 2022,\n",
       " '泥岩': 984,\n",
       " '第四纪红黏土': 40,\n",
       " '峨嵋山玄武岩': 26,\n",
       " '紫色泥(页)岩': 17,\n",
       " '黑色泥(页)岩': 13,\n",
       " '红色泥(页)岩': 6,\n",
       " '紫红色砂岩': 3,\n",
       " '板岩': 2,\n",
       " '紫色砂岩': 1,\n",
       " '紫红色砂页岩': 1}"
      ]
     },
     "execution_count": 24,
     "metadata": {},
     "output_type": "execute_result"
    }
   ],
   "source": [
    "# 统计总数据中各个岩石类型的总数\n",
    "value_counts_dict = dataset['MZMC'].value_counts().to_dict()\n",
    "value_counts_dict"
   ]
  },
  {
   "cell_type": "code",
   "execution_count": 25,
   "metadata": {},
   "outputs": [
    {
     "name": "stdout",
     "output_type": "stream",
     "text": [
      "26800 26800\n"
     ]
    }
   ],
   "source": [
    "# 筛选砂岩水稻土数据\n",
    "sy_sdt_data = dataset[(dataset['DLLB']=='水稻土') \n",
    "                      & ((dataset['MZMC'] == '砂岩'))]\n",
    "# 筛砂岩选非自然土数据\n",
    "sy_fzrt_data = dataset[(dataset['DLLB']=='非自然土') \n",
    "                       & ((dataset['MZMC'] == '砂岩'))]\n",
    "# 筛选自然土数据\n",
    "sy_zrt_data = dataset[(dataset['DLLB']=='自然土')\n",
    "                   & ((dataset['MZMC'] == '砂岩'))]\n",
    "print(sy_sdt_data.shape[0]+sy_fzrt_data.shape[0]+sy_zrt_data.shape[0],value_counts_dict['砂岩'])"
   ]
  },
  {
   "cell_type": "code",
   "execution_count": 26,
   "metadata": {},
   "outputs": [
    {
     "name": "stdout",
     "output_type": "stream",
     "text": [
      "194426 194426\n"
     ]
    }
   ],
   "source": [
    "# 筛选碳酸岩水稻土数据\n",
    "tsy_sdt_data = dataset[(dataset['DLLB']=='水稻土') \n",
    "                      & ((dataset['MZMC'] == '白云岩')|(dataset['MZMC'] == '灰岩') )]\n",
    "\n",
    "# 筛选碳酸岩选非自然土数据\n",
    "tsy_fzrt_data = dataset[(dataset['DLLB']=='非自然土') \n",
    "                        & ((dataset['MZMC'] == '白云岩')|(dataset['MZMC'] == '灰岩') )]\n",
    "\n",
    "# 筛选碳酸岩自然土数据\n",
    "tsy_zrt_data = dataset[(dataset['DLLB']=='自然土')\n",
    "                   & ((dataset['MZMC'] == '白云岩')|(dataset['MZMC'] == '灰岩'))]\n",
    "print(tsy_sdt_data.shape[0]+tsy_fzrt_data.shape[0]+tsy_zrt_data.shape[0],value_counts_dict['白云岩']+value_counts_dict['灰岩'])"
   ]
  },
  {
   "cell_type": "code",
   "execution_count": 27,
   "metadata": {},
   "outputs": [
    {
     "name": "stdout",
     "output_type": "stream",
     "text": [
      "31973 31973\n"
     ]
    }
   ],
   "source": [
    "# 筛选泥(页)岩水稻土数据\n",
    "nyy_sdt_data = dataset[(dataset['DLLB']=='水稻土')\n",
    "                   & ((dataset['MZMC'] == '泥(页)岩') | (dataset['MZMC'] == '页岩')|\n",
    "                      (dataset['MZMC'] == '粘土岩')|\n",
    "                      (dataset['MZMC'] == '板岩')|\n",
    "                      (dataset['MZMC'] == '泥岩')|\n",
    "                      (dataset['MZMC'] == '红色泥(页)岩')|\n",
    "                      (dataset['MZMC'] == '黑色泥(页)岩'))]\n",
    "\n",
    "# 筛选泥(页)岩非自然土数据\n",
    "nyy_fzrt_data = dataset[(dataset['DLLB']=='非自然土')\n",
    "                       & ((dataset['MZMC'] == '泥(页)岩') | (dataset['MZMC'] == '页岩')|\n",
    "                      (dataset['MZMC'] == '粘土岩')|\n",
    "                      (dataset['MZMC'] == '板岩')|\n",
    "                      (dataset['MZMC'] == '泥岩')|\n",
    "                      (dataset['MZMC'] == '红色泥(页)岩')|\n",
    "                      (dataset['MZMC'] == '黑色泥(页)岩'))]\n",
    "\n",
    "# 筛选泥(页)岩自然土数据\n",
    "nyy_zrt_data = dataset[(dataset['DLLB']=='自然土')\n",
    "                   & ((dataset['MZMC'] == '泥(页)岩') | (dataset['MZMC'] == '页岩')|\n",
    "                      (dataset['MZMC'] == '粘土岩')|\n",
    "                      (dataset['MZMC'] == '板岩')|\n",
    "                      (dataset['MZMC'] == '泥岩')|\n",
    "                      (dataset['MZMC'] == '红色泥(页)岩')|\n",
    "                      (dataset['MZMC'] == '黑色泥(页)岩'))]\n",
    "print(nyy_sdt_data.shape[0]+nyy_fzrt_data.shape[0]+nyy_zrt_data.shape[0],value_counts_dict['泥(页)岩']+value_counts_dict['页岩']+value_counts_dict['粘土岩']+value_counts_dict['板岩']+value_counts_dict['泥岩']+value_counts_dict['红色泥(页)岩']+value_counts_dict['黑色泥(页)岩'])"
   ]
  },
  {
   "cell_type": "code",
   "execution_count": 28,
   "metadata": {},
   "outputs": [
    {
     "name": "stdout",
     "output_type": "stream",
     "text": [
      "9612 9612\n"
     ]
    }
   ],
   "source": [
    "# 筛选河流冲积物水稻土数据\n",
    "hlcjw_sdt_data = dataset[(dataset['DLLB']=='水稻土') \n",
    "                      &(dataset['MZMC'] == '河流冲积物')]\n",
    "# 筛选河流冲积物非自然土数据\n",
    "hlcjw_fzrt_data = dataset[(dataset['DLLB']=='非自然土') \n",
    "                       & (dataset['MZMC'] == '河流冲积物')]\n",
    "# 筛选河流冲积物自然土数据\n",
    "hlcjw_zrt_data = dataset[(dataset['DLLB']=='自然土')\n",
    "                   & (dataset['MZMC'] == '河流冲积物')]\n",
    "print(hlcjw_sdt_data.shape[0]+hlcjw_fzrt_data.shape[0]+hlcjw_zrt_data.shape[0],value_counts_dict['河流冲积物'])"
   ]
  },
  {
   "cell_type": "code",
   "execution_count": 29,
   "metadata": {},
   "outputs": [
    {
     "name": "stdout",
     "output_type": "stream",
     "text": [
      "2022 2022\n"
     ]
    }
   ],
   "source": [
    "# 筛选砂页岩水稻土数据\n",
    "syy_sdt_data = dataset[(dataset['DLLB']=='水稻土') \n",
    "                      & ((dataset['MZMC'] == '砂页岩'))]\n",
    "\n",
    "# 筛选砂页岩非自然土数据\n",
    "syy_fzrt_data = dataset[(dataset['DLLB']=='非自然土') \n",
    "                       & ((dataset['MZMC'] == '砂页岩'))]\n",
    "\n",
    "# 筛选砂页岩自然土数据\n",
    "syy_zrt_data = dataset[(dataset['DLLB']=='自然土')\n",
    "                   & ((dataset['MZMC'] == '砂页岩'))]\n",
    "print(syy_sdt_data.shape[0]+syy_fzrt_data.shape[0]+syy_zrt_data.shape[0],value_counts_dict['砂页岩'])\n"
   ]
  },
  {
   "cell_type": "code",
   "execution_count": 30,
   "metadata": {},
   "outputs": [
    {
     "name": "stdout",
     "output_type": "stream",
     "text": [
      "2387 2387\n"
     ]
    }
   ],
   "source": [
    "# 筛选玄武岩水稻土数据\n",
    "xwy_sdt_data = dataset[(dataset['DLLB']=='水稻土') \n",
    "                      & ((dataset['MZMC'] == '玄武岩') |(dataset['MZMC'] == '峨嵋山玄武岩'))]\n",
    "# 筛选玄武岩非自然土数据 \n",
    "xwy_fzrt_data = dataset[(dataset['DLLB']=='非自然土') \n",
    "                       & ((dataset['MZMC'] == '玄武岩') |(dataset['MZMC'] == '峨嵋山玄武岩'))]\n",
    "\n",
    "# 筛选玄武岩自然土数据\n",
    "xwy_zrt_data = dataset[(dataset['DLLB']=='自然土')\n",
    "                   & ((dataset['MZMC'] == '玄武岩') |(dataset['MZMC'] == '峨嵋山玄武岩'))]\n",
    "print(xwy_sdt_data.shape[0]+xwy_fzrt_data.shape[0]+xwy_zrt_data.shape[0],value_counts_dict['玄武岩']+value_counts_dict['峨嵋山玄武岩'])\n"
   ]
  },
  {
   "cell_type": "code",
   "execution_count": 33,
   "metadata": {},
   "outputs": [
    {
     "name": "stdout",
     "output_type": "stream",
     "text": [
      "40 40\n"
     ]
    }
   ],
   "source": [
    "# 筛选第四纪红色粘土水稻土数据\n",
    "hnt_sdt_data = dataset[(dataset['DLLB']=='水稻土') \n",
    "                      & ((dataset['MZMC'] == '第四纪红黏土'))]\n",
    "\n",
    "# 筛选第四纪红色粘土非自然土数据 \n",
    "hnt_fzrt_data = dataset[(dataset['DLLB']=='非自然土') \n",
    "                       & ((dataset['MZMC'] == '第四纪红黏土'))]\n",
    "\n",
    "# 筛选第四纪红色粘土自然土数据\n",
    "hnt_zrt_data = dataset[(dataset['DLLB']=='自然土')\n",
    "                   & ((dataset['MZMC'] == '第四纪红黏土'))]\n",
    "print(hnt_sdt_data.shape[0]+hnt_fzrt_data.shape[0]+hnt_zrt_data.shape[0],value_counts_dict['第四纪红黏土'])\n",
    "\n"
   ]
  },
  {
   "cell_type": "code",
   "execution_count": 35,
   "metadata": {},
   "outputs": [
    {
     "name": "stdout",
     "output_type": "stream",
     "text": [
      "22 22\n"
     ]
    }
   ],
   "source": [
    "# 筛选紫红色砂岩水稻土数据\n",
    "zhs_sdt_data = dataset[(dataset['DLLB']=='水稻土') \n",
    "                      & ((dataset['MZMC'] == '紫红色砂岩') |(dataset['MZMC'] == '紫色泥(页)岩')|(dataset['MZMC'] == '紫红色砂页岩')|(dataset['MZMC'] == '紫色砂岩'))]\n",
    "\n",
    "# 筛选紫红色砂岩非自然土数据 \n",
    "zhs_fzrt_data = dataset[(dataset['DLLB']=='非自然土') \n",
    "                       & ((dataset['MZMC'] == '紫红色砂岩') |(dataset['MZMC'] == '紫色泥(页)岩')|(dataset['MZMC'] == '紫红色砂页岩')|(dataset['MZMC'] == '紫色砂岩'))]\n",
    "\n",
    "# 筛选紫红色砂岩自然土数据\n",
    "zhs_zrt_data = dataset[(dataset['DLLB']=='自然土')\n",
    "                   & ((dataset['MZMC'] == '紫红色砂岩') |(dataset['MZMC'] == '紫色泥(页)岩')|(dataset['MZMC'] == '紫红色砂页岩')|(dataset['MZMC'] == '紫色砂岩'))]\n",
    "print(zhs_sdt_data.shape[0]+zhs_fzrt_data.shape[0]+zhs_zrt_data.shape[0],value_counts_dict['紫红色砂岩']+value_counts_dict['紫色泥(页)岩']+value_counts_dict['紫红色砂页岩']+value_counts_dict['紫色砂岩'])\n"
   ]
  },
  {
   "cell_type": "code",
   "execution_count": 37,
   "metadata": {},
   "outputs": [
    {
     "name": "stdout",
     "output_type": "stream",
     "text": [
      "砂岩 (2858, 57) (12429, 57) (11513, 57)\n",
      "碳酸盐岩 (12834, 57) (105128, 57) (76464, 57)\n",
      "泥页岩 (4043, 57) (15510, 57) (12420, 57)\n",
      "河流冲积物 (3325, 57) (4222, 57) (2065, 57)\n",
      "砂(页)岩 (327, 57) (633, 57) (1062, 57)\n",
      "玄武岩 (132, 57) (863, 57) (1392, 57)\n",
      "第四纪红黏土 (0, 57) (13, 57) (27, 57)\n",
      "紫红色砂岩 (2, 57) (3, 57) (17, 57)\n",
      "267282\n",
      "267282\n"
     ]
    }
   ],
   "source": [
    "# 查看各个数据集的大小\n",
    "print('砂岩',sy_sdt_data.shape,sy_fzrt_data.shape,sy_zrt_data.shape)\n",
    "print('碳酸盐岩',tsy_sdt_data.shape,tsy_fzrt_data.shape,tsy_zrt_data.shape)\n",
    "print('泥页岩',nyy_sdt_data.shape,nyy_fzrt_data.shape,nyy_zrt_data.shape)\n",
    "print('河流冲积物',hlcjw_sdt_data.shape,hlcjw_fzrt_data.shape,hlcjw_zrt_data.shape)\n",
    "print('砂(页)岩',syy_sdt_data.shape,syy_fzrt_data.shape,syy_zrt_data.shape)\n",
    "print('玄武岩',xwy_sdt_data.shape,xwy_fzrt_data.shape,xwy_zrt_data.shape)\n",
    "print('第四纪红黏土',hnt_sdt_data.shape,hnt_fzrt_data.shape,hnt_zrt_data.shape)\n",
    "print('紫红色砂岩',zhs_sdt_data.shape,zhs_fzrt_data.shape,zhs_zrt_data.shape)\n",
    "# 计算总和\n",
    "print(sy_sdt_data.shape[0]+sy_fzrt_data.shape[0]+sy_zrt_data.shape[0]+tsy_sdt_data.shape[0]+tsy_fzrt_data.shape[0]+tsy_zrt_data.shape[0]+nyy_sdt_data.shape[0]+nyy_fzrt_data.shape[0]+nyy_zrt_data.shape[0]+hlcjw_sdt_data.shape[0]+hlcjw_fzrt_data.shape[0]+ hlcjw_zrt_data.shape[0]+syy_sdt_data.shape[0]+syy_fzrt_data.shape[0]+syy_zrt_data.shape[0]+xwy_sdt_data.shape[0]+xwy_fzrt_data.shape[0]+xwy_zrt_data.shape[0]+hnt_sdt_data.shape[0]+hnt_fzrt_data.shape[0]+hnt_zrt_data.shape[0]+zhs_sdt_data.shape[0]+zhs_fzrt_data.shape[0]+zhs_zrt_data.shape[0])\n",
    "# 数据总和\n",
    "print(feature_df.shape[0])\n"
   ]
  },
  {
   "cell_type": "code",
   "execution_count": 38,
   "metadata": {},
   "outputs": [],
   "source": [
    "# 获取对照字典\n",
    "with open(r'D:\\worker_code\\Terrain_Test\\data\\soil_dict_20250227_qz.json', 'r') as f:\n",
    "    soil_dict = json.load(f)\n",
    "# 将键转为int\n",
    "soil_dict = {int(k):v for k, v in soil_dict.items()}"
   ]
  },
  {
   "cell_type": "code",
   "execution_count": 39,
   "metadata": {},
   "outputs": [
    {
     "data": {
      "text/plain": [
       "['NeuralNetFastAI',\n",
       " 'RandomForestGini',\n",
       " 'RandomForestEntr',\n",
       " 'NeuralNetTorch',\n",
       " 'WeightedEnsemble_L2']"
      ]
     },
     "execution_count": 39,
     "metadata": {},
     "output_type": "execute_result"
    }
   ],
   "source": [
    "tsy_sdt_predictor.model_names()"
   ]
  },
  {
   "cell_type": "code",
   "execution_count": 40,
   "metadata": {},
   "outputs": [],
   "source": [
    "# 模型选择\n",
    "# select_model = 'WeightedEnsemble_L2'\n",
    "select_model = 'RandomForestEntr'\n",
    "# select_model = 'RandomForestEntr'"
   ]
  },
  {
   "cell_type": "code",
   "execution_count": 41,
   "metadata": {},
   "outputs": [],
   "source": [
    "# 概率预测函数\n",
    "def predict_top_classes(data, predictor,feature_names, model, top_n, soil_dict):\n",
    "    \"\"\"\n",
    "    根据给定的AutoGluon模型，预测数据集中的前n个最可能的类别及其概率，并根据提供的字典转换类别编号为描述字符串。\n",
    "    参数:\n",
    "    data (DataFrame): 输入的数据集。\n",
    "    predictor（model）: 对应的模型\n",
    "    feature_names (list): 用于预测的特征名列表。\n",
    "    model (str): 选择的模型名称。\n",
    "    top_n (int): 需要返回的最高概率的类别数量。\n",
    "    soil_dict (dict): 类别编号到描述字符串的映射字典。\n",
    "    \n",
    "    返回:\n",
    "    DataFrame: 原始数据与预测结果合并后的DataFrame。\n",
    "    \"\"\"\n",
    "    # 复制数据\n",
    "    data = data.copy()\n",
    "    # 预测概率\n",
    "    pred_probs = predictor.predict_proba(data[feature_names], model=model)\n",
    "    # 获取概率最高的前n个类别及其概率\n",
    "    top_classes = pred_probs.apply(lambda x: pd.Series(x.nlargest(top_n).index.astype(int).tolist() + x.nlargest(top_n).values.tolist()), axis=1)\n",
    "    # 重命名列\n",
    "    class_cols = ['Class{}'.format(i+1) for i in range(top_n)]\n",
    "    prob_cols = ['Prob{}'.format(i+1) for i in range(top_n)]\n",
    "    top_classes.columns = class_cols + prob_cols\n",
    "    # 转换类别编号为描述字符串\n",
    "    for col in class_cols:\n",
    "        top_classes[col] = top_classes[col].map(soil_dict)\n",
    "    # 计算每个预测的熵\n",
    "    entropy = pred_probs.apply(lambda x: -np.sum(x * np.log(x + 1e-9)), axis=1)\n",
    "    top_classes['Entropy'] = entropy\n",
    "    # 计算每个预测的不确定性（标准差）\n",
    "    uncertainty = pred_probs.std(axis=1)\n",
    "    top_classes['Uncertainty'] = uncertainty\n",
    "    # 将新列添加到原有的DataFrame中\n",
    "    return pd.concat([data, top_classes], axis=1)"
   ]
  },
  {
   "cell_type": "code",
   "execution_count": 42,
   "metadata": {},
   "outputs": [
    {
     "data": {
      "text/plain": [
       "Index(['FID', 'DLBM', 'DLMC', 'DLLB', 'MZMC', 'gridcode', 'aspect',\n",
       "       'carbonate', 'channelnetworkbaselevel', 'channelnetworkdistance',\n",
       "       'clay_minerals', 'contrast', 'convergenceindex', 'correlation', 'dem',\n",
       "       'dissimilarity', 'dl', 'dz', 'entropy', 'etp22_3', 'etp22_mean', 'evi',\n",
       "       'ferrous_minerals', 'hillshade', 'homogeneity', 'lat', 'lon',\n",
       "       'lsfactor', 'lswi', 'mean', 'mndwi', 'mrrtf', 'mrvbf', 'ndmi', 'ndvi',\n",
       "       'ndwi', 'night22_', 'pc1', 'pc2', 'plancurvature', 'pre22_3',\n",
       "       'pre22_mean', 'profilecurvature', 'relativeslopeposition',\n",
       "       'rock_outcrop', 'savi', 'secondmoment', 'slope', 'slopepostion',\n",
       "       'terrainruggednessindex', 'tmp22_3', 'tmp22_mean',\n",
       "       'topographicwetnessindex', 'totalcatchmentarea', 'valleydepth', 'vari',\n",
       "       'variance'],\n",
       "      dtype='object')"
      ]
     },
     "execution_count": 42,
     "metadata": {},
     "output_type": "execute_result"
    }
   ],
   "source": [
    "sy_sdt_data.columns"
   ]
  },
  {
   "cell_type": "code",
   "execution_count": 43,
   "metadata": {},
   "outputs": [
    {
     "name": "stdout",
     "output_type": "stream",
     "text": [
      "砂岩数据预测\n",
      "碳酸盐岩数据预测\n",
      "泥页岩数据预测\n",
      "河流冲积物数据预测\n",
      "砂(页)岩数据预测\n",
      "玄武岩数据预测\n",
      "第四纪红黏土数据预测\n",
      "紫红色砂岩数据预测\n"
     ]
    }
   ],
   "source": [
    "# 模型预测\n",
    "print(\"砂岩数据预测\")\n",
    "sy_sdt_result_df = predict_top_classes(sy_sdt_data, sy_sdt_predictor,get_feature_names(sy_sdt_predictor), select_model, 2, soil_dict)\n",
    "sy_fzrt_result_df = predict_top_classes(sy_fzrt_data, sy_fzrt_predictor,get_feature_names(sy_fzrt_predictor), select_model, 2, soil_dict)\n",
    "sy_zrt_result_df = predict_top_classes(sy_zrt_data, sy_zrt_predictor,get_feature_names(sy_zrt_predictor), select_model, 2, soil_dict)\n",
    "\n",
    "print(\"碳酸盐岩数据预测\")\n",
    "tsy_sdt_result_df = predict_top_classes(tsy_sdt_data, tsy_sdt_predictor,get_feature_names(tsy_sdt_predictor), select_model, 2, soil_dict)\n",
    "tsy_fzrt_result_df = predict_top_classes(tsy_fzrt_data, tsy_fzrt_predictor,get_feature_names(tsy_fzrt_predictor), select_model, 2, soil_dict)\n",
    "tsy_zrt_result_df = predict_top_classes(tsy_zrt_data, tsy_zrt_predictor,get_feature_names(tsy_zrt_predictor), select_model, 2, soil_dict)\n",
    "\n",
    "print(\"泥页岩数据预测\")\n",
    "nyy_sdt_result_df = predict_top_classes(nyy_sdt_data, nyy_sdt_predictor,get_feature_names(nyy_sdt_predictor), select_model, 2, soil_dict)\n",
    "nyy_fzrt_result_df = predict_top_classes(nyy_fzrt_data, nyy_fzrt_predictor,get_feature_names(nyy_fzrt_predictor), select_model, 2, soil_dict)\n",
    "nyy_zrt_result_df = predict_top_classes(nyy_zrt_data, nyy_zrt_predictor,get_feature_names(nyy_zrt_predictor), select_model, 2, soil_dict)\n",
    "\n",
    "print(\"河流冲积物数据预测\")\n",
    "hlcjw_sdt_result_df = predict_top_classes(hlcjw_sdt_data, hlcjw_sdt_predictor,get_feature_names(hlcjw_sdt_predictor), select_model, 2, soil_dict)\n",
    "hlcjw_fzrt_result_df = predict_top_classes(hlcjw_fzrt_data, hlcjw_fzrt_predictor,get_feature_names(hlcjw_fzrt_predictor), select_model, 2, soil_dict)\n",
    "hlcjw_zrt_result_df = predict_top_classes(hlcjw_zrt_data, hlcjw_zrt_predictor,get_feature_names(hlcjw_zrt_predictor), select_model, 2, soil_dict)\n",
    "\n",
    "print(\"砂(页)岩数据预测\")\n",
    "syy_sdt_result_df = predict_top_classes(syy_sdt_data, syy_sdt_predictor,get_feature_names(syy_sdt_predictor), select_model, 2, soil_dict)\n",
    "syy_fzrt_result_df = predict_top_classes(syy_fzrt_data, syy_fzrt_predictor,get_feature_names(syy_fzrt_predictor), select_model, 2, soil_dict)\n",
    "syy_zrt_result_df = predict_top_classes(syy_zrt_data, syy_zrt_predictor,get_feature_names(syy_zrt_predictor), select_model, 2, soil_dict)\n",
    "\n",
    "print(\"玄武岩数据预测\")\n",
    "xwy_sdt_result_df = predict_top_classes(xwy_sdt_data, xwy_sdt_predictor,get_feature_names(xwy_sdt_predictor), select_model, 2, soil_dict)\n",
    "xwy_fzrt_result_df = predict_top_classes(xwy_fzrt_data, xwy_fzrt_predictor,get_feature_names(xwy_fzrt_predictor), select_model, 2, soil_dict)\n",
    "xwy_zrt_result_df = predict_top_classes(xwy_zrt_data, xwy_zrt_predictor,get_feature_names(xwy_zrt_predictor), select_model, 2, soil_dict)\n",
    "\n",
    "print(\"第四纪红黏土数据预测\")\n",
    "# hnt_sdt_result_df = predict_top_classes(hnt_sdt_data, hnt_sdt_predictor,get_feature_names(hnt_sdt_predictor), select_model, 2, soil_dict)\n",
    "hnt_fzrt_result_df = predict_top_classes(hnt_fzrt_data, hnt_fzrt_predictor,get_feature_names(hnt_fzrt_predictor), select_model, 2, soil_dict)\n",
    "hnt_zrt_result_df = predict_top_classes(hnt_zrt_data, hnt_zrt_predictor,get_feature_names(hnt_zrt_predictor), select_model, 2, soil_dict)\n",
    "\n",
    "print(\"紫红色砂岩数据预测\")\n",
    "# zhs_sdt_result_df = predict_top_classes(zhs_sdt_data, zhssyy_sdt_predictor,get_feature_names(zhs_sdt_predictor), select_model, 2, soil_dict)\n",
    "# zhs_fzrt_result_df = predict_top_classes(zhs_fzrt_data, zhs_fzrt_predictor,get_feature_names(zhs_fzrt_predictor), select_model, 2, soil_dict)\n",
    "zhs_zrt_result_df = predict_top_classes(zhs_zrt_data, zhsyy_zrt_predictor,get_feature_names(zhsyy_zrt_predictor), select_model, 2, soil_dict)"
   ]
  },
  {
   "cell_type": "code",
   "execution_count": 44,
   "metadata": {},
   "outputs": [],
   "source": [
    "# 将所有的DataFrame放入一个列表中\n",
    "dfs = [\n",
    "    sy_sdt_result_df, sy_fzrt_result_df, sy_zrt_result_df,\n",
    "    tsy_sdt_result_df, tsy_fzrt_result_df, tsy_zrt_result_df,\n",
    "    nyy_sdt_result_df, nyy_fzrt_result_df, nyy_zrt_result_df,\n",
    "    hlcjw_sdt_result_df,hlcjw_fzrt_result_df, hlcjw_zrt_result_df,\n",
    "    syy_sdt_result_df, syy_fzrt_result_df, syy_zrt_result_df,\n",
    "    xwy_sdt_result_df,xwy_fzrt_result_df, xwy_zrt_result_df,\n",
    "    hnt_fzrt_result_df,hnt_zrt_result_df,\n",
    "    zhs_zrt_result_df\n",
    "]\n",
    "\n",
    "# 使用pd.concat合并所有的DataFrame\n",
    "result_df = pd.concat(dfs, ignore_index=True)\n"
   ]
  },
  {
   "cell_type": "code",
   "execution_count": 45,
   "metadata": {},
   "outputs": [
    {
     "data": {
      "text/plain": [
       "Index(['FID', 'DLBM', 'DLMC', 'DLLB', 'MZMC', 'gridcode', 'aspect',\n",
       "       'carbonate', 'channelnetworkbaselevel', 'channelnetworkdistance',\n",
       "       'clay_minerals', 'contrast', 'convergenceindex', 'correlation', 'dem',\n",
       "       'dissimilarity', 'dl', 'dz', 'entropy', 'etp22_3', 'etp22_mean', 'evi',\n",
       "       'ferrous_minerals', 'hillshade', 'homogeneity', 'lat', 'lon',\n",
       "       'lsfactor', 'lswi', 'mean', 'mndwi', 'mrrtf', 'mrvbf', 'ndmi', 'ndvi',\n",
       "       'ndwi', 'night22_', 'pc1', 'pc2', 'plancurvature', 'pre22_3',\n",
       "       'pre22_mean', 'profilecurvature', 'relativeslopeposition',\n",
       "       'rock_outcrop', 'savi', 'secondmoment', 'slope', 'slopepostion',\n",
       "       'terrainruggednessindex', 'tmp22_3', 'tmp22_mean',\n",
       "       'topographicwetnessindex', 'totalcatchmentarea', 'valleydepth', 'vari',\n",
       "       'variance', 'Class1', 'Class2', 'Prob1', 'Prob2', 'Entropy',\n",
       "       'Uncertainty'],\n",
       "      dtype='object')"
      ]
     },
     "execution_count": 45,
     "metadata": {},
     "output_type": "execute_result"
    }
   ],
   "source": [
    "result_df.columns"
   ]
  },
  {
   "cell_type": "code",
   "execution_count": 46,
   "metadata": {},
   "outputs": [
    {
     "data": {
      "text/html": [
       "<div>\n",
       "<style scoped>\n",
       "    .dataframe tbody tr th:only-of-type {\n",
       "        vertical-align: middle;\n",
       "    }\n",
       "\n",
       "    .dataframe tbody tr th {\n",
       "        vertical-align: top;\n",
       "    }\n",
       "\n",
       "    .dataframe thead th {\n",
       "        text-align: right;\n",
       "    }\n",
       "</style>\n",
       "<table border=\"1\" class=\"dataframe\">\n",
       "  <thead>\n",
       "    <tr style=\"text-align: right;\">\n",
       "      <th></th>\n",
       "      <th>FID</th>\n",
       "      <th>DLBM</th>\n",
       "      <th>DLMC</th>\n",
       "      <th>DLLB</th>\n",
       "      <th>MZMC</th>\n",
       "      <th>gridcode</th>\n",
       "      <th>aspect</th>\n",
       "      <th>carbonate</th>\n",
       "      <th>channelnetworkbaselevel</th>\n",
       "      <th>channelnetworkdistance</th>\n",
       "      <th>...</th>\n",
       "      <th>totalcatchmentarea</th>\n",
       "      <th>valleydepth</th>\n",
       "      <th>vari</th>\n",
       "      <th>variance</th>\n",
       "      <th>Class1</th>\n",
       "      <th>Class2</th>\n",
       "      <th>Prob1</th>\n",
       "      <th>Prob2</th>\n",
       "      <th>Entropy</th>\n",
       "      <th>Uncertainty</th>\n",
       "    </tr>\n",
       "  </thead>\n",
       "  <tbody>\n",
       "    <tr>\n",
       "      <th>0</th>\n",
       "      <td>214</td>\n",
       "      <td>101</td>\n",
       "      <td>水田</td>\n",
       "      <td>水稻土</td>\n",
       "      <td>砂岩</td>\n",
       "      <td>1.0</td>\n",
       "      <td>2.046521</td>\n",
       "      <td>-0.038033</td>\n",
       "      <td>1333.869088</td>\n",
       "      <td>1.579550</td>\n",
       "      <td>...</td>\n",
       "      <td>1021.248522</td>\n",
       "      <td>67.906620</td>\n",
       "      <td>0.065079</td>\n",
       "      <td>1.370037</td>\n",
       "      <td>黄白粉泥田</td>\n",
       "      <td>重漂砂泥田</td>\n",
       "      <td>0.593333</td>\n",
       "      <td>0.313333</td>\n",
       "      <td>0.976506</td>\n",
       "      <td>0.240120</td>\n",
       "    </tr>\n",
       "    <tr>\n",
       "      <th>1</th>\n",
       "      <td>358</td>\n",
       "      <td>101</td>\n",
       "      <td>水田</td>\n",
       "      <td>水稻土</td>\n",
       "      <td>砂岩</td>\n",
       "      <td>4.0</td>\n",
       "      <td>2.993362</td>\n",
       "      <td>-0.012320</td>\n",
       "      <td>1313.985804</td>\n",
       "      <td>7.031238</td>\n",
       "      <td>...</td>\n",
       "      <td>945.578561</td>\n",
       "      <td>18.777816</td>\n",
       "      <td>0.022454</td>\n",
       "      <td>0.383298</td>\n",
       "      <td>黄浅白粉泥田</td>\n",
       "      <td>黄白粉泥田</td>\n",
       "      <td>0.566667</td>\n",
       "      <td>0.286667</td>\n",
       "      <td>1.025833</td>\n",
       "      <td>0.224668</td>\n",
       "    </tr>\n",
       "    <tr>\n",
       "      <th>2</th>\n",
       "      <td>713</td>\n",
       "      <td>101</td>\n",
       "      <td>水田</td>\n",
       "      <td>水稻土</td>\n",
       "      <td>砂岩</td>\n",
       "      <td>2.0</td>\n",
       "      <td>2.126237</td>\n",
       "      <td>-0.097714</td>\n",
       "      <td>1313.124057</td>\n",
       "      <td>1.862107</td>\n",
       "      <td>...</td>\n",
       "      <td>3371.225754</td>\n",
       "      <td>53.331800</td>\n",
       "      <td>0.192168</td>\n",
       "      <td>1.327373</td>\n",
       "      <td>黄白粉泥田</td>\n",
       "      <td>重漂砂泥田</td>\n",
       "      <td>0.550000</td>\n",
       "      <td>0.333333</td>\n",
       "      <td>1.013615</td>\n",
       "      <td>0.226304</td>\n",
       "    </tr>\n",
       "    <tr>\n",
       "      <th>3</th>\n",
       "      <td>912</td>\n",
       "      <td>101</td>\n",
       "      <td>水田</td>\n",
       "      <td>水稻土</td>\n",
       "      <td>砂岩</td>\n",
       "      <td>1.0</td>\n",
       "      <td>3.697505</td>\n",
       "      <td>-0.037261</td>\n",
       "      <td>1312.186906</td>\n",
       "      <td>1.041435</td>\n",
       "      <td>...</td>\n",
       "      <td>8506.629076</td>\n",
       "      <td>57.270349</td>\n",
       "      <td>0.061230</td>\n",
       "      <td>1.488459</td>\n",
       "      <td>黄白粉泥田</td>\n",
       "      <td>重漂砂泥田</td>\n",
       "      <td>0.693333</td>\n",
       "      <td>0.180000</td>\n",
       "      <td>0.894392</td>\n",
       "      <td>0.267407</td>\n",
       "    </tr>\n",
       "    <tr>\n",
       "      <th>4</th>\n",
       "      <td>913</td>\n",
       "      <td>101</td>\n",
       "      <td>水田</td>\n",
       "      <td>水稻土</td>\n",
       "      <td>砂岩</td>\n",
       "      <td>2.0</td>\n",
       "      <td>4.540098</td>\n",
       "      <td>-0.121593</td>\n",
       "      <td>1314.271412</td>\n",
       "      <td>3.010096</td>\n",
       "      <td>...</td>\n",
       "      <td>1704.787037</td>\n",
       "      <td>52.627600</td>\n",
       "      <td>0.210921</td>\n",
       "      <td>1.853681</td>\n",
       "      <td>黄白粉泥田</td>\n",
       "      <td>黄浅白粉泥田</td>\n",
       "      <td>0.656667</td>\n",
       "      <td>0.210000</td>\n",
       "      <td>0.958896</td>\n",
       "      <td>0.252323</td>\n",
       "    </tr>\n",
       "  </tbody>\n",
       "</table>\n",
       "<p>5 rows × 63 columns</p>\n",
       "</div>"
      ],
      "text/plain": [
       "   FID  DLBM DLMC DLLB MZMC  gridcode    aspect  carbonate  \\\n",
       "0  214   101   水田  水稻土   砂岩       1.0  2.046521  -0.038033   \n",
       "1  358   101   水田  水稻土   砂岩       4.0  2.993362  -0.012320   \n",
       "2  713   101   水田  水稻土   砂岩       2.0  2.126237  -0.097714   \n",
       "3  912   101   水田  水稻土   砂岩       1.0  3.697505  -0.037261   \n",
       "4  913   101   水田  水稻土   砂岩       2.0  4.540098  -0.121593   \n",
       "\n",
       "   channelnetworkbaselevel  channelnetworkdistance  ...  totalcatchmentarea  \\\n",
       "0              1333.869088                1.579550  ...         1021.248522   \n",
       "1              1313.985804                7.031238  ...          945.578561   \n",
       "2              1313.124057                1.862107  ...         3371.225754   \n",
       "3              1312.186906                1.041435  ...         8506.629076   \n",
       "4              1314.271412                3.010096  ...         1704.787037   \n",
       "\n",
       "   valleydepth      vari  variance  Class1  Class2     Prob1     Prob2  \\\n",
       "0    67.906620  0.065079  1.370037   黄白粉泥田   重漂砂泥田  0.593333  0.313333   \n",
       "1    18.777816  0.022454  0.383298  黄浅白粉泥田   黄白粉泥田  0.566667  0.286667   \n",
       "2    53.331800  0.192168  1.327373   黄白粉泥田   重漂砂泥田  0.550000  0.333333   \n",
       "3    57.270349  0.061230  1.488459   黄白粉泥田   重漂砂泥田  0.693333  0.180000   \n",
       "4    52.627600  0.210921  1.853681   黄白粉泥田  黄浅白粉泥田  0.656667  0.210000   \n",
       "\n",
       "    Entropy  Uncertainty  \n",
       "0  0.976506     0.240120  \n",
       "1  1.025833     0.224668  \n",
       "2  1.013615     0.226304  \n",
       "3  0.894392     0.267407  \n",
       "4  0.958896     0.252323  \n",
       "\n",
       "[5 rows x 63 columns]"
      ]
     },
     "execution_count": 46,
     "metadata": {},
     "output_type": "execute_result"
    }
   ],
   "source": [
    "result_df.head()"
   ]
  },
  {
   "cell_type": "code",
   "execution_count": 47,
   "metadata": {},
   "outputs": [
    {
     "data": {
      "text/plain": [
       "(267277, 7)"
      ]
     },
     "execution_count": 47,
     "metadata": {},
     "output_type": "execute_result"
    }
   ],
   "source": [
    "# 获取指定列\n",
    "result_df = result_df[['FID','Class1', 'Class2', 'Prob1','Prob2', 'Entropy', 'Uncertainty']]\n",
    "result_df.shape"
   ]
  },
  {
   "cell_type": "code",
   "execution_count": 48,
   "metadata": {},
   "outputs": [],
   "source": [
    "# 读取字典\n",
    "with open(r'D:\\worker_code\\Terrain_Test\\data\\soil_dict\\soil_type_dict.json', 'r', encoding='utf-8') as json_file:\n",
    "    search_dict = json.load(json_file)"
   ]
  },
  {
   "cell_type": "code",
   "execution_count": 49,
   "metadata": {},
   "outputs": [],
   "source": [
    "# 使用 apply 方法结合 lambda 函数来获取对应的 '土类' 值\n",
    "result_df = result_df.copy()\n",
    "result_df['Class1_tl'] = result_df['Class1'].apply(lambda x: search_dict.get(x, {}).get('土类', None))\n",
    "result_df['Class1_yl'] = result_df['Class1'].apply(lambda x: search_dict.get(x, {}).get('亚类', None))\n",
    "result_df['Class1_ts'] = result_df['Class1'].apply(lambda x: search_dict.get(x, {}).get('土属', None))\n"
   ]
  },
  {
   "cell_type": "code",
   "execution_count": 50,
   "metadata": {},
   "outputs": [
    {
     "data": {
      "text/html": [
       "<div>\n",
       "<style scoped>\n",
       "    .dataframe tbody tr th:only-of-type {\n",
       "        vertical-align: middle;\n",
       "    }\n",
       "\n",
       "    .dataframe tbody tr th {\n",
       "        vertical-align: top;\n",
       "    }\n",
       "\n",
       "    .dataframe thead th {\n",
       "        text-align: right;\n",
       "    }\n",
       "</style>\n",
       "<table border=\"1\" class=\"dataframe\">\n",
       "  <thead>\n",
       "    <tr style=\"text-align: right;\">\n",
       "      <th></th>\n",
       "      <th>FID</th>\n",
       "      <th>Class1</th>\n",
       "      <th>Class2</th>\n",
       "      <th>Prob1</th>\n",
       "      <th>Prob2</th>\n",
       "      <th>Entropy</th>\n",
       "      <th>Uncertainty</th>\n",
       "      <th>Class1_tl</th>\n",
       "      <th>Class1_yl</th>\n",
       "      <th>Class1_ts</th>\n",
       "    </tr>\n",
       "  </thead>\n",
       "  <tbody>\n",
       "    <tr>\n",
       "      <th>0</th>\n",
       "      <td>214</td>\n",
       "      <td>黄白粉泥田</td>\n",
       "      <td>重漂砂泥田</td>\n",
       "      <td>0.593333</td>\n",
       "      <td>0.313333</td>\n",
       "      <td>0.976506</td>\n",
       "      <td>0.240120</td>\n",
       "      <td>水稻土</td>\n",
       "      <td>潴育水稻土</td>\n",
       "      <td>白粉泥田</td>\n",
       "    </tr>\n",
       "    <tr>\n",
       "      <th>1</th>\n",
       "      <td>358</td>\n",
       "      <td>黄浅白粉泥田</td>\n",
       "      <td>黄白粉泥田</td>\n",
       "      <td>0.566667</td>\n",
       "      <td>0.286667</td>\n",
       "      <td>1.025833</td>\n",
       "      <td>0.224668</td>\n",
       "      <td>水稻土</td>\n",
       "      <td>淹育水稻土</td>\n",
       "      <td>浅白粉泥田</td>\n",
       "    </tr>\n",
       "    <tr>\n",
       "      <th>2</th>\n",
       "      <td>713</td>\n",
       "      <td>黄白粉泥田</td>\n",
       "      <td>重漂砂泥田</td>\n",
       "      <td>0.550000</td>\n",
       "      <td>0.333333</td>\n",
       "      <td>1.013615</td>\n",
       "      <td>0.226304</td>\n",
       "      <td>水稻土</td>\n",
       "      <td>潴育水稻土</td>\n",
       "      <td>白粉泥田</td>\n",
       "    </tr>\n",
       "    <tr>\n",
       "      <th>3</th>\n",
       "      <td>912</td>\n",
       "      <td>黄白粉泥田</td>\n",
       "      <td>重漂砂泥田</td>\n",
       "      <td>0.693333</td>\n",
       "      <td>0.180000</td>\n",
       "      <td>0.894392</td>\n",
       "      <td>0.267407</td>\n",
       "      <td>水稻土</td>\n",
       "      <td>潴育水稻土</td>\n",
       "      <td>白粉泥田</td>\n",
       "    </tr>\n",
       "    <tr>\n",
       "      <th>4</th>\n",
       "      <td>913</td>\n",
       "      <td>黄白粉泥田</td>\n",
       "      <td>黄浅白粉泥田</td>\n",
       "      <td>0.656667</td>\n",
       "      <td>0.210000</td>\n",
       "      <td>0.958896</td>\n",
       "      <td>0.252323</td>\n",
       "      <td>水稻土</td>\n",
       "      <td>潴育水稻土</td>\n",
       "      <td>白粉泥田</td>\n",
       "    </tr>\n",
       "    <tr>\n",
       "      <th>...</th>\n",
       "      <td>...</td>\n",
       "      <td>...</td>\n",
       "      <td>...</td>\n",
       "      <td>...</td>\n",
       "      <td>...</td>\n",
       "      <td>...</td>\n",
       "      <td>...</td>\n",
       "      <td>...</td>\n",
       "      <td>...</td>\n",
       "      <td>...</td>\n",
       "    </tr>\n",
       "    <tr>\n",
       "      <th>267272</th>\n",
       "      <td>247448</td>\n",
       "      <td>腐薄层砂质酸性紫色土</td>\n",
       "      <td>腐中层砂质酸性紫色土</td>\n",
       "      <td>0.579377</td>\n",
       "      <td>0.420623</td>\n",
       "      <td>0.680492</td>\n",
       "      <td>0.112256</td>\n",
       "      <td>紫色土</td>\n",
       "      <td>酸性紫色土</td>\n",
       "      <td>砂质酸性紫色土</td>\n",
       "    </tr>\n",
       "    <tr>\n",
       "      <th>267273</th>\n",
       "      <td>257905</td>\n",
       "      <td>腐薄层砂质酸性紫色土</td>\n",
       "      <td>腐中层砂质酸性紫色土</td>\n",
       "      <td>0.618452</td>\n",
       "      <td>0.381548</td>\n",
       "      <td>0.664817</td>\n",
       "      <td>0.167516</td>\n",
       "      <td>紫色土</td>\n",
       "      <td>酸性紫色土</td>\n",
       "      <td>砂质酸性紫色土</td>\n",
       "    </tr>\n",
       "    <tr>\n",
       "      <th>267274</th>\n",
       "      <td>257906</td>\n",
       "      <td>腐薄层砂质酸性紫色土</td>\n",
       "      <td>腐中层砂质酸性紫色土</td>\n",
       "      <td>0.534095</td>\n",
       "      <td>0.465905</td>\n",
       "      <td>0.690820</td>\n",
       "      <td>0.048218</td>\n",
       "      <td>紫色土</td>\n",
       "      <td>酸性紫色土</td>\n",
       "      <td>砂质酸性紫色土</td>\n",
       "    </tr>\n",
       "    <tr>\n",
       "      <th>267275</th>\n",
       "      <td>258104</td>\n",
       "      <td>腐薄层砂质酸性紫色土</td>\n",
       "      <td>腐中层砂质酸性紫色土</td>\n",
       "      <td>0.539556</td>\n",
       "      <td>0.460444</td>\n",
       "      <td>0.690015</td>\n",
       "      <td>0.055940</td>\n",
       "      <td>紫色土</td>\n",
       "      <td>酸性紫色土</td>\n",
       "      <td>砂质酸性紫色土</td>\n",
       "    </tr>\n",
       "    <tr>\n",
       "      <th>267276</th>\n",
       "      <td>258105</td>\n",
       "      <td>腐薄层砂质酸性紫色土</td>\n",
       "      <td>腐中层砂质酸性紫色土</td>\n",
       "      <td>0.605353</td>\n",
       "      <td>0.394647</td>\n",
       "      <td>0.670781</td>\n",
       "      <td>0.148992</td>\n",
       "      <td>紫色土</td>\n",
       "      <td>酸性紫色土</td>\n",
       "      <td>砂质酸性紫色土</td>\n",
       "    </tr>\n",
       "  </tbody>\n",
       "</table>\n",
       "<p>267277 rows × 10 columns</p>\n",
       "</div>"
      ],
      "text/plain": [
       "           FID      Class1      Class2     Prob1     Prob2   Entropy  \\\n",
       "0          214       黄白粉泥田       重漂砂泥田  0.593333  0.313333  0.976506   \n",
       "1          358      黄浅白粉泥田       黄白粉泥田  0.566667  0.286667  1.025833   \n",
       "2          713       黄白粉泥田       重漂砂泥田  0.550000  0.333333  1.013615   \n",
       "3          912       黄白粉泥田       重漂砂泥田  0.693333  0.180000  0.894392   \n",
       "4          913       黄白粉泥田      黄浅白粉泥田  0.656667  0.210000  0.958896   \n",
       "...        ...         ...         ...       ...       ...       ...   \n",
       "267272  247448  腐薄层砂质酸性紫色土  腐中层砂质酸性紫色土  0.579377  0.420623  0.680492   \n",
       "267273  257905  腐薄层砂质酸性紫色土  腐中层砂质酸性紫色土  0.618452  0.381548  0.664817   \n",
       "267274  257906  腐薄层砂质酸性紫色土  腐中层砂质酸性紫色土  0.534095  0.465905  0.690820   \n",
       "267275  258104  腐薄层砂质酸性紫色土  腐中层砂质酸性紫色土  0.539556  0.460444  0.690015   \n",
       "267276  258105  腐薄层砂质酸性紫色土  腐中层砂质酸性紫色土  0.605353  0.394647  0.670781   \n",
       "\n",
       "        Uncertainty Class1_tl Class1_yl Class1_ts  \n",
       "0          0.240120       水稻土     潴育水稻土      白粉泥田  \n",
       "1          0.224668       水稻土     淹育水稻土     浅白粉泥田  \n",
       "2          0.226304       水稻土     潴育水稻土      白粉泥田  \n",
       "3          0.267407       水稻土     潴育水稻土      白粉泥田  \n",
       "4          0.252323       水稻土     潴育水稻土      白粉泥田  \n",
       "...             ...       ...       ...       ...  \n",
       "267272     0.112256       紫色土     酸性紫色土   砂质酸性紫色土  \n",
       "267273     0.167516       紫色土     酸性紫色土   砂质酸性紫色土  \n",
       "267274     0.048218       紫色土     酸性紫色土   砂质酸性紫色土  \n",
       "267275     0.055940       紫色土     酸性紫色土   砂质酸性紫色土  \n",
       "267276     0.148992       紫色土     酸性紫色土   砂质酸性紫色土  \n",
       "\n",
       "[267277 rows x 10 columns]"
      ]
     },
     "execution_count": 50,
     "metadata": {},
     "output_type": "execute_result"
    }
   ],
   "source": [
    "result_df"
   ]
  },
  {
   "cell_type": "code",
   "execution_count": 51,
   "metadata": {},
   "outputs": [],
   "source": [
    "# 保存数据\n",
    "result_df.to_csv(os.path.join(result_path, f'prediction_class_{select_model}_{get_dtime()}.csv'),index=False)"
   ]
  },
  {
   "cell_type": "code",
   "execution_count": 87,
   "metadata": {},
   "outputs": [],
   "source": [
    "\n",
    "\n",
    "def analyze_class_distribution(result_df):\n",
    "    # 计算 Class1 的值计数\n",
    "    class1_counts = result_df['Class1'].value_counts()\n",
    "    \n",
    "    # 计算 Class1 和 Class1_ts 的唯一值数量\n",
    "    class1_unique_count = len(result_df['Class1'].unique())\n",
    "    class1_ts_unique_count = len(result_df['Class1_ts'].unique())\n",
    "    \n",
    "    # 创建一个包含所有信息的 DataFrame\n",
    "    summary_df = pd.DataFrame({\n",
    "        'Class': class1_counts.index,\n",
    "        'Count': class1_counts.values\n",
    "    })\n",
    "    \n",
    "    # 添加百分比列\n",
    "    summary_df['Percentage'] = summary_df['Count'] / summary_df['Count'].sum() * 100\n",
    "    \n",
    "    # 排序并重置索引\n",
    "    summary_df = summary_df.sort_values('Count', ascending=False).reset_index(drop=True)\n",
    "    \n",
    "    \n",
    "    return summary_df\n",
    "\n",
    "# 使用示例\n",
    "view_df = analyze_class_distribution(result_df)"
   ]
  },
  {
   "cell_type": "code",
   "execution_count": 88,
   "metadata": {},
   "outputs": [
    {
     "data": {
      "text/html": [
       "<div>\n",
       "<style scoped>\n",
       "    .dataframe tbody tr th:only-of-type {\n",
       "        vertical-align: middle;\n",
       "    }\n",
       "\n",
       "    .dataframe tbody tr th {\n",
       "        vertical-align: top;\n",
       "    }\n",
       "\n",
       "    .dataframe thead th {\n",
       "        text-align: right;\n",
       "    }\n",
       "</style>\n",
       "<table border=\"1\" class=\"dataframe\">\n",
       "  <thead>\n",
       "    <tr style=\"text-align: right;\">\n",
       "      <th></th>\n",
       "      <th>Class</th>\n",
       "      <th>Count</th>\n",
       "      <th>Percentage</th>\n",
       "    </tr>\n",
       "  </thead>\n",
       "  <tbody>\n",
       "    <tr>\n",
       "      <th>0</th>\n",
       "      <td>中层灰泥质黄壤</td>\n",
       "      <td>46584</td>\n",
       "      <td>18.420657</td>\n",
       "    </tr>\n",
       "    <tr>\n",
       "      <th>1</th>\n",
       "      <td>腐中层灰泥质黄壤</td>\n",
       "      <td>41825</td>\n",
       "      <td>16.538811</td>\n",
       "    </tr>\n",
       "    <tr>\n",
       "      <th>2</th>\n",
       "      <td>中层壤质黄色石灰土</td>\n",
       "      <td>25914</td>\n",
       "      <td>10.247143</td>\n",
       "    </tr>\n",
       "    <tr>\n",
       "      <th>3</th>\n",
       "      <td>石灰泥田</td>\n",
       "      <td>13675</td>\n",
       "      <td>5.407489</td>\n",
       "    </tr>\n",
       "    <tr>\n",
       "      <th>4</th>\n",
       "      <td>中层泥质黄壤</td>\n",
       "      <td>13092</td>\n",
       "      <td>5.176954</td>\n",
       "    </tr>\n",
       "    <tr>\n",
       "      <th>...</th>\n",
       "      <td>...</td>\n",
       "      <td>...</td>\n",
       "      <td>...</td>\n",
       "    </tr>\n",
       "    <tr>\n",
       "      <th>86</th>\n",
       "      <td>薄层壤质红色石灰土</td>\n",
       "      <td>8</td>\n",
       "      <td>0.003163</td>\n",
       "    </tr>\n",
       "    <tr>\n",
       "      <th>87</th>\n",
       "      <td>腐薄层硅质黄棕壤</td>\n",
       "      <td>4</td>\n",
       "      <td>0.001582</td>\n",
       "    </tr>\n",
       "    <tr>\n",
       "      <th>88</th>\n",
       "      <td>腐薄层黏质黄色石灰土</td>\n",
       "      <td>4</td>\n",
       "      <td>0.001582</td>\n",
       "    </tr>\n",
       "    <tr>\n",
       "      <th>89</th>\n",
       "      <td>黄青鳝泥田</td>\n",
       "      <td>3</td>\n",
       "      <td>0.001186</td>\n",
       "    </tr>\n",
       "    <tr>\n",
       "      <th>90</th>\n",
       "      <td>薄层硅质黄棕壤性土</td>\n",
       "      <td>1</td>\n",
       "      <td>0.000395</td>\n",
       "    </tr>\n",
       "  </tbody>\n",
       "</table>\n",
       "<p>91 rows × 3 columns</p>\n",
       "</div>"
      ],
      "text/plain": [
       "         Class  Count  Percentage\n",
       "0      中层灰泥质黄壤  46584   18.420657\n",
       "1     腐中层灰泥质黄壤  41825   16.538811\n",
       "2    中层壤质黄色石灰土  25914   10.247143\n",
       "3         石灰泥田  13675    5.407489\n",
       "4       中层泥质黄壤  13092    5.176954\n",
       "..         ...    ...         ...\n",
       "86   薄层壤质红色石灰土      8    0.003163\n",
       "87    腐薄层硅质黄棕壤      4    0.001582\n",
       "88  腐薄层黏质黄色石灰土      4    0.001582\n",
       "89       黄青鳝泥田      3    0.001186\n",
       "90   薄层硅质黄棕壤性土      1    0.000395\n",
       "\n",
       "[91 rows x 3 columns]"
      ]
     },
     "execution_count": 88,
     "metadata": {},
     "output_type": "execute_result"
    }
   ],
   "source": [
    "view_df"
   ]
  },
  {
   "cell_type": "code",
   "execution_count": 89,
   "metadata": {},
   "outputs": [
    {
     "data": {
      "image/png": "[encoded data removed]",
      "text/plain": [
       "<Figure size 640x480 with 1 Axes>"
      ]
     },
     "metadata": {},
     "output_type": "display_data"
    },
    {
     "name": "stdout",
     "output_type": "stream",
     "text": [
      "分界值: 1.5326863625346534\n"
     ]
    }
   ],
   "source": [
    "import numpy as np\n",
    "import pandas as pd\n",
    "import matplotlib.pyplot as plt\n",
    "\n",
    "# 提取熵值\n",
    "entropy = result_df['Entropy']\n",
    "\n",
    "# 计算熵的均值和标准差\n",
    "entropy_mean = entropy.mean()\n",
    "entropy_std = entropy.std()\n",
    "entropy_threshold = entropy_mean + entropy_std\n",
    "\n",
    "# 绘制熵的分布图\n",
    "plt.hist(entropy, bins=50, alpha=0.75, label='Entropy')\n",
    "plt.xlabel('Entropy')\n",
    "plt.ylabel('Frequency')\n",
    "plt.title('Entropy Distribution')\n",
    "plt.axvline(entropy_threshold, color='r', linestyle='dashed', linewidth=2, label='Threshold')\n",
    "plt.legend()\n",
    "plt.show()\n",
    "\n",
    "# 可信的预测结果\n",
    "reliable_predictions = result_df[entropy <= entropy_threshold]\n",
    "\n",
    "# 输出结果\n",
    "print(f\"分界值: {entropy_threshold}\")\n"
   ]
  },
  {
   "cell_type": "code",
   "execution_count": 90,
   "metadata": {},
   "outputs": [
    {
     "data": {
      "image/png": "[encoded data removed]",
      "text/plain": [
       "<Figure size 640x480 with 1 Axes>"
      ]
     },
     "metadata": {},
     "output_type": "display_data"
    },
    {
     "name": "stdout",
     "output_type": "stream",
     "text": [
      "不确定性分界值: 0.2806331391888038\n"
     ]
    }
   ],
   "source": [
    "import numpy as np\n",
    "import pandas as pd\n",
    "import matplotlib.pyplot as plt\n",
    "uncertainty = result_df['Uncertainty']\n",
    "# 计算不确定性的均值和标准差\n",
    "uncertainty_mean = uncertainty.mean()\n",
    "uncertainty_std = uncertainty.std()\n",
    "uncertainty_threshold = uncertainty_mean + uncertainty_std\n",
    "\n",
    "# 绘制不确定性的分布图\n",
    "plt.hist(uncertainty, bins=50, alpha=0.75, label='Uncertainty')\n",
    "plt.xlabel('Uncertainty')\n",
    "plt.ylabel('Frequency')\n",
    "plt.title('Uncertainty Distribution')\n",
    "plt.axvline(uncertainty_threshold, color='r', linestyle='dashed', linewidth=2, label='Threshold')\n",
    "plt.legend()\n",
    "plt.show()\n",
    "\n",
    "# 可信的预测结果\n",
    "reliable_predictions = result_df[uncertainty <= uncertainty_threshold]\n",
    "\n",
    "# 输出结果\n",
    "print(f\"不确定性分界值: {uncertainty_threshold}\")\n"
   ]
  },
  {
   "cell_type": "code",
   "execution_count": 91,
   "metadata": {},
   "outputs": [
    {
     "data": {
      "image/png": "[encoded data removed]",
      "text/plain": [
       "<Figure size 640x480 with 1 Axes>"
      ]
     },
     "metadata": {},
     "output_type": "display_data"
    },
    {
     "name": "stdout",
     "output_type": "stream",
     "text": [
      "第75百分位数分界值: 0.2288607582449913\n"
     ]
    }
   ],
   "source": [
    "# 计算第75百分位数\n",
    "uncertainty_threshold_75 = np.percentile(uncertainty, 75)\n",
    "\n",
    "# 绘制不确定性的分布图\n",
    "plt.hist(uncertainty, bins=50, alpha=0.75, label='Uncertainty')\n",
    "plt.xlabel('Uncertainty')\n",
    "plt.ylabel('Frequency')\n",
    "plt.title('Uncertainty Distribution')\n",
    "plt.axvline(uncertainty_threshold_75, color='r', linestyle='dashed', linewidth=2, label='75th Percentile Threshold')\n",
    "plt.legend()\n",
    "plt.show()\n",
    "\n",
    "# 可信的预测结果\n",
    "reliable_predictions_75 = result_df[uncertainty <= uncertainty_threshold_75]\n",
    "\n",
    "# 输出结果\n",
    "print(f\"第75百分位数分界值: {uncertainty_threshold_75}\")"
   ]
  },
  {
   "cell_type": "code",
   "execution_count": 10,
   "metadata": {},
   "outputs": [],
   "source": [
    "# 读取字典\n",
    "with open(r'D:\\worker_code\\Terrain_Test\\data\\soil_dict\\soil_type_dict.json', 'r', encoding='utf-8') as json_file:\n",
    "    search_dict = json.load(json_file)"
   ]
  },
  {
   "cell_type": "code",
   "execution_count": 6,
   "metadata": {},
   "outputs": [],
   "source": [
    "def add_soil_type_to_dict(soil_dict, soil_type, soil_class, soil_subclass, soil_genus):\n",
    "    \"\"\"\n",
    "    向土壤类型字典中添加新的土种及其分类信息\n",
    "    \n",
    "    参数:\n",
    "    soil_dict (dict): 现有的土壤类型字典\n",
    "    soil_type (str): 土种名称\n",
    "    soil_class (str): 土类\n",
    "    soil_subclass (str): 亚类\n",
    "    soil_genus (str): 土属\n",
    "    \n",
    "    返回:\n",
    "    dict: 更新后的字典\n",
    "    \"\"\"\n",
    "    # 创建土壤信息字典\n",
    "    soil_info = {\n",
    "        \"土类\": soil_class,\n",
    "        \"亚类\": soil_subclass,\n",
    "        \"土属\": soil_genus\n",
    "    }\n",
    "    \n",
    "    # 检查是否包含括号\n",
    "    if '(' in soil_type and ')' in soil_type:\n",
    "        # 找到括号的位置\n",
    "        start_idx = soil_type.index('(')\n",
    "        end_idx = soil_type.index(')')\n",
    "        \n",
    "        # 提取括号内的内容（不包含括号）\n",
    "        bracket_content = soil_type[start_idx + 1:end_idx]\n",
    "        \n",
    "        # 生成三种形式\n",
    "        original_type = soil_type  # 原始形式\n",
    "        direct_type = soil_type[:start_idx] + bracket_content + soil_type[end_idx + 1:]  # 括号内容直接形式\n",
    "        without_bracket_type = soil_type[:start_idx] + soil_type[end_idx + 1:]  # 无括号内容形式\n",
    "        \n",
    "        # 添加到字典\n",
    "        soil_dict[original_type] = soil_info\n",
    "        soil_dict[direct_type] = soil_info\n",
    "        soil_dict[without_bracket_type] = soil_info\n",
    "    else:\n",
    "        # 如果没有括号，直接添加原始形式\n",
    "        soil_dict[soil_type] = soil_info\n",
    "    \n",
    "    return soil_dict"
   ]
  },
  {
   "cell_type": "code",
   "execution_count": 7,
   "metadata": {},
   "outputs": [],
   "source": [
    "\n",
    "# 使用示例\n",
    "# 创建新的土壤类型\n",
    "search_dict = add_soil_type_to_dict(\n",
    "    search_dict,\n",
    "    \"厚层红泥质黄壤\",\n",
    "    \"黄壤\",\n",
    "    \"典型黄壤\",\n",
    "    \"红泥质黄壤\"\n",
    ")\n",
    "# 保存字典到json文件\n",
    "with open(r'D:\\worker_code\\Terrain_Test\\data\\soil_dict\\soil_type_dict.json', 'w',encoding='utf-8') as json_file:\n",
    "    json.dump(search_dict, json_file)"
   ]
  },
  {
   "cell_type": "code",
   "execution_count": 9,
   "metadata": {},
   "outputs": [],
   "source": []
  },
  {
   "cell_type": "code",
   "execution_count": 102,
   "metadata": {},
   "outputs": [],
   "source": [
    "search_file_path = r\"D:\\worker\\工作\\work\\三普\\数据\\色标\\分类表_填充.xlsx\""
   ]
  },
  {
   "cell_type": "code",
   "execution_count": 117,
   "metadata": {},
   "outputs": [],
   "source": [
    "sh_df = pd.read_excel(search_file_path)\n",
    "# 去掉sh_df中各个列中的特殊符号，包括空格、换行、制表符等\n",
    "\n",
    "def clean_dataframe(df):\n",
    "    # 创建DataFrame的副本以避免修改原始数据\n",
    "    cleaned_df = df.copy()\n",
    "    \n",
    "    # 定义清理单个字符串的函数\n",
    "    def clean_string(value):\n",
    "        if isinstance(value, str):\n",
    "            # 替换换行符、制表符为空格\n",
    "            value = value.replace('\\n', '').replace('\\t', '')\n",
    "            # 去除首尾空格\n",
    "            value = value.strip()\n",
    "            # 将多个空格替换为单个空格\n",
    "            value = ' '.join(value.split())\n",
    "            return value\n",
    "        return value\n",
    "    # 对DataFrame中的每个元素应用清理函数\n",
    "    cleaned_df = cleaned_df.map(clean_string)\n",
    "    \n",
    "    return cleaned_df\n",
    "# 使用示例：\n",
    "sh_df = clean_dataframe(sh_df)\n",
    "sh_df = clean_dataframe(sh_df)\n"
   ]
  },
  {
   "cell_type": "code",
   "execution_count": 123,
   "metadata": {},
   "outputs": [],
   "source": [
    "# 创建一个字典，土种为键，内嵌字典{土类，亚类，土属}为值\n",
    "sh_dict = {}\n",
    "for index, row in sh_df.iterrows():\n",
    "    def process_soil_type(row):\n",
    "        \"\"\"\n",
    "        处理土种名称，生成多个变体作为字典键\n",
    "        \n",
    "        对于包含括号的土种名称如'薄层(砾)黏质红色石灰土'，生成三种形式：\n",
    "        1. 原始形式：薄层(砾)黏质红色石灰土\n",
    "        2. 括号内容直接形式：薄层砾黏质红色石灰土\n",
    "        3. 无括号内容形式：薄层黏质红色石灰土\n",
    "        \"\"\"\n",
    "        soil_type = row['土种']\n",
    "        soil_info = {\"土类\": row['土类'], \"亚类\": row['亚类'], \"土属\": row['土属']}\n",
    "        \n",
    "        if '(' in soil_type and ')' in soil_type:\n",
    "            # 找到括号的位置\n",
    "            start_idx = soil_type.index('(')\n",
    "            end_idx = soil_type.index(')')\n",
    "            # 提取括号内的内容（不包含括号）\n",
    "            bracket_content = soil_type[start_idx + 1:end_idx]\n",
    "            # 生成三种形式\n",
    "            original_type = soil_type  # 原始形式\n",
    "            direct_type = soil_type[:start_idx] + bracket_content + soil_type[end_idx + 1:]  # 括号内容直接形式\n",
    "            without_bracket_type = soil_type[:start_idx] + soil_type[end_idx + 1:]  # 无括号内容形式\n",
    "            # 添加到字典\n",
    "            sh_dict[original_type] = soil_info\n",
    "            sh_dict[direct_type] = soil_info\n",
    "            sh_dict[without_bracket_type] = soil_info\n",
    "        else:\n",
    "            # 如果没有括号，直接添加原始形式\n",
    "            sh_dict[soil_type] = soil_info\n",
    "    process_soil_type(row)\n",
    "\n",
    "sh_dict\n",
    "# 保存字典到json文件\n",
    "with open(r'D:\\worker_code\\Terrain_Test\\data\\soil_dict\\soil_type_dict.json', 'w',encoding='utf-8') as json_file:\n",
    "    json.dump(sh_dict, json_file)\n",
    "# 保存字典到json文件 中文可读\n",
    "with open(r'D:\\worker_code\\Terrain_Test\\data\\soil_dict\\soil_type_dict_readable.json', 'w', encoding='utf-8') as json_file:\n",
    "    json.dump(sh_dict, json_file, ensure_ascii=False, indent=4)\n"
   ]
  }
 ],
 "metadata": {
  "kernelspec": {
   "display_name": ".venvgis",
   "language": "python",
   "name": "python3"
  },
  "language_info": {
   "codemirror_mode": {
    "name": "ipython",
    "version": 3
   },
   "file_extension": ".py",
   "mimetype": "text/x-python",
   "name": "python",
   "nbconvert_exporter": "python",
   "pygments_lexer": "ipython3",
   "version": "3.10.11"
  }
 },
 "nbformat": 4,
 "nbformat_minor": 2
}
