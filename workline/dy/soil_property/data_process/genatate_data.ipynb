{
 "cells": [
  {
   "cell_type": "code",
   "execution_count": 94,
   "metadata": {},
   "outputs": [],
   "source": [
    "import os\n",
    "import time\n",
    "import pandas as pd\n",
    "from datetime import datetime"
   ]
  },
  {
   "cell_type": "code",
   "execution_count": 13,
   "metadata": {},
   "outputs": [],
   "source": [
    "# 数据路径\n",
    "data_path = r\"F:\\collection_spb_info\\XJSH\\ALL_DATA\\ALL_RESULT\\ALL_TABLE\\52_贵州省_result_20250109.xlsx\"\n",
    "trrz_path = r\"F:\\collection_spb_info\\XJSH\\ALL_DATA\\ALL_TRRZ\\贵州省\\黔南布依族苗族自治州\\522701_都匀市\\522701_trrz_info_20250220_1121.xlsx\""
   ]
  },
  {
   "cell_type": "code",
   "execution_count": 113,
   "metadata": {},
   "outputs": [],
   "source": [
    "df = pd.read_excel(data_path)"
   ]
  },
  {
   "cell_type": "code",
   "execution_count": 114,
   "metadata": {},
   "outputs": [],
   "source": [
    "use_col = ['ydbh','dwjd','dwwd','dwgc','ydlb','yypbh','jcjg','yjz','ph','ylzjhl','qdan','qlin','qjia','qxi','yxlin','sxjia','hxjia','zgong','zshen','zqian','zge','zge2','jxzc1trzd','gzchd_x','gzchd_y','yxtchd','fsxtl','fsxyl','fsxts','fsxtz']"
   ]
  },
  {
   "cell_type": "code",
   "execution_count": 115,
   "metadata": {},
   "outputs": [],
   "source": [
    "# col_dict = {'ydbh':\"YDBH\",'dwjd':\"DWJD\",'dwwd':\"DWWD\",'dwgc':\"DWGC\",'ydlb','yypbh','jcjg','yjz','ph','ylzjhl','qdan','qlin','qjia','qxi','yxlin','sxjia','hxjia','zgong','zshen','zqian','zge','zge2','jxzc1trzd','gzchd_x','gzchd_y','yxtchd','fsxtl','fsxyl','fsxts','fsxtz'}"
   ]
  },
  {
   "cell_type": "code",
   "execution_count": 116,
   "metadata": {},
   "outputs": [],
   "source": [
    "dy_df = df[df['xjdm']==522701]"
   ]
  },
  {
   "cell_type": "code",
   "execution_count": 117,
   "metadata": {},
   "outputs": [],
   "source": [
    "dy_df = dy_df[use_col]"
   ]
  },
  {
   "cell_type": "code",
   "execution_count": 118,
   "metadata": {},
   "outputs": [
    {
     "data": {
      "text/plain": [
       "(1159, 1362, 1394)"
      ]
     },
     "execution_count": 118,
     "metadata": {},
     "output_type": "execute_result"
    }
   ],
   "source": [
    "len(dy_df['ydbh'].unique()),len(dy_df['yypbh'].unique()),dy_df.shape[0]"
   ]
  },
  {
   "cell_type": "code",
   "execution_count": 119,
   "metadata": {},
   "outputs": [
    {
     "data": {
      "text/plain": [
       "(1159, 1159, 1188)"
      ]
     },
     "execution_count": 119,
     "metadata": {},
     "output_type": "execute_result"
    }
   ],
   "source": [
    "# 去除yypbh结尾不为10和11的\n",
    "dy_df['yypbh'] = dy_df['yypbh'].astype(str)\n",
    "filter_dy_df = dy_df[dy_df['yypbh'].str.endswith('10') | dy_df['yypbh'].str.endswith('11')]\n",
    "len(filter_dy_df['ydbh'].unique()),len(filter_dy_df['yypbh'].unique()),filter_dy_df.shape[0]"
   ]
  },
  {
   "cell_type": "code",
   "execution_count": 120,
   "metadata": {},
   "outputs": [
    {
     "data": {
      "text/plain": [
       "(1159, 1159, 1159)"
      ]
     },
     "execution_count": 120,
     "metadata": {},
     "output_type": "execute_result"
    }
   ],
   "source": [
    "# 去除yypbh重复的数据，只保留第一个\n",
    "re_filter_dy_df = filter_dy_df.drop_duplicates(subset=['yypbh'], keep='first')\n",
    "len(re_filter_dy_df['ydbh'].unique()),len(re_filter_dy_df['yypbh'].unique()),re_filter_dy_df.shape[0]"
   ]
  },
  {
   "cell_type": "code",
   "execution_count": 121,
   "metadata": {},
   "outputs": [],
   "source": [
    "# 计算gzchd,(gzchd_x,gzchd_y,两列不为空和不为0的值，如果为空和0，则取0)\n",
    "def cal_gzchd(row):\n",
    "    try:\n",
    "        if float(row['gzchd_x']) != 0:\n",
    "            return float(row['gzchd_x'])\n",
    "        elif float(row['gzchd_y']) != 0:\n",
    "            return float(row['gzchd_y'])\n",
    "        else:\n",
    "            return 0\n",
    "    except:\n",
    "        return 0"
   ]
  },
  {
   "cell_type": "code",
   "execution_count": 122,
   "metadata": {},
   "outputs": [],
   "source": [
    "result_col = use_col = ['ydbh','dwjd','dwwd','dwgc','yypbh','yjz','ph','ylzjhl','qdan','qlin','qjia','qxi','yxlin','sxjia','hxjia','zgong','zshen','zqian','zge','zge2','jxzc1trzd','gzchd_x','gzchd_y','yxtchd','fsxtl','fsxyl','fsxts','fsxtz']"
   ]
  },
  {
   "cell_type": "code",
   "execution_count": 123,
   "metadata": {},
   "outputs": [],
   "source": [
    "result_df = re_filter_dy_df[result_col]"
   ]
  },
  {
   "cell_type": "code",
   "execution_count": 124,
   "metadata": {},
   "outputs": [
    {
     "name": "stderr",
     "output_type": "stream",
     "text": [
      "C:\\Users\\Runker\\AppData\\Local\\Temp\\ipykernel_55748\\3945413382.py:2: SettingWithCopyWarning: \n",
      "A value is trying to be set on a copy of a slice from a DataFrame.\n",
      "Try using .loc[row_indexer,col_indexer] = value instead\n",
      "\n",
      "See the caveats in the documentation: https://pandas.pydata.org/pandas-docs/stable/user_guide/indexing.html#returning-a-view-versus-a-copy\n",
      "  result_df['gzchd'] = result_df.apply(cal_gzchd,axis=1)\n"
     ]
    }
   ],
   "source": [
    "# 获取耕作层厚度\n",
    "result_df['gzchd'] = result_df.apply(cal_gzchd,axis=1)\n",
    "# 删除gzchd_x,gzchd_y\n",
    "result_df = result_df.copy()\n",
    "result_df.drop(columns=['gzchd_x','gzchd_y'],inplace=True)"
   ]
  },
  {
   "cell_type": "code",
   "execution_count": 125,
   "metadata": {},
   "outputs": [],
   "source": [
    "# 连接土壤容重信息\n",
    "trrz_df = pd.read_excel(trrz_path)\n",
    "trrz_df = trrz_df[['ydbh','trrzpjz']]\n",
    "trrz_df.rename(columns={'ydbh':'YDBH','trrzpjz':'TRRZ'},inplace=True)\n"
   ]
  },
  {
   "cell_type": "code",
   "execution_count": 126,
   "metadata": {},
   "outputs": [],
   "source": [
    "# 'YDBH', 'DWJD', 'DWWD', 'DWGC', 'TRZD', 'PH', 'CEC', 'OM', 'TN', 'TP', 'TK', 'TSE', 'AP', 'SK', 'AK', 'HG', 'AS2', 'PB', 'CD', 'CR', 'TRRZ', 'GZCHD', 'YXTCHD', 'FSXTL', 'FSXYL', 'FSXTS', 'FSXTZ'\n",
    "col_dict = {'ydbh':'YDBH','dwjd':'DWJD','dwwd':'DWWD','dwgc':'DWGC',\n",
    "            'yypbh':'YYPBH','yjz':'OM','ph':'PH','ylzjhl':'CEC',\n",
    "            'qlin':'TP','qjia':'TK','qxi':'TSE','yxlin':'AP','qdan':'TN',\n",
    "            'sxjia':'AK','hxjia':'SK','zgong':'HG',\n",
    "            'zshen':'AS2','zqian':'PB','zge':'CD',\n",
    "            'zge2':'CR','jxzc1trzd':'TRZD',\n",
    "            'gzchd':'GZCHD','yxtchd':'YXTCHD',\n",
    "            'fsxtl':'FSXTL','fsxyl':'FSXYL',\n",
    "            'fsxts':'FSXTS','fsxtz':'FSXTZ'}"
   ]
  },
  {
   "cell_type": "code",
   "execution_count": 127,
   "metadata": {},
   "outputs": [],
   "source": [
    "# 重命名列\n",
    "result_end_df = result_df.copy()\n",
    "result_end_df.rename(columns=col_dict,inplace=True)"
   ]
  },
  {
   "cell_type": "code",
   "execution_count": 128,
   "metadata": {},
   "outputs": [],
   "source": [
    "# 连接容重信息\n",
    "result_end_join_df = pd.merge(result_end_df,trrz_df,on='YDBH',how='left')"
   ]
  },
  {
   "cell_type": "code",
   "execution_count": 129,
   "metadata": {},
   "outputs": [],
   "source": [
    "# 导出\n",
    "save_path = r'G:\\soil_property_result\\dys\\table'\n",
    "os.makedirs(save_path,exist_ok=True)\n",
    "result_end_join_df['YDBH'] = result_end_join_df['YDBH'].astype(str)\n",
    "result_end_join_df.to_excel(os.path.join(save_path,f\"result_all_{time.strftime('%Y%m%d_%H%M%S')}.xlsx\"),index=False)\n",
    "result_end_join_df.to_excel(os.path.join(save_path,f\"result_ana_df_{time.strftime('%Y%m%d_%H%M%S')}.xlsx\"),index=False)"
   ]
  }
 ],
 "metadata": {
  "kernelspec": {
   "display_name": ".venvgis",
   "language": "python",
   "name": "python3"
  },
  "language_info": {
   "codemirror_mode": {
    "name": "ipython",
    "version": 3
   },
   "file_extension": ".py",
   "mimetype": "text/x-python",
   "name": "python",
   "nbconvert_exporter": "python",
   "pygments_lexer": "ipython3",
   "version": "3.10.11"
  }
 },
 "nbformat": 4,
 "nbformat_minor": 2
}
