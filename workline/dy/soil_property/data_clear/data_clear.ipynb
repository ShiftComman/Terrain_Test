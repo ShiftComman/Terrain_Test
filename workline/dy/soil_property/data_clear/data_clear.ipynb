{
 "cells": [
  {
   "cell_type": "markdown",
   "metadata": {},
   "source": [
    "# 数据连接和清洗"
   ]
  },
  {
   "cell_type": "code",
   "execution_count": null,
   "metadata": {},
   "outputs": [],
   "source": [
    "import os\n",
    "import pandas as pd\n",
    "import numpy as np\n",
    "import matplotlib.pyplot as plt\n",
    "import seaborn as sns\n",
    "import scipy.stats as stats"
   ]
  },
  {
   "cell_type": "code",
   "execution_count": null,
   "metadata": {},
   "outputs": [],
   "source": [
    "# 获取文件路径\n",
    "def find_file_with_string(path, string):\n",
    "    for root, dirs, files in os.walk(path):\n",
    "        for file in files:\n",
    "            if string in file:\n",
    "                return os.path.join(root, file)\n",
    "    return None"
   ]
  },
  {
   "cell_type": "code",
   "execution_count": null,
   "metadata": {},
   "outputs": [],
   "source": [
    "# 分析对象路径\n",
    "folder_path = r'F:\\collection_spb_info\\GJ\\SB'\n",
    "# 检测信息对象路径\n",
    "bc_data_path = r'F:\\collection_spb_info\\ZK\\BC'\n",
    "# 剖面信息\n",
    "pm_data_path = r'F:\\collection_spb_info\\ZK\\PM'"
   ]
  },
  {
   "cell_type": "code",
   "execution_count": null,
   "metadata": {},
   "outputs": [],
   "source": [
    "# 基础信息表\n",
    "base_point = find_file_with_string(folder_path, 'base_info')\n",
    "# 表层检测信息表\n",
    "data_point = find_file_with_string(bc_data_path, 'chemical_info')\n",
    "# 剖面检测信息表\n",
    "data_point2 = find_file_with_string(pm_data_path, 'chemical_info')"
   ]
  },
  {
   "cell_type": "code",
   "execution_count": null,
   "metadata": {},
   "outputs": [],
   "source": [
    "# 点位信息列表\n",
    "info_list = ['ydbh','dwjd','dwwd']\n",
    "# 理化指标列表\n",
    "phy_che_list = ['ydbh','yjz','ph','ylzjhl',\n",
    "                'qdan','qlin','qjia','qxi',\n",
    "                'yxlin','sxjia','hxjia','yxliu','yxgui','yxtie','yxmeng','yxtong','yxxing','yxpeng','yxmu','zgong','zshen','zqian','zge','zge2','znie',\n",
    "                'jxzc11','jxzc12','jxzc13','jxzc14','jxzc1trzd']"
   ]
  },
  {
   "cell_type": "code",
   "execution_count": null,
   "metadata": {},
   "outputs": [],
   "source": [
    "# 读取信息\n",
    "df_base = pd.read_excel(base_point,usecols=info_list)\n",
    "df_data = pd.read_excel(data_point,usecols=phy_che_list)"
   ]
  },
  {
   "cell_type": "code",
   "execution_count": null,
   "metadata": {},
   "outputs": [],
   "source": [
    "df_data2 = pd.read_excel(data_point2,usecols=phy_che_list)"
   ]
  },
  {
   "cell_type": "code",
   "execution_count": null,
   "metadata": {},
   "outputs": [],
   "source": [
    "# 连接BC表\n",
    "df_result_bc = pd.merge(df_base,df_data,on='ydbh',how='left')"
   ]
  },
  {
   "cell_type": "code",
   "execution_count": null,
   "metadata": {},
   "outputs": [],
   "source": [
    "# 连接PM表\n",
    "df_result_pm = pd.merge(df_base, df_data2, on='ydbh', how='inner')"
   ]
  },
  {
   "cell_type": "code",
   "execution_count": null,
   "metadata": {},
   "outputs": [],
   "source": [
    "# 合并BC和PM表\n",
    "df_result = pd.concat([df_result_bc, df_result_pm], axis=0)"
   ]
  },
  {
   "cell_type": "code",
   "execution_count": null,
   "metadata": {},
   "outputs": [],
   "source": [
    "# 找出ydbh重复的索引\n",
    "duplicates = df_result.duplicated(subset=['ydbh'], keep=False)\n",
    "df_duplicates = df_result[duplicates]\n",
    "df_duplicates"
   ]
  },
  {
   "cell_type": "code",
   "execution_count": null,
   "metadata": {},
   "outputs": [],
   "source": [
    "# 去除重复数据\n",
    "df_result.drop_duplicates(subset=['ydbh'], keep='first', inplace=True)"
   ]
  },
  {
   "cell_type": "code",
   "execution_count": null,
   "metadata": {},
   "outputs": [],
   "source": [
    "# 替换指定列中的非数值型值为0.0001\n",
    "for one_col in phy_che_list[1:-1]:\n",
    "    df_result[one_col] = pd.to_numeric(df_result[one_col], errors='coerce').fillna(0.0001)"
   ]
  },
  {
   "cell_type": "code",
   "execution_count": null,
   "metadata": {},
   "outputs": [],
   "source": [
    "df_result"
   ]
  },
  {
   "cell_type": "code",
   "execution_count": null,
   "metadata": {},
   "outputs": [],
   "source": [
    "# 保存数据\n",
    "df_result.to_excel(r\"F:\\collection_spb_info\\sp_float_data\\DY\\dy_result.xlsx\",index=False)\n",
    "df_result.to_csv(r\"F:\\collection_spb_info\\sp_float_data\\DY\\dy_result.csv\",index=False)"
   ]
  },
  {
   "cell_type": "markdown",
   "metadata": {},
   "source": [
    "# 查看数据"
   ]
  },
  {
   "cell_type": "code",
   "execution_count": null,
   "metadata": {},
   "outputs": [],
   "source": [
    "df_result.columns"
   ]
  },
  {
   "cell_type": "code",
   "execution_count": null,
   "metadata": {},
   "outputs": [],
   "source": [
    "# 遍历df_result中的每一列\n",
    "for column in df_result.columns[3:]:\n",
    "    # 检查列的数据类型是否为数值型\n",
    "    if pd.api.types.is_numeric_dtype(df_result[column]):\n",
    "        # 创建一个图和两个子图\n",
    "        fig, ax = plt.subplots(1, 2, figsize=(14, 5))\n",
    "\n",
    "        # 在第一个子图上绘制直方图\n",
    "        sns.histplot(df_result[column], kde=False, bins=30, ax=ax[0])\n",
    "        ax[0].set_title(f'{column} Histogram')\n",
    "        ax[0].set_xlabel(column)\n",
    "        ax[0].set_ylabel('Frequency')\n",
    "\n",
    "        # 在第二个子图上绘制正态分布检验图\n",
    "        stats.probplot(df_result[column], plot=ax[1])\n",
    "        ax[1].set_title(f'{column} Normal Q-Q Plot')\n",
    "\n",
    "        # 调整布局并显示图\n",
    "        plt.tight_layout()\n",
    "        plt.show()\n"
   ]
  }
 ],
 "metadata": {
  "kernelspec": {
   "display_name": ".venvgis",
   "language": "python",
   "name": "python3"
  },
  "language_info": {
   "codemirror_mode": {
    "name": "ipython",
    "version": 3
   },
   "file_extension": ".py",
   "mimetype": "text/x-python",
   "name": "python",
   "nbconvert_exporter": "python",
   "pygments_lexer": "ipython3",
   "version": "3.10.11"
  }
 },
 "nbformat": 4,
 "nbformat_minor": 2
}
