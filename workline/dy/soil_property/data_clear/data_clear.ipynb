{
 "cells": [
  {
   "cell_type": "markdown",
   "metadata": {},
   "source": [
    "# 数据连接和清洗"
   ]
  },
  {
   "cell_type": "code",
   "execution_count": 1,
   "metadata": {},
   "outputs": [],
   "source": [
    "import os\n",
    "import pandas as pd\n",
    "import numpy as np\n",
    "import matplotlib.pyplot as plt"
   ]
  },
  {
   "cell_type": "code",
   "execution_count": 2,
   "metadata": {},
   "outputs": [],
   "source": [
    "# 分析对象路径\n",
    "folder_path = r'F:\\collection_spb_info\\GJ\\DY'\n",
    "# 检测信息对象路径\n",
    "data_path = r'F:\\collection_spb_info\\ZK\\BC'"
   ]
  },
  {
   "cell_type": "code",
   "execution_count": 3,
   "metadata": {},
   "outputs": [],
   "source": [
    "# 基础信息表\n",
    "base_point = r\"F:\\collection_spb_info\\GJ\\DY\\base_info_1159.xlsx\"\n",
    "# 检测信息表\n",
    "data_point = r\"F:\\collection_spb_info\\ZK\\BC\\bc_chemical_info4.xlsx\""
   ]
  },
  {
   "cell_type": "code",
   "execution_count": 4,
   "metadata": {},
   "outputs": [],
   "source": [
    "# 点位信息列表\n",
    "info_list = ['ydbh','cyjd','cywd']\n",
    "# 理化指标列表\n",
    "phy_che_list = ['ydbh','yjz','ph','ylzjhl',\n",
    "                'qdan','qlin','qjia','qxi',\n",
    "                'yxlin','sxjia','hxjia','yxliu','yxgui','yxtie','yxmeng','yxtong','yxxing','yxpeng','yxmu','zgong','zshen','zqian','zge','zge2','znie',\n",
    "                'jxzc11','jxzc12','jxzc13','jxzc14','jxzc1trzd']"
   ]
  },
  {
   "cell_type": "code",
   "execution_count": 5,
   "metadata": {},
   "outputs": [],
   "source": [
    "# 读取信息\n",
    "df_base = pd.read_excel(base_point,usecols=info_list)\n",
    "df_data = pd.read_excel(data_point,usecols=phy_che_list)"
   ]
  },
  {
   "cell_type": "code",
   "execution_count": 6,
   "metadata": {},
   "outputs": [],
   "source": [
    "# 连接表\n",
    "df_result = pd.merge(df_base,df_data,on='ydbh',how='inner')"
   ]
  },
  {
   "cell_type": "code",
   "execution_count": 7,
   "metadata": {},
   "outputs": [
    {
     "data": {
      "text/html": [
       "<div>\n",
       "<style scoped>\n",
       "    .dataframe tbody tr th:only-of-type {\n",
       "        vertical-align: middle;\n",
       "    }\n",
       "\n",
       "    .dataframe tbody tr th {\n",
       "        vertical-align: top;\n",
       "    }\n",
       "\n",
       "    .dataframe thead th {\n",
       "        text-align: right;\n",
       "    }\n",
       "</style>\n",
       "<table border=\"1\" class=\"dataframe\">\n",
       "  <thead>\n",
       "    <tr style=\"text-align: right;\">\n",
       "      <th></th>\n",
       "      <th>ydbh</th>\n",
       "      <th>cyjd</th>\n",
       "      <th>cywd</th>\n",
       "      <th>ph</th>\n",
       "      <th>ylzjhl</th>\n",
       "      <th>yjz</th>\n",
       "      <th>qdan</th>\n",
       "      <th>qlin</th>\n",
       "      <th>qjia</th>\n",
       "      <th>qxi</th>\n",
       "      <th>...</th>\n",
       "      <th>zshen</th>\n",
       "      <th>zqian</th>\n",
       "      <th>zge</th>\n",
       "      <th>zge2</th>\n",
       "      <th>znie</th>\n",
       "      <th>jxzc11</th>\n",
       "      <th>jxzc12</th>\n",
       "      <th>jxzc13</th>\n",
       "      <th>jxzc14</th>\n",
       "      <th>jxzc1trzd</th>\n",
       "    </tr>\n",
       "  </thead>\n",
       "  <tbody>\n",
       "    <tr>\n",
       "      <th>42</th>\n",
       "      <td>5227010101000117</td>\n",
       "      <td>107.598190</td>\n",
       "      <td>26.079939</td>\n",
       "      <td>4.76</td>\n",
       "      <td>16.1</td>\n",
       "      <td>35.2</td>\n",
       "      <td>2.06</td>\n",
       "      <td>0.53</td>\n",
       "      <td>24.90</td>\n",
       "      <td>0.51</td>\n",
       "      <td>...</td>\n",
       "      <td>6.14</td>\n",
       "      <td>23.9</td>\n",
       "      <td>0.18</td>\n",
       "      <td>88.9</td>\n",
       "      <td>35.1</td>\n",
       "      <td>0.6</td>\n",
       "      <td>27.4</td>\n",
       "      <td>27.2</td>\n",
       "      <td>40.4</td>\n",
       "      <td>壤质黏土</td>\n",
       "    </tr>\n",
       "    <tr>\n",
       "      <th>43</th>\n",
       "      <td>5227010101000117</td>\n",
       "      <td>107.598190</td>\n",
       "      <td>26.079939</td>\n",
       "      <td>4.72</td>\n",
       "      <td>15.6</td>\n",
       "      <td>36.2</td>\n",
       "      <td>2.06</td>\n",
       "      <td>0.53</td>\n",
       "      <td>24.50</td>\n",
       "      <td>0.53</td>\n",
       "      <td>...</td>\n",
       "      <td>6.22</td>\n",
       "      <td>29.4</td>\n",
       "      <td>0.15</td>\n",
       "      <td>87.9</td>\n",
       "      <td>34.6</td>\n",
       "      <td>2.2</td>\n",
       "      <td>24.3</td>\n",
       "      <td>28.8</td>\n",
       "      <td>38.6</td>\n",
       "      <td>壤质黏土</td>\n",
       "    </tr>\n",
       "    <tr>\n",
       "      <th>96</th>\n",
       "      <td>5227010101000279</td>\n",
       "      <td>107.444903</td>\n",
       "      <td>26.191337</td>\n",
       "      <td>6.41</td>\n",
       "      <td>11.2</td>\n",
       "      <td>54.6</td>\n",
       "      <td>2.91</td>\n",
       "      <td>0.26</td>\n",
       "      <td>2.67</td>\n",
       "      <td>0.40</td>\n",
       "      <td>...</td>\n",
       "      <td>7.72</td>\n",
       "      <td>26.8</td>\n",
       "      <td>0.39</td>\n",
       "      <td>60.6</td>\n",
       "      <td>16.6</td>\n",
       "      <td>11.0</td>\n",
       "      <td>33.1</td>\n",
       "      <td>20.2</td>\n",
       "      <td>30.0</td>\n",
       "      <td>壤质黏土</td>\n",
       "    </tr>\n",
       "    <tr>\n",
       "      <th>97</th>\n",
       "      <td>5227010101000279</td>\n",
       "      <td>107.444903</td>\n",
       "      <td>26.191337</td>\n",
       "      <td>6.44</td>\n",
       "      <td>11.5</td>\n",
       "      <td>53.1</td>\n",
       "      <td>2.91</td>\n",
       "      <td>0.24</td>\n",
       "      <td>2.68</td>\n",
       "      <td>0.40</td>\n",
       "      <td>...</td>\n",
       "      <td>8.88</td>\n",
       "      <td>27.8</td>\n",
       "      <td>0.40</td>\n",
       "      <td>60.7</td>\n",
       "      <td>16.3</td>\n",
       "      <td>12.8</td>\n",
       "      <td>33.6</td>\n",
       "      <td>19.1</td>\n",
       "      <td>28.7</td>\n",
       "      <td>壤质黏土</td>\n",
       "    </tr>\n",
       "  </tbody>\n",
       "</table>\n",
       "<p>4 rows × 32 columns</p>\n",
       "</div>"
      ],
      "text/plain": [
       "                ydbh        cyjd       cywd    ph  ylzjhl   yjz  qdan  qlin  \\\n",
       "42  5227010101000117  107.598190  26.079939  4.76    16.1  35.2  2.06  0.53   \n",
       "43  5227010101000117  107.598190  26.079939  4.72    15.6  36.2  2.06  0.53   \n",
       "96  5227010101000279  107.444903  26.191337  6.41    11.2  54.6  2.91  0.26   \n",
       "97  5227010101000279  107.444903  26.191337  6.44    11.5  53.1  2.91  0.24   \n",
       "\n",
       "     qjia   qxi  ... zshen  zqian   zge  zge2  znie jxzc11 jxzc12 jxzc13  \\\n",
       "42  24.90  0.51  ...  6.14   23.9  0.18  88.9  35.1    0.6   27.4   27.2   \n",
       "43  24.50  0.53  ...  6.22   29.4  0.15  87.9  34.6    2.2   24.3   28.8   \n",
       "96   2.67  0.40  ...  7.72   26.8  0.39  60.6  16.6   11.0   33.1   20.2   \n",
       "97   2.68  0.40  ...  8.88   27.8  0.40  60.7  16.3   12.8   33.6   19.1   \n",
       "\n",
       "   jxzc14 jxzc1trzd  \n",
       "42   40.4      壤质黏土  \n",
       "43   38.6      壤质黏土  \n",
       "96   30.0      壤质黏土  \n",
       "97   28.7      壤质黏土  \n",
       "\n",
       "[4 rows x 32 columns]"
      ]
     },
     "execution_count": 7,
     "metadata": {},
     "output_type": "execute_result"
    }
   ],
   "source": [
    "# 找出ydbh重复的索引\n",
    "duplicates = df_result.duplicated(subset=['ydbh'], keep=False)\n",
    "df_duplicates = df_result[duplicates]\n",
    "df_duplicates.head(4)"
   ]
  },
  {
   "cell_type": "code",
   "execution_count": 8,
   "metadata": {},
   "outputs": [],
   "source": [
    "# 去除重复数据\n",
    "df_result.drop_duplicates(subset=['ydbh'], keep='first', inplace=True)"
   ]
  },
  {
   "cell_type": "code",
   "execution_count": 9,
   "metadata": {},
   "outputs": [],
   "source": [
    "# 替换指定列中的非数值型值为0.0001\n",
    "for one_col in phy_che_list[1:-1]:\n",
    "    df_result[one_col] = pd.to_numeric(df_result[one_col], errors='coerce').fillna(0.0001)"
   ]
  },
  {
   "cell_type": "code",
   "execution_count": 10,
   "metadata": {},
   "outputs": [],
   "source": [
    "# 保存数据\n",
    "df_result.to_excel(r\"C:\\Users\\Runker\\Desktop\\dy_result.xlsx\",index=False)\n",
    "df_result.to_csv(r\"C:\\Users\\Runker\\Desktop\\dy_result.csv\",index=False)"
   ]
  }
 ],
 "metadata": {
  "kernelspec": {
   "display_name": ".venvgis",
   "language": "python",
   "name": "python3"
  },
  "language_info": {
   "codemirror_mode": {
    "name": "ipython",
    "version": 3
   },
   "file_extension": ".py",
   "mimetype": "text/x-python",
   "name": "python",
   "nbconvert_exporter": "python",
   "pygments_lexer": "ipython3",
   "version": "3.10.11"
  }
 },
 "nbformat": 4,
 "nbformat_minor": 2
}
