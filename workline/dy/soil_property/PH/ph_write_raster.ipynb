{
 "cells": [
  {
   "cell_type": "code",
   "execution_count": 4,
   "metadata": {},
   "outputs": [],
   "source": [
    "import os\n",
    "import numpy as np \n",
    "import pandas as pd\n",
    "import arcpy\n",
    "from arcpy import env"
   ]
  },
  {
   "cell_type": "code",
   "execution_count": 3,
   "metadata": {},
   "outputs": [],
   "source": [
    "result_path = r\"D:\\ArcGISProjects\\workspace\\duyun\\prediction_table\\prediction_ph.csv\""
   ]
  },
  {
   "cell_type": "code",
   "execution_count": 5,
   "metadata": {},
   "outputs": [],
   "source": [
    "# 读取预测结果\n",
    "data = pd.read_csv(result_path,index_col=False)"
   ]
  },
  {
   "cell_type": "code",
   "execution_count": 7,
   "metadata": {},
   "outputs": [],
   "source": [
    "stander_path = r\"D:\\ArcGISProjects\\workspace\\duyun\\featuressdata_dy.gdb\\DEM\""
   ]
  },
  {
   "cell_type": "code",
   "execution_count": 6,
   "metadata": {},
   "outputs": [
    {
     "data": {
      "text/plain": [
       "Index(['prediction_0', 'prediction_1', 'prediction_2', 'prediction_3',\n",
       "       'prediction_4', 'prediction_5', 'prediction_6', 'prediction_7',\n",
       "       'prediction_8', 'prediction_9',\n",
       "       ...\n",
       "       'prediction_326', 'prediction_327', 'prediction_328', 'prediction_329',\n",
       "       'prediction_330', 'prediction_331', 'prediction_332', 'prediction_333',\n",
       "       'prediction_334', 'prediction_335'],\n",
       "      dtype='object', length=336)"
      ]
     },
     "execution_count": 6,
     "metadata": {},
     "output_type": "execute_result"
    }
   ],
   "source": [
    "data.columns"
   ]
  },
  {
   "cell_type": "code",
   "execution_count": 12,
   "metadata": {},
   "outputs": [],
   "source": [
    "# 合并除第一列外的所有列到第一列\n",
    "frames = []\n",
    "for col in data.columns:\n",
    "    frames.append(data[col])\n",
    "\n",
    "# 合并 DataFrame\n",
    "merged_data = pd.concat(frames, axis=0, ignore_index=True)"
   ]
  },
  {
   "cell_type": "code",
   "execution_count": 16,
   "metadata": {},
   "outputs": [],
   "source": [
    "merged_data.dropna(inplace=True)"
   ]
  },
  {
   "cell_type": "code",
   "execution_count": 18,
   "metadata": {},
   "outputs": [
    {
     "data": {
      "text/plain": [
       "167675040"
      ]
     },
     "execution_count": 18,
     "metadata": {},
     "output_type": "execute_result"
    }
   ],
   "source": [
    "merged_data.size"
   ]
  },
  {
   "cell_type": "code",
   "execution_count": 20,
   "metadata": {},
   "outputs": [
    {
     "data": {
      "text/plain": [
       "pandas.core.series.Series"
      ]
     },
     "execution_count": 20,
     "metadata": {},
     "output_type": "execute_result"
    }
   ],
   "source": [
    "type(merged_data)"
   ]
  },
  {
   "cell_type": "code",
   "execution_count": 15,
   "metadata": {},
   "outputs": [
    {
     "data": {
      "text/plain": [
       "(12720, 13182)"
      ]
     },
     "execution_count": 15,
     "metadata": {},
     "output_type": "execute_result"
    }
   ],
   "source": [
    "dem_array = arcpy.RasterToNumPyArray(stander_path)\n",
    "dem_array.shape"
   ]
  },
  {
   "cell_type": "code",
   "execution_count": 19,
   "metadata": {},
   "outputs": [
    {
     "data": {
      "text/plain": [
       "167675040"
      ]
     },
     "execution_count": 19,
     "metadata": {},
     "output_type": "execute_result"
    }
   ],
   "source": [
    "dem_array.shape[0] * dem_array.shape[1]"
   ]
  },
  {
   "cell_type": "code",
   "execution_count": 21,
   "metadata": {},
   "outputs": [
    {
     "data": {
      "text/plain": [
       "array([[5.7381   , 5.7215667, 5.675367 , ..., 6.6028666, 6.6084   ,\n",
       "        6.5070667],\n",
       "       [5.7678666, 5.767367 , 5.701267 , ..., 6.663767 , 6.5830336,\n",
       "        6.540867 ],\n",
       "       [5.6937   , 5.7272334, 5.8924   , ..., 6.6605334, 6.6582665,\n",
       "        6.634267 ],\n",
       "       ...,\n",
       "       [5.6154   , 5.3858333, 5.4633665, ..., 5.3565664, 5.3819   ,\n",
       "        5.420133 ],\n",
       "       [5.6188664, 5.4785333, 5.789767 , ..., 5.3862667, 5.364333 ,\n",
       "        5.391033 ],\n",
       "       [5.579467 , 5.4792333, 5.6878   , ..., 5.405    , 5.3732   ,\n",
       "        5.4061666]])"
      ]
     },
     "execution_count": 21,
     "metadata": {},
     "output_type": "execute_result"
    }
   ],
   "source": [
    "raster_array = np.reshape(merged_data.values,dem_array.shape)\n",
    "raster_array"
   ]
  },
  {
   "cell_type": "code",
   "execution_count": 24,
   "metadata": {},
   "outputs": [],
   "source": [
    "env.workspace = r\"D:\\ArcGISProjects\\workspace\\duyun\\featuressdata_dy.gdb\"\n",
    "env.extent = \"DEM\""
   ]
  },
  {
   "cell_type": "code",
   "execution_count": 25,
   "metadata": {},
   "outputs": [],
   "source": [
    "# 掩膜提取\n",
    "def mask_raster(array,mask_ele,cell_size):\n",
    "    out_raster = arcpy.NumPyArrayToRaster(\n",
    "    array,\n",
    "    arcpy.Point(arcpy.env.extent.XMin, arcpy.env.extent.YMin),\n",
    "    cell_size,\n",
    "    cell_size,\n",
    ")\n",
    "    \"\"\"按掩膜提取栅格,空间参考设定为:CGCS2000_3_Degree_GK_CM_108E\"\"\"\n",
    "    output_coordinate_system = arcpy.Describe(mask_ele).spatialReference\n",
    "    with arcpy.EnvManager(outputCoordinateSystem=output_coordinate_system,snapRaster=mask_ele, cellSize=mask_ele):\n",
    "        result_raster = arcpy.sa.ExtractByMask(out_raster, mask_ele, \"INSIDE\")\n",
    "        return result_raster"
   ]
  },
  {
   "cell_type": "code",
   "execution_count": 26,
   "metadata": {},
   "outputs": [
    {
     "name": "stdout",
     "output_type": "stream",
     "text": [
      "完成\n"
     ]
    }
   ],
   "source": [
    "# 按掩膜处理\n",
    "result_raster = mask_raster(raster_array,\"DEM\", 5)\n",
    "result_raster.save(\"prediction_ph\")\n",
    "print(\"完成\")"
   ]
  }
 ],
 "metadata": {
  "kernelspec": {
   "display_name": "Python 3",
   "language": "python",
   "name": "python3"
  },
  "language_info": {
   "codemirror_mode": {
    "name": "ipython",
    "version": 3
   },
   "file_extension": ".py",
   "mimetype": "text/x-python",
   "name": "python",
   "nbconvert_exporter": "python",
   "pygments_lexer": "ipython3",
   "version": "3.9.11"
  },
  "orig_nbformat": 4
 },
 "nbformat": 4,
 "nbformat_minor": 2
}
