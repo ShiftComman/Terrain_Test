{
 "cells": [
  {
   "cell_type": "code",
   "execution_count": null,
   "metadata": {},
   "outputs": [],
   "source": [
    "import os\n",
    "import datetime\n",
    "import numpy as np \n",
    "import pandas as pd\n",
    "import arcpy\n",
    "from arcpy import env"
   ]
  },
  {
   "cell_type": "code",
   "execution_count": null,
   "metadata": {},
   "outputs": [],
   "source": [
    "def get_date():\n",
    "    return datetime.datetime.now().strftime('%Y%m%d')\n",
    "def csv_to_raster(csv_path, reference_raster_path):\n",
    "    # Read CSV data\n",
    "    data = pd.read_csv(csv_path, index_col=False)\n",
    "    # Convert to float\n",
    "    data = data.astype('float32')\n",
    "    # Merge all columns except the first one\n",
    "    merged_data = pd.concat([data[col] for col in data.columns], axis=0, ignore_index=True)\n",
    "    merged_data.dropna(inplace=True)\n",
    "    \n",
    "    # Get reference raster properties\n",
    "    dem_array = arcpy.RasterToNumPyArray(reference_raster_path)\n",
    "    # check shape size\n",
    "    print(\"stander shape:\",dem_array.shape)\n",
    "    print(\"csv_shpe\",merged_data.shape)\n",
    "    # Reshape data to match reference raster\n",
    "    raster_array = np.reshape(merged_data.values, dem_array.shape)\n",
    "    \n",
    "    # return raster_array\n",
    "    return raster_array\n",
    "# 掩膜提取\n",
    "def mask_raster(array,mask_ele,cell_size):\n",
    "    out_raster = arcpy.NumPyArrayToRaster(\n",
    "    array,\n",
    "    arcpy.Point(arcpy.env.extent.XMin, arcpy.env.extent.YMin),\n",
    "    cell_size,\n",
    "    cell_size,\n",
    ")\n",
    "    \"\"\"按掩膜提取栅格,空间参考设定为:CGCS2000_3_Degree_GK_CM_108E\"\"\"\n",
    "    output_coordinate_system = arcpy.Describe(mask_ele).spatialReference\n",
    "    with arcpy.EnvManager(outputCoordinateSystem=output_coordinate_system,snapRaster=mask_ele, cellSize=mask_ele):\n",
    "        result_raster = arcpy.sa.ExtractByMask(out_raster, mask_ele, \"INSIDE\")\n",
    "        return result_raster"
   ]
  },
  {
   "cell_type": "code",
   "execution_count": null,
   "metadata": {},
   "outputs": [],
   "source": [
    "stander_path = r\"D:\\ArcGISProjects\\workspace\\shbyq\\feature_raster_file\\features_data_dy.gdb\\DEM\"\n",
    "out_path = r\"D:\\ArcGISProjects\\workspace\\shbyq\\feature_soilproperty_result\\feature_soilproperty_dy.gdb\"\n",
    "csv_root_path = r'F:\\cache_data\\pre_property_table\\dy\\rfrk_pre'"
   ]
  },
  {
   "cell_type": "code",
   "execution_count": null,
   "metadata": {},
   "outputs": [],
   "source": [
    "env.workspace = out_path\n",
    "env.extent = stander_path"
   ]
  },
  {
   "cell_type": "code",
   "execution_count": null,
   "metadata": {},
   "outputs": [],
   "source": [
    "# ---\n",
    "for one_csv in os.listdir(csv_root_path):\n",
    "    temp_csv_path = os.path.join(csv_root_path,one_csv)\n",
    "    print(temp_csv_path)\n",
    "    out_name = f\"{one_csv.split('.')[0]}_{get_date()}\"\n",
    "    # 执行转换\n",
    "    temp_raster_array = csv_to_raster(temp_csv_path,stander_path)\n",
    "    print(temp_raster_array.dtype)\n",
    "    # 写入栅格\n",
    "    result_raster = mask_raster(temp_raster_array,stander_path, 5)\n",
    "    result_raster.save(out_name)\n",
    "    print(f\"{one_csv} 转换完成\")"
   ]
  }
 ],
 "metadata": {
  "kernelspec": {
   "display_name": "Python 3",
   "language": "python",
   "name": "python3"
  },
  "language_info": {
   "codemirror_mode": {
    "name": "ipython",
    "version": 3
   },
   "file_extension": ".py",
   "mimetype": "text/x-python",
   "name": "python",
   "nbconvert_exporter": "python",
   "pygments_lexer": "ipython3",
   "version": "3.9.11"
  },
  "orig_nbformat": 4
 },
 "nbformat": 4,
 "nbformat_minor": 2
}
