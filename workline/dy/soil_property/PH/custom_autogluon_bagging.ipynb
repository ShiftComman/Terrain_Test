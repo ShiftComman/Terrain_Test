{
 "cells": [
  {
   "cell_type": "code",
   "execution_count": null,
   "metadata": {},
   "outputs": [],
   "source": [
    "import numpy as np\n",
    "import pandas as pd\n",
    "from sklearn.ensemble import RandomForestRegressor\n",
    "from sklearn.model_selection import train_test_split\n",
    "from autogluon.tabular import TabularPredictor\n",
    "from autogluon.core.models import AbstractModel\n"
   ]
  },
  {
   "cell_type": "code",
   "execution_count": null,
   "metadata": {},
   "outputs": [],
   "source": [
    "\n",
    "class CustomRandomForestModel(AbstractModel):\n",
    "    def __init__(self, **kwargs):\n",
    "        super().__init__(**kwargs)\n",
    "        self.model = RandomForestRegressor(n_estimators=100, random_state=0)\n",
    "\n",
    "    def _fit(self, X, y, **kwargs):\n",
    "        self.model.fit(X, y)\n",
    "\n",
    "    def _predict(self, X, **kwargs):\n",
    "        return self.model.predict(X)\n",
    "\n",
    "def prepare_data():\n",
    "    # 为示例创建一个简单的回归数据集\n",
    "    X, y = np.random.rand(1000, 5), np.random.rand(1000)\n",
    "    df = pd.DataFrame(X, columns=[f'feature_{i}' for i in range(5)])\n",
    "    df['target'] = y\n",
    "    return train_test_split(df, test_size=0.2, random_state=42)\n",
    "\n",
    "def train_autogluon_with_custom_rf():\n",
    "    train_data, test_data = prepare_data()\n",
    "    \n",
    "    # 设置 AutoGluon 预测器\n",
    "    predictor = TabularPredictor(\n",
    "        label='target',\n",
    "        problem_type='regression',\n",
    "        eval_metric='mean_squared_error'\n",
    "    )\n",
    "\n",
    "    # 创建自定义模型字典\n",
    "    custom_hyperparameters = {\n",
    "        'custom_rf': {\n",
    "            'custom_rf': CustomRandomForestModel\n",
    "        }\n",
    "    }\n",
    "\n",
    "    # 训练模型\n",
    "    predictor.fit(\n",
    "        train_data=train_data,\n",
    "        time_limit=300,  # 5分钟训练时间限制\n",
    "        presets='best_quality',  # 使用最佳质量预设\n",
    "        hyperparameters=custom_hyperparameters,  # 包括我们的自定义模型\n",
    "        num_stack_levels=2,  # 使用两层堆叠\n",
    "    )\n",
    "\n",
    "    # 评估模型\n",
    "    performance = predictor.evaluate(test_data)\n",
    "    print(f\"Test performance: {performance}\")\n",
    "\n",
    "    # 查看模型重要性\n",
    "    model_importance = predictor.feature_importance(data=test_data)\n",
    "    print(\"Feature importance:\")\n",
    "    print(model_importance)\n",
    "\n",
    "    # 查看堆叠模型的结构\n",
    "    leaderboard = predictor.leaderboard(test_data)\n",
    "    print(\"Model leaderboard:\")\n",
    "    print(leaderboard)\n",
    "\n",
    "    return predictor\n",
    "\n"
   ]
  },
  {
   "cell_type": "code",
   "execution_count": null,
   "metadata": {},
   "outputs": [],
   "source": [
    "\n",
    "trained_predictor = train_autogluon_with_custom_rf()"
   ]
  }
 ],
 "metadata": {
  "kernelspec": {
   "display_name": ".venvgis",
   "language": "python",
   "name": "python3"
  },
  "language_info": {
   "codemirror_mode": {
    "name": "ipython",
    "version": 3
   },
   "file_extension": ".py",
   "mimetype": "text/x-python",
   "name": "python",
   "nbconvert_exporter": "python",
   "pygments_lexer": "ipython3",
   "version": "3.10.11"
  }
 },
 "nbformat": 4,
 "nbformat_minor": 2
}
