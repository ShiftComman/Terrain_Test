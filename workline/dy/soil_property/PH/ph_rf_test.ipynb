{
 "cells": [
  {
   "cell_type": "code",
   "execution_count": 2,
   "metadata": {},
   "outputs": [],
   "source": [
    "import matplotlib.pyplot as plt\n",
    "import seaborn as sns\n",
    "import os\n",
    "import pickle\n",
    "import pandas as pd\n",
    "import numpy as np\n",
    "from sklearn.preprocessing import StandardScaler,LabelEncoder\n",
    "from sklearn.ensemble import RandomForestRegressor,RandomForestClassifier\n",
    "from sklearn.svm import SVR,SVC\n",
    "from sklearn.metrics import accuracy_score,precision_score,recall_score,f1_score,confusion_matrix,roc_auc_score,roc_curve,precision_recall_curve,r2_score,mean_squared_error,mean_absolute_error,mean_absolute_percentage_error,root_mean_squared_error\n",
    "from sklearn.model_selection import cross_val_score,train_test_split,GridSearchCV,RandomizedSearchCV\n",
    "from pykrige.ok import OrdinaryKriging\n",
    "import shutil\n",
    "import graphviz\n",
    "import dtreeviz\n"
   ]
  },
  {
   "cell_type": "code",
   "execution_count": 3,
   "metadata": {},
   "outputs": [
    {
     "name": "stdout",
     "output_type": "stream",
     "text": [
      "1159\n"
     ]
    },
    {
     "data": {
      "text/plain": [
       "(1159,\n",
       " Index(['ph', 'ylzjhl', 'yjz', 'qdan', 'qlin', 'qjia', 'qxi', 'yxlin', 'sxjia',\n",
       "        'hxjia', 'yxliu', 'yxgui', 'yxtie', 'yxmeng', 'yxtong', 'yxxing',\n",
       "        'yxpeng', 'yxmu', 'zgong', 'zshen', 'zqian', 'zge', 'zge2', 'znie',\n",
       "        'jxzc11', 'jxzc12', 'jxzc13', 'jxzc14', 'ph_Status', 'ylzjhl_Status',\n",
       "        'yjz_Status', 'qdan_Status', 'qlin_Status', 'qjia_Status', 'qxi_Status',\n",
       "        'yxlin_Status', 'sxjia_Status', 'hxjia_Status', 'yxliu_Status',\n",
       "        'yxgui_Status', 'yxtie_Status', 'yxmeng_Status', 'yxtong_Status',\n",
       "        'yxxing_Status', 'yxpeng_Status', 'yxmu_Status', 'zgong_Status',\n",
       "        'zshen_Status', 'zqian_Status', 'zge_Status', 'zge2_Status',\n",
       "        'znie_Status', 'jxzc11_Status', 'jxzc12_Status', 'jxzc13_Status',\n",
       "        'jxzc14_Status', 'DEM', 'AnalyticalHillshading', 'Aspect',\n",
       "        'ChannelNetworkBaseLevel', 'ChannelNetworkDistance',\n",
       "        'ClosedDepressions', 'ConvergenceIndex', 'LSFactor', 'MRRTF', 'MRVBF',\n",
       "        'PlanCurvature', 'ProfileCurvature', 'RelativeSlopePosition', 'Slope',\n",
       "        'TopographicWetnessIndex', 'TotalCatchmentArea', 'ValleyDepth',\n",
       "        'NIGHT2022', 'ETP2022_mean', 'TMP2022_mean', 'PRE2022_mean',\n",
       "        'PRE2022_3', 'PRE2022_11', 'ETP2022_3', 'ETP2022_11', 'TMP2022_3',\n",
       "        'TMP2022_11', 'evi', 'lswi', 'mndwi', 'ndmi', 'ndvi', 'ndwi', 'PCA_0',\n",
       "        'PCA_1', 'savi', 'vari', 'DL', 'DZ', 'LON', 'LAT', 'SlopeClass'],\n",
       "       dtype='object'))"
      ]
     },
     "execution_count": 3,
     "metadata": {},
     "output_type": "execute_result"
    }
   ],
   "source": [
    "# 读取数据\n",
    "data = pd.read_csv(r\"F:\\cache_data\\pre_property_table\\dy\\feature_ph_dy.csv\")\n",
    "print(len(data))\n",
    "# 删除有缺失值的行\n",
    "# data.dropna(inplace=True)\n",
    "# len(data),data.columns\n",
    "\n",
    "# 选择数值列并计算它们的均值\n",
    "numeric_cols = data.select_dtypes(include=[np.number])\n",
    "means = numeric_cols.mean()\n",
    "# 使用均值填充每个数值列的缺失值\n",
    "data[numeric_cols.columns] = data[numeric_cols.columns].fillna(means)\n",
    "len(data),data.columns"
   ]
  },
  {
   "cell_type": "code",
   "execution_count": 4,
   "metadata": {},
   "outputs": [
    {
     "data": {
      "text/html": [
       "<div>\n",
       "<style scoped>\n",
       "    .dataframe tbody tr th:only-of-type {\n",
       "        vertical-align: middle;\n",
       "    }\n",
       "\n",
       "    .dataframe tbody tr th {\n",
       "        vertical-align: top;\n",
       "    }\n",
       "\n",
       "    .dataframe thead th {\n",
       "        text-align: right;\n",
       "    }\n",
       "</style>\n",
       "<table border=\"1\" class=\"dataframe\">\n",
       "  <thead>\n",
       "    <tr style=\"text-align: right;\">\n",
       "      <th></th>\n",
       "      <th>ph</th>\n",
       "      <th>ylzjhl</th>\n",
       "      <th>yjz</th>\n",
       "      <th>qdan</th>\n",
       "      <th>qlin</th>\n",
       "      <th>qjia</th>\n",
       "      <th>qxi</th>\n",
       "      <th>yxlin</th>\n",
       "      <th>sxjia</th>\n",
       "      <th>hxjia</th>\n",
       "      <th>...</th>\n",
       "      <th>ndwi</th>\n",
       "      <th>PCA_0</th>\n",
       "      <th>PCA_1</th>\n",
       "      <th>savi</th>\n",
       "      <th>vari</th>\n",
       "      <th>DL</th>\n",
       "      <th>DZ</th>\n",
       "      <th>LON</th>\n",
       "      <th>LAT</th>\n",
       "      <th>SlopeClass</th>\n",
       "    </tr>\n",
       "  </thead>\n",
       "  <tbody>\n",
       "  </tbody>\n",
       "</table>\n",
       "<p>0 rows × 98 columns</p>\n",
       "</div>"
      ],
      "text/plain": [
       "Empty DataFrame\n",
       "Columns: [ph, ylzjhl, yjz, qdan, qlin, qjia, qxi, yxlin, sxjia, hxjia, yxliu, yxgui, yxtie, yxmeng, yxtong, yxxing, yxpeng, yxmu, zgong, zshen, zqian, zge, zge2, znie, jxzc11, jxzc12, jxzc13, jxzc14, ph_Status, ylzjhl_Status, yjz_Status, qdan_Status, qlin_Status, qjia_Status, qxi_Status, yxlin_Status, sxjia_Status, hxjia_Status, yxliu_Status, yxgui_Status, yxtie_Status, yxmeng_Status, yxtong_Status, yxxing_Status, yxpeng_Status, yxmu_Status, zgong_Status, zshen_Status, zqian_Status, zge_Status, zge2_Status, znie_Status, jxzc11_Status, jxzc12_Status, jxzc13_Status, jxzc14_Status, DEM, AnalyticalHillshading, Aspect, ChannelNetworkBaseLevel, ChannelNetworkDistance, ClosedDepressions, ConvergenceIndex, LSFactor, MRRTF, MRVBF, PlanCurvature, ProfileCurvature, RelativeSlopePosition, Slope, TopographicWetnessIndex, TotalCatchmentArea, ValleyDepth, NIGHT2022, ETP2022_mean, TMP2022_mean, PRE2022_mean, PRE2022_3, PRE2022_11, ETP2022_3, ETP2022_11, TMP2022_3, TMP2022_11, evi, lswi, mndwi, ndmi, ndvi, ndwi, PCA_0, PCA_1, savi, vari, DL, DZ, LON, LAT, SlopeClass]\n",
       "Index: []\n",
       "\n",
       "[0 rows x 98 columns]"
      ]
     },
     "execution_count": 4,
     "metadata": {},
     "output_type": "execute_result"
    }
   ],
   "source": [
    "duplicates = data.duplicated(subset=list(data.columns)[1:], keep='first')\n",
    "df_duplicates = data[duplicates]\n",
    "df_duplicates\n"
   ]
  },
  {
   "cell_type": "code",
   "execution_count": 5,
   "metadata": {},
   "outputs": [],
   "source": [
    "# 去除重复数据\n",
    "data.drop_duplicates(subset=list(data.columns)[1:], keep='first', inplace=True)"
   ]
  },
  {
   "cell_type": "code",
   "execution_count": 6,
   "metadata": {},
   "outputs": [
    {
     "data": {
      "text/html": [
       "<div>\n",
       "<style scoped>\n",
       "    .dataframe tbody tr th:only-of-type {\n",
       "        vertical-align: middle;\n",
       "    }\n",
       "\n",
       "    .dataframe tbody tr th {\n",
       "        vertical-align: top;\n",
       "    }\n",
       "\n",
       "    .dataframe thead th {\n",
       "        text-align: right;\n",
       "    }\n",
       "</style>\n",
       "<table border=\"1\" class=\"dataframe\">\n",
       "  <thead>\n",
       "    <tr style=\"text-align: right;\">\n",
       "      <th></th>\n",
       "      <th>ph</th>\n",
       "      <th>ylzjhl</th>\n",
       "      <th>yjz</th>\n",
       "      <th>qdan</th>\n",
       "      <th>qlin</th>\n",
       "      <th>qjia</th>\n",
       "      <th>qxi</th>\n",
       "      <th>yxlin</th>\n",
       "      <th>sxjia</th>\n",
       "      <th>hxjia</th>\n",
       "      <th>...</th>\n",
       "      <th>ndwi</th>\n",
       "      <th>PCA_0</th>\n",
       "      <th>PCA_1</th>\n",
       "      <th>savi</th>\n",
       "      <th>vari</th>\n",
       "      <th>DL</th>\n",
       "      <th>DZ</th>\n",
       "      <th>LON</th>\n",
       "      <th>LAT</th>\n",
       "      <th>SlopeClass</th>\n",
       "    </tr>\n",
       "  </thead>\n",
       "  <tbody>\n",
       "    <tr>\n",
       "      <th>0</th>\n",
       "      <td>5.30</td>\n",
       "      <td>6.33</td>\n",
       "      <td>27.6</td>\n",
       "      <td>1.52</td>\n",
       "      <td>0.49</td>\n",
       "      <td>4.52</td>\n",
       "      <td>0.22</td>\n",
       "      <td>19.50</td>\n",
       "      <td>94.0</td>\n",
       "      <td>88.0</td>\n",
       "      <td>...</td>\n",
       "      <td>-0.593337</td>\n",
       "      <td>0.144017</td>\n",
       "      <td>0.068568</td>\n",
       "      <td>0.434746</td>\n",
       "      <td>0.174145</td>\n",
       "      <td>13</td>\n",
       "      <td>2</td>\n",
       "      <td>423585.0</td>\n",
       "      <td>2891090.0</td>\n",
       "      <td>1</td>\n",
       "    </tr>\n",
       "    <tr>\n",
       "      <th>1</th>\n",
       "      <td>6.00</td>\n",
       "      <td>6.40</td>\n",
       "      <td>17.4</td>\n",
       "      <td>1.09</td>\n",
       "      <td>0.28</td>\n",
       "      <td>3.52</td>\n",
       "      <td>0.15</td>\n",
       "      <td>28.70</td>\n",
       "      <td>94.1</td>\n",
       "      <td>77.7</td>\n",
       "      <td>...</td>\n",
       "      <td>-0.579832</td>\n",
       "      <td>0.164497</td>\n",
       "      <td>0.080262</td>\n",
       "      <td>0.429757</td>\n",
       "      <td>0.189109</td>\n",
       "      <td>13</td>\n",
       "      <td>7</td>\n",
       "      <td>435385.0</td>\n",
       "      <td>2901755.0</td>\n",
       "      <td>2</td>\n",
       "    </tr>\n",
       "    <tr>\n",
       "      <th>2</th>\n",
       "      <td>4.38</td>\n",
       "      <td>5.64</td>\n",
       "      <td>17.5</td>\n",
       "      <td>0.73</td>\n",
       "      <td>0.11</td>\n",
       "      <td>4.29</td>\n",
       "      <td>0.43</td>\n",
       "      <td>3.39</td>\n",
       "      <td>61.2</td>\n",
       "      <td>98.0</td>\n",
       "      <td>...</td>\n",
       "      <td>-0.765559</td>\n",
       "      <td>-0.068682</td>\n",
       "      <td>-0.074368</td>\n",
       "      <td>0.426341</td>\n",
       "      <td>0.417362</td>\n",
       "      <td>3</td>\n",
       "      <td>3</td>\n",
       "      <td>469330.0</td>\n",
       "      <td>2899265.0</td>\n",
       "      <td>4</td>\n",
       "    </tr>\n",
       "    <tr>\n",
       "      <th>3</th>\n",
       "      <td>4.68</td>\n",
       "      <td>14.90</td>\n",
       "      <td>46.8</td>\n",
       "      <td>2.28</td>\n",
       "      <td>0.32</td>\n",
       "      <td>7.90</td>\n",
       "      <td>0.86</td>\n",
       "      <td>3.99</td>\n",
       "      <td>95.1</td>\n",
       "      <td>171.0</td>\n",
       "      <td>...</td>\n",
       "      <td>-0.707025</td>\n",
       "      <td>-0.043486</td>\n",
       "      <td>-0.025812</td>\n",
       "      <td>0.414616</td>\n",
       "      <td>0.384712</td>\n",
       "      <td>3</td>\n",
       "      <td>2</td>\n",
       "      <td>457710.0</td>\n",
       "      <td>2885820.0</td>\n",
       "      <td>4</td>\n",
       "    </tr>\n",
       "    <tr>\n",
       "      <th>4</th>\n",
       "      <td>7.04</td>\n",
       "      <td>14.20</td>\n",
       "      <td>51.3</td>\n",
       "      <td>3.01</td>\n",
       "      <td>0.53</td>\n",
       "      <td>24.30</td>\n",
       "      <td>0.25</td>\n",
       "      <td>5.82</td>\n",
       "      <td>112.0</td>\n",
       "      <td>306.0</td>\n",
       "      <td>...</td>\n",
       "      <td>-0.589759</td>\n",
       "      <td>0.031788</td>\n",
       "      <td>0.048853</td>\n",
       "      <td>0.389160</td>\n",
       "      <td>0.181265</td>\n",
       "      <td>13</td>\n",
       "      <td>2</td>\n",
       "      <td>442105.0</td>\n",
       "      <td>2909305.0</td>\n",
       "      <td>2</td>\n",
       "    </tr>\n",
       "  </tbody>\n",
       "</table>\n",
       "<p>5 rows × 98 columns</p>\n",
       "</div>"
      ],
      "text/plain": [
       "     ph  ylzjhl   yjz  qdan  qlin   qjia   qxi  yxlin  sxjia  hxjia  ...  \\\n",
       "0  5.30    6.33  27.6  1.52  0.49   4.52  0.22  19.50   94.0   88.0  ...   \n",
       "1  6.00    6.40  17.4  1.09  0.28   3.52  0.15  28.70   94.1   77.7  ...   \n",
       "2  4.38    5.64  17.5  0.73  0.11   4.29  0.43   3.39   61.2   98.0  ...   \n",
       "3  4.68   14.90  46.8  2.28  0.32   7.90  0.86   3.99   95.1  171.0  ...   \n",
       "4  7.04   14.20  51.3  3.01  0.53  24.30  0.25   5.82  112.0  306.0  ...   \n",
       "\n",
       "       ndwi     PCA_0     PCA_1      savi      vari  DL  DZ       LON  \\\n",
       "0 -0.593337  0.144017  0.068568  0.434746  0.174145  13   2  423585.0   \n",
       "1 -0.579832  0.164497  0.080262  0.429757  0.189109  13   7  435385.0   \n",
       "2 -0.765559 -0.068682 -0.074368  0.426341  0.417362   3   3  469330.0   \n",
       "3 -0.707025 -0.043486 -0.025812  0.414616  0.384712   3   2  457710.0   \n",
       "4 -0.589759  0.031788  0.048853  0.389160  0.181265  13   2  442105.0   \n",
       "\n",
       "         LAT  SlopeClass  \n",
       "0  2891090.0           1  \n",
       "1  2901755.0           2  \n",
       "2  2899265.0           4  \n",
       "3  2885820.0           4  \n",
       "4  2909305.0           2  \n",
       "\n",
       "[5 rows x 98 columns]"
      ]
     },
     "execution_count": 6,
     "metadata": {},
     "output_type": "execute_result"
    }
   ],
   "source": [
    "data.head()"
   ]
  },
  {
   "cell_type": "code",
   "execution_count": null,
   "metadata": {},
   "outputs": [],
   "source": [
    "# 提取单数行（偶数索引）和双数行（奇数索引）的pH值\n",
    "even_index_pH = df_duplicates.iloc[::2]['ph']  # 偶数索引行\n",
    "odd_index_pH = df_duplicates.iloc[1::2]['ph']  # 奇数索引行\n",
    "\n",
    "# 创建折线图\n",
    "plt.figure(figsize=(10, 6))\n",
    "plt.plot(even_index_pH.index, even_index_pH, label='Even Index Rows')\n",
    "plt.plot(odd_index_pH.index, odd_index_pH, label='Odd Index Rows')\n",
    "\n",
    "# 添加图例\n",
    "plt.legend()\n",
    "\n",
    "# 添加标题和标签\n",
    "plt.title('Comparison of pH Values in Even and Odd Rows')\n",
    "plt.xlabel('Index')\n",
    "plt.ylabel('pH Value')\n",
    "\n",
    "# 显示图表\n",
    "plt.show()"
   ]
  },
  {
   "cell_type": "code",
   "execution_count": 7,
   "metadata": {},
   "outputs": [],
   "source": [
    "# 改写分类字段的类型\n",
    "data['DL'] = data['DL'].astype(\"category\")\n",
    "data['DZ'] = data['DZ'].astype(\"category\")\n",
    "data['SlopeClass'] = data['SlopeClass'].astype(\"category\")"
   ]
  },
  {
   "cell_type": "code",
   "execution_count": null,
   "metadata": {},
   "outputs": [],
   "source": [
    "data.dtypes"
   ]
  },
  {
   "cell_type": "code",
   "execution_count": null,
   "metadata": {},
   "outputs": [],
   "source": [
    "data.columns"
   ]
  },
  {
   "cell_type": "code",
   "execution_count": 8,
   "metadata": {},
   "outputs": [],
   "source": [
    "X = data[['DEM', 'AnalyticalHillshading', 'Aspect',\n",
    "       'ChannelNetworkBaseLevel', 'ChannelNetworkDistance',\n",
    "       'ClosedDepressions', 'ConvergenceIndex', 'LSFactor', 'MRRTF', 'MRVBF',\n",
    "       'PlanCurvature', 'ProfileCurvature', 'RelativeSlopePosition', 'Slope',\n",
    "       'TopographicWetnessIndex', 'TotalCatchmentArea', 'ValleyDepth',\n",
    "       'NIGHT2022', 'ETP2022_mean', 'TMP2022_mean', 'PRE2022_mean',\n",
    "       'PRE2022_3', 'PRE2022_11', 'ETP2022_3', 'ETP2022_11', 'TMP2022_3',\n",
    "       'TMP2022_11', 'evi', 'lswi', 'mndwi', 'ndmi', 'ndvi', 'ndwi', 'PCA_0',\n",
    "       'PCA_1', 'savi', 'vari', 'DL', 'DZ', 'LON', 'LAT', 'SlopeClass']]\n",
    "y = data['ph']"
   ]
  },
  {
   "cell_type": "code",
   "execution_count": 9,
   "metadata": {},
   "outputs": [
    {
     "name": "stdout",
     "output_type": "stream",
     "text": [
      "(927, 42) (232, 42) (927,) (232,)\n"
     ]
    }
   ],
   "source": [
    "X_train,X_test,y_train,y_test = train_test_split(X,y,test_size=0.2,random_state=42)\n",
    "# 输出训练集和测试集的形状\n",
    "print(X_train.shape,X_test.shape,y_train.shape,y_test.shape)"
   ]
  },
  {
   "cell_type": "code",
   "execution_count": 10,
   "metadata": {},
   "outputs": [
    {
     "name": "stdout",
     "output_type": "stream",
     "text": [
      "Fitting 5 folds for each of 100 candidates, totalling 500 fits\n",
      "Best Parameters: \n",
      " {'n_estimators': 690, 'min_samples_split': 12, 'min_samples_leaf': 10, 'max_features': 1.0, 'max_depth': 26, 'bootstrap': True}\n",
      "Test accuracy: 0.25507751234829357\n"
     ]
    }
   ],
   "source": [
    "# 定义随机森林超参数的取值范围\n",
    "param_dist = {\n",
    "    'n_estimators': np.arange(10, 1000, 10),\n",
    "    'max_features': [1.0],\n",
    "    'max_depth': [None] + list(np.arange(1, 28)),\n",
    "    'min_samples_split': np.arange(2, 21),\n",
    "    'min_samples_leaf': np.arange(1, 21),\n",
    "    'bootstrap': [True, False]\n",
    "}\n",
    "\n",
    "# 创建随机森林回归器\n",
    "clf = RandomForestRegressor()\n",
    "\n",
    "# 使用RandomizedSearchCV来寻找最佳参数\n",
    "random_search = RandomizedSearchCV(clf, param_distributions=param_dist, n_iter=100, cv=5, verbose=1, random_state=42, n_jobs=-1)\n",
    "random_search.fit(X_train, y_train)\n",
    "\n",
    "# 打印最佳参数\n",
    "print('Best Parameters: \\n', random_search.best_params_)\n",
    "\n",
    "# 使用最佳参数对测试集进行评估\n",
    "best_clf = random_search.best_estimator_\n",
    "score = best_clf.score(X_test, y_test)\n",
    "print('Test accuracy:', score)\n"
   ]
  },
  {
   "cell_type": "code",
   "execution_count": 19,
   "metadata": {},
   "outputs": [],
   "source": [
    "y_train_pred = best_clf.predict(X_train)\n",
    "y_test_pred = best_clf.predict(X_test)"
   ]
  },
  {
   "cell_type": "code",
   "execution_count": 23,
   "metadata": {},
   "outputs": [
    {
     "data": {
      "text/plain": [
       "(0.5779226889840031, 0.25507751234829357)"
      ]
     },
     "execution_count": 23,
     "metadata": {},
     "output_type": "execute_result"
    }
   ],
   "source": [
    "r2_score(y_train,y_train_pred),r2_score(y_test,y_test_pred)"
   ]
  },
  {
   "cell_type": "code",
   "execution_count": 24,
   "metadata": {},
   "outputs": [],
   "source": [
    "coord_cols = ['LON','LAT']"
   ]
  },
  {
   "cell_type": "code",
   "execution_count": 25,
   "metadata": {},
   "outputs": [],
   "source": [
    "# 计算残差\n",
    "residuals_train = y_train - y_train_pred\n",
    "\n",
    "# 克里金残差训练\n",
    "OK = OrdinaryKriging(X_train[coord_cols[0]], X_train[coord_cols[1]], residuals_train, variogram_model='spherical')\n",
    "kriging_predictions_test, _ = OK.execute('points', X_test[coord_cols[0]], X_test[coord_cols[1]])\n",
    "\n",
    "# 最终预测\n",
    "predictions_test = y_test_pred + kriging_predictions_test\n",
    "\n",
    "# 计算克里金残差评估分数\n",
    "r2_rk = r2_score(y_test, predictions_test)\n",
    "mae_rk = mean_absolute_error(y_test, predictions_test)\n",
    "mse_rk = mean_squared_error(y_test, predictions_test)\n",
    "rmse_rk = np.sqrt(mse_rk)\n"
   ]
  },
  {
   "cell_type": "code",
   "execution_count": null,
   "metadata": {},
   "outputs": [],
   "source": [
    "    \n",
    "    # 输出克里金残差评估分数\n",
    "    print(f\"Regression Kriging R2: {r2_rk}\")\n",
    "    print(f\"Regression Kriging MAE: {mae_rk}\")\n",
    "    print(f\"Regression Kriging MSE: {mse_rk}\")\n",
    "    print(f\"Regression Kriging RMSE: {rmse_rk}\")"
   ]
  },
  {
   "cell_type": "code",
   "execution_count": null,
   "metadata": {},
   "outputs": [],
   "source": [
    "# 使用最优参数训练RandomForestRegressor模型\n",
    "rf = RandomForestRegressor(n_estimators=90,criterion='squared_error', min_samples_split=6, min_samples_leaf= 8, max_features=1.0, max_depth=21, bootstrap= True)\n",
    "rf.fit(X_train,y_train)\n",
    "y_test_pred = rf.predict(X_test)\n",
    "y_train_pred = rf.predict(X_train)\n",
    "r2_score(y_test,y_test_pred),r2_score(y_train,y_train_pred)"
   ]
  },
  {
   "cell_type": "code",
   "execution_count": null,
   "metadata": {},
   "outputs": [],
   "source": [
    "r2 = r2_score(y_test,y_test_pred)\n",
    "# 画图\n",
    "plt.scatter(y_test, y_test_pred, c='b', alpha=0.5)\n",
    "\n",
    "fit = np.polyfit(y_test, y_test_pred,deg=1)\n",
    "fit_fn = np.poly1d(fit) \n",
    "plt.plot(y_test, fit_fn(y_test), c='r')\n",
    "\n",
    "plt.xlim([min(y_test)-0.5, max(y_test)+0.5])\n",
    "plt.ylim([min(y_test_pred)-0.5, max(y_test_pred)+0.5])\n",
    "plt.xlabel('True Values')\n",
    "plt.ylabel('Predicted Values')\n",
    "plt.title('R^2: %.2f' % r2)\n",
    "plt.grid()\n",
    "\n",
    "plt.show()"
   ]
  },
  {
   "cell_type": "code",
   "execution_count": null,
   "metadata": {},
   "outputs": [],
   "source": [
    "plt.figure(figsize=(10,5))\n",
    "plt.plot(range(len(y_test[:100])),y_test[:100],c='r',label='True value')\n",
    "plt.plot(range(len(y_test_pred[:100])),y_test_pred[:100],c='c',label = 'Prediction value')\n",
    "plt.legend()\n",
    "plt.show()"
   ]
  },
  {
   "cell_type": "code",
   "execution_count": null,
   "metadata": {},
   "outputs": [],
   "source": [
    "mse_score = mean_squared_error(y_test, y_test_pred)\n",
    "mae_score = mean_absolute_error(y_test, y_test_pred)\n",
    "mape_score = mean_absolute_percentage_error(y_test, y_test_pred)\n",
    "rmse_score = root_mean_squared_error(y_test, y_test_pred)\n",
    "r2score = r2_score(y_test, y_test_pred)\n",
    "print('Mse:', mse_score,'Mae',mae_score,'Mape',mape_score,'Rmse',rmse_score,'r2score',r2score)\n"
   ]
  },
  {
   "cell_type": "code",
   "execution_count": null,
   "metadata": {},
   "outputs": [],
   "source": [
    "a = rf.feature_importances_\n",
    "a"
   ]
  },
  {
   "cell_type": "code",
   "execution_count": null,
   "metadata": {},
   "outputs": [],
   "source": [
    "# 绘制特征重要性柱状图\n",
    "plt.figure(figsize=(10, 8.5))\n",
    "plt.barh(X.columns, a)\n",
    "plt.xlabel('Feature Importance')\n",
    "plt.ylabel('Features')\n",
    "plt.title('Feature Importance')\n",
    "plt.show()"
   ]
  },
  {
   "cell_type": "code",
   "execution_count": null,
   "metadata": {},
   "outputs": [],
   "source": [
    "# 数据标准化后再训练\n",
    "from sklearn.preprocessing import StandardScaler, MinMaxScaler, RobustScaler\n",
    "\n",
    "\n",
    "\n",
    "# 划分训练集和测试集\n",
    "X_train, X_test, y_train, y_test = train_test_split(X, y, test_size=0.2, random_state=0)\n",
    "\n",
    "# 实例化标准化器\n",
    "\n",
    "# scaler = StandardScaler()  # Z得分标准化（Standard Scaling）:将数据按属性（按列进行）减去其均值，并除以其标准差。结果的分布将具有均值为 0 和标准差为 1。\n",
    "\n",
    "scaler = MinMaxScaler()  # 最小-最大标准化（Min-Max Scaling）:将所有特征缩放到 [0, 1] 范围内，或者是其他指定的范围。对异常值非常敏感。\n",
    "\n",
    "# 加载数据\n",
    "# scaler = RobustScaler()  # 稳健标准化（Robust Scaling）:使用四分位数范围来缩放数据，因此它对异常值不敏感。\n",
    "for model in [StandardScaler(),MinMaxScaler(),RobustScaler()]:\n",
    "    scaler = model\n",
    "\n",
    "    # 对训练数据进行拟合和转换\n",
    "    X_train_scaled = scaler.fit_transform(X_train)\n",
    "\n",
    "    # 对测试数据进行转换\n",
    "    X_test_scaled = scaler.transform(X_test)\n",
    "\n",
    "    # 训练随机森林模型\n",
    "    rf.fit(X_train_scaled, y_train)\n",
    "\n",
    "    # 模型评估（例如，使用 R2 分数）\n",
    "    r2score = rf.score(X_test_scaled, y_test)\n",
    "    print(\"R2 Score: \", r2score)\n",
    "\n"
   ]
  },
  {
   "cell_type": "code",
   "execution_count": null,
   "metadata": {},
   "outputs": [],
   "source": [
    "# 克里金残差训练\n",
    "# 计算残差\n",
    "residuals_test =y_train - y_train_pred\n",
    "# 克里金残差测试\n",
    "OK = OrdinaryKriging(X_train['LON'], X_train['LAT'], residuals_test, variogram_model='spherical')  #variogram_model:linear,gaussian,exponential,spherical\n",
    "kriging_predictions_test, _ = OK.execute('points', X_test['LON'], X_test['LAT'])\n",
    "predictions_test = y_test_pred + kriging_predictions_test\n",
    "# 计算R2\n",
    "r2 = r2_score(y_test, predictions_test)\n",
    "r2\n"
   ]
  },
  {
   "cell_type": "code",
   "execution_count": null,
   "metadata": {},
   "outputs": [],
   "source": [
    "# 计算R2\n",
    "r2 = r2_score(y_test, y_test_pred)\n",
    "\n",
    "r2"
   ]
  },
  {
   "cell_type": "code",
   "execution_count": null,
   "metadata": {},
   "outputs": [],
   "source": [
    "# 递归特征消除 (选择最佳组合特征)\n",
    "from sklearn.feature_selection import RFE,RFECV\n",
    "\n",
    "# RFE\n",
    "selector = RFECV(RandomForestRegressor(n_jobs=4),step=1,cv=5,n_jobs=4)\n",
    "selector = selector.fit(X_train, y_train)\n",
    "\n",
    "# 查看选中的特征\n",
    "selected_features = selector.support_\n",
    "# 计算测试集的 R2 分数\n",
    "y_pred = selector.predict(X_test)\n",
    "r2 = r2_score(y_test, y_pred)\n",
    "print(\"Selected Features: \", selected_features)\n",
    "print(\"Number of Selected Features: \", selector.n_features_)\n",
    "print(\"R2 Score: \", r2)"
   ]
  },
  {
   "cell_type": "code",
   "execution_count": null,
   "metadata": {},
   "outputs": [],
   "source": [
    "selected_features,selector.n_features_"
   ]
  },
  {
   "cell_type": "code",
   "execution_count": null,
   "metadata": {},
   "outputs": [],
   "source": [
    "# 迭代优化 (选择最佳组合特征)\n",
    "\n",
    "best_score = 0\n",
    "best_features = None\n",
    "\n",
    "# 尝试不同数量的特征\n",
    "for i in range(1, X_train.shape[1] + 1):\n",
    "    # RFE 选择特征\n",
    "    selector = RFE(RandomForestRegressor(n_jobs=4), n_features_to_select=i, step=1)\n",
    "    selector = selector.fit(X_train, y_train)\n",
    "\n",
    "    # 预测并计算 R2 分数\n",
    "    y_pred = selector.predict(X_test)\n",
    "    score = r2_score(y_test, y_pred)\n",
    "\n",
    "    # 更新最佳分数和特征\n",
    "    if score > best_score:\n",
    "        best_score = score\n",
    "        best_features = selector.support_\n",
    "\n",
    "print(\"Best R2 Score: \", best_score)\n",
    "print(\"Best Features: \", best_features)"
   ]
  },
  {
   "cell_type": "code",
   "execution_count": null,
   "metadata": {},
   "outputs": [],
   "source": [
    "a = [True,  True, False, False,  True, False, False, False,  True,  True,  True,  True,\n",
    " False, False,  True, False, False, False, False, False, False, False,  True,  True,\n",
    " False, False,  True,  True, False, False, False,  True,  True,  True]\n",
    "features_list = list(data.columns)\n",
    "features_list.remove('pH')"
   ]
  },
  {
   "cell_type": "code",
   "execution_count": null,
   "metadata": {},
   "outputs": [],
   "source": [
    "features = [features_list[index] for index, item in enumerate(a) if item == True]\n"
   ]
  },
  {
   "cell_type": "code",
   "execution_count": null,
   "metadata": {},
   "outputs": [],
   "source": [
    "print(features),len(features)"
   ]
  }
 ],
 "metadata": {
  "kernelspec": {
   "display_name": ".venvgis",
   "language": "python",
   "name": "python3"
  },
  "language_info": {
   "codemirror_mode": {
    "name": "ipython",
    "version": 3
   },
   "file_extension": ".py",
   "mimetype": "text/x-python",
   "name": "python",
   "nbconvert_exporter": "python",
   "pygments_lexer": "ipython3",
   "version": "3.10.11"
  },
  "orig_nbformat": 4
 },
 "nbformat": 4,
 "nbformat_minor": 2
}
