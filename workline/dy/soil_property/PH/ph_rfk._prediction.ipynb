{
 "cells": [
  {
   "cell_type": "code",
   "execution_count": 2,
   "metadata": {},
   "outputs": [],
   "source": [
    "import os\n",
    "import pandas as pd\n",
    "import numpy as np\n",
    "from sklearn.metrics import r2_score\n",
    "from tqdm import tqdm\n",
    "import pickle\n",
    "import matplotlib.pyplot as plt\n",
    "from sklearn.model_selection import train_test_split\n",
    "from sklearn.ensemble import RandomForestRegressor\n",
    "from pykrige.rk import RegressionKriging\n",
    "from pykrige.ok import OrdinaryKriging\n",
    "from typing import Tuple, Dict, List"
   ]
  },
  {
   "cell_type": "code",
   "execution_count": 3,
   "metadata": {},
   "outputs": [],
   "source": [
    "# 预测结果存放路径\n",
    "pre_save_path = r'F:\\cache_data\\pre_property_table\\dy\\rfrk_pre'\n",
    "# 特征文件存放路径\n",
    "features_path = r'F:\\cache_data\\pre_property_table\\dy\\features_table'\n",
    "# 用于训练的数据路径\n",
    "data_path = r\"F:\\cache_data\\pre_property_table\\dy\\feature_ph_dy.csv\"\n",
    "# 读取数据\n",
    "data = pd.read_csv(data_path)"
   ]
  },
  {
   "cell_type": "code",
   "execution_count": 4,
   "metadata": {},
   "outputs": [
    {
     "name": "stdout",
     "output_type": "stream",
     "text": [
      "344 F:\\cache_data\\pre_property_table\\dy\\features_table\\data_chunk_000.csv\n"
     ]
    }
   ],
   "source": [
    "# 获取所有的特征表格列表\n",
    "def get_all_csv_list(path):\n",
    "    csv_list = []\n",
    "    for root, dirs, files in os.walk(path):\n",
    "        for file in files:\n",
    "            if file.endswith(\".csv\"):\n",
    "                csv_list.append(os.path.join(root, file))\n",
    "    sorted_files = sorted(csv_list, key=lambda x: int(x.rsplit('_', 1)[-1].split('.')[0]))\n",
    "    return sorted_files\n",
    "csv_list = get_all_csv_list(features_path)\n",
    "print(len(csv_list),csv_list[0])"
   ]
  },
  {
   "cell_type": "code",
   "execution_count": 5,
   "metadata": {},
   "outputs": [],
   "source": [
    "def compare_models_and_train_kriging(\n",
    "    X: pd.DataFrame, \n",
    "    y: pd.Series, \n",
    "    rf_model: RandomForestRegressor,\n",
    "    coord_cols:list,\n",
    "    test_size: float = 0.99,\n",
    "    random_state: int = 42\n",
    ") -> Tuple[Dict[str, float], RandomForestRegressor]:\n",
    "    \"\"\"\n",
    "    比较RF和RFRK模型的性能，如果RFRK更好，则进行克里金残差训练。\n",
    "\n",
    "    :param X: 特征数据\n",
    "    :param y: 目标变量\n",
    "    :param rf_model: 已训练的随机森林模型\n",
    "    :param coordinates: 样本点的空间坐标，形状为 (n_samples, n_dims)\n",
    "    :param test_size: 测试集比例\n",
    "    :param random_state: 随机种子\n",
    "    :return: 包含R2分数的字典和可能更新的RF模型\n",
    "    \"\"\"\n",
    "    # 分割数据\n",
    "    X_train, X_test, y_train, y_test, = train_test_split(\n",
    "        X, y, test_size=test_size, random_state=random_state\n",
    "    )\n",
    "\n",
    "    # 评估RF模型\n",
    "    rf_predictions = rf_model.predict(X_test)\n",
    "    rf_r2 = r2_score(y_test, rf_predictions)\n",
    "\n",
    "    # 计算RF模型的残差\n",
    "    rf_train_predictions = rf_model.predict(X_train)\n",
    "    residuals_train = y_train - rf_train_predictions\n",
    "\n",
    "    # 使用普通克里金对残差进行插值\n",
    "    OK = OrdinaryKriging(\n",
    "        X_train[coord_cols[0]], \n",
    "        X_train[coord_cols[1]], \n",
    "        residuals_train, \n",
    "        variogram_model='spherical'\n",
    "    )\n",
    "    kriging_predictions_test, _ = OK.execute('points', X_test[coord_cols[0]], X_test[coord_cols[1]])\n",
    "\n",
    "    # 组合RF预测和克里金插值\n",
    "    rf_kriging_predictions = rf_model.predict(X_test) + kriging_predictions_test\n",
    "    rf_kriging_r2 = r2_score(y_test, rf_kriging_predictions)\n",
    "\n",
    "    print(f\"RF R2 score: {rf_r2}\")\n",
    "    print(f\"RF+Kriging R2 score: {rf_kriging_r2}\")\n",
    "\n",
    "    results = {\"RF_R2\": rf_r2, \"RFRK_R2\": rf_kriging_r2}\n",
    "\n",
    "    if rf_kriging_r2 > rf_r2:\n",
    "        print(\"RFRK性能更好，正在更新模型...\")\n",
    "        # 更新RF模型的预测\n",
    "        def updated_predict(X_new):\n",
    "            rf_pred = rf_model.predict(X_new)\n",
    "            kriging_pred, _ = OK.execute('points', X_new[coord_cols[0]], X_new[coord_cols[1]])\n",
    "            return rf_pred + kriging_pred\n",
    "\n",
    "        # 将更新后的预测方法添加到RF模型\n",
    "        rf_model.predict_with_kriging = updated_predict\n",
    "\n",
    "        # 评估更新后的模型\n",
    "        updated_predictions = updated_predict(X_test)\n",
    "        updated_r2 = r2_score(y_test, updated_predictions)\n",
    "        print(f\"Updated RF+Kriging R2 score: {updated_r2}\")\n",
    "        results[\"Updated_RF_Kriging_R2\"] = updated_r2\n",
    "\n",
    "    return results, rf_model\n",
    "\n"
   ]
  },
  {
   "cell_type": "code",
   "execution_count": 6,
   "metadata": {},
   "outputs": [],
   "source": [
    "# 选择数值列并计算它们的均值\n",
    "numeric_cols = data.select_dtypes(include=[np.number])\n",
    "means = numeric_cols.mean()\n",
    "# 使用均值填充每个数值列的缺失值\n",
    "data[numeric_cols.columns] = data[numeric_cols.columns].fillna(means)\n",
    "data['DL'] = data['DL'].astype(\"category\")\n",
    "data['DZ'] = data['DZ'].astype(\"category\")\n",
    "data['SlopeClass'] = data['SlopeClass'].astype(\"category\")"
   ]
  },
  {
   "cell_type": "code",
   "execution_count": 7,
   "metadata": {},
   "outputs": [
    {
     "name": "stdout",
     "output_type": "stream",
     "text": [
      "zqian\n",
      "RF R2 score: 0.18834480462301406\n",
      "RF+Kriging R2 score: 0.15066090310207825\n"
     ]
    },
    {
     "name": "stderr",
     "output_type": "stream",
     "text": [
      "344it [53:56,  9.41s/it]\n"
     ]
    },
    {
     "name": "stdout",
     "output_type": "stream",
     "text": [
      "zge\n",
      "RF R2 score: 0.06251009111787253\n",
      "RF+Kriging R2 score: 0.04998924954514328\n"
     ]
    },
    {
     "name": "stderr",
     "output_type": "stream",
     "text": [
      "344it [39:12,  6.84s/it]\n"
     ]
    },
    {
     "name": "stdout",
     "output_type": "stream",
     "text": [
      "zge2\n",
      "RF R2 score: 0.4673621289553681\n",
      "RF+Kriging R2 score: 0.26448774898964134\n"
     ]
    },
    {
     "name": "stderr",
     "output_type": "stream",
     "text": [
      "344it [39:33,  6.90s/it]\n"
     ]
    },
    {
     "name": "stdout",
     "output_type": "stream",
     "text": [
      "znie\n",
      "RF R2 score: 0.5179149428789385\n",
      "RF+Kriging R2 score: 0.39274112740994527\n"
     ]
    },
    {
     "name": "stderr",
     "output_type": "stream",
     "text": [
      "344it [37:43,  6.58s/it]\n"
     ]
    },
    {
     "name": "stdout",
     "output_type": "stream",
     "text": [
      "jxzc11\n",
      "RF R2 score: 0.04584746389780181\n",
      "RF+Kriging R2 score: -0.06712878195044314\n"
     ]
    },
    {
     "name": "stderr",
     "output_type": "stream",
     "text": [
      "344it [07:55,  1.38s/it]\n"
     ]
    },
    {
     "name": "stdout",
     "output_type": "stream",
     "text": [
      "jxzc12\n",
      "RF R2 score: 0.06317949616997365\n",
      "RF+Kriging R2 score: -0.6728815220874753\n"
     ]
    },
    {
     "name": "stderr",
     "output_type": "stream",
     "text": [
      "344it [11:56,  2.08s/it]\n"
     ]
    },
    {
     "name": "stdout",
     "output_type": "stream",
     "text": [
      "jxzc13\n",
      "RF R2 score: 0.11562413240182756\n",
      "RF+Kriging R2 score: 0.11590725290989246\n",
      "RFRK性能更好，正在更新模型...\n",
      "Updated RF+Kriging R2 score: 0.11590725290989246\n"
     ]
    },
    {
     "name": "stderr",
     "output_type": "stream",
     "text": [
      "344it [19:00,  3.32s/it]\n"
     ]
    },
    {
     "name": "stdout",
     "output_type": "stream",
     "text": [
      "jxzc14\n",
      "RF R2 score: 0.20294405017943629\n",
      "RF+Kriging R2 score: 0.19941091608191763\n"
     ]
    },
    {
     "name": "stderr",
     "output_type": "stream",
     "text": [
      "344it [13:26,  2.34s/it]\n"
     ]
    }
   ],
   "source": [
    "# for one_lable in ['ph', 'ylzjhl', 'yjz', 'qdan', 'qlin', 'qjia', 'qxi', 'yxlin', 'sxjia',\n",
    "#        'hxjia', 'yxliu', 'yxgui', 'yxtie', 'yxmeng', 'yxtong', 'yxxing',\n",
    "#        'yxpeng', 'yxmu', 'zgong', 'zshen', 'zqian', 'zge', 'zge2', 'znie',\n",
    "#        'jxzc11', 'jxzc12', 'jxzc13', 'jxzc14',]:\n",
    "for one_lable in ['zqian', 'zge', 'zge2', 'znie',\n",
    "       'jxzc11', 'jxzc12', 'jxzc13', 'jxzc14',]:\n",
    "    print(one_lable)    \n",
    "    label = one_lable\n",
    "    model_path = os.path.join(r\"F:\\cache_data\\model_path\\dy\\rfrk\",label)\n",
    "    model_abs_path = os.path.join(model_path,f\"{label}_rf_model.pkl\")\n",
    "\n",
    "    # 加载模型\n",
    "    with open(model_abs_path, 'rb') as file:\n",
    "        rf_model = pickle.load(file)\n",
    "\n",
    "    # 获取模型的特征列\n",
    "    model_features = rf_model.feature_names_in_\n",
    "    X = data[model_features]\n",
    "    y = data[label]\n",
    "    coordinates = ['LON', 'LAT']\n",
    "    # 使用示例\n",
    "    results, updated_model = compare_models_and_train_kriging(X, y, rf_model, coordinates)\n",
    "    # 进行预测\n",
    "    predictions_list = []\n",
    "    for idx,one_csv in tqdm(enumerate(csv_list)):\n",
    "        temp_data = pd.read_csv(one_csv)\n",
    "        temp_X = temp_data[model_features]\n",
    "        # 处理无穷小和无穷大问题，类型变更为float32\n",
    "        temp_X = temp_X.replace([np.inf, -np.inf], np.nan).astype(np.float32)\n",
    "        temp_pred = updated_model.predict_with_kriging(temp_X) if hasattr(updated_model, 'predict_with_kriging') else updated_model.predict(temp_X)\n",
    "        predictions_list.append(pd.Series(temp_pred, name=f'prediction_{idx}'))\n",
    "    pred_df = pd.concat(predictions_list, axis=1)\n",
    "    # 保存预测结果\n",
    "    pred_df.to_csv(os.path.join(pre_save_path, f\"{label}_pred.csv\"), index=False)"
   ]
  }
 ],
 "metadata": {
  "kernelspec": {
   "display_name": ".venvgis",
   "language": "python",
   "name": "python3"
  },
  "language_info": {
   "codemirror_mode": {
    "name": "ipython",
    "version": 3
   },
   "file_extension": ".py",
   "mimetype": "text/x-python",
   "name": "python",
   "nbconvert_exporter": "python",
   "pygments_lexer": "ipython3",
   "version": "3.10.11"
  }
 },
 "nbformat": 4,
 "nbformat_minor": 2
}
