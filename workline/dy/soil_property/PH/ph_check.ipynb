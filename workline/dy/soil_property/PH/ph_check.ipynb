{
 "cells": [
  {
   "cell_type": "markdown",
   "metadata": {},
   "source": [
    "# 检查准确率"
   ]
  },
  {
   "cell_type": "markdown",
   "metadata": {},
   "source": [
    "# 1、输入样点数据进行采样\n"
   ]
  },
  {
   "cell_type": "code",
   "execution_count": null,
   "metadata": {},
   "outputs": [],
   "source": [
    "import os\n",
    "import pandas as pd\n",
    "import numpy as np\n",
    "import shutil\n",
    "import arcpy\n",
    "from sklearn.metrics import r2_score, mean_squared_error, mean_absolute_error, mean_absolute_percentage_error,mean_squared_log_error\n",
    "import matplotlib.pyplot as plt\n",
    "import seaborn as sns\n",
    "from arcpy import env\n",
    "from arcpy.management import *\n",
    "from arcpy.sa import *\n",
    "from arcpy.da import *\n",
    "from arcpy.conversion import *"
   ]
  },
  {
   "cell_type": "code",
   "execution_count": null,
   "metadata": {},
   "outputs": [],
   "source": [
    "# 分析函数\n",
    "# 取消并行处理\n",
    "def disable_parallel_processing(func):\n",
    "    def wrapper(*args, **kwargs):\n",
    "        with arcpy.EnvManager(parallelProcessingFactor=\"0\"):\n",
    "            return func(*args, **kwargs)\n",
    "    return wrapper\n",
    "# 采样\n",
    "def sample_point(point_,raster_,out_name):\n",
    "    \"\"\"根据栅格采样点,输出为表格\"\"\"\n",
    "    Sample(raster_,point_,out_name,\"NEAREST\", \"OBJECTID\", \"CURRENT_SLICE\", None, '', None, None, \"ROW_WISE\", \"TABLE\")\n",
    "    return None\n",
    "\n",
    "# 导出CSV\n",
    "def export_csv(table_,out_path,out_name):\n",
    "    TableToTable(table_,out_path,out_name)\n",
    "    return None\n",
    "\n",
    "# xy表转点\n",
    "def xy_to_point(in_table,out_feature_class,x_field,y_field,z_field=None,coordinate_system=arcpy.SpatialReference(4326)):\n",
    "    \"\"\"将xy表转点，坐标系默认为WGS84\"\"\"\n",
    "    arcpy.management.XYTableToPoint(in_table=in_table, out_feature_class=out_feature_class, x_field=x_field, y_field=y_field, z_field=z_field, coordinate_system=coordinate_system)\n",
    "    return None\n"
   ]
  },
  {
   "cell_type": "code",
   "execution_count": null,
   "metadata": {},
   "outputs": [],
   "source": [
    "# 表格路径\n",
    "point_data_table = r\"C:\\Users\\Runker\\Desktop\\dy_result.csv\""
   ]
  },
  {
   "cell_type": "code",
   "execution_count": null,
   "metadata": {},
   "outputs": [],
   "source": [
    "# 点位数据路径\n",
    "check_point_data_path = r'D:\\ArcGISProjects\\workspace\\shbyq\\features_data_vector.gdb\\features_dy\\pro_check_point'\n",
    "# 预测结果属性图路径\n",
    "check_raster_data_path =r'D:\\ArcGISProjects\\workspace\\shbyq\\feature_raster_file\\features_data_dy.gdb\\PH'\n",
    "# 存储采样数据表的文件地理数据库\n",
    "sample_gdb_path = r\"F:\\cache_data\\process_table_database\\tabledata.gdb\" # 需要改变"
   ]
  },
  {
   "cell_type": "code",
   "execution_count": null,
   "metadata": {},
   "outputs": [],
   "source": [
    "# xy表转点\n",
    "xy_to_point(point_data_table,check_point_data_path,'cyjd','cywd')"
   ]
  },
  {
   "cell_type": "code",
   "execution_count": null,
   "metadata": {},
   "outputs": [],
   "source": [
    "# 采样点数据名称\n",
    "sample_name = 'pro_check_point'\n",
    "# 属性图层名称\n",
    "feature_name = 'PH'\n",
    "filed_list = [_.name for _ in arcpy.ListFields(check_point_data_path)]\n",
    "print(filed_list)\n",
    "# 需要保留的字段\n",
    "elements_yes = ['OBJECTID', 'ph']\n",
    "filter_list = [_ for _ in filed_list if _ in elements_yes]\n",
    "print(filter_list)"
   ]
  },
  {
   "cell_type": "code",
   "execution_count": null,
   "metadata": {},
   "outputs": [],
   "source": [
    "# 使用Delete_management函数删除数据库中的所有内容\n",
    "try:\n",
    "    arcpy.Delete_management(sample_gdb_path)\n",
    "except:\n",
    "    pass\n",
    "# 再创建一个新的数据库\n",
    "arcpy.management.CreateFileGDB(os.path.dirname(sample_gdb_path), \"tabledata\", \"CURRENT\")\n",
    "# 采样并保存到csv文件\n",
    "sample_point(check_point_data_path,check_raster_data_path,os.path.join(sample_gdb_path,feature_name))"
   ]
  },
  {
   "cell_type": "code",
   "execution_count": null,
   "metadata": {},
   "outputs": [],
   "source": [
    "# 读取原表\n",
    "old_df = pd.DataFrame(arcpy.da.FeatureClassToNumPyArray(check_point_data_path, elements_yes))"
   ]
  },
  {
   "cell_type": "code",
   "execution_count": null,
   "metadata": {},
   "outputs": [],
   "source": [
    "# 读取采样表\n",
    "sample_df = pd.DataFrame(arcpy.da.TableToNumPyArray(os.path.join(sample_gdb_path,feature_name), \"*\", null_value=0))  # 确保数据表中无空值"
   ]
  },
  {
   "cell_type": "code",
   "execution_count": null,
   "metadata": {},
   "outputs": [],
   "source": [
    "# 连接表\n",
    "\n",
    "result_df = pd.merge(old_df, sample_df, on='OBJECTID', how='left')"
   ]
  },
  {
   "cell_type": "code",
   "execution_count": null,
   "metadata": {},
   "outputs": [],
   "source": [
    "\n",
    "# 评估指标\n",
    "pre_value = result_df['PH_Band_1']\n",
    "actual_value = result_df['ph']\n",
    "# 计算R2\n",
    "print(f'r2:{r2_score(actual_value, pre_value)}')\n",
    "# 计算MSE\n",
    "print(f'mse:{mean_squared_error(actual_value,pre_value)}')\n",
    "# 计算MAE\n",
    "print(f'mae:{mean_absolute_error(actual_value,pre_value)}')\n",
    "# 计算RMSE\n",
    "print(f'rmse:{np.sqrt(mean_squared_error(actual_value,pre_value))}')\n",
    "# 计算RMSLE\n",
    "print(f'rmsle:{np.sqrt(mean_squared_log_error(actual_value,pre_value))}')\n",
    "# 计算MAPE\n",
    "print(f'mape:{mean_absolute_percentage_error(actual_value,pre_value)}')\n"
   ]
  },
  {
   "cell_type": "code",
   "execution_count": null,
   "metadata": {},
   "outputs": [],
   "source": [
    "\n",
    "# 设置Seaborn样式\n",
    "sns.set(style=\"whitegrid\")\n",
    "\n",
    "# 创建散点图和回归线\n",
    "plt.figure(figsize=(10, 5))\n",
    "sns.regplot(x='ph', y='PH_Band_1', data=result_df[['ph','PH_Band_1']], scatter_kws={'s':50}, line_kws={'color':'red'})\n",
    "\n",
    "# 添加标题和标签\n",
    "plt.title('Actual vs Predicted Values')\n",
    "plt.xlabel('Actual Values')\n",
    "plt.ylabel('Predicted Values')\n",
    "\n",
    "# 显示图表\n",
    "plt.show()\n"
   ]
  },
  {
   "cell_type": "code",
   "execution_count": null,
   "metadata": {},
   "outputs": [],
   "source": [
    "\n",
    "# 设置Seaborn样式\n",
    "sns.set(style=\"whitegrid\")\n",
    "\n",
    "# 创建图表\n",
    "plt.figure(figsize=(10, 5))\n",
    "\n",
    "# 绘制真实值和预测值的散点图\n",
    "sns.scatterplot(x=result_df.index, y='ph', data=result_df, color='blue', s=100, label='Actual', marker='o')\n",
    "sns.scatterplot(x=result_df.index, y='PH_Band_1', data=result_df, color='red', s=100, label='Predicted', marker='x')\n",
    "\n",
    "# 添加回归线\n",
    "sns.lineplot(x=result_df.index, y='ph', data=result_df, color='blue', linestyle='--')\n",
    "sns.lineplot(x=result_df.index, y='PH_Band_1', data=result_df, color='red', linestyle='--')\n",
    "\n",
    "# 添加标题和标签\n",
    "plt.title('Actual vs Predicted Values')\n",
    "plt.xlabel('Index')\n",
    "plt.ylabel('Value')\n",
    "\n",
    "# 显示图表\n",
    "plt.legend()\n",
    "plt.show()\n"
   ]
  }
 ],
 "metadata": {
  "kernelspec": {
   "display_name": "Python 3",
   "language": "python",
   "name": "python3"
  },
  "language_info": {
   "codemirror_mode": {
    "name": "ipython",
    "version": 3
   },
   "file_extension": ".py",
   "mimetype": "text/x-python",
   "name": "python",
   "nbconvert_exporter": "python",
   "pygments_lexer": "ipython3",
   "version": "3.9.11"
  }
 },
 "nbformat": 4,
 "nbformat_minor": 2
}
