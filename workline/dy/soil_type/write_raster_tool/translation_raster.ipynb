{
 "cells": [
  {
   "cell_type": "code",
   "execution_count": 2,
   "metadata": {},
   "outputs": [],
   "source": [
    "import arcpy\n",
    "import os\n",
    "import pandas as pd\n",
    "import numpy as np\n",
    "from arcpy import env\n",
    "from arcpy.management import *\n",
    "from arcpy.conversion import *\n",
    "from arcpy.da import *\n",
    "from arcpy.sa import *"
   ]
  },
  {
   "cell_type": "code",
   "execution_count": 3,
   "metadata": {},
   "outputs": [],
   "source": [
    "# 辅助函数\n",
    "# 栅格转面\n",
    "def raster_to_polygon(in_raster, out_polygon, field_name):\n",
    "    \"\"\"栅格转面\"\"\"\n",
    "    in_raster = arcpy.sa.Int(in_raster)\n",
    "    output_coordinate_system = arcpy.Describe(in_raster).spatialReference\n",
    "    with arcpy.EnvManager(outputCoordinateSystem=output_coordinate_system):\n",
    "        arcpy.conversion.RasterToPolygon(in_raster, out_polygon, \"SIMPLIFY\", f\"{field_name}\", \"SINGLE_OUTER_PART\", None)\n",
    "\n",
    "# 添加字段\n",
    "def add_field(input_table,field_name,field_type='TEXT'):\n",
    "    \"\"\"参数说明：\n",
    "        input_table: 输入数据表\n",
    "        field_name: 字段名\n",
    "        field_type: 字段类型\"\"\"\n",
    "    arcpy.AddField_management(input_table,field_name,field_type)"
   ]
  },
  {
   "cell_type": "code",
   "execution_count": 4,
   "metadata": {},
   "outputs": [],
   "source": [
    "# 构建转换字典\n",
    "table_path = r\"C:\\Users\\Runker\\Desktop\\dy_0417.csv\""
   ]
  },
  {
   "cell_type": "code",
   "execution_count": 5,
   "metadata": {},
   "outputs": [],
   "source": [
    "df = pd.read_csv(table_path)"
   ]
  },
  {
   "cell_type": "code",
   "execution_count": 6,
   "metadata": {},
   "outputs": [],
   "source": [
    "# 对每个唯一的土种编号生成一个字典\n",
    "def aggregate_rows(group):\n",
    "    records = group[['TL', 'YL', 'TS']].to_dict('records')\n",
    "    # 假设每个土种编号下的记录是相同的，这里我们取第一个记录\n",
    "    return records[0] if records else {}\n",
    "\n",
    "# 使用groupby按照`土种编号`聚合，并应用自定义函数\n",
    "soil_dict = df.groupby('TZ').apply(aggregate_rows).to_dict()"
   ]
  },
  {
   "cell_type": "code",
   "execution_count": 7,
   "metadata": {},
   "outputs": [],
   "source": [
    "tz_dict = {0: ['中白鳝泥田'], 1: ['中腐殖层中土层硅质黄壤'], 2: ['中腐殖层中土层黄色石灰土'], 3: ['中腐殖层厚土层硅质黄壤'], 4: ['中腐殖层薄土层硅质黄壤'], 5: ['中腐殖层薄土层黄色石灰土'], 6: ['偏沙土'], 7: ['冷水田'], 8: ['冷沙土'], 9: ['冷沙田'], 10: ['冷浸田'], 11: ['大泥土'], 12: ['大泥田'], 13: ['大眼泥田'], 14: ['大眼黄泥田'], 15: ['小泥土'], 16: ['小黄泥土'], 17: ['小黄泥田'], 18: ['岩泥'], 19: ['干鸭屎泥田'], 20: ['扁沙泥田'], 21: ['死黄泥土'], 22: ['死黄泥田'], 23: ['浅足烂泥田'], 24: ['深足烂泥田'], 25: ['湿鸭屎泥田'], 26: ['潮板沙田'], 27: ['潮沙泥田'], 28: ['潮沙田'], 29: ['潮油沙泥田'], 30: ['潮泥田'], 31: ['火石沙土'], 32: ['烂锈田'], 33: ['熟鸭屎泥田'], 34: ['白云沙土'], 35: ['白沙土'], 36: ['白沙泥田'], 37: ['石碴子土'], 38: ['砾质紫沙土'], 39: ['紫沙土'], 40: ['紫色土'], 41: ['苦大泥田'], 42: ['薄腐殖中土层山地灌丛草甸土'], 43: ['薄腐殖层中土层山地灌丛草甸土'], 44: ['薄腐殖层中土层次生黄色石灰土'], 45: ['薄腐殖层中土层硅质黄壤'], 46: ['薄腐殖层中土层硅铁质黄壤'], 47: ['薄腐殖层中土层硅铝质黄壤'], 48: ['薄腐殖层中土层紫色土'], 49: ['薄腐殖层中土层铁铝质黄壤'], 50: ['薄腐殖层中土层黄色石灰土'], 51: ['薄腐殖层中土层黑色石灰土'], 52: ['薄腐殖层厚土层山地灌丛草甸土'], 53: ['薄腐殖层厚土层次生黄色石灰土'], 54: ['薄腐殖层厚土层硅质黄壤'], 55: ['薄腐殖层厚土层硅铁质黄壤'], 56: ['薄腐殖层厚土层硅铝质黄壤'], 57: ['薄腐殖层厚土层铁铝质黄壤'], 58: ['薄腐殖层厚土层黄色石灰土'], 59: ['薄腐殖层厚土层黑色石灰土'], 60: ['薄腐殖层薄土层山地灌丛草甸土'], 61: ['薄腐殖层薄土层次生黄色石灰土'], 62: ['薄腐殖层薄土层淋溶黄色石灰土'], 63: ['薄腐殖层薄土层硅质黄壤'], 64: ['薄腐殖层薄土层硅铁质黄壤'], 65: ['薄腐殖层薄土层硅铝质黄壤'], 66: ['薄腐殖层薄土层紫色土'], 67: ['薄腐殖层薄土层酸性紫色土'], 68: ['薄腐殖层薄土层铁质黄壤'], 69: ['薄腐殖层薄土层铁铝质黄壤'], 70: ['薄腐殖层薄土层黄壤性土'], 71: ['薄腐殖层薄土层黄色石灰土'], 72: ['薄腐殖层薄土层黑色石灰土'], 73: ['薄腐殖薄土层山地灌丛草甸土'], 74: ['重白胶泥田'], 75: ['重白鳝泥田'], 76: ['钙石子土'], 77: ['铅毒田'], 78: ['锈水田'], 79: ['雾黄泥田'], 80: ['马血泥田'], 81: ['黄大泥田'], 82: ['黄沙泥土'], 83: ['黄沙泥田'], 84: ['黄油沙泥田'], 85: ['黄泥土'], 86: ['黄泥田'], 87: ['黄石砂田'], 88: ['黄胶泥土'], 89: ['黄胶泥田'], 90: ['黑潮泥田'], 91: ['龙凤大眼泥田']}"
   ]
  },
  {
   "cell_type": "code",
   "execution_count": 8,
   "metadata": {},
   "outputs": [],
   "source": [
    "result_dict = {}\n",
    "for one_key in tz_dict:\n",
    "    result_dict[one_key] = {'TZ':tz_dict[one_key][0],'TL':soil_dict[tz_dict[one_key][0]]['TL'],'TS':soil_dict[tz_dict[one_key][0]]['TS'],'YL':soil_dict[tz_dict[one_key][0]]['YL']}"
   ]
  },
  {
   "cell_type": "code",
   "execution_count": 9,
   "metadata": {},
   "outputs": [
    {
     "data": {
      "text/plain": [
       "{0: {'TZ': '中白鳝泥田',\n",
       "  'TL': '水稻土',\n",
       "  'TS': '白泥田A—P E—E(C)或A—P—E(C)',\n",
       "  'YL': '侧渗型水稻土'},\n",
       " 1: {'TZ': '中腐殖层中土层硅质黄壤', 'TL': '黄壤', 'TS': '硅质黄壤', 'YL': '黄壤'},\n",
       " 2: {'TZ': '中腐殖层中土层黄色石灰土', 'TL': '石灰土', 'TS': '黄色石灰土', 'YL': '黄色石灰土'},\n",
       " 3: {'TZ': '中腐殖层厚土层硅质黄壤', 'TL': '黄壤', 'TS': '硅质黄壤', 'YL': '黄壤'},\n",
       " 4: {'TZ': '中腐殖层薄土层硅质黄壤', 'TL': '黄壤', 'TS': '硅质黄壤', 'YL': '黄壤'},\n",
       " 5: {'TZ': '中腐殖层薄土层黄色石灰土', 'TL': '石灰土', 'TS': '黄色石灰土', 'YL': '黄色石灰土'},\n",
       " 6: {'TZ': '偏沙土', 'TL': '黄壤', 'TS': '石砂土', 'YL': '黄泥土'},\n",
       " 7: {'TZ': '冷水田', 'TL': '水稻土', 'TS': '冷水田', 'YL': '潴育型水稻土'},\n",
       " 8: {'TZ': '冷沙土', 'TL': '黄壤', 'TS': '石砂土', 'YL': '黄泥土'},\n",
       " 9: {'TZ': '冷沙田', 'TL': '水稻土', 'TS': '冷浸田APG或APWC', 'YL': '潜育型水稻土'},\n",
       " 10: {'TZ': '冷浸田', 'TL': '水稻土', 'TS': '冷浸田APG或APWC', 'YL': '潜育型水稻土'},\n",
       " 11: {'TZ': '大泥土', 'TL': '石灰土', 'TS': '大土泥', 'YL': '大土泥'},\n",
       " 12: {'TZ': '大泥田', 'TL': '水稻土', 'TS': '淹育型石灰性大泥田APC', 'YL': '淹育型水稻土'},\n",
       " 13: {'TZ': '大眼泥田', 'TL': '水稻土', 'TS': '潴育型石灰性大眼泥田ARWC或APBC', 'YL': '潴育型水稻土'},\n",
       " 14: {'TZ': '大眼黄泥田', 'TL': '水稻土', 'TS': '潴育型石灰性大眼泥田ARWC或APBC', 'YL': '潴育型水稻土'},\n",
       " 15: {'TZ': '小泥土', 'TL': '石灰土', 'TS': '小泥土', 'YL': '大土泥'},\n",
       " 16: {'TZ': '小黄泥土', 'TL': '黄壤', 'TS': '黄泥土', 'YL': '黄泥土'},\n",
       " 17: {'TZ': '小黄泥田', 'TL': '水稻土', 'TS': '潴育型黄泥田APWC或APBC', 'YL': '潴育型水稻土'},\n",
       " 18: {'TZ': '岩泥', 'TL': '石灰土', 'TS': '大土泥', 'YL': '大土泥'},\n",
       " 19: {'TZ': '干鸭屎泥田',\n",
       "  'TL': '水稻土',\n",
       "  'TS': '鸭屎泥潜育型石灰性草甸沼泽水稻土APGC或APG',\n",
       "  'YL': '潜育型水稻土'},\n",
       " 20: {'TZ': '扁沙泥田', 'TL': '水稻土', 'TS': '淹育型黄泥田AC或APC', 'YL': '淹育型水稻土'},\n",
       " 21: {'TZ': '死黄泥土', 'TL': '黄壤', 'TS': '黄泥土', 'YL': '黄泥土'},\n",
       " 22: {'TZ': '死黄泥田', 'TL': '水稻土', 'TS': '淹育型黄泥田AC或APC', 'YL': '淹育型水稻土'},\n",
       " 23: {'TZ': '浅足烂泥田', 'TL': '水稻土', 'TS': '烂泥田AG或AG-G', 'YL': '沼泽型水稻土'},\n",
       " 24: {'TZ': '深足烂泥田', 'TL': '水稻土', 'TS': '烂泥田AG或AG-G', 'YL': '沼泽型水稻土'},\n",
       " 25: {'TZ': '湿鸭屎泥田',\n",
       "  'TL': '水稻土',\n",
       "  'TS': '鸭屎泥潜育型石灰性草甸沼泽水稻土APGC或APG',\n",
       "  'YL': '潜育型水稻土'},\n",
       " 26: {'TZ': '潮板沙田', 'TL': '水稻土', 'TS': '淹育型潮沙田', 'YL': '淹育型水稻土'},\n",
       " 27: {'TZ': '潮沙泥田', 'TL': '水稻土', 'TS': '潴育型潮泥田APWC或APWG', 'YL': '潴育型水稻土'},\n",
       " 28: {'TZ': '潮沙田', 'TL': '水稻土', 'TS': '潴育型潮泥田APWC或APWG', 'YL': '潴育型水稻土'},\n",
       " 29: {'TZ': '潮油沙泥田', 'TL': '水稻土', 'TS': '潴育型潮泥田APWC或APWG', 'YL': '潴育型水稻土'},\n",
       " 30: {'TZ': '潮泥田', 'TL': '水稻土', 'TS': '潴育型潮泥田APWC或APWG', 'YL': '潴育型水稻土'},\n",
       " 31: {'TZ': '火石沙土', 'TL': '黄壤', 'TS': '石砂土', 'YL': '黄泥土'},\n",
       " 32: {'TZ': '烂锈田', 'TL': '水稻土', 'TS': '锈毒田MA—MG  MA—P—C', 'YL': '矿毒田'},\n",
       " 33: {'TZ': '熟鸭屎泥田',\n",
       "  'TL': '水稻土',\n",
       "  'TS': '鸭屎泥潜育型石灰性草甸沼泽水稻土APGC或APG',\n",
       "  'YL': '潜育型水稻土'},\n",
       " 34: {'TZ': '白云沙土', 'TL': '石灰土', 'TS': '白沙土', 'YL': '大土泥'},\n",
       " 35: {'TZ': '白沙土', 'TL': '黄壤', 'TS': '石砂土', 'YL': '黄泥土'},\n",
       " 36: {'TZ': '白沙泥田',\n",
       "  'TL': '水稻土',\n",
       "  'TS': '白泥田A—P E—E(C)或A—P—E(C)',\n",
       "  'YL': '侧渗型水稻土'},\n",
       " 37: {'TZ': '石碴子土', 'TL': '黄壤', 'TS': '石砂土', 'YL': '黄泥土'},\n",
       " 38: {'TZ': '砾质紫沙土', 'TL': '紫色土', 'TS': '砾质紫沙土', 'YL': '紫泥土'},\n",
       " 39: {'TZ': '紫沙土', 'TL': '紫色土', 'TS': '紫沙土', 'YL': '紫泥土'},\n",
       " 40: {'TZ': '紫色土', 'TL': '紫色土', 'TS': '紫泥土', 'YL': '紫泥土'},\n",
       " 41: {'TZ': '苦大泥田', 'TL': '水稻土', 'TS': '淹育型石灰性大泥田APC', 'YL': '淹育型水稻土'},\n",
       " 42: {'TZ': '薄腐殖中土层山地灌丛草甸土',\n",
       "  'TL': '山地灌丛草甸土',\n",
       "  'TS': '山地灌丛草甸土',\n",
       "  'YL': '山地灌丛草甸土'},\n",
       " 43: {'TZ': '薄腐殖层中土层山地灌丛草甸土',\n",
       "  'TL': '山地灌丛草甸土',\n",
       "  'TS': '山地灌丛草甸土',\n",
       "  'YL': '山地灌丛草甸土'},\n",
       " 44: {'TZ': '薄腐殖层中土层次生黄色石灰土', 'TL': '石灰土', 'TS': '次生黄色石灰土', 'YL': '黄色石灰土'},\n",
       " 45: {'TZ': '薄腐殖层中土层硅质黄壤', 'TL': '黄壤', 'TS': '硅质黄壤', 'YL': '黄壤'},\n",
       " 46: {'TZ': '薄腐殖层中土层硅铁质黄壤', 'TL': '黄壤', 'TS': '硅铁质黄壤', 'YL': '黄壤'},\n",
       " 47: {'TZ': '薄腐殖层中土层硅铝质黄壤', 'TL': '黄壤', 'TS': '硅铝质黄壤', 'YL': '黄壤'},\n",
       " 48: {'TZ': '薄腐殖层中土层紫色土', 'TL': '紫色土', 'TS': '紫色土', 'YL': '钙质性宁性紫色土'},\n",
       " 49: {'TZ': '薄腐殖层中土层铁铝质黄壤', 'TL': '黄壤', 'TS': '铁铝质黄壤', 'YL': '黄壤'},\n",
       " 50: {'TZ': '薄腐殖层中土层黄色石灰土', 'TL': '石灰土', 'TS': '黄色石灰土', 'YL': '黄色石灰土'},\n",
       " 51: {'TZ': '薄腐殖层中土层黑色石灰土', 'TL': '石灰土', 'TS': '黑色石灰土', 'YL': '黑色石灰土'},\n",
       " 52: {'TZ': '薄腐殖层厚土层山地灌丛草甸土',\n",
       "  'TL': '山地灌丛草甸土',\n",
       "  'TS': '山地灌丛草甸土',\n",
       "  'YL': '山地灌丛草甸土'},\n",
       " 53: {'TZ': '薄腐殖层厚土层次生黄色石灰土', 'TL': '石灰土', 'TS': '次生黄色石灰土', 'YL': '黄色石灰土'},\n",
       " 54: {'TZ': '薄腐殖层厚土层硅质黄壤', 'TL': '黄壤', 'TS': '硅质黄壤', 'YL': '黄壤'},\n",
       " 55: {'TZ': '薄腐殖层厚土层硅铁质黄壤', 'TL': '黄壤', 'TS': '硅铁质黄壤', 'YL': '黄壤'},\n",
       " 56: {'TZ': '薄腐殖层厚土层硅铝质黄壤', 'TL': '黄壤', 'TS': '硅铝质黄壤', 'YL': '黄壤'},\n",
       " 57: {'TZ': '薄腐殖层厚土层铁铝质黄壤', 'TL': '黄壤', 'TS': '铁铝质黄壤', 'YL': '黄壤'},\n",
       " 58: {'TZ': '薄腐殖层厚土层黄色石灰土', 'TL': '石灰土', 'TS': '黄色石灰土', 'YL': '黄色石灰土'},\n",
       " 59: {'TZ': '薄腐殖层厚土层黑色石灰土', 'TL': '石灰土', 'TS': '黑色石灰土', 'YL': '黑色石灰土'},\n",
       " 60: {'TZ': '薄腐殖层薄土层山地灌丛草甸土',\n",
       "  'TL': '山地灌丛草甸土',\n",
       "  'TS': '山地灌丛草甸土',\n",
       "  'YL': '山地灌丛草甸土'},\n",
       " 61: {'TZ': '薄腐殖层薄土层次生黄色石灰土', 'TL': '石灰土', 'TS': '次生黄色石灰土', 'YL': '黄色石灰土'},\n",
       " 62: {'TZ': '薄腐殖层薄土层淋溶黄色石灰土', 'TL': '石灰土', 'TS': '淋溶黄色石灰土', 'YL': '黄色石灰土'},\n",
       " 63: {'TZ': '薄腐殖层薄土层硅质黄壤', 'TL': '黄壤', 'TS': '硅质黄壤', 'YL': '黄壤'},\n",
       " 64: {'TZ': '薄腐殖层薄土层硅铁质黄壤', 'TL': '黄壤', 'TS': '硅铁质黄壤', 'YL': '黄壤'},\n",
       " 65: {'TZ': '薄腐殖层薄土层硅铝质黄壤', 'TL': '黄壤', 'TS': '硅铝质黄壤', 'YL': '黄壤'},\n",
       " 66: {'TZ': '薄腐殖层薄土层紫色土', 'TL': '紫色土', 'TS': '紫色土', 'YL': '钙质性宁性紫色土'},\n",
       " 67: {'TZ': '薄腐殖层薄土层酸性紫色土', 'TL': '紫色土', 'TS': '酸性紫色土', 'YL': '酸性紫色土'},\n",
       " 68: {'TZ': '薄腐殖层薄土层铁质黄壤', 'TL': '黄壤', 'TS': '铁质黄壤', 'YL': '黄壤'},\n",
       " 69: {'TZ': '薄腐殖层薄土层铁铝质黄壤', 'TL': '黄壤', 'TS': '铁铝质黄壤', 'YL': '黄壤'},\n",
       " 70: {'TZ': '薄腐殖层薄土层黄壤性土', 'TL': '黄壤', 'TS': '硅铝质黄壤性土', 'YL': '黄壤性土'},\n",
       " 71: {'TZ': '薄腐殖层薄土层黄色石灰土', 'TL': '石灰土', 'TS': '黄色石灰土', 'YL': '黄色石灰土'},\n",
       " 72: {'TZ': '薄腐殖层薄土层黑色石灰土', 'TL': '石灰土', 'TS': '黑色石灰土', 'YL': '黑色石灰土'},\n",
       " 73: {'TZ': '薄腐殖薄土层山地灌丛草甸土',\n",
       "  'TL': '山地灌丛草甸土',\n",
       "  'TS': '山地灌丛草甸土',\n",
       "  'YL': '山地灌丛草甸土'},\n",
       " 74: {'TZ': '重白胶泥田', 'TL': '水稻土', 'TS': '白胶泥田A—P E—E(C)', 'YL': '侧渗型水稻土'},\n",
       " 75: {'TZ': '重白鳝泥田',\n",
       "  'TL': '水稻土',\n",
       "  'TS': '白泥田A—P E—E(C)或A—P—E(C)',\n",
       "  'YL': '侧渗型水稻土'},\n",
       " 76: {'TZ': '钙石子土', 'TL': '石灰土', 'TS': '白沙土', 'YL': '大土泥'},\n",
       " 77: {'TZ': '铅毒田', 'TL': '水稻土', 'TS': '其他矿毒田MA—MG  MA—P—C', 'YL': '矿毒田'},\n",
       " 78: {'TZ': '锈水田', 'TL': '水稻土', 'TS': '锈毒田MA—MG  MA—P—C', 'YL': '矿毒田'},\n",
       " 79: {'TZ': '雾黄泥田', 'TL': '水稻土', 'TS': '淹育型黄泥田AC或APC', 'YL': '淹育型水稻土'},\n",
       " 80: {'TZ': '马血泥田', 'TL': '水稻土', 'TS': '淹育型石灰性大泥田APC', 'YL': '淹育型水稻土'},\n",
       " 81: {'TZ': '黄大泥田', 'TL': '水稻土', 'TS': '淹育型石灰性大泥田APC', 'YL': '淹育型水稻土'},\n",
       " 82: {'TZ': '黄沙泥土', 'TL': '黄壤', 'TS': '黄沙泥土', 'YL': '黄泥土'},\n",
       " 83: {'TZ': '黄沙泥田', 'TL': '水稻土', 'TS': '淹育型黄泥田AC或APC', 'YL': '淹育型水稻土'},\n",
       " 84: {'TZ': '黄油沙泥田', 'TL': '水稻土', 'TS': '潴育型黄泥田APWC或APBC', 'YL': '潴育型水稻土'},\n",
       " 85: {'TZ': '黄泥土', 'TL': '黄壤', 'TS': '黄泥土', 'YL': '黄泥土'},\n",
       " 86: {'TZ': '黄泥田', 'TL': '水稻土', 'TS': '潴育型黄泥田APWC或APBC', 'YL': '潴育型水稻土'},\n",
       " 87: {'TZ': '黄石砂田', 'TL': '水稻土', 'TS': '淹育型黄泥田AC或APC', 'YL': '淹育型水稻土'},\n",
       " 88: {'TZ': '黄胶泥土', 'TL': '黄壤', 'TS': '胶泥土', 'YL': '黄泥土'},\n",
       " 89: {'TZ': '黄胶泥田', 'TL': '水稻土', 'TS': '潴育型黄泥田APWC或APBC', 'YL': '潴育型水稻土'},\n",
       " 90: {'TZ': '黑潮泥田', 'TL': '水稻土', 'TS': '潴育型潮泥田APWC或APWG', 'YL': '潴育型水稻土'},\n",
       " 91: {'TZ': '龙凤大眼泥田',\n",
       "  'TL': '水稻土',\n",
       "  'TS': '潴育型石灰性大眼泥田ARWC或APBC',\n",
       "  'YL': '潴育型水稻土'}}"
      ]
     },
     "execution_count": 9,
     "metadata": {},
     "output_type": "execute_result"
    }
   ],
   "source": [
    "result_dict"
   ]
  },
  {
   "cell_type": "code",
   "execution_count": 10,
   "metadata": {},
   "outputs": [],
   "source": [
    "raster_path = r'D:\\ArcGISProjects\\workspace\\shbyq\\feature_soiltype_result\\feature_soiltype_result_dy.gdb\\prediction_soiltype_RFE_20240418_reclass_smooth'\n",
    "out_polygon_path = r'D:\\ArcGISProjects\\workspace\\shbyq\\soil_type_result.gdb\\soiltype_dy\\prediction_soiltype_RFE_20240418_reclass_smooth'\n",
    "field_name = 'Value'"
   ]
  },
  {
   "cell_type": "code",
   "execution_count": 11,
   "metadata": {},
   "outputs": [],
   "source": [
    "# 栅格转面\n",
    "raster_to_polygon(raster_path, out_polygon_path, field_name)"
   ]
  },
  {
   "cell_type": "code",
   "execution_count": 20,
   "metadata": {},
   "outputs": [],
   "source": [
    "code_block =f\"\"\"\n",
    "def get_soil_class(soil_code):\n",
    "    soil_dict = {result_dict}\n",
    "    TZ = soil_dict[soil_code]['TZ']\n",
    "    TL = soil_dict[soil_code]['TL']\n",
    "    YL = soil_dict[soil_code]['YL']\n",
    "    TS = soil_dict[soil_code]['TS']\n",
    "    result_list = [TZ,TS,YL,TL]\n",
    "    return result_list[3]\n",
    "\"\"\"\n",
    "field_name = 'TL'"
   ]
  },
  {
   "cell_type": "code",
   "execution_count": 13,
   "metadata": {},
   "outputs": [],
   "source": [
    "expression = \"get_soil_class(!gridcode!)\""
   ]
  },
  {
   "cell_type": "code",
   "execution_count": 14,
   "metadata": {},
   "outputs": [],
   "source": [
    "# 增加字段\n",
    "for one_field in ['TL','YL','TS','TZ']:\n",
    "    add_field(out_polygon_path, one_field, 'TEXT')"
   ]
  },
  {
   "cell_type": "code",
   "execution_count": 21,
   "metadata": {},
   "outputs": [
    {
     "data": {
      "text/html": [
       "<div class='gpresult'><h2>Messages</h2><div id='messages' data-messages='[\"开始时间: 2024年4月18日 9:49:24\",\"运行 成功，结束时间： 2024年4月18日 9:49:26 (历时: 1.90 秒)\"]' data-show='true'><div id = 'default' /></div></div>"
      ],
      "text/plain": [
       "<Result 'D:\\\\ArcGISProjects\\\\workspace\\\\shbyq\\\\soil_type_result.gdb\\\\soiltype_dy\\\\prediction_soiltype_RFE_20240418_reclass_smooth'>"
      ]
     },
     "execution_count": 21,
     "metadata": {},
     "output_type": "execute_result"
    }
   ],
   "source": [
    "# 计算字段\n",
    "arcpy.CalculateField_management(in_table=out_polygon_path, field=field_name, expression=expression, expression_type=\"PYTHON3\", code_block=code_block)\n",
    "    "
   ]
  },
  {
   "cell_type": "code",
   "execution_count": null,
   "metadata": {},
   "outputs": [],
   "source": []
  },
  {
   "cell_type": "code",
   "execution_count": null,
   "metadata": {},
   "outputs": [],
   "source": []
  }
 ],
 "metadata": {
  "kernelspec": {
   "display_name": "Python 3",
   "language": "python",
   "name": "python3"
  },
  "language_info": {
   "codemirror_mode": {
    "name": "ipython",
    "version": 3
   },
   "file_extension": ".py",
   "mimetype": "text/x-python",
   "name": "python",
   "nbconvert_exporter": "python",
   "pygments_lexer": "ipython3",
   "version": "3.9.11"
  }
 },
 "nbformat": 4,
 "nbformat_minor": 2
}
