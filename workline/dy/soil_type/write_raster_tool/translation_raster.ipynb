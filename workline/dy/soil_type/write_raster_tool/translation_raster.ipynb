{
 "cells": [
  {
   "cell_type": "code",
   "execution_count": 1,
   "metadata": {},
   "outputs": [],
   "source": [
    "import arcpy\n",
    "import os\n",
    "import pandas as pd\n",
    "import numpy as np\n",
    "from arcpy import env\n",
    "from arcpy.management import *\n",
    "from arcpy.conversion import *\n",
    "from arcpy.da import *\n",
    "from arcpy.sa import *"
   ]
  },
  {
   "cell_type": "code",
   "execution_count": 2,
   "metadata": {},
   "outputs": [],
   "source": [
    "# 辅助函数\n",
    "# 栅格转面\n",
    "def raster_to_polygon(in_raster, out_polygon, field_name):\n",
    "    \"\"\"栅格转面\"\"\"\n",
    "    in_raster = arcpy.sa.Int(in_raster)\n",
    "    output_coordinate_system = arcpy.Describe(in_raster).spatialReference\n",
    "    with arcpy.EnvManager(outputCoordinateSystem=output_coordinate_system):\n",
    "        arcpy.conversion.RasterToPolygon(in_raster, out_polygon, \"SIMPLIFY\", f\"{field_name}\", \"SINGLE_OUTER_PART\", None)\n",
    "\n",
    "# 添加字段\n",
    "def add_field(input_table,field_name,field_type='TEXT'):\n",
    "    \"\"\"参数说明：\n",
    "        input_table: 输入数据表\n",
    "        field_name: 字段名\n",
    "        field_type: 字段类型\"\"\"\n",
    "    arcpy.AddField_management(input_table,field_name,field_type)"
   ]
  },
  {
   "cell_type": "code",
   "execution_count": 3,
   "metadata": {},
   "outputs": [],
   "source": [
    "# 构建转换字典\n",
    "table_path = r\"F:\\cache_data\\frequency_filter\\dy\\scaler_csv\\dy_stander_filter_all_type.csv\""
   ]
  },
  {
   "cell_type": "code",
   "execution_count": 4,
   "metadata": {},
   "outputs": [],
   "source": [
    "df = pd.read_csv(table_path)"
   ]
  },
  {
   "cell_type": "code",
   "execution_count": 5,
   "metadata": {},
   "outputs": [],
   "source": [
    "# 对每个唯一的土种编号生成一个字典\n",
    "def aggregate_rows(group):\n",
    "    records = group[['TL', 'YL', 'TS']].to_dict('records')\n",
    "    # 假设每个土种编号下的记录是相同的，这里我们取第一个记录\n",
    "    return records[0] if records else {}\n",
    "\n",
    "# 使用groupby按照`土种编号`聚合，并应用自定义函数\n",
    "soil_dict = df.groupby('TZ').apply(aggregate_rows).to_dict()"
   ]
  },
  {
   "cell_type": "code",
   "execution_count": 6,
   "metadata": {},
   "outputs": [],
   "source": [
    "tz_dict = {0: ['中白鳝泥田'], 1: ['偏沙土'], 2: ['冷水田'], 3: ['冷沙土'], 4: ['冷沙田'], 5: ['冷浸田'], 6: ['厚腐殖层中土层硅质黄壤'], 7: ['厚腐殖层中土层黄色石灰土'], 8: ['厚腐殖层薄土层硅质黄壤'], 9: ['大泥土'], 10: ['大泥田'], 11: ['大眼泥田'], 12: ['大眼黄泥田'], 13: ['小泥土'], 14: ['小黄泥土'], 15: ['小黄泥田'], 16: ['岩泥'], 17: ['干鸭屎泥田'], 18: ['扁沙泥田'], 19: ['死黄泥土'], 20: ['死黄泥田'], 21: ['浅足烂泥田'], 22: ['深足烂泥田'], 23: ['湿鸭屎泥田'], 24: ['潮板沙田'], 25: ['潮沙泥田'], 26: ['潮沙田'], 27: ['潮油沙泥田'], 28: ['潮泥田'], 29: ['火石沙土'], 30: ['烂锈田'], 31: ['熟鸭屎泥田'], 32: ['白云沙土'], 33: ['白沙土'], 34: ['白沙泥田'], 35: ['石碴子土'], 36: ['砾质紫沙土'], 37: ['紫沙土'], 38: ['紫色土'], 39: ['苦大泥田'], 40: ['薄腐殖层中土层山地灌丛草甸土'], 41: ['薄腐殖层中土层次生黄色石灰土'], 42: ['薄腐殖层中土层硅铁质黄壤'], 43: ['薄腐殖层中土层硅铝质黄壤'], 44: ['薄腐殖层中土层紫色土'], 45: ['薄腐殖层中土层酸性紫色土'], 46: ['薄腐殖层中土层铁铝质黄壤'], 47: ['薄腐殖层中土层黄壤性土'], 48: ['薄腐殖层中土层黄色石灰土'], 49: ['薄腐殖层中土层黑色石灰土'], 50: ['薄腐殖层厚土层次生黄色石灰土'], 51: ['薄腐殖层厚土层淋溶黄色石灰土'], 52: ['薄腐殖层厚土层硅质黄壤'], 53: ['薄腐殖层厚土层硅铁质黄壤'], 54: ['薄腐殖层厚土层硅铝质黄壤'], 55: ['薄腐殖层厚土层紫色土'], 56: ['薄腐殖层厚土层铁铝质黄壤'], 57: ['薄腐殖层厚土层黄色石灰土'], 58: ['薄腐殖层厚土层黑色石灰土'], 59: ['薄腐殖层薄土层硅质黄壤'], 60: ['薄腐殖层薄土层硅铁质黄壤'], 61: ['薄腐殖层薄土层硅铝质黄壤'], 62: ['薄腐殖层薄土层铁质黄壤'], 63: ['薄腐殖层薄土层铁铝质黄壤'], 64: ['薄腐殖层薄土层黄色石灰土'], 65: ['薄腐殖层薄土层黑色石灰土'], 66: ['薄腐殖薄土层山地灌丛草甸土'], 67: ['重白胶泥田'], 68: ['重白鳝泥田'], 69: ['钙石子土'], 70: ['铅毒田'], 71: ['锈水田'], 72: ['雾黄泥田'], 73: ['马血泥田'], 74: ['黄大泥田'], 75: ['黄沙泥土'], 76: ['黄沙泥田'], 77: ['黄油沙泥田'], 78: ['黄泥土'], 79: ['黄泥田'], 80: ['黄石砂田'], 81: ['黄胶泥土'], 82: ['黄胶泥田'], 83: ['黑潮泥田'], 84: ['龙凤大眼泥田']}"
   ]
  },
  {
   "cell_type": "code",
   "execution_count": 7,
   "metadata": {},
   "outputs": [],
   "source": [
    "result_dict = {}\n",
    "for one_key in tz_dict:\n",
    "    result_dict[one_key] = {'TZ':tz_dict[one_key][0],'TL':soil_dict[tz_dict[one_key][0]]['TL'],'TS':soil_dict[tz_dict[one_key][0]]['TS'],'YL':soil_dict[tz_dict[one_key][0]]['YL']}"
   ]
  },
  {
   "cell_type": "code",
   "execution_count": 8,
   "metadata": {},
   "outputs": [
    {
     "data": {
      "text/plain": [
       "{0: {'TZ': '中白鳝泥田',\n",
       "  'TL': '水稻土',\n",
       "  'TS': '白泥田A—P E—E(C)或A—P—E(C)',\n",
       "  'YL': '侧渗型水稻土'},\n",
       " 1: {'TZ': '偏沙土', 'TL': '黄壤', 'TS': '石砂土', 'YL': '黄泥土'},\n",
       " 2: {'TZ': '冷水田', 'TL': '水稻土', 'TS': '冷水田', 'YL': '潴育型水稻土'},\n",
       " 3: {'TZ': '冷沙土', 'TL': '黄壤', 'TS': '石砂土', 'YL': '黄泥土'},\n",
       " 4: {'TZ': '冷沙田', 'TL': '水稻土', 'TS': '冷浸田APG或APWC', 'YL': '潜育型水稻土'},\n",
       " 5: {'TZ': '冷浸田', 'TL': '水稻土', 'TS': '冷浸田APG或APWC', 'YL': '潜育型水稻土'},\n",
       " 6: {'TZ': '厚腐殖层中土层硅质黄壤', 'TL': '黄壤', 'TS': '硅质黄壤', 'YL': '黄壤'},\n",
       " 7: {'TZ': '厚腐殖层中土层黄色石灰土', 'TL': '石灰土', 'TS': '黄色石灰土', 'YL': '黄色石灰土'},\n",
       " 8: {'TZ': '厚腐殖层薄土层硅质黄壤', 'TL': '黄壤', 'TS': '硅质黄壤', 'YL': '黄壤'},\n",
       " 9: {'TZ': '大泥土', 'TL': '石灰土', 'TS': '大土泥', 'YL': '大土泥'},\n",
       " 10: {'TZ': '大泥田', 'TL': '水稻土', 'TS': '淹育型石灰性大泥田APC', 'YL': '淹育型水稻土'},\n",
       " 11: {'TZ': '大眼泥田', 'TL': '水稻土', 'TS': '潴育型石灰性大眼泥田ARWC或APBC', 'YL': '潴育型水稻土'},\n",
       " 12: {'TZ': '大眼黄泥田', 'TL': '水稻土', 'TS': '潴育型石灰性大眼泥田ARWC或APBC', 'YL': '潴育型水稻土'},\n",
       " 13: {'TZ': '小泥土', 'TL': '石灰土', 'TS': '小泥土', 'YL': '大土泥'},\n",
       " 14: {'TZ': '小黄泥土', 'TL': '黄壤', 'TS': '黄泥土', 'YL': '黄泥土'},\n",
       " 15: {'TZ': '小黄泥田', 'TL': '水稻土', 'TS': '潴育型黄泥田APWC或APBC', 'YL': '潴育型水稻土'},\n",
       " 16: {'TZ': '岩泥', 'TL': '石灰土', 'TS': '大土泥', 'YL': '大土泥'},\n",
       " 17: {'TZ': '干鸭屎泥田',\n",
       "  'TL': '水稻土',\n",
       "  'TS': '鸭屎泥潜育型石灰性草甸沼泽水稻土APGC或APG',\n",
       "  'YL': '潜育型水稻土'},\n",
       " 18: {'TZ': '扁沙泥田', 'TL': '水稻土', 'TS': '淹育型黄泥田AC或APC', 'YL': '淹育型水稻土'},\n",
       " 19: {'TZ': '死黄泥土', 'TL': '黄壤', 'TS': '黄泥土', 'YL': '黄泥土'},\n",
       " 20: {'TZ': '死黄泥田', 'TL': '水稻土', 'TS': '淹育型黄泥田AC或APC', 'YL': '淹育型水稻土'},\n",
       " 21: {'TZ': '浅足烂泥田', 'TL': '水稻土', 'TS': '烂泥田AG或AG-G', 'YL': '沼泽型水稻土'},\n",
       " 22: {'TZ': '深足烂泥田', 'TL': '水稻土', 'TS': '烂泥田AG或AG-G', 'YL': '沼泽型水稻土'},\n",
       " 23: {'TZ': '湿鸭屎泥田',\n",
       "  'TL': '水稻土',\n",
       "  'TS': '鸭屎泥潜育型石灰性草甸沼泽水稻土APGC或APG',\n",
       "  'YL': '潜育型水稻土'},\n",
       " 24: {'TZ': '潮板沙田', 'TL': '水稻土', 'TS': '淹育型潮沙田', 'YL': '淹育型水稻土'},\n",
       " 25: {'TZ': '潮沙泥田', 'TL': '水稻土', 'TS': '潴育型潮泥田APWC或APWG', 'YL': '潴育型水稻土'},\n",
       " 26: {'TZ': '潮沙田', 'TL': '水稻土', 'TS': '潴育型潮泥田APWC或APWG', 'YL': '潴育型水稻土'},\n",
       " 27: {'TZ': '潮油沙泥田', 'TL': '水稻土', 'TS': '潴育型潮泥田APWC或APWG', 'YL': '潴育型水稻土'},\n",
       " 28: {'TZ': '潮泥田', 'TL': '水稻土', 'TS': '潴育型潮泥田APWC或APWG', 'YL': '潴育型水稻土'},\n",
       " 29: {'TZ': '火石沙土', 'TL': '黄壤', 'TS': '石砂土', 'YL': '黄泥土'},\n",
       " 30: {'TZ': '烂锈田', 'TL': '水稻土', 'TS': '锈毒田MA—MG  MA—P—C', 'YL': '矿毒田'},\n",
       " 31: {'TZ': '熟鸭屎泥田',\n",
       "  'TL': '水稻土',\n",
       "  'TS': '鸭屎泥潜育型石灰性草甸沼泽水稻土APGC或APG',\n",
       "  'YL': '潜育型水稻土'},\n",
       " 32: {'TZ': '白云沙土', 'TL': '石灰土', 'TS': '白沙土', 'YL': '大土泥'},\n",
       " 33: {'TZ': '白沙土', 'TL': '黄壤', 'TS': '石砂土', 'YL': '黄泥土'},\n",
       " 34: {'TZ': '白沙泥田',\n",
       "  'TL': '水稻土',\n",
       "  'TS': '白泥田A—P E—E(C)或A—P—E(C)',\n",
       "  'YL': '侧渗型水稻土'},\n",
       " 35: {'TZ': '石碴子土', 'TL': '黄壤', 'TS': '石砂土', 'YL': '黄泥土'},\n",
       " 36: {'TZ': '砾质紫沙土', 'TL': '紫色土', 'TS': '砾质紫沙土', 'YL': '紫泥土'},\n",
       " 37: {'TZ': '紫沙土', 'TL': '紫色土', 'TS': '紫沙土', 'YL': '紫泥土'},\n",
       " 38: {'TZ': '紫色土', 'TL': '紫色土', 'TS': '紫泥土', 'YL': '紫泥土'},\n",
       " 39: {'TZ': '苦大泥田', 'TL': '水稻土', 'TS': '淹育型石灰性大泥田APC', 'YL': '淹育型水稻土'},\n",
       " 40: {'TZ': '薄腐殖层中土层山地灌丛草甸土',\n",
       "  'TL': '山地灌丛草甸土',\n",
       "  'TS': '山地灌丛草甸土',\n",
       "  'YL': '山地灌丛草甸土'},\n",
       " 41: {'TZ': '薄腐殖层中土层次生黄色石灰土', 'TL': '石灰土', 'TS': '次生黄色石灰土', 'YL': '黄色石灰土'},\n",
       " 42: {'TZ': '薄腐殖层中土层硅铁质黄壤', 'TL': '黄壤', 'TS': '硅铁质黄壤', 'YL': '黄壤'},\n",
       " 43: {'TZ': '薄腐殖层中土层硅铝质黄壤', 'TL': '黄壤', 'TS': '硅铝质黄壤', 'YL': '黄壤'},\n",
       " 44: {'TZ': '薄腐殖层中土层紫色土', 'TL': '紫色土', 'TS': '酸性紫色土', 'YL': '酸性紫色土'},\n",
       " 45: {'TZ': '薄腐殖层中土层酸性紫色土', 'TL': '紫色土', 'TS': '酸性紫色土', 'YL': '酸性紫色土'},\n",
       " 46: {'TZ': '薄腐殖层中土层铁铝质黄壤', 'TL': '黄壤', 'TS': '铁铝质黄壤', 'YL': '黄壤'},\n",
       " 47: {'TZ': '薄腐殖层中土层黄壤性土', 'TL': '黄壤', 'TS': '硅铝质黄壤性土', 'YL': '黄壤性土'},\n",
       " 48: {'TZ': '薄腐殖层中土层黄色石灰土', 'TL': '石灰土', 'TS': '黄色石灰土', 'YL': '黄色石灰土'},\n",
       " 49: {'TZ': '薄腐殖层中土层黑色石灰土', 'TL': '石灰土', 'TS': '黑色石灰土', 'YL': '黑色石灰土'},\n",
       " 50: {'TZ': '薄腐殖层厚土层次生黄色石灰土', 'TL': '石灰土', 'TS': '次生黄色石灰土', 'YL': '黄色石灰土'},\n",
       " 51: {'TZ': '薄腐殖层厚土层淋溶黄色石灰土', 'TL': '石灰土', 'TS': '淋溶黄色石灰土', 'YL': '黄色石灰土'},\n",
       " 52: {'TZ': '薄腐殖层厚土层硅质黄壤', 'TL': '黄壤', 'TS': '硅质黄壤', 'YL': '黄壤'},\n",
       " 53: {'TZ': '薄腐殖层厚土层硅铁质黄壤', 'TL': '黄壤', 'TS': '硅铁质黄壤', 'YL': '黄壤'},\n",
       " 54: {'TZ': '薄腐殖层厚土层硅铝质黄壤', 'TL': '黄壤', 'TS': '硅铝质黄壤', 'YL': '黄壤'},\n",
       " 55: {'TZ': '薄腐殖层厚土层紫色土', 'TL': '紫色土', 'TS': '紫色土', 'YL': '钙质性宁性紫色土'},\n",
       " 56: {'TZ': '薄腐殖层厚土层铁铝质黄壤', 'TL': '黄壤', 'TS': '铁铝质黄壤', 'YL': '黄壤'},\n",
       " 57: {'TZ': '薄腐殖层厚土层黄色石灰土', 'TL': '石灰土', 'TS': '黄色石灰土', 'YL': '黄色石灰土'},\n",
       " 58: {'TZ': '薄腐殖层厚土层黑色石灰土', 'TL': '石灰土', 'TS': '黑色石灰土', 'YL': '黑色石灰土'},\n",
       " 59: {'TZ': '薄腐殖层薄土层硅质黄壤', 'TL': '黄壤', 'TS': '硅质黄壤', 'YL': '黄壤'},\n",
       " 60: {'TZ': '薄腐殖层薄土层硅铁质黄壤', 'TL': '黄壤', 'TS': '硅铁质黄壤', 'YL': '黄壤'},\n",
       " 61: {'TZ': '薄腐殖层薄土层硅铝质黄壤', 'TL': '黄壤', 'TS': '硅铝质黄壤', 'YL': '黄壤'},\n",
       " 62: {'TZ': '薄腐殖层薄土层铁质黄壤', 'TL': '黄壤', 'TS': '铁质黄壤', 'YL': '黄壤'},\n",
       " 63: {'TZ': '薄腐殖层薄土层铁铝质黄壤', 'TL': '黄壤', 'TS': '铁铝质黄壤', 'YL': '黄壤'},\n",
       " 64: {'TZ': '薄腐殖层薄土层黄色石灰土', 'TL': '石灰土', 'TS': '黄色石灰土', 'YL': '黄色石灰土'},\n",
       " 65: {'TZ': '薄腐殖层薄土层黑色石灰土', 'TL': '石灰土', 'TS': '黑色石灰土', 'YL': '黑色石灰土'},\n",
       " 66: {'TZ': '薄腐殖薄土层山地灌丛草甸土',\n",
       "  'TL': '山地灌丛草甸土',\n",
       "  'TS': '山地灌丛草甸土',\n",
       "  'YL': '山地灌丛草甸土'},\n",
       " 67: {'TZ': '重白胶泥田', 'TL': '水稻土', 'TS': '白胶泥田A—P E—E(C)', 'YL': '侧渗型水稻土'},\n",
       " 68: {'TZ': '重白鳝泥田',\n",
       "  'TL': '水稻土',\n",
       "  'TS': '白泥田A—P E—E(C)或A—P—E(C)',\n",
       "  'YL': '侧渗型水稻土'},\n",
       " 69: {'TZ': '钙石子土', 'TL': '石灰土', 'TS': '白沙土', 'YL': '大土泥'},\n",
       " 70: {'TZ': '铅毒田', 'TL': '水稻土', 'TS': '其他矿毒田MA—MG  MA—P—C', 'YL': '矿毒田'},\n",
       " 71: {'TZ': '锈水田', 'TL': '水稻土', 'TS': '锈毒田MA—MG  MA—P—C', 'YL': '矿毒田'},\n",
       " 72: {'TZ': '雾黄泥田', 'TL': '水稻土', 'TS': '淹育型黄泥田AC或APC', 'YL': '淹育型水稻土'},\n",
       " 73: {'TZ': '马血泥田', 'TL': '水稻土', 'TS': '淹育型石灰性大泥田APC', 'YL': '淹育型水稻土'},\n",
       " 74: {'TZ': '黄大泥田', 'TL': '水稻土', 'TS': '淹育型石灰性大泥田APC', 'YL': '淹育型水稻土'},\n",
       " 75: {'TZ': '黄沙泥土', 'TL': '黄壤', 'TS': '黄沙泥土', 'YL': '黄泥土'},\n",
       " 76: {'TZ': '黄沙泥田', 'TL': '水稻土', 'TS': '淹育型黄泥田AC或APC', 'YL': '淹育型水稻土'},\n",
       " 77: {'TZ': '黄油沙泥田', 'TL': '水稻土', 'TS': '潴育型黄泥田APWC或APBC', 'YL': '潴育型水稻土'},\n",
       " 78: {'TZ': '黄泥土', 'TL': '黄壤', 'TS': '黄泥土', 'YL': '黄泥土'},\n",
       " 79: {'TZ': '黄泥田', 'TL': '水稻土', 'TS': '潴育型黄泥田APWC或APBC', 'YL': '潴育型水稻土'},\n",
       " 80: {'TZ': '黄石砂田', 'TL': '水稻土', 'TS': '淹育型黄泥田AC或APC', 'YL': '淹育型水稻土'},\n",
       " 81: {'TZ': '黄胶泥土', 'TL': '黄壤', 'TS': '胶泥土', 'YL': '黄泥土'},\n",
       " 82: {'TZ': '黄胶泥田', 'TL': '水稻土', 'TS': '潴育型黄泥田APWC或APBC', 'YL': '潴育型水稻土'},\n",
       " 83: {'TZ': '黑潮泥田', 'TL': '水稻土', 'TS': '潴育型潮泥田APWC或APWG', 'YL': '潴育型水稻土'},\n",
       " 84: {'TZ': '龙凤大眼泥田',\n",
       "  'TL': '水稻土',\n",
       "  'TS': '潴育型石灰性大眼泥田ARWC或APBC',\n",
       "  'YL': '潴育型水稻土'}}"
      ]
     },
     "execution_count": 8,
     "metadata": {},
     "output_type": "execute_result"
    }
   ],
   "source": [
    "result_dict"
   ]
  },
  {
   "cell_type": "code",
   "execution_count": 9,
   "metadata": {},
   "outputs": [],
   "source": [
    "raster_path = r'D:\\ArcGISProjects\\workspace\\shbyq\\feature_soiltype_result\\feature_soiltype_result_dy.gdb\\prediction_sioltype_CATB_20240226_smooth'\n",
    "out_polygon_path = r'D:\\ArcGISProjects\\workspace\\shbyq\\soil_type_result.gdb\\soiltype_dy\\soiltype_prediction_CATB_20240226'\n",
    "field_name = 'Value'"
   ]
  },
  {
   "cell_type": "code",
   "execution_count": 10,
   "metadata": {},
   "outputs": [],
   "source": [
    "# 栅格转面\n",
    "raster_to_polygon(raster_path, out_polygon_path, field_name)"
   ]
  },
  {
   "cell_type": "code",
   "execution_count": 19,
   "metadata": {},
   "outputs": [],
   "source": [
    "code_block =f\"\"\"\n",
    "def get_soil_class(soil_code):\n",
    "    soil_dict = {result_dict}\n",
    "    TZ = soil_dict[soil_code]['TZ']\n",
    "    TL = soil_dict[soil_code]['TL']\n",
    "    YL = soil_dict[soil_code]['YL']\n",
    "    TS = soil_dict[soil_code]['TS']\n",
    "    result_list = [TZ,TS,YL,TL]\n",
    "    return result_list[0]\n",
    "\"\"\"\n",
    "field_name = 'TZ'"
   ]
  },
  {
   "cell_type": "code",
   "execution_count": 12,
   "metadata": {},
   "outputs": [],
   "source": [
    "expression = \"get_soil_class(!gridcode!)\""
   ]
  },
  {
   "cell_type": "code",
   "execution_count": 13,
   "metadata": {},
   "outputs": [],
   "source": [
    "# 增加字段\n",
    "for one_field in ['TL','YL','TS','TZ']:\n",
    "    add_field(out_polygon_path, one_field, 'TEXT')"
   ]
  },
  {
   "cell_type": "code",
   "execution_count": 20,
   "metadata": {},
   "outputs": [
    {
     "data": {
      "text/html": [
       "<div class='gpresult'><h2>Messages</h2><div id='messages' data-messages='[\"开始时间: 2024年2月26日 15:07:17\",\"运行 成功，结束时间： 2024年2月26日 15:07:18 (历时: 1.17 秒)\"]' data-show='true'><div id = 'default' /></div></div>"
      ],
      "text/plain": [
       "<Result 'D:\\\\ArcGISProjects\\\\workspace\\\\shbyq\\\\soil_type_result.gdb\\\\soiltype_dy\\\\soiltype_prediction_CATB_20240226'>"
      ]
     },
     "execution_count": 20,
     "metadata": {},
     "output_type": "execute_result"
    }
   ],
   "source": [
    "# 计算字段\n",
    "arcpy.CalculateField_management(in_table=out_polygon_path, field=field_name, expression=expression, expression_type=\"PYTHON3\", code_block=code_block)\n",
    "    "
   ]
  },
  {
   "cell_type": "code",
   "execution_count": null,
   "metadata": {},
   "outputs": [],
   "source": []
  },
  {
   "cell_type": "code",
   "execution_count": null,
   "metadata": {},
   "outputs": [],
   "source": []
  }
 ],
 "metadata": {
  "kernelspec": {
   "display_name": "Python 3",
   "language": "python",
   "name": "python3"
  },
  "language_info": {
   "codemirror_mode": {
    "name": "ipython",
    "version": 3
   },
   "file_extension": ".py",
   "mimetype": "text/x-python",
   "name": "python",
   "nbconvert_exporter": "python",
   "pygments_lexer": "ipython3",
   "version": "3.9.11"
  }
 },
 "nbformat": 4,
 "nbformat_minor": 2
}
