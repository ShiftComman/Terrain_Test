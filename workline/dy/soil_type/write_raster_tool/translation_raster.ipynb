{
 "cells": [
  {
   "cell_type": "code",
   "execution_count": 1,
   "metadata": {},
   "outputs": [],
   "source": [
    "import arcpy\n",
    "import os\n",
    "import pandas as pd\n",
    "import numpy as np\n",
    "from arcpy import env\n",
    "from arcpy.management import *\n",
    "from arcpy.conversion import *\n",
    "from arcpy.da import *\n",
    "from arcpy.sa import *"
   ]
  },
  {
   "cell_type": "code",
   "execution_count": 2,
   "metadata": {},
   "outputs": [],
   "source": [
    "# 辅助函数\n",
    "# 栅格转面\n",
    "def raster_to_polygon(in_raster, out_polygon, field_name):\n",
    "    \"\"\"栅格转面\"\"\"\n",
    "    in_raster = arcpy.sa.Int(in_raster)\n",
    "    output_coordinate_system = arcpy.Describe(in_raster).spatialReference\n",
    "    with arcpy.EnvManager(outputCoordinateSystem=output_coordinate_system):\n",
    "        arcpy.conversion.RasterToPolygon(in_raster, out_polygon, \"SIMPLIFY\", f\"{field_name}\", \"SINGLE_OUTER_PART\", None)\n",
    "\n",
    "# 添加字段\n",
    "def add_field(input_table,field_name,field_type='TEXT'):\n",
    "    \"\"\"参数说明：\n",
    "        input_table: 输入数据表\n",
    "        field_name: 字段名\n",
    "        field_type: 字段类型\"\"\"\n",
    "    arcpy.AddField_management(input_table,field_name,field_type)"
   ]
  },
  {
   "cell_type": "code",
   "execution_count": 3,
   "metadata": {},
   "outputs": [],
   "source": [
    "# 构建转换字典\n",
    "table_path = r\"F:\\cache_data\\frequency_filter\\dy\\scaler_csv\\dy_frequency_filter_2024_424.csv\""
   ]
  },
  {
   "cell_type": "code",
   "execution_count": 4,
   "metadata": {},
   "outputs": [],
   "source": [
    "df = pd.read_csv(table_path)"
   ]
  },
  {
   "cell_type": "code",
   "execution_count": 5,
   "metadata": {},
   "outputs": [],
   "source": [
    "# 对每个唯一的土种编号生成一个字典\n",
    "def aggregate_rows(group):\n",
    "    records = group[['TL', 'YL', 'TS']].to_dict('records')\n",
    "    # 假设每个土种编号下的记录是相同的，这里我们取第一个记录\n",
    "    return records[0] if records else {}\n",
    "\n",
    "# 使用groupby按照`土种编号`聚合，并应用自定义函数\n",
    "soil_dict = df.groupby('TZ').apply(aggregate_rows).to_dict()"
   ]
  },
  {
   "cell_type": "code",
   "execution_count": 6,
   "metadata": {},
   "outputs": [],
   "source": [
    "tz_dict = {0: ['中层壤质中性紫色土'], 1: ['中层灰泥质黄色石灰土'], 2: ['中层砾壤质黑色石灰土'], 3: ['中层红泥质黄壤'], 4: ['厚层壤质黄色石灰土'], 5: ['厚层泥质黄壤'], 6: ['厚层红泥质黄壤'], 7: ['浅石灰泥田'], 8: ['潮泥田'], 9: ['潮砂泥田'], 10: ['石灰泥田'], 11: ['腐中层壤质酸性紫色土'], 12: ['腐中层壤质钙质紫色土'], 13: ['腐中层壤质黄色石灰土'], 14: ['腐中层泥质黄壤'], 15: ['腐中层灰泥质黄壤'], 16: ['腐中层砂泥质黄壤'], 17: ['腐中层砂泥质黄壤性土'], 18: ['腐中层硅质黄壤'], 19: ['腐厚层壤质黄色石灰土'], 20: ['腐厚层泥质黄壤'], 21: ['腐厚层灰泥质黄壤'], 22: ['腐厚层砂泥质黄壤'], 23: ['腐厚层硅质黄壤'], 24: ['腐薄层壤质黄色石灰土'], 25: ['腐薄层壤质黑色石灰土'], 26: ['腐薄层暗泥质黄壤'], 27: ['腐薄层泥质黄壤'], 28: ['腐薄层灰泥质黄壤'], 29: ['腐薄层砂泥质黄壤'], 30: ['腐薄层砾硅质黄壤'], 31: ['腐薄层硅质山地灌丛草甸土'], 32: ['腐薄层硅质黄壤'], 33: ['腐薄层黏质黄色石灰土'], 34: ['薄层壤质中性紫色土'], 35: ['薄层灰泥质黄色石灰土'], 36: ['薄层砾壤质中性紫色土'], 37: ['薄层砾壤质黑色石灰土'], 38: ['薄层砾硅质黄壤'], 39: ['薄层硅质黄壤'], 40: ['薄层红泥质黄壤'], 41: ['轻漂砂泥田'], 42: ['重漂砂泥田'], 43: ['重漂红泥田'], 44: ['青石灰泥田'], 45: ['黄浅白粉泥田'], 46: ['黄浅砂泥田'], 47: ['黄浅红泥田'], 48: ['黄浅鳝泥田'], 49: ['黄白粉泥田'], 50: ['黄砂泥田'], 51: ['黄红泥田'], 52: ['黄青白粉泥田'], 53: ['黄青砂泥田'], 54: ['黄黄砂泥田']}"
   ]
  },
  {
   "cell_type": "code",
   "execution_count": 7,
   "metadata": {},
   "outputs": [],
   "source": [
    "result_dict = {}\n",
    "for one_key in tz_dict:\n",
    "    result_dict[one_key] = {'TZ':tz_dict[one_key][0],'TL':soil_dict[tz_dict[one_key][0]]['TL'],'TS':soil_dict[tz_dict[one_key][0]]['TS'],'YL':soil_dict[tz_dict[one_key][0]]['YL']}"
   ]
  },
  {
   "cell_type": "code",
   "execution_count": 8,
   "metadata": {},
   "outputs": [
    {
     "data": {
      "text/plain": [
       "{0: {'TZ': '中层壤质中性紫色土', 'TL': '紫色土', 'TS': '壤质中性紫色土', 'YL': '中性紫色土'},\n",
       " 1: {'TZ': '中层灰泥质黄色石灰土', 'TL': '石灰土', 'TS': '灰泥质黄色石灰土', 'YL': '黄色石灰土'},\n",
       " 2: {'TZ': '中层砾壤质黑色石灰土', 'TL': '石灰土', 'TS': '砾壤质黑色石灰土', 'YL': '黑色石灰土'},\n",
       " 3: {'TZ': '中层红泥质黄壤', 'TL': '黄壤', 'TS': '红泥质黄壤', 'YL': '典型黄壤'},\n",
       " 4: {'TZ': '厚层壤质黄色石灰土', 'TL': '石灰土', 'TS': '壤质黄色石灰土', 'YL': '黄色石灰土'},\n",
       " 5: {'TZ': '厚层泥质黄壤', 'TL': '黄壤', 'TS': '泥质黄壤', 'YL': '典型黄壤'},\n",
       " 6: {'TZ': '厚层红泥质黄壤', 'TL': '黄壤', 'TS': '红泥质黄壤', 'YL': '典型黄壤'},\n",
       " 7: {'TZ': '浅石灰泥田', 'TL': '水稻土', 'TS': '浅灰泥田', 'YL': '淹育型水稻土'},\n",
       " 8: {'TZ': '潮泥田', 'TL': '水稻土', 'TS': '潮泥田', 'YL': '潴育型水稻土'},\n",
       " 9: {'TZ': '潮砂泥田', 'TL': '水稻土', 'TS': '潮砂泥田', 'YL': '潴育型水稻土'},\n",
       " 10: {'TZ': '石灰泥田', 'TL': '水稻土', 'TS': '石灰泥田', 'YL': '潴育型水稻土'},\n",
       " 11: {'TZ': '腐中层壤质酸性紫色土', 'TL': '紫色土', 'TS': '壤质酸性紫色土', 'YL': '酸性紫色土'},\n",
       " 12: {'TZ': '腐中层壤质钙质紫色土', 'TL': '紫色土', 'TS': '壤质钙质紫色土', 'YL': '钙质紫色土'},\n",
       " 13: {'TZ': '腐中层壤质黄色石灰土', 'TL': '石灰土', 'TS': '壤质黄色石灰土', 'YL': '黄色石灰土'},\n",
       " 14: {'TZ': '腐中层泥质黄壤', 'TL': '黄壤', 'TS': '泥质黄壤', 'YL': '典型黄壤'},\n",
       " 15: {'TZ': '腐中层灰泥质黄壤', 'TL': '黄壤', 'TS': '灰泥质黄壤', 'YL': '典型黄壤'},\n",
       " 16: {'TZ': '腐中层砂泥质黄壤', 'TL': '黄壤', 'TS': '砂泥质黄壤', 'YL': '典型黄壤'},\n",
       " 17: {'TZ': '腐中层砂泥质黄壤性土', 'TL': '黄壤', 'TS': '砂泥质黄壤性土', 'YL': '黄壤性土'},\n",
       " 18: {'TZ': '腐中层硅质黄壤', 'TL': '黄壤', 'TS': '硅质黄壤', 'YL': '典型黄壤'},\n",
       " 19: {'TZ': '腐厚层壤质黄色石灰土', 'TL': '石灰土', 'TS': '壤质黄色石灰土', 'YL': '黄色石灰土'},\n",
       " 20: {'TZ': '腐厚层泥质黄壤', 'TL': '黄壤', 'TS': '泥质黄壤', 'YL': '典型黄壤'},\n",
       " 21: {'TZ': '腐厚层灰泥质黄壤', 'TL': '黄壤', 'TS': '灰泥质黄壤', 'YL': '典型黄壤'},\n",
       " 22: {'TZ': '腐厚层砂泥质黄壤', 'TL': '黄壤', 'TS': '砂泥质黄壤', 'YL': '典型黄壤'},\n",
       " 23: {'TZ': '腐厚层硅质黄壤', 'TL': '黄壤', 'TS': '硅质黄壤', 'YL': '典型黄壤'},\n",
       " 24: {'TZ': '腐薄层壤质黄色石灰土', 'TL': '石灰土', 'TS': '壤质黄色石灰土', 'YL': '黄色石灰土'},\n",
       " 25: {'TZ': '腐薄层壤质黑色石灰土', 'TL': '石灰土', 'TS': '壤质黑色石灰土', 'YL': '黑色石灰土'},\n",
       " 26: {'TZ': '腐薄层暗泥质黄壤', 'TL': '黄壤', 'TS': '暗泥质黄壤', 'YL': '典型黄壤'},\n",
       " 27: {'TZ': '腐薄层泥质黄壤', 'TL': '黄壤', 'TS': '泥质黄壤', 'YL': '典型黄壤'},\n",
       " 28: {'TZ': '腐薄层灰泥质黄壤', 'TL': '黄壤', 'TS': '灰泥质黄壤', 'YL': '典型黄壤'},\n",
       " 29: {'TZ': '腐薄层砂泥质黄壤', 'TL': '黄壤', 'TS': '砂泥质黄壤', 'YL': '典型黄壤'},\n",
       " 30: {'TZ': '腐薄层砾硅质黄壤', 'TL': '黄壤', 'TS': '砾硅质黄壤', 'YL': '典型黄壤'},\n",
       " 31: {'TZ': '腐薄层硅质山地灌丛草甸土', 'TL': '山地草甸土', 'TS': '硅质山地灌丛草甸土', 'YL': '山地灌丛草甸土'},\n",
       " 32: {'TZ': '腐薄层硅质黄壤', 'TL': '黄壤', 'TS': '硅质黄壤', 'YL': '典型黄壤'},\n",
       " 33: {'TZ': '腐薄层黏质黄色石灰土', 'TL': '石灰土', 'TS': '黏质黄色石灰土', 'YL': '黄色石灰土'},\n",
       " 34: {'TZ': '薄层壤质中性紫色土', 'TL': '紫色土', 'TS': '壤质中性紫色土', 'YL': '中性紫色土'},\n",
       " 35: {'TZ': '薄层灰泥质黄色石灰土', 'TL': '石灰土', 'TS': '灰泥质黄色石灰土', 'YL': '黄色石灰土'},\n",
       " 36: {'TZ': '薄层砾壤质中性紫色土', 'TL': '紫色土', 'TS': '砾壤质中性紫色土', 'YL': '中性紫色土'},\n",
       " 37: {'TZ': '薄层砾壤质黑色石灰土', 'TL': '石灰土', 'TS': '砾壤质黑色石灰土', 'YL': '黑色石灰土'},\n",
       " 38: {'TZ': '薄层砾硅质黄壤', 'TL': '黄壤', 'TS': '砾硅质黄壤', 'YL': '典型黄壤'},\n",
       " 39: {'TZ': '薄层硅质黄壤', 'TL': '黄壤', 'TS': '硅质黄壤', 'YL': '典型黄壤'},\n",
       " 40: {'TZ': '薄层红泥质黄壤', 'TL': '黄壤', 'TS': '红泥质黄壤', 'YL': '典型黄壤'},\n",
       " 41: {'TZ': '轻漂砂泥田', 'TL': '水稻土', 'TS': '漂砂泥田', 'YL': '漂洗型水稻土'},\n",
       " 42: {'TZ': '重漂砂泥田', 'TL': '水稻土', 'TS': '漂砂泥田', 'YL': '漂洗型水稻土'},\n",
       " 43: {'TZ': '重漂红泥田', 'TL': '水稻土', 'TS': '漂红泥田', 'YL': '漂洗型水稻土'},\n",
       " 44: {'TZ': '青石灰泥田', 'TL': '水稻土', 'TS': '青灰泥田', 'YL': '潜育型水稻土'},\n",
       " 45: {'TZ': '黄浅白粉泥田', 'TL': '水稻土', 'TS': '浅白粉泥田', 'YL': '淹育型水稻土'},\n",
       " 46: {'TZ': '黄浅砂泥田', 'TL': '水稻土', 'TS': '浅砂泥田', 'YL': '淹育型水稻土'},\n",
       " 47: {'TZ': '黄浅红泥田', 'TL': '水稻土', 'TS': '浅红泥田', 'YL': '淹育型水稻土'},\n",
       " 48: {'TZ': '黄浅鳝泥田', 'TL': '水稻土', 'TS': '浅鳝泥田', 'YL': '淹育型水稻土'},\n",
       " 49: {'TZ': '黄白粉泥田', 'TL': '水稻土', 'TS': '青白粉泥田', 'YL': '潜育型水稻土'},\n",
       " 50: {'TZ': '黄砂泥田', 'TL': '水稻土', 'TS': '砂泥田', 'YL': '潴育型水稻土'},\n",
       " 51: {'TZ': '黄红泥田', 'TL': '水稻土', 'TS': '红泥田', 'YL': '潴育型水稻土'},\n",
       " 52: {'TZ': '黄青白粉泥田', 'TL': '水稻土', 'TS': '青白粉泥田', 'YL': '潜育型水稻土'},\n",
       " 53: {'TZ': '黄青砂泥田', 'TL': '水稻土', 'TS': '青砂泥田', 'YL': '潜育型水稻土'},\n",
       " 54: {'TZ': '黄黄砂泥田', 'TL': '水稻土', 'TS': '黄砂泥田', 'YL': '脱潜型水稻土'}}"
      ]
     },
     "execution_count": 8,
     "metadata": {},
     "output_type": "execute_result"
    }
   ],
   "source": [
    "result_dict"
   ]
  },
  {
   "cell_type": "code",
   "execution_count": 9,
   "metadata": {},
   "outputs": [],
   "source": [
    "raster_path = r'D:\\ArcGISProjects\\workspace\\shbyq\\feature_soiltype_result\\feature_soiltype_result_dy.gdb\\prediction_soiltype_RFE_20240429_simple_nolonlat_smooth'\n",
    "out_polygon_path = r'D:\\ArcGISProjects\\workspace\\shbyq\\soil_type_result.gdb\\soiltype_dy\\prediction_soiltype_RFE_20240429_simple_nolonlat_smooth'\n",
    "field_name = 'Value'"
   ]
  },
  {
   "cell_type": "code",
   "execution_count": 10,
   "metadata": {},
   "outputs": [],
   "source": [
    "# 栅格转面\n",
    "raster_to_polygon(raster_path, out_polygon_path, field_name)"
   ]
  },
  {
   "cell_type": "code",
   "execution_count": 11,
   "metadata": {},
   "outputs": [],
   "source": [
    "code_block =f\"\"\"\n",
    "def get_soil_class(soil_code):\n",
    "    soil_dict = {result_dict}\n",
    "    TZ = soil_dict[soil_code]['TZ']\n",
    "    TL = soil_dict[soil_code]['TL']\n",
    "    YL = soil_dict[soil_code]['YL']\n",
    "    TS = soil_dict[soil_code]['TS']\n",
    "    result_list = [TZ,TS,YL,TL]\n",
    "    return result_list[0]\n",
    "\"\"\"\n",
    "field_name = 'TZ'"
   ]
  },
  {
   "cell_type": "code",
   "execution_count": 12,
   "metadata": {},
   "outputs": [],
   "source": [
    "expression = \"get_soil_class(!gridcode!)\""
   ]
  },
  {
   "cell_type": "code",
   "execution_count": 13,
   "metadata": {},
   "outputs": [],
   "source": [
    "# 增加字段\n",
    "for one_field in ['TL','YL','TS','TZ']:\n",
    "    add_field(out_polygon_path, one_field, 'TEXT')"
   ]
  },
  {
   "cell_type": "code",
   "execution_count": 14,
   "metadata": {},
   "outputs": [
    {
     "data": {
      "text/html": [
       "<div class='gpresult'><h2>Messages</h2><div id='messages' data-messages='[\"开始时间: 2024年4月29日 9:08:09\",\"运行 成功，结束时间： 2024年4月29日 9:08:12 (历时: 3.49 秒)\"]' data-show='true'><div id = 'default' /></div></div>"
      ],
      "text/plain": [
       "<Result 'D:\\\\ArcGISProjects\\\\workspace\\\\shbyq\\\\soil_type_result.gdb\\\\soiltype_dy\\\\prediction_soiltype_RFE_20240429_simple_nolonlat_smooth'>"
      ]
     },
     "execution_count": 14,
     "metadata": {},
     "output_type": "execute_result"
    }
   ],
   "source": [
    "# 计算字段\n",
    "arcpy.CalculateField_management(in_table=out_polygon_path, field=field_name, expression=expression, expression_type=\"PYTHON3\", code_block=code_block)\n",
    "    "
   ]
  },
  {
   "cell_type": "code",
   "execution_count": 15,
   "metadata": {},
   "outputs": [
    {
     "data": {
      "text/html": [
       "<div class='gpresult'><h2>Messages</h2><div id='messages' data-messages='[\"开始时间: 2024年4月29日 9:08:13\",\"运行 成功，结束时间： 2024年4月29日 9:08:16 (历时: 3.43 秒)\"]' data-show='true'><div id = 'default' /></div></div>"
      ],
      "text/plain": [
       "<Result 'D:\\\\ArcGISProjects\\\\workspace\\\\shbyq\\\\soil_type_result.gdb\\\\soiltype_dy\\\\prediction_soiltype_RFE_20240429_simple_nolonlat_smooth'>"
      ]
     },
     "execution_count": 15,
     "metadata": {},
     "output_type": "execute_result"
    }
   ],
   "source": [
    "code_block =f\"\"\"\n",
    "def get_soil_class(soil_code):\n",
    "    soil_dict = {result_dict}\n",
    "    TZ = soil_dict[soil_code]['TZ']\n",
    "    TL = soil_dict[soil_code]['TL']\n",
    "    YL = soil_dict[soil_code]['YL']\n",
    "    TS = soil_dict[soil_code]['TS']\n",
    "    result_list = [TZ,TS,YL,TL]\n",
    "    return result_list[1]\n",
    "\"\"\"\n",
    "field_name = 'TS'\n",
    "# 计算字段\n",
    "arcpy.CalculateField_management(in_table=out_polygon_path, field=field_name, expression=expression, expression_type=\"PYTHON3\", code_block=code_block)"
   ]
  },
  {
   "cell_type": "code",
   "execution_count": 16,
   "metadata": {},
   "outputs": [
    {
     "data": {
      "text/html": [
       "<div class='gpresult'><h2>Messages</h2><div id='messages' data-messages='[\"开始时间: 2024年4月29日 9:08:16\",\"运行 成功，结束时间： 2024年4月29日 9:08:20 (历时: 3.50 秒)\"]' data-show='true'><div id = 'default' /></div></div>"
      ],
      "text/plain": [
       "<Result 'D:\\\\ArcGISProjects\\\\workspace\\\\shbyq\\\\soil_type_result.gdb\\\\soiltype_dy\\\\prediction_soiltype_RFE_20240429_simple_nolonlat_smooth'>"
      ]
     },
     "execution_count": 16,
     "metadata": {},
     "output_type": "execute_result"
    }
   ],
   "source": [
    "code_block =f\"\"\"\n",
    "def get_soil_class(soil_code):\n",
    "    soil_dict = {result_dict}\n",
    "    TZ = soil_dict[soil_code]['TZ']\n",
    "    TL = soil_dict[soil_code]['TL']\n",
    "    YL = soil_dict[soil_code]['YL']\n",
    "    TS = soil_dict[soil_code]['TS']\n",
    "    result_list = [TZ,TS,YL,TL]\n",
    "    return result_list[2]\n",
    "\"\"\"\n",
    "field_name = 'YL'\n",
    "# 计算字段\n",
    "arcpy.CalculateField_management(in_table=out_polygon_path, field=field_name, expression=expression, expression_type=\"PYTHON3\", code_block=code_block)"
   ]
  },
  {
   "cell_type": "code",
   "execution_count": 17,
   "metadata": {},
   "outputs": [
    {
     "data": {
      "text/html": [
       "<div class='gpresult'><h2>Messages</h2><div id='messages' data-messages='[\"开始时间: 2024年4月29日 9:08:20\",\"运行 成功，结束时间： 2024年4月29日 9:08:23 (历时: 3.44 秒)\"]' data-show='true'><div id = 'default' /></div></div>"
      ],
      "text/plain": [
       "<Result 'D:\\\\ArcGISProjects\\\\workspace\\\\shbyq\\\\soil_type_result.gdb\\\\soiltype_dy\\\\prediction_soiltype_RFE_20240429_simple_nolonlat_smooth'>"
      ]
     },
     "execution_count": 17,
     "metadata": {},
     "output_type": "execute_result"
    }
   ],
   "source": [
    "code_block =f\"\"\"\n",
    "def get_soil_class(soil_code):\n",
    "    soil_dict = {result_dict}\n",
    "    TZ = soil_dict[soil_code]['TZ']\n",
    "    TL = soil_dict[soil_code]['TL']\n",
    "    YL = soil_dict[soil_code]['YL']\n",
    "    TS = soil_dict[soil_code]['TS']\n",
    "    result_list = [TZ,TS,YL,TL]\n",
    "    return result_list[3]\n",
    "\"\"\"\n",
    "field_name = 'TL'\n",
    "# 计算字段\n",
    "arcpy.CalculateField_management(in_table=out_polygon_path, field=field_name, expression=expression, expression_type=\"PYTHON3\", code_block=code_block)"
   ]
  },
  {
   "cell_type": "code",
   "execution_count": null,
   "metadata": {},
   "outputs": [],
   "source": []
  }
 ],
 "metadata": {
  "kernelspec": {
   "display_name": "Python 3",
   "language": "python",
   "name": "python3"
  },
  "language_info": {
   "codemirror_mode": {
    "name": "ipython",
    "version": 3
   },
   "file_extension": ".py",
   "mimetype": "text/x-python",
   "name": "python",
   "nbconvert_exporter": "python",
   "pygments_lexer": "ipython3",
   "version": "3.9.11"
  }
 },
 "nbformat": 4,
 "nbformat_minor": 2
}
