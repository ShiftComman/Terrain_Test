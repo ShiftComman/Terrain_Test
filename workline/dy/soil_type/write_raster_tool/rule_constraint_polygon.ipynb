{
 "cells": [
  {
   "cell_type": "code",
   "execution_count": null,
   "metadata": {},
   "outputs": [],
   "source": [
    "import arcpy\n",
    "import os\n",
    "import pandas as pd\n",
    "import numpy as np\n",
    "from arcpy import env\n",
    "from arcpy.management import *\n",
    "from arcpy.conversion import *\n",
    "from arcpy.da import *\n",
    "from arcpy.sa import *"
   ]
  },
  {
   "cell_type": "markdown",
   "metadata": {},
   "source": [
    "# 矢量计算实现"
   ]
  },
  {
   "cell_type": "code",
   "execution_count": null,
   "metadata": {},
   "outputs": [],
   "source": [
    "# 获取要素字段\n",
    "def get_filed(ele_path):\n",
    "    \"\"\"获取输入要素的字段及类型\"\"\"\n",
    "    field_dict = {}\n",
    "    for one_field in arcpy.ListFields(ele_path):\n",
    "        field_dict[one_field.name] = one_field.type\n",
    "    return field_dict\n",
    "# 获取要素的df表\n",
    "def get_ele_df(ele_path,field_list):\n",
    "    \"\"\"获取输入要素的df表\"\"\"\n",
    "    df = pd.DataFrame(TableToNumPyArray(ele_path,field_list))\n",
    "    return df\n",
    "\n",
    "\n",
    "# 按属性选择并导出为要素类\n",
    "def export_ele_by_attr(in_path, out_path, field_name, field_values):\n",
    "    \"\"\"\n",
    "    按属性选择并导出为要素类，field_values可以是单个值也可以是一个列表\n",
    "\n",
    "    参数:\n",
    "    in_path: 输入要素类的路径\n",
    "    out_path: 输出要素类的路径\n",
    "    field_name: 用于选择的字段名称\n",
    "    field_values: 单个字段值或字段值列表，基于这些值进行选择\n",
    "    \"\"\"\n",
    "    # 确保field_values总是列表\n",
    "    if not isinstance(field_values, list):\n",
    "        field_values = [field_values]  # 将单个值转换为列表\n",
    "\n",
    "    # 将输入的要素类转换为图层\n",
    "    temp_layer = \"tempLayer\"\n",
    "    arcpy.MakeFeatureLayer_management(in_path, temp_layer)\n",
    "    \n",
    "    # 清除在临时图层上的任何现有选择\n",
    "    arcpy.SelectLayerByAttribute_management(temp_layer, \"CLEAR_SELECTION\")\n",
    "    \n",
    "    # 构建查询语句以处理值列表\n",
    "    values_str = ','.join([f\"'{value}'\" for value in field_values])\n",
    "    query = f\"{field_name} IN ({values_str})\"\n",
    "    \n",
    "    # 使用查询语句按属性选择\n",
    "    arcpy.SelectLayerByAttribute_management(temp_layer, \"NEW_SELECTION\", query)\n",
    "    \n",
    "    # 检查是否有选择的要素\n",
    "    if int(arcpy.GetCount_management(temp_layer)[0]) > 0:\n",
    "        # 导出选择的要素\n",
    "        arcpy.CopyFeatures_management(temp_layer, out_path)\n",
    "        print(f\"已成功导出要素到 {out_path}\")\n",
    "    else:\n",
    "        print(\"没有找到匹配的要素。\")\n",
    "    \n",
    "    # 清理临时图层\n",
    "    arcpy.Delete_management(temp_layer)\n",
    "\n",
    "\n"
   ]
  },
  {
   "cell_type": "code",
   "execution_count": null,
   "metadata": {},
   "outputs": [],
   "source": [
    "work_path = r'D:\\ArcGISProjects\\workspace\\shbyq\\features_data_vector.gdb\\features_dy'\n",
    "env.workspace = work_path\n",
    "env.overwriteOutput = True"
   ]
  },
  {
   "cell_type": "code",
   "execution_count": null,
   "metadata": {},
   "outputs": [],
   "source": [
    "arcpy.ListFeatureClasses()"
   ]
  },
  {
   "cell_type": "code",
   "execution_count": null,
   "metadata": {},
   "outputs": [],
   "source": [
    "gtsd_path = r'D:\\ArcGISProjects\\workspace\\shbyq\\features_data_vector.gdb\\features_dy\\dy_sd'\n",
    "temp_path = r'D:\\ArcGISProjects\\workspace\\shbyq\\soil_type_result.gdb\\soiltype_dy\\soiltype_prediction_CATB_20240226'"
   ]
  },
  {
   "cell_type": "code",
   "execution_count": null,
   "metadata": {},
   "outputs": [],
   "source": [
    "field_dict = get_filed(gtsd_path)"
   ]
  },
  {
   "cell_type": "code",
   "execution_count": null,
   "metadata": {},
   "outputs": [],
   "source": [
    "field_dict"
   ]
  },
  {
   "cell_type": "code",
   "execution_count": null,
   "metadata": {},
   "outputs": [],
   "source": [
    "df = get_ele_df(gtsd_path,['DLBM','DLMC'])\n",
    "# 去重\n",
    "df =df.drop_duplicates()\n",
    "df"
   ]
  },
  {
   "cell_type": "code",
   "execution_count": null,
   "metadata": {},
   "outputs": [],
   "source": [
    "df = get_ele_df(temp_path,['TL'])\n",
    "# 去重\n",
    "df =df.drop_duplicates()\n",
    "df"
   ]
  },
  {
   "cell_type": "code",
   "execution_count": null,
   "metadata": {},
   "outputs": [],
   "source": [
    "export_ele_by_attr(temp_path,'dy_pre_tl','TL','水稻土')"
   ]
  },
  {
   "cell_type": "code",
   "execution_count": null,
   "metadata": {},
   "outputs": [],
   "source": [
    "export_ele_by_attr('dy_sd','dy_ZRT','DLMC',['茶园','其他园地','乔木林地','竹林地','灌木林地','其他林地','人工牧草地','其他草地'])"
   ]
  },
  {
   "cell_type": "markdown",
   "metadata": {},
   "source": [
    "# 栅格计算实现"
   ]
  },
  {
   "cell_type": "code",
   "execution_count": null,
   "metadata": {},
   "outputs": [],
   "source": [
    "import numpy as np\n",
    "import arcpy\n",
    "from scipy.spatial import cKDTree"
   ]
  },
  {
   "cell_type": "code",
   "execution_count": null,
   "metadata": {},
   "outputs": [],
   "source": [
    "def load_raster_as_array(raster_path):\n",
    "    \"\"\"\n",
    "    将栅格数据加载为NumPy数组。\n",
    "    \"\"\"\n",
    "    return arcpy.RasterToNumPyArray(raster_path)\n",
    "\n",
    "def create_cKDTree_for_replacement(raster, mask, inverse=False):\n",
    "    \"\"\"\n",
    "    根据指定的掩码创建cKDTree，用于快速寻找最近的替代值。\n",
    "    inverse参数决定是使用掩码(True)还是反掩码(False)中的位置创建树。\n",
    "    \"\"\"\n",
    "    if inverse:\n",
    "        positions = np.column_stack(np.where(~mask))\n",
    "    else:\n",
    "        positions = np.column_stack(np.where(mask))\n",
    "    return cKDTree(positions), positions\n",
    "def find_and_replace_with_mapping(pre_raster, dl_raster, mapping, paddy_codes):\n",
    "    \"\"\"\n",
    "    根据dl_raster到pre_raster的映射关系，查找并替换需要调整的像素值。\n",
    "    \"\"\"\n",
    "    corrected_raster = np.copy(pre_raster)\n",
    "    for dl_code, target_pre_codes in mapping.items():\n",
    "        # 找到dl_raster中指定dl_code的所有位置\n",
    "        dl_mask = dl_raster == dl_code\n",
    "        # 找出这些位置中pre_raster不在目标水田代码列表中的像素\n",
    "        replace_mask = dl_mask & (~np.isin(pre_raster, target_pre_codes))\n",
    "        # 对这些需要替换的像素进行处理\n",
    "        corrected_raster = find_and_replace_nearest(corrected_raster, replace_mask, paddy_codes)\n",
    "    \n",
    "    return corrected_raster\n",
    "\n",
    "\n",
    "def find_and_replace_nearest(target_raster, mask, replacement_codes, inverse=False):\n",
    "    \"\"\"\n",
    "    查找并替换栅格中需要被替代的值。\n",
    "    \"\"\"\n",
    "    corrected_raster = np.copy(target_raster)\n",
    "    tree, valid_positions = create_cKDTree_for_replacement(target_raster, np.isin(target_raster, replacement_codes), inverse)\n",
    "    to_be_replaced = np.column_stack(np.where(mask))\n",
    "    \n",
    "    if to_be_replaced.size > 0:\n",
    "        _, nearest_indices = tree.query(to_be_replaced)\n",
    "        nearest_valid_values = target_raster[valid_positions[nearest_indices][:, 0], valid_positions[nearest_indices][:, 1]]\n",
    "        corrected_raster[to_be_replaced[:, 0], to_be_replaced[:, 1]] = nearest_valid_values\n",
    "\n",
    "    return corrected_raster"
   ]
  },
  {
   "cell_type": "code",
   "execution_count": null,
   "metadata": {},
   "outputs": [],
   "source": [
    "env.workspace = r'D:\\ArcGISProjects\\workspace\\shbyq\\feature_soiltype_result\\feature_soiltype_result_dy.gdb'"
   ]
  },
  {
   "cell_type": "code",
   "execution_count": null,
   "metadata": {},
   "outputs": [],
   "source": [
    "# 示例使用\n",
    "pre_raster_path = r'D:\\ArcGISProjects\\workspace\\shbyq\\feature_soiltype_result\\feature_soiltype_result_dy.gdb\\prediction_sioltype_CATB_20240226'\n",
    "dl_raster_path = r'D:\\ArcGISProjects\\workspace\\shbyq\\feature_raster_file\\features_data_dy.gdb\\DL'\n",
    "output_raster_path = \"prediction_sioltype_CATB_20240226_reclass\""
   ]
  },
  {
   "cell_type": "code",
   "execution_count": null,
   "metadata": {},
   "outputs": [],
   "source": [
    "# 定义类别代码\n",
    "paddy_codes = [76, 11, 12, 25, 74, 79, 28, 17, 27, 80, 15, 21, 10, 20, 26, 22, 82]  # 水田代码\n",
    "natural_soil_codes_dl = [5,6,7,8,9,10,11,12]  # dl_raster中自然土代码\n",
    "\n",
    "# 条件1: dl_raster中标记为水田的像素在pre_raster中也必须是水田代码\n",
    "# 映射字典\n",
    "mapping = {\n",
    "    1: paddy_codes,  # dl_raster中的1对应pre_raster中的所有水田代码\n",
    "    2: paddy_codes,  # 同上\n",
    "    31: paddy_codes,   # 同上\n",
    "    32: paddy_codes   # 同上\n",
    "}"
   ]
  },
  {
   "cell_type": "code",
   "execution_count": null,
   "metadata": {},
   "outputs": [],
   "source": [
    "pre_raster = load_raster_as_array(pre_raster_path)\n",
    "dl_raster= load_raster_as_array(dl_raster_path)"
   ]
  },
  {
   "cell_type": "code",
   "execution_count": null,
   "metadata": {},
   "outputs": [],
   "source": [
    "pre_raster.shape, dl_raster.shape"
   ]
  },
  {
   "cell_type": "code",
   "execution_count": null,
   "metadata": {},
   "outputs": [],
   "source": [
    "# 使用映射字典处理条件1\n",
    "corrected_raster_condition1 = find_and_replace_with_mapping(pre_raster, dl_raster, mapping, paddy_codes)\n",
    "\n",
    "# 条件2: pre_raster中为水田代码的像素，对应的dl_raster的值不应该在自然土代码列表中\n",
    "natural_soil_mask_dl = np.isin(dl_raster, natural_soil_codes_dl)  # dl_raster中自然土的掩码\n",
    "paddy_in_pre = np.isin(pre_raster, paddy_codes)  # pre_raster中水田的掩码\n",
    "condition2_mask = natural_soil_mask_dl & paddy_in_pre\n",
    "corrected_raster_condition2 = find_and_replace_nearest(corrected_raster_condition1, condition2_mask, paddy_codes, True)\n"
   ]
  },
  {
   "cell_type": "code",
   "execution_count": null,
   "metadata": {},
   "outputs": [],
   "source": [
    "# 将结果转存为\n",
    "corrected_raster_condition2"
   ]
  },
  {
   "cell_type": "code",
   "execution_count": null,
   "metadata": {},
   "outputs": [],
   "source": [
    "env.extent = r'D:\\ArcGISProjects\\workspace\\shbyq\\feature_soiltype_result\\feature_soiltype_result_dy.gdb\\prediction_sioltype_CATB_20240226'"
   ]
  },
  {
   "cell_type": "code",
   "execution_count": null,
   "metadata": {},
   "outputs": [],
   "source": [
    "# 掩膜提取\n",
    "def mask_raster(array,mask_ele,cell_size):\n",
    "    out_raster = arcpy.NumPyArrayToRaster(\n",
    "    array,\n",
    "    arcpy.Point(arcpy.env.extent.XMin, arcpy.env.extent.YMin),\n",
    "    cell_size,\n",
    "    cell_size,\n",
    ")\n",
    "    \"\"\"按掩膜提取栅格,空间参考设定为:CGCS2000_3_Degree_GK_CM_108E\"\"\"\n",
    "    output_coordinate_system = arcpy.Describe(mask_ele).spatialReference\n",
    "    with arcpy.EnvManager(outputCoordinateSystem=output_coordinate_system,snapRaster=mask_ele, cellSize=mask_ele):\n",
    "        result_raster = arcpy.sa.ExtractByMask(out_raster, mask_ele, \"INSIDE\")\n",
    "        return result_raster"
   ]
  },
  {
   "cell_type": "code",
   "execution_count": null,
   "metadata": {},
   "outputs": [],
   "source": [
    "result_raster = mask_raster(corrected_raster_condition2,r'D:\\ArcGISProjects\\workspace\\shbyq\\feature_soiltype_result\\feature_soiltype_result_dy.gdb\\prediction_sioltype_CATB_20240226', 5)"
   ]
  },
  {
   "cell_type": "code",
   "execution_count": null,
   "metadata": {},
   "outputs": [],
   "source": [
    "arcpy.sa.Int(result_raster)"
   ]
  },
  {
   "cell_type": "code",
   "execution_count": null,
   "metadata": {},
   "outputs": [],
   "source": [
    "result_raster.save(r'D:\\ArcGISProjects\\workspace\\shbyq\\feature_soiltype_result\\feature_soiltype_result_dy.gdb\\prediction_sioltype_CATB_20240226_reclass')"
   ]
  }
 ],
 "metadata": {
  "kernelspec": {
   "display_name": "Python 3",
   "language": "python",
   "name": "python3"
  },
  "language_info": {
   "codemirror_mode": {
    "name": "ipython",
    "version": 3
   },
   "file_extension": ".py",
   "mimetype": "text/x-python",
   "name": "python",
   "nbconvert_exporter": "python",
   "pygments_lexer": "ipython3",
   "version": "3.9.11"
  }
 },
 "nbformat": 4,
 "nbformat_minor": 2
}
