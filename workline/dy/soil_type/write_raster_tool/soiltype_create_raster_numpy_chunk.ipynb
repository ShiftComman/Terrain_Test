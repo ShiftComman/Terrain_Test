{
 "cells": [
  {
   "cell_type": "code",
   "execution_count": 12,
   "metadata": {},
   "outputs": [],
   "source": [
    "import os\n",
    "import numpy as np\n",
    "import rasterio\n",
    "from autogluon.tabular import TabularPredictor\n",
    "import pandas as pd\n",
    "from tqdm import tqdm"
   ]
  },
  {
   "cell_type": "code",
   "execution_count": 13,
   "metadata": {},
   "outputs": [],
   "source": [
    "\n",
    "class TIFPredictor:\n",
    "    def __init__(self, model_path, model_name, input_folder, chunk_size=(1000, 1000)):\n",
    "        self.model = TabularPredictor.load(model_path)\n",
    "        self.select_model = model_name\n",
    "        self.input_folder = input_folder\n",
    "        self.feature_columns = self.model.feature_metadata_in.get_features()\n",
    "        self.chunk_size = chunk_size\n",
    "\n",
    "    def read_tif_info(self, file_path):\n",
    "        with rasterio.open(file_path) as src:\n",
    "            return src.profile, src.shape\n",
    "\n",
    "    def read_tif_chunk(self, file_path, row_start, row_end, col_start, col_end):\n",
    "        with rasterio.open(file_path) as src:\n",
    "            return src.read(1, window=((row_start, row_end), (col_start, col_end)))\n",
    "\n",
    "    def generate_chunks(self, shape):\n",
    "        rows, cols = shape\n",
    "        for row in range(0, rows, self.chunk_size[0]):\n",
    "            for col in range(0, cols, self.chunk_size[1]):\n",
    "                yield (row, min(row + self.chunk_size[0], rows),\n",
    "                       col, min(col + self.chunk_size[1], cols))\n",
    "\n",
    "    def predict(self, output_path):\n",
    "        # Get metadata from the first TIF file\n",
    "        first_tif = os.path.join(self.input_folder, f\"{self.feature_columns[0]}.tif\")\n",
    "        profile, shape = self.read_tif_info(first_tif)\n",
    "\n",
    "        # Prepare the output file\n",
    "        profile.update(dtype=rasterio.float32, count=1, compress='lzw')\n",
    "        total_chunks = sum(1 for _ in self.generate_chunks(shape))\n",
    "        with rasterio.open(output_path, 'w', **profile) as dst:\n",
    "            with tqdm(total=total_chunks, desc=\"处理进度\") as pbar:\n",
    "                for row_start, row_end, col_start, col_end in self.generate_chunks(shape):\n",
    "                    chunk_data = {}\n",
    "                    for feature in self.feature_columns:\n",
    "                        tif_path = os.path.join(self.input_folder, f\"{feature}.tif\")\n",
    "                        chunk = self.read_tif_chunk(tif_path, row_start, row_end, col_start, col_end)\n",
    "                        chunk_data[feature] = chunk.flatten()\n",
    "\n",
    "                    # Prepare input data for the model\n",
    "                    X = pd.DataFrame(chunk_data)\n",
    "\n",
    "                    # Make predictions\n",
    "                    predictions = self.model.predict(X, model=self.select_model)\n",
    "\n",
    "                    # Reshape predictions to match the chunk size\n",
    "                    predictions = predictions.values.reshape((row_end - row_start, col_end - col_start))\n",
    "\n",
    "                    # Write the predictions to the output file\n",
    "                    dst.write(predictions.astype(rasterio.float32), 1, window=((row_start, row_end), (col_start, col_end)))\n",
    "                pbar.update(1)\n",
    "        print(f\"Predictions saved to {output_path}\")\n",
    "\n"
   ]
  },
  {
   "cell_type": "code",
   "execution_count": 15,
   "metadata": {},
   "outputs": [],
   "source": [
    "# 使用示例\n",
    "model_path = r'F:\\cache_data\\model_path\\sb\\soil_type\\autogluon\\autogluon_20240902'\n",
    "model_name = 'XGBoost'  # 例如 'WeightedEnsemble_L2'\n",
    "input_folder = r'F:\\tif_features\\county_feature\\sb'\n",
    "output_path = r'C:\\Users\\Runker\\Desktop\\test\\CSC\\prediction.tif'"
   ]
  },
  {
   "cell_type": "code",
   "execution_count": 18,
   "metadata": {},
   "outputs": [],
   "source": [
    "predictor = TIFPredictor(model_path, model_name, input_folder)\n",
    "predictor.predict(output_path)"
   ]
  }
 ],
 "metadata": {
  "kernelspec": {
   "display_name": ".venvgis",
   "language": "python",
   "name": "python3"
  },
  "language_info": {
   "codemirror_mode": {
    "name": "ipython",
    "version": 3
   },
   "file_extension": ".py",
   "mimetype": "text/x-python",
   "name": "python",
   "nbconvert_exporter": "python",
   "pygments_lexer": "ipython3",
   "version": "3.10.11"
  }
 },
 "nbformat": 4,
 "nbformat_minor": 2
}
