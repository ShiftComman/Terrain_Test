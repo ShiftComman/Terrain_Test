{
 "cells": [
  {
   "cell_type": "code",
   "execution_count": null,
   "metadata": {},
   "outputs": [],
   "source": [
    "import arcpy\n",
    "import os\n",
    "\n",
    "# 设置工作空间\n",
    "arcpy.env.workspace = r\"D:\\ArcGISProjects\\workspace\\sp2024\\MyProject.gdb\"\n",
    "arcpy.env.overwriteOutput = True"
   ]
  },
  {
   "cell_type": "code",
   "execution_count": null,
   "metadata": {},
   "outputs": [],
   "source": [
    "# 输入参数\n",
    "input_feature = \"sb_merge_data__MultipartToSi1\"  # 输入要处理的面要素类\n",
    "output_feature = \"sb_merge_data__MultipartToSi1_rsult\"  # 输出处理后的面要素类\n",
    "area_threshold = 50  # 面积阈值（平方米）\n",
    "dlmc_field = \"DLMC\"  # DLMC字段名\n",
    "\n",
    "\n",
    "# 获取所有唯一的DLMC值\n",
    "with arcpy.da.SearchCursor(input_feature, [dlmc_field]) as cursor:\n",
    "    dlmc_values = sorted(set(row[0] for row in cursor))\n",
    "\n",
    "print(f\"发现 {len(dlmc_values)} 个不同的DLMC类型\")"
   ]
  },
  {
   "cell_type": "code",
   "execution_count": null,
   "metadata": {},
   "outputs": [],
   "source": [
    "\n",
    "# 创建第一个临时结果要素类\n",
    "temp_result = \"in_memory/temp_result\"\n",
    "arcpy.CopyFeatures_management(input_feature, temp_result)"
   ]
  },
  {
   "cell_type": "code",
   "execution_count": null,
   "metadata": {},
   "outputs": [],
   "source": [
    "\n",
    "# 为每个DLMC值进行处理\n",
    "for index, dlmc_value in enumerate(dlmc_values):\n",
    "    print(f\"\\n正在处理DLMC {index}/{len(dlmc_values)}: {dlmc_value}\")\n",
    "    # 创建要素图层\n",
    "    arcpy.MakeFeatureLayer_management(temp_result, \"working_layer\")\n",
    "    \n",
    "    # 选择当前DLMC值的小于阈值面积的图斑\n",
    "    where_clause = f\"Shape_Area < {area_threshold} AND {dlmc_field} = '{dlmc_value}'\"\n",
    "    arcpy.SelectLayerByAttribute_management(\"working_layer\", \"NEW_SELECTION\", where_clause)\n",
    "    \n",
    "    # 获取选择的图斑数量\n",
    "    selected_count = int(arcpy.GetCount_management(\"working_layer\")[0])\n",
    "    \n",
    "    if selected_count > 0:\n",
    "        print(f\"  发现 {selected_count} 个小于 {area_threshold} 平方米的图斑\")\n",
    "        \n",
    "        # 执行Eliminate操作，结果存储到新的临时要素类\n",
    "        temp_eliminated = f\"in_memory/temp_eliminated_{index}\"\n",
    "        arcpy.management.Eliminate(\n",
    "            \"working_layer\", \n",
    "            temp_eliminated,\n",
    "            \"LENGTH\", \n",
    "            f\"{dlmc_field} <> '{dlmc_value}'\",  # 保证只合并到相同DLMC类型\n",
    "            None\n",
    "        )\n",
    "        \n",
    "        # 删除上一轮的临时结果，并将新结果复制为temp_result\n",
    "        arcpy.Delete_management(temp_result)\n",
    "        arcpy.CopyFeatures_management(temp_eliminated, temp_result)\n",
    "        arcpy.Delete_management(temp_eliminated)\n",
    "        \n",
    "        print(\"  已完成消除操作\")\n",
    "    else:\n",
    "        print(\"  未发现需要处理的小图斑\")\n",
    "    \n",
    "    # 清理临时图层\n",
    "    arcpy.Delete_management(\"working_layer\")\n",
    "\n",
    "# 将最后的临时结果复制到最终输出要素类\n",
    "arcpy.CopyFeatures_management(temp_result, output_feature)\n",
    "\n",
    "# 删除最后的临时结果\n",
    "arcpy.Delete_management(temp_result)\n",
    "\n",
    "print(f\"\\n所有DLMC类型的处理已完成。最终结果保存在: {os.path.join(arcpy.env.workspace, output_feature)}\")\n",
    "\n",
    "# # 重建空间索引和统计信息\n",
    "# arcpy.AddSpatialIndex_management(output_feature)\n",
    "# arcpy.CalculateStatistics_management(output_feature)\n",
    "\n",
    "print(\"空间索引和统计信息已更新。处理全部完成。\")"
   ]
  }
 ],
 "metadata": {
  "kernelspec": {
   "display_name": "Python 3",
   "language": "python",
   "name": "python3"
  },
  "language_info": {
   "codemirror_mode": {
    "name": "ipython",
    "version": 3
   },
   "file_extension": ".py",
   "mimetype": "text/x-python",
   "name": "python",
   "nbconvert_exporter": "python",
   "pygments_lexer": "ipython3",
   "version": "3.9.11"
  }
 },
 "nbformat": 4,
 "nbformat_minor": 2
}
