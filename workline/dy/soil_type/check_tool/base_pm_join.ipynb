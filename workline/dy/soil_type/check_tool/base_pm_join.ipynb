{
 "cells": [
  {
   "cell_type": "code",
   "execution_count": 13,
   "metadata": {},
   "outputs": [],
   "source": [
    "import os\n",
    "import pandas as pd\n",
    "import numpy as np\n",
    "import matplotlib.pyplot as plt\n",
    "import seaborn as sns\n",
    "import scipy.stats as stats\n",
    "from pprint import pprint"
   ]
  },
  {
   "cell_type": "code",
   "execution_count": 5,
   "metadata": {},
   "outputs": [],
   "source": [
    "# 基础信息路径\n",
    "base_path = r\"F:\\collection_spb_info\\GJ\\DY\\base_info_1159.xlsx\"\n",
    "# 剖面信息路径\n",
    "pm_path = r\"F:\\collection_spb_info\\GJ\\DY\\pm_info.xlsx\"\n",
    "# 立地调查信息\n",
    "ldtj_path = r\"F:\\collection_spb_info\\GJ\\DY\\ldtj_info_1159.xlsx\""
   ]
  },
  {
   "cell_type": "code",
   "execution_count": 19,
   "metadata": {},
   "outputs": [],
   "source": [
    "# 读取表格\n",
    "base_df = pd.read_excel(base_path,usecols=['ydbh','dwjd','dwwd','tl','yl','ts','tz'])\n",
    "pm_df = pd.read_excel(pm_path,usecols=['ydbh', 'fsxtl', 'fsxyl', 'fsxts', 'fsxtz', 'scxnps'])\n",
    "ldtj_df = pd.read_excel(ldtj_path,usecols=['ydbh','lzzdqt1','djzwqt','mz','myqt','zbzwysz'])"
   ]
  },
  {
   "cell_type": "code",
   "execution_count": 21,
   "metadata": {},
   "outputs": [],
   "source": [
    "# 连接Base表\n",
    "df_result_bc = pd.merge(pm_df,base_df,on='ydbh',how='inner')"
   ]
  },
  {
   "cell_type": "code",
   "execution_count": 22,
   "metadata": {},
   "outputs": [],
   "source": [
    "# 连接ldtj表\n",
    "df_result = pd.merge(df_result_bc, ldtj_df, on='ydbh', how='inner')"
   ]
  },
  {
   "cell_type": "code",
   "execution_count": 25,
   "metadata": {},
   "outputs": [],
   "source": [
    "# 保存信息\n",
    "df_result.to_excel(r'F:\\collection_spb_info\\SPPM_POINT\\dy_pm.xlsx',index=False)"
   ]
  }
 ],
 "metadata": {
  "kernelspec": {
   "display_name": ".venvgis",
   "language": "python",
   "name": "python3"
  },
  "language_info": {
   "codemirror_mode": {
    "name": "ipython",
    "version": 3
   },
   "file_extension": ".py",
   "mimetype": "text/x-python",
   "name": "python",
   "nbconvert_exporter": "python",
   "pygments_lexer": "ipython3",
   "version": "3.10.11"
  }
 },
 "nbformat": 4,
 "nbformat_minor": 2
}
