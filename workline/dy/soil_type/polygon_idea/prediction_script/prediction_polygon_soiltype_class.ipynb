{
 "cells": [
  {
   "cell_type": "code",
   "execution_count": 142,
   "metadata": {},
   "outputs": [],
   "source": [
    "import os\n",
    "import json\n",
    "import pandas as pd\n",
    "import numpy as np\n",
    "from autogluon.tabular import TabularPredictor\n",
    "from pykrige.ok import OrdinaryKriging\n",
    "from sklearn.metrics import r2_score\n",
    "from pyproj import Transformer\n",
    "from tqdm import tqdm\n",
    "import pickle"
   ]
  },
  {
   "cell_type": "code",
   "execution_count": 143,
   "metadata": {},
   "outputs": [],
   "source": [
    "# 获取当前日期\n",
    "def get_dtime():\n",
    "    # 例如20240516\n",
    "    import datetime\n",
    "    dtime = datetime.datetime.now().strftime('%Y%m%d')\n",
    "    return dtime"
   ]
  },
  {
   "cell_type": "code",
   "execution_count": 144,
   "metadata": {},
   "outputs": [],
   "source": [
    "# 导入autogluon模型\n",
    "model_path = r\"F:\\cache_data\\zone_ana\\dy\\modle\\autogluon_type_class\"\n",
    "sdt_predictor = TabularPredictor.load(os.path.join(model_path, f\"{'sdt'}_model\"))\n",
    "fzrt_predictor = TabularPredictor.load(os.path.join(model_path, f\"{'fzrt'}_model\"))\n",
    "zrt_predictor = TabularPredictor.load(os.path.join(model_path, f\"{'zrt'}_model\"))"
   ]
  },
  {
   "cell_type": "code",
   "execution_count": 145,
   "metadata": {},
   "outputs": [
    {
     "data": {
      "text/plain": [
       "('WeightedEnsemble_L2',\n",
       " ['NeuralNetFastAI',\n",
       "  'RandomForestGini',\n",
       "  'RandomForestEntr',\n",
       "  'ExtraTreesGini',\n",
       "  'ExtraTreesEntr',\n",
       "  'NeuralNetTorch',\n",
       "  'WeightedEnsemble_L2'])"
      ]
     },
     "execution_count": 145,
     "metadata": {},
     "output_type": "execute_result"
    }
   ],
   "source": [
    "sdt_predictor.model_best,sdt_predictor.model_names()"
   ]
  },
  {
   "cell_type": "code",
   "execution_count": 146,
   "metadata": {},
   "outputs": [
    {
     "data": {
      "text/plain": [
       "('WeightedEnsemble_L2',\n",
       " ['NeuralNetFastAI',\n",
       "  'RandomForestGini',\n",
       "  'RandomForestEntr',\n",
       "  'ExtraTreesGini',\n",
       "  'ExtraTreesEntr',\n",
       "  'NeuralNetTorch',\n",
       "  'WeightedEnsemble_L2'])"
      ]
     },
     "execution_count": 146,
     "metadata": {},
     "output_type": "execute_result"
    }
   ],
   "source": [
    "fzrt_predictor.model_best,fzrt_predictor.model_names()"
   ]
  },
  {
   "cell_type": "code",
   "execution_count": 147,
   "metadata": {},
   "outputs": [
    {
     "data": {
      "text/plain": [
       "('WeightedEnsemble_L2',\n",
       " ['NeuralNetFastAI',\n",
       "  'RandomForestGini',\n",
       "  'RandomForestEntr',\n",
       "  'ExtraTreesGini',\n",
       "  'ExtraTreesEntr',\n",
       "  'NeuralNetTorch',\n",
       "  'WeightedEnsemble_L2'])"
      ]
     },
     "execution_count": 147,
     "metadata": {},
     "output_type": "execute_result"
    }
   ],
   "source": [
    "zrt_predictor.model_best,zrt_predictor.model_names()"
   ]
  },
  {
   "cell_type": "code",
   "execution_count": 148,
   "metadata": {},
   "outputs": [
    {
     "name": "stdout",
     "output_type": "stream",
     "text": [
      "SDT ['DLMC', 'XMin', 'XMax', 'YMin', 'YMax', 'Centroid_X', 'Centroid_Y', 'Riverdis', 'DEM_MAX', 'DEM_MIN', 'DEM_MEAN', 'DEM_RANGE', 'DEM_AREA', 'ndvi_MEAN', 'PCA_0_MEAN', 'Slope_MAX', 'Slope_MIN', 'Slope_MEAN', 'Slope_RANGE', 'Aspect_MEAN', 'MRVBF_MAX', 'MRVBF_MIN', 'MRVBF_MEAN', 'MRVBF_RANGE', 'TopographicWetnessIndex_MEAN', 'TopographicWetnessIndex_RANGE', 'Mean_MEAN', 'PH_MEAN', 'PRE_MEAN', 'PRE_RANGE', 'SRA_MEAN', 'SRA_RANGE', 'TMP_MEAN', 'TMP_RANGE', 'VAP_MEAN', 'VAP_RANGE', 'WIND_MEAN', 'WIND_RANGE', 'PlanCurvature_MEAN', 'PlanCurvature_RANGE']\n",
      "FZRT ['DLMC', 'XMin', 'XMax', 'YMin', 'YMax', 'Centroid_X', 'Centroid_Y', 'DEM_MAX', 'DEM_MIN', 'DEM_MEAN', 'DEM_RANGE', 'DEM_AREA', 'ndvi_MEAN', 'PCA_0_MEAN', 'Slope_MAX', 'Slope_MIN', 'Slope_MEAN', 'Slope_RANGE', 'Aspect_MEAN', 'MRVBF_MAX', 'MRVBF_MIN', 'MRVBF_MEAN', 'MRVBF_RANGE', 'TopographicWetnessIndex_MEAN', 'TopographicWetnessIndex_RANGE', 'Mean_MEAN', 'PH_MEAN', 'PRE_MEAN', 'PRE_RANGE', 'SRA_MEAN', 'SRA_RANGE', 'TMP_MEAN', 'TMP_RANGE', 'VAP_MEAN', 'VAP_RANGE', 'WIND_MEAN', 'WIND_RANGE', 'PlanCurvature_MEAN', 'PlanCurvature_RANGE']\n",
      "ZRT ['DLMC', 'XMin', 'XMax', 'YMin', 'YMax', 'Centroid_X', 'Centroid_Y', 'DEM_MAX', 'DEM_MIN', 'DEM_MEAN', 'DEM_RANGE', 'DEM_AREA', 'ndvi_MEAN', 'PCA_0_MEAN', 'Slope_MAX', 'Slope_MIN', 'Slope_MEAN', 'Slope_RANGE', 'Aspect_MEAN', 'MRVBF_MAX', 'MRVBF_MIN', 'MRVBF_MEAN', 'MRVBF_RANGE', 'TopographicWetnessIndex_MEAN', 'TopographicWetnessIndex_RANGE', 'Mean_MEAN', 'PH_MEAN', 'PRE_MEAN', 'PRE_RANGE', 'SRA_MEAN', 'SRA_RANGE', 'TMP_MEAN', 'TMP_RANGE', 'VAP_MEAN', 'VAP_RANGE', 'WIND_MEAN', 'WIND_RANGE', 'PlanCurvature_MEAN', 'PlanCurvature_RANGE']\n"
     ]
    }
   ],
   "source": [
    "# 获取特征\n",
    "sdt_feature_names = sdt_predictor.feature_metadata_in.get_features()\n",
    "print(\"SDT\",sdt_feature_names)\n",
    "fzrt_feature_names = fzrt_predictor.feature_metadata_in.get_features()\n",
    "print(\"FZRT\",fzrt_feature_names)\n",
    "zrt_feature_names = zrt_predictor.feature_metadata_in.get_features()\n",
    "print(\"ZRT\",zrt_feature_names)"
   ]
  },
  {
   "cell_type": "code",
   "execution_count": 149,
   "metadata": {},
   "outputs": [],
   "source": [
    "# 存放预测结果的路径\n",
    "result_path =  r\"F:\\cache_data\\zone_ana\\dy\\prediction_result\""
   ]
  },
  {
   "cell_type": "code",
   "execution_count": 150,
   "metadata": {},
   "outputs": [],
   "source": [
    "# 读取数据集\n",
    "feature_path = r'F:\\cache_data\\zone_ana\\dy\\prediction_data\\result.csv'"
   ]
  },
  {
   "cell_type": "code",
   "execution_count": 151,
   "metadata": {},
   "outputs": [],
   "source": [
    "feature_df = pd.read_csv(feature_path)"
   ]
  },
  {
   "cell_type": "code",
   "execution_count": 152,
   "metadata": {},
   "outputs": [],
   "source": [
    "# 区分数据\n",
    "# 筛选水稻土数据\n",
    "sdt_data = feature_df[feature_df['DLMC'].isin(['水田','水浇地','坑塘水面','养殖坑塘'])]"
   ]
  },
  {
   "cell_type": "code",
   "execution_count": 153,
   "metadata": {},
   "outputs": [],
   "source": [
    "# 筛选非自然土数据\n",
    "fzrt_data = feature_df[~feature_df['DLMC'].isin(['乔木林地','灌木林地','竹林地','其他林地','其他草地','天然牧草地','人工牧草地','水田','水浇地','坑塘水面','养殖坑塘'])]"
   ]
  },
  {
   "cell_type": "code",
   "execution_count": 154,
   "metadata": {},
   "outputs": [],
   "source": [
    "# 筛选自然土数据\n",
    "zrt_data = feature_df[feature_df['DLMC'].isin(['乔木林地','灌木林地','竹林地','其他林地','其他草地','天然牧草地','人工牧草地'])]"
   ]
  },
  {
   "cell_type": "code",
   "execution_count": 155,
   "metadata": {},
   "outputs": [
    {
     "data": {
      "text/plain": [
       "((24155, 400), (50428, 400), (42820, 400), (117403, 400), True)"
      ]
     },
     "execution_count": 155,
     "metadata": {},
     "output_type": "execute_result"
    }
   ],
   "source": [
    "# 检查数据完整性\n",
    "sdt_data.shape,fzrt_data.shape,zrt_data.shape,feature_df.shape,sdt_data.shape[0]+fzrt_data.shape[0]+zrt_data.shape[0]==feature_df.shape[0]"
   ]
  },
  {
   "cell_type": "code",
   "execution_count": 156,
   "metadata": {},
   "outputs": [],
   "source": [
    "# 获取对照字典\n",
    "with open(r'D:\\worker_code\\Terrain_Test\\data\\soil_dict.json', 'r') as f:\n",
    "    soil_dict = json.load(f)"
   ]
  },
  {
   "cell_type": "code",
   "execution_count": 157,
   "metadata": {},
   "outputs": [],
   "source": [
    "# 模型选择\n",
    "select_model = 'RandomForestEntr'"
   ]
  },
  {
   "cell_type": "code",
   "execution_count": 158,
   "metadata": {},
   "outputs": [],
   "source": [
    "# 使用对应模型进行预测\n",
    "sdt_data = sdt_data.copy()\n",
    "sdt_data['pre_value'] = sdt_predictor.predict(sdt_data[sdt_feature_names], model=select_model).to_frame()['TZ_label']\n",
    "fzrt_data = fzrt_data.copy()\n",
    "fzrt_data['pre_value'] = fzrt_predictor.predict(fzrt_data[fzrt_feature_names], model=select_model).to_frame()['TZ_label']\n",
    "zrt_data = zrt_data.copy()\n",
    "zrt_data['pre_value'] = zrt_predictor.predict(zrt_data[zrt_feature_names],model=select_model).to_frame()['TZ_label']\n"
   ]
  },
  {
   "cell_type": "code",
   "execution_count": 178,
   "metadata": {},
   "outputs": [],
   "source": [
    "# 合并数据\n",
    "result_df = pd.concat([sdt_data,fzrt_data,zrt_data])"
   ]
  },
  {
   "cell_type": "code",
   "execution_count": 179,
   "metadata": {},
   "outputs": [],
   "source": [
    "result_df = result_df[['OBJECTID','new_TZ','pre_value']]\n",
    "result_df['pre_value'] = result_df['pre_value'].astype(str)"
   ]
  },
  {
   "cell_type": "code",
   "execution_count": 180,
   "metadata": {},
   "outputs": [],
   "source": [
    "result_df = result_df.copy()\n",
    "result_df['reclass_tz'] = result_df['pre_value'].map(soil_dict)"
   ]
  },
  {
   "cell_type": "code",
   "execution_count": 181,
   "metadata": {},
   "outputs": [
    {
     "data": {
      "text/html": [
       "<div>\n",
       "<style scoped>\n",
       "    .dataframe tbody tr th:only-of-type {\n",
       "        vertical-align: middle;\n",
       "    }\n",
       "\n",
       "    .dataframe tbody tr th {\n",
       "        vertical-align: top;\n",
       "    }\n",
       "\n",
       "    .dataframe thead th {\n",
       "        text-align: right;\n",
       "    }\n",
       "</style>\n",
       "<table border=\"1\" class=\"dataframe\">\n",
       "  <thead>\n",
       "    <tr style=\"text-align: right;\">\n",
       "      <th></th>\n",
       "      <th>OBJECTID</th>\n",
       "      <th>new_TZ</th>\n",
       "      <th>pre_value</th>\n",
       "      <th>reclass_tz</th>\n",
       "    </tr>\n",
       "  </thead>\n",
       "  <tbody>\n",
       "    <tr>\n",
       "      <th>0</th>\n",
       "      <td>1</td>\n",
       "      <td>腐薄层灰泥质黄壤</td>\n",
       "      <td>9</td>\n",
       "      <td>石灰泥田</td>\n",
       "    </tr>\n",
       "    <tr>\n",
       "      <th>1</th>\n",
       "      <td>2</td>\n",
       "      <td>腐薄层灰泥质黄壤</td>\n",
       "      <td>9</td>\n",
       "      <td>石灰泥田</td>\n",
       "    </tr>\n",
       "    <tr>\n",
       "      <th>2</th>\n",
       "      <td>3</td>\n",
       "      <td>腐薄层灰泥质黄壤</td>\n",
       "      <td>45</td>\n",
       "      <td>青石灰泥田</td>\n",
       "    </tr>\n",
       "    <tr>\n",
       "      <th>3</th>\n",
       "      <td>4</td>\n",
       "      <td>薄层砾硅质黄壤</td>\n",
       "      <td>46</td>\n",
       "      <td>黄浅白粉泥田</td>\n",
       "    </tr>\n",
       "    <tr>\n",
       "      <th>4</th>\n",
       "      <td>5</td>\n",
       "      <td>薄层砾硅质黄壤</td>\n",
       "      <td>46</td>\n",
       "      <td>黄浅白粉泥田</td>\n",
       "    </tr>\n",
       "    <tr>\n",
       "      <th>...</th>\n",
       "      <td>...</td>\n",
       "      <td>...</td>\n",
       "      <td>...</td>\n",
       "      <td>...</td>\n",
       "    </tr>\n",
       "    <tr>\n",
       "      <th>117124</th>\n",
       "      <td>141483</td>\n",
       "      <td>腐薄层硅质黄壤</td>\n",
       "      <td>31</td>\n",
       "      <td>腐薄层硅质黄壤</td>\n",
       "    </tr>\n",
       "    <tr>\n",
       "      <th>117394</th>\n",
       "      <td>155830</td>\n",
       "      <td>腐中层壤质黄色石灰土,浅石红泥田</td>\n",
       "      <td>25</td>\n",
       "      <td>腐厚层红泥质黄壤</td>\n",
       "    </tr>\n",
       "    <tr>\n",
       "      <th>117396</th>\n",
       "      <td>155834</td>\n",
       "      <td>腐薄层红泥质黄壤</td>\n",
       "      <td>32</td>\n",
       "      <td>腐薄层红泥质黄壤</td>\n",
       "    </tr>\n",
       "    <tr>\n",
       "      <th>117397</th>\n",
       "      <td>155835</td>\n",
       "      <td>石红泥田</td>\n",
       "      <td>25</td>\n",
       "      <td>腐厚层红泥质黄壤</td>\n",
       "    </tr>\n",
       "    <tr>\n",
       "      <th>117401</th>\n",
       "      <td>155840</td>\n",
       "      <td>石红泥田</td>\n",
       "      <td>28</td>\n",
       "      <td>腐薄层砂泥质黄壤</td>\n",
       "    </tr>\n",
       "  </tbody>\n",
       "</table>\n",
       "<p>117403 rows × 4 columns</p>\n",
       "</div>"
      ],
      "text/plain": [
       "        OBJECTID            new_TZ pre_value reclass_tz\n",
       "0              1          腐薄层灰泥质黄壤         9       石灰泥田\n",
       "1              2          腐薄层灰泥质黄壤         9       石灰泥田\n",
       "2              3          腐薄层灰泥质黄壤        45      青石灰泥田\n",
       "3              4           薄层砾硅质黄壤        46     黄浅白粉泥田\n",
       "4              5           薄层砾硅质黄壤        46     黄浅白粉泥田\n",
       "...          ...               ...       ...        ...\n",
       "117124    141483           腐薄层硅质黄壤        31    腐薄层硅质黄壤\n",
       "117394    155830  腐中层壤质黄色石灰土,浅石红泥田        25   腐厚层红泥质黄壤\n",
       "117396    155834          腐薄层红泥质黄壤        32   腐薄层红泥质黄壤\n",
       "117397    155835              石红泥田        25   腐厚层红泥质黄壤\n",
       "117401    155840              石红泥田        28   腐薄层砂泥质黄壤\n",
       "\n",
       "[117403 rows x 4 columns]"
      ]
     },
     "execution_count": 181,
     "metadata": {},
     "output_type": "execute_result"
    }
   ],
   "source": [
    "result_df"
   ]
  },
  {
   "cell_type": "code",
   "execution_count": 185,
   "metadata": {},
   "outputs": [],
   "source": [
    "# 保存数据\n",
    "result_df.to_csv(os.path.join(result_path, f'prediction_class_{select_model}_{get_dtime()}.csv'),index=False)"
   ]
  }
 ],
 "metadata": {
  "kernelspec": {
   "display_name": ".venvgis",
   "language": "python",
   "name": "python3"
  },
  "language_info": {
   "codemirror_mode": {
    "name": "ipython",
    "version": 3
   },
   "file_extension": ".py",
   "mimetype": "text/x-python",
   "name": "python",
   "nbconvert_exporter": "python",
   "pygments_lexer": "ipython3",
   "version": "3.10.11"
  }
 },
 "nbformat": 4,
 "nbformat_minor": 2
}
