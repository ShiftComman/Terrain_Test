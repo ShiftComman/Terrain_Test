{
 "cells": [
  {
   "cell_type": "markdown",
   "metadata": {},
   "source": [
    "# 连接计算结果\n"
   ]
  },
  {
   "cell_type": "code",
   "execution_count": 1,
   "metadata": {},
   "outputs": [],
   "source": [
    "import os\n",
    "import arcpy\n",
    "from arcpy.da import *\n",
    "from arcpy.management import *\n",
    "import pandas as pd"
   ]
  },
  {
   "cell_type": "code",
   "execution_count": 2,
   "metadata": {},
   "outputs": [],
   "source": [
    "result_table_path = r'F:\\cache_data\\zone_ana\\dy\\prediction_result\\prediction_class_RandomForestEntr_20240517.csv'\n",
    "shp_path = r\"C:\\Users\\Runker\\Desktop\\train_data\\all_data.shp\""
   ]
  },
  {
   "cell_type": "code",
   "execution_count": 3,
   "metadata": {},
   "outputs": [],
   "source": [
    "# 允许覆盖\n",
    "arcpy.env.overwriteOutput =True\n",
    "# 创建工作空间\n",
    "arcpy.env.workspace = os.path.dirname(shp_path)"
   ]
  },
  {
   "cell_type": "code",
   "execution_count": 4,
   "metadata": {},
   "outputs": [],
   "source": [
    "# 输出列名称限制\n",
    "arcpy.env.qualifiedFieldNames = False\n",
    "# 连接表并输出结果\n",
    "inFeatures = shp_path\n",
    "joinTable = result_table_path\n",
    "joinField = \"OBJECTID\"\n",
    "out_path = os.path.join(os.path.dirname(inFeatures),\"result_joined_table.shp\")\n",
    "veg_joined_table = AddJoin(in_layer_or_view=inFeatures,in_field=joinField, join_table=joinTable,join_field= joinField)"
   ]
  },
  {
   "cell_type": "code",
   "execution_count": 5,
   "metadata": {},
   "outputs": [
    {
     "data": {
      "text/html": [
       "<div class='gpresult'><h2>Messages</h2><div id='messages' data-messages='[\"开始时间: 2024年5月17日 15:51:21\",\"运行 成功，结束时间：2024年5月17日 15:53:26 (历时: 2 分 4 秒)\"]' data-show='true'><div id = 'default' /></div></div>"
      ],
      "text/plain": [
       "<Result 'C:\\\\Users\\\\Runker\\\\Desktop\\\\train_data\\\\result_joined_table.shp'>"
      ]
     },
     "execution_count": 5,
     "metadata": {},
     "output_type": "execute_result"
    }
   ],
   "source": [
    "CopyFeatures(veg_joined_table, out_path)"
   ]
  },
  {
   "cell_type": "code",
   "execution_count": 7,
   "metadata": {},
   "outputs": [
    {
     "data": {
      "text/plain": [
       "['FID',\n",
       " 'Shape',\n",
       " 'Join_Count',\n",
       " 'TARGET_FID',\n",
       " 'OBJECTID',\n",
       " 'DLMC',\n",
       " 'new_TL',\n",
       " 'new_YL',\n",
       " 'new_TS',\n",
       " 'new_TZ',\n",
       " 'Shape_Leng',\n",
       " 'Shape_Area',\n",
       " 'XMin',\n",
       " 'YMin',\n",
       " 'XMax',\n",
       " 'YMax',\n",
       " 'Centroid_X',\n",
       " 'Centroid_Y',\n",
       " 'Riverdis',\n",
       " 'PRE_TZ',\n",
       " 'OBJECTID_1',\n",
       " 'new_TZ_1',\n",
       " 'reclass_tz',\n",
       " 'reclass_tl',\n",
       " 'reclass_yl',\n",
       " 'reclass_ts']"
      ]
     },
     "execution_count": 7,
     "metadata": {},
     "output_type": "execute_result"
    }
   ],
   "source": [
    "[_.name for _ in arcpy.ListFields(out_path)]"
   ]
  }
 ],
 "metadata": {
  "kernelspec": {
   "display_name": "Python 3",
   "language": "python",
   "name": "python3"
  },
  "language_info": {
   "codemirror_mode": {
    "name": "ipython",
    "version": 3
   },
   "file_extension": ".py",
   "mimetype": "text/x-python",
   "name": "python",
   "nbconvert_exporter": "python",
   "pygments_lexer": "ipython3",
   "version": "3.9.11"
  }
 },
 "nbformat": 4,
 "nbformat_minor": 2
}
