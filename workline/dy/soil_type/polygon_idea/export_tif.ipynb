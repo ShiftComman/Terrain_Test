{
 "cells": [
  {
   "cell_type": "code",
   "execution_count": 1,
   "metadata": {},
   "outputs": [],
   "source": [
    "import arcpy\n",
    "import os"
   ]
  },
  {
   "cell_type": "code",
   "execution_count": 2,
   "metadata": {},
   "outputs": [],
   "source": [
    "# 设置工作环境\n",
    "arcpy.env.workspace = r\"D:\\ArcGISProjects\\workspace\\sp2024\\feature_raster_file\\features_data_ky.gdb\"\n",
    "\n",
    "# 指定输出文件夹\n",
    "output_folder = r\"F:\\tif_features\\county_feature\\ky\"\n",
    "\n",
    "# 获取地理数据库中的所有栅格文件\n",
    "raster_list = arcpy.ListRasters()\n"
   ]
  },
  {
   "cell_type": "code",
   "execution_count": 3,
   "metadata": {},
   "outputs": [
    {
     "name": "stdout",
     "output_type": "stream",
     "text": [
      "已成功将 PRE 导出为 F:\\tif_features\\county_feature\\ky\\PRE.tif\n",
      "已成功将 SRA 导出为 F:\\tif_features\\county_feature\\ky\\SRA.tif\n",
      "已成功将 TMP 导出为 F:\\tif_features\\county_feature\\ky\\TMP.tif\n",
      "已成功将 VAP 导出为 F:\\tif_features\\county_feature\\ky\\VAP.tif\n",
      "已成功将 WIND 导出为 F:\\tif_features\\county_feature\\ky\\WIND.tif\n",
      "已成功将 BIO 导出为 F:\\tif_features\\county_feature\\ky\\BIO.tif\n",
      "已成功将 Contrast 导出为 F:\\tif_features\\county_feature\\ky\\Contrast.tif\n",
      "已成功将 Correlation 导出为 F:\\tif_features\\county_feature\\ky\\Correlation.tif\n",
      "已成功将 Dissimilarity 导出为 F:\\tif_features\\county_feature\\ky\\Dissimilarity.tif\n",
      "已成功将 Entropy 导出为 F:\\tif_features\\county_feature\\ky\\Entropy.tif\n",
      "已成功将 Homogeneity 导出为 F:\\tif_features\\county_feature\\ky\\Homogeneity.tif\n",
      "已成功将 Mean 导出为 F:\\tif_features\\county_feature\\ky\\Mean.tif\n",
      "已成功将 ndvi 导出为 F:\\tif_features\\county_feature\\ky\\ndvi.tif\n",
      "已成功将 PCA_0 导出为 F:\\tif_features\\county_feature\\ky\\PCA_0.tif\n",
      "已成功将 PCA_1 导出为 F:\\tif_features\\county_feature\\ky\\PCA_1.tif\n",
      "已成功将 SecondMoment 导出为 F:\\tif_features\\county_feature\\ky\\SecondMoment.tif\n",
      "已成功将 Variance 导出为 F:\\tif_features\\county_feature\\ky\\Variance.tif\n",
      "已成功将 LON 导出为 F:\\tif_features\\county_feature\\ky\\LON.tif\n",
      "已成功将 LAT 导出为 F:\\tif_features\\county_feature\\ky\\LAT.tif\n",
      "已成功将 Aspect 导出为 F:\\tif_features\\county_feature\\ky\\Aspect.tif\n",
      "已成功将 ChannelNetworkBaseLevel 导出为 F:\\tif_features\\county_feature\\ky\\ChannelNetworkBaseLevel.tif\n",
      "已成功将 ChannelNetworkDistance 导出为 F:\\tif_features\\county_feature\\ky\\ChannelNetworkDistance.tif\n",
      "已成功将 ClosedDepressions 导出为 F:\\tif_features\\county_feature\\ky\\ClosedDepressions.tif\n",
      "已成功将 ConvergenceIndex 导出为 F:\\tif_features\\county_feature\\ky\\ConvergenceIndex.tif\n",
      "已成功将 LSFactor 导出为 F:\\tif_features\\county_feature\\ky\\LSFactor.tif\n",
      "已成功将 PlanCurvature 导出为 F:\\tif_features\\county_feature\\ky\\PlanCurvature.tif\n",
      "已成功将 ProfileCurvature 导出为 F:\\tif_features\\county_feature\\ky\\ProfileCurvature.tif\n",
      "已成功将 RelativeSlopePosition 导出为 F:\\tif_features\\county_feature\\ky\\RelativeSlopePosition.tif\n",
      "已成功将 Slope 导出为 F:\\tif_features\\county_feature\\ky\\Slope.tif\n",
      "已成功将 TopographicPositionIndex 导出为 F:\\tif_features\\county_feature\\ky\\TopographicPositionIndex.tif\n",
      "已成功将 TopographicWetnessIndex 导出为 F:\\tif_features\\county_feature\\ky\\TopographicWetnessIndex.tif\n",
      "已成功将 TotalCatchmentArea 导出为 F:\\tif_features\\county_feature\\ky\\TotalCatchmentArea.tif\n",
      "已成功将 ValleyDepth 导出为 F:\\tif_features\\county_feature\\ky\\ValleyDepth.tif\n",
      "已成功将 DEM 导出为 F:\\tif_features\\county_feature\\ky\\DEM.tif\n",
      "已成功将 AnalyticalHillshading 导出为 F:\\tif_features\\county_feature\\ky\\AnalyticalHillshading.tif\n",
      "已成功将 DL 导出为 F:\\tif_features\\county_feature\\ky\\DL.tif\n",
      "已成功将 ASP_a 导出为 F:\\tif_features\\county_feature\\ky\\ASP_a.tif\n",
      "已成功将 TWI3_a 导出为 F:\\tif_features\\county_feature\\ky\\TWI3_a.tif\n",
      "已成功将 TWI5_a 导出为 F:\\tif_features\\county_feature\\ky\\TWI5_a.tif\n",
      "已成功将 TPI3_a 导出为 F:\\tif_features\\county_feature\\ky\\TPI3_a.tif\n",
      "已成功将 TPI5_a 导出为 F:\\tif_features\\county_feature\\ky\\TPI5_a.tif\n",
      "已成功将 DZ 导出为 F:\\tif_features\\county_feature\\ky\\DZ.tif\n",
      "已成功将 MRVBF_60 导出为 F:\\tif_features\\county_feature\\ky\\MRVBF_60.tif\n",
      "所有栅格文件已成功导出为TIFF格式。\n"
     ]
    }
   ],
   "source": [
    "# 循环遍历每个栅格文件，并将其导出为TIFF格式\n",
    "for raster in raster_list:\n",
    "    # 定义输出TIFF文件的路径和名称\n",
    "    output_path = os.path.join(output_folder, f\"{raster}.tif\")\n",
    "    \n",
    "    # 执行栅格文件的导出\n",
    "    arcpy.conversion.RasterToOtherFormat(raster, output_folder, \"TIFF\")\n",
    "\n",
    "    # 输出转换状态\n",
    "    print(f\"已成功将 {raster} 导出为 {output_path}\")\n",
    "\n",
    "print(\"所有栅格文件已成功导出为TIFF格式。\")"
   ]
  }
 ],
 "metadata": {
  "kernelspec": {
   "display_name": "Python 3",
   "language": "python",
   "name": "python3"
  },
  "language_info": {
   "codemirror_mode": {
    "name": "ipython",
    "version": 3
   },
   "file_extension": ".py",
   "mimetype": "text/x-python",
   "name": "python",
   "nbconvert_exporter": "python",
   "pygments_lexer": "ipython3",
   "version": "3.9.16"
  }
 },
 "nbformat": 4,
 "nbformat_minor": 2
}
