{
 "cells": [
  {
   "cell_type": "code",
   "execution_count": 1,
   "metadata": {},
   "outputs": [],
   "source": [
    "import arcpy\n",
    "import os"
   ]
  },
  {
   "cell_type": "code",
   "execution_count": 2,
   "metadata": {},
   "outputs": [],
   "source": [
    "# 设置工作环境\n",
    "arcpy.env.workspace = r\"D:\\ArcGISProjects\\workspace\\shbyq\\feature_raster_file\\features_data_dy.gdb\"\n",
    "\n",
    "# 指定输出文件夹\n",
    "output_folder = r\"D:\\ArcGISProjects\\workspace\\shbyq\\feature_raster_file_tif\\dy\"\n",
    "\n",
    "# 获取地理数据库中的所有栅格文件\n",
    "raster_list = arcpy.ListRasters()\n"
   ]
  },
  {
   "cell_type": "code",
   "execution_count": 4,
   "metadata": {},
   "outputs": [
    {
     "name": "stdout",
     "output_type": "stream",
     "text": [
      "已成功将 DEM 导出为 D:\\ArcGISProjects\\workspace\\shbyq\\feature_raster_file_tif\\dy\\DEM.tif\n",
      "已成功将 AnalyticalHillshading 导出为 D:\\ArcGISProjects\\workspace\\shbyq\\feature_raster_file_tif\\dy\\AnalyticalHillshading.tif\n",
      "已成功将 Aspect 导出为 D:\\ArcGISProjects\\workspace\\shbyq\\feature_raster_file_tif\\dy\\Aspect.tif\n",
      "已成功将 ChannelNetworkBaseLevel 导出为 D:\\ArcGISProjects\\workspace\\shbyq\\feature_raster_file_tif\\dy\\ChannelNetworkBaseLevel.tif\n",
      "已成功将 ChannelNetworkDistance 导出为 D:\\ArcGISProjects\\workspace\\shbyq\\feature_raster_file_tif\\dy\\ChannelNetworkDistance.tif\n",
      "已成功将 ClosedDepressions 导出为 D:\\ArcGISProjects\\workspace\\shbyq\\feature_raster_file_tif\\dy\\ClosedDepressions.tif\n",
      "已成功将 ConvergenceIndex 导出为 D:\\ArcGISProjects\\workspace\\shbyq\\feature_raster_file_tif\\dy\\ConvergenceIndex.tif\n",
      "已成功将 LSFactor 导出为 D:\\ArcGISProjects\\workspace\\shbyq\\feature_raster_file_tif\\dy\\LSFactor.tif\n",
      "已成功将 PlanCurvature 导出为 D:\\ArcGISProjects\\workspace\\shbyq\\feature_raster_file_tif\\dy\\PlanCurvature.tif\n",
      "已成功将 ProfileCurvature 导出为 D:\\ArcGISProjects\\workspace\\shbyq\\feature_raster_file_tif\\dy\\ProfileCurvature.tif\n",
      "已成功将 RelativeSlopePosition 导出为 D:\\ArcGISProjects\\workspace\\shbyq\\feature_raster_file_tif\\dy\\RelativeSlopePosition.tif\n",
      "已成功将 Slope 导出为 D:\\ArcGISProjects\\workspace\\shbyq\\feature_raster_file_tif\\dy\\Slope.tif\n",
      "已成功将 TopographicWetnessIndex 导出为 D:\\ArcGISProjects\\workspace\\shbyq\\feature_raster_file_tif\\dy\\TopographicWetnessIndex.tif\n",
      "已成功将 TotalCatchmentArea 导出为 D:\\ArcGISProjects\\workspace\\shbyq\\feature_raster_file_tif\\dy\\TotalCatchmentArea.tif\n",
      "已成功将 ValleyDepth 导出为 D:\\ArcGISProjects\\workspace\\shbyq\\feature_raster_file_tif\\dy\\ValleyDepth.tif\n",
      "已成功将 Contrast 导出为 D:\\ArcGISProjects\\workspace\\shbyq\\feature_raster_file_tif\\dy\\Contrast.tif\n",
      "已成功将 Correlation 导出为 D:\\ArcGISProjects\\workspace\\shbyq\\feature_raster_file_tif\\dy\\Correlation.tif\n",
      "已成功将 Dissimilarity 导出为 D:\\ArcGISProjects\\workspace\\shbyq\\feature_raster_file_tif\\dy\\Dissimilarity.tif\n",
      "已成功将 Entropy 导出为 D:\\ArcGISProjects\\workspace\\shbyq\\feature_raster_file_tif\\dy\\Entropy.tif\n",
      "已成功将 Homogeneity 导出为 D:\\ArcGISProjects\\workspace\\shbyq\\feature_raster_file_tif\\dy\\Homogeneity.tif\n",
      "已成功将 Mean 导出为 D:\\ArcGISProjects\\workspace\\shbyq\\feature_raster_file_tif\\dy\\Mean.tif\n",
      "已成功将 ndvi 导出为 D:\\ArcGISProjects\\workspace\\shbyq\\feature_raster_file_tif\\dy\\ndvi.tif\n",
      "已成功将 PCA_0 导出为 D:\\ArcGISProjects\\workspace\\shbyq\\feature_raster_file_tif\\dy\\PCA_0.tif\n",
      "已成功将 PCA_1 导出为 D:\\ArcGISProjects\\workspace\\shbyq\\feature_raster_file_tif\\dy\\PCA_1.tif\n",
      "已成功将 SecondMoment 导出为 D:\\ArcGISProjects\\workspace\\shbyq\\feature_raster_file_tif\\dy\\SecondMoment.tif\n",
      "已成功将 Variance 导出为 D:\\ArcGISProjects\\workspace\\shbyq\\feature_raster_file_tif\\dy\\Variance.tif\n",
      "已成功将 PRE 导出为 D:\\ArcGISProjects\\workspace\\shbyq\\feature_raster_file_tif\\dy\\PRE.tif\n",
      "已成功将 SRA 导出为 D:\\ArcGISProjects\\workspace\\shbyq\\feature_raster_file_tif\\dy\\SRA.tif\n",
      "已成功将 TMP 导出为 D:\\ArcGISProjects\\workspace\\shbyq\\feature_raster_file_tif\\dy\\TMP.tif\n",
      "已成功将 VAP 导出为 D:\\ArcGISProjects\\workspace\\shbyq\\feature_raster_file_tif\\dy\\VAP.tif\n",
      "已成功将 WIND 导出为 D:\\ArcGISProjects\\workspace\\shbyq\\feature_raster_file_tif\\dy\\WIND.tif\n",
      "已成功将 BIO 导出为 D:\\ArcGISProjects\\workspace\\shbyq\\feature_raster_file_tif\\dy\\BIO.tif\n",
      "已成功将 LON 导出为 D:\\ArcGISProjects\\workspace\\shbyq\\feature_raster_file_tif\\dy\\LON.tif\n",
      "已成功将 LAT 导出为 D:\\ArcGISProjects\\workspace\\shbyq\\feature_raster_file_tif\\dy\\LAT.tif\n",
      "已成功将 PH 导出为 D:\\ArcGISProjects\\workspace\\shbyq\\feature_raster_file_tif\\dy\\PH.tif\n",
      "已成功将 DZ 导出为 D:\\ArcGISProjects\\workspace\\shbyq\\feature_raster_file_tif\\dy\\DZ.tif\n",
      "已成功将 DL 导出为 D:\\ArcGISProjects\\workspace\\shbyq\\feature_raster_file_tif\\dy\\DL.tif\n",
      "已成功将 MRRTF 导出为 D:\\ArcGISProjects\\workspace\\shbyq\\feature_raster_file_tif\\dy\\MRRTF.tif\n",
      "已成功将 MRVBF 导出为 D:\\ArcGISProjects\\workspace\\shbyq\\feature_raster_file_tif\\dy\\MRVBF.tif\n",
      "所有栅格文件已成功导出为TIFF格式。\n"
     ]
    }
   ],
   "source": [
    "# 循环遍历每个栅格文件，并将其导出为TIFF格式\n",
    "for raster in raster_list:\n",
    "    # 定义输出TIFF文件的路径和名称\n",
    "    output_path = os.path.join(output_folder, f\"{raster}.tif\")\n",
    "    \n",
    "    # 执行栅格文件的导出\n",
    "    arcpy.conversion.RasterToOtherFormat(raster, output_folder, \"TIFF\")\n",
    "\n",
    "    # 输出转换状态\n",
    "    print(f\"已成功将 {raster} 导出为 {output_path}\")\n",
    "\n",
    "print(\"所有栅格文件已成功导出为TIFF格式。\")"
   ]
  }
 ],
 "metadata": {
  "kernelspec": {
   "display_name": "Python 3",
   "language": "python",
   "name": "python3"
  },
  "language_info": {
   "codemirror_mode": {
    "name": "ipython",
    "version": 3
   },
   "file_extension": ".py",
   "mimetype": "text/x-python",
   "name": "python",
   "nbconvert_exporter": "python",
   "pygments_lexer": "ipython3",
   "version": "3.9.11"
  }
 },
 "nbformat": 4,
 "nbformat_minor": 2
}
