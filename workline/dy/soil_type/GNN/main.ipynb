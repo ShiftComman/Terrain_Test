{
 "cells": [
  {
   "cell_type": "code",
   "execution_count": 1,
   "metadata": {},
   "outputs": [],
   "source": [
    "import pandas as pd\n",
    "import torch"
   ]
  },
  {
   "cell_type": "code",
   "execution_count": 4,
   "metadata": {},
   "outputs": [],
   "source": [
    "# 导入辅助函数\n",
    "from soil_data_processing import preprocess_soil_data\n",
    "from GAT_model_soil_classification import MultiTaskGATSoilClassifier\n",
    "from soil_graph_construction import  create_soil_graph\n",
    "from train_multi_task_gat_model import train_multitask_gat\n",
    "from evaluation_multi_task_gat_model import evaluate_multitask_gat"
   ]
  },
  {
   "cell_type": "code",
   "execution_count": 5,
   "metadata": {},
   "outputs": [],
   "source": [
    "# 加载数据\n",
    "df = pd.read_csv(r\"F:\\cache_data\\zone_ana\\dy\\train_data\\train_20240726.csv\")\n",
    "df = df[['TL', 'YL', 'TS', 'TZ','DLMC','母质','Centroid_X','Centroid_Y','DEM_MEAN',\n",
    "         \"AnalyticalHillshading_MEAN\",\"Aspect_MEAN\",\"ChannelNetworkBaseLevel_MEAN\",\"ChannelNetworkDistance_MEAN\",\"ConvergenceIndex_MEAN\", \"LSFactor_MEAN\",\"MRRTF_MEAN\",\n",
    "    \"MRVBF_MEAN\",\"PlanCurvature_MEAN\",\"ProfileCurvature_MEAN\",\"RelativeSlopePosition_MEAN\",\"Slope_MEAN\",\"TopographicWetnessIndex_MEAN\",\"TotalCatchmentArea_MEAN\",\n",
    "    \"ValleyDepth_MEAN\",\"NIGHT2022_MEAN\",\"ETP2022_mean_MEAN\",\"TMP2022_mean_MEAN\",\"PRE2022_mean_MEAN\",\"PRE2022_3_MEAN\", \"PRE2022_11_MEAN\", \"ETP2022_3_MEAN\", \"ETP2022_11_MEAN\", \"TMP2022_3_MEAN\",\n",
    "    \"TMP2022_11_MEAN\",\"evi_MEAN\",\"lswi_MEAN\",\"mndwi_MEAN\",\"ndmi_MEAN\",\"ndvi_MEAN\",\"ndwi_MEAN\",\"PCA_0_MEAN\",\"PCA_1_MEAN\",\"savi_MEAN\",\"vari_MEAN\",\"SlopeClass_MAJORITY\"]]"
   ]
  },
  {
   "cell_type": "code",
   "execution_count": 6,
   "metadata": {},
   "outputs": [],
   "source": [
    "# 预处理数据\n",
    "X_train, X_test, y_train, y_test, label_encoders = preprocess_soil_data(df)"
   ]
  },
  {
   "cell_type": "code",
   "execution_count": 7,
   "metadata": {},
   "outputs": [],
   "source": [
    "# 构建图结构\n",
    "edge_index_train = create_soil_graph(X_train, y_train)\n",
    "edge_index_test = create_soil_graph(X_test, y_test)"
   ]
  },
  {
   "cell_type": "code",
   "execution_count": null,
   "metadata": {},
   "outputs": [],
   "source": [
    "# 初始化模型\n",
    "in_channels = X_train.shape[1]\n",
    "hidden_channels = 64\n",
    "num_classes = {\n",
    "    'TL': len(y_train['TL'].unique()),\n",
    "    'YL': len(y_train['YL'].unique()),\n",
    "    'TS': len(y_train['TS'].unique()),\n",
    "    'TZ': len(y_train['TZ'].unique())\n",
    "}\n",
    "model = MultiTaskGATSoilClassifier(in_channels, hidden_channels, num_classes)"
   ]
  },
  {
   "cell_type": "code",
   "execution_count": null,
   "metadata": {},
   "outputs": [],
   "source": [
    "# 训练模型\n",
    "model = train_multitask_gat(model, X_train, y_train, edge_index_train, epochs=200)"
   ]
  },
  {
   "cell_type": "code",
   "execution_count": null,
   "metadata": {},
   "outputs": [],
   "source": [
    "# 评估模型\n",
    "evaluate_multitask_gat(model, X_test, y_test, edge_index_test, label_encoders)"
   ]
  }
 ],
 "metadata": {
  "kernelspec": {
   "display_name": ".venvgis",
   "language": "python",
   "name": "python3"
  },
  "language_info": {
   "codemirror_mode": {
    "name": "ipython",
    "version": 3
   },
   "file_extension": ".py",
   "mimetype": "text/x-python",
   "name": "python",
   "nbconvert_exporter": "python",
   "pygments_lexer": "ipython3",
   "version": "3.10.11"
  }
 },
 "nbformat": 4,
 "nbformat_minor": 2
}
