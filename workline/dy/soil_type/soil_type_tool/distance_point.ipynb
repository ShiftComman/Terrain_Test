{
 "cells": [
  {
   "cell_type": "code",
   "execution_count": 1,
   "metadata": {},
   "outputs": [],
   "source": [
    "from sklearn.cluster import KMeans\n",
    "import pandas as pd\n",
    "import numpy as np"
   ]
  },
  {
   "cell_type": "code",
   "execution_count": 5,
   "metadata": {},
   "outputs": [],
   "source": [
    "# 假设 df 是包含所有点位的特征数据的 DataFrame\n",
    "df = pd.read_csv(r\"D:\\ArcGISProjects\\workspace\\frequency_filter\\dy_frequency.csv\")\n",
    "df.fillna(df.select_dtypes(include='number').mean(),inplace=True)"
   ]
  },
  {
   "cell_type": "code",
   "execution_count": 6,
   "metadata": {},
   "outputs": [
    {
     "data": {
      "text/plain": [
       "Index(['TL', 'YL', 'TS', 'TZ', 'DEM', 'AnalyticalHillshading', 'Aspect',\n",
       "       'ChannelNetworkBaseLevel', 'ChannelNetworkDistance',\n",
       "       'ClosedDepressions', 'ConvergenceIndex', 'LSFactor', 'PlanCurvature',\n",
       "       'ProfileCurvature', 'RelativeSlopePosition', 'Slope',\n",
       "       'TopographicWetnessIndex', 'TotalCatchmentArea', 'ValleyDepth',\n",
       "       'Contrast', 'Correlation', 'Dissimilarity', 'Entropy', 'Homogeneity',\n",
       "       'Mean', 'ndvi', 'PCA_0', 'PCA_1', 'SecondMoment', 'Variance', 'PRE',\n",
       "       'SRA', 'TMP', 'VAP', 'WIND', 'BIO', 'LON', 'LAT'],\n",
       "      dtype='object')"
      ]
     },
     "execution_count": 6,
     "metadata": {},
     "output_type": "execute_result"
    }
   ],
   "source": [
    "df.columns"
   ]
  },
  {
   "cell_type": "code",
   "execution_count": 27,
   "metadata": {},
   "outputs": [],
   "source": [
    "\n",
    "\n",
    "\n",
    "# 分组的环境因子\n",
    "env_factors = ['DEM', 'AnalyticalHillshading', 'Aspect',\n",
    "       'ChannelNetworkBaseLevel', 'ChannelNetworkDistance',\n",
    "       'ClosedDepressions', 'ConvergenceIndex', 'LSFactor', 'PlanCurvature',\n",
    "       'ProfileCurvature', 'RelativeSlopePosition', 'Slope',\n",
    "       'TopographicWetnessIndex', 'TotalCatchmentArea', 'ValleyDepth',\n",
    "       'Contrast', 'Correlation', 'Dissimilarity', 'Entropy', 'Homogeneity',\n",
    "       'Mean', 'ndvi', 'PCA_0', 'PCA_1', 'SecondMoment', 'Variance', 'PRE',\n",
    "       'SRA', 'TMP', 'VAP', 'WIND', 'BIO', 'LON', 'LAT']\n",
    "\n",
    "# 基于土壤类型进行分组\n",
    "soil_types = df['TL'].unique()\n",
    "representative_samples = []\n",
    "\n",
    "for soil_type in soil_types:\n",
    "    # 提取当前土壤类型的样本，并显式复制数据以避免警告\n",
    "    soil_type_df = df[df['TL'] == soil_type].copy()\n",
    "\n",
    "    # 聚类分析\n",
    "    kmeans = KMeans(n_clusters=1)\n",
    "    soil_type_df.loc[:, 'cluster'] = kmeans.fit_predict(soil_type_df[env_factors])\n",
    "\n",
    "    # 计算每个样本到聚类中心的距离\n",
    "    center = kmeans.cluster_centers_[0]\n",
    "    distances = np.linalg.norm(soil_type_df[env_factors].values - center, axis=1)\n",
    "\n",
    "    # 设置距离阈值\n",
    "    threshold = np.percentile(distances, 20)  # 例如选择距离在前75%的样本\n",
    "\n",
    "    # 保留距离小于或等于阈值的样本\n",
    "    representative_samples.extend(soil_type_df[distances <= threshold].to_dict('records'))\n",
    "\n",
    "representative_df = pd.DataFrame(representative_samples)\n",
    "\n"
   ]
  },
  {
   "cell_type": "code",
   "execution_count": 28,
   "metadata": {},
   "outputs": [
    {
     "data": {
      "text/plain": [
       "5063"
      ]
     },
     "execution_count": 28,
     "metadata": {},
     "output_type": "execute_result"
    }
   ],
   "source": [
    "len(representative_df)"
   ]
  },
  {
   "cell_type": "code",
   "execution_count": 29,
   "metadata": {},
   "outputs": [
    {
     "data": {
      "text/plain": [
       "黄壤         2928\n",
       "None        885\n",
       "水稻土         642\n",
       "石灰土         597\n",
       "紫色土           6\n",
       "山地灌丛草甸土       5\n",
       "Name: TL, dtype: int64"
      ]
     },
     "execution_count": 29,
     "metadata": {},
     "output_type": "execute_result"
    }
   ],
   "source": [
    "representative_df['TL'].value_counts()"
   ]
  }
 ],
 "metadata": {
  "kernelspec": {
   "display_name": ".venvgis",
   "language": "python",
   "name": "python3"
  },
  "language_info": {
   "codemirror_mode": {
    "name": "ipython",
    "version": 3
   },
   "file_extension": ".py",
   "mimetype": "text/x-python",
   "name": "python",
   "nbconvert_exporter": "python",
   "pygments_lexer": "ipython3",
   "version": "3.10.11"
  }
 },
 "nbformat": 4,
 "nbformat_minor": 2
}
