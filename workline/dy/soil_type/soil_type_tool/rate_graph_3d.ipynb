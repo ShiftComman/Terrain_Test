{
 "cells": [
  {
   "cell_type": "code",
   "execution_count": null,
   "metadata": {},
   "outputs": [],
   "source": [
    "import pandas as pd\n",
    "import matplotlib.pyplot as plt\n",
    "from mpl_toolkits.mplot3d import Axes3D\n",
    "import numpy as np"
   ]
  },
  {
   "cell_type": "code",
   "execution_count": null,
   "metadata": {},
   "outputs": [],
   "source": [
    "# Load the CSV file\n",
    "file_path = 'your_file_path_here.csv'  # Replace with your actual file path\n",
    "df = pd.read_csv(file_path)\n",
    "\n",
    "# Filter out the columns that are not needed for analysis\n",
    "df_filtered = df.drop(['亚类', '土属', '土种'], axis=1)\n",
    "\n",
    "# Identify the soil types (土类) and the environmental features\n",
    "soil_types = df_filtered['土类'].unique()\n",
    "env_features = df_filtered.columns.drop('土类')\n",
    "\n",
    "# Function to plot 3D histograms for each feature across soil types\n",
    "def plot_3d_histogram(feature, df_filtered, soil_types):\n",
    "    fig = plt.figure(figsize=(15, 10))\n",
    "    ax = fig.add_subplot(111, projection='3d')\n",
    "\n",
    "    # Prepare data for 3D histogram\n",
    "    colors = plt.cm.jet(np.linspace(0, 1, len(soil_types)))\n",
    "    hist_data = [df_filtered[df_filtered['土类'] == soil_type][feature] for soil_type in soil_types]\n",
    "    bins = np.linspace(min(df_filtered[feature]), max(df_filtered[feature]), 20)\n",
    "\n",
    "    # Construct the histogram\n",
    "    for i, data in enumerate(hist_data):\n",
    "        hist, bins = np.histogram(data, bins=bins)\n",
    "        xs = (bins[:-1] + bins[1:]) / 2\n",
    "        ax.bar(xs, hist, zs=i, zdir='y', color=colors[i], alpha=0.8, label=soil_types[i])\n",
    "\n",
    "    ax.set_xlabel(feature)\n",
    "    ax.set_ylabel('Soil Type')\n",
    "    ax.set_zlabel('Frequency')\n",
    "    ax.legend()\n",
    "\n",
    "    plt.show()"
   ]
  },
  {
   "cell_type": "code",
   "execution_count": null,
   "metadata": {},
   "outputs": [],
   "source": [
    "# Plotting the 3D histogram for each environmental feature\n",
    "for feature in env_features[:3]:  # Limiting to first 3 features for example\n",
    "    plot_3d_histogram(feature, df_filtered, soil_types)"
   ]
  }
 ],
 "metadata": {
  "language_info": {
   "name": "python"
  }
 },
 "nbformat": 4,
 "nbformat_minor": 2
}
