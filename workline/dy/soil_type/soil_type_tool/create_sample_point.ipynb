{
 "cells": [
  {
   "cell_type": "code",
   "execution_count": 16,
   "metadata": {},
   "outputs": [],
   "source": [
    "import os\n",
    "import pandas as pd\n",
    "import arcpy\n",
    "from arcpy import env\n",
    "from arcpy.management import *\n",
    "from arcpy.sa import *\n",
    "from arcpy.da import *\n",
    "from arcpy.conversion import *\n",
    "from arcpy.analysis import *"
   ]
  },
  {
   "cell_type": "code",
   "execution_count": 12,
   "metadata": {},
   "outputs": [],
   "source": [
    "# tool function\n",
    "# 创建渔网\n",
    "def create_net(output_file,extent_file,cell_size):\n",
    "    \"\"\"参数说明：\n",
    "        output_file: 输出文件\n",
    "        extent_file: 输入范围文件\n",
    "        cell_size: 生成的cell大小\n",
    "\"\"\"\n",
    "    proj = arcpy.Describe(extent_file).spatialReference\n",
    "    extent_x_min = arcpy.Describe(extent_file).extent.XMin\n",
    "    extent_y_min = arcpy.Describe(extent_file).extent.YMin\n",
    "    extent_x_max = arcpy.Describe(extent_file).extent.XMax\n",
    "    extent_y_max = arcpy.Describe(extent_file).extent.YMax\n",
    "    with arcpy.EnvManager(outputCoordinateSystem = proj):\n",
    "        arcpy.management.CreateFishnet(out_feature_class=output_file,origin_coord=f\"{extent_x_min} {extent_y_min}\",y_axis_coord=f\"{extent_x_min} {extent_y_min+10}\",cell_width=cell_size,cell_height=cell_size,number_rows=None,number_columns=None,corner_coord=f\"{extent_x_max} {extent_y_max}\",labels=\"NO_LABELS\",template=\"#\",geometry_type=\"POLYGON\")\n",
    "# 面转点\n",
    "def polygon_point(in_feature, out_feature):\n",
    "    \"\"\"参数说明：\n",
    "        in_feature: 输入面\n",
    "        out_feature: 输出点\n",
    "    \"\"\"\n",
    "    proj = arcpy.Describe(in_feature).spatialReference\n",
    "    with arcpy.EnvManager(outputCoordinateSystem=proj):\n",
    "        arcpy.management.FeatureToPoint(in_features=in_feature,out_feature_class=out_feature,point_location=\"INSIDE\")\n",
    "\n",
    "# 筛选点\n",
    "\n",
    "def select_point(input_polygon,input_point,output_point):\n",
    "    \"\"\"参数说明：\n",
    "        input_polygon: 选择面\n",
    "        input_point: 待选择点\n",
    "        output_point: 选择点\n",
    "    \"\"\"\n",
    "    polygon_layer = \"polygonLayer\"\n",
    "    point_layer = \"pointLayer\"\n",
    "    arcpy.MakeFeatureLayer_management(input_polygon, polygon_layer)\n",
    "    arcpy.MakeFeatureLayer_management(input_point, point_layer)\n",
    "    arcpy.SelectLayerByLocation_management(in_layer=point_layer, overlap_type=\"INTERSECT\", select_features=polygon_layer,search_distance=0,selection_type='NEW_SELECTION',invert_spatial_relationship=\"NOT_INVERT\")\n",
    "    # 导出选择的要素\n",
    "    arcpy.CopyFeatures_management(point_layer, output_point)\n",
    "\n",
    "# 添加字段\n",
    "def add_field(input_table,field_name,field_type='TEXT'):\n",
    "    \"\"\"参数说明：\n",
    "        input_table: 输入数据表\n",
    "        field_name: 字段名\n",
    "        field_type: 字段类型\"\"\"\n",
    "    arcpy.AddField_management(input_table,field_name,field_type)\n",
    "\n",
    "# 空间连接\n",
    "def perform_spatial_join(target_layer_path, join_layer_path, output_layer_path, field_mapping_dict):\n",
    "    \"\"\"参数说明：\n",
    "        target_layer_path: 目标图层路径\n",
    "        join_layer_path: 连接图层路径\n",
    "        output_layer_path: 输出图层路径\n",
    "        field_mapping_dict: 字段映射字典\n",
    "    \"\"\"\n",
    "    # 创建 FieldMappings 对象\n",
    "    field_mappings = arcpy.FieldMappings()\n",
    "\n",
    "    # 为每个字段对创建 FieldMap 并添加到 FieldMappings\n",
    "    for target_field, join_field in field_mapping_dict.items():\n",
    "        field_map = arcpy.FieldMap()\n",
    "        \n",
    "        # 添加目标字段和连接字段到FieldMap\n",
    "        field_map.addInputField(target_layer_path, target_field)\n",
    "        field_map.addInputField(join_layer_path, join_field)\n",
    "        \n",
    "        # 设置输出字段属性\n",
    "        output_field = field_map.outputField\n",
    "        output_field.name = target_field\n",
    "        output_field.aliasName = target_field\n",
    "        field_map.outputField = output_field\n",
    "\n",
    "        # 将 FieldMap 添加到 FieldMappings\n",
    "        field_mappings.addFieldMap(field_map)\n",
    "\n",
    "    # 执行空间连接操作\n",
    "    arcpy.analysis.SpatialJoin(target_layer_path, join_layer_path, output_layer_path,\"JOIN_ONE_TO_ONE\", \"KEEP_ALL\", field_mappings)\n",
    "\n",
    "\n",
    "# 点采样\n",
    "def sample_point(point_,raster_,out_name):\n",
    "    \"\"\"根据栅格采样点,输出为表格\"\"\"\n",
    "    Sample(raster_,point_,out_name,\"NEAREST\", \"OBJECTID\", \"CURRENT_SLICE\", None, '', None, None, \"ROW_WISE\", \"TABLE\")\n",
    "    return None\n",
    "\n",
    "# 导出CSV\n",
    "def export_csv(table_,out_path,out_name):\n",
    "    \"\"\"参数说明：\n",
    "        table_: 输入数据表\n",
    "        out_path: 输出路径\n",
    "        out_name: 输出表名\"\"\"\n",
    "    TableToTable(table_,out_path,out_name)\n",
    "    return None\n"
   ]
  },
  {
   "cell_type": "code",
   "execution_count": 3,
   "metadata": {},
   "outputs": [],
   "source": [
    "# 设置工作空间\n",
    "env.workspace = r'D:\\ArcGISProjects\\workspace\\duyun\\basedata_vector.gdb'\n"
   ]
  },
  {
   "cell_type": "code",
   "execution_count": 13,
   "metadata": {},
   "outputs": [],
   "source": [
    "# 创建渔网\n",
    "create_net('dunyun_grid','dunyun_tl',500)"
   ]
  },
  {
   "cell_type": "code",
   "execution_count": 15,
   "metadata": {},
   "outputs": [],
   "source": [
    "# 要素转点\n",
    "polygon_point('dunyun_grid','dunyun_inside_point')"
   ]
  },
  {
   "cell_type": "code",
   "execution_count": 17,
   "metadata": {},
   "outputs": [],
   "source": [
    "# 按位置选择\n",
    "select_point('dunyun_tl','dunyun_inside_point','select_point')"
   ]
  },
  {
   "cell_type": "code",
   "execution_count": 4,
   "metadata": {},
   "outputs": [],
   "source": [
    "# 添加字段\n",
    "input_features = 'select_point'\n",
    "field_list = ['tl','yl','ts','tz']\n",
    "for one_field in field_list:\n",
    "    # 添加字段\n",
    "    add_field(input_table=input_features,field_name=one_field,field_type='TEXT')"
   ]
  },
  {
   "cell_type": "code",
   "execution_count": 15,
   "metadata": {},
   "outputs": [],
   "source": [
    "# 空间连接赋予地类属性\n",
    "# 定义目标要素图层和连接要素图层的路径\n",
    "targetFeatures = \"select_point\"\n",
    "joinFeatures = \"dunyun_tl\"\n",
    "outputFeatures = \"join_point\"\n",
    "fields_mapping = {\n",
    "    \"TL\": \"土类\",\n",
    "    \"YL\": \"亚类\",\n",
    "    \"TS\": \"土属\",\n",
    "    \"TZ\": \"土种\"\n",
    "}\n",
    "# 空间连接\n",
    "perform_spatial_join(targetFeatures,joinFeatures,outputFeatures,fields_mapping)"
   ]
  },
  {
   "cell_type": "code",
   "execution_count": 24,
   "metadata": {},
   "outputs": [
    {
     "ename": "ExecuteError",
     "evalue": "ERROR 000258: 输出 D:\\ArcGISProjects\\workspace\\tabledata.gdb 已存在\n执行(CreateFileGDB)失败。\n",
     "output_type": "error",
     "traceback": [
      "\u001b[1;31m---------------------------------------------------------------------------\u001b[0m",
      "\u001b[1;31mExecuteError\u001b[0m                              Traceback (most recent call last)",
      "Cell \u001b[1;32mIn[24], line 22\u001b[0m\n\u001b[0;32m     20\u001b[0m     \u001b[38;5;28;01mpass\u001b[39;00m\n\u001b[0;32m     21\u001b[0m \u001b[38;5;66;03m# 再创建一个新的数据库\u001b[39;00m\n\u001b[1;32m---> 22\u001b[0m \u001b[43marcpy\u001b[49m\u001b[38;5;241;43m.\u001b[39;49m\u001b[43mmanagement\u001b[49m\u001b[38;5;241;43m.\u001b[39;49m\u001b[43mCreateFileGDB\u001b[49m\u001b[43m(\u001b[49m\u001b[43mos\u001b[49m\u001b[38;5;241;43m.\u001b[39;49m\u001b[43mpath\u001b[49m\u001b[38;5;241;43m.\u001b[39;49m\u001b[43mdirname\u001b[49m\u001b[43m(\u001b[49m\u001b[43msample_gdb_path\u001b[49m\u001b[43m)\u001b[49m\u001b[43m,\u001b[49m\u001b[43m \u001b[49m\u001b[38;5;124;43m\"\u001b[39;49m\u001b[38;5;124;43mtabledata\u001b[39;49m\u001b[38;5;124;43m\"\u001b[39;49m\u001b[43m,\u001b[49m\u001b[43m \u001b[49m\u001b[38;5;124;43m\"\u001b[39;49m\u001b[38;5;124;43mCURRENT\u001b[39;49m\u001b[38;5;124;43m\"\u001b[39;49m\u001b[43m)\u001b[49m\n\u001b[0;32m     23\u001b[0m \u001b[38;5;66;03m# 逐个采样并保存到csv文件\u001b[39;00m\n\u001b[0;32m     24\u001b[0m \u001b[38;5;28;01mfor\u001b[39;00m one_feature \u001b[38;5;129;01min\u001b[39;00m feature_list:\n",
      "File \u001b[1;32mD:\\Program Files\\ArcGIS\\Pro\\Resources\\ArcPy\\arcpy\\management.py:24891\u001b[0m, in \u001b[0;36mCreateFileGDB\u001b[1;34m(out_folder_path, out_name, out_version)\u001b[0m\n\u001b[0;32m  24889\u001b[0m     \u001b[38;5;28;01mreturn\u001b[39;00m retval\n\u001b[0;32m  24890\u001b[0m \u001b[38;5;28;01mexcept\u001b[39;00m \u001b[38;5;167;01mException\u001b[39;00m \u001b[38;5;28;01mas\u001b[39;00m e:\n\u001b[1;32m> 24891\u001b[0m     \u001b[38;5;28;01mraise\u001b[39;00m e\n",
      "File \u001b[1;32mD:\\Program Files\\ArcGIS\\Pro\\Resources\\ArcPy\\arcpy\\management.py:24888\u001b[0m, in \u001b[0;36mCreateFileGDB\u001b[1;34m(out_folder_path, out_name, out_version)\u001b[0m\n\u001b[0;32m  24886\u001b[0m \u001b[38;5;28;01mfrom\u001b[39;00m \u001b[38;5;21;01marcpy\u001b[39;00m\u001b[38;5;21;01m.\u001b[39;00m\u001b[38;5;21;01marcobjects\u001b[39;00m\u001b[38;5;21;01m.\u001b[39;00m\u001b[38;5;21;01marcobjectconversion\u001b[39;00m \u001b[38;5;28;01mimport\u001b[39;00m convertArcObjectToPythonObject\n\u001b[0;32m  24887\u001b[0m \u001b[38;5;28;01mtry\u001b[39;00m:\n\u001b[1;32m> 24888\u001b[0m     retval \u001b[38;5;241m=\u001b[39m convertArcObjectToPythonObject(\u001b[43mgp\u001b[49m\u001b[38;5;241;43m.\u001b[39;49m\u001b[43mCreateFileGDB_management\u001b[49m\u001b[43m(\u001b[49m\u001b[38;5;241;43m*\u001b[39;49m\u001b[43mgp_fixargs\u001b[49m\u001b[43m(\u001b[49m\u001b[43m(\u001b[49m\u001b[43mout_folder_path\u001b[49m\u001b[43m,\u001b[49m\u001b[43m \u001b[49m\u001b[43mout_name\u001b[49m\u001b[43m,\u001b[49m\u001b[43m \u001b[49m\u001b[43mout_version\u001b[49m\u001b[43m)\u001b[49m\u001b[43m,\u001b[49m\u001b[43m \u001b[49m\u001b[38;5;28;43;01mTrue\u001b[39;49;00m\u001b[43m)\u001b[49m\u001b[43m)\u001b[49m)\n\u001b[0;32m  24889\u001b[0m     \u001b[38;5;28;01mreturn\u001b[39;00m retval\n\u001b[0;32m  24890\u001b[0m \u001b[38;5;28;01mexcept\u001b[39;00m \u001b[38;5;167;01mException\u001b[39;00m \u001b[38;5;28;01mas\u001b[39;00m e:\n",
      "File \u001b[1;32mD:\\Program Files\\ArcGIS\\Pro\\Resources\\ArcPy\\arcpy\\geoprocessing\\_base.py:512\u001b[0m, in \u001b[0;36mGeoprocessor.__getattr__.<locals>.<lambda>\u001b[1;34m(*args)\u001b[0m\n\u001b[0;32m    510\u001b[0m val \u001b[38;5;241m=\u001b[39m \u001b[38;5;28mgetattr\u001b[39m(\u001b[38;5;28mself\u001b[39m\u001b[38;5;241m.\u001b[39m_gp, attr)\n\u001b[0;32m    511\u001b[0m \u001b[38;5;28;01mif\u001b[39;00m \u001b[38;5;28mcallable\u001b[39m(val):\n\u001b[1;32m--> 512\u001b[0m     \u001b[38;5;28;01mreturn\u001b[39;00m \u001b[38;5;28;01mlambda\u001b[39;00m \u001b[38;5;241m*\u001b[39margs: \u001b[43mval\u001b[49m\u001b[43m(\u001b[49m\u001b[38;5;241;43m*\u001b[39;49m\u001b[43mgp_fixargs\u001b[49m\u001b[43m(\u001b[49m\u001b[43margs\u001b[49m\u001b[43m,\u001b[49m\u001b[43m \u001b[49m\u001b[38;5;28;43;01mTrue\u001b[39;49;00m\u001b[43m)\u001b[49m\u001b[43m)\u001b[49m\n\u001b[0;32m    513\u001b[0m \u001b[38;5;28;01melse\u001b[39;00m:\n\u001b[0;32m    514\u001b[0m     \u001b[38;5;28;01mreturn\u001b[39;00m convertArcObjectToPythonObject(val)\n",
      "\u001b[1;31mExecuteError\u001b[0m: ERROR 000258: 输出 D:\\ArcGISProjects\\workspace\\tabledata.gdb 已存在\n执行(CreateFileGDB)失败。\n"
     ]
    }
   ],
   "source": [
    "# 对特征因子采样\n",
    "\n",
    "# 用于采样的特征因子列表\n",
    "feature_list = ['BIO', 'PRE', 'SRA', 'TMP', 'VAP', 'WIN', 'NDVI', 'TDQS', 'LIGHT', 'AnalyticalHillshading', 'Aspect', 'ChannelNetworkBaseLevel', 'ChannelNetworkDistance', 'ClosedDepressions', 'ConvergenceIndex', 'LSFactor', 'PlanCurvature', 'ProfileCurvature', 'RelativeSlopePosition', 'Slope', 'TopographicWetnessIndex', 'TotalCatchmentArea', 'ValleyDepth', 'DEM', 'LON', 'LAT', 'prediction_ph']\n",
    "\n",
    "# 选择用于采样的特征因子数据库\n",
    "stander_raster_gdb = r\"D:\\ArcGISProjects\\workspace\\duyun\\featuressdata_dy.gdb\"\n",
    "env.workspace = stander_raster_gdb # 切换工作空间用于采样\n",
    "# 选择用于采样的要素类\n",
    "point_data = r\"D:\\ArcGISProjects\\workspace\\duyun\\basedata_vector.gdb\\join_point\"\n",
    "\n",
    "# 用于存放采样表的数据库路径\n",
    "sample_gdb_path = r\"D:\\ArcGISProjects\\workspace\\duyun\\tabledata.gdb\"\n",
    "\n",
    "\n",
    "# 使用Delete_management函数删除数据库中的所有内容\n",
    "try:\n",
    "    arcpy.Delete_management(sample_gdb_path)\n",
    "except:\n",
    "    pass\n",
    "# 再创建一个新的数据库\n",
    "arcpy.management.CreateFileGDB(os.path.dirname(sample_gdb_path), \"tabledata\", \"CURRENT\")\n",
    "# 逐个采样并保存到csv文件\n",
    "for one_feature in feature_list:\n",
    "    sample_point(point_data,one_feature,os.path.join(sample_gdb_path,one_feature))"
   ]
  },
  {
   "cell_type": "code",
   "execution_count": 19,
   "metadata": {},
   "outputs": [
    {
     "name": "stdout",
     "output_type": "stream",
     "text": [
      "['OBJECTID', 'Shape', 'Join_Count', 'TARGET_FID', 'TL', 'YL', 'TS', 'TZ']\n",
      "['OBJECTID', 'TL', 'YL', 'TS', 'TZ']\n"
     ]
    }
   ],
   "source": [
    "# 导出CSV表用于分析\n",
    "env.workspace = os.path.join(sample_gdb_path) # 切换工作空间用于导出csv文件\n",
    "# 采样点数据名称\n",
    "sample_name = 'duyun_point'\n",
    "filed_list = [_.name for _ in arcpy.ListFields(point_data)]\n",
    "print(filed_list)\n",
    "# 需要保留的字段\n",
    "elements_yes = ['OBJECTID', 'TL','YL','TS','TZ']\n",
    "filter_list = [_ for _ in filed_list if _ in elements_yes]\n",
    "print(filter_list)\n"
   ]
  },
  {
   "cell_type": "code",
   "execution_count": null,
   "metadata": {},
   "outputs": [],
   "source": [
    "# 读取数据表并保存到csv文件\n",
    "result_df = pd.DataFrame(arcpy.da.FeatureClassToNumPyArray(point_data,filter_list))\n",
    "result_df.rename(columns={\"OBJECTID\":sample_name},inplace=True)\n",
    "#  读取每个表的最后一个字段的数据,存储每个表的最后一个字段的数据\n",
    "for table in feature_list:\n",
    "    # 将表转换为pandas数据帧\n",
    "    df = pd.DataFrame(arcpy.da.TableToNumPyArray(table, \"*\"))  # 确保数据表中无空值\n",
    "    # 提取最后一个字段的数据\n",
    "    merged_df = df[[sample_name, df.columns[-1]]]\n",
    "    # 合并\n",
    "    result_df = pd.merge(result_df, merged_df, on=[sample_name])\n",
    "# 保存到csv文件\n",
    "result_df.rename(columns=dict(zip(result_df.columns[-len(feature_list):], feature_list)),inplace=True)\n",
    "result_df.drop(result_df.columns[0],axis=1,inplace=True)\n",
    "# result_df.rename(columns={\"PH\":\"PH_T\"},inplace=True)\n",
    "result_df.to_csv(os.path.join(sample_csv,sample_csv_name),index=False)"
   ]
  }
 ],
 "metadata": {
  "kernelspec": {
   "display_name": "Python 3",
   "language": "python",
   "name": "python3"
  },
  "language_info": {
   "codemirror_mode": {
    "name": "ipython",
    "version": 3
   },
   "file_extension": ".py",
   "mimetype": "text/x-python",
   "name": "python",
   "nbconvert_exporter": "python",
   "pygments_lexer": "ipython3",
   "version": "3.9.11"
  }
 },
 "nbformat": 4,
 "nbformat_minor": 2
}
