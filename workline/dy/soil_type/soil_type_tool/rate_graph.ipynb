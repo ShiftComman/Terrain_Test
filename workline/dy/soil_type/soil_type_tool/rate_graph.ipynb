{
 "cells": [
  {
   "cell_type": "code",
   "execution_count": 1,
   "metadata": {},
   "outputs": [],
   "source": [
    "import pandas as pd\n",
    "import matplotlib.pyplot as plt\n",
    "import seaborn as sns"
   ]
  },
  {
   "cell_type": "code",
   "execution_count": 2,
   "metadata": {},
   "outputs": [],
   "source": [
    "plt.rcParams['font.sans-serif'] = ['SimSun']  # 使用宋体或其他支持中文的字体\n",
    "plt.rcParams['axes.unicode_minus'] = False  # 处理负号显示问题"
   ]
  },
  {
   "cell_type": "code",
   "execution_count": 3,
   "metadata": {},
   "outputs": [
    {
     "data": {
      "text/html": [
       "<div>\n",
       "<style scoped>\n",
       "    .dataframe tbody tr th:only-of-type {\n",
       "        vertical-align: middle;\n",
       "    }\n",
       "\n",
       "    .dataframe tbody tr th {\n",
       "        vertical-align: top;\n",
       "    }\n",
       "\n",
       "    .dataframe thead th {\n",
       "        text-align: right;\n",
       "    }\n",
       "</style>\n",
       "<table border=\"1\" class=\"dataframe\">\n",
       "  <thead>\n",
       "    <tr style=\"text-align: right;\">\n",
       "      <th></th>\n",
       "      <th>TL</th>\n",
       "      <th>YL</th>\n",
       "      <th>TS</th>\n",
       "      <th>TZ</th>\n",
       "      <th>DEM</th>\n",
       "      <th>AnalyticalHillshading</th>\n",
       "      <th>Aspect</th>\n",
       "      <th>ChannelNetworkBaseLevel</th>\n",
       "      <th>ChannelNetworkDistance</th>\n",
       "      <th>ClosedDepressions</th>\n",
       "      <th>...</th>\n",
       "      <th>SecondMoment</th>\n",
       "      <th>Variance</th>\n",
       "      <th>PRE</th>\n",
       "      <th>SRA</th>\n",
       "      <th>TMP</th>\n",
       "      <th>VAP</th>\n",
       "      <th>WIND</th>\n",
       "      <th>BIO</th>\n",
       "      <th>LON</th>\n",
       "      <th>LAT</th>\n",
       "    </tr>\n",
       "  </thead>\n",
       "  <tbody>\n",
       "    <tr>\n",
       "      <th>9700</th>\n",
       "      <td>黄壤</td>\n",
       "      <td>黄壤</td>\n",
       "      <td>硅铝质黄壤</td>\n",
       "      <td>薄腐殖层薄土层硅铝质黄壤</td>\n",
       "      <td>938.80005</td>\n",
       "      <td>0.21647</td>\n",
       "      <td>5.190735</td>\n",
       "      <td>915.80646</td>\n",
       "      <td>22.993591</td>\n",
       "      <td>NaN</td>\n",
       "      <td>...</td>\n",
       "      <td>0.333333</td>\n",
       "      <td>0.444444</td>\n",
       "      <td>100.416664</td>\n",
       "      <td>12988.25</td>\n",
       "      <td>15.441667</td>\n",
       "      <td>1.52</td>\n",
       "      <td>1.691667</td>\n",
       "      <td>192.63797</td>\n",
       "      <td>445945.0</td>\n",
       "      <td>2888300.0</td>\n",
       "    </tr>\n",
       "  </tbody>\n",
       "</table>\n",
       "<p>1 rows × 38 columns</p>\n",
       "</div>"
      ],
      "text/plain": [
       "      TL  YL     TS            TZ        DEM  AnalyticalHillshading    Aspect  \\\n",
       "9700  黄壤  黄壤  硅铝质黄壤  薄腐殖层薄土层硅铝质黄壤  938.80005                0.21647  5.190735   \n",
       "\n",
       "      ChannelNetworkBaseLevel  ChannelNetworkDistance  ClosedDepressions  ...  \\\n",
       "9700                915.80646               22.993591                NaN  ...   \n",
       "\n",
       "      SecondMoment  Variance         PRE       SRA        TMP   VAP      WIND  \\\n",
       "9700      0.333333  0.444444  100.416664  12988.25  15.441667  1.52  1.691667   \n",
       "\n",
       "            BIO       LON        LAT  \n",
       "9700  192.63797  445945.0  2888300.0  \n",
       "\n",
       "[1 rows x 38 columns]"
      ]
     },
     "execution_count": 3,
     "metadata": {},
     "output_type": "execute_result"
    }
   ],
   "source": [
    "\n",
    "# Load the CSV file\n",
    "file_path = r\"D:\\ArcGISProjects\\workspace\\frequency_filter\\dy_frequency.csv\"  # Replace with your actual file path\n",
    "df = pd.read_csv(file_path)\n",
    "df.sample(1)"
   ]
  },
  {
   "cell_type": "code",
   "execution_count": null,
   "metadata": {},
   "outputs": [],
   "source": [
    "# Filter out the columns that are not needed for analysis\n",
    "df_filtered = df.drop(['YL', 'TS', 'TZ'], axis=1)\n",
    "\n",
    "# Identify the soil types (土类) and the environmental features\n",
    "soil_types = df_filtered['TL'].unique()\n",
    "env_features = df_filtered.columns.drop('TL')\n",
    "\n",
    "# Function to plot histograms and boxplots for each feature across soil types\n",
    "def plot_feature_distribution(feature, df_filtered, soil_types):\n",
    "    plt.figure(figsize=(15, 6))\n",
    "\n",
    "    # Histogram\n",
    "    plt.subplot(1, 2, 1)\n",
    "    for soil_type in soil_types:\n",
    "        sns.histplot(df_filtered[df_filtered['TL'] == soil_type][feature], label=soil_type, kde=True)\n",
    "    plt.title(f'Histogram of {feature}')\n",
    "    plt.xlabel(feature)\n",
    "    plt.ylabel('Frequency')\n",
    "    plt.legend()\n",
    "\n",
    "    # Boxplot\n",
    "    plt.subplot(1, 2, 2)\n",
    "    sns.boxplot(x='TL', y=feature, data=df_filtered)\n",
    "    plt.title(f'Boxplot of {feature}')\n",
    "    plt.xlabel('Soil Type')\n",
    "    plt.ylabel(feature)\n",
    "\n",
    "    plt.tight_layout()\n",
    "    plt.show()\n"
   ]
  },
  {
   "cell_type": "code",
   "execution_count": null,
   "metadata": {},
   "outputs": [],
   "source": [
    "# Plotting the distribution for each environmental feature\n",
    "for feature in env_features:\n",
    "    print(feature)\n",
    "    plot_feature_distribution(feature, df_filtered, soil_types)"
   ]
  }
 ],
 "metadata": {
  "kernelspec": {
   "display_name": ".venvgis",
   "language": "python",
   "name": "python3"
  },
  "language_info": {
   "codemirror_mode": {
    "name": "ipython",
    "version": 3
   },
   "file_extension": ".py",
   "mimetype": "text/x-python",
   "name": "python",
   "nbconvert_exporter": "python",
   "pygments_lexer": "ipython3",
   "version": "3.10.11"
  }
 },
 "nbformat": 4,
 "nbformat_minor": 2
}
