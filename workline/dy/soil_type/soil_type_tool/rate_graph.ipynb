{
 "cells": [
  {
   "cell_type": "code",
   "execution_count": 1,
   "metadata": {},
   "outputs": [],
   "source": [
    "import pandas as pd\n",
    "import matplotlib.pyplot as plt\n",
    "import seaborn as sns"
   ]
  },
  {
   "cell_type": "code",
   "execution_count": 2,
   "metadata": {},
   "outputs": [],
   "source": [
    "plt.rcParams['font.sans-serif'] = ['SimSun']  # 使用宋体或其他支持中文的字体\n",
    "plt.rcParams['axes.unicode_minus'] = False  # 处理负号显示问题"
   ]
  },
  {
   "cell_type": "code",
   "execution_count": 3,
   "metadata": {},
   "outputs": [
    {
     "data": {
      "text/html": [
       "<div>\n",
       "<style scoped>\n",
       "    .dataframe tbody tr th:only-of-type {\n",
       "        vertical-align: middle;\n",
       "    }\n",
       "\n",
       "    .dataframe tbody tr th {\n",
       "        vertical-align: top;\n",
       "    }\n",
       "\n",
       "    .dataframe thead th {\n",
       "        text-align: right;\n",
       "    }\n",
       "</style>\n",
       "<table border=\"1\" class=\"dataframe\">\n",
       "  <thead>\n",
       "    <tr style=\"text-align: right;\">\n",
       "      <th></th>\n",
       "      <th>TL</th>\n",
       "      <th>YL</th>\n",
       "      <th>TS</th>\n",
       "      <th>TZ</th>\n",
       "      <th>DEM</th>\n",
       "      <th>AnalyticalHillshading</th>\n",
       "      <th>Aspect</th>\n",
       "      <th>ChannelNetworkBaseLevel</th>\n",
       "      <th>ChannelNetworkDistance</th>\n",
       "      <th>ClosedDepressions</th>\n",
       "      <th>...</th>\n",
       "      <th>Variance</th>\n",
       "      <th>PRE</th>\n",
       "      <th>SRA</th>\n",
       "      <th>TMP</th>\n",
       "      <th>VAP</th>\n",
       "      <th>WIND</th>\n",
       "      <th>BIO</th>\n",
       "      <th>LON</th>\n",
       "      <th>LAT</th>\n",
       "      <th>PH</th>\n",
       "    </tr>\n",
       "  </thead>\n",
       "  <tbody>\n",
       "    <tr>\n",
       "      <th>3129</th>\n",
       "      <td>14d</td>\n",
       "      <td>14d</td>\n",
       "      <td>14d</td>\n",
       "      <td>14d</td>\n",
       "      <td>825.0</td>\n",
       "      <td>1.137015</td>\n",
       "      <td>1.49252</td>\n",
       "      <td>815.41846</td>\n",
       "      <td>9.581543</td>\n",
       "      <td>NaN</td>\n",
       "      <td>...</td>\n",
       "      <td>0.617284</td>\n",
       "      <td>100.0</td>\n",
       "      <td>13106.917</td>\n",
       "      <td>15.925</td>\n",
       "      <td>1.568333</td>\n",
       "      <td>1.658333</td>\n",
       "      <td>192.289</td>\n",
       "      <td>447145.0</td>\n",
       "      <td>2878700.0</td>\n",
       "      <td>5.44632</td>\n",
       "    </tr>\n",
       "  </tbody>\n",
       "</table>\n",
       "<p>1 rows × 39 columns</p>\n",
       "</div>"
      ],
      "text/plain": [
       "       TL   YL   TS   TZ    DEM  AnalyticalHillshading   Aspect  \\\n",
       "3129  14d  14d  14d  14d  825.0               1.137015  1.49252   \n",
       "\n",
       "      ChannelNetworkBaseLevel  ChannelNetworkDistance  ClosedDepressions  ...  \\\n",
       "3129                815.41846                9.581543                NaN  ...   \n",
       "\n",
       "      Variance    PRE        SRA     TMP       VAP      WIND      BIO  \\\n",
       "3129  0.617284  100.0  13106.917  15.925  1.568333  1.658333  192.289   \n",
       "\n",
       "           LON        LAT       PH  \n",
       "3129  447145.0  2878700.0  5.44632  \n",
       "\n",
       "[1 rows x 39 columns]"
      ]
     },
     "execution_count": 3,
     "metadata": {},
     "output_type": "execute_result"
    }
   ],
   "source": [
    "\n",
    "# Load the CSV file\n",
    "file_path = r\"F:\\cache_data\\frequency_filter\\dy\\dy_frequency.csv\"  # Replace with your actual file path\n",
    "df = pd.read_csv(file_path)\n",
    "df.sample(1)"
   ]
  },
  {
   "cell_type": "code",
   "execution_count": 4,
   "metadata": {},
   "outputs": [],
   "source": [
    "# Filter out the columns that are not needed for analysis\n",
    "df_filtered = df.drop(['YL', 'TS', 'TZ'], axis=1)\n",
    "\n",
    "# Identify the soil types (土类) and the environmental features\n",
    "soil_types = df_filtered['TL'].unique()\n",
    "env_features = df_filtered.columns.drop('TL')\n",
    "\n",
    "# Function to plot histograms and boxplots for each feature across soil types\n",
    "def plot_feature_distribution(feature, df_filtered, soil_types):\n",
    "    plt.figure(figsize=(15, 6))\n",
    "\n",
    "    # Histogram\n",
    "    plt.subplot(1, 2, 1)\n",
    "    for soil_type in soil_types:\n",
    "        sns.histplot(df_filtered[df_filtered['TL'] == soil_type][feature], label=soil_type, kde=True)\n",
    "    plt.title(f'Histogram of {feature}')\n",
    "    plt.xlabel(feature)\n",
    "    plt.ylabel('Frequency')\n",
    "    plt.legend()\n",
    "\n",
    "    # Boxplot\n",
    "    plt.subplot(1, 2, 2)\n",
    "    sns.boxplot(x='TL', y=feature, data=df_filtered)\n",
    "    plt.title(f'Boxplot of {feature}')\n",
    "    plt.xlabel('Soil Type')\n",
    "    plt.ylabel(feature)\n",
    "\n",
    "    plt.tight_layout()\n",
    "    plt.show()\n"
   ]
  },
  {
   "cell_type": "code",
   "execution_count": null,
   "metadata": {},
   "outputs": [],
   "source": [
    "# Plotting the distribution for each environmental feature\n",
    "for feature in env_features:\n",
    "    print(feature)\n",
    "    plot_feature_distribution(feature, df_filtered, soil_types)"
   ]
  }
 ],
 "metadata": {
  "kernelspec": {
   "display_name": ".venvgis",
   "language": "python",
   "name": "python3"
  },
  "language_info": {
   "codemirror_mode": {
    "name": "ipython",
    "version": 3
   },
   "file_extension": ".py",
   "mimetype": "text/x-python",
   "name": "python",
   "nbconvert_exporter": "python",
   "pygments_lexer": "ipython3",
   "version": "3.10.11"
  }
 },
 "nbformat": 4,
 "nbformat_minor": 2
}
