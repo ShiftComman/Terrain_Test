{
 "cells": [
  {
   "cell_type": "code",
   "execution_count": null,
   "metadata": {},
   "outputs": [],
   "source": [
    "import os\n",
    "import arcpy\n",
    "from arcpy import env\n",
    "from arcpy.sa import *\n",
    "from arcpy.da import *\n",
    "import pandas as pd"
   ]
  },
  {
   "cell_type": "code",
   "execution_count": null,
   "metadata": {},
   "outputs": [],
   "source": [
    "def zonstatis(in_table, fields, value_raster,out_table):\n",
    "    \"\"\"统计分区矢量内的栅格信息\n",
    "    :param in_table: 矢量分区\n",
    "    :param fields: 矢量字段\n",
    "    :param value_raster: 栅格数据\n",
    "    :param out_table: 输出文件\"\"\"\n",
    "    ZonalStatisticsAsTable(in_zone_data=in_table,zone_field=fields,in_value_raster=value_raster,out_table=out_table,ignore_nodata='#',statistics_type='ALL')"
   ]
  },
  {
   "cell_type": "code",
   "execution_count": null,
   "metadata": {},
   "outputs": [],
   "source": [
    "# 矢量数据路径\n",
    "polygon_path = r\"D:\\ArcGISProjects\\workspace\\shbyq\\DZ.gdb\\pre_sd_data_ele\"\n",
    "# 栅格数据路径\n",
    "raster_path = r'D:\\ArcGISProjects\\workspace\\shbyq\\feature_raster_file\\features_data_dy.gdb'"
   ]
  },
  {
   "cell_type": "code",
   "execution_count": null,
   "metadata": {},
   "outputs": [],
   "source": [
    "# 统计结果表格存放路径\n",
    "temp_table_gdb_path = r'F:\\cache_data\\zone_ana\\dy\\zone_temp_predict.gdb'"
   ]
  },
  {
   "cell_type": "code",
   "execution_count": null,
   "metadata": {},
   "outputs": [],
   "source": [
    "# 使用Delete_management函数删除数据库中的所有内容\n",
    "try:\n",
    "    arcpy.Delete_management(temp_table_gdb_path)\n",
    "except:\n",
    "    pass\n",
    "# 再创建一个新的数据库\n",
    "arcpy.management.CreateFileGDB(os.path.dirname(temp_table_gdb_path), \"zone_temp_predict\", \"CURRENT\")"
   ]
  },
  {
   "cell_type": "code",
   "execution_count": null,
   "metadata": {},
   "outputs": [],
   "source": [
    "# 切换工作空间\n",
    "env.workspace = raster_path"
   ]
  },
  {
   "cell_type": "code",
   "execution_count": null,
   "metadata": {},
   "outputs": [],
   "source": [
    "# 获取需要处理的栅格列表\n",
    "raster_list = arcpy.ListRasters()"
   ]
  },
  {
   "cell_type": "code",
   "execution_count": null,
   "metadata": {},
   "outputs": [],
   "source": [
    "[_.name for _ in arcpy.ListFields(polygon_path)]"
   ]
  },
  {
   "cell_type": "code",
   "execution_count": null,
   "metadata": {},
   "outputs": [],
   "source": [
    "raster_list = ['DEM','ndvi', 'PCA_0', 'Slope','Aspect', 'MRVBF','TopographicWetnessIndex', 'Mean',  'PH','PRE','SRA','TMP','VAP','WIND','PlanCurvature']\n",
    "# 逐一统计分析\n",
    "for one_raster in raster_list:\n",
    "    print(one_raster)\n",
    "    # 分区统计\n",
    "    zonstatis(polygon_path,'OBJECTID',one_raster,os.path.join(temp_table_gdb_path,one_raster))"
   ]
  },
  {
   "cell_type": "markdown",
   "metadata": {},
   "source": [
    "### 构造训练表\n"
   ]
  },
  {
   "cell_type": "code",
   "execution_count": null,
   "metadata": {},
   "outputs": [],
   "source": [
    "# 切换工作空间\n",
    "env.workspace = temp_table_gdb_path"
   ]
  },
  {
   "cell_type": "code",
   "execution_count": null,
   "metadata": {},
   "outputs": [],
   "source": [
    "# 获取表格列表\n",
    "table_list = arcpy.ListTables()"
   ]
  },
  {
   "cell_type": "code",
   "execution_count": null,
   "metadata": {},
   "outputs": [],
   "source": [
    "table_list = raster_list"
   ]
  },
  {
   "cell_type": "code",
   "execution_count": null,
   "metadata": {},
   "outputs": [],
   "source": [
    "# 指定需要的信息\n",
    "line_fields = 'OBJECTID'\n",
    "df_list = []\n",
    "for one_table in table_list:\n",
    "    # 将表转换为pandas数据帧\n",
    "    df = pd.DataFrame(arcpy.da.TableToNumPyArray(one_table, \"*\"))  # 确保数据表中无空值\n",
    "    # 提取统计字段的数据\n",
    "    merged_df = df[[line_fields]+ list(df.columns[-10:])]\n",
    "    # 在统计数据列名中添加表名\n",
    "    merged_df.columns = [line_fields]+[one_table + '_' + col for col in merged_df.columns[-10:]]\n",
    "    # 添加到列表\n",
    "    df_list.append(merged_df)\n",
    "# 初始合并数据帧\n",
    "df_merged = df_list[0]\n",
    "# 逐个合并其余的数据帧\n",
    "for df in df_list[1:]:\n",
    "    df_merged = pd.merge(df_merged, df, on=line_fields, how='outer')"
   ]
  },
  {
   "cell_type": "code",
   "execution_count": null,
   "metadata": {},
   "outputs": [],
   "source": [
    "df_merged"
   ]
  },
  {
   "cell_type": "code",
   "execution_count": null,
   "metadata": {},
   "outputs": [],
   "source": [
    "polygon_path = polygon_path"
   ]
  },
  {
   "cell_type": "code",
   "execution_count": null,
   "metadata": {},
   "outputs": [],
   "source": [
    "# 添加字段\n",
    "def add_field(input_table,field_name,field_type='DOUBLE'):\n",
    "    \"\"\"参数说明：\n",
    "        input_table: 输入数据表\n",
    "        field_name: 字段名\n",
    "        field_type: 字段类型\"\"\"\n",
    "    arcpy.AddField_management(input_table,field_name,field_type)"
   ]
  },
  {
   "cell_type": "code",
   "execution_count": null,
   "metadata": {},
   "outputs": [],
   "source": [
    "\n",
    "# 新增面特征信息\n",
    "# 添加新字段来存储四至坐标\n",
    "for one_fields in ['XMin', 'YMin', 'XMax', 'YMax','Centroid_X','Centroid_Y']:\n",
    "    add_field(polygon_path,one_fields)\n"
   ]
  },
  {
   "cell_type": "code",
   "execution_count": null,
   "metadata": {},
   "outputs": [],
   "source": [
    "# 更新字段值\n",
    "with arcpy.da.UpdateCursor(polygon_path, [\"SHAPE@\", \"XMin\", \"YMin\", \"XMax\", \"YMax\", \"Centroid_X\", \"Centroid_Y\"]) as cursor:\n",
    "    for row in cursor:\n",
    "        centroid = row[0].centroid\n",
    "        extent = row[0].extent\n",
    "        row[1] = extent.XMin\n",
    "        row[2] = extent.YMin\n",
    "        row[3] = extent.XMax\n",
    "        row[4] = extent.YMax\n",
    "        row[5] = centroid.X\n",
    "        row[6] = centroid.Y\n",
    "        cursor.updateRow(row)\n",
    "\n",
    "print(\"四至坐标计算完成并存储在新字段中。\")\n"
   ]
  },
  {
   "cell_type": "code",
   "execution_count": null,
   "metadata": {},
   "outputs": [],
   "source": [
    "polygon_fields_list = [_.name for _ in arcpy.ListFields(polygon_path)]"
   ]
  },
  {
   "cell_type": "code",
   "execution_count": null,
   "metadata": {},
   "outputs": [],
   "source": [
    "print(polygon_fields_list)"
   ]
  },
  {
   "cell_type": "code",
   "execution_count": null,
   "metadata": {},
   "outputs": [],
   "source": [
    "polygon_df = pd.DataFrame(arcpy.da.FeatureClassToNumPyArray(polygon_path, ['OBJECTID', 'DLMC', '母质',  'XMin', 'YMin', 'XMax', 'YMax', 'Centroid_X', 'Centroid_Y']))"
   ]
  },
  {
   "cell_type": "code",
   "execution_count": null,
   "metadata": {},
   "outputs": [],
   "source": [
    "polygon_df"
   ]
  },
  {
   "cell_type": "code",
   "execution_count": null,
   "metadata": {},
   "outputs": [],
   "source": [
    "# 连接表格\n",
    "result_df = pd.merge(polygon_df, df_merged, on='OBJECTID',how='left')"
   ]
  },
  {
   "cell_type": "code",
   "execution_count": null,
   "metadata": {},
   "outputs": [],
   "source": [
    "result_df"
   ]
  },
  {
   "cell_type": "code",
   "execution_count": null,
   "metadata": {},
   "outputs": [],
   "source": [
    "# 保存训练数据\n",
    "train_data_path = r'F:\\cache_data\\zone_ana\\dy\\prediction_data'\n",
    "result_df.to_csv(os.path.join(train_data_path, 'result_20240619.csv'), index=False)"
   ]
  }
 ],
 "metadata": {
  "kernelspec": {
   "display_name": "Python 3",
   "language": "python",
   "name": "python3"
  },
  "language_info": {
   "codemirror_mode": {
    "name": "ipython",
    "version": 3
   },
   "file_extension": ".py",
   "mimetype": "text/x-python",
   "name": "python",
   "nbconvert_exporter": "python",
   "pygments_lexer": "ipython3",
   "version": "3.9.11"
  }
 },
 "nbformat": 4,
 "nbformat_minor": 2
}
