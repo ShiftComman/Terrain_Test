{
 "cells": [
  {
   "cell_type": "code",
   "execution_count": 1,
   "metadata": {},
   "outputs": [],
   "source": [
    "import os\n",
    "import arcpy\n",
    "from arcpy import env\n",
    "from arcpy.sa import *\n",
    "from arcpy.da import *\n",
    "import pandas as pd"
   ]
  },
  {
   "cell_type": "code",
   "execution_count": 2,
   "metadata": {},
   "outputs": [],
   "source": [
    "data_path = r'D:\\ArcGISProjects\\workspace\\shbyq\\DZ.gdb\\filte_sd_end0618'"
   ]
  },
  {
   "cell_type": "code",
   "execution_count": 3,
   "metadata": {},
   "outputs": [
    {
     "data": {
      "text/plain": [
       "['OBJECTID',\n",
       " 'Shape',\n",
       " 'DLMC',\n",
       " '母质',\n",
       " 'TL',\n",
       " 'YL',\n",
       " 'TS',\n",
       " 'TZ',\n",
       " 'Shape_Length',\n",
       " 'Shape_Area']"
      ]
     },
     "execution_count": 3,
     "metadata": {},
     "output_type": "execute_result"
    }
   ],
   "source": [
    "# 查看字段\n",
    "[_.name for _ in arcpy.ListFields(data_path)]"
   ]
  },
  {
   "cell_type": "code",
   "execution_count": 4,
   "metadata": {},
   "outputs": [],
   "source": [
    "# 转换为PANDAS对象\n",
    "data_df = pd.DataFrame(arcpy.da.FeatureClassToNumPyArray(data_path,['OBJECTID','DLMC','母质','TL','YL','TS','TZ']))"
   ]
  },
  {
   "cell_type": "code",
   "execution_count": 5,
   "metadata": {},
   "outputs": [
    {
     "data": {
      "text/html": [
       "<div>\n",
       "<style scoped>\n",
       "    .dataframe tbody tr th:only-of-type {\n",
       "        vertical-align: middle;\n",
       "    }\n",
       "\n",
       "    .dataframe tbody tr th {\n",
       "        vertical-align: top;\n",
       "    }\n",
       "\n",
       "    .dataframe thead th {\n",
       "        text-align: right;\n",
       "    }\n",
       "</style>\n",
       "<table border=\"1\" class=\"dataframe\">\n",
       "  <thead>\n",
       "    <tr style=\"text-align: right;\">\n",
       "      <th></th>\n",
       "      <th>OBJECTID</th>\n",
       "      <th>DLMC</th>\n",
       "      <th>母质</th>\n",
       "      <th>TL</th>\n",
       "      <th>YL</th>\n",
       "      <th>TS</th>\n",
       "      <th>TZ</th>\n",
       "    </tr>\n",
       "  </thead>\n",
       "  <tbody>\n",
       "    <tr>\n",
       "      <th>0</th>\n",
       "      <td>1</td>\n",
       "      <td>水田</td>\n",
       "      <td>第四系红粘土</td>\n",
       "      <td>水稻土</td>\n",
       "      <td>潴育型水稻土</td>\n",
       "      <td>红泥田</td>\n",
       "      <td>黄红泥田</td>\n",
       "    </tr>\n",
       "    <tr>\n",
       "      <th>1</th>\n",
       "      <td>2</td>\n",
       "      <td>水田</td>\n",
       "      <td>碳酸岩</td>\n",
       "      <td>水稻土</td>\n",
       "      <td>潴育型水稻土</td>\n",
       "      <td>潮泥田</td>\n",
       "      <td>潮泥田</td>\n",
       "    </tr>\n",
       "    <tr>\n",
       "      <th>2</th>\n",
       "      <td>3</td>\n",
       "      <td>水田</td>\n",
       "      <td>河流冲积物</td>\n",
       "      <td>水稻土</td>\n",
       "      <td>潴育型水稻土</td>\n",
       "      <td>潮泥田</td>\n",
       "      <td>潮泥田</td>\n",
       "    </tr>\n",
       "    <tr>\n",
       "      <th>3</th>\n",
       "      <td>4</td>\n",
       "      <td>水田</td>\n",
       "      <td>河流冲积物</td>\n",
       "      <td>水稻土</td>\n",
       "      <td>潴育型水稻土</td>\n",
       "      <td>潮泥田</td>\n",
       "      <td>潮泥田</td>\n",
       "    </tr>\n",
       "    <tr>\n",
       "      <th>4</th>\n",
       "      <td>5</td>\n",
       "      <td>水田</td>\n",
       "      <td>碳酸岩</td>\n",
       "      <td>水稻土</td>\n",
       "      <td>潴育型水稻土</td>\n",
       "      <td>潮砂泥田</td>\n",
       "      <td>潮砂泥田</td>\n",
       "    </tr>\n",
       "    <tr>\n",
       "      <th>...</th>\n",
       "      <td>...</td>\n",
       "      <td>...</td>\n",
       "      <td>...</td>\n",
       "      <td>...</td>\n",
       "      <td>...</td>\n",
       "      <td>...</td>\n",
       "      <td>...</td>\n",
       "    </tr>\n",
       "    <tr>\n",
       "      <th>3511</th>\n",
       "      <td>3535</td>\n",
       "      <td>乔木林地</td>\n",
       "      <td>碳酸岩</td>\n",
       "      <td>石灰土</td>\n",
       "      <td>黑色石灰土</td>\n",
       "      <td>砾壤质黑色石灰土</td>\n",
       "      <td>腐中层砾壤质黑色石灰土</td>\n",
       "    </tr>\n",
       "    <tr>\n",
       "      <th>3512</th>\n",
       "      <td>3536</td>\n",
       "      <td>乔木林地</td>\n",
       "      <td>碳酸岩</td>\n",
       "      <td>石灰土</td>\n",
       "      <td>黑色石灰土</td>\n",
       "      <td>砾壤质黑色石灰土</td>\n",
       "      <td>腐中层砾壤质黑色石灰土</td>\n",
       "    </tr>\n",
       "    <tr>\n",
       "      <th>3513</th>\n",
       "      <td>3537</td>\n",
       "      <td>灌木林地</td>\n",
       "      <td>碳酸岩</td>\n",
       "      <td>石灰土</td>\n",
       "      <td>黑色石灰土</td>\n",
       "      <td>砾壤质黑色石灰土</td>\n",
       "      <td>腐中层砾壤质黑色石灰土</td>\n",
       "    </tr>\n",
       "    <tr>\n",
       "      <th>3514</th>\n",
       "      <td>3538</td>\n",
       "      <td>其他草地</td>\n",
       "      <td>碳酸岩</td>\n",
       "      <td>石灰土</td>\n",
       "      <td>黑色石灰土</td>\n",
       "      <td>砾壤质黑色石灰土</td>\n",
       "      <td>腐中层砾壤质黑色石灰土</td>\n",
       "    </tr>\n",
       "    <tr>\n",
       "      <th>3515</th>\n",
       "      <td>3539</td>\n",
       "      <td>其他草地</td>\n",
       "      <td>碳酸岩</td>\n",
       "      <td>石灰土</td>\n",
       "      <td>黑色石灰土</td>\n",
       "      <td>砾壤质黑色石灰土</td>\n",
       "      <td>腐中层砾壤质黑色石灰土</td>\n",
       "    </tr>\n",
       "  </tbody>\n",
       "</table>\n",
       "<p>3516 rows × 7 columns</p>\n",
       "</div>"
      ],
      "text/plain": [
       "      OBJECTID  DLMC      母质   TL      YL        TS           TZ\n",
       "0            1    水田  第四系红粘土  水稻土  潴育型水稻土       红泥田         黄红泥田\n",
       "1            2    水田     碳酸岩  水稻土  潴育型水稻土       潮泥田          潮泥田\n",
       "2            3    水田   河流冲积物  水稻土  潴育型水稻土       潮泥田          潮泥田\n",
       "3            4    水田   河流冲积物  水稻土  潴育型水稻土       潮泥田          潮泥田\n",
       "4            5    水田     碳酸岩  水稻土  潴育型水稻土      潮砂泥田         潮砂泥田\n",
       "...        ...   ...     ...  ...     ...       ...          ...\n",
       "3511      3535  乔木林地     碳酸岩  石灰土   黑色石灰土  砾壤质黑色石灰土  腐中层砾壤质黑色石灰土\n",
       "3512      3536  乔木林地     碳酸岩  石灰土   黑色石灰土  砾壤质黑色石灰土  腐中层砾壤质黑色石灰土\n",
       "3513      3537  灌木林地     碳酸岩  石灰土   黑色石灰土  砾壤质黑色石灰土  腐中层砾壤质黑色石灰土\n",
       "3514      3538  其他草地     碳酸岩  石灰土   黑色石灰土  砾壤质黑色石灰土  腐中层砾壤质黑色石灰土\n",
       "3515      3539  其他草地     碳酸岩  石灰土   黑色石灰土  砾壤质黑色石灰土  腐中层砾壤质黑色石灰土\n",
       "\n",
       "[3516 rows x 7 columns]"
      ]
     },
     "execution_count": 5,
     "metadata": {},
     "output_type": "execute_result"
    }
   ],
   "source": [
    "data_df"
   ]
  },
  {
   "cell_type": "code",
   "execution_count": 6,
   "metadata": {},
   "outputs": [
    {
     "data": {
      "text/plain": [
       "(黄浅白粉泥田          1332\n",
       " 腐薄层硅质黄壤          295\n",
       " 腐中层灰泥质黄壤         289\n",
       " 腐厚层泥质黄壤          159\n",
       " 腐中层壤质黄色石灰土       117\n",
       "                 ... \n",
       " 腐薄层硅质山地灌丛草甸土       5\n",
       " 厚层红泥质黄壤            5\n",
       " 薄层砾壤质黑色石灰土         5\n",
       " 黄浅鳝泥田              5\n",
       " 腐中层砾壤质黑色石灰土        5\n",
       " Name: TZ, Length: 64, dtype: int64,\n",
       " 64)"
      ]
     },
     "execution_count": 6,
     "metadata": {},
     "output_type": "execute_result"
    }
   ],
   "source": [
    "data_df['TZ'].value_counts(),len(list(data_df['TZ'].value_counts()))"
   ]
  },
  {
   "cell_type": "code",
   "execution_count": 8,
   "metadata": {},
   "outputs": [
    {
     "data": {
      "text/plain": [
       "(浅白粉泥田        1332\n",
       " 硅质黄壤          415\n",
       " 灰泥质黄壤         346\n",
       " 泥质黄壤          185\n",
       " 壤质黄色石灰土       160\n",
       " 红泥质黄壤         159\n",
       " 壤质酸性紫色土       120\n",
       " 潮泥田           115\n",
       " 红泥田            80\n",
       " 壤质黑色石灰土        72\n",
       " 硅质酸性粗骨土        71\n",
       " 泥砂质黄壤          65\n",
       " 黏质黄色石灰土        54\n",
       " 浅红泥田           48\n",
       " 石灰泥田           45\n",
       " 灰泥质黄色石灰土       43\n",
       " 浅灰泥田           33\n",
       " 砾壤质黑色石灰土       21\n",
       " 砂泥质黄壤          20\n",
       " 壤质中性紫色土        20\n",
       " 硅质山地灌丛草甸土      20\n",
       " 青白粉泥田          19\n",
       " 砾硅质黄壤          18\n",
       " 潮砂泥田           16\n",
       " 紫泥田            12\n",
       " 青灰泥田           12\n",
       " 青砂泥田           10\n",
       " 浅鳝泥田            5\n",
       " Name: TS, dtype: int64,\n",
       " 28)"
      ]
     },
     "execution_count": 8,
     "metadata": {},
     "output_type": "execute_result"
    }
   ],
   "source": [
    "data_df['TS'].value_counts(),len(list(data_df['TS'].value_counts()))"
   ]
  }
 ],
 "metadata": {
  "kernelspec": {
   "display_name": "Python 3",
   "language": "python",
   "name": "python3"
  },
  "language_info": {
   "codemirror_mode": {
    "name": "ipython",
    "version": 3
   },
   "file_extension": ".py",
   "mimetype": "text/x-python",
   "name": "python",
   "nbconvert_exporter": "python",
   "pygments_lexer": "ipython3",
   "version": "3.9.11"
  }
 },
 "nbformat": 4,
 "nbformat_minor": 2
}
