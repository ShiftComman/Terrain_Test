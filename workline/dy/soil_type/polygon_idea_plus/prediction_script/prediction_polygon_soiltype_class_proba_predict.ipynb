{
 "cells": [
  {
   "cell_type": "code",
   "execution_count": 33,
   "metadata": {},
   "outputs": [],
   "source": [
    "import os\n",
    "import json\n",
    "import pandas as pd\n",
    "import numpy as np\n",
    "from autogluon.tabular import TabularPredictor\n",
    "from pykrige.ok import OrdinaryKriging\n",
    "from sklearn.metrics import r2_score\n",
    "from pyproj import Transformer\n",
    "from tqdm import tqdm\n",
    "import pickle"
   ]
  },
  {
   "cell_type": "code",
   "execution_count": 34,
   "metadata": {},
   "outputs": [],
   "source": [
    "# 获取当前日期\n",
    "def get_dtime():\n",
    "    # 例如20240516\n",
    "    import datetime\n",
    "    dtime = datetime.datetime.now().strftime('%Y%m%d')\n",
    "    return dtime"
   ]
  },
  {
   "cell_type": "code",
   "execution_count": 35,
   "metadata": {},
   "outputs": [],
   "source": [
    "# 导入autogluon模型\n",
    "model_path = r\"F:\\cache_data\\zone_ana\\dy\\modle\\autogluon_type_class_DY\""
   ]
  },
  {
   "cell_type": "code",
   "execution_count": 36,
   "metadata": {},
   "outputs": [],
   "source": [
    "# 砂岩\n",
    "sy_sdt_predictor = TabularPredictor.load(os.path.join(os.path.join(model_path,'sy'),'sdt'))\n",
    "sy_fzrt_predictor = TabularPredictor.load(os.path.join(os.path.join(model_path,'sy'),'fzrt'))\n",
    "sy_zrt_predictor = TabularPredictor.load(os.path.join(os.path.join(model_path,'sy'),'zrt'))\n",
    "# 碳酸岩\n",
    "tsy_sdt_predictor = TabularPredictor.load(os.path.join(os.path.join(model_path,'tsy'),'sdt'))\n",
    "tsy_fzrt_predictor = TabularPredictor.load(os.path.join(os.path.join(model_path,'tsy'),'fzrt'))\n",
    "tsy_zrt_predictor = TabularPredictor.load(os.path.join(os.path.join(model_path,'tsy'),'zrt'))\n",
    "# 第四系红粘土\n",
    "hnt_sdt_predictor = TabularPredictor.load(os.path.join(os.path.join(model_path,'hnt'),'sdt'))\n",
    "hnt_fzrt_predictor = TabularPredictor.load(os.path.join(os.path.join(model_path,'hnt'),'fzrt'))\n",
    "hnt_zrt_predictor = TabularPredictor.load(os.path.join(os.path.join(model_path,'hnt'),'zrt'))\n",
    "# 泥页岩\n",
    "nyy_sdt_predictor = TabularPredictor.load(os.path.join(os.path.join(model_path,'nyy'),'sdt'))\n",
    "nyy_fzrt_predictor = TabularPredictor.load(os.path.join(os.path.join(model_path,'nyy'),'fzrt'))\n",
    "nyy_zrt_predictor = TabularPredictor.load(os.path.join(os.path.join(model_path,'nyy'),'zrt'))\n",
    "# 紫红色砂页岩\n",
    "zhsyy_sdt_predictor = TabularPredictor.load(os.path.join(os.path.join(model_path,'zhsyy'),'sdt'))\n",
    "zhsyy_fzrt_predictor = TabularPredictor.load(os.path.join(os.path.join(model_path,'zhsyy'),'fzrt'))\n",
    "zhsyy_zrt_predictor = TabularPredictor.load(os.path.join(os.path.join(model_path,'zhsyy'),'zrt'))\n",
    "# 河流冲积物\n",
    "hlcjw_sdt_predictor = TabularPredictor.load(os.path.join(os.path.join(model_path,'hlcjw'),'sdt'))\n",
    "# 砾岩\n",
    "ly_sdt_predictor = TabularPredictor.load(os.path.join(os.path.join(model_path,'ly'),'sdt'))\n",
    "ly_fzrt_predictor = TabularPredictor.load(os.path.join(os.path.join(model_path,'ly'),'fzrt'))\n",
    "ly_zrt_predictor = TabularPredictor.load(os.path.join(os.path.join(model_path,'ly'),'zrt'))\n",
    "# 第四纪冰川冲积物\n",
    "bccjw_sdt_predictor = TabularPredictor.load(os.path.join(os.path.join(model_path,'bccjw'),'sdt'))\n",
    "bccjw_fzrt_predictor = TabularPredictor.load(os.path.join(os.path.join(model_path,'bccjw'),'fzrt'))\n",
    "bccjw_zrt_predictor = TabularPredictor.load(os.path.join(os.path.join(model_path,'bccjw'),'zrt'))\n",
    "# 砂页岩\n",
    "syy_sdt_predictor = TabularPredictor.load(os.path.join(os.path.join(model_path,'syy'),'sdt'))\n",
    "syy_fzrt_predictor = TabularPredictor.load(os.path.join(os.path.join(model_path,'syy'),'fzrt'))\n",
    "syy_zrt_predictor = TabularPredictor.load(os.path.join(os.path.join(model_path,'syy'),'zrt'))"
   ]
  },
  {
   "cell_type": "code",
   "execution_count": 37,
   "metadata": {},
   "outputs": [
    {
     "name": "stdout",
     "output_type": "stream",
     "text": [
      "SDT ['Centroid_X', 'Centroid_Y', 'DEM_MAX', 'DEM_MIN', 'DEM_MEAN', 'DEM_RANGE', 'DEM_STD', 'ndvi_MEAN', 'PCA_0_MEAN', 'Slope_MAX', 'Slope_MIN', 'Slope_MEAN', 'Slope_RANGE', 'Aspect_MEAN', 'MRVBF_MAX', 'MRVBF_MIN', 'MRVBF_MEAN', 'MRVBF_RANGE', 'TopographicWetnessIndex_MEAN', 'TopographicWetnessIndex_RANGE', 'Mean_MEAN', 'PH_MEAN', 'PRE_MEAN', 'PRE_RANGE', 'SRA_MEAN', 'SRA_RANGE', 'TMP_MEAN', 'TMP_RANGE', 'VAP_MEAN', 'VAP_RANGE', 'WIND_MEAN', 'WIND_RANGE', 'PlanCurvature_MEAN', 'PlanCurvature_RANGE']\n",
      "FZRT ['DLMC', 'Centroid_X', 'Centroid_Y', 'DEM_MAX', 'DEM_MIN', 'DEM_MEAN', 'DEM_RANGE', 'DEM_STD', 'ndvi_MEAN', 'PCA_0_MEAN', 'Slope_MAX', 'Slope_MIN', 'Slope_MEAN', 'Slope_RANGE', 'Aspect_MEAN', 'MRVBF_MAX', 'MRVBF_MIN', 'MRVBF_MEAN', 'MRVBF_RANGE', 'TopographicWetnessIndex_MEAN', 'TopographicWetnessIndex_RANGE', 'Mean_MEAN', 'PH_MEAN', 'PRE_MEAN', 'PRE_RANGE', 'SRA_MEAN', 'SRA_RANGE', 'TMP_MEAN', 'TMP_RANGE', 'VAP_MEAN', 'VAP_RANGE', 'WIND_MEAN', 'WIND_RANGE', 'PlanCurvature_MEAN', 'PlanCurvature_RANGE']\n",
      "ZRT ['DLMC', 'Centroid_X', 'Centroid_Y', 'DEM_MAX', 'DEM_MIN', 'DEM_MEAN', 'DEM_RANGE', 'DEM_STD', 'ndvi_MEAN', 'PCA_0_MEAN', 'Slope_MAX', 'Slope_MIN', 'Slope_MEAN', 'Slope_RANGE', 'Aspect_MEAN', 'MRVBF_MAX', 'MRVBF_MIN', 'MRVBF_MEAN', 'MRVBF_RANGE', 'TopographicWetnessIndex_MEAN', 'TopographicWetnessIndex_RANGE', 'Mean_MEAN', 'PH_MEAN', 'PRE_MEAN', 'PRE_RANGE', 'SRA_MEAN', 'SRA_RANGE', 'TMP_MEAN', 'TMP_RANGE', 'VAP_MEAN', 'VAP_RANGE', 'WIND_MEAN', 'WIND_RANGE', 'PlanCurvature_MEAN', 'PlanCurvature_RANGE']\n"
     ]
    }
   ],
   "source": [
    "# 获取特征函数\n",
    "\n",
    "def get_feature_names(predictor):\n",
    "    feature_names = predictor.feature_metadata_in.get_features()\n",
    "    return feature_names\n",
    "sdt_feature_names = syy_sdt_predictor.feature_metadata_in.get_features()\n",
    "print(\"SDT\",sdt_feature_names)\n",
    "fzrt_feature_names = syy_fzrt_predictor.feature_metadata_in.get_features()\n",
    "print(\"FZRT\",fzrt_feature_names)\n",
    "zrt_feature_names = syy_zrt_predictor.feature_metadata_in.get_features()\n",
    "print(\"ZRT\",zrt_feature_names)"
   ]
  },
  {
   "cell_type": "code",
   "execution_count": 38,
   "metadata": {},
   "outputs": [],
   "source": [
    "# 存放预测结果的路径\n",
    "result_path =  r\"F:\\cache_data\\zone_ana\\dy\\prediction_result\""
   ]
  },
  {
   "cell_type": "code",
   "execution_count": 39,
   "metadata": {},
   "outputs": [],
   "source": [
    "# 读取数据集\n",
    "feature_path = r'F:\\cache_data\\zone_ana\\dy\\prediction_data\\result_20240619.csv'"
   ]
  },
  {
   "cell_type": "code",
   "execution_count": 40,
   "metadata": {},
   "outputs": [],
   "source": [
    "feature_df = pd.read_csv(feature_path)"
   ]
  },
  {
   "cell_type": "code",
   "execution_count": 41,
   "metadata": {},
   "outputs": [
    {
     "data": {
      "text/plain": [
       "Index(['OBJECTID', 'DLMC', '母质', 'XMin', 'YMin', 'XMax', 'YMax', 'Centroid_X',\n",
       "       'Centroid_Y', 'DEM_COUNT',\n",
       "       ...\n",
       "       'PlanCurvature_COUNT', 'PlanCurvature_AREA', 'PlanCurvature_MIN',\n",
       "       'PlanCurvature_MAX', 'PlanCurvature_RANGE', 'PlanCurvature_MEAN',\n",
       "       'PlanCurvature_STD', 'PlanCurvature_SUM', 'PlanCurvature_MEDIAN',\n",
       "       'PlanCurvature_PCT90'],\n",
       "      dtype='object', length=159)"
      ]
     },
     "execution_count": 41,
     "metadata": {},
     "output_type": "execute_result"
    }
   ],
   "source": [
    "feature_df.columns"
   ]
  },
  {
   "cell_type": "code",
   "execution_count": 42,
   "metadata": {},
   "outputs": [
    {
     "data": {
      "text/html": [
       "<div>\n",
       "<style scoped>\n",
       "    .dataframe tbody tr th:only-of-type {\n",
       "        vertical-align: middle;\n",
       "    }\n",
       "\n",
       "    .dataframe tbody tr th {\n",
       "        vertical-align: top;\n",
       "    }\n",
       "\n",
       "    .dataframe thead th {\n",
       "        text-align: right;\n",
       "    }\n",
       "</style>\n",
       "<table border=\"1\" class=\"dataframe\">\n",
       "  <thead>\n",
       "    <tr style=\"text-align: right;\">\n",
       "      <th></th>\n",
       "      <th>OBJECTID</th>\n",
       "      <th>DLMC</th>\n",
       "      <th>母质</th>\n",
       "      <th>XMin</th>\n",
       "      <th>YMin</th>\n",
       "      <th>XMax</th>\n",
       "      <th>YMax</th>\n",
       "      <th>Centroid_X</th>\n",
       "      <th>Centroid_Y</th>\n",
       "      <th>DEM_COUNT</th>\n",
       "      <th>...</th>\n",
       "      <th>PlanCurvature_COUNT</th>\n",
       "      <th>PlanCurvature_AREA</th>\n",
       "      <th>PlanCurvature_MIN</th>\n",
       "      <th>PlanCurvature_MAX</th>\n",
       "      <th>PlanCurvature_RANGE</th>\n",
       "      <th>PlanCurvature_MEAN</th>\n",
       "      <th>PlanCurvature_STD</th>\n",
       "      <th>PlanCurvature_SUM</th>\n",
       "      <th>PlanCurvature_MEDIAN</th>\n",
       "      <th>PlanCurvature_PCT90</th>\n",
       "    </tr>\n",
       "  </thead>\n",
       "  <tbody>\n",
       "  </tbody>\n",
       "</table>\n",
       "<p>0 rows × 159 columns</p>\n",
       "</div>"
      ],
      "text/plain": [
       "Empty DataFrame\n",
       "Columns: [OBJECTID, DLMC, 母质, XMin, YMin, XMax, YMax, Centroid_X, Centroid_Y, DEM_COUNT, DEM_AREA, DEM_MIN, DEM_MAX, DEM_RANGE, DEM_MEAN, DEM_STD, DEM_SUM, DEM_MEDIAN, DEM_PCT90, ndvi_COUNT, ndvi_AREA, ndvi_MIN, ndvi_MAX, ndvi_RANGE, ndvi_MEAN, ndvi_STD, ndvi_SUM, ndvi_MEDIAN, ndvi_PCT90, PCA_0_COUNT, PCA_0_AREA, PCA_0_MIN, PCA_0_MAX, PCA_0_RANGE, PCA_0_MEAN, PCA_0_STD, PCA_0_SUM, PCA_0_MEDIAN, PCA_0_PCT90, Slope_COUNT, Slope_AREA, Slope_MIN, Slope_MAX, Slope_RANGE, Slope_MEAN, Slope_STD, Slope_SUM, Slope_MEDIAN, Slope_PCT90, Aspect_COUNT, Aspect_AREA, Aspect_MIN, Aspect_MAX, Aspect_RANGE, Aspect_MEAN, Aspect_STD, Aspect_SUM, Aspect_MEDIAN, Aspect_PCT90, MRVBF_COUNT, MRVBF_AREA, MRVBF_MIN, MRVBF_MAX, MRVBF_RANGE, MRVBF_MEAN, MRVBF_STD, MRVBF_SUM, MRVBF_MEDIAN, MRVBF_PCT90, TopographicWetnessIndex_COUNT, TopographicWetnessIndex_AREA, TopographicWetnessIndex_MIN, TopographicWetnessIndex_MAX, TopographicWetnessIndex_RANGE, TopographicWetnessIndex_MEAN, TopographicWetnessIndex_STD, TopographicWetnessIndex_SUM, TopographicWetnessIndex_MEDIAN, TopographicWetnessIndex_PCT90, Mean_COUNT, Mean_AREA, Mean_MIN, Mean_MAX, Mean_RANGE, Mean_MEAN, Mean_STD, Mean_SUM, Mean_MEDIAN, Mean_PCT90, PH_COUNT, PH_AREA, PH_MIN, PH_MAX, PH_RANGE, PH_MEAN, PH_STD, PH_SUM, PH_MEDIAN, PH_PCT90, PRE_COUNT, ...]\n",
       "Index: []\n",
       "\n",
       "[0 rows x 159 columns]"
      ]
     },
     "execution_count": 42,
     "metadata": {},
     "output_type": "execute_result"
    }
   ],
   "source": [
    "rows_with_nan = feature_df.loc[feature_df.isnull().any(axis=1)]\n",
    "rows_with_nan"
   ]
  },
  {
   "cell_type": "code",
   "execution_count": 43,
   "metadata": {},
   "outputs": [],
   "source": [
    "# 选择数值类型的列\n",
    "numeric_cols = feature_df.select_dtypes(include=[np.float64])\n",
    "\n",
    "# 计算数值列的均值\n",
    "mean_values = numeric_cols.mean()\n",
    "\n",
    "# 用均值填充数值列的空值\n",
    "feature_df[numeric_cols.columns] = numeric_cols.fillna(mean_values)"
   ]
  },
  {
   "cell_type": "code",
   "execution_count": 44,
   "metadata": {},
   "outputs": [
    {
     "data": {
      "text/html": [
       "<div>\n",
       "<style scoped>\n",
       "    .dataframe tbody tr th:only-of-type {\n",
       "        vertical-align: middle;\n",
       "    }\n",
       "\n",
       "    .dataframe tbody tr th {\n",
       "        vertical-align: top;\n",
       "    }\n",
       "\n",
       "    .dataframe thead th {\n",
       "        text-align: right;\n",
       "    }\n",
       "</style>\n",
       "<table border=\"1\" class=\"dataframe\">\n",
       "  <thead>\n",
       "    <tr style=\"text-align: right;\">\n",
       "      <th></th>\n",
       "      <th>OBJECTID</th>\n",
       "      <th>DLMC</th>\n",
       "      <th>母质</th>\n",
       "      <th>XMin</th>\n",
       "      <th>YMin</th>\n",
       "      <th>XMax</th>\n",
       "      <th>YMax</th>\n",
       "      <th>Centroid_X</th>\n",
       "      <th>Centroid_Y</th>\n",
       "      <th>DEM_COUNT</th>\n",
       "      <th>...</th>\n",
       "      <th>PlanCurvature_COUNT</th>\n",
       "      <th>PlanCurvature_AREA</th>\n",
       "      <th>PlanCurvature_MIN</th>\n",
       "      <th>PlanCurvature_MAX</th>\n",
       "      <th>PlanCurvature_RANGE</th>\n",
       "      <th>PlanCurvature_MEAN</th>\n",
       "      <th>PlanCurvature_STD</th>\n",
       "      <th>PlanCurvature_SUM</th>\n",
       "      <th>PlanCurvature_MEDIAN</th>\n",
       "      <th>PlanCurvature_PCT90</th>\n",
       "    </tr>\n",
       "  </thead>\n",
       "  <tbody>\n",
       "  </tbody>\n",
       "</table>\n",
       "<p>0 rows × 159 columns</p>\n",
       "</div>"
      ],
      "text/plain": [
       "Empty DataFrame\n",
       "Columns: [OBJECTID, DLMC, 母质, XMin, YMin, XMax, YMax, Centroid_X, Centroid_Y, DEM_COUNT, DEM_AREA, DEM_MIN, DEM_MAX, DEM_RANGE, DEM_MEAN, DEM_STD, DEM_SUM, DEM_MEDIAN, DEM_PCT90, ndvi_COUNT, ndvi_AREA, ndvi_MIN, ndvi_MAX, ndvi_RANGE, ndvi_MEAN, ndvi_STD, ndvi_SUM, ndvi_MEDIAN, ndvi_PCT90, PCA_0_COUNT, PCA_0_AREA, PCA_0_MIN, PCA_0_MAX, PCA_0_RANGE, PCA_0_MEAN, PCA_0_STD, PCA_0_SUM, PCA_0_MEDIAN, PCA_0_PCT90, Slope_COUNT, Slope_AREA, Slope_MIN, Slope_MAX, Slope_RANGE, Slope_MEAN, Slope_STD, Slope_SUM, Slope_MEDIAN, Slope_PCT90, Aspect_COUNT, Aspect_AREA, Aspect_MIN, Aspect_MAX, Aspect_RANGE, Aspect_MEAN, Aspect_STD, Aspect_SUM, Aspect_MEDIAN, Aspect_PCT90, MRVBF_COUNT, MRVBF_AREA, MRVBF_MIN, MRVBF_MAX, MRVBF_RANGE, MRVBF_MEAN, MRVBF_STD, MRVBF_SUM, MRVBF_MEDIAN, MRVBF_PCT90, TopographicWetnessIndex_COUNT, TopographicWetnessIndex_AREA, TopographicWetnessIndex_MIN, TopographicWetnessIndex_MAX, TopographicWetnessIndex_RANGE, TopographicWetnessIndex_MEAN, TopographicWetnessIndex_STD, TopographicWetnessIndex_SUM, TopographicWetnessIndex_MEDIAN, TopographicWetnessIndex_PCT90, Mean_COUNT, Mean_AREA, Mean_MIN, Mean_MAX, Mean_RANGE, Mean_MEAN, Mean_STD, Mean_SUM, Mean_MEDIAN, Mean_PCT90, PH_COUNT, PH_AREA, PH_MIN, PH_MAX, PH_RANGE, PH_MEAN, PH_STD, PH_SUM, PH_MEDIAN, PH_PCT90, PRE_COUNT, ...]\n",
       "Index: []\n",
       "\n",
       "[0 rows x 159 columns]"
      ]
     },
     "execution_count": 44,
     "metadata": {},
     "output_type": "execute_result"
    }
   ],
   "source": [
    "rows_with_nan = feature_df.loc[feature_df.isnull().any(axis=1)]\n",
    "rows_with_nan"
   ]
  },
  {
   "cell_type": "code",
   "execution_count": 45,
   "metadata": {},
   "outputs": [],
   "source": [
    "feature_df.rename(columns={'母质':'MZ'},inplace=True)"
   ]
  },
  {
   "cell_type": "code",
   "execution_count": 46,
   "metadata": {},
   "outputs": [],
   "source": [
    "dataset = feature_df"
   ]
  },
  {
   "cell_type": "code",
   "execution_count": 47,
   "metadata": {},
   "outputs": [
    {
     "data": {
      "text/plain": [
       "Index(['OBJECTID', 'DLMC', 'MZ', 'XMin', 'YMin', 'XMax', 'YMax', 'Centroid_X',\n",
       "       'Centroid_Y', 'DEM_COUNT',\n",
       "       ...\n",
       "       'PlanCurvature_COUNT', 'PlanCurvature_AREA', 'PlanCurvature_MIN',\n",
       "       'PlanCurvature_MAX', 'PlanCurvature_RANGE', 'PlanCurvature_MEAN',\n",
       "       'PlanCurvature_STD', 'PlanCurvature_SUM', 'PlanCurvature_MEDIAN',\n",
       "       'PlanCurvature_PCT90'],\n",
       "      dtype='object', length=159)"
      ]
     },
     "execution_count": 47,
     "metadata": {},
     "output_type": "execute_result"
    }
   ],
   "source": [
    "dataset.columns"
   ]
  },
  {
   "cell_type": "code",
   "execution_count": 48,
   "metadata": {},
   "outputs": [],
   "source": [
    "\n",
    "duplicated_rows = dataset[dataset['OBJECTID'].duplicated(keep=False)]"
   ]
  },
  {
   "cell_type": "code",
   "execution_count": 49,
   "metadata": {},
   "outputs": [
    {
     "data": {
      "text/html": [
       "<div>\n",
       "<style scoped>\n",
       "    .dataframe tbody tr th:only-of-type {\n",
       "        vertical-align: middle;\n",
       "    }\n",
       "\n",
       "    .dataframe tbody tr th {\n",
       "        vertical-align: top;\n",
       "    }\n",
       "\n",
       "    .dataframe thead th {\n",
       "        text-align: right;\n",
       "    }\n",
       "</style>\n",
       "<table border=\"1\" class=\"dataframe\">\n",
       "  <thead>\n",
       "    <tr style=\"text-align: right;\">\n",
       "      <th></th>\n",
       "      <th>OBJECTID</th>\n",
       "      <th>DLMC</th>\n",
       "      <th>MZ</th>\n",
       "      <th>XMin</th>\n",
       "      <th>YMin</th>\n",
       "      <th>XMax</th>\n",
       "      <th>YMax</th>\n",
       "      <th>Centroid_X</th>\n",
       "      <th>Centroid_Y</th>\n",
       "      <th>DEM_COUNT</th>\n",
       "      <th>...</th>\n",
       "      <th>PlanCurvature_COUNT</th>\n",
       "      <th>PlanCurvature_AREA</th>\n",
       "      <th>PlanCurvature_MIN</th>\n",
       "      <th>PlanCurvature_MAX</th>\n",
       "      <th>PlanCurvature_RANGE</th>\n",
       "      <th>PlanCurvature_MEAN</th>\n",
       "      <th>PlanCurvature_STD</th>\n",
       "      <th>PlanCurvature_SUM</th>\n",
       "      <th>PlanCurvature_MEDIAN</th>\n",
       "      <th>PlanCurvature_PCT90</th>\n",
       "    </tr>\n",
       "  </thead>\n",
       "  <tbody>\n",
       "  </tbody>\n",
       "</table>\n",
       "<p>0 rows × 159 columns</p>\n",
       "</div>"
      ],
      "text/plain": [
       "Empty DataFrame\n",
       "Columns: [OBJECTID, DLMC, MZ, XMin, YMin, XMax, YMax, Centroid_X, Centroid_Y, DEM_COUNT, DEM_AREA, DEM_MIN, DEM_MAX, DEM_RANGE, DEM_MEAN, DEM_STD, DEM_SUM, DEM_MEDIAN, DEM_PCT90, ndvi_COUNT, ndvi_AREA, ndvi_MIN, ndvi_MAX, ndvi_RANGE, ndvi_MEAN, ndvi_STD, ndvi_SUM, ndvi_MEDIAN, ndvi_PCT90, PCA_0_COUNT, PCA_0_AREA, PCA_0_MIN, PCA_0_MAX, PCA_0_RANGE, PCA_0_MEAN, PCA_0_STD, PCA_0_SUM, PCA_0_MEDIAN, PCA_0_PCT90, Slope_COUNT, Slope_AREA, Slope_MIN, Slope_MAX, Slope_RANGE, Slope_MEAN, Slope_STD, Slope_SUM, Slope_MEDIAN, Slope_PCT90, Aspect_COUNT, Aspect_AREA, Aspect_MIN, Aspect_MAX, Aspect_RANGE, Aspect_MEAN, Aspect_STD, Aspect_SUM, Aspect_MEDIAN, Aspect_PCT90, MRVBF_COUNT, MRVBF_AREA, MRVBF_MIN, MRVBF_MAX, MRVBF_RANGE, MRVBF_MEAN, MRVBF_STD, MRVBF_SUM, MRVBF_MEDIAN, MRVBF_PCT90, TopographicWetnessIndex_COUNT, TopographicWetnessIndex_AREA, TopographicWetnessIndex_MIN, TopographicWetnessIndex_MAX, TopographicWetnessIndex_RANGE, TopographicWetnessIndex_MEAN, TopographicWetnessIndex_STD, TopographicWetnessIndex_SUM, TopographicWetnessIndex_MEDIAN, TopographicWetnessIndex_PCT90, Mean_COUNT, Mean_AREA, Mean_MIN, Mean_MAX, Mean_RANGE, Mean_MEAN, Mean_STD, Mean_SUM, Mean_MEDIAN, Mean_PCT90, PH_COUNT, PH_AREA, PH_MIN, PH_MAX, PH_RANGE, PH_MEAN, PH_STD, PH_SUM, PH_MEDIAN, PH_PCT90, PRE_COUNT, ...]\n",
       "Index: []\n",
       "\n",
       "[0 rows x 159 columns]"
      ]
     },
     "execution_count": 49,
     "metadata": {},
     "output_type": "execute_result"
    }
   ],
   "source": [
    "duplicated_rows"
   ]
  },
  {
   "cell_type": "code",
   "execution_count": 57,
   "metadata": {},
   "outputs": [],
   "source": [
    "# 统计总数据中各个岩石类型的总数\n",
    "value_counts_dict = dataset['MZ'].value_counts().to_dict()\n"
   ]
  },
  {
   "cell_type": "code",
   "execution_count": 59,
   "metadata": {},
   "outputs": [
    {
     "name": "stdout",
     "output_type": "stream",
     "text": [
      "35158 35158\n"
     ]
    }
   ],
   "source": [
    "# 筛选砂岩水稻土数据\n",
    "sy_sdt_data = dataset[dataset['DLMC'].isin(['水田','水浇地','坑塘水面','养殖坑塘','内陆滩涂']) \n",
    "                      & (dataset['MZ'] == '砂岩')]\n",
    "# 筛砂岩选非自然土数据\n",
    "sy_fzrt_data = dataset[~dataset['DLMC'].isin(['乔木林地','灌木林地','竹林地','其他林地','其他草地','天然牧草地','人工牧草地','水田','水浇地','坑塘水面','养殖坑塘','内陆滩涂']) \n",
    "                       & (dataset['MZ'] == '砂岩')]\n",
    "# 筛选自然土数据\n",
    "sy_zrt_data = dataset[dataset['DLMC'].isin(['乔木林地','灌木林地','竹林地','其他林地','其他草地','天然牧草地','人工牧草地'])\n",
    "                   & (dataset['MZ'] == '砂岩')]\n",
    "print(sy_sdt_data.shape[0]+sy_fzrt_data.shape[0]+sy_zrt_data.shape[0],value_counts_dict['砂岩'])"
   ]
  },
  {
   "cell_type": "code",
   "execution_count": 61,
   "metadata": {},
   "outputs": [
    {
     "name": "stdout",
     "output_type": "stream",
     "text": [
      "49993 49993\n"
     ]
    }
   ],
   "source": [
    "# 筛选碳酸岩水稻土数据\n",
    "tsy_sdt_data = dataset[dataset['DLMC'].isin(['水田','水浇地','坑塘水面','养殖坑塘','内陆滩涂']) \n",
    "                      & (dataset['MZ'] == '碳酸岩')]\n",
    "\n",
    "# 筛选碳酸岩选非自然土数据\n",
    "tsy_fzrt_data = dataset[~dataset['DLMC'].isin(['乔木林地','灌木林地','竹林地','其他林地','其他草地','天然牧草地','人工牧草地','水田','水浇地','坑塘水面','养殖坑塘','内陆滩涂']) \n",
    "                        &(dataset['MZ'] == '碳酸岩')]\n",
    "\n",
    "# 筛选碳酸岩自然土数据\n",
    "tsy_zrt_data = dataset[dataset['DLMC'].isin(['乔木林地','灌木林地','竹林地','其他林地','其他草地','天然牧草地','人工牧草地'])\n",
    "                   & (dataset['MZ'] == '碳酸岩')]\n",
    "print(tsy_sdt_data.shape[0]+tsy_fzrt_data.shape[0]+tsy_zrt_data.shape[0],value_counts_dict['碳酸岩'])"
   ]
  },
  {
   "cell_type": "code",
   "execution_count": 62,
   "metadata": {},
   "outputs": [
    {
     "name": "stdout",
     "output_type": "stream",
     "text": [
      "22985 22985\n"
     ]
    }
   ],
   "source": [
    "# 筛选第四系红粘土水稻土数据\n",
    "hnt_sdt_data = dataset[dataset['DLMC'].isin(['水田','水浇地','坑塘水面','养殖坑塘','内陆滩涂']) \n",
    "                      & (dataset['MZ'] == '第四系红粘土')]\n",
    "\n",
    "# 筛选第四系红粘土非自然土数据\n",
    "hnt_fzrt_data = dataset[~dataset['DLMC'].isin(['乔木林地','灌木林地','竹林地','其他林地','其他草地','天然牧草地','人工牧草地','水田','水浇地','坑塘水面','养殖坑塘','内陆滩涂']) \n",
    "                       & (dataset['MZ'] == '第四系红粘土')]\n",
    "\n",
    "# 筛选第四系红粘土自然土数据\n",
    "hnt_zrt_data = dataset[dataset['DLMC'].isin(['乔木林地','灌木林地','竹林地','其他林地','其他草地','天然牧草地','人工牧草地'])\n",
    "                   & (dataset['MZ'] == '第四系红粘土')]\n",
    "print(hnt_sdt_data.shape[0]+hnt_fzrt_data.shape[0]+hnt_zrt_data.shape[0],value_counts_dict['第四系红粘土'])"
   ]
  },
  {
   "cell_type": "code",
   "execution_count": 63,
   "metadata": {},
   "outputs": [
    {
     "name": "stdout",
     "output_type": "stream",
     "text": [
      "32962 32962\n"
     ]
    }
   ],
   "source": [
    "# 筛选泥(页)岩水稻土数据\n",
    "nyy_sdt_data = dataset[dataset['DLMC'].isin(['水田','水浇地','坑塘水面','养殖坑塘','内陆滩涂']) \n",
    "                      & (dataset['MZ'] == '泥(页)岩')]\n",
    "\n",
    "# 筛选泥(页)岩非自然土数据\n",
    "nyy_fzrt_data = dataset[~dataset['DLMC'].isin(['乔木林地','灌木林地','竹林地','其他林地','其他草地','天然牧草地','人工牧草地','水田','水浇地','坑塘水面','养殖坑塘','内陆滩涂']) \n",
    "                       & (dataset['MZ'] == '泥(页)岩')]\n",
    "\n",
    "# 筛选泥(页)岩自然土数据\n",
    "nyy_zrt_data = dataset[dataset['DLMC'].isin(['乔木林地','灌木林地','竹林地','其他林地','其他草地','天然牧草地','人工牧草地'])\n",
    "                   & (dataset['MZ'] == '泥(页)岩')]\n",
    "print(nyy_sdt_data.shape[0]+nyy_fzrt_data.shape[0]+nyy_zrt_data.shape[0],value_counts_dict['泥(页)岩'])"
   ]
  },
  {
   "cell_type": "code",
   "execution_count": 64,
   "metadata": {},
   "outputs": [
    {
     "name": "stdout",
     "output_type": "stream",
     "text": [
      "178 178\n"
     ]
    }
   ],
   "source": [
    "# 筛选紫红色砂页岩水稻土数据\n",
    "zhsyy_sdt_data = dataset[dataset['DLMC'].isin(['水田','水浇地','坑塘水面','养殖坑塘','内陆滩涂']) \n",
    "                      &(dataset['MZ'] == '紫红色砂页岩')]\n",
    "\n",
    "# 筛选紫红色砂页岩非自然土数据\n",
    "zhsyy_fzrt_data = dataset[~dataset['DLMC'].isin(['乔木林地','灌木林地','竹林地','其他林地','其他草地','天然牧草地','人工牧草地','水田','水浇地','坑塘水面','养殖坑塘','内陆滩涂']) \n",
    "                       & (dataset['MZ'] == '紫红色砂页岩')]\n",
    "\n",
    "# 筛选紫红色砂页岩自然土数据\n",
    "zhsyy_zrt_data = dataset[dataset['DLMC'].isin(['乔木林地','灌木林地','竹林地','其他林地','其他草地','天然牧草地','人工牧草地'])\n",
    "                   & (dataset['MZ'] == '紫红色砂页岩')]\n",
    "print(zhsyy_sdt_data.shape[0]+zhsyy_fzrt_data.shape[0]+zhsyy_zrt_data.shape[0],value_counts_dict['紫红色砂页岩'])"
   ]
  },
  {
   "cell_type": "code",
   "execution_count": 67,
   "metadata": {},
   "outputs": [
    {
     "name": "stdout",
     "output_type": "stream",
     "text": [
      "4749 4749\n"
     ]
    }
   ],
   "source": [
    "# 筛选河流冲积物水稻土数据\n",
    "hlcjw_sdt_data = dataset[(dataset['MZ'] == '河流冲积物')]\n",
    "print(hlcjw_sdt_data.shape[0],value_counts_dict['河流冲积物'])"
   ]
  },
  {
   "cell_type": "code",
   "execution_count": 73,
   "metadata": {},
   "outputs": [
    {
     "name": "stdout",
     "output_type": "stream",
     "text": [
      "754 754\n"
     ]
    }
   ],
   "source": [
    "# 筛选砾岩水稻土数据\n",
    "ly_sdt_data = dataset[dataset['DLMC'].isin(['水田','水浇地','坑塘水面','养殖坑塘','内陆滩涂']) \n",
    "                      & (dataset['MZ'] == '砾岩')]\n",
    "\n",
    "# 筛选砾岩非自然土数据\n",
    "ly_fzrt_data = dataset[~dataset['DLMC'].isin(['乔木林地','灌木林地','竹林地','其他林地','其他草地','天然牧草地','人工牧草地','水田','水浇地','坑塘水面','养殖坑塘','内陆滩涂']) \n",
    "                       & (dataset['MZ'] == '砾岩')]\n",
    "\n",
    "# 筛选砾岩非自然土数据\n",
    "ly_zrt_data = dataset[dataset['DLMC'].isin(['乔木林地','灌木林地','竹林地','其他林地','其他草地','天然牧草地','人工牧草地']) \n",
    "                       & (dataset['MZ'] == '砾岩')]\n",
    "print(ly_sdt_data.shape[0]+ly_fzrt_data.shape[0]+ly_zrt_data.shape[0],value_counts_dict['砾岩'])"
   ]
  },
  {
   "cell_type": "code",
   "execution_count": 74,
   "metadata": {},
   "outputs": [
    {
     "name": "stdout",
     "output_type": "stream",
     "text": [
      "131 131\n"
     ]
    }
   ],
   "source": [
    "# 筛选第四纪冰川冲积物水稻土数据\n",
    "bccjw_sdt_data = dataset[dataset['DLMC'].isin(['水田','水浇地','坑塘水面','养殖坑塘','内陆滩涂']) \n",
    "                     & (dataset['MZ'] == '第四纪冰川冲积物')]\n",
    "\n",
    "# 筛选第四纪冰川冲积物非自然土数据\n",
    "bccjw_fzrt_data = dataset[~dataset['DLMC'].isin(['乔木林地','灌木林地','竹林地','其他林地','其他草地','天然牧草地','人工牧草地','水田','水浇地','坑塘水面','养殖坑塘','内陆滩涂']) \n",
    "                       & (dataset['MZ'] == '第四纪冰川冲积物')]\n",
    "\n",
    "# 筛选第四纪冰川冲积物自然土数据\n",
    "bccjw_zrt_data = dataset[dataset['DLMC'].isin(['乔木林地','灌木林地','竹林地','其他林地','其他草地','天然牧草地','人工牧草地'])\n",
    "                   & (dataset['MZ'] == '第四纪冰川冲积物')]\n",
    "print(bccjw_sdt_data.shape[0]+bccjw_fzrt_data.shape[0]+bccjw_zrt_data.shape[0],value_counts_dict['第四纪冰川冲积物'])"
   ]
  },
  {
   "cell_type": "code",
   "execution_count": 75,
   "metadata": {},
   "outputs": [
    {
     "name": "stdout",
     "output_type": "stream",
     "text": [
      "366 366\n"
     ]
    }
   ],
   "source": [
    "# 筛选砂页岩水稻土数据\n",
    "syy_sdt_data = dataset[dataset['DLMC'].isin(['水田','水浇地','坑塘水面','养殖坑塘','内陆滩涂']) \n",
    "                      & (dataset['MZ'] == '砂页岩')]\n",
    "\n",
    "# 筛选砂页岩非自然土数据\n",
    "syy_fzrt_data = dataset[~dataset['DLMC'].isin(['乔木林地','灌木林地','竹林地','其他林地','其他草地','天然牧草地','人工牧草地','水田','水浇地','坑塘水面','养殖坑塘','内陆滩涂']) \n",
    "                       & (dataset['MZ'] == '砂页岩')]\n",
    "\n",
    "# 筛选砂页岩物自然土数据\n",
    "syy_zrt_data = dataset[dataset['DLMC'].isin(['乔木林地','灌木林地','竹林地','其他林地','其他草地','天然牧草地','人工牧草地'])\n",
    "                   & (dataset['MZ'] == '砂页岩')]\n",
    "print(syy_sdt_data.shape[0]+syy_fzrt_data.shape[0]+syy_zrt_data.shape[0],value_counts_dict['砂页岩'])"
   ]
  },
  {
   "cell_type": "code",
   "execution_count": 76,
   "metadata": {},
   "outputs": [
    {
     "name": "stdout",
     "output_type": "stream",
     "text": [
      "砂岩 (6716, 159) (12964, 159) (15478, 159)\n",
      "碳酸岩 (7055, 159) (20838, 159) (22100, 159)\n",
      "第四系红粘土 (3194, 159) (10729, 159) (9062, 159)\n",
      "泥页岩 (5839, 159) (14127, 159) (12996, 159)\n",
      "紫红色砂页岩 (18, 159) (80, 159) (80, 159)\n",
      "河流冲积物 (4749, 159)\n",
      "砾岩 (44, 159) (352, 159) (358, 159)\n",
      "第四纪冰川冲积物 (5, 159) (58, 159) (68, 159)\n",
      "砂页岩 (23, 159) (215, 159) (128, 159)\n"
     ]
    }
   ],
   "source": [
    "# 查看各个数据集的大小\n",
    "print('砂岩',sy_sdt_data.shape,sy_fzrt_data.shape,sy_zrt_data.shape)\n",
    "print('碳酸岩',tsy_sdt_data.shape,tsy_fzrt_data.shape,tsy_zrt_data.shape)\n",
    "print('第四系红粘土',hnt_sdt_data.shape,hnt_fzrt_data.shape,hnt_zrt_data.shape)\n",
    "print('泥页岩',nyy_sdt_data.shape,nyy_fzrt_data.shape,nyy_zrt_data.shape)\n",
    "print('紫红色砂页岩',zhsyy_sdt_data.shape,zhsyy_fzrt_data.shape,zhsyy_zrt_data.shape)\n",
    "print('河流冲积物',hlcjw_sdt_data.shape)\n",
    "print('砾岩',ly_sdt_data.shape,ly_fzrt_data.shape,ly_zrt_data.shape)\n",
    "print('第四纪冰川冲积物',bccjw_sdt_data.shape,bccjw_fzrt_data.shape,bccjw_zrt_data.shape)\n",
    "print('砂页岩',syy_sdt_data.shape,syy_fzrt_data.shape,syy_zrt_data.shape)\n",
    "\n"
   ]
  },
  {
   "cell_type": "code",
   "execution_count": 77,
   "metadata": {},
   "outputs": [],
   "source": [
    "# 获取对照字典\n",
    "with open(r'D:\\worker_code\\Terrain_Test\\data\\soil_dict_20240619.json', 'r') as f:\n",
    "    soil_dict = json.load(f)\n",
    "# 将键转为int\n",
    "soil_dict = {int(k):v for k, v in soil_dict.items()}"
   ]
  },
  {
   "cell_type": "code",
   "execution_count": 78,
   "metadata": {},
   "outputs": [],
   "source": [
    "# 模型选择\n",
    "select_model = 'WeightedEnsemble_L2'\n",
    "# sdt_model = 'WeightedEnsemble_L2'"
   ]
  },
  {
   "cell_type": "code",
   "execution_count": 80,
   "metadata": {},
   "outputs": [],
   "source": [
    "# 概率预测函数\n",
    "def predict_top_classes(data, predictor,feature_names, model, top_n, soil_dict):\n",
    "    \"\"\"\n",
    "    根据给定的AutoGluon模型，预测数据集中的前n个最可能的类别及其概率，并根据提供的字典转换类别编号为描述字符串。\n",
    "    参数:\n",
    "    data (DataFrame): 输入的数据集。\n",
    "    predictor（model）: 对应的模型\n",
    "    feature_names (list): 用于预测的特征名列表。\n",
    "    model (str): 选择的模型名称。\n",
    "    top_n (int): 需要返回的最高概率的类别数量。\n",
    "    soil_dict (dict): 类别编号到描述字符串的映射字典。\n",
    "    \n",
    "    返回:\n",
    "    DataFrame: 原始数据与预测结果合并后的DataFrame。\n",
    "    \"\"\"\n",
    "    # 复制数据\n",
    "    data = data.copy()\n",
    "    # 预测概率\n",
    "    pred_probs = predictor.predict_proba(data[feature_names], model=model)\n",
    "    # 获取概率最高的前n个类别及其概率\n",
    "    top_classes = pred_probs.apply(lambda x: pd.Series(x.nlargest(top_n).index.astype(int).tolist() + x.nlargest(top_n).values.tolist()), axis=1)\n",
    "    # 重命名列\n",
    "    class_cols = ['Class{}'.format(i+1) for i in range(top_n)]\n",
    "    prob_cols = ['Prob{}'.format(i+1) for i in range(top_n)]\n",
    "    top_classes.columns = class_cols + prob_cols\n",
    "    # 转换类别编号为描述字符串\n",
    "    for col in class_cols:\n",
    "        top_classes[col] = top_classes[col].map(soil_dict)\n",
    "    # 计算每个预测的熵\n",
    "    entropy = pred_probs.apply(lambda x: -np.sum(x * np.log(x + 1e-9)), axis=1)\n",
    "    top_classes['Entropy'] = entropy\n",
    "    # 计算每个预测的不确定性（标准差）\n",
    "    uncertainty = pred_probs.std(axis=1)\n",
    "    top_classes['Uncertainty'] = uncertainty\n",
    "    # 将新列添加到原有的DataFrame中\n",
    "    return pd.concat([data, top_classes], axis=1)"
   ]
  },
  {
   "cell_type": "code",
   "execution_count": 81,
   "metadata": {},
   "outputs": [],
   "source": [
    "# 模型预测\n",
    "sy_sdt_result_df = predict_top_classes(sy_sdt_data, sy_sdt_predictor,get_feature_names(sy_sdt_predictor), select_model, 2, soil_dict)\n",
    "sy_fzrt_result_df = predict_top_classes(sy_fzrt_data, sy_fzrt_predictor,get_feature_names(sy_fzrt_predictor), select_model, 2, soil_dict)\n",
    "sy_zrt_result_df = predict_top_classes(sy_zrt_data, sy_zrt_predictor,get_feature_names(sy_zrt_predictor), select_model, 2, soil_dict)\n",
    "\n",
    "tsy_sdt_result_df = predict_top_classes(tsy_sdt_data, tsy_sdt_predictor,get_feature_names(tsy_sdt_predictor), select_model, 2, soil_dict)\n",
    "tsy_fzrt_result_df = predict_top_classes(tsy_fzrt_data, tsy_fzrt_predictor,get_feature_names(tsy_fzrt_predictor), select_model, 2, soil_dict)\n",
    "tsy_zrt_result_df = predict_top_classes(tsy_zrt_data, tsy_zrt_predictor,get_feature_names(tsy_zrt_predictor), select_model, 2, soil_dict)\n",
    "\n",
    "hnt_sdt_result_df = predict_top_classes(hnt_sdt_data, hnt_sdt_predictor,get_feature_names(hnt_sdt_predictor), select_model, 2, soil_dict)\n",
    "hnt_fzrt_result_df = predict_top_classes(hnt_fzrt_data, hnt_fzrt_predictor,get_feature_names(hnt_fzrt_predictor), select_model, 2, soil_dict)\n",
    "hnt_zrt_result_df = predict_top_classes(hnt_zrt_data, hnt_zrt_predictor,get_feature_names(hnt_zrt_predictor), select_model, 2, soil_dict)\n",
    "\n",
    "nyy_sdt_result_df = predict_top_classes(nyy_sdt_data, nyy_sdt_predictor,get_feature_names(nyy_sdt_predictor), select_model, 2, soil_dict)\n",
    "nyy_fzrt_result_df = predict_top_classes(nyy_fzrt_data, nyy_fzrt_predictor,get_feature_names(nyy_fzrt_predictor), select_model, 2, soil_dict)\n",
    "nyy_zrt_result_df = predict_top_classes(nyy_zrt_data, nyy_zrt_predictor,get_feature_names(nyy_zrt_predictor), select_model, 2, soil_dict)\n",
    "\n",
    "zhsyy_sdt_result_df = predict_top_classes(zhsyy_sdt_data, zhsyy_sdt_predictor,get_feature_names(zhsyy_sdt_predictor), select_model, 2, soil_dict)\n",
    "zhsyy_fzrt_result_df = predict_top_classes(zhsyy_fzrt_data, zhsyy_fzrt_predictor,get_feature_names(zhsyy_fzrt_predictor), select_model, 2, soil_dict)\n",
    "zhsyy_zrt_result_df = predict_top_classes(zhsyy_zrt_data, zhsyy_zrt_predictor,get_feature_names(zhsyy_zrt_predictor), select_model, 2, soil_dict)\n",
    "\n",
    "hlcjw_sdt_result_df = predict_top_classes(hlcjw_sdt_data, hlcjw_sdt_predictor,get_feature_names(hlcjw_sdt_predictor), select_model, 2, soil_dict)\n",
    "\n",
    "\n",
    "ly_sdt_result_df = predict_top_classes(ly_sdt_data, ly_sdt_predictor,get_feature_names(ly_sdt_predictor), select_model, 2, soil_dict)\n",
    "ly_fzrt_result_df = predict_top_classes(ly_fzrt_data, ly_fzrt_predictor,get_feature_names(ly_fzrt_predictor), select_model, 2, soil_dict)\n",
    "ly_zrt_result_df = predict_top_classes(ly_zrt_data, ly_zrt_predictor,get_feature_names(ly_zrt_predictor), select_model, 2, soil_dict)\n",
    "\n",
    "bccjw_sdt_result_df = predict_top_classes(bccjw_sdt_data, bccjw_sdt_predictor,get_feature_names(bccjw_sdt_predictor), select_model, 2, soil_dict)\n",
    "bccjw_fzrt_result_df = predict_top_classes(bccjw_fzrt_data, bccjw_fzrt_predictor,get_feature_names(bccjw_fzrt_predictor), select_model, 2, soil_dict)\n",
    "bccjw_zrt_result_df = predict_top_classes(bccjw_zrt_data, bccjw_zrt_predictor,get_feature_names(bccjw_zrt_predictor), select_model, 2, soil_dict)\n",
    "\n",
    "syy_sdt_result_df = predict_top_classes(syy_sdt_data, syy_sdt_predictor,get_feature_names(syy_sdt_predictor), select_model, 2, soil_dict)\n",
    "syy_fzrt_result_df = predict_top_classes(syy_fzrt_data, syy_fzrt_predictor,get_feature_names(syy_fzrt_predictor), select_model, 2, soil_dict)\n",
    "syy_zrt_result_df = predict_top_classes(syy_zrt_data, syy_zrt_predictor,get_feature_names(syy_zrt_predictor), select_model, 2, soil_dict)"
   ]
  },
  {
   "cell_type": "code",
   "execution_count": 82,
   "metadata": {},
   "outputs": [],
   "source": [
    "# 将所有的DataFrame放入一个列表中\n",
    "dfs = [\n",
    "    sy_sdt_result_df, sy_fzrt_result_df, sy_zrt_result_df,\n",
    "    tsy_sdt_result_df, tsy_fzrt_result_df, tsy_zrt_result_df,\n",
    "    hnt_sdt_result_df, hnt_fzrt_result_df, hnt_zrt_result_df,\n",
    "    nyy_sdt_result_df, nyy_fzrt_result_df, nyy_zrt_result_df,\n",
    "    zhsyy_sdt_result_df, zhsyy_fzrt_result_df, zhsyy_zrt_result_df,\n",
    "    hlcjw_sdt_result_df,\n",
    "    ly_sdt_result_df, ly_fzrt_result_df, ly_zrt_result_df,\n",
    "    bccjw_sdt_result_df, bccjw_fzrt_result_df, bccjw_zrt_result_df,\n",
    "    syy_sdt_result_df, syy_fzrt_result_df, syy_zrt_result_df\n",
    "]\n",
    "\n",
    "# 使用pd.concat合并所有的DataFrame\n",
    "result_df = pd.concat(dfs, ignore_index=True)\n"
   ]
  },
  {
   "cell_type": "code",
   "execution_count": 84,
   "metadata": {},
   "outputs": [
    {
     "data": {
      "text/plain": [
       "Index(['OBJECTID', 'DLMC', 'MZ', 'XMin', 'YMin', 'XMax', 'YMax', 'Centroid_X',\n",
       "       'Centroid_Y', 'DEM_COUNT',\n",
       "       ...\n",
       "       'PlanCurvature_STD', 'PlanCurvature_SUM', 'PlanCurvature_MEDIAN',\n",
       "       'PlanCurvature_PCT90', 'Class1', 'Class2', 'Prob1', 'Prob2', 'Entropy',\n",
       "       'Uncertainty'],\n",
       "      dtype='object', length=165)"
      ]
     },
     "execution_count": 84,
     "metadata": {},
     "output_type": "execute_result"
    }
   ],
   "source": [
    "result_df.columns"
   ]
  },
  {
   "cell_type": "code",
   "execution_count": 85,
   "metadata": {},
   "outputs": [],
   "source": [
    "# 获取指定列\n",
    "result_df = result_df[['OBJECTID','Class1', 'Class2', 'Prob1','Prob2', 'Entropy', 'Uncertainty']]"
   ]
  },
  {
   "cell_type": "code",
   "execution_count": 86,
   "metadata": {},
   "outputs": [],
   "source": [
    "# 获取三普土种对照字典\n",
    "# 读取Excel文件\n",
    "sp_file_path = r\"C:\\Users\\Runker\\Desktop\\search_dict3.xlsx\"\n",
    "df = pd.read_excel(sp_file_path)\n",
    "\n",
    "# 使用前向填充（ffill）处理合并单元格的情况\n",
    "df_filled = df.ffill()\n",
    "# 定义一个函数来为每一行生成一个字典\n",
    "def create_dict(row):\n",
    "    return {\n",
    "        row['TZ']: {\n",
    "            '土类': row['TL'],\n",
    "            '亚类': row['YL'],\n",
    "            '土属': row['TS'],\n",
    "        }\n",
    "    }\n",
    "\n",
    "# 使用apply方法为每一行应用这个函数，并将结果合并到一个字典中\n",
    "sp_soiltype_dict = {}\n",
    "for d in df_filled.apply(create_dict, axis=1):\n",
    "    sp_soiltype_dict.update(d)"
   ]
  },
  {
   "cell_type": "code",
   "execution_count": 87,
   "metadata": {},
   "outputs": [
    {
     "data": {
      "text/plain": [
       "{'黄红泥田': {'土类': '水稻土', '亚类': '潴育型水稻土', '土属': '红泥田'},\n",
       " '潮泥田': {'土类': '水稻土', '亚类': '潴育型水稻土', '土属': '潮泥田'},\n",
       " '黄白粉泥田': {'土类': '水稻土', '亚类': '潜育型水稻土', '土属': '青白粉泥田'},\n",
       " '石灰泥田': {'土类': '水稻土', '亚类': '潴育型水稻土', '土属': '石灰泥田'},\n",
       " '黄浅鳝泥田': {'土类': '水稻土', '亚类': '淹育型水稻土', '土属': '浅鳝泥田'},\n",
       " '青石灰泥田': {'土类': '水稻土', '亚类': '潜育型水稻土', '土属': '青灰泥田'},\n",
       " '浅石灰泥田': {'土类': '水稻土', '亚类': '淹育型水稻土', '土属': '浅灰泥田'},\n",
       " '黄青白粉泥田': {'土类': '水稻土', '亚类': '潜育型水稻土', '土属': '青白粉泥田'},\n",
       " '黄青砂泥田': {'土类': '水稻土', '亚类': '潜育型水稻土', '土属': '青砂泥田'},\n",
       " '黄浅白粉泥田': {'土类': '水稻土', '亚类': '淹育型水稻土', '土属': '浅白粉泥田'},\n",
       " '黄浅红泥田': {'土类': '水稻土', '亚类': '淹育型水稻土', '土属': '浅红泥田'},\n",
       " '中层灰泥质黄色石灰土': {'土类': '石灰土', '亚类': '黄色石灰土', '土属': '灰泥质黄色石灰土'},\n",
       " '薄层灰泥质黄色石灰土': {'土类': '石灰土', '亚类': '黄色石灰土', '土属': '灰泥质黄色石灰土'},\n",
       " '中层壤质黄色石灰土': {'土类': '石灰土', '亚类': '黄色石灰土', '土属': '壤质黄色石灰土'},\n",
       " '薄层硅质黄壤': {'土类': '黄壤', '亚类': '典型黄壤', '土属': '硅质黄壤'},\n",
       " '薄层砾硅质黄壤': {'土类': '黄壤', '亚类': '典型黄壤', '土属': '砾硅质黄壤'},\n",
       " '中层砾壤质黑色石灰土': {'土类': '石灰土', '亚类': '黑色石灰土', '土属': '砾壤质黑色石灰土'},\n",
       " '薄层砾壤质黑色石灰土': {'土类': '石灰土', '亚类': '黑色石灰土', '土属': '砾壤质黑色石灰土'},\n",
       " '中层红泥质黄壤': {'土类': '黄壤', '亚类': '典型黄壤', '土属': '红泥质黄壤'},\n",
       " '厚层红泥质黄壤': {'土类': '黄壤', '亚类': '典型黄壤', '土属': '红泥质黄壤'},\n",
       " '薄层黏质黄色石灰土': {'土类': '石灰土', '亚类': '黄色石灰土', '土属': '黏质黄色石灰土'},\n",
       " '薄层壤质黑色石灰土': {'土类': '石灰土', '亚类': '黑色石灰土', '土属': '壤质黑色石灰土'},\n",
       " '腐厚层硅质黄壤': {'土类': '黄壤', '亚类': '典型黄壤', '土属': '硅质黄壤'},\n",
       " '腐薄层硅质山地灌丛草甸土': {'土类': '山地草甸土', '亚类': '山地灌丛草甸土', '土属': '硅质山地灌丛草甸土'},\n",
       " '腐中层硅质黄壤': {'土类': '黄壤', '亚类': '典型黄壤', '土属': '硅质黄壤'},\n",
       " '腐薄层硅质黄壤': {'土类': '黄壤', '亚类': '典型黄壤', '土属': '硅质黄壤'},\n",
       " '腐中层灰泥质黄壤': {'土类': '黄壤', '亚类': '典型黄壤', '土属': '灰泥质黄壤'},\n",
       " '腐厚层灰泥质黄壤': {'土类': '黄壤', '亚类': '典型黄壤', '土属': '灰泥质黄壤'},\n",
       " '腐薄层灰泥质黄壤': {'土类': '黄壤', '亚类': '典型黄壤', '土属': '灰泥质黄壤'},\n",
       " '腐中层壤质黄色石灰土': {'土类': '石灰土', '亚类': '黄色石灰土', '土属': '壤质黄色石灰土'},\n",
       " '腐薄层泥质黄壤': {'土类': '黄壤', '亚类': '典型黄壤', '土属': '泥质黄壤'},\n",
       " '腐厚层泥质黄壤': {'土类': '黄壤', '亚类': '典型黄壤', '土属': '泥质黄壤'},\n",
       " '腐薄层黏质黄色石灰土': {'土类': '石灰土', '亚类': '黄色石灰土', '土属': '黏质黄色石灰土'},\n",
       " '腐薄层砾硅质黄壤': {'土类': '黄壤', '亚类': '典型黄壤', '土属': '砾硅质黄壤'},\n",
       " '腐薄层壤质黑色石灰土': {'土类': '石灰土', '亚类': '黑色石灰土', '土属': '壤质黑色石灰土'},\n",
       " '腐中层黏质黄色石灰土': {'土类': '石灰土', '亚类': '黄色石灰土', '土属': '黏质黄色石灰土'},\n",
       " '腐厚层黏质黄色石灰土': {'土类': '石灰土', '亚类': '黄色石灰土', '土属': '黏质黄色石灰土'},\n",
       " '腐中层红泥质黄壤': {'土类': '黄壤', '亚类': '典型黄壤', '土属': '红泥质黄壤'},\n",
       " '腐中层泥质黄壤': {'土类': '黄壤', '亚类': '典型黄壤', '土属': '泥质黄壤'},\n",
       " '腐薄层壤质黄色石灰土': {'土类': '石灰土', '亚类': '黄色石灰土', '土属': '壤质黄色石灰土'},\n",
       " '腐厚层红泥质黄壤': {'土类': '黄壤', '亚类': '典型黄壤', '土属': '红泥质黄壤'},\n",
       " '紫泥田': {'土类': '水稻土', '亚类': '潴育型水稻土', '土属': '紫泥田'},\n",
       " '中层壤质中性紫色土': {'土类': '紫色土', '亚类': '中性紫色土', '土属': '壤质中性紫色土'},\n",
       " '腐中层砂泥质黄壤': {'土类': '黄壤', '亚类': '典型黄壤', '土属': '砂泥质黄壤'},\n",
       " '腐薄层砂泥质黄壤': {'土类': '黄壤', '亚类': '典型黄壤', '土属': '砂泥质黄壤'},\n",
       " '腐厚层砂泥质黄壤': {'土类': '黄壤', '亚类': '典型黄壤', '土属': '砂泥质黄壤'},\n",
       " '中层壤质酸性紫色土': {'土类': '紫色土', '亚类': '酸性紫色土', '土属': '壤质酸性紫色土'},\n",
       " '腐中层壤质酸性紫色土': {'土类': '紫色土', '亚类': '酸性紫色土', '土属': '壤质酸性紫色土'},\n",
       " '薄层壤质酸性紫色土': {'土类': '紫色土', '亚类': '酸性紫色土', '土属': '壤质酸性紫色土'},\n",
       " '腐薄层壤质酸性紫色土': {'土类': '紫色土', '亚类': '酸性紫色土', '土属': '壤质酸性紫色土'},\n",
       " '腐中层硅质山地草甸土': {'土类': '山地草甸土', '亚类': '山地灌丛草甸土', '土属': '硅质山地灌丛草甸土'},\n",
       " '腐薄层硅质山地草甸土': {'土类': '山地草甸土', '亚类': '山地灌丛草甸土', '土属': '硅质山地灌丛草甸土'},\n",
       " '中层泥砂质黄壤': {'土类': '黄壤', '亚类': '典型黄壤', '土属': '泥砂质黄壤'},\n",
       " '腐中层泥砂质黄壤': {'土类': '黄壤', '亚类': '典型黄壤', '土属': '泥砂质黄壤'},\n",
       " '腐薄层泥砂质黄壤': {'土类': '黄壤', '亚类': '典型黄壤', '土属': '泥砂质黄壤'},\n",
       " '中层硅质酸性粗骨土': {'土类': '粗骨土', '亚类': '酸性粗骨土', '土属': '硅质酸性粗骨土'},\n",
       " '厚层硅质酸性粗骨土': {'土类': '粗骨土', '亚类': '酸性粗骨土', '土属': '硅质酸性粗骨土'},\n",
       " '腐中层硅质酸性粗骨土': {'土类': '粗骨土', '亚类': '酸性粗骨土', '土属': '硅质酸性粗骨土'},\n",
       " '腐厚层硅质酸性粗骨土': {'土类': '粗骨土', '亚类': '酸性粗骨土', '土属': '硅质酸性粗骨土'},\n",
       " '腐薄层硅质酸性粗骨土': {'土类': '粗骨土', '亚类': '酸性粗骨土', '土属': '硅质酸性粗骨土'},\n",
       " '厚层黏质黄色石灰土': {'土类': '石灰土', '亚类': '黄色石灰土', '土属': '黏质黄色石灰土'},\n",
       " '中层黏质黄色石灰土': {'土类': '石灰土', '亚类': '黄色石灰土', '土属': '黏质黄色石灰土'},\n",
       " '腐中层壤质中性紫色土': {'土类': '紫色土', '亚类': '中性紫色土', '土属': '壤质中性紫色土'},\n",
       " '腐中层砾壤质黑色石灰土': {'土类': '石灰土', '亚类': '黑色石灰土', '土属': '砾壤质黑色石灰土'},\n",
       " '薄层灰泥质黄壤': {'土类': '黄壤', '亚类': '典型黄壤', '土属': '灰泥质黄壤'},\n",
       " '中层灰泥质黄壤': {'土类': '黄壤', '亚类': '典型黄壤', '土属': '灰泥质黄壤'},\n",
       " '厚层灰泥质黄壤': {'土类': '黄壤', '亚类': '典型黄壤', '土属': '灰泥质黄壤'},\n",
       " '黄鳝泥田': {'土类': '水稻土', '亚类': '潴育型水稻土', '土属': '鳝泥田'},\n",
       " '中层泥质黄壤': {'土类': '黄壤', '亚类': '典型黄壤', '土属': '泥质黄壤'},\n",
       " '薄层泥质黄壤': {'土类': '黄壤', '亚类': '典型黄壤', '土属': '泥质黄壤'},\n",
       " '厚层泥质黄壤': {'土类': '黄壤', '亚类': '典型黄壤', '土属': '泥质黄壤'},\n",
       " '黄砂泥田': {'土类': '水稻土', '亚类': '潴育型水稻土', '土属': '砂泥田'},\n",
       " '重漂砂泥田': {'土类': '水稻土', '亚类': '漂洗型水稻土', '土属': '漂砂泥田'},\n",
       " '中层砂泥质黄壤': {'土类': '黄壤', '亚类': '典型黄壤', '土属': '砂泥质黄壤'},\n",
       " '薄层砂泥质黄壤': {'土类': '黄壤', '亚类': '典型黄壤', '土属': '砂泥质黄壤'},\n",
       " '中层砂泥黄壤': {'土类': '黄壤', '亚类': '典型黄壤', '土属': '砂泥黄壤'},\n",
       " '薄层砂泥黄壤': {'土类': '黄壤', '亚类': '典型黄壤', '土属': '砂泥黄壤'}}"
      ]
     },
     "execution_count": 87,
     "metadata": {},
     "output_type": "execute_result"
    }
   ],
   "source": [
    "sp_soiltype_dict"
   ]
  },
  {
   "cell_type": "code",
   "execution_count": 88,
   "metadata": {},
   "outputs": [],
   "source": [
    "# 使用 apply 方法结合 lambda 函数来获取对应的 '土类' 值\n",
    "result_df = result_df.copy()\n",
    "result_df['Class1_tl'] = result_df['Class1'].apply(lambda x: sp_soiltype_dict.get(x, {}).get('土类', None))\n",
    "result_df['Class1_yl'] = result_df['Class1'].apply(lambda x: sp_soiltype_dict.get(x, {}).get('亚类', None))\n",
    "result_df['Class1_ts'] = result_df['Class1'].apply(lambda x: sp_soiltype_dict.get(x, {}).get('土属', None))\n"
   ]
  },
  {
   "cell_type": "code",
   "execution_count": 89,
   "metadata": {},
   "outputs": [
    {
     "data": {
      "text/html": [
       "<div>\n",
       "<style scoped>\n",
       "    .dataframe tbody tr th:only-of-type {\n",
       "        vertical-align: middle;\n",
       "    }\n",
       "\n",
       "    .dataframe tbody tr th {\n",
       "        vertical-align: top;\n",
       "    }\n",
       "\n",
       "    .dataframe thead th {\n",
       "        text-align: right;\n",
       "    }\n",
       "</style>\n",
       "<table border=\"1\" class=\"dataframe\">\n",
       "  <thead>\n",
       "    <tr style=\"text-align: right;\">\n",
       "      <th></th>\n",
       "      <th>OBJECTID</th>\n",
       "      <th>Class1</th>\n",
       "      <th>Class2</th>\n",
       "      <th>Prob1</th>\n",
       "      <th>Prob2</th>\n",
       "      <th>Entropy</th>\n",
       "      <th>Uncertainty</th>\n",
       "      <th>Class1_tl</th>\n",
       "      <th>Class1_yl</th>\n",
       "      <th>Class1_ts</th>\n",
       "    </tr>\n",
       "  </thead>\n",
       "  <tbody>\n",
       "    <tr>\n",
       "      <th>0</th>\n",
       "      <td>6</td>\n",
       "      <td>黄浅白粉泥田</td>\n",
       "      <td>黄青白粉泥田</td>\n",
       "      <td>0.999934</td>\n",
       "      <td>0.000033</td>\n",
       "      <td>0.000771</td>\n",
       "      <td>0.447177</td>\n",
       "      <td>水稻土</td>\n",
       "      <td>淹育型水稻土</td>\n",
       "      <td>浅白粉泥田</td>\n",
       "    </tr>\n",
       "    <tr>\n",
       "      <th>1</th>\n",
       "      <td>9</td>\n",
       "      <td>黄浅白粉泥田</td>\n",
       "      <td>黄青白粉泥田</td>\n",
       "      <td>0.998829</td>\n",
       "      <td>0.000428</td>\n",
       "      <td>0.010350</td>\n",
       "      <td>0.446559</td>\n",
       "      <td>水稻土</td>\n",
       "      <td>淹育型水稻土</td>\n",
       "      <td>浅白粉泥田</td>\n",
       "    </tr>\n",
       "    <tr>\n",
       "      <th>2</th>\n",
       "      <td>10</td>\n",
       "      <td>黄浅白粉泥田</td>\n",
       "      <td>黄青白粉泥田</td>\n",
       "      <td>0.997560</td>\n",
       "      <td>0.001167</td>\n",
       "      <td>0.019665</td>\n",
       "      <td>0.445850</td>\n",
       "      <td>水稻土</td>\n",
       "      <td>淹育型水稻土</td>\n",
       "      <td>浅白粉泥田</td>\n",
       "    </tr>\n",
       "    <tr>\n",
       "      <th>3</th>\n",
       "      <td>12</td>\n",
       "      <td>黄浅白粉泥田</td>\n",
       "      <td>黄青白粉泥田</td>\n",
       "      <td>0.998348</td>\n",
       "      <td>0.000633</td>\n",
       "      <td>0.014038</td>\n",
       "      <td>0.446290</td>\n",
       "      <td>水稻土</td>\n",
       "      <td>淹育型水稻土</td>\n",
       "      <td>浅白粉泥田</td>\n",
       "    </tr>\n",
       "    <tr>\n",
       "      <th>4</th>\n",
       "      <td>13</td>\n",
       "      <td>黄浅白粉泥田</td>\n",
       "      <td>黄青白粉泥田</td>\n",
       "      <td>0.998297</td>\n",
       "      <td>0.000707</td>\n",
       "      <td>0.014401</td>\n",
       "      <td>0.446262</td>\n",
       "      <td>水稻土</td>\n",
       "      <td>淹育型水稻土</td>\n",
       "      <td>浅白粉泥田</td>\n",
       "    </tr>\n",
       "    <tr>\n",
       "      <th>...</th>\n",
       "      <td>...</td>\n",
       "      <td>...</td>\n",
       "      <td>...</td>\n",
       "      <td>...</td>\n",
       "      <td>...</td>\n",
       "      <td>...</td>\n",
       "      <td>...</td>\n",
       "      <td>...</td>\n",
       "      <td>...</td>\n",
       "      <td>...</td>\n",
       "    </tr>\n",
       "    <tr>\n",
       "      <th>147271</th>\n",
       "      <td>126122</td>\n",
       "      <td>腐薄层砂泥质黄壤</td>\n",
       "      <td>腐厚层砂泥质黄壤</td>\n",
       "      <td>0.376667</td>\n",
       "      <td>0.333333</td>\n",
       "      <td>1.092963</td>\n",
       "      <td>0.043333</td>\n",
       "      <td>黄壤</td>\n",
       "      <td>典型黄壤</td>\n",
       "      <td>砂泥质黄壤</td>\n",
       "    </tr>\n",
       "    <tr>\n",
       "      <th>147272</th>\n",
       "      <td>126164</td>\n",
       "      <td>腐薄层砂泥质黄壤</td>\n",
       "      <td>腐中层砂泥质黄壤</td>\n",
       "      <td>0.506667</td>\n",
       "      <td>0.286667</td>\n",
       "      <td>1.028496</td>\n",
       "      <td>0.155349</td>\n",
       "      <td>黄壤</td>\n",
       "      <td>典型黄壤</td>\n",
       "      <td>砂泥质黄壤</td>\n",
       "    </tr>\n",
       "    <tr>\n",
       "      <th>147273</th>\n",
       "      <td>138932</td>\n",
       "      <td>腐中层砂泥质黄壤</td>\n",
       "      <td>腐薄层砂泥质黄壤</td>\n",
       "      <td>0.410000</td>\n",
       "      <td>0.390000</td>\n",
       "      <td>1.054670</td>\n",
       "      <td>0.115902</td>\n",
       "      <td>黄壤</td>\n",
       "      <td>典型黄壤</td>\n",
       "      <td>砂泥质黄壤</td>\n",
       "    </tr>\n",
       "    <tr>\n",
       "      <th>147274</th>\n",
       "      <td>138934</td>\n",
       "      <td>腐薄层砂泥质黄壤</td>\n",
       "      <td>腐中层砂泥质黄壤</td>\n",
       "      <td>0.410000</td>\n",
       "      <td>0.366667</td>\n",
       "      <td>1.068229</td>\n",
       "      <td>0.097696</td>\n",
       "      <td>黄壤</td>\n",
       "      <td>典型黄壤</td>\n",
       "      <td>砂泥质黄壤</td>\n",
       "    </tr>\n",
       "    <tr>\n",
       "      <th>147275</th>\n",
       "      <td>138939</td>\n",
       "      <td>腐中层砂泥质黄壤</td>\n",
       "      <td>腐薄层砂泥质黄壤</td>\n",
       "      <td>0.443333</td>\n",
       "      <td>0.363333</td>\n",
       "      <td>1.046186</td>\n",
       "      <td>0.127671</td>\n",
       "      <td>黄壤</td>\n",
       "      <td>典型黄壤</td>\n",
       "      <td>砂泥质黄壤</td>\n",
       "    </tr>\n",
       "  </tbody>\n",
       "</table>\n",
       "<p>147276 rows × 10 columns</p>\n",
       "</div>"
      ],
      "text/plain": [
       "        OBJECTID    Class1    Class2     Prob1     Prob2   Entropy  \\\n",
       "0              6    黄浅白粉泥田    黄青白粉泥田  0.999934  0.000033  0.000771   \n",
       "1              9    黄浅白粉泥田    黄青白粉泥田  0.998829  0.000428  0.010350   \n",
       "2             10    黄浅白粉泥田    黄青白粉泥田  0.997560  0.001167  0.019665   \n",
       "3             12    黄浅白粉泥田    黄青白粉泥田  0.998348  0.000633  0.014038   \n",
       "4             13    黄浅白粉泥田    黄青白粉泥田  0.998297  0.000707  0.014401   \n",
       "...          ...       ...       ...       ...       ...       ...   \n",
       "147271    126122  腐薄层砂泥质黄壤  腐厚层砂泥质黄壤  0.376667  0.333333  1.092963   \n",
       "147272    126164  腐薄层砂泥质黄壤  腐中层砂泥质黄壤  0.506667  0.286667  1.028496   \n",
       "147273    138932  腐中层砂泥质黄壤  腐薄层砂泥质黄壤  0.410000  0.390000  1.054670   \n",
       "147274    138934  腐薄层砂泥质黄壤  腐中层砂泥质黄壤  0.410000  0.366667  1.068229   \n",
       "147275    138939  腐中层砂泥质黄壤  腐薄层砂泥质黄壤  0.443333  0.363333  1.046186   \n",
       "\n",
       "        Uncertainty Class1_tl Class1_yl Class1_ts  \n",
       "0          0.447177       水稻土    淹育型水稻土     浅白粉泥田  \n",
       "1          0.446559       水稻土    淹育型水稻土     浅白粉泥田  \n",
       "2          0.445850       水稻土    淹育型水稻土     浅白粉泥田  \n",
       "3          0.446290       水稻土    淹育型水稻土     浅白粉泥田  \n",
       "4          0.446262       水稻土    淹育型水稻土     浅白粉泥田  \n",
       "...             ...       ...       ...       ...  \n",
       "147271     0.043333        黄壤      典型黄壤     砂泥质黄壤  \n",
       "147272     0.155349        黄壤      典型黄壤     砂泥质黄壤  \n",
       "147273     0.115902        黄壤      典型黄壤     砂泥质黄壤  \n",
       "147274     0.097696        黄壤      典型黄壤     砂泥质黄壤  \n",
       "147275     0.127671        黄壤      典型黄壤     砂泥质黄壤  \n",
       "\n",
       "[147276 rows x 10 columns]"
      ]
     },
     "execution_count": 89,
     "metadata": {},
     "output_type": "execute_result"
    }
   ],
   "source": [
    "result_df"
   ]
  },
  {
   "cell_type": "code",
   "execution_count": 92,
   "metadata": {},
   "outputs": [],
   "source": [
    "# 保存数据\n",
    "result_df.to_csv(os.path.join(result_path, f'prediction_class_{select_model}_{get_dtime()}.csv'),index=False)"
   ]
  },
  {
   "cell_type": "code",
   "execution_count": 91,
   "metadata": {},
   "outputs": [
    {
     "data": {
      "text/plain": [
       "(            count\n",
       " Class1           \n",
       " 薄层灰泥质黄壤     12779\n",
       " 腐厚层泥质黄壤     12399\n",
       " 薄层硅质黄壤      11965\n",
       " 腐薄层硅质黄壤     11386\n",
       " 中层红泥质黄壤      9918\n",
       " ...           ...\n",
       " 厚层灰泥质黄壤         5\n",
       " 中层砂泥黄壤          3\n",
       " 腐中层硅质山地草甸土      2\n",
       " 黄砂泥田            1\n",
       " 腐薄层黏质黄色石灰土      1\n",
       " \n",
       " [72 rows x 1 columns],\n",
       " 72,\n",
       " 31)"
      ]
     },
     "execution_count": 91,
     "metadata": {},
     "output_type": "execute_result"
    }
   ],
   "source": [
    "pd.DataFrame(result_df['Class1'].value_counts()),len(list(result_df['Class1'].value_counts())),len(result_df['Class1_ts'].value_counts())"
   ]
  },
  {
   "cell_type": "code",
   "execution_count": 94,
   "metadata": {},
   "outputs": [
    {
     "data": {
      "image/png": "[encoded data removed]",
      "text/plain": [
       "<Figure size 640x480 with 1 Axes>"
      ]
     },
     "metadata": {},
     "output_type": "display_data"
    },
    {
     "name": "stdout",
     "output_type": "stream",
     "text": [
      "分界值: 1.377476480552272\n"
     ]
    }
   ],
   "source": [
    "import numpy as np\n",
    "import pandas as pd\n",
    "import matplotlib.pyplot as plt\n",
    "\n",
    "# 提取熵值\n",
    "entropy = result_df['Entropy']\n",
    "\n",
    "# 计算熵的均值和标准差\n",
    "entropy_mean = entropy.mean()\n",
    "entropy_std = entropy.std()\n",
    "entropy_threshold = entropy_mean + entropy_std\n",
    "\n",
    "# 绘制熵的分布图\n",
    "plt.hist(entropy, bins=50, alpha=0.75, label='Entropy')\n",
    "plt.xlabel('Entropy')\n",
    "plt.ylabel('Frequency')\n",
    "plt.title('Entropy Distribution')\n",
    "plt.axvline(entropy_threshold, color='r', linestyle='dashed', linewidth=2, label='Threshold')\n",
    "plt.legend()\n",
    "plt.show()\n",
    "\n",
    "# 可信的预测结果\n",
    "reliable_predictions = result_df[entropy <= entropy_threshold]\n",
    "\n",
    "# 输出结果\n",
    "print(f\"分界值: {entropy_threshold}\")\n"
   ]
  },
  {
   "cell_type": "code",
   "execution_count": 100,
   "metadata": {},
   "outputs": [
    {
     "data": {
      "image/png": "[encoded data removed]",
      "text/plain": [
       "<Figure size 640x480 with 1 Axes>"
      ]
     },
     "metadata": {},
     "output_type": "display_data"
    },
    {
     "name": "stdout",
     "output_type": "stream",
     "text": [
      "不确定性分界值: 0.31763485669342584\n"
     ]
    }
   ],
   "source": [
    "import numpy as np\n",
    "import pandas as pd\n",
    "import matplotlib.pyplot as plt\n",
    "uncertainty = result_df['Uncertainty']\n",
    "# 计算不确定性的均值和标准差\n",
    "uncertainty_mean = uncertainty.mean()\n",
    "uncertainty_std = uncertainty.std()\n",
    "uncertainty_threshold = uncertainty_mean + uncertainty_std\n",
    "\n",
    "# 绘制不确定性的分布图\n",
    "plt.hist(uncertainty, bins=50, alpha=0.75, label='Uncertainty')\n",
    "plt.xlabel('Uncertainty')\n",
    "plt.ylabel('Frequency')\n",
    "plt.title('Uncertainty Distribution')\n",
    "plt.axvline(uncertainty_threshold, color='r', linestyle='dashed', linewidth=2, label='Threshold')\n",
    "plt.legend()\n",
    "plt.show()\n",
    "\n",
    "# 可信的预测结果\n",
    "reliable_predictions = result_df[uncertainty <= uncertainty_threshold]\n",
    "\n",
    "# 输出结果\n",
    "print(f\"不确定性分界值: {uncertainty_threshold}\")\n"
   ]
  },
  {
   "cell_type": "code",
   "execution_count": 102,
   "metadata": {},
   "outputs": [
    {
     "data": {
      "image/png": "[encoded data removed]",
      "text/plain": [
       "<Figure size 640x480 with 1 Axes>"
      ]
     },
     "metadata": {},
     "output_type": "display_data"
    },
    {
     "name": "stdout",
     "output_type": "stream",
     "text": [
      "第75百分位数分界值: 0.27277571707963943\n"
     ]
    }
   ],
   "source": [
    "# 计算第75百分位数\n",
    "uncertainty_threshold_75 = np.percentile(uncertainty, 75)\n",
    "\n",
    "# 绘制不确定性的分布图\n",
    "plt.hist(uncertainty, bins=50, alpha=0.75, label='Uncertainty')\n",
    "plt.xlabel('Uncertainty')\n",
    "plt.ylabel('Frequency')\n",
    "plt.title('Uncertainty Distribution')\n",
    "plt.axvline(uncertainty_threshold_75, color='r', linestyle='dashed', linewidth=2, label='75th Percentile Threshold')\n",
    "plt.legend()\n",
    "plt.show()\n",
    "\n",
    "# 可信的预测结果\n",
    "reliable_predictions_75 = result_df[uncertainty <= uncertainty_threshold_75]\n",
    "\n",
    "# 输出结果\n",
    "print(f\"第75百分位数分界值: {uncertainty_threshold_75}\")"
   ]
  }
 ],
 "metadata": {
  "kernelspec": {
   "display_name": ".venvgis",
   "language": "python",
   "name": "python3"
  },
  "language_info": {
   "codemirror_mode": {
    "name": "ipython",
    "version": 3
   },
   "file_extension": ".py",
   "mimetype": "text/x-python",
   "name": "python",
   "nbconvert_exporter": "python",
   "pygments_lexer": "ipython3",
   "version": "3.10.11"
  }
 },
 "nbformat": 4,
 "nbformat_minor": 2
}
