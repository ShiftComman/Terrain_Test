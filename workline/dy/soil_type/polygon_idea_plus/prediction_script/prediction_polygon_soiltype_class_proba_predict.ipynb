{
 "cells": [
  {
   "cell_type": "code",
   "execution_count": null,
   "metadata": {},
   "outputs": [],
   "source": [
    "import os\n",
    "import json\n",
    "import pandas as pd\n",
    "import numpy as np\n",
    "from autogluon.tabular import TabularPredictor\n",
    "from pykrige.ok import OrdinaryKriging\n",
    "from sklearn.metrics import r2_score\n",
    "from pyproj import Transformer\n",
    "from tqdm import tqdm\n",
    "import pickle"
   ]
  },
  {
   "cell_type": "code",
   "execution_count": null,
   "metadata": {},
   "outputs": [],
   "source": [
    "# 获取当前日期\n",
    "def get_dtime():\n",
    "    # 例如20240516\n",
    "    import datetime\n",
    "    dtime = datetime.datetime.now().strftime('%Y%m%d')\n",
    "    return dtime"
   ]
  },
  {
   "cell_type": "code",
   "execution_count": null,
   "metadata": {},
   "outputs": [],
   "source": [
    "# 导入autogluon模型\n",
    "model_path = r\"F:\\cache_data\\zone_ana\\dy\\modle\\autogluon_type_class_DY\""
   ]
  },
  {
   "cell_type": "code",
   "execution_count": null,
   "metadata": {},
   "outputs": [],
   "source": [
    "# 砂岩\n",
    "sy_sdt_predictor = TabularPredictor.load(os.path.join(os.path.join(model_path,'sy'),'sdt'))\n",
    "sy_fzrt_predictor = TabularPredictor.load(os.path.join(os.path.join(model_path,'sy'),'fzrt'))\n",
    "sy_zrt_predictor = TabularPredictor.load(os.path.join(os.path.join(model_path,'sy'),'zrt'))\n",
    "# 碳酸岩\n",
    "tsy_sdt_predictor = TabularPredictor.load(os.path.join(os.path.join(model_path,'tsy'),'sdt'))\n",
    "tsy_fzrt_predictor = TabularPredictor.load(os.path.join(os.path.join(model_path,'tsy'),'fzrt'))\n",
    "tsy_zrt_predictor = TabularPredictor.load(os.path.join(os.path.join(model_path,'tsy'),'zrt'))\n",
    "# 第四系红粘土\n",
    "hnt_sdt_predictor = TabularPredictor.load(os.path.join(os.path.join(model_path,'hnt'),'sdt'))\n",
    "hnt_fzrt_predictor = TabularPredictor.load(os.path.join(os.path.join(model_path,'hnt'),'fzrt'))\n",
    "hnt_zrt_predictor = TabularPredictor.load(os.path.join(os.path.join(model_path,'hnt'),'zrt'))\n",
    "# 泥页岩\n",
    "nyy_sdt_predictor = TabularPredictor.load(os.path.join(os.path.join(model_path,'nyy'),'sdt'))\n",
    "nyy_fzrt_predictor = TabularPredictor.load(os.path.join(os.path.join(model_path,'nyy'),'fzrt'))\n",
    "nyy_zrt_predictor = TabularPredictor.load(os.path.join(os.path.join(model_path,'nyy'),'zrt'))\n",
    "# 紫红色砂页岩\n",
    "zhsyy_sdt_predictor = TabularPredictor.load(os.path.join(os.path.join(model_path,'zhsyy'),'sdt'))\n",
    "zhsyy_fzrt_predictor = TabularPredictor.load(os.path.join(os.path.join(model_path,'zhsyy'),'fzrt'))\n",
    "zhsyy_zrt_predictor = TabularPredictor.load(os.path.join(os.path.join(model_path,'zhsyy'),'zrt'))\n",
    "# 河流冲积物\n",
    "hlcjw_sdt_predictor = TabularPredictor.load(os.path.join(os.path.join(model_path,'hlcjw'),'sdt'))\n",
    "# 砾岩\n",
    "ly_sdt_predictor = TabularPredictor.load(os.path.join(os.path.join(model_path,'ly'),'sdt'))\n",
    "ly_fzrt_predictor = TabularPredictor.load(os.path.join(os.path.join(model_path,'ly'),'fzrt'))\n",
    "ly_zrt_predictor = TabularPredictor.load(os.path.join(os.path.join(model_path,'ly'),'zrt'))\n",
    "# 第四纪冰川冲积物\n",
    "bccjw_sdt_predictor = TabularPredictor.load(os.path.join(os.path.join(model_path,'bccjw'),'sdt'))\n",
    "bccjw_fzrt_predictor = TabularPredictor.load(os.path.join(os.path.join(model_path,'bccjw'),'fzrt'))\n",
    "bccjw_zrt_predictor = TabularPredictor.load(os.path.join(os.path.join(model_path,'bccjw'),'zrt'))\n",
    "# 砂页岩\n",
    "syy_sdt_predictor = TabularPredictor.load(os.path.join(os.path.join(model_path,'syy'),'sdt'))\n",
    "syy_fzrt_predictor = TabularPredictor.load(os.path.join(os.path.join(model_path,'syy'),'fzrt'))\n",
    "syy_zrt_predictor = TabularPredictor.load(os.path.join(os.path.join(model_path,'syy'),'zrt'))"
   ]
  },
  {
   "cell_type": "code",
   "execution_count": null,
   "metadata": {},
   "outputs": [],
   "source": [
    "# 获取特征函数\n",
    "\n",
    "def get_feature_names(predictor):\n",
    "    feature_names = predictor.feature_metadata_in.get_features()\n",
    "    return feature_names\n",
    "sdt_feature_names = syy_sdt_predictor.feature_metadata_in.get_features()\n",
    "print(\"SDT\",sdt_feature_names)\n",
    "fzrt_feature_names = syy_fzrt_predictor.feature_metadata_in.get_features()\n",
    "print(\"FZRT\",fzrt_feature_names)\n",
    "zrt_feature_names = syy_zrt_predictor.feature_metadata_in.get_features()\n",
    "print(\"ZRT\",zrt_feature_names)"
   ]
  },
  {
   "cell_type": "code",
   "execution_count": null,
   "metadata": {},
   "outputs": [],
   "source": [
    "# 存放预测结果的路径\n",
    "result_path =  r\"F:\\cache_data\\zone_ana\\dy\\prediction_result\""
   ]
  },
  {
   "cell_type": "code",
   "execution_count": null,
   "metadata": {},
   "outputs": [],
   "source": [
    "# 读取数据集\n",
    "feature_path = r'F:\\cache_data\\zone_ana\\dy\\prediction_data\\result_20240619.csv'"
   ]
  },
  {
   "cell_type": "code",
   "execution_count": null,
   "metadata": {},
   "outputs": [],
   "source": [
    "feature_df = pd.read_csv(feature_path)"
   ]
  },
  {
   "cell_type": "code",
   "execution_count": null,
   "metadata": {},
   "outputs": [],
   "source": [
    "feature_df.columns"
   ]
  },
  {
   "cell_type": "code",
   "execution_count": null,
   "metadata": {},
   "outputs": [],
   "source": [
    "feature_df.rename(columns={'母质':'MZ'},inplace=True)"
   ]
  },
  {
   "cell_type": "code",
   "execution_count": null,
   "metadata": {},
   "outputs": [],
   "source": [
    "dataset = feature_df"
   ]
  },
  {
   "cell_type": "code",
   "execution_count": null,
   "metadata": {},
   "outputs": [],
   "source": [
    "# 筛选砂岩水稻土数据\n",
    "sy_sdt_data = dataset[dataset['DLMC'].isin(['水田','水浇地','坑塘水面','养殖坑塘','内陆滩涂']) \n",
    "                      & (dataset['MZ'] == '砂岩')]\n",
    "# 筛砂岩选非自然土数据\n",
    "sy_fzrt_data = dataset[~dataset['DLMC'].isin(['乔木林地','灌木林地','竹林地','其他林地','其他草地','天然牧草地','人工牧草地','水田','水浇地','坑塘水面','养殖坑塘','内陆滩涂']) \n",
    "                       & (dataset['MZ'] == '砂岩')]\n",
    "# 筛选自然土数据\n",
    "sy_zrt_data = dataset[dataset['DLMC'].isin(['乔木林地','灌木林地','竹林地','其他林地','其他草地','天然牧草地','人工牧草地'])\n",
    "                   & (dataset['MZ'] == '砂岩')]"
   ]
  },
  {
   "cell_type": "code",
   "execution_count": null,
   "metadata": {},
   "outputs": [],
   "source": [
    "# 筛选碳酸岩水稻土数据\n",
    "tsy_sdt_data = dataset[dataset['DLMC'].isin(['水田','水浇地','坑塘水面','养殖坑塘','内陆滩涂']) \n",
    "                      & (dataset['MZ'] == '碳酸岩')]\n",
    "\n",
    "# 筛选碳酸岩选非自然土数据\n",
    "tsy_fzrt_data = dataset[~dataset['DLMC'].isin(['乔木林地','灌木林地','竹林地','其他林地','其他草地','天然牧草地','人工牧草地','水田','水浇地','坑塘水面','养殖坑塘','内陆滩涂']) \n",
    "                        &(dataset['MZ'] != '碳酸岩')]\n",
    "\n",
    "# 筛选碳酸岩自然土数据\n",
    "tsy_zrt_data = dataset[dataset['DLMC'].isin(['乔木林地','灌木林地','竹林地','其他林地','其他草地','天然牧草地','人工牧草地'])\n",
    "                   & (dataset['MZ'] == '碳酸岩')]\n"
   ]
  },
  {
   "cell_type": "code",
   "execution_count": null,
   "metadata": {},
   "outputs": [],
   "source": [
    "# 筛选第四系红粘土水稻土数据\n",
    "hnt_sdt_data = dataset[dataset['DLMC'].isin(['水田','水浇地','坑塘水面','养殖坑塘','内陆滩涂']) \n",
    "                      & (dataset['MZ'] == '第四系红粘土')]\n",
    "\n",
    "# 筛选第四系红粘土非自然土数据\n",
    "hnt_fzrt_data = dataset[~dataset['DLMC'].isin(['乔木林地','灌木林地','竹林地','其他林地','其他草地','天然牧草地','人工牧草地','水田','水浇地','坑塘水面','养殖坑塘','内陆滩涂']) \n",
    "                       & (dataset['MZ'] == '第四系红粘土')]\n",
    "\n",
    "# 筛选第四系红粘土自然土数据\n",
    "hnt_zrt_data = dataset[dataset['DLMC'].isin(['乔木林地','灌木林地','竹林地','其他林地','其他草地','天然牧草地','人工牧草地'])\n",
    "                   & (dataset['MZ'] == '第四系红粘土')]\n"
   ]
  },
  {
   "cell_type": "code",
   "execution_count": null,
   "metadata": {},
   "outputs": [],
   "source": [
    "# 筛选泥(页)岩水稻土数据\n",
    "nyy_sdt_data = dataset[dataset['DLMC'].isin(['水田','水浇地','坑塘水面','养殖坑塘','内陆滩涂']) \n",
    "                      & (dataset['MZ'] == '泥(页)岩')]\n",
    "\n",
    "# 筛选泥(页)岩非自然土数据\n",
    "nyy_fzrt_data = dataset[~dataset['DLMC'].isin(['乔木林地','灌木林地','竹林地','其他林地','其他草地','天然牧草地','人工牧草地','水田','水浇地','坑塘水面','养殖坑塘','内陆滩涂']) \n",
    "                       & (dataset['MZ'] == '泥(页)岩')]\n",
    "\n",
    "# 筛选泥(页)岩自然土数据\n",
    "nyy_zrt_data = dataset[dataset['DLMC'].isin(['乔木林地','灌木林地','竹林地','其他林地','其他草地','天然牧草地','人工牧草地'])\n",
    "                   & (dataset['MZ'] == '泥(页)岩')]\n"
   ]
  },
  {
   "cell_type": "code",
   "execution_count": null,
   "metadata": {},
   "outputs": [],
   "source": [
    "# 筛选紫红色砂页岩水稻土数据\n",
    "zhsyy_sdt_data = dataset[dataset['DLMC'].isin(['水田','水浇地','坑塘水面','养殖坑塘','内陆滩涂']) \n",
    "                      &(dataset['MZ'] == '紫红色砂页岩')]\n",
    "\n",
    "# 筛选紫红色砂页岩非自然土数据\n",
    "zhsyy_fzrt_data = dataset[~dataset['DLMC'].isin(['乔木林地','灌木林地','竹林地','其他林地','其他草地','天然牧草地','人工牧草地','水田','水浇地','坑塘水面','养殖坑塘','内陆滩涂']) \n",
    "                       & (dataset['MZ'] == '紫红色砂页岩')]\n",
    "\n",
    "# 筛选紫红色砂页岩自然土数据\n",
    "zhsyy_zrt_data = dataset[dataset['DLMC'].isin(['乔木林地','灌木林地','竹林地','其他林地','其他草地','天然牧草地','人工牧草地'])\n",
    "                   & (dataset['MZ'] == '紫红色砂页岩')]\n"
   ]
  },
  {
   "cell_type": "code",
   "execution_count": null,
   "metadata": {},
   "outputs": [],
   "source": [
    "# 筛选河流冲积物水稻土数据\n",
    "hlcjw_sdt_data = dataset[dataset['DLMC'].isin(['水田','水浇地','坑塘水面','养殖坑塘','内陆滩涂'])\n",
    "                         & (dataset['MZ'] == '河流冲积物')]\n"
   ]
  },
  {
   "cell_type": "code",
   "execution_count": null,
   "metadata": {},
   "outputs": [],
   "source": [
    "# 筛选砾岩水稻土数据\n",
    "ly_sdt_data = dataset[dataset['DLMC'].isin(['水田','水浇地','坑塘水面','养殖坑塘','内陆滩涂']) \n",
    "                      & (dataset['MZ'] == '砾岩')]\n",
    "\n",
    "# 筛选砾岩非自然土数据\n",
    "ly_fzrt_data = dataset[~dataset['DLMC'].isin(['乔木林地','灌木林地','竹林地','其他林地','其他草地','天然牧草地','人工牧草地','水田','水浇地','坑塘水面','养殖坑塘','内陆滩涂']) \n",
    "                       & (dataset['MZ'] == '砾岩')]\n",
    "\n",
    "# 筛选砾岩非自然土数据\n",
    "ly_zrt_data = dataset[~dataset['DLMC'].isin(['乔木林地','灌木林地','竹林地','其他林地','其他草地','天然牧草地','人工牧草地','水田','水浇地','坑塘水面','养殖坑塘','内陆滩涂']) \n",
    "                       & (dataset['MZ'] == '砾岩')]\n"
   ]
  },
  {
   "cell_type": "code",
   "execution_count": null,
   "metadata": {},
   "outputs": [],
   "source": [
    "# 筛选第四纪冰川冲积物水稻土数据\n",
    "bccjw_sdt_data = dataset[dataset['DLMC'].isin(['水田','水浇地','坑塘水面','养殖坑塘','内陆滩涂']) \n",
    "                     & (dataset['MZ'] == '第四纪冰川冲积物')]\n",
    "\n",
    "# 筛选第四纪冰川冲积物非自然土数据\n",
    "bccjw_fzrt_data = dataset[~dataset['DLMC'].isin(['乔木林地','灌木林地','竹林地','其他林地','其他草地','天然牧草地','人工牧草地','水田','水浇地','坑塘水面','养殖坑塘','内陆滩涂']) \n",
    "                       & (dataset['MZ'] == '第四纪冰川冲积物')]\n",
    "\n",
    "# 筛选第四纪冰川冲积物自然土数据\n",
    "bccjw_zrt_data = dataset[dataset['DLMC'].isin(['乔木林地','灌木林地','竹林地','其他林地','其他草地','天然牧草地','人工牧草地'])\n",
    "                   & (dataset['MZ'] == '第四纪冰川冲积物')]\n"
   ]
  },
  {
   "cell_type": "code",
   "execution_count": null,
   "metadata": {},
   "outputs": [],
   "source": [
    "# 筛选砂页岩水稻土数据\n",
    "syy_sdt_data = dataset[dataset['DLMC'].isin(['水田','水浇地','坑塘水面','养殖坑塘','内陆滩涂']) \n",
    "                      & (dataset['MZ'] == '砂页岩')]\n",
    "\n",
    "# 筛选砂页岩非自然土数据\n",
    "syy_fzrt_data = dataset[~dataset['DLMC'].isin(['乔木林地','灌木林地','竹林地','其他林地','其他草地','天然牧草地','人工牧草地','水田','水浇地','坑塘水面','养殖坑塘','内陆滩涂']) \n",
    "                       & (dataset['MZ'] == '砂页岩')]\n",
    "\n",
    "# 筛选砂页岩物自然土数据\n",
    "syy_zrt_data = dataset[dataset['DLMC'].isin(['乔木林地','灌木林地','竹林地','其他林地','其他草地','天然牧草地','人工牧草地'])\n",
    "                   & (dataset['MZ'] == '砂页岩')]\n"
   ]
  },
  {
   "cell_type": "code",
   "execution_count": null,
   "metadata": {},
   "outputs": [],
   "source": [
    "# 查看各个数据集的大小\n",
    "print('砂岩',sy_sdt_data.shape,sy_fzrt_data.shape,sy_zrt_data.shape)\n",
    "print('碳酸岩',tsy_sdt_data.shape,tsy_fzrt_data.shape,tsy_zrt_data.shape)\n",
    "print('第四系红粘土',hnt_sdt_data.shape,hnt_fzrt_data.shape,hnt_zrt_data.shape)\n",
    "print('泥页岩',nyy_sdt_data.shape,nyy_fzrt_data.shape,nyy_zrt_data.shape)\n",
    "print('紫红色砂页岩',zhsyy_sdt_data.shape,zhsyy_fzrt_data.shape,zhsyy_zrt_data.shape)\n",
    "print('河流冲积物',hlcjw_sdt_data.shape)\n",
    "print('砾岩',ly_sdt_data.shape,ly_fzrt_data.shape,ly_zrt_data.shape)\n",
    "print('第四纪冰川冲积物',bccjw_sdt_data.shape,bccjw_fzrt_data.shape,bccjw_zrt_data.shape)\n",
    "print('砂页岩',syy_sdt_data.shape,syy_fzrt_data.shape,syy_zrt_data.shape)\n",
    "\n"
   ]
  },
  {
   "cell_type": "code",
   "execution_count": null,
   "metadata": {},
   "outputs": [],
   "source": [
    "# 获取对照字典\n",
    "with open(r'D:\\worker_code\\Terrain_Test\\data\\soil_dict_20240619.json', 'r') as f:\n",
    "    soil_dict = json.load(f)\n",
    "# 将键转为int\n",
    "soil_dict = {int(k):v for k, v in soil_dict.items()}"
   ]
  },
  {
   "cell_type": "code",
   "execution_count": null,
   "metadata": {},
   "outputs": [],
   "source": [
    "# 模型选择\n",
    "select_model = 'WeightedEnsemble_L2'\n",
    "# sdt_model = 'WeightedEnsemble_L2'"
   ]
  },
  {
   "cell_type": "code",
   "execution_count": null,
   "metadata": {},
   "outputs": [],
   "source": [
    "# 概率预测函数\n",
    "def predict_top_classes(data, predictor,feature_names, model, top_n, soil_dict):\n",
    "    \"\"\"\n",
    "    根据给定的AutoGluon模型，预测数据集中的前n个最可能的类别及其概率，并根据提供的字典转换类别编号为描述字符串。\n",
    "    参数:\n",
    "    data (DataFrame): 输入的数据集。\n",
    "    predictor（model）: 对应的模型\n",
    "    feature_names (list): 用于预测的特征名列表。\n",
    "    model (str): 选择的模型名称。\n",
    "    top_n (int): 需要返回的最高概率的类别数量。\n",
    "    soil_dict (dict): 类别编号到描述字符串的映射字典。\n",
    "    \n",
    "    返回:\n",
    "    DataFrame: 原始数据与预测结果合并后的DataFrame。\n",
    "    \"\"\"\n",
    "    # 复制数据\n",
    "    data = data.copy()\n",
    "    # 预测概率\n",
    "    pred_probs = predictor.predict_proba(data[feature_names], model=model)\n",
    "    # 获取概率最高的前n个类别及其概率\n",
    "    top_classes = pred_probs.apply(lambda x: pd.Series(x.nlargest(top_n).index.astype(int).tolist() + x.nlargest(top_n).values.tolist()), axis=1)\n",
    "    # 重命名列\n",
    "    class_cols = ['Class{}'.format(i+1) for i in range(top_n)]\n",
    "    prob_cols = ['Prob{}'.format(i+1) for i in range(top_n)]\n",
    "    top_classes.columns = class_cols + prob_cols\n",
    "    # 转换类别编号为描述字符串\n",
    "    for col in class_cols:\n",
    "        top_classes[col] = top_classes[col].map(soil_dict)\n",
    "    # 计算每个预测的熵\n",
    "    entropy = pred_probs.apply(lambda x: -np.sum(x * np.log(x + 1e-9)), axis=1)\n",
    "    top_classes['Entropy'] = entropy\n",
    "    # 计算每个预测的不确定性（标准差）\n",
    "    uncertainty = pred_probs.std(axis=1)\n",
    "    top_classes['Uncertainty'] = uncertainty\n",
    "    # 将新列添加到原有的DataFrame中\n",
    "    return pd.concat([data, top_classes], axis=1)"
   ]
  },
  {
   "cell_type": "code",
   "execution_count": null,
   "metadata": {},
   "outputs": [],
   "source": [
    "# 模型预测\n",
    "sy_sdt_result_df = predict_top_classes(sy_sdt_data, sy_sdt_predictor,sdt_feature_names, select_model, 2, soil_dict)\n",
    "sy_fzrt_result_df = predict_top_classes(sy_fzrt_data, sy_fzrt_predictor,fzrt_feature_names, select_model, 2, soil_dict)\n",
    "sy_zrt_result_df = predict_top_classes(sy_zrt_data, sy_zrt_predictor,zrt_feature_names, select_model, 2, soil_dict)\n",
    "\n",
    "tsy_sdt_result_df = predict_top_classes(tsy_sdt_data, tsy_sdt_predictor,sdt_feature_names, select_model, 2, soil_dict)\n",
    "tsy_fzrt_result_df = predict_top_classes(tsy_fzrt_data, tsy_fzrt_predictor,fzrt_feature_names, select_model, 2, soil_dict)\n",
    "tsy_zrt_result_df = predict_top_classes(tsy_zrt_data, tsy_zrt_predictor,zrt_feature_names, select_model, 2, soil_dict)\n",
    "\n",
    "hnt_sdt_result_df = predict_top_classes(hnt_sdt_data, hnt_sdt_predictor,sdt_feature_names, select_model, 2, soil_dict)\n",
    "hnt_fzrt_result_df = predict_top_classes(hnt_fzrt_data, hnt_fzrt_predictor,fzrt_feature_names, select_model, 2, soil_dict)\n",
    "hnt_zrt_result_df = predict_top_classes(hnt_zrt_data, hnt_zrt_predictor,zrt_feature_names, select_model, 2, soil_dict)\n",
    "\n",
    "nyy_sdt_result_df = predict_top_classes(nyy_sdt_data, nyy_sdt_predictor,sdt_feature_names, select_model, 2, soil_dict)\n",
    "nyy_fzrt_result_df = predict_top_classes(nyy_fzrt_data, nyy_fzrt_predictor,fzrt_feature_names, select_model, 2, soil_dict)\n",
    "nyy_zrt_result_df = predict_top_classes(nyy_zrt_data, nyy_zrt_predictor,zrt_feature_names, select_model, 2, soil_dict)\n",
    "\n",
    "zhsyy_sdt_result_df = predict_top_classes(zhsyy_sdt_data, zhsyy_sdt_predictor,get_feature_names(zhsyy_sdt_predictor), select_model, 2, soil_dict)\n",
    "zhsyy_fzrt_result_df = predict_top_classes(zhsyy_fzrt_data, zhsyy_fzrt_predictor,fzrt_feature_names, select_model, 2, soil_dict)\n",
    "zhsyy_zrt_result_df = predict_top_classes(zhsyy_zrt_data, zhsyy_zrt_predictor,zrt_feature_names, select_model, 2, soil_dict)\n",
    "\n",
    "hlcjw_sdt_result_df = predict_top_classes(hlcjw_sdt_data, hlcjw_sdt_predictor,get_feature_names(hlcjw_sdt_predictor), select_model, 2, soil_dict)\n",
    "\n",
    "\n",
    "ly_sdt_result_df = predict_top_classes(ly_sdt_data, ly_sdt_predictor,get_feature_names(ly_sdt_predictor), select_model, 2, soil_dict)\n",
    "ly_fzrt_result_df = predict_top_classes(ly_fzrt_data, ly_fzrt_predictor,get_feature_names(ly_fzrt_predictor), select_model, 2, soil_dict)\n",
    "ly_zrt_result_df = predict_top_classes(ly_zrt_data, ly_zrt_predictor,get_feature_names(ly_zrt_predictor), select_model, 2, soil_dict)\n",
    "\n",
    "bccjw_sdt_result_df = predict_top_classes(bccjw_sdt_data, bccjw_sdt_predictor,get_feature_names(bccjw_sdt_predictor), select_model, 2, soil_dict)\n",
    "bccjw_fzrt_result_df = predict_top_classes(bccjw_fzrt_data, bccjw_fzrt_predictor,get_feature_names(bccjw_fzrt_predictor), select_model, 2, soil_dict)\n",
    "bccjw_zrt_result_df = predict_top_classes(bccjw_zrt_data, bccjw_zrt_predictor,get_feature_names(bccjw_zrt_predictor), select_model, 2, soil_dict)\n",
    "\n",
    "syy_sdt_result_df = predict_top_classes(syy_sdt_data, syy_sdt_predictor,get_feature_names(syy_sdt_predictor), select_model, 2, soil_dict)\n",
    "syy_fzrt_result_df = predict_top_classes(syy_fzrt_data, syy_fzrt_predictor,get_feature_names(syy_fzrt_predictor), select_model, 2, soil_dict)\n",
    "syy_zrt_result_df = predict_top_classes(syy_zrt_data, syy_zrt_predictor,get_feature_names(syy_zrt_predictor), select_model, 2, soil_dict)"
   ]
  },
  {
   "cell_type": "code",
   "execution_count": null,
   "metadata": {},
   "outputs": [],
   "source": [
    "# 将所有的DataFrame放入一个列表中\n",
    "dfs = [\n",
    "    sy_sdt_result_df, sy_fzrt_result_df, sy_zrt_result_df,\n",
    "    tsy_sdt_result_df, tsy_fzrt_result_df, tsy_zrt_result_df,\n",
    "    hnt_sdt_result_df, hnt_fzrt_result_df, hnt_zrt_result_df,\n",
    "    nyy_sdt_result_df, nyy_fzrt_result_df, nyy_zrt_result_df,\n",
    "    zhsyy_sdt_result_df, zhsyy_fzrt_result_df, zhsyy_zrt_result_df,\n",
    "    hlcjw_sdt_result_df,\n",
    "    ly_sdt_result_df, ly_fzrt_result_df, ly_zrt_result_df,\n",
    "    bccjw_sdt_result_df, bccjw_fzrt_result_df, bccjw_zrt_result_df,\n",
    "    syy_sdt_result_df, syy_fzrt_result_df, syy_zrt_result_df\n",
    "]\n",
    "\n",
    "# 使用pd.concat合并所有的DataFrame\n",
    "result_df = pd.concat(dfs, ignore_index=True)\n"
   ]
  },
  {
   "cell_type": "code",
   "execution_count": null,
   "metadata": {},
   "outputs": [],
   "source": [
    "result_df.columns"
   ]
  },
  {
   "cell_type": "code",
   "execution_count": null,
   "metadata": {},
   "outputs": [],
   "source": [
    "# 获取指定列\n",
    "result_df = result_df[['OBJECTID','Class1', 'Class2',  'Prob1','Prob2', 'Entropy', 'Uncertainty']]"
   ]
  },
  {
   "cell_type": "code",
   "execution_count": null,
   "metadata": {},
   "outputs": [],
   "source": [
    "# 获取三普土种对照字典\n",
    "# 读取Excel文件\n",
    "sp_file_path = r\"C:\\Users\\Runker\\Desktop\\search_dict3.xlsx\"\n",
    "df = pd.read_excel(sp_file_path)\n",
    "\n",
    "# 使用前向填充（ffill）处理合并单元格的情况\n",
    "df_filled = df.ffill()\n",
    "# 定义一个函数来为每一行生成一个字典\n",
    "def create_dict(row):\n",
    "    return {\n",
    "        row['TZ']: {\n",
    "            '土类': row['TL'],\n",
    "            '亚类': row['YL'],\n",
    "            '土属': row['TS'],\n",
    "        }\n",
    "    }\n",
    "\n",
    "# 使用apply方法为每一行应用这个函数，并将结果合并到一个字典中\n",
    "sp_soiltype_dict = {}\n",
    "for d in df_filled.apply(create_dict, axis=1):\n",
    "    sp_soiltype_dict.update(d)"
   ]
  },
  {
   "cell_type": "code",
   "execution_count": null,
   "metadata": {},
   "outputs": [],
   "source": [
    "sp_soiltype_dict"
   ]
  },
  {
   "cell_type": "code",
   "execution_count": null,
   "metadata": {},
   "outputs": [],
   "source": [
    "# 使用 apply 方法结合 lambda 函数来获取对应的 '土类' 值\n",
    "result_df = result_df.copy()\n",
    "result_df['Class1_tl'] = result_df['Class1'].apply(lambda x: sp_soiltype_dict.get(x, {}).get('土类', None))\n",
    "result_df['Class1_yl'] = result_df['Class1'].apply(lambda x: sp_soiltype_dict.get(x, {}).get('亚类', None))\n",
    "result_df['Class1_ts'] = result_df['Class1'].apply(lambda x: sp_soiltype_dict.get(x, {}).get('土属', None))\n"
   ]
  },
  {
   "cell_type": "code",
   "execution_count": null,
   "metadata": {},
   "outputs": [],
   "source": [
    "result_df"
   ]
  },
  {
   "cell_type": "code",
   "execution_count": null,
   "metadata": {},
   "outputs": [],
   "source": [
    "duplicates = result_df.duplicated(subset=['OBJECTID'], keep='last')\n",
    "df_duplicates = result_df[duplicates]\n",
    "df_duplicates\n"
   ]
  },
  {
   "cell_type": "code",
   "execution_count": null,
   "metadata": {},
   "outputs": [],
   "source": [
    "# 保存数据\n",
    "result_df.to_csv(os.path.join(result_path, f'prediction_class_{select_model}_{get_dtime()}.csv'),index=False)"
   ]
  },
  {
   "cell_type": "code",
   "execution_count": null,
   "metadata": {},
   "outputs": [],
   "source": [
    "pd.DataFrame(result_df['Class1'].value_counts()),len(list(result_df['Class1'].value_counts())),len(result_df['Class1_ts'].value_counts())"
   ]
  }
 ],
 "metadata": {
  "kernelspec": {
   "display_name": ".venvgis",
   "language": "python",
   "name": "python3"
  },
  "language_info": {
   "codemirror_mode": {
    "name": "ipython",
    "version": 3
   },
   "file_extension": ".py",
   "mimetype": "text/x-python",
   "name": "python",
   "nbconvert_exporter": "python",
   "pygments_lexer": "ipython3",
   "version": "3.10.11"
  }
 },
 "nbformat": 4,
 "nbformat_minor": 2
}
