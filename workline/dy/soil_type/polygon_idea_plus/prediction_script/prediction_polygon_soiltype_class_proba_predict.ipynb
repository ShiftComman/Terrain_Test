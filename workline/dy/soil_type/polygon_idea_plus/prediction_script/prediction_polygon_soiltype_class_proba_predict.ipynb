{
 "cells": [
  {
   "cell_type": "code",
   "execution_count": 47,
   "metadata": {},
   "outputs": [],
   "source": [
    "import os\n",
    "import json\n",
    "import pandas as pd\n",
    "import numpy as np\n",
    "from autogluon.tabular import TabularPredictor\n",
    "from pykrige.ok import OrdinaryKriging\n",
    "from sklearn.metrics import r2_score\n",
    "from pyproj import Transformer\n",
    "from tqdm import tqdm\n",
    "import pickle"
   ]
  },
  {
   "cell_type": "code",
   "execution_count": 48,
   "metadata": {},
   "outputs": [],
   "source": [
    "# 获取当前日期\n",
    "def get_dtime():\n",
    "    # 例如20240516\n",
    "    import datetime\n",
    "    dtime = datetime.datetime.now().strftime('%Y%m%d')\n",
    "    return dtime"
   ]
  },
  {
   "cell_type": "code",
   "execution_count": 49,
   "metadata": {},
   "outputs": [],
   "source": [
    "# 导入autogluon模型\n",
    "model_path = r\"F:\\cache_data\\zone_ana\\dy\\modle\\autogluon_type_class_DY_20240726\""
   ]
  },
  {
   "cell_type": "code",
   "execution_count": 50,
   "metadata": {},
   "outputs": [],
   "source": [
    "# 砂岩\n",
    "sy_sdt_predictor = TabularPredictor.load(os.path.join(os.path.join(model_path,'sy'),'sdt'))\n",
    "sy_fzrt_predictor = TabularPredictor.load(os.path.join(os.path.join(model_path,'sy'),'fzrt'))\n",
    "sy_zrt_predictor = TabularPredictor.load(os.path.join(os.path.join(model_path,'sy'),'zrt'))\n",
    "# 碳酸岩\n",
    "tsy_sdt_predictor = TabularPredictor.load(os.path.join(os.path.join(model_path,'tsy'),'sdt'))\n",
    "tsy_fzrt_predictor = TabularPredictor.load(os.path.join(os.path.join(model_path,'tsy'),'fzrt'))\n",
    "tsy_zrt_predictor = TabularPredictor.load(os.path.join(os.path.join(model_path,'tsy'),'zrt'))\n",
    "# 第四系红粘土\n",
    "hnt_sdt_predictor = TabularPredictor.load(os.path.join(os.path.join(model_path,'hnt'),'sdt'))\n",
    "hnt_fzrt_predictor = TabularPredictor.load(os.path.join(os.path.join(model_path,'hnt'),'fzrt'))\n",
    "hnt_zrt_predictor = TabularPredictor.load(os.path.join(os.path.join(model_path,'hnt'),'zrt'))\n",
    "# 泥页岩\n",
    "nyy_sdt_predictor = TabularPredictor.load(os.path.join(os.path.join(model_path,'nyy'),'sdt'))\n",
    "nyy_fzrt_predictor = TabularPredictor.load(os.path.join(os.path.join(model_path,'nyy'),'fzrt'))\n",
    "nyy_zrt_predictor = TabularPredictor.load(os.path.join(os.path.join(model_path,'nyy'),'zrt'))\n",
    "# 紫红色砂页岩\n",
    "zhsyy_sdt_predictor = TabularPredictor.load(os.path.join(os.path.join(model_path,'zhsyy'),'sdt'))\n",
    "zhsyy_fzrt_predictor = TabularPredictor.load(os.path.join(os.path.join(model_path,'zhsyy'),'fzrt'))\n",
    "zhsyy_zrt_predictor = TabularPredictor.load(os.path.join(os.path.join(model_path,'zhsyy'),'zrt'))\n",
    "# 河流冲积物\n",
    "hlcjw_sdt_predictor = TabularPredictor.load(os.path.join(os.path.join(model_path,'hlcjw'),'sdt'))\n",
    "# 砾岩\n",
    "ly_sdt_predictor = TabularPredictor.load(os.path.join(os.path.join(model_path,'ly'),'sdt'))\n",
    "ly_fzrt_predictor = TabularPredictor.load(os.path.join(os.path.join(model_path,'ly'),'fzrt'))\n",
    "ly_zrt_predictor = TabularPredictor.load(os.path.join(os.path.join(model_path,'ly'),'zrt'))\n",
    "# 第四纪冰川冲积物\n",
    "bccjw_sdt_predictor = TabularPredictor.load(os.path.join(os.path.join(model_path,'bccjw'),'sdt'))\n",
    "bccjw_fzrt_predictor = TabularPredictor.load(os.path.join(os.path.join(model_path,'bccjw'),'fzrt'))\n",
    "bccjw_zrt_predictor = TabularPredictor.load(os.path.join(os.path.join(model_path,'bccjw'),'zrt'))\n",
    "# 砂页岩\n",
    "syy_sdt_predictor = TabularPredictor.load(os.path.join(os.path.join(model_path,'syy'),'sdt'))\n",
    "syy_fzrt_predictor = TabularPredictor.load(os.path.join(os.path.join(model_path,'syy'),'fzrt'))\n",
    "syy_zrt_predictor = TabularPredictor.load(os.path.join(os.path.join(model_path,'syy'),'zrt'))"
   ]
  },
  {
   "cell_type": "code",
   "execution_count": 51,
   "metadata": {},
   "outputs": [
    {
     "name": "stdout",
     "output_type": "stream",
     "text": [
      "SDT ['Centroid_X', 'Centroid_Y', 'DEM_RANGE', 'DEM_MEAN', 'DEM_STD', 'AnalyticalHillshading_MEAN', 'Aspect_MEAN', 'ChannelNetworkBaseLevel_MEAN', 'ChannelNetworkDistance_MEAN', 'ConvergenceIndex_MEAN', 'LSFactor_MEAN', 'MRRTF_MEAN', 'MRVBF_MEAN', 'PlanCurvature_MEAN', 'ProfileCurvature_MEAN', 'RelativeSlopePosition_MEAN', 'Slope_MEAN', 'TopographicWetnessIndex_MEAN', 'TotalCatchmentArea_MEAN', 'ValleyDepth_MEAN', 'NIGHT2022_MEAN', 'ETP2022_mean_MEAN', 'TMP2022_mean_MEAN', 'PRE2022_mean_MEAN', 'PRE2022_3_MEAN', 'PRE2022_11_MEAN', 'ETP2022_3_MEAN', 'ETP2022_11_MEAN', 'TMP2022_3_MEAN', 'TMP2022_11_MEAN', 'evi_MEAN', 'lswi_MEAN', 'mndwi_MEAN', 'ndvi_MEAN', 'ndwi_MEAN', 'PCA_0_MEAN', 'PCA_1_MEAN', 'savi_MEAN', 'vari_MEAN', 'SlopeClass_MAJORITY']\n",
      "FZRT ['DLMC', 'Centroid_X', 'Centroid_Y', 'DEM_RANGE', 'DEM_MEAN', 'DEM_STD', 'AnalyticalHillshading_MEAN', 'Aspect_MEAN', 'ChannelNetworkBaseLevel_MEAN', 'ChannelNetworkDistance_MEAN', 'ConvergenceIndex_MEAN', 'LSFactor_MEAN', 'MRRTF_MEAN', 'MRVBF_MEAN', 'PlanCurvature_MEAN', 'ProfileCurvature_MEAN', 'RelativeSlopePosition_MEAN', 'Slope_MEAN', 'TopographicWetnessIndex_MEAN', 'TotalCatchmentArea_MEAN', 'ValleyDepth_MEAN', 'NIGHT2022_MEAN', 'ETP2022_mean_MEAN', 'TMP2022_mean_MEAN', 'PRE2022_mean_MEAN', 'PRE2022_3_MEAN', 'PRE2022_11_MEAN', 'ETP2022_3_MEAN', 'ETP2022_11_MEAN', 'TMP2022_3_MEAN', 'TMP2022_11_MEAN', 'evi_MEAN', 'lswi_MEAN', 'mndwi_MEAN', 'ndvi_MEAN', 'ndwi_MEAN', 'PCA_0_MEAN', 'PCA_1_MEAN', 'savi_MEAN', 'vari_MEAN', 'DL_MAJORITY', 'SlopeClass_MAJORITY']\n",
      "ZRT ['DLMC', 'Centroid_X', 'Centroid_Y', 'DEM_RANGE', 'DEM_MEAN', 'DEM_STD', 'AnalyticalHillshading_MEAN', 'Aspect_MEAN', 'ChannelNetworkBaseLevel_MEAN', 'ChannelNetworkDistance_MEAN', 'ConvergenceIndex_MEAN', 'LSFactor_MEAN', 'MRRTF_MEAN', 'MRVBF_MEAN', 'PlanCurvature_MEAN', 'ProfileCurvature_MEAN', 'RelativeSlopePosition_MEAN', 'Slope_MEAN', 'TopographicWetnessIndex_MEAN', 'TotalCatchmentArea_MEAN', 'ValleyDepth_MEAN', 'NIGHT2022_MEAN', 'ETP2022_mean_MEAN', 'TMP2022_mean_MEAN', 'PRE2022_mean_MEAN', 'PRE2022_3_MEAN', 'PRE2022_11_MEAN', 'ETP2022_3_MEAN', 'ETP2022_11_MEAN', 'TMP2022_3_MEAN', 'TMP2022_11_MEAN', 'evi_MEAN', 'lswi_MEAN', 'mndwi_MEAN', 'ndvi_MEAN', 'ndwi_MEAN', 'PCA_0_MEAN', 'PCA_1_MEAN', 'savi_MEAN', 'vari_MEAN', 'SlopeClass_MAJORITY']\n"
     ]
    }
   ],
   "source": [
    "# 获取特征函数\n",
    "\n",
    "def get_feature_names(predictor):\n",
    "    feature_names = predictor.feature_metadata_in.get_features()\n",
    "    return feature_names\n",
    "sdt_feature_names = syy_sdt_predictor.feature_metadata_in.get_features()\n",
    "print(\"SDT\",sdt_feature_names)\n",
    "fzrt_feature_names = syy_fzrt_predictor.feature_metadata_in.get_features()\n",
    "print(\"FZRT\",fzrt_feature_names)\n",
    "zrt_feature_names = syy_zrt_predictor.feature_metadata_in.get_features()\n",
    "print(\"ZRT\",zrt_feature_names)"
   ]
  },
  {
   "cell_type": "code",
   "execution_count": 52,
   "metadata": {},
   "outputs": [],
   "source": [
    "# 存放预测结果的路径\n",
    "result_path =  r\"F:\\cache_data\\zone_ana\\dy\\prediction_result\""
   ]
  },
  {
   "cell_type": "code",
   "execution_count": 53,
   "metadata": {},
   "outputs": [],
   "source": [
    "# 读取数据集\n",
    "feature_path = r'F:\\cache_data\\zone_ana\\dy\\prediction_data\\result_20240728.csv'"
   ]
  },
  {
   "cell_type": "code",
   "execution_count": 54,
   "metadata": {},
   "outputs": [],
   "source": [
    "feature_df = pd.read_csv(feature_path)"
   ]
  },
  {
   "cell_type": "code",
   "execution_count": 55,
   "metadata": {},
   "outputs": [
    {
     "data": {
      "text/plain": [
       "Index(['OBJECTID', 'DLMC', '母质', 'gridcode', 'XMin', 'YMin', 'XMax', 'YMax',\n",
       "       'Centroid_X', 'Centroid_Y',\n",
       "       ...\n",
       "       'DZ_MAX', 'DZ_RANGE', 'DZ_MEAN', 'DZ_STD', 'DZ_SUM', 'DZ_VARIETY',\n",
       "       'DZ_MAJORITY', 'DZ_MINORITY', 'DZ_MEDIAN', 'DZ_PCT90'],\n",
       "      dtype='object', length=400)"
      ]
     },
     "execution_count": 55,
     "metadata": {},
     "output_type": "execute_result"
    }
   ],
   "source": [
    "feature_df.columns"
   ]
  },
  {
   "cell_type": "code",
   "execution_count": 56,
   "metadata": {},
   "outputs": [
    {
     "data": {
      "text/html": [
       "<div>\n",
       "<style scoped>\n",
       "    .dataframe tbody tr th:only-of-type {\n",
       "        vertical-align: middle;\n",
       "    }\n",
       "\n",
       "    .dataframe tbody tr th {\n",
       "        vertical-align: top;\n",
       "    }\n",
       "\n",
       "    .dataframe thead th {\n",
       "        text-align: right;\n",
       "    }\n",
       "</style>\n",
       "<table border=\"1\" class=\"dataframe\">\n",
       "  <thead>\n",
       "    <tr style=\"text-align: right;\">\n",
       "      <th></th>\n",
       "      <th>OBJECTID</th>\n",
       "      <th>DLMC</th>\n",
       "      <th>母质</th>\n",
       "      <th>gridcode</th>\n",
       "      <th>XMin</th>\n",
       "      <th>YMin</th>\n",
       "      <th>XMax</th>\n",
       "      <th>YMax</th>\n",
       "      <th>Centroid_X</th>\n",
       "      <th>Centroid_Y</th>\n",
       "      <th>...</th>\n",
       "      <th>DZ_MAX</th>\n",
       "      <th>DZ_RANGE</th>\n",
       "      <th>DZ_MEAN</th>\n",
       "      <th>DZ_STD</th>\n",
       "      <th>DZ_SUM</th>\n",
       "      <th>DZ_VARIETY</th>\n",
       "      <th>DZ_MAJORITY</th>\n",
       "      <th>DZ_MINORITY</th>\n",
       "      <th>DZ_MEDIAN</th>\n",
       "      <th>DZ_PCT90</th>\n",
       "    </tr>\n",
       "  </thead>\n",
       "  <tbody>\n",
       "  </tbody>\n",
       "</table>\n",
       "<p>0 rows × 400 columns</p>\n",
       "</div>"
      ],
      "text/plain": [
       "Empty DataFrame\n",
       "Columns: [OBJECTID, DLMC, 母质, gridcode, XMin, YMin, XMax, YMax, Centroid_X, Centroid_Y, DEM_COUNT, DEM_AREA, DEM_MIN, DEM_MAX, DEM_RANGE, DEM_MEAN, DEM_STD, DEM_SUM, DEM_MEDIAN, DEM_PCT90, AnalyticalHillshading_COUNT, AnalyticalHillshading_AREA, AnalyticalHillshading_MIN, AnalyticalHillshading_MAX, AnalyticalHillshading_RANGE, AnalyticalHillshading_MEAN, AnalyticalHillshading_STD, AnalyticalHillshading_SUM, AnalyticalHillshading_MEDIAN, AnalyticalHillshading_PCT90, Aspect_COUNT, Aspect_AREA, Aspect_MIN, Aspect_MAX, Aspect_RANGE, Aspect_MEAN, Aspect_STD, Aspect_SUM, Aspect_MEDIAN, Aspect_PCT90, ChannelNetworkBaseLevel_COUNT, ChannelNetworkBaseLevel_AREA, ChannelNetworkBaseLevel_MIN, ChannelNetworkBaseLevel_MAX, ChannelNetworkBaseLevel_RANGE, ChannelNetworkBaseLevel_MEAN, ChannelNetworkBaseLevel_STD, ChannelNetworkBaseLevel_SUM, ChannelNetworkBaseLevel_MEDIAN, ChannelNetworkBaseLevel_PCT90, ChannelNetworkDistance_COUNT, ChannelNetworkDistance_AREA, ChannelNetworkDistance_MIN, ChannelNetworkDistance_MAX, ChannelNetworkDistance_RANGE, ChannelNetworkDistance_MEAN, ChannelNetworkDistance_STD, ChannelNetworkDistance_SUM, ChannelNetworkDistance_MEDIAN, ChannelNetworkDistance_PCT90, ConvergenceIndex_COUNT, ConvergenceIndex_AREA, ConvergenceIndex_MIN, ConvergenceIndex_MAX, ConvergenceIndex_RANGE, ConvergenceIndex_MEAN, ConvergenceIndex_STD, ConvergenceIndex_SUM, ConvergenceIndex_MEDIAN, ConvergenceIndex_PCT90, LSFactor_COUNT, LSFactor_AREA, LSFactor_MIN, LSFactor_MAX, LSFactor_RANGE, LSFactor_MEAN, LSFactor_STD, LSFactor_SUM, LSFactor_MEDIAN, LSFactor_PCT90, MRRTF_COUNT, MRRTF_AREA, MRRTF_MIN, MRRTF_MAX, MRRTF_RANGE, MRRTF_MEAN, MRRTF_STD, MRRTF_SUM, MRRTF_MEDIAN, MRRTF_PCT90, MRVBF_COUNT, MRVBF_AREA, MRVBF_MIN, MRVBF_MAX, MRVBF_RANGE, MRVBF_MEAN, MRVBF_STD, MRVBF_SUM, MRVBF_MEDIAN, MRVBF_PCT90, ...]\n",
       "Index: []\n",
       "\n",
       "[0 rows x 400 columns]"
      ]
     },
     "execution_count": 56,
     "metadata": {},
     "output_type": "execute_result"
    }
   ],
   "source": [
    "rows_with_nan = feature_df.loc[feature_df.isnull().any(axis=1)]\n",
    "rows_with_nan"
   ]
  },
  {
   "cell_type": "code",
   "execution_count": 57,
   "metadata": {},
   "outputs": [],
   "source": [
    "# 选择数值类型的列\n",
    "numeric_cols = feature_df.select_dtypes(include=[np.float64])\n",
    "\n",
    "# 计算数值列的均值\n",
    "mean_values = numeric_cols.mean()\n",
    "\n",
    "# 用均值填充数值列的空值\n",
    "feature_df[numeric_cols.columns] = numeric_cols.fillna(mean_values)"
   ]
  },
  {
   "cell_type": "code",
   "execution_count": 58,
   "metadata": {},
   "outputs": [
    {
     "data": {
      "text/html": [
       "<div>\n",
       "<style scoped>\n",
       "    .dataframe tbody tr th:only-of-type {\n",
       "        vertical-align: middle;\n",
       "    }\n",
       "\n",
       "    .dataframe tbody tr th {\n",
       "        vertical-align: top;\n",
       "    }\n",
       "\n",
       "    .dataframe thead th {\n",
       "        text-align: right;\n",
       "    }\n",
       "</style>\n",
       "<table border=\"1\" class=\"dataframe\">\n",
       "  <thead>\n",
       "    <tr style=\"text-align: right;\">\n",
       "      <th></th>\n",
       "      <th>OBJECTID</th>\n",
       "      <th>DLMC</th>\n",
       "      <th>母质</th>\n",
       "      <th>gridcode</th>\n",
       "      <th>XMin</th>\n",
       "      <th>YMin</th>\n",
       "      <th>XMax</th>\n",
       "      <th>YMax</th>\n",
       "      <th>Centroid_X</th>\n",
       "      <th>Centroid_Y</th>\n",
       "      <th>...</th>\n",
       "      <th>DZ_MAX</th>\n",
       "      <th>DZ_RANGE</th>\n",
       "      <th>DZ_MEAN</th>\n",
       "      <th>DZ_STD</th>\n",
       "      <th>DZ_SUM</th>\n",
       "      <th>DZ_VARIETY</th>\n",
       "      <th>DZ_MAJORITY</th>\n",
       "      <th>DZ_MINORITY</th>\n",
       "      <th>DZ_MEDIAN</th>\n",
       "      <th>DZ_PCT90</th>\n",
       "    </tr>\n",
       "  </thead>\n",
       "  <tbody>\n",
       "  </tbody>\n",
       "</table>\n",
       "<p>0 rows × 400 columns</p>\n",
       "</div>"
      ],
      "text/plain": [
       "Empty DataFrame\n",
       "Columns: [OBJECTID, DLMC, 母质, gridcode, XMin, YMin, XMax, YMax, Centroid_X, Centroid_Y, DEM_COUNT, DEM_AREA, DEM_MIN, DEM_MAX, DEM_RANGE, DEM_MEAN, DEM_STD, DEM_SUM, DEM_MEDIAN, DEM_PCT90, AnalyticalHillshading_COUNT, AnalyticalHillshading_AREA, AnalyticalHillshading_MIN, AnalyticalHillshading_MAX, AnalyticalHillshading_RANGE, AnalyticalHillshading_MEAN, AnalyticalHillshading_STD, AnalyticalHillshading_SUM, AnalyticalHillshading_MEDIAN, AnalyticalHillshading_PCT90, Aspect_COUNT, Aspect_AREA, Aspect_MIN, Aspect_MAX, Aspect_RANGE, Aspect_MEAN, Aspect_STD, Aspect_SUM, Aspect_MEDIAN, Aspect_PCT90, ChannelNetworkBaseLevel_COUNT, ChannelNetworkBaseLevel_AREA, ChannelNetworkBaseLevel_MIN, ChannelNetworkBaseLevel_MAX, ChannelNetworkBaseLevel_RANGE, ChannelNetworkBaseLevel_MEAN, ChannelNetworkBaseLevel_STD, ChannelNetworkBaseLevel_SUM, ChannelNetworkBaseLevel_MEDIAN, ChannelNetworkBaseLevel_PCT90, ChannelNetworkDistance_COUNT, ChannelNetworkDistance_AREA, ChannelNetworkDistance_MIN, ChannelNetworkDistance_MAX, ChannelNetworkDistance_RANGE, ChannelNetworkDistance_MEAN, ChannelNetworkDistance_STD, ChannelNetworkDistance_SUM, ChannelNetworkDistance_MEDIAN, ChannelNetworkDistance_PCT90, ConvergenceIndex_COUNT, ConvergenceIndex_AREA, ConvergenceIndex_MIN, ConvergenceIndex_MAX, ConvergenceIndex_RANGE, ConvergenceIndex_MEAN, ConvergenceIndex_STD, ConvergenceIndex_SUM, ConvergenceIndex_MEDIAN, ConvergenceIndex_PCT90, LSFactor_COUNT, LSFactor_AREA, LSFactor_MIN, LSFactor_MAX, LSFactor_RANGE, LSFactor_MEAN, LSFactor_STD, LSFactor_SUM, LSFactor_MEDIAN, LSFactor_PCT90, MRRTF_COUNT, MRRTF_AREA, MRRTF_MIN, MRRTF_MAX, MRRTF_RANGE, MRRTF_MEAN, MRRTF_STD, MRRTF_SUM, MRRTF_MEDIAN, MRRTF_PCT90, MRVBF_COUNT, MRVBF_AREA, MRVBF_MIN, MRVBF_MAX, MRVBF_RANGE, MRVBF_MEAN, MRVBF_STD, MRVBF_SUM, MRVBF_MEDIAN, MRVBF_PCT90, ...]\n",
       "Index: []\n",
       "\n",
       "[0 rows x 400 columns]"
      ]
     },
     "execution_count": 58,
     "metadata": {},
     "output_type": "execute_result"
    }
   ],
   "source": [
    "rows_with_nan = feature_df.loc[feature_df.isnull().any(axis=1)]\n",
    "rows_with_nan"
   ]
  },
  {
   "cell_type": "code",
   "execution_count": 59,
   "metadata": {},
   "outputs": [],
   "source": [
    "feature_df.rename(columns={'母质':'MZ'},inplace=True)"
   ]
  },
  {
   "cell_type": "code",
   "execution_count": 60,
   "metadata": {},
   "outputs": [],
   "source": [
    "dataset = feature_df"
   ]
  },
  {
   "cell_type": "code",
   "execution_count": 61,
   "metadata": {},
   "outputs": [
    {
     "data": {
      "text/plain": [
       "Index(['OBJECTID', 'DLMC', 'MZ', 'gridcode', 'XMin', 'YMin', 'XMax', 'YMax',\n",
       "       'Centroid_X', 'Centroid_Y',\n",
       "       ...\n",
       "       'DZ_MAX', 'DZ_RANGE', 'DZ_MEAN', 'DZ_STD', 'DZ_SUM', 'DZ_VARIETY',\n",
       "       'DZ_MAJORITY', 'DZ_MINORITY', 'DZ_MEDIAN', 'DZ_PCT90'],\n",
       "      dtype='object', length=400)"
      ]
     },
     "execution_count": 61,
     "metadata": {},
     "output_type": "execute_result"
    }
   ],
   "source": [
    "dataset.columns"
   ]
  },
  {
   "cell_type": "code",
   "execution_count": 62,
   "metadata": {},
   "outputs": [],
   "source": [
    "\n",
    "duplicated_rows = dataset[dataset['OBJECTID'].duplicated(keep=False)]"
   ]
  },
  {
   "cell_type": "code",
   "execution_count": 63,
   "metadata": {},
   "outputs": [
    {
     "data": {
      "text/html": [
       "<div>\n",
       "<style scoped>\n",
       "    .dataframe tbody tr th:only-of-type {\n",
       "        vertical-align: middle;\n",
       "    }\n",
       "\n",
       "    .dataframe tbody tr th {\n",
       "        vertical-align: top;\n",
       "    }\n",
       "\n",
       "    .dataframe thead th {\n",
       "        text-align: right;\n",
       "    }\n",
       "</style>\n",
       "<table border=\"1\" class=\"dataframe\">\n",
       "  <thead>\n",
       "    <tr style=\"text-align: right;\">\n",
       "      <th></th>\n",
       "      <th>OBJECTID</th>\n",
       "      <th>DLMC</th>\n",
       "      <th>MZ</th>\n",
       "      <th>gridcode</th>\n",
       "      <th>XMin</th>\n",
       "      <th>YMin</th>\n",
       "      <th>XMax</th>\n",
       "      <th>YMax</th>\n",
       "      <th>Centroid_X</th>\n",
       "      <th>Centroid_Y</th>\n",
       "      <th>...</th>\n",
       "      <th>DZ_MAX</th>\n",
       "      <th>DZ_RANGE</th>\n",
       "      <th>DZ_MEAN</th>\n",
       "      <th>DZ_STD</th>\n",
       "      <th>DZ_SUM</th>\n",
       "      <th>DZ_VARIETY</th>\n",
       "      <th>DZ_MAJORITY</th>\n",
       "      <th>DZ_MINORITY</th>\n",
       "      <th>DZ_MEDIAN</th>\n",
       "      <th>DZ_PCT90</th>\n",
       "    </tr>\n",
       "  </thead>\n",
       "  <tbody>\n",
       "  </tbody>\n",
       "</table>\n",
       "<p>0 rows × 400 columns</p>\n",
       "</div>"
      ],
      "text/plain": [
       "Empty DataFrame\n",
       "Columns: [OBJECTID, DLMC, MZ, gridcode, XMin, YMin, XMax, YMax, Centroid_X, Centroid_Y, DEM_COUNT, DEM_AREA, DEM_MIN, DEM_MAX, DEM_RANGE, DEM_MEAN, DEM_STD, DEM_SUM, DEM_MEDIAN, DEM_PCT90, AnalyticalHillshading_COUNT, AnalyticalHillshading_AREA, AnalyticalHillshading_MIN, AnalyticalHillshading_MAX, AnalyticalHillshading_RANGE, AnalyticalHillshading_MEAN, AnalyticalHillshading_STD, AnalyticalHillshading_SUM, AnalyticalHillshading_MEDIAN, AnalyticalHillshading_PCT90, Aspect_COUNT, Aspect_AREA, Aspect_MIN, Aspect_MAX, Aspect_RANGE, Aspect_MEAN, Aspect_STD, Aspect_SUM, Aspect_MEDIAN, Aspect_PCT90, ChannelNetworkBaseLevel_COUNT, ChannelNetworkBaseLevel_AREA, ChannelNetworkBaseLevel_MIN, ChannelNetworkBaseLevel_MAX, ChannelNetworkBaseLevel_RANGE, ChannelNetworkBaseLevel_MEAN, ChannelNetworkBaseLevel_STD, ChannelNetworkBaseLevel_SUM, ChannelNetworkBaseLevel_MEDIAN, ChannelNetworkBaseLevel_PCT90, ChannelNetworkDistance_COUNT, ChannelNetworkDistance_AREA, ChannelNetworkDistance_MIN, ChannelNetworkDistance_MAX, ChannelNetworkDistance_RANGE, ChannelNetworkDistance_MEAN, ChannelNetworkDistance_STD, ChannelNetworkDistance_SUM, ChannelNetworkDistance_MEDIAN, ChannelNetworkDistance_PCT90, ConvergenceIndex_COUNT, ConvergenceIndex_AREA, ConvergenceIndex_MIN, ConvergenceIndex_MAX, ConvergenceIndex_RANGE, ConvergenceIndex_MEAN, ConvergenceIndex_STD, ConvergenceIndex_SUM, ConvergenceIndex_MEDIAN, ConvergenceIndex_PCT90, LSFactor_COUNT, LSFactor_AREA, LSFactor_MIN, LSFactor_MAX, LSFactor_RANGE, LSFactor_MEAN, LSFactor_STD, LSFactor_SUM, LSFactor_MEDIAN, LSFactor_PCT90, MRRTF_COUNT, MRRTF_AREA, MRRTF_MIN, MRRTF_MAX, MRRTF_RANGE, MRRTF_MEAN, MRRTF_STD, MRRTF_SUM, MRRTF_MEDIAN, MRRTF_PCT90, MRVBF_COUNT, MRVBF_AREA, MRVBF_MIN, MRVBF_MAX, MRVBF_RANGE, MRVBF_MEAN, MRVBF_STD, MRVBF_SUM, MRVBF_MEDIAN, MRVBF_PCT90, ...]\n",
       "Index: []\n",
       "\n",
       "[0 rows x 400 columns]"
      ]
     },
     "execution_count": 63,
     "metadata": {},
     "output_type": "execute_result"
    }
   ],
   "source": [
    "duplicated_rows"
   ]
  },
  {
   "cell_type": "code",
   "execution_count": 65,
   "metadata": {},
   "outputs": [],
   "source": [
    "# 统计总数据中各个岩石类型的总数\n",
    "value_counts_dict = dataset['MZ'].value_counts().to_dict()\n"
   ]
  },
  {
   "cell_type": "code",
   "execution_count": 66,
   "metadata": {},
   "outputs": [
    {
     "name": "stdout",
     "output_type": "stream",
     "text": [
      "54613 54613\n"
     ]
    }
   ],
   "source": [
    "# 筛选砂岩水稻土数据\n",
    "sy_sdt_data = dataset[dataset['DLMC'].isin(['水田','水浇地','坑塘水面','养殖坑塘','内陆滩涂']) \n",
    "                      & (dataset['MZ'] == '砂岩')]\n",
    "# 筛砂岩选非自然土数据\n",
    "sy_fzrt_data = dataset[~dataset['DLMC'].isin(['乔木林地','灌木林地','竹林地','其他林地','其他草地','天然牧草地','人工牧草地','水田','水浇地','坑塘水面','养殖坑塘','内陆滩涂']) \n",
    "                       & (dataset['MZ'] == '砂岩')]\n",
    "# 筛选自然土数据\n",
    "sy_zrt_data = dataset[dataset['DLMC'].isin(['乔木林地','灌木林地','竹林地','其他林地','其他草地','天然牧草地','人工牧草地'])\n",
    "                   & (dataset['MZ'] == '砂岩')]\n",
    "print(sy_sdt_data.shape[0]+sy_fzrt_data.shape[0]+sy_zrt_data.shape[0],value_counts_dict['砂岩'])"
   ]
  },
  {
   "cell_type": "code",
   "execution_count": 67,
   "metadata": {},
   "outputs": [
    {
     "name": "stdout",
     "output_type": "stream",
     "text": [
      "64903 64903\n"
     ]
    }
   ],
   "source": [
    "# 筛选碳酸岩水稻土数据\n",
    "tsy_sdt_data = dataset[dataset['DLMC'].isin(['水田','水浇地','坑塘水面','养殖坑塘','内陆滩涂']) \n",
    "                      & (dataset['MZ'] == '碳酸岩')]\n",
    "\n",
    "# 筛选碳酸岩选非自然土数据\n",
    "tsy_fzrt_data = dataset[~dataset['DLMC'].isin(['乔木林地','灌木林地','竹林地','其他林地','其他草地','天然牧草地','人工牧草地','水田','水浇地','坑塘水面','养殖坑塘','内陆滩涂']) \n",
    "                        &(dataset['MZ'] == '碳酸岩')]\n",
    "\n",
    "# 筛选碳酸岩自然土数据\n",
    "tsy_zrt_data = dataset[dataset['DLMC'].isin(['乔木林地','灌木林地','竹林地','其他林地','其他草地','天然牧草地','人工牧草地'])\n",
    "                   & (dataset['MZ'] == '碳酸岩')]\n",
    "print(tsy_sdt_data.shape[0]+tsy_fzrt_data.shape[0]+tsy_zrt_data.shape[0],value_counts_dict['碳酸岩'])"
   ]
  },
  {
   "cell_type": "code",
   "execution_count": 68,
   "metadata": {},
   "outputs": [
    {
     "name": "stdout",
     "output_type": "stream",
     "text": [
      "39925 39925\n"
     ]
    }
   ],
   "source": [
    "# 筛选第四系红粘土水稻土数据\n",
    "hnt_sdt_data = dataset[dataset['DLMC'].isin(['水田','水浇地','坑塘水面','养殖坑塘','内陆滩涂']) \n",
    "                      & (dataset['MZ'] == '第四系红粘土')]\n",
    "\n",
    "# 筛选第四系红粘土非自然土数据\n",
    "hnt_fzrt_data = dataset[~dataset['DLMC'].isin(['乔木林地','灌木林地','竹林地','其他林地','其他草地','天然牧草地','人工牧草地','水田','水浇地','坑塘水面','养殖坑塘','内陆滩涂']) \n",
    "                       & (dataset['MZ'] == '第四系红粘土')]\n",
    "\n",
    "# 筛选第四系红粘土自然土数据\n",
    "hnt_zrt_data = dataset[dataset['DLMC'].isin(['乔木林地','灌木林地','竹林地','其他林地','其他草地','天然牧草地','人工牧草地'])\n",
    "                   & (dataset['MZ'] == '第四系红粘土')]\n",
    "print(hnt_sdt_data.shape[0]+hnt_fzrt_data.shape[0]+hnt_zrt_data.shape[0],value_counts_dict['第四系红粘土'])"
   ]
  },
  {
   "cell_type": "code",
   "execution_count": 69,
   "metadata": {},
   "outputs": [
    {
     "name": "stdout",
     "output_type": "stream",
     "text": [
      "50440 50440\n"
     ]
    }
   ],
   "source": [
    "# 筛选泥(页)岩水稻土数据\n",
    "nyy_sdt_data = dataset[dataset['DLMC'].isin(['水田','水浇地','坑塘水面','养殖坑塘','内陆滩涂']) \n",
    "                      & (dataset['MZ'] == '泥(页)岩')]\n",
    "\n",
    "# 筛选泥(页)岩非自然土数据\n",
    "nyy_fzrt_data = dataset[~dataset['DLMC'].isin(['乔木林地','灌木林地','竹林地','其他林地','其他草地','天然牧草地','人工牧草地','水田','水浇地','坑塘水面','养殖坑塘','内陆滩涂']) \n",
    "                       & (dataset['MZ'] == '泥(页)岩')]\n",
    "\n",
    "# 筛选泥(页)岩自然土数据\n",
    "nyy_zrt_data = dataset[dataset['DLMC'].isin(['乔木林地','灌木林地','竹林地','其他林地','其他草地','天然牧草地','人工牧草地'])\n",
    "                   & (dataset['MZ'] == '泥(页)岩')]\n",
    "print(nyy_sdt_data.shape[0]+nyy_fzrt_data.shape[0]+nyy_zrt_data.shape[0],value_counts_dict['泥(页)岩'])"
   ]
  },
  {
   "cell_type": "code",
   "execution_count": 70,
   "metadata": {},
   "outputs": [
    {
     "name": "stdout",
     "output_type": "stream",
     "text": [
      "370 370\n"
     ]
    }
   ],
   "source": [
    "# 筛选紫红色砂页岩水稻土数据\n",
    "zhsyy_sdt_data = dataset[dataset['DLMC'].isin(['水田','水浇地','坑塘水面','养殖坑塘','内陆滩涂']) \n",
    "                      &(dataset['MZ'] == '紫红色砂页岩')]\n",
    "\n",
    "# 筛选紫红色砂页岩非自然土数据\n",
    "zhsyy_fzrt_data = dataset[~dataset['DLMC'].isin(['乔木林地','灌木林地','竹林地','其他林地','其他草地','天然牧草地','人工牧草地','水田','水浇地','坑塘水面','养殖坑塘','内陆滩涂']) \n",
    "                       & (dataset['MZ'] == '紫红色砂页岩')]\n",
    "\n",
    "# 筛选紫红色砂页岩自然土数据\n",
    "zhsyy_zrt_data = dataset[dataset['DLMC'].isin(['乔木林地','灌木林地','竹林地','其他林地','其他草地','天然牧草地','人工牧草地'])\n",
    "                   & (dataset['MZ'] == '紫红色砂页岩')]\n",
    "print(zhsyy_sdt_data.shape[0]+zhsyy_fzrt_data.shape[0]+zhsyy_zrt_data.shape[0],value_counts_dict['紫红色砂页岩'])"
   ]
  },
  {
   "cell_type": "code",
   "execution_count": 71,
   "metadata": {},
   "outputs": [
    {
     "name": "stdout",
     "output_type": "stream",
     "text": [
      "4854 4854\n"
     ]
    }
   ],
   "source": [
    "# 筛选河流冲积物水稻土数据\n",
    "hlcjw_sdt_data = dataset[(dataset['MZ'] == '河流冲积物')]\n",
    "print(hlcjw_sdt_data.shape[0],value_counts_dict['河流冲积物'])"
   ]
  },
  {
   "cell_type": "code",
   "execution_count": 72,
   "metadata": {},
   "outputs": [
    {
     "name": "stdout",
     "output_type": "stream",
     "text": [
      "965 965\n"
     ]
    }
   ],
   "source": [
    "# 筛选砾岩水稻土数据\n",
    "ly_sdt_data = dataset[dataset['DLMC'].isin(['水田','水浇地','坑塘水面','养殖坑塘','内陆滩涂']) \n",
    "                      & (dataset['MZ'] == '砾岩')]\n",
    "\n",
    "# 筛选砾岩非自然土数据\n",
    "ly_fzrt_data = dataset[~dataset['DLMC'].isin(['乔木林地','灌木林地','竹林地','其他林地','其他草地','天然牧草地','人工牧草地','水田','水浇地','坑塘水面','养殖坑塘','内陆滩涂']) \n",
    "                       & (dataset['MZ'] == '砾岩')]\n",
    "\n",
    "# 筛选砾岩非自然土数据\n",
    "ly_zrt_data = dataset[dataset['DLMC'].isin(['乔木林地','灌木林地','竹林地','其他林地','其他草地','天然牧草地','人工牧草地']) \n",
    "                       & (dataset['MZ'] == '砾岩')]\n",
    "print(ly_sdt_data.shape[0]+ly_fzrt_data.shape[0]+ly_zrt_data.shape[0],value_counts_dict['砾岩'])"
   ]
  },
  {
   "cell_type": "code",
   "execution_count": 73,
   "metadata": {},
   "outputs": [
    {
     "name": "stdout",
     "output_type": "stream",
     "text": [
      "104 104\n"
     ]
    }
   ],
   "source": [
    "# 筛选第四纪冰川冲积物水稻土数据\n",
    "bccjw_sdt_data = dataset[dataset['DLMC'].isin(['水田','水浇地','坑塘水面','养殖坑塘','内陆滩涂']) \n",
    "                     & (dataset['MZ'] == '第四纪冰川冲积物')]\n",
    "\n",
    "# 筛选第四纪冰川冲积物非自然土数据\n",
    "bccjw_fzrt_data = dataset[~dataset['DLMC'].isin(['乔木林地','灌木林地','竹林地','其他林地','其他草地','天然牧草地','人工牧草地','水田','水浇地','坑塘水面','养殖坑塘','内陆滩涂']) \n",
    "                       & (dataset['MZ'] == '第四纪冰川冲积物')]\n",
    "\n",
    "# 筛选第四纪冰川冲积物自然土数据\n",
    "bccjw_zrt_data = dataset[dataset['DLMC'].isin(['乔木林地','灌木林地','竹林地','其他林地','其他草地','天然牧草地','人工牧草地'])\n",
    "                   & (dataset['MZ'] == '第四纪冰川冲积物')]\n",
    "print(bccjw_sdt_data.shape[0]+bccjw_fzrt_data.shape[0]+bccjw_zrt_data.shape[0],value_counts_dict['第四纪冰川冲积物'])"
   ]
  },
  {
   "cell_type": "code",
   "execution_count": 74,
   "metadata": {},
   "outputs": [
    {
     "name": "stdout",
     "output_type": "stream",
     "text": [
      "567 567\n"
     ]
    }
   ],
   "source": [
    "# 筛选砂页岩水稻土数据\n",
    "syy_sdt_data = dataset[dataset['DLMC'].isin(['水田','水浇地','坑塘水面','养殖坑塘','内陆滩涂']) \n",
    "                      & (dataset['MZ'] == '砂页岩')]\n",
    "\n",
    "# 筛选砂页岩非自然土数据\n",
    "syy_fzrt_data = dataset[~dataset['DLMC'].isin(['乔木林地','灌木林地','竹林地','其他林地','其他草地','天然牧草地','人工牧草地','水田','水浇地','坑塘水面','养殖坑塘','内陆滩涂']) \n",
    "                       & (dataset['MZ'] == '砂页岩')]\n",
    "\n",
    "# 筛选砂页岩物自然土数据\n",
    "syy_zrt_data = dataset[dataset['DLMC'].isin(['乔木林地','灌木林地','竹林地','其他林地','其他草地','天然牧草地','人工牧草地'])\n",
    "                   & (dataset['MZ'] == '砂页岩')]\n",
    "print(syy_sdt_data.shape[0]+syy_fzrt_data.shape[0]+syy_zrt_data.shape[0],value_counts_dict['砂页岩'])"
   ]
  },
  {
   "cell_type": "code",
   "execution_count": 75,
   "metadata": {},
   "outputs": [
    {
     "name": "stdout",
     "output_type": "stream",
     "text": [
      "砂岩 (9599, 400) (18691, 400) (26323, 400)\n",
      "碳酸岩 (8590, 400) (26866, 400) (29447, 400)\n",
      "第四系红粘土 (5802, 400) (18914, 400) (15209, 400)\n",
      "泥页岩 (7980, 400) (22225, 400) (20235, 400)\n",
      "紫红色砂页岩 (34, 400) (169, 400) (167, 400)\n",
      "河流冲积物 (4854, 400)\n",
      "砾岩 (65, 400) (453, 400) (447, 400)\n",
      "第四纪冰川冲积物 (3, 400) (33, 400) (68, 400)\n",
      "砂页岩 (26, 400) (340, 400) (201, 400)\n"
     ]
    }
   ],
   "source": [
    "# 查看各个数据集的大小\n",
    "print('砂岩',sy_sdt_data.shape,sy_fzrt_data.shape,sy_zrt_data.shape)\n",
    "print('碳酸岩',tsy_sdt_data.shape,tsy_fzrt_data.shape,tsy_zrt_data.shape)\n",
    "print('第四系红粘土',hnt_sdt_data.shape,hnt_fzrt_data.shape,hnt_zrt_data.shape)\n",
    "print('泥页岩',nyy_sdt_data.shape,nyy_fzrt_data.shape,nyy_zrt_data.shape)\n",
    "print('紫红色砂页岩',zhsyy_sdt_data.shape,zhsyy_fzrt_data.shape,zhsyy_zrt_data.shape)\n",
    "print('河流冲积物',hlcjw_sdt_data.shape)\n",
    "print('砾岩',ly_sdt_data.shape,ly_fzrt_data.shape,ly_zrt_data.shape)\n",
    "print('第四纪冰川冲积物',bccjw_sdt_data.shape,bccjw_fzrt_data.shape,bccjw_zrt_data.shape)\n",
    "print('砂页岩',syy_sdt_data.shape,syy_fzrt_data.shape,syy_zrt_data.shape)\n",
    "\n"
   ]
  },
  {
   "cell_type": "code",
   "execution_count": 76,
   "metadata": {},
   "outputs": [],
   "source": [
    "# 获取对照字典\n",
    "with open(r'D:\\worker_code\\Terrain_Test\\data\\soil_dict_20240726.json', 'r') as f:\n",
    "    soil_dict = json.load(f)\n",
    "# 将键转为int\n",
    "soil_dict = {int(k):v for k, v in soil_dict.items()}"
   ]
  },
  {
   "cell_type": "code",
   "execution_count": 79,
   "metadata": {},
   "outputs": [
    {
     "data": {
      "text/plain": [
       "['NeuralNetFastAI',\n",
       " 'RandomForestGini',\n",
       " 'RandomForestEntr',\n",
       " 'ExtraTreesGini',\n",
       " 'ExtraTreesEntr',\n",
       " 'NeuralNetTorch',\n",
       " 'WeightedEnsemble_L2']"
      ]
     },
     "execution_count": 79,
     "metadata": {},
     "output_type": "execute_result"
    }
   ],
   "source": [
    "zhsyy_sdt_predictor.model_names()"
   ]
  },
  {
   "cell_type": "code",
   "execution_count": 106,
   "metadata": {},
   "outputs": [],
   "source": [
    "# 模型选择\n",
    "# select_model = 'WeightedEnsemble_L2'\n",
    "select_model = 'RandomForestEntr'"
   ]
  },
  {
   "cell_type": "code",
   "execution_count": 107,
   "metadata": {},
   "outputs": [],
   "source": [
    "# 概率预测函数\n",
    "def predict_top_classes(data, predictor,feature_names, model, top_n, soil_dict):\n",
    "    \"\"\"\n",
    "    根据给定的AutoGluon模型，预测数据集中的前n个最可能的类别及其概率，并根据提供的字典转换类别编号为描述字符串。\n",
    "    参数:\n",
    "    data (DataFrame): 输入的数据集。\n",
    "    predictor（model）: 对应的模型\n",
    "    feature_names (list): 用于预测的特征名列表。\n",
    "    model (str): 选择的模型名称。\n",
    "    top_n (int): 需要返回的最高概率的类别数量。\n",
    "    soil_dict (dict): 类别编号到描述字符串的映射字典。\n",
    "    \n",
    "    返回:\n",
    "    DataFrame: 原始数据与预测结果合并后的DataFrame。\n",
    "    \"\"\"\n",
    "    # 复制数据\n",
    "    data = data.copy()\n",
    "    # 预测概率\n",
    "    pred_probs = predictor.predict_proba(data[feature_names], model=model)\n",
    "    # 获取概率最高的前n个类别及其概率\n",
    "    top_classes = pred_probs.apply(lambda x: pd.Series(x.nlargest(top_n).index.astype(int).tolist() + x.nlargest(top_n).values.tolist()), axis=1)\n",
    "    # 重命名列\n",
    "    class_cols = ['Class{}'.format(i+1) for i in range(top_n)]\n",
    "    prob_cols = ['Prob{}'.format(i+1) for i in range(top_n)]\n",
    "    top_classes.columns = class_cols + prob_cols\n",
    "    # 转换类别编号为描述字符串\n",
    "    for col in class_cols:\n",
    "        top_classes[col] = top_classes[col].map(soil_dict)\n",
    "    # 计算每个预测的熵\n",
    "    entropy = pred_probs.apply(lambda x: -np.sum(x * np.log(x + 1e-9)), axis=1)\n",
    "    top_classes['Entropy'] = entropy\n",
    "    # 计算每个预测的不确定性（标准差）\n",
    "    uncertainty = pred_probs.std(axis=1)\n",
    "    top_classes['Uncertainty'] = uncertainty\n",
    "    # 将新列添加到原有的DataFrame中\n",
    "    return pd.concat([data, top_classes], axis=1)"
   ]
  },
  {
   "cell_type": "code",
   "execution_count": 108,
   "metadata": {},
   "outputs": [],
   "source": [
    "# 模型预测\n",
    "sy_sdt_result_df = predict_top_classes(sy_sdt_data, sy_sdt_predictor,get_feature_names(sy_sdt_predictor), select_model, 2, soil_dict)\n",
    "sy_fzrt_result_df = predict_top_classes(sy_fzrt_data, sy_fzrt_predictor,get_feature_names(sy_fzrt_predictor), select_model, 2, soil_dict)\n",
    "sy_zrt_result_df = predict_top_classes(sy_zrt_data, sy_zrt_predictor,get_feature_names(sy_zrt_predictor), select_model, 2, soil_dict)\n",
    "\n",
    "tsy_sdt_result_df = predict_top_classes(tsy_sdt_data, tsy_sdt_predictor,get_feature_names(tsy_sdt_predictor), select_model, 2, soil_dict)\n",
    "tsy_fzrt_result_df = predict_top_classes(tsy_fzrt_data, tsy_fzrt_predictor,get_feature_names(tsy_fzrt_predictor), select_model, 2, soil_dict)\n",
    "tsy_zrt_result_df = predict_top_classes(tsy_zrt_data, tsy_zrt_predictor,get_feature_names(tsy_zrt_predictor), select_model, 2, soil_dict)\n",
    "\n",
    "hnt_sdt_result_df = predict_top_classes(hnt_sdt_data, hnt_sdt_predictor,get_feature_names(hnt_sdt_predictor), select_model, 2, soil_dict)\n",
    "hnt_fzrt_result_df = predict_top_classes(hnt_fzrt_data, hnt_fzrt_predictor,get_feature_names(hnt_fzrt_predictor), select_model, 2, soil_dict)\n",
    "hnt_zrt_result_df = predict_top_classes(hnt_zrt_data, hnt_zrt_predictor,get_feature_names(hnt_zrt_predictor), select_model, 2, soil_dict)\n",
    "\n",
    "nyy_sdt_result_df = predict_top_classes(nyy_sdt_data, nyy_sdt_predictor,get_feature_names(nyy_sdt_predictor), select_model, 2, soil_dict)\n",
    "nyy_fzrt_result_df = predict_top_classes(nyy_fzrt_data, nyy_fzrt_predictor,get_feature_names(nyy_fzrt_predictor), select_model, 2, soil_dict)\n",
    "nyy_zrt_result_df = predict_top_classes(nyy_zrt_data, nyy_zrt_predictor,get_feature_names(nyy_zrt_predictor), select_model, 2, soil_dict)\n",
    "\n",
    "zhsyy_sdt_result_df = predict_top_classes(zhsyy_sdt_data, zhsyy_sdt_predictor,get_feature_names(zhsyy_sdt_predictor), select_model, 2, soil_dict)\n",
    "zhsyy_fzrt_result_df = predict_top_classes(zhsyy_fzrt_data, zhsyy_fzrt_predictor,get_feature_names(zhsyy_fzrt_predictor), select_model, 2, soil_dict)\n",
    "zhsyy_zrt_result_df = predict_top_classes(zhsyy_zrt_data, zhsyy_zrt_predictor,get_feature_names(zhsyy_zrt_predictor), select_model, 2, soil_dict)\n",
    "\n",
    "hlcjw_sdt_result_df = predict_top_classes(hlcjw_sdt_data, hlcjw_sdt_predictor,get_feature_names(hlcjw_sdt_predictor), select_model, 2, soil_dict)\n",
    "\n",
    "\n",
    "ly_sdt_result_df = predict_top_classes(ly_sdt_data, ly_sdt_predictor,get_feature_names(ly_sdt_predictor), select_model, 2, soil_dict)\n",
    "ly_fzrt_result_df = predict_top_classes(ly_fzrt_data, ly_fzrt_predictor,get_feature_names(ly_fzrt_predictor), select_model, 2, soil_dict)\n",
    "ly_zrt_result_df = predict_top_classes(ly_zrt_data, ly_zrt_predictor,get_feature_names(ly_zrt_predictor), select_model, 2, soil_dict)\n",
    "\n",
    "bccjw_sdt_result_df = predict_top_classes(bccjw_sdt_data, bccjw_sdt_predictor,get_feature_names(bccjw_sdt_predictor), select_model, 2, soil_dict)\n",
    "bccjw_fzrt_result_df = predict_top_classes(bccjw_fzrt_data, bccjw_fzrt_predictor,get_feature_names(bccjw_fzrt_predictor), select_model, 2, soil_dict)\n",
    "bccjw_zrt_result_df = predict_top_classes(bccjw_zrt_data, bccjw_zrt_predictor,get_feature_names(bccjw_zrt_predictor), select_model, 2, soil_dict)\n",
    "\n",
    "syy_sdt_result_df = predict_top_classes(syy_sdt_data, syy_sdt_predictor,get_feature_names(syy_sdt_predictor), select_model, 2, soil_dict)\n",
    "syy_fzrt_result_df = predict_top_classes(syy_fzrt_data, syy_fzrt_predictor,get_feature_names(syy_fzrt_predictor), select_model, 2, soil_dict)\n",
    "syy_zrt_result_df = predict_top_classes(syy_zrt_data, syy_zrt_predictor,get_feature_names(syy_zrt_predictor), select_model, 2, soil_dict)"
   ]
  },
  {
   "cell_type": "code",
   "execution_count": 109,
   "metadata": {},
   "outputs": [],
   "source": [
    "# 将所有的DataFrame放入一个列表中\n",
    "dfs = [\n",
    "    sy_sdt_result_df, sy_fzrt_result_df, sy_zrt_result_df,\n",
    "    tsy_sdt_result_df, tsy_fzrt_result_df, tsy_zrt_result_df,\n",
    "    hnt_sdt_result_df, hnt_fzrt_result_df, hnt_zrt_result_df,\n",
    "    nyy_sdt_result_df, nyy_fzrt_result_df, nyy_zrt_result_df,\n",
    "    zhsyy_sdt_result_df, zhsyy_fzrt_result_df, zhsyy_zrt_result_df,\n",
    "    hlcjw_sdt_result_df,\n",
    "    ly_sdt_result_df, ly_fzrt_result_df, ly_zrt_result_df,\n",
    "    bccjw_sdt_result_df, bccjw_fzrt_result_df, bccjw_zrt_result_df,\n",
    "    syy_sdt_result_df, syy_fzrt_result_df, syy_zrt_result_df\n",
    "]\n",
    "\n",
    "# 使用pd.concat合并所有的DataFrame\n",
    "result_df = pd.concat(dfs, ignore_index=True)\n"
   ]
  },
  {
   "cell_type": "code",
   "execution_count": 110,
   "metadata": {},
   "outputs": [
    {
     "data": {
      "text/plain": [
       "Index(['OBJECTID', 'DLMC', 'MZ', 'gridcode', 'XMin', 'YMin', 'XMax', 'YMax',\n",
       "       'Centroid_X', 'Centroid_Y',\n",
       "       ...\n",
       "       'DZ_MAJORITY', 'DZ_MINORITY', 'DZ_MEDIAN', 'DZ_PCT90', 'Class1',\n",
       "       'Class2', 'Prob1', 'Prob2', 'Entropy', 'Uncertainty'],\n",
       "      dtype='object', length=406)"
      ]
     },
     "execution_count": 110,
     "metadata": {},
     "output_type": "execute_result"
    }
   ],
   "source": [
    "result_df.columns"
   ]
  },
  {
   "cell_type": "code",
   "execution_count": 111,
   "metadata": {},
   "outputs": [],
   "source": [
    "# 获取指定列\n",
    "result_df = result_df[['OBJECTID','Class1', 'Class2', 'Prob1','Prob2', 'Entropy', 'Uncertainty']]"
   ]
  },
  {
   "cell_type": "code",
   "execution_count": 112,
   "metadata": {},
   "outputs": [],
   "source": [
    "# 获取三普土种对照字典\n",
    "# 读取Excel文件\n",
    "sp_file_path = r\"C:\\Users\\Runker\\Desktop\\dy2.xlsx\"\n",
    "df = pd.read_excel(sp_file_path)\n",
    "\n",
    "# 使用前向填充（ffill）处理合并单元格的情况\n",
    "df_filled = df.ffill()\n",
    "# 定义一个函数来为每一行生成一个字典\n",
    "def create_dict(row):\n",
    "    return {\n",
    "        row['TZ']: {\n",
    "            '土类': row['TL'],\n",
    "            '亚类': row['YL'],\n",
    "            '土属': row['TS'],\n",
    "        }\n",
    "    }\n",
    "\n",
    "# 使用apply方法为每一行应用这个函数，并将结果合并到一个字典中\n",
    "sp_soiltype_dict = {}\n",
    "for d in df_filled.apply(create_dict, axis=1):\n",
    "    sp_soiltype_dict.update(d)"
   ]
  },
  {
   "cell_type": "code",
   "execution_count": 113,
   "metadata": {},
   "outputs": [
    {
     "data": {
      "text/plain": [
       "{'中层泥砂质黄壤': {'土类': '黄壤', '亚类': '典型黄壤', '土属': '泥砂质黄壤'},\n",
       " '腐中层泥砂质黄壤': {'土类': '黄壤', '亚类': '典型黄壤', '土属': '泥砂质黄壤'},\n",
       " '腐薄层泥砂质黄壤': {'土类': '黄壤', '亚类': '典型黄壤', '土属': '泥砂质黄壤'},\n",
       " '黄红泥田': {'土类': '水稻土', '亚类': '潴育型水稻土', '土属': '红泥田'},\n",
       " '腐厚层红泥质黄壤': {'土类': '黄壤', '亚类': '典型黄壤', '土属': '红泥质黄壤'},\n",
       " '薄层黏质黄色石灰土': {'土类': '石灰土', '亚类': '黄色石灰土', '土属': '黏质黄色石灰土'},\n",
       " '黄渗红泥田': {'土类': '水稻土', '亚类': '渗育型水稻土', '土属': '渗红泥田'},\n",
       " '黄浅红泥田': {'土类': '水稻土', '亚类': '淹育型水稻土', '土属': '浅红泥田'},\n",
       " '潮泥田': {'土类': '水稻土', '亚类': '潴育型水稻土', '土属': '潮泥田'},\n",
       " '中层黏质黄色石灰土': {'土类': '石灰土', '亚类': '黄色石灰土', '土属': '黏质黄色石灰土'},\n",
       " '中层红泥质黄壤': {'土类': '黄壤', '亚类': '典型黄壤', '土属': '红泥质黄壤'},\n",
       " '厚层红泥质黄壤': {'土类': '黄壤', '亚类': '典型黄壤', '土属': '红泥质黄壤'},\n",
       " '腐中层黏质黄色石灰土': {'土类': '石灰土', '亚类': '黄色石灰土', '土属': '黏质黄色石灰土'},\n",
       " '腐厚层黏质黄色石灰土': {'土类': '石灰土', '亚类': '黄色石灰土', '土属': '黏质黄色石灰土'},\n",
       " '腐中层红泥质黄壤': {'土类': '黄壤', '亚类': '典型黄壤', '土属': '红泥质黄壤'},\n",
       " '厚层黏质黄色石灰土': {'土类': '石灰土', '亚类': '黄色石灰土', '土属': '黏质黄色石灰土'},\n",
       " '腐薄层黏质黄色石灰土': {'土类': '石灰土', '亚类': '黄色石灰土', '土属': '黏质黄色石灰土'},\n",
       " '腐薄层红泥质黄壤': {'土类': '黄壤', '亚类': '典型黄壤', '土属': '红泥质黄壤'},\n",
       " '黄青红泥田': {'土类': '水稻土', '亚类': '潜育型水稻土', '土属': '青红泥田'},\n",
       " '薄层红泥质黄壤': {'土类': '黄壤', '亚类': '典型黄壤', '土属': '红泥质黄壤'},\n",
       " '渗潮泥田': {'土类': '水稻土', '亚类': '渗育型水稻土', '土属': '渗潮泥田'},\n",
       " '青潮泥田': {'土类': '水稻土', '亚类': '潜育型水稻土', '土属': '青潮泥田'},\n",
       " '厚层硅质酸性粗骨土': {'土类': '粗骨土', '亚类': '酸性粗骨土', '土属': '硅质酸性粗骨土'},\n",
       " '腐厚层硅质酸性粗骨土': {'土类': '粗骨土', '亚类': '酸性粗骨土', '土属': '硅质酸性粗骨土'},\n",
       " '腐厚层硅质黄壤': {'土类': '黄壤', '亚类': '典型黄壤', '土属': '硅质黄壤'},\n",
       " '中层硅质酸性粗骨土': {'土类': '粗骨土', '亚类': '酸性粗骨土', '土属': '硅质酸性粗骨土'},\n",
       " '腐中层硅质酸性粗骨土': {'土类': '粗骨土', '亚类': '酸性粗骨土', '土属': '硅质酸性粗骨土'},\n",
       " '腐薄层硅质酸性粗骨土': {'土类': '粗骨土', '亚类': '酸性粗骨土', '土属': '硅质酸性粗骨土'},\n",
       " '黄浅白粉泥田': {'土类': '水稻土', '亚类': '淹育型水稻土', '土属': '浅白粉泥田'},\n",
       " '黄白粉泥田': {'土类': '水稻土', '亚类': '潴育型水稻土', '土属': '白粉泥田'},\n",
       " '腐薄层泥质黄壤': {'土类': '黄壤', '亚类': '典型黄壤', '土属': '泥质黄壤'},\n",
       " '腐厚层泥质黄壤': {'土类': '黄壤', '亚类': '典型黄壤', '土属': '泥质黄壤'},\n",
       " '黄浅鳝泥田': {'土类': '水稻土', '亚类': '淹育型水稻土', '土属': '浅鳝泥田'},\n",
       " '黄鳝泥田': {'土类': '水稻土', '亚类': '潴育型水稻土', '土属': '鳝泥田'},\n",
       " '薄层泥质黄壤': {'土类': '黄壤', '亚类': '典型黄壤', '土属': '泥质黄壤'},\n",
       " '厚层泥质黄壤': {'土类': '黄壤', '亚类': '典型黄壤', '土属': '泥质黄壤'},\n",
       " '腐中层泥质黄壤': {'土类': '黄壤', '亚类': '典型黄壤', '土属': '泥质黄壤'},\n",
       " '黄渗鳝泥田': {'土类': '水稻土', '亚类': '渗育型水稻土', '土属': '渗鳝泥田'},\n",
       " '中层泥质黄壤': {'土类': '黄壤', '亚类': '典型黄壤', '土属': '泥质黄壤'},\n",
       " '腐薄层砾泥质黄壤性土': {'土类': '黄壤', '亚类': '黄壤性土', '土属': '泥质黄壤'},\n",
       " '薄层硅质黄壤': {'土类': '黄壤', '亚类': '典型黄壤', '土属': '硅质黄壤'},\n",
       " '黄青砂泥田': {'土类': '水稻土', '亚类': '潜育型水稻土', '土属': '青砂泥田'},\n",
       " '黄渗白粉泥田': {'土类': '水稻土', '亚类': '渗育型水稻土', '土属': '渗白粉泥田'},\n",
       " '腐薄层硅质黄壤': {'土类': '黄壤', '亚类': '典型黄壤', '土属': '硅质黄壤'},\n",
       " '腐中层砂质山地灌丛草甸土': {'土类': '山地草甸土', '亚类': '山地灌丛草甸土', '土属': '砂质山地灌丛草甸土'},\n",
       " '腐薄层硅质黄壤性土': {'土类': '黄壤', '亚类': '黄壤性土', '土属': '硅质黄壤性土'},\n",
       " '腐薄层砂质山地灌丛草甸土': {'土类': '山地草甸土', '亚类': '山地灌丛草甸土', '土属': '砂质山地灌丛草甸土'},\n",
       " '黄青白粉泥田': {'土类': '水稻土', '亚类': '潜育型水稻土', '土属': '青白粉泥田'},\n",
       " '腐中层硅质黄壤': {'土类': '黄壤', '亚类': '典型黄壤', '土属': '硅质黄壤'},\n",
       " '黄潮泥田': {'土类': '水稻土', '亚类': '脱潜型水稻土', '土属': '黄潮泥田'},\n",
       " '腐中层砂泥质黄壤': {'土类': '黄壤', '亚类': '典型黄壤', '土属': '砂泥质黄壤'},\n",
       " '腐薄层砂泥质黄壤': {'土类': '黄壤', '亚类': '典型黄壤', '土属': '砂泥质黄壤'},\n",
       " '腐厚层砂泥质黄壤': {'土类': '黄壤', '亚类': '典型黄壤', '土属': '砂泥质黄壤'},\n",
       " '黄砂泥田': {'土类': '水稻土', '亚类': '潴育型水稻土', '土属': '砂泥田'},\n",
       " '重漂砂泥田': {'土类': '水稻土', '亚类': '漂洗型水稻土', '土属': '漂砂泥田'},\n",
       " '中层砂泥质黄壤': {'土类': '黄壤', '亚类': '典型黄壤', '土属': '砂泥质黄壤'},\n",
       " '薄层砂泥质黄壤': {'土类': '黄壤', '亚类': '典型黄壤', '土属': '砂泥质黄壤'},\n",
       " '中层砂泥黄壤': {'土类': '黄壤', '亚类': '典型黄壤', '土属': '砂泥黄壤'},\n",
       " '薄层砂泥黄壤': {'土类': '黄壤', '亚类': '典型黄壤', '土属': '砂泥黄壤'},\n",
       " '厚层砂泥质黄壤': {'土类': '黄壤', '亚类': '典型黄壤', '土属': '砂泥质黄壤'},\n",
       " '薄层砾壤质黑色石灰土': {'土类': '石灰土', '亚类': '黑色石灰土', '土属': '壤质黑色石灰土'},\n",
       " '中层灰泥质黄色石灰土': {'土类': '石灰土', '亚类': '黄色石灰土', '土属': '灰泥质黄色石灰土'},\n",
       " '腐薄层壤质黄色石灰土': {'土类': '石灰土', '亚类': '黄色石灰土', '土属': '壤质黄色石灰土'},\n",
       " '腐中层壤质黄色石灰土': {'土类': '石灰土', '亚类': '黄色石灰土', '土属': '壤质黄色石灰土'},\n",
       " '腐中层灰泥质黄壤': {'土类': '黄壤', '亚类': '典型黄壤', '土属': '灰泥质黄壤'},\n",
       " '腐薄层灰泥质黄壤': {'土类': '黄壤', '亚类': '典型黄壤', '土属': '灰泥质黄壤'},\n",
       " '中层灰泥质黄壤': {'土类': '黄壤', '亚类': '典型黄壤', '土属': '灰泥质黄壤'},\n",
       " '薄层灰泥质黄色石灰土': {'土类': '石灰土', '亚类': '黄色石灰土', '土属': '灰泥质黄色石灰土'},\n",
       " '中层砾壤质黑色石灰土': {'土类': '石灰土', '亚类': '黑色石灰土', '土属': '壤质黑色石灰土'},\n",
       " '腐薄层壤质黑色石灰土': {'土类': '石灰土', '亚类': '黑色石灰土', '土属': '壤质黑色石灰土'},\n",
       " '石灰泥田': {'土类': '水稻土', '亚类': '潴育型水稻土', '土属': '灰泥田'},\n",
       " '青石灰泥田': {'土类': '水稻土', '亚类': '潜育型水稻土', '土属': '青灰泥田'},\n",
       " '中层壤质黄色石灰土': {'土类': '石灰土', '亚类': '黄色石灰土', '土属': '壤质黄色石灰土'},\n",
       " '薄层灰泥质黄壤': {'土类': '黄壤', '亚类': '典型黄壤', '土属': '灰泥质黄壤'},\n",
       " '厚层灰泥质黄壤': {'土类': '黄壤', '亚类': '典型黄壤', '土属': '灰泥质黄壤'},\n",
       " '黄渗灰泥田': {'土类': '水稻土', '亚类': '渗育型水稻土', '土属': '渗灰泥田'},\n",
       " '浅石灰泥田': {'土类': '水稻土', '亚类': '淹育型水稻土', '土属': '浅灰泥田'},\n",
       " '薄层壤质黑色石灰土': {'土类': '石灰土', '亚类': '黑色石灰土', '土属': '壤质黑色石灰土'},\n",
       " '腐厚层灰泥质黄壤': {'土类': '黄壤', '亚类': '典型黄壤', '土属': '灰泥质黄壤'},\n",
       " '黄浅灰泥田': {'土类': '水稻土', '亚类': '淹育型水稻土', '土属': '浅灰泥田'},\n",
       " '腐中层砾壤质黑色石灰土': {'土类': '石灰土', '亚类': '黑色石灰土', '土属': '壤质黑色石灰土'},\n",
       " '黄黄灰泥田': {'土类': '水稻土', '亚类': '脱潜型水稻土', '土属': '黄灰泥田'},\n",
       " '渗石灰泥田': {'土类': '水稻土', '亚类': '渗育型水稻土', '土属': '渗灰泥田'},\n",
       " '紫泥田': {'土类': '水稻土', '亚类': '潴育型水稻土', '土属': '紫泥田'},\n",
       " '中层壤质酸性紫色土': {'土类': '紫色土', '亚类': '酸性紫色土', '土属': '壤质酸性紫色土'},\n",
       " '腐薄层壤质酸性紫色土': {'土类': '紫色土', '亚类': '酸性紫色土', '土属': '壤质酸性紫色土'},\n",
       " '腐中层壤质酸性紫色土': {'土类': '紫色土', '亚类': '酸性紫色土', '土属': '壤质酸性紫色土'},\n",
       " '薄层壤质酸性紫色土': {'土类': '紫色土', '亚类': '酸性紫色土', '土属': '壤质酸性紫色土'},\n",
       " '中层壤质中性紫色土': {'土类': '紫色土', '亚类': '中性紫色土', '土属': '壤质中性紫色土'},\n",
       " '腐中层壤质中性紫色土': {'土类': '紫色土', '亚类': '中性紫色土', '土属': '壤质中性紫色土'}}"
      ]
     },
     "execution_count": 113,
     "metadata": {},
     "output_type": "execute_result"
    }
   ],
   "source": [
    "sp_soiltype_dict"
   ]
  },
  {
   "cell_type": "code",
   "execution_count": 114,
   "metadata": {},
   "outputs": [],
   "source": [
    "# 使用 apply 方法结合 lambda 函数来获取对应的 '土类' 值\n",
    "result_df = result_df.copy()\n",
    "result_df['Class1_tl'] = result_df['Class1'].apply(lambda x: sp_soiltype_dict.get(x, {}).get('土类', None))\n",
    "result_df['Class1_yl'] = result_df['Class1'].apply(lambda x: sp_soiltype_dict.get(x, {}).get('亚类', None))\n",
    "result_df['Class1_ts'] = result_df['Class1'].apply(lambda x: sp_soiltype_dict.get(x, {}).get('土属', None))\n"
   ]
  },
  {
   "cell_type": "code",
   "execution_count": 115,
   "metadata": {},
   "outputs": [
    {
     "data": {
      "text/html": [
       "<div>\n",
       "<style scoped>\n",
       "    .dataframe tbody tr th:only-of-type {\n",
       "        vertical-align: middle;\n",
       "    }\n",
       "\n",
       "    .dataframe tbody tr th {\n",
       "        vertical-align: top;\n",
       "    }\n",
       "\n",
       "    .dataframe thead th {\n",
       "        text-align: right;\n",
       "    }\n",
       "</style>\n",
       "<table border=\"1\" class=\"dataframe\">\n",
       "  <thead>\n",
       "    <tr style=\"text-align: right;\">\n",
       "      <th></th>\n",
       "      <th>OBJECTID</th>\n",
       "      <th>Class1</th>\n",
       "      <th>Class2</th>\n",
       "      <th>Prob1</th>\n",
       "      <th>Prob2</th>\n",
       "      <th>Entropy</th>\n",
       "      <th>Uncertainty</th>\n",
       "      <th>Class1_tl</th>\n",
       "      <th>Class1_yl</th>\n",
       "      <th>Class1_ts</th>\n",
       "    </tr>\n",
       "  </thead>\n",
       "  <tbody>\n",
       "    <tr>\n",
       "      <th>0</th>\n",
       "      <td>96265</td>\n",
       "      <td>黄青砂泥田</td>\n",
       "      <td>黄渗白粉泥田</td>\n",
       "      <td>0.536667</td>\n",
       "      <td>0.226667</td>\n",
       "      <td>1.167760</td>\n",
       "      <td>0.189578</td>\n",
       "      <td>水稻土</td>\n",
       "      <td>潜育型水稻土</td>\n",
       "      <td>青砂泥田</td>\n",
       "    </tr>\n",
       "    <tr>\n",
       "      <th>1</th>\n",
       "      <td>96266</td>\n",
       "      <td>黄青砂泥田</td>\n",
       "      <td>黄渗白粉泥田</td>\n",
       "      <td>0.526667</td>\n",
       "      <td>0.233333</td>\n",
       "      <td>1.183712</td>\n",
       "      <td>0.186190</td>\n",
       "      <td>水稻土</td>\n",
       "      <td>潜育型水稻土</td>\n",
       "      <td>青砂泥田</td>\n",
       "    </tr>\n",
       "    <tr>\n",
       "      <th>2</th>\n",
       "      <td>96267</td>\n",
       "      <td>黄青砂泥田</td>\n",
       "      <td>黄渗白粉泥田</td>\n",
       "      <td>0.516667</td>\n",
       "      <td>0.233333</td>\n",
       "      <td>1.194399</td>\n",
       "      <td>0.183917</td>\n",
       "      <td>水稻土</td>\n",
       "      <td>潜育型水稻土</td>\n",
       "      <td>青砂泥田</td>\n",
       "    </tr>\n",
       "    <tr>\n",
       "      <th>3</th>\n",
       "      <td>96268</td>\n",
       "      <td>黄青砂泥田</td>\n",
       "      <td>黄渗白粉泥田</td>\n",
       "      <td>0.493333</td>\n",
       "      <td>0.240000</td>\n",
       "      <td>1.197823</td>\n",
       "      <td>0.179594</td>\n",
       "      <td>水稻土</td>\n",
       "      <td>潜育型水稻土</td>\n",
       "      <td>青砂泥田</td>\n",
       "    </tr>\n",
       "    <tr>\n",
       "      <th>4</th>\n",
       "      <td>96269</td>\n",
       "      <td>黄青砂泥田</td>\n",
       "      <td>黄渗白粉泥田</td>\n",
       "      <td>0.520000</td>\n",
       "      <td>0.256667</td>\n",
       "      <td>1.179156</td>\n",
       "      <td>0.186232</td>\n",
       "      <td>水稻土</td>\n",
       "      <td>潜育型水稻土</td>\n",
       "      <td>青砂泥田</td>\n",
       "    </tr>\n",
       "    <tr>\n",
       "      <th>...</th>\n",
       "      <td>...</td>\n",
       "      <td>...</td>\n",
       "      <td>...</td>\n",
       "      <td>...</td>\n",
       "      <td>...</td>\n",
       "      <td>...</td>\n",
       "      <td>...</td>\n",
       "      <td>...</td>\n",
       "      <td>...</td>\n",
       "      <td>...</td>\n",
       "    </tr>\n",
       "    <tr>\n",
       "      <th>216736</th>\n",
       "      <td>151438</td>\n",
       "      <td>腐中层砂泥质黄壤</td>\n",
       "      <td>腐薄层砂泥质黄壤</td>\n",
       "      <td>0.430000</td>\n",
       "      <td>0.300000</td>\n",
       "      <td>1.077619</td>\n",
       "      <td>0.085049</td>\n",
       "      <td>黄壤</td>\n",
       "      <td>典型黄壤</td>\n",
       "      <td>砂泥质黄壤</td>\n",
       "    </tr>\n",
       "    <tr>\n",
       "      <th>216737</th>\n",
       "      <td>151439</td>\n",
       "      <td>腐中层砂泥质黄壤</td>\n",
       "      <td>腐薄层砂泥质黄壤</td>\n",
       "      <td>0.650000</td>\n",
       "      <td>0.236667</td>\n",
       "      <td>0.867844</td>\n",
       "      <td>0.281089</td>\n",
       "      <td>黄壤</td>\n",
       "      <td>典型黄壤</td>\n",
       "      <td>砂泥质黄壤</td>\n",
       "    </tr>\n",
       "    <tr>\n",
       "      <th>216738</th>\n",
       "      <td>151440</td>\n",
       "      <td>腐中层砂泥质黄壤</td>\n",
       "      <td>腐薄层砂泥质黄壤</td>\n",
       "      <td>0.486667</td>\n",
       "      <td>0.336667</td>\n",
       "      <td>1.023252</td>\n",
       "      <td>0.155027</td>\n",
       "      <td>黄壤</td>\n",
       "      <td>典型黄壤</td>\n",
       "      <td>砂泥质黄壤</td>\n",
       "    </tr>\n",
       "    <tr>\n",
       "      <th>216739</th>\n",
       "      <td>151441</td>\n",
       "      <td>腐中层砂泥质黄壤</td>\n",
       "      <td>腐薄层砂泥质黄壤</td>\n",
       "      <td>0.436667</td>\n",
       "      <td>0.343333</td>\n",
       "      <td>1.061965</td>\n",
       "      <td>0.108679</td>\n",
       "      <td>黄壤</td>\n",
       "      <td>典型黄壤</td>\n",
       "      <td>砂泥质黄壤</td>\n",
       "    </tr>\n",
       "    <tr>\n",
       "      <th>216740</th>\n",
       "      <td>151442</td>\n",
       "      <td>腐中层砂泥质黄壤</td>\n",
       "      <td>腐薄层砂泥质黄壤</td>\n",
       "      <td>0.460000</td>\n",
       "      <td>0.316667</td>\n",
       "      <td>1.056137</td>\n",
       "      <td>0.119210</td>\n",
       "      <td>黄壤</td>\n",
       "      <td>典型黄壤</td>\n",
       "      <td>砂泥质黄壤</td>\n",
       "    </tr>\n",
       "  </tbody>\n",
       "</table>\n",
       "<p>216741 rows × 10 columns</p>\n",
       "</div>"
      ],
      "text/plain": [
       "        OBJECTID    Class1    Class2     Prob1     Prob2   Entropy  \\\n",
       "0          96265     黄青砂泥田    黄渗白粉泥田  0.536667  0.226667  1.167760   \n",
       "1          96266     黄青砂泥田    黄渗白粉泥田  0.526667  0.233333  1.183712   \n",
       "2          96267     黄青砂泥田    黄渗白粉泥田  0.516667  0.233333  1.194399   \n",
       "3          96268     黄青砂泥田    黄渗白粉泥田  0.493333  0.240000  1.197823   \n",
       "4          96269     黄青砂泥田    黄渗白粉泥田  0.520000  0.256667  1.179156   \n",
       "...          ...       ...       ...       ...       ...       ...   \n",
       "216736    151438  腐中层砂泥质黄壤  腐薄层砂泥质黄壤  0.430000  0.300000  1.077619   \n",
       "216737    151439  腐中层砂泥质黄壤  腐薄层砂泥质黄壤  0.650000  0.236667  0.867844   \n",
       "216738    151440  腐中层砂泥质黄壤  腐薄层砂泥质黄壤  0.486667  0.336667  1.023252   \n",
       "216739    151441  腐中层砂泥质黄壤  腐薄层砂泥质黄壤  0.436667  0.343333  1.061965   \n",
       "216740    151442  腐中层砂泥质黄壤  腐薄层砂泥质黄壤  0.460000  0.316667  1.056137   \n",
       "\n",
       "        Uncertainty Class1_tl Class1_yl Class1_ts  \n",
       "0          0.189578       水稻土    潜育型水稻土      青砂泥田  \n",
       "1          0.186190       水稻土    潜育型水稻土      青砂泥田  \n",
       "2          0.183917       水稻土    潜育型水稻土      青砂泥田  \n",
       "3          0.179594       水稻土    潜育型水稻土      青砂泥田  \n",
       "4          0.186232       水稻土    潜育型水稻土      青砂泥田  \n",
       "...             ...       ...       ...       ...  \n",
       "216736     0.085049        黄壤      典型黄壤     砂泥质黄壤  \n",
       "216737     0.281089        黄壤      典型黄壤     砂泥质黄壤  \n",
       "216738     0.155027        黄壤      典型黄壤     砂泥质黄壤  \n",
       "216739     0.108679        黄壤      典型黄壤     砂泥质黄壤  \n",
       "216740     0.119210        黄壤      典型黄壤     砂泥质黄壤  \n",
       "\n",
       "[216741 rows x 10 columns]"
      ]
     },
     "execution_count": 115,
     "metadata": {},
     "output_type": "execute_result"
    }
   ],
   "source": [
    "result_df"
   ]
  },
  {
   "cell_type": "code",
   "execution_count": 116,
   "metadata": {},
   "outputs": [],
   "source": [
    "# 保存数据\n",
    "result_df.to_csv(os.path.join(result_path, f'prediction_class_{select_model}_{get_dtime()}.csv'),index=False)"
   ]
  },
  {
   "cell_type": "code",
   "execution_count": 43,
   "metadata": {},
   "outputs": [
    {
     "data": {
      "text/plain": [
       "(            count\n",
       " Class1           \n",
       " 薄层灰泥质黄壤     24078\n",
       " 腐薄层硅质黄壤     23969\n",
       " 薄层硅质黄壤      17334\n",
       " 中层红泥质黄壤     16374\n",
       " 薄层泥质黄壤      13835\n",
       " ...           ...\n",
       " 重漂砂泥田           4\n",
       " 薄层壤质黑色石灰土       4\n",
       " 腐中层硅质酸性粗骨土      3\n",
       " 薄层壤质酸性紫色土       2\n",
       " 黄渗灰泥田           1\n",
       " \n",
       " [75 rows x 1 columns],\n",
       " 75,\n",
       " 33)"
      ]
     },
     "execution_count": 43,
     "metadata": {},
     "output_type": "execute_result"
    }
   ],
   "source": [
    "pd.DataFrame(result_df['Class1'].value_counts()),len(list(result_df['Class1'].value_counts())),len(result_df['Class1_ts'].value_counts())"
   ]
  },
  {
   "cell_type": "code",
   "execution_count": 94,
   "metadata": {},
   "outputs": [
    {
     "data": {
      "image/png": "[encoded data removed]",
      "text/plain": [
       "<Figure size 640x480 with 1 Axes>"
      ]
     },
     "metadata": {},
     "output_type": "display_data"
    },
    {
     "name": "stdout",
     "output_type": "stream",
     "text": [
      "分界值: 1.2740815393175515\n"
     ]
    }
   ],
   "source": [
    "import numpy as np\n",
    "import pandas as pd\n",
    "import matplotlib.pyplot as plt\n",
    "\n",
    "# 提取熵值\n",
    "entropy = result_df['Entropy']\n",
    "\n",
    "# 计算熵的均值和标准差\n",
    "entropy_mean = entropy.mean()\n",
    "entropy_std = entropy.std()\n",
    "entropy_threshold = entropy_mean + entropy_std\n",
    "\n",
    "# 绘制熵的分布图\n",
    "plt.hist(entropy, bins=50, alpha=0.75, label='Entropy')\n",
    "plt.xlabel('Entropy')\n",
    "plt.ylabel('Frequency')\n",
    "plt.title('Entropy Distribution')\n",
    "plt.axvline(entropy_threshold, color='r', linestyle='dashed', linewidth=2, label='Threshold')\n",
    "plt.legend()\n",
    "plt.show()\n",
    "\n",
    "# 可信的预测结果\n",
    "reliable_predictions = result_df[entropy <= entropy_threshold]\n",
    "\n",
    "# 输出结果\n",
    "print(f\"分界值: {entropy_threshold}\")\n"
   ]
  },
  {
   "cell_type": "code",
   "execution_count": 45,
   "metadata": {},
   "outputs": [
    {
     "data": {
      "image/png": "[encoded data removed]",
      "text/plain": [
       "<Figure size 640x480 with 1 Axes>"
      ]
     },
     "metadata": {},
     "output_type": "display_data"
    },
    {
     "name": "stdout",
     "output_type": "stream",
     "text": [
      "不确定性分界值: 0.3636990232528866\n"
     ]
    }
   ],
   "source": [
    "import numpy as np\n",
    "import pandas as pd\n",
    "import matplotlib.pyplot as plt\n",
    "uncertainty = result_df['Uncertainty']\n",
    "# 计算不确定性的均值和标准差\n",
    "uncertainty_mean = uncertainty.mean()\n",
    "uncertainty_std = uncertainty.std()\n",
    "uncertainty_threshold = uncertainty_mean + uncertainty_std\n",
    "\n",
    "# 绘制不确定性的分布图\n",
    "plt.hist(uncertainty, bins=50, alpha=0.75, label='Uncertainty')\n",
    "plt.xlabel('Uncertainty')\n",
    "plt.ylabel('Frequency')\n",
    "plt.title('Uncertainty Distribution')\n",
    "plt.axvline(uncertainty_threshold, color='r', linestyle='dashed', linewidth=2, label='Threshold')\n",
    "plt.legend()\n",
    "plt.show()\n",
    "\n",
    "# 可信的预测结果\n",
    "reliable_predictions = result_df[uncertainty <= uncertainty_threshold]\n",
    "\n",
    "# 输出结果\n",
    "print(f\"不确定性分界值: {uncertainty_threshold}\")\n"
   ]
  },
  {
   "cell_type": "code",
   "execution_count": 46,
   "metadata": {},
   "outputs": [
    {
     "data": {
      "image/png": "[encoded data removed]",
      "text/plain": [
       "<Figure size 640x480 with 1 Axes>"
      ]
     },
     "metadata": {},
     "output_type": "display_data"
    },
    {
     "name": "stdout",
     "output_type": "stream",
     "text": [
      "第75百分位数分界值: 0.32344499230384827\n"
     ]
    }
   ],
   "source": [
    "# 计算第75百分位数\n",
    "uncertainty_threshold_75 = np.percentile(uncertainty, 75)\n",
    "\n",
    "# 绘制不确定性的分布图\n",
    "plt.hist(uncertainty, bins=50, alpha=0.75, label='Uncertainty')\n",
    "plt.xlabel('Uncertainty')\n",
    "plt.ylabel('Frequency')\n",
    "plt.title('Uncertainty Distribution')\n",
    "plt.axvline(uncertainty_threshold_75, color='r', linestyle='dashed', linewidth=2, label='75th Percentile Threshold')\n",
    "plt.legend()\n",
    "plt.show()\n",
    "\n",
    "# 可信的预测结果\n",
    "reliable_predictions_75 = result_df[uncertainty <= uncertainty_threshold_75]\n",
    "\n",
    "# 输出结果\n",
    "print(f\"第75百分位数分界值: {uncertainty_threshold_75}\")"
   ]
  }
 ],
 "metadata": {
  "kernelspec": {
   "display_name": ".venvgis",
   "language": "python",
   "name": "python3"
  },
  "language_info": {
   "codemirror_mode": {
    "name": "ipython",
    "version": 3
   },
   "file_extension": ".py",
   "mimetype": "text/x-python",
   "name": "python",
   "nbconvert_exporter": "python",
   "pygments_lexer": "ipython3",
   "version": "3.10.11"
  }
 },
 "nbformat": 4,
 "nbformat_minor": 2
}
