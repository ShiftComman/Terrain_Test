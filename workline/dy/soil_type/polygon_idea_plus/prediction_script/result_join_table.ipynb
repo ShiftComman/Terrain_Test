{
 "cells": [
  {
   "cell_type": "markdown",
   "metadata": {},
   "source": [
    "# 连接计算结果\n"
   ]
  },
  {
   "cell_type": "code",
   "execution_count": null,
   "metadata": {},
   "outputs": [],
   "source": [
    "import os\n",
    "import arcpy\n",
    "from arcpy.da import *\n",
    "from arcpy.management import *\n",
    "import pandas as pd"
   ]
  },
  {
   "cell_type": "code",
   "execution_count": null,
   "metadata": {},
   "outputs": [],
   "source": [
    "# 获取当前日期\n",
    "def get_dtime():\n",
    "    # 例如20240516\n",
    "    import datetime\n",
    "    dtime = datetime.datetime.now().strftime('%Y%m%d')\n",
    "    return dtime\n",
    "# 清理字段\n",
    "def delete_fields(data_path, fields_to_delete):\n",
    "    \"\"\"\n",
    "    删除指定数据集中的一个或多个字段。\n",
    "\n",
    "    参数:\n",
    "    data_path (str): 数据集的路径，可以是要素类、表格等。\n",
    "    fields_to_delete (list): 需要删除的字段名称列表。\n",
    "    \n",
    "    返回:\n",
    "    None\n",
    "    \"\"\"\n",
    "    try:\n",
    "        # 检查要删除的字段是否存在于数据集中\n",
    "        existing_fields = [field.name for field in arcpy.ListFields(data_path)]\n",
    "        fields_to_delete = [field for field in fields_to_delete if field in existing_fields]\n",
    "        \n",
    "        # 删除字段\n",
    "        if fields_to_delete:\n",
    "            arcpy.DeleteField_management(data_path, fields_to_delete)\n",
    "            print(f\"成功删除字段: {fields_to_delete}\")\n",
    "        else:\n",
    "            print(\"没有找到指定的字段来删除。\")\n",
    "    except Exception as e:\n",
    "        print(f\"删除字段时出错: {e}\")\n",
    "\n"
   ]
  },
  {
   "cell_type": "code",
   "execution_count": null,
   "metadata": {},
   "outputs": [],
   "source": [
    "result_table_path = r\"F:\\cache_data\\zone_ana\\dy\\prediction_result\\prediction_class_WeightedEnsemble_L2_20240619.csv\"\n",
    "shp_path = r\"D:\\ArcGISProjects\\workspace\\shbyq\\DZ.gdb\\pre_sd_data_ele\""
   ]
  },
  {
   "cell_type": "code",
   "execution_count": null,
   "metadata": {},
   "outputs": [],
   "source": [
    "# 允许覆盖\n",
    "arcpy.env.overwriteOutput =True\n",
    "# 指定工作空间\n",
    "arcpy.env.workspace = os.path.dirname(shp_path)"
   ]
  },
  {
   "cell_type": "code",
   "execution_count": null,
   "metadata": {},
   "outputs": [],
   "source": [
    "# 输出列名称限制\n",
    "arcpy.env.qualifiedFieldNames = False\n",
    "# 连接表并输出结果\n",
    "inFeatures = shp_path\n",
    "joinTable = result_table_path\n",
    "joinField = \"OBJECTID\"\n",
    "out_path = os.path.join(os.path.dirname(inFeatures),f\"result_joined_table_{get_dtime()}\")\n",
    "veg_joined_table = AddJoin(in_layer_or_view=inFeatures,in_field=joinField, join_table=joinTable,join_field= joinField)"
   ]
  },
  {
   "cell_type": "code",
   "execution_count": null,
   "metadata": {},
   "outputs": [],
   "source": [
    "CopyFeatures(veg_joined_table, out_path)"
   ]
  },
  {
   "cell_type": "code",
   "execution_count": null,
   "metadata": {},
   "outputs": [],
   "source": [
    "[_.name for _ in arcpy.ListFields(out_path)]"
   ]
  },
  {
   "cell_type": "code",
   "execution_count": null,
   "metadata": {},
   "outputs": [],
   "source": [
    "\n",
    "# 使用示例\n",
    "fields_to_delete = [ 'Shape_Leng','Shape_Area','XMin','YMin','XMax','YMax','Centroid_X','Centroid_Y','Riverdis','PRE_TZ','OBJECTID_1','DLMC_1','new_TZ_1',]  # 您想要删除的字段列表\n",
    "delete_fields(out_path, fields_to_delete)"
   ]
  },
  {
   "cell_type": "code",
   "execution_count": null,
   "metadata": {},
   "outputs": [],
   "source": [
    "# 读取土种个数\n",
    "read_polygon_path = out_path"
   ]
  },
  {
   "cell_type": "code",
   "execution_count": null,
   "metadata": {},
   "outputs": [],
   "source": [
    "read_polygon_df = pd.DataFrame(FeatureClassToNumPyArray(read_polygon_path,['Class1']))"
   ]
  },
  {
   "cell_type": "code",
   "execution_count": null,
   "metadata": {},
   "outputs": [],
   "source": [
    "result_set = pd.unique(read_polygon_df['Class1'])"
   ]
  },
  {
   "cell_type": "code",
   "execution_count": null,
   "metadata": {},
   "outputs": [],
   "source": [
    "result_set,len(result_set)"
   ]
  },
  {
   "cell_type": "code",
   "execution_count": null,
   "metadata": {},
   "outputs": [],
   "source": [
    "# 原土种个数\n",
    "old_polygon_path = r'C:\\Users\\Runker\\Desktop\\train_data\\train_data.shp'"
   ]
  },
  {
   "cell_type": "code",
   "execution_count": null,
   "metadata": {},
   "outputs": [],
   "source": [
    "[_.name for _ in arcpy.ListFields(old_polygon_path)]"
   ]
  },
  {
   "cell_type": "code",
   "execution_count": null,
   "metadata": {},
   "outputs": [],
   "source": [
    "old_polygon_df = pd.DataFrame(FeatureClassToNumPyArray(old_polygon_path,['new_TZ']))"
   ]
  },
  {
   "cell_type": "code",
   "execution_count": null,
   "metadata": {},
   "outputs": [],
   "source": [
    "old_set = pd.unique(old_polygon_df['new_TZ'])"
   ]
  },
  {
   "cell_type": "code",
   "execution_count": null,
   "metadata": {},
   "outputs": [],
   "source": [
    "old_set,len(old_set)"
   ]
  },
  {
   "cell_type": "code",
   "execution_count": null,
   "metadata": {},
   "outputs": [],
   "source": [
    "set(old_set)-set(result_set)"
   ]
  }
 ],
 "metadata": {
  "kernelspec": {
   "display_name": "Python 3",
   "language": "python",
   "name": "python3"
  },
  "language_info": {
   "codemirror_mode": {
    "name": "ipython",
    "version": 3
   },
   "file_extension": ".py",
   "mimetype": "text/x-python",
   "name": "python",
   "nbconvert_exporter": "python",
   "pygments_lexer": "ipython3",
   "version": "3.9.11"
  }
 },
 "nbformat": 4,
 "nbformat_minor": 2
}
