{
 "cells": [
  {
   "cell_type": "code",
   "execution_count": 1,
   "metadata": {},
   "outputs": [],
   "source": [
    "import pandas as pd\n",
    "from sklearn.tree import DecisionTreeClassifier,DecisionTreeRegressor,export_graphviz\n",
    "import graphviz\n",
    "import dtreeviz\n",
    "import pandas as pd\n",
    "import numpy as np\n",
    "import pickle\n",
    "import os\n",
    "import json\n",
    "import matplotlib.pyplot as plt\n",
    "import seaborn as sns\n",
    "from sklearn.model_selection import train_test_split\n",
    "from sklearn.preprocessing import LabelEncoder\n",
    "from sklearn.model_selection import GridSearchCV\n",
    "from sklearn.ensemble import RandomForestRegressor,RandomForestClassifier\n",
    "from sklearn.metrics import accuracy_score,confusion_matrix\n",
    "from sklearn import tree\n",
    "from pypinyin import pinyin, lazy_pinyin, Style\n",
    "from autogluon.tabular import TabularDataset, TabularPredictor"
   ]
  },
  {
   "cell_type": "code",
   "execution_count": 2,
   "metadata": {},
   "outputs": [
    {
     "name": "stdout",
     "output_type": "stream",
     "text": [
      "文件夹已存在\n"
     ]
    }
   ],
   "source": [
    "# autogluon保存路径\n",
    "model_path = r\"F:\\cache_data\\zone_ana\\dy\\modle\\autogluon_type_class_DY_20240726\"\n",
    "# 检查路径是否存在，否则便创建\n",
    "if not os.path.exists(model_path):\n",
    "    os.makedirs(model_path)\n",
    "else:\n",
    "    print(\"文件夹已存在\")"
   ]
  },
  {
   "cell_type": "code",
   "execution_count": 3,
   "metadata": {},
   "outputs": [],
   "source": [
    "dataset = pd.read_csv(r\"F:\\cache_data\\zone_ana\\dy\\train_data\\train_20240726.csv\")"
   ]
  },
  {
   "cell_type": "code",
   "execution_count": 4,
   "metadata": {},
   "outputs": [
    {
     "data": {
      "text/plain": [
       "Index(['OBJECTID', 'DLMC', '母质', 'TL', 'YL', 'TS', 'TZ', 'XMin', 'YMin',\n",
       "       'XMax',\n",
       "       ...\n",
       "       'DZ_MAX', 'DZ_RANGE', 'DZ_MEAN', 'DZ_STD', 'DZ_SUM', 'DZ_VARIETY',\n",
       "       'DZ_MAJORITY', 'DZ_MINORITY', 'DZ_MEDIAN', 'DZ_PCT90'],\n",
       "      dtype='object', length=433)"
      ]
     },
     "execution_count": 4,
     "metadata": {},
     "output_type": "execute_result"
    }
   ],
   "source": [
    "dataset.columns"
   ]
  },
  {
   "cell_type": "code",
   "execution_count": 5,
   "metadata": {},
   "outputs": [],
   "source": [
    "dataset.rename(columns={'母质': 'MZ'}, inplace=True)"
   ]
  },
  {
   "cell_type": "code",
   "execution_count": 6,
   "metadata": {},
   "outputs": [],
   "source": [
    "dataset[\"TZ_label\"] = dataset.TZ.astype(\"category\").cat.codes"
   ]
  },
  {
   "cell_type": "code",
   "execution_count": 7,
   "metadata": {},
   "outputs": [],
   "source": [
    "dataset['DLMC'] = dataset['DLMC'].astype('category')\n",
    "dataset['MZ'] = dataset['MZ'].astype('category')\n",
    "dataset['TZ_label'] = dataset['TZ_label'].astype('category')"
   ]
  },
  {
   "cell_type": "code",
   "execution_count": 8,
   "metadata": {},
   "outputs": [
    {
     "name": "stdout",
     "output_type": "stream",
     "text": [
      "{0: '中层壤质中性紫色土', 1: '中层壤质酸性紫色土', 2: '中层壤质黄色石灰土', 3: '中层泥砂质黄壤', 4: '中层泥质黄壤', 5: '中层灰泥质黄壤', 6: '中层灰泥质黄色石灰土', 7: '中层砂泥质黄壤', 8: '中层砂泥黄壤', 9: '中层砾壤质黑色石灰土', 10: '中层硅质酸性粗骨土', 11: '中层红泥质黄壤', 12: '中层黏质黄色石灰土', 13: '厚层泥质黄壤', 14: '厚层灰泥质黄壤', 15: '厚层砂泥质黄壤', 16: '厚层硅质酸性粗骨土', 17: '厚层红泥质黄壤', 18: '厚层黏质黄色石灰土', 19: '浅石灰泥田', 20: '渗潮泥田', 21: '渗石灰泥田', 22: '潮泥田', 23: '石灰泥田', 24: '紫泥田', 25: '腐中层壤质中性紫色土', 26: '腐中层壤质酸性紫色土', 27: '腐中层壤质黄色石灰土', 28: '腐中层泥砂质黄壤', 29: '腐中层泥质黄壤', 30: '腐中层灰泥质黄壤', 31: '腐中层砂泥质黄壤', 32: '腐中层砂质山地灌丛草甸土', 33: '腐中层砾壤质黑色石灰土', 34: '腐中层硅质酸性粗骨土', 35: '腐中层硅质黄壤', 36: '腐中层红泥质黄壤', 37: '腐中层黏质黄色石灰土', 38: '腐厚层泥质黄壤', 39: '腐厚层灰泥质黄壤', 40: '腐厚层砂泥质黄壤', 41: '腐厚层硅质酸性粗骨土', 42: '腐厚层硅质黄壤', 43: '腐厚层红泥质黄壤', 44: '腐厚层黏质黄色石灰土', 45: '腐薄层壤质酸性紫色土', 46: '腐薄层壤质黄色石灰土', 47: '腐薄层壤质黑色石灰土', 48: '腐薄层泥砂质黄壤', 49: '腐薄层泥质黄壤', 50: '腐薄层灰泥质黄壤', 51: '腐薄层砂泥质黄壤', 52: '腐薄层砂质山地灌丛草甸土', 53: '腐薄层砾泥质黄壤性土', 54: '腐薄层硅质酸性粗骨土', 55: '腐薄层硅质黄壤', 56: '腐薄层硅质黄壤性土', 57: '腐薄层红泥质黄壤', 58: '腐薄层黏质黄色石灰土', 59: '薄层壤质酸性紫色土', 60: '薄层壤质黑色石灰土', 61: '薄层泥质黄壤', 62: '薄层灰泥质黄壤', 63: '薄层灰泥质黄色石灰土', 64: '薄层砂泥质黄壤', 65: '薄层砂泥黄壤', 66: '薄层砾壤质黑色石灰土', 67: '薄层硅质黄壤', 68: '薄层红泥质黄壤', 69: '薄层黏质黄色石灰土', 70: '重漂砂泥田', 71: '青潮泥田', 72: '青石灰泥田', 73: '黄浅灰泥田', 74: '黄浅白粉泥田', 75: '黄浅红泥田', 76: '黄浅鳝泥田', 77: '黄渗灰泥田', 78: '黄渗白粉泥田', 79: '黄渗红泥田', 80: '黄渗鳝泥田', 81: '黄潮泥田', 82: '黄白粉泥田', 83: '黄砂泥田', 84: '黄红泥田', 85: '黄青白粉泥田', 86: '黄青砂泥田', 87: '黄青红泥田', 88: '黄鳝泥田', 89: '黄黄灰泥田'}\n"
     ]
    }
   ],
   "source": [
    "result = dataset.groupby('TZ_label', observed=True)[\"TZ\"].apply(lambda x: list(x.unique())).to_dict()\n",
    "for one_type in result:\n",
    "    result[one_type] = result[one_type][0]\n",
    "print(result)"
   ]
  },
  {
   "cell_type": "code",
   "execution_count": 10,
   "metadata": {},
   "outputs": [],
   "source": [
    "# 保存映射关系\n",
    "with open(r'D:\\worker_code\\Terrain_Test\\data\\soil_dict_20240726.json', 'w') as f:\n",
    "    json.dump(result, f)"
   ]
  },
  {
   "cell_type": "code",
   "execution_count": 9,
   "metadata": {},
   "outputs": [],
   "source": [
    "# 查看地类类别\n",
    "dl_df = pd.DataFrame(dataset['DLMC'].value_counts())"
   ]
  },
  {
   "cell_type": "code",
   "execution_count": 10,
   "metadata": {},
   "outputs": [
    {
     "data": {
      "text/html": [
       "<div>\n",
       "<style scoped>\n",
       "    .dataframe tbody tr th:only-of-type {\n",
       "        vertical-align: middle;\n",
       "    }\n",
       "\n",
       "    .dataframe tbody tr th {\n",
       "        vertical-align: top;\n",
       "    }\n",
       "\n",
       "    .dataframe thead th {\n",
       "        text-align: right;\n",
       "    }\n",
       "</style>\n",
       "<table border=\"1\" class=\"dataframe\">\n",
       "  <thead>\n",
       "    <tr style=\"text-align: right;\">\n",
       "      <th></th>\n",
       "      <th>count</th>\n",
       "    </tr>\n",
       "    <tr>\n",
       "      <th>DLMC</th>\n",
       "      <th></th>\n",
       "    </tr>\n",
       "  </thead>\n",
       "  <tbody>\n",
       "    <tr>\n",
       "      <th>乔木林地</th>\n",
       "      <td>10523</td>\n",
       "    </tr>\n",
       "    <tr>\n",
       "      <th>水田</th>\n",
       "      <td>3563</td>\n",
       "    </tr>\n",
       "    <tr>\n",
       "      <th>灌木林地</th>\n",
       "      <td>2115</td>\n",
       "    </tr>\n",
       "    <tr>\n",
       "      <th>旱地</th>\n",
       "      <td>1419</td>\n",
       "    </tr>\n",
       "    <tr>\n",
       "      <th>其他草地</th>\n",
       "      <td>663</td>\n",
       "    </tr>\n",
       "    <tr>\n",
       "      <th>茶园</th>\n",
       "      <td>172</td>\n",
       "    </tr>\n",
       "    <tr>\n",
       "      <th>其他园地</th>\n",
       "      <td>78</td>\n",
       "    </tr>\n",
       "    <tr>\n",
       "      <th>其他林地</th>\n",
       "      <td>78</td>\n",
       "    </tr>\n",
       "    <tr>\n",
       "      <th>果园</th>\n",
       "      <td>59</td>\n",
       "    </tr>\n",
       "    <tr>\n",
       "      <th>竹林地</th>\n",
       "      <td>44</td>\n",
       "    </tr>\n",
       "    <tr>\n",
       "      <th>裸岩石砾地</th>\n",
       "      <td>11</td>\n",
       "    </tr>\n",
       "    <tr>\n",
       "      <th>设施农用地</th>\n",
       "      <td>6</td>\n",
       "    </tr>\n",
       "    <tr>\n",
       "      <th>采矿用地</th>\n",
       "      <td>3</td>\n",
       "    </tr>\n",
       "    <tr>\n",
       "      <th>裸土地</th>\n",
       "      <td>2</td>\n",
       "    </tr>\n",
       "  </tbody>\n",
       "</table>\n",
       "</div>"
      ],
      "text/plain": [
       "       count\n",
       "DLMC        \n",
       "乔木林地   10523\n",
       "水田      3563\n",
       "灌木林地    2115\n",
       "旱地      1419\n",
       "其他草地     663\n",
       "茶园       172\n",
       "其他园地      78\n",
       "其他林地      78\n",
       "果园        59\n",
       "竹林地       44\n",
       "裸岩石砾地     11\n",
       "设施农用地      6\n",
       "采矿用地       3\n",
       "裸土地        2"
      ]
     },
     "execution_count": 10,
     "metadata": {},
     "output_type": "execute_result"
    }
   ],
   "source": [
    "dl_df"
   ]
  },
  {
   "cell_type": "code",
   "execution_count": 11,
   "metadata": {},
   "outputs": [],
   "source": [
    "# 查看母质类别\n",
    "mz_df = pd.DataFrame(dataset['MZ'].value_counts())"
   ]
  },
  {
   "cell_type": "code",
   "execution_count": 12,
   "metadata": {},
   "outputs": [
    {
     "data": {
      "text/html": [
       "<div>\n",
       "<style scoped>\n",
       "    .dataframe tbody tr th:only-of-type {\n",
       "        vertical-align: middle;\n",
       "    }\n",
       "\n",
       "    .dataframe tbody tr th {\n",
       "        vertical-align: top;\n",
       "    }\n",
       "\n",
       "    .dataframe thead th {\n",
       "        text-align: right;\n",
       "    }\n",
       "</style>\n",
       "<table border=\"1\" class=\"dataframe\">\n",
       "  <thead>\n",
       "    <tr style=\"text-align: right;\">\n",
       "      <th></th>\n",
       "      <th>count</th>\n",
       "    </tr>\n",
       "    <tr>\n",
       "      <th>MZ</th>\n",
       "      <th></th>\n",
       "    </tr>\n",
       "  </thead>\n",
       "  <tbody>\n",
       "    <tr>\n",
       "      <th>砂岩</th>\n",
       "      <td>5666</td>\n",
       "    </tr>\n",
       "    <tr>\n",
       "      <th>泥(页)岩</th>\n",
       "      <td>5512</td>\n",
       "    </tr>\n",
       "    <tr>\n",
       "      <th>碳酸岩</th>\n",
       "      <td>4922</td>\n",
       "    </tr>\n",
       "    <tr>\n",
       "      <th>第四系红粘土</th>\n",
       "      <td>1213</td>\n",
       "    </tr>\n",
       "    <tr>\n",
       "      <th>砂页岩</th>\n",
       "      <td>438</td>\n",
       "    </tr>\n",
       "    <tr>\n",
       "      <th>紫红色砂页岩</th>\n",
       "      <td>409</td>\n",
       "    </tr>\n",
       "    <tr>\n",
       "      <th>砾岩</th>\n",
       "      <td>276</td>\n",
       "    </tr>\n",
       "    <tr>\n",
       "      <th>河流冲积物</th>\n",
       "      <td>167</td>\n",
       "    </tr>\n",
       "    <tr>\n",
       "      <th>第四纪冰川冲积物</th>\n",
       "      <td>133</td>\n",
       "    </tr>\n",
       "  </tbody>\n",
       "</table>\n",
       "</div>"
      ],
      "text/plain": [
       "          count\n",
       "MZ             \n",
       "砂岩         5666\n",
       "泥(页)岩      5512\n",
       "碳酸岩        4922\n",
       "第四系红粘土     1213\n",
       "砂页岩         438\n",
       "紫红色砂页岩      409\n",
       "砾岩          276\n",
       "河流冲积物       167\n",
       "第四纪冰川冲积物    133"
      ]
     },
     "execution_count": 12,
     "metadata": {},
     "output_type": "execute_result"
    }
   ],
   "source": [
    "mz_df"
   ]
  },
  {
   "cell_type": "markdown",
   "metadata": {},
   "source": [
    "### 砂岩土种"
   ]
  },
  {
   "cell_type": "code",
   "execution_count": 21,
   "metadata": {},
   "outputs": [
    {
     "data": {
      "text/plain": [
       "array(['潮泥田', '黄青砂泥田', '黄渗白粉泥田', '黄白粉泥田', '黄浅白粉泥田', '黄鳝泥田', '黄青白粉泥田',\n",
       "       '黄潮泥田'], dtype=object)"
      ]
     },
     "execution_count": 21,
     "metadata": {},
     "output_type": "execute_result"
    }
   ],
   "source": [
    "# 筛选砂岩水稻土数据\n",
    "sy_sdt_data = dataset[dataset['DLMC'].isin(['水田','水浇地','坑塘水面','养殖坑塘','内陆滩涂']) \n",
    "                      & (dataset['MZ'] == '砂岩')]\n",
    "pd.unique(sy_sdt_data['TZ'])"
   ]
  },
  {
   "cell_type": "code",
   "execution_count": 22,
   "metadata": {},
   "outputs": [
    {
     "data": {
      "text/plain": [
       "(array(['薄层硅质黄壤', '厚层硅质酸性粗骨土'], dtype=object),\n",
       " array(['硅质黄壤', '硅质酸性粗骨土'], dtype=object))"
      ]
     },
     "execution_count": 22,
     "metadata": {},
     "output_type": "execute_result"
    }
   ],
   "source": [
    "# 筛砂岩选非自然土数据\n",
    "sy_fzrt_data = dataset[~dataset['DLMC'].isin(['乔木林地','灌木林地','竹林地','其他林地','其他草地','天然牧草地','人工牧草地','水田','水浇地','坑塘水面','养殖坑塘','内陆滩涂']) \n",
    "                       & (dataset['MZ'] == '砂岩')]\n",
    "pd.unique(sy_fzrt_data['TZ']),pd.unique(sy_fzrt_data['TS'])"
   ]
  },
  {
   "cell_type": "code",
   "execution_count": 23,
   "metadata": {},
   "outputs": [
    {
     "data": {
      "text/plain": [
       "(array(['腐厚层硅质黄壤', '腐薄层硅质黄壤', '腐中层砂质山地灌丛草甸土', '腐薄层硅质黄壤性土', '腐薄层砂质山地灌丛草甸土',\n",
       "        '腐中层硅质黄壤', '薄层硅质黄壤'], dtype=object),\n",
       " array(['硅质黄壤', '砂质山地灌丛草甸土', '硅质黄壤性土'], dtype=object))"
      ]
     },
     "execution_count": 23,
     "metadata": {},
     "output_type": "execute_result"
    }
   ],
   "source": [
    "# 筛选自然土数据\n",
    "sy_zrt_data = dataset[dataset['DLMC'].isin(['乔木林地','灌木林地','竹林地','其他林地','其他草地','天然牧草地','人工牧草地'])\n",
    "                   & (dataset['MZ'] == '砂岩')]\n",
    "pd.unique(sy_zrt_data['TZ']),pd.unique(sy_zrt_data['TS'])"
   ]
  },
  {
   "cell_type": "markdown",
   "metadata": {},
   "source": [
    "### 碳酸岩土种"
   ]
  },
  {
   "cell_type": "code",
   "execution_count": 24,
   "metadata": {},
   "outputs": [
    {
     "data": {
      "text/plain": [
       "(array(['石灰泥田', '青石灰泥田', '潮泥田', '渗潮泥田', '黄渗灰泥田', '浅石灰泥田', '黄浅灰泥田', '黄黄灰泥田',\n",
       "        '渗石灰泥田'], dtype=object),\n",
       " array(['灰泥田', '青灰泥田', '潮泥田', '渗潮泥田', '渗灰泥田', '浅灰泥田', '黄灰泥田'], dtype=object))"
      ]
     },
     "execution_count": 24,
     "metadata": {},
     "output_type": "execute_result"
    }
   ],
   "source": [
    "# 筛选碳酸岩水稻土数据\n",
    "tsy_sdt_data = dataset[dataset['DLMC'].isin(['水田','水浇地','坑塘水面','养殖坑塘','内陆滩涂']) \n",
    "                      & (dataset['MZ'] == '碳酸岩')]\n",
    "pd.unique(tsy_sdt_data['TZ']),pd.unique(tsy_sdt_data['TS']),"
   ]
  },
  {
   "cell_type": "code",
   "execution_count": 17,
   "metadata": {},
   "outputs": [
    {
     "data": {
      "text/plain": [
       "(array(['薄层砾壤质黑色石灰土', '中层灰泥质黄色石灰土', '中层灰泥质黄壤', '薄层灰泥质黄色石灰土', '中层砾壤质黑色石灰土',\n",
       "        '中层壤质黄色石灰土', '薄层灰泥质黄壤', '厚层灰泥质黄壤', '薄层壤质黑色石灰土', '中层黏质黄色石灰土'],\n",
       "       dtype=object),\n",
       " array(['壤质黑色石灰土', '灰泥质黄色石灰土', '灰泥质黄壤', '壤质黄色石灰土', '黏质黄色石灰土'], dtype=object))"
      ]
     },
     "execution_count": 17,
     "metadata": {},
     "output_type": "execute_result"
    }
   ],
   "source": [
    "# 筛选碳酸岩选非自然土数据\n",
    "tsy_fzrt_data = dataset[~dataset['DLMC'].isin(['乔木林地','灌木林地','竹林地','其他林地','其他草地','天然牧草地','人工牧草地','水田','水浇地','坑塘水面','养殖坑塘','内陆滩涂']) \n",
    "                       & ( dataset['TZ'].str.contains('灰')) & (dataset['MZ'] != '泥(页)岩') &(dataset['MZ'] != '第四系红粘土')]\n",
    "pd.unique(tsy_fzrt_data['TZ']),pd.unique(tsy_fzrt_data['TS']),"
   ]
  },
  {
   "cell_type": "code",
   "execution_count": 18,
   "metadata": {},
   "outputs": [
    {
     "data": {
      "text/plain": [
       "(array(['腐薄层壤质黄色石灰土', '腐中层壤质黄色石灰土', '腐中层灰泥质黄壤', '腐薄层灰泥质黄壤', '腐薄层壤质黑色石灰土',\n",
       "        '腐厚层灰泥质黄壤', '腐中层砾壤质黑色石灰土'], dtype=object),\n",
       " array(['壤质黄色石灰土', '灰泥质黄壤', '壤质黑色石灰土'], dtype=object))"
      ]
     },
     "execution_count": 18,
     "metadata": {},
     "output_type": "execute_result"
    }
   ],
   "source": [
    "# 筛选碳酸岩自然土数据\n",
    "tsy_zrt_data = dataset[dataset['DLMC'].isin(['乔木林地','灌木林地','竹林地','其他林地','其他草地','天然牧草地','人工牧草地'])\n",
    "                   & ( dataset['TZ'].str.contains('灰')) & (dataset['MZ'] != '泥(页)岩') &(dataset['MZ'] != '第四系红粘土')]\n",
    "pd.unique(tsy_zrt_data['TZ']),pd.unique(tsy_zrt_data['TS']),"
   ]
  },
  {
   "cell_type": "markdown",
   "metadata": {},
   "source": [
    "### 第四系红粘土"
   ]
  },
  {
   "cell_type": "code",
   "execution_count": 19,
   "metadata": {},
   "outputs": [
    {
     "data": {
      "text/plain": [
       "(array(['黄红泥田', '黄渗红泥田', '黄浅红泥田', '潮泥田', '黄青红泥田'], dtype=object),\n",
       " array(['红泥田', '渗红泥田', '浅红泥田', '潮泥田', '青红泥田'], dtype=object))"
      ]
     },
     "execution_count": 19,
     "metadata": {},
     "output_type": "execute_result"
    }
   ],
   "source": [
    "# 筛选第四系红粘土水稻土数据\n",
    "hnt_sdt_data = dataset[dataset['DLMC'].isin(['水田','水浇地','坑塘水面','养殖坑塘','内陆滩涂']) \n",
    "                      & (dataset['MZ'] == '第四系红粘土')]\n",
    "pd.unique(hnt_sdt_data['TZ']),pd.unique(hnt_sdt_data['TS']),"
   ]
  },
  {
   "cell_type": "code",
   "execution_count": 20,
   "metadata": {},
   "outputs": [
    {
     "data": {
      "text/plain": [
       "(array(['薄层黏质黄色石灰土', '中层黏质黄色石灰土', '中层红泥质黄壤', '厚层红泥质黄壤', '厚层黏质黄色石灰土',\n",
       "        '薄层红泥质黄壤'], dtype=object),\n",
       " array(['黏质黄色石灰土', '红泥质黄壤'], dtype=object))"
      ]
     },
     "execution_count": 20,
     "metadata": {},
     "output_type": "execute_result"
    }
   ],
   "source": [
    "# 筛选第四系红粘土非自然土数据\n",
    "hnt_fzrt_data = dataset[~dataset['DLMC'].isin(['乔木林地','灌木林地','竹林地','其他林地','其他草地','天然牧草地','人工牧草地','水田','水浇地','坑塘水面','养殖坑塘','内陆滩涂']) \n",
    "                       & (dataset['MZ'] == '第四系红粘土')]\n",
    "pd.unique(hnt_fzrt_data['TZ']),pd.unique(hnt_fzrt_data['TS']),"
   ]
  },
  {
   "cell_type": "code",
   "execution_count": 25,
   "metadata": {},
   "outputs": [
    {
     "data": {
      "text/plain": [
       "(array(['腐厚层红泥质黄壤', '腐中层黏质黄色石灰土', '腐厚层黏质黄色石灰土', '腐中层红泥质黄壤', '腐薄层黏质黄色石灰土',\n",
       "        '腐薄层红泥质黄壤'], dtype=object),\n",
       " array(['红泥质黄壤', '黏质黄色石灰土'], dtype=object))"
      ]
     },
     "execution_count": 25,
     "metadata": {},
     "output_type": "execute_result"
    }
   ],
   "source": [
    "# 筛选第四系红粘土自然土数据\n",
    "hnt_zrt_data = dataset[dataset['DLMC'].isin(['乔木林地','灌木林地','竹林地','其他林地','其他草地','天然牧草地','人工牧草地'])\n",
    "                   & (dataset['MZ'] == '第四系红粘土')]\n",
    "pd.unique(hnt_zrt_data['TZ']),pd.unique(hnt_zrt_data['TS']),"
   ]
  },
  {
   "cell_type": "markdown",
   "metadata": {},
   "source": [
    "### 泥(页)岩"
   ]
  },
  {
   "cell_type": "code",
   "execution_count": 26,
   "metadata": {},
   "outputs": [
    {
     "data": {
      "text/plain": [
       "(array(['潮泥田', '黄浅鳝泥田', '黄鳝泥田', '黄渗鳝泥田'], dtype=object),\n",
       " array(['潮泥田', '浅鳝泥田', '鳝泥田', '渗鳝泥田'], dtype=object))"
      ]
     },
     "execution_count": 26,
     "metadata": {},
     "output_type": "execute_result"
    }
   ],
   "source": [
    "# 筛选泥(页)岩水稻土数据\n",
    "nyy_sdt_data = dataset[dataset['DLMC'].isin(['水田','水浇地','坑塘水面','养殖坑塘','内陆滩涂']) \n",
    "                      & (dataset['MZ'] == '泥(页)岩')]\n",
    "pd.unique(nyy_sdt_data['TZ']),pd.unique(nyy_sdt_data['TS']),"
   ]
  },
  {
   "cell_type": "code",
   "execution_count": 27,
   "metadata": {},
   "outputs": [
    {
     "data": {
      "text/plain": [
       "(array(['薄层泥质黄壤', '厚层泥质黄壤', '中层泥质黄壤', '薄层黏质黄色石灰土'], dtype=object),\n",
       " array(['泥质黄壤', '黏质黄色石灰土'], dtype=object))"
      ]
     },
     "execution_count": 27,
     "metadata": {},
     "output_type": "execute_result"
    }
   ],
   "source": [
    "# 筛选泥(页)岩非自然土数据\n",
    "nyy_fzrt_data = dataset[~dataset['DLMC'].isin(['乔木林地','灌木林地','竹林地','其他林地','其他草地','天然牧草地','人工牧草地','水田','水浇地','坑塘水面','养殖坑塘','内陆滩涂']) \n",
    "                       & (dataset['MZ'] == '泥(页)岩')]\n",
    "pd.unique(nyy_fzrt_data['TZ']),pd.unique(nyy_fzrt_data['TS']),"
   ]
  },
  {
   "cell_type": "code",
   "execution_count": 29,
   "metadata": {},
   "outputs": [
    {
     "data": {
      "text/plain": [
       "(array(['腐薄层泥质黄壤', '腐厚层泥质黄壤', '腐薄层黏质黄色石灰土', '腐中层泥质黄壤', '腐中层黏质黄色石灰土',\n",
       "        '腐厚层黏质黄色石灰土', '腐薄层砾泥质黄壤性土'], dtype=object),\n",
       " array(['泥质黄壤', '黏质黄色石灰土'], dtype=object))"
      ]
     },
     "execution_count": 29,
     "metadata": {},
     "output_type": "execute_result"
    }
   ],
   "source": [
    "# 筛选泥(页)岩自然土数据\n",
    "nyy_zrt_data = dataset[dataset['DLMC'].isin(['乔木林地','灌木林地','竹林地','其他林地','其他草地','天然牧草地','人工牧草地'])\n",
    "                   & (dataset['MZ'] == '泥(页)岩')]\n",
    "pd.unique(nyy_zrt_data['TZ']),pd.unique(nyy_zrt_data['TS']),"
   ]
  },
  {
   "cell_type": "markdown",
   "metadata": {},
   "source": [
    "### 紫红色砂页岩\t"
   ]
  },
  {
   "cell_type": "code",
   "execution_count": 30,
   "metadata": {},
   "outputs": [
    {
     "data": {
      "text/plain": [
       "(array(['潮泥田', '渗潮泥田', '青潮泥田', '紫泥田'], dtype=object),\n",
       " array(['潮泥田', '渗潮泥田', '青潮泥田', '紫泥田'], dtype=object))"
      ]
     },
     "execution_count": 30,
     "metadata": {},
     "output_type": "execute_result"
    }
   ],
   "source": [
    "# 筛选紫红色砂页岩水稻土数据\n",
    "zhsyy_sdt_data = dataset[dataset['DLMC'].isin(['水田','水浇地','坑塘水面','养殖坑塘','内陆滩涂']) \n",
    "                      & ((dataset['MZ'] == '紫红色砂页岩') | (dataset['MZ'] == '河流冲积物'))]\n",
    "pd.unique(zhsyy_sdt_data['TZ']),pd.unique(zhsyy_sdt_data['TS']),"
   ]
  },
  {
   "cell_type": "code",
   "execution_count": 31,
   "metadata": {},
   "outputs": [
    {
     "data": {
      "text/plain": [
       "(array(['中层壤质酸性紫色土', '薄层壤质酸性紫色土', '中层壤质中性紫色土'], dtype=object),\n",
       " array(['壤质酸性紫色土', '壤质中性紫色土'], dtype=object))"
      ]
     },
     "execution_count": 31,
     "metadata": {},
     "output_type": "execute_result"
    }
   ],
   "source": [
    "# 筛选紫红色砂页岩非自然土数据\n",
    "zhsyy_fzrt_data = dataset[~dataset['DLMC'].isin(['乔木林地','灌木林地','竹林地','其他林地','其他草地','天然牧草地','人工牧草地','水田','水浇地','坑塘水面','养殖坑塘','内陆滩涂']) \n",
    "                       & (dataset['MZ'] == '紫红色砂页岩')]\n",
    "pd.unique(zhsyy_fzrt_data['TZ']),pd.unique(zhsyy_fzrt_data['TS']),"
   ]
  },
  {
   "cell_type": "code",
   "execution_count": 32,
   "metadata": {},
   "outputs": [
    {
     "data": {
      "text/plain": [
       "(array(['腐薄层壤质酸性紫色土', '腐中层壤质酸性紫色土', '腐中层壤质中性紫色土'], dtype=object),\n",
       " array(['壤质酸性紫色土', '壤质中性紫色土'], dtype=object))"
      ]
     },
     "execution_count": 32,
     "metadata": {},
     "output_type": "execute_result"
    }
   ],
   "source": [
    "# 筛选紫红色砂页岩自然土数据\n",
    "zhsyy_zrt_data = dataset[dataset['DLMC'].isin(['乔木林地','灌木林地','竹林地','其他林地','其他草地','天然牧草地','人工牧草地'])\n",
    "                   & (dataset['MZ'] == '紫红色砂页岩')]\n",
    "pd.unique(zhsyy_zrt_data['TZ']),pd.unique(zhsyy_zrt_data['TS']),"
   ]
  },
  {
   "cell_type": "markdown",
   "metadata": {},
   "source": [
    "### 河流冲积物"
   ]
  },
  {
   "cell_type": "code",
   "execution_count": 34,
   "metadata": {},
   "outputs": [
    {
     "data": {
      "text/plain": [
       "(array(['潮泥田', '渗潮泥田', '青潮泥田', '黄潮泥田'], dtype=object),\n",
       " array(['潮泥田', '渗潮泥田', '青潮泥田', '黄潮泥田'], dtype=object))"
      ]
     },
     "execution_count": 34,
     "metadata": {},
     "output_type": "execute_result"
    }
   ],
   "source": [
    "# 筛选河流冲积物水稻土数据\n",
    "hlcjw_sdt_data = dataset[dataset['DLMC'].isin(['水田','水浇地','坑塘水面','养殖坑塘','内陆滩涂']) & dataset['TZ'].str.contains('潮泥田')]\n",
    "pd.unique(hlcjw_sdt_data['TZ']),pd.unique(hlcjw_sdt_data['TS']),"
   ]
  },
  {
   "cell_type": "markdown",
   "metadata": {},
   "source": [
    "### 砾岩"
   ]
  },
  {
   "cell_type": "code",
   "execution_count": 35,
   "metadata": {},
   "outputs": [
    {
     "data": {
      "text/plain": [
       "(array(['黄浅白粉泥田', '黄白粉泥田', '潮泥田', '黄青砂泥田', '黄渗白粉泥田', '黄鳝泥田', '黄青白粉泥田',\n",
       "        '黄潮泥田'], dtype=object),\n",
       " array(['浅白粉泥田', '白粉泥田', '潮泥田', '青砂泥田', '渗白粉泥田', '鳝泥田', '青白粉泥田', '黄潮泥田'],\n",
       "       dtype=object))"
      ]
     },
     "execution_count": 35,
     "metadata": {},
     "output_type": "execute_result"
    }
   ],
   "source": [
    "# 筛选砾岩水稻土数据\n",
    "ly_sdt_data = dataset[dataset['DLMC'].isin(['水田','水浇地','坑塘水面','养殖坑塘','内陆滩涂']) \n",
    "                      & ((dataset['MZ'] == '砾岩') | (dataset['MZ'] == '砂岩'))]\n",
    "pd.unique(ly_sdt_data['TZ']),pd.unique(ly_sdt_data['TS']),"
   ]
  },
  {
   "cell_type": "code",
   "execution_count": 36,
   "metadata": {},
   "outputs": [
    {
     "data": {
      "text/plain": [
       "(array(['厚层硅质酸性粗骨土', '中层硅质酸性粗骨土', '薄层硅质黄壤'], dtype=object),\n",
       " array(['硅质酸性粗骨土', '硅质黄壤'], dtype=object))"
      ]
     },
     "execution_count": 36,
     "metadata": {},
     "output_type": "execute_result"
    }
   ],
   "source": [
    "# 筛选砾岩非自然土数据\n",
    "ly_fzrt_data = dataset[~dataset['DLMC'].isin(['乔木林地','灌木林地','竹林地','其他林地','其他草地','天然牧草地','人工牧草地','水田','水浇地','坑塘水面','养殖坑塘','内陆滩涂']) \n",
    "                       & ((dataset['MZ'] == '砾岩') | (dataset['MZ'] == '砂岩'))]\n",
    "pd.unique(ly_fzrt_data['TZ']),pd.unique(ly_fzrt_data['TS']),"
   ]
  },
  {
   "cell_type": "code",
   "execution_count": 37,
   "metadata": {},
   "outputs": [
    {
     "data": {
      "text/plain": [
       "(array(['腐厚层硅质酸性粗骨土', '腐厚层硅质黄壤', '腐中层硅质酸性粗骨土', '腐薄层硅质酸性粗骨土', '腐薄层硅质黄壤',\n",
       "        '腐中层砂质山地灌丛草甸土', '腐薄层硅质黄壤性土', '腐薄层砂质山地灌丛草甸土', '腐中层硅质黄壤', '薄层硅质黄壤'],\n",
       "       dtype=object),\n",
       " array(['硅质酸性粗骨土', '硅质黄壤', '砂质山地灌丛草甸土', '硅质黄壤性土'], dtype=object))"
      ]
     },
     "execution_count": 37,
     "metadata": {},
     "output_type": "execute_result"
    }
   ],
   "source": [
    "# 筛选砾岩非自然土数据\n",
    "ly_zrt_data = dataset[dataset['DLMC'].isin(['乔木林地','灌木林地','竹林地','其他林地','其他草地','天然牧草地','人工牧草地']) \n",
    "                       & ((dataset['MZ'] == '砾岩') | (dataset['MZ'] == '砂岩'))]\n",
    "pd.unique(ly_zrt_data['TZ']),pd.unique(ly_zrt_data['TS']),"
   ]
  },
  {
   "cell_type": "markdown",
   "metadata": {},
   "source": [
    "### 第四纪冰川冲积物"
   ]
  },
  {
   "cell_type": "code",
   "execution_count": 38,
   "metadata": {},
   "outputs": [
    {
     "data": {
      "text/plain": [
       "(array(['黄红泥田', '黄渗红泥田', '黄浅红泥田', '潮泥田', '黄青红泥田', '渗潮泥田', '青潮泥田', '黄浅白粉泥田',\n",
       "        '黄白粉泥田', '黄浅鳝泥田', '黄鳝泥田', '黄渗鳝泥田', '黄青砂泥田', '黄渗白粉泥田', '黄青白粉泥田',\n",
       "        '黄潮泥田', '黄砂泥田', '重漂砂泥田', '石灰泥田', '青石灰泥田', '黄渗灰泥田', '浅石灰泥田',\n",
       "        '黄浅灰泥田', '黄黄灰泥田', '渗石灰泥田', '紫泥田'], dtype=object),\n",
       " array(['红泥田', '渗红泥田', '浅红泥田', '潮泥田', '青红泥田', '渗潮泥田', '青潮泥田', '浅白粉泥田',\n",
       "        '白粉泥田', '浅鳝泥田', '鳝泥田', '渗鳝泥田', '青砂泥田', '渗白粉泥田', '青白粉泥田', '黄潮泥田',\n",
       "        '砂泥田', '漂砂泥田', '灰泥田', '青灰泥田', '渗灰泥田', '浅灰泥田', '黄灰泥田', '紫泥田'],\n",
       "       dtype=object))"
      ]
     },
     "execution_count": 38,
     "metadata": {},
     "output_type": "execute_result"
    }
   ],
   "source": [
    "# 筛选第四纪冰川冲积物水稻土数据\n",
    "bccjw_sdt_data = dataset[dataset['DLMC'].isin(['水田','水浇地','坑塘水面','养殖坑塘','内陆滩涂']) \n",
    "                     ]\n",
    "pd.unique(bccjw_sdt_data['TZ']),pd.unique(bccjw_sdt_data['TS']),"
   ]
  },
  {
   "cell_type": "code",
   "execution_count": 62,
   "metadata": {},
   "outputs": [
    {
     "data": {
      "text/plain": [
       "(array(['中层泥砂质黄壤', '薄层硅质黄壤', '厚层硅质酸性粗骨土'], dtype=object),\n",
       " array(['泥砂质黄壤', '硅质黄壤', '硅质酸性粗骨土'], dtype=object))"
      ]
     },
     "execution_count": 62,
     "metadata": {},
     "output_type": "execute_result"
    }
   ],
   "source": [
    "# 筛选第四纪冰川冲积物非自然土数据\n",
    "bccjw_fzrt_data = dataset[~dataset['DLMC'].isin(['乔木林地','灌木林地','竹林地','其他林地','其他草地','天然牧草地','人工牧草地','水田','水浇地','坑塘水面','养殖坑塘','内陆滩涂']) \n",
    "                       & ((dataset['MZ'] == '第四纪冰川冲积物') | (dataset['MZ'] == '砂岩'))]\n",
    "pd.unique(bccjw_fzrt_data['TZ']),pd.unique(bccjw_fzrt_data['TS']),"
   ]
  },
  {
   "cell_type": "code",
   "execution_count": 41,
   "metadata": {},
   "outputs": [
    {
     "data": {
      "text/plain": [
       "(array(['腐中层泥砂质黄壤', '腐薄层泥砂质黄壤'], dtype=object), array(['泥砂质黄壤'], dtype=object))"
      ]
     },
     "execution_count": 41,
     "metadata": {},
     "output_type": "execute_result"
    }
   ],
   "source": [
    "# 筛选第四纪冰川冲积物自然土数据\n",
    "bccjw_zrt_data = dataset[dataset['DLMC'].isin(['乔木林地','灌木林地','竹林地','其他林地','其他草地','天然牧草地','人工牧草地'])\n",
    "                   & (dataset['MZ'] == '第四纪冰川冲积物')]\n",
    "pd.unique(bccjw_zrt_data['TZ']),pd.unique(bccjw_zrt_data['TS']),"
   ]
  },
  {
   "cell_type": "markdown",
   "metadata": {},
   "source": [
    "### 砂页岩"
   ]
  },
  {
   "cell_type": "code",
   "execution_count": 42,
   "metadata": {},
   "outputs": [
    {
     "data": {
      "text/plain": [
       "(array(['黄砂泥田', '重漂砂泥田'], dtype=object), array(['砂泥田', '漂砂泥田'], dtype=object))"
      ]
     },
     "execution_count": 42,
     "metadata": {},
     "output_type": "execute_result"
    }
   ],
   "source": [
    "# 筛选砂页岩水稻土数据\n",
    "syy_sdt_data = dataset[dataset['DLMC'].isin(['水田','水浇地','坑塘水面','养殖坑塘','内陆滩涂']) \n",
    "                      & (dataset['MZ'] == '砂页岩')]\n",
    "pd.unique(syy_sdt_data['TZ']),pd.unique(syy_sdt_data['TS']),"
   ]
  },
  {
   "cell_type": "code",
   "execution_count": 43,
   "metadata": {},
   "outputs": [
    {
     "data": {
      "text/plain": [
       "(array(['中层砂泥质黄壤', '薄层砂泥质黄壤', '中层砂泥黄壤', '薄层砂泥黄壤', '厚层砂泥质黄壤'], dtype=object),\n",
       " array(['砂泥质黄壤', '砂泥黄壤'], dtype=object))"
      ]
     },
     "execution_count": 43,
     "metadata": {},
     "output_type": "execute_result"
    }
   ],
   "source": [
    "# 筛选砂页岩非自然土数据\n",
    "syy_fzrt_data = dataset[~dataset['DLMC'].isin(['乔木林地','灌木林地','竹林地','其他林地','其他草地','天然牧草地','人工牧草地','水田','水浇地','坑塘水面','养殖坑塘','内陆滩涂']) \n",
    "                       & (dataset['MZ'] == '砂页岩')]\n",
    "pd.unique(syy_fzrt_data['TZ']),pd.unique(syy_fzrt_data['TS']),"
   ]
  },
  {
   "cell_type": "code",
   "execution_count": 44,
   "metadata": {},
   "outputs": [
    {
     "data": {
      "text/plain": [
       "(array(['腐中层砂泥质黄壤', '腐薄层砂泥质黄壤', '腐厚层砂泥质黄壤'], dtype=object),\n",
       " array(['砂泥质黄壤'], dtype=object))"
      ]
     },
     "execution_count": 44,
     "metadata": {},
     "output_type": "execute_result"
    }
   ],
   "source": [
    "# 筛选砂页岩物自然土数据\n",
    "syy_zrt_data = dataset[dataset['DLMC'].isin(['乔木林地','灌木林地','竹林地','其他林地','其他草地','天然牧草地','人工牧草地'])\n",
    "                   & (dataset['MZ'] == '砂页岩')]\n",
    "pd.unique(syy_zrt_data['TZ']),pd.unique(syy_zrt_data['TS']),"
   ]
  },
  {
   "cell_type": "code",
   "execution_count": 45,
   "metadata": {},
   "outputs": [
    {
     "name": "stdout",
     "output_type": "stream",
     "text": [
      "OBJECTID\n",
      "DLMC\n",
      "MZ\n",
      "TL\n",
      "YL\n",
      "TS\n",
      "TZ\n",
      "XMin\n",
      "YMin\n",
      "XMax\n",
      "YMax\n",
      "Centroid_X\n",
      "Centroid_Y\n",
      "DEM_COUNT\n",
      "DEM_AREA\n",
      "DEM_MIN\n",
      "DEM_MAX\n",
      "DEM_RANGE\n",
      "DEM_MEAN\n",
      "DEM_STD\n",
      "DEM_SUM\n",
      "DEM_MEDIAN\n",
      "DEM_PCT90\n",
      "AnalyticalHillshading_COUNT\n",
      "AnalyticalHillshading_AREA\n",
      "AnalyticalHillshading_MIN\n",
      "AnalyticalHillshading_MAX\n",
      "AnalyticalHillshading_RANGE\n",
      "AnalyticalHillshading_MEAN\n",
      "AnalyticalHillshading_STD\n",
      "AnalyticalHillshading_SUM\n",
      "AnalyticalHillshading_MEDIAN\n",
      "AnalyticalHillshading_PCT90\n",
      "Aspect_COUNT\n",
      "Aspect_AREA\n",
      "Aspect_MIN\n",
      "Aspect_MAX\n",
      "Aspect_RANGE\n",
      "Aspect_MEAN\n",
      "Aspect_STD\n",
      "Aspect_SUM\n",
      "Aspect_MEDIAN\n",
      "Aspect_PCT90\n",
      "ChannelNetworkBaseLevel_COUNT\n",
      "ChannelNetworkBaseLevel_AREA\n",
      "ChannelNetworkBaseLevel_MIN\n",
      "ChannelNetworkBaseLevel_MAX\n",
      "ChannelNetworkBaseLevel_RANGE\n",
      "ChannelNetworkBaseLevel_MEAN\n",
      "ChannelNetworkBaseLevel_STD\n",
      "ChannelNetworkBaseLevel_SUM\n",
      "ChannelNetworkBaseLevel_MEDIAN\n",
      "ChannelNetworkBaseLevel_PCT90\n",
      "ChannelNetworkDistance_COUNT\n",
      "ChannelNetworkDistance_AREA\n",
      "ChannelNetworkDistance_MIN\n",
      "ChannelNetworkDistance_MAX\n",
      "ChannelNetworkDistance_RANGE\n",
      "ChannelNetworkDistance_MEAN\n",
      "ChannelNetworkDistance_STD\n",
      "ChannelNetworkDistance_SUM\n",
      "ChannelNetworkDistance_MEDIAN\n",
      "ChannelNetworkDistance_PCT90\n",
      "ClosedDepressions_COUNT\n",
      "ClosedDepressions_AREA\n",
      "ClosedDepressions_MIN\n",
      "ClosedDepressions_MAX\n",
      "ClosedDepressions_RANGE\n",
      "ClosedDepressions_MEAN\n",
      "ClosedDepressions_STD\n",
      "ClosedDepressions_SUM\n",
      "ClosedDepressions_MEDIAN\n",
      "ClosedDepressions_PCT90\n",
      "ConvergenceIndex_COUNT\n",
      "ConvergenceIndex_AREA\n",
      "ConvergenceIndex_MIN\n",
      "ConvergenceIndex_MAX\n",
      "ConvergenceIndex_RANGE\n",
      "ConvergenceIndex_MEAN\n",
      "ConvergenceIndex_STD\n",
      "ConvergenceIndex_SUM\n",
      "ConvergenceIndex_MEDIAN\n",
      "ConvergenceIndex_PCT90\n",
      "LSFactor_COUNT\n",
      "LSFactor_AREA\n",
      "LSFactor_MIN\n",
      "LSFactor_MAX\n",
      "LSFactor_RANGE\n",
      "LSFactor_MEAN\n",
      "LSFactor_STD\n",
      "LSFactor_SUM\n",
      "LSFactor_MEDIAN\n",
      "LSFactor_PCT90\n",
      "MRRTF_COUNT\n",
      "MRRTF_AREA\n",
      "MRRTF_MIN\n",
      "MRRTF_MAX\n",
      "MRRTF_RANGE\n",
      "MRRTF_MEAN\n",
      "MRRTF_STD\n",
      "MRRTF_SUM\n",
      "MRRTF_MEDIAN\n",
      "MRRTF_PCT90\n",
      "MRVBF_COUNT\n",
      "MRVBF_AREA\n",
      "MRVBF_MIN\n",
      "MRVBF_MAX\n",
      "MRVBF_RANGE\n",
      "MRVBF_MEAN\n",
      "MRVBF_STD\n",
      "MRVBF_SUM\n",
      "MRVBF_MEDIAN\n",
      "MRVBF_PCT90\n",
      "PlanCurvature_COUNT\n",
      "PlanCurvature_AREA\n",
      "PlanCurvature_MIN\n",
      "PlanCurvature_MAX\n",
      "PlanCurvature_RANGE\n",
      "PlanCurvature_MEAN\n",
      "PlanCurvature_STD\n",
      "PlanCurvature_SUM\n",
      "PlanCurvature_MEDIAN\n",
      "PlanCurvature_PCT90\n",
      "ProfileCurvature_COUNT\n",
      "ProfileCurvature_AREA\n",
      "ProfileCurvature_MIN\n",
      "ProfileCurvature_MAX\n",
      "ProfileCurvature_RANGE\n",
      "ProfileCurvature_MEAN\n",
      "ProfileCurvature_STD\n",
      "ProfileCurvature_SUM\n",
      "ProfileCurvature_MEDIAN\n",
      "ProfileCurvature_PCT90\n",
      "RelativeSlopePosition_COUNT\n",
      "RelativeSlopePosition_AREA\n",
      "RelativeSlopePosition_MIN\n",
      "RelativeSlopePosition_MAX\n",
      "RelativeSlopePosition_RANGE\n",
      "RelativeSlopePosition_MEAN\n",
      "RelativeSlopePosition_STD\n",
      "RelativeSlopePosition_SUM\n",
      "RelativeSlopePosition_MEDIAN\n",
      "RelativeSlopePosition_PCT90\n",
      "Slope_COUNT\n",
      "Slope_AREA\n",
      "Slope_MIN\n",
      "Slope_MAX\n",
      "Slope_RANGE\n",
      "Slope_MEAN\n",
      "Slope_STD\n",
      "Slope_SUM\n",
      "Slope_MEDIAN\n",
      "Slope_PCT90\n",
      "TopographicWetnessIndex_COUNT\n",
      "TopographicWetnessIndex_AREA\n",
      "TopographicWetnessIndex_MIN\n",
      "TopographicWetnessIndex_MAX\n",
      "TopographicWetnessIndex_RANGE\n",
      "TopographicWetnessIndex_MEAN\n",
      "TopographicWetnessIndex_STD\n",
      "TopographicWetnessIndex_SUM\n",
      "TopographicWetnessIndex_MEDIAN\n",
      "TopographicWetnessIndex_PCT90\n",
      "TotalCatchmentArea_COUNT\n",
      "TotalCatchmentArea_AREA\n",
      "TotalCatchmentArea_MIN\n",
      "TotalCatchmentArea_MAX\n",
      "TotalCatchmentArea_RANGE\n",
      "TotalCatchmentArea_MEAN\n",
      "TotalCatchmentArea_STD\n",
      "TotalCatchmentArea_SUM\n",
      "TotalCatchmentArea_MEDIAN\n",
      "TotalCatchmentArea_PCT90\n",
      "ValleyDepth_COUNT\n",
      "ValleyDepth_AREA\n",
      "ValleyDepth_MIN\n",
      "ValleyDepth_MAX\n",
      "ValleyDepth_RANGE\n",
      "ValleyDepth_MEAN\n",
      "ValleyDepth_STD\n",
      "ValleyDepth_SUM\n",
      "ValleyDepth_MEDIAN\n",
      "ValleyDepth_PCT90\n",
      "NIGHT2022_COUNT\n",
      "NIGHT2022_AREA\n",
      "NIGHT2022_MIN\n",
      "NIGHT2022_MAX\n",
      "NIGHT2022_RANGE\n",
      "NIGHT2022_MEAN\n",
      "NIGHT2022_STD\n",
      "NIGHT2022_SUM\n",
      "NIGHT2022_MEDIAN\n",
      "NIGHT2022_PCT90\n",
      "ETP2022_mean_COUNT\n",
      "ETP2022_mean_AREA\n",
      "ETP2022_mean_MIN\n",
      "ETP2022_mean_MAX\n",
      "ETP2022_mean_RANGE\n",
      "ETP2022_mean_MEAN\n",
      "ETP2022_mean_STD\n",
      "ETP2022_mean_SUM\n",
      "ETP2022_mean_MEDIAN\n",
      "ETP2022_mean_PCT90\n",
      "TMP2022_mean_COUNT\n",
      "TMP2022_mean_AREA\n",
      "TMP2022_mean_MIN\n",
      "TMP2022_mean_MAX\n",
      "TMP2022_mean_RANGE\n",
      "TMP2022_mean_MEAN\n",
      "TMP2022_mean_STD\n",
      "TMP2022_mean_SUM\n",
      "TMP2022_mean_MEDIAN\n",
      "TMP2022_mean_PCT90\n",
      "PRE2022_mean_COUNT\n",
      "PRE2022_mean_AREA\n",
      "PRE2022_mean_MIN\n",
      "PRE2022_mean_MAX\n",
      "PRE2022_mean_RANGE\n",
      "PRE2022_mean_MEAN\n",
      "PRE2022_mean_STD\n",
      "PRE2022_mean_SUM\n",
      "PRE2022_mean_MEDIAN\n",
      "PRE2022_mean_PCT90\n",
      "PRE2022_3_MAX\n",
      "PRE2022_3_RANGE\n",
      "PRE2022_3_MEAN\n",
      "PRE2022_3_STD\n",
      "PRE2022_3_SUM\n",
      "PRE2022_3_VARIETY\n",
      "PRE2022_3_MAJORITY\n",
      "PRE2022_3_MINORITY\n",
      "PRE2022_3_MEDIAN\n",
      "PRE2022_3_PCT90\n",
      "PRE2022_11_MAX\n",
      "PRE2022_11_RANGE\n",
      "PRE2022_11_MEAN\n",
      "PRE2022_11_STD\n",
      "PRE2022_11_SUM\n",
      "PRE2022_11_VARIETY\n",
      "PRE2022_11_MAJORITY\n",
      "PRE2022_11_MINORITY\n",
      "PRE2022_11_MEDIAN\n",
      "PRE2022_11_PCT90\n",
      "ETP2022_3_MAX\n",
      "ETP2022_3_RANGE\n",
      "ETP2022_3_MEAN\n",
      "ETP2022_3_STD\n",
      "ETP2022_3_SUM\n",
      "ETP2022_3_VARIETY\n",
      "ETP2022_3_MAJORITY\n",
      "ETP2022_3_MINORITY\n",
      "ETP2022_3_MEDIAN\n",
      "ETP2022_3_PCT90\n",
      "ETP2022_11_MAX\n",
      "ETP2022_11_RANGE\n",
      "ETP2022_11_MEAN\n",
      "ETP2022_11_STD\n",
      "ETP2022_11_SUM\n",
      "ETP2022_11_VARIETY\n",
      "ETP2022_11_MAJORITY\n",
      "ETP2022_11_MINORITY\n",
      "ETP2022_11_MEDIAN\n",
      "ETP2022_11_PCT90\n",
      "TMP2022_3_MAX\n",
      "TMP2022_3_RANGE\n",
      "TMP2022_3_MEAN\n",
      "TMP2022_3_STD\n",
      "TMP2022_3_SUM\n",
      "TMP2022_3_VARIETY\n",
      "TMP2022_3_MAJORITY\n",
      "TMP2022_3_MINORITY\n",
      "TMP2022_3_MEDIAN\n",
      "TMP2022_3_PCT90\n",
      "TMP2022_11_MAX\n",
      "TMP2022_11_RANGE\n",
      "TMP2022_11_MEAN\n",
      "TMP2022_11_STD\n",
      "TMP2022_11_SUM\n",
      "TMP2022_11_VARIETY\n",
      "TMP2022_11_MAJORITY\n",
      "TMP2022_11_MINORITY\n",
      "TMP2022_11_MEDIAN\n",
      "TMP2022_11_PCT90\n",
      "evi_COUNT\n",
      "evi_AREA\n",
      "evi_MIN\n",
      "evi_MAX\n",
      "evi_RANGE\n",
      "evi_MEAN\n",
      "evi_STD\n",
      "evi_SUM\n",
      "evi_MEDIAN\n",
      "evi_PCT90\n",
      "lswi_COUNT\n",
      "lswi_AREA\n",
      "lswi_MIN\n",
      "lswi_MAX\n",
      "lswi_RANGE\n",
      "lswi_MEAN\n",
      "lswi_STD\n",
      "lswi_SUM\n",
      "lswi_MEDIAN\n",
      "lswi_PCT90\n",
      "mndwi_COUNT\n",
      "mndwi_AREA\n",
      "mndwi_MIN\n",
      "mndwi_MAX\n",
      "mndwi_RANGE\n",
      "mndwi_MEAN\n",
      "mndwi_STD\n",
      "mndwi_SUM\n",
      "mndwi_MEDIAN\n",
      "mndwi_PCT90\n",
      "ndmi_COUNT\n",
      "ndmi_AREA\n",
      "ndmi_MIN\n",
      "ndmi_MAX\n",
      "ndmi_RANGE\n",
      "ndmi_MEAN\n",
      "ndmi_STD\n",
      "ndmi_SUM\n",
      "ndmi_MEDIAN\n",
      "ndmi_PCT90\n",
      "ndvi_COUNT\n",
      "ndvi_AREA\n",
      "ndvi_MIN\n",
      "ndvi_MAX\n",
      "ndvi_RANGE\n",
      "ndvi_MEAN\n",
      "ndvi_STD\n",
      "ndvi_SUM\n",
      "ndvi_MEDIAN\n",
      "ndvi_PCT90\n",
      "ndwi_COUNT\n",
      "ndwi_AREA\n",
      "ndwi_MIN\n",
      "ndwi_MAX\n",
      "ndwi_RANGE\n",
      "ndwi_MEAN\n",
      "ndwi_STD\n",
      "ndwi_SUM\n",
      "ndwi_MEDIAN\n",
      "ndwi_PCT90\n",
      "PCA_0_COUNT\n",
      "PCA_0_AREA\n",
      "PCA_0_MIN\n",
      "PCA_0_MAX\n",
      "PCA_0_RANGE\n",
      "PCA_0_MEAN\n",
      "PCA_0_STD\n",
      "PCA_0_SUM\n",
      "PCA_0_MEDIAN\n",
      "PCA_0_PCT90\n",
      "PCA_1_COUNT\n",
      "PCA_1_AREA\n",
      "PCA_1_MIN\n",
      "PCA_1_MAX\n",
      "PCA_1_RANGE\n",
      "PCA_1_MEAN\n",
      "PCA_1_STD\n",
      "PCA_1_SUM\n",
      "PCA_1_MEDIAN\n",
      "PCA_1_PCT90\n",
      "savi_COUNT\n",
      "savi_AREA\n",
      "savi_MIN\n",
      "savi_MAX\n",
      "savi_RANGE\n",
      "savi_MEAN\n",
      "savi_STD\n",
      "savi_SUM\n",
      "savi_MEDIAN\n",
      "savi_PCT90\n",
      "vari_COUNT\n",
      "vari_AREA\n",
      "vari_MIN\n",
      "vari_MAX\n",
      "vari_RANGE\n",
      "vari_MEAN\n",
      "vari_STD\n",
      "vari_SUM\n",
      "vari_MEDIAN\n",
      "vari_PCT90\n",
      "DL_MAX\n",
      "DL_RANGE\n",
      "DL_MEAN\n",
      "DL_STD\n",
      "DL_SUM\n",
      "DL_VARIETY\n",
      "DL_MAJORITY\n",
      "DL_MINORITY\n",
      "DL_MEDIAN\n",
      "DL_PCT90\n",
      "LON_COUNT\n",
      "LON_AREA\n",
      "LON_MIN\n",
      "LON_MAX\n",
      "LON_RANGE\n",
      "LON_MEAN\n",
      "LON_STD\n",
      "LON_SUM\n",
      "LON_MEDIAN\n",
      "LON_PCT90\n",
      "LAT_COUNT\n",
      "LAT_AREA\n",
      "LAT_MIN\n",
      "LAT_MAX\n",
      "LAT_RANGE\n",
      "LAT_MEAN\n",
      "LAT_STD\n",
      "LAT_SUM\n",
      "LAT_MEDIAN\n",
      "LAT_PCT90\n",
      "SlopeClass_MAX\n",
      "SlopeClass_RANGE\n",
      "SlopeClass_MEAN\n",
      "SlopeClass_STD\n",
      "SlopeClass_SUM\n",
      "SlopeClass_VARIETY\n",
      "SlopeClass_MAJORITY\n",
      "SlopeClass_MINORITY\n",
      "SlopeClass_MEDIAN\n",
      "SlopeClass_PCT90\n",
      "DZ_MAX\n",
      "DZ_RANGE\n",
      "DZ_MEAN\n",
      "DZ_STD\n",
      "DZ_SUM\n",
      "DZ_VARIETY\n",
      "DZ_MAJORITY\n",
      "DZ_MINORITY\n",
      "DZ_MEDIAN\n",
      "DZ_PCT90\n",
      "TZ_label\n"
     ]
    }
   ],
   "source": [
    "for i in dataset.columns:\n",
    "    print(i)"
   ]
  },
  {
   "cell_type": "code",
   "execution_count": 46,
   "metadata": {},
   "outputs": [
    {
     "name": "stdout",
     "output_type": "stream",
     "text": [
      "160\n",
      "['DEM_COUNT', 'DEM_AREA', 'DEM_MIN', 'DEM_MAX', 'DEM_RANGE', 'DEM_MEAN', 'DEM_STD', 'DEM_SUM', 'DEM_MEDIAN', 'DEM_PCT90', 'Aspect_COUNT', 'Aspect_AREA', 'Aspect_MIN', 'Aspect_MAX', 'Aspect_RANGE', 'Aspect_MEAN', 'Aspect_STD', 'Aspect_SUM', 'Aspect_MEDIAN', 'Aspect_PCT90', 'MRVBF_COUNT', 'MRVBF_AREA', 'MRVBF_MIN', 'MRVBF_MAX', 'MRVBF_RANGE', 'MRVBF_MEAN', 'MRVBF_STD', 'MRVBF_SUM', 'MRVBF_MEDIAN', 'MRVBF_PCT90', 'PlanCurvature_COUNT', 'PlanCurvature_AREA', 'PlanCurvature_MIN', 'PlanCurvature_MAX', 'PlanCurvature_RANGE', 'PlanCurvature_MEAN', 'PlanCurvature_STD', 'PlanCurvature_SUM', 'PlanCurvature_MEDIAN', 'PlanCurvature_PCT90', 'RelativeSlopePosition_COUNT', 'RelativeSlopePosition_AREA', 'RelativeSlopePosition_MIN', 'RelativeSlopePosition_MAX', 'RelativeSlopePosition_RANGE', 'RelativeSlopePosition_MEAN', 'RelativeSlopePosition_STD', 'RelativeSlopePosition_SUM', 'RelativeSlopePosition_MEDIAN', 'RelativeSlopePosition_PCT90', 'Slope_COUNT', 'Slope_AREA', 'Slope_MIN', 'Slope_MAX', 'Slope_RANGE', 'Slope_MEAN', 'Slope_STD', 'Slope_SUM', 'Slope_MEDIAN', 'Slope_PCT90', 'TopographicWetnessIndex_COUNT', 'TopographicWetnessIndex_AREA', 'TopographicWetnessIndex_MIN', 'TopographicWetnessIndex_MAX', 'TopographicWetnessIndex_RANGE', 'TopographicWetnessIndex_MEAN', 'TopographicWetnessIndex_STD', 'TopographicWetnessIndex_SUM', 'TopographicWetnessIndex_MEDIAN', 'TopographicWetnessIndex_PCT90', 'TMP2022_mean_COUNT', 'TMP2022_mean_AREA', 'TMP2022_mean_MIN', 'TMP2022_mean_MAX', 'TMP2022_mean_RANGE', 'TMP2022_mean_MEAN', 'TMP2022_mean_STD', 'TMP2022_mean_SUM', 'TMP2022_mean_MEDIAN', 'TMP2022_mean_PCT90', 'PRE2022_mean_COUNT', 'PRE2022_mean_AREA', 'PRE2022_mean_MIN', 'PRE2022_mean_MAX', 'PRE2022_mean_RANGE', 'PRE2022_mean_MEAN', 'PRE2022_mean_STD', 'PRE2022_mean_SUM', 'PRE2022_mean_MEDIAN', 'PRE2022_mean_PCT90', 'PRE2022_3_MAX', 'PRE2022_3_RANGE', 'PRE2022_3_MEAN', 'PRE2022_3_STD', 'PRE2022_3_SUM', 'PRE2022_3_VARIETY', 'PRE2022_3_MAJORITY', 'PRE2022_3_MINORITY', 'PRE2022_3_MEDIAN', 'PRE2022_3_PCT90', 'PRE2022_11_MAX', 'PRE2022_11_RANGE', 'PRE2022_11_MEAN', 'PRE2022_11_STD', 'PRE2022_11_SUM', 'PRE2022_11_VARIETY', 'PRE2022_11_MAJORITY', 'PRE2022_11_MINORITY', 'PRE2022_11_MEDIAN', 'PRE2022_11_PCT90', 'TMP2022_3_MAX', 'TMP2022_3_RANGE', 'TMP2022_3_MEAN', 'TMP2022_3_STD', 'TMP2022_3_SUM', 'TMP2022_3_VARIETY', 'TMP2022_3_MAJORITY', 'TMP2022_3_MINORITY', 'TMP2022_3_MEDIAN', 'TMP2022_3_PCT90', 'TMP2022_11_MAX', 'TMP2022_11_RANGE', 'TMP2022_11_MEAN', 'TMP2022_11_STD', 'TMP2022_11_SUM', 'TMP2022_11_VARIETY', 'TMP2022_11_MAJORITY', 'TMP2022_11_MINORITY', 'TMP2022_11_MEDIAN', 'TMP2022_11_PCT90', 'ndvi_COUNT', 'ndvi_AREA', 'ndvi_MIN', 'ndvi_MAX', 'ndvi_RANGE', 'ndvi_MEAN', 'ndvi_STD', 'ndvi_SUM', 'ndvi_MEDIAN', 'ndvi_PCT90', 'PCA_0_COUNT', 'PCA_0_AREA', 'PCA_0_MIN', 'PCA_0_MAX', 'PCA_0_RANGE', 'PCA_0_MEAN', 'PCA_0_STD', 'PCA_0_SUM', 'PCA_0_MEDIAN', 'PCA_0_PCT90', 'SlopeClass_MAX', 'SlopeClass_RANGE', 'SlopeClass_MEAN', 'SlopeClass_STD', 'SlopeClass_SUM', 'SlopeClass_VARIETY', 'SlopeClass_MAJORITY', 'SlopeClass_MINORITY', 'SlopeClass_MEDIAN', 'SlopeClass_PCT90']\n"
     ]
    }
   ],
   "source": [
    "# 定义要检查的关键字列表\n",
    "keywords = ['DEM','ndvi', 'PCA_0', 'Slope','Aspect', 'MRVBF','TopographicWetnessIndex', 'Mean',  'PH','PRE','SRA','TMP','VAP','WIND','PlanCurvature']\n",
    "\n",
    "# 定义包含字符串的列表\n",
    "strings = list(dataset.columns)\n",
    "\n",
    "# 使用列表推导式和any函数检查并添加到新列表\n",
    "filtered_strings = [s for s in strings if any(keyword in s for keyword in keywords)]\n",
    "print(len(filtered_strings))\n",
    "print(filtered_strings)\n"
   ]
  },
  {
   "cell_type": "code",
   "execution_count": 57,
   "metadata": {},
   "outputs": [],
   "source": [
    "\n",
    "sdt_features= ['DLMC','MZ','Centroid_X','Centroid_Y',\n",
    "           'DEM_MAX','DEM_MIN','DEM_MEAN','DEM_RANGE','DEM_STD',\n",
    "           'ndvi_MEAN',\n",
    "           'PCA_0_MEAN',\n",
    "           'Slope_MAX', 'Slope_MIN','Slope_MEAN','Slope_RANGE',\n",
    "           'Aspect_MEAN',\n",
    "           'MRVBF_MAX','MRVBF_MIN','MRVBF_MEAN','MRVBF_RANGE',\n",
    "           'TopographicWetnessIndex_MEAN','TopographicWetnessIndex_RANGE',\n",
    "           'Mean_MEAN',\n",
    "           'PH_MEAN',\n",
    "           'PRE_MEAN','PRE_RANGE',\n",
    "           'SRA_MEAN','SRA_RANGE',\n",
    "           'TMP_MEAN','TMP_RANGE',\n",
    "           'VAP_MEAN','VAP_RANGE',\n",
    "           'WIND_MEAN','WIND_RANGE',\n",
    "           'PlanCurvature_MEAN','PlanCurvature_RANGE'\n",
    "         ]\n",
    "fzrt_features = ['DLMC','MZ','Centroid_X','Centroid_Y',\n",
    "           'DEM_MAX','DEM_MIN','DEM_MEAN','DEM_RANGE','DEM_STD',\n",
    "           'ndvi_MEAN',\n",
    "           'PCA_0_MEAN',\n",
    "           'Slope_MAX', 'Slope_MIN','Slope_MEAN','Slope_RANGE',\n",
    "           'Aspect_MEAN',\n",
    "           'MRVBF_MAX','MRVBF_MIN','MRVBF_MEAN','MRVBF_RANGE',\n",
    "           'TopographicWetnessIndex_MEAN','TopographicWetnessIndex_RANGE',\n",
    "           'Mean_MEAN',\n",
    "           'PH_MEAN',\n",
    "           'PRE_MEAN','PRE_RANGE',\n",
    "           'SRA_MEAN','SRA_RANGE',\n",
    "           'TMP_MEAN','TMP_RANGE',\n",
    "           'VAP_MEAN','VAP_RANGE',\n",
    "           'WIND_MEAN','WIND_RANGE',\n",
    "           'PlanCurvature_MEAN','PlanCurvature_RANGE'\n",
    "         ]\n",
    "zrt_features = ['DLMC','MZ','Centroid_X','Centroid_Y',\n",
    "           'DEM_MAX','DEM_MIN','DEM_MEAN','DEM_RANGE','DEM_STD',\n",
    "           'ndvi_MEAN',\n",
    "           'PCA_0_MEAN',\n",
    "           'Slope_MAX', 'Slope_MIN','Slope_MEAN','Slope_RANGE',\n",
    "           'Aspect_MEAN',\n",
    "           'MRVBF_MAX','MRVBF_MIN','MRVBF_MEAN','MRVBF_RANGE',\n",
    "           'TopographicWetnessIndex_MEAN','TopographicWetnessIndex_RANGE',\n",
    "           'Mean_MEAN',\n",
    "           'PH_MEAN',\n",
    "           'PRE_MEAN','PRE_RANGE',\n",
    "           'SRA_MEAN','SRA_RANGE',\n",
    "           'TMP_MEAN','TMP_RANGE',\n",
    "           'VAP_MEAN','VAP_RANGE',\n",
    "           'WIND_MEAN','WIND_RANGE',\n",
    "           'PlanCurvature_MEAN','PlanCurvature_RANGE'\n",
    "         ]\n",
    "target = \"TZ_label\""
   ]
  },
  {
   "cell_type": "code",
   "execution_count": 47,
   "metadata": {},
   "outputs": [],
   "source": [
    "terms = [\n",
    "    \"Centroid_X\",\n",
    "    \"Centroid_Y\",\n",
    "    \"DEM_RANGE\",\n",
    "    \"DEM_MEAN\",\n",
    "    \"DEM_STD\",\n",
    "    \"AnalyticalHillshading_MEAN\",\n",
    "    \"Aspect_MEAN\",\n",
    "    \"ChannelNetworkBaseLevel_MEAN\",\n",
    "    \"ChannelNetworkDistance_MEAN\",\n",
    "    \"ConvergenceIndex_MEAN\",\n",
    "    \"LSFactor_MEAN\",\n",
    "    \"MRRTF_MEAN\",\n",
    "    \"MRVBF_MEAN\",\n",
    "    \"PlanCurvature_MEAN\",\n",
    "    \"ProfileCurvature_MEAN\",\n",
    "    \"RelativeSlopePosition_MEAN\",\n",
    "    \"Slope_MEAN\",\n",
    "    \"TopographicWetnessIndex_MEAN\",\n",
    "    \"TotalCatchmentArea_MEAN\",\n",
    "    \"ValleyDepth_MEAN\",\n",
    "    \"NIGHT2022_MEAN\",\n",
    "    \"ETP2022_mean_MEAN\",\n",
    "    \"TMP2022_mean_MEAN\",\n",
    "    \"PRE2022_mean_MEAN\",\n",
    "    \"PRE2022_3_MEAN\",\n",
    "    \"PRE2022_11_MEAN\",\n",
    "    \"ETP2022_3_MEAN\",\n",
    "    \"ETP2022_11_MEAN\",\n",
    "    \"TMP2022_3_MEAN\",\n",
    "    \"TMP2022_11_MEAN\",\n",
    "    \"evi_MEAN\",\n",
    "    \"lswi_MEAN\",\n",
    "    \"mndwi_MEAN\",\n",
    "    \"ndmi_MEAN\",\n",
    "    \"ndvi_MEAN\",\n",
    "    \"ndwi_MEAN\",\n",
    "    \"PCA_0_MEAN\",\n",
    "    \"PCA_1_MEAN\",\n",
    "    \"savi_MEAN\",\n",
    "    \"vari_MEAN\",\n",
    "    \"DL_MAJORITY\",\n",
    "    \"SlopeClass_MAJORITY\",\n",
    "    \"DZ_MAJORITY\"\n",
    "]\n"
   ]
  },
  {
   "cell_type": "code",
   "execution_count": 48,
   "metadata": {},
   "outputs": [],
   "source": [
    "\n",
    "sdt_features= ['DLMC','MZ']+ terms\n",
    "fzrt_features = ['DLMC','MZ']+ terms\n",
    "zrt_features = ['DLMC','MZ']+ terms\n",
    "target = \"TZ_label\""
   ]
  },
  {
   "cell_type": "markdown",
   "metadata": {},
   "source": [
    "### 砂岩数据集"
   ]
  },
  {
   "cell_type": "code",
   "execution_count": 49,
   "metadata": {},
   "outputs": [],
   "source": [
    "# 获取sdt数据集\n",
    "sy_sdt_data = sy_sdt_data[sdt_features+[target]]\n",
    "# 获取非自然土数据集\n",
    "sy_fzrt_data = sy_fzrt_data[fzrt_features+[target]]\n",
    "# 获取自然土数据集\n",
    "sy_zrt_data = sy_zrt_data[zrt_features+[target]]"
   ]
  },
  {
   "cell_type": "markdown",
   "metadata": {},
   "source": [
    "### 碳酸岩数据集"
   ]
  },
  {
   "cell_type": "code",
   "execution_count": 50,
   "metadata": {},
   "outputs": [],
   "source": [
    "# 获取sdt数据集\n",
    "tsy_sdt_data = tsy_sdt_data[sdt_features+[target]]\n",
    "# 获取非自然土数据集\n",
    "tsy_fzrt_data = tsy_fzrt_data[fzrt_features+[target]]\n",
    "# 获取自然土数据集\n",
    "tsy_zrt_data = tsy_zrt_data[zrt_features+[target]]"
   ]
  },
  {
   "cell_type": "markdown",
   "metadata": {},
   "source": [
    "### 第四系红粘土数据集"
   ]
  },
  {
   "cell_type": "code",
   "execution_count": 51,
   "metadata": {},
   "outputs": [],
   "source": [
    "# 获取sdt数据集\n",
    "hnt_sdt_data = hnt_sdt_data[sdt_features+[target]]\n",
    "# 获取非自然土数据集\n",
    "hnt_fzrt_data = hnt_fzrt_data[fzrt_features+[target]]\n",
    "# 获取自然土数据集\n",
    "hnt_zrt_data = hnt_zrt_data[zrt_features+[target]]"
   ]
  },
  {
   "cell_type": "markdown",
   "metadata": {},
   "source": [
    "### 泥(页)岩数据集"
   ]
  },
  {
   "cell_type": "code",
   "execution_count": 52,
   "metadata": {},
   "outputs": [],
   "source": [
    "# 获取sdt数据集\n",
    "nyy_sdt_data = nyy_sdt_data[sdt_features+[target]]\n",
    "# 获取非自然土数据集\n",
    "nyy_fzrt_data = nyy_fzrt_data[fzrt_features+[target]]\n",
    "# 获取自然土数据集\n",
    "nyy_zrt_data = nyy_zrt_data[zrt_features+[target]]"
   ]
  },
  {
   "cell_type": "markdown",
   "metadata": {},
   "source": [
    "### 紫红色砂页岩数据集"
   ]
  },
  {
   "cell_type": "code",
   "execution_count": 53,
   "metadata": {},
   "outputs": [],
   "source": [
    "# 获取sdt数据集\n",
    "zhsyy_sdt_data = zhsyy_sdt_data[sdt_features+[target]]\n",
    "# 获取非自然土数据集\n",
    "zhsyy_fzrt_data = zhsyy_fzrt_data[fzrt_features+[target]]\n",
    "# 获取自然土数据集\n",
    "zhsyy_zrt_data = zhsyy_zrt_data[zrt_features+[target]]"
   ]
  },
  {
   "cell_type": "markdown",
   "metadata": {},
   "source": [
    "### 河流冲积物数据集"
   ]
  },
  {
   "cell_type": "code",
   "execution_count": 54,
   "metadata": {},
   "outputs": [],
   "source": [
    "# 获取sdt数据集\n",
    "hlcjw_sdt_data = hlcjw_sdt_data[sdt_features+[target]]"
   ]
  },
  {
   "cell_type": "markdown",
   "metadata": {},
   "source": [
    "### 砾岩数据集"
   ]
  },
  {
   "cell_type": "code",
   "execution_count": 55,
   "metadata": {},
   "outputs": [],
   "source": [
    "# 获取sdt数据集\n",
    "ly_sdt_data = ly_sdt_data[sdt_features+[target]]\n",
    "# 获取非自然土数据集\n",
    "ly_fzrt_data = ly_fzrt_data[fzrt_features+[target]]\n",
    "# 获取自然土数据集\n",
    "ly_zrt_data = ly_zrt_data[zrt_features+[target]]"
   ]
  },
  {
   "cell_type": "markdown",
   "metadata": {},
   "source": [
    "### 第四纪冰川冲积物数据集"
   ]
  },
  {
   "cell_type": "code",
   "execution_count": 63,
   "metadata": {},
   "outputs": [],
   "source": [
    "# 获取sdt数据集\n",
    "bccjw_sdt_data = bccjw_sdt_data[sdt_features+[target]]\n",
    "# 获取非自然土数据集\n",
    "bccjw_fzrt_data = bccjw_fzrt_data[fzrt_features+[target]]\n",
    "# 获取自然土数据集\n",
    "bccjw_zrt_data = bccjw_zrt_data[zrt_features+[target]]"
   ]
  },
  {
   "cell_type": "markdown",
   "metadata": {},
   "source": [
    "### 砂页岩数据集"
   ]
  },
  {
   "cell_type": "code",
   "execution_count": 57,
   "metadata": {},
   "outputs": [],
   "source": [
    "# 获取sdt数据集\n",
    "syy_sdt_data = syy_sdt_data[sdt_features+[target]]\n",
    "# 获取非自然土数据集\n",
    "syy_fzrt_data = syy_fzrt_data[fzrt_features+[target]]\n",
    "# 获取自然土数据集\n",
    "syy_zrt_data = syy_zrt_data[zrt_features+[target]]"
   ]
  },
  {
   "cell_type": "code",
   "execution_count": 58,
   "metadata": {},
   "outputs": [
    {
     "name": "stdout",
     "output_type": "stream",
     "text": [
      "砂岩 (2494, 46) (68, 46) (3104, 46)\n",
      "碳酸岩 (310, 46) (763, 46) (3849, 46)\n",
      "第四系红粘土 (379, 46) (205, 46) (629, 46)\n",
      "泥页岩 (100, 46) (160, 46) (5252, 46)\n",
      "紫红色砂页岩 (195, 46) (146, 46) (235, 46)\n",
      "河流冲积物 (268, 46)\n",
      "砾岩 (2553, 46) (112, 46) (3277, 46)\n",
      "第四纪冰川冲积物 (3563, 46) (32, 46) (101, 46)\n",
      "砂页岩 (26, 46) (332, 46) (80, 46)\n"
     ]
    }
   ],
   "source": [
    "# 查看各个数据集的大小\n",
    "print('砂岩',sy_sdt_data.shape,sy_fzrt_data.shape,sy_zrt_data.shape)\n",
    "print('碳酸岩',tsy_sdt_data.shape,tsy_fzrt_data.shape,tsy_zrt_data.shape)\n",
    "print('第四系红粘土',hnt_sdt_data.shape,hnt_fzrt_data.shape,hnt_zrt_data.shape)\n",
    "print('泥页岩',nyy_sdt_data.shape,nyy_fzrt_data.shape,nyy_zrt_data.shape)\n",
    "print('紫红色砂页岩',zhsyy_sdt_data.shape,zhsyy_fzrt_data.shape,zhsyy_zrt_data.shape)\n",
    "print('河流冲积物',hlcjw_sdt_data.shape)\n",
    "print('砾岩',ly_sdt_data.shape,ly_fzrt_data.shape,ly_zrt_data.shape)\n",
    "print('第四纪冰川冲积物',bccjw_sdt_data.shape,bccjw_fzrt_data.shape,bccjw_zrt_data.shape)\n",
    "print('砂页岩',syy_sdt_data.shape,syy_fzrt_data.shape,syy_zrt_data.shape)\n"
   ]
  },
  {
   "cell_type": "code",
   "execution_count": 59,
   "metadata": {},
   "outputs": [],
   "source": [
    "# 确定标签\n",
    "label = \"TZ_label\"\n",
    "eval_metric = 'f1_weighted'\n",
    "problem_type = 'multiclass'\n",
    "# 初始化模型和超参数\n",
    "hyperparameters={\n",
    "\t'NN_TORCH': {},\n",
    "\t'FASTAI': {},\n",
    "\t'RF': [{'criterion': 'gini', 'ag_args': {'name_suffix': 'Gini', 'problem_types': ['binary', 'multiclass']}}, {'criterion': 'entropy', 'ag_args': {'name_suffix': 'Entr', 'problem_types': ['binary', 'multiclass']}}, {'criterion': 'squared_error', 'ag_args': {'name_suffix': 'MSE', 'problem_types': ['regression', 'quantile']}}],\n",
    "\t'XT': [{'criterion': 'gini', 'ag_args': {'name_suffix': 'Gini', 'problem_types': ['binary', 'multiclass']}}, {'criterion': 'entropy', 'ag_args': {'name_suffix': 'Entr', 'problem_types': ['binary', 'multiclass']}}, {'criterion': 'squared_error', 'ag_args': {'name_suffix': 'MSE', 'problem_types': ['regression', 'quantile']}}]\n",
    "}\n"
   ]
  },
  {
   "cell_type": "markdown",
   "metadata": {},
   "source": [
    "### 模型训练"
   ]
  },
  {
   "cell_type": "code",
   "execution_count": 60,
   "metadata": {},
   "outputs": [],
   "source": [
    "def train_model(train_data,label,eval_metric,hyperparameters,problem_type,model_master,model_branch,model_root):\n",
    "    # 训练model\n",
    "    temp_master_path =os.path.join(model_root,model_master)\n",
    "    temp_branch_path = os.path.join(temp_master_path,model_branch)\n",
    "    # 检查路径是否存在，否则便创建\n",
    "    if not os.path.exists(temp_branch_path):\n",
    "        os.makedirs(temp_branch_path)\n",
    "    else:\n",
    "        print(\"文件夹已存在\")\n",
    "    # 执行训练\n",
    "    train_predictor = TabularPredictor(label=label,path=temp_branch_path,eval_metric=eval_metric,problem_type=problem_type).fit(train_data,hyperparameters=hyperparameters)\n",
    "    train_predictor.fit_summary()\n",
    "    return train_predictor.model_best\n"
   ]
  },
  {
   "cell_type": "markdown",
   "metadata": {},
   "source": [
    "### 模型训练"
   ]
  },
  {
   "cell_type": "code",
   "execution_count": null,
   "metadata": {},
   "outputs": [],
   "source": [
    "# 砂岩\n",
    "sy_sdt_predictor = train_model(sy_sdt_data,label=label,eval_metric=eval_metric,hyperparameters=hyperparameters,problem_type=problem_type,model_master='sy',model_branch='sdt',model_root=model_path) \n",
    "sy_fzrt_predictor = train_model(sy_fzrt_data,label=label,eval_metric=eval_metric,hyperparameters=hyperparameters,problem_type=problem_type,model_master='sy',model_branch='fzrt',model_root=model_path) \n",
    "sy_zrt_predictor = train_model(sy_zrt_data,label=label,eval_metric=eval_metric,hyperparameters=hyperparameters,problem_type=problem_type,model_master='sy',model_branch='zrt',model_root=model_path) \n",
    "# 碳酸岩\n",
    "tsy_sdt_predictor = train_model(tsy_sdt_data,label=label,eval_metric=eval_metric,hyperparameters=hyperparameters,problem_type=problem_type,model_master='tsy',model_branch='sdt',model_root=model_path) \n",
    "tsy_fzrt_predictor = train_model(tsy_fzrt_data,label=label,eval_metric=eval_metric,hyperparameters=hyperparameters,problem_type=problem_type,model_master='tsy',model_branch='fzrt',model_root=model_path) \n",
    "tsy_zrt_predictor = train_model(tsy_zrt_data,label=label,eval_metric=eval_metric,hyperparameters=hyperparameters,problem_type=problem_type,model_master='tsy',model_branch='zrt',model_root=model_path) \n",
    "# 第四系红粘土\n",
    "hnt_sdt_predictor = train_model(hnt_sdt_data,label=label,eval_metric=eval_metric,hyperparameters=hyperparameters,problem_type=problem_type,model_master='hnt',model_branch='sdt',model_root=model_path) \n",
    "hnt_fzrt_predictor = train_model(hnt_fzrt_data,label=label,eval_metric=eval_metric,hyperparameters=hyperparameters,problem_type=problem_type,model_master='hnt',model_branch='fzrt',model_root=model_path) \n",
    "hnt_zrt_predictor = train_model(hnt_zrt_data,label=label,eval_metric=eval_metric,hyperparameters=hyperparameters,problem_type=problem_type,model_master='hnt',model_branch='zrt',model_root=model_path) \n",
    "# 泥页岩\n",
    "nyy_sdt_predictor = train_model(nyy_sdt_data,label=label,eval_metric=eval_metric,hyperparameters=hyperparameters,problem_type=problem_type,model_master='nyy',model_branch='sdt',model_root=model_path) \n",
    "nyy_fzrt_predictor = train_model(nyy_fzrt_data,label=label,eval_metric=eval_metric,hyperparameters=hyperparameters,problem_type=problem_type,model_master='nyy',model_branch='fzrt',model_root=model_path) \n",
    "nyy_zrt_predictor = train_model(nyy_zrt_data,label=label,eval_metric=eval_metric,hyperparameters=hyperparameters,problem_type=problem_type,model_master='nyy',model_branch='zrt',model_root=model_path) \n",
    "# 紫红色砂页岩\n",
    "zhsyy_sdt_predictor = train_model(zhsyy_sdt_data,label=label,eval_metric=eval_metric,hyperparameters=hyperparameters,problem_type=problem_type,model_master='zhsyy',model_branch='sdt',model_root=model_path) \n",
    "zhsyy_fzrt_predictor = train_model(zhsyy_fzrt_data,label=label,eval_metric=eval_metric,hyperparameters=hyperparameters,problem_type=problem_type,model_master='zhsyy',model_branch='fzrt',model_root=model_path) \n",
    "zhsyy_zrt_predictor = train_model(zhsyy_zrt_data,label=label,eval_metric=eval_metric,hyperparameters=hyperparameters,problem_type=problem_type,model_master='zhsyy',model_branch='zrt',model_root=model_path) \n",
    "# 河流冲积物\n",
    "hlcjw_sdt_predictor = train_model(hlcjw_sdt_data,label=label,eval_metric=eval_metric,hyperparameters=hyperparameters,problem_type=problem_type,model_master='hlcjw',model_branch='sdt',model_root=model_path)\n",
    "# 砾岩\n",
    "ly_sdt_predictor = train_model(ly_sdt_data,label=label,eval_metric=eval_metric,hyperparameters=hyperparameters,problem_type=problem_type,model_master='ly',model_branch='sdt',model_root=model_path) \n",
    "ly_fzrt_predictor = train_model(ly_fzrt_data,label=label,eval_metric=eval_metric,hyperparameters=hyperparameters,problem_type=problem_type,model_master='ly',model_branch='fzrt',model_root=model_path) \n",
    "ly_zrt_predictor = train_model(ly_zrt_data,label=label,eval_metric=eval_metric,hyperparameters=hyperparameters,problem_type=problem_type,model_master='ly',model_branch='zrt',model_root=model_path) \n",
    "# 第四纪冰川冲积物\n",
    "bccjw_sdt_predictor = train_model(bccjw_sdt_data,label=label,eval_metric=eval_metric,hyperparameters=hyperparameters,problem_type=problem_type,model_master='bccjw',model_branch='sdt',model_root=model_path) \n",
    "bccjw_fzrt_predictor = train_model(bccjw_fzrt_data,label=label,eval_metric=eval_metric,hyperparameters=hyperparameters,problem_type=problem_type,model_master='bccjw',model_branch='fzrt',model_root=model_path) \n",
    "bccjw_zrt_predictor = train_model(bccjw_zrt_data,label=label,eval_metric=eval_metric,hyperparameters=hyperparameters,problem_type=problem_type,model_master='bccjw',model_branch='zrt',model_root=model_path) \n",
    "# 砂页岩\n",
    "syy_sdt_predictor = train_model(syy_sdt_data,label=label,eval_metric=eval_metric,hyperparameters=hyperparameters,problem_type=problem_type,model_master='syy',model_branch='sdt',model_root=model_path) \n",
    "syy_fzrt_predictor = train_model(syy_fzrt_data,label=label,eval_metric=eval_metric,hyperparameters=hyperparameters,problem_type=problem_type,model_master='syy',model_branch='fzrt',model_root=model_path) \n",
    "syy_zrt_predictor = train_model(syy_zrt_data,label=label,eval_metric=eval_metric,hyperparameters=hyperparameters,problem_type=problem_type,model_master='syy',model_branch='zrt',model_root=model_path) "
   ]
  }
 ],
 "metadata": {
  "kernelspec": {
   "display_name": "Python 3",
   "language": "python",
   "name": "python3"
  },
  "language_info": {
   "codemirror_mode": {
    "name": "ipython",
    "version": 3
   },
   "file_extension": ".py",
   "mimetype": "text/x-python",
   "name": "python",
   "nbconvert_exporter": "python",
   "pygments_lexer": "ipython3",
   "version": "3.10.11"
  },
  "orig_nbformat": 4
 },
 "nbformat": 4,
 "nbformat_minor": 2
}
