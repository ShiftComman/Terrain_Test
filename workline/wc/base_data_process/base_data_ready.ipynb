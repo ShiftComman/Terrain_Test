{
 "cells": [
  {
   "cell_type": "code",
   "execution_count": 29,
   "metadata": {},
   "outputs": [],
   "source": [
    "import os\n",
    "import pandas as pd\n",
    "import arcpy\n",
    "from arcpy import env\n",
    "from arcpy.management import *\n",
    "from arcpy.sa import *\n",
    "from arcpy.da import *\n",
    "from arcpy.conversion import *\n",
    "from arcpy.analysis import *\n",
    "import numpy as np"
   ]
  },
  {
   "cell_type": "code",
   "execution_count": 30,
   "metadata": {},
   "outputs": [],
   "source": [
    "# 向shp添加字段\n",
    "def add_field(input_table,field_name,field_type='TEXT'):\n",
    "    \"\"\"参数说明：\n",
    "        input_table: 输入数据表\n",
    "        field_name: 字段名\n",
    "        field_type: 字段类型\"\"\"\n",
    "    arcpy.AddField_management(input_table,field_name,field_type)\n",
    "# 计算字段dldm\n",
    "def calc_field_dldm(shp_path, field_name, refer_field_name):\n",
    "    # 创建代码块字符串，包含获取唯一编号的函数\n",
    "    code_block = f\"\"\"\n",
    "_counter = {{}}\n",
    "_next_id = 1\n",
    "def get_value(key):\n",
    "    global _counter, _next_id\n",
    "    key = str(key)\n",
    "    if key not in _counter:\n",
    "        _counter[key] = str(_next_id)\n",
    "        _next_id += 1\n",
    "    return _counter[key]\n",
    "\"\"\"\n",
    "    # 创建表达式，使用代码块中定义的函数\n",
    "    expression = f\"get_value(!{refer_field_name}!)\"\n",
    "    \n",
    "    # 执行字段计算\n",
    "    arcpy.CalculateField_management(\n",
    "        in_table=shp_path,\n",
    "        field=field_name,\n",
    "        expression=expression,\n",
    "        expression_type=\"PYTHON3\",\n",
    "        code_block=code_block\n",
    "    )\n",
    "# 计算字段dllb\n",
    "def calc_field_dllb(shp_path, field_name, dlbm_field):\n",
    "    code_block = \"\"\"\n",
    "def get_first_level(dlbm):\n",
    "    if not dlbm:\n",
    "        return ''\n",
    "    \n",
    "    # 特殊处理水稻土\n",
    "    if str(dlbm).strip() == '0101':\n",
    "        return '水稻土'\n",
    "    \n",
    "    # 获取前两位编码\n",
    "    dlbm = str(dlbm).strip()[:2]\n",
    "    \n",
    "    # 一级地类字典（使用前两位编码）\n",
    "    sddl_dict = {\n",
    "        \"耕地\": [\"01\"],\n",
    "        \"园地\": [\"02\"],\n",
    "        \"林地\": [\"03\"],\n",
    "        \"草地\": [\"04\"],\n",
    "        \"商服用地\": [\"05\"],\n",
    "        \"工矿仓储用地\": [\"06\"],\n",
    "        \"住宅用地\": [\"07\"],\n",
    "        \"公共管理与公共服务用地\": [\"08\"],\n",
    "        \"特殊用地\": [\"09\"],\n",
    "        \"交通运输用地\": [\"10\"],\n",
    "        \"水域及水利设施用地\": [\"11\"],\n",
    "        \"其他土地\": [\"12\"]\n",
    "    }\n",
    "    \n",
    "    # 更高级别分类字典\n",
    "    high_level_dict = {\n",
    "        \"非自然土\": [\"耕地\", \"园地\", \"其他土地\"],\n",
    "        \"自然土\": [\"林地\", \"草地\"],\n",
    "        \"建设用地\": [\"商服用地\", \"工矿仓储用地\", \"住宅用地\", \"公共管理与公共服务用地\", \n",
    "                  \"特殊用地\", \"交通运输用地\", \"水域及水利设施用地\"]\n",
    "    }\n",
    "    \n",
    "    # 先获取一级地类\n",
    "    first_level = '未分类'\n",
    "    for level, codes in sddl_dict.items():\n",
    "        if dlbm in codes:\n",
    "            first_level = level\n",
    "            break\n",
    "    \n",
    "    # 再获取更高级别分类\n",
    "    for high_level, categories in high_level_dict.items():\n",
    "        if first_level in categories:\n",
    "            return high_level\n",
    "    return '未分类'\n",
    "\"\"\"\n",
    "    # 创建表达式，使用代码块中定义的函数\n",
    "    expression = f\"get_first_level(!{dlbm_field}!)\"\n",
    "    \n",
    "    # 执行字段计算\n",
    "    arcpy.CalculateField_management(\n",
    "        in_table=shp_path,\n",
    "        field=field_name,\n",
    "        expression=expression,\n",
    "        expression_type=\"PYTHON3\",\n",
    "        code_block=code_block\n",
    "    )\n",
    "    \n",
    "# 创建缓冲区\n",
    "def create_buffer_zone(input_shp, output_shp, buffer_distance=1000):\n",
    "    \"\"\"\n",
    "    创建输入shp的缓冲区并融合为一个面\n",
    "    \n",
    "    参数:\n",
    "    input_shp: 输入的shp文件路径\n",
    "    output_shp: 输出的shp文件路径\n",
    "    buffer_distance: 缓冲区距离，默认1500米\n",
    "    \"\"\"\n",
    "    try:\n",
    "        # 创建缓冲区并直接融合\n",
    "        arcpy.analysis.PairwiseBuffer(\n",
    "            in_features=input_shp,\n",
    "            out_feature_class=output_shp,\n",
    "            buffer_distance_or_field=f\"{buffer_distance} Meters\",\n",
    "            dissolve_option=\"ALL\",  # 融合所有缓冲区\n",
    "            dissolve_field=None,\n",
    "            method=\"PLANAR\",\n",
    "            max_deviation=\"0 Meters\"\n",
    "        )\n",
    "        return output_shp\n",
    "    except arcpy.ExecuteError:\n",
    "        print(arcpy.GetMessages(2))\n",
    "        raise\n",
    "    except Exception as e:\n",
    "        print(f\"发生错误: {str(e)}\")\n",
    "        raise"
   ]
  },
  {
   "cell_type": "code",
   "execution_count": 31,
   "metadata": {},
   "outputs": [],
   "source": [
    "# shp文件存放路径\n",
    "base_shp_path = r'F:\\cache_data\\shp_file'"
   ]
  },
  {
   "cell_type": "code",
   "execution_count": 34,
   "metadata": {},
   "outputs": [],
   "source": [
    "# 创建文件夹\n",
    "qx_name = 'wc'\n",
    "new_sd_shp_name = qx_name + '_sd_polygon.shp'\n",
    "p_buffer_name = 'extent_p_1000.shp'\n",
    "p_raster_buffer_name = 'extent_p_500.tif'\n",
    "d_buffer_name = 'extent_d_1000.shp'\n",
    "d_proj_project = '4326' # 地理坐标系\n",
    "proj_project = '4545' # 投影坐标系\n",
    "dldm_name = 'DLDM'  # 用于存储唯一地类代码便于转换为栅格数据\n",
    "dllb_name = 'DLLB'  # 用于存储地类类别用于区分用地类型{自然土、建设用地、非自然土}\n",
    "dlmc_name = 'DLMC'  # 数据中的地类名称\n",
    "dlbm_name = 'DLBM'  # 数据中的地类编码\n",
    "os.makedirs(os.path.join(base_shp_path,qx_name),exist_ok=True)"
   ]
  },
  {
   "cell_type": "code",
   "execution_count": 33,
   "metadata": {},
   "outputs": [],
   "source": [
    "# 三调数据处理\n",
    "sd_file_path = r'C:\\Users\\Runker\\Desktop\\德江务川SD\\data.gdb\\SD_wc_nmk'"
   ]
  },
  {
   "cell_type": "code",
   "execution_count": null,
   "metadata": {},
   "outputs": [],
   "source": [
    "# 按指定投影导出\n",
    "arcpy.Project_management(sd_file_path,os.path.join(base_shp_path,qx_name,new_sd_shp_name),proj_project)"
   ]
  },
  {
   "cell_type": "code",
   "execution_count": 10,
   "metadata": {},
   "outputs": [],
   "source": [
    "# 添加字段\n",
    "add_field(os.path.join(base_shp_path,qx_name,new_sd_shp_name),dldm_name)\n",
    "add_field(os.path.join(base_shp_path,qx_name,new_sd_shp_name),dllb_name)"
   ]
  },
  {
   "cell_type": "code",
   "execution_count": 13,
   "metadata": {},
   "outputs": [],
   "source": [
    "# 计算字段dldm\n",
    "calc_field_dldm(os.path.join(base_shp_path,qx_name,new_sd_shp_name),dldm_name,dlmc_name)"
   ]
  },
  {
   "cell_type": "code",
   "execution_count": 18,
   "metadata": {},
   "outputs": [],
   "source": [
    "# 计算字段dlbm\n",
    "calc_field_dllb(os.path.join(base_shp_path,qx_name,new_sd_shp_name),dllb_name,dlbm_name)"
   ]
  },
  {
   "cell_type": "code",
   "execution_count": null,
   "metadata": {},
   "outputs": [],
   "source": [
    "# 创建缓冲区\n",
    "create_buffer_zone(os.path.join(base_shp_path,qx_name,new_sd_shp_name),os.path.join(base_shp_path,qx_name,f'{qx_name}_{p_buffer_name}'),1000)"
   ]
  },
  {
   "cell_type": "code",
   "execution_count": null,
   "metadata": {},
   "outputs": [],
   "source": [
    "# 创建缓冲区 raster\n",
    "create_buffer_zone(os.path.join(base_shp_path,qx_name,new_sd_shp_name),os.path.join(base_shp_path,qx_name,f'{qx_name}_{p_raster_buffer_name}'),500)"
   ]
  },
  {
   "cell_type": "code",
   "execution_count": null,
   "metadata": {},
   "outputs": [],
   "source": [
    "# 创建地理投影缓冲区\n",
    "arcpy.Project_management(os.path.join(base_shp_path,qx_name,f'{qx_name}_{p_buffer_name}'),os.path.join(base_shp_path,qx_name,f'{qx_name}_{d_buffer_name}'),d_proj_project)"
   ]
  }
 ],
 "metadata": {
  "kernelspec": {
   "display_name": "Python 3",
   "language": "python",
   "name": "python3"
  },
  "language_info": {
   "codemirror_mode": {
    "name": "ipython",
    "version": 3
   },
   "file_extension": ".py",
   "mimetype": "text/x-python",
   "name": "python",
   "nbconvert_exporter": "python",
   "pygments_lexer": "ipython3",
   "version": "3.9.16"
  }
 },
 "nbformat": 4,
 "nbformat_minor": 2
}
