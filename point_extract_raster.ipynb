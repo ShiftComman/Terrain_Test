{
 "cells": [
  {
   "cell_type": "code",
   "execution_count": 1,
   "metadata": {},
   "outputs": [],
   "source": [
    "import arcpy\n",
    "from arcpy.sa import *\n",
    "from arcpy import env\n",
    "from arcpy.conversion import *\n",
    "from arcpy.management import *\n",
    "from arcpy.da import *\n",
    "import math"
   ]
  },
  {
   "cell_type": "code",
   "execution_count": 28,
   "metadata": {},
   "outputs": [],
   "source": [
    "# 面转栅格\n",
    "def polygon_to_raster(element,out_name,value_name,pixel_re):\n",
    "    \"\"\"pixel_re:像元参考,默认值字段为gridcode\"\"\"\n",
    "    PolygonToRaster(element,value_name,out_name,\"CELL_CENTER\",\"NONE\",pixel_re,\"BUILD\")\n",
    "    return None"
   ]
  },
  {
   "cell_type": "code",
   "execution_count": 31,
   "metadata": {},
   "outputs": [],
   "source": [
    "polygon_to_raster(\"SY_DLTB\",\"SY_DLTB_RASTER\",\"DLBM\",\"SY_DEM_5\")\n"
   ]
  },
  {
   "cell_type": "code",
   "execution_count": 34,
   "metadata": {},
   "outputs": [
    {
     "data": {
      "text/plain": [
       "(['pre_2022',\n",
       "  'pre_2022_mean',\n",
       "  'tmp_2022',\n",
       "  'tmp_2022_mean',\n",
       "  'SY_DEM_5',\n",
       "  'SY_ASP_5',\n",
       "  'SY_SLOP_5',\n",
       "  'SY_DLTB_RASTER'],\n",
       " ['SY_POINT', 'SY_DLTB', 'SY_POINT_DLTB'],\n",
       " ['SY_POINT_PRE_TABLE',\n",
       "  'SY_POINT_TMP_TABLE',\n",
       "  'SY_POINT_ELE_TABLE',\n",
       "  'SY_POINT_ASP_TABLE',\n",
       "  'SY_POINT_SLOP_TABLE'])"
      ]
     },
     "execution_count": 34,
     "metadata": {},
     "output_type": "execute_result"
    }
   ],
   "source": [
    "# workspace\n",
    "env.workspace = \"D:\\ArcGISProjects\\syraster\\ph.gdb\"\n",
    "arcpy.ListRasters(),arcpy.ListFeatureClasses(),arcpy.ListTables()"
   ]
  },
  {
   "cell_type": "code",
   "execution_count": 16,
   "metadata": {},
   "outputs": [],
   "source": [
    "# 采样\n",
    "def sample_pint(point_,raster_,out_name):\n",
    "    Sample(raster_,point_,out_name,\"NEAREST\", \"OBJECTID\", \"CURRENT_SLICE\", None, '', None, None, \"ROW_WISE\", \"TABLE\")\n",
    "    return None\n"
   ]
  },
  {
   "cell_type": "code",
   "execution_count": 19,
   "metadata": {},
   "outputs": [],
   "source": [
    "sample_pint(\"SY_POINT\",\"tmp_2022_mean\",\"SY_POINT_TMP_TABLE\")\n",
    "sample_pint(\"SY_POINT\",\"pre_2022_mean\",\"SY_POINT_PRE_TABLE\")\n",
    "sample_pint(\"SY_POINT\",\"SY_DEM_5\",\"SY_POINT_ELE_TABLE\")\n",
    "sample_pint(\"SY_POINT\",\"SY_ASP_5\",\"SY_POINT_ASP_TABLE\")\n",
    "sample_pint(\"SY_POINT\",\"SY_SLOP_5\",\"SY_POINT_SLOP_TABLE\")"
   ]
  },
  {
   "cell_type": "code",
   "execution_count": 32,
   "metadata": {},
   "outputs": [],
   "source": [
    "sample_pint(\"SY_POINT\",\"SY_DLTB_RASTER\",\"SY_POINT_DL_TABLE\")"
   ]
  },
  {
   "cell_type": "code",
   "execution_count": 23,
   "metadata": {},
   "outputs": [],
   "source": [
    "# 导出CSV\n",
    "def export_csv(table_,out_path,out_name):\n",
    "    TableToTable(table_,out_path,out_name)\n",
    "    return None\n",
    "    "
   ]
  },
  {
   "cell_type": "code",
   "execution_count": 36,
   "metadata": {},
   "outputs": [],
   "source": [
    "# 路径\n",
    "out_path = \"D:\\ArcGISProjects\\syraster\\Rtable_result\"\n",
    "export_csv(\"SY_POINT_DLTB\",out_path,f\"SY_POINT_DL_TABLE{'.csv'}\")\n",
    "export_csv(\"SY_POINT_SLOP_TABLE\",out_path,f\"SY_POINT_SLOP_TABLE{'.csv'}\")\n",
    "export_csv(\"SY_POINT_ASP_TABLE\",out_path,f\"SY_POINT_ASP_TABLE{'.csv'}\")\n",
    "export_csv(\"SY_POINT_ELE_TABLE\",out_path,f\"SY_POINT_ELE_TABLE{'.csv'}\")\n",
    "export_csv(\"SY_POINT_PRE_TABLE\",out_path,f\"SY_POINT_PRE_TABLE{'.csv'}\")\n",
    "export_csv(\"SY_POINT_TMP_TABLE\",out_path,f\"SY_POINT_TMP_TABLE{'.csv'}\")"
   ]
  }
 ],
 "metadata": {
  "kernelspec": {
   "display_name": "Python 3",
   "language": "python",
   "name": "python3"
  },
  "language_info": {
   "codemirror_mode": {
    "name": "ipython",
    "version": 3
   },
   "file_extension": ".py",
   "mimetype": "text/x-python",
   "name": "python",
   "nbconvert_exporter": "python",
   "pygments_lexer": "ipython3",
   "version": "3.9.11"
  },
  "orig_nbformat": 4
 },
 "nbformat": 4,
 "nbformat_minor": 2
}
