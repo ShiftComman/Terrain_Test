{
 "cells": [
  {
   "cell_type": "code",
   "execution_count": 1,
   "metadata": {},
   "outputs": [],
   "source": [
    "import arcpy\n",
    "from arcpy import env\n",
    "import pandas as pd\n",
    "import numpy as np"
   ]
  },
  {
   "cell_type": "code",
   "execution_count": 2,
   "metadata": {},
   "outputs": [
    {
     "data": {
      "text/plain": [
       "['AP', 'NDVI', 'NIGHT', 'PRE', 'SOILQS', 'TMP']"
      ]
     },
     "execution_count": 2,
     "metadata": {},
     "output_type": "execute_result"
    }
   ],
   "source": [
    "env_path = r\"D:\\ArcgisData\\pred_soildeep\\pre_database\\pred_soildeep_gz.gdb\"\n",
    "env.workspace = env_path\n",
    "arcpy.ListRasters()"
   ]
  },
  {
   "cell_type": "code",
   "execution_count": 3,
   "metadata": {},
   "outputs": [
    {
     "name": "stdout",
     "output_type": "stream",
     "text": [
      "58416.702553160896 3220372.9676713645 30.0 30.0\n"
     ]
    }
   ],
   "source": [
    "# 构造经纬度信息\n",
    "desc = arcpy.Describe(\"NDVI\")\n",
    "origin_x = desc.extent.XMin\n",
    "origin_y = desc.extent.YMax\n",
    "pixel_width = desc.meanCellWidth\n",
    "pixel_height = desc.meanCellHeight\n",
    "print(origin_x,origin_y,pixel_width,pixel_height)"
   ]
  },
  {
   "cell_type": "code",
   "execution_count": 4,
   "metadata": {},
   "outputs": [
    {
     "data": {
      "text/plain": [
       "(16001, 19678)"
      ]
     },
     "execution_count": 4,
     "metadata": {},
     "output_type": "execute_result"
    }
   ],
   "source": [
    "stander_array = arcpy.RasterToNumPyArray(\"NDVI\")\n",
    "stander_array.shape"
   ]
  },
  {
   "cell_type": "code",
   "execution_count": 5,
   "metadata": {},
   "outputs": [
    {
     "name": "stdout",
     "output_type": "stream",
     "text": [
      "(16001, 19678) 58461.702553160896 648741.702553161\n"
     ]
    }
   ],
   "source": [
    "# 经度\n",
    "array_x = np.zeros(stander_array.shape, dtype=np.float64)\n",
    "array_x[:, 0] = origin_x+pixel_width/2\n",
    "for i in range(1, stander_array.shape[1]):\n",
    "    array_x[:, i] = array_x[:, i-1] + pixel_width\n",
    "print(array_x.shape,array_x[0,1],array_x[0,-1])"
   ]
  },
  {
   "cell_type": "code",
   "execution_count": 6,
   "metadata": {},
   "outputs": [
    {
     "name": "stdout",
     "output_type": "stream",
     "text": [
      "(16001, 19678) 3220387.9676713645 2740387.9676713645\n"
     ]
    }
   ],
   "source": [
    "# 纬度\n",
    "array_y = np.zeros(stander_array.shape,dtype=np.float64)\n",
    "array_y[0] = origin_y+pixel_height/2\n",
    "for i in range(1, stander_array.shape[0]):\n",
    "    array_y[i] = array_y[i-1] - pixel_height\n",
    "print(array_y.shape,array_y[0][0],array_y[-1][0])"
   ]
  },
  {
   "cell_type": "code",
   "execution_count": 45,
   "metadata": {},
   "outputs": [],
   "source": [
    "def split_array_into_eight(arr):\n",
    "    \"\"\"\n",
    "    将 NumPy 数组分为八份。\n",
    "\n",
    "    参数:\n",
    "        arr (numpy.ndarray): 要分割的数组\n",
    "\n",
    "    返回:\n",
    "        list: 包含八个 NumPy 数组的列表\n",
    "    \"\"\"\n",
    "    \n",
    "    if len(arr.shape) != 2:\n",
    "        raise ValueError(\"Input array must be 2-dimensional\")\n",
    "\n",
    "    # 计算每部分的行数\n",
    "    rows_per_part = arr.shape[0] // 2\n",
    "    parts = []\n",
    "\n",
    "    for i in range(2):\n",
    "        start_index = i * rows_per_part\n",
    "\n",
    "        # 对于最后一个部分，取所有剩余的行\n",
    "        if i == 2:\n",
    "            parts.append(arr[start_index:])\n",
    "        else:\n",
    "            end_index = start_index + rows_per_part\n",
    "            parts.append(arr[start_index:end_index])\n",
    "    \n",
    "    return parts\n",
    "# 将预测结果输出为栅格数据\n",
    "def put_raster(in_array):\n",
    "    out_raster = arcpy.NumPyArrayToRaster(\n",
    "        in_array,\n",
    "        arcpy.Point(arcpy.env.extent.XMin, arcpy.env.extent.YMin),\n",
    "        30,\n",
    "        30,\n",
    "    )\n",
    "    return out_raster\n",
    "# 将预测结果输出为栅格数据,有分割处理\n",
    "def put_raster_cut2(in_array):\n",
    "    out_raster = arcpy.NumPyArrayToRaster(\n",
    "        in_array,\n",
    "        arcpy.Point(arcpy.env.extent.XMin, arcpy.env.extent.YMax-(in_array.shape[0]*30)),\n",
    "        30,\n",
    "        30,\n",
    "    )\n",
    "    return out_raster\n"
   ]
  },
  {
   "cell_type": "code",
   "execution_count": 46,
   "metadata": {},
   "outputs": [],
   "source": [
    "# 确定范围\n",
    "env.extent = 'NDVI'\n"
   ]
  },
  {
   "cell_type": "code",
   "execution_count": 47,
   "metadata": {},
   "outputs": [],
   "source": [
    "x_split = split_array_into_eight(array_x)\n",
    "y_split = split_array_into_eight(array_y)"
   ]
  },
  {
   "cell_type": "code",
   "execution_count": 49,
   "metadata": {},
   "outputs": [],
   "source": [
    "\n",
    "put_raster(y_split[1]).save(f\"LON_2\")\n"
   ]
  },
  {
   "cell_type": "code",
   "execution_count": null,
   "metadata": {},
   "outputs": [],
   "source": [
    "import arcpy\n",
    "from arcpy.sa import *\n",
    "\n",
    "# 设置工作空间和覆盖输出\n",
    "\n",
    "# 指定输入栅格的路径\n",
    "raster_path = \"LON_9\"\n",
    "\n",
    "# 创建一个 FlowDirection 栅格。我们只是使用这个工具来获取像元的 x 坐标，实际上我们并不关心流向。\n",
    "flow_direction_raster = FlowDirection(raster_path)\n",
    "\n",
    "# 使用 Lookup 工具获取每个像元的 x 坐标\n",
    "longitude_raster = Lookup(flow_direction_raster, \"X\")\n",
    "\n",
    "# 保存输出栅格\n",
    "longitude_raster.save(\"path_to_save_longitude_raster.tif\")\n"
   ]
  }
 ],
 "metadata": {
  "kernelspec": {
   "display_name": "Python 3",
   "language": "python",
   "name": "python3"
  },
  "language_info": {
   "codemirror_mode": {
    "name": "ipython",
    "version": 3
   },
   "file_extension": ".py",
   "mimetype": "text/x-python",
   "name": "python",
   "nbconvert_exporter": "python",
   "pygments_lexer": "ipython3",
   "version": "3.9.11"
  },
  "orig_nbformat": 4
 },
 "nbformat": 4,
 "nbformat_minor": 2
}
