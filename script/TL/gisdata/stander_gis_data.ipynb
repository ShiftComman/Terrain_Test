{
 "cells": [
  {
   "cell_type": "code",
   "execution_count": 21,
   "metadata": {},
   "outputs": [],
   "source": [
    "\n",
    "import os\n",
    "import pandas as pd\n",
    "import numpy as np\n",
    "import shutil\n",
    "import arcpy\n",
    "from arcpy import env\n",
    "from arcpy.management import *\n",
    "from arcpy.sa import *\n",
    "from arcpy.da import *\n",
    "from arcpy.conversion import *"
   ]
  },
  {
   "cell_type": "code",
   "execution_count": 22,
   "metadata": {},
   "outputs": [],
   "source": [
    "\n",
    "# 获取栅格的顶角坐标\n",
    "def get_raster_extent(raster):\n",
    "    desc = arcpy.Describe(raster)\n",
    "    extent = desc.extent\n",
    "    return [extent.XMin,extent.YMax]\n",
    "\n",
    "# 获取栅格的像元数量\n",
    "def get_raster_size(raster):\n",
    "    desc = arcpy.Describe(raster)\n",
    "    return [desc.width,desc.height]\n",
    "\n",
    "# 调整栅格范围一致\n",
    "def reshape_raster(stand_raster,in_raster):\n",
    "    \"\"\"stand_raster:参考栅格,in_raster:待调整栅格\"\"\"\n",
    "    stand_raster = Raster(stand_raster)\n",
    "    in_raster= Raster(in_raster)\n",
    "    with arcpy.EnvManager(snapRaster=stand_raster, extent=\"MAXOF\", cellSize=stand_raster):\n",
    "        output_raster = Con(stand_raster>0,in_raster)\n",
    "    return output_raster\n",
    "# 调整栅格size一致\n",
    "def reshape_raster_size(stand_raster,in_raster,cell_size):\n",
    "    \"\"\"stand_raster:参考栅格,in_raster:待调整栅格,cell_size:像元大小\"\"\"\n",
    "    stand_raster = Raster(stand_raster)\n",
    "    env.extent = stand_raster\n",
    "    in_raster= Raster(in_raster)\n",
    "    stander_array = arcpy.RasterToNumPyArray(stand_raster)\n",
    "    in_array = arcpy.RasterToNumPyArray(in_raster)\n",
    "    result_array = resize_arrays(stander_array,in_array,0)[1]\n",
    "    # array 转 raster\n",
    "    return mask_raster(result_array,stand_raster,cell_size)\n",
    "    "
   ]
  },
  {
   "cell_type": "code",
   "execution_count": 23,
   "metadata": {},
   "outputs": [],
   "source": [
    "# 输出路径\n",
    "out_path = r\"D:\\ArcgisData\\basedata\\basetable\\size_30\""
   ]
  },
  {
   "cell_type": "code",
   "execution_count": 24,
   "metadata": {},
   "outputs": [],
   "source": [
    "# 读取并检查栅格形状尺寸是否一致\n",
    "raster_path = r\"D:\\ArcgisData\\basedata\\basetrain_30m.gdb\"\n",
    "env.workspace = raster_path\n",
    "raster_list = arcpy.ListRasters()"
   ]
  },
  {
   "cell_type": "code",
   "execution_count": 25,
   "metadata": {},
   "outputs": [
    {
     "name": "stdout",
     "output_type": "stream",
     "text": [
      "DEM\n",
      "[397387.5, 3153427.5] [1849, 2481]\n",
      "TWI5\n",
      "[397387.5, 3153427.5] [1849, 2481]\n",
      "TPI201\n",
      "[397387.5, 3153427.5] [1849, 2481]\n",
      "TPI101\n",
      "[397387.5, 3153427.5] [1849, 2481]\n",
      "TPI11\n",
      "[397387.5, 3153427.5] [1849, 2481]\n",
      "TPI3\n",
      "[397387.5, 3153427.5] [1849, 2481]\n",
      "TMP\n",
      "[397387.5, 3153427.5] [1849, 2481]\n",
      "SOILQS\n",
      "[397387.5, 3153427.5] [1849, 2481]\n",
      "SLOP\n",
      "[397387.5, 3153427.5] [1849, 2481]\n",
      "PRE\n",
      "[397387.5, 3153427.5] [1849, 2481]\n",
      "NIGTH\n",
      "[397387.5, 3153427.5] [1849, 2481]\n",
      "NDVI\n",
      "[397387.5, 3153427.5] [1849, 2481]\n",
      "CUR\n",
      "[397387.5, 3153427.5] [1849, 2481]\n",
      "ASP\n",
      "[397387.5, 3153427.5] [1849, 2481]\n",
      "PLCUR\n",
      "[397387.5, 3153427.5] [1849, 2481]\n",
      "POCUR\n",
      "[397387.5, 3153427.5] [1849, 2481]\n",
      "SOM\n",
      "[397387.5, 3153427.5] [1849, 2481]\n",
      "PH\n",
      "[397387.5, 3153427.5] [1849, 2481]\n",
      "LON\n",
      "[397387.5, 3153427.5] [1849, 2481]\n",
      "LAT\n",
      "[397387.5, 3153427.5] [1849, 2481]\n",
      "OSJL\n",
      "[397387.5, 3153427.5] [1849, 2481]\n",
      "SC\n",
      "[397387.5, 3153427.5] [1849, 2481]\n",
      "DL\n",
      "[397387.5, 3153427.5] [1849, 2481]\n",
      "DZ\n",
      "[397387.5, 3153427.5] [1849, 2481]\n",
      "SC2\n",
      "[397387.5, 3153427.5] [1849, 2481]\n"
     ]
    }
   ],
   "source": [
    "# 导出栅格数组\n",
    "for one_raster in raster_list:\n",
    "    temp_index = get_raster_extent(one_raster)\n",
    "    temp_size = get_raster_size(one_raster)\n",
    "    print(one_raster)\n",
    "    print(temp_index,temp_size)\n",
    "    temp_array = pd.DataFrame(arcpy.RasterToNumPyArray(one_raster))\n",
    "    temp_array.to_csv(os.path.join(out_path,f\"{one_raster}.csv\"))"
   ]
  }
 ],
 "metadata": {
  "kernelspec": {
   "display_name": "Python 3",
   "language": "python",
   "name": "python3"
  },
  "language_info": {
   "codemirror_mode": {
    "name": "ipython",
    "version": 3
   },
   "file_extension": ".py",
   "mimetype": "text/x-python",
   "name": "python",
   "nbconvert_exporter": "python",
   "pygments_lexer": "ipython3",
   "version": "3.9.11"
  },
  "orig_nbformat": 4
 },
 "nbformat": 4,
 "nbformat_minor": 2
}
