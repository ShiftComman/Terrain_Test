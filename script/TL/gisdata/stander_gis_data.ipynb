{
 "cells": [
  {
   "cell_type": "code",
   "execution_count": 2,
   "metadata": {},
   "outputs": [],
   "source": [
    "\n",
    "import os\n",
    "import pandas as pd\n",
    "import numpy as np\n",
    "import shutil\n",
    "import arcpy\n",
    "from arcpy import env\n",
    "from arcpy.management import *\n",
    "from arcpy.sa import *\n",
    "from arcpy.da import *\n",
    "from arcpy.conversion import *"
   ]
  },
  {
   "cell_type": "code",
   "execution_count": 3,
   "metadata": {},
   "outputs": [],
   "source": [
    "\n",
    "# 获取栅格的顶角坐标\n",
    "def get_raster_extent(raster):\n",
    "    desc = arcpy.Describe(raster)\n",
    "    extent = desc.extent\n",
    "    return [extent.XMin,extent.YMax]\n",
    "\n",
    "# 获取栅格的像元数量\n",
    "def get_raster_size(raster):\n",
    "    desc = arcpy.Describe(raster)\n",
    "    return [desc.width,desc.height]\n",
    "\n",
    "# 调整栅格范围一致\n",
    "def reshape_raster(stand_raster,in_raster):\n",
    "    \"\"\"stand_raster:参考栅格,in_raster:待调整栅格\"\"\"\n",
    "    stand_raster = Raster(stand_raster)\n",
    "    in_raster= Raster(in_raster)\n",
    "    with arcpy.EnvManager(snapRaster=stand_raster, extent=\"MAXOF\", cellSize=stand_raster):\n",
    "        output_raster = Con(stand_raster>0,in_raster)\n",
    "    return output_raster\n",
    "# 调整栅格size一致\n",
    "def reshape_raster_size(stand_raster,in_raster,cell_size):\n",
    "    \"\"\"stand_raster:参考栅格,in_raster:待调整栅格,cell_size:像元大小\"\"\"\n",
    "    stand_raster = Raster(stand_raster)\n",
    "    env.extent = stand_raster\n",
    "    in_raster= Raster(in_raster)\n",
    "    stander_array = arcpy.RasterToNumPyArray(stand_raster)\n",
    "    in_array = arcpy.RasterToNumPyArray(in_raster)\n",
    "    result_array = resize_arrays(stander_array,in_array,0)[1]\n",
    "    # array 转 raster\n",
    "    return mask_raster(result_array,stand_raster,cell_size)\n",
    "# 按掩膜提取\n",
    "def mask_raster(in_raster,mask_ele,size_path):\n",
    "    \"\"\"按掩膜提取栅格,空间参考设定为:CGCS2000_3_Degree_GK_CM_108E\"\"\"\n",
    "    in_raster = Raster(in_raster)\n",
    "    mask_ele = Raster(mask_ele)\n",
    "    output_coordinate_system = arcpy.Describe(mask_ele).spatialReference\n",
    "    with arcpy.EnvManager(outputCoordinateSystem=output_coordinate_system,snapRaster=mask_ele,cellSize=size_path):\n",
    "        result_raster = arcpy.sa.ExtractByMask(in_raster, mask_ele, \"INSIDE\")\n",
    "        return result_raster"
   ]
  },
  {
   "cell_type": "code",
   "execution_count": 4,
   "metadata": {},
   "outputs": [],
   "source": [
    "# 输出路径\n",
    "out_path = r\"D:\\ArcgisData\\pred_soildeep\\pre_database\\pred_soildeep_gz.gdb\""
   ]
  },
  {
   "cell_type": "code",
   "execution_count": 5,
   "metadata": {},
   "outputs": [],
   "source": [
    "# 按掩膜提取\n",
    "env.workspace = r\"D:\\ArcgisData\\pred_soildeep\\pre_database\\pred_soildeep.gdb\"\n",
    "mask_ele = r\"D:\\ArcgisData\\basedata\\soildeep.gdb\\round_polygon_Raster_p\"\n",
    "cell_size = r\"D:\\ArcgisData\\basedata\\basetrain_30m.gdb\\DEM\""
   ]
  },
  {
   "cell_type": "code",
   "execution_count": 5,
   "metadata": {},
   "outputs": [
    {
     "data": {
      "text/plain": [
       "['NDVI', 'TMP', 'PRE', 'AP', 'NIGHT', 'SOILQS']"
      ]
     },
     "execution_count": 5,
     "metadata": {},
     "output_type": "execute_result"
    }
   ],
   "source": [
    "arcpy.ListRasters()"
   ]
  },
  {
   "cell_type": "code",
   "execution_count": 6,
   "metadata": {},
   "outputs": [],
   "source": [
    "for one_raster in arcpy.ListRasters():\n",
    "    mask_raster(one_raster,mask_ele,cell_size).save(f\"{one_raster}_ym\")"
   ]
  },
  {
   "cell_type": "code",
   "execution_count": 8,
   "metadata": {},
   "outputs": [
    {
     "data": {
      "text/plain": [
       "['NDVI_ym', 'TMP_ym', 'PRE_ym', 'AP_ym', 'NIGHT_ym', 'SOILQS_ym']"
      ]
     },
     "execution_count": 8,
     "metadata": {},
     "output_type": "execute_result"
    }
   ],
   "source": [
    "# 读取并检查栅格形状尺寸是否一致\n",
    "raster_path = r\"D:\\ArcgisData\\pred_soildeep\\pre_database\\pred_soildeep.gdb\"\n",
    "env.workspace = raster_path\n",
    "raster_list = arcpy.ListRasters()\n",
    "raster_list = [_ for _ in raster_list if _[-2:]=='ym']\n",
    "raster_list"
   ]
  },
  {
   "cell_type": "code",
   "execution_count": 9,
   "metadata": {},
   "outputs": [
    {
     "name": "stdout",
     "output_type": "stream",
     "text": [
      "NDVI_ym\n",
      "[58416.702553160896, 3220372.9676713645] [19678, 16001]\n",
      "TMP_ym\n",
      "[58416.702553160896, 3220372.9676713645] [19678, 16001]\n",
      "PRE_ym\n",
      "[58416.702553160896, 3220372.9676713645] [19678, 16001]\n",
      "AP_ym\n",
      "[58416.702553160896, 3220372.9676713645] [19678, 16001]\n",
      "NIGHT_ym\n",
      "[58416.702553160896, 3220372.9676713645] [19678, 16001]\n",
      "SOILQS_ym\n",
      "[58416.702553160896, 3220372.9676713645] [19678, 16001]\n"
     ]
    }
   ],
   "source": [
    "# 导出栅格数组\n",
    "for one_raster in raster_list:\n",
    "    temp_index = get_raster_extent(one_raster)\n",
    "    temp_size = get_raster_size(one_raster)\n",
    "    print(one_raster)\n",
    "    print(temp_index,temp_size)\n",
    "    # temp_array = pd.DataFrame(arcpy.RasterToNumPyArray(one_raster))\n",
    "    # temp_array.to_csv(os.path.join(out_path,f\"{one_raster}.csv\"))"
   ]
  }
 ],
 "metadata": {
  "kernelspec": {
   "display_name": "Python 3",
   "language": "python",
   "name": "python3"
  },
  "language_info": {
   "codemirror_mode": {
    "name": "ipython",
    "version": 3
   },
   "file_extension": ".py",
   "mimetype": "text/x-python",
   "name": "python",
   "nbconvert_exporter": "python",
   "pygments_lexer": "ipython3",
   "version": "3.9.11"
  },
  "orig_nbformat": 4
 },
 "nbformat": 4,
 "nbformat_minor": 2
}
