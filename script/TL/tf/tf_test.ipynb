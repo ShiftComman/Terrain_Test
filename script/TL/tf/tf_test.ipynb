{
 "cells": [
  {
   "cell_type": "code",
   "execution_count": 3,
   "metadata": {},
   "outputs": [],
   "source": [
    "import tensorflow as tf\n",
    "from tensorflow.keras.layers import Input,Dense\n",
    "from tensorflow.keras.models import Model\n",
    "from tensorflow.utils import to_categorical\n",
    "import pandas as pd\n",
    "import numpy as np\n",
    "from sklearn.model_selection import train_test_split"
   ]
  },
  {
   "cell_type": "code",
   "execution_count": 5,
   "metadata": {},
   "outputs": [],
   "source": [
    "data = pd.read_csv(r\"C:\\Users\\Runker\\Desktop\\feature_table_result.csv\")\n"
   ]
  },
  {
   "cell_type": "code",
   "execution_count": 6,
   "metadata": {},
   "outputs": [
    {
     "data": {
      "text/plain": [
       "((1819, 24), (455, 24), (1819, 4), (455, 4))"
      ]
     },
     "execution_count": 6,
     "metadata": {},
     "output_type": "execute_result"
    }
   ],
   "source": [
    "\n",
    "# Splitting features and targets\n",
    "features = data.drop(columns=[\"土类\", \"亚类\", \"土属\", \"土种\"])\n",
    "targets = data[[\"土类\", \"亚类\", \"土属\", \"土种\"]]\n",
    "\n",
    "# Splitting the data into training and testing sets (80% train, 20% test)\n",
    "X_train, X_test, y_train, y_test = train_test_split(features, targets, test_size=0.2, random_state=42)\n",
    "\n",
    "X_train.shape, X_test.shape, y_train.shape, y_test.shape\n"
   ]
  },
  {
   "cell_type": "code",
   "execution_count": 8,
   "metadata": {},
   "outputs": [
    {
     "data": {
      "text/plain": [
       "((1819, 5), (455, 5))"
      ]
     },
     "execution_count": 8,
     "metadata": {},
     "output_type": "execute_result"
    }
   ],
   "source": [
    "from tensorflow.keras.utils import to_categorical\n",
    "# One-hot encoding the labels again\n",
    "y_train_encoded = {col: to_categorical(y_train[col].astype('category').cat.codes) for col in y_train.columns}\n",
    "y_test_encoded = {col: to_categorical(y_test[col].astype('category').cat.codes) for col in y_test.columns}\n",
    "\n",
    "# Checking the shape of one of the encoded labels\n",
    "y_train_encoded[\"土类\"].shape, y_test_encoded[\"土类\"].shape\n",
    "\n"
   ]
  },
  {
   "cell_type": "code",
   "execution_count": 13,
   "metadata": {},
   "outputs": [
    {
     "data": {
      "text/html": [
       "<div>\n",
       "<style scoped>\n",
       "    .dataframe tbody tr th:only-of-type {\n",
       "        vertical-align: middle;\n",
       "    }\n",
       "\n",
       "    .dataframe tbody tr th {\n",
       "        vertical-align: top;\n",
       "    }\n",
       "\n",
       "    .dataframe thead th {\n",
       "        text-align: right;\n",
       "    }\n",
       "</style>\n",
       "<table border=\"1\" class=\"dataframe\">\n",
       "  <thead>\n",
       "    <tr style=\"text-align: right;\">\n",
       "      <th></th>\n",
       "      <th>土类</th>\n",
       "      <th>亚类</th>\n",
       "      <th>土属</th>\n",
       "      <th>土种</th>\n",
       "    </tr>\n",
       "  </thead>\n",
       "  <tbody>\n",
       "    <tr>\n",
       "      <th>2063</th>\n",
       "      <td>水稻土</td>\n",
       "      <td>潴育型水稻土</td>\n",
       "      <td>红泥田</td>\n",
       "      <td>低红泥田</td>\n",
       "    </tr>\n",
       "    <tr>\n",
       "      <th>1321</th>\n",
       "      <td>黄壤</td>\n",
       "      <td>典型黄壤</td>\n",
       "      <td>泥质黄壤</td>\n",
       "      <td>中泥质黄壤</td>\n",
       "    </tr>\n",
       "    <tr>\n",
       "      <th>859</th>\n",
       "      <td>黄壤</td>\n",
       "      <td>典型黄壤</td>\n",
       "      <td>红泥质黄壤</td>\n",
       "      <td>低红泥质黄壤</td>\n",
       "    </tr>\n",
       "    <tr>\n",
       "      <th>408</th>\n",
       "      <td>紫色土</td>\n",
       "      <td>酸性紫色土</td>\n",
       "      <td>壤质酸性紫色土</td>\n",
       "      <td>薄层壤质酸性紫色土</td>\n",
       "    </tr>\n",
       "    <tr>\n",
       "      <th>629</th>\n",
       "      <td>黄棕壤</td>\n",
       "      <td>典型黄棕壤</td>\n",
       "      <td>灰泥质黄棕壤</td>\n",
       "      <td>中层灰泥质黄棕壤</td>\n",
       "    </tr>\n",
       "    <tr>\n",
       "      <th>...</th>\n",
       "      <td>...</td>\n",
       "      <td>...</td>\n",
       "      <td>...</td>\n",
       "      <td>...</td>\n",
       "    </tr>\n",
       "    <tr>\n",
       "      <th>203</th>\n",
       "      <td>紫色土</td>\n",
       "      <td>酸性紫色土</td>\n",
       "      <td>壤质酸性紫色土</td>\n",
       "      <td>低壤质酸性紫色土</td>\n",
       "    </tr>\n",
       "    <tr>\n",
       "      <th>1879</th>\n",
       "      <td>石灰土</td>\n",
       "      <td>黄色石灰土</td>\n",
       "      <td>黏质黄色石灰土</td>\n",
       "      <td>中黏质黄色石灰土</td>\n",
       "    </tr>\n",
       "    <tr>\n",
       "      <th>719</th>\n",
       "      <td>黄棕壤</td>\n",
       "      <td>典型黄棕壤</td>\n",
       "      <td>泥质黄棕壤</td>\n",
       "      <td>中层泥质黄棕壤</td>\n",
       "    </tr>\n",
       "    <tr>\n",
       "      <th>1134</th>\n",
       "      <td>黄壤</td>\n",
       "      <td>典型黄壤</td>\n",
       "      <td>泥质黄壤</td>\n",
       "      <td>低泥质黄壤</td>\n",
       "    </tr>\n",
       "    <tr>\n",
       "      <th>618</th>\n",
       "      <td>黄棕壤</td>\n",
       "      <td>典型黄棕壤</td>\n",
       "      <td>灰泥质黄棕壤</td>\n",
       "      <td>中层灰泥质黄棕壤</td>\n",
       "    </tr>\n",
       "  </tbody>\n",
       "</table>\n",
       "<p>455 rows × 4 columns</p>\n",
       "</div>"
      ],
      "text/plain": [
       "       土类      亚类       土属         土种\n",
       "2063  水稻土  潴育型水稻土      红泥田       低红泥田\n",
       "1321   黄壤    典型黄壤     泥质黄壤      中泥质黄壤\n",
       "859    黄壤    典型黄壤    红泥质黄壤     低红泥质黄壤\n",
       "408   紫色土   酸性紫色土  壤质酸性紫色土  薄层壤质酸性紫色土\n",
       "629   黄棕壤   典型黄棕壤   灰泥质黄棕壤   中层灰泥质黄棕壤\n",
       "...   ...     ...      ...        ...\n",
       "203   紫色土   酸性紫色土  壤质酸性紫色土   低壤质酸性紫色土\n",
       "1879  石灰土   黄色石灰土  黏质黄色石灰土   中黏质黄色石灰土\n",
       "719   黄棕壤   典型黄棕壤    泥质黄棕壤    中层泥质黄棕壤\n",
       "1134   黄壤    典型黄壤     泥质黄壤      低泥质黄壤\n",
       "618   黄棕壤   典型黄棕壤   灰泥质黄棕壤   中层灰泥质黄棕壤\n",
       "\n",
       "[455 rows x 4 columns]"
      ]
     },
     "execution_count": 13,
     "metadata": {},
     "output_type": "execute_result"
    }
   ],
   "source": [
    "y_test"
   ]
  },
  {
   "cell_type": "code",
   "execution_count": 11,
   "metadata": {},
   "outputs": [
    {
     "ename": "ValueError",
     "evalue": "'土类/' is not a valid root scope name. A root scope name has to match the following pattern: ^[A-Za-z0-9.][A-Za-z0-9_.\\\\/>-]*$",
     "output_type": "error",
     "traceback": [
      "\u001b[1;31m---------------------------------------------------------------------------\u001b[0m",
      "\u001b[1;31mValueError\u001b[0m                                Traceback (most recent call last)",
      "Cell \u001b[1;32mIn[11], line 7\u001b[0m\n\u001b[0;32m      4\u001b[0m hidden_layer \u001b[39m=\u001b[39m Dense(\u001b[39m64\u001b[39m, activation\u001b[39m=\u001b[39m\u001b[39m'\u001b[39m\u001b[39mrelu\u001b[39m\u001b[39m'\u001b[39m)(hidden_layer)\n\u001b[0;32m      6\u001b[0m \u001b[39m# Four output layers, each corresponding to a classification level\u001b[39;00m\n\u001b[1;32m----> 7\u001b[0m output_class \u001b[39m=\u001b[39m Dense(y_train_encoded[\u001b[39m\"\u001b[39;49m\u001b[39m土类\u001b[39;49m\u001b[39m\"\u001b[39;49m]\u001b[39m.\u001b[39;49mshape[\u001b[39m1\u001b[39;49m], activation\u001b[39m=\u001b[39;49m\u001b[39m'\u001b[39;49m\u001b[39msoftmax\u001b[39;49m\u001b[39m'\u001b[39;49m, name\u001b[39m=\u001b[39;49m\u001b[39m\"\u001b[39;49m\u001b[39m土类\u001b[39;49m\u001b[39m\"\u001b[39;49m)(hidden_layer)\n\u001b[0;32m      8\u001b[0m output_subclass \u001b[39m=\u001b[39m Dense(y_train_encoded[\u001b[39m\"\u001b[39m\u001b[39m亚类\u001b[39m\u001b[39m\"\u001b[39m]\u001b[39m.\u001b[39mshape[\u001b[39m1\u001b[39m], activation\u001b[39m=\u001b[39m\u001b[39m'\u001b[39m\u001b[39msoftmax\u001b[39m\u001b[39m'\u001b[39m, name\u001b[39m=\u001b[39m\u001b[39m\"\u001b[39m\u001b[39m亚类\u001b[39m\u001b[39m\"\u001b[39m)(hidden_layer)\n\u001b[0;32m      9\u001b[0m output_genus \u001b[39m=\u001b[39m Dense(y_train_encoded[\u001b[39m\"\u001b[39m\u001b[39m土属\u001b[39m\u001b[39m\"\u001b[39m]\u001b[39m.\u001b[39mshape[\u001b[39m1\u001b[39m], activation\u001b[39m=\u001b[39m\u001b[39m'\u001b[39m\u001b[39msoftmax\u001b[39m\u001b[39m'\u001b[39m, name\u001b[39m=\u001b[39m\u001b[39m\"\u001b[39m\u001b[39m土属\u001b[39m\u001b[39m\"\u001b[39m)(hidden_layer)\n",
      "File \u001b[1;32md:\\worker_code\\.venvgis\\lib\\site-packages\\keras\\src\\utils\\traceback_utils.py:70\u001b[0m, in \u001b[0;36mfilter_traceback.<locals>.error_handler\u001b[1;34m(*args, **kwargs)\u001b[0m\n\u001b[0;32m     67\u001b[0m     filtered_tb \u001b[39m=\u001b[39m _process_traceback_frames(e\u001b[39m.\u001b[39m__traceback__)\n\u001b[0;32m     68\u001b[0m     \u001b[39m# To get the full stack trace, call:\u001b[39;00m\n\u001b[0;32m     69\u001b[0m     \u001b[39m# `tf.debugging.disable_traceback_filtering()`\u001b[39;00m\n\u001b[1;32m---> 70\u001b[0m     \u001b[39mraise\u001b[39;00m e\u001b[39m.\u001b[39mwith_traceback(filtered_tb) \u001b[39mfrom\u001b[39;00m \u001b[39mNone\u001b[39;00m\n\u001b[0;32m     71\u001b[0m \u001b[39mfinally\u001b[39;00m:\n\u001b[0;32m     72\u001b[0m     \u001b[39mdel\u001b[39;00m filtered_tb\n",
      "File \u001b[1;32mD:\\Programs\\Python\\Python310\\lib\\contextlib.py:135\u001b[0m, in \u001b[0;36m_GeneratorContextManager.__enter__\u001b[1;34m(self)\u001b[0m\n\u001b[0;32m    133\u001b[0m \u001b[39mdel\u001b[39;00m \u001b[39mself\u001b[39m\u001b[39m.\u001b[39margs, \u001b[39mself\u001b[39m\u001b[39m.\u001b[39mkwds, \u001b[39mself\u001b[39m\u001b[39m.\u001b[39mfunc\n\u001b[0;32m    134\u001b[0m \u001b[39mtry\u001b[39;00m:\n\u001b[1;32m--> 135\u001b[0m     \u001b[39mreturn\u001b[39;00m \u001b[39mnext\u001b[39m(\u001b[39mself\u001b[39m\u001b[39m.\u001b[39mgen)\n\u001b[0;32m    136\u001b[0m \u001b[39mexcept\u001b[39;00m \u001b[39mStopIteration\u001b[39;00m:\n\u001b[0;32m    137\u001b[0m     \u001b[39mraise\u001b[39;00m \u001b[39mRuntimeError\u001b[39;00m(\u001b[39m\"\u001b[39m\u001b[39mgenerator didn\u001b[39m\u001b[39m'\u001b[39m\u001b[39mt yield\u001b[39m\u001b[39m\"\u001b[39m) \u001b[39mfrom\u001b[39;00m \u001b[39mNone\u001b[39;00m\n",
      "\u001b[1;31mValueError\u001b[0m: '土类/' is not a valid root scope name. A root scope name has to match the following pattern: ^[A-Za-z0-9.][A-Za-z0-9_.\\\\/>-]*$"
     ]
    }
   ],
   "source": [
    "# Define the model architecture\n",
    "input_layer = Input(shape=(X_train.shape[1],))\n",
    "hidden_layer = Dense(128, activation='relu')(input_layer)\n",
    "hidden_layer = Dense(64, activation='relu')(hidden_layer)\n",
    "\n",
    "# Four output layers, each corresponding to a classification level\n",
    "output_class = Dense(y_train_encoded[\"土类\"].shape[1], activation='softmax', name=\"土类\")(hidden_layer)\n",
    "output_subclass = Dense(y_train_encoded[\"亚类\"].shape[1], activation='softmax', name=\"亚类\")(hidden_layer)\n",
    "output_genus = Dense(y_train_encoded[\"土属\"].shape[1], activation='softmax', name=\"土属\")(hidden_layer)\n",
    "output_species = Dense(y_train_encoded[\"土种\"].shape[1], activation='softmax', name=\"土种\")(hidden_layer)\n",
    "\n",
    "# # Compile the model\n",
    "# model = Model(inputs=input_layer, outputs=[output_class, output_subclass, output_genus, output_species])\n",
    "# model.compile(optimizer='adam', \n",
    "#               loss={\n",
    "#                   \"class_output\": 'categorical_crossentropy', \n",
    "#                   \"subclass_output\": 'categorical_crossentropy',\n",
    "#                   \"genus_output\": 'categorical_crossentropy',\n",
    "#                   \"species_output\": 'categorical_crossentropy'\n",
    "#               },\n",
    "#               metrics=['accuracy'])\n",
    "\n",
    "# model.summary()"
   ]
  }
 ],
 "metadata": {
  "kernelspec": {
   "display_name": ".venvgis",
   "language": "python",
   "name": "python3"
  },
  "language_info": {
   "codemirror_mode": {
    "name": "ipython",
    "version": 3
   },
   "file_extension": ".py",
   "mimetype": "text/x-python",
   "name": "python",
   "nbconvert_exporter": "python",
   "pygments_lexer": "ipython3",
   "version": "3.10.11"
  },
  "orig_nbformat": 4
 },
 "nbformat": 4,
 "nbformat_minor": 2
}
