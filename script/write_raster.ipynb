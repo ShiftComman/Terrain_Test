{
 "cells": [
  {
   "cell_type": "code",
   "execution_count": null,
   "metadata": {},
   "outputs": [],
   "source": [
    "import arcpy\n",
    "from arcpy import env\n",
    "import pandas as pd\n",
    "import numpy as np\n",
    "from autogluon.tabular import TabularPredictor\n",
    "from pykrige.ok import OrdinaryKriging"
   ]
  },
  {
   "cell_type": "code",
   "execution_count": null,
   "metadata": {},
   "outputs": [],
   "source": [
    "# 设置工作环境\n",
    "work_path = \"D:\\ArcGISProjects\\syraster\\ph.gdb\"\n",
    "env.workspace = work_path"
   ]
  },
  {
   "cell_type": "code",
   "execution_count": null,
   "metadata": {},
   "outputs": [],
   "source": [
    "# 读取DEM数据并转换为NumPy数组\n",
    "dem_raster = \"SY_DEM_5\" # 高程\n",
    "asp_raster = \"SY_ASP_5\" # 坡向\n",
    "slp_raster = \"SY_SL_5\" # 坡度\n",
    "pre_raster = \"pre_2022\" # 降水\n",
    "tmp_raster = \"tmp_2022\" # 气温\n",
    "ndvi_raster = \"ndvi_2022\" # NDVI\n",
    "twi5_raster = \"SY_TWI_5\" # TWI\n",
    "tpi5_raster = \"SY_TPI_3\" # TPI\n",
    "tpi11_raster = \"SY_TPI_11\" # TPI\n",
    "tpi101_raster = \"SY_TPI_101\" # TPI\n",
    "tpi201_raster = \"SY_TPI_201\" # TPI\n"
   ]
  },
  {
   "cell_type": "code",
   "execution_count": 5,
   "metadata": {},
   "outputs": [],
   "source": [
    "import sklearn.externals\n",
    "import joblib\n",
    "import pandas as pd\n",
    "import numpy as np"
   ]
  },
  {
   "cell_type": "code",
   "execution_count": 6,
   "metadata": {},
   "outputs": [],
   "source": [
    "# 读取数据\n",
    "# 读取数据\n",
    "data = pd.read_csv('../data/csv_file/test_data.csv')"
   ]
  },
  {
   "cell_type": "code",
   "execution_count": 7,
   "metadata": {},
   "outputs": [
    {
     "data": {
      "text/plain": [
       "Unnamed: 0    0\n",
       "X             0\n",
       "Y             0\n",
       "pre           0\n",
       "tmp           0\n",
       "asp           0\n",
       "slope         0\n",
       "dem           0\n",
       "ndvi          0\n",
       "twi5          0\n",
       "tpi3          0\n",
       "tpi11         0\n",
       "tpi101        0\n",
       "tpi201        0\n",
       "dl            0\n",
       "ph            0\n",
       "dtype: int64"
      ]
     },
     "execution_count": 7,
     "metadata": {},
     "output_type": "execute_result"
    }
   ],
   "source": [
    "# 删除缺失值\n",
    "# 删除有缺失值的行\n",
    "data.dropna(inplace=True)\n",
    "missing_values = data.isnull().sum()\n",
    "missing_values"
   ]
  },
  {
   "cell_type": "code",
   "execution_count": 8,
   "metadata": {},
   "outputs": [
    {
     "data": {
      "text/plain": [
       "Index(['X', 'Y', 'pre', 'tmp', 'asp', 'slope', 'dem', 'ndvi', 'twi5', 'tpi3',\n",
       "       'tpi11', 'tpi101', 'tpi201', 'dl', 'ph'],\n",
       "      dtype='object')"
      ]
     },
     "execution_count": 8,
     "metadata": {},
     "output_type": "execute_result"
    }
   ],
   "source": [
    "data.drop(['Unnamed: 0'], axis=1, inplace=True)\n",
    "data.columns"
   ]
  },
  {
   "cell_type": "code",
   "execution_count": 9,
   "metadata": {},
   "outputs": [],
   "source": [
    "data.drop(columns=['dl'],inplace=True)"
   ]
  },
  {
   "cell_type": "code",
   "execution_count": 12,
   "metadata": {},
   "outputs": [],
   "source": [
    "# 划分测试数据\n",
    "train_data = data.sample(frac=0.7,random_state=0)   # 80%的数据用于训练\n",
    "test_data = data.drop(train_data.index)                 # 20%的数据用于测试\n",
    "train_data.sample()\n",
    "label = 'ph'"
   ]
  },
  {
   "cell_type": "code",
   "execution_count": null,
   "metadata": {},
   "outputs": [],
   "source": []
  }
 ],
 "metadata": {
  "kernelspec": {
   "display_name": "Python 3",
   "language": "python",
   "name": "python3"
  },
  "language_info": {
   "codemirror_mode": {
    "name": "ipython",
    "version": 3
   },
   "file_extension": ".py",
   "mimetype": "text/x-python",
   "name": "python",
   "nbconvert_exporter": "python",
   "pygments_lexer": "ipython3",
   "version": "3.8.10"
  },
  "orig_nbformat": 4
 },
 "nbformat": 4,
 "nbformat_minor": 2
}
