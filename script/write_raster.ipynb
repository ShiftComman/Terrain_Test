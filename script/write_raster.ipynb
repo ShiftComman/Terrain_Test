{
 "cells": [
  {
   "cell_type": "code",
   "execution_count": 1,
   "metadata": {},
   "outputs": [],
   "source": [
    "import arcpy\n",
    "from arcpy import env\n",
    "import pandas as pd\n",
    "import numpy as np\n",
    "from autogluon.tabular import TabularPredictor\n",
    "from pykrige.ok import OrdinaryKriging\n",
    "from sklearn.metrics import r2_score"
   ]
  },
  {
   "cell_type": "code",
   "execution_count": null,
   "metadata": {},
   "outputs": [],
   "source": [
    "# 读取数据\n",
    "data = pd.read_csv('../data/test_ph.csv')\n",
    "data"
   ]
  },
  {
   "cell_type": "code",
   "execution_count": null,
   "metadata": {},
   "outputs": [],
   "source": [
    "# 删除缺失值\n",
    "data.dropna(inplace=True)"
   ]
  },
  {
   "cell_type": "code",
   "execution_count": null,
   "metadata": {},
   "outputs": [],
   "source": [
    "# 划分测试数据\n",
    "train_data = data.sample(frac=0.7,random_state=0)   # 70%的数据用于训练\n",
    "test_data = data.drop(train_data.index)                 # 30%的数据用于测试\n",
    "train_data.sample()"
   ]
  },
  {
   "cell_type": "code",
   "execution_count": null,
   "metadata": {},
   "outputs": [],
   "source": [
    "# label\n",
    "label = 'ph'\n",
    "train_data[label].describe()"
   ]
  },
  {
   "cell_type": "code",
   "execution_count": 2,
   "metadata": {},
   "outputs": [],
   "source": [
    "# predictor = TabularPredictor(label=label).fit(train_data,time_limit=600)\n",
    "predictor = TabularPredictor.load(\"./AutogluonModels/ag-20230731_030007/\")"
   ]
  },
  {
   "cell_type": "code",
   "execution_count": null,
   "metadata": {},
   "outputs": [],
   "source": [
    "# 测试数据集\n",
    "y_test_pred = predictor.predict(test_data.drop(columns=[label]))"
   ]
  },
  {
   "cell_type": "code",
   "execution_count": null,
   "metadata": {},
   "outputs": [],
   "source": [
    "# 训练数据集\n",
    "y_train_pred = predictor.predict(train_data.drop(columns=[label]))\n",
    "y_train = train_data[label]\n",
    "y_test = test_data[label]"
   ]
  },
  {
   "cell_type": "code",
   "execution_count": null,
   "metadata": {},
   "outputs": [],
   "source": [
    "# 计算残差\n",
    "residuals_test =y_train - y_train_pred\n",
    "residuals_test"
   ]
  },
  {
   "cell_type": "code",
   "execution_count": null,
   "metadata": {},
   "outputs": [],
   "source": [
    "# # 高斯克里金\n",
    "# OK = OrdinaryKriging(train_data['X'], train_data['Y'], residuals_test, variogram_model='gaussian')  # 高斯模型\n",
    "# # 在测试数据上进行预测\n",
    "# kriging_predictions_test, _ = OK.execute('points', test_data['X'], test_data['Y'])\n",
    "# predictions_test = y_test + kriging_predictions_test\n",
    "\n",
    "# 计算R2\n",
    "r2 = r2_score(y_test, y_test_pred)\n",
    "r2"
   ]
  },
  {
   "cell_type": "code",
   "execution_count": 4,
   "metadata": {},
   "outputs": [],
   "source": [
    "# 设置工作环境\n",
    "env.workspace = \"D:\\ArcGISProjects\\syraster\\ph.gdb\""
   ]
  },
  {
   "cell_type": "code",
   "execution_count": 8,
   "metadata": {},
   "outputs": [],
   "source": [
    "dem_flat = arcpy.RasterToNumPyArray(\"SY_DEM_fan\").flatten()\n",
    "twi_flat = arcpy.RasterToNumPyArray(\"SY_TWI_fan\").flatten()\n",
    "tpi_flat = arcpy.RasterToNumPyArray(\"SY_TPI_fan\").flatten()\n",
    "asp_flat = arcpy.RasterToNumPyArray(\"SY_ASP_fan\").flatten()\n",
    "slope_flat = arcpy.RasterToNumPyArray(\"SY_SLOP_fan\").flatten()"
   ]
  },
  {
   "cell_type": "code",
   "execution_count": 7,
   "metadata": {},
   "outputs": [
    {
     "data": {
      "text/plain": [
       "array([0., 0., 0., ..., 0., 0., 0.], dtype=float32)"
      ]
     },
     "execution_count": 7,
     "metadata": {},
     "output_type": "execute_result"
    }
   ],
   "source": [
    "dem_flat"
   ]
  },
  {
   "cell_type": "code",
   "execution_count": null,
   "metadata": {},
   "outputs": [],
   "source": [
    "data.describe()"
   ]
  },
  {
   "cell_type": "code",
   "execution_count": 9,
   "metadata": {},
   "outputs": [],
   "source": [
    "features2 = np.column_stack((asp_flat,slope_flat,dem_flat,twi_flat,tpi_flat))"
   ]
  },
  {
   "cell_type": "code",
   "execution_count": 10,
   "metadata": {},
   "outputs": [
    {
     "data": {
      "text/plain": [
       "5033420"
      ]
     },
     "execution_count": 10,
     "metadata": {},
     "output_type": "execute_result"
    }
   ],
   "source": [
    "features2.size"
   ]
  },
  {
   "cell_type": "code",
   "execution_count": null,
   "metadata": {},
   "outputs": [],
   "source": [
    "test_data.drop(columns=[label])"
   ]
  },
  {
   "cell_type": "code",
   "execution_count": 11,
   "metadata": {},
   "outputs": [
    {
     "data": {
      "text/plain": [
       "5033420"
      ]
     },
     "execution_count": 11,
     "metadata": {},
     "output_type": "execute_result"
    }
   ],
   "source": [
    "xunlian_data = pd.DataFrame(features2,columns=['asp','slope','dem','twi','tpi'])\n",
    "xunlian_data.size"
   ]
  },
  {
   "cell_type": "code",
   "execution_count": 12,
   "metadata": {},
   "outputs": [],
   "source": [
    "result_pred = predictor.predict(xunlian_data)"
   ]
  },
  {
   "cell_type": "code",
   "execution_count": 15,
   "metadata": {},
   "outputs": [
    {
     "data": {
      "text/plain": [
       "array([[0., 0., 0., ..., 0., 0., 0.],\n",
       "       [0., 0., 0., ..., 0., 0., 0.],\n",
       "       [0., 0., 0., ..., 0., 0., 0.],\n",
       "       ...,\n",
       "       [0., 0., 0., ..., 0., 0., 0.],\n",
       "       [0., 0., 0., ..., 0., 0., 0.],\n",
       "       [0., 0., 0., ..., 0., 0., 0.]], dtype=float32)"
      ]
     },
     "execution_count": 15,
     "metadata": {},
     "output_type": "execute_result"
    }
   ],
   "source": [
    "dem_array =arcpy.RasterToNumPyArray(\"SY_DEM_fan\")\n",
    "dem_array"
   ]
  },
  {
   "cell_type": "code",
   "execution_count": 16,
   "metadata": {},
   "outputs": [
    {
     "data": {
      "text/plain": [
       "array([[6.509404, 6.509404, 6.509404, ..., 6.509404, 6.509404, 6.509404],\n",
       "       [6.509404, 6.509404, 6.509404, ..., 6.509404, 6.509404, 6.509404],\n",
       "       [6.509404, 6.509404, 6.509404, ..., 6.509404, 6.509404, 6.509404],\n",
       "       ...,\n",
       "       [6.509404, 6.509404, 6.509404, ..., 6.509404, 6.509404, 6.509404],\n",
       "       [6.509404, 6.509404, 6.509404, ..., 6.509404, 6.509404, 6.509404],\n",
       "       [6.509404, 6.509404, 6.509404, ..., 6.509404, 6.509404, 6.509404]],\n",
       "      dtype=float32)"
      ]
     },
     "execution_count": 16,
     "metadata": {},
     "output_type": "execute_result"
    }
   ],
   "source": [
    "#\n",
    "env.extent = \"SY_DEM_fan\"\n",
    "result_array = result_pred.values\n",
    "raster_array = np.reshape(result_array,dem_array.shape)\n",
    "raster_array"
   ]
  },
  {
   "cell_type": "code",
   "execution_count": 18,
   "metadata": {},
   "outputs": [],
   "source": [
    "result_pred.to_csv(\"./pred.csv\")"
   ]
  },
  {
   "cell_type": "code",
   "execution_count": 17,
   "metadata": {},
   "outputs": [
    {
     "name": "stdout",
     "output_type": "stream",
     "text": [
      "完成\n"
     ]
    }
   ],
   "source": [
    "\n",
    "# 将预测结果输出为栅格数据\n",
    "out_raster = arcpy.NumPyArrayToRaster(\n",
    "    raster_array,\n",
    "    arcpy.Point(arcpy.env.extent.XMin, arcpy.env.extent.YMin),\n",
    "    5,\n",
    "    5,\n",
    ")\n",
    "out_raster.save(\"RESULT\")\n",
    "print(\"完成\")\n"
   ]
  },
  {
   "cell_type": "code",
   "execution_count": 19,
   "metadata": {},
   "outputs": [
    {
     "data": {
      "text/plain": [
       "array([[0., 0., 0., ..., 0., 0., 0.],\n",
       "       [0., 0., 0., ..., 0., 0., 0.],\n",
       "       [0., 0., 0., ..., 0., 0., 0.],\n",
       "       ...,\n",
       "       [0., 0., 0., ..., 0., 0., 0.],\n",
       "       [0., 0., 0., ..., 0., 0., 0.],\n",
       "       [0., 0., 0., ..., 0., 0., 0.]], dtype=float32)"
      ]
     },
     "execution_count": 19,
     "metadata": {},
     "output_type": "execute_result"
    }
   ],
   "source": [
    "# 获取坐标\n",
    "dem_array"
   ]
  },
  {
   "cell_type": "code",
   "execution_count": 28,
   "metadata": {},
   "outputs": [
    {
     "data": {
      "text/plain": [
       "0.0"
      ]
     },
     "execution_count": 28,
     "metadata": {},
     "output_type": "execute_result"
    }
   ],
   "source": [
    "dem_array.shape\n",
    "dem_array[0][0]"
   ]
  },
  {
   "cell_type": "code",
   "execution_count": 26,
   "metadata": {},
   "outputs": [
    {
     "name": "stdout",
     "output_type": "stream",
     "text": [
      "X坐标: 418865.0\n",
      "Y坐标: 3108760.0\n"
     ]
    }
   ],
   "source": [
    "\n",
    "row_index = 0\n",
    "col_index = 0\n",
    "cell_size_x = arcpy.Describe(\"SY_DEM_fan\").meanCellWidth\n",
    "cell_size_y = arcpy.Describe(\"SY_DEM_fan\").meanCellHeight\n",
    "# x_coord = arcpy.Extent(arcpy.env.extent).XMin + (col_index + 0.5) * cell_size_x\n",
    "# y_coord = arcpy.Extent(arcpy.env.extent).YMax - (row_index + 0.5) * cell_size_y\n",
    "x_coord = arcpy.env.extent.XMin + (col_index + 0.5) * cell_size_x\n",
    "y_coord = arcpy.env.extent.YMax - (row_index + 0.5) * cell_size_y\n",
    "\n",
    "print(\"X坐标:\", x_coord)\n",
    "print(\"Y坐标:\", y_coord)"
   ]
  }
 ],
 "metadata": {
  "kernelspec": {
   "display_name": "Python 3",
   "language": "python",
   "name": "python3"
  },
  "language_info": {
   "codemirror_mode": {
    "name": "ipython",
    "version": 3
   },
   "file_extension": ".py",
   "mimetype": "text/x-python",
   "name": "python",
   "nbconvert_exporter": "python",
   "pygments_lexer": "ipython3",
   "version": "3.9.11"
  },
  "orig_nbformat": 4
 },
 "nbformat": 4,
 "nbformat_minor": 2
}
