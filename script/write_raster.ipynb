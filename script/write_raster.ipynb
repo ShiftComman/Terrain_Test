{
 "cells": [
  {
   "cell_type": "code",
   "execution_count": 1,
   "metadata": {},
   "outputs": [],
   "source": [
    "import arcpy\n",
    "from arcpy import env\n",
    "import pandas as pd\n",
    "import numpy as np\n",
    "from autogluon.tabular import TabularPredictor\n",
    "from pykrige.ok import OrdinaryKriging\n",
    "from sklearn.metrics import r2_score"
   ]
  },
  {
   "cell_type": "code",
   "execution_count": 51,
   "metadata": {},
   "outputs": [],
   "source": [
    "# 数组整形\n",
    "def resize_arrays(A, B, fill_value=0):\n",
    "    \"\"\"调整数组形状一致\"\"\"\n",
    "    new_shape = (max(A.shape[0], B.shape[0]), max(A.shape[1], B.shape[1]))\n",
    "\n",
    "    if A.shape != new_shape:\n",
    "        if A.shape[0] < new_shape[0]:\n",
    "            padding_rows = new_shape[0] - A.shape[0]\n",
    "            padding = np.full((padding_rows, A.shape[1]), fill_value)\n",
    "            A = np.vstack((A, padding))\n",
    "        elif A.shape[0] > new_shape[0]:\n",
    "            A = A[:new_shape[0], :]\n",
    "\n",
    "        if A.shape[1] < new_shape[1]:\n",
    "            pad_width = ((0, 0), (0, new_shape[1] - A.shape[1]))\n",
    "            A = np.pad(A, pad_width, mode='constant', constant_values=fill_value)\n",
    "        elif A.shape[1] > new_shape[1]:\n",
    "            A = A[:, :new_shape[1]]\n",
    "    \n",
    "    if B.shape != new_shape:\n",
    "        if B.shape[0] < new_shape[0]:\n",
    "            padding_rows = new_shape[0] - B.shape[0]\n",
    "            padding = np.full((padding_rows, B.shape[1]), fill_value)\n",
    "            B = np.vstack((B, padding))\n",
    "        elif B.shape[0] > new_shape[0]:\n",
    "            B = B[:new_shape[0], :]\n",
    "\n",
    "        if B.shape[1] < new_shape[1]:\n",
    "            pad_width = ((0, 0), (0, new_shape[1] - B.shape[1]))\n",
    "            B = np.pad(B, pad_width, mode='constant', constant_values=fill_value)\n",
    "        elif B.shape[1] > new_shape[1]:\n",
    "            B = B[:, :new_shape[1]]\n",
    "    \n",
    "    return A, B\n"
   ]
  },
  {
   "cell_type": "code",
   "execution_count": null,
   "metadata": {},
   "outputs": [],
   "source": [
    "# 读取数据\n",
    "data = pd.read_csv('../data/test_ph.csv')\n",
    "data"
   ]
  },
  {
   "cell_type": "code",
   "execution_count": null,
   "metadata": {},
   "outputs": [],
   "source": [
    "# 删除缺失值\n",
    "data.dropna(inplace=True)"
   ]
  },
  {
   "cell_type": "code",
   "execution_count": null,
   "metadata": {},
   "outputs": [],
   "source": [
    "# 划分测试数据\n",
    "train_data = data.sample(frac=0.7,random_state=0)   # 70%的数据用于训练\n",
    "test_data = data.drop(train_data.index)                 # 30%的数据用于测试\n",
    "train_data.sample()"
   ]
  },
  {
   "cell_type": "code",
   "execution_count": null,
   "metadata": {},
   "outputs": [],
   "source": [
    "# label\n",
    "label = 'ph'\n",
    "train_data[label].describe()"
   ]
  },
  {
   "cell_type": "code",
   "execution_count": 2,
   "metadata": {},
   "outputs": [],
   "source": [
    "# predictor = TabularPredictor(label=label).fit(train_data,time_limit=600)\n",
    "predictor = TabularPredictor.load(\"./AutogluonModels/ag-20230731_030007/\")"
   ]
  },
  {
   "cell_type": "code",
   "execution_count": null,
   "metadata": {},
   "outputs": [],
   "source": [
    "# 测试数据集\n",
    "y_test_pred = predictor.predict(test_data.drop(columns=[label]))"
   ]
  },
  {
   "cell_type": "code",
   "execution_count": null,
   "metadata": {},
   "outputs": [],
   "source": [
    "# 训练数据集\n",
    "y_train_pred = predictor.predict(train_data.drop(columns=[label]))\n",
    "y_train = train_data[label]\n",
    "y_test = test_data[label]"
   ]
  },
  {
   "cell_type": "code",
   "execution_count": null,
   "metadata": {},
   "outputs": [],
   "source": [
    "# 计算残差\n",
    "residuals_test =y_train - y_train_pred\n",
    "residuals_test"
   ]
  },
  {
   "cell_type": "code",
   "execution_count": null,
   "metadata": {},
   "outputs": [],
   "source": [
    "# # 高斯克里金\n",
    "# OK = OrdinaryKriging(train_data['X'], train_data['Y'], residuals_test, variogram_model='gaussian')  # 高斯模型\n",
    "# # 在测试数据上进行预测\n",
    "# kriging_predictions_test, _ = OK.execute('points', test_data['X'], test_data['Y'])\n",
    "# predictions_test = y_test + kriging_predictions_test\n",
    "\n",
    "# 计算R2\n",
    "r2 = r2_score(y_test, y_test_pred)\n",
    "r2"
   ]
  },
  {
   "cell_type": "code",
   "execution_count": 52,
   "metadata": {},
   "outputs": [
    {
     "data": {
      "text/plain": [
       "['SY_TWI_5',\n",
       " 'SY_TPI_201',\n",
       " 'SY_TPI_101',\n",
       " 'SY_TPI_11',\n",
       " 'SY_TPI_3',\n",
       " 'SY_TMP_5',\n",
       " 'SY_SLOP_5',\n",
       " 'SY_PRE_5',\n",
       " 'SY_NDVI_5',\n",
       " 'SY_DZ_5',\n",
       " 'SY_DEM_5',\n",
       " 'SY_CUR_5',\n",
       " 'SY_ASP_5',\n",
       " 'plan_curve',\n",
       " 'profile_curve',\n",
       " 'SY_DLTB_RASTER']"
      ]
     },
     "execution_count": 52,
     "metadata": {},
     "output_type": "execute_result"
    }
   ],
   "source": [
    "# 设置工作环境\n",
    "env.workspace = r\"D:\\ArcgisProject\\result.gdb\"\n",
    "arcpy.ListRasters()"
   ]
  },
  {
   "cell_type": "code",
   "execution_count": 53,
   "metadata": {},
   "outputs": [
    {
     "name": "stdout",
     "output_type": "stream",
     "text": [
      "SY_TWI_5 (14884, 11094)\n",
      "SY_TPI_201 (14884, 11094)\n",
      "SY_TPI_101 (14884, 11094)\n",
      "SY_TPI_11 (14884, 11094)\n",
      "SY_TPI_3 (14884, 11094)\n",
      "SY_TMP_5 (14884, 11094)\n",
      "SY_SLOP_5 (14884, 11094)\n",
      "SY_PRE_5 (14884, 11094)\n",
      "SY_NDVI_5 (14884, 11094)\n",
      "SY_DZ_5 (14884, 10750)\n",
      "SY_DEM_5 (14884, 11094)\n",
      "SY_CUR_5 (14884, 11094)\n",
      "SY_ASP_5 (14884, 11094)\n",
      "plan_curve (14884, 11094)\n",
      "profile_curve (14884, 11094)\n",
      "SY_DLTB_RASTER (14815, 11001)\n"
     ]
    }
   ],
   "source": [
    "for one_raster in arcpy.ListRasters():\n",
    "    print(one_raster,arcpy.RasterToNumPyArray(one_raster).shape)"
   ]
  },
  {
   "cell_type": "code",
   "execution_count": 54,
   "metadata": {},
   "outputs": [],
   "source": [
    "dem_array = arcpy.RasterToNumPyArray(\"SY_DEM_5\")\n",
    "dl_array = arcpy.RasterToNumPyArray(\"SY_DLTB_RASTER\")\n",
    "dz_array = arcpy.RasterToNumPyArray(\"SY_DZ_5\")"
   ]
  },
  {
   "cell_type": "code",
   "execution_count": 55,
   "metadata": {},
   "outputs": [
    {
     "data": {
      "text/plain": [
       "((14884, 11094), (14884, 11094))"
      ]
     },
     "execution_count": 55,
     "metadata": {},
     "output_type": "execute_result"
    }
   ],
   "source": [
    "dl_array = resize_arrays(dem_array,dl_array,999)[1]\n",
    "dz_array = resize_arrays(dem_array,dz_array,8)[1]\n",
    "dl_array.shape,dz_array.shape"
   ]
  },
  {
   "cell_type": "code",
   "execution_count": 59,
   "metadata": {},
   "outputs": [],
   "source": [
    "twi5_flat = arcpy.RasterToNumPyArray(\"SY_TWI_5\").flatten()\n",
    "tpi201_flat = arcpy.RasterToNumPyArray(\"SY_TPI_201\").flatten()\n",
    "tpi101_flat = arcpy.RasterToNumPyArray(\"SY_TPI_101\").flatten()\n",
    "tpi11_flat = arcpy.RasterToNumPyArray(\"SY_TPI_11\").flatten()\n",
    "tmp5_flat = arcpy.RasterToNumPyArray(\"SY_TMP_5\").flatten()\n",
    "slope_flat = arcpy.RasterToNumPyArray(\"SY_SLOP_5\").flatten()\n",
    "pre_flat = arcpy.RasterToNumPyArray(\"SY_PRE_5\").flatten()\n",
    "ndvi_flat = arcpy.RasterToNumPyArray(\"SY_NDVI_5\").flatten()\n",
    "dz_flat = dz_array.flatten()\n",
    "dem_flat = arcpy.RasterToNumPyArray(\"SY_DEM_5\").flatten()\n",
    "cur_flat = arcpy.RasterToNumPyArray(\"SY_CUR_5\").flatten()\n",
    "asp_flat = arcpy.RasterToNumPyArray(\"SY_ASP_5\").flatten()\n",
    "plcur_flat = arcpy.RasterToNumPyArray(\"plan_curve\").flatten()\n",
    "pocur_flat = arcpy.RasterToNumPyArray(\"profile_curve\").flatten()\n",
    "dl_flat = dl_array.flatten()"
   ]
  },
  {
   "cell_type": "code",
   "execution_count": 61,
   "metadata": {},
   "outputs": [
    {
     "name": "stdout",
     "output_type": "stream",
     "text": [
      "397387.5 3153427.5 5.0 5.0\n"
     ]
    }
   ],
   "source": [
    "# 构造经纬度信息\n",
    "desc = arcpy.Describe(\"SY_DEM_5\")\n",
    "origin_x = desc.extent.XMin\n",
    "origin_y = desc.extent.YMax\n",
    "pixel_width = desc.meanCellWidth\n",
    "pixel_height = desc.meanCellHeight\n",
    "print(origin_x,origin_y,pixel_width,pixel_height)"
   ]
  },
  {
   "cell_type": "code",
   "execution_count": 64,
   "metadata": {},
   "outputs": [
    {
     "name": "stdout",
     "output_type": "stream",
     "text": [
      "(14884, 11094) 397392.5 452852.5\n"
     ]
    }
   ],
   "source": [
    "# 经度\n",
    "array_x = np.zeros(dem_array.shape, dtype=np.float32)\n",
    "array_x[:, 0] = 397387.5\n",
    "for i in range(1, dem_array.shape[1]):\n",
    "    array_x[:, i] = array_x[:, i-1] + 5\n",
    "print(array_x.shape,array_x[0,1],array_x[0,-1])"
   ]
  },
  {
   "cell_type": "code",
   "execution_count": 63,
   "metadata": {},
   "outputs": [
    {
     "name": "stdout",
     "output_type": "stream",
     "text": [
      "(14884, 11094) 3153427.5 3079012.5\n"
     ]
    }
   ],
   "source": [
    "# 纬度\n",
    "array_y = np.zeros(dem_array.shape,dtype=np.float32)\n",
    "array_y[0] = 3153427.5\n",
    "for i in range(1, dem_array.shape[0]):\n",
    "    array_y[i] = array_y[i-1] - 5\n",
    "print(array_y.shape,array_y[0][0],array_y[-1][0])"
   ]
  },
  {
   "cell_type": "code",
   "execution_count": 65,
   "metadata": {},
   "outputs": [],
   "source": [
    "array_x_flat = array_x.flatten()\n",
    "array_y_flat = array_y.flatten()"
   ]
  },
  {
   "cell_type": "code",
   "execution_count": 66,
   "metadata": {},
   "outputs": [],
   "source": [
    "features2 = np.column_stack((array_x_flat,array_y_flat,twi5_flat,tpi201_flat,tpi101_flat,tpi11_flat,tmp5_flat,slope_flat,pre_flat,ndvi_flat,dz_flat,dem_flat,cur_flat,asp_flat,plcur_flat,pocur_flat,dl_flat))"
   ]
  },
  {
   "cell_type": "code",
   "execution_count": 67,
   "metadata": {},
   "outputs": [
    {
     "data": {
      "text/plain": [
       "2807092632"
      ]
     },
     "execution_count": 67,
     "metadata": {},
     "output_type": "execute_result"
    }
   ],
   "source": [
    "features2.size"
   ]
  },
  {
   "cell_type": "code",
   "execution_count": 68,
   "metadata": {},
   "outputs": [],
   "source": [
    "xulian_data = pd.DataFrame(features2,columns=['X','Y','twi5','tpi201','tpi101','tpi11','tmp','slope','pre','ndvi','dz','dem','cur','asp','plcur','pocur','dl'])"
   ]
  },
  {
   "cell_type": "code",
   "execution_count": null,
   "metadata": {},
   "outputs": [],
   "source": [
    "xulian_data.to_csv('bigdata.csv')"
   ]
  },
  {
   "cell_type": "code",
   "execution_count": null,
   "metadata": {},
   "outputs": [],
   "source": [
    "test_data.drop(columns=[label])"
   ]
  },
  {
   "cell_type": "code",
   "execution_count": 11,
   "metadata": {},
   "outputs": [
    {
     "data": {
      "text/plain": [
       "5033420"
      ]
     },
     "execution_count": 11,
     "metadata": {},
     "output_type": "execute_result"
    }
   ],
   "source": [
    "xunlian_data = pd.DataFrame(features2,columns=['asp','slope','dem','twi','tpi'])\n",
    "xunlian_data.size"
   ]
  },
  {
   "cell_type": "code",
   "execution_count": 12,
   "metadata": {},
   "outputs": [],
   "source": [
    "result_pred = predictor.predict(xunlian_data)"
   ]
  },
  {
   "cell_type": "code",
   "execution_count": 15,
   "metadata": {},
   "outputs": [
    {
     "data": {
      "text/plain": [
       "array([[0., 0., 0., ..., 0., 0., 0.],\n",
       "       [0., 0., 0., ..., 0., 0., 0.],\n",
       "       [0., 0., 0., ..., 0., 0., 0.],\n",
       "       ...,\n",
       "       [0., 0., 0., ..., 0., 0., 0.],\n",
       "       [0., 0., 0., ..., 0., 0., 0.],\n",
       "       [0., 0., 0., ..., 0., 0., 0.]], dtype=float32)"
      ]
     },
     "execution_count": 15,
     "metadata": {},
     "output_type": "execute_result"
    }
   ],
   "source": [
    "dem_array =arcpy.RasterToNumPyArray(\"SY_DEM_fan\")\n",
    "dem_array"
   ]
  },
  {
   "cell_type": "code",
   "execution_count": 16,
   "metadata": {},
   "outputs": [
    {
     "data": {
      "text/plain": [
       "array([[6.509404, 6.509404, 6.509404, ..., 6.509404, 6.509404, 6.509404],\n",
       "       [6.509404, 6.509404, 6.509404, ..., 6.509404, 6.509404, 6.509404],\n",
       "       [6.509404, 6.509404, 6.509404, ..., 6.509404, 6.509404, 6.509404],\n",
       "       ...,\n",
       "       [6.509404, 6.509404, 6.509404, ..., 6.509404, 6.509404, 6.509404],\n",
       "       [6.509404, 6.509404, 6.509404, ..., 6.509404, 6.509404, 6.509404],\n",
       "       [6.509404, 6.509404, 6.509404, ..., 6.509404, 6.509404, 6.509404]],\n",
       "      dtype=float32)"
      ]
     },
     "execution_count": 16,
     "metadata": {},
     "output_type": "execute_result"
    }
   ],
   "source": [
    "#\n",
    "env.extent = \"SY_DEM_fan\"\n",
    "result_array = result_pred.values\n",
    "raster_array = np.reshape(result_array,dem_array.shape)\n",
    "raster_array"
   ]
  },
  {
   "cell_type": "code",
   "execution_count": 18,
   "metadata": {},
   "outputs": [],
   "source": [
    "result_pred.to_csv(\"./pred.csv\")"
   ]
  },
  {
   "cell_type": "code",
   "execution_count": 17,
   "metadata": {},
   "outputs": [
    {
     "name": "stdout",
     "output_type": "stream",
     "text": [
      "完成\n"
     ]
    }
   ],
   "source": [
    "\n",
    "# 将预测结果输出为栅格数据\n",
    "out_raster = arcpy.NumPyArrayToRaster(\n",
    "    raster_array,\n",
    "    arcpy.Point(arcpy.env.extent.XMin, arcpy.env.extent.YMin),\n",
    "    5,\n",
    "    5,\n",
    ")\n",
    "out_raster.save(\"RESULT\")\n",
    "print(\"完成\")\n"
   ]
  },
  {
   "cell_type": "code",
   "execution_count": 19,
   "metadata": {},
   "outputs": [
    {
     "data": {
      "text/plain": [
       "array([[0., 0., 0., ..., 0., 0., 0.],\n",
       "       [0., 0., 0., ..., 0., 0., 0.],\n",
       "       [0., 0., 0., ..., 0., 0., 0.],\n",
       "       ...,\n",
       "       [0., 0., 0., ..., 0., 0., 0.],\n",
       "       [0., 0., 0., ..., 0., 0., 0.],\n",
       "       [0., 0., 0., ..., 0., 0., 0.]], dtype=float32)"
      ]
     },
     "execution_count": 19,
     "metadata": {},
     "output_type": "execute_result"
    }
   ],
   "source": [
    "# 获取坐标\n",
    "dem_array"
   ]
  },
  {
   "cell_type": "code",
   "execution_count": 28,
   "metadata": {},
   "outputs": [
    {
     "data": {
      "text/plain": [
       "0.0"
      ]
     },
     "execution_count": 28,
     "metadata": {},
     "output_type": "execute_result"
    }
   ],
   "source": [
    "dem_array.shape\n",
    "dem_array[0][0]"
   ]
  },
  {
   "cell_type": "code",
   "execution_count": 26,
   "metadata": {},
   "outputs": [
    {
     "name": "stdout",
     "output_type": "stream",
     "text": [
      "X坐标: 418865.0\n",
      "Y坐标: 3108760.0\n"
     ]
    }
   ],
   "source": [
    "\n",
    "row_index = 0\n",
    "col_index = 0\n",
    "cell_size_x = arcpy.Describe(\"SY_DEM_fan\").meanCellWidth\n",
    "cell_size_y = arcpy.Describe(\"SY_DEM_fan\").meanCellHeight\n",
    "# x_coord = arcpy.Extent(arcpy.env.extent).XMin + (col_index + 0.5) * cell_size_x\n",
    "# y_coord = arcpy.Extent(arcpy.env.extent).YMax - (row_index + 0.5) * cell_size_y\n",
    "x_coord = arcpy.env.extent.XMin + (col_index + 0.5) * cell_size_x\n",
    "y_coord = arcpy.env.extent.YMax - (row_index + 0.5) * cell_size_y\n",
    "\n",
    "print(\"X坐标:\", x_coord)\n",
    "print(\"Y坐标:\", y_coord)"
   ]
  },
  {
   "cell_type": "code",
   "execution_count": 44,
   "metadata": {},
   "outputs": [],
   "source": [
    "A = np.zeros((2,2))\n",
    "B = np.zeros((5,3))"
   ]
  },
  {
   "cell_type": "code",
   "execution_count": 45,
   "metadata": {},
   "outputs": [],
   "source": []
  },
  {
   "cell_type": "code",
   "execution_count": 46,
   "metadata": {},
   "outputs": [],
   "source": [
    "a, b = resize_arrays(A,B,888)"
   ]
  },
  {
   "cell_type": "code",
   "execution_count": 48,
   "metadata": {},
   "outputs": [
    {
     "data": {
      "text/plain": [
       "array([[0., 0., 0.],\n",
       "       [0., 0., 0.],\n",
       "       [0., 0., 0.],\n",
       "       [0., 0., 0.],\n",
       "       [0., 0., 0.]])"
      ]
     },
     "execution_count": 48,
     "metadata": {},
     "output_type": "execute_result"
    }
   ],
   "source": [
    "b"
   ]
  },
  {
   "cell_type": "code",
   "execution_count": 49,
   "metadata": {},
   "outputs": [
    {
     "data": {
      "text/plain": [
       "array([[  0.,   0., 888.],\n",
       "       [  0.,   0., 888.],\n",
       "       [888., 888., 888.],\n",
       "       [888., 888., 888.],\n",
       "       [888., 888., 888.]])"
      ]
     },
     "execution_count": 49,
     "metadata": {},
     "output_type": "execute_result"
    }
   ],
   "source": [
    "a"
   ]
  },
  {
   "cell_type": "code",
   "execution_count": 25,
   "metadata": {},
   "outputs": [],
   "source": [
    "new_shape = (A.shape[0], A.shape[1])\n",
    "\n",
    "if B.shape != new_shape:\n",
    "    if B.shape[0] < new_shape[0]:\n",
    "        padding_rows = new_shape[0] - B.shape[0]\n",
    "        padding = np.zeros((padding_rows, B.shape[1]))\n",
    "        B = np.vstack((B, padding))\n",
    "    elif B.shape[0] > new_shape[0]:\n",
    "        B = B[:new_shape[0], :]\n",
    "\n",
    "    if B.shape[1] < new_shape[1]:\n",
    "        pad_width = ((0, 0), (0, new_shape[1] - B.shape[1]))\n",
    "        B = np.pad(B, pad_width, mode='constant', constant_values=0)\n",
    "    elif B.shape[1] > new_shape[1]:\n",
    "        B = B[:, :new_shape[1]]\n"
   ]
  }
 ],
 "metadata": {
  "kernelspec": {
   "display_name": "Python 3",
   "language": "python",
   "name": "python3"
  },
  "language_info": {
   "codemirror_mode": {
    "name": "ipython",
    "version": 3
   },
   "file_extension": ".py",
   "mimetype": "text/x-python",
   "name": "python",
   "nbconvert_exporter": "python",
   "pygments_lexer": "ipython3",
   "version": "3.9.11"
  },
  "orig_nbformat": 4
 },
 "nbformat": 4,
 "nbformat_minor": 2
}
