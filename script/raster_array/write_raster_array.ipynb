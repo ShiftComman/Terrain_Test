{
 "cells": [
  {
   "cell_type": "code",
   "execution_count": 1,
   "metadata": {},
   "outputs": [],
   "source": [
    "import arcpy\n",
    "from arcpy.sa import *\n",
    "import mysql.connector\n",
    "from arcpy import env\n",
    "import numpy as np\n",
    "import pickle\n",
    "from dotenv import load_dotenv\n",
    "import os\n",
    "import pandas as pd\n",
    "from tqdm.notebook import tqdm\n",
    "from sqlalchemy import create_engine"
   ]
  },
  {
   "cell_type": "code",
   "execution_count": 2,
   "metadata": {},
   "outputs": [],
   "source": [
    "# Load environment variables\n",
    "load_dotenv()\n",
    "HOST = os.environ.get('HOST')\n",
    "USER= os.environ.get('USER_NAME')\n",
    "PASSWD = os.environ.get('PASSWD')\n",
    "PORT = os.environ.get('PORT')\n",
    "DATABASE = 'dy_database'"
   ]
  },
  {
   "cell_type": "code",
   "execution_count": 2,
   "metadata": {},
   "outputs": [],
   "source": [
    "# raster list\n",
    "raster_path = r'D:\\ArcGISProjects\\workspace\\shbyq\\features_data_dy.gdb'\n",
    "env.workspace = raster_path\n",
    "raster_list = arcpy.ListRasters()"
   ]
  },
  {
   "cell_type": "code",
   "execution_count": 3,
   "metadata": {},
   "outputs": [],
   "source": [
    "# 将栅格数据并转换为NumPy数组并序列化为二进制格式\n",
    "def read_numpy_array(in_raster):\n",
    "    array = arcpy.RasterToNumPyArray(in_raster, nodata_to_value=0)\n",
    "    data_dict = {}\n",
    "    for one_row in range(array.shape[0]):\n",
    "        data_dict[one_row]=pickle.dumps(array[one_row])\n",
    "    return data_dict\n",
    "\n",
    "# 将序列化二进制格式栅格转换为数组\n",
    "def bin_to_array(in_binary):\n",
    "    array = pickle.loads(in_binary)\n",
    "    return array\n",
    "\n",
    "# 添加新列\n",
    "\n",
    "def add_columns(cursor,conn,table_name,col_name,new_col_type):\n",
    "    # 检查该列是否存在\n",
    "    cursor.execute(f\"SHOW COLUMNS FROM {table_name} LIKE '{col_name}'\")\n",
    "    result = cursor.fetchone()\n",
    "    # 如果列不存在，则添加列\n",
    "    if not result:\n",
    "        cursor.execute(f\"ALTER TABLE {table_name} ADD {col_name} {new_col_type}\")\n",
    "        conn.commit()\n",
    "        print(f\"Column '{col_name}' added to '{table_name}'.\")\n",
    "    else:\n",
    "        print(f\"Column '{col_name}' already exists in '{table_name}'.\")\n",
    "# 数组重塑\n",
    "def represhape(arr, new_shape_cols):\n",
    "    # 按照给定的行数，将数组重塑为二维数组\n",
    "    size = arr.size\n",
    "    # 计算列数\n",
    "    new_shape_rows = math.ceil(size / new_shape_cols)\n",
    "    # 计算新size\n",
    "    new_size = new_shape_rows * new_shape_cols\n",
    "    # 将旧数组的值拷贝到新数组中\n",
    "    new_arr = np.full(new_size,None)\n",
    "    new_arr[:size] = arr\n",
    "    return new_arr.reshape(new_shape_rows, new_shape_cols)\n",
    "# 读取npy文件\n",
    "def read_npy_file(file_path):\n",
    "    return np.load(file_path)\n",
    "\n",
    "# 写入npy文件\n",
    "def write_npy_file(file_path, arr):\n",
    "    np.save(file_path, arr)\n",
    "    return True\n"
   ]
  },
  {
   "cell_type": "code",
   "execution_count": 5,
   "metadata": {},
   "outputs": [],
   "source": [
    "# 连接到MySQL数据库\n",
    "# conn = mysql.connector.connect(host=HOST, user=USER, password=PASSWD, database=DATABASE)\n",
    "engine = create_engine('mysql+mysqlconnector://{0}:{1}@{2}/{3}'.\n",
    "                       format(USER, PASSWD, HOST, DATABASE))"
   ]
  },
  {
   "cell_type": "code",
   "execution_count": null,
   "metadata": {},
   "outputs": [],
   "source": [
    "\n",
    "for one_raster in tqdm(raster_list):\n",
    "    print(one_raster)\n",
    "    # 创建一个示例 DataFrame\n",
    "    table_name = one_raster.lower()\n",
    "    data = arcpy.RasterToNumPyArray(one_raster).flatten()\n",
    "    data_array = represhape(data,344)\n",
    "    df = pd.DataFrame(data_array)\n",
    "    chunk_size = 10\n",
    "    # 将DataFrame中的数据写入到MySQL数据库中\n",
    "    try:\n",
    "        print(\"Writing data to MySQL database...\")\n",
    "        df.to_sql(name=table_name, con=engine, if_exists='replace', index=False, chunksize=chunk_size)\n",
    "        print(\"Writing data to MySQL database...OK\")\n",
    "    except Exception as e:\n",
    "        print(f\"Error occurred when writing to table {table_name}: {e}\")\n"
   ]
  },
  {
   "cell_type": "code",
   "execution_count": 4,
   "metadata": {},
   "outputs": [
    {
     "data": {
      "application/vnd.jupyter.widget-view+json": {
       "model_id": "7e051969225744f5bfc838e4573b6207",
       "version_major": 2,
       "version_minor": 0
      },
      "text/plain": [
       "  0%|          | 0/38 [00:00<?, ?it/s]"
      ]
     },
     "metadata": {},
     "output_type": "display_data"
    }
   ],
   "source": [
    "# 转存为npy文件\n",
    "save_path = r\"F:\\ArcgisData\\npy_path\\dy\"\n",
    "for one_raster in tqdm(raster_list):\n",
    "    data = arcpy.RasterToNumPyArray(one_raster, nodata_to_value=0)\n",
    "    np.save(os.path.join(save_path, f\"{one_raster.lower()}.npy\"), data)\n"
   ]
  }
 ],
 "metadata": {
  "kernelspec": {
   "display_name": "Python 3",
   "language": "python",
   "name": "python3"
  },
  "language_info": {
   "codemirror_mode": {
    "name": "ipython",
    "version": 3
   },
   "file_extension": ".py",
   "mimetype": "text/x-python",
   "name": "python",
   "nbconvert_exporter": "python",
   "pygments_lexer": "ipython3",
   "version": "3.9.11"
  }
 },
 "nbformat": 4,
 "nbformat_minor": 2
}
