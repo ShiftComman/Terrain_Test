{
 "cells": [
  {
   "cell_type": "code",
   "execution_count": 29,
   "metadata": {},
   "outputs": [],
   "source": [
    "import os\n",
    "import shutil\n",
    "from sklearn.metrics import accuracy_score,silhouette_score\n",
    "from sklearn.cluster import KMeans\n",
    "import arcpy\n",
    "import pandas as pd\n",
    "from sklearn.preprocessing import StandardScaler\n",
    "from arcpy import env\n",
    "import numpy as np\n",
    "from sklearn.cluster import BisectingKMeans,MiniBatchKMeans,kmeans_plusplus"
   ]
  },
  {
   "cell_type": "code",
   "execution_count": 7,
   "metadata": {},
   "outputs": [
    {
     "data": {
      "text/plain": [
       "['DEM.tif', 'PRE.tif', 'TMPMAX.tif', 'TMPMIN.tif']"
      ]
     },
     "execution_count": 7,
     "metadata": {},
     "output_type": "execute_result"
    }
   ],
   "source": [
    "env.workspace = r'D:\\GEEDOWNLOAD\\allfeatures'\n",
    "raster_list = arcpy.ListRasters()"
   ]
  },
  {
   "cell_type": "code",
   "execution_count": 8,
   "metadata": {},
   "outputs": [],
   "source": [
    "# 读取各个特征的array\n",
    "dem_array = arcpy.RasterToNumPyArray('DEM.tif')\n",
    "pre_array = arcpy.RasterToNumPyArray('PRE.tif')\n",
    "tmpmax_array = arcpy.RasterToNumPyArray('TMPMAX.tif')\n",
    "tmpmin_array = arcpy.RasterToNumPyArray('TMPMIN.tif')"
   ]
  },
  {
   "cell_type": "code",
   "execution_count": 9,
   "metadata": {},
   "outputs": [
    {
     "name": "stdout",
     "output_type": "stream",
     "text": [
      "(17082, 22104) (17082, 22104) (17082, 22104) (17082, 22104)\n"
     ]
    }
   ],
   "source": [
    "print(dem_array.shape,pre_array.shape,tmpmax_array.shape,tmpmin_array.shape)"
   ]
  },
  {
   "cell_type": "code",
   "execution_count": 11,
   "metadata": {},
   "outputs": [],
   "source": [
    "shape1 = dem_array.shape\n",
    "\n",
    "# 随机生成10000个索引\n",
    "idx = np.unravel_index(np.random.choice(np.prod(shape1), 10000, replace=False), shape1)"
   ]
  },
  {
   "cell_type": "code",
   "execution_count": 16,
   "metadata": {},
   "outputs": [],
   "source": [
    "dem_values = dem_array[idx]\n",
    "pre_values = pre_array[idx]\n",
    "tmpmax_values = tmpmax_array[idx]\n",
    "tmpmin_values = tmpmin_array[idx]"
   ]
  },
  {
   "cell_type": "code",
   "execution_count": 17,
   "metadata": {},
   "outputs": [],
   "source": [
    "df = pd.DataFrame({'dem':dem_values,'pre':pre_values,'tmpmax':tmpmax_values,'tmpmin':tmpmin_values})"
   ]
  },
  {
   "cell_type": "code",
   "execution_count": 27,
   "metadata": {},
   "outputs": [],
   "source": [
    "data = df\n",
    "scaler = StandardScaler()\n",
    "data_scaled = scaler.fit_transform(data)\n",
    "# 存储每个k值的WSS\n",
    "wss = []\n",
    "\n",
    "# 尝试的k的范围\n",
    "k_range = range(2, 21)  # 尝试从1到10的k值"
   ]
  },
  {
   "cell_type": "code",
   "execution_count": 30,
   "metadata": {},
   "outputs": [],
   "source": [
    "\n",
    "for k in k_range:\n",
    "    kmeans = KMeans(n_clusters=k, random_state=42)\n",
    "    kmeans.fit(data_scaled)\n",
    "    wss.append(kmeans.inertia_)"
   ]
  },
  {
   "cell_type": "code",
   "execution_count": 32,
   "metadata": {},
   "outputs": [],
   "source": [
    "kmeans = KMeans(n_clusters=4, random_state=42)\n",
    "clusters = kmeans.fit_predict(data_scaled)"
   ]
  },
  {
   "cell_type": "code",
   "execution_count": 34,
   "metadata": {},
   "outputs": [],
   "source": [
    "df['label'] = list(clusters)"
   ]
  },
  {
   "cell_type": "code",
   "execution_count": 35,
   "metadata": {},
   "outputs": [
    {
     "data": {
      "text/html": [
       "<div>\n",
       "<style scoped>\n",
       "    .dataframe tbody tr th:only-of-type {\n",
       "        vertical-align: middle;\n",
       "    }\n",
       "\n",
       "    .dataframe tbody tr th {\n",
       "        vertical-align: top;\n",
       "    }\n",
       "\n",
       "    .dataframe thead th {\n",
       "        text-align: right;\n",
       "    }\n",
       "</style>\n",
       "<table border=\"1\" class=\"dataframe\">\n",
       "  <thead>\n",
       "    <tr style=\"text-align: right;\">\n",
       "      <th></th>\n",
       "      <th>dem</th>\n",
       "      <th>pre</th>\n",
       "      <th>tmpmax</th>\n",
       "      <th>tmpmin</th>\n",
       "      <th>label</th>\n",
       "    </tr>\n",
       "  </thead>\n",
       "  <tbody>\n",
       "    <tr>\n",
       "      <th>0</th>\n",
       "      <td>974</td>\n",
       "      <td>108</td>\n",
       "      <td>226</td>\n",
       "      <td>141</td>\n",
       "      <td>2</td>\n",
       "    </tr>\n",
       "    <tr>\n",
       "      <th>1</th>\n",
       "      <td>463</td>\n",
       "      <td>93</td>\n",
       "      <td>213</td>\n",
       "      <td>141</td>\n",
       "      <td>2</td>\n",
       "    </tr>\n",
       "    <tr>\n",
       "      <th>2</th>\n",
       "      <td>922</td>\n",
       "      <td>99</td>\n",
       "      <td>193</td>\n",
       "      <td>114</td>\n",
       "      <td>1</td>\n",
       "    </tr>\n",
       "    <tr>\n",
       "      <th>3</th>\n",
       "      <td>1821</td>\n",
       "      <td>85</td>\n",
       "      <td>169</td>\n",
       "      <td>86</td>\n",
       "      <td>3</td>\n",
       "    </tr>\n",
       "    <tr>\n",
       "      <th>4</th>\n",
       "      <td>1061</td>\n",
       "      <td>89</td>\n",
       "      <td>192</td>\n",
       "      <td>119</td>\n",
       "      <td>1</td>\n",
       "    </tr>\n",
       "    <tr>\n",
       "      <th>...</th>\n",
       "      <td>...</td>\n",
       "      <td>...</td>\n",
       "      <td>...</td>\n",
       "      <td>...</td>\n",
       "      <td>...</td>\n",
       "    </tr>\n",
       "    <tr>\n",
       "      <th>9995</th>\n",
       "      <td>643</td>\n",
       "      <td>104</td>\n",
       "      <td>199</td>\n",
       "      <td>127</td>\n",
       "      <td>2</td>\n",
       "    </tr>\n",
       "    <tr>\n",
       "      <th>9996</th>\n",
       "      <td>821</td>\n",
       "      <td>90</td>\n",
       "      <td>203</td>\n",
       "      <td>128</td>\n",
       "      <td>2</td>\n",
       "    </tr>\n",
       "    <tr>\n",
       "      <th>9997</th>\n",
       "      <td>509</td>\n",
       "      <td>104</td>\n",
       "      <td>213</td>\n",
       "      <td>137</td>\n",
       "      <td>2</td>\n",
       "    </tr>\n",
       "    <tr>\n",
       "      <th>9998</th>\n",
       "      <td>1438</td>\n",
       "      <td>92</td>\n",
       "      <td>169</td>\n",
       "      <td>99</td>\n",
       "      <td>3</td>\n",
       "    </tr>\n",
       "    <tr>\n",
       "      <th>9999</th>\n",
       "      <td>1523</td>\n",
       "      <td>99</td>\n",
       "      <td>168</td>\n",
       "      <td>99</td>\n",
       "      <td>3</td>\n",
       "    </tr>\n",
       "  </tbody>\n",
       "</table>\n",
       "<p>10000 rows × 5 columns</p>\n",
       "</div>"
      ],
      "text/plain": [
       "       dem  pre  tmpmax  tmpmin  label\n",
       "0      974  108     226     141      2\n",
       "1      463   93     213     141      2\n",
       "2      922   99     193     114      1\n",
       "3     1821   85     169      86      3\n",
       "4     1061   89     192     119      1\n",
       "...    ...  ...     ...     ...    ...\n",
       "9995   643  104     199     127      2\n",
       "9996   821   90     203     128      2\n",
       "9997   509  104     213     137      2\n",
       "9998  1438   92     169      99      3\n",
       "9999  1523   99     168      99      3\n",
       "\n",
       "[10000 rows x 5 columns]"
      ]
     },
     "execution_count": 35,
     "metadata": {},
     "output_type": "execute_result"
    }
   ],
   "source": [
    "df"
   ]
  },
  {
   "cell_type": "code",
   "execution_count": 37,
   "metadata": {},
   "outputs": [],
   "source": [
    "dem_flatten = dem_array.flatten()\n",
    "pre_flatten = pre_array.flatten()\n",
    "tmpmax_flatten = tmpmax_array.flatten()\n",
    "tmpmin_flatten = tmpmin_array.flatten()"
   ]
  },
  {
   "cell_type": "code",
   "execution_count": 40,
   "metadata": {},
   "outputs": [],
   "source": [
    "predictor_data = pd.DataFrame({'dem':dem_flatten,'pre':pre_flatten,'tmpmax':tmpmax_flatten,'tmpmin':tmpmin_flatten})"
   ]
  },
  {
   "cell_type": "code",
   "execution_count": 42,
   "metadata": {},
   "outputs": [
    {
     "data": {
      "text/plain": [
       "array([[ 0.18258835,  1.37361909,  0.08858858,  0.11745266],\n",
       "       [ 0.18258835,  1.37361909,  0.08858858,  0.11745266],\n",
       "       [ 0.171352  ,  1.37361909,  0.08858858,  0.11745266],\n",
       "       ...,\n",
       "       [-1.70699109,  3.73529944,  2.44704659,  2.33259474],\n",
       "       [-1.70137291,  3.73529944,  2.44704659,  2.33259474],\n",
       "       [-1.69762746,  3.73529944,  2.44704659,  2.33259474]])"
      ]
     },
     "execution_count": 42,
     "metadata": {},
     "output_type": "execute_result"
    }
   ],
   "source": [
    "# 标准化\n",
    "\n",
    "scaler_predictor_data = scaler.fit_transform(predictor_data)\n",
    "scaler_predictor_data"
   ]
  },
  {
   "cell_type": "code",
   "execution_count": 43,
   "metadata": {},
   "outputs": [],
   "source": [
    "# 预测标签\n",
    "predictor_value = kmeans.fit_predict(scaler_predictor_data)"
   ]
  },
  {
   "cell_type": "code",
   "execution_count": 45,
   "metadata": {},
   "outputs": [
    {
     "data": {
      "text/plain": [
       "377580528"
      ]
     },
     "execution_count": 45,
     "metadata": {},
     "output_type": "execute_result"
    }
   ],
   "source": [
    "predictor_value.size"
   ]
  },
  {
   "cell_type": "code",
   "execution_count": 47,
   "metadata": {},
   "outputs": [
    {
     "data": {
      "text/plain": [
       "array([[0, 0, 0, ..., 0, 0, 0],\n",
       "       [0, 0, 0, ..., 0, 0, 0],\n",
       "       [0, 0, 0, ..., 0, 0, 0],\n",
       "       ...,\n",
       "       [1, 1, 1, ..., 3, 3, 3],\n",
       "       [1, 1, 1, ..., 3, 3, 3],\n",
       "       [1, 1, 1, ..., 3, 3, 3]])"
      ]
     },
     "execution_count": 47,
     "metadata": {},
     "output_type": "execute_result"
    }
   ],
   "source": [
    "# 重塑形状\n",
    "raster_array = np.reshape(predictor_value,dem_array.shape)\n",
    "raster_array"
   ]
  },
  {
   "cell_type": "code",
   "execution_count": 48,
   "metadata": {},
   "outputs": [],
   "source": [
    "# 空间范围\n",
    "env.extent = \"DEM.tif\""
   ]
  },
  {
   "cell_type": "code",
   "execution_count": 55,
   "metadata": {},
   "outputs": [
    {
     "data": {
      "text/plain": [
       "(0.0002694945852358513, 0.0002694945852358511)"
      ]
     },
     "execution_count": 55,
     "metadata": {},
     "output_type": "execute_result"
    }
   ],
   "source": [
    "# 使用Describe函数获取栅格的描述\n",
    "raster_desc = arcpy.Describe('DEM.tif')\n",
    "\n",
    "# 获取像元宽度和高度\n",
    "cell_width = raster_desc.meanCellWidth\n",
    "cell_height = raster_desc.meanCellHeight\n",
    "cell_width,cell_height"
   ]
  },
  {
   "cell_type": "code",
   "execution_count": 58,
   "metadata": {},
   "outputs": [
    {
     "name": "stdout",
     "output_type": "stream",
     "text": [
      "完成\n"
     ]
    }
   ],
   "source": [
    "# 将预测结果输出为栅格数据\n",
    "out_raster = arcpy.NumPyArrayToRaster(\n",
    "    raster_array,\n",
    "    arcpy.Point(arcpy.env.extent.XMin, arcpy.env.extent.YMin),\n",
    "    cell_width,\n",
    "    cell_height\n",
    ")\n",
    "out_raster.save(\"RESULT2.tif\")\n",
    "print(\"完成\")\n"
   ]
  }
 ],
 "metadata": {
  "kernelspec": {
   "display_name": "Python 3",
   "language": "python",
   "name": "python3"
  },
  "language_info": {
   "codemirror_mode": {
    "name": "ipython",
    "version": 3
   },
   "file_extension": ".py",
   "mimetype": "text/x-python",
   "name": "python",
   "nbconvert_exporter": "python",
   "pygments_lexer": "ipython3",
   "version": "3.9.11"
  },
  "orig_nbformat": 4
 },
 "nbformat": 4,
 "nbformat_minor": 2
}
