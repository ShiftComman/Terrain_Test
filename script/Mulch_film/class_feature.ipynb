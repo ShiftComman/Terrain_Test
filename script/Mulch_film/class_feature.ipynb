{
 "cells": [
  {
   "cell_type": "code",
   "execution_count": 1,
   "metadata": {},
   "outputs": [],
   "source": [
    "import os\n",
    "import arcpy\n",
    "import numpy as np\n",
    "import pandas as pd\n",
    "from arcpy import env"
   ]
  },
  {
   "cell_type": "code",
   "execution_count": 2,
   "metadata": {},
   "outputs": [],
   "source": [
    "env.workspace = r'D:\\GEEDOWNLOAD\\allfeatures\\alldata.gdb'\n",
    "raster_list = arcpy.ListRasters()"
   ]
  },
  {
   "cell_type": "code",
   "execution_count": 3,
   "metadata": {},
   "outputs": [
    {
     "data": {
      "text/plain": [
       "['CHILI', 'ALOS', 'TMPMIN', 'TMPMAX', 'PRE', 'DEM', 'SLOPE']"
      ]
     },
     "execution_count": 3,
     "metadata": {},
     "output_type": "execute_result"
    }
   ],
   "source": [
    "raster_list"
   ]
  },
  {
   "cell_type": "code",
   "execution_count": 4,
   "metadata": {},
   "outputs": [],
   "source": [
    "# 读取各个特征的array\n",
    "chili_array = arcpy.RasterToNumPyArray('CHILI')\n",
    "alos_array = arcpy.RasterToNumPyArray('ALOS')\n",
    "tmpmin_array = arcpy.RasterToNumPyArray('TMPMIN')\n",
    "tmpmax_array = arcpy.RasterToNumPyArray('TMPMAX')\n",
    "pre_array = arcpy.RasterToNumPyArray('PRE')\n",
    "dem_array = arcpy.RasterToNumPyArray('DEM')\n",
    "slope_array = arcpy.RasterToNumPyArray('SLOPE')"
   ]
  },
  {
   "cell_type": "code",
   "execution_count": 12,
   "metadata": {},
   "outputs": [],
   "source": [
    "df = pd.DataFrame({'dem':dem_array.flatten(),'pre':pre_array.flatten(),\n",
    "                   'tmpmin':tmpmin_array.flatten(),'tmpmax':tmpmax_array.flatten(),\n",
    "                   'label':clss_feature_array.flatten()})"
   ]
  },
  {
   "cell_type": "code",
   "execution_count": 14,
   "metadata": {},
   "outputs": [
    {
     "data": {
      "text/html": [
       "<div>\n",
       "<style scoped>\n",
       "    .dataframe tbody tr th:only-of-type {\n",
       "        vertical-align: middle;\n",
       "    }\n",
       "\n",
       "    .dataframe tbody tr th {\n",
       "        vertical-align: top;\n",
       "    }\n",
       "\n",
       "    .dataframe thead th {\n",
       "        text-align: right;\n",
       "    }\n",
       "</style>\n",
       "<table border=\"1\" class=\"dataframe\">\n",
       "  <thead>\n",
       "    <tr style=\"text-align: right;\">\n",
       "      <th></th>\n",
       "      <th>dem</th>\n",
       "      <th>pre</th>\n",
       "      <th>tmpmin</th>\n",
       "      <th>tmpmax</th>\n",
       "      <th>label</th>\n",
       "    </tr>\n",
       "  </thead>\n",
       "  <tbody>\n",
       "    <tr>\n",
       "      <th>count</th>\n",
       "      <td>3.775805e+08</td>\n",
       "      <td>3.775805e+08</td>\n",
       "      <td>3.775805e+08</td>\n",
       "      <td>3.775805e+08</td>\n",
       "      <td>3.775805e+08</td>\n",
       "    </tr>\n",
       "    <tr>\n",
       "      <th>mean</th>\n",
       "      <td>1.056501e+03</td>\n",
       "      <td>9.971442e+01</td>\n",
       "      <td>1.196140e+02</td>\n",
       "      <td>1.983473e+02</td>\n",
       "      <td>2.009164e+00</td>\n",
       "    </tr>\n",
       "    <tr>\n",
       "      <th>std</th>\n",
       "      <td>5.339813e+02</td>\n",
       "      <td>1.185597e+01</td>\n",
       "      <td>2.031472e+01</td>\n",
       "      <td>1.865626e+01</td>\n",
       "      <td>1.191698e+00</td>\n",
       "    </tr>\n",
       "    <tr>\n",
       "      <th>min</th>\n",
       "      <td>4.800000e+01</td>\n",
       "      <td>7.300000e+01</td>\n",
       "      <td>3.900000e+01</td>\n",
       "      <td>1.290000e+02</td>\n",
       "      <td>0.000000e+00</td>\n",
       "    </tr>\n",
       "    <tr>\n",
       "      <th>25%</th>\n",
       "      <td>6.530000e+02</td>\n",
       "      <td>9.100000e+01</td>\n",
       "      <td>1.080000e+02</td>\n",
       "      <td>1.860000e+02</td>\n",
       "      <td>1.000000e+00</td>\n",
       "    </tr>\n",
       "    <tr>\n",
       "      <th>50%</th>\n",
       "      <td>9.660000e+02</td>\n",
       "      <td>9.900000e+01</td>\n",
       "      <td>1.200000e+02</td>\n",
       "      <td>1.980000e+02</td>\n",
       "      <td>2.000000e+00</td>\n",
       "    </tr>\n",
       "    <tr>\n",
       "      <th>75%</th>\n",
       "      <td>1.361000e+03</td>\n",
       "      <td>1.070000e+02</td>\n",
       "      <td>1.330000e+02</td>\n",
       "      <td>2.110000e+02</td>\n",
       "      <td>3.000000e+00</td>\n",
       "    </tr>\n",
       "    <tr>\n",
       "      <th>max</th>\n",
       "      <td>3.189000e+03</td>\n",
       "      <td>1.490000e+02</td>\n",
       "      <td>1.700000e+02</td>\n",
       "      <td>2.540000e+02</td>\n",
       "      <td>4.000000e+00</td>\n",
       "    </tr>\n",
       "  </tbody>\n",
       "</table>\n",
       "</div>"
      ],
      "text/plain": [
       "                dem           pre        tmpmin        tmpmax         label\n",
       "count  3.775805e+08  3.775805e+08  3.775805e+08  3.775805e+08  3.775805e+08\n",
       "mean   1.056501e+03  9.971442e+01  1.196140e+02  1.983473e+02  2.009164e+00\n",
       "std    5.339813e+02  1.185597e+01  2.031472e+01  1.865626e+01  1.191698e+00\n",
       "min    4.800000e+01  7.300000e+01  3.900000e+01  1.290000e+02  0.000000e+00\n",
       "25%    6.530000e+02  9.100000e+01  1.080000e+02  1.860000e+02  1.000000e+00\n",
       "50%    9.660000e+02  9.900000e+01  1.200000e+02  1.980000e+02  2.000000e+00\n",
       "75%    1.361000e+03  1.070000e+02  1.330000e+02  2.110000e+02  3.000000e+00\n",
       "max    3.189000e+03  1.490000e+02  1.700000e+02  2.540000e+02  4.000000e+00"
      ]
     },
     "execution_count": 14,
     "metadata": {},
     "output_type": "execute_result"
    }
   ],
   "source": [
    "df.describe()"
   ]
  },
  {
   "cell_type": "code",
   "execution_count": 15,
   "metadata": {},
   "outputs": [],
   "source": [
    "df.to_csv(r\"C:\\Users\\Runker\\Desktop\\ana_csv\\ana.csv\")"
   ]
  },
  {
   "cell_type": "code",
   "execution_count": 2,
   "metadata": {},
   "outputs": [],
   "source": [
    "# 切换环境，输出报告。\n",
    "from ydata_profiling import ProfileReport\n",
    "import pandas as pd"
   ]
  },
  {
   "cell_type": "code",
   "execution_count": 3,
   "metadata": {},
   "outputs": [],
   "source": [
    "file_path = r\"C:\\Users\\Runker\\Desktop\\result\\result.csv\"\n",
    "data = pd.read_csv(file_path)"
   ]
  },
  {
   "cell_type": "code",
   "execution_count": 4,
   "metadata": {},
   "outputs": [],
   "source": [
    "data['label'] = data['label'].astype('category')"
   ]
  },
  {
   "cell_type": "code",
   "execution_count": 7,
   "metadata": {},
   "outputs": [],
   "source": [
    "data.drop(columns='Unnamed: 0',inplace=True)"
   ]
  },
  {
   "cell_type": "code",
   "execution_count": 5,
   "metadata": {},
   "outputs": [
    {
     "data": {
      "text/plain": [
       "Index(['dem', 'pre', 'tmpmean', 'chili', 'label'], dtype='object')"
      ]
     },
     "execution_count": 5,
     "metadata": {},
     "output_type": "execute_result"
    }
   ],
   "source": [
    "data.columns"
   ]
  },
  {
   "cell_type": "code",
   "execution_count": 6,
   "metadata": {},
   "outputs": [
    {
     "data": {
      "application/vnd.jupyter.widget-view+json": {
       "model_id": "c2f371111ed440c996fd24954ba4d87b",
       "version_major": 2,
       "version_minor": 0
      },
      "text/plain": [
       "Summarize dataset:   0%|          | 0/5 [00:00<?, ?it/s]"
      ]
     },
     "metadata": {},
     "output_type": "display_data"
    },
    {
     "data": {
      "application/vnd.jupyter.widget-view+json": {
       "model_id": "28d3d87413e4426cb4693fb9f077490d",
       "version_major": 2,
       "version_minor": 0
      },
      "text/plain": [
       "Generate report structure:   0%|          | 0/1 [00:00<?, ?it/s]"
      ]
     },
     "metadata": {},
     "output_type": "display_data"
    },
    {
     "data": {
      "application/vnd.jupyter.widget-view+json": {
       "model_id": "1217d4f61a464a129c1a4da7e315aafd",
       "version_major": 2,
       "version_minor": 0
      },
      "text/plain": [
       "Render HTML:   0%|          | 0/1 [00:00<?, ?it/s]"
      ]
     },
     "metadata": {},
     "output_type": "display_data"
    },
    {
     "data": {
      "application/vnd.jupyter.widget-view+json": {
       "model_id": "8db4bf771ad64914b6e551679ff0baf2",
       "version_major": 2,
       "version_minor": 0
      },
      "text/plain": [
       "Export report to file:   0%|          | 0/1 [00:00<?, ?it/s]"
      ]
     },
     "metadata": {},
     "output_type": "display_data"
    }
   ],
   "source": [
    "data_report = ProfileReport(data,title=\"Pandas Profiling Report\")\n",
    "data_report.to_file(r\"C:\\Users\\Runker\\Desktop\\result\\result.html\")"
   ]
  }
 ],
 "metadata": {
  "kernelspec": {
   "display_name": "Python 3",
   "language": "python",
   "name": "python3"
  },
  "language_info": {
   "codemirror_mode": {
    "name": "ipython",
    "version": 3
   },
   "file_extension": ".py",
   "mimetype": "text/x-python",
   "name": "python",
   "nbconvert_exporter": "python",
   "pygments_lexer": "ipython3",
   "version": "3.10.11"
  },
  "orig_nbformat": 4
 },
 "nbformat": 4,
 "nbformat_minor": 2
}
