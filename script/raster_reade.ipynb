{
 "cells": [
  {
   "cell_type": "code",
   "execution_count": 1,
   "metadata": {},
   "outputs": [],
   "source": [
    "import arcpy\n",
    "from arcpy import env\n",
    "from arcpy.sa import *\n",
    "from arcpy.conversion import *"
   ]
  },
  {
   "cell_type": "code",
   "execution_count": 2,
   "metadata": {},
   "outputs": [
    {
     "data": {
      "text/plain": [
       "(['pre_2022',\n",
       "  'pre_2022_mean',\n",
       "  'tmp_2022',\n",
       "  'tmp_2022_mean',\n",
       "  'SY_DEM_5',\n",
       "  'SY_ASP_5',\n",
       "  'SY_SLOP_5',\n",
       "  'SY_DLTB_RASTER',\n",
       "  'ndvi_2022',\n",
       "  'SY_TWI_5',\n",
       "  'SY_TPI_3',\n",
       "  'SY_TPI_11',\n",
       "  'SY_TPI_101',\n",
       "  'SY_TPI_201',\n",
       "  'SY_PRE_2022',\n",
       "  'SY_PRE_20223',\n",
       "  'SY_PRE_5',\n",
       "  'SY_DEM_TEST',\n",
       "  'SY_DEM_fan',\n",
       "  'SY_ASP_fan',\n",
       "  'SY_SLOP_fan',\n",
       "  'SY_TWI_fan',\n",
       "  'SY_TPI_fan',\n",
       "  'RESULT',\n",
       "  'SY_DZ',\n",
       "  'Curvatu_SY_D1',\n",
       "  'profile_curve',\n",
       "  'plan_curve',\n",
       "  'SY_CUR_5'],\n",
       " ['SY_POINT',\n",
       "  'SY_DLTB',\n",
       "  'SY_POINT_DLTB',\n",
       "  'Round',\n",
       "  'SY_PRE_20223_POLYGON',\n",
       "  'SY_DEM_TEST_POLYGON',\n",
       "  'rounge',\n",
       "  'fan',\n",
       "  'SY_POINT_GD',\n",
       "  'SY_DZ_POLYGON',\n",
       "  'SY_DZ_POLYGON_108'],\n",
       " ['SY_POINT_PRE_TABLE',\n",
       "  'SY_POINT_TMP_TABLE',\n",
       "  'SY_POINT_ELE_TABLE',\n",
       "  'SY_POINT_ASP_TABLE',\n",
       "  'SY_POINT_SLOP_TABLE',\n",
       "  'SY_POINT_NV_TABLE',\n",
       "  'SY_POINT_SY_TWI_5_TABLE',\n",
       "  'SY_POINT_SY_TPI_5_TABLE',\n",
       "  'SY_POINT_SY_TPI_11_TABLE',\n",
       "  'SY_POINT_SY_TPI_101_TABLE',\n",
       "  'SY_POINT_SY_TPI_201_TABLE'])"
      ]
     },
     "execution_count": 2,
     "metadata": {},
     "output_type": "execute_result"
    }
   ],
   "source": [
    "# 设置工作环境\n",
    "env.workspace = \"D:\\ArcGISProjects\\syraster\\ph.gdb\"\n",
    "arcpy.ListRasters(),arcpy.ListFeatureClasses(),arcpy.ListTables()"
   ]
  },
  {
   "cell_type": "code",
   "execution_count": 16,
   "metadata": {},
   "outputs": [],
   "source": [
    "# 掩膜提取\n",
    "def mask_raster(in_raster,mask_ele):\n",
    "    \"\"\"按掩膜提取栅格,空间参考设定为:CGCS2000_3_Degree_GK_CM_108E\"\"\"\n",
    "    output_coordinate_system = arcpy.Describe(in_raster).spatialReference\n",
    "    with arcpy.EnvManager(outputCoordinateSystem=output_coordinate_system):\n",
    "        out_raster = arcpy.sa.ExtractByMask(in_raster, mask_ele, \"INSIDE\")\n",
    "        # result_raster = Int(out_raster*1000000)\n",
    "        return out_raster\n",
    "\n",
    "# 栅格转面\n",
    "def raster_to_polygon(raster,out_name):\n",
    "    \"\"\"raster to polygon ! Reduced surface!!!\"\"\"\n",
    "    RasterToPolygon(raster, out_name, \"NO_SIMPLIFY\", \"Value\", \"SINGLE_OUTER_PART\", None)\n",
    "    return None\n",
    "\n",
    "# 面转栅格\n",
    "def polygon_to_raster(in_polygon,value_filed,out_name,pixel_re):\n",
    "    \"\"\"pixel_re:像元参考\"\"\"\n",
    "    PolygonToRaster(in_polygon,value_filed,out_name,\"CELL_CENTER\",\"NONE\",pixel_re,\"BUILD\")\n",
    "    return None\n",
    "\n",
    "\n",
    "# 栅格计算\n",
    "def calc_raster(in_raster,target_raster):\n",
    "    \"\"\"将栅格细化\"\"\"\n",
    "    output_coordinate_system = arcpy.Describe(in_raster).spatialReference\n",
    "    raster_a = arcpy.Raster(in_raster)\n",
    "    raster_b = arcpy.Raster(target_raster)\n",
    "    with arcpy.EnvManager(outputCoordinateSystem=output_coordinate_system,snapRaster=in_raster, cellSize=\"MINOF\"):\n",
    "        output_raster = Con(raster_a>=0,raster_b,999)\n",
    "        return output_raster"
   ]
  },
  {
   "cell_type": "code",
   "execution_count": 5,
   "metadata": {},
   "outputs": [],
   "source": [
    "# 掩膜提取\n",
    "# mask_raster(\"SY_DEM_5\",\"fan\").save(\"SY_DEM_fan\")\n",
    "# mask_raster(\"SY_ASP_5\",\"fan\").save(\"SY_ASP_fan\")\n",
    "# mask_raster(\"SY_SLOP_5\",\"fan\").save(\"SY_SLOP_fan\")\n",
    "# mask_raster(\"SY_TWI_5\",\"fan\").save(\"SY_TWI_fan\")\n",
    "# mask_raster(\"SY_TPI_3\",\"fan\").save(\"SY_TPI_fan\")\n",
    "# mask_raster(\"ndvi_2022\",\"Round\").save(\"SY_NDVI_2022\")"
   ]
  },
  {
   "cell_type": "code",
   "execution_count": 17,
   "metadata": {},
   "outputs": [],
   "source": [
    "# 栅格计算\n",
    "calc_raster(\"SY_DEM_5\",\"SY_TMP_2022\").save(\"SY_TMP_6\")"
   ]
  },
  {
   "cell_type": "code",
   "execution_count": 17,
   "metadata": {},
   "outputs": [],
   "source": []
  }
 ],
 "metadata": {
  "kernelspec": {
   "display_name": "Python 3",
   "language": "python",
   "name": "python3"
  },
  "language_info": {
   "codemirror_mode": {
    "name": "ipython",
    "version": 3
   },
   "file_extension": ".py",
   "mimetype": "text/x-python",
   "name": "python",
   "nbconvert_exporter": "python",
   "pygments_lexer": "ipython3",
   "version": "3.9.11"
  },
  "orig_nbformat": 4
 },
 "nbformat": 4,
 "nbformat_minor": 2
}
