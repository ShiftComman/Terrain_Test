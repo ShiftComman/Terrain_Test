{
 "cells": [
  {
   "cell_type": "code",
   "execution_count": 9,
   "metadata": {},
   "outputs": [],
   "source": [
    "import arcpy\n",
    "from arcpy.sa import *\n",
    "from arcpy import env\n",
    "from arcpy.conversion import *\n",
    "from arcpy.management import *\n",
    "from arcpy.da import *\n",
    "import math\n",
    "import os"
   ]
  },
  {
   "cell_type": "code",
   "execution_count": 2,
   "metadata": {},
   "outputs": [],
   "source": [
    "# 面转栅格\n",
    "def polygon_to_raster(element,out_name,value_name,pixel_re):\n",
    "    \"\"\"pixel_re:像元参考,默认值字段为gridcode\"\"\"\n",
    "    PolygonToRaster(element,value_name,out_name,\"CELL_CENTER\",\"NONE\",pixel_re,\"BUILD\")\n",
    "    return None"
   ]
  },
  {
   "cell_type": "code",
   "execution_count": null,
   "metadata": {},
   "outputs": [],
   "source": [
    "# workspace\n",
    "env.workspace = r\"D:\\ArcgisProject\\basetrain.gdb\"\n",
    "arcpy.ListRasters(),arcpy.ListFeatureClasses(),arcpy.ListTables()"
   ]
  },
  {
   "cell_type": "code",
   "execution_count": 8,
   "metadata": {},
   "outputs": [],
   "source": [
    "# 采样\n",
    "def sample_point(point_,raster_,out_name):\n",
    "    Sample(raster_,point_,out_name,\"NEAREST\", \"OBJECTID\", \"CURRENT_SLICE\", None, '', None, None, \"ROW_WISE\", \"TABLE\")\n",
    "    return None\n",
    "\n",
    "# 导出CSV\n",
    "def export_csv(table_,out_path,out_name):\n",
    "    TableToTable(table_,out_path,out_name)\n",
    "    return None\n",
    "    "
   ]
  },
  {
   "cell_type": "code",
   "execution_count": null,
   "metadata": {},
   "outputs": [],
   "source": [
    "# 逐个采样\n",
    "point_data = \"SY_POINT_GD\"\n",
    "tabale_path = r\"D:\\ArcgisProject\\tableresult.gdb\"\n",
    "for one_raster in arcpy.ListRasters():\n",
    "    print(one_raster)\n",
    "    sample_point(point_data,one_raster,os.path.join(tabale_path,f\"{one_raster}\"))"
   ]
  },
  {
   "cell_type": "code",
   "execution_count": null,
   "metadata": {},
   "outputs": [],
   "source": [
    "# 逐个转出CSV\n",
    "env.workspace = tabale_path\n",
    "arcpy.ListTables()"
   ]
  },
  {
   "cell_type": "code",
   "execution_count": 14,
   "metadata": {},
   "outputs": [
    {
     "name": "stdout",
     "output_type": "stream",
     "text": [
      "SY_TWI_5\n",
      "SY_TPI_201\n",
      "SY_TPI_101\n",
      "SY_TPI_11\n",
      "SY_TPI_3\n",
      "SY_TMP_5\n",
      "SY_SOILQS_5\n",
      "SY_SLOP_5\n",
      "SY_PRE_5\n",
      "SY_NIGTH_5\n",
      "SY_NDVI_5\n",
      "SY_DZ_5\n",
      "SY_DLTB_RASTER\n",
      "SY_DEM_5\n",
      "SY_CUR_5\n",
      "SY_ASP_5\n",
      "SY_PLCUR_5\n",
      "SY_POCUR_5\n"
     ]
    }
   ],
   "source": [
    "csv_path = r\"D:\\ArcgisProject\\Table_result\"\n",
    "for one_table in arcpy.ListTables():\n",
    "    print(one_table)\n",
    "    export_csv(one_table,csv_path,f\"{one_table}.csv\")"
   ]
  }
 ],
 "metadata": {
  "kernelspec": {
   "display_name": "Python 3",
   "language": "python",
   "name": "python3"
  },
  "language_info": {
   "codemirror_mode": {
    "name": "ipython",
    "version": 3
   },
   "file_extension": ".py",
   "mimetype": "text/x-python",
   "name": "python",
   "nbconvert_exporter": "python",
   "pygments_lexer": "ipython3",
   "version": "3.9.11"
  },
  "orig_nbformat": 4
 },
 "nbformat": 4,
 "nbformat_minor": 2
}
