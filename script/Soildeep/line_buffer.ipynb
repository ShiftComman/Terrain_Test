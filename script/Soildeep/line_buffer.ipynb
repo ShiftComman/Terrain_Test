{
 "cells": [
  {
   "cell_type": "markdown",
   "metadata": {},
   "source": [
    "# LINE TO BUFFER"
   ]
  },
  {
   "cell_type": "code",
   "execution_count": 1,
   "metadata": {},
   "outputs": [],
   "source": [
    "import geopandas as gpd\n",
    "import rasterio\n",
    "import numpy as np\n",
    "from scipy.ndimage import map_coordinates\n",
    "from osgeo import gdal\n"
   ]
  },
  {
   "cell_type": "code",
   "execution_count": null,
   "metadata": {},
   "outputs": [],
   "source": [
    "# 读取河流线状数据\n",
    "rivers = gpd.read_file('path_to_river_shapefile.shp')\n",
    "\n",
    "# 读取DEM数据\n",
    "with rasterio.open('path_to_dem.tif') as src:\n",
    "    dem = src.read(1)  # 读取第一个波段\n",
    "    affine = src.transform"
   ]
  },
  {
   "cell_type": "code",
   "execution_count": null,
   "metadata": {},
   "outputs": [],
   "source": [
    "# 函数：从DEM获取高程\n",
    "def sample_elevation(geom, dem, affine):\n",
    "    coords = np.array([(x, y) for x, y in geom.coords])\n",
    "    rc_coords = ~affine * (coords[:, 0], coords[:, 1])  # 转换坐标到像元空间\n",
    "    rc_coords = np.round(rc_coords).astype(int)\n",
    "    elevations = dem[rc_coords[1], rc_coords[0]]  # 采样高程\n",
    "    return elevations\n",
    "\n",
    "# 为每条河流采样高程\n",
    "rivers['elevations'] = rivers.geometry.apply(lambda geom: sample_elevation(geom, dem, affine))\n",
    "rivers['elevation_10m_above'] = rivers['elevations'].apply(lambda x: x + 10)\n",
    "\n",
    "# 将加10米后的高程值转换为等值线需要的格式\n",
    "with rasterio.open('dem_modified.tif', 'w', **src.meta) as dst:\n",
    "    modified_dem = np.copy(dem)\n",
    "    for idx, row in rivers.iterrows():\n",
    "        for (x, y), val in zip(row.geometry.coords, row['elevation_10m_above']):\n",
    "            rc = ~affine * (x, y)\n",
    "            modified_dem[int(rc[1]), int(rc[0])] = val\n",
    "    dst.write(modified_dem, 1)\n",
    "\n",
    "# 使用GDAL生成等值线\n",
    "gdal.DEMProcessing('contours.shp', 'dem_modified.tif', 'contour', contour_levels=[10])"
   ]
  },
  {
   "cell_type": "code",
   "execution_count": null,
   "metadata": {},
   "outputs": [],
   "source": []
  }
 ],
 "metadata": {
  "kernelspec": {
   "display_name": ".venvgis",
   "language": "python",
   "name": "python3"
  },
  "language_info": {
   "codemirror_mode": {
    "name": "ipython",
    "version": 3
   },
   "file_extension": ".py",
   "mimetype": "text/x-python",
   "name": "python",
   "nbconvert_exporter": "python",
   "pygments_lexer": "ipython3",
   "version": "3.10.11"
  }
 },
 "nbformat": 4,
 "nbformat_minor": 2
}
