{
 "cells": [
  {
   "cell_type": "code",
   "execution_count": 1,
   "metadata": {},
   "outputs": [],
   "source": [
    "import pandas as pd\n",
    "import numpy as np \n",
    "import matplotlib.pyplot as plt\n",
    "import seaborn as sns\n",
    "import pickle\n",
    "from sklearn.preprocessing import StandardScaler,LabelEncoder\n",
    "from sklearn.ensemble import RandomForestClassifier\n",
    "from sklearn.metrics import accuracy_score,f1_score,recall_score,confusion_matrix\n",
    "from sklearn.model_selection import train_test_split,GridSearchCV,RandomizedSearchCV\n",
    "import graphviz\n",
    "import dtreeviz"
   ]
  },
  {
   "cell_type": "code",
   "execution_count": 2,
   "metadata": {},
   "outputs": [],
   "source": [
    "data = pd.read_csv(r\"D:\\ArcgisData\\pred_soildeep\\deep_table\\point_table.csv\")"
   ]
  },
  {
   "cell_type": "code",
   "execution_count": 3,
   "metadata": {},
   "outputs": [
    {
     "data": {
      "text/html": [
       "<div>\n",
       "<style scoped>\n",
       "    .dataframe tbody tr th:only-of-type {\n",
       "        vertical-align: middle;\n",
       "    }\n",
       "\n",
       "    .dataframe tbody tr th {\n",
       "        vertical-align: top;\n",
       "    }\n",
       "\n",
       "    .dataframe thead th {\n",
       "        text-align: right;\n",
       "    }\n",
       "</style>\n",
       "<table border=\"1\" class=\"dataframe\">\n",
       "  <thead>\n",
       "    <tr style=\"text-align: right;\">\n",
       "      <th></th>\n",
       "      <th>OID_</th>\n",
       "      <th>lon</th>\n",
       "      <th>lat</th>\n",
       "      <th>deep</th>\n",
       "      <th>category</th>\n",
       "      <th>classname</th>\n",
       "      <th>classvalue</th>\n",
       "    </tr>\n",
       "  </thead>\n",
       "  <tbody>\n",
       "    <tr>\n",
       "      <th>0</th>\n",
       "      <td>1</td>\n",
       "      <td>482528.138642</td>\n",
       "      <td>2.888584e+06</td>\n",
       "      <td>120.0</td>\n",
       "      <td>2</td>\n",
       "      <td>厚</td>\n",
       "      <td>2</td>\n",
       "    </tr>\n",
       "    <tr>\n",
       "      <th>1</th>\n",
       "      <td>2</td>\n",
       "      <td>503583.829632</td>\n",
       "      <td>2.889170e+06</td>\n",
       "      <td>120.0</td>\n",
       "      <td>2</td>\n",
       "      <td>厚</td>\n",
       "      <td>2</td>\n",
       "    </tr>\n",
       "    <tr>\n",
       "      <th>2</th>\n",
       "      <td>3</td>\n",
       "      <td>482098.746661</td>\n",
       "      <td>2.889842e+06</td>\n",
       "      <td>123.0</td>\n",
       "      <td>2</td>\n",
       "      <td>厚</td>\n",
       "      <td>2</td>\n",
       "    </tr>\n",
       "    <tr>\n",
       "      <th>3</th>\n",
       "      <td>4</td>\n",
       "      <td>489066.667511</td>\n",
       "      <td>2.890606e+06</td>\n",
       "      <td>120.0</td>\n",
       "      <td>2</td>\n",
       "      <td>厚</td>\n",
       "      <td>2</td>\n",
       "    </tr>\n",
       "    <tr>\n",
       "      <th>4</th>\n",
       "      <td>5</td>\n",
       "      <td>481804.806723</td>\n",
       "      <td>2.894214e+06</td>\n",
       "      <td>122.0</td>\n",
       "      <td>2</td>\n",
       "      <td>厚</td>\n",
       "      <td>2</td>\n",
       "    </tr>\n",
       "    <tr>\n",
       "      <th>...</th>\n",
       "      <td>...</td>\n",
       "      <td>...</td>\n",
       "      <td>...</td>\n",
       "      <td>...</td>\n",
       "      <td>...</td>\n",
       "      <td>...</td>\n",
       "      <td>...</td>\n",
       "    </tr>\n",
       "    <tr>\n",
       "      <th>9564</th>\n",
       "      <td>9565</td>\n",
       "      <td>216961.755086</td>\n",
       "      <td>2.846550e+06</td>\n",
       "      <td>120.0</td>\n",
       "      <td>2</td>\n",
       "      <td>厚</td>\n",
       "      <td>2</td>\n",
       "    </tr>\n",
       "    <tr>\n",
       "      <th>9565</th>\n",
       "      <td>9566</td>\n",
       "      <td>243422.772386</td>\n",
       "      <td>2.776497e+06</td>\n",
       "      <td>120.0</td>\n",
       "      <td>2</td>\n",
       "      <td>厚</td>\n",
       "      <td>2</td>\n",
       "    </tr>\n",
       "    <tr>\n",
       "      <th>9566</th>\n",
       "      <td>9567</td>\n",
       "      <td>213275.354187</td>\n",
       "      <td>2.858251e+06</td>\n",
       "      <td>120.0</td>\n",
       "      <td>2</td>\n",
       "      <td>厚</td>\n",
       "      <td>2</td>\n",
       "    </tr>\n",
       "    <tr>\n",
       "      <th>9567</th>\n",
       "      <td>9568</td>\n",
       "      <td>198803.380216</td>\n",
       "      <td>2.754365e+06</td>\n",
       "      <td>120.0</td>\n",
       "      <td>2</td>\n",
       "      <td>厚</td>\n",
       "      <td>2</td>\n",
       "    </tr>\n",
       "    <tr>\n",
       "      <th>9568</th>\n",
       "      <td>9569</td>\n",
       "      <td>218292.022110</td>\n",
       "      <td>2.774350e+06</td>\n",
       "      <td>120.0</td>\n",
       "      <td>2</td>\n",
       "      <td>厚</td>\n",
       "      <td>2</td>\n",
       "    </tr>\n",
       "  </tbody>\n",
       "</table>\n",
       "<p>9569 rows × 7 columns</p>\n",
       "</div>"
      ],
      "text/plain": [
       "      OID_            lon           lat   deep  category classname  classvalue\n",
       "0        1  482528.138642  2.888584e+06  120.0         2         厚           2\n",
       "1        2  503583.829632  2.889170e+06  120.0         2         厚           2\n",
       "2        3  482098.746661  2.889842e+06  123.0         2         厚           2\n",
       "3        4  489066.667511  2.890606e+06  120.0         2         厚           2\n",
       "4        5  481804.806723  2.894214e+06  122.0         2         厚           2\n",
       "...    ...            ...           ...    ...       ...       ...         ...\n",
       "9564  9565  216961.755086  2.846550e+06  120.0         2         厚           2\n",
       "9565  9566  243422.772386  2.776497e+06  120.0         2         厚           2\n",
       "9566  9567  213275.354187  2.858251e+06  120.0         2         厚           2\n",
       "9567  9568  198803.380216  2.754365e+06  120.0         2         厚           2\n",
       "9568  9569  218292.022110  2.774350e+06  120.0         2         厚           2\n",
       "\n",
       "[9569 rows x 7 columns]"
      ]
     },
     "execution_count": 3,
     "metadata": {},
     "output_type": "execute_result"
    }
   ],
   "source": [
    "data"
   ]
  },
  {
   "cell_type": "code",
   "execution_count": 4,
   "metadata": {},
   "outputs": [
    {
     "data": {
      "text/html": [
       "<div>\n",
       "<style scoped>\n",
       "    .dataframe tbody tr th:only-of-type {\n",
       "        vertical-align: middle;\n",
       "    }\n",
       "\n",
       "    .dataframe tbody tr th {\n",
       "        vertical-align: top;\n",
       "    }\n",
       "\n",
       "    .dataframe thead th {\n",
       "        text-align: right;\n",
       "    }\n",
       "</style>\n",
       "<table border=\"1\" class=\"dataframe\">\n",
       "  <thead>\n",
       "    <tr style=\"text-align: right;\">\n",
       "      <th></th>\n",
       "      <th>OID_</th>\n",
       "      <th>lon</th>\n",
       "      <th>lat</th>\n",
       "      <th>deep</th>\n",
       "      <th>category</th>\n",
       "      <th>classname</th>\n",
       "      <th>classvalue</th>\n",
       "    </tr>\n",
       "  </thead>\n",
       "  <tbody>\n",
       "    <tr>\n",
       "      <th>0</th>\n",
       "      <td>1</td>\n",
       "      <td>482528.138642</td>\n",
       "      <td>2.888584e+06</td>\n",
       "      <td>120.0</td>\n",
       "      <td>2</td>\n",
       "      <td>厚</td>\n",
       "      <td>2</td>\n",
       "    </tr>\n",
       "    <tr>\n",
       "      <th>1</th>\n",
       "      <td>2</td>\n",
       "      <td>503583.829632</td>\n",
       "      <td>2.889170e+06</td>\n",
       "      <td>120.0</td>\n",
       "      <td>2</td>\n",
       "      <td>厚</td>\n",
       "      <td>2</td>\n",
       "    </tr>\n",
       "    <tr>\n",
       "      <th>2</th>\n",
       "      <td>3</td>\n",
       "      <td>482098.746661</td>\n",
       "      <td>2.889842e+06</td>\n",
       "      <td>123.0</td>\n",
       "      <td>2</td>\n",
       "      <td>厚</td>\n",
       "      <td>2</td>\n",
       "    </tr>\n",
       "    <tr>\n",
       "      <th>3</th>\n",
       "      <td>4</td>\n",
       "      <td>489066.667511</td>\n",
       "      <td>2.890606e+06</td>\n",
       "      <td>120.0</td>\n",
       "      <td>2</td>\n",
       "      <td>厚</td>\n",
       "      <td>2</td>\n",
       "    </tr>\n",
       "    <tr>\n",
       "      <th>4</th>\n",
       "      <td>5</td>\n",
       "      <td>481804.806723</td>\n",
       "      <td>2.894214e+06</td>\n",
       "      <td>122.0</td>\n",
       "      <td>2</td>\n",
       "      <td>厚</td>\n",
       "      <td>2</td>\n",
       "    </tr>\n",
       "    <tr>\n",
       "      <th>...</th>\n",
       "      <td>...</td>\n",
       "      <td>...</td>\n",
       "      <td>...</td>\n",
       "      <td>...</td>\n",
       "      <td>...</td>\n",
       "      <td>...</td>\n",
       "      <td>...</td>\n",
       "    </tr>\n",
       "    <tr>\n",
       "      <th>9564</th>\n",
       "      <td>9565</td>\n",
       "      <td>216961.755086</td>\n",
       "      <td>2.846550e+06</td>\n",
       "      <td>120.0</td>\n",
       "      <td>2</td>\n",
       "      <td>厚</td>\n",
       "      <td>2</td>\n",
       "    </tr>\n",
       "    <tr>\n",
       "      <th>9565</th>\n",
       "      <td>9566</td>\n",
       "      <td>243422.772386</td>\n",
       "      <td>2.776497e+06</td>\n",
       "      <td>120.0</td>\n",
       "      <td>2</td>\n",
       "      <td>厚</td>\n",
       "      <td>2</td>\n",
       "    </tr>\n",
       "    <tr>\n",
       "      <th>9566</th>\n",
       "      <td>9567</td>\n",
       "      <td>213275.354187</td>\n",
       "      <td>2.858251e+06</td>\n",
       "      <td>120.0</td>\n",
       "      <td>2</td>\n",
       "      <td>厚</td>\n",
       "      <td>2</td>\n",
       "    </tr>\n",
       "    <tr>\n",
       "      <th>9567</th>\n",
       "      <td>9568</td>\n",
       "      <td>198803.380216</td>\n",
       "      <td>2.754365e+06</td>\n",
       "      <td>120.0</td>\n",
       "      <td>2</td>\n",
       "      <td>厚</td>\n",
       "      <td>2</td>\n",
       "    </tr>\n",
       "    <tr>\n",
       "      <th>9568</th>\n",
       "      <td>9569</td>\n",
       "      <td>218292.022110</td>\n",
       "      <td>2.774350e+06</td>\n",
       "      <td>120.0</td>\n",
       "      <td>2</td>\n",
       "      <td>厚</td>\n",
       "      <td>2</td>\n",
       "    </tr>\n",
       "  </tbody>\n",
       "</table>\n",
       "<p>9560 rows × 7 columns</p>\n",
       "</div>"
      ],
      "text/plain": [
       "      OID_            lon           lat   deep  category classname  classvalue\n",
       "0        1  482528.138642  2.888584e+06  120.0         2         厚           2\n",
       "1        2  503583.829632  2.889170e+06  120.0         2         厚           2\n",
       "2        3  482098.746661  2.889842e+06  123.0         2         厚           2\n",
       "3        4  489066.667511  2.890606e+06  120.0         2         厚           2\n",
       "4        5  481804.806723  2.894214e+06  122.0         2         厚           2\n",
       "...    ...            ...           ...    ...       ...       ...         ...\n",
       "9564  9565  216961.755086  2.846550e+06  120.0         2         厚           2\n",
       "9565  9566  243422.772386  2.776497e+06  120.0         2         厚           2\n",
       "9566  9567  213275.354187  2.858251e+06  120.0         2         厚           2\n",
       "9567  9568  198803.380216  2.754365e+06  120.0         2         厚           2\n",
       "9568  9569  218292.022110  2.774350e+06  120.0         2         厚           2\n",
       "\n",
       "[9560 rows x 7 columns]"
      ]
     },
     "execution_count": 4,
     "metadata": {},
     "output_type": "execute_result"
    }
   ],
   "source": [
    "# 去除重复数据\n",
    "data.drop_duplicates(subset=list(data.columns)[1:], keep='first', inplace=True)\n",
    "data"
   ]
  },
  {
   "cell_type": "code",
   "execution_count": 5,
   "metadata": {},
   "outputs": [
    {
     "data": {
      "text/plain": [
       "Index(['OID_', 'lon', 'lat', 'deep', 'category', 'classname', 'classvalue'], dtype='object')"
      ]
     },
     "execution_count": 5,
     "metadata": {},
     "output_type": "execute_result"
    }
   ],
   "source": [
    "data.columns"
   ]
  },
  {
   "cell_type": "code",
   "execution_count": 6,
   "metadata": {},
   "outputs": [],
   "source": [
    "# 改写分类字段的类型\n",
    "data['classvalue']=data['classvalue'].astype('category')"
   ]
  },
  {
   "cell_type": "code",
   "execution_count": 7,
   "metadata": {},
   "outputs": [],
   "source": [
    "X = data[['lon', 'lat']]\n",
    "y = data[['classvalue']]"
   ]
  },
  {
   "cell_type": "code",
   "execution_count": 8,
   "metadata": {},
   "outputs": [],
   "source": [
    "X_train,X_test,y_train,y_test = train_test_split(X,y,test_size=0.2,random_state=42)"
   ]
  },
  {
   "cell_type": "code",
   "execution_count": null,
   "metadata": {},
   "outputs": [],
   "source": [
    "# 定义随机森林超参数的取值范围\n",
    "param_dist = {\n",
    "    'n_estimators': np.arange(10, 1000, 10),\n",
    "    'max_features': [1.0],\n",
    "    'max_depth': [None] + list(np.arange(1, 28)),\n",
    "    'min_samples_split': np.arange(2, 21),\n",
    "    'min_samples_leaf': np.arange(1, 21),\n",
    "    'bootstrap': [True, False]\n",
    "}\n",
    "\n",
    "# 创建随机森林回归器\n",
    "clf = RandomForestClassifier()\n",
    "\n",
    "# 使用RandomizedSearchCV来寻找最佳参数\n",
    "random_search = RandomizedSearchCV(clf, param_distributions=param_dist, n_iter=500, cv=5, verbose=1, random_state=42, n_jobs=-1)\n",
    "random_search.fit(X_train, y_train)\n",
    "\n",
    "# 打印最佳参数\n",
    "print('Best Parameters: \\n', random_search.best_params_)\n",
    "\n",
    "# 使用最佳参数对测试集进行评估\n",
    "best_clf = random_search.best_estimator_\n",
    "score = best_clf.score(X_test, y_test)\n",
    "print('Test accuracy:', score)\n"
   ]
  },
  {
   "cell_type": "code",
   "execution_count": 10,
   "metadata": {},
   "outputs": [
    {
     "name": "stderr",
     "output_type": "stream",
     "text": [
      "C:\\Users\\Runker\\AppData\\Local\\Temp\\ipykernel_16700\\481705654.py:3: DataConversionWarning: A column-vector y was passed when a 1d array was expected. Please change the shape of y to (n_samples,), for example using ravel().\n"
     ]
    },
    {
     "data": {
      "text/plain": [
       "(0.9670502092050209, 0.9709728033472803)"
      ]
     },
     "execution_count": 10,
     "metadata": {},
     "output_type": "execute_result"
    }
   ],
   "source": [
    "# 使用最优参数训练RandomForestRegressor模型\n",
    "rf = RandomForestClassifier(n_estimators=820, min_samples_split=8, min_samples_leaf= 3, max_features=1.0, max_depth=24, bootstrap= True)\n",
    "rf.fit(X_train,y_train)\n",
    "y_test_pred = rf.predict(X_test)\n",
    "y_train_pred = rf.predict(X_train)\n",
    "accuracy_score(y_test,y_test_pred),accuracy_score(y_train,y_train_pred)"
   ]
  },
  {
   "cell_type": "code",
   "execution_count": 11,
   "metadata": {},
   "outputs": [
    {
     "data": {
      "image/png": "[encoded data removed]",
      "text/plain": [
       "<Figure size 1000x700 with 2 Axes>"
      ]
     },
     "metadata": {},
     "output_type": "display_data"
    }
   ],
   "source": [
    "# 绘制混淆矩阵\n",
    "cm = confusion_matrix(y_train, y_train_pred)\n",
    "plt.figure(figsize=(10,7))\n",
    "sns.heatmap(cm, annot=True, fmt='g', cmap=\"Blues\")\n",
    "plt.ylabel('Actual')\n",
    "plt.xlabel('Predicted')\n",
    "plt.title('Confusion Matrix')\n",
    "plt.show()"
   ]
  },
  {
   "cell_type": "code",
   "execution_count": 13,
   "metadata": {},
   "outputs": [
    {
     "data": {
      "text/plain": [
       "(0.0, 1.0)"
      ]
     },
     "execution_count": 13,
     "metadata": {},
     "output_type": "execute_result"
    },
    {
     "data": {
      "image/png": "[encoded data removed]",
      "text/plain": [
       "<Figure size 640x480 with 1 Axes>"
      ]
     },
     "metadata": {},
     "output_type": "display_data"
    }
   ],
   "source": [
    "# 计算混淆矩阵\n",
    "cm = confusion_matrix(y_test, y_test_pred)\n",
    "\n",
    "# 计算每个类别的准确率\n",
    "accuracies = []\n",
    "for i in range(len(cm)):\n",
    "    tp = cm[i, i]\n",
    "    total = sum(cm[i, :]) + sum(cm[:, i]) - tp\n",
    "    accuracies.append(tp / total if total > 0 else 0)\n",
    "\n",
    "# 绘制每个类别的准确率图\n",
    "categories = ['Class 1', 'Class 2', 'Class 3']\n",
    "plt.bar(categories, accuracies)\n",
    "plt.ylabel('Accuracy')\n",
    "plt.title('Accuracy by Class')\n",
    "plt.ylim(0, 1) # 确保y轴从0到1"
   ]
  },
  {
   "cell_type": "code",
   "execution_count": 14,
   "metadata": {},
   "outputs": [
    {
     "data": {
      "text/plain": [
       "(0.0, 1.0)"
      ]
     },
     "execution_count": 14,
     "metadata": {},
     "output_type": "execute_result"
    },
    {
     "data": {
      "image/png": "[encoded data removed]",
      "text/plain": [
       "<Figure size 640x480 with 1 Axes>"
      ]
     },
     "metadata": {},
     "output_type": "display_data"
    }
   ],
   "source": [
    "# 计算混淆矩阵\n",
    "cm = confusion_matrix(y_train, y_train_pred)\n",
    "\n",
    "# 计算每个类别的准确率\n",
    "accuracies = []\n",
    "for i in range(len(cm)):\n",
    "    tp = cm[i, i]\n",
    "    total = sum(cm[i, :]) + sum(cm[:, i]) - tp\n",
    "    accuracies.append(tp / total if total > 0 else 0)\n",
    "\n",
    "# 绘制每个类别的准确率图\n",
    "categories = ['Class 1', 'Class 2', 'Class 3']\n",
    "plt.bar(categories, accuracies)\n",
    "plt.ylabel('Accuracy')\n",
    "plt.title('Accuracy by Class')\n",
    "plt.ylim(0, 1) # 确保y轴从0到1"
   ]
  }
 ],
 "metadata": {
  "kernelspec": {
   "display_name": ".venvgis",
   "language": "python",
   "name": "python3"
  },
  "language_info": {
   "codemirror_mode": {
    "name": "ipython",
    "version": 3
   },
   "file_extension": ".py",
   "mimetype": "text/x-python",
   "name": "python",
   "nbconvert_exporter": "python",
   "pygments_lexer": "ipython3",
   "version": "3.10.11"
  }
 },
 "nbformat": 4,
 "nbformat_minor": 2
}
