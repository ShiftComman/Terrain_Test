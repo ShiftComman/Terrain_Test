{
 "cells": [
  {
   "cell_type": "code",
   "execution_count": null,
   "metadata": {},
   "outputs": [],
   "source": [
    "import pandas as pd\n",
    "import concurrent.futures\n",
    "\n",
    "# 定义一个函数，用于处理单个CSV文件的预测和保存\n",
    "def process_csv(csv_file_path):\n",
    "    # 读取CSV文件\n",
    "    data = pd.read_csv(csv_file_path)\n",
    "\n",
    "    # 进行预测\n",
    "    predictions = model.predict(data)\n",
    "\n",
    "    # 保存预测结果为CSV文件\n",
    "    result = pd.DataFrame({'Prediction': predictions})\n",
    "    result.to_csv(f'result_{csv_file_path}', index=False)\n",
    "\n",
    "# 假设文件名为data1.csv, data2.csv, ..., data1000.csv\n",
    "csv_files = [f'data{i}.csv' for i in range(1, 1001)]\n",
    "\n",
    "# 创建一个进程池，并使用多个进程处理CSV文件\n",
    "with concurrent.futures.ProcessPoolExecutor() as executor:\n",
    "    executor.map(process_csv, csv_files)\n"
   ]
  }
 ],
 "metadata": {
  "kernelspec": {
   "display_name": "Python 3",
   "language": "python",
   "name": "python3"
  },
  "language_info": {
   "codemirror_mode": {
    "name": "ipython",
    "version": 3
   },
   "file_extension": ".py",
   "mimetype": "text/x-python",
   "name": "python",
   "nbconvert_exporter": "python",
   "pygments_lexer": "ipython3",
   "version": "3.9.11"
  },
  "orig_nbformat": 4
 },
 "nbformat": 4,
 "nbformat_minor": 2
}
