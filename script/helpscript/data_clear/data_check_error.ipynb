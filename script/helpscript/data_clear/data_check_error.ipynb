{
 "cells": [
  {
   "cell_type": "markdown",
   "metadata": {},
   "source": [
    "# 递归检查文件夹下的日志文件中是否有warning和error\n"
   ]
  },
  {
   "cell_type": "code",
   "execution_count": 82,
   "metadata": {},
   "outputs": [],
   "source": [
    "\n",
    "import os\n",
    "import re\n",
    "\n",
    "def check_log_file(folder_path,error_list):\n",
    "    for root, dirs, files in os.walk(folder_path):\n",
    "        for file in files:\n",
    "            # 如果有log文件，则检查文件内容\n",
    "            if file.endswith('.log'):\n",
    "                check_log_file_content(os.path.join(root, file),error_list)\n",
    "def check_log_file_content(file_path, error_list):\n",
    "    # 尝试不同的编码方式\n",
    "    encodings = ['utf-8', 'latin-1', 'gbk', 'gb2312', 'gb18030']\n",
    "    \n",
    "    for encoding in encodings:\n",
    "        try:\n",
    "            with open(file_path, 'r', encoding=encoding) as file:\n",
    "                # 逐行读取文件内容\n",
    "                for line_num, line in enumerate(file, 1):\n",
    "                    # 检查每一行是否包含warning或error\n",
    "                    if re.search(r'warning|error', line, re.IGNORECASE):\n",
    "                        error_type = \"Warning\" if re.search(r'warning', line, re.IGNORECASE) else \"Error\"\n",
    "                        print(f\"\\n{error_type} found in {file_path}\")\n",
    "                        print(f\"Line {line_num}: {line.strip()}\")\n",
    "                        # 将错误信息和行号一起保存\n",
    "                        error_list.append({\n",
    "                            'file_path': file_path,\n",
    "                            'line_number': line_num,\n",
    "                            'error_type': error_type,\n",
    "                            'content': line.strip()\n",
    "                        })\n",
    "                        \n",
    "                        # 将警告内容写入txt文件\n",
    "                        if error_type == \"Warning\":\n",
    "                            with open('warnings.txt', 'a', encoding='utf-8') as f:\n",
    "                                f.write(f\"{line.strip()}_{os.path.basename(os.path.dirname(file_path))}\\n\")\n",
    "                                \n",
    "                break  # 如果成功读取，跳出循环\n",
    "        except UnicodeDecodeError:\n",
    "            continue  # 如果当前编码失败，尝试下一个编码\n",
    "        except Exception as e:\n",
    "            print(f\"Error reading {file_path}: {str(e)}\")\n",
    "            break\n"
   ]
  },
  {
   "cell_type": "code",
   "execution_count": null,
   "metadata": {},
   "outputs": [],
   "source": [
    "# check log file\n",
    "folder_path = 'F:\\collection_spb_info\\XJSH\\ALL_DATA\\ALL_JCJG'\n",
    "error_list = []\n",
    "check_log_file(folder_path,error_list)\n",
    "print(error_list)"
   ]
  },
  {
   "cell_type": "code",
   "execution_count": null,
   "metadata": {},
   "outputs": [],
   "source": [
    "len(error_list)"
   ]
  },
  {
   "cell_type": "code",
   "execution_count": 102,
   "metadata": {},
   "outputs": [],
   "source": [
    "# 提取文件中包含连续6位数字的代码\n",
    "def extract_6_code(file_path, code_list):\n",
    "    with open(file_path, 'r', encoding='utf-8') as file:\n",
    "        for line in file:\n",
    "            # 匹配任意连续6位数字\n",
    "            match = re.search(r'\\d{6}', line)\n",
    "            if match:\n",
    "                code = match.group()\n",
    "                code_list.append(code)\n",
    "    return code_list"
   ]
  },
  {
   "cell_type": "code",
   "execution_count": 96,
   "metadata": {},
   "outputs": [],
   "source": [
    "path_1 = r'D:\\worker_code\\Terrain_Test\\script\\helpscript\\data_clear\\base_warnings.txt'\n",
    "path_2 = r'D:\\worker_code\\Terrain_Test\\script\\helpscript\\data_clear\\warnings.txt'\n",
    "code1_list = []\n",
    "code2_list = []"
   ]
  },
  {
   "cell_type": "code",
   "execution_count": null,
   "metadata": {},
   "outputs": [],
   "source": [
    "extract_6_code(path_1,code1_list)\n",
    "extract_6_code(path_2,code2_list)"
   ]
  },
  {
   "cell_type": "code",
   "execution_count": null,
   "metadata": {},
   "outputs": [],
   "source": [
    "code2_list"
   ]
  },
  {
   "cell_type": "code",
   "execution_count": null,
   "metadata": {},
   "outputs": [],
   "source": [
    "code1_list"
   ]
  },
  {
   "cell_type": "code",
   "execution_count": null,
   "metadata": {},
   "outputs": [],
   "source": [
    "# 查了找两个list的异同\n",
    "set(code1_list) - set(code2_list)\n",
    "set(code2_list) - set(code1_list)\n"
   ]
  }
 ],
 "metadata": {
  "kernelspec": {
   "display_name": ".venvgis",
   "language": "python",
   "name": "python3"
  },
  "language_info": {
   "codemirror_mode": {
    "name": "ipython",
    "version": 3
   },
   "file_extension": ".py",
   "mimetype": "text/x-python",
   "name": "python",
   "nbconvert_exporter": "python",
   "pygments_lexer": "ipython3",
   "version": "3.10.11"
  }
 },
 "nbformat": 4,
 "nbformat_minor": 2
}
