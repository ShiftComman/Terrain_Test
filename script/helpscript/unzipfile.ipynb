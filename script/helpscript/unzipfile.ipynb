{
 "cells": [
  {
   "cell_type": "code",
   "execution_count": 1,
   "metadata": {},
   "outputs": [],
   "source": [
    "import os \n",
    "import zipfile"
   ]
  },
  {
   "cell_type": "code",
   "execution_count": 2,
   "metadata": {},
   "outputs": [],
   "source": [
    "\n",
    "def unzip_all_in_directory(directory_path, output_directory=None):\n",
    "    \"\"\"\n",
    "    解压文件夹下的所有.zip文件\n",
    "    :param directory_path: 包含.zip文件的文件夹路径\n",
    "    :param output_directory: 解压后的文件保存路径（如果为None，则在原路径下解压）\n",
    "    \"\"\"\n",
    "    if not output_directory:\n",
    "        output_directory = directory_path\n",
    "    \n",
    "    for root, dirs, files in os.walk(directory_path):\n",
    "        for file in files:\n",
    "            if file.endswith('.zip'):\n",
    "                zip_file_path = os.path.join(root, file)\n",
    "                with zipfile.ZipFile(zip_file_path, 'r') as zip_ref:\n",
    "                    zip_ref.extractall(output_directory)\n",
    "                    print(f\"Unzipped {zip_file_path} to {output_directory}\")"
   ]
  },
  {
   "cell_type": "code",
   "execution_count": 3,
   "metadata": {},
   "outputs": [
    {
     "name": "stdout",
     "output_type": "stream",
     "text": [
      "Unzipped D:\\BaiduNetdiskDownload\\NASADEM v001_贵州\\贵州\\NASADEM_HGT_n24e104.zip to D:\\BaiduNetdiskDownload\\NASADEM v001_贵州\\Unzip\n",
      "Unzipped D:\\BaiduNetdiskDownload\\NASADEM v001_贵州\\贵州\\NASADEM_HGT_n24e105.zip to D:\\BaiduNetdiskDownload\\NASADEM v001_贵州\\Unzip\n",
      "Unzipped D:\\BaiduNetdiskDownload\\NASADEM v001_贵州\\贵州\\NASADEM_HGT_n24e106.zip to D:\\BaiduNetdiskDownload\\NASADEM v001_贵州\\Unzip\n",
      "Unzipped D:\\BaiduNetdiskDownload\\NASADEM v001_贵州\\贵州\\NASADEM_HGT_n25e104.zip to D:\\BaiduNetdiskDownload\\NASADEM v001_贵州\\Unzip\n",
      "Unzipped D:\\BaiduNetdiskDownload\\NASADEM v001_贵州\\贵州\\NASADEM_HGT_n25e105.zip to D:\\BaiduNetdiskDownload\\NASADEM v001_贵州\\Unzip\n",
      "Unzipped D:\\BaiduNetdiskDownload\\NASADEM v001_贵州\\贵州\\NASADEM_HGT_n25e106.zip to D:\\BaiduNetdiskDownload\\NASADEM v001_贵州\\Unzip\n",
      "Unzipped D:\\BaiduNetdiskDownload\\NASADEM v001_贵州\\贵州\\NASADEM_HGT_n25e107.zip to D:\\BaiduNetdiskDownload\\NASADEM v001_贵州\\Unzip\n",
      "Unzipped D:\\BaiduNetdiskDownload\\NASADEM v001_贵州\\贵州\\NASADEM_HGT_n25e108.zip to D:\\BaiduNetdiskDownload\\NASADEM v001_贵州\\Unzip\n",
      "Unzipped D:\\BaiduNetdiskDownload\\NASADEM v001_贵州\\贵州\\NASADEM_HGT_n25e109.zip to D:\\BaiduNetdiskDownload\\NASADEM v001_贵州\\Unzip\n",
      "Unzipped D:\\BaiduNetdiskDownload\\NASADEM v001_贵州\\贵州\\NASADEM_HGT_n26e103.zip to D:\\BaiduNetdiskDownload\\NASADEM v001_贵州\\Unzip\n",
      "Unzipped D:\\BaiduNetdiskDownload\\NASADEM v001_贵州\\贵州\\NASADEM_HGT_n26e104.zip to D:\\BaiduNetdiskDownload\\NASADEM v001_贵州\\Unzip\n",
      "Unzipped D:\\BaiduNetdiskDownload\\NASADEM v001_贵州\\贵州\\NASADEM_HGT_n26e105.zip to D:\\BaiduNetdiskDownload\\NASADEM v001_贵州\\Unzip\n",
      "Unzipped D:\\BaiduNetdiskDownload\\NASADEM v001_贵州\\贵州\\NASADEM_HGT_n26e106.zip to D:\\BaiduNetdiskDownload\\NASADEM v001_贵州\\Unzip\n",
      "Unzipped D:\\BaiduNetdiskDownload\\NASADEM v001_贵州\\贵州\\NASADEM_HGT_n26e107.zip to D:\\BaiduNetdiskDownload\\NASADEM v001_贵州\\Unzip\n",
      "Unzipped D:\\BaiduNetdiskDownload\\NASADEM v001_贵州\\贵州\\NASADEM_HGT_n26e108.zip to D:\\BaiduNetdiskDownload\\NASADEM v001_贵州\\Unzip\n",
      "Unzipped D:\\BaiduNetdiskDownload\\NASADEM v001_贵州\\贵州\\NASADEM_HGT_n26e109.zip to D:\\BaiduNetdiskDownload\\NASADEM v001_贵州\\Unzip\n",
      "Unzipped D:\\BaiduNetdiskDownload\\NASADEM v001_贵州\\贵州\\NASADEM_HGT_n27e103.zip to D:\\BaiduNetdiskDownload\\NASADEM v001_贵州\\Unzip\n",
      "Unzipped D:\\BaiduNetdiskDownload\\NASADEM v001_贵州\\贵州\\NASADEM_HGT_n27e104.zip to D:\\BaiduNetdiskDownload\\NASADEM v001_贵州\\Unzip\n",
      "Unzipped D:\\BaiduNetdiskDownload\\NASADEM v001_贵州\\贵州\\NASADEM_HGT_n27e105.zip to D:\\BaiduNetdiskDownload\\NASADEM v001_贵州\\Unzip\n",
      "Unzipped D:\\BaiduNetdiskDownload\\NASADEM v001_贵州\\贵州\\NASADEM_HGT_n27e106.zip to D:\\BaiduNetdiskDownload\\NASADEM v001_贵州\\Unzip\n",
      "Unzipped D:\\BaiduNetdiskDownload\\NASADEM v001_贵州\\贵州\\NASADEM_HGT_n27e107.zip to D:\\BaiduNetdiskDownload\\NASADEM v001_贵州\\Unzip\n",
      "Unzipped D:\\BaiduNetdiskDownload\\NASADEM v001_贵州\\贵州\\NASADEM_HGT_n27e108.zip to D:\\BaiduNetdiskDownload\\NASADEM v001_贵州\\Unzip\n",
      "Unzipped D:\\BaiduNetdiskDownload\\NASADEM v001_贵州\\贵州\\NASADEM_HGT_n27e109.zip to D:\\BaiduNetdiskDownload\\NASADEM v001_贵州\\Unzip\n",
      "Unzipped D:\\BaiduNetdiskDownload\\NASADEM v001_贵州\\贵州\\NASADEM_HGT_n28e105.zip to D:\\BaiduNetdiskDownload\\NASADEM v001_贵州\\Unzip\n",
      "Unzipped D:\\BaiduNetdiskDownload\\NASADEM v001_贵州\\贵州\\NASADEM_HGT_n28e106.zip to D:\\BaiduNetdiskDownload\\NASADEM v001_贵州\\Unzip\n",
      "Unzipped D:\\BaiduNetdiskDownload\\NASADEM v001_贵州\\贵州\\NASADEM_HGT_n28e107.zip to D:\\BaiduNetdiskDownload\\NASADEM v001_贵州\\Unzip\n",
      "Unzipped D:\\BaiduNetdiskDownload\\NASADEM v001_贵州\\贵州\\NASADEM_HGT_n28e108.zip to D:\\BaiduNetdiskDownload\\NASADEM v001_贵州\\Unzip\n",
      "Unzipped D:\\BaiduNetdiskDownload\\NASADEM v001_贵州\\贵州\\NASADEM_HGT_n28e109.zip to D:\\BaiduNetdiskDownload\\NASADEM v001_贵州\\Unzip\n",
      "Unzipped D:\\BaiduNetdiskDownload\\NASADEM v001_贵州\\贵州\\NASADEM_HGT_n29e106.zip to D:\\BaiduNetdiskDownload\\NASADEM v001_贵州\\Unzip\n",
      "Unzipped D:\\BaiduNetdiskDownload\\NASADEM v001_贵州\\贵州\\NASADEM_HGT_n29e107.zip to D:\\BaiduNetdiskDownload\\NASADEM v001_贵州\\Unzip\n",
      "Unzipped D:\\BaiduNetdiskDownload\\NASADEM v001_贵州\\贵州\\NASADEM_HGT_n29e108.zip to D:\\BaiduNetdiskDownload\\NASADEM v001_贵州\\Unzip\n"
     ]
    }
   ],
   "source": [
    "unzip_all_in_directory(r\"D:\\BaiduNetdiskDownload\\NASADEM v001_贵州\\贵州\",r\"D:\\BaiduNetdiskDownload\\NASADEM v001_贵州\\Unzip\")"
   ]
  }
 ],
 "metadata": {
  "kernelspec": {
   "display_name": ".venvgis",
   "language": "python",
   "name": "python3"
  },
  "language_info": {
   "codemirror_mode": {
    "name": "ipython",
    "version": 3
   },
   "file_extension": ".py",
   "mimetype": "text/x-python",
   "name": "python",
   "nbconvert_exporter": "python",
   "pygments_lexer": "ipython3",
   "version": "3.10.11"
  },
  "orig_nbformat": 4
 },
 "nbformat": 4,
 "nbformat_minor": 2
}
