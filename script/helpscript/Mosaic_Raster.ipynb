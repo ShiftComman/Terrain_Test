{
 "cells": [
  {
   "cell_type": "code",
   "execution_count": 1,
   "metadata": {},
   "outputs": [],
   "source": [
    "import os\n",
    "import arcpy\n",
    "from arcpy import env\n",
    "from arcpy.sa import *"
   ]
  },
  {
   "cell_type": "code",
   "execution_count": 2,
   "metadata": {},
   "outputs": [],
   "source": [
    "raster_path = r\"D:\\BaiduNetdiskDownload\\NASADEM v001_贵州\\Unzip\""
   ]
  },
  {
   "cell_type": "code",
   "execution_count": 7,
   "metadata": {},
   "outputs": [
    {
     "data": {
      "text/plain": [
       "['n24e104.hgt',\n",
       " 'n24e105.hgt',\n",
       " 'n24e106.hgt',\n",
       " 'n25e104.hgt',\n",
       " 'n25e105.hgt',\n",
       " 'n25e106.hgt',\n",
       " 'n25e107.hgt',\n",
       " 'n25e108.hgt',\n",
       " 'n25e109.hgt',\n",
       " 'n26e103.hgt',\n",
       " 'n26e104.hgt',\n",
       " 'n26e105.hgt',\n",
       " 'n26e106.hgt',\n",
       " 'n26e107.hgt',\n",
       " 'n26e108.hgt',\n",
       " 'n26e109.hgt',\n",
       " 'n27e103.hgt',\n",
       " 'n27e104.hgt',\n",
       " 'n27e105.hgt',\n",
       " 'n27e106.hgt',\n",
       " 'n27e107.hgt',\n",
       " 'n27e108.hgt',\n",
       " 'n27e109.hgt',\n",
       " 'n28e105.hgt',\n",
       " 'n28e106.hgt',\n",
       " 'n28e107.hgt',\n",
       " 'n28e108.hgt',\n",
       " 'n28e109.hgt',\n",
       " 'n29e106.hgt',\n",
       " 'n29e107.hgt',\n",
       " 'n29e108.hgt']"
      ]
     },
     "execution_count": 7,
     "metadata": {},
     "output_type": "execute_result"
    }
   ],
   "source": [
    "env.workspace = raster_path\n",
    "arcpy.ListRasters()"
   ]
  },
  {
   "cell_type": "code",
   "execution_count": 4,
   "metadata": {},
   "outputs": [],
   "source": [
    "# 镶嵌至新栅格\n",
    "def mosaic_new_raster(raster_list,out_gdb,out_name,pre_refer):\n",
    "    pre_refer_prj = arcpy.Describe(pre_refer).spatialReference\n",
    "    with arcpy.EnvManager(parallelProcessingFactor=\"0\"):\n",
    "        arcpy.management.MosaicToNewRaster(raster_list, out_gdb, out_name, pre_refer_prj, \"16_BIT_UNSIGNED\", None, 1, \"LAST\", \"FIRST\")"
   ]
  },
  {
   "cell_type": "code",
   "execution_count": 8,
   "metadata": {},
   "outputs": [],
   "source": [
    "raster_list = arcpy.ListRasters()\n",
    "out_gdb = r\"D:\\ArcgisData\\pred_soildeep\\pre_database\\pred_soildeep_gz.gdb\"\n",
    "out_name = \"DEM\"\n",
    "pre_fer = r\"D:\\ArcgisData\\pred_soildeep\\pre_database\\pred_soildeep_gz.gdb\\AP\""
   ]
  },
  {
   "cell_type": "code",
   "execution_count": 9,
   "metadata": {},
   "outputs": [],
   "source": [
    "\n",
    "mosaic_new_raster(raster_list,out_gdb,out_name,pre_fer)"
   ]
  }
 ],
 "metadata": {
  "kernelspec": {
   "display_name": "Python 3",
   "language": "python",
   "name": "python3"
  },
  "language_info": {
   "codemirror_mode": {
    "name": "ipython",
    "version": 3
   },
   "file_extension": ".py",
   "mimetype": "text/x-python",
   "name": "python",
   "nbconvert_exporter": "python",
   "pygments_lexer": "ipython3",
   "version": "3.9.11"
  },
  "orig_nbformat": 4
 },
 "nbformat": 4,
 "nbformat_minor": 2
}
