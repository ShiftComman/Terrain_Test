{
 "cells": [
  {
   "cell_type": "code",
   "execution_count": 17,
   "metadata": {},
   "outputs": [],
   "source": [
    "import arcpy\n",
    "from arcpy.sa import *\n",
    "from arcpy import env\n",
    "from arcpy.conversion import *\n",
    "from arcpy.management import *\n",
    "from arcpy.da import UpdateCursor\n",
    "import math"
   ]
  },
  {
   "cell_type": "code",
   "execution_count": 14,
   "metadata": {},
   "outputs": [],
   "source": [
    "# 获取像元值\n",
    "def get_raster_value(target_raster,x,y):\n",
    "    result = arcpy.management.GetCellValue(target_raster, f\"{x} {y}\", 1)\n",
    "    value = result.getOutput(0)\n",
    "    if value==\"NoData\":\n",
    "        cellvalue = 0\n",
    "    else:\n",
    "        cellvalue = value\n",
    "    return cellvalue"
   ]
  },
  {
   "cell_type": "code",
   "execution_count": 31,
   "metadata": {},
   "outputs": [
    {
     "data": {
      "text/plain": [
       "['pre_2022',\n",
       " 'pre_2022_mean',\n",
       " 'tmp_2022',\n",
       " 'tmp_2022_mean',\n",
       " 'SY_DEM_5',\n",
       " 'SY_ASP_5',\n",
       " 'SY_SLOP_5',\n",
       " 'SY_DLTB_RASTER',\n",
       " 'ndvi_2022',\n",
       " 'SY_TWI_5',\n",
       " 'SY_TPI_3',\n",
       " 'SY_TPI_11',\n",
       " 'SY_TPI_101',\n",
       " 'SY_TPI_201',\n",
       " 'SY_PRE_2022',\n",
       " 'SY_PRE_20223',\n",
       " 'SY_PRE_5',\n",
       " 'SY_DEM_TEST',\n",
       " 'SY_DEM_fan',\n",
       " 'SY_ASP_fan',\n",
       " 'SY_SLOP_fan',\n",
       " 'SY_TWI_fan',\n",
       " 'SY_TPI_fan',\n",
       " 'RESULT',\n",
       " 'SY_DZ',\n",
       " 'Curvatu_SY_D1',\n",
       " 'profile_curve',\n",
       " 'plan_curve',\n",
       " 'SY_CUR_5',\n",
       " 'SY_TMP_2022',\n",
       " 'SY_NDVI_2022']"
      ]
     },
     "execution_count": 31,
     "metadata": {},
     "output_type": "execute_result"
    }
   ],
   "source": [
    "# env\n",
    "env.workspace = \"D:\\ArcGISProjects\\syraster\\ph.gdb\"\n",
    "# arcpy.ListFeatureClasses()\n",
    "arcpy.ListRasters()"
   ]
  },
  {
   "cell_type": "code",
   "execution_count": 79,
   "metadata": {},
   "outputs": [],
   "source": [
    "# 点要素\n",
    "point_data = \"SY_POINT_GD\"\n",
    "\n",
    "# 栅格要素\n",
    "dem = \"SY_DEM_5\"\n",
    "asp = \"SY_ASP_5\"\n",
    "slope = \"SY_SLOP_5\"\n",
    "cur = \"SY_CUR_5\"\n",
    "pocur = \"profile_curve\"\n",
    "plcur = \"plan_curve\"\n",
    "twi5 = \"SY_TWI_5\"\n",
    "tpi5 = \"SY_TPI_3\"\n",
    "tpi11 = \"SY_TPI_11\"\n",
    "tpi101 = \"SY_TPI_101\"\n",
    "tpi201 = \"SY_TPI_201\"\n",
    "ndvi = \"SY_NDVI_5\"\n",
    "pre = \"SY_PRE_5\"\n",
    "tmp = \"SY_TMP_5\"\n",
    "dz = \"SY_DZ_5\""
   ]
  },
  {
   "cell_type": "code",
   "execution_count": 24,
   "metadata": {},
   "outputs": [],
   "source": [
    "# 添加字段\n",
    "# filed_list = ['dem','asp','slope','cur','pocur','plcur','twi5','tpi5','tpi11','tpi101','tpi201','ndvi','pre','tmp','dz',\"X\",\"Y\"]\n",
    "# for one_filed in filed_list:\n",
    "#     arcpy.AddField_management(point_data,one_filed,\"DOUBLE\")"
   ]
  },
  {
   "cell_type": "code",
   "execution_count": 34,
   "metadata": {},
   "outputs": [],
   "source": [
    "\n",
    "search_list = [\"SHAPE@XY\",'dem','asp','slope','cur','pocur','plcur','twi5','tpi5','tpi11','tpi101','tpi201','ndvi','pre','tmp','dz',\"X\",\"Y\"]"
   ]
  },
  {
   "cell_type": "code",
   "execution_count": null,
   "metadata": {},
   "outputs": [],
   "source": [
    "# 遍历要素并计算X,Y\n",
    "with UpdateCursor(point_data,search_list,spatial_reference=dem) as cursor:\n",
    "    for row in cursor:\n",
    "        dem_values = get_raster_value(dem,row[0][0],row[0][1])\n",
    "        asp_values = get_raster_value(asp,row[0][0],row[0][1])\n",
    "        slope_values = get_raster_value(slope,row[0][0],row[0][1])\n",
    "        cur_values = get_raster_value(cur,row[0][0],row[0][1])\n",
    "        pocur_values = get_raster_value(pocur,row[0][0],row[0][1])\n",
    "        plcur_values = get_raster_value(plcur,row[0][0],row[0][1])\n",
    "        twi5_values = get_raster_value(twi5,row[0][0],row[0][1])\n",
    "        tpi5_values = get_raster_value(tpi5,row[0][0],row[0][1])\n",
    "        tpi11_values = get_raster_value(tpi11,row[0][0],row[0][1])\n",
    "        tpi101_values = get_raster_value(tpi101,row[0][0],row[0][1])\n",
    "        tpi201_values = get_raster_value(tpi201,row[0][0],row[0][1])\n",
    "        pre_values = get_raster_value(pre,row[0][0],row[0][1])\n",
    "        tmp_values = get_raster_value(tmp,row[0][0],row[0][1])\n",
    "        dz_values = get_raster_value(dz,row[0][0],row[0][1])\n",
    "        value_list = [dem_values,asp_values,slope_values,cur_values,pocur_values,plcur_values,twi5_values,tpi5_values,tpi11_values,tpi101_values,tpi201_values,pre_values,tmp_values,dz_values]\n",
    "        print(value_list)\n",
    "        "
   ]
  },
  {
   "cell_type": "code",
   "execution_count": 80,
   "metadata": {},
   "outputs": [],
   "source": [
    "dem_array = arcpy.RasterToNumPyArray(dem)\n",
    "asp_array = arcpy.RasterToNumPyArray(asp)\n",
    "slope_array = arcpy.RasterToNumPyArray(slope)\n",
    "cur_array = arcpy.RasterToNumPyArray(cur)\n",
    "pocur_array = arcpy.RasterToNumPyArray(pocur)\n",
    "plcur_array = arcpy.RasterToNumPyArray(plcur)\n",
    "twi5_array = arcpy.RasterToNumPyArray(twi5)\n",
    "tpi5_array = arcpy.RasterToNumPyArray(tpi5)\n",
    "tpi11_array = arcpy.RasterToNumPyArray(tpi11)\n",
    "tpi101_array = arcpy.RasterToNumPyArray(tpi101)\n",
    "tpi201_array = arcpy.RasterToNumPyArray(tpi201)\n",
    "ndvi_array = arcpy.RasterToNumPyArray(ndvi)\n",
    "pre_array = arcpy.RasterToNumPyArray(pre)\n",
    "tmp_array = arcpy.RasterToNumPyArray(tmp)\n",
    "dz_array = arcpy.RasterToNumPyArray(dz)"
   ]
  },
  {
   "cell_type": "code",
   "execution_count": 81,
   "metadata": {},
   "outputs": [
    {
     "data": {
      "text/plain": [
       "((14884, 11094),\n",
       " (14884, 11094),\n",
       " (14884, 11094),\n",
       " (14884, 11094),\n",
       " (14884, 11094),\n",
       " (14884, 11094),\n",
       " (14884, 11094),\n",
       " (14884, 11094))"
      ]
     },
     "execution_count": 81,
     "metadata": {},
     "output_type": "execute_result"
    }
   ],
   "source": [
    "dem_array.shape,asp_array.shape,slope_array.shape,cur_array.shape,pocur_array.shape,plcur_array.shape,twi5_array.shape,tpi5_array.shape"
   ]
  },
  {
   "cell_type": "code",
   "execution_count": 88,
   "metadata": {},
   "outputs": [
    {
     "data": {
      "text/plain": [
       "((14884, 11094),\n",
       " (14884, 11094),\n",
       " (14884, 11094),\n",
       " (14884, 11094),\n",
       " (14884, 11094),\n",
       " (14884, 11094),\n",
       " (14884, 11094))"
      ]
     },
     "execution_count": 88,
     "metadata": {},
     "output_type": "execute_result"
    }
   ],
   "source": [
    "tpi11_array.shape,tpi101_array.shape,tpi201_array.shape,ndvi_array.shape,pre_array.shape,tmp_array.shape,dz_array.shape"
   ]
  },
  {
   "cell_type": "code",
   "execution_count": 83,
   "metadata": {},
   "outputs": [],
   "source": [
    "import numpy as np"
   ]
  },
  {
   "cell_type": "code",
   "execution_count": 84,
   "metadata": {},
   "outputs": [],
   "source": [
    "# 填充列\n",
    "if dem_array.shape[1] > dz_array.shape[1]:\n",
    "    diff_cols = dem_array.shape[1] - dz_array.shape[1]\n",
    "    dz_array = np.pad(dz_array, ((0, 0), (0, diff_cols)), mode='constant')"
   ]
  },
  {
   "cell_type": "code",
   "execution_count": 77,
   "metadata": {},
   "outputs": [],
   "source": [
    "# 填充行\n",
    "# if A.shape[0] > B.shape[0]:\n",
    "#     diff_rows = A.shape[0] - B.shape[0]\n",
    "#     B = np.pad(B, ((0, diff_rows), (0, 0)), mode='constant')"
   ]
  }
 ],
 "metadata": {
  "kernelspec": {
   "display_name": "Python 3",
   "language": "python",
   "name": "python3"
  },
  "language_info": {
   "codemirror_mode": {
    "name": "ipython",
    "version": 3
   },
   "file_extension": ".py",
   "mimetype": "text/x-python",
   "name": "python",
   "nbconvert_exporter": "python",
   "pygments_lexer": "ipython3",
   "version": "3.9.11"
  },
  "orig_nbformat": 4
 },
 "nbformat": 4,
 "nbformat_minor": 2
}
