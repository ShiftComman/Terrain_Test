{
 "cells": [
  {
   "cell_type": "code",
   "execution_count": 1,
   "metadata": {},
   "outputs": [],
   "source": [
    "import os\n",
    "import pandas as pd\n",
    "import numpy as np\n",
    "import shutil\n",
    "import arcpy\n",
    "from sklearn.metrics import r2_score, mean_squared_error, mean_absolute_error, mean_absolute_percentage_error,mean_squared_log_error\n",
    "import matplotlib.pyplot as plt\n",
    "import seaborn as sns\n",
    "from arcpy import env\n",
    "from arcpy.management import *\n",
    "from arcpy.sa import *\n",
    "from arcpy.da import *\n",
    "from arcpy.conversion import *"
   ]
  },
  {
   "cell_type": "code",
   "execution_count": 2,
   "metadata": {},
   "outputs": [],
   "source": [
    "env.overwriteOutput = True"
   ]
  },
  {
   "cell_type": "code",
   "execution_count": 3,
   "metadata": {},
   "outputs": [],
   "source": [
    "# 分析函数\n",
    "# 取消并行处理\n",
    "def disable_parallel_processing(func):\n",
    "    def wrapper(*args, **kwargs):\n",
    "        with arcpy.EnvManager(parallelProcessingFactor=\"0\"):\n",
    "            return func(*args, **kwargs)\n",
    "    return wrapper\n",
    "# 采样\n",
    "def sample_point(point_,raster_,out_name):\n",
    "    \"\"\"根据栅格采样点,输出为表格\"\"\"\n",
    "    Sample(raster_,point_,out_name,\"NEAREST\", \"OBJECTID\", \"CURRENT_SLICE\", None, '', None, None, \"ROW_WISE\", \"TABLE\")\n",
    "    return None\n",
    "\n",
    "# 导出CSV\n",
    "def export_csv(table_,out_path,out_name):\n",
    "    TableToTable(table_,out_path,out_name)\n",
    "    return None\n",
    "\n",
    "# xy表转点\n",
    "def xy_to_point(in_table,out_feature_class,x_field,y_field,z_field=None,coordinate_system=arcpy.SpatialReference(4326)):\n",
    "    \"\"\"将xy表转点，坐标系默认为WGS84\"\"\"\n",
    "    arcpy.management.XYTableToPoint(in_table=in_table, out_feature_class=out_feature_class, x_field=x_field, y_field=y_field, z_field=z_field, coordinate_system=coordinate_system)\n",
    "    return None\n"
   ]
  },
  {
   "cell_type": "code",
   "execution_count": 4,
   "metadata": {},
   "outputs": [],
   "source": [
    "# 表格路径(需要为CSV文件)\n",
    "point_data_table = r\"F:\\float_data\\DY\\marked_data.csv\""
   ]
  },
  {
   "cell_type": "code",
   "execution_count": 5,
   "metadata": {},
   "outputs": [],
   "source": [
    "# 点位数据路径\n",
    "check_point_data_path = r'D:\\ArcGISProjects\\workspace\\shbyq\\features_data_vector.gdb\\features_dy\\dy_sp_point'"
   ]
  },
  {
   "cell_type": "code",
   "execution_count": 6,
   "metadata": {},
   "outputs": [],
   "source": [
    "# xy表转点\n",
    "xy_to_point(point_data_table,check_point_data_path,'dwjd','dwwd')"
   ]
  }
 ],
 "metadata": {
  "kernelspec": {
   "display_name": "Python 3",
   "language": "python",
   "name": "python3"
  },
  "language_info": {
   "codemirror_mode": {
    "name": "ipython",
    "version": 3
   },
   "file_extension": ".py",
   "mimetype": "text/x-python",
   "name": "python",
   "nbconvert_exporter": "python",
   "pygments_lexer": "ipython3",
   "version": "3.9.11"
  }
 },
 "nbformat": 4,
 "nbformat_minor": 2
}
