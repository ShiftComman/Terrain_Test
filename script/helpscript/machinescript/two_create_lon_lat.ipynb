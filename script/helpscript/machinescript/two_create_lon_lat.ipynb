{
 "cells": [
  {
   "cell_type": "code",
   "execution_count": 1,
   "metadata": {},
   "outputs": [],
   "source": [
    "import arcpy\n",
    "from arcpy import env\n",
    "import pandas as pd\n",
    "import numpy as np"
   ]
  },
  {
   "cell_type": "code",
   "execution_count": 2,
   "metadata": {},
   "outputs": [
    {
     "name": "stdout",
     "output_type": "stream",
     "text": [
      "['DEM', 'AnalyticalHillshading', 'Aspect', 'ChannelNetworkBaseLevel', 'ChannelNetworkDistance', 'ClosedDepressions', 'ConvergenceIndex', 'LSFactor', 'MRRTF', 'MRVBF', 'PlanCurvature', 'ProfileCurvature', 'RelativeSlopePosition', 'Slope', 'TopographicWetnessIndex', 'TotalCatchmentArea', 'ValleyDepth', 'NIGHT2022', 'ETP2022_mean', 'TMP2022_mean', 'PRE2022_mean', 'PRE2022_3', 'PRE2022_11', 'ETP2022_3', 'ETP2022_11', 'TMP2022_3', 'TMP2022_11', 'evi', 'lswi', 'mndwi', 'ndmi', 'ndvi', 'ndwi', 'PCA_0', 'PCA_1', 'savi', 'vari', 'DL', 'DZ']\n",
      "39\n"
     ]
    }
   ],
   "source": [
    "env_path = r\"D:\\ArcGISProjects\\workspace\\shbyq\\feature_raster_file\\features_data_dy.gdb\"\n",
    "env.workspace = env_path\n",
    "raster_list = arcpy.ListRasters()\n",
    "print(raster_list)\n",
    "print(len(raster_list))"
   ]
  },
  {
   "cell_type": "code",
   "execution_count": 3,
   "metadata": {},
   "outputs": [],
   "source": [
    "# 检查现有的raster空间范围和像元是否一致\n",
    "\n",
    "def check_raster_info(raster_path):\n",
    "    desc = arcpy.Describe(raster_path)\n",
    "    origin_x = desc.extent.XMin\n",
    "    origin_y = desc.extent.YMax\n",
    "    pixel_width = desc.meanCellWidth\n",
    "    pixel_height = desc.meanCellHeight\n",
    "    rows = desc.height\n",
    "    cols = desc.width\n",
    "    print(origin_x,origin_y,rows,cols,pixel_width,pixel_height)\n",
    "    return((origin_x,origin_y,rows,cols,pixel_width,pixel_height))"
   ]
  },
  {
   "cell_type": "code",
   "execution_count": 4,
   "metadata": {},
   "outputs": [
    {
     "name": "stdout",
     "output_type": "stream",
     "text": [
      "411337.5 2924552.5 12881 13343 5.0 5.0\n",
      "411337.5 2924552.5 12881 13343 5.0 5.0\n",
      "411337.5 2924552.5 12881 13343 5.0 5.0\n",
      "411337.5 2924552.5 12881 13343 5.0 5.0\n",
      "411337.5 2924552.5 12881 13343 5.0 5.0\n",
      "411337.5 2924552.5 12881 13343 5.0 5.0\n",
      "411337.5 2924552.5 12881 13343 5.0 5.0\n",
      "411337.5 2924552.5 12881 13343 5.0 5.0\n",
      "411337.5 2924552.5 12881 13343 5.0 5.0\n",
      "411337.5 2924552.5 12881 13343 5.0 5.0\n",
      "411337.5 2924552.5 12881 13343 5.0 5.0\n",
      "411337.5 2924552.5 12881 13343 5.0 5.0\n",
      "411337.5 2924552.5 12881 13343 5.0 5.0\n",
      "411337.5 2924552.5 12881 13343 5.0 5.0\n",
      "411337.5 2924552.5 12881 13343 5.0 5.0\n",
      "411337.5 2924552.5 12881 13343 5.0 5.0\n",
      "411337.5 2924552.5 12881 13343 5.0 5.0\n",
      "411337.5 2924552.5 12881 13343 5.0 5.0\n",
      "411337.5 2924552.5 12881 13343 5.0 5.0\n",
      "411337.5 2924552.5 12881 13343 5.0 5.0\n",
      "411337.5 2924552.5 12881 13343 5.0 5.0\n",
      "411337.5 2924552.5 12881 13343 5.0 5.0\n",
      "411337.5 2924552.5 12881 13343 5.0 5.0\n",
      "411337.5 2924552.5 12881 13343 5.0 5.0\n",
      "411337.5 2924552.5 12881 13343 5.0 5.0\n",
      "411337.5 2924552.5 12881 13343 5.0 5.0\n",
      "411337.5 2924552.5 12881 13343 5.0 5.0\n",
      "411337.5 2924552.5 12881 13343 5.0 5.0\n",
      "411337.5 2924552.5 12881 13343 5.0 5.0\n",
      "411337.5 2924552.5 12881 13343 5.0 5.0\n",
      "411337.5 2924552.5 12881 13343 5.0 5.0\n",
      "411337.5 2924552.5 12881 13343 5.0 5.0\n",
      "411337.5 2924552.5 12881 13343 5.0 5.0\n",
      "411337.5 2924552.5 12881 13343 5.0 5.0\n",
      "411337.5 2924552.5 12881 13343 5.0 5.0\n",
      "411337.5 2924552.5 12881 13343 5.0 5.0\n",
      "411337.5 2924552.5 12881 13343 5.0 5.0\n",
      "411337.5 2924552.5 12881 13343 5.0 5.0\n",
      "411337.5 2924552.5 12881 13343 5.0 5.0\n",
      "411337.5 2924552.5 12881 13343 5.0 5.0\n",
      "411337.5 2924552.5 12881 13343 5.0 5.0\n",
      "411337.5 2924552.5 12881 13343 5.0 5.0\n",
      "411337.5 2924552.5 12881 13343 5.0 5.0\n",
      "411337.5 2924552.5 12881 13343 5.0 5.0\n",
      "411337.5 2924552.5 12881 13343 5.0 5.0\n",
      "411337.5 2924552.5 12881 13343 5.0 5.0\n",
      "411337.5 2924552.5 12881 13343 5.0 5.0\n",
      "411337.5 2924552.5 12881 13343 5.0 5.0\n",
      "411337.5 2924552.5 12881 13343 5.0 5.0\n",
      "411337.5 2924552.5 12881 13343 5.0 5.0\n",
      "411337.5 2924552.5 12881 13343 5.0 5.0\n",
      "411337.5 2924552.5 12881 13343 5.0 5.0\n",
      "411337.5 2924552.5 12881 13343 5.0 5.0\n",
      "411337.5 2924552.5 12881 13343 5.0 5.0\n",
      "411337.5 2924552.5 12881 13343 5.0 5.0\n",
      "411337.5 2924552.5 12881 13343 5.0 5.0\n",
      "411337.5 2924552.5 12881 13343 5.0 5.0\n",
      "411337.5 2924552.5 12881 13343 5.0 5.0\n",
      "411337.5 2924552.5 12881 13343 5.0 5.0\n",
      "411337.5 2924552.5 12881 13343 5.0 5.0\n",
      "411337.5 2924552.5 12881 13343 5.0 5.0\n",
      "411337.5 2924552.5 12881 13343 5.0 5.0\n",
      "411337.5 2924552.5 12881 13343 5.0 5.0\n",
      "411337.5 2924552.5 12881 13343 5.0 5.0\n",
      "411337.5 2924552.5 12881 13343 5.0 5.0\n",
      "411337.5 2924552.5 12881 13343 5.0 5.0\n",
      "411337.5 2924552.5 12881 13343 5.0 5.0\n",
      "411337.5 2924552.5 12881 13343 5.0 5.0\n",
      "411337.5 2924552.5 12881 13343 5.0 5.0\n",
      "411337.5 2924552.5 12881 13343 5.0 5.0\n",
      "411337.5 2924552.5 12881 13343 5.0 5.0\n",
      "411337.5 2924552.5 12881 13343 5.0 5.0\n",
      "411337.5 2924552.5 12881 13343 5.0 5.0\n",
      "411337.5 2924552.5 12881 13343 5.0 5.0\n",
      "411337.5 2924552.5 12881 13343 5.0 5.0\n",
      "411337.5 2924552.5 12881 13343 5.0 5.0\n",
      "411337.5 2924552.5 12881 13343 5.0 5.0\n",
      "411337.5 2924552.5 12881 13343 5.0 5.0\n"
     ]
    }
   ],
   "source": [
    "check_list = set()\n",
    "for one_raster in raster_list:\n",
    "    check_raster_info(one_raster)\n",
    "    check_list.add(check_raster_info(one_raster))"
   ]
  },
  {
   "cell_type": "code",
   "execution_count": 5,
   "metadata": {},
   "outputs": [
    {
     "data": {
      "text/plain": [
       "{(411337.5, 2924552.5, 12881, 13343, 5.0, 5.0)}"
      ]
     },
     "execution_count": 5,
     "metadata": {},
     "output_type": "execute_result"
    }
   ],
   "source": [
    "check_list"
   ]
  },
  {
   "cell_type": "code",
   "execution_count": 6,
   "metadata": {},
   "outputs": [],
   "source": [
    "# 选取标准数据生成lon、lat图层\n",
    "stander_raster = \"DEM\"\n",
    "stander_desc = arcpy.Describe(stander_raster)\n",
    "stander_origin_x = stander_desc.extent.XMin\n",
    "stander_origin_y = stander_desc.extent.YMax\n",
    "stander_pixel_width = stander_desc.meanCellWidth\n",
    "stander_pixel_height = stander_desc.meanCellHeight\n",
    "stander_array = arcpy.RasterToNumPyArray(\"DEM\")"
   ]
  },
  {
   "cell_type": "code",
   "execution_count": 7,
   "metadata": {},
   "outputs": [
    {
     "name": "stdout",
     "output_type": "stream",
     "text": [
      "(12881, 13343) 411340.0 478050.0\n"
     ]
    }
   ],
   "source": [
    "# 经度\n",
    "array_x = np.zeros(stander_array.shape,dtype=np.float32)\n",
    "array_x[:, 0] = stander_origin_x+stander_pixel_width/2\n",
    "for i in range(1, stander_array.shape[1]):\n",
    "    array_x[:, i] = array_x[:, i-1] + stander_pixel_width\n",
    "print(array_x.shape,array_x[0,0],array_x[-1,-1])"
   ]
  },
  {
   "cell_type": "code",
   "execution_count": 8,
   "metadata": {},
   "outputs": [
    {
     "name": "stdout",
     "output_type": "stream",
     "text": [
      "(12881, 13343) 2924550.0 2860150.0\n"
     ]
    }
   ],
   "source": [
    "# 纬度\n",
    "array_y = np.zeros(stander_array.shape,dtype=np.float32)\n",
    "array_y[0] = stander_origin_y-stander_pixel_height/2\n",
    "for i in range(1, stander_array.shape[0]):\n",
    "    array_y[i] = array_y[i-1] - stander_pixel_height\n",
    "print(array_y.shape,array_y[0][0],array_y[-1][-1])"
   ]
  },
  {
   "cell_type": "code",
   "execution_count": 9,
   "metadata": {},
   "outputs": [],
   "source": [
    "# 确定范围\n",
    "env.extent = \"DEM\""
   ]
  },
  {
   "cell_type": "code",
   "execution_count": 11,
   "metadata": {},
   "outputs": [],
   "source": [
    "original_raster = arcpy.Raster(\"DEM\")"
   ]
  },
  {
   "cell_type": "code",
   "execution_count": 12,
   "metadata": {},
   "outputs": [],
   "source": [
    "# 将生成的x,y数组保存为栅格\n",
    "out_raster_x = arcpy.NumPyArrayToRaster(\n",
    "    array_x,\n",
    "    lower_left_corner=original_raster.extent.lowerLeft,\n",
    "    x_cell_size=original_raster.meanCellWidth,\n",
    "    y_cell_size=original_raster.meanCellHeight,\n",
    "    )\n",
    "out_raster_y = arcpy.NumPyArrayToRaster(\n",
    "    array_y,\n",
    "    lower_left_corner=original_raster.extent.lowerLeft,\n",
    "    x_cell_size=original_raster.meanCellWidth,\n",
    "    y_cell_size=original_raster.meanCellHeight,\n",
    "    )"
   ]
  },
  {
   "cell_type": "code",
   "execution_count": 13,
   "metadata": {},
   "outputs": [],
   "source": [
    "out_raster_x.save(\"LON\")\n",
    "out_raster_y.save(\"LAT\")"
   ]
  },
  {
   "cell_type": "code",
   "execution_count": 14,
   "metadata": {},
   "outputs": [],
   "source": [
    "spatial_ref = arcpy.Describe(\"DEM\").spatialReference"
   ]
  },
  {
   "cell_type": "code",
   "execution_count": 15,
   "metadata": {},
   "outputs": [
    {
     "data": {
      "text/html": [
       "<div class='gpresult'><h2>Messages</h2><div id='messages' data-messages='[\"开始时间: 2024年7月10日 16:52:56\",\"运行 成功，结束时间： 2024年7月10日 16:52:56 (历时: 0.08 秒)\"]' data-show='true'><div id = 'default' /></div></div>"
      ],
      "text/plain": [
       "<Result 'D:\\\\ArcGISProjects\\\\workspace\\\\shbyq\\\\feature_raster_file\\\\features_data_dy.gdb\\\\LAT'>"
      ]
     },
     "execution_count": 15,
     "metadata": {},
     "output_type": "execute_result"
    }
   ],
   "source": [
    "arcpy.DefineProjection_management(\"LON\", spatial_ref)\n",
    "arcpy.DefineProjection_management(\"LAT\", spatial_ref)"
   ]
  }
 ],
 "metadata": {
  "kernelspec": {
   "display_name": "Python 3",
   "language": "python",
   "name": "python3"
  },
  "language_info": {
   "codemirror_mode": {
    "name": "ipython",
    "version": 3
   },
   "file_extension": ".py",
   "mimetype": "text/x-python",
   "name": "python",
   "nbconvert_exporter": "python",
   "pygments_lexer": "ipython3",
   "version": "3.9.11"
  }
 },
 "nbformat": 4,
 "nbformat_minor": 2
}
