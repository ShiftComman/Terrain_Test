{
 "cells": [
  {
   "cell_type": "code",
   "execution_count": 1,
   "metadata": {},
   "outputs": [],
   "source": [
    "import os\n",
    "import pandas as pd\n",
    "import numpy as np\n",
    "import shutil\n",
    "import arcpy\n",
    "from arcpy import env\n",
    "from arcpy.management import *\n",
    "from arcpy.sa import *\n",
    "from arcpy.da import *\n",
    "from arcpy.conversion import *"
   ]
  },
  {
   "cell_type": "code",
   "execution_count": 2,
   "metadata": {},
   "outputs": [],
   "source": [
    "# 分析函数\n",
    "# 取消并行处理\n",
    "def disable_parallel_processing(func):\n",
    "    def wrapper(*args, **kwargs):\n",
    "        with arcpy.EnvManager(parallelProcessingFactor=\"0\"):\n",
    "            return func(*args, **kwargs)\n",
    "    return wrapper\n",
    "# 采样\n",
    "def sample_point(point_,raster_,out_name):\n",
    "    \"\"\"根据栅格采样点,输出为表格\"\"\"\n",
    "    Sample(raster_,point_,out_name,\"NEAREST\", \"OBJECTID\", \"CURRENT_SLICE\", None, '', None, None, \"ROW_WISE\", \"TABLE\")\n",
    "    return None\n",
    "\n",
    "# 导出CSV\n",
    "def export_csv(table_,out_path,out_name):\n",
    "    TableToTable(table_,out_path,out_name)\n",
    "    return None\n"
   ]
  },
  {
   "cell_type": "code",
   "execution_count": 3,
   "metadata": {},
   "outputs": [],
   "source": [
    "# 地理数据库路径\n",
    "# base_gdb_5m = r\"D:\\ArcgisData\\basedata\\basetrain_5m.gdb\"\n",
    "base_gdb_5m = r\"D:\\ArcGISProjects\\workspace\\shbyq\\feature_raster_file\\features_data_dy.gdb\"\n",
    "# base_gdb_deep = r\"D:\\ArcgisData\\pred_soildeep\\pre_database\\pred_soildeep_gz.gdb\"\n",
    "# 用于采样的标准数据库\n",
    "stander_raster_gdb = base_gdb_5m\n",
    "# 数据点文件路径\n",
    "point_data = r\"D:\\ArcGISProjects\\workspace\\shbyq\\features_data_vector.gdb\\features_dy\\dy_sp_point\"  # 需要改变\n",
    "# 存储采样数据表的文件地理数据库\n",
    "sample_gdb_path = r\"F:\\cache_data\\process_table_database\\tabledata.gdb\" # 需要改变\n",
    "# 存储采样结果CSV文件的路径\n",
    "sample_csv = r\"F:\\cache_data\\pre_property_table\\dy\"\n",
    "# 输出CSV文件的名称\n",
    "sample_csv_name = \"feature_ph_dy.csv\" # 需要改变"
   ]
  },
  {
   "cell_type": "code",
   "execution_count": 4,
   "metadata": {},
   "outputs": [
    {
     "name": "stdout",
     "output_type": "stream",
     "text": [
      "['OBJECTID', 'Shape', 'ydbh', 'dwjd', 'dwwd', 'ph', 'ylzjhl', 'yjz', 'qdan', 'qlin', 'qjia', 'qxi', 'yxlin', 'sxjia', 'hxjia', 'yxliu', 'yxgui', 'yxtie', 'yxmeng', 'yxtong', 'yxxing', 'yxpeng', 'yxmu', 'zgong', 'zshen', 'zqian', 'zge', 'zge2', 'znie', 'jxzc11', 'jxzc12', 'jxzc13', 'jxzc14', 'jxzc1trzd', 'ph_Status', 'ylzjhl_Status', 'yjz_Status', 'qdan_Status', 'qlin_Status', 'qjia_Status', 'qxi_Status', 'yxlin_Status', 'sxjia_Status', 'hxjia_Status', 'yxliu_Status', 'yxgui_Status', 'yxtie_Status', 'yxmeng_Status', 'yxtong_Status', 'yxxing_Status', 'yxpeng_Status', 'yxmu_Status', 'zgong_Status', 'zshen_Status', 'zqian_Status', 'zge_Status', 'zge2_Status', 'znie_Status', 'jxzc11_Status', 'jxzc12_Status', 'jxzc13_Status', 'jxzc14_Status']\n",
      "['OBJECTID', 'ph', 'ylzjhl', 'yjz', 'qdan', 'qlin', 'qjia', 'qxi', 'yxlin', 'sxjia', 'hxjia', 'yxliu', 'yxgui', 'yxtie', 'yxmeng', 'yxtong', 'yxxing', 'yxpeng', 'yxmu', 'zgong', 'zshen', 'zqian', 'zge', 'zge2', 'znie', 'jxzc11', 'jxzc12', 'jxzc13', 'jxzc14', 'ph_Status', 'ylzjhl_Status', 'yjz_Status', 'qdan_Status', 'qlin_Status', 'qjia_Status', 'qxi_Status', 'yxlin_Status', 'sxjia_Status', 'hxjia_Status', 'yxliu_Status', 'yxgui_Status', 'yxtie_Status', 'yxmeng_Status', 'yxtong_Status', 'yxxing_Status', 'yxpeng_Status', 'yxmu_Status', 'zgong_Status', 'zshen_Status', 'zqian_Status', 'zge_Status', 'zge2_Status', 'znie_Status', 'jxzc11_Status', 'jxzc12_Status', 'jxzc13_Status', 'jxzc14_Status']\n"
     ]
    }
   ],
   "source": [
    "# 采样点数据名称\n",
    "sample_name = 'dy_sp_point'\n",
    "filed_list = [_.name for _ in arcpy.ListFields(point_data)]\n",
    "print(filed_list)\n",
    "# 需要保留的字段\n",
    "# elements_yes = ['OBJECTID', '横坐标', '纵坐标', 'N', 'P', 'K2O', '有机质含量', 'pH']\n",
    "elements_yes = ['OBJECTID', 'ph', 'ylzjhl', 'yjz', 'qdan', 'qlin', 'qjia', 'qxi', 'yxlin', 'sxjia', 'hxjia', 'yxliu', 'yxgui', 'yxtie', 'yxmeng', 'yxtong', 'yxxing', 'yxpeng', 'yxmu', 'zgong', 'zshen', 'zqian', 'zge', 'zge2', 'znie', 'jxzc11', 'jxzc12', 'jxzc13', 'jxzc14',\n",
    "                'ph_Status', 'ylzjhl_Status', 'yjz_Status', 'qdan_Status', 'qlin_Status', 'qjia_Status', 'qxi_Status', 'yxlin_Status', 'sxjia_Status', 'hxjia_Status', 'yxliu_Status', 'yxgui_Status', 'yxtie_Status', 'yxmeng_Status', 'yxtong_Status', 'yxxing_Status', 'yxpeng_Status', 'yxmu_Status', 'zgong_Status', 'zshen_Status', 'zqian_Status', 'zge_Status', 'zge2_Status', 'znie_Status', 'jxzc11_Status', 'jxzc12_Status', 'jxzc13_Status', 'jxzc14_Status']\n",
    "filter_list = [_ for _ in filed_list if _ in elements_yes]\n",
    "print(filter_list)"
   ]
  },
  {
   "cell_type": "code",
   "execution_count": 5,
   "metadata": {},
   "outputs": [
    {
     "name": "stdout",
     "output_type": "stream",
     "text": [
      "['DEM', 'AnalyticalHillshading', 'Aspect', 'ChannelNetworkBaseLevel', 'ChannelNetworkDistance', 'ClosedDepressions', 'ConvergenceIndex', 'LSFactor', 'MRRTF', 'MRVBF', 'PlanCurvature', 'ProfileCurvature', 'RelativeSlopePosition', 'Slope', 'TopographicWetnessIndex', 'TotalCatchmentArea', 'ValleyDepth', 'NIGHT2022', 'ETP2022_mean', 'TMP2022_mean', 'PRE2022_mean', 'PRE2022_3', 'PRE2022_11', 'ETP2022_3', 'ETP2022_11', 'TMP2022_3', 'TMP2022_11', 'evi', 'lswi', 'mndwi', 'ndmi', 'ndvi', 'ndwi', 'PCA_0', 'PCA_1', 'savi', 'vari', 'DL', 'DZ', 'LON', 'LAT', 'SlopeClass']\n"
     ]
    }
   ],
   "source": [
    "env.workspace = base_gdb_5m\n",
    "feature_list = arcpy.ListRasters()\n",
    "print(feature_list)"
   ]
  },
  {
   "cell_type": "code",
   "execution_count": 6,
   "metadata": {},
   "outputs": [],
   "source": [
    "# 采集的特征字段\n",
    "# feature_list = ['BIO', 'PRE', 'SRA', 'TMP', 'VAP', 'WIN', 'DEM', 'NDVI', 'TDQS', 'LIGHT', 'LON', 'LAT', 'SLOPE', 'ASP', 'CUR', 'TWI3', 'TWI5', 'TPI3', 'TPI5']\n",
    "# feature_list = ['DEM', 'AnalyticalHillshading', 'Aspect', 'ChannelNetworkBaseLevel', 'ChannelNetworkDistance', 'ClosedDepressions', 'ConvergenceIndex', 'LSFactor', 'PlanCurvature', 'ProfileCurvature', 'RelativeSlopePosition', 'Slope', 'TopographicWetnessIndex', 'TotalCatchmentArea', 'ValleyDepth', 'Contrast', 'Correlation', 'Dissimilarity', 'Entropy', 'Homogeneity', 'Mean', 'ndvi', 'PCA_0', 'PCA_1', 'SecondMoment', 'Variance', 'PRE', 'SRA', 'TMP', 'VAP', 'WIND', 'BIO', 'LON', 'LAT','PH']\n",
    "feature_list = feature_list"
   ]
  },
  {
   "cell_type": "code",
   "execution_count": 7,
   "metadata": {},
   "outputs": [
    {
     "data": {
      "text/plain": [
       "42"
      ]
     },
     "execution_count": 7,
     "metadata": {},
     "output_type": "execute_result"
    }
   ],
   "source": [
    "len(feature_list)"
   ]
  },
  {
   "cell_type": "code",
   "execution_count": 8,
   "metadata": {},
   "outputs": [
    {
     "name": "stdout",
     "output_type": "stream",
     "text": [
      "DEM\n",
      "AnalyticalHillshading\n",
      "Aspect\n",
      "ChannelNetworkBaseLevel\n",
      "ChannelNetworkDistance\n",
      "ClosedDepressions\n",
      "ConvergenceIndex\n",
      "LSFactor\n",
      "MRRTF\n",
      "MRVBF\n",
      "PlanCurvature\n",
      "ProfileCurvature\n",
      "RelativeSlopePosition\n",
      "Slope\n",
      "TopographicWetnessIndex\n",
      "TotalCatchmentArea\n",
      "ValleyDepth\n",
      "NIGHT2022\n",
      "ETP2022_mean\n",
      "TMP2022_mean\n",
      "PRE2022_mean\n",
      "PRE2022_3\n",
      "PRE2022_11\n",
      "ETP2022_3\n",
      "ETP2022_11\n",
      "TMP2022_3\n",
      "TMP2022_11\n",
      "evi\n",
      "lswi\n",
      "mndwi\n",
      "ndmi\n",
      "ndvi\n",
      "ndwi\n",
      "PCA_0\n",
      "PCA_1\n",
      "savi\n",
      "vari\n",
      "DL\n",
      "DZ\n",
      "LON\n",
      "LAT\n",
      "SlopeClass\n"
     ]
    }
   ],
   "source": [
    "# 使用训练点数据集采样并输出到csv文件\n",
    "# 选择用于采样的数据库\n",
    "env.workspace = stander_raster_gdb # 切换工作空间用于采样\n",
    "# 选择用于采样的要素类\n",
    "point_data = point_data\n",
    "# 使用Delete_management函数删除数据库中的所有内容\n",
    "try:\n",
    "    arcpy.Delete_management(sample_gdb_path)\n",
    "except:\n",
    "    pass\n",
    "# 再创建一个新的数据库\n",
    "arcpy.management.CreateFileGDB(os.path.dirname(sample_gdb_path), \"tabledata\", \"CURRENT\")\n",
    "# 逐个采样并保存到csv文件\n",
    "for one_feature in feature_list:\n",
    "    print(one_feature)\n",
    "    sample_point(point_data,one_feature,os.path.join(sample_gdb_path,one_feature))"
   ]
  },
  {
   "cell_type": "code",
   "execution_count": 9,
   "metadata": {},
   "outputs": [],
   "source": [
    "env.workspace = os.path.join(sample_gdb_path) # 切换工作空间用于导出csv文件\n",
    "# 读取数据表并保存到csv文件\n",
    "result_df = pd.DataFrame(arcpy.da.FeatureClassToNumPyArray(point_data,filter_list))\n",
    "# result_df = pd.DataFrame(arcpy.da.FeatureClassToNumPyArray(point_data,filter_list+['纬度', '经度', '岩石类型']))\n",
    "result_df.rename(columns={\"OBJECTID\":sample_name},inplace=True)\n",
    "#  读取每个表的最后一个字段的数据,存储每个表的最后一个字段的数据\n",
    "for table in feature_list:\n",
    "    # 将表转换为pandas数据帧\n",
    "    df = pd.DataFrame(arcpy.da.TableToNumPyArray(table, \"*\", null_value=0))  # 确保数据表中无空值\n",
    "    # 提取最后一个字段的数据\n",
    "    merged_df = df[[sample_name, df.columns[-1]]]\n",
    "    # 合并\n",
    "    result_df = pd.merge(result_df, merged_df, on=[sample_name])\n",
    "# 保存到csv文件\n",
    "result_df.rename(columns=dict(zip(result_df.columns[-len(feature_list):], feature_list)),inplace=True)\n",
    "result_df.drop(result_df.columns[0],axis=1,inplace=True)\n",
    "# result_df.rename(columns={\"PH\":\"PH_T\"},inplace=True)\n",
    "result_df.to_csv(os.path.join(sample_csv,sample_csv_name),index=False)"
   ]
  },
  {
   "cell_type": "code",
   "execution_count": 10,
   "metadata": {},
   "outputs": [
    {
     "data": {
      "text/plain": [
       "Index(['ph', 'ylzjhl', 'yjz', 'qdan', 'qlin', 'qjia', 'qxi', 'yxlin', 'sxjia',\n",
       "       'hxjia', 'yxliu', 'yxgui', 'yxtie', 'yxmeng', 'yxtong', 'yxxing',\n",
       "       'yxpeng', 'yxmu', 'zgong', 'zshen', 'zqian', 'zge', 'zge2', 'znie',\n",
       "       'jxzc11', 'jxzc12', 'jxzc13', 'jxzc14', 'ph_Status', 'ylzjhl_Status',\n",
       "       'yjz_Status', 'qdan_Status', 'qlin_Status', 'qjia_Status', 'qxi_Status',\n",
       "       'yxlin_Status', 'sxjia_Status', 'hxjia_Status', 'yxliu_Status',\n",
       "       'yxgui_Status', 'yxtie_Status', 'yxmeng_Status', 'yxtong_Status',\n",
       "       'yxxing_Status', 'yxpeng_Status', 'yxmu_Status', 'zgong_Status',\n",
       "       'zshen_Status', 'zqian_Status', 'zge_Status', 'zge2_Status',\n",
       "       'znie_Status', 'jxzc11_Status', 'jxzc12_Status', 'jxzc13_Status',\n",
       "       'jxzc14_Status', 'DEM', 'AnalyticalHillshading', 'Aspect',\n",
       "       'ChannelNetworkBaseLevel', 'ChannelNetworkDistance',\n",
       "       'ClosedDepressions', 'ConvergenceIndex', 'LSFactor', 'MRRTF', 'MRVBF',\n",
       "       'PlanCurvature', 'ProfileCurvature', 'RelativeSlopePosition', 'Slope',\n",
       "       'TopographicWetnessIndex', 'TotalCatchmentArea', 'ValleyDepth',\n",
       "       'NIGHT2022', 'ETP2022_mean', 'TMP2022_mean', 'PRE2022_mean',\n",
       "       'PRE2022_3', 'PRE2022_11', 'ETP2022_3', 'ETP2022_11', 'TMP2022_3',\n",
       "       'TMP2022_11', 'evi', 'lswi', 'mndwi', 'ndmi', 'ndvi', 'ndwi', 'PCA_0',\n",
       "       'PCA_1', 'savi', 'vari', 'DL', 'DZ', 'LON', 'LAT', 'SlopeClass'],\n",
       "      dtype='object')"
      ]
     },
     "execution_count": 10,
     "metadata": {},
     "output_type": "execute_result"
    }
   ],
   "source": [
    "result_df.columns"
   ]
  },
  {
   "cell_type": "code",
   "execution_count": 11,
   "metadata": {},
   "outputs": [
    {
     "data": {
      "text/plain": [
       "count    1159.000000\n",
       "mean        5.599827\n",
       "std         0.998872\n",
       "min         3.870000\n",
       "25%         4.765000\n",
       "50%         5.430000\n",
       "75%         6.225000\n",
       "max         8.180000\n",
       "Name: ph, dtype: float64"
      ]
     },
     "execution_count": 11,
     "metadata": {},
     "output_type": "execute_result"
    }
   ],
   "source": [
    "result_df['ph'].describe()"
   ]
  }
 ],
 "metadata": {
  "kernelspec": {
   "display_name": "Python 3",
   "language": "python",
   "name": "python3"
  },
  "language_info": {
   "codemirror_mode": {
    "name": "ipython",
    "version": 3
   },
   "file_extension": ".py",
   "mimetype": "text/x-python",
   "name": "python",
   "nbconvert_exporter": "python",
   "pygments_lexer": "ipython3",
   "version": "3.9.11"
  }
 },
 "nbformat": 4,
 "nbformat_minor": 2
}
