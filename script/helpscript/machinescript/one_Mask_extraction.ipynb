{
 "cells": [
  {
   "cell_type": "code",
   "execution_count": 4,
   "metadata": {},
   "outputs": [],
   "source": [
    "import arcpy\n",
    "from arcpy import env\n",
    "from arcpy.da import *\n",
    "from arcpy.sa import *\n",
    "import os\n",
    "import shutil"
   ]
  },
  {
   "cell_type": "code",
   "execution_count": 5,
   "metadata": {},
   "outputs": [],
   "source": [
    "arcpy.env.overwriteOutput = True"
   ]
  },
  {
   "cell_type": "code",
   "execution_count": 6,
   "metadata": {},
   "outputs": [],
   "source": [
    "# 按掩膜提取\n",
    "def mask_extraction(in_raster,mask_ele,pro_ele):\n",
    "    ele_pro = arcpy.Describe(pro_ele).spatialReference\n",
    "    with arcpy.EnvManager(outputCoordinateSystem=ele_pro,snapRaster=pro_ele, cellSize=5):\n",
    "        out_raster = arcpy.sa.ExtractByMask(in_raster, mask_ele, \"INSIDE\", ele_pro)\n",
    "        return out_raster\n",
    "    \n",
    "\n",
    "def mask_extraction_maxof(in_raster,mask_ele,pro_ele):\n",
    "    ele_pro = arcpy.Describe(pro_ele).spatialReference\n",
    "    with arcpy.EnvManager(outputCoordinateSystem=ele_pro,snapRaster=pro_ele, cellSize=5,extent=\"MAXOF\"):\n",
    "        out_raster = arcpy.sa.ExtractByMask(in_raster, mask_ele, \"INSIDE\", ele_pro)\n",
    "        return out_raster\n",
    "def define_projection(input_dataset, target_epsg=4326):\n",
    "    \"\"\"\n",
    "    定义投影为指定的EPSG代码（默认WGS 1984 EPSG: 4326）\n",
    "\n",
    "    参数:\n",
    "    input_dataset: 输入的数据集路径\n",
    "    target_epsg: 目标参考系的EPSG代码，默认值为4326（WGS 1984）\n",
    "    \"\"\"\n",
    "    try:\n",
    "        # 创建目标空间参考系对象\n",
    "        spatial_ref = arcpy.SpatialReference(target_epsg)\n",
    "        \n",
    "        # 定义投影\n",
    "        arcpy.DefineProjection_management(input_dataset, spatial_ref)\n",
    "        \n",
    "        print(f\"投影定义成功: {input_dataset} -> EPSG:{target_epsg}\")\n",
    "\n",
    "    except Exception as e:\n",
    "        print(f\"定义投影时出错: {str(e)}\")\n",
    "\n",
    "\n",
    "def check_projection(input_dataset):\n",
    "    \"\"\"\n",
    "    检查输入数据集是否有定义的坐标系\n",
    "\n",
    "    参数:\n",
    "    input_dataset: 输入的数据集路径\n",
    "\n",
    "    返回:\n",
    "    True: 如果有定义的坐标系\n",
    "    False: 如果没有定义的坐标系\n",
    "    \"\"\"\n",
    "    try:\n",
    "        # 获取数据集的描述信息\n",
    "        desc = arcpy.Describe(input_dataset)\n",
    "        \n",
    "        # 检查是否有定义的坐标系\n",
    "        if hasattr(desc, \"spatialReference\") and desc.spatialReference:\n",
    "            sr = desc.spatialReference\n",
    "            if sr.name != \"Unknown\":\n",
    "                print(f\"{input_dataset} 的坐标系为: {sr.name} (EPSG:{sr.factoryCode})\")\n",
    "                return True\n",
    "            else:\n",
    "                print(f\"{input_dataset} 没有定义坐标系。\")\n",
    "                return False\n",
    "        else:\n",
    "            print(f\"{input_dataset} 没有定义坐标系。\")\n",
    "            return False\n",
    "\n",
    "    except Exception as e:\n",
    "        print(f\"检查投影时出错: {str(e)}\")\n",
    "        return False\n",
    "\n"
   ]
  },
  {
   "cell_type": "code",
   "execution_count": null,
   "metadata": {},
   "outputs": [],
   "source": [
    "# raster_path = r\"F:\\cache_data\\tif_file\\DY\"  # saga\n",
    "# raster_path = r\"D:\\ArcGISProjects\\workspace\\shbyq\\features_data_climate.gdb\"  # climate\n",
    "# raster_path = r\"F:\\ArcgisData\\特征因子数据\\climate.gdb\"  # download climate\n",
    "raster_path = r\"F:\\cache_data\\tif_file_texture\\dy_20230701_20231031\\one_bands\"  # sentinel one bands\n",
    "mask_ele = r\"D:\\ArcGISProjects\\workspace\\shbyq\\feature_raster_file\\features_data_dy.gdb\\DEM\"\n",
    "pro_ele = r\"D:\\ArcGISProjects\\workspace\\shbyq\\feature_raster_file\\features_data_dy.gdb\\DEM\"\n",
    "save_path = r\"D:\\ArcGISProjects\\workspace\\shbyq\\feature_raster_file\\features_data_dy.gdb\""
   ]
  },
  {
   "cell_type": "code",
   "execution_count": null,
   "metadata": {},
   "outputs": [],
   "source": [
    "env.workspace = raster_path\n",
    "raster_list = arcpy.ListRasters()\n",
    "# raster_list.remove('Analytical Hillshading.tif')\n",
    "# raster_list.remove('DEM')\n",
    "print(raster_list),len(raster_list)"
   ]
  },
  {
   "cell_type": "code",
   "execution_count": null,
   "metadata": {},
   "outputs": [],
   "source": [
    "# 多个掩膜\n",
    "for one_raster in raster_list:\n",
    "    # 定义投影\n",
    "    # if check_projection(one_raster):\n",
    "    #     print(1)\n",
    "    # else:\n",
    "    #     define_projection(one_raster)\n",
    "    # # 如果是DEM\n",
    "    if one_raster == 'dem.tif':\n",
    "        continue\n",
    "    print(one_raster)\n",
    "    result_raster = mask_extraction(one_raster,mask_ele,pro_ele)\n",
    "    name = str(one_raster).replace(\".tif\",\"\").replace(\" \",\"\").replace(\"-\",\"\")\n",
    "    result_raster.save(os.path.join(save_path,f\"{name}\"))\n",
    "    print(name)"
   ]
  },
  {
   "cell_type": "code",
   "execution_count": 10,
   "metadata": {},
   "outputs": [],
   "source": [
    "# 单个掩膜\n",
    "raster_path = r\"D:\\ArcGISProjects\\workspace\\shbyq\\MyProject.gdb\\DY_DZ_result_PolygonToRaster\"\n",
    "mask_ele = r\"D:\\ArcGISProjects\\workspace\\shbyq\\feature_raster_file\\features_data_dy.gdb\\DEM\"\n",
    "pro_ele = r\"D:\\ArcGISProjects\\workspace\\shbyq\\feature_raster_file\\features_data_dy.gdb\\DEM\"\n",
    "save_path = r\"D:\\ArcGISProjects\\workspace\\shbyq\\feature_raster_file\\features_data_dy.gdb\""
   ]
  },
  {
   "cell_type": "code",
   "execution_count": 11,
   "metadata": {},
   "outputs": [],
   "source": [
    "env.workspace = save_path"
   ]
  },
  {
   "cell_type": "code",
   "execution_count": 12,
   "metadata": {},
   "outputs": [],
   "source": [
    "result_raster = mask_extraction_maxof(raster_path,mask_ele,pro_ele)\n",
    "result_raster.save(\"DZ\")"
   ]
  }
 ],
 "metadata": {
  "kernelspec": {
   "display_name": "Python 3",
   "language": "python",
   "name": "python3"
  },
  "language_info": {
   "codemirror_mode": {
    "name": "ipython",
    "version": 3
   },
   "file_extension": ".py",
   "mimetype": "text/x-python",
   "name": "python",
   "nbconvert_exporter": "python",
   "pygments_lexer": "ipython3",
   "version": "3.9.11"
  },
  "orig_nbformat": 4
 },
 "nbformat": 4,
 "nbformat_minor": 2
}
