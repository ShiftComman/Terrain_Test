{
 "cells": [
  {
   "cell_type": "code",
   "execution_count": 1,
   "metadata": {},
   "outputs": [],
   "source": [
    "import arcpy\n",
    "from arcpy import env\n",
    "from arcpy.da import *\n",
    "from arcpy.sa import *\n",
    "import os\n",
    "import shutil"
   ]
  },
  {
   "cell_type": "code",
   "execution_count": 2,
   "metadata": {},
   "outputs": [],
   "source": [
    "arcpy.env.overwriteOutput = True"
   ]
  },
  {
   "cell_type": "code",
   "execution_count": 4,
   "metadata": {},
   "outputs": [],
   "source": [
    "# 按掩膜提取\n",
    "def mask_extraction(in_raster,mask_ele,pro_ele):\n",
    "    ele_pro = arcpy.Describe(pro_ele).spatialReference\n",
    "    with arcpy.EnvManager(snapRaster=pro_ele, cellSize=5):\n",
    "        out_raster = arcpy.sa.ExtractByMask(in_raster, mask_ele, \"INSIDE\", ele_pro)\n",
    "        return out_raster"
   ]
  },
  {
   "cell_type": "code",
   "execution_count": 8,
   "metadata": {},
   "outputs": [],
   "source": [
    "raster_path = r\"D:\\ArcGISProjects\\workspace\\duyun\\tif_file\"\n",
    "mask_ele = r\"D:\\ArcGISProjects\\workspace\\duyun\\featuressdata_dy.gdb\\DEM\"\n",
    "pro_ele = r\"D:\\ArcGISProjects\\workspace\\duyun\\featuressdata_dy.gdb\\DEM\"\n",
    "save_path = r\"D:\\ArcGISProjects\\workspace\\duyun\\featuressdata_dy.gdb\""
   ]
  },
  {
   "cell_type": "code",
   "execution_count": 9,
   "metadata": {},
   "outputs": [
    {
     "name": "stdout",
     "output_type": "stream",
     "text": [
      "['Analytical Hillshading.tif', 'Aspect.tif', 'Channel Network Base Level.tif', 'Channel Network Distance.tif', 'Closed Depressions.tif', 'Convergence Index.tif', 'LS-Factor.tif', 'Plan Curvature.tif', 'Profile Curvature.tif', 'Relative Slope Position.tif', 'Slope.tif', 'Topographic Wetness Index.tif', 'Total Catchment Area.tif', 'Valley Depth.tif']\n"
     ]
    }
   ],
   "source": [
    "env.workspace = raster_path\n",
    "raster_list = arcpy.ListRasters()\n",
    "print(raster_list)"
   ]
  },
  {
   "cell_type": "code",
   "execution_count": 15,
   "metadata": {},
   "outputs": [
    {
     "name": "stdout",
     "output_type": "stream",
     "text": [
      "AnalyticalHillshading\n",
      "Aspect\n",
      "ChannelNetworkBaseLevel\n",
      "ChannelNetworkDistance\n",
      "ClosedDepressions\n",
      "ConvergenceIndex\n",
      "LSFactor\n",
      "PlanCurvature\n",
      "ProfileCurvature\n",
      "RelativeSlopePosition\n",
      "Slope\n",
      "TopographicWetnessIndex\n",
      "TotalCatchmentArea\n",
      "ValleyDepth\n"
     ]
    }
   ],
   "source": [
    "for one_raster in raster_list:\n",
    "    result_raster = mask_extraction(one_raster,mask_ele,pro_ele)\n",
    "    name = str(one_raster).replace(\".tif\",\"\").replace(\" \",\"\").replace(\"-\",\"\")\n",
    "    result_raster.save(os.path.join(save_path,f\"{name}\"))\n",
    "    print(name)"
   ]
  },
  {
   "cell_type": "code",
   "execution_count": 11,
   "metadata": {},
   "outputs": [
    {
     "name": "stdout",
     "output_type": "stream",
     "text": [
      "your/file/path/Analytical\n"
     ]
    }
   ],
   "source": [
    "file_path = \"your/file/path/Analytical Hillshading.tif\"\n",
    "\n",
    "# 使用字符串的 split 方法，以空格为分隔符分割字符串\n",
    "parts = file_path.split(\" \")\n",
    "\n",
    "# 获取分割后的第一个部分\n",
    "analytical_string = parts[0]\n",
    "\n",
    "print(analytical_string)\n"
   ]
  }
 ],
 "metadata": {
  "kernelspec": {
   "display_name": "Python 3",
   "language": "python",
   "name": "python3"
  },
  "language_info": {
   "codemirror_mode": {
    "name": "ipython",
    "version": 3
   },
   "file_extension": ".py",
   "mimetype": "text/x-python",
   "name": "python",
   "nbconvert_exporter": "python",
   "pygments_lexer": "ipython3",
   "version": "3.9.11"
  },
  "orig_nbformat": 4
 },
 "nbformat": 4,
 "nbformat_minor": 2
}
