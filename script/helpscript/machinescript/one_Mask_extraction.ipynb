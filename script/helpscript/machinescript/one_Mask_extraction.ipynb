{
 "cells": [
  {
   "cell_type": "code",
   "execution_count": 1,
   "metadata": {},
   "outputs": [],
   "source": [
    "import arcpy\n",
    "from arcpy import env\n",
    "from arcpy.da import *\n",
    "from arcpy.sa import *\n",
    "import os\n",
    "import shutil"
   ]
  },
  {
   "cell_type": "code",
   "execution_count": 2,
   "metadata": {},
   "outputs": [],
   "source": [
    "arcpy.env.overwriteOutput = True"
   ]
  },
  {
   "cell_type": "code",
   "execution_count": 4,
   "metadata": {},
   "outputs": [],
   "source": [
    "# 按掩膜提取\n",
    "def mask_extraction(in_raster,mask_ele,pro_ele):\n",
    "    ele_pro = arcpy.Describe(pro_ele).spatialReference\n",
    "    with arcpy.EnvManager(outputCoordinateSystem=ele_pro,snapRaster=pro_ele, cellSize=30):\n",
    "        out_raster = arcpy.sa.ExtractByMask(in_raster, mask_ele, \"INSIDE\", ele_pro)\n",
    "        return out_raster"
   ]
  },
  {
   "cell_type": "code",
   "execution_count": 5,
   "metadata": {},
   "outputs": [],
   "source": [
    "# raster_path = r\"F:\\cache_data\\tif_file\\KY\"  # saga\n",
    "# raster_path = r\"D:\\ArcGISProjects\\workspace\\shbyq\\features_data_climate.gdb\"  # climate\n",
    "raster_path = r\"F:\\ArcgisData\\pred_soildeep\\pre_database\\pred_soildeep.gdb\"  # sentinel one bands\n",
    "mask_ele = r\"F:\\ArcgisData\\pred_soildeep\\tif_file\\DEM2.tif\"\n",
    "pro_ele = r\"F:\\ArcgisData\\pred_soildeep\\tif_file\\DEM2.tif\"\n",
    "save_path = r\"F:\\ArcgisData\\pred_soildeep\\tif_file\""
   ]
  },
  {
   "cell_type": "code",
   "execution_count": 6,
   "metadata": {},
   "outputs": [
    {
     "name": "stdout",
     "output_type": "stream",
     "text": [
      "['NDVI', 'TMP', 'PRE', 'AP', 'NIGHT', 'SOILQS']\n"
     ]
    },
    {
     "data": {
      "text/plain": [
       "(None, 6)"
      ]
     },
     "execution_count": 6,
     "metadata": {},
     "output_type": "execute_result"
    }
   ],
   "source": [
    "env.workspace = raster_path\n",
    "raster_list = arcpy.ListRasters()\n",
    "# raster_list.remove('Analytical Hillshading.tif')\n",
    "# raster_list.remove('DEM')\n",
    "print(raster_list),len(raster_list)"
   ]
  },
  {
   "cell_type": "code",
   "execution_count": 7,
   "metadata": {},
   "outputs": [
    {
     "name": "stdout",
     "output_type": "stream",
     "text": [
      "NDVI\n",
      "NDVI\n",
      "TMP\n",
      "TMP\n",
      "PRE\n",
      "PRE\n"
     ]
    }
   ],
   "source": [
    "# 多个掩膜\n",
    "# for one_raster in raster_list:\n",
    "for one_raster in ['NDVI', 'TMP', 'PRE']:\n",
    "    # 如果是DEM\n",
    "    # if one_raster == 'Analytical Hillshading.tif':\n",
    "    print(one_raster)\n",
    "    result_raster = mask_extraction(one_raster,mask_ele,pro_ele)\n",
    "    name = str(one_raster).replace(\".tif\",\"\").replace(\" \",\"\").replace(\"-\",\"\")\n",
    "    result_raster.save(os.path.join(save_path,f\"{name}.tif\"))\n",
    "    print(name)"
   ]
  },
  {
   "cell_type": "code",
   "execution_count": 4,
   "metadata": {},
   "outputs": [],
   "source": [
    "# 单个掩膜\n",
    "raster_path = r\"D:\\ArcGISProjects\\workspace\\shbyq\\MyProject.gdb\\ky_sd_PolygonToRaster1\"\n",
    "mask_ele = r\"D:\\ArcGISProjects\\workspace\\shbyq\\feature_raster_file\\features_data_ky.gdb\\DEM\"\n",
    "pro_ele = r\"D:\\ArcGISProjects\\workspace\\shbyq\\feature_raster_file\\features_data_ky.gdb\\DEM\"\n",
    "save_path = r\"D:\\ArcGISProjects\\workspace\\shbyq\\feature_raster_file\\features_data_ky.gdb\""
   ]
  },
  {
   "cell_type": "code",
   "execution_count": 5,
   "metadata": {},
   "outputs": [],
   "source": [
    "env.workspace = save_path"
   ]
  },
  {
   "cell_type": "code",
   "execution_count": 6,
   "metadata": {},
   "outputs": [],
   "source": [
    "result_raster = mask_extraction(raster_path,mask_ele,pro_ele)\n",
    "result_raster.save(\"DL\")"
   ]
  }
 ],
 "metadata": {
  "kernelspec": {
   "display_name": "Python 3",
   "language": "python",
   "name": "python3"
  },
  "language_info": {
   "codemirror_mode": {
    "name": "ipython",
    "version": 3
   },
   "file_extension": ".py",
   "mimetype": "text/x-python",
   "name": "python",
   "nbconvert_exporter": "python",
   "pygments_lexer": "ipython3",
   "version": "3.9.11"
  },
  "orig_nbformat": 4
 },
 "nbformat": 4,
 "nbformat_minor": 2
}
