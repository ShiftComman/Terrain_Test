{
 "cells": [
  {
   "cell_type": "code",
   "execution_count": 1,
   "metadata": {},
   "outputs": [],
   "source": [
    "import arcpy\n",
    "from arcpy import env\n",
    "from arcpy.da import *\n",
    "from arcpy.sa import *\n",
    "import os\n",
    "import shutil"
   ]
  },
  {
   "cell_type": "code",
   "execution_count": 2,
   "metadata": {},
   "outputs": [],
   "source": [
    "arcpy.env.overwriteOutput = True"
   ]
  },
  {
   "cell_type": "code",
   "execution_count": 3,
   "metadata": {},
   "outputs": [],
   "source": [
    "# 按掩膜提取\n",
    "def mask_extraction(in_raster,mask_ele,pro_ele):\n",
    "    ele_pro = arcpy.Describe(pro_ele).spatialReference\n",
    "    with arcpy.EnvManager(snapRaster=pro_ele, cellSize=5):\n",
    "        out_raster = arcpy.sa.ExtractByMask(in_raster, mask_ele, \"INSIDE\", ele_pro)\n",
    "        return out_raster"
   ]
  },
  {
   "cell_type": "code",
   "execution_count": 7,
   "metadata": {},
   "outputs": [],
   "source": [
    "# raster_path = r\"D:\\ArcGISProjects\\workspace\\shbyq\\tif_file\\GL\"\n",
    "raster_path = r\"D:\\ArcGISProjects\\workspace\\duyun\\featursedata_gz.gdb\"\n",
    "mask_ele = r\"D:\\ArcGISProjects\\workspace\\shbyq\\features_data_gl.gdb\\DEM\"\n",
    "pro_ele = r\"D:\\ArcGISProjects\\workspace\\shbyq\\features_data_gl.gdb\\DEM\"\n",
    "save_path = r\"D:\\ArcGISProjects\\workspace\\shbyq\\features_data_gl.gdb\""
   ]
  },
  {
   "cell_type": "code",
   "execution_count": 8,
   "metadata": {},
   "outputs": [
    {
     "name": "stdout",
     "output_type": "stream",
     "text": [
      "['BIO', 'PRE', 'SRA', 'TMP', 'VAP', 'WIN', 'NDVI', 'TDQS', 'LIGHT']\n"
     ]
    },
    {
     "data": {
      "text/plain": [
       "(None, 9)"
      ]
     },
     "execution_count": 8,
     "metadata": {},
     "output_type": "execute_result"
    }
   ],
   "source": [
    "env.workspace = raster_path\n",
    "raster_list = arcpy.ListRasters()\n",
    "# raster_list.remove('dem.tif')\n",
    "raster_list.remove('DEM')\n",
    "print(raster_list),len(raster_list)"
   ]
  },
  {
   "cell_type": "code",
   "execution_count": 9,
   "metadata": {},
   "outputs": [
    {
     "name": "stdout",
     "output_type": "stream",
     "text": [
      "BIO\n",
      "PRE\n",
      "SRA\n",
      "TMP\n",
      "VAP\n",
      "WIN\n",
      "NDVI\n",
      "TDQS\n",
      "LIGHT\n"
     ]
    }
   ],
   "source": [
    "for one_raster in raster_list:\n",
    "    result_raster = mask_extraction(one_raster,mask_ele,pro_ele)\n",
    "    name = str(one_raster).replace(\".tif\",\"\").replace(\" \",\"\").replace(\"-\",\"\")\n",
    "    result_raster.save(os.path.join(save_path,f\"{name}\"))\n",
    "    print(name)"
   ]
  },
  {
   "cell_type": "code",
   "execution_count": 7,
   "metadata": {},
   "outputs": [],
   "source": [
    "# 单个掩膜\n",
    "raster_path = r\"D:\\ArcGISProjects\\workspace\\shbyq\\features_data_ld.gdb\\DEM1\"\n",
    "mask_ele = r\"D:\\ArcGISProjects\\workspace\\shbyq\\tif_file\\LD\\dem.tif\"\n",
    "pro_ele = r\"D:\\ArcGISProjects\\workspace\\shbyq\\tif_file\\LD\\dem.tif\"\n",
    "save_path = r\"D:\\ArcGISProjects\\workspace\\shbyq\\features_data_ld.gdb\""
   ]
  },
  {
   "cell_type": "code",
   "execution_count": 8,
   "metadata": {},
   "outputs": [],
   "source": [
    "env.workspace = save_path"
   ]
  },
  {
   "cell_type": "code",
   "execution_count": 9,
   "metadata": {},
   "outputs": [],
   "source": [
    "result_raster = mask_extraction(raster_path,mask_ele,pro_ele)\n",
    "result_raster.save(\"DEM\")"
   ]
  }
 ],
 "metadata": {
  "kernelspec": {
   "display_name": "Python 3",
   "language": "python",
   "name": "python3"
  },
  "language_info": {
   "codemirror_mode": {
    "name": "ipython",
    "version": 3
   },
   "file_extension": ".py",
   "mimetype": "text/x-python",
   "name": "python",
   "nbconvert_exporter": "python",
   "pygments_lexer": "ipython3",
   "version": "3.9.11"
  },
  "orig_nbformat": 4
 },
 "nbformat": 4,
 "nbformat_minor": 2
}
