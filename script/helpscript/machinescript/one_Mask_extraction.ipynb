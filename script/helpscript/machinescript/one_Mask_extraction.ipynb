{
 "cells": [
  {
   "cell_type": "code",
   "execution_count": 1,
   "metadata": {},
   "outputs": [],
   "source": [
    "import arcpy\n",
    "from arcpy import env\n",
    "from arcpy.da import *\n",
    "from arcpy.sa import *\n",
    "import os\n",
    "import shutil"
   ]
  },
  {
   "cell_type": "code",
   "execution_count": 2,
   "metadata": {},
   "outputs": [],
   "source": [
    "arcpy.env.overwriteOutput = True"
   ]
  },
  {
   "cell_type": "code",
   "execution_count": 4,
   "metadata": {},
   "outputs": [],
   "source": [
    "# 按掩膜提取\n",
    "def mask_extraction(in_raster,mask_ele,pro_ele):\n",
    "    ele_pro = arcpy.Describe(pro_ele).spatialReference\n",
    "    with arcpy.EnvManager(snapRaster=pro_ele, cellSize=5):\n",
    "        out_raster = arcpy.sa.ExtractByMask(in_raster, mask_ele, \"INSIDE\", ele_pro)\n",
    "        return out_raster"
   ]
  },
  {
   "cell_type": "code",
   "execution_count": 4,
   "metadata": {},
   "outputs": [],
   "source": [
    "raster_path = r\"D:\\ArcGISProjects\\workspace\\shbyq\\tif_file\\DY\"\n",
    "# raster_path = r\"D:\\ArcGISProjects\\workspace\\duyun\\featursedata_gz.gdb\"\n",
    "mask_ele = r\"D:\\ArcGISProjects\\workspace\\shbyq\\features_data_dy.gdb\\DEM\"\n",
    "pro_ele = r\"D:\\ArcGISProjects\\workspace\\shbyq\\features_data_dy.gdb\\DEM\"\n",
    "save_path = r\"D:\\ArcGISProjects\\workspace\\shbyq\\features_data_dy.gdb\""
   ]
  },
  {
   "cell_type": "code",
   "execution_count": 5,
   "metadata": {},
   "outputs": [
    {
     "name": "stdout",
     "output_type": "stream",
     "text": [
      "['Analytical Hillshading.tif', 'Aspect.tif', 'Channel Network Base Level.tif', 'Channel Network Distance.tif', 'Closed Depressions.tif', 'Convergence Index.tif', 'LS-Factor.tif', 'Plan Curvature.tif', 'Profile Curvature.tif', 'Relative Slope Position.tif', 'Slope.tif', 'Topographic Wetness Index.tif', 'Total Catchment Area.tif', 'Valley Depth.tif']\n"
     ]
    },
    {
     "data": {
      "text/plain": [
       "(None, 14)"
      ]
     },
     "execution_count": 5,
     "metadata": {},
     "output_type": "execute_result"
    }
   ],
   "source": [
    "env.workspace = raster_path\n",
    "raster_list = arcpy.ListRasters()\n",
    "raster_list.remove('dem.tif')\n",
    "# raster_list.remove('DEM')\n",
    "print(raster_list),len(raster_list)"
   ]
  },
  {
   "cell_type": "code",
   "execution_count": 6,
   "metadata": {},
   "outputs": [
    {
     "name": "stdout",
     "output_type": "stream",
     "text": [
      "AnalyticalHillshading\n",
      "Aspect\n",
      "ChannelNetworkBaseLevel\n",
      "ChannelNetworkDistance\n",
      "ClosedDepressions\n",
      "ConvergenceIndex\n",
      "LSFactor\n",
      "PlanCurvature\n",
      "ProfileCurvature\n",
      "RelativeSlopePosition\n",
      "Slope\n",
      "TopographicWetnessIndex\n",
      "TotalCatchmentArea\n",
      "ValleyDepth\n"
     ]
    }
   ],
   "source": [
    "# 多个掩膜\n",
    "for one_raster in raster_list:\n",
    "    result_raster = mask_extraction(one_raster,mask_ele,pro_ele)\n",
    "    name = str(one_raster).replace(\".tif\",\"\").replace(\" \",\"\").replace(\"-\",\"\")\n",
    "    result_raster.save(os.path.join(save_path,f\"{name}\"))\n",
    "    print(name)"
   ]
  },
  {
   "cell_type": "code",
   "execution_count": 5,
   "metadata": {},
   "outputs": [],
   "source": [
    "# 单个掩膜\n",
    "raster_path = r\"D:\\ArcGISProjects\\workspace\\shbyq\\dy_bands14.tif\"\n",
    "mask_ele = r\"D:\\ArcGISProjects\\workspace\\shbyq\\features_data_dy.gdb\\DEM\"\n",
    "pro_ele = r\"D:\\ArcGISProjects\\workspace\\shbyq\\features_data_dy.gdb\\DEM\"\n",
    "save_path = r\"D:\\ArcGISProjects\\workspace\\shbyq\\features_data_sentinel2.gdb\""
   ]
  },
  {
   "cell_type": "code",
   "execution_count": 6,
   "metadata": {},
   "outputs": [],
   "source": [
    "env.workspace = save_path"
   ]
  },
  {
   "cell_type": "code",
   "execution_count": 7,
   "metadata": {},
   "outputs": [],
   "source": [
    "result_raster = mask_extraction(raster_path,mask_ele,pro_ele)\n",
    "result_raster.save(\"DEM\")"
   ]
  }
 ],
 "metadata": {
  "kernelspec": {
   "display_name": "Python 3",
   "language": "python",
   "name": "python3"
  },
  "language_info": {
   "codemirror_mode": {
    "name": "ipython",
    "version": 3
   },
   "file_extension": ".py",
   "mimetype": "text/x-python",
   "name": "python",
   "nbconvert_exporter": "python",
   "pygments_lexer": "ipython3",
   "version": "3.9.11"
  },
  "orig_nbformat": 4
 },
 "nbformat": 4,
 "nbformat_minor": 2
}
