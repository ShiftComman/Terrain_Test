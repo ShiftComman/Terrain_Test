{
 "cells": [
  {
   "cell_type": "code",
   "execution_count": 2,
   "metadata": {},
   "outputs": [],
   "source": [
    "import arcpy\n",
    "from arcpy import env\n",
    "from arcpy.da import *\n",
    "from arcpy.sa import *\n",
    "import os\n",
    "import math"
   ]
  },
  {
   "cell_type": "code",
   "execution_count": 3,
   "metadata": {},
   "outputs": [],
   "source": [
    "dem_path = r\"D:\\ArcGISProjects\\workspace\\duyun\\featuressdata_dy.gdb\\DEM\"\n",
    "save_path = r\"D:\\ArcGISProjects\\workspace\\duyun\\featuressdata_dy.gdb\""
   ]
  },
  {
   "cell_type": "code",
   "execution_count": 4,
   "metadata": {},
   "outputs": [],
   "source": [
    "env.workspace = save_path"
   ]
  },
  {
   "cell_type": "code",
   "execution_count": 5,
   "metadata": {},
   "outputs": [
    {
     "name": "stdout",
     "output_type": "stream",
     "text": [
      "['BIO', 'PRE', 'SRA', 'TMP', 'VAP', 'WIN', 'DEM', 'NDVI', 'TDQS', 'LIGHT', 'LON', 'LAT', 'SLOPE', 'ASP', 'CUR', 'TWI3', 'TWI5', 'TPI3', 'TPI5']\n"
     ]
    }
   ],
   "source": [
    "raster_list = arcpy.ListRasters()\n",
    "print(raster_list)"
   ]
  },
  {
   "cell_type": "code",
   "execution_count": 16,
   "metadata": {},
   "outputs": [],
   "source": [
    "# 基于DEM数据生成新数据的函数\n",
    "\n",
    "# 取消并行处理\n",
    "# 取消并行处理\n",
    "def disable_parallel_processing(func):\n",
    "    def wrapper(*args, **kwargs):\n",
    "        with arcpy.EnvManager(parallelProcessingFactor=\"0\"):\n",
    "            return func(*args, **kwargs)\n",
    "    return wrapper\n",
    "\n",
    "# 计算坡度\n",
    "@disable_parallel_processing\n",
    "def get_slope(dem_path):\n",
    "    with arcpy.EnvManager(parallelProcessingFactor=\"0\"):\n",
    "        slope_raster = arcpy.sa.Slope(dem_path, \"DEGREE\", 1, \"PLANAR\", \"METER\")\n",
    "        return slope_raster\n",
    "\n",
    "# 计算坡向\n",
    "@disable_parallel_processing\n",
    "def get_asp(dem_path):\n",
    "    with arcpy.EnvManager(parallelProcessingFactor=\"0\"):\n",
    "        aspect_raster = arcpy.sa.Aspect(\n",
    "            dem_path, \"PLANAR\", \"METER\", \"GEODESIC_AZIMUTHS\"\n",
    "        )\n",
    "        return aspect_raster\n",
    "# 计算曲率\n",
    "@disable_parallel_processing\n",
    "def get_cur(dem_path):\n",
    "    with arcpy.EnvManager(parallelProcessingFactor=\"0\"):\n",
    "        curvature_raster = arcpy.sa.Curvature(dem_path, 1, None, None)\n",
    "        return curvature_raster\n",
    "# 坡度(弧度)\n",
    "@disable_parallel_processing\n",
    "def get_rad_slope(dem_raser):\n",
    "    \"\"\"得到为弧度的坡度\"\"\"\n",
    "    slope_raster = Slope(dem_raser,\"DEGREE\",1,\"PLANAR\",\"METER\")\n",
    "    result_raster = Con(slope_raster==0,0.001, Tan(slope_raster *math.pi/180 ))\n",
    "    return result_raster\n",
    "# 填洼\n",
    "@disable_parallel_processing\n",
    "def fill_dem(dem_raster):\n",
    "    \"\"\"参数默认为最佳\"\"\"\n",
    "    fill_raster = Fill(dem_raster)\n",
    "    return fill_raster\n",
    "\n",
    "# 流向\n",
    "@disable_parallel_processing\n",
    "def flowdir_dem(dem_raster,dir_index):\n",
    "    \"\"\"\"D8算法,dir_index{1:正常流动,0:强制外向流动}\"\"\"\n",
    "    if dir_index:\n",
    "        flowdir_raster = FlowDirection(dem_raster,\"NORMAL\",None,\"D8\")\n",
    "        return flowdir_raster\n",
    "    else:\n",
    "        flowdir_raster = FlowDirection(dem_raster,\"FORCE\", None, \"D8\")\n",
    "        return flowdir_raster\n",
    "    \n",
    "# 流量(+1)\n",
    "@disable_parallel_processing\n",
    "def acc_dem(dem_raster,cell_size):\n",
    "    \"\"\"输入流向类型D8\"\"\"\n",
    "    acc_raster = FlowAccumulation(dem_raster,None,\"FLOAT\",\"D8\")\n",
    "    result_raster = (acc_raster+1)*cell_size\n",
    "    return result_raster\n",
    "\n",
    "# 单位面积汇流量\n",
    "\n",
    "# 计算TPI\n",
    "@disable_parallel_processing\n",
    "def calc_tpi(dem_raster,focous_size):\n",
    "    \"\"\"dem_raster:DEM数据,focous_size:窗口大小\"\"\"\n",
    "    # 焦点统计\n",
    "    focous_raster = FocalStatistics(dem_raster,NbrRectangle(focous_size,focous_size,\"CELL\"),\"MEAN\",\"DATA\")\n",
    "    # 结果输出\n",
    "    result_raster = dem_raster-focous_raster\n",
    "    return result_raster\n",
    "\n",
    "\n",
    "# 计算SCA（单位面积的汇流量）\n",
    "def calc_sca(flow_acc,flow_dir,cell_size):\n",
    "    cell_area = cell_size*cell_size\n",
    "    result_raster = Con(flow_acc==0,cell_area,flow_acc)*cell_area/Con((flow_dir==1)|(flow_dir==8)|(flow_dir==32)|(flow_dir==64),cell_size,cell_area)\n",
    "    return result_raster\n",
    "\n",
    "# 计算TWI\n",
    "@disable_parallel_processing\n",
    "def calc_twi(dem_raster,cell_size):\n",
    "    \"\"\"dem_raster:DEM数据\"\"\"\n",
    "    # 得到正切坡度\n",
    "    asp_raster = get_rad_slope(dem_raster)\n",
    "    print(\"asp done!\")\n",
    "    # 流向\n",
    "    fd_raster = flowdir_dem(dem_raster,1)\n",
    "    print(\"fd done!\")\n",
    "    # sca流量\n",
    "    ac_raster = acc_dem(fd_raster,cell_size)\n",
    "    print(\"acc done!\")\n",
    "    # 计算TWI  \n",
    "    result_raster = Ln(ac_raster/asp_raster)\n",
    "    return result_raster\n",
    "\n",
    "\n",
    "# 焦点统计计算\n",
    "@disable_parallel_processing\n",
    "def calc_foc(dem_raster, size):\n",
    "    nbrhood = NbrRectangle(size, size, \"CELL\")\n",
    "    out_raster = FocalStatistics(dem_raster, nbrhood, \"MEAN\", \"DATA\")\n",
    "    return out_raster\n",
    "\n",
    "\n",
    "# 相对位置计算\n",
    "@disable_parallel_processing\n",
    "def calc_tpi(dem_raster, size):\n",
    "    foc_raster = calc_foc(dem_raster, size)\n",
    "    # tpi_raster = (dem_raster - foc_raster)\n",
    "    tpi_raster = (foc_raster / dem_raster) * 100\n",
    "    return tpi_raster"
   ]
  },
  {
   "cell_type": "code",
   "execution_count": 12,
   "metadata": {},
   "outputs": [],
   "source": [
    "# 得到坡度\n",
    "get_slope(dem_path).save(\"SLOPE\")"
   ]
  },
  {
   "cell_type": "code",
   "execution_count": 13,
   "metadata": {},
   "outputs": [],
   "source": [
    "# 得到坡向\n",
    "get_asp(dem_path).save(\"ASP\")"
   ]
  },
  {
   "cell_type": "code",
   "execution_count": 14,
   "metadata": {},
   "outputs": [],
   "source": [
    "# 得到曲率\n",
    "get_cur(dem_path).save(\"CUR\")"
   ]
  },
  {
   "cell_type": "code",
   "execution_count": 15,
   "metadata": {},
   "outputs": [
    {
     "name": "stdout",
     "output_type": "stream",
     "text": [
      "asp done!\n",
      "fd done!\n",
      "acc done!\n",
      "asp done!\n",
      "fd done!\n",
      "acc done!\n"
     ]
    }
   ],
   "source": [
    "# 得到地形湿度指数（TWI）\n",
    "calc_twi(dem_path,3).save(\"TWI3\")\n",
    "calc_twi(dem_path,5).save(\"TWI5\")"
   ]
  },
  {
   "cell_type": "code",
   "execution_count": 17,
   "metadata": {},
   "outputs": [],
   "source": [
    "# 得到相对位置\n",
    "calc_tpi(dem_path,3).save(\"TPI3\")\n",
    "calc_tpi(dem_path,5).save(\"TPI5\")\n"
   ]
  }
 ],
 "metadata": {
  "kernelspec": {
   "display_name": "Python 3",
   "language": "python",
   "name": "python3"
  },
  "language_info": {
   "codemirror_mode": {
    "name": "ipython",
    "version": 3
   },
   "file_extension": ".py",
   "mimetype": "text/x-python",
   "name": "python",
   "nbconvert_exporter": "python",
   "pygments_lexer": "ipython3",
   "version": "3.9.11"
  }
 },
 "nbformat": 4,
 "nbformat_minor": 2
}
