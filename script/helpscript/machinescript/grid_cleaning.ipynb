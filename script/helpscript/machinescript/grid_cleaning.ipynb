{
 "cells": [
  {
   "cell_type": "code",
   "execution_count": 1,
   "metadata": {},
   "outputs": [],
   "source": [
    "import arcpy\n",
    "from arcpy import env\n",
    "from arcpy.sa import *"
   ]
  },
  {
   "cell_type": "code",
   "execution_count": null,
   "metadata": {},
   "outputs": [],
   "source": [
    "# 处理缺失值\n",
    "# 设置环境\n",
    "env.workspace = \"C:/example/path\"  # 更改为您的工作区路径\n",
    "inRaster = \"input_raster.tif\"  # 输入栅格文件\n",
    "\n",
    "# 设置NoData值\n",
    "nodataValue = -9999  # 根据您的数据更改NoData值\n",
    "outCon = Con(Raster(inRaster) != nodataValue, inRaster)\n",
    "\n",
    "# 使用焦点统计来处理NoData\n",
    "neighborhood = NbrCircle(3, \"CELL\")  # 设置邻域大小和形状\n",
    "outFocalStat = FocalStatistics(outCon, neighborhood, \"MEAN\")\n",
    "\n",
    "# 保存结果\n",
    "outFocalStat.save(\"C:/example/path/processed_raster.tif\")\n"
   ]
  },
  {
   "cell_type": "code",
   "execution_count": null,
   "metadata": {},
   "outputs": [],
   "source": [
    "# 设置环境\n",
    "env.workspace = \"C:/example/path\"  # 更改为您的工作区路径\n",
    "inRaster = \"input_raster.tif\"  # 输入栅格文件\n",
    "\n",
    "# 设置异常值阈值\n",
    "lowerThreshold = 10  # 根据您的数据设置下限阈值\n",
    "upperThreshold = 100  # 根据您的数据设置上限阈值\n",
    "\n",
    "# 识别异常值\n",
    "outCon1 = Con((Raster(inRaster) < lowerThreshold) | (Raster(inRaster) > upperThreshold), 1, 0)\n",
    "\n",
    "# 使用焦点统计来处理异常值\n",
    "neighborhood = NbrCircle(3, \"CELL\")  # 设置邻域大小和形状\n",
    "outFocalStat = FocalStatistics(inRaster, neighborhood, \"MEAN\")\n",
    "\n",
    "# 替换异常值\n",
    "outRaster = Con(outCon1 == 1, outFocalStat, inRaster)\n",
    "\n",
    "# 保存结果\n",
    "outRaster.save(\"C:/example/path/processed_raster.tif\")"
   ]
  }
 ],
 "metadata": {
  "kernelspec": {
   "display_name": "Python 3",
   "language": "python",
   "name": "python3"
  },
  "language_info": {
   "codemirror_mode": {
    "name": "ipython",
    "version": 3
   },
   "file_extension": ".py",
   "mimetype": "text/x-python",
   "name": "python",
   "nbconvert_exporter": "python",
   "pygments_lexer": "ipython3",
   "version": "3.9.11"
  }
 },
 "nbformat": 4,
 "nbformat_minor": 2
}
