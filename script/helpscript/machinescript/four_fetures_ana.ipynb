{
 "cells": [
  {
   "cell_type": "code",
   "execution_count": 1,
   "metadata": {},
   "outputs": [],
   "source": [
    "import pandas as pd\n",
    "import numpy as np\n",
    "import matplotlib.pyplot as plt\n",
    "import seaborn as sns\n",
    "from sklearn.preprocessing import LabelEncoder, StandardScaler\n",
    "from sklearn.model_selection import train_test_split, cross_val_score, GridSearchCV\n",
    "from sklearn.ensemble import RandomForestClassifier\n",
    "import dtale\n",
    "from ydata_profiling import ProfileReport"
   ]
  },
  {
   "cell_type": "code",
   "execution_count": 4,
   "metadata": {},
   "outputs": [
    {
     "data": {
      "text/html": [
       "<div>\n",
       "<style scoped>\n",
       "    .dataframe tbody tr th:only-of-type {\n",
       "        vertical-align: middle;\n",
       "    }\n",
       "\n",
       "    .dataframe tbody tr th {\n",
       "        vertical-align: top;\n",
       "    }\n",
       "\n",
       "    .dataframe thead th {\n",
       "        text-align: right;\n",
       "    }\n",
       "</style>\n",
       "<table border=\"1\" class=\"dataframe\">\n",
       "  <thead>\n",
       "    <tr style=\"text-align: right;\">\n",
       "      <th></th>\n",
       "      <th>pH</th>\n",
       "      <th>BIO</th>\n",
       "      <th>PRE</th>\n",
       "      <th>SRA</th>\n",
       "      <th>TMP</th>\n",
       "      <th>VAP</th>\n",
       "      <th>WIN</th>\n",
       "      <th>DEM</th>\n",
       "      <th>NDVI</th>\n",
       "      <th>TDQS</th>\n",
       "      <th>LIGHT</th>\n",
       "      <th>LON</th>\n",
       "      <th>LAT</th>\n",
       "    </tr>\n",
       "  </thead>\n",
       "  <tbody>\n",
       "    <tr>\n",
       "      <th>0</th>\n",
       "      <td>7.00</td>\n",
       "      <td>190.86998</td>\n",
       "      <td>98.666664</td>\n",
       "      <td>13017.417</td>\n",
       "      <td>16.433334</td>\n",
       "      <td>1.590833</td>\n",
       "      <td>1.550000</td>\n",
       "      <td>660.0</td>\n",
       "      <td>4957.3335</td>\n",
       "      <td>11</td>\n",
       "      <td>0.38</td>\n",
       "      <td>477605.34</td>\n",
       "      <td>2912155.2</td>\n",
       "    </tr>\n",
       "    <tr>\n",
       "      <th>1</th>\n",
       "      <td>6.26</td>\n",
       "      <td>190.86998</td>\n",
       "      <td>98.666664</td>\n",
       "      <td>13017.417</td>\n",
       "      <td>16.433334</td>\n",
       "      <td>1.590833</td>\n",
       "      <td>1.550000</td>\n",
       "      <td>669.0</td>\n",
       "      <td>4957.3335</td>\n",
       "      <td>11</td>\n",
       "      <td>0.44</td>\n",
       "      <td>477545.34</td>\n",
       "      <td>2912545.2</td>\n",
       "    </tr>\n",
       "    <tr>\n",
       "      <th>2</th>\n",
       "      <td>5.00</td>\n",
       "      <td>190.69460</td>\n",
       "      <td>98.666664</td>\n",
       "      <td>13014.500</td>\n",
       "      <td>16.366667</td>\n",
       "      <td>1.585833</td>\n",
       "      <td>1.550000</td>\n",
       "      <td>809.0</td>\n",
       "      <td>5189.5835</td>\n",
       "      <td>11</td>\n",
       "      <td>0.29</td>\n",
       "      <td>477515.34</td>\n",
       "      <td>2911045.2</td>\n",
       "    </tr>\n",
       "    <tr>\n",
       "      <th>3</th>\n",
       "      <td>4.56</td>\n",
       "      <td>193.19330</td>\n",
       "      <td>101.250000</td>\n",
       "      <td>12963.917</td>\n",
       "      <td>15.275001</td>\n",
       "      <td>1.498333</td>\n",
       "      <td>1.675000</td>\n",
       "      <td>985.0</td>\n",
       "      <td>4545.4165</td>\n",
       "      <td>12</td>\n",
       "      <td>0.51</td>\n",
       "      <td>477545.34</td>\n",
       "      <td>2903635.2</td>\n",
       "    </tr>\n",
       "    <tr>\n",
       "      <th>4</th>\n",
       "      <td>5.26</td>\n",
       "      <td>193.27090</td>\n",
       "      <td>101.500000</td>\n",
       "      <td>12942.083</td>\n",
       "      <td>15.025000</td>\n",
       "      <td>1.472500</td>\n",
       "      <td>1.716667</td>\n",
       "      <td>1054.0</td>\n",
       "      <td>4545.4165</td>\n",
       "      <td>12</td>\n",
       "      <td>0.49</td>\n",
       "      <td>476945.34</td>\n",
       "      <td>2903845.2</td>\n",
       "    </tr>\n",
       "  </tbody>\n",
       "</table>\n",
       "</div>"
      ],
      "text/plain": [
       "     pH        BIO         PRE        SRA        TMP       VAP       WIN  \\\n",
       "0  7.00  190.86998   98.666664  13017.417  16.433334  1.590833  1.550000   \n",
       "1  6.26  190.86998   98.666664  13017.417  16.433334  1.590833  1.550000   \n",
       "2  5.00  190.69460   98.666664  13014.500  16.366667  1.585833  1.550000   \n",
       "3  4.56  193.19330  101.250000  12963.917  15.275001  1.498333  1.675000   \n",
       "4  5.26  193.27090  101.500000  12942.083  15.025000  1.472500  1.716667   \n",
       "\n",
       "      DEM       NDVI  TDQS  LIGHT        LON        LAT  \n",
       "0   660.0  4957.3335    11   0.38  477605.34  2912155.2  \n",
       "1   669.0  4957.3335    11   0.44  477545.34  2912545.2  \n",
       "2   809.0  5189.5835    11   0.29  477515.34  2911045.2  \n",
       "3   985.0  4545.4165    12   0.51  477545.34  2903635.2  \n",
       "4  1054.0  4545.4165    12   0.49  476945.34  2903845.2  "
      ]
     },
     "execution_count": 4,
     "metadata": {},
     "output_type": "execute_result"
    }
   ],
   "source": [
    "# 读取数据\n",
    "file_path = r\"D:\\ArcGISProjects\\workspace\\duyun\\result_table\\feature_dy.csv\"\n",
    "data = pd.read_csv(file_path)\n",
    "data.head()"
   ]
  },
  {
   "cell_type": "code",
   "execution_count": 5,
   "metadata": {},
   "outputs": [
    {
     "data": {
      "text/plain": [
       "Index(['pH', 'BIO', 'PRE', 'SRA', 'TMP', 'VAP', 'WIN', 'DEM', 'NDVI', 'TDQS',\n",
       "       'LIGHT', 'LON', 'LAT'],\n",
       "      dtype='object')"
      ]
     },
     "execution_count": 5,
     "metadata": {},
     "output_type": "execute_result"
    }
   ],
   "source": [
    "data.columns"
   ]
  },
  {
   "cell_type": "code",
   "execution_count": 6,
   "metadata": {},
   "outputs": [
    {
     "data": {
      "text/plain": [
       "(                pH          BIO          PRE           SRA          TMP  \\\n",
       " count  6498.000000  6498.000000  6498.000000   6498.000000  6498.000000   \n",
       " mean      5.678472   192.269021   100.411934  12967.257826    15.294061   \n",
       " std       0.818039     1.885301     1.364293     96.361184     0.705557   \n",
       " min       3.430000   186.959170    96.750000  12663.583000    12.458333   \n",
       " 25%       5.090000   191.119570    99.583336  12906.083000    14.958333   \n",
       " 50%       5.520000   192.241840   100.333336  12978.167000    15.400001   \n",
       " 75%       6.140000   193.282983   101.083336  13031.062250    15.758333   \n",
       " max       8.560000   200.715650   107.666664  13208.750000    17.333334   \n",
       " \n",
       "                VAP          WIN          DEM         NDVI         TDQS  \\\n",
       " count  6498.000000  6498.000000  6498.000000  6498.000000  6498.000000   \n",
       " mean      1.506889     1.706166   952.616190  5765.238652    11.261619   \n",
       " std       0.059742     0.085981   169.029198   627.668512     0.533220   \n",
       " min       1.273333     1.525000   474.000000  3127.916700    11.000000   \n",
       " 25%       1.477500     1.650000   842.000000  5364.416500    11.000000   \n",
       " 50%       1.515000     1.691667   924.000000  5809.000000    11.000000   \n",
       " 75%       1.546667     1.741667  1036.000000  6193.083500    11.000000   \n",
       " max       1.685833     2.066667  1680.000000  7615.083500    14.000000   \n",
       " \n",
       "              LIGHT            LON           LAT  \n",
       " count  6498.000000    6498.000000  6.498000e+03  \n",
       " mean      0.567085  448863.978042  2.893654e+06  \n",
       " std       0.773676   16964.306654  1.575303e+04  \n",
       " min       0.190000  411965.340000  2.860705e+06  \n",
       " 25%       0.320000  435635.340000  2.881105e+06  \n",
       " 50%       0.370000  449225.340000  2.893315e+06  \n",
       " 75%       0.480000  463085.340000  2.906478e+06  \n",
       " max      14.830000  477605.340000  2.923915e+06  ,\n",
       " (6498, 13))"
      ]
     },
     "execution_count": 6,
     "metadata": {},
     "output_type": "execute_result"
    }
   ],
   "source": [
    "data.describe(),data.shape"
   ]
  },
  {
   "cell_type": "code",
   "execution_count": 7,
   "metadata": {},
   "outputs": [],
   "source": [
    "# 区分类别特征\n",
    "data['TDQS'] = data['TDQS'].astype('str')"
   ]
  },
  {
   "cell_type": "code",
   "execution_count": 8,
   "metadata": {},
   "outputs": [
    {
     "data": {
      "application/vnd.jupyter.widget-view+json": {
       "model_id": "f47d5de5c5d940f3999f8093a4ec0ac2",
       "version_major": 2,
       "version_minor": 0
      },
      "text/plain": [
       "Summarize dataset:   0%|          | 0/5 [00:00<?, ?it/s]"
      ]
     },
     "metadata": {},
     "output_type": "display_data"
    },
    {
     "data": {
      "application/vnd.jupyter.widget-view+json": {
       "model_id": "c14af20b218940cda01c7e999f564507",
       "version_major": 2,
       "version_minor": 0
      },
      "text/plain": [
       "Generate report structure:   0%|          | 0/1 [00:00<?, ?it/s]"
      ]
     },
     "metadata": {},
     "output_type": "display_data"
    },
    {
     "data": {
      "application/vnd.jupyter.widget-view+json": {
       "model_id": "882605acd7d148db887d73cc4b510e29",
       "version_major": 2,
       "version_minor": 0
      },
      "text/plain": [
       "Render HTML:   0%|          | 0/1 [00:00<?, ?it/s]"
      ]
     },
     "metadata": {},
     "output_type": "display_data"
    },
    {
     "data": {
      "application/vnd.jupyter.widget-view+json": {
       "model_id": "d45b0d43d68745e1aa41c1f1e3854aed",
       "version_major": 2,
       "version_minor": 0
      },
      "text/plain": [
       "Export report to file:   0%|          | 0/1 [00:00<?, ?it/s]"
      ]
     },
     "metadata": {},
     "output_type": "display_data"
    }
   ],
   "source": [
    "# 查看分析报告\n",
    "profile = ProfileReport(data,title=\"Pandas Profiling Report\")\n",
    "# 导出数据分析报告\n",
    "profile.to_file(r\"D:\\ArcGISProjects\\workspace\\duyun\\result_table\\feature_dy.html\")"
   ]
  }
 ],
 "metadata": {
  "kernelspec": {
   "display_name": ".venv",
   "language": "python",
   "name": "python3"
  },
  "language_info": {
   "codemirror_mode": {
    "name": "ipython",
    "version": 3
   },
   "file_extension": ".py",
   "mimetype": "text/x-python",
   "name": "python",
   "nbconvert_exporter": "python",
   "pygments_lexer": "ipython3",
   "version": "3.10.11"
  }
 },
 "nbformat": 4,
 "nbformat_minor": 2
}
