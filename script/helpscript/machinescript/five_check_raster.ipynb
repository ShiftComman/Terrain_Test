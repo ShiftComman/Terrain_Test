{
 "cells": [
  {
   "cell_type": "markdown",
   "metadata": {},
   "source": [
    "# 栅格值范围规范化"
   ]
  },
  {
   "cell_type": "code",
   "execution_count": 1,
   "metadata": {},
   "outputs": [],
   "source": [
    "import arcpy\n",
    "from arcpy import env\n",
    "from arcpy.da import *\n",
    "from arcpy.sa import *\n",
    "import os"
   ]
  },
  {
   "cell_type": "code",
   "execution_count": 2,
   "metadata": {},
   "outputs": [],
   "source": [
    "work_path = r'D:\\ArcGISProjects\\workspace\\shbyq\\feature_raster_file\\features_data_dy.gdb'"
   ]
  },
  {
   "cell_type": "code",
   "execution_count": 3,
   "metadata": {},
   "outputs": [],
   "source": [
    "env.workspace = work_path"
   ]
  },
  {
   "cell_type": "code",
   "execution_count": 4,
   "metadata": {},
   "outputs": [],
   "source": [
    "raster_list = arcpy.ListRasters()"
   ]
  },
  {
   "cell_type": "code",
   "execution_count": 5,
   "metadata": {},
   "outputs": [
    {
     "data": {
      "text/plain": [
       "['DEM',\n",
       " 'AnalyticalHillshading',\n",
       " 'Aspect',\n",
       " 'ChannelNetworkBaseLevel',\n",
       " 'ChannelNetworkDistance',\n",
       " 'ClosedDepressions',\n",
       " 'ConvergenceIndex',\n",
       " 'LSFactor',\n",
       " 'PlanCurvature',\n",
       " 'ProfileCurvature',\n",
       " 'RelativeSlopePosition',\n",
       " 'Slope',\n",
       " 'TopographicWetnessIndex',\n",
       " 'TotalCatchmentArea',\n",
       " 'ValleyDepth',\n",
       " 'Contrast',\n",
       " 'Correlation',\n",
       " 'Dissimilarity',\n",
       " 'Entropy',\n",
       " 'Homogeneity',\n",
       " 'Mean',\n",
       " 'ndvi',\n",
       " 'PCA_0',\n",
       " 'PCA_1',\n",
       " 'SecondMoment',\n",
       " 'Variance',\n",
       " 'PRE',\n",
       " 'SRA',\n",
       " 'TMP',\n",
       " 'VAP',\n",
       " 'WIND',\n",
       " 'BIO',\n",
       " 'LON',\n",
       " 'LAT',\n",
       " 'PH',\n",
       " 'DZ',\n",
       " 'DL']"
      ]
     },
     "execution_count": 5,
     "metadata": {},
     "output_type": "execute_result"
    }
   ],
   "source": [
    "raster_list"
   ]
  },
  {
   "cell_type": "code",
   "execution_count": 7,
   "metadata": {},
   "outputs": [
    {
     "name": "stdout",
     "output_type": "stream",
     "text": [
      "-3.4028234663853E+38 32.468322753906\n"
     ]
    }
   ],
   "source": [
    "raster_path = r'F:\\test\\jkljflk.tif'\n",
    "min_value = arcpy.management.GetRasterProperties(raster_path, \"MINIMUM\").getOutput(0)\n",
    "\n",
    "# 获取栅格的最大值\n",
    "max_value = arcpy.management.GetRasterProperties(raster_path, \"MAXIMUM\").getOutput(0)\n",
    "print(min_value, max_value)"
   ]
  },
  {
   "cell_type": "code",
   "execution_count": 6,
   "metadata": {},
   "outputs": [
    {
     "name": "stdout",
     "output_type": "stream",
     "text": [
      "DEM该栅格的最小值是: 436\n",
      "DEM该栅格的最大值是: 1948.69995117188\n",
      "AnalyticalHillshading该栅格的最小值是: 1.98967754840851E-03\n",
      "AnalyticalHillshading该栅格的最大值是: 2.27188754081726\n",
      "Aspect该栅格的最小值是: 1.73395267211163E-06\n",
      "Aspect该栅格的最大值是: 6.28318548202515\n",
      "ChannelNetworkBaseLevel该栅格的最小值是: 436.100006103516\n",
      "ChannelNetworkBaseLevel该栅格的最大值是: 1900.69995117188\n",
      "ChannelNetworkDistance该栅格的最小值是: -296.430847167969\n",
      "ChannelNetworkDistance该栅格的最大值是: 349.122985839844\n",
      "ClosedDepressions该栅格的最小值是: 0.00006103515625\n",
      "ClosedDepressions该栅格的最大值是: 126.122924804688\n",
      "ConvergenceIndex该栅格的最小值是: -100\n",
      "ConvergenceIndex该栅格的最大值是: 100\n",
      "LSFactor该栅格的最小值是: 0\n",
      "LSFactor该栅格的最大值是: 8216.037109375\n",
      "PlanCurvature该栅格的最小值是: -0.830868542194366\n",
      "PlanCurvature该栅格的最大值是: 0.828733265399933\n",
      "ProfileCurvature该栅格的最小值是: -0.630962073802948\n",
      "ProfileCurvature该栅格的最大值是: 0.828801035881042\n",
      "RelativeSlopePosition该栅格的最小值是: -33997\n",
      "RelativeSlopePosition该栅格的最大值是: 26215\n",
      "Slope该栅格的最小值是: 0\n",
      "Slope该栅格的最大值是: 1.50694155693054\n",
      "TopographicWetnessIndex该栅格的最小值是: -1.20804166793823\n",
      "TopographicWetnessIndex该栅格的最大值是: 25.1112174987793\n",
      "TotalCatchmentArea该栅格的最小值是: 25\n",
      "TotalCatchmentArea该栅格的最大值是: 402420064\n",
      "ValleyDepth该栅格的最小值是: -281.380432128906\n",
      "ValleyDepth该栅格的最大值是: 389.931884765625\n",
      "Contrast该栅格的最小值是: 0\n",
      "Contrast该栅格的最大值是: 713.000061035156\n",
      "Correlation该栅格的最小值是: -1.00000011920929\n",
      "Correlation该栅格的最大值是: 1.00000011920929\n",
      "Dissimilarity该栅格的最小值是: 0\n",
      "Dissimilarity该栅格的最大值是: 23.6666679382324\n",
      "Entropy该栅格的最小值是: -0\n",
      "Entropy该栅格的最大值是: 2.19722461700439\n",
      "Homogeneity该栅格的最小值是: 0\n",
      "Homogeneity该栅格的最大值是: 1.00000011920929\n",
      "Mean该栅格的最小值是: 0\n",
      "Mean该栅格的最大值是: 51.7777786254883\n",
      "ndvi该栅格的最小值是: -0.255838841199875\n",
      "ndvi该栅格的最大值是: 0.682720482349396\n",
      "PCA_0该栅格的最小值是: -0.45446240901947\n",
      "PCA_0该栅格的最大值是: 2.60211300849915\n",
      "PCA_1该栅格的最小值是: -0.513715922832489\n",
      "PCA_1该栅格的最大值是: 1.2164980173111\n",
      "SecondMoment该栅格的最小值是: 0\n",
      "SecondMoment该栅格的最大值是: 1\n",
      "Variance该栅格的最小值是: 0\n",
      "Variance该栅格的最大值是: 314.1728515625\n",
      "PRE该栅格的最小值是: 95.25\n",
      "PRE该栅格的最大值是: 109.083335876465\n",
      "SRA该栅格的最小值是: 12626.1669921875\n",
      "SRA该栅格的最大值是: 13294.9169921875\n",
      "TMP该栅格的最小值是: 11.7749996185303\n",
      "TMP该栅格的最大值是: 17.625\n",
      "VAP该栅格的最小值是: 1.21583330631256\n",
      "VAP该栅格的最大值是: 1.71166670322418\n",
      "WIND该栅格的最小值是: 1.49166667461395\n",
      "WIND该栅格的最大值是: 2.19166660308838\n",
      "BIO该栅格的最小值是: 184.739547729492\n",
      "BIO该栅格的最大值是: 202.871154785156\n",
      "LON该栅格的最小值是: 411340\n",
      "LON该栅格的最大值是: 478050\n",
      "LAT该栅格的最小值是: 2860150\n",
      "LAT该栅格的最大值是: 2924550\n",
      "PH该栅格的最小值是: 4.0584865\n",
      "PH该栅格的最大值是: 7.6624556\n",
      "DZ该栅格的最小值是: 1\n",
      "DZ该栅格的最大值是: 14\n",
      "DL该栅格的最小值是: 1\n",
      "DL该栅格的最大值是: 42\n"
     ]
    }
   ],
   "source": [
    "# 查看各个栅格的值的范围\n",
    "for one_raster in raster_list:\n",
    "    # 获取栅格的最小值\n",
    "    min_value = arcpy.management.GetRasterProperties(one_raster, \"MINIMUM\").getOutput(0)\n",
    "\n",
    "    # 获取栅格的最大值\n",
    "    max_value = arcpy.management.GetRasterProperties(one_raster, \"MAXIMUM\").getOutput(0)\n",
    "\n",
    "    print(f\"{one_raster}该栅格的最小值是: {min_value}\")\n",
    "    print(f\"{one_raster}该栅格的最大值是: {max_value}\")"
   ]
  },
  {
   "cell_type": "code",
   "execution_count": null,
   "metadata": {},
   "outputs": [],
   "source": []
  },
  {
   "cell_type": "code",
   "execution_count": null,
   "metadata": {},
   "outputs": [],
   "source": []
  },
  {
   "cell_type": "code",
   "execution_count": null,
   "metadata": {},
   "outputs": [],
   "source": [
    "import arcpy\n",
    "\n",
    "# 栅格数据集的路径\n",
    "raster_path = \"C:/path/to/your/raster.tif\"\n",
    "\n",
    "# 获取栅格的最小值\n",
    "min_value = arcpy.management.GetRasterProperties(raster_path, \"MINIMUM\").getOutput(0)\n",
    "\n",
    "# 获取栅格的最大值\n",
    "max_value = arcpy.management.GetRasterProperties(raster_path, \"MAXIMUM\").getOutput(0)\n",
    "\n",
    "print(f\"该栅格的最小值是: {min_value}\")\n",
    "print(f\"该栅格的最大值是: {max_value}\")\n"
   ]
  }
 ],
 "metadata": {
  "kernelspec": {
   "display_name": "Python 3",
   "language": "python",
   "name": "python3"
  },
  "language_info": {
   "codemirror_mode": {
    "name": "ipython",
    "version": 3
   },
   "file_extension": ".py",
   "mimetype": "text/x-python",
   "name": "python",
   "nbconvert_exporter": "python",
   "pygments_lexer": "ipython3",
   "version": "3.9.11"
  }
 },
 "nbformat": 4,
 "nbformat_minor": 2
}
