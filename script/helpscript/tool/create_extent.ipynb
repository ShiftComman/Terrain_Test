{
 "cells": [
  {
   "cell_type": "code",
   "execution_count": 7,
   "metadata": {},
   "outputs": [],
   "source": [
    "import arcpy"
   ]
  },
  {
   "cell_type": "code",
   "execution_count": 8,
   "metadata": {},
   "outputs": [],
   "source": [
    "\n",
    "# 创建缓冲区\n",
    "def create_buffer(in_feature, out_feature, buffer_distance):\n",
    "    \"\"\"\n",
    "    in_feature:输入要素\n",
    "    out_feature:输出要素\n",
    "    buffer_distance:缓冲距离\"\"\"\n",
    "    arcpy.analysis.Buffer(in_feature, out_feature, f'{buffer_distance} Meters', \"FULL\", \"ROUND\", \"NONE\", None, \"PLANAR\")\n",
    "# 生成最小包络矩形\n",
    "def create_extent(in_feature, out_feature):\n",
    "    \"\"\"\n",
    "    in_feature:输入要素\n",
    "    out_feature:输出要素\"\"\"\n",
    "    arcpy.management.MinimumBoundingGeometry(in_feature, out_feature, \"ENVELOPE\", \"NONE\", None, \"NO_MBG_FIELDS\")\n",
    "\n",
    "# 要素包络矩形\n",
    "def create_envelope(in_feature, out_feature):\n",
    "    \"\"\"\n",
    "    in_feature:输入要素\n",
    "    out_feature:输出要素\"\"\"\n",
    "    arcpy.management.FeatureEnvelopeToPolygon(in_feature,out_feature, \"SINGLEPART\")\n",
    "    "
   ]
  },
  {
   "cell_type": "code",
   "execution_count": 3,
   "metadata": {},
   "outputs": [],
   "source": [
    "arcpy.env.overwriteOutput = True"
   ]
  },
  {
   "cell_type": "code",
   "execution_count": 9,
   "metadata": {},
   "outputs": [],
   "source": [
    "in_feature = r'D:\\ArcGISProjects\\workspace\\shbyq\\features_data_vector.gdb\\LD'\n",
    "out_feature = r'D:\\ArcGISProjects\\workspace\\shbyq\\features_data_vector.gdb\\LD_500'\n",
    "out_extent = r'D:\\ArcGISProjects\\workspace\\shbyq\\features_data_vector.gdb\\LD_500_extent'"
   ]
  },
  {
   "cell_type": "code",
   "execution_count": 10,
   "metadata": {},
   "outputs": [],
   "source": [
    "create_buffer(in_feature,out_feature,500)\n",
    "create_envelope(out_feature,out_extent)"
   ]
  }
 ],
 "metadata": {
  "kernelspec": {
   "display_name": "Python 3",
   "language": "python",
   "name": "python3"
  },
  "language_info": {
   "codemirror_mode": {
    "name": "ipython",
    "version": 3
   },
   "file_extension": ".py",
   "mimetype": "text/x-python",
   "name": "python",
   "nbconvert_exporter": "python",
   "pygments_lexer": "ipython3",
   "version": "3.9.11"
  }
 },
 "nbformat": 4,
 "nbformat_minor": 2
}
