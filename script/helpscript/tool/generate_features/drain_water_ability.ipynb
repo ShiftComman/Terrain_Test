{
 "cells": [
  {
   "cell_type": "markdown",
   "metadata": {},
   "source": [
    "# 计算区域排水能力"
   ]
  },
  {
   "cell_type": "code",
   "execution_count": 1,
   "metadata": {},
   "outputs": [],
   "source": [
    "import os\n",
    "import arcpy\n",
    "from arcpy.sa import *"
   ]
  },
  {
   "cell_type": "code",
   "execution_count": 2,
   "metadata": {},
   "outputs": [],
   "source": [
    "# 设置环境参数\n",
    "arcpy.env.workspace =r\"C:\\Users\\Runker\\Desktop\\DEM_test\\drainwater.gdb\"\n",
    "arcpy.env.overwriteOutput = True\n",
    "# 设置单进程模式\n",
    "arcpy.env.parallelProcessingFactor = \"1\""
   ]
  },
  {
   "cell_type": "code",
   "execution_count": 4,
   "metadata": {},
   "outputs": [
    {
     "data": {
      "text/html": [
       "<div class='gpresult'><h2>Messages</h2><div id='messages' data-messages='[\"开始时间: 2024年7月10日 9:54:29\",\"临时数据将在 C:\\\\Users\\\\Runker\\\\AppData\\\\Local\\\\Temp\\\\s409856e0_9ecb_4c2a_804e_125a1dfd816a 中创建\",\"估计需要 709 MB 的临时存储空间。 60,311 MB 的存储空间当前可供使用。\",\"2024-07-10T09:54:30.427: Initialization 阶段...\",\"2024-07-10T09:54:44.046: Iteration 阶段...\",\"2024-07-10T09:54:51.140: Completion 阶段...\",\"已使用 632 MB 的临时存储空间。\",\"运行 成功，结束时间： 2024年7月10日 9:54:58 (历时: 28.95 秒)\"]' data-show='true'><div id = 'default' /></div></div>"
      ],
      "text/plain": [
       "<geoprocessing server result object at 0x1aa5b6db1e0>"
      ]
     },
     "execution_count": 4,
     "metadata": {},
     "output_type": "execute_result"
    }
   ],
   "source": [
    "# 导入DEM、地质类型、河流和沟渠数据\n",
    "dem = \"DEM\"\n",
    "geology_type = \"DZ\"\n",
    "rivers_shp = \"river\"\n",
    "canals_shp = \"vally\"\n",
    "# 填平DEM数据中的凹陷\n",
    "filled_dem = \"filled_dem\"\n",
    "arcpy.gp.Fill_sa(dem, filled_dem)\n"
   ]
  },
  {
   "cell_type": "code",
   "execution_count": 5,
   "metadata": {},
   "outputs": [
    {
     "data": {
      "text/html": [
       "<div class='gpresult'><h2>Messages</h2><div id='messages' data-messages='[\"开始时间: 2024年7月10日 9:55:56\",\"临时数据将在 C:\\\\Users\\\\Runker\\\\AppData\\\\Local\\\\Temp\\\\s94a38899_f795_42ef_a2e7_b7fe987e8941 中创建\",\"估计需要 \\u003cunknown\\u003e MB 的临时存储空间。 60,283 MB 的存储空间当前可供使用。\",\"2024-07-10T09:55:57.174: Initialization 阶段...\",\"2024-07-10T09:56:24.351: Iteration 阶段...\",\"2024-07-10T09:56:54.977: Completion 阶段...\",\"运行 成功，结束时间：2024年7月10日 9:57:01 (历时: 1 分 5 秒)\"]' data-show='true'><div id = 'default' /></div></div>"
      ],
      "text/plain": [
       "<geoprocessing server result object at 0x1aa5b7182d0>"
      ]
     },
     "execution_count": 5,
     "metadata": {},
     "output_type": "execute_result"
    }
   ],
   "source": [
    "# 计算坡度\n",
    "slope = \"slope\"\n",
    "arcpy.gp.Slope_sa(filled_dem, slope, \"DEGREE\")\n",
    "\n",
    "# 计算流向\n",
    "flow_direction = \"flow_direction\"\n",
    "arcpy.gp.FlowDirection_sa(filled_dem, flow_direction)\n",
    "\n",
    "# 计算流积量\n",
    "flow_accumulation = \"flow_accumulation\"\n",
    "arcpy.gp.FlowAccumulation_sa(flow_direction, flow_accumulation)\n"
   ]
  },
  {
   "cell_type": "code",
   "execution_count": 6,
   "metadata": {},
   "outputs": [],
   "source": [
    "# 标准化DEM以确定相对位置（顶部、中部、下部）\n",
    "# 计算局部最小值和最大值\n",
    "neighborhood = NbrRectangle(101, 101, \"CELL\")\n",
    "local_min = FocalStatistics(dem, neighborhood, \"MINIMUM\")\n",
    "local_max = FocalStatistics(dem, neighborhood, \"MAXIMUM\")\n",
    "mode_raster = local_max - local_min\n",
    "calc_raster = dem - local_min\n",
    "normalized_local = calc_raster / mode_raster\n",
    "\n",
    "# 重新分类相对位置\n",
    "remap = RemapRange([[0, 0.2, 1], [0.2, 0.7, 2], [0.7, 1, 3]])\n",
    "\n",
    "# 使用 Reclassify 函数进行重新分类\n",
    "out_reclassify = Reclassify(normalized_local, \"VALUE\", remap)\n",
    "position = 'position'\n",
    "out_reclassify.save(position)\n"
   ]
  },
  {
   "cell_type": "code",
   "execution_count": 7,
   "metadata": {},
   "outputs": [
    {
     "data": {
      "text/html": [
       "<div class='gpresult'><h2>Messages</h2><div id='messages' data-messages='[\"开始时间: 2024年7月10日 9:59:07\",\"临时数据将在 C:\\\\Users\\\\Runker\\\\AppData\\\\Local\\\\Temp\\\\s38a2c77d_9f15_452f_a722_b83cffc2f156 中创建\",\"估计需要 1,968 MB 的临时存储空间。 60,685 MB 的存储空间当前可供使用。\",\"2024-07-10T09:59:08.162: Initialization 阶段...\",\"2024-07-10T09:59:24.036: Iteration 阶段...\",\"2024-07-10T09:59:37.080: Completion 阶段...\",\"已使用 1,965 MB 的临时存储空间。\",\"运行 成功，结束时间： 2024年7月10日 9:59:44 (历时: 37.49 秒)\"]' data-show='true'><div id = 'default' /></div></div>"
      ],
      "text/plain": [
       "<geoprocessing server result object at 0x1aa5c1a8ab0>"
      ]
     },
     "execution_count": 7,
     "metadata": {},
     "output_type": "execute_result"
    }
   ],
   "source": [
    "# 设置像元大小为5M\n",
    "arcpy.env.cellSize = 5  # 设置像元大小为5米\n",
    "# 合并河流和沟渠图层\n",
    "combined_features = \"combined_features\"\n",
    "arcpy.Merge_management([rivers_shp, canals_shp], combined_features)\n",
    "\n",
    "# 计算每个栅格单元到最近河流和沟渠的距离\n",
    "distance_to_river_canal = \"distance_to_river_canal\"\n",
    "arcpy.gp.EucDistance_sa(combined_features, distance_to_river_canal)\n"
   ]
  },
  {
   "cell_type": "code",
   "execution_count": 3,
   "metadata": {},
   "outputs": [
    {
     "ename": "NameError",
     "evalue": "name 'slope' is not defined",
     "output_type": "error",
     "traceback": [
      "\u001b[1;31m---------------------------------------------------------------------------\u001b[0m",
      "\u001b[1;31mNameError\u001b[0m                                 Traceback (most recent call last)",
      "Cell \u001b[1;32mIn[3], line 3\u001b[0m\n\u001b[0;32m      1\u001b[0m \u001b[38;5;66;03m# 标准化坡度\u001b[39;00m\n\u001b[0;32m      2\u001b[0m normalized_slope \u001b[38;5;241m=\u001b[39m \u001b[38;5;124m\"\u001b[39m\u001b[38;5;124mnormalized_slope\u001b[39m\u001b[38;5;124m\"\u001b[39m\n\u001b[1;32m----> 3\u001b[0m min_slope \u001b[38;5;241m=\u001b[39m arcpy\u001b[38;5;241m.\u001b[39mGetRasterProperties_management(\u001b[43mslope\u001b[49m, \u001b[38;5;124m\"\u001b[39m\u001b[38;5;124mMINIMUM\u001b[39m\u001b[38;5;124m\"\u001b[39m)\u001b[38;5;241m.\u001b[39mgetOutput(\u001b[38;5;241m0\u001b[39m)\n\u001b[0;32m      4\u001b[0m max_slope \u001b[38;5;241m=\u001b[39m arcpy\u001b[38;5;241m.\u001b[39mGetRasterProperties_management(slope, \u001b[38;5;124m\"\u001b[39m\u001b[38;5;124mMAXIMUM\u001b[39m\u001b[38;5;124m\"\u001b[39m)\u001b[38;5;241m.\u001b[39mgetOutput(\u001b[38;5;241m0\u001b[39m)\n\u001b[0;32m      5\u001b[0m expression \u001b[38;5;241m=\u001b[39m \u001b[38;5;124m\"\u001b[39m\u001b[38;5;124m((Raster(\u001b[39m\u001b[38;5;124m'\u001b[39m\u001b[38;5;132;01m{}\u001b[39;00m\u001b[38;5;124m'\u001b[39m\u001b[38;5;124m) - \u001b[39m\u001b[38;5;132;01m{}\u001b[39;00m\u001b[38;5;124m) / (\u001b[39m\u001b[38;5;132;01m{}\u001b[39;00m\u001b[38;5;124m - \u001b[39m\u001b[38;5;132;01m{}\u001b[39;00m\u001b[38;5;124m))\u001b[39m\u001b[38;5;124m\"\u001b[39m\u001b[38;5;241m.\u001b[39mformat(slope, min_slope, max_slope, min_slope)\n",
      "\u001b[1;31mNameError\u001b[0m: name 'slope' is not defined"
     ]
    }
   ],
   "source": [
    "# 标准化坡度\n",
    "normalized_slope = \"normalized_slope\"\n",
    "min_slope = arcpy.GetRasterProperties_management(slope, \"MINIMUM\").getOutput(0)\n",
    "max_slope = arcpy.GetRasterProperties_management(slope, \"MAXIMUM\").getOutput(0)\n",
    "expression = \"((Raster('{}') - {}) / ({} - {}))\".format(slope, min_slope, max_slope, min_slope)\n",
    "arcpy.gp.RasterCalculator_sa(expression, normalized_slope)\n",
    "\n",
    "# 标准化流积量\n",
    "normalized_flow_accumulation = \"normalized_flow_accumulation\"\n",
    "min_flow = arcpy.GetRasterProperties_management(flow_accumulation, \"MINIMUM\").getOutput(0)\n",
    "max_flow = arcpy.GetRasterProperties_management(flow_accumulation, \"MAXIMUM\").getOutput(0)\n",
    "expression = \"((Raster('{}') - {}) / ({} - {}))\".format(flow_accumulation, min_flow, max_flow, min_flow)\n",
    "arcpy.gp.RasterCalculator_sa(expression, normalized_flow_accumulation)\n",
    "\n",
    "# 标准化土壤类型\n",
    "remap = RemapValue([\n",
    "    [1, 0.1],  # 页岩\n",
    "    [2, 0.5],  # 灰岩\n",
    "    [3, 0.3],  # 第四纪红色粘土\n",
    "    [4, 0.9],  # 砂岩\n",
    "    [5, 0.6],  # 砂页岩\n",
    "    [6, 0.8],  # 砾岩\n",
    "    [7, 0.2],  # 水稻土\n",
    "    [8, 0.85], # 第四纪冰川冲积物\n",
    "    [9, 0.75]  # 紫红色砂岩\n",
    "])\n",
    "\n",
    "normalized_soil_type = Reclassify(geology_type, \"VALUE\", remap)\n",
    "normalized_soil_type.save(\"normalized_soil_type\")\n",
    "\n",
    "# 标准化距离河流和沟渠的距离\n",
    "normalized_distance = \"normalized_distance\"\n",
    "min_distance = arcpy.GetRasterProperties_management(distance_to_river_canal, \"MINIMUM\").getOutput(0)\n",
    "max_distance = arcpy.GetRasterProperties_management(distance_to_river_canal, \"MAXIMUM\").getOutput(0)\n",
    "expression = \"((Raster('{}') - {}) / ({} - {}))\".format(distance_to_river_canal, min_distance, max_distance, min_distance)\n",
    "arcpy.gp.RasterCalculator_sa(expression, normalized_distance)\n",
    "\n",
    "# 标准化相对位置\n",
    "normalized_position = \"normalized_position\"\n",
    "expression = \"((Raster('{}') - 1) / (3 - 1))\".format(position)\n",
    "arcpy.gp.RasterCalculator_sa(expression, normalized_position)\n"
   ]
  },
  {
   "cell_type": "code",
   "execution_count": null,
   "metadata": {},
   "outputs": [],
   "source": [
    "# 综合计算排水能力\n",
    "drainage_capacity = \"drainage_capacity\"\n",
    "expression = (\"0.25 * Raster('{}') + 0.2 * Raster('{}') + 0.2 * Raster('{}') + \"\n",
    "              \"0.2 * Raster('{}') + 0.1 * Raster('{}')\").format(\n",
    "    normalized_slope, normalized_flow_accumulation, normalized_soil_type,\n",
    "    normalized_distance, normalized_position)\n",
    "arcpy.gp.RasterCalculator_sa(expression, drainage_capacity)\n"
   ]
  },
  {
   "cell_type": "code",
   "execution_count": null,
   "metadata": {},
   "outputs": [],
   "source": [
    "# 分类排水能力\n",
    "classified_drainage_capacity = \"classified_drainage_capacity.tif\"\n",
    "remap = RemapRange([[0, 0.25, 1], [0.25, 0.5, 2], [0.5, 0.75, 3], [0.75, 1, 4]])\n",
    "arcpy.gp.Reclassify_sa(drainage_capacity, \"VALUE\", remap, classified_drainage_capacity)\n"
   ]
  },
  {
   "cell_type": "code",
   "execution_count": null,
   "metadata": {},
   "outputs": [],
   "source": [
    "# 清理\n",
    "arcpy.CheckInExtension(\"Spatial\")\n"
   ]
  }
 ],
 "metadata": {
  "kernelspec": {
   "display_name": "Python 3",
   "language": "python",
   "name": "python3"
  },
  "language_info": {
   "codemirror_mode": {
    "name": "ipython",
    "version": 3
   },
   "file_extension": ".py",
   "mimetype": "text/x-python",
   "name": "python",
   "nbconvert_exporter": "python",
   "pygments_lexer": "ipython3",
   "version": "3.9.11"
  }
 },
 "nbformat": 4,
 "nbformat_minor": 2
}
