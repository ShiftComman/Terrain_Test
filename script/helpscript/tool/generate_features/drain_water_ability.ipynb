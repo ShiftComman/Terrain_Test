{
 "cells": [
  {
   "cell_type": "markdown",
   "metadata": {},
   "source": [
    "# 计算区域排水能力"
   ]
  },
  {
   "cell_type": "code",
   "execution_count": 8,
   "metadata": {},
   "outputs": [],
   "source": [
    "import arcpy\n",
    "import os\n",
    "from arcpy.sa import *"
   ]
  },
  {
   "cell_type": "code",
   "execution_count": 11,
   "metadata": {},
   "outputs": [],
   "source": [
    "# 设置环境参数\n",
    "arcpy.env.workspace = r\"C:\\Users\\Runker\\Desktop\\DEM_test\\drainwater.gdb\"\n",
    "arcpy.env.overwriteOutput = True\n",
    "# 设置单进程模式\n",
    "arcpy.env.parallelProcessingFactor = \"1\"\n",
    "# 输入数据\n",
    "dem = \"DEM\"\n",
    "geology_type = \"DZ\"\n",
    "rivers_shp = \"river\"\n",
    "canals_shp = \"vally\""
   ]
  },
  {
   "cell_type": "code",
   "execution_count": 12,
   "metadata": {},
   "outputs": [],
   "source": [
    "# 步骤1：填平DEM数据中的凹陷\n",
    "filled_dem = Fill(dem)\n",
    "filled_dem.save(\"filled_dem\")"
   ]
  },
  {
   "cell_type": "code",
   "execution_count": 13,
   "metadata": {},
   "outputs": [],
   "source": [
    "# 步骤2：计算坡度\n",
    "slope = Slope(filled_dem, \"DEGREE\")\n",
    "slope.save(\"slope\")"
   ]
  },
  {
   "cell_type": "code",
   "execution_count": 14,
   "metadata": {},
   "outputs": [],
   "source": [
    "# 步骤3：计算流向\n",
    "flow_direction = FlowDirection(filled_dem)\n",
    "flow_direction.save(\"flow_direction\")"
   ]
  },
  {
   "cell_type": "code",
   "execution_count": 15,
   "metadata": {},
   "outputs": [],
   "source": [
    "# 步骤4：计算流积量\n",
    "flow_accumulation = FlowAccumulation(flow_direction)\n",
    "flow_accumulation.save(\"flow_accumulation\")"
   ]
  },
  {
   "cell_type": "code",
   "execution_count": null,
   "metadata": {},
   "outputs": [],
   "source": [
    "# 步骤5：计算相对位置\n",
    "neighborhood = NbrRectangle(101, 101, \"CELL\")\n",
    "local_min = FocalStatistics(Raster(dem), neighborhood, \"MINIMUM\")\n",
    "local_max = FocalStatistics(Raster(dem), neighborhood, \"MAXIMUM\")\n",
    "normalized_local = (Raster(dem) - local_min) / (local_max - local_min)\n",
    "position = Reclassify(normalized_local, \"Value\", \n",
    "                      RemapRange([[0, 0.2, 1], [0.2, 0.7, 2], [0.7, 1, 3]]))\n",
    "position.save(\"position\")"
   ]
  },
  {
   "cell_type": "code",
   "execution_count": 16,
   "metadata": {},
   "outputs": [],
   "source": [
    "# 步骤6：合并河流和沟渠图层\n",
    "arcpy.management.Merge([rivers_shp, canals_shp], \"combined_features\")\n",
    "\n",
    "# 步骤7：计算到河流和沟渠的距离\n",
    "distance_to_river_canal = EucDistance(in_source_data=\"combined_features\",cell_size=\"5\")\n",
    "distance_to_river_canal.save(\"distance_to_river_canal\")"
   ]
  },
  {
   "cell_type": "code",
   "execution_count": 18,
   "metadata": {},
   "outputs": [],
   "source": [
    "# 步骤8：标准化所有因子\n",
    "def normalize_raster(raster):\n",
    "    min_val = float(arcpy.GetRasterProperties_management(raster, \"MINIMUM\").getOutput(0))\n",
    "    max_val = float(arcpy.GetRasterProperties_management(raster, \"MAXIMUM\").getOutput(0))\n",
    "    return (Raster(raster) - min_val) / (max_val - min_val)\n",
    "\n",
    "normalized_slope = normalize_raster(\"slope\")\n",
    "normalized_flow_accumulation = normalize_raster(\"flow_accumulation\")\n",
    "normalized_distance = normalize_raster(\"distance_to_river_canal\")\n",
    "normalized_position = (Raster(\"position\") - 1) / 2"
   ]
  },
  {
   "cell_type": "code",
   "execution_count": 21,
   "metadata": {},
   "outputs": [],
   "source": [
    "# 标准化地质类型\n",
    "geology_remap = RemapValue([\n",
    "    [1, 10], [2, 50], [3, 30], [4, 90], [5, 60],\n",
    "    [6, 80], [7, 20], [8, 85], [9, 75]\n",
    "])\n",
    "normalized_geology = Reclassify(geology_type, \"Value\", geology_remap) / 100\n"
   ]
  },
  {
   "cell_type": "code",
   "execution_count": 23,
   "metadata": {},
   "outputs": [],
   "source": [
    "# 步骤9：计算排水能力\n",
    "drainage_capacity = (0.3 * normalized_slope + \n",
    "                     0.2 * normalized_flow_accumulation + \n",
    "                     0.15 * normalized_geology + \n",
    "                     0.1 * (1 - normalized_distance) +  # 距离越近，排水能力越强\n",
    "                     0.25 * normalized_position)\n",
    "drainage_capacity.save(\"drainage_capacity\")"
   ]
  },
  {
   "cell_type": "code",
   "execution_count": 24,
   "metadata": {},
   "outputs": [
    {
     "name": "stdout",
     "output_type": "stream",
     "text": [
      "排水能力计算完成。\n"
     ]
    }
   ],
   "source": [
    "# 步骤10：分类排水能力\n",
    "classified_drainage = Reclassify(drainage_capacity, \"Value\",\n",
    "                                 RemapRange([[0, 0.25, 1], [0.25, 0.5, 2], \n",
    "                                             [0.5, 0.75, 3], [0.75, 1, 4]]))\n",
    "classified_drainage.save(\"classified_drainage_capacity\")\n",
    "\n",
    "print(\"排水能力计算完成。\")"
   ]
  }
 ],
 "metadata": {
  "kernelspec": {
   "display_name": "Python 3",
   "language": "python",
   "name": "python3"
  },
  "language_info": {
   "codemirror_mode": {
    "name": "ipython",
    "version": 3
   },
   "file_extension": ".py",
   "mimetype": "text/x-python",
   "name": "python",
   "nbconvert_exporter": "python",
   "pygments_lexer": "ipython3",
   "version": "3.9.11"
  }
 },
 "nbformat": 4,
 "nbformat_minor": 2
}
