{
 "cells": [
  {
   "cell_type": "markdown",
   "metadata": {},
   "source": [
    "# 计算区域排水能力"
   ]
  },
  {
   "cell_type": "code",
   "execution_count": 1,
   "metadata": {},
   "outputs": [],
   "source": [
    "import os\n",
    "import arcpy\n",
    "from arcpy.sa import *"
   ]
  },
  {
   "cell_type": "code",
   "execution_count": 5,
   "metadata": {},
   "outputs": [],
   "source": [
    "# 设置环境参数\n",
    "arcpy.env.workspace =r\"C:\\Users\\Runker\\Desktop\\DEM_test\\drainwater.gdb\"\n",
    "arcpy.env.overwriteOutput = True\n",
    "# 设置单进程模式\n",
    "arcpy.env.parallelProcessingFactor = \"1\""
   ]
  },
  {
   "cell_type": "code",
   "execution_count": 6,
   "metadata": {},
   "outputs": [
    {
     "data": {
      "text/html": [
       "<div class='gpresult'><h2>Messages</h2><div id='messages' data-messages='[\"开始时间: 2024年7月9日 15:29:07\",\"临时数据将在 C:\\\\Users\\\\Runker\\\\AppData\\\\Local\\\\Temp\\\\sc4bb882c_7d0a_4353_b2ac_17faa1f38e9b 中创建\",\"估计需要 709 MB 的临时存储空间。 64,151 MB 的存储空间当前可供使用。\",\"2024-07-09T15:29:08.495: Initialization 阶段...\",\"2024-07-09T15:29:21.569: Iteration 阶段...\",\"2024-07-09T15:29:31.096: Completion 阶段...\",\"已使用 632 MB 的临时存储空间。\",\"运行 成功，结束时间： 2024年7月9日 15:29:40 (历时: 33.01 秒)\"]' data-show='true'><div id = 'default' /></div></div>"
      ],
      "text/plain": [
       "<geoprocessing server result object at 0x1ce754069f0>"
      ]
     },
     "execution_count": 6,
     "metadata": {},
     "output_type": "execute_result"
    }
   ],
   "source": [
    "# 导入DEM、土壤类型、河流和沟渠数据\n",
    "dem = \"DEM\"\n",
    "soil_type = \"DZ\"\n",
    "rivers_shp = \"river\"\n",
    "canals_shp = \"vally\"\n",
    "# 填平DEM数据中的凹陷\n",
    "filled_dem = \"filled_dem\"\n",
    "arcpy.gp.Fill_sa(dem, filled_dem)\n"
   ]
  },
  {
   "cell_type": "code",
   "execution_count": 7,
   "metadata": {},
   "outputs": [
    {
     "data": {
      "text/html": [
       "<div class='gpresult'><h2>Messages</h2><div id='messages' data-messages='[\"开始时间: 2024年7月9日 15:33:59\",\"临时数据将在 C:\\\\Users\\\\Runker\\\\AppData\\\\Local\\\\Temp\\\\sab7bd367_a929_4ef2_a58d_fe42b1279c5d 中创建\",\"估计需要 \\u003cunknown\\u003e MB 的临时存储空间。 63,330 MB 的存储空间当前可供使用。\",\"2024-07-09T15:34:00.382: Initialization 阶段...\",\"2024-07-09T15:34:28.517: Iteration 阶段...\",\"2024-07-09T15:34:59.238: Completion 阶段...\",\"运行 成功，结束时间：2024年7月9日 15:35:05 (历时: 1 分 5 秒)\"]' data-show='true'><div id = 'default' /></div></div>"
      ],
      "text/plain": [
       "<geoprocessing server result object at 0x1ce4de69840>"
      ]
     },
     "execution_count": 7,
     "metadata": {},
     "output_type": "execute_result"
    }
   ],
   "source": [
    "# 计算坡度\n",
    "slope = \"slope\"\n",
    "arcpy.gp.Slope_sa(filled_dem, slope, \"DEGREE\")\n",
    "\n",
    "# 计算流向\n",
    "flow_direction = \"flow_direction\"\n",
    "arcpy.gp.FlowDirection_sa(filled_dem, flow_direction)\n",
    "\n",
    "# 计算流积量\n",
    "flow_accumulation = \"flow_accumulation\"\n",
    "arcpy.gp.FlowAccumulation_sa(flow_direction, flow_accumulation)\n"
   ]
  },
  {
   "cell_type": "code",
   "execution_count": 16,
   "metadata": {},
   "outputs": [],
   "source": [
    "# 标准化DEM以确定相对位置（顶部、中部、下部）\n",
    "# 计算局部最小值和最大值\n",
    "neighborhood = NbrRectangle(101, 101, \"CELL\")\n",
    "local_min = FocalStatistics(dem, neighborhood, \"MINIMUM\")\n",
    "local_max = FocalStatistics(dem, neighborhood, \"MAXIMUM\")\n",
    "mode_raster = local_max - local_min\n",
    "calc_raster = dem - local_min\n",
    "normalized_local = calc_raster / mode_raster\n",
    "\n",
    "# 重新分类相对位置\n",
    "remap = RemapRange([[0, 0.33, 1], [0.33, 0.67, 2], [0.67, 1, 3]])\n",
    "\n",
    "# 使用 Reclassify 函数进行重新分类\n",
    "out_reclassify = Reclassify(normalized_local, \"VALUE\", remap)\n",
    "position = 'position'\n",
    "out_reclassify.save(position)\n"
   ]
  },
  {
   "cell_type": "code",
   "execution_count": 18,
   "metadata": {},
   "outputs": [
    {
     "data": {
      "text/html": [
       "<div class='gpresult'><h2>Messages</h2><div id='messages' data-messages='[\"开始时间: 2024年7月9日 16:06:33\",\"临时数据将在 C:\\\\Users\\\\Runker\\\\AppData\\\\Local\\\\Temp\\\\sef244b3e_0560_4072_b75b_fe57ed13eea1 中创建\",\"估计需要 1,968 MB 的临时存储空间。 62,804 MB 的存储空间当前可供使用。\",\"2024-07-09T16:06:34.058: Initialization 阶段...\",\"2024-07-09T16:06:53.202: Iteration 阶段...\",\"2024-07-09T16:07:08.004: Completion 阶段...\",\"已使用 1,965 MB 的临时存储空间。\",\"运行 成功，结束时间： 2024年7月9日 16:07:17 (历时: 44.54 秒)\"]' data-show='true'><div id = 'default' /></div></div>"
      ],
      "text/plain": [
       "<geoprocessing server result object at 0x1ce4de61780>"
      ]
     },
     "execution_count": 18,
     "metadata": {},
     "output_type": "execute_result"
    }
   ],
   "source": [
    "# 设置像元大小为5M\n",
    "arcpy.env.cellSize = 5  # 设置像元大小为5米\n",
    "# 合并河流和沟渠图层\n",
    "combined_features = \"combined_features\"\n",
    "arcpy.Merge_management([rivers_shp, canals_shp], combined_features)\n",
    "\n",
    "# 计算每个栅格单元到最近河流和沟渠的距离\n",
    "distance_to_river_canal = \"distance_to_river_canal\"\n",
    "arcpy.gp.EucDistance_sa(combined_features, distance_to_river_canal)\n"
   ]
  },
  {
   "cell_type": "code",
   "execution_count": 20,
   "metadata": {},
   "outputs": [
    {
     "ename": "ExecuteError",
     "evalue": "ERROR 000622: 执行(重分类)失败。参数无效。\nERROR 000628: 无法设置参数 remap 中的输入。\n",
     "output_type": "error",
     "traceback": [
      "\u001b[1;31m---------------------------------------------------------------------------\u001b[0m",
      "\u001b[1;31mExecuteError\u001b[0m                              Traceback (most recent call last)",
      "Cell \u001b[1;32mIn[20], line 28\u001b[0m\n\u001b[0;32m     15\u001b[0m \u001b[38;5;66;03m# 标准化土壤类型\u001b[39;00m\n\u001b[0;32m     16\u001b[0m remap \u001b[38;5;241m=\u001b[39m RemapValue([\n\u001b[0;32m     17\u001b[0m     [\u001b[38;5;241m1\u001b[39m, \u001b[38;5;241m0.1\u001b[39m],  \u001b[38;5;66;03m# 页岩\u001b[39;00m\n\u001b[0;32m     18\u001b[0m     [\u001b[38;5;241m2\u001b[39m, \u001b[38;5;241m0.5\u001b[39m],  \u001b[38;5;66;03m# 灰岩\u001b[39;00m\n\u001b[1;32m   (...)\u001b[0m\n\u001b[0;32m     25\u001b[0m     [\u001b[38;5;241m9\u001b[39m, \u001b[38;5;241m0.75\u001b[39m]  \u001b[38;5;66;03m# 紫红色砂岩\u001b[39;00m\n\u001b[0;32m     26\u001b[0m ])\n\u001b[1;32m---> 28\u001b[0m normalized_soil_type \u001b[38;5;241m=\u001b[39m \u001b[43mReclassify\u001b[49m\u001b[43m(\u001b[49m\u001b[43msoil_type\u001b[49m\u001b[43m,\u001b[49m\u001b[43m \u001b[49m\u001b[38;5;124;43m\"\u001b[39;49m\u001b[38;5;124;43mVALUE\u001b[39;49m\u001b[38;5;124;43m\"\u001b[39;49m\u001b[43m,\u001b[49m\u001b[43m \u001b[49m\u001b[43mremap\u001b[49m\u001b[43m)\u001b[49m\n\u001b[0;32m     29\u001b[0m normalized_soil_type\u001b[38;5;241m.\u001b[39msave(\u001b[38;5;124m\"\u001b[39m\u001b[38;5;124mnormalized_soil_type\u001b[39m\u001b[38;5;124m\"\u001b[39m)\n\u001b[0;32m     31\u001b[0m \u001b[38;5;66;03m# 标准化距离河流和沟渠的距离\u001b[39;00m\n",
      "File \u001b[1;32mD:\\Program Files\\ArcGIS\\Pro\\Resources\\ArcPy\\arcpy\\sa\\Functions.py:7874\u001b[0m, in \u001b[0;36mReclassify\u001b[1;34m(in_raster, reclass_field, remap, missing_values)\u001b[0m\n\u001b[0;32m   7867\u001b[0m     result \u001b[38;5;241m=\u001b[39m arcpy\u001b[38;5;241m.\u001b[39mgp\u001b[38;5;241m.\u001b[39mReclassify_sa(\n\u001b[0;32m   7868\u001b[0m         in_raster,\n\u001b[0;32m   7869\u001b[0m         reclass_field,\n\u001b[0;32m   7870\u001b[0m         remap,\n\u001b[0;32m   7871\u001b[0m         out_raster,\n\u001b[0;32m   7872\u001b[0m         missing_values)\n\u001b[0;32m   7873\u001b[0m     \u001b[38;5;28;01mreturn\u001b[39;00m _wrapToolRaster(\u001b[38;5;124mu\u001b[39m\u001b[38;5;124m\"\u001b[39m\u001b[38;5;124mReclassify_sa\u001b[39m\u001b[38;5;124m\"\u001b[39m, unicode(result\u001b[38;5;241m.\u001b[39mgetOutput(\u001b[38;5;241m0\u001b[39m)))\n\u001b[1;32m-> 7874\u001b[0m \u001b[38;5;28;01mreturn\u001b[39;00m \u001b[43mWrapper\u001b[49m\u001b[43m(\u001b[49m\n\u001b[0;32m   7875\u001b[0m \u001b[43m    \u001b[49m\u001b[43min_raster\u001b[49m\u001b[43m,\u001b[49m\n\u001b[0;32m   7876\u001b[0m \u001b[43m    \u001b[49m\u001b[43mreclass_field\u001b[49m\u001b[43m,\u001b[49m\n\u001b[0;32m   7877\u001b[0m \u001b[43m    \u001b[49m\u001b[43mremap\u001b[49m\u001b[43m,\u001b[49m\n\u001b[0;32m   7878\u001b[0m \u001b[43m    \u001b[49m\u001b[43mmissing_values\u001b[49m\u001b[43m)\u001b[49m\n",
      "File \u001b[1;32mD:\\Program Files\\ArcGIS\\Pro\\Resources\\ArcPy\\arcpy\\sa\\Utils.py:55\u001b[0m, in \u001b[0;36mStateSwapper.__call__.<locals>.swapper\u001b[1;34m(*args, **kwargs)\u001b[0m\n\u001b[0;32m     52\u001b[0m result \u001b[38;5;241m=\u001b[39m \u001b[38;5;28;01mNone\u001b[39;00m\n\u001b[0;32m     54\u001b[0m \u001b[38;5;28;01mtry\u001b[39;00m:\n\u001b[1;32m---> 55\u001b[0m     result \u001b[38;5;241m=\u001b[39m wrapper(\u001b[38;5;241m*\u001b[39margs, \u001b[38;5;241m*\u001b[39m\u001b[38;5;241m*\u001b[39mkwargs)\n\u001b[0;32m     56\u001b[0m \u001b[38;5;28;01mfinally\u001b[39;00m:\n\u001b[0;32m     57\u001b[0m     \u001b[38;5;66;03m# Reset the geoprocessor state to the original setting.\u001b[39;00m\n\u001b[0;32m     58\u001b[0m     \u001b[38;5;66;03m# Whatever the result of calling the wrapper function, this\u001b[39;00m\n\u001b[0;32m     59\u001b[0m     \u001b[38;5;66;03m# code will run.\u001b[39;00m\n\u001b[0;32m     60\u001b[0m     gp\u001b[38;5;241m.\u001b[39m_gp\u001b[38;5;241m.\u001b[39mAddOutputsToMap \u001b[38;5;241m=\u001b[39m addToResultState\n",
      "File \u001b[1;32mD:\\Program Files\\ArcGIS\\Pro\\Resources\\ArcPy\\arcpy\\sa\\Functions.py:7867\u001b[0m, in \u001b[0;36mReclassify.<locals>.Wrapper\u001b[1;34m(in_raster, reclass_field, remap, missing_values)\u001b[0m\n\u001b[0;32m   7865\u001b[0m remap \u001b[38;5;241m=\u001b[39m Utils\u001b[38;5;241m.\u001b[39mcompoundParameterToString(remap, ParameterClasses\u001b[38;5;241m.\u001b[39m_Remap)\n\u001b[0;32m   7866\u001b[0m out_raster \u001b[38;5;241m=\u001b[39m \u001b[38;5;124m\"\u001b[39m\u001b[38;5;124m#\u001b[39m\u001b[38;5;124m\"\u001b[39m\n\u001b[1;32m-> 7867\u001b[0m result \u001b[38;5;241m=\u001b[39m \u001b[43marcpy\u001b[49m\u001b[38;5;241;43m.\u001b[39;49m\u001b[43mgp\u001b[49m\u001b[38;5;241;43m.\u001b[39;49m\u001b[43mReclassify_sa\u001b[49m\u001b[43m(\u001b[49m\n\u001b[0;32m   7868\u001b[0m \u001b[43m    \u001b[49m\u001b[43min_raster\u001b[49m\u001b[43m,\u001b[49m\n\u001b[0;32m   7869\u001b[0m \u001b[43m    \u001b[49m\u001b[43mreclass_field\u001b[49m\u001b[43m,\u001b[49m\n\u001b[0;32m   7870\u001b[0m \u001b[43m    \u001b[49m\u001b[43mremap\u001b[49m\u001b[43m,\u001b[49m\n\u001b[0;32m   7871\u001b[0m \u001b[43m    \u001b[49m\u001b[43mout_raster\u001b[49m\u001b[43m,\u001b[49m\n\u001b[0;32m   7872\u001b[0m \u001b[43m    \u001b[49m\u001b[43mmissing_values\u001b[49m\u001b[43m)\u001b[49m\n\u001b[0;32m   7873\u001b[0m \u001b[38;5;28;01mreturn\u001b[39;00m _wrapToolRaster(\u001b[38;5;124mu\u001b[39m\u001b[38;5;124m\"\u001b[39m\u001b[38;5;124mReclassify_sa\u001b[39m\u001b[38;5;124m\"\u001b[39m, unicode(result\u001b[38;5;241m.\u001b[39mgetOutput(\u001b[38;5;241m0\u001b[39m)))\n",
      "File \u001b[1;32mD:\\Program Files\\ArcGIS\\Pro\\Resources\\ArcPy\\arcpy\\geoprocessing\\_base.py:512\u001b[0m, in \u001b[0;36mGeoprocessor.__getattr__.<locals>.<lambda>\u001b[1;34m(*args)\u001b[0m\n\u001b[0;32m    510\u001b[0m val \u001b[38;5;241m=\u001b[39m \u001b[38;5;28mgetattr\u001b[39m(\u001b[38;5;28mself\u001b[39m\u001b[38;5;241m.\u001b[39m_gp, attr)\n\u001b[0;32m    511\u001b[0m \u001b[38;5;28;01mif\u001b[39;00m \u001b[38;5;28mcallable\u001b[39m(val):\n\u001b[1;32m--> 512\u001b[0m     \u001b[38;5;28;01mreturn\u001b[39;00m \u001b[38;5;28;01mlambda\u001b[39;00m \u001b[38;5;241m*\u001b[39margs: \u001b[43mval\u001b[49m\u001b[43m(\u001b[49m\u001b[38;5;241;43m*\u001b[39;49m\u001b[43mgp_fixargs\u001b[49m\u001b[43m(\u001b[49m\u001b[43margs\u001b[49m\u001b[43m,\u001b[49m\u001b[43m \u001b[49m\u001b[38;5;28;43;01mTrue\u001b[39;49;00m\u001b[43m)\u001b[49m\u001b[43m)\u001b[49m\n\u001b[0;32m    513\u001b[0m \u001b[38;5;28;01melse\u001b[39;00m:\n\u001b[0;32m    514\u001b[0m     \u001b[38;5;28;01mreturn\u001b[39;00m convertArcObjectToPythonObject(val)\n",
      "\u001b[1;31mExecuteError\u001b[0m: ERROR 000622: 执行(重分类)失败。参数无效。\nERROR 000628: 无法设置参数 remap 中的输入。\n"
     ]
    }
   ],
   "source": [
    "# 标准化坡度\n",
    "normalized_slope = \"normalized_slope\"\n",
    "min_slope = arcpy.GetRasterProperties_management(slope, \"MINIMUM\").getOutput(0)\n",
    "max_slope = arcpy.GetRasterProperties_management(slope, \"MAXIMUM\").getOutput(0)\n",
    "expression = \"((Raster('{}') - {}) / ({} - {}))\".format(slope, min_slope, max_slope, min_slope)\n",
    "arcpy.gp.RasterCalculator_sa(expression, normalized_slope)\n",
    "\n",
    "# 标准化流积量\n",
    "normalized_flow_accumulation = \"normalized_flow_accumulation\"\n",
    "min_flow = arcpy.GetRasterProperties_management(flow_accumulation, \"MINIMUM\").getOutput(0)\n",
    "max_flow = arcpy.GetRasterProperties_management(flow_accumulation, \"MAXIMUM\").getOutput(0)\n",
    "expression = \"((Raster('{}') - {}) / ({} - {}))\".format(flow_accumulation, min_flow, max_flow, min_flow)\n",
    "arcpy.gp.RasterCalculator_sa(expression, normalized_flow_accumulation)\n",
    "\n",
    "# 标准化土壤类型\n",
    "remap = RemapValue([\n",
    "    [1, 0.1],  # 页岩\n",
    "    [2, 0.5],  # 灰岩\n",
    "    [3, 0.3],  # 第四纪红色粘土\n",
    "    [4, 0.9],  # 砂岩\n",
    "    [5, 0.6],  # 砂页岩\n",
    "    [6, 0.8],  # 砾岩\n",
    "    [7, 0.2],  # 水稻土\n",
    "    [8, 0.85], # 第四纪冰川冲积物\n",
    "    [9, 0.75]  # 紫红色砂岩\n",
    "])\n",
    "\n",
    "normalized_soil_type = Reclassify(soil_type, \"VALUE\", remap)\n",
    "normalized_soil_type.save(\"normalized_soil_type\")\n",
    "\n",
    "# 标准化距离河流和沟渠的距离\n",
    "normalized_distance = \"normalized_distance\"\n",
    "min_distance = arcpy.GetRasterProperties_management(distance_to_river_canal, \"MINIMUM\").getOutput(0)\n",
    "max_distance = arcpy.GetRasterProperties_management(distance_to_river_canal, \"MAXIMUM\").getOutput(0)\n",
    "expression = \"((Raster('{}') - {}) / ({} - {}))\".format(distance_to_river_canal, min_distance, max_distance, min_distance)\n",
    "arcpy.gp.RasterCalculator_sa(expression, normalized_distance)\n",
    "\n",
    "# 标准化相对位置\n",
    "normalized_position = \"normalized_position\"\n",
    "expression = \"((Raster('{}') - 1) / (3 - 1))\".format(position)\n",
    "arcpy.gp.RasterCalculator_sa(expression, normalized_position)\n"
   ]
  },
  {
   "cell_type": "code",
   "execution_count": null,
   "metadata": {},
   "outputs": [],
   "source": [
    "# 综合计算排水能力\n",
    "drainage_capacity = \"drainage_capacity\"\n",
    "expression = (\"0.25 * Raster('{}') + 0.2 * Raster('{}') + 0.2 * Raster('{}') + \"\n",
    "              \"0.2 * Raster('{}') + 0.1 * Raster('{}')\").format(\n",
    "    normalized_slope, normalized_flow_accumulation, normalized_soil_type,\n",
    "    normalized_distance, normalized_position)\n",
    "arcpy.gp.RasterCalculator_sa(expression, drainage_capacity)\n"
   ]
  },
  {
   "cell_type": "code",
   "execution_count": null,
   "metadata": {},
   "outputs": [],
   "source": [
    "# 分类排水能力\n",
    "classified_drainage_capacity = \"classified_drainage_capacity.tif\"\n",
    "remap = RemapRange([[0, 0.25, 1], [0.25, 0.5, 2], [0.5, 0.75, 3], [0.75, 1, 4]])\n",
    "arcpy.gp.Reclassify_sa(drainage_capacity, \"VALUE\", remap, classified_drainage_capacity)\n"
   ]
  },
  {
   "cell_type": "code",
   "execution_count": null,
   "metadata": {},
   "outputs": [],
   "source": [
    "# 清理\n",
    "arcpy.CheckInExtension(\"Spatial\")\n"
   ]
  }
 ],
 "metadata": {
  "kernelspec": {
   "display_name": "Python 3",
   "language": "python",
   "name": "python3"
  },
  "language_info": {
   "codemirror_mode": {
    "name": "ipython",
    "version": 3
   },
   "file_extension": ".py",
   "mimetype": "text/x-python",
   "name": "python",
   "nbconvert_exporter": "python",
   "pygments_lexer": "ipython3",
   "version": "3.9.11"
  }
 },
 "nbformat": 4,
 "nbformat_minor": 2
}
