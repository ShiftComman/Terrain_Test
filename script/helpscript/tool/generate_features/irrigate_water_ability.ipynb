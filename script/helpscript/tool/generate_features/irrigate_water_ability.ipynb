{
 "cells": [
  {
   "cell_type": "markdown",
   "metadata": {},
   "source": [
    "# 计算区域灌溉能力\n"
   ]
  },
  {
   "cell_type": "code",
   "execution_count": null,
   "metadata": {},
   "outputs": [],
   "source": [
    "import os\n",
    "import arcpy\n",
    "from arcpy.sa import *"
   ]
  },
  {
   "cell_type": "code",
   "execution_count": null,
   "metadata": {},
   "outputs": [],
   "source": [
    "# 设置环境参数\n",
    "arcpy.env.workspace = \"C:/path/to/your/workspace\"\n",
    "arcpy.env.overwriteOutput = True\n",
    "\n",
    "# 检查Spatial Analyst扩展模块\n",
    "arcpy.CheckOutExtension(\"Spatial\")"
   ]
  },
  {
   "cell_type": "code",
   "execution_count": null,
   "metadata": {},
   "outputs": [],
   "source": [
    "# 导入DEM、土壤类型、河流和沟渠数据、降雨量数据、蒸散量数据\n",
    "dem = \"DEM.tif\"\n",
    "soil_type = \"soil_type.tif\"\n",
    "rivers_shp = \"rivers.shp\"\n",
    "canals_shp = \"canals.shp\"\n",
    "precipitation = \"precipitation.tif\"\n",
    "evapotranspiration = \"evapotranspiration.tif\"\n"
   ]
  },
  {
   "cell_type": "code",
   "execution_count": null,
   "metadata": {},
   "outputs": [],
   "source": [
    "# 填平DEM数据中的凹陷\n",
    "filled_dem = \"filled_dem.tif\"\n",
    "arcpy.gp.Fill_sa(dem, filled_dem)\n",
    "\n",
    "# 计算坡度\n",
    "slope = \"slope.tif\"\n",
    "arcpy.gp.Slope_sa(filled_dem, slope, \"DEGREE\")\n",
    "\n",
    "# 计算流向\n",
    "flow_direction = \"flow_direction.tif\"\n",
    "arcpy.gp.FlowDirection_sa(filled_dem, flow_direction)\n",
    "\n",
    "# 计算流积量\n",
    "flow_accumulation = \"flow_accumulation.tif\"\n",
    "arcpy.gp.FlowAccumulation_sa(flow_direction, flow_accumulation)\n"
   ]
  },
  {
   "cell_type": "code",
   "execution_count": null,
   "metadata": {},
   "outputs": [],
   "source": [
    "# 合并河流和沟渠图层\n",
    "combined_features = \"combined_features.shp\"\n",
    "arcpy.Merge_management([rivers_shp, canals_shp], combined_features)\n",
    "\n",
    "# 计算每个栅格单元到最近河流和沟渠的距离\n",
    "distance_to_water_source = \"distance_to_water_source.tif\"\n",
    "arcpy.gp.EucDistance_sa(combined_features, distance_to_water_source)\n",
    "\n",
    "# 计算每个栅格单元的高程差\n",
    "elevation_difference = \"elevation_difference.tif\"\n",
    "arcpy.gp.EucAllocation_sa(dem, elevation_difference, \"\", combined_features, \"VALUE\", \"\", \"NO_NEAREST\")\n",
    "\n",
    "# 计算距离和高程差的加权组合，以反映实际可用性\n",
    "weighted_distance = \"weighted_distance.tif\"\n",
    "expression = \"Raster('{}') + 0.5 * Raster('{}')\".format(distance_to_water_source, elevation_difference)\n",
    "arcpy.gp.RasterCalculator_sa(expression, weighted_distance)\n"
   ]
  },
  {
   "cell_type": "code",
   "execution_count": null,
   "metadata": {},
   "outputs": [],
   "source": [
    "# 计算水分平衡\n",
    "water_balance = \"water_balance.tif\"\n",
    "expression = \"Raster('{}') - Raster('{}')\".format(precipitation, evapotranspiration)\n",
    "arcpy.gp.RasterCalculator_sa(expression, water_balance)\n"
   ]
  },
  {
   "cell_type": "code",
   "execution_count": null,
   "metadata": {},
   "outputs": [],
   "source": [
    "# 标准化坡度\n",
    "normalized_slope = \"normalized_slope.tif\"\n",
    "min_slope = arcpy.GetRasterProperties_management(slope, \"MINIMUM\").getOutput(0)\n",
    "max_slope = arcpy.GetRasterProperties_management(slope, \"MAXIMUM\").getOutput(0)\n",
    "expression = \"((Raster('{}') - {}) / ({} - {}))\".format(slope, min_slope, max_slope, min_slope)\n",
    "arcpy.gp.RasterCalculator_sa(expression, normalized_slope)\n",
    "\n",
    "# 标准化流积量\n",
    "normalized_flow_accumulation = \"normalized_flow_accumulation.tif\"\n",
    "min_flow = arcpy.GetRasterProperties_management(flow_accumulation, \"MINIMUM\").getOutput(0)\n",
    "max_flow = arcpy.GetRasterProperties_management(flow_accumulation, \"MAXIMUM\").getOutput(0)\n",
    "expression = \"((Raster('{}') - {}) / ({} - {}))\".format(flow_accumulation, min_flow, max_flow, min_flow)\n",
    "arcpy.gp.RasterCalculator_sa(expression, normalized_flow_accumulation)\n",
    "\n",
    "# 标准化土壤类型\n",
    "normalized_soil_type = \"normalized_soil_type.tif\"\n",
    "remap = RemapValue([[1, 0], [2, 0.33], [3, 0.67], [4, 1]])\n",
    "arcpy.gp.Reclassify_sa(soil_type, \"VALUE\", remap, normalized_soil_type)\n",
    "\n",
    "# 标准化距离和高程差的加权组合\n",
    "normalized_weighted_distance = \"normalized_weighted_distance.tif\"\n",
    "min_distance = arcpy.GetRasterProperties_management(weighted_distance, \"MINIMUM\").getOutput(0)\n",
    "max_distance = arcpy.GetRasterProperties_management(weighted_distance, \"MAXIMUM\").getOutput(0)\n",
    "expression = \"((Raster('{}') - {}) / ({} - {}))\".format(weighted_distance, min_distance, max_distance, min_distance)\n",
    "arcpy.gp.RasterCalculator_sa(expression, normalized_weighted_distance)\n",
    "\n",
    "# 标准化水分平衡\n",
    "normalized_water_balance = \"normalized_water_balance.tif\"\n",
    "min_water_balance = arcpy.GetRasterProperties_management(water_balance, \"MINIMUM\").getOutput(0)\n",
    "max_water_balance = arcpy.GetRasterProperties_management(water_balance, \"MAXIMUM\").getOutput(0)\n",
    "expression = \"((Raster('{}') - {}) / ({} - {}))\".format(water_balance, min_water_balance, max_water_balance, min_water_balance)\n",
    "arcpy.gp.RasterCalculator_sa(expression, normalized_water_balance)\n"
   ]
  },
  {
   "cell_type": "code",
   "execution_count": null,
   "metadata": {},
   "outputs": [],
   "source": [
    "# 综合计算灌溉条件\n",
    "irrigation_condition = \"irrigation_condition.tif\"\n",
    "expression = (\"0.2 * Raster('{}') + 0.2 * Raster('{}') + 0.2 * Raster('{}') + \"\n",
    "              \"0.2 * Raster('{}') + 0.2 * Raster('{}')\").format(\n",
    "    normalized_slope, normalized_flow_accumulation, normalized_soil_type,\n",
    "    normalized_weighted_distance, normalized_water_balance)\n",
    "arcpy.gp.RasterCalculator_sa(expression, irrigation_condition)\n"
   ]
  },
  {
   "cell_type": "code",
   "execution_count": null,
   "metadata": {},
   "outputs": [],
   "source": [
    "# 分类灌溉条件\n",
    "classified_irrigation_condition = \"classified_irrigation_condition.tif\"\n",
    "remap = RemapRange([[0, 0.25, 1], [0.25, 0.5, 2], [0.5, 0.75, 3], [0.75, 1, 4]])\n",
    "arcpy.gp.Reclassify_sa(irrigation_condition, \"VALUE\", remap, classified_irrigation_condition)\n"
   ]
  },
  {
   "cell_type": "code",
   "execution_count": null,
   "metadata": {},
   "outputs": [],
   "source": [
    "# 清理\n",
    "arcpy.CheckInExtension(\"Spatial\")\n"
   ]
  }
 ],
 "metadata": {
  "kernelspec": {
   "display_name": "Python 3",
   "language": "python",
   "name": "python3"
  },
  "language_info": {
   "name": "python",
   "version": "3.9.11"
  }
 },
 "nbformat": 4,
 "nbformat_minor": 2
}
