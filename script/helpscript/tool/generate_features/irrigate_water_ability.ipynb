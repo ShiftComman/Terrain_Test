{
 "cells": [
  {
   "cell_type": "markdown",
   "metadata": {},
   "source": [
    "# 计算区域灌溉能力\n"
   ]
  },
  {
   "cell_type": "code",
   "execution_count": 1,
   "metadata": {},
   "outputs": [],
   "source": [
    "import os\n",
    "import arcpy\n",
    "from arcpy.sa import *"
   ]
  },
  {
   "cell_type": "code",
   "execution_count": null,
   "metadata": {},
   "outputs": [],
   "source": [
    "# 设置环境参数\n",
    "arcpy.env.workspace = \"C:/path/to/your/workspace\"\n",
    "arcpy.env.overwriteOutput = True\n",
    "\n",
    "# 检查Spatial Analyst扩展模块\n",
    "arcpy.CheckOutExtension(\"Spatial\")"
   ]
  },
  {
   "cell_type": "code",
   "execution_count": null,
   "metadata": {},
   "outputs": [],
   "source": [
    "# 导入DEM、土壤类型、河流和沟渠数据、降雨量数据、蒸散量数据\n",
    "dem = \"DEM.tif\"\n",
    "soil_type = \"soil_type.tif\"\n",
    "rivers_shp = \"rivers.shp\"\n",
    "canals_shp = \"canals.shp\"\n",
    "precipitation = \"precipitation.tif\"\n",
    "evapotranspiration = \"evapotranspiration.tif\"\n"
   ]
  },
  {
   "cell_type": "code",
   "execution_count": null,
   "metadata": {},
   "outputs": [],
   "source": [
    "# 填平DEM数据中的凹陷\n",
    "filled_dem = \"filled_dem.tif\"\n",
    "arcpy.gp.Fill_sa(dem, filled_dem)\n",
    "\n",
    "# 计算坡度\n",
    "slope = \"slope.tif\"\n",
    "arcpy.gp.Slope_sa(filled_dem, slope, \"DEGREE\")\n",
    "\n",
    "# 计算流向\n",
    "flow_direction = \"flow_direction.tif\"\n",
    "arcpy.gp.FlowDirection_sa(filled_dem, flow_direction)\n",
    "\n",
    "# 计算流积量\n",
    "flow_accumulation = \"flow_accumulation.tif\"\n",
    "arcpy.gp.FlowAccumulation_sa(flow_direction, flow_accumulation)\n"
   ]
  },
  {
   "cell_type": "code",
   "execution_count": null,
   "metadata": {},
   "outputs": [],
   "source": [
    "# 合并河流和沟渠图层\n",
    "combined_features = \"combined_features.shp\"\n",
    "arcpy.Merge_management([rivers_shp, canals_shp], combined_features)\n",
    "\n",
    "# 计算每个栅格单元到最近河流和沟渠的距离\n",
    "distance_to_water_source = \"distance_to_water_source.tif\"\n",
    "arcpy.gp.EucDistance_sa(combined_features, distance_to_water_source)\n",
    "\n",
    "# 计算每个栅格单元的高程差\n",
    "elevation_difference = \"elevation_difference.tif\"\n",
    "arcpy.gp.EucAllocation_sa(dem, elevation_difference, \"\", combined_features, \"VALUE\", \"\", \"NO_NEAREST\")\n",
    "\n",
    "# 计算距离和高程差的加权组合，以反映实际可用性\n",
    "weighted_distance = \"weighted_distance.tif\"\n",
    "expression = \"Raster('{}') + 0.5 * Raster('{}')\".format(distance_to_water_source, elevation_difference)\n",
    "arcpy.gp.RasterCalculator_sa(expression, weighted_distance)\n"
   ]
  },
  {
   "cell_type": "code",
   "execution_count": null,
   "metadata": {},
   "outputs": [],
   "source": [
    "# 计算水分平衡\n",
    "water_balance = \"water_balance.tif\"\n",
    "expression = \"Raster('{}') - Raster('{}')\".format(precipitation, evapotranspiration)\n",
    "arcpy.gp.RasterCalculator_sa(expression, water_balance)\n"
   ]
  },
  {
   "cell_type": "code",
   "execution_count": null,
   "metadata": {},
   "outputs": [],
   "source": [
    "# 标准化坡度\n",
    "normalized_slope = \"normalized_slope.tif\"\n",
    "min_slope = arcpy.GetRasterProperties_management(slope, \"MINIMUM\").getOutput(0)\n",
    "max_slope = arcpy.GetRasterProperties_management(slope, \"MAXIMUM\").getOutput(0)\n",
    "expression = \"((Raster('{}') - {}) / ({} - {}))\".format(slope, min_slope, max_slope, min_slope)\n",
    "arcpy.gp.RasterCalculator_sa(expression, normalized_slope)\n",
    "\n",
    "# 标准化流积量\n",
    "normalized_flow_accumulation = \"normalized_flow_accumulation.tif\"\n",
    "min_flow = arcpy.GetRasterProperties_management(flow_accumulation, \"MINIMUM\").getOutput(0)\n",
    "max_flow = arcpy.GetRasterProperties_management(flow_accumulation, \"MAXIMUM\").getOutput(0)\n",
    "expression = \"((Raster('{}') - {}) / ({} - {}))\".format(flow_accumulation, min_flow, max_flow, min_flow)\n",
    "arcpy.gp.RasterCalculator_sa(expression, normalized_flow_accumulation)\n",
    "\n",
    "# 标准化土壤类型\n",
    "normalized_soil_type = \"normalized_soil_type.tif\"\n",
    "remap = RemapValue([[1, 0], [2, 0.33], [3, 0.67], [4, 1]])\n",
    "arcpy.gp.Reclassify_sa(soil_type, \"VALUE\", remap, normalized_soil_type)\n",
    "\n",
    "# 标准化距离和高程差的加权组合\n",
    "normalized_weighted_distance = \"normalized_weighted_distance.tif\"\n",
    "min_distance = arcpy.GetRasterProperties_management(weighted_distance, \"MINIMUM\").getOutput(0)\n",
    "max_distance = arcpy.GetRasterProperties_management(weighted_distance, \"MAXIMUM\").getOutput(0)\n",
    "expression = \"((Raster('{}') - {}) / ({} - {}))\".format(weighted_distance, min_distance, max_distance, min_distance)\n",
    "arcpy.gp.RasterCalculator_sa(expression, normalized_weighted_distance)\n",
    "\n",
    "# 标准化水分平衡\n",
    "normalized_water_balance = \"normalized_water_balance.tif\"\n",
    "min_water_balance = arcpy.GetRasterProperties_management(water_balance, \"MINIMUM\").getOutput(0)\n",
    "max_water_balance = arcpy.GetRasterProperties_management(water_balance, \"MAXIMUM\").getOutput(0)\n",
    "expression = \"((Raster('{}') - {}) / ({} - {}))\".format(water_balance, min_water_balance, max_water_balance, min_water_balance)\n",
    "arcpy.gp.RasterCalculator_sa(expression, normalized_water_balance)\n"
   ]
  },
  {
   "cell_type": "code",
   "execution_count": null,
   "metadata": {},
   "outputs": [],
   "source": [
    "# 综合计算灌溉条件\n",
    "irrigation_condition = \"irrigation_condition.tif\"\n",
    "expression = (\"0.2 * Raster('{}') + 0.2 * Raster('{}') + 0.2 * Raster('{}') + \"\n",
    "              \"0.2 * Raster('{}') + 0.2 * Raster('{}')\").format(\n",
    "    normalized_slope, normalized_flow_accumulation, normalized_soil_type,\n",
    "    normalized_weighted_distance, normalized_water_balance)\n",
    "arcpy.gp.RasterCalculator_sa(expression, irrigation_condition)\n"
   ]
  },
  {
   "cell_type": "code",
   "execution_count": null,
   "metadata": {},
   "outputs": [],
   "source": [
    "# 分类灌溉条件\n",
    "classified_irrigation_condition = \"classified_irrigation_condition.tif\"\n",
    "remap = RemapRange([[0, 0.25, 1], [0.25, 0.5, 2], [0.5, 0.75, 3], [0.75, 1, 4]])\n",
    "arcpy.gp.Reclassify_sa(irrigation_condition, \"VALUE\", remap, classified_irrigation_condition)\n"
   ]
  },
  {
   "cell_type": "code",
   "execution_count": null,
   "metadata": {},
   "outputs": [],
   "source": [
    "# 清理\n",
    "arcpy.CheckInExtension(\"Spatial\")\n"
   ]
  },
  {
   "cell_type": "markdown",
   "metadata": {},
   "source": [
    "# 灌溉水能力"
   ]
  },
  {
   "cell_type": "code",
   "execution_count": 1,
   "metadata": {},
   "outputs": [],
   "source": [
    "import arcpy\n",
    "from arcpy.sa import *\n",
    "import os"
   ]
  },
  {
   "cell_type": "code",
   "execution_count": 18,
   "metadata": {},
   "outputs": [],
   "source": [
    "\n",
    "\n",
    "def set_environment(workspace):\n",
    "    arcpy.env.workspace = workspace\n",
    "    arcpy.env.overwriteOutput = True\n",
    "    # 设置单进程模式\n",
    "    arcpy.env.parallelProcessingFactor = \"1\"\n",
    "\n",
    "def process_dem(dem):\n",
    "    filled_dem = Fill(dem)\n",
    "    filled_dem.save(\"filled_dem\")\n",
    "    slope = Slope(filled_dem, \"DEGREE\")\n",
    "    slope.save(\"slope\")\n",
    "    flow_direction = FlowDirection(filled_dem)\n",
    "    flow_direction.save(\"flow_direction\")\n",
    "    flow_accumulation = FlowAccumulation(flow_direction)\n",
    "    flow_accumulation.save(\"flow_accumulation\")\n",
    "    return filled_dem, slope, flow_direction, flow_accumulation\n",
    "\n",
    "def calculate_water_source_accessibility(rivers_shp, canals_shp, dem):\n",
    "    combined_features = arcpy.management.Merge([rivers_shp, canals_shp], \"combined_features\")\n",
    "    distance_to_water = EucDistance(combined_features)\n",
    "    cell_size = arcpy.management.GetRasterProperties(dem, \"CELLSIZEX\").getOutput(0)\n",
    "    combined_raster = 'combined_features'\n",
    "    arcpy.conversion.FeatureToRaster(combined_features, \"FID\", \"combined_features\", cell_size)\n",
    "    elevation_difference = EucAllocation(\n",
    "        in_source_data=dem,\n",
    "        in_value_raster=combined_raster,\n",
    "        cell_size=cell_size,\n",
    "        source_field=\"VALUE\",\n",
    "        distance_method=\"PLANAR\")\n",
    "    weighted_distance = 0.7 * distance_to_water + 0.3 * elevation_difference\n",
    "    return weighted_distance\n",
    "\n",
    "\n",
    "def calculate_water_source_accessibility(rivers_shp, canals_shp, dem):\n",
    "    # Merge rivers and canals shapefiles\n",
    "    combined_features = arcpy.management.Merge([rivers_shp, canals_shp], \"in_memory/combined_features\")\n",
    "\n",
    "    # Convert combined features to raster\n",
    "    combined_raster = \"in_memory/combined_raster\"\n",
    "    cell_size = arcpy.management.GetRasterProperties(dem, \"CELLSIZEX\").getOutput(0)\n",
    "    arcpy.conversion.FeatureToRaster(combined_features, \"OBJECTID\", combined_raster, cell_size)\n",
    "\n",
    "    # Calculate Euclidean distance to the water sources\n",
    "    distance_to_water = EucDistance(combined_raster)\n",
    "\n",
    "    # Calculate Euclidean allocation\n",
    "    elevation_difference = EucAllocation(\n",
    "        in_source_data=dem,\n",
    "        in_value_raster=combined_raster,\n",
    "        cell_size=cell_size,\n",
    "        source_field=\"VALUE\",\n",
    "        distance_method=\"PLANAR\"\n",
    "    )\n",
    "    \n",
    "    # Calculate weighted distance\n",
    "    weighted_distance = 0.7 * distance_to_water + 0.3 * elevation_difference\n",
    "    \n",
    "    return weighted_distance\n",
    "\n",
    "\n",
    "\n",
    "def normalize_raster(raster):\n",
    "    min_val = float(arcpy.GetRasterProperties_management(raster, \"MINIMUM\").getOutput(0))\n",
    "    max_val = float(arcpy.GetRasterProperties_management(raster, \"MAXIMUM\").getOutput(0))\n",
    "    return (Raster(raster) - min_val) / (max_val - min_val)\n",
    "\n",
    "def reclassify_soil(soil_type):\n",
    "    soil_remap = RemapValue([\n",
    "        [1, 0.2],   # Sandy soil (low water retention)\n",
    "        [2, 0.4],   # Sandy loam\n",
    "        [3, 0.6],   # Loam\n",
    "        [4, 0.8],   # Clay loam\n",
    "        [5, 1.0]    # Clay soil (high water retention)\n",
    "    ])\n",
    "    return Reclassify(soil_type, \"VALUE\", soil_remap)\n",
    "\n",
    "def calculate_irrigation_capacity(slope, flow_accumulation, water_source_accessibility, water_balance):\n",
    "    norm_slope = normalize_raster(slope)\n",
    "    norm_flow_acc = normalize_raster(flow_accumulation)\n",
    "    norm_accessibility = normalize_raster(water_source_accessibility)\n",
    "    norm_water_balance = normalize_raster(water_balance)\n",
    "    \n",
    "    \n",
    "    irrigation_capacity = (0.15 * (1 - norm_slope) +  # Invert slope for irrigation suitability\n",
    "                           0.15 * norm_flow_acc +\n",
    "                           0.2 * (1 - norm_accessibility) +  # Invert accessibility\n",
    "                           0.2 * norm_water_balance\n",
    "                       )\n",
    "    \n",
    "    return irrigation_capacity"
   ]
  },
  {
   "cell_type": "code",
   "execution_count": null,
   "metadata": {},
   "outputs": [],
   "source": [
    "\n",
    "workspace = r\"C:\\Users\\Runker\\Desktop\\DEM_test\\drainwater.gdb\"\n",
    "set_environment(workspace)\n",
    "\n",
    "# Input data\n",
    "dem = \"DEM\"\n",
    "rivers_shp = \"river\"\n",
    "canals_shp = \"vally\"\n",
    "precipitation = \"PRE2022_mean\"\n",
    "\n",
    "\n",
    "# Process DEM\n",
    "process_dem(dem)\n",
    "filled_dem, slope, flow_direction, flow_accumulation = process_dem(dem)\n",
    "\n"
   ]
  },
  {
   "cell_type": "code",
   "execution_count": null,
   "metadata": {},
   "outputs": [],
   "source": [
    "# Calculate water source accessibility\n",
    "water_source_accessibility = calculate_water_source_accessibility(rivers_shp, canals_shp, filled_dem)\n",
    "water_source_accessibility.save(\"water_source_accessibility\")\n",
    "\n",
    "\n"
   ]
  },
  {
   "cell_type": "code",
   "execution_count": 19,
   "metadata": {},
   "outputs": [
    {
     "name": "stdout",
     "output_type": "stream",
     "text": [
      "灌溉能力计算完成。\n"
     ]
    }
   ],
   "source": [
    "# Calculate irrigation capacity\n",
    "irrigation_capacity = calculate_irrigation_capacity(\n",
    "    slope, flow_accumulation, water_source_accessibility, precipitation)\n",
    "irrigation_capacity.save(\"irrigation_capacity\")\n",
    "\n",
    "# Classify irrigation capacity\n",
    "classified_irrigation_capacity = Reclassify(irrigation_capacity, \"Value\",\n",
    "                                            RemapRange([[0, 0.2, 1],\n",
    "                                                        [0.2, 0.4, 2],\n",
    "                                                        [0.4, 0.6, 3],\n",
    "                                                        [0.6, 0.8, 4],\n",
    "                                                        [0.8, 1, 5]]))\n",
    "classified_irrigation_capacity.save(\"classified_irrigation_capacity\")\n",
    "\n",
    "print(\"灌溉能力计算完成。\")"
   ]
  }
 ],
 "metadata": {
  "kernelspec": {
   "display_name": "Python 3",
   "language": "python",
   "name": "python3"
  },
  "language_info": {
   "codemirror_mode": {
    "name": "ipython",
    "version": 3
   },
   "file_extension": ".py",
   "mimetype": "text/x-python",
   "name": "python",
   "nbconvert_exporter": "python",
   "pygments_lexer": "ipython3",
   "version": "3.9.11"
  }
 },
 "nbformat": 4,
 "nbformat_minor": 2
}
