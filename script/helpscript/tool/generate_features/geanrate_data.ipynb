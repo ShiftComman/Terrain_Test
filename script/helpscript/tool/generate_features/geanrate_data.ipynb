{
 "cells": [
  {
   "cell_type": "code",
   "execution_count": 43,
   "metadata": {},
   "outputs": [],
   "source": [
    "import os\n",
    "import shutil\n",
    "import pandas as pd\n",
    "import geopandas as gpd\n",
    "from shapely.geometry import Point\n",
    "import fiona\n",
    "import logging\n",
    "from pathlib import Path"
   ]
  },
  {
   "cell_type": "code",
   "execution_count": 28,
   "metadata": {},
   "outputs": [],
   "source": [
    "def table_to_shp(input_file, output_file, lon_col, lat_col, input_crs=4326, output_crs=4545):\n",
    "    # 设置fiona支持utf-8编码\n",
    "    fiona.supported_drivers['ESRI Shapefile'] = 'rw'\n",
    "    # 读取输入文件，如果是dataframe，则直接转换为shapefile\n",
    "    if isinstance(input_file, pd.DataFrame):\n",
    "        df = input_file\n",
    "        # 创建几何列\n",
    "        geometry = [Point(xy) for xy in zip(df[lon_col], df[lat_col])]\n",
    "        \n",
    "        # 创建GeoDataFrame\n",
    "        gdf = gpd.GeoDataFrame(df, geometry=geometry, crs=f\"EPSG:{input_crs}\")\n",
    "    else:\n",
    "        _, file_extension = os.path.splitext(input_file)\n",
    "        if file_extension.lower() == '.xlsx':\n",
    "            df = pd.read_excel(input_file)\n",
    "        elif file_extension.lower() == '.csv':\n",
    "            df = pd.read_csv(input_file, encoding='utf-8')\n",
    "        else:\n",
    "            raise ValueError(\"不支持的文件格式。请使用.xlsx或.csv文件。\")\n",
    "        # 创建几何列\n",
    "        geometry = [Point(xy) for xy in zip(df[lon_col], df[lat_col])]\n",
    "        \n",
    "        # 创建GeoDataFrame\n",
    "        gdf = gpd.GeoDataFrame(df, geometry=geometry, crs=f\"EPSG:{input_crs}\")\n",
    "    \n",
    "    # 如果需要,转换坐标系\n",
    "    if input_crs != output_crs:\n",
    "        gdf = gdf.to_crs(epsg=output_crs)\n",
    "    \n",
    "    # 保存为shapefile,使用utf-8编码\n",
    "    gdf.to_file(output_file, driver=\"ESRI Shapefile\", encoding='utf-8')\n",
    "    \n",
    "    print(f\"Shapefile已保存至: {output_file}\")"
   ]
  },
  {
   "cell_type": "markdown",
   "metadata": {},
   "source": [
    "# 提取土壤质地数据"
   ]
  },
  {
   "cell_type": "code",
   "execution_count": 29,
   "metadata": {},
   "outputs": [],
   "source": [
    "# 准备土壤质地数据\n",
    "trzd_path = r\"C:\\Users\\Runker\\Desktop\\mdb\\result\\物理性状.xlsx\"\n",
    "# 读取DWJD、DWWD、TRZD列\n",
    "trzd_df = pd.read_excel(trzd_path,usecols=[\"DWJD\",\"DWWD\",\"TRZD\"])\n",
    "# 去除空值\n",
    "trzd_df = trzd_df.dropna()\n",
    "# 去除'/'值\n",
    "trzd_df = trzd_df[trzd_df[\"TRZD\"] != \"/\"]\n",
    "# 去除重复值\n",
    "trzd_df = trzd_df.drop_duplicates(subset=[\"DWJD\",\"DWWD\"])\n",
    "# 重置索引\n",
    "trzd_df = trzd_df.reset_index(drop=True)\n",
    "# 映射字典\n",
    "trzd_dict = {'壤土':1,'粉(砂)质壤土':2,'砂质壤土':3,'粉(砂)质黏壤土':4,'黏壤土':5,'砂质黏壤土':6,'壤质黏土':7,'黏土':8,'砂质黏土':9,'重黏土':10,'粉(砂)质黏土':11,'砂土及壤质砂土':12}\n",
    "# 将TRZD列映射为数字\n",
    "trzd_df[\"TRZD_CODE\"] = trzd_df[\"TRZD\"].map(trzd_dict)\n",
    "# 将TRZD列转换为整数\n",
    "trzd_df[\"TRZD_CODE\"] = trzd_df[\"TRZD_CODE\"].astype(int)\n",
    "print(trzd_df[\"TRZD_CODE\"].value_counts().to_list(),len(trzd_df[\"TRZD_CODE\"].value_counts().to_list()))\n",
    "# 保存为shp\n",
    "table_to_shp(trzd_df,r\"C:\\Users\\Runker\\Desktop\\genarate_feature\\shp_file\\土壤质地.shp\",\"DWJD\",\"DWWD\",input_crs=4326,output_crs=4545)\n"
   ]
  },
  {
   "cell_type": "markdown",
   "metadata": {},
   "source": [
    "# 提取河流数据"
   ]
  },
  {
   "cell_type": "code",
   "execution_count": null,
   "metadata": {},
   "outputs": [],
   "source": [
    "# 读取三调数据\n",
    "sd_path = r\"F:\\cache_data\\shp_file\\sb\\sb_sd_dltb.shp\"\n",
    "# 读取河流数据\n",
    "sd_df = gpd.read_file(sd_path,encoding=\"utf-8\")\n",
    "# 提取DLMC为 \"河流水面\": \"1101\", \"湖泊水面\": \"1102\", \"水库水面\": \"1103\", \"坑塘水面\": \"1104\", \"沟渠\": \"1107\",\n",
    "river_df = sd_df[sd_df[\"DLMC\"].isin([\"河流水面\", \"湖泊水面\", \"水库水面\", \"坑塘水面\", \"沟渠\"])]\n",
    "# 删除多余列，仅保留DLMC、DLMC_CODE、DLMC_NAME、geometry\n",
    "river_df = river_df[[\"DLMC\",\"DLBM\", \"geometry\"]]\n",
    "# 保存为shp\n",
    "river_df.to_file(r\"C:\\Users\\Runker\\Desktop\\genarate_feature\\shp_file\\河流.shp\",driver=\"ESRI Shapefile\",encoding='utf-8')\n"
   ]
  },
  {
   "cell_type": "markdown",
   "metadata": {},
   "source": [
    "# 复制DEM,PRE,TWI,坡位数据"
   ]
  },
  {
   "cell_type": "code",
   "execution_count": 46,
   "metadata": {},
   "outputs": [
    {
     "data": {
      "text/plain": [
       "'C:\\\\Users\\\\Runker\\\\Desktop\\\\genarate_feature\\\\raster_file\\\\slope_position.tif'"
      ]
     },
     "execution_count": 46,
     "metadata": {},
     "output_type": "execute_result"
    }
   ],
   "source": [
    "\n",
    "origin_dem_path = r\"F:\\tif_features\\county_feature\\sb\\dem.tif\"\n",
    "origin_pre_path = r\"F:\\tif_features\\county_feature\\sb\\pre2022mean.tif\"\n",
    "origin_twi_path = r\"F:\\tif_features\\county_feature\\sb\\topographicwetnessindex.tif\"\n",
    "origin_slope_position_path = r\"F:\\tif_features\\county_feature\\sb\\slopeclasssmooth.tif\"\n",
    "\n",
    "# 复制DEM,PRE,地质数据\n",
    "dem_output_path = r\"C:\\Users\\Runker\\Desktop\\genarate_feature\\raster_file\\dem.tif\"\n",
    "pre_output_path = r\"C:\\Users\\Runker\\Desktop\\genarate_feature\\raster_file\\pre2022mean.tif\"\n",
    "twi_output_path = r\"C:\\Users\\Runker\\Desktop\\genarate_feature\\raster_file\\twi.tif\"\n",
    "slope_position_output_path = r\"C:\\Users\\Runker\\Desktop\\genarate_feature\\raster_file\\slope_position.tif\"\n",
    "# 复制DEM,PRE,地质数据\n",
    "shutil.copy(origin_dem_path, dem_output_path)\n",
    "shutil.copy(origin_pre_path, pre_output_path)\n",
    "shutil.copy(origin_twi_path, twi_output_path)\n",
    "shutil.copy(origin_slope_position_path, slope_position_output_path)\n"
   ]
  }
 ],
 "metadata": {
  "kernelspec": {
   "display_name": ".venvgis",
   "language": "python",
   "name": "python3"
  },
  "language_info": {
   "codemirror_mode": {
    "name": "ipython",
    "version": 3
   },
   "file_extension": ".py",
   "mimetype": "text/x-python",
   "name": "python",
   "nbconvert_exporter": "python",
   "pygments_lexer": "ipython3",
   "version": "3.10.11"
  }
 },
 "nbformat": 4,
 "nbformat_minor": 2
}
