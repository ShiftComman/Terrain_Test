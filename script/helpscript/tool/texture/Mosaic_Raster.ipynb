{
 "cells": [
  {
   "cell_type": "markdown",
   "metadata": {},
   "source": [
    "# 镶嵌栅格"
   ]
  },
  {
   "cell_type": "code",
   "execution_count": 1,
   "metadata": {},
   "outputs": [],
   "source": [
    "import os\n",
    "import arcpy\n",
    "from arcpy import env\n",
    "from arcpy.sa import *\n",
    "import re"
   ]
  },
  {
   "cell_type": "code",
   "execution_count": 2,
   "metadata": {},
   "outputs": [],
   "source": [
    "raster_path = r\"F:\\GEEDOWNLOAD\\sentinel2\\GL\""
   ]
  },
  {
   "cell_type": "code",
   "execution_count": 3,
   "metadata": {},
   "outputs": [],
   "source": [
    "raster_list = []\n",
    "for roots,dirs,files in os.walk(raster_path):\n",
    "    for one_file in files:\n",
    "        if one_file.endswith(\".tif\") or one_file.endswith(\".BIL\"):\n",
    "            raster_list.append(os.path.join(roots,one_file))\n",
    "# 使用正则表达式匹配下划线和点号之间的数字\n",
    "def find_number(path):\n",
    "    match = re.findall(r'_(\\d+)\\.', path)\n",
    "    return str(match[0]).zfill(3)\n",
    "raster_list = sorted(raster_list,key=find_number)"
   ]
  },
  {
   "cell_type": "code",
   "execution_count": 4,
   "metadata": {},
   "outputs": [
    {
     "data": {
      "text/plain": [
       "(['F:\\\\GEEDOWNLOAD\\\\sentinel2\\\\GL\\\\Sentinel-2_scl_1.tif',\n",
       "  'F:\\\\GEEDOWNLOAD\\\\sentinel2\\\\GL\\\\Sentinel-2_scl_2.tif',\n",
       "  'F:\\\\GEEDOWNLOAD\\\\sentinel2\\\\GL\\\\Sentinel-2_scl_3.tif',\n",
       "  'F:\\\\GEEDOWNLOAD\\\\sentinel2\\\\GL\\\\Sentinel-2_scl_4.tif',\n",
       "  'F:\\\\GEEDOWNLOAD\\\\sentinel2\\\\GL\\\\Sentinel-2_scl_5.tif',\n",
       "  'F:\\\\GEEDOWNLOAD\\\\sentinel2\\\\GL\\\\Sentinel-2_scl_6.tif',\n",
       "  'F:\\\\GEEDOWNLOAD\\\\sentinel2\\\\GL\\\\Sentinel-2_scl_7.tif',\n",
       "  'F:\\\\GEEDOWNLOAD\\\\sentinel2\\\\GL\\\\Sentinel-2_scl_8.tif',\n",
       "  'F:\\\\GEEDOWNLOAD\\\\sentinel2\\\\GL\\\\Sentinel-2_scl_9.tif',\n",
       "  'F:\\\\GEEDOWNLOAD\\\\sentinel2\\\\GL\\\\Sentinel-2_scl_10.tif',\n",
       "  'F:\\\\GEEDOWNLOAD\\\\sentinel2\\\\GL\\\\Sentinel-2_scl_11.tif',\n",
       "  'F:\\\\GEEDOWNLOAD\\\\sentinel2\\\\GL\\\\Sentinel-2_scl_12.tif',\n",
       "  'F:\\\\GEEDOWNLOAD\\\\sentinel2\\\\GL\\\\Sentinel-2_scl_13.tif',\n",
       "  'F:\\\\GEEDOWNLOAD\\\\sentinel2\\\\GL\\\\Sentinel-2_scl_14.tif',\n",
       "  'F:\\\\GEEDOWNLOAD\\\\sentinel2\\\\GL\\\\Sentinel-2_scl_15.tif',\n",
       "  'F:\\\\GEEDOWNLOAD\\\\sentinel2\\\\GL\\\\Sentinel-2_scl_16.tif',\n",
       "  'F:\\\\GEEDOWNLOAD\\\\sentinel2\\\\GL\\\\Sentinel-2_scl_17.tif',\n",
       "  'F:\\\\GEEDOWNLOAD\\\\sentinel2\\\\GL\\\\Sentinel-2_scl_18.tif',\n",
       "  'F:\\\\GEEDOWNLOAD\\\\sentinel2\\\\GL\\\\Sentinel-2_scl_19.tif',\n",
       "  'F:\\\\GEEDOWNLOAD\\\\sentinel2\\\\GL\\\\Sentinel-2_scl_20.tif',\n",
       "  'F:\\\\GEEDOWNLOAD\\\\sentinel2\\\\GL\\\\Sentinel-2_scl_21.tif',\n",
       "  'F:\\\\GEEDOWNLOAD\\\\sentinel2\\\\GL\\\\Sentinel-2_scl_22.tif',\n",
       "  'F:\\\\GEEDOWNLOAD\\\\sentinel2\\\\GL\\\\Sentinel-2_scl_23.tif',\n",
       "  'F:\\\\GEEDOWNLOAD\\\\sentinel2\\\\GL\\\\Sentinel-2_scl_24.tif',\n",
       "  'F:\\\\GEEDOWNLOAD\\\\sentinel2\\\\GL\\\\Sentinel-2_scl_25.tif',\n",
       "  'F:\\\\GEEDOWNLOAD\\\\sentinel2\\\\GL\\\\Sentinel-2_scl_26.tif',\n",
       "  'F:\\\\GEEDOWNLOAD\\\\sentinel2\\\\GL\\\\Sentinel-2_scl_27.tif',\n",
       "  'F:\\\\GEEDOWNLOAD\\\\sentinel2\\\\GL\\\\Sentinel-2_scl_28.tif',\n",
       "  'F:\\\\GEEDOWNLOAD\\\\sentinel2\\\\GL\\\\Sentinel-2_scl_29.tif',\n",
       "  'F:\\\\GEEDOWNLOAD\\\\sentinel2\\\\GL\\\\Sentinel-2_scl_30.tif',\n",
       "  'F:\\\\GEEDOWNLOAD\\\\sentinel2\\\\GL\\\\Sentinel-2_scl_31.tif',\n",
       "  'F:\\\\GEEDOWNLOAD\\\\sentinel2\\\\GL\\\\Sentinel-2_scl_32.tif',\n",
       "  'F:\\\\GEEDOWNLOAD\\\\sentinel2\\\\GL\\\\Sentinel-2_scl_33.tif',\n",
       "  'F:\\\\GEEDOWNLOAD\\\\sentinel2\\\\GL\\\\Sentinel-2_scl_34.tif',\n",
       "  'F:\\\\GEEDOWNLOAD\\\\sentinel2\\\\GL\\\\Sentinel-2_scl_35.tif',\n",
       "  'F:\\\\GEEDOWNLOAD\\\\sentinel2\\\\GL\\\\Sentinel-2_scl_36.tif',\n",
       "  'F:\\\\GEEDOWNLOAD\\\\sentinel2\\\\GL\\\\Sentinel-2_scl_37.tif',\n",
       "  'F:\\\\GEEDOWNLOAD\\\\sentinel2\\\\GL\\\\Sentinel-2_scl_38.tif',\n",
       "  'F:\\\\GEEDOWNLOAD\\\\sentinel2\\\\GL\\\\Sentinel-2_scl_39.tif',\n",
       "  'F:\\\\GEEDOWNLOAD\\\\sentinel2\\\\GL\\\\Sentinel-2_scl_40.tif',\n",
       "  'F:\\\\GEEDOWNLOAD\\\\sentinel2\\\\GL\\\\Sentinel-2_scl_41.tif',\n",
       "  'F:\\\\GEEDOWNLOAD\\\\sentinel2\\\\GL\\\\Sentinel-2_scl_42.tif',\n",
       "  'F:\\\\GEEDOWNLOAD\\\\sentinel2\\\\GL\\\\Sentinel-2_scl_43.tif',\n",
       "  'F:\\\\GEEDOWNLOAD\\\\sentinel2\\\\GL\\\\Sentinel-2_scl_44.tif',\n",
       "  'F:\\\\GEEDOWNLOAD\\\\sentinel2\\\\GL\\\\Sentinel-2_scl_45.tif',\n",
       "  'F:\\\\GEEDOWNLOAD\\\\sentinel2\\\\GL\\\\Sentinel-2_scl_46.tif',\n",
       "  'F:\\\\GEEDOWNLOAD\\\\sentinel2\\\\GL\\\\Sentinel-2_scl_47.tif',\n",
       "  'F:\\\\GEEDOWNLOAD\\\\sentinel2\\\\GL\\\\Sentinel-2_scl_48.tif',\n",
       "  'F:\\\\GEEDOWNLOAD\\\\sentinel2\\\\GL\\\\Sentinel-2_scl_49.tif',\n",
       "  'F:\\\\GEEDOWNLOAD\\\\sentinel2\\\\GL\\\\Sentinel-2_scl_50.tif',\n",
       "  'F:\\\\GEEDOWNLOAD\\\\sentinel2\\\\GL\\\\Sentinel-2_scl_51.tif',\n",
       "  'F:\\\\GEEDOWNLOAD\\\\sentinel2\\\\GL\\\\Sentinel-2_scl_52.tif',\n",
       "  'F:\\\\GEEDOWNLOAD\\\\sentinel2\\\\GL\\\\Sentinel-2_scl_53.tif',\n",
       "  'F:\\\\GEEDOWNLOAD\\\\sentinel2\\\\GL\\\\Sentinel-2_scl_54.tif',\n",
       "  'F:\\\\GEEDOWNLOAD\\\\sentinel2\\\\GL\\\\Sentinel-2_scl_55.tif',\n",
       "  'F:\\\\GEEDOWNLOAD\\\\sentinel2\\\\GL\\\\Sentinel-2_scl_56.tif',\n",
       "  'F:\\\\GEEDOWNLOAD\\\\sentinel2\\\\GL\\\\Sentinel-2_scl_57.tif',\n",
       "  'F:\\\\GEEDOWNLOAD\\\\sentinel2\\\\GL\\\\Sentinel-2_scl_58.tif',\n",
       "  'F:\\\\GEEDOWNLOAD\\\\sentinel2\\\\GL\\\\Sentinel-2_scl_59.tif',\n",
       "  'F:\\\\GEEDOWNLOAD\\\\sentinel2\\\\GL\\\\Sentinel-2_scl_60.tif',\n",
       "  'F:\\\\GEEDOWNLOAD\\\\sentinel2\\\\GL\\\\Sentinel-2_scl_61.tif',\n",
       "  'F:\\\\GEEDOWNLOAD\\\\sentinel2\\\\GL\\\\Sentinel-2_scl_62.tif',\n",
       "  'F:\\\\GEEDOWNLOAD\\\\sentinel2\\\\GL\\\\Sentinel-2_scl_63.tif',\n",
       "  'F:\\\\GEEDOWNLOAD\\\\sentinel2\\\\GL\\\\Sentinel-2_scl_64.tif',\n",
       "  'F:\\\\GEEDOWNLOAD\\\\sentinel2\\\\GL\\\\Sentinel-2_scl_65.tif',\n",
       "  'F:\\\\GEEDOWNLOAD\\\\sentinel2\\\\GL\\\\Sentinel-2_scl_66.tif',\n",
       "  'F:\\\\GEEDOWNLOAD\\\\sentinel2\\\\GL\\\\Sentinel-2_scl_67.tif',\n",
       "  'F:\\\\GEEDOWNLOAD\\\\sentinel2\\\\GL\\\\Sentinel-2_scl_68.tif',\n",
       "  'F:\\\\GEEDOWNLOAD\\\\sentinel2\\\\GL\\\\Sentinel-2_scl_69.tif',\n",
       "  'F:\\\\GEEDOWNLOAD\\\\sentinel2\\\\GL\\\\Sentinel-2_scl_70.tif',\n",
       "  'F:\\\\GEEDOWNLOAD\\\\sentinel2\\\\GL\\\\Sentinel-2_scl_71.tif',\n",
       "  'F:\\\\GEEDOWNLOAD\\\\sentinel2\\\\GL\\\\Sentinel-2_scl_72.tif',\n",
       "  'F:\\\\GEEDOWNLOAD\\\\sentinel2\\\\GL\\\\Sentinel-2_scl_73.tif',\n",
       "  'F:\\\\GEEDOWNLOAD\\\\sentinel2\\\\GL\\\\Sentinel-2_scl_74.tif',\n",
       "  'F:\\\\GEEDOWNLOAD\\\\sentinel2\\\\GL\\\\Sentinel-2_scl_75.tif',\n",
       "  'F:\\\\GEEDOWNLOAD\\\\sentinel2\\\\GL\\\\Sentinel-2_scl_76.tif',\n",
       "  'F:\\\\GEEDOWNLOAD\\\\sentinel2\\\\GL\\\\Sentinel-2_scl_77.tif',\n",
       "  'F:\\\\GEEDOWNLOAD\\\\sentinel2\\\\GL\\\\Sentinel-2_scl_78.tif',\n",
       "  'F:\\\\GEEDOWNLOAD\\\\sentinel2\\\\GL\\\\Sentinel-2_scl_79.tif',\n",
       "  'F:\\\\GEEDOWNLOAD\\\\sentinel2\\\\GL\\\\Sentinel-2_scl_80.tif',\n",
       "  'F:\\\\GEEDOWNLOAD\\\\sentinel2\\\\GL\\\\Sentinel-2_scl_81.tif',\n",
       "  'F:\\\\GEEDOWNLOAD\\\\sentinel2\\\\GL\\\\Sentinel-2_scl_82.tif',\n",
       "  'F:\\\\GEEDOWNLOAD\\\\sentinel2\\\\GL\\\\Sentinel-2_scl_83.tif',\n",
       "  'F:\\\\GEEDOWNLOAD\\\\sentinel2\\\\GL\\\\Sentinel-2_scl_84.tif',\n",
       "  'F:\\\\GEEDOWNLOAD\\\\sentinel2\\\\GL\\\\Sentinel-2_scl_85.tif',\n",
       "  'F:\\\\GEEDOWNLOAD\\\\sentinel2\\\\GL\\\\Sentinel-2_scl_86.tif',\n",
       "  'F:\\\\GEEDOWNLOAD\\\\sentinel2\\\\GL\\\\Sentinel-2_scl_87.tif',\n",
       "  'F:\\\\GEEDOWNLOAD\\\\sentinel2\\\\GL\\\\Sentinel-2_scl_88.tif',\n",
       "  'F:\\\\GEEDOWNLOAD\\\\sentinel2\\\\GL\\\\Sentinel-2_scl_89.tif',\n",
       "  'F:\\\\GEEDOWNLOAD\\\\sentinel2\\\\GL\\\\Sentinel-2_scl_90.tif',\n",
       "  'F:\\\\GEEDOWNLOAD\\\\sentinel2\\\\GL\\\\Sentinel-2_scl_91.tif',\n",
       "  'F:\\\\GEEDOWNLOAD\\\\sentinel2\\\\GL\\\\Sentinel-2_scl_92.tif',\n",
       "  'F:\\\\GEEDOWNLOAD\\\\sentinel2\\\\GL\\\\Sentinel-2_scl_93.tif',\n",
       "  'F:\\\\GEEDOWNLOAD\\\\sentinel2\\\\GL\\\\Sentinel-2_scl_94.tif',\n",
       "  'F:\\\\GEEDOWNLOAD\\\\sentinel2\\\\GL\\\\Sentinel-2_scl_95.tif',\n",
       "  'F:\\\\GEEDOWNLOAD\\\\sentinel2\\\\GL\\\\Sentinel-2_scl_96.tif',\n",
       "  'F:\\\\GEEDOWNLOAD\\\\sentinel2\\\\GL\\\\Sentinel-2_scl_97.tif',\n",
       "  'F:\\\\GEEDOWNLOAD\\\\sentinel2\\\\GL\\\\Sentinel-2_scl_98.tif',\n",
       "  'F:\\\\GEEDOWNLOAD\\\\sentinel2\\\\GL\\\\Sentinel-2_scl_99.tif',\n",
       "  'F:\\\\GEEDOWNLOAD\\\\sentinel2\\\\GL\\\\Sentinel-2_scl_100.tif',\n",
       "  'F:\\\\GEEDOWNLOAD\\\\sentinel2\\\\GL\\\\Sentinel-2_scl_101.tif',\n",
       "  'F:\\\\GEEDOWNLOAD\\\\sentinel2\\\\GL\\\\Sentinel-2_scl_102.tif',\n",
       "  'F:\\\\GEEDOWNLOAD\\\\sentinel2\\\\GL\\\\Sentinel-2_scl_103.tif',\n",
       "  'F:\\\\GEEDOWNLOAD\\\\sentinel2\\\\GL\\\\Sentinel-2_scl_104.tif',\n",
       "  'F:\\\\GEEDOWNLOAD\\\\sentinel2\\\\GL\\\\Sentinel-2_scl_105.tif',\n",
       "  'F:\\\\GEEDOWNLOAD\\\\sentinel2\\\\GL\\\\Sentinel-2_scl_106.tif',\n",
       "  'F:\\\\GEEDOWNLOAD\\\\sentinel2\\\\GL\\\\Sentinel-2_scl_107.tif',\n",
       "  'F:\\\\GEEDOWNLOAD\\\\sentinel2\\\\GL\\\\Sentinel-2_scl_108.tif',\n",
       "  'F:\\\\GEEDOWNLOAD\\\\sentinel2\\\\GL\\\\Sentinel-2_scl_109.tif',\n",
       "  'F:\\\\GEEDOWNLOAD\\\\sentinel2\\\\GL\\\\Sentinel-2_scl_110.tif',\n",
       "  'F:\\\\GEEDOWNLOAD\\\\sentinel2\\\\GL\\\\Sentinel-2_scl_111.tif',\n",
       "  'F:\\\\GEEDOWNLOAD\\\\sentinel2\\\\GL\\\\Sentinel-2_scl_112.tif',\n",
       "  'F:\\\\GEEDOWNLOAD\\\\sentinel2\\\\GL\\\\Sentinel-2_scl_113.tif',\n",
       "  'F:\\\\GEEDOWNLOAD\\\\sentinel2\\\\GL\\\\Sentinel-2_scl_114.tif',\n",
       "  'F:\\\\GEEDOWNLOAD\\\\sentinel2\\\\GL\\\\Sentinel-2_scl_115.tif',\n",
       "  'F:\\\\GEEDOWNLOAD\\\\sentinel2\\\\GL\\\\Sentinel-2_scl_116.tif',\n",
       "  'F:\\\\GEEDOWNLOAD\\\\sentinel2\\\\GL\\\\Sentinel-2_scl_117.tif',\n",
       "  'F:\\\\GEEDOWNLOAD\\\\sentinel2\\\\GL\\\\Sentinel-2_scl_118.tif',\n",
       "  'F:\\\\GEEDOWNLOAD\\\\sentinel2\\\\GL\\\\Sentinel-2_scl_119.tif',\n",
       "  'F:\\\\GEEDOWNLOAD\\\\sentinel2\\\\GL\\\\Sentinel-2_scl_120.tif',\n",
       "  'F:\\\\GEEDOWNLOAD\\\\sentinel2\\\\GL\\\\Sentinel-2_scl_121.tif',\n",
       "  'F:\\\\GEEDOWNLOAD\\\\sentinel2\\\\GL\\\\Sentinel-2_scl_122.tif',\n",
       "  'F:\\\\GEEDOWNLOAD\\\\sentinel2\\\\GL\\\\Sentinel-2_scl_123.tif',\n",
       "  'F:\\\\GEEDOWNLOAD\\\\sentinel2\\\\GL\\\\Sentinel-2_scl_124.tif',\n",
       "  'F:\\\\GEEDOWNLOAD\\\\sentinel2\\\\GL\\\\Sentinel-2_scl_125.tif',\n",
       "  'F:\\\\GEEDOWNLOAD\\\\sentinel2\\\\GL\\\\Sentinel-2_scl_126.tif',\n",
       "  'F:\\\\GEEDOWNLOAD\\\\sentinel2\\\\GL\\\\Sentinel-2_scl_127.tif',\n",
       "  'F:\\\\GEEDOWNLOAD\\\\sentinel2\\\\GL\\\\Sentinel-2_scl_128.tif',\n",
       "  'F:\\\\GEEDOWNLOAD\\\\sentinel2\\\\GL\\\\Sentinel-2_scl_129.tif',\n",
       "  'F:\\\\GEEDOWNLOAD\\\\sentinel2\\\\GL\\\\Sentinel-2_scl_130.tif',\n",
       "  'F:\\\\GEEDOWNLOAD\\\\sentinel2\\\\GL\\\\Sentinel-2_scl_131.tif',\n",
       "  'F:\\\\GEEDOWNLOAD\\\\sentinel2\\\\GL\\\\Sentinel-2_scl_132.tif'],\n",
       " 132)"
      ]
     },
     "execution_count": 4,
     "metadata": {},
     "output_type": "execute_result"
    }
   ],
   "source": [
    "raster_list,len(raster_list)"
   ]
  },
  {
   "cell_type": "code",
   "execution_count": 5,
   "metadata": {},
   "outputs": [],
   "source": [
    "# 镶嵌至新栅格\n",
    "def mosaic_new_raster(raster_list,out_gdb,out_name,pre_refer,bands:int):\n",
    "    pre_refer_prj = arcpy.Describe(pre_refer).spatialReference\n",
    "    with arcpy.EnvManager(parallelProcessingFactor=\"0\"):\n",
    "        arcpy.management.MosaicToNewRaster(raster_list, out_gdb, out_name, pre_refer_prj, \"32_BIT_FLOAT\", None, bands, \"LAST\", \"FIRST\")"
   ]
  },
  {
   "cell_type": "code",
   "execution_count": 6,
   "metadata": {},
   "outputs": [],
   "source": [
    "out_gdb = r\"F:\\cache_data\\tif_file_sentinel\\gl\"\n",
    "out_name = \"gl_bands14.tif\"\n",
    "pre_fer = r\"D:\\ArcGISProjects\\workspace\\shbyq\\feature_raster_file\\features_data_gl.gdb\\DEM\""
   ]
  },
  {
   "cell_type": "code",
   "execution_count": 8,
   "metadata": {
    "notebookRunGroups": {
     "groupValue": ""
    }
   },
   "outputs": [],
   "source": [
    "# dem\n",
    "mosaic_new_raster(raster_list,out_gdb,out_name,pre_fer,1)"
   ]
  },
  {
   "cell_type": "code",
   "execution_count": 7,
   "metadata": {},
   "outputs": [],
   "source": [
    "# sentinel\n",
    "mosaic_new_raster(raster_list,out_gdb,out_name,pre_fer,14)"
   ]
  },
  {
   "cell_type": "code",
   "execution_count": 19,
   "metadata": {},
   "outputs": [],
   "source": [
    "# 处理异常值\n",
    "def Con_calc(raster,error_list):\n",
    "    # 按焦点统计\n",
    "\n",
    "\n",
    "    # 识别异常值\n",
    "    outCon1 = Con((Raster(raster) >error_list[0]) | (Raster(raster) <=error_list[1]), 1, 0)\n",
    "\n",
    "    # 使用焦点统计来处理异常值\n",
    "    neighborhood = NbrCircle(3, \"CELL\")  # 设置邻域大小和形状\n",
    "    # outFocalStat = FocalStatistics(raster, neighborhood, \"MINIMUM\")\n",
    "    outFocalStat = FocalStatistics(raster, neighborhood, \"MEAN\")\n",
    "\n",
    "    # 替换异常值\n",
    "    outRaster = Con(outCon1 == 1, outFocalStat, raster)\n",
    "    return outRaster\n",
    "# 取消并行处理\n",
    "def disable_parallel_processing(func):\n",
    "    \"\"\"\"装饰器函数,取消并行处理,因为在部分PC中无法进行并行处理\"\"\"\n",
    "    def wrapper(*args, **kwargs):\n",
    "        with arcpy.EnvManager(parallelProcessingFactor=\"0\"):\n",
    "            return func(*args, **kwargs)\n",
    "    return wrapper\n",
    "\n",
    "# 填洼\n",
    "@disable_parallel_processing\n",
    "def fill_dem(dem_raster):\n",
    "    \"\"\"参数默认为最佳\"\"\"\n",
    "    fill_raster = Fill(dem_raster,)\n",
    "    return fill_raster\n",
    "    "
   ]
  },
  {
   "cell_type": "code",
   "execution_count": 12,
   "metadata": {},
   "outputs": [],
   "source": [
    "env.workspace = out_gdb"
   ]
  },
  {
   "cell_type": "code",
   "execution_count": 16,
   "metadata": {},
   "outputs": [],
   "source": [
    "dem_path = r\"D:\\ArcGISProjects\\workspace\\shbyq\\features_data_dy.gdb\\DEM2\"\n",
    "temp = Con_calc(dem_path,[4000,0])\n",
    "temp.save('DEM3')"
   ]
  },
  {
   "cell_type": "code",
   "execution_count": 20,
   "metadata": {},
   "outputs": [],
   "source": [
    "# 填洼\n",
    "fill_dem('DEM3').save('DEM4')"
   ]
  }
 ],
 "metadata": {
  "kernelspec": {
   "display_name": "Python 3",
   "language": "python",
   "name": "python3"
  },
  "language_info": {
   "codemirror_mode": {
    "name": "ipython",
    "version": 3
   },
   "file_extension": ".py",
   "mimetype": "text/x-python",
   "name": "python",
   "nbconvert_exporter": "python",
   "pygments_lexer": "ipython3",
   "version": "3.9.11"
  },
  "orig_nbformat": 4
 },
 "nbformat": 4,
 "nbformat_minor": 2
}
