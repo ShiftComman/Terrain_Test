{
 "cells": [
  {
   "cell_type": "code",
   "execution_count": 7,
   "metadata": {},
   "outputs": [],
   "source": [
    "import arcpy\n",
    "from arcpy import env\n",
    "from arcpy.sa import *\n",
    "import os\n",
    "import numpy as np"
   ]
  },
  {
   "cell_type": "code",
   "execution_count": 44,
   "metadata": {},
   "outputs": [],
   "source": [
    "def separate_bands_texture(input_raster, output_folder):\n",
    "    \"\"\"\n",
    "    分离输入栅格数据的每个波段，并将它们分别保存为单波段文件。\n",
    "    :param input_raster: 输入的多波段栅格文件路径。\n",
    "    :param output_folder: 输出波段文件的文件夹路径。\n",
    "    \"\"\"\n",
    "    # 检查空间分析扩展是否可用\n",
    "    arcpy.CheckOutExtension(\"Spatial\")\n",
    "\n",
    "    # 获取输入栅格数据的波段数量和波段对象\n",
    "    raster_obj = arcpy.Raster(input_raster)\n",
    "    band_count = raster_obj.bandCount\n",
    "    bands = raster_obj.getRasterBands()\n",
    "\n",
    "    # 获取栅格数据集的波段信息\n",
    "    band_names = []\n",
    "    for band in arcpy.Describe(raster_obj).children:\n",
    "        band_names.append(band.name)\n",
    "    band_names = [_[:_.rfind('(')].strip().replace(\" \",\"\") for _ in band_names]\n",
    "\n",
    "    # 分离每个波段并保存\n",
    "    for i in range(band_count):\n",
    "        # 获取单个波段\n",
    "        band_raster = bands[i]\n",
    "\n",
    "        # 构建输出文件名\n",
    "        output_raster = os.path.join(output_folder, f\"{band_names[i]}.tif\")\n",
    "\n",
    "        # 保存单波段栅格\n",
    "        band_raster.save(output_raster)\n",
    "\n",
    "        print(f\"Band {i+1} saved as {output_raster}\")\n",
    "\n",
    "def separate_bands_pca(input_raster, output_folder):\n",
    "    \"\"\"\n",
    "    分离输入栅格数据的每个波段，并将它们分别保存为单波段文件。\n",
    "    :param input_raster: 输入的多波段栅格文件路径。\n",
    "    :param output_folder: 输出波段文件的文件夹路径。\n",
    "    \"\"\"\n",
    "    # 检查空间分析扩展是否可用\n",
    "    arcpy.CheckOutExtension(\"Spatial\")\n",
    "\n",
    "    # 获取输入栅格数据的波段数量和波段对象\n",
    "    raster_obj = arcpy.Raster(input_raster)\n",
    "    band_count = raster_obj.bandCount\n",
    "    bands = raster_obj.getRasterBands()\n",
    "\n",
    "    # 分离每个波段并保存\n",
    "    for i in range(band_count):\n",
    "        # 获取单个波段\n",
    "        band_raster = bands[i]\n",
    "\n",
    "        # 构建输出文件名\n",
    "        output_raster = os.path.join(output_folder, f\"PCA_{i}.tif\")\n",
    "\n",
    "        # 保存单波段栅格\n",
    "        band_raster.save(output_raster)\n",
    "\n",
    "        print(f\"Band {i+1} saved as {output_raster}\")\n",
    "\n"
   ]
  },
  {
   "cell_type": "code",
   "execution_count": 42,
   "metadata": {},
   "outputs": [],
   "source": [
    "\n",
    "# 设置环境\n",
    "env.workspace = r\"D:\\ArcGISProjects\\workspace\\shbyq\\tif_file_texture\\dy\\multi_bands\"  # 修改为您的工作目录\n",
    "input_raster_texture = r\"D:\\ArcGISProjects\\workspace\\shbyq\\tif_file_texture\\dy\\multi_bands\\dy_bands14_pca.tif\"  # 输入多波段栅格文件_texture\n",
    "input_raster_pca = r\"D:\\ArcGISProjects\\workspace\\shbyq\\tif_file_texture\\dy\\multi_bands\\dy_bands14_pca.tif\"  # 输入多波段栅格文件_pca\n",
    "output_folder = r\"D:\\ArcGISProjects\\workspace\\shbyq\\tif_file_texture\\dy\\one_bands\"  # 修改为您的输出文件夹\n",
    "\n"
   ]
  },
  {
   "cell_type": "code",
   "execution_count": 43,
   "metadata": {},
   "outputs": [
    {
     "name": "stdout",
     "output_type": "stream",
     "text": [
      "Band 1 saved as D:\\ArcGISProjects\\workspace\\shbyq\\tif_file_texture\\dy\\one_bands\\PCA_0.tif\n",
      "Band 2 saved as D:\\ArcGISProjects\\workspace\\shbyq\\tif_file_texture\\dy\\one_bands\\PCA_1.tif\n"
     ]
    }
   ],
   "source": [
    "# 调用函数分离波段  分离纹理特征 texture\n",
    "separate_bands_texture(input_raster_texture, output_folder)"
   ]
  },
  {
   "cell_type": "code",
   "execution_count": null,
   "metadata": {},
   "outputs": [],
   "source": [
    "# 调用函数分离波段  分离纹理特征 PCA\n",
    "separate_bands_pca(input_raster_pca, output_folder)"
   ]
  }
 ],
 "metadata": {
  "kernelspec": {
   "display_name": "Python 3",
   "language": "python",
   "name": "python3"
  },
  "language_info": {
   "codemirror_mode": {
    "name": "ipython",
    "version": 3
   },
   "file_extension": ".py",
   "mimetype": "text/x-python",
   "name": "python",
   "nbconvert_exporter": "python",
   "pygments_lexer": "ipython3",
   "version": "3.9.11"
  }
 },
 "nbformat": 4,
 "nbformat_minor": 2
}
