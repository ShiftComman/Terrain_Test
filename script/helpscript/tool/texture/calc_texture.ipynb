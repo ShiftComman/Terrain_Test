{
 "cells": [
  {
   "cell_type": "code",
   "execution_count": 2,
   "metadata": {},
   "outputs": [],
   "source": [
    "import cv2\n",
    "from skimage.feature import greycomatrix, greycoprops"
   ]
  },
  {
   "cell_type": "code",
   "execution_count": null,
   "metadata": {},
   "outputs": [],
   "source": [
    "\n",
    "\n",
    "def calculate_texture_features(image_path, band_number):\n",
    "    with rasterio.open(image_path) as src:\n",
    "        band = src.read(band_number)  # 选择合适的波段进行纹理分析\n",
    "\n",
    "    # 将波段数据转换为8位灰度图像\n",
    "    band_scaled = cv2.normalize(band, None, 0, 255, cv2.NORM_MINMAX, dtype=cv2.CV_8U)\n",
    "\n",
    "    # 计算灰度共生矩阵\n",
    "    glcm = greycomatrix(band_scaled, [1], [0, np.pi/4, np.pi/2, 3*np.pi/4], 256, symmetric=True, normed=True)\n",
    "\n",
    "    # 计算纹理特征\n",
    "    contrast = greycoprops(glcm, 'contrast')\n",
    "    dissimilarity = greycoprops(glcm, 'dissimilarity')\n",
    "    homogeneity = greycoprops(glcm, 'homogeneity')\n",
    "    energy = greycoprops(glcm, 'energy')\n",
    "    correlation = greycoprops(glcm, 'correlation')\n",
    "\n",
    "    return contrast, dissimilarity, homogeneity, energy, correlation\n",
    "\n",
    "# 使用下载的Sentinel-2图像\n",
    "texture_features = calculate_texture_features('path_to_your_tiff_file.tif', 1)  # 假设使用第1波段"
   ]
  }
 ],
 "metadata": {
  "kernelspec": {
   "display_name": ".venvgis",
   "language": "python",
   "name": "python3"
  },
  "language_info": {
   "codemirror_mode": {
    "name": "ipython",
    "version": 3
   },
   "file_extension": ".py",
   "mimetype": "text/x-python",
   "name": "python",
   "nbconvert_exporter": "python",
   "pygments_lexer": "ipython3",
   "version": "3.10.11"
  }
 },
 "nbformat": 4,
 "nbformat_minor": 2
}
