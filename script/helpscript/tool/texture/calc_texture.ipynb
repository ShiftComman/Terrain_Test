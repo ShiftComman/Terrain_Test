{
 "cells": [
  {
   "cell_type": "code",
   "execution_count": 25,
   "metadata": {},
   "outputs": [],
   "source": [
    "import rasterio\n",
    "from skimage.feature import graycomatrix, graycoprops\n",
    "import cv2\n",
    "import numpy as np\n",
    "import matplotlib.pyplot as plt\n"
   ]
  },
  {
   "cell_type": "code",
   "execution_count": 31,
   "metadata": {},
   "outputs": [],
   "source": [
    "def calculate_texture_features(image_path, band_number):\n",
    "    with rasterio.open(image_path) as src:\n",
    "        band = src.read(band_number)\n",
    "\n",
    "    # 将波段数据转换为8位灰度图像\n",
    "    band_scaled = cv2.normalize(band, None, 0, 255, cv2.NORM_MINMAX, dtype=cv2.CV_8U)\n",
    "\n",
    "    # 初始化纹理特征图\n",
    "    contrast_map = np.zeros_like(band_scaled, dtype=np.float32)\n",
    "    dissimilarity_map = np.zeros_like(band_scaled, dtype=np.float32)\n",
    "    homogeneity_map = np.zeros_like(band_scaled, dtype=np.float32)\n",
    "    energy_map = np.zeros_like(band_scaled, dtype=np.float32)\n",
    "    correlation_map = np.zeros_like(band_scaled, dtype=np.float32)\n",
    "\n",
    "    # 定义窗口大小\n",
    "    window_size = 3\n",
    "    offset = window_size // 2\n",
    "\n",
    "    # 对每个像素计算纹理特征\n",
    "    for i in range(offset, band_scaled.shape[0] - offset):\n",
    "        for j in range(offset, band_scaled.shape[1] - offset):\n",
    "            window = band_scaled[i-offset:i+offset+1, j-offset:j+offset+1]\n",
    "            glcm = graycomatrix(window, [1], [np.pi/4, 3*np.pi/4], 256, symmetric=True, normed=True)\n",
    "            \n",
    "            contrast_map[i, j] = graycoprops(glcm, 'contrast')[0, 0]\n",
    "            dissimilarity_map[i, j] = graycoprops(glcm, 'dissimilarity')[0, 0]\n",
    "            homogeneity_map[i, j] = graycoprops(glcm, 'homogeneity')[0, 0]\n",
    "            energy_map[i, j] = graycoprops(glcm, 'energy')[0, 0]\n",
    "            correlation_map[i, j] = graycoprops(glcm, 'correlation')[0, 0]\n",
    "\n",
    "    return contrast_map, dissimilarity_map, homogeneity_map, energy_map, correlation_map\n"
   ]
  },
  {
   "cell_type": "code",
   "execution_count": 32,
   "metadata": {},
   "outputs": [],
   "source": [
    "image_path = r'D:\\ArcGISProjects\\workspace\\shbyq\\dy_bands14_pca.tif'"
   ]
  },
  {
   "cell_type": "code",
   "execution_count": null,
   "metadata": {},
   "outputs": [],
   "source": [
    "\n",
    "# 使用下载的Sentinel-2图像\n",
    "texture_maps = calculate_texture_features(image_path, 1)"
   ]
  },
  {
   "cell_type": "code",
   "execution_count": 21,
   "metadata": {},
   "outputs": [
    {
     "data": {
      "text/plain": [
       "(6787, 7027)"
      ]
     },
     "execution_count": 21,
     "metadata": {},
     "output_type": "execute_result"
    }
   ],
   "source": [
    "texture_maps.shape"
   ]
  },
  {
   "cell_type": "code",
   "execution_count": null,
   "metadata": {},
   "outputs": [],
   "source": [
    "# 可视化NDVI\n",
    "plt.imshow(texture_maps, cmap='RdYlGn')\n",
    "plt.colorbar()\n",
    "plt.title('texture')\n",
    "plt.show()"
   ]
  }
 ],
 "metadata": {
  "kernelspec": {
   "display_name": ".venvgis",
   "language": "python",
   "name": "python3"
  },
  "language_info": {
   "codemirror_mode": {
    "name": "ipython",
    "version": 3
   },
   "file_extension": ".py",
   "mimetype": "text/x-python",
   "name": "python",
   "nbconvert_exporter": "python",
   "pygments_lexer": "ipython3",
   "version": "3.10.11"
  }
 },
 "nbformat": 4,
 "nbformat_minor": 2
}
