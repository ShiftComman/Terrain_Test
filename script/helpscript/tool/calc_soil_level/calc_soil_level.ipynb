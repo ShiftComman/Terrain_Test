{
 "cells": [
  {
   "cell_type": "markdown",
   "metadata": {
    "vscode": {
     "languageId": "plaintext"
    }
   },
   "source": [
    "# 三普耕地质量等级评价"
   ]
  },
  {
   "cell_type": "code",
   "execution_count": 10,
   "metadata": {},
   "outputs": [],
   "source": [
    "import os\n",
    "import time\n",
    "import pandas as pd \n",
    "import numpy as np\n",
    "import geopandas as gpd\n",
    "import matplotlib.pyplot as plt\n",
    "import seaborn as sns"
   ]
  },
  {
   "cell_type": "code",
   "execution_count": 11,
   "metadata": {},
   "outputs": [],
   "source": [
    "# 土类结果图shp路径\n",
    "soil_type_shp_path = r'F:\\cache_data\\shp_file\\sb\\sb_soiltype_result_rf_20241029.shp'"
   ]
  },
  {
   "cell_type": "code",
   "execution_count": 12,
   "metadata": {},
   "outputs": [],
   "source": [
    "# 筛选类型为耕地的shp\n",
    "land_list = [\"水田\",\"水浇地\",\"旱地\"]\n",
    "all_soil_type_df = gpd.read_file(soil_type_shp_path)\n",
    "soil_type_df = all_soil_type_df[all_soil_type_df['DLMC'].isin(land_list)]"
   ]
  },
  {
   "cell_type": "code",
   "execution_count": 16,
   "metadata": {},
   "outputs": [
    {
     "name": "stdout",
     "output_type": "stream",
     "text": [
      "文件已保存至: C:\\Users\\Runker\\Desktop\\test\\shp\\sb_soiltype_result.shp\n",
      "\n",
      "处理结果统计：\n",
      "总要素数量：34405\n",
      "\n",
      "按地类统计：\n",
      "DLMC\n",
      "旱地    23564\n",
      "水田    10841\n",
      "Name: count, dtype: int64\n",
      "\n",
      "按土类等级统计：\n",
      "Class1_tl\n",
      "黄壤     11366\n",
      "石灰土    10866\n",
      "水稻土    10841\n",
      "潮土       595\n",
      "紫色土      585\n",
      "粗骨土      139\n",
      "黄棕壤       13\n",
      "Name: count, dtype: int64\n"
     ]
    }
   ],
   "source": [
    "\n",
    "# 融合DLMC和Class1_tl相同的图斑,不创建多部件\n",
    "# 先重置索引以避免DLMC的歧义\n",
    "soil_type_df = soil_type_df.reset_index(drop=True)\n",
    "soil_type_df = soil_type_df.dissolve(by=['DLMC', 'Class1_tl'], aggfunc={\n",
    "    'DLBM': 'first',\n",
    "    'MZMC': 'first'\n",
    "})\n",
    "\n",
    "# 将多部件要素拆分为单部件\n",
    "soil_type_df = soil_type_df.explode(index_parts=True)\n",
    "\n",
    "# 重置索引，使用drop=False来保留原索引列，并指定新的列名\n",
    "soil_type_df = soil_type_df.reset_index(level=['DLMC', 'Class1_tl'])\n",
    "\n",
    "# 添加面积字段，并计算面积\n",
    "soil_type_df['area'] = soil_type_df.geometry.area\n",
    "\n",
    "# 保存结果\n",
    "try:\n",
    "    output_path = r'C:\\Users\\Runker\\Desktop\\test\\shp\\sb_soiltype_result.shp'\n",
    "    soil_type_df.to_file(output_path, driver='ESRI Shapefile',encoding='utf-8')\n",
    "    print(f\"文件已保存至: {output_path}\")\n",
    "    \n",
    "    # 打印结果统计信息\n",
    "    print(\"\\n处理结果统计：\")\n",
    "    print(f\"总要素数量：{len(soil_type_df)}\")\n",
    "    print(\"\\n按地类统计：\")\n",
    "    print(soil_type_df['DLMC'].value_counts())\n",
    "    print(\"\\n按土类等级统计：\")\n",
    "    print(soil_type_df['Class1_tl'].value_counts())\n",
    "except Exception as e:\n",
    "    print(f\"保存文件时出错: {str(e)}\")"
   ]
  }
 ],
 "metadata": {
  "kernelspec": {
   "display_name": ".venvgis",
   "language": "python",
   "name": "python3"
  },
  "language_info": {
   "codemirror_mode": {
    "name": "ipython",
    "version": 3
   },
   "file_extension": ".py",
   "mimetype": "text/x-python",
   "name": "python",
   "nbconvert_exporter": "python",
   "pygments_lexer": "ipython3",
   "version": "3.10.11"
  }
 },
 "nbformat": 4,
 "nbformat_minor": 2
}
