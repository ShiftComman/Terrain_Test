{
 "cells": [
  {
   "cell_type": "markdown",
   "metadata": {},
   "source": [
    "# 基于DEM数据计算TPI TWI"
   ]
  },
  {
   "cell_type": "code",
   "execution_count": 9,
   "metadata": {},
   "outputs": [],
   "source": [
    "import arcpy\n",
    "from arcpy import env\n",
    "from arcpy.sa import *\n",
    "from arcpy.da import *\n",
    "import math"
   ]
  },
  {
   "cell_type": "code",
   "execution_count": 27,
   "metadata": {},
   "outputs": [],
   "source": [
    "\n",
    "# 取消并行处理\n",
    "def disable_parallel_processing(func):\n",
    "    \"\"\"\"装饰器函数,取消并行处理,因为在部分PC中无法进行并行处理\"\"\"\n",
    "    def wrapper(*args, **kwargs):\n",
    "        with arcpy.EnvManager(parallelProcessingFactor=\"0\"):\n",
    "            return func(*args, **kwargs)\n",
    "    return wrapper\n",
    "\n",
    "# 坡度(弧度)\n",
    "@disable_parallel_processing\n",
    "def get_slope(dem_raser):\n",
    "    \"\"\"得到为弧度的坡度\"\"\"\n",
    "    slope_raster = Slope(dem_raser,\"DEGREE\",1,\"PLANAR\",\"METER\")\n",
    "    result_raster = Con(slope_raster==0,0.001, Tan(slope_raster *math.pi/180 ))\n",
    "    return result_raster\n",
    "\n",
    "\n",
    "# 填洼\n",
    "@disable_parallel_processing\n",
    "def fill_dem(dem_raster):\n",
    "    \"\"\"参数默认为最佳\"\"\"\n",
    "    fill_raster = Fill(dem_raster)\n",
    "    return fill_raster\n",
    "\n",
    "# 流向\n",
    "@disable_parallel_processing\n",
    "def flowdir_dem(dem_raster,dir_index):\n",
    "    \"\"\"\"D8算法,dir_index{1:正常流动,0:强制外向流动}\"\"\"\n",
    "    if dir_index:\n",
    "        flowdir_raster = FlowDirection(dem_raster,\"NORMAL\",None,\"D8\")\n",
    "        return flowdir_raster\n",
    "    else:\n",
    "        flowdir_raster = FlowDirection(dem_raster,\"FORCE\", None, \"D8\")\n",
    "        return flowdir_raster\n",
    "    \n",
    "# 流量(+1)\n",
    "@disable_parallel_processing\n",
    "def acc_dem(dem_raster,cell_size):\n",
    "    \"\"\"输入流向类型D8\"\"\"\n",
    "    acc_raster = FlowAccumulation(dem_raster,None,\"FLOAT\",\"D8\")\n",
    "    result_raster = (acc_raster+1)*cell_size\n",
    "    return result_raster\n",
    "\n",
    "# 单位面积汇流量\n",
    "\n",
    "# 计算TPI\n",
    "@disable_parallel_processing\n",
    "def calc_tpi(dem_raster,focous_size):\n",
    "    \"\"\"dem_raster:DEM数据,focous_size:窗口大小\"\"\"\n",
    "    # 焦点统计\n",
    "    focous_raster = FocalStatistics(dem_raster,NbrRectangle(focous_size,focous_size,\"CELL\"),\"MEAN\",\"DATA\")\n",
    "    # 结果输出\n",
    "    result_raster = dem_raster-focous_raster\n",
    "    return result_raster\n",
    "\n",
    "\n",
    "# 计算SCA（单位面积的汇流量）\n",
    "def calc_sca(flow_acc,flow_dir,cell_size):\n",
    "    cell_area = cell_size*cell_size\n",
    "    result_raster = Con(flow_acc==0,cell_area,flow_acc)*cell_area/Con((flow_dir==1)|(flow_dir==8)|(flow_dir==32)|(flow_dir==64),cell_size,cell_area)\n",
    "    return result_raster\n",
    "\n",
    "# 计算TWI\n",
    "@disable_parallel_processing\n",
    "def calc_twi(dem_raster,cell_size):\n",
    "    \"\"\"dem_raster:DEM数据\"\"\"\n",
    "    # 得到正切坡度\n",
    "    asp_raster = get_slope(dem_raster)\n",
    "    print(\"asp done!\")\n",
    "    # 流向\n",
    "    fd_raster = flowdir_dem(dem_raster,1)\n",
    "    print(\"fd done!\")\n",
    "    # sca流量\n",
    "    ac_raster = acc_dem(fd_raster,cell_size)\n",
    "    print(\"acc done!\")\n",
    "    # 计算TWI  \n",
    "    result_raster = Ln(ac_raster/asp_raster)\n",
    "    return result_raster\n"
   ]
  },
  {
   "cell_type": "code",
   "execution_count": 28,
   "metadata": {},
   "outputs": [
    {
     "name": "stdout",
     "output_type": "stream",
     "text": [
      "asp done!\n",
      "fd done!\n",
      "acc done!\n"
     ]
    }
   ],
   "source": [
    "# 设置工作环境\n",
    "env.workspace = \"D:\\ArcGISProjects\\syraster\\SY_TWI.gdb\"\n",
    "dem_file = \"SY_DEM_5_DT_3\"\n",
    "\n",
    "\n",
    "twi_raster = calc_twi(dem_file,5)\n",
    "twi_raster.save(\"SY_TWI_5\")\n"
   ]
  }
 ],
 "metadata": {
  "kernelspec": {
   "display_name": "Python 3",
   "language": "python",
   "name": "python3"
  },
  "language_info": {
   "codemirror_mode": {
    "name": "ipython",
    "version": 3
   },
   "file_extension": ".py",
   "mimetype": "text/x-python",
   "name": "python",
   "nbconvert_exporter": "python",
   "pygments_lexer": "ipython3",
   "version": "3.9.11"
  },
  "orig_nbformat": 4
 },
 "nbformat": 4,
 "nbformat_minor": 2
}
