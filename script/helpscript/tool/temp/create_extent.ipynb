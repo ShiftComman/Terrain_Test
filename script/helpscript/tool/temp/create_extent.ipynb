{
 "cells": [
  {
   "cell_type": "markdown",
   "metadata": {},
   "source": [
    "# 创建区域处理范围"
   ]
  },
  {
   "cell_type": "code",
   "execution_count": 1,
   "metadata": {},
   "outputs": [],
   "source": [
    "import arcpy"
   ]
  },
  {
   "cell_type": "code",
   "execution_count": 5,
   "metadata": {},
   "outputs": [],
   "source": [
    "\n",
    "# 创建缓冲区\n",
    "def create_buffer(in_feature, out_feature, buffer_distance):\n",
    "    \"\"\"\n",
    "    in_feature:输入要素\n",
    "    out_feature:输出要素\n",
    "    buffer_distance:缓冲距离\"\"\"\n",
    "    arcpy.analysis.Buffer(in_feature, out_feature, f'{buffer_distance} Meters', \"FULL\", \"ROUND\", \"NONE\", None, \"PLANAR\")\n",
    "# 生成最小包络矩形\n",
    "def create_extent(in_feature, out_feature):\n",
    "    \"\"\"\n",
    "    in_feature:输入要素\n",
    "    out_feature:输出要素\"\"\"\n",
    "    arcpy.management.MinimumBoundingGeometry(in_feature, out_feature, \"ENVELOPE\", \"NONE\", None, \"NO_MBG_FIELDS\")\n",
    "\n",
    "# 要素包络矩形\n",
    "def create_envelope(in_feature, out_feature):\n",
    "    \"\"\"\n",
    "    in_feature:输入要素\n",
    "    out_feature:输出要素\"\"\"\n",
    "    arcpy.management.FeatureEnvelopeToPolygon(in_feature,out_feature, \"SINGLEPART\")\n",
    "# 投影\n",
    "def project_vector(in_path, out_path):\n",
    "    \"\"\"\n",
    "    call: project_vector(in_path, out_path, spatial_ref_vector)\n",
    "    in_path: 输入的矢量路径\n",
    "    out_path: 输出的矢量路径\n",
    "    spatial_ref_vector: 矢量投影的参考系路径\n",
    "    \"\"\"\n",
    "    spatial_ref = arcpy.SpatialReference('CGCS2000 3 Degree GK CM 108E')\n",
    "    arcpy.Project_management(in_path, out_path, spatial_ref)\n",
    "    "
   ]
  },
  {
   "cell_type": "code",
   "execution_count": 3,
   "metadata": {},
   "outputs": [],
   "source": [
    "arcpy.env.overwriteOutput = True"
   ]
  },
  {
   "cell_type": "code",
   "execution_count": 6,
   "metadata": {},
   "outputs": [],
   "source": [
    "# 矢量路径\n",
    "in_feature = r'D:\\ArcGISProjects\\workspace\\shbyq\\features_data_vector.gdb\\extent\\KY'\n",
    "out_feature = r'D:\\ArcGISProjects\\workspace\\shbyq\\features_data_vector.gdb\\extent\\KY_500'\n",
    "out_extent = r'D:\\ArcGISProjects\\workspace\\shbyq\\features_data_vector.gdb\\extent\\KY_500_extent'\n",
    "\n",
    "# 投影路径\n",
    "pr_in_path = out_extent\n",
    "pr_out_path = r'D:\\ArcGISProjects\\workspace\\shbyq\\features_data_vector.gdb\\extent_p\\KY_500_extent_project'"
   ]
  },
  {
   "cell_type": "code",
   "execution_count": 7,
   "metadata": {},
   "outputs": [],
   "source": [
    "create_buffer(in_feature,out_feature,500)\n",
    "create_envelope(out_feature,out_extent)\n",
    "project_vector(pr_in_path, pr_out_path)"
   ]
  },
  {
   "cell_type": "code",
   "execution_count": null,
   "metadata": {},
   "outputs": [],
   "source": []
  }
 ],
 "metadata": {
  "kernelspec": {
   "display_name": "Python 3",
   "language": "python",
   "name": "python3"
  },
  "language_info": {
   "codemirror_mode": {
    "name": "ipython",
    "version": 3
   },
   "file_extension": ".py",
   "mimetype": "text/x-python",
   "name": "python",
   "nbconvert_exporter": "python",
   "pygments_lexer": "ipython3",
   "version": "3.9.11"
  }
 },
 "nbformat": 4,
 "nbformat_minor": 2
}
