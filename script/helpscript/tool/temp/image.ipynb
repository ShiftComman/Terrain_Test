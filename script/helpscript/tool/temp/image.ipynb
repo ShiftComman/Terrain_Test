{
 "cells": [
  {
   "cell_type": "markdown",
   "metadata": {},
   "source": [
    "# 图片操作"
   ]
  },
  {
   "cell_type": "code",
   "execution_count": 24,
   "metadata": {},
   "outputs": [],
   "source": [
    "import numpy as np\n",
    "from scipy.ndimage import grey_dilation,grey_erosion,grey_opening,grey_closing\n",
    "import arcpy\n",
    "from arcpy import env\n",
    "import os"
   ]
  },
  {
   "cell_type": "code",
   "execution_count": 16,
   "metadata": {},
   "outputs": [],
   "source": [
    "data_path = r'D:\\ArcgisData\\pred_tl\\pred_database\\TL_basedata.gdb\\TL_pred_raster_C'"
   ]
  },
  {
   "cell_type": "code",
   "execution_count": 3,
   "metadata": {},
   "outputs": [],
   "source": [
    "\n",
    "# 加载栅格数据\n",
    "raster_data = arcpy.RasterToNumPyArray(data_path)"
   ]
  },
  {
   "cell_type": "code",
   "execution_count": 25,
   "metadata": {},
   "outputs": [],
   "source": [
    "# 定义膨胀操作\n",
    "def dilation_operation(data):\n",
    "    return grey_dilation(data, size=(3, 3))\n",
    "\n",
    "# 定义腐蚀操作\n",
    "def erosion_operation(data):\n",
    "    return grey_erosion(data, size=(3, 3))\n",
    "# 定义开操作\n",
    "def open_operation(data):\n",
    "    return erosion_operation(dilation_operation(data))\n",
    "# 定义闭操作\n",
    "def close_operation(data):\n",
    "    return dilation_operation(erosion_operation(data))\n",
    "# 定义边缘检测\n",
    "def edge_detection(data):\n",
    "    return data - erosion_operation(data)\n",
    "# 定义灰度形态学梯度\n",
    "def gradient(data):\n",
    "    return dilation_operation(data) - erosion_operation(data)\n",
    "# 定义顶帽操作\n",
    "def top_hat(data):\n",
    "    return data - open_operation(data)\n",
    "# 定义底帽操作\n",
    "def bottom_hat(data):\n",
    "    return close_operation(data) - data\n",
    "# 定义灰度形态学开操作\n",
    "def grey_open(data):\n",
    "    return grey_erosion(data) - grey_dilation(data)\n",
    "# 定义灰度形态学闭操作\n",
    "def grey_close(data):\n",
    "    return grey_dilation(data) - grey_erosion(data)\n",
    "# 定义灰度形态学梯度\n",
    "def grey_gradient(data):\n",
    "    return grey_dilation(data) - grey_erosion(data)\n",
    "# 定义灰度形态学顶帽操作\n",
    "def grey_top_hat(data):\n",
    "    return data - grey_open(data)\n",
    "# 定义灰度形态学底帽操作\n",
    "def grey_bottom_hat(data):\n",
    "    return grey_close(data) - data\n",
    "# 定义灰度形态学边缘检测\n",
    "def grey_edge_detection(data):\n",
    "    return grey_dilation(data) - grey_erosion(data)\n",
    "\n",
    "\n",
    "\n",
    "# 转栅格\n",
    "def mask_raster(array,mask_ele,cell_size):\n",
    "    out_raster = arcpy.NumPyArrayToRaster(\n",
    "    array,\n",
    "    arcpy.Point(arcpy.env.extent.XMin, arcpy.env.extent.YMin),\n",
    "    cell_size,\n",
    "    cell_size,\n",
    ")\n",
    "    \"\"\"按掩膜提取栅格,空间参考设定为:CGCS2000_3_Degree_GK_CM_108E\"\"\"\n",
    "    output_coordinate_system = arcpy.Describe(mask_ele).spatialReference\n",
    "    with arcpy.EnvManager(outputCoordinateSystem=output_coordinate_system,snapRaster=mask_ele, cellSize=mask_ele):\n",
    "        result_raster = arcpy.sa.ExtractByMask(out_raster, mask_ele, \"INSIDE\")\n",
    "        return result_raster"
   ]
  },
  {
   "cell_type": "code",
   "execution_count": 10,
   "metadata": {},
   "outputs": [],
   "source": [
    "# 进行膨胀操作\n",
    "dilated_data = dilation_operation(raster_data)"
   ]
  },
  {
   "cell_type": "code",
   "execution_count": 26,
   "metadata": {},
   "outputs": [],
   "source": [
    "\n",
    "# 进行腐蚀操作\n",
    "eroded_data = erosion_operation(raster_data)"
   ]
  },
  {
   "cell_type": "code",
   "execution_count": 17,
   "metadata": {},
   "outputs": [],
   "source": [
    "# 工作空间\n",
    "env.workspace = r\"D:\\ArcgisData\\basedata\\basetrain_30m.gdb\"\n",
    "env.extent = \"DEM\""
   ]
  },
  {
   "cell_type": "code",
   "execution_count": 21,
   "metadata": {},
   "outputs": [],
   "source": [
    "\n",
    "# 膨胀后数据按掩膜处理\n",
    "result_path = r\"D:\\ArcgisData\\pred_tl\\pred_database\\TL_basedata.gdb\"\n",
    "result_raster = mask_raster(dilated_data,'DEM', 30)\n",
    "result_raster.save(os.path.join(result_path,\"TL_dilated1\"))"
   ]
  },
  {
   "cell_type": "code",
   "execution_count": 27,
   "metadata": {},
   "outputs": [],
   "source": [
    "# 腐蚀后数据按掩膜处理\n",
    "result_path = r\"D:\\ArcgisData\\pred_tl\\pred_database\\TL_basedata.gdb\"\n",
    "result_raster = mask_raster(eroded_data,'DEM', 30)\n",
    "result_raster.save(os.path.join(result_path,\"TL_eroded2\"))"
   ]
  },
  {
   "cell_type": "code",
   "execution_count": 40,
   "metadata": {},
   "outputs": [],
   "source": [
    "\n"
   ]
  },
  {
   "cell_type": "code",
   "execution_count": 51,
   "metadata": {},
   "outputs": [],
   "source": [
    "# 创建Raster对象\n",
    "raster = arcpy.sa.Raster(data_path)\n",
    "int_raster = arcpy.sa.Int(raster)\n",
    "zone_values = 1\n",
    "\n",
    "# 应用膨胀操作来填充小间隙\n",
    "dilated_raster = arcpy.sa.Expand(int_raster,  zone_values,[0,1,2,3,4,5,6,7,8,9,10],'MORPHOLOGICAL')\n",
    "\n",
    "# 应用腐蚀操作来去除小的杂散区域\n",
    "eroded_raster = arcpy.sa.Shrink(dilated_raster, zone_values,[0,1,2,3,4,5,6,7,8,9,10], 'MORPHOLOGICAL')\n",
    "float_raster = arcpy.sa.Float(eroded_raster)\n",
    "\n"
   ]
  },
  {
   "cell_type": "code",
   "execution_count": 54,
   "metadata": {},
   "outputs": [
    {
     "data": {
      "text/html": [
       "<div class='gpresult'><h2>Messages</h2><div id='messages' data-messages='[\"开始时间: 2023年8月15日 11:16:59\",\"正在构建金字塔...\",\"Calculating Statistics...\",\"运行 成功，结束时间： 2023年8月15日 11:16:59 (历时: 0.65 秒)\"]' data-show='true'><div id = 'default' /></div></div>"
      ],
      "text/plain": [
       "<Result 'D:\\\\ArcgisData\\\\pred_tl\\\\pred_database\\\\TL_basedata.gdb\\\\float_raster'>"
      ]
     },
     "execution_count": 54,
     "metadata": {},
     "output_type": "execute_result"
    }
   ],
   "source": [
    "# 腐蚀后数据按掩膜处理\n",
    "result_path = r\"D:\\ArcgisData\\pred_tl\\pred_database\\TL_basedata.gdb\"\n",
    "arcpy.management.CopyRaster(float_raster, os.path.join(result_path, \"float_raster\"))"
   ]
  }
 ],
 "metadata": {
  "kernelspec": {
   "display_name": "Python 3",
   "language": "python",
   "name": "python3"
  },
  "language_info": {
   "codemirror_mode": {
    "name": "ipython",
    "version": 3
   },
   "file_extension": ".py",
   "mimetype": "text/x-python",
   "name": "python",
   "nbconvert_exporter": "python",
   "pygments_lexer": "ipython3",
   "version": "3.9.11"
  },
  "orig_nbformat": 4
 },
 "nbformat": 4,
 "nbformat_minor": 2
}
