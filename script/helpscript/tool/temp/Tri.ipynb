{
 "cells": [
  {
   "cell_type": "markdown",
   "metadata": {},
   "source": [
    "# 基于DEM数据计算TRI"
   ]
  },
  {
   "cell_type": "code",
   "execution_count": 1,
   "metadata": {},
   "outputs": [],
   "source": [
    "import arcpy\n",
    "import numpy as np\n",
    "from scipy.ndimage import convolve\n"
   ]
  },
  {
   "cell_type": "code",
   "execution_count": 2,
   "metadata": {},
   "outputs": [],
   "source": [
    "\n",
    "# 设置工作环境和输入数据路径\n",
    "arcpy.env.workspace = r\"D:\\ArcgisData\\basedata\\basetrain_5m.gdb\"\n",
    "\n",
    "# 载入DEM数据\n",
    "dem_raster = arcpy.Raster(\"DEM\")\n",
    "\n",
    "# 将DEM数据转为numpy数组\n",
    "dem_array = arcpy.RasterToNumPyArray(dem_raster)\n",
    "\n",
    "\n"
   ]
  },
  {
   "cell_type": "code",
   "execution_count": 4,
   "metadata": {},
   "outputs": [],
   "source": [
    "# 计算梯度\n",
    "gradient_x = np.gradient(dem_array, axis=1)\n",
    "gradient_y = np.gradient(dem_array, axis=0)\n",
    "gradient_magnitude = np.sqrt(gradient_x**2 + gradient_y**2)\n",
    "\n",
    "# 计算TRI指数\n",
    "tri_array = convolve(gradient_magnitude, [[1, 1, 1], [1, 0, 1], [1, 1, 1]])\n",
    "\n"
   ]
  },
  {
   "cell_type": "code",
   "execution_count": 6,
   "metadata": {},
   "outputs": [],
   "source": [
    "# 创建TRI栅格对象\n",
    "tri_raster = arcpy.NumPyArrayToRaster(tri_array, arcpy.Point(dem_raster.extent.XMin, dem_raster.extent.YMin),\n",
    "                                      dem_raster.meanCellWidth, dem_raster.meanCellHeight)"
   ]
  },
  {
   "cell_type": "code",
   "execution_count": 7,
   "metadata": {},
   "outputs": [],
   "source": [
    "\n",
    "# 保存计算结果\n",
    "tri_raster.save(\"TRI\")"
   ]
  }
 ],
 "metadata": {
  "kernelspec": {
   "display_name": "Python 3",
   "language": "python",
   "name": "python3"
  },
  "language_info": {
   "codemirror_mode": {
    "name": "ipython",
    "version": 3
   },
   "file_extension": ".py",
   "mimetype": "text/x-python",
   "name": "python",
   "nbconvert_exporter": "python",
   "pygments_lexer": "ipython3",
   "version": "3.9.11"
  },
  "orig_nbformat": 4
 },
 "nbformat": 4,
 "nbformat_minor": 2
}
