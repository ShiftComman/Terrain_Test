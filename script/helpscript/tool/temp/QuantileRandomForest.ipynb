{
 "cells": [
  {
   "cell_type": "markdown",
   "metadata": {},
   "source": [
    "# 分数位随机森林"
   ]
  },
  {
   "cell_type": "code",
   "execution_count": 12,
   "metadata": {},
   "outputs": [],
   "source": [
    "# 分数位随机森林\n",
    "import numpy as np\n",
    "import pandas as pd\n",
    "from sklearn.ensemble import RandomForestRegressor, GradientBoostingRegressor\n",
    "from sklearn.preprocessing import LabelEncoder,StandardScaler\n",
    "from sklearn.model_selection import train_test_split\n",
    "from sklearn.metrics import mean_squared_error, r2_score\n",
    "import statsmodels.api as sm"
   ]
  },
  {
   "cell_type": "code",
   "execution_count": 5,
   "metadata": {},
   "outputs": [
    {
     "data": {
      "text/html": [
       "<div>\n",
       "<style scoped>\n",
       "    .dataframe tbody tr th:only-of-type {\n",
       "        vertical-align: middle;\n",
       "    }\n",
       "\n",
       "    .dataframe tbody tr th {\n",
       "        vertical-align: top;\n",
       "    }\n",
       "\n",
       "    .dataframe thead th {\n",
       "        text-align: right;\n",
       "    }\n",
       "</style>\n",
       "<table border=\"1\" class=\"dataframe\">\n",
       "  <thead>\n",
       "    <tr style=\"text-align: right;\">\n",
       "      <th></th>\n",
       "      <th>Unnamed: 0</th>\n",
       "      <th>X</th>\n",
       "      <th>Y</th>\n",
       "      <th>pre</th>\n",
       "      <th>tmp</th>\n",
       "      <th>asp</th>\n",
       "      <th>slope</th>\n",
       "      <th>dem</th>\n",
       "      <th>dl</th>\n",
       "      <th>PH</th>\n",
       "    </tr>\n",
       "  </thead>\n",
       "  <tbody>\n",
       "    <tr>\n",
       "      <th>3593</th>\n",
       "      <td>3595</td>\n",
       "      <td>107.120082</td>\n",
       "      <td>28.358279</td>\n",
       "      <td>840.25</td>\n",
       "      <td>157.416672</td>\n",
       "      <td>233.249374</td>\n",
       "      <td>43.860817</td>\n",
       "      <td>922.0</td>\n",
       "      <td>旱地</td>\n",
       "      <td>5.1</td>\n",
       "    </tr>\n",
       "  </tbody>\n",
       "</table>\n",
       "</div>"
      ],
      "text/plain": [
       "      Unnamed: 0           X          Y     pre         tmp         asp  \\\n",
       "3593        3595  107.120082  28.358279  840.25  157.416672  233.249374   \n",
       "\n",
       "          slope    dem  dl   PH  \n",
       "3593  43.860817  922.0  旱地  5.1  "
      ]
     },
     "execution_count": 5,
     "metadata": {},
     "output_type": "execute_result"
    }
   ],
   "source": [
    "# 加载数据\n",
    "data = pd.read_csv('../../datafile/SY_POINT_MERGES.csv')\n",
    "data.rename(columns={\"pre_2022_mean_Band_1\":\"pre\",\"tmp_2022_mean_Band_1\":\"tmp\",\"SY_ASP_5_Band_1\":\"asp\",\"SY_SLOP_5_Band_1\":\"slope\",\"SY_DEM_5_Band_1\":\"dem\",\"DLMC\":\"dl\"},inplace=True)\n",
    "data.sample(1)"
   ]
  },
  {
   "cell_type": "code",
   "execution_count": 9,
   "metadata": {},
   "outputs": [
    {
     "data": {
      "text/plain": [
       "Unnamed: 0    0\n",
       "X             0\n",
       "Y             0\n",
       "pre           0\n",
       "tmp           0\n",
       "asp           0\n",
       "slope         0\n",
       "dem           0\n",
       "dl            0\n",
       "PH            0\n",
       "dtype: int64"
      ]
     },
     "execution_count": 9,
     "metadata": {},
     "output_type": "execute_result"
    }
   ],
   "source": [
    "# 删除有缺失值的行\n",
    "data.dropna(inplace=True)\n",
    "missing_values = data.isnull().sum()\n",
    "missing_values"
   ]
  },
  {
   "cell_type": "code",
   "execution_count": 18,
   "metadata": {},
   "outputs": [],
   "source": [
    "# 假设您已经有一个包含特征和目标变量（pH值）的数据集\n",
    "# 提取特征和目标变量\n",
    "le =LabelEncoder()\n",
    "data['dl'] = le.fit_transform(data['dl'])\n",
    "\n",
    "\n",
    "\n"
   ]
  },
  {
   "cell_type": "code",
   "execution_count": 26,
   "metadata": {},
   "outputs": [],
   "source": [
    "def get_result(data,n_tree,max_depth,random_state,min_samples_leaf):\n",
    "    X = data[['pre','tmp','asp','slope','dem','dl']]\n",
    "\n",
    "    y = data['PH']\n",
    "\n",
    "    # 分割数据集为训练集和测试集\n",
    "    X_train, X_test, y_train, y_test = train_test_split(X, y, test_size=0.3, random_state=42)\n",
    "    # 创建并训练QRF模型\n",
    "    # 可以根据需要调整QRF的参数，例如：n_estimators（树的数量）、max_depth（树的最大深度）等\n",
    "    qrf_model = GradientBoostingRegressor(loss='quantile', alpha=0.95, n_estimators=n_tree, max_depth=max_depth, random_state=random_state,min_samples_leaf=min_samples_leaf)\n",
    "    qrf_model.fit(X_train, y_train)\n",
    "\n",
    "    # 添加常数项（截距）\n",
    "    X_train = sm.add_constant(X_train)\n",
    "    X_test = sm.add_constant(X_test)\n",
    "\n",
    "    # 创建并拟合分位数回归模型\n",
    "    # 这里我们分别获取分位数为0.05和0.95的回归结果\n",
    "    qrf_model_lower = sm.QuantReg(y_train, X_train).fit(q=0.05)\n",
    "    qrf_model_upper = sm.QuantReg(y_train, X_train).fit(q=0.95)\n",
    "\n",
    "    # 使用测试集进行预测\n",
    "    y_pred_lower = qrf_model_lower.predict(X_test)\n",
    "    y_pred_upper = qrf_model_upper.predict(X_test)\n",
    "\n",
    "    # 使用0.5分位数来作为中位数预测\n",
    "    y_pred_median = sm.QuantReg(y_train, X_train).fit(q=0.5).predict(X_test)\n",
    "\n",
    "    # 评估模型性能\n",
    "    mse = mean_squared_error(y_test, y_pred_median)\n",
    "    r2 = r2_score(y_test, y_pred_median)\n",
    "\n",
    "    # 评估测试集中的新能\n",
    "    return mse,r2"
   ]
  },
  {
   "cell_type": "code",
   "execution_count": 27,
   "metadata": {},
   "outputs": [
    {
     "ename": "TypeError",
     "evalue": "'list' object is not callable",
     "output_type": "error",
     "traceback": [
      "\u001b[0;31m---------------------------------------------------------------------------\u001b[0m",
      "\u001b[0;31mTypeError\u001b[0m                                 Traceback (most recent call last)",
      "Cell \u001b[0;32mIn[27], line 4\u001b[0m\n\u001b[1;32m      2\u001b[0m \u001b[39m# 得到最好的参数\u001b[39;00m\n\u001b[1;32m      3\u001b[0m \u001b[39mfor\u001b[39;00m tree_value \u001b[39min\u001b[39;00m \u001b[39mrange\u001b[39m(\u001b[39m100\u001b[39m, \u001b[39m900\u001b[39m):\n\u001b[0;32m----> 4\u001b[0m     r2 \u001b[39m=\u001b[39m get_result(data,tree_value,\u001b[39m5\u001b[39;49m,\u001b[39m42\u001b[39;49m,\u001b[39m5\u001b[39;49m)\n\u001b[1;32m      5\u001b[0m     \u001b[39mprint\u001b[39m(tree_value,r2)\n",
      "Cell \u001b[0;32mIn[26], line 31\u001b[0m, in \u001b[0;36mget_result\u001b[0;34m(data, n_tree, max_depth, random_state, min_samples_leaf)\u001b[0m\n\u001b[1;32m     29\u001b[0m \u001b[39m# 评估模型性能\u001b[39;00m\n\u001b[1;32m     30\u001b[0m mse \u001b[39m=\u001b[39m mean_squared_error(y_test, y_pred_median)\n\u001b[0;32m---> 31\u001b[0m r2 \u001b[39m=\u001b[39m r2_score(y_test, y_pred_median)\n\u001b[1;32m     33\u001b[0m \u001b[39m# 评估测试集中的新能\u001b[39;00m\n\u001b[1;32m     34\u001b[0m \u001b[39mreturn\u001b[39;00m r2\n",
      "\u001b[0;31mTypeError\u001b[0m: 'list' object is not callable"
     ]
    }
   ],
   "source": [
    "r2_scores = []\n",
    "# 得到最好的参数\n",
    "for tree_value in range(100, 900):\n",
    "    r2 = get_result(data,tree_value,5,42,5)\n",
    "    r2_scores.append(r2)"
   ]
  }
 ],
 "metadata": {
  "kernelspec": {
   "display_name": "Python 3",
   "language": "python",
   "name": "python3"
  },
  "language_info": {
   "codemirror_mode": {
    "name": "ipython",
    "version": 3
   },
   "file_extension": ".py",
   "mimetype": "text/x-python",
   "name": "python",
   "nbconvert_exporter": "python",
   "pygments_lexer": "ipython3",
   "version": "3.8.10"
  },
  "orig_nbformat": 4
 },
 "nbformat": 4,
 "nbformat_minor": 2
}
