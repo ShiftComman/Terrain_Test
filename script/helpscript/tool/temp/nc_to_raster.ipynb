{
 "cells": [
  {
   "cell_type": "markdown",
   "metadata": {},
   "source": [
    "# nc文件转栅格"
   ]
  },
  {
   "cell_type": "code",
   "execution_count": 1,
   "metadata": {},
   "outputs": [],
   "source": [
    "import arcpy\n",
    "from arcpy import env\n",
    "from arcpy.da import *\n",
    "from arcpy.conversion import *\n",
    "from arcpy.sa import *\n",
    "from arcpy.md import *\n",
    "import os\n"
   ]
  },
  {
   "cell_type": "code",
   "execution_count": 2,
   "metadata": {},
   "outputs": [],
   "source": [
    "# 设置工作环境\n",
    "env.workspace = r'F:\\ArcgisData\\特征因子数据\\climate.gdb'"
   ]
  },
  {
   "cell_type": "code",
   "execution_count": 4,
   "metadata": {},
   "outputs": [],
   "source": [
    "# nc转栅格图层\n",
    "def nc_to_layer(nc_path,variable_,layer_name,dimen):\n",
    "    \"\"\"nc_paht:nc文件路径,variable_:变量字段名,layer_name:图层名称,dimen:维度字段名\"\"\"\n",
    "    temp_layer = MakeNetCDFRasterLayer(nc_path,variable_,\"lon\",\"lat\",layer_name,dimen,None,\"BY_VALUE\",\"CENTER\")\n",
    "    arcpy.CopyRaster_management(temp_layer,layer_name)\n",
    "    # # 创建目标空间参考对象，使用WKID指定\n",
    "    # target_sr = arcpy.SpatialReference(4490)\n",
    "    # # 设置栅格数据的空间参考\n",
    "    # arcpy.DefineProjection_management(layer_name, target_sr)\n",
    "    return None\n",
    "\n",
    "\n",
    "# 像元统计"
   ]
  },
  {
   "cell_type": "code",
   "execution_count": 10,
   "metadata": {},
   "outputs": [],
   "source": [
    "# nc 文件存放目录\n",
    "nc_2022 = r\"F:\\ArcgisData\\特征因子数据\\pet_2022.nc\\pet_2022.nc\""
   ]
  },
  {
   "cell_type": "code",
   "execution_count": 11,
   "metadata": {},
   "outputs": [],
   "source": [
    "nc_to_layer(nc_2022,\"etp\",\"ETP2022\",\"time\")"
   ]
  }
 ],
 "metadata": {
  "kernelspec": {
   "display_name": "Python 3",
   "language": "python",
   "name": "python3"
  },
  "language_info": {
   "codemirror_mode": {
    "name": "ipython",
    "version": 3
   },
   "file_extension": ".py",
   "mimetype": "text/x-python",
   "name": "python",
   "nbconvert_exporter": "python",
   "pygments_lexer": "ipython3",
   "version": "3.9.11"
  },
  "orig_nbformat": 4
 },
 "nbformat": 4,
 "nbformat_minor": 2
}
