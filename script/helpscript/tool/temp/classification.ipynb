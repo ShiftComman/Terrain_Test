{
 "cells": [
  {
   "cell_type": "markdown",
   "metadata": {},
   "source": [
    "# 坡位分类"
   ]
  },
  {
   "cell_type": "code",
   "execution_count": 1,
   "metadata": {},
   "outputs": [],
   "source": [
    "import arcpy\n",
    "from arcpy.sa import *\n",
    "from arcpy import env\n",
    "from arcpy.conversion import *\n",
    "from arcpy.management import *\n",
    "from arcpy.da import *\n",
    "import math"
   ]
  },
  {
   "cell_type": "code",
   "execution_count": 2,
   "metadata": {},
   "outputs": [],
   "source": [
    "# 分析函数\n",
    "\n",
    "# 取消并行处理\n",
    "def disable_parallel_processing(func):\n",
    "    def wrapper(*args, **kwargs):\n",
    "        with arcpy.EnvManager(parallelProcessingFactor=\"0\"):\n",
    "            return func(*args, **kwargs)\n",
    "    return wrapper\n",
    "\n",
    "# 填洼\n",
    "@disable_parallel_processing\n",
    "def fill_dem(dem_raster):\n",
    "    \"\"\"参数默认为最佳\"\"\"\n",
    "    fill_raster = Fill(dem_raster)\n",
    "    print(\"fill done!\")\n",
    "    return fill_raster\n",
    "# 流向\n",
    "@disable_parallel_processing\n",
    "def flowdir_dem(dem_raster,dir_index):\n",
    "    \"\"\"\"D8算法,dir_index{1:正常流动,0:强制外向流动}\"\"\"\n",
    "    if dir_index:\n",
    "        flowdir_raster = FlowDirection(dem_raster,\"NORMAL\",None,\"D8\")\n",
    "        return flowdir_raster\n",
    "    else:\n",
    "        flowdir_raster = FlowDirection(dem_raster,\"FORCE\", None, \"D8\")\n",
    "        return flowdir_raster\n",
    "# 流量\n",
    "@disable_parallel_processing\n",
    "def acc_dem(fd_raster):\n",
    "    \"\"\"输入流向类型D8\"\"\"\n",
    "    acc_raster = FlowAccumulation(fd_raster,None,\"FLOAT\",\"D8\")\n",
    "    return acc_raster\n",
    "\n",
    "# 基于焦点的正负地形\n",
    "def pos_neg_dem(dem_raster,focus_size,index_):\n",
    "    \"\"\"focus_size:统计焦点,Test:if:(true:1正),else:0负\"\"\"\n",
    "    if index_:\n",
    "        pos_raster = Test(dem_raster - FocalStatistics(dem_raster,NbrRectangle(focus_size,focus_size,\"CELL\"),\"MEAN\",\"DATA\"),\"value>0\")\n",
    "        return pos_raster\n",
    "    else:\n",
    "        neg_raster = Test(dem_raster - FocalStatistics(dem_raster,NbrRectangle(focus_size,focus_size,\"CELL\"),\"MEAN\",\"DATA\"),\"value<0\")\n",
    "        return neg_raster\n",
    "# 基于指定值的负地形\n",
    "def digital_dem(dem_raster,elevation_value):\n",
    "    \"\"\"基于指定值于DEM作差得出的栅格\"\"\"\n",
    "    return elevation_value-arcpy.Raster(dem_raster)\n",
    "# 坡度\n",
    "@disable_parallel_processing\n",
    "def get_slope(dem_raser):\n",
    "    \"\"\"取消并行处理\"\"\"\n",
    "    slope_raster = Slope(dem_raser,\"DEGREE\",1,\"PLANAR\",\"METER\")\n",
    "    return slope_raster\n",
    "# 坡向\n",
    "@disable_parallel_processing\n",
    "def get_asp(dem_raster):\n",
    "    \"\"\"取消并行处理\"\"\"\n",
    "    asp_raster = Aspect(dem_raster,\"PLANAR\", \"METER\", \"GEODESIC_AZIMUTHS\")\n",
    "    return asp_raster\n",
    "# 计算曲率\n",
    "@disable_parallel_processing\n",
    "def get_cur(dem_raster,count):\n",
    "    \"\"\"count:{0:曲率,1:[剖面曲率,平面曲率]}\"\"\"\n",
    "    if count:\n",
    "        asp_raster = Curvature(dem_raster,1,\"profile_curve\",\"plan_curve\")\n",
    "        return asp_raster\n",
    "    else:\n",
    "        asp_raster = Curvature(dem_raster,1,None,None)\n",
    "        return asp_raster\n",
    "    \n",
    "\n"
   ]
  },
  {
   "cell_type": "code",
   "execution_count": 3,
   "metadata": {},
   "outputs": [],
   "source": [
    "# 转换计算分析\n",
    "\n",
    "# raster to polygon\n",
    "def raster_to_polygon(raster,out_name):\n",
    "    \"\"\"raster to polygon ! Reduced surface!!!\"\"\"\n",
    "    RasterToPolygon(raster, out_name, \"NO_SIMPLIFY\", \"Value\", \"SINGLE_OUTER_PART\", None)\n",
    "    return None\n",
    "\n",
    "# 得到多边形最小边界园直径\n",
    "def calc_diameter(feature_file):\n",
    "    # 默认字段名字为Diameter\n",
    "    diameter_field = \"Diameter\"\n",
    "    # 创建一个新的字段来存储直径值\n",
    "    AddField(feature_file, diameter_field, \"DOUBLE\")\n",
    "    # 使用游标遍历要素类中的要素，并计算小边界几何的直径\n",
    "    with arcpy.da.UpdateCursor(feature_file, [\"SHAPE@\", diameter_field]) as cursor:\n",
    "        for row in cursor:\n",
    "            geometry = row[0]\n",
    "            extent = geometry.extent\n",
    "            diameter = math.sqrt(math.pow(extent.width,2)+math.pow(extent.height,2))\n",
    "            row[1] = diameter\n",
    "            cursor.updateRow(row)\n",
    "# 消除多于面\n",
    "def eli_polygon(element,out_name,min_area,min_length):\n",
    "    \"\"\"按条件消除面部件\"\"\"\n",
    "    expression = f\"Shape_Area <= {min_area} And Diameter <= {min_length}\"\n",
    "    temp_layer = MakeFeatureLayer(element)\n",
    "    SelectLayerByAttribute(temp_layer,\"NEW_SELECTION\",expression)\n",
    "    Eliminate(temp_layer,out_name,\"LENGTH\")\n",
    "    return None\n",
    "    \n",
    "# 面转栅格\n",
    "\n",
    "def polygon_to_raster(element,out_name,pixel_re):\n",
    "    \"\"\"pixel_re:像元参考,默认值字段为gridcode\"\"\"\n",
    "    PolygonToRaster(element,\"gridcode\",out_name,\"CELL_CENTER\",\"NONE\",pixel_re,\"BUILD\")\n",
    "    return None\n",
    "\n",
    "# 栅格合并\n",
    "def calc_raster(raster_a,raster_b,method):\n",
    "    \"\"\"1:以raster_a为优先合并A和B两个栅格,0:以raster_a为优先合并A和B两个栅格,但不新增值\"\"\"\n",
    "    # method 1\n",
    "    raster_a = arcpy.Raster(raster_a)\n",
    "    raster_b = arcpy.Raster(raster_b)\n",
    "    if method:\n",
    "        result_raster = Con(raster_a>0,raster_a,Con((raster_a>0)&(raster_b>0),7,raster_b))\n",
    "        return result_raster\n",
    "    # method 0\n",
    "    else:\n",
    "        result_raster = Con(raster_a>0,raster_a,raster_b)\n",
    "        return result_raster"
   ]
  },
  {
   "cell_type": "code",
   "execution_count": 4,
   "metadata": {},
   "outputs": [],
   "source": [
    "# 获取栅格数据窗口内的相对高程位置\n",
    "def calc_dem_raster(dem_raster, focus_size):\n",
    "    min_raster = FocalStatistics(\n",
    "        dem_raster, NbrRectangle(focus_size, focus_size, \"CELL\"), \"MINIMUM\", \"DATA\"\n",
    "    )\n",
    "    max_raster = FocalStatistics(\n",
    "        dem_raster, NbrRectangle(focus_size, focus_size, \"CELL\"), \"MAXIMUM\", \"DATA\"\n",
    "    )\n",
    "    mood_raster = max_raster - min_raster\n",
    "    meet_raster = dem_raster - min_raster\n",
    "    result_raster = Con(\n",
    "        (((meet_raster / mood_raster) <= 0.25) | (mood_raster <= 0)),\n",
    "        2,\n",
    "        Con(\n",
    "            (\n",
    "                ((meet_raster / mood_raster) > 0.25)\n",
    "                & ((meet_raster / mood_raster) <= 0.5)\n",
    "            ),\n",
    "            3,\n",
    "            Con(\n",
    "                (\n",
    "                    ((meet_raster / mood_raster) > 0.5)\n",
    "                    & ((meet_raster / mood_raster) <= 0.85)\n",
    "                ),\n",
    "                4,\n",
    "                5,\n",
    "            ),\n",
    "        ),\n",
    "    )\n",
    "    return result_raster"
   ]
  },
  {
   "cell_type": "code",
   "execution_count": 5,
   "metadata": {},
   "outputs": [],
   "source": [
    "# 山谷山脊线\n",
    "def get_line(dem_raster,high_value,fcous_size,angle):\n",
    "    with arcpy.EnvManager(parallelProcessingFactor=\"0\"):\n",
    "        print(\"计算坡向坡度\")\n",
    "        z_asp = get_asp(dem_raster)\n",
    "        z_slope = get_slope(z_asp)\n",
    "        print(\"计算反地形\")\n",
    "        # fdx = RasterCalculator(\"fdx\", f\"3090 - {dem}\")\n",
    "        fdx = digital_dem(dem_raster,high_value)\n",
    "        print(\"计算负地形坡向坡度\")\n",
    "        f_asp = get_asp(fdx)\n",
    "        f_slope = get_slope(f_asp)\n",
    "        print(\"计算坡度变化率\")\n",
    "        pd_rg = ((z_slope + f_slope) - Abs(z_slope - f_slope)) / 2\n",
    "\n",
    "        print(\"焦点统计\")\n",
    "        mean_dem = FocalStatistics(dem_raster, NbrRectangle(fcous_size, fcous_size, \"CELL\"), \"MEAN\", \"DATA\")\n",
    "        print(\"得到正负地形\")\n",
    "\n",
    "        zf_dem = dem_raster - mean_dem\n",
    "        print(\"得到山脊线\")\n",
    "        sj_raster = Con((zf_dem > 0) & (pd_rg > angle), 6, 0)\n",
    "\n",
    "        sg_raster = Con((zf_dem < 0) & (pd_rg > angle), 1, 0)\n",
    "\n",
    "        return sj_raster, sg_raster\n"
   ]
  },
  {
   "cell_type": "code",
   "execution_count": 6,
   "metadata": {},
   "outputs": [],
   "source": [
    "# 设定工作环境\n",
    "env.workspace=r\"D:\\ArcgisData\\pred_soildeep\\pre_database\\pred_soildeep_gz.gdb\"\n",
    "dem_file_path  = \"DEM\""
   ]
  },
  {
   "cell_type": "code",
   "execution_count": 7,
   "metadata": {},
   "outputs": [
    {
     "name": "stdout",
     "output_type": "stream",
     "text": [
      "计算坡向坡度\n",
      "计算反地形\n",
      "计算负地形坡向坡度\n",
      "计算坡度变化率\n",
      "焦点统计\n",
      "得到正负地形\n",
      "得到山脊线\n"
     ]
    }
   ],
   "source": [
    "# 获取山脊山谷线\n",
    "result_line = get_line(dem_file_path,4090,5,60)  # default 3090,3,70\n",
    "result_line[0].save(\"SY_RIDGE_LINE\")\n",
    "result_line[1].save(\"SY_VALLEY_LINE\")"
   ]
  },
  {
   "cell_type": "code",
   "execution_count": null,
   "metadata": {},
   "outputs": [],
   "source": [
    "# 转面\n",
    "raster_to_polygon(\"SY_RIDGE_LINE\",\"SY_RIDGE_LINE_POLYGON\")\n",
    "raster_to_polygon(\"SY_VALLEY_LINE\",\"SY_VALLEY_LINE_POLYGON\")\n"
   ]
  },
  {
   "cell_type": "code",
   "execution_count": null,
   "metadata": {},
   "outputs": [],
   "source": [
    "# 计算直径\n",
    "calc_diameter(\"SY_RIDGE_LINE_POLYGON\")\n",
    "calc_diameter(\"SY_VALLEY_LINE_POLYGON\")"
   ]
  },
  {
   "cell_type": "code",
   "execution_count": null,
   "metadata": {},
   "outputs": [],
   "source": [
    "# 消除\n",
    "eli_polygon(\"SY_RIDGE_LINE_POLYGON\",\"SY_RIDGE_LINE_POLYGON_2000\",2000,100)\n",
    "eli_polygon(\"SY_VALLEY_LINE_POLYGON\",\"SY_VALLEY_LINE_POLYGON_2000\",2000,100)"
   ]
  },
  {
   "cell_type": "code",
   "execution_count": null,
   "metadata": {},
   "outputs": [],
   "source": [
    "# 面转栅格\n",
    "polygon_to_raster(\"SY_RIDGE_LINE_POLYGON_2000\",\"SY_RIDGE_LINE_POLYGON_2000_RASTER\",\"SY_DEM_5_DT_3\")\n",
    "polygon_to_raster(\"SY_VALLEY_LINE_POLYGON_2000\",\"SY_VALLEY_LINE_POLYGON_2000_TASTER\",\"SY_DEM_5_DT_3\")"
   ]
  },
  {
   "cell_type": "code",
   "execution_count": null,
   "metadata": {},
   "outputs": [],
   "source": [
    "#山脊和山谷栅格合并\n",
    "calc_raster(\"SY_RIDGE_LINE_POLYGON_2000_RASTER\",\"SY_VALLEY_LINE_POLYGON_2000_TASTER\",1).save(\"SY_VALLEY_LINE_POLYGON_2000_TASTER_MERGE_RV\")"
   ]
  },
  {
   "cell_type": "code",
   "execution_count": 8,
   "metadata": {},
   "outputs": [],
   "source": [
    "# 计算相对位置\n",
    "calc_dem_raster(dem_file_path,101).save(\"SY_DEM_RECLASS_101\")"
   ]
  },
  {
   "cell_type": "code",
   "execution_count": null,
   "metadata": {},
   "outputs": [],
   "source": [
    "# 栅格合并\n",
    "calc_raster(\"SY_VALLEY_LINE_POLYGON_2000_TASTER_MERGE_RV\",\"SY_DEM_RECLASS_101\",0).save(\"SY_RESULT\")"
   ]
  }
 ],
 "metadata": {
  "kernelspec": {
   "display_name": "Python 3",
   "language": "python",
   "name": "python3"
  },
  "language_info": {
   "codemirror_mode": {
    "name": "ipython",
    "version": 3
   },
   "file_extension": ".py",
   "mimetype": "text/x-python",
   "name": "python",
   "nbconvert_exporter": "python",
   "pygments_lexer": "ipython3",
   "version": "3.9.11"
  },
  "orig_nbformat": 4
 },
 "nbformat": 4,
 "nbformat_minor": 2
}
