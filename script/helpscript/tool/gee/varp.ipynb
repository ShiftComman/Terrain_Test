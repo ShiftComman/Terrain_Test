{
 "cells": [
  {
   "cell_type": "markdown",
   "metadata": {},
   "source": [
    "水气压（或水汽压）是指空气中水蒸气的分压力。"
   ]
  },
  {
   "cell_type": "code",
   "execution_count": null,
   "metadata": {},
   "outputs": [],
   "source": [
    "import ee\n",
    "import geemap\n",
    "import os\n",
    "import math\n",
    "import geopandas as gpd\n",
    "\n",
    "# 初始化 Earth Engine\n",
    "ee.Initialize()"
   ]
  },
  {
   "cell_type": "code",
   "execution_count": null,
   "metadata": {},
   "outputs": [],
   "source": [
    "# 读取本地Shapefile 得到处理区域\n",
    "shapefile_path = r\"F:\\ArcgisData\\shp_polygon\\SB500.shp\"\n",
    "gdf = gpd.read_file(shapefile_path)\n",
    "\n",
    "\n",
    "bounds = gdf['geometry'][0].bounds\n",
    "bbox = {\n",
    "    'MinX': bounds[0],\n",
    "    'MinY': bounds[1],\n",
    "    'MaxX': bounds[2],\n",
    "    'MaxY': bounds[3]\n",
    "}\n",
    "\n",
    "# 获取第一个几何对象\n",
    "geometry = gdf.geometry.iloc[0]\n",
    "# 2. 将 Earth Engine 几何对象转换为 Feature 对象\n",
    "ee_geometry = ee.Geometry(geometry.__geo_interface__)\n",
    "# 3. 将 Earth Engine 几何对象转换为 Feature 对象\n",
    "feature = ee.Feature(ee_geometry)\n",
    "\n",
    "# 4. 将 Feature 对象放入 FeatureCollection 中\n",
    "feature_collection = ee.FeatureCollection([feature])\n",
    "\n",
    "# 获取 FeatureCollection 的边界几何对象\n",
    "bounded_geometry = feature_collection.geometry().bounds()\n",
    "# 矢量边框\n",
    "vector_layer = ee.FeatureCollection([ee.Feature(ee_geometry)])\n",
    "\n",
    "# 定义要下载的图像的参数\n",
    "area_of_interest =ee.Geometry.Rectangle([bbox['MinX'], bbox['MinY'], bbox['MaxX'], bbox['MaxY']])  # 请替换经度和纬度"
   ]
  },
  {
   "cell_type": "code",
   "execution_count": null,
   "metadata": {},
   "outputs": [],
   "source": [
    "\n",
    "\n",
    "# 定义区域\n",
    "region = area_of_interest\n",
    "\n",
    "# 获取 ERA5 气温数据集\n",
    "# temperature = ee.ImageCollection('ECMWF/ERA5/DAILY')\n",
    "temperature = ee.ImageCollection('ECMWF/ERA5_LAND/DAILY_AGGR')\n",
    "temp2m = temperature.select('dewpoint_temperature_2m')\n",
    "\n",
    "# 获取全年每日的最高和最低气温\n",
    "max_temp = temp2m.filter(ee.Filter.calendarRange(1, 12, 'month')).max()\n",
    "min_temp = temp2m.filter(ee.Filter.calendarRange(1, 12, 'month')).min()\n",
    "\n",
    "# 计算年温差\n",
    "annual_temp_range = max_temp.subtract(min_temp)\n",
    "\n",
    "# 获取 ERA5 湿度数据集\n",
    "humidity = temperature.select('dewpoint_temperature_2m')\n",
    "\n",
    "# 计算水气压\n",
    "def compute_vapor_pressure(image):\n",
    "    temp = image.select('dewpoint_temperature_2m')\n",
    "    dewpoint = image.select('dewpoint_temperature_2m')\n",
    "    e_s = temp.expression('6.112 * exp((17.67 * temp) / (temp + 243.5))', {'temp': temp.subtract(273.15)})\n",
    "    e = dewpoint.expression('RH / 100 * e_s', {'RH': dewpoint, 'e_s': e_s})\n",
    "    return e.rename('vapor_pressure')\n",
    "\n",
    "vapor_pressure = temperature.map(compute_vapor_pressure).mean()\n",
    "\n",
    "# 可视化参数\n",
    "visualization_temp_range = {'min': 0, 'max': 40, 'palette': ['blue', 'green', 'red']}\n",
    "visualization_vapor_pressure = {'min': 0, 'max': 40, 'palette': ['blue', 'green', 'red']}\n",
    "\n",
    "# 创建地图对象并添加图层\n",
    "m = geemap.Map()\n",
    "m.addLayer(annual_temp_range, visualization_temp_range, 'Annual Temperature Range')\n",
    "m.addLayer(vapor_pressure, visualization_vapor_pressure, 'Vapor Pressure')\n",
    "m.addLayerControl()\n",
    "# 显示地图\n",
    "m\n"
   ]
  }
 ],
 "metadata": {
  "kernelspec": {
   "display_name": ".venvgis",
   "language": "python",
   "name": "python3"
  },
  "language_info": {
   "codemirror_mode": {
    "name": "ipython",
    "version": 3
   },
   "file_extension": ".py",
   "mimetype": "text/x-python",
   "name": "python",
   "nbconvert_exporter": "python",
   "pygments_lexer": "ipython3",
   "version": "3.10.11"
  }
 },
 "nbformat": 4,
 "nbformat_minor": 2
}
