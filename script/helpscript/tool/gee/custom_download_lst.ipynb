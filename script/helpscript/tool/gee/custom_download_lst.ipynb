{
 "cells": [
  {
   "cell_type": "code",
   "execution_count": 1,
   "metadata": {},
   "outputs": [],
   "source": [
    "import ee\n",
    "import geemap\n",
    "import os\n",
    "import math\n",
    "import geopandas as gpd\n",
    "# 用户验证\n",
    "# ee.Authenticate()\n",
    "# 初始化Google Earth Engine\n",
    "ee.Initialize()"
   ]
  },
  {
   "cell_type": "code",
   "execution_count": 2,
   "metadata": {},
   "outputs": [
    {
     "data": {
      "text/html": [
       "\n",
       "            <style>\n",
       "                .geemap-dark {\n",
       "                    --jp-widgets-color: white;\n",
       "                    --jp-widgets-label-color: white;\n",
       "                    --jp-ui-font-color1: white;\n",
       "                    --jp-layout-color2: #454545;\n",
       "                    background-color: #383838;\n",
       "                }\n",
       "                    \n",
       "                .geemap-dark .jupyter-button {\n",
       "                    --jp-layout-color3: #383838;\n",
       "                }\n",
       "                \n",
       "                .geemap-colab {\n",
       "                    background-color: var(--colab-primary-surface-color, white);\n",
       "                }\n",
       "                    \n",
       "                .geemap-colab .jupyter-button {\n",
       "                    --jp-layout-color3: var(--colab-primary-surface-color, white);\n",
       "                }\n",
       "            </style>\n",
       "            "
      ],
      "text/plain": [
       "<IPython.core.display.HTML object>"
      ]
     },
     "metadata": {},
     "output_type": "display_data"
    }
   ],
   "source": [
    "# 切分区域\n",
    "def split_region(region, col_size, row_size):\n",
    "    bounds = region.getInfo()['coordinates'][0]\n",
    "    original_minx, original_miny = bounds[0]\n",
    "    original_maxx, original_maxy = bounds[2]\n",
    "    \n",
    "    x_len = original_maxx - original_minx\n",
    "    y_len = original_maxy - original_miny\n",
    "    \n",
    "    # 向上取整\n",
    "    cols = math.ceil(x_len / col_size)\n",
    "    rows = math.ceil(y_len / row_size)\n",
    "    \n",
    "    rectangles = []\n",
    "    for i in range(cols):\n",
    "        current_minx = original_minx + i * col_size\n",
    "        current_maxx = current_minx + col_size\n",
    "        if current_maxx > original_maxx:\n",
    "            current_maxx = original_maxx\n",
    "        for j in range(rows):\n",
    "            current_miny = original_miny + j * row_size\n",
    "            current_maxy = current_miny + row_size\n",
    "            if current_maxy > original_maxy:\n",
    "                current_maxy = original_maxy\n",
    "            rect = ee.Geometry.Rectangle([current_minx, current_miny, current_maxx, current_maxy])\n",
    "            rectangles.append(rect)\n",
    "    return rectangles"
   ]
  },
  {
   "cell_type": "code",
   "execution_count": 27,
   "metadata": {},
   "outputs": [
    {
     "data": {
      "text/html": [
       "\n",
       "            <style>\n",
       "                .geemap-dark {\n",
       "                    --jp-widgets-color: white;\n",
       "                    --jp-widgets-label-color: white;\n",
       "                    --jp-ui-font-color1: white;\n",
       "                    --jp-layout-color2: #454545;\n",
       "                    background-color: #383838;\n",
       "                }\n",
       "                    \n",
       "                .geemap-dark .jupyter-button {\n",
       "                    --jp-layout-color3: #383838;\n",
       "                }\n",
       "                \n",
       "                .geemap-colab {\n",
       "                    background-color: var(--colab-primary-surface-color, white);\n",
       "                }\n",
       "                    \n",
       "                .geemap-colab .jupyter-button {\n",
       "                    --jp-layout-color3: var(--colab-primary-surface-color, white);\n",
       "                }\n",
       "            </style>\n",
       "            "
      ],
      "text/plain": [
       "<IPython.core.display.HTML object>"
      ]
     },
     "metadata": {},
     "output_type": "display_data"
    }
   ],
   "source": [
    "# 读取本地Shapefile 得到处理区域\n",
    "shapefile_path = r\"F:\\ArcgisData\\shp_polygon\\KY500.shp\"\n",
    "gdf = gpd.read_file(shapefile_path)\n",
    "\n",
    "\n",
    "bounds = gdf['geometry'][0].bounds\n",
    "bbox = {\n",
    "    'MinX': bounds[0],\n",
    "    'MinY': bounds[1],\n",
    "    'MaxX': bounds[2],\n",
    "    'MaxY': bounds[3]\n",
    "}\n",
    "\n",
    "# 获取第一个几何对象\n",
    "geometry = gdf.geometry.iloc[0]\n",
    "# 2. 将 Earth Engine 几何对象转换为 Feature 对象\n",
    "ee_geometry = ee.Geometry(geometry.__geo_interface__)\n",
    "# 3. 将 Earth Engine 几何对象转换为 Feature 对象\n",
    "feature = ee.Feature(ee_geometry)\n",
    "\n",
    "# 4. 将 Feature 对象放入 FeatureCollection 中\n",
    "feature_collection = ee.FeatureCollection([feature])\n",
    "\n",
    "# 获取 FeatureCollection 的边界几何对象\n",
    "bounded_geometry = feature_collection.geometry().bounds()\n"
   ]
  },
  {
   "cell_type": "code",
   "execution_count": null,
   "metadata": {},
   "outputs": [],
   "source": [
    "\n",
    "\n",
    "# 读取本地Shapefile得到处理区域\n",
    "shapefile_path = r\"F:\\ArcgisData\\shp_polygon\\DY500.shp\"\n",
    "gdf = gpd.read_file(shapefile_path)\n",
    "\n",
    "# 获取第一个几何对象\n",
    "geometry = gdf.geometry.iloc[0]\n",
    "\n",
    "# 将 GeoPandas 几何对象转换为 Earth Engine 几何对象\n",
    "ee_geometry = geemap.geopandas_to_ee(gdf, geodesic=False)\n",
    "\n",
    "# 获取 FeatureCollection 的边界几何对象\n",
    "bounded_geometry = ee_geometry.geometry().bounds()\n",
    "\n",
    "# 定义时间范围和地区\n",
    "start_date = '2020-02-01'\n",
    "end_date = '2022-03-31'\n",
    "\n",
    "# 筛选Landsat数据集\n",
    "# dataset = ee.ImageCollection('LANDSAT/LC09/C02/T2_L2') \\\n",
    "#             .filterDate(start_date, end_date) \\\n",
    "#             .filterBounds(bounded_geometry)\n",
    "dataset = ee.ImageCollection('LANDSAT/LC09/C02/T2_L2')\n",
    "\n",
    "# 应用缩放因子并计算地表温度\n",
    "def apply_scale_factors(image):\n",
    "    # 计算地表温度，这里使用ST_B10波段\n",
    "    temperature = image.select('ST_B10').multiply(0.00341802).add(149.0).rename('Temperature')\n",
    "    return image.addBands(temperature)\n",
    "\n",
    "# 应用函数\n",
    "dataset = dataset.map(apply_scale_factors)\n",
    "\n",
    "# 设置地表温度的可视化参数\n",
    "visualization = {\n",
    "    'bands': ['Temperature'],\n",
    "    'min': 270,  # 设置最小值\n",
    "    'max': 310,  # 设置最大值\n",
    "    'palette': ['blue', 'green', 'red']  # 温度范围的颜色映射\n",
    "}\n",
    "\n",
    "# 可视化地表温度\n",
    "Map = geemap.Map()\n",
    "Map.centerObject(bounded_geometry, 8)  # 中心定位到区域\n",
    "Map.addLayer(dataset.mean(), visualization, 'Temperature')\n",
    "Map.addLayerControl()  # 添加图层控制\n",
    "Map  # 显示地图\n"
   ]
  },
  {
   "cell_type": "code",
   "execution_count": null,
   "metadata": {},
   "outputs": [],
   "source": []
  }
 ],
 "metadata": {
  "kernelspec": {
   "display_name": ".venvgis",
   "language": "python",
   "name": "python3"
  },
  "language_info": {
   "codemirror_mode": {
    "name": "ipython",
    "version": 3
   },
   "file_extension": ".py",
   "mimetype": "text/x-python",
   "name": "python",
   "nbconvert_exporter": "python",
   "pygments_lexer": "ipython3",
   "version": "3.10.11"
  }
 },
 "nbformat": 4,
 "nbformat_minor": 2
}
