{
 "cells": [
  {
   "cell_type": "markdown",
   "metadata": {},
   "source": [
    "# 使用Geemap采样区域和点位的数据"
   ]
  },
  {
   "cell_type": "code",
   "execution_count": 9,
   "metadata": {},
   "outputs": [],
   "source": [
    "import geopandas as gpd\n",
    "import ee\n",
    "import pandas as pd\n",
    "from datetime import datetime, timedelta\n",
    "# 统计降雨数据\n",
    "\n",
    "\n",
    "# 初始化Google Earth Engine\n",
    "ee.Initialize()"
   ]
  },
  {
   "cell_type": "code",
   "execution_count": null,
   "metadata": {},
   "outputs": [],
   "source": [
    "# 读取本地Shapefile\n",
    "shapefile_path = r\"C:\\Users\\Runker\\Desktop\\gdv\\qn.shp\"\n",
    "gdf = gpd.read_file(shapefile_path)\n",
    "\n",
    "# 选择作为键的字段名，例如 'ID'\n",
    "key_field1 = 'FXZQMC'\n",
    "key_field2 = 'TXZQMC'\n",
    "\n",
    "# 创建用于存储四至坐标的字典\n",
    "bboxes_dict = {}\n",
    "\n",
    "for _, row in gdf.iterrows():\n",
    "    # 获取键字段的值\n",
    "    key_value = row[key_field1]+row[key_field2]\n",
    "\n",
    "    # 获取四至坐标\n",
    "    bounds = row['geometry'].bounds\n",
    "    bbox = {\n",
    "        'MinX': bounds[0],\n",
    "        'MinY': bounds[1],\n",
    "        'MaxX': bounds[2],\n",
    "        'MaxY': bounds[3]\n",
    "    }\n",
    "\n",
    "    # 将四至坐标添加到字典中\n",
    "    bboxes_dict[key_value] = bbox\n",
    "\n",
    "# 打印字典\n",
    "for key, bbox in bboxes_dict.items():\n",
    "    print(f\"Key: {key}, Bounding Box: {bbox}\")\n"
   ]
  },
  {
   "cell_type": "code",
   "execution_count": null,
   "metadata": {},
   "outputs": [],
   "source": [
    "\n",
    "# 定义开始和结束日期\n",
    "today = datetime.now()\n",
    "end_date = today.replace(day=1) - timedelta(days=1) if today.day != 1 else today\n",
    "start_date = end_date - timedelta(days=3*365)  # 三年前\n",
    "\n",
    "# 修改后的计算月平均降水量函数\n",
    "def calculate_monthly_average(bbox, year, month):\n",
    "    start = datetime(year, month, 1)\n",
    "    end = datetime(year, month+1, 1) if month < 12 else datetime(year+1, 1, 1)\n",
    "    \n",
    "    # 创建ee.Geometry.Rectangle\n",
    "    geometry = ee.Geometry.Rectangle([bbox['MinX'], bbox['MinY'], bbox['MaxX'], bbox['MaxY']])\n",
    "    \n",
    "    # 加载IMERG降雨数据集\n",
    "    precipitations = ee.ImageCollection('NASA/GPM_L3/IMERG_V06') \\\n",
    "        .filterBounds(geometry) \\\n",
    "        .filterDate(start.strftime('%Y-%m-%d'), end.strftime('%Y-%m-%d')) \\\n",
    "        .select('precipitationCal')  # 选择降雨量估计波段\n",
    "\n",
    "    # 计算平均降雨量\n",
    "    mean_precipitation = precipitations.mean()\n",
    "\n",
    "    # 使用reduceRegion方法计算区域内的平均降雨量\n",
    "    mean_value = mean_precipitation.reduceRegion(\n",
    "        reducer=ee.Reducer.mean(),\n",
    "        geometry=geometry,\n",
    "        scale=20000  # 设置合适的比例尺\n",
    "    ).getInfo()\n",
    "\n",
    "    return mean_value.get('precipitationCal', None)\n",
    "\n",
    "# 创建一个空的DataFrame来存储结果\n",
    "df = pd.DataFrame()\n",
    "\n",
    "# 遍历bboxes_dict中的每个面要素\n",
    "for feature_id, bbox in bboxes_dict.items():\n",
    "    print(feature_id)\n",
    "    monthly_averages = {}\n",
    "    current_year = start_date.year\n",
    "    current_month = start_date.month\n",
    "\n",
    "    # 计算每个月的平均降水量\n",
    "    while current_year < end_date.year or (current_year == end_date.year and current_month <= end_date.month):\n",
    "        average = calculate_monthly_average(bbox, current_year, current_month)\n",
    "        monthly_averages[f\"{current_year}-{current_month:02d}\"] = average\n",
    "        current_month += 1\n",
    "        if current_month > 12:\n",
    "            current_month = 1\n",
    "            current_year += 1\n",
    "    \n",
    "    # 将结果添加到DataFrame\n",
    "    rows_to_add = pd.DataFrame([{'FeatureID': feature_id, 'Month': month, 'Average Precipitation': avg} for month, avg in monthly_averages.items()])\n",
    "    df = pd.concat([df, rows_to_add], ignore_index=True)\n"
   ]
  },
  {
   "cell_type": "code",
   "execution_count": null,
   "metadata": {},
   "outputs": [],
   "source": [
    "df"
   ]
  },
  {
   "cell_type": "code",
   "execution_count": null,
   "metadata": {},
   "outputs": [],
   "source": [
    "df['Average Precipitation'] = df['Average Precipitation']*30*24\n",
    "df"
   ]
  },
  {
   "cell_type": "code",
   "execution_count": null,
   "metadata": {},
   "outputs": [],
   "source": [
    "# 使用pivot_table重塑DataFrame\n",
    "pivot_df = df.pivot_table(\n",
    "    index=['Month'],\n",
    "    columns='FeatureID',\n",
    "    values='Average Precipitation'\n",
    ").reset_index()\n",
    "\n",
    "print(pivot_df)\n"
   ]
  },
  {
   "cell_type": "code",
   "execution_count": null,
   "metadata": {},
   "outputs": [],
   "source": [
    "pivot_df"
   ]
  },
  {
   "cell_type": "code",
   "execution_count": 44,
   "metadata": {},
   "outputs": [],
   "source": [
    "df.to_excel(r\"C:\\Users\\Runker\\Desktop\\QN_Average_Precipitation_0.xlsx\")\n",
    "pivot_df.to_excel(r\"C:\\Users\\Runker\\Desktop\\QN_Average_Precipitation.xlsx\")"
   ]
  }
 ],
 "metadata": {
  "kernelspec": {
   "display_name": ".venvgis",
   "language": "python",
   "name": "python3"
  },
  "language_info": {
   "codemirror_mode": {
    "name": "ipython",
    "version": 3
   },
   "file_extension": ".py",
   "mimetype": "text/x-python",
   "name": "python",
   "nbconvert_exporter": "python",
   "pygments_lexer": "ipython3",
   "version": "3.10.11"
  }
 },
 "nbformat": 4,
 "nbformat_minor": 2
}
