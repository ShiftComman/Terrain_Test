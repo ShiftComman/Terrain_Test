{
 "cells": [
  {
   "cell_type": "markdown",
   "metadata": {},
   "source": [
    "# 下载Google earth data"
   ]
  },
  {
   "cell_type": "code",
   "execution_count": 1,
   "metadata": {},
   "outputs": [
    {
     "ename": "RefreshError",
     "evalue": "('invalid_grant: Bad Request', {'error': 'invalid_grant', 'error_description': 'Bad Request'})",
     "output_type": "error",
     "traceback": [
      "\u001b[1;31m---------------------------------------------------------------------------\u001b[0m",
      "\u001b[1;31mRefreshError\u001b[0m                              Traceback (most recent call last)",
      "Cell \u001b[1;32mIn[1], line 9\u001b[0m\n\u001b[0;32m      5\u001b[0m \u001b[38;5;28;01mimport\u001b[39;00m \u001b[38;5;21;01mgeopandas\u001b[39;00m \u001b[38;5;28;01mas\u001b[39;00m \u001b[38;5;21;01mgpd\u001b[39;00m\n\u001b[0;32m      6\u001b[0m \u001b[38;5;66;03m# 用户验证\u001b[39;00m\n\u001b[0;32m      7\u001b[0m \u001b[38;5;66;03m# ee.Authenticate()\u001b[39;00m\n\u001b[0;32m      8\u001b[0m \u001b[38;5;66;03m# 初始化Google Earth Engine\u001b[39;00m\n\u001b[1;32m----> 9\u001b[0m \u001b[43mee\u001b[49m\u001b[38;5;241;43m.\u001b[39;49m\u001b[43mInitialize\u001b[49m\u001b[43m(\u001b[49m\u001b[43m)\u001b[49m\n",
      "File \u001b[1;32md:\\worker_code\\.venvgis\\lib\\site-packages\\ee\\_utils.py:38\u001b[0m, in \u001b[0;36maccept_opt_prefix.<locals>.opt_fixed.<locals>.wrapper\u001b[1;34m(*args, **kwargs)\u001b[0m\n\u001b[0;32m     36\u001b[0m     \u001b[38;5;28;01mif\u001b[39;00m new_key \u001b[38;5;129;01mnot\u001b[39;00m \u001b[38;5;129;01min\u001b[39;00m kwargs:\n\u001b[0;32m     37\u001b[0m       kwargs[new_key] \u001b[38;5;241m=\u001b[39m old_key_val\n\u001b[1;32m---> 38\u001b[0m \u001b[38;5;28;01mreturn\u001b[39;00m func(\u001b[38;5;241m*\u001b[39margs, \u001b[38;5;241m*\u001b[39m\u001b[38;5;241m*\u001b[39mkwargs)\n",
      "File \u001b[1;32md:\\worker_code\\.venvgis\\lib\\site-packages\\ee\\__init__.py:161\u001b[0m, in \u001b[0;36mInitialize\u001b[1;34m(credentials, url, cloud_api_key, http_transport, project)\u001b[0m\n\u001b[0;32m    158\u001b[0m \u001b[38;5;28;01mif\u001b[39;00m \u001b[38;5;129;01mnot\u001b[39;00m project \u001b[38;5;129;01mand\u001b[39;00m oauth\u001b[38;5;241m.\u001b[39mis_sdk_credentials(credentials):\n\u001b[0;32m    159\u001b[0m   \u001b[38;5;28;01mraise\u001b[39;00m EEException(NO_PROJECT_EXCEPTION)\n\u001b[1;32m--> 161\u001b[0m \u001b[43mdata\u001b[49m\u001b[38;5;241;43m.\u001b[39;49m\u001b[43minitialize\u001b[49m\u001b[43m(\u001b[49m\n\u001b[0;32m    162\u001b[0m \u001b[43m    \u001b[49m\u001b[43mcredentials\u001b[49m\u001b[38;5;241;43m=\u001b[39;49m\u001b[43mcredentials\u001b[49m\u001b[43m,\u001b[49m\n\u001b[0;32m    163\u001b[0m \u001b[43m    \u001b[49m\u001b[43mapi_base_url\u001b[49m\u001b[38;5;241;43m=\u001b[39;49m\u001b[43m(\u001b[49m\u001b[43murl\u001b[49m\u001b[43m \u001b[49m\u001b[38;5;241;43m+\u001b[39;49m\u001b[43m \u001b[49m\u001b[38;5;124;43m'\u001b[39;49m\u001b[38;5;124;43m/api\u001b[39;49m\u001b[38;5;124;43m'\u001b[39;49m\u001b[43m \u001b[49m\u001b[38;5;28;43;01mif\u001b[39;49;00m\u001b[43m \u001b[49m\u001b[43murl\u001b[49m\u001b[43m \u001b[49m\u001b[38;5;28;43;01melse\u001b[39;49;00m\u001b[43m \u001b[49m\u001b[38;5;28;43;01mNone\u001b[39;49;00m\u001b[43m)\u001b[49m\u001b[43m,\u001b[49m\n\u001b[0;32m    164\u001b[0m \u001b[43m    \u001b[49m\u001b[43mtile_base_url\u001b[49m\u001b[38;5;241;43m=\u001b[39;49m\u001b[43murl\u001b[49m\u001b[43m,\u001b[49m\n\u001b[0;32m    165\u001b[0m \u001b[43m    \u001b[49m\u001b[43mcloud_api_base_url\u001b[49m\u001b[38;5;241;43m=\u001b[39;49m\u001b[43murl\u001b[49m\u001b[43m,\u001b[49m\n\u001b[0;32m    166\u001b[0m \u001b[43m    \u001b[49m\u001b[43mcloud_api_key\u001b[49m\u001b[38;5;241;43m=\u001b[39;49m\u001b[43mcloud_api_key\u001b[49m\u001b[43m,\u001b[49m\n\u001b[0;32m    167\u001b[0m \u001b[43m    \u001b[49m\u001b[43mproject\u001b[49m\u001b[38;5;241;43m=\u001b[39;49m\u001b[43mproject\u001b[49m\u001b[43m,\u001b[49m\n\u001b[0;32m    168\u001b[0m \u001b[43m    \u001b[49m\u001b[43mhttp_transport\u001b[49m\u001b[38;5;241;43m=\u001b[39;49m\u001b[43mhttp_transport\u001b[49m\u001b[43m,\u001b[49m\n\u001b[0;32m    169\u001b[0m \u001b[43m\u001b[49m\u001b[43m)\u001b[49m\n\u001b[0;32m    171\u001b[0m \u001b[38;5;66;03m# Initialize the dynamically loaded functions on the objects that want them.\u001b[39;00m\n\u001b[0;32m    172\u001b[0m \u001b[38;5;28;01mtry\u001b[39;00m:\n",
      "File \u001b[1;32md:\\worker_code\\.venvgis\\lib\\site-packages\\ee\\data.py:229\u001b[0m, in \u001b[0;36minitialize\u001b[1;34m(credentials, api_base_url, tile_base_url, cloud_api_base_url, cloud_api_key, project, http_transport)\u001b[0m\n\u001b[0;32m    226\u001b[0m \u001b[38;5;28;01mif\u001b[39;00m _requests_session \u001b[38;5;129;01mis\u001b[39;00m \u001b[38;5;28;01mNone\u001b[39;00m:\n\u001b[0;32m    227\u001b[0m   _requests_session \u001b[38;5;241m=\u001b[39m requests\u001b[38;5;241m.\u001b[39mSession()\n\u001b[1;32m--> 229\u001b[0m \u001b[43m_install_cloud_api_resource\u001b[49m\u001b[43m(\u001b[49m\u001b[43m)\u001b[49m\n\u001b[0;32m    231\u001b[0m \u001b[38;5;28;01mif\u001b[39;00m project \u001b[38;5;129;01mis\u001b[39;00m \u001b[38;5;129;01mnot\u001b[39;00m \u001b[38;5;28;01mNone\u001b[39;00m:\n\u001b[0;32m    232\u001b[0m   _cloud_api_user_project \u001b[38;5;241m=\u001b[39m project\n",
      "File \u001b[1;32md:\\worker_code\\.venvgis\\lib\\site-packages\\ee\\data.py:323\u001b[0m, in \u001b[0;36m_install_cloud_api_resource\u001b[1;34m()\u001b[0m\n\u001b[0;32m    321\u001b[0m timeout \u001b[38;5;241m=\u001b[39m (_deadline_ms \u001b[38;5;241m/\u001b[39m \u001b[38;5;241m1000.0\u001b[39m) \u001b[38;5;129;01mor\u001b[39;00m \u001b[38;5;28;01mNone\u001b[39;00m\n\u001b[0;32m    322\u001b[0m \u001b[38;5;28;01massert\u001b[39;00m _requests_session \u001b[38;5;129;01mis\u001b[39;00m \u001b[38;5;129;01mnot\u001b[39;00m \u001b[38;5;28;01mNone\u001b[39;00m\n\u001b[1;32m--> 323\u001b[0m _cloud_api_resource \u001b[38;5;241m=\u001b[39m \u001b[43m_cloud_api_utils\u001b[49m\u001b[38;5;241;43m.\u001b[39;49m\u001b[43mbuild_cloud_resource\u001b[49m\u001b[43m(\u001b[49m\n\u001b[0;32m    324\u001b[0m \u001b[43m    \u001b[49m\u001b[43m_cloud_api_base_url\u001b[49m\u001b[43m,\u001b[49m\n\u001b[0;32m    325\u001b[0m \u001b[43m    \u001b[49m\u001b[43m_requests_session\u001b[49m\u001b[43m,\u001b[49m\n\u001b[0;32m    326\u001b[0m \u001b[43m    \u001b[49m\u001b[43mcredentials\u001b[49m\u001b[38;5;241;43m=\u001b[39;49m\u001b[43m_credentials\u001b[49m\u001b[43m,\u001b[49m\n\u001b[0;32m    327\u001b[0m \u001b[43m    \u001b[49m\u001b[43mapi_key\u001b[49m\u001b[38;5;241;43m=\u001b[39;49m\u001b[43m_cloud_api_key\u001b[49m\u001b[43m,\u001b[49m\n\u001b[0;32m    328\u001b[0m \u001b[43m    \u001b[49m\u001b[43mtimeout\u001b[49m\u001b[38;5;241;43m=\u001b[39;49m\u001b[43mtimeout\u001b[49m\u001b[43m,\u001b[49m\n\u001b[0;32m    329\u001b[0m \u001b[43m    \u001b[49m\u001b[43mheaders_supplier\u001b[49m\u001b[38;5;241;43m=\u001b[39;49m\u001b[43m_make_request_headers\u001b[49m\u001b[43m,\u001b[49m\n\u001b[0;32m    330\u001b[0m \u001b[43m    \u001b[49m\u001b[43mresponse_inspector\u001b[49m\u001b[38;5;241;43m=\u001b[39;49m\u001b[43m_handle_profiling_response\u001b[49m\u001b[43m,\u001b[49m\n\u001b[0;32m    331\u001b[0m \u001b[43m    \u001b[49m\u001b[43mhttp_transport\u001b[49m\u001b[38;5;241;43m=\u001b[39;49m\u001b[43m_http_transport\u001b[49m\u001b[43m,\u001b[49m\n\u001b[0;32m    332\u001b[0m \u001b[43m\u001b[49m\u001b[43m)\u001b[49m\n\u001b[0;32m    334\u001b[0m _cloud_api_resource_raw \u001b[38;5;241m=\u001b[39m _cloud_api_utils\u001b[38;5;241m.\u001b[39mbuild_cloud_resource(\n\u001b[0;32m    335\u001b[0m     _cloud_api_base_url,\n\u001b[0;32m    336\u001b[0m     _requests_session,\n\u001b[1;32m   (...)\u001b[0m\n\u001b[0;32m    343\u001b[0m     raw\u001b[38;5;241m=\u001b[39m\u001b[38;5;28;01mTrue\u001b[39;00m,\n\u001b[0;32m    344\u001b[0m )\n",
      "File \u001b[1;32md:\\worker_code\\.venvgis\\lib\\site-packages\\ee\\_cloud_api_utils.py:209\u001b[0m, in \u001b[0;36mbuild_cloud_resource\u001b[1;34m(api_base_url, session, api_key, credentials, timeout, headers_supplier, response_inspector, http_transport, raw)\u001b[0m\n\u001b[0;32m    204\u001b[0m resource \u001b[38;5;241m=\u001b[39m \u001b[38;5;28;01mNone\u001b[39;00m\n\u001b[0;32m    205\u001b[0m \u001b[38;5;28;01mtry\u001b[39;00m:\n\u001b[0;32m    206\u001b[0m   \u001b[38;5;66;03m# google-api-python-client made static_discovery the default in version 2,\u001b[39;00m\n\u001b[0;32m    207\u001b[0m   \u001b[38;5;66;03m# but it's not backward-compatible. There's no reliable way to check the\u001b[39;00m\n\u001b[0;32m    208\u001b[0m   \u001b[38;5;66;03m# package version, either.\u001b[39;00m\n\u001b[1;32m--> 209\u001b[0m   resource \u001b[38;5;241m=\u001b[39m \u001b[43mbuild\u001b[49m\u001b[43m(\u001b[49m\u001b[43mstatic_discovery\u001b[49m\u001b[38;5;241;43m=\u001b[39;49m\u001b[38;5;28;43;01mFalse\u001b[39;49;00m\u001b[43m)\u001b[49m\n\u001b[0;32m    210\u001b[0m \u001b[38;5;28;01mexcept\u001b[39;00m \u001b[38;5;167;01mTypeError\u001b[39;00m:\n\u001b[0;32m    211\u001b[0m   \u001b[38;5;28;01mpass\u001b[39;00m  \u001b[38;5;66;03m# Handle fallback case outside except block, for cleaner stack traces.\u001b[39;00m\n",
      "File \u001b[1;32md:\\worker_code\\.venvgis\\lib\\site-packages\\ee\\_cloud_api_utils.py:193\u001b[0m, in \u001b[0;36mbuild_cloud_resource.<locals>.build\u001b[1;34m(**kwargs)\u001b[0m\n\u001b[0;32m    192\u001b[0m \u001b[38;5;28;01mdef\u001b[39;00m \u001b[38;5;21mbuild\u001b[39m(\u001b[38;5;241m*\u001b[39m\u001b[38;5;241m*\u001b[39mkwargs):\n\u001b[1;32m--> 193\u001b[0m   \u001b[38;5;28;01mreturn\u001b[39;00m discovery\u001b[38;5;241m.\u001b[39mbuild(\n\u001b[0;32m    194\u001b[0m       \u001b[38;5;124m'\u001b[39m\u001b[38;5;124mearthengine\u001b[39m\u001b[38;5;124m'\u001b[39m,\n\u001b[0;32m    195\u001b[0m       VERSION,\n\u001b[0;32m    196\u001b[0m       discoveryServiceUrl\u001b[38;5;241m=\u001b[39mdiscovery_service_url,\n\u001b[0;32m    197\u001b[0m       developerKey\u001b[38;5;241m=\u001b[39mapi_key,\n\u001b[0;32m    198\u001b[0m       http\u001b[38;5;241m=\u001b[39mhttp_transport,\n\u001b[0;32m    199\u001b[0m       requestBuilder\u001b[38;5;241m=\u001b[39mrequest_builder,\n\u001b[0;32m    200\u001b[0m       model\u001b[38;5;241m=\u001b[39malt_model,\n\u001b[0;32m    201\u001b[0m       cache_discovery\u001b[38;5;241m=\u001b[39m\u001b[38;5;28;01mFalse\u001b[39;00m,\n\u001b[0;32m    202\u001b[0m       \u001b[38;5;241m*\u001b[39m\u001b[38;5;241m*\u001b[39mkwargs)\n",
      "File \u001b[1;32md:\\worker_code\\.venvgis\\lib\\site-packages\\googleapiclient\\_helpers.py:130\u001b[0m, in \u001b[0;36mpositional.<locals>.positional_decorator.<locals>.positional_wrapper\u001b[1;34m(*args, **kwargs)\u001b[0m\n\u001b[0;32m    128\u001b[0m     \u001b[38;5;28;01melif\u001b[39;00m positional_parameters_enforcement \u001b[38;5;241m==\u001b[39m POSITIONAL_WARNING:\n\u001b[0;32m    129\u001b[0m         logger\u001b[38;5;241m.\u001b[39mwarning(message)\n\u001b[1;32m--> 130\u001b[0m \u001b[38;5;28;01mreturn\u001b[39;00m wrapped(\u001b[38;5;241m*\u001b[39margs, \u001b[38;5;241m*\u001b[39m\u001b[38;5;241m*\u001b[39mkwargs)\n",
      "File \u001b[1;32md:\\worker_code\\.venvgis\\lib\\site-packages\\googleapiclient\\discovery.py:287\u001b[0m, in \u001b[0;36mbuild\u001b[1;34m(serviceName, version, http, discoveryServiceUrl, developerKey, model, requestBuilder, credentials, cache_discovery, cache, client_options, adc_cert_path, adc_key_path, num_retries, static_discovery, always_use_jwt_access)\u001b[0m\n\u001b[0;32m    284\u001b[0m requested_url \u001b[38;5;241m=\u001b[39m uritemplate\u001b[38;5;241m.\u001b[39mexpand(discovery_url, params)\n\u001b[0;32m    286\u001b[0m \u001b[38;5;28;01mtry\u001b[39;00m:\n\u001b[1;32m--> 287\u001b[0m     content \u001b[38;5;241m=\u001b[39m \u001b[43m_retrieve_discovery_doc\u001b[49m\u001b[43m(\u001b[49m\n\u001b[0;32m    288\u001b[0m \u001b[43m        \u001b[49m\u001b[43mrequested_url\u001b[49m\u001b[43m,\u001b[49m\n\u001b[0;32m    289\u001b[0m \u001b[43m        \u001b[49m\u001b[43mdiscovery_http\u001b[49m\u001b[43m,\u001b[49m\n\u001b[0;32m    290\u001b[0m \u001b[43m        \u001b[49m\u001b[43mcache_discovery\u001b[49m\u001b[43m,\u001b[49m\n\u001b[0;32m    291\u001b[0m \u001b[43m        \u001b[49m\u001b[43mserviceName\u001b[49m\u001b[43m,\u001b[49m\n\u001b[0;32m    292\u001b[0m \u001b[43m        \u001b[49m\u001b[43mversion\u001b[49m\u001b[43m,\u001b[49m\n\u001b[0;32m    293\u001b[0m \u001b[43m        \u001b[49m\u001b[43mcache\u001b[49m\u001b[43m,\u001b[49m\n\u001b[0;32m    294\u001b[0m \u001b[43m        \u001b[49m\u001b[43mdeveloperKey\u001b[49m\u001b[43m,\u001b[49m\n\u001b[0;32m    295\u001b[0m \u001b[43m        \u001b[49m\u001b[43mnum_retries\u001b[49m\u001b[38;5;241;43m=\u001b[39;49m\u001b[43mnum_retries\u001b[49m\u001b[43m,\u001b[49m\n\u001b[0;32m    296\u001b[0m \u001b[43m        \u001b[49m\u001b[43mstatic_discovery\u001b[49m\u001b[38;5;241;43m=\u001b[39;49m\u001b[43mstatic_discovery\u001b[49m\u001b[43m,\u001b[49m\n\u001b[0;32m    297\u001b[0m \u001b[43m    \u001b[49m\u001b[43m)\u001b[49m\n\u001b[0;32m    298\u001b[0m     service \u001b[38;5;241m=\u001b[39m build_from_document(\n\u001b[0;32m    299\u001b[0m         content,\n\u001b[0;32m    300\u001b[0m         base\u001b[38;5;241m=\u001b[39mdiscovery_url,\n\u001b[1;32m   (...)\u001b[0m\n\u001b[0;32m    309\u001b[0m         always_use_jwt_access\u001b[38;5;241m=\u001b[39malways_use_jwt_access,\n\u001b[0;32m    310\u001b[0m     )\n\u001b[0;32m    311\u001b[0m     \u001b[38;5;28;01mbreak\u001b[39;00m  \u001b[38;5;66;03m# exit if a service was created\u001b[39;00m\n",
      "File \u001b[1;32md:\\worker_code\\.venvgis\\lib\\site-packages\\googleapiclient\\discovery.py:422\u001b[0m, in \u001b[0;36m_retrieve_discovery_doc\u001b[1;34m(url, http, cache_discovery, serviceName, version, cache, developerKey, num_retries, static_discovery)\u001b[0m\n\u001b[0;32m    419\u001b[0m \u001b[38;5;66;03m# Execute this request with retries build into HttpRequest\u001b[39;00m\n\u001b[0;32m    420\u001b[0m \u001b[38;5;66;03m# Note that it will already raise an error if we don't get a 2xx response\u001b[39;00m\n\u001b[0;32m    421\u001b[0m req \u001b[38;5;241m=\u001b[39m HttpRequest(http, HttpRequest\u001b[38;5;241m.\u001b[39mnull_postproc, actual_url)\n\u001b[1;32m--> 422\u001b[0m resp, content \u001b[38;5;241m=\u001b[39m \u001b[43mreq\u001b[49m\u001b[38;5;241;43m.\u001b[39;49m\u001b[43mexecute\u001b[49m\u001b[43m(\u001b[49m\u001b[43mnum_retries\u001b[49m\u001b[38;5;241;43m=\u001b[39;49m\u001b[43mnum_retries\u001b[49m\u001b[43m)\u001b[49m\n\u001b[0;32m    424\u001b[0m \u001b[38;5;28;01mtry\u001b[39;00m:\n\u001b[0;32m    425\u001b[0m     content \u001b[38;5;241m=\u001b[39m content\u001b[38;5;241m.\u001b[39mdecode(\u001b[38;5;124m\"\u001b[39m\u001b[38;5;124mutf-8\u001b[39m\u001b[38;5;124m\"\u001b[39m)\n",
      "File \u001b[1;32md:\\worker_code\\.venvgis\\lib\\site-packages\\googleapiclient\\_helpers.py:130\u001b[0m, in \u001b[0;36mpositional.<locals>.positional_decorator.<locals>.positional_wrapper\u001b[1;34m(*args, **kwargs)\u001b[0m\n\u001b[0;32m    128\u001b[0m     \u001b[38;5;28;01melif\u001b[39;00m positional_parameters_enforcement \u001b[38;5;241m==\u001b[39m POSITIONAL_WARNING:\n\u001b[0;32m    129\u001b[0m         logger\u001b[38;5;241m.\u001b[39mwarning(message)\n\u001b[1;32m--> 130\u001b[0m \u001b[38;5;28;01mreturn\u001b[39;00m wrapped(\u001b[38;5;241m*\u001b[39margs, \u001b[38;5;241m*\u001b[39m\u001b[38;5;241m*\u001b[39mkwargs)\n",
      "File \u001b[1;32md:\\worker_code\\.venvgis\\lib\\site-packages\\googleapiclient\\http.py:923\u001b[0m, in \u001b[0;36mHttpRequest.execute\u001b[1;34m(self, http, num_retries)\u001b[0m\n\u001b[0;32m    920\u001b[0m     \u001b[38;5;28mself\u001b[39m\u001b[38;5;241m.\u001b[39mheaders[\u001b[38;5;124m\"\u001b[39m\u001b[38;5;124mcontent-length\u001b[39m\u001b[38;5;124m\"\u001b[39m] \u001b[38;5;241m=\u001b[39m \u001b[38;5;28mstr\u001b[39m(\u001b[38;5;28mlen\u001b[39m(\u001b[38;5;28mself\u001b[39m\u001b[38;5;241m.\u001b[39mbody))\n\u001b[0;32m    922\u001b[0m \u001b[38;5;66;03m# Handle retries for server-side errors.\u001b[39;00m\n\u001b[1;32m--> 923\u001b[0m resp, content \u001b[38;5;241m=\u001b[39m \u001b[43m_retry_request\u001b[49m\u001b[43m(\u001b[49m\n\u001b[0;32m    924\u001b[0m \u001b[43m    \u001b[49m\u001b[43mhttp\u001b[49m\u001b[43m,\u001b[49m\n\u001b[0;32m    925\u001b[0m \u001b[43m    \u001b[49m\u001b[43mnum_retries\u001b[49m\u001b[43m,\u001b[49m\n\u001b[0;32m    926\u001b[0m \u001b[43m    \u001b[49m\u001b[38;5;124;43m\"\u001b[39;49m\u001b[38;5;124;43mrequest\u001b[39;49m\u001b[38;5;124;43m\"\u001b[39;49m\u001b[43m,\u001b[49m\n\u001b[0;32m    927\u001b[0m \u001b[43m    \u001b[49m\u001b[38;5;28;43mself\u001b[39;49m\u001b[38;5;241;43m.\u001b[39;49m\u001b[43m_sleep\u001b[49m\u001b[43m,\u001b[49m\n\u001b[0;32m    928\u001b[0m \u001b[43m    \u001b[49m\u001b[38;5;28;43mself\u001b[39;49m\u001b[38;5;241;43m.\u001b[39;49m\u001b[43m_rand\u001b[49m\u001b[43m,\u001b[49m\n\u001b[0;32m    929\u001b[0m \u001b[43m    \u001b[49m\u001b[38;5;28;43mstr\u001b[39;49m\u001b[43m(\u001b[49m\u001b[38;5;28;43mself\u001b[39;49m\u001b[38;5;241;43m.\u001b[39;49m\u001b[43muri\u001b[49m\u001b[43m)\u001b[49m\u001b[43m,\u001b[49m\n\u001b[0;32m    930\u001b[0m \u001b[43m    \u001b[49m\u001b[43mmethod\u001b[49m\u001b[38;5;241;43m=\u001b[39;49m\u001b[38;5;28;43mstr\u001b[39;49m\u001b[43m(\u001b[49m\u001b[38;5;28;43mself\u001b[39;49m\u001b[38;5;241;43m.\u001b[39;49m\u001b[43mmethod\u001b[49m\u001b[43m)\u001b[49m\u001b[43m,\u001b[49m\n\u001b[0;32m    931\u001b[0m \u001b[43m    \u001b[49m\u001b[43mbody\u001b[49m\u001b[38;5;241;43m=\u001b[39;49m\u001b[38;5;28;43mself\u001b[39;49m\u001b[38;5;241;43m.\u001b[39;49m\u001b[43mbody\u001b[49m\u001b[43m,\u001b[49m\n\u001b[0;32m    932\u001b[0m \u001b[43m    \u001b[49m\u001b[43mheaders\u001b[49m\u001b[38;5;241;43m=\u001b[39;49m\u001b[38;5;28;43mself\u001b[39;49m\u001b[38;5;241;43m.\u001b[39;49m\u001b[43mheaders\u001b[49m\u001b[43m,\u001b[49m\n\u001b[0;32m    933\u001b[0m \u001b[43m\u001b[49m\u001b[43m)\u001b[49m\n\u001b[0;32m    935\u001b[0m \u001b[38;5;28;01mfor\u001b[39;00m callback \u001b[38;5;129;01min\u001b[39;00m \u001b[38;5;28mself\u001b[39m\u001b[38;5;241m.\u001b[39mresponse_callbacks:\n\u001b[0;32m    936\u001b[0m     callback(resp)\n",
      "File \u001b[1;32md:\\worker_code\\.venvgis\\lib\\site-packages\\googleapiclient\\http.py:191\u001b[0m, in \u001b[0;36m_retry_request\u001b[1;34m(http, num_retries, req_type, sleep, rand, uri, method, *args, **kwargs)\u001b[0m\n\u001b[0;32m    189\u001b[0m \u001b[38;5;28;01mtry\u001b[39;00m:\n\u001b[0;32m    190\u001b[0m     exception \u001b[38;5;241m=\u001b[39m \u001b[38;5;28;01mNone\u001b[39;00m\n\u001b[1;32m--> 191\u001b[0m     resp, content \u001b[38;5;241m=\u001b[39m http\u001b[38;5;241m.\u001b[39mrequest(uri, method, \u001b[38;5;241m*\u001b[39margs, \u001b[38;5;241m*\u001b[39m\u001b[38;5;241m*\u001b[39mkwargs)\n\u001b[0;32m    192\u001b[0m \u001b[38;5;66;03m# Retry on SSL errors and socket timeout errors.\u001b[39;00m\n\u001b[0;32m    193\u001b[0m \u001b[38;5;28;01mexcept\u001b[39;00m _ssl_SSLError \u001b[38;5;28;01mas\u001b[39;00m ssl_error:\n",
      "File \u001b[1;32md:\\worker_code\\.venvgis\\lib\\site-packages\\google_auth_httplib2.py:209\u001b[0m, in \u001b[0;36mAuthorizedHttp.request\u001b[1;34m(self, uri, method, body, headers, redirections, connection_type, **kwargs)\u001b[0m\n\u001b[0;32m    205\u001b[0m \u001b[38;5;66;03m# Make a copy of the headers. They will be modified by the credentials\u001b[39;00m\n\u001b[0;32m    206\u001b[0m \u001b[38;5;66;03m# and we want to pass the original headers if we recurse.\u001b[39;00m\n\u001b[0;32m    207\u001b[0m request_headers \u001b[38;5;241m=\u001b[39m headers\u001b[38;5;241m.\u001b[39mcopy() \u001b[38;5;28;01mif\u001b[39;00m headers \u001b[38;5;129;01mis\u001b[39;00m \u001b[38;5;129;01mnot\u001b[39;00m \u001b[38;5;28;01mNone\u001b[39;00m \u001b[38;5;28;01melse\u001b[39;00m {}\n\u001b[1;32m--> 209\u001b[0m \u001b[38;5;28;43mself\u001b[39;49m\u001b[38;5;241;43m.\u001b[39;49m\u001b[43mcredentials\u001b[49m\u001b[38;5;241;43m.\u001b[39;49m\u001b[43mbefore_request\u001b[49m\u001b[43m(\u001b[49m\u001b[38;5;28;43mself\u001b[39;49m\u001b[38;5;241;43m.\u001b[39;49m\u001b[43m_request\u001b[49m\u001b[43m,\u001b[49m\u001b[43m \u001b[49m\u001b[43mmethod\u001b[49m\u001b[43m,\u001b[49m\u001b[43m \u001b[49m\u001b[43muri\u001b[49m\u001b[43m,\u001b[49m\u001b[43m \u001b[49m\u001b[43mrequest_headers\u001b[49m\u001b[43m)\u001b[49m\n\u001b[0;32m    211\u001b[0m \u001b[38;5;66;03m# Check if the body is a file-like stream, and if so, save the body\u001b[39;00m\n\u001b[0;32m    212\u001b[0m \u001b[38;5;66;03m# stream position so that it can be restored in case of refresh.\u001b[39;00m\n\u001b[0;32m    213\u001b[0m body_stream_position \u001b[38;5;241m=\u001b[39m \u001b[38;5;28;01mNone\u001b[39;00m\n",
      "File \u001b[1;32md:\\worker_code\\.venvgis\\lib\\site-packages\\google\\auth\\credentials.py:156\u001b[0m, in \u001b[0;36mCredentials.before_request\u001b[1;34m(self, request, method, url, headers)\u001b[0m\n\u001b[0;32m    152\u001b[0m \u001b[38;5;66;03m# pylint: disable=unused-argument\u001b[39;00m\n\u001b[0;32m    153\u001b[0m \u001b[38;5;66;03m# (Subclasses may use these arguments to ascertain information about\u001b[39;00m\n\u001b[0;32m    154\u001b[0m \u001b[38;5;66;03m# the http request.)\u001b[39;00m\n\u001b[0;32m    155\u001b[0m \u001b[38;5;28;01mif\u001b[39;00m \u001b[38;5;129;01mnot\u001b[39;00m \u001b[38;5;28mself\u001b[39m\u001b[38;5;241m.\u001b[39mvalid:\n\u001b[1;32m--> 156\u001b[0m     \u001b[38;5;28;43mself\u001b[39;49m\u001b[38;5;241;43m.\u001b[39;49m\u001b[43mrefresh\u001b[49m\u001b[43m(\u001b[49m\u001b[43mrequest\u001b[49m\u001b[43m)\u001b[49m\n\u001b[0;32m    157\u001b[0m metrics\u001b[38;5;241m.\u001b[39madd_metric_header(headers, \u001b[38;5;28mself\u001b[39m\u001b[38;5;241m.\u001b[39m_metric_header_for_usage())\n\u001b[0;32m    158\u001b[0m \u001b[38;5;28mself\u001b[39m\u001b[38;5;241m.\u001b[39mapply(headers)\n",
      "File \u001b[1;32md:\\worker_code\\.venvgis\\lib\\site-packages\\google\\oauth2\\credentials.py:345\u001b[0m, in \u001b[0;36mCredentials.refresh\u001b[1;34m(self, request)\u001b[0m\n\u001b[0;32m    327\u001b[0m \u001b[38;5;28;01mif\u001b[39;00m (\n\u001b[0;32m    328\u001b[0m     \u001b[38;5;28mself\u001b[39m\u001b[38;5;241m.\u001b[39m_refresh_token \u001b[38;5;129;01mis\u001b[39;00m \u001b[38;5;28;01mNone\u001b[39;00m\n\u001b[0;32m    329\u001b[0m     \u001b[38;5;129;01mor\u001b[39;00m \u001b[38;5;28mself\u001b[39m\u001b[38;5;241m.\u001b[39m_token_uri \u001b[38;5;129;01mis\u001b[39;00m \u001b[38;5;28;01mNone\u001b[39;00m\n\u001b[0;32m    330\u001b[0m     \u001b[38;5;129;01mor\u001b[39;00m \u001b[38;5;28mself\u001b[39m\u001b[38;5;241m.\u001b[39m_client_id \u001b[38;5;129;01mis\u001b[39;00m \u001b[38;5;28;01mNone\u001b[39;00m\n\u001b[0;32m    331\u001b[0m     \u001b[38;5;129;01mor\u001b[39;00m \u001b[38;5;28mself\u001b[39m\u001b[38;5;241m.\u001b[39m_client_secret \u001b[38;5;129;01mis\u001b[39;00m \u001b[38;5;28;01mNone\u001b[39;00m\n\u001b[0;32m    332\u001b[0m ):\n\u001b[0;32m    333\u001b[0m     \u001b[38;5;28;01mraise\u001b[39;00m exceptions\u001b[38;5;241m.\u001b[39mRefreshError(\n\u001b[0;32m    334\u001b[0m         \u001b[38;5;124m\"\u001b[39m\u001b[38;5;124mThe credentials do not contain the necessary fields need to \u001b[39m\u001b[38;5;124m\"\u001b[39m\n\u001b[0;32m    335\u001b[0m         \u001b[38;5;124m\"\u001b[39m\u001b[38;5;124mrefresh the access token. You must specify refresh_token, \u001b[39m\u001b[38;5;124m\"\u001b[39m\n\u001b[0;32m    336\u001b[0m         \u001b[38;5;124m\"\u001b[39m\u001b[38;5;124mtoken_uri, client_id, and client_secret.\u001b[39m\u001b[38;5;124m\"\u001b[39m\n\u001b[0;32m    337\u001b[0m     )\n\u001b[0;32m    339\u001b[0m (\n\u001b[0;32m    340\u001b[0m     access_token,\n\u001b[0;32m    341\u001b[0m     refresh_token,\n\u001b[0;32m    342\u001b[0m     expiry,\n\u001b[0;32m    343\u001b[0m     grant_response,\n\u001b[0;32m    344\u001b[0m     rapt_token,\n\u001b[1;32m--> 345\u001b[0m ) \u001b[38;5;241m=\u001b[39m \u001b[43mreauth\u001b[49m\u001b[38;5;241;43m.\u001b[39;49m\u001b[43mrefresh_grant\u001b[49m\u001b[43m(\u001b[49m\n\u001b[0;32m    346\u001b[0m \u001b[43m    \u001b[49m\u001b[43mrequest\u001b[49m\u001b[43m,\u001b[49m\n\u001b[0;32m    347\u001b[0m \u001b[43m    \u001b[49m\u001b[38;5;28;43mself\u001b[39;49m\u001b[38;5;241;43m.\u001b[39;49m\u001b[43m_token_uri\u001b[49m\u001b[43m,\u001b[49m\n\u001b[0;32m    348\u001b[0m \u001b[43m    \u001b[49m\u001b[38;5;28;43mself\u001b[39;49m\u001b[38;5;241;43m.\u001b[39;49m\u001b[43m_refresh_token\u001b[49m\u001b[43m,\u001b[49m\n\u001b[0;32m    349\u001b[0m \u001b[43m    \u001b[49m\u001b[38;5;28;43mself\u001b[39;49m\u001b[38;5;241;43m.\u001b[39;49m\u001b[43m_client_id\u001b[49m\u001b[43m,\u001b[49m\n\u001b[0;32m    350\u001b[0m \u001b[43m    \u001b[49m\u001b[38;5;28;43mself\u001b[39;49m\u001b[38;5;241;43m.\u001b[39;49m\u001b[43m_client_secret\u001b[49m\u001b[43m,\u001b[49m\n\u001b[0;32m    351\u001b[0m \u001b[43m    \u001b[49m\u001b[43mscopes\u001b[49m\u001b[38;5;241;43m=\u001b[39;49m\u001b[43mscopes\u001b[49m\u001b[43m,\u001b[49m\n\u001b[0;32m    352\u001b[0m \u001b[43m    \u001b[49m\u001b[43mrapt_token\u001b[49m\u001b[38;5;241;43m=\u001b[39;49m\u001b[38;5;28;43mself\u001b[39;49m\u001b[38;5;241;43m.\u001b[39;49m\u001b[43m_rapt_token\u001b[49m\u001b[43m,\u001b[49m\n\u001b[0;32m    353\u001b[0m \u001b[43m    \u001b[49m\u001b[43menable_reauth_refresh\u001b[49m\u001b[38;5;241;43m=\u001b[39;49m\u001b[38;5;28;43mself\u001b[39;49m\u001b[38;5;241;43m.\u001b[39;49m\u001b[43m_enable_reauth_refresh\u001b[49m\u001b[43m,\u001b[49m\n\u001b[0;32m    354\u001b[0m \u001b[43m\u001b[49m\u001b[43m)\u001b[49m\n\u001b[0;32m    356\u001b[0m \u001b[38;5;28mself\u001b[39m\u001b[38;5;241m.\u001b[39mtoken \u001b[38;5;241m=\u001b[39m access_token\n\u001b[0;32m    357\u001b[0m \u001b[38;5;28mself\u001b[39m\u001b[38;5;241m.\u001b[39mexpiry \u001b[38;5;241m=\u001b[39m expiry\n",
      "File \u001b[1;32md:\\worker_code\\.venvgis\\lib\\site-packages\\google\\oauth2\\reauth.py:367\u001b[0m, in \u001b[0;36mrefresh_grant\u001b[1;34m(request, token_uri, refresh_token, client_id, client_secret, scopes, rapt_token, enable_reauth_refresh)\u001b[0m\n\u001b[0;32m    358\u001b[0m     (\n\u001b[0;32m    359\u001b[0m         response_status_ok,\n\u001b[0;32m    360\u001b[0m         response_data,\n\u001b[1;32m   (...)\u001b[0m\n\u001b[0;32m    363\u001b[0m         request, token_uri, body, headers\u001b[38;5;241m=\u001b[39mmetrics_header\n\u001b[0;32m    364\u001b[0m     )\n\u001b[0;32m    366\u001b[0m \u001b[38;5;28;01mif\u001b[39;00m \u001b[38;5;129;01mnot\u001b[39;00m response_status_ok:\n\u001b[1;32m--> 367\u001b[0m     \u001b[43m_client\u001b[49m\u001b[38;5;241;43m.\u001b[39;49m\u001b[43m_handle_error_response\u001b[49m\u001b[43m(\u001b[49m\u001b[43mresponse_data\u001b[49m\u001b[43m,\u001b[49m\u001b[43m \u001b[49m\u001b[43mretryable_error\u001b[49m\u001b[43m)\u001b[49m\n\u001b[0;32m    368\u001b[0m \u001b[38;5;28;01mreturn\u001b[39;00m _client\u001b[38;5;241m.\u001b[39m_handle_refresh_grant_response(response_data, refresh_token) \u001b[38;5;241m+\u001b[39m (\n\u001b[0;32m    369\u001b[0m     rapt_token,\n\u001b[0;32m    370\u001b[0m )\n",
      "File \u001b[1;32md:\\worker_code\\.venvgis\\lib\\site-packages\\google\\oauth2\\_client.py:74\u001b[0m, in \u001b[0;36m_handle_error_response\u001b[1;34m(response_data, retryable_error)\u001b[0m\n\u001b[0;32m     71\u001b[0m \u001b[38;5;28;01mexcept\u001b[39;00m (\u001b[38;5;167;01mKeyError\u001b[39;00m, \u001b[38;5;167;01mValueError\u001b[39;00m):\n\u001b[0;32m     72\u001b[0m     error_details \u001b[38;5;241m=\u001b[39m json\u001b[38;5;241m.\u001b[39mdumps(response_data)\n\u001b[1;32m---> 74\u001b[0m \u001b[38;5;28;01mraise\u001b[39;00m exceptions\u001b[38;5;241m.\u001b[39mRefreshError(\n\u001b[0;32m     75\u001b[0m     error_details, response_data, retryable\u001b[38;5;241m=\u001b[39mretryable_error\n\u001b[0;32m     76\u001b[0m )\n",
      "\u001b[1;31mRefreshError\u001b[0m: ('invalid_grant: Bad Request', {'error': 'invalid_grant', 'error_description': 'Bad Request'})"
     ]
    }
   ],
   "source": [
    "import ee\n",
    "import geemap\n",
    "import os\n",
    "import math\n",
    "import geopandas as gpd\n",
    "# 用户验证\n",
    "ee.Authenticate()\n",
    "# 初始化Google Earth Engine\n",
    "ee.Initialize()"
   ]
  },
  {
   "cell_type": "code",
   "execution_count": null,
   "metadata": {},
   "outputs": [
    {
     "ename": "",
     "evalue": "",
     "output_type": "error",
     "traceback": [
      "\u001b[1;31mThe Kernel crashed while executing code in the current cell or a previous cell. \n",
      "\u001b[1;31mPlease review the code in the cell(s) to identify a possible cause of the failure. \n",
      "\u001b[1;31mClick <a href='https://aka.ms/vscodeJupyterKernelCrash'>here</a> for more info. \n",
      "\u001b[1;31mView Jupyter <a href='command:jupyter.viewOutput'>log</a> for further details."
     ]
    }
   ],
   "source": [
    "print(1)"
   ]
  },
  {
   "cell_type": "code",
   "execution_count": null,
   "metadata": {},
   "outputs": [],
   "source": [
    "# 切分区域\n",
    "def split_region(region, col_size, row_size):\n",
    "    bounds = region.getInfo()['coordinates'][0]\n",
    "    original_minx, original_miny = bounds[0]\n",
    "    original_maxx, original_maxy = bounds[2]\n",
    "    \n",
    "    x_len = original_maxx - original_minx\n",
    "    y_len = original_maxy - original_miny\n",
    "    \n",
    "    # 向上取整\n",
    "    cols = math.ceil(x_len / col_size)\n",
    "    rows = math.ceil(y_len / row_size)\n",
    "    \n",
    "    rectangles = []\n",
    "    for i in range(cols):\n",
    "        current_minx = original_minx + i * col_size\n",
    "        current_maxx = current_minx + col_size\n",
    "        if current_maxx > original_maxx:\n",
    "            current_maxx = original_maxx\n",
    "        for j in range(rows):\n",
    "            current_miny = original_miny + j * row_size\n",
    "            current_maxy = current_miny + row_size\n",
    "            if current_maxy > original_maxy:\n",
    "                current_maxy = original_maxy\n",
    "            rect = ee.Geometry.Rectangle([current_minx, current_miny, current_maxx, current_maxy])\n",
    "            rectangles.append(rect)\n",
    "    return rectangles"
   ]
  },
  {
   "cell_type": "markdown",
   "metadata": {},
   "source": [
    "# 栅格过滤函数"
   ]
  },
  {
   "cell_type": "code",
   "execution_count": null,
   "metadata": {},
   "outputs": [],
   "source": [
    "# 筛选无云区域QA60\n",
    "def mask_s2_clouds_QA(image):\n",
    "  \"\"\"Masks clouds in a Sentinel-2 image using the QA band.\n",
    "\n",
    "  Args:\n",
    "      image (ee.Image): A Sentinel-2 image.\n",
    "\n",
    "  Returns:\n",
    "      ee.Image: A cloud-masked Sentinel-2 image.\n",
    "  \"\"\"\n",
    "  qa = image.select('QA60')\n",
    "\n",
    "  # Bits 10 and 11 are clouds and cirrus, respectively.\n",
    "  cloud_bit_mask = 1 << 10\n",
    "  cirrus_bit_mask = 1 << 11\n",
    "\n",
    "  # Both flags should be set to zero, indicating clear conditions.\n",
    "  mask = (\n",
    "      qa.bitwiseAnd(cloud_bit_mask)\n",
    "      .eq(0)\n",
    "      .And(qa.bitwiseAnd(cirrus_bit_mask).eq(0))\n",
    "  )\n",
    "\n",
    "  return image.updateMask(mask).divide(10000)\n",
    "# 筛选无云区域SCL\n",
    "def mask_s2_clouds_SCL(image):\n",
    "    \"\"\"Masks clouds in a Sentinel-2 image using the SCL band.\n",
    "\n",
    "    Args:\n",
    "        image (ee.Image): A Sentinel-2 image.\n",
    "\n",
    "    Returns:\n",
    "        ee.Image: A cloud-masked Sentinel-2 image.\n",
    "    \"\"\"\n",
    "    scl = image.select('SCL')\n",
    "\n",
    "    # Define the cloud mask. Typically, values 3, 8, 9, 10, and 11 in the SCL\n",
    "    # band represent cloud and shadow conditions.\n",
    "    cloud_shadow = scl.eq(3)  # Cloud shadows\n",
    "    cloud_medium_prob = scl.eq(8)  # Medium probability clouds\n",
    "    cloud_high_prob = scl.eq(9)  # High probability clouds\n",
    "    thin_cirrus = scl.eq(10)  # Thin cirrus\n",
    "    cloud_mask = cloud_shadow.Or(cloud_medium_prob).Or(cloud_high_prob).Or(thin_cirrus)\n",
    "\n",
    "    return image.updateMask(cloud_mask.Not()).divide(10000)"
   ]
  },
  {
   "cell_type": "code",
   "execution_count": null,
   "metadata": {},
   "outputs": [],
   "source": [
    "# 读取本地Shapefile 得到处理区域\n",
    "shapefile_path = r\"F:\\ArcgisData\\shp_polygon\\KY500.shp\"\n",
    "gdf = gpd.read_file(shapefile_path)\n",
    "\n",
    "\n",
    "bounds = gdf['geometry'][0].bounds\n",
    "bbox = {\n",
    "    'MinX': bounds[0],\n",
    "    'MinY': bounds[1],\n",
    "    'MaxX': bounds[2],\n",
    "    'MaxY': bounds[3]\n",
    "}\n",
    "\n",
    "# 获取第一个几何对象\n",
    "geometry = gdf.geometry.iloc[0]\n",
    "# 2. 将 Earth Engine 几何对象转换为 Feature 对象\n",
    "ee_geometry = ee.Geometry(geometry.__geo_interface__)\n",
    "# 3. 将 Earth Engine 几何对象转换为 Feature 对象\n",
    "feature = ee.Feature(ee_geometry)\n",
    "\n",
    "# 4. 将 Feature 对象放入 FeatureCollection 中\n",
    "feature_collection = ee.FeatureCollection([feature])\n",
    "\n",
    "# 获取 FeatureCollection 的边界几何对象\n",
    "bounded_geometry = feature_collection.geometry().bounds()\n",
    "# 矢量边框\n",
    "vector_layer = ee.FeatureCollection([ee.Feature(ee_geometry)])"
   ]
  },
  {
   "cell_type": "markdown",
   "metadata": {},
   "source": [
    "# 在地图中查看筛选结果"
   ]
  },
  {
   "cell_type": "code",
   "execution_count": null,
   "metadata": {},
   "outputs": [],
   "source": [
    "# 时间范围\n",
    "start_date = '2023-10-01'  # 开始日期\n",
    "end_date = '2023-12-30'    # 结束日期\n",
    "# 云概率\n",
    "cloud_probability_threshold = 80  # 云概率阈值\n",
    "# 函数\n",
    "functions = mask_s2_clouds_SCL"
   ]
  },
  {
   "cell_type": "code",
   "execution_count": null,
   "metadata": {},
   "outputs": [],
   "source": [
    "# 创建 Sentinel-2 数据集并过滤指定区域\n",
    "view_dataset = (\n",
    "    # ee.ImageCollection('COPERNICUS/S2_SR')\n",
    "    ee.ImageCollection('COPERNICUS/S2_SR_HARMONIZED')\n",
    "    .filterDate(start_date, end_date)\n",
    "    .filter(ee.Filter.lt('CLOUDY_PIXEL_PERCENTAGE', cloud_probability_threshold))\n",
    "    .filterBounds(ee_geometry)\n",
    "    .map(functions)\n",
    ")\n",
    "\n",
    "visualization = {\n",
    "    'min': 0.0,\n",
    "    'max': 0.3,\n",
    "    'bands': ['B4', 'B3', 'B2'],\n",
    "}\n",
    "\n",
    "# 创建地图对象并添加图层控制\n",
    "m = geemap.Map()\n",
    "m.addLayerControl()\n",
    "# 添加 Sentinel-2 数据图层\n",
    "m.addLayer(view_dataset.median(), visualization, 'RGB')\n",
    "# 添加矢量范围的边框\n",
    "m.addLayer(vector_layer.style(**{'color': 'red', 'fillColor': '00000000'}), {}, 'Vector Boundary')\n",
    "# 自动缩放到矢量图层\n",
    "m.centerObject(vector_layer, zoom=12)\n",
    "# 显示地图\n",
    "m"
   ]
  },
  {
   "cell_type": "markdown",
   "metadata": {},
   "source": [
    "# 下载数据"
   ]
  },
  {
   "cell_type": "code",
   "execution_count": null,
   "metadata": {},
   "outputs": [],
   "source": [
    "# 定义要下载的图像的参数\n",
    "area_of_interest =ee.Geometry.Rectangle([bbox['MinX'], bbox['MinY'], bbox['MaxX'], bbox['MaxY']])  # 请替换经度和纬度\n",
    "\n",
    "bands = ['B1', 'B2', 'B3', 'B4', 'B5', 'B6', 'B7', 'B8', 'B8A', 'B9', 'B11', 'B12','QA60','SCL']  # 选择要下载的波段\n",
    "\n",
    "# 创建Sentinel-2图像集合\n",
    "dataset = ee.ImageCollection('COPERNICUS/S2_SR_HARMONIZED') \\\n",
    "    .filterDate(start_date, end_date) \\\n",
    "    .filterBounds(area_of_interest) \\\n",
    "    .select(bands) \\\n",
    "    .filter(ee.Filter.lt('CLOUDY_PIXEL_PERCENTAGE', cloud_probability_threshold)) \\\n",
    "    .map(functions)"
   ]
  },
  {
   "cell_type": "code",
   "execution_count": null,
   "metadata": {},
   "outputs": [],
   "source": [
    "polygon_list = split_region(bounded_geometry,0.05,0.05)"
   ]
  },
  {
   "cell_type": "code",
   "execution_count": null,
   "metadata": {},
   "outputs": [],
   "source": [
    "len(polygon_list)"
   ]
  },
  {
   "cell_type": "code",
   "execution_count": null,
   "metadata": {},
   "outputs": [],
   "source": [
    "# 设置输出文件路径\n",
    "output_folder = r\"F:\\GEEDOWNLOAD\\sentinel2\\KY_20231001_20231230\"  # 输出文件夹路径\n",
    "output_file_prefix = 'Sentinel-2_scl'\n",
    "idx=1\n",
    "for one_polygon in polygon_list:\n",
    "    file_name = os.path.join(output_folder,f\"{output_file_prefix}_{idx}.tif\")\n",
    "    if os.path.exists(file_name):\n",
    "        print('已存在')\n",
    "    else:\n",
    "        geemap.ee_export_image(dataset.median(), filename=file_name, region=one_polygon,scale=10)\n",
    "    idx+=1\n",
    "    print(idx)"
   ]
  }
 ],
 "metadata": {
  "kernelspec": {
   "display_name": ".venvgis",
   "language": "python",
   "name": "python3"
  },
  "language_info": {
   "codemirror_mode": {
    "name": "ipython",
    "version": 3
   },
   "file_extension": ".py",
   "mimetype": "text/x-python",
   "name": "python",
   "nbconvert_exporter": "python",
   "pygments_lexer": "ipython3",
   "version": "3.10.11"
  }
 },
 "nbformat": 4,
 "nbformat_minor": 2
}
