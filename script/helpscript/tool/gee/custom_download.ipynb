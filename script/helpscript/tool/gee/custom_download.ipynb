{
 "cells": [
  {
   "cell_type": "markdown",
   "metadata": {},
   "source": [
    "# 下载Google earth data"
   ]
  },
  {
   "cell_type": "code",
   "execution_count": 4,
   "metadata": {},
   "outputs": [
    {
     "data": {
      "text/html": [
       "\n",
       "            <style>\n",
       "                .geemap-dark {\n",
       "                    --jp-widgets-color: white;\n",
       "                    --jp-widgets-label-color: white;\n",
       "                    --jp-ui-font-color1: white;\n",
       "                    --jp-layout-color2: #454545;\n",
       "                    background-color: #383838;\n",
       "                }\n",
       "\n",
       "                .geemap-dark .jupyter-button {\n",
       "                    --jp-layout-color3: #383838;\n",
       "                }\n",
       "\n",
       "                .geemap-colab {\n",
       "                    background-color: var(--colab-primary-surface-color, white);\n",
       "                }\n",
       "\n",
       "                .geemap-colab .jupyter-button {\n",
       "                    --jp-layout-color3: var(--colab-primary-surface-color, white);\n",
       "                }\n",
       "            </style>\n",
       "            "
      ],
      "text/plain": [
       "<IPython.core.display.HTML object>"
      ]
     },
     "metadata": {},
     "output_type": "display_data"
    }
   ],
   "source": [
    "import ee\n",
    "import geemap\n",
    "import os\n",
    "import math\n",
    "import geopandas as gpd\n",
    "# 用户验证\n",
    "# ee.Authenticate()\n",
    "# 初始化Google Earth Engine\n",
    "ee.Initialize()"
   ]
  },
  {
   "cell_type": "code",
   "execution_count": null,
   "metadata": {},
   "outputs": [],
   "source": [
    "# 切分区域\n",
    "def split_region(region, col_size, row_size):\n",
    "    bounds = region.getInfo()['coordinates'][0]\n",
    "    original_minx, original_miny = bounds[0]\n",
    "    original_maxx, original_maxy = bounds[2]\n",
    "    \n",
    "    x_len = original_maxx - original_minx\n",
    "    y_len = original_maxy - original_miny\n",
    "    \n",
    "    # 向上取整\n",
    "    cols = math.ceil(x_len / col_size)\n",
    "    rows = math.ceil(y_len / row_size)\n",
    "    \n",
    "    rectangles = []\n",
    "    for i in range(cols):\n",
    "        current_minx = original_minx + i * col_size\n",
    "        current_maxx = current_minx + col_size\n",
    "        if current_maxx > original_maxx:\n",
    "            current_maxx = original_maxx\n",
    "        for j in range(rows):\n",
    "            current_miny = original_miny + j * row_size\n",
    "            current_maxy = current_miny + row_size\n",
    "            if current_maxy > original_maxy:\n",
    "                current_maxy = original_maxy\n",
    "            rect = ee.Geometry.Rectangle([current_minx, current_miny, current_maxx, current_maxy])\n",
    "            rectangles.append(rect)\n",
    "    return rectangles"
   ]
  },
  {
   "cell_type": "markdown",
   "metadata": {},
   "source": [
    "# 栅格过滤函数"
   ]
  },
  {
   "cell_type": "code",
   "execution_count": null,
   "metadata": {},
   "outputs": [],
   "source": [
    "# 筛选无云区域QA60\n",
    "def mask_s2_clouds_QA(image):\n",
    "  \"\"\"Masks clouds in a Sentinel-2 image using the QA band.\n",
    "\n",
    "  Args:\n",
    "      image (ee.Image): A Sentinel-2 image.\n",
    "\n",
    "  Returns:\n",
    "      ee.Image: A cloud-masked Sentinel-2 image.\n",
    "  \"\"\"\n",
    "  qa = image.select('QA60')\n",
    "\n",
    "  # Bits 10 and 11 are clouds and cirrus, respectively.\n",
    "  cloud_bit_mask = 1 << 10\n",
    "  cirrus_bit_mask = 1 << 11\n",
    "\n",
    "  # Both flags should be set to zero, indicating clear conditions.\n",
    "  mask = (\n",
    "      qa.bitwiseAnd(cloud_bit_mask)\n",
    "      .eq(0)\n",
    "      .And(qa.bitwiseAnd(cirrus_bit_mask).eq(0))\n",
    "  )\n",
    "\n",
    "  return image.updateMask(mask).divide(10000)\n",
    "# 筛选无云区域SCL\n",
    "def mask_s2_clouds_SCL(image):\n",
    "    \"\"\"Masks clouds in a Sentinel-2 image using the SCL band.\n",
    "\n",
    "    Args:\n",
    "        image (ee.Image): A Sentinel-2 image.\n",
    "\n",
    "    Returns:\n",
    "        ee.Image: A cloud-masked Sentinel-2 image.\n",
    "    \"\"\"\n",
    "    scl = image.select('SCL')\n",
    "\n",
    "    # Define the cloud mask. Typically, values 3, 8, 9, 10, and 11 in the SCL\n",
    "    # band represent cloud and shadow conditions.\n",
    "    cloud_shadow = scl.eq(3)  # Cloud shadows\n",
    "    cloud_medium_prob = scl.eq(8)  # Medium probability clouds\n",
    "    cloud_high_prob = scl.eq(9)  # High probability clouds\n",
    "    thin_cirrus = scl.eq(10)  # Thin cirrus\n",
    "    cloud_mask = cloud_shadow.Or(cloud_medium_prob).Or(cloud_high_prob).Or(thin_cirrus)\n",
    "\n",
    "    return image.updateMask(cloud_mask.Not()).divide(10000)"
   ]
  },
  {
   "cell_type": "code",
   "execution_count": null,
   "metadata": {},
   "outputs": [],
   "source": [
    "# 读取本地Shapefile 得到处理区域\n",
    "shapefile_path = r\"F:\\ArcgisData\\shp_polygon\\KY500.shp\"\n",
    "gdf = gpd.read_file(shapefile_path)\n",
    "\n",
    "\n",
    "bounds = gdf['geometry'][0].bounds\n",
    "bbox = {\n",
    "    'MinX': bounds[0],\n",
    "    'MinY': bounds[1],\n",
    "    'MaxX': bounds[2],\n",
    "    'MaxY': bounds[3]\n",
    "}\n",
    "\n",
    "# 获取第一个几何对象\n",
    "geometry = gdf.geometry.iloc[0]\n",
    "# 2. 将 Earth Engine 几何对象转换为 Feature 对象\n",
    "ee_geometry = ee.Geometry(geometry.__geo_interface__)\n",
    "# 3. 将 Earth Engine 几何对象转换为 Feature 对象\n",
    "feature = ee.Feature(ee_geometry)\n",
    "\n",
    "# 4. 将 Feature 对象放入 FeatureCollection 中\n",
    "feature_collection = ee.FeatureCollection([feature])\n",
    "\n",
    "# 获取 FeatureCollection 的边界几何对象\n",
    "bounded_geometry = feature_collection.geometry().bounds()\n",
    "# 矢量边框\n",
    "vector_layer = ee.FeatureCollection([ee.Feature(ee_geometry)])"
   ]
  },
  {
   "cell_type": "markdown",
   "metadata": {},
   "source": [
    "# 在地图中查看筛选结果"
   ]
  },
  {
   "cell_type": "code",
   "execution_count": null,
   "metadata": {},
   "outputs": [],
   "source": [
    "# 时间范围\n",
    "start_date = '2023-10-01'  # 开始日期\n",
    "end_date = '2023-12-30'    # 结束日期\n",
    "# 云概率\n",
    "cloud_probability_threshold = 80  # 云概率阈值\n",
    "# 函数\n",
    "functions = mask_s2_clouds_SCL"
   ]
  },
  {
   "cell_type": "code",
   "execution_count": null,
   "metadata": {},
   "outputs": [],
   "source": [
    "# 创建 Sentinel-2 数据集并过滤指定区域\n",
    "view_dataset = (\n",
    "    # ee.ImageCollection('COPERNICUS/S2_SR')\n",
    "    ee.ImageCollection('COPERNICUS/S2_SR_HARMONIZED')\n",
    "    .filterDate(start_date, end_date)\n",
    "    .filter(ee.Filter.lt('CLOUDY_PIXEL_PERCENTAGE', cloud_probability_threshold))\n",
    "    .filterBounds(ee_geometry)\n",
    "    .map(functions)\n",
    ")\n",
    "\n",
    "visualization = {\n",
    "    'min': 0.0,\n",
    "    'max': 0.3,\n",
    "    'bands': ['B4', 'B3', 'B2'],\n",
    "}\n",
    "\n",
    "# 创建地图对象并添加图层控制\n",
    "m = geemap.Map()\n",
    "m.addLayerControl()\n",
    "# 添加 Sentinel-2 数据图层\n",
    "m.addLayer(view_dataset.median(), visualization, 'RGB')\n",
    "# 添加矢量范围的边框\n",
    "m.addLayer(vector_layer.style(**{'color': 'red', 'fillColor': '00000000'}), {}, 'Vector Boundary')\n",
    "# 自动缩放到矢量图层\n",
    "m.centerObject(vector_layer, zoom=12)\n",
    "# 显示地图\n",
    "m"
   ]
  },
  {
   "cell_type": "markdown",
   "metadata": {},
   "source": [
    "# 下载数据"
   ]
  },
  {
   "cell_type": "code",
   "execution_count": null,
   "metadata": {},
   "outputs": [],
   "source": [
    "# 定义要下载的图像的参数\n",
    "area_of_interest =ee.Geometry.Rectangle([bbox['MinX'], bbox['MinY'], bbox['MaxX'], bbox['MaxY']])  # 请替换经度和纬度\n",
    "\n",
    "bands = ['B1', 'B2', 'B3', 'B4', 'B5', 'B6', 'B7', 'B8', 'B8A', 'B9', 'B11', 'B12','QA60','SCL']  # 选择要下载的波段\n",
    "\n",
    "# 创建Sentinel-2图像集合\n",
    "dataset = ee.ImageCollection('COPERNICUS/S2_SR_HARMONIZED') \\\n",
    "    .filterDate(start_date, end_date) \\\n",
    "    .filterBounds(area_of_interest) \\\n",
    "    .select(bands) \\\n",
    "    .filter(ee.Filter.lt('CLOUDY_PIXEL_PERCENTAGE', cloud_probability_threshold)) \\\n",
    "    .map(functions)"
   ]
  },
  {
   "cell_type": "code",
   "execution_count": null,
   "metadata": {},
   "outputs": [],
   "source": [
    "polygon_list = split_region(bounded_geometry,0.05,0.05)"
   ]
  },
  {
   "cell_type": "code",
   "execution_count": null,
   "metadata": {},
   "outputs": [],
   "source": [
    "len(polygon_list)"
   ]
  },
  {
   "cell_type": "code",
   "execution_count": null,
   "metadata": {},
   "outputs": [],
   "source": [
    "# 设置输出文件路径\n",
    "output_folder = r\"F:\\GEEDOWNLOAD\\sentinel2\\KY_20231001_20231230\"  # 输出文件夹路径\n",
    "output_file_prefix = 'Sentinel-2_scl'\n",
    "idx=1\n",
    "for one_polygon in polygon_list:\n",
    "    file_name = os.path.join(output_folder,f\"{output_file_prefix}_{idx}.tif\")\n",
    "    if os.path.exists(file_name):\n",
    "        print('已存在')\n",
    "    else:\n",
    "        geemap.ee_export_image(dataset.median(), filename=file_name, region=one_polygon,scale=10)\n",
    "    idx+=1\n",
    "    print(idx)"
   ]
  }
 ],
 "metadata": {
  "kernelspec": {
   "display_name": ".venvgis",
   "language": "python",
   "name": "python3"
  },
  "language_info": {
   "codemirror_mode": {
    "name": "ipython",
    "version": 3
   },
   "file_extension": ".py",
   "mimetype": "text/x-python",
   "name": "python",
   "nbconvert_exporter": "python",
   "pygments_lexer": "ipython3",
   "version": "3.10.11"
  }
 },
 "nbformat": 4,
 "nbformat_minor": 2
}
