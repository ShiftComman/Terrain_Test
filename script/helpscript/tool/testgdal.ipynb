{
 "cells": [
  {
   "cell_type": "code",
   "execution_count": 2,
   "metadata": {},
   "outputs": [],
   "source": [
    "import gdal\n",
    "import numpy as np\n",
    "\n",
    "# 读取原始栅格数据\n",
    "def read_raster(raster_path):\n",
    "    dataset = gdal.Open(raster_path)\n",
    "    band = dataset.GetRasterBand(1)\n",
    "    raster_array = band.ReadAsArray()\n",
    "    return raster_array\n",
    "\n",
    "# 将预测结果写入新的栅格文件\n",
    "def write_raster(output_path, input_dataset, output_array):\n",
    "    driver = gdal.GetDriverByName(\"GTiff\")\n",
    "    output_dataset = driver.Create(\n",
    "        output_path,\n",
    "        input_dataset.RasterXSize,\n",
    "        input_dataset.RasterYSize,\n",
    "        1,  # 单波段\n",
    "        gdal.GDT_Float32,  # 数据类型为浮点数\n",
    "    )\n",
    "    output_dataset.SetGeoTransform(input_dataset.GetGeoTransform())\n",
    "    output_dataset.SetProjection(input_dataset.GetProjection())\n",
    "    output_band = output_dataset.GetRasterBand(1)\n",
    "    output_band.WriteArray(output_array)\n",
    "    output_band.FlushCache()\n",
    "\n",
    "# # 预测新的栅格数据\n",
    "# predicted_raster = model.predict(np.expand_dims(input_raster, axis=0))\n",
    "# predicted_raster = predicted_raster.squeeze()  # 去除额外的维度\n",
    "\n",
    "# # 写入新的栅格数据\n",
    "# output_raster_path = 'path_to_your_output_raster.tif'\n",
    "# input_dataset = gdal.Open(input_raster_path)\n",
    "# write_raster(output_raster_path, input_dataset, predicted_raster)"
   ]
  },
  {
   "cell_type": "code",
   "execution_count": 8,
   "metadata": {},
   "outputs": [
    {
     "data": {
      "text/plain": [
       "1810.7"
      ]
     },
     "execution_count": 8,
     "metadata": {},
     "output_type": "execute_result"
    }
   ],
   "source": [
    "# 加载已训练的模型\n",
    "# model = load_model('path_to_your_trained_model.h5')\n",
    "\n",
    "# 读取输入栅格数据\n",
    "input_raster_path = './datafile/SY_DEM1.tif'\n",
    "input_raster = read_raster(input_raster_path)"
   ]
  }
 ],
 "metadata": {
  "kernelspec": {
   "display_name": "Python 3",
   "language": "python",
   "name": "python3"
  },
  "language_info": {
   "codemirror_mode": {
    "name": "ipython",
    "version": 3
   },
   "file_extension": ".py",
   "mimetype": "text/x-python",
   "name": "python",
   "nbconvert_exporter": "python",
   "pygments_lexer": "ipython3",
   "version": "3.8.10"
  },
  "orig_nbformat": 4
 },
 "nbformat": 4,
 "nbformat_minor": 2
}
