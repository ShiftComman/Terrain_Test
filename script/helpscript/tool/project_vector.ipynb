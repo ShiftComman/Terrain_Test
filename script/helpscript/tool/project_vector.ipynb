{
 "cells": [
  {
   "cell_type": "code",
   "execution_count": 1,
   "metadata": {},
   "outputs": [],
   "source": [
    "import arcpy"
   ]
  },
  {
   "cell_type": "code",
   "execution_count": 2,
   "metadata": {},
   "outputs": [],
   "source": [
    "arcpy.env.overwriteOutput = True"
   ]
  },
  {
   "cell_type": "code",
   "execution_count": 3,
   "metadata": {},
   "outputs": [],
   "source": [
    "# 投影\n",
    "def project_vector(in_path, out_path, spatial_ref_vector):\n",
    "    \"\"\"\n",
    "    call: project_vector(in_path, out_path, spatial_ref_vector)\n",
    "    in_path: 输入的矢量路径\n",
    "    out_path: 输出的矢量路径\n",
    "    spatial_ref_vector: 矢量投影的参考系路径\n",
    "    \"\"\"\n",
    "    spatial_ref = arcpy.Describe(spatial_ref_vector).spatialReference\n",
    "    arcpy.Project_management(in_path, out_path, spatial_ref)"
   ]
  },
  {
   "cell_type": "code",
   "execution_count": 6,
   "metadata": {},
   "outputs": [],
   "source": [
    "in_path = r'D:\\ArcGISProjects\\workspace\\shbyq\\features_data_vector.gdb\\extent\\DY_500_extent'\n",
    "out_path = r'D:\\ArcGISProjects\\workspace\\shbyq\\features_data_vector.gdb\\extent_p\\DY_500_extent_project'\n",
    "spatial_ref_vector = r'D:\\ArcGISProjects\\workspace\\shbyq\\features_data_sb.gdb\\DEM'\n"
   ]
  },
  {
   "cell_type": "code",
   "execution_count": 7,
   "metadata": {},
   "outputs": [],
   "source": [
    "project_vector(in_path,out_path,spatial_ref_vector)"
   ]
  }
 ],
 "metadata": {
  "kernelspec": {
   "display_name": "Python 3",
   "language": "python",
   "name": "python3"
  },
  "language_info": {
   "codemirror_mode": {
    "name": "ipython",
    "version": 3
   },
   "file_extension": ".py",
   "mimetype": "text/x-python",
   "name": "python",
   "nbconvert_exporter": "python",
   "pygments_lexer": "ipython3",
   "version": "3.9.11"
  }
 },
 "nbformat": 4,
 "nbformat_minor": 2
}
