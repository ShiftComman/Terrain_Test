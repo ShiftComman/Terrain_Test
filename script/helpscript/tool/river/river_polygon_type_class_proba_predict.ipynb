{
 "cells": [
  {
   "cell_type": "code",
   "execution_count": 1,
   "metadata": {},
   "outputs": [],
   "source": [
    "import os\n",
    "import json\n",
    "import pandas as pd\n",
    "import numpy as np\n",
    "from autogluon.tabular import TabularPredictor\n",
    "from pykrige.ok import OrdinaryKriging\n",
    "from sklearn.metrics import r2_score\n",
    "from pyproj import Transformer\n",
    "from tqdm import tqdm\n",
    "import pickle"
   ]
  },
  {
   "cell_type": "code",
   "execution_count": 2,
   "metadata": {},
   "outputs": [],
   "source": [
    "# 获取当前日期\n",
    "def get_dtime():\n",
    "    # 例如20240516\n",
    "    import datetime\n",
    "    dtime = datetime.datetime.now().strftime('%Y%m%d')\n",
    "    return dtime"
   ]
  },
  {
   "cell_type": "code",
   "execution_count": 3,
   "metadata": {},
   "outputs": [],
   "source": [
    "# 导入autogluon模型\n",
    "model_path = r\"F:\\cache_data\\zone_ana\\dy\\modle\\rcnt_class\"\n",
    "cnt_predictor = TabularPredictor.load(os.path.join(model_path, f\"{'cnt'}_model\"))"
   ]
  },
  {
   "cell_type": "code",
   "execution_count": 4,
   "metadata": {},
   "outputs": [
    {
     "data": {
      "text/plain": [
       "('WeightedEnsemble_L2',\n",
       " ['RandomForestGini',\n",
       "  'RandomForestEntr',\n",
       "  'ExtraTreesGini',\n",
       "  'ExtraTreesEntr',\n",
       "  'NeuralNetFastAI',\n",
       "  'NeuralNetTorch',\n",
       "  'WeightedEnsemble_L2'])"
      ]
     },
     "execution_count": 4,
     "metadata": {},
     "output_type": "execute_result"
    }
   ],
   "source": [
    "cnt_predictor.model_best,cnt_predictor.model_names()"
   ]
  },
  {
   "cell_type": "code",
   "execution_count": 5,
   "metadata": {},
   "outputs": [
    {
     "name": "stdout",
     "output_type": "stream",
     "text": [
      "CNT ['DEM_MIN', 'DEM_MAX', 'DEM_RANGE', 'DEM_MEAN', 'DEM_STD', 'DEM_PCT90', 'PlanCurvature_RANGE', 'PlanCurvature_MEAN', 'PlanCurvature_STD', 'ProfileCurvature_RANGE', 'ProfileCurvature_MEAN', 'ProfileCurvature_STD', 'Slope_MIN', 'Slope_MAX', 'Slope_RANGE', 'Slope_MEAN', 'Slope_STD', 'ndvi_MIN', 'ndvi_MAX', 'ndvi_RANGE', 'ndvi_MEAN', 'ndvi_STD', 'PCA_0_MEAN', 'PCA_0_STD', 'MRRTF_MEAN', 'MRRTF_STD', 'MRVBF_MIN', 'MRVBF_MAX', 'MRVBF_RANGE', 'MRVBF_MEAN', 'MRVBF_STD']\n"
     ]
    }
   ],
   "source": [
    "# 获取特征\n",
    "cnt_feature_names = cnt_predictor.feature_metadata_in.get_features()\n",
    "print(\"CNT\",cnt_feature_names)\n"
   ]
  },
  {
   "cell_type": "code",
   "execution_count": 7,
   "metadata": {},
   "outputs": [],
   "source": [
    "# 存放预测结果的路径\n",
    "result_path =  r\"C:\\Users\\Runker\\Desktop\\CNT_TRAIN\\pre_table\""
   ]
  },
  {
   "cell_type": "code",
   "execution_count": 8,
   "metadata": {},
   "outputs": [],
   "source": [
    "# 读取数据集\n",
    "feature_path = r\"C:\\Users\\Runker\\Desktop\\CNT_TRAIN\\train_table\\pre.csv\""
   ]
  },
  {
   "cell_type": "code",
   "execution_count": 9,
   "metadata": {},
   "outputs": [],
   "source": [
    "feature_df = pd.read_csv(feature_path)"
   ]
  },
  {
   "cell_type": "code",
   "execution_count": 11,
   "metadata": {},
   "outputs": [],
   "source": [
    "# 获取对照字典\n",
    "with open(r'D:\\worker_code\\Terrain_Test\\data\\cnt_dict.json', 'r') as f:\n",
    "    cnt_dict = json.load(f)\n",
    "# 将键转为int\n",
    "cnt_dict = {int(k):v for k, v in cnt_dict.items()}"
   ]
  },
  {
   "cell_type": "code",
   "execution_count": 13,
   "metadata": {},
   "outputs": [],
   "source": [
    "# 模型选择\n",
    "select_model = 'RandomForestGini'"
   ]
  },
  {
   "cell_type": "code",
   "execution_count": 14,
   "metadata": {},
   "outputs": [],
   "source": [
    "# 概率预测函数\n",
    "def predict_top_classes(data, predictor,feature_names, model, top_n, cnt_dict):\n",
    "    \"\"\"\n",
    "    根据给定的AutoGluon模型，预测数据集中的前n个最可能的类别及其概率，并根据提供的字典转换类别编号为描述字符串。\n",
    "    参数:\n",
    "    data (DataFrame): 输入的数据集。\n",
    "    predictor（model）: 对应的模型\n",
    "    feature_names (list): 用于预测的特征名列表。\n",
    "    model (str): 选择的模型名称。\n",
    "    top_n (int): 需要返回的最高概率的类别数量。\n",
    "    soil_dict (dict): 类别编号到描述字符串的映射字典。\n",
    "    \n",
    "    返回:\n",
    "    DataFrame: 原始数据与预测结果合并后的DataFrame。\n",
    "    \"\"\"\n",
    "    # 复制数据\n",
    "    data = data.copy()\n",
    "    # 预测概率\n",
    "    pred_probs = predictor.predict_proba(data[feature_names], model=model)\n",
    "    # 获取概率最高的前n个类别及其概率\n",
    "    top_classes = pred_probs.apply(lambda x: pd.Series(x.nlargest(top_n).index.astype(int).tolist() + x.nlargest(top_n).values.tolist()), axis=1)\n",
    "    # 重命名列\n",
    "    class_cols = ['Class{}'.format(i+1) for i in range(top_n)]\n",
    "    prob_cols = ['Prob{}'.format(i+1) for i in range(top_n)]\n",
    "    top_classes.columns = class_cols + prob_cols\n",
    "    # 转换类别编号为描述字符串\n",
    "    for col in class_cols:\n",
    "        top_classes[col] = top_classes[col].map(cnt_dict)\n",
    "    # 计算每个预测的熵\n",
    "    entropy = pred_probs.apply(lambda x: -np.sum(x * np.log(x + 1e-9)), axis=1)\n",
    "    top_classes['Entropy'] = entropy\n",
    "    # 计算每个预测的不确定性（标准差）\n",
    "    uncertainty = pred_probs.std(axis=1)\n",
    "    top_classes['Uncertainty'] = uncertainty\n",
    "    # 将新列添加到原有的DataFrame中\n",
    "    return pd.concat([data, top_classes], axis=1)"
   ]
  },
  {
   "cell_type": "code",
   "execution_count": 15,
   "metadata": {},
   "outputs": [],
   "source": [
    "# CNT\n",
    "cnt_result_df = predict_top_classes(feature_df, cnt_predictor,cnt_feature_names, select_model, 2, cnt_dict)"
   ]
  },
  {
   "cell_type": "code",
   "execution_count": 16,
   "metadata": {},
   "outputs": [
    {
     "data": {
      "text/plain": [
       "Index(['Unnamed: 0', 'OBJECTID_1', 'DEM_COUNT', 'DEM_AREA', 'DEM_MIN',\n",
       "       'DEM_MAX', 'DEM_RANGE', 'DEM_MEAN', 'DEM_STD', 'DEM_SUM', 'DEM_MEDIAN',\n",
       "       'DEM_PCT90', 'PlanCurvature_COUNT', 'PlanCurvature_AREA',\n",
       "       'PlanCurvature_MIN', 'PlanCurvature_MAX', 'PlanCurvature_RANGE',\n",
       "       'PlanCurvature_MEAN', 'PlanCurvature_STD', 'PlanCurvature_SUM',\n",
       "       'PlanCurvature_MEDIAN', 'PlanCurvature_PCT90', 'ProfileCurvature_COUNT',\n",
       "       'ProfileCurvature_AREA', 'ProfileCurvature_MIN', 'ProfileCurvature_MAX',\n",
       "       'ProfileCurvature_RANGE', 'ProfileCurvature_MEAN',\n",
       "       'ProfileCurvature_STD', 'ProfileCurvature_SUM',\n",
       "       'ProfileCurvature_MEDIAN', 'ProfileCurvature_PCT90', 'Slope_COUNT',\n",
       "       'Slope_AREA', 'Slope_MIN', 'Slope_MAX', 'Slope_RANGE', 'Slope_MEAN',\n",
       "       'Slope_STD', 'Slope_SUM', 'Slope_MEDIAN', 'Slope_PCT90', 'ndvi_COUNT',\n",
       "       'ndvi_AREA', 'ndvi_MIN', 'ndvi_MAX', 'ndvi_RANGE', 'ndvi_MEAN',\n",
       "       'ndvi_STD', 'ndvi_SUM', 'ndvi_MEDIAN', 'ndvi_PCT90', 'PCA_0_COUNT',\n",
       "       'PCA_0_AREA', 'PCA_0_MIN', 'PCA_0_MAX', 'PCA_0_RANGE', 'PCA_0_MEAN',\n",
       "       'PCA_0_STD', 'PCA_0_SUM', 'PCA_0_MEDIAN', 'PCA_0_PCT90', 'MRRTF_COUNT',\n",
       "       'MRRTF_AREA', 'MRRTF_MIN', 'MRRTF_MAX', 'MRRTF_RANGE', 'MRRTF_MEAN',\n",
       "       'MRRTF_STD', 'MRRTF_SUM', 'MRRTF_MEDIAN', 'MRRTF_PCT90', 'MRVBF_COUNT',\n",
       "       'MRVBF_AREA', 'MRVBF_MIN', 'MRVBF_MAX', 'MRVBF_RANGE', 'MRVBF_MEAN',\n",
       "       'MRVBF_STD', 'MRVBF_SUM', 'MRVBF_MEDIAN', 'MRVBF_PCT90', 'Class1',\n",
       "       'Class2', 'Prob1', 'Prob2', 'Entropy', 'Uncertainty'],\n",
       "      dtype='object')"
      ]
     },
     "execution_count": 16,
     "metadata": {},
     "output_type": "execute_result"
    }
   ],
   "source": [
    "cnt_result_df.columns"
   ]
  },
  {
   "cell_type": "code",
   "execution_count": 18,
   "metadata": {},
   "outputs": [],
   "source": [
    "# 获取指定列\n",
    "result_df = cnt_result_df[['OBJECTID_1','Class1', 'Class2',  'Prob1','Prob2',  'Entropy', 'Uncertainty']]"
   ]
  },
  {
   "cell_type": "code",
   "execution_count": 19,
   "metadata": {},
   "outputs": [],
   "source": [
    "# 保存数据\n",
    "result_df.to_csv(os.path.join(result_path, f'prediction_class_{select_model}_{get_dtime()}.csv'),index=False)"
   ]
  },
  {
   "cell_type": "code",
   "execution_count": 20,
   "metadata": {},
   "outputs": [
    {
     "data": {
      "text/html": [
       "<div>\n",
       "<style scoped>\n",
       "    .dataframe tbody tr th:only-of-type {\n",
       "        vertical-align: middle;\n",
       "    }\n",
       "\n",
       "    .dataframe tbody tr th {\n",
       "        vertical-align: top;\n",
       "    }\n",
       "\n",
       "    .dataframe thead th {\n",
       "        text-align: right;\n",
       "    }\n",
       "</style>\n",
       "<table border=\"1\" class=\"dataframe\">\n",
       "  <thead>\n",
       "    <tr style=\"text-align: right;\">\n",
       "      <th></th>\n",
       "      <th>OBJECTID_1</th>\n",
       "      <th>Class1</th>\n",
       "      <th>Class2</th>\n",
       "      <th>Prob1</th>\n",
       "      <th>Prob2</th>\n",
       "      <th>Entropy</th>\n",
       "      <th>Uncertainty</th>\n",
       "    </tr>\n",
       "  </thead>\n",
       "  <tbody>\n",
       "    <tr>\n",
       "      <th>0</th>\n",
       "      <td>6</td>\n",
       "      <td>NOT_CNT</td>\n",
       "      <td>IS_CNT</td>\n",
       "      <td>0.790000</td>\n",
       "      <td>0.210000</td>\n",
       "      <td>0.513957</td>\n",
       "      <td>0.410122</td>\n",
       "    </tr>\n",
       "    <tr>\n",
       "      <th>1</th>\n",
       "      <td>7</td>\n",
       "      <td>NOT_CNT</td>\n",
       "      <td>IS_CNT</td>\n",
       "      <td>0.893333</td>\n",
       "      <td>0.106667</td>\n",
       "      <td>0.339489</td>\n",
       "      <td>0.556257</td>\n",
       "    </tr>\n",
       "    <tr>\n",
       "      <th>2</th>\n",
       "      <td>8</td>\n",
       "      <td>NOT_CNT</td>\n",
       "      <td>IS_CNT</td>\n",
       "      <td>0.530000</td>\n",
       "      <td>0.470000</td>\n",
       "      <td>0.691346</td>\n",
       "      <td>0.042426</td>\n",
       "    </tr>\n",
       "    <tr>\n",
       "      <th>3</th>\n",
       "      <td>15</td>\n",
       "      <td>NOT_CNT</td>\n",
       "      <td>IS_CNT</td>\n",
       "      <td>0.966667</td>\n",
       "      <td>0.033333</td>\n",
       "      <td>0.146145</td>\n",
       "      <td>0.659966</td>\n",
       "    </tr>\n",
       "    <tr>\n",
       "      <th>4</th>\n",
       "      <td>17</td>\n",
       "      <td>NOT_CNT</td>\n",
       "      <td>IS_CNT</td>\n",
       "      <td>0.816667</td>\n",
       "      <td>0.183333</td>\n",
       "      <td>0.476411</td>\n",
       "      <td>0.447834</td>\n",
       "    </tr>\n",
       "    <tr>\n",
       "      <th>...</th>\n",
       "      <td>...</td>\n",
       "      <td>...</td>\n",
       "      <td>...</td>\n",
       "      <td>...</td>\n",
       "      <td>...</td>\n",
       "      <td>...</td>\n",
       "      <td>...</td>\n",
       "    </tr>\n",
       "    <tr>\n",
       "      <th>12372</th>\n",
       "      <td>22201</td>\n",
       "      <td>NOT_CNT</td>\n",
       "      <td>IS_CNT</td>\n",
       "      <td>0.980000</td>\n",
       "      <td>0.020000</td>\n",
       "      <td>0.098039</td>\n",
       "      <td>0.678823</td>\n",
       "    </tr>\n",
       "    <tr>\n",
       "      <th>12373</th>\n",
       "      <td>22202</td>\n",
       "      <td>IS_CNT</td>\n",
       "      <td>NOT_CNT</td>\n",
       "      <td>0.856667</td>\n",
       "      <td>0.143333</td>\n",
       "      <td>0.410969</td>\n",
       "      <td>0.504403</td>\n",
       "    </tr>\n",
       "    <tr>\n",
       "      <th>12374</th>\n",
       "      <td>22203</td>\n",
       "      <td>IS_CNT</td>\n",
       "      <td>NOT_CNT</td>\n",
       "      <td>0.863333</td>\n",
       "      <td>0.136667</td>\n",
       "      <td>0.398866</td>\n",
       "      <td>0.513831</td>\n",
       "    </tr>\n",
       "    <tr>\n",
       "      <th>12375</th>\n",
       "      <td>60319</td>\n",
       "      <td>NOT_CNT</td>\n",
       "      <td>IS_CNT</td>\n",
       "      <td>0.993333</td>\n",
       "      <td>0.006667</td>\n",
       "      <td>0.040049</td>\n",
       "      <td>0.697679</td>\n",
       "    </tr>\n",
       "    <tr>\n",
       "      <th>12376</th>\n",
       "      <td>155838</td>\n",
       "      <td>NOT_CNT</td>\n",
       "      <td>IS_CNT</td>\n",
       "      <td>0.883333</td>\n",
       "      <td>0.116667</td>\n",
       "      <td>0.360231</td>\n",
       "      <td>0.542115</td>\n",
       "    </tr>\n",
       "  </tbody>\n",
       "</table>\n",
       "<p>12377 rows × 7 columns</p>\n",
       "</div>"
      ],
      "text/plain": [
       "       OBJECTID_1   Class1   Class2     Prob1     Prob2   Entropy  Uncertainty\n",
       "0               6  NOT_CNT   IS_CNT  0.790000  0.210000  0.513957     0.410122\n",
       "1               7  NOT_CNT   IS_CNT  0.893333  0.106667  0.339489     0.556257\n",
       "2               8  NOT_CNT   IS_CNT  0.530000  0.470000  0.691346     0.042426\n",
       "3              15  NOT_CNT   IS_CNT  0.966667  0.033333  0.146145     0.659966\n",
       "4              17  NOT_CNT   IS_CNT  0.816667  0.183333  0.476411     0.447834\n",
       "...           ...      ...      ...       ...       ...       ...          ...\n",
       "12372       22201  NOT_CNT   IS_CNT  0.980000  0.020000  0.098039     0.678823\n",
       "12373       22202   IS_CNT  NOT_CNT  0.856667  0.143333  0.410969     0.504403\n",
       "12374       22203   IS_CNT  NOT_CNT  0.863333  0.136667  0.398866     0.513831\n",
       "12375       60319  NOT_CNT   IS_CNT  0.993333  0.006667  0.040049     0.697679\n",
       "12376      155838  NOT_CNT   IS_CNT  0.883333  0.116667  0.360231     0.542115\n",
       "\n",
       "[12377 rows x 7 columns]"
      ]
     },
     "execution_count": 20,
     "metadata": {},
     "output_type": "execute_result"
    }
   ],
   "source": [
    "result_df"
   ]
  }
 ],
 "metadata": {
  "kernelspec": {
   "display_name": ".venvgis",
   "language": "python",
   "name": "python3"
  },
  "language_info": {
   "codemirror_mode": {
    "name": "ipython",
    "version": 3
   },
   "file_extension": ".py",
   "mimetype": "text/x-python",
   "name": "python",
   "nbconvert_exporter": "python",
   "pygments_lexer": "ipython3",
   "version": "3.10.11"
  }
 },
 "nbformat": 4,
 "nbformat_minor": 2
}
