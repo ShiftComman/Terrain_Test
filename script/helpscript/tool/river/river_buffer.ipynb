{
 "cells": [
  {
   "cell_type": "markdown",
   "metadata": {},
   "source": [
    "# RASTER TO BUFFER"
   ]
  },
  {
   "cell_type": "code",
   "execution_count": 4,
   "metadata": {},
   "outputs": [],
   "source": [
    "from osgeo import gdal\n",
    "import numpy as np\n",
    "from scipy.spatial import cKDTree\n",
    "import rasterio"
   ]
  },
  {
   "cell_type": "code",
   "execution_count": 5,
   "metadata": {},
   "outputs": [],
   "source": [
    "A_path = r\"C:\\Users\\Runker\\Desktop\\testaaa\\A.tif\"\n",
    "B_path = r\"C:\\Users\\Runker\\Desktop\\testaaa\\B.tif\""
   ]
  },
  {
   "cell_type": "code",
   "execution_count": 6,
   "metadata": {},
   "outputs": [],
   "source": [
    "# 加载栅格数据\n",
    "with rasterio.open(A_path) as srcA:\n",
    "    A = srcA.read(1)  # 读取第一个波段\n",
    "    affine_a = srcA.transform\n",
    "\n",
    "with rasterio.open(B_path) as srcB:\n",
    "    B = srcB.read(1)\n",
    "    affine_b = srcB.transform"
   ]
  },
  {
   "cell_type": "code",
   "execution_count": 7,
   "metadata": {},
   "outputs": [],
   "source": [
    "\n",
    "# 选择A和B中非0的像元\n",
    "non_zero_indices_A = np.nonzero(A)\n",
    "values_A = A[non_zero_indices_A]\n",
    "x_coords_A, y_coords_A = rasterio.transform.xy(affine_a, non_zero_indices_A[0], non_zero_indices_A[1], offset='center')\n",
    "coordinates_A_geo = np.vstack([x_coords_A, y_coords_A]).T\n",
    "\n",
    "non_zero_indices_B = np.nonzero(B)\n",
    "values_B = B[non_zero_indices_B]\n",
    "x_coords_B, y_coords_B = rasterio.transform.xy(affine_b, non_zero_indices_B[0], non_zero_indices_B[1], offset='center')\n",
    "coordinates_B_geo = np.vstack([x_coords_B, y_coords_B]).T\n"
   ]
  },
  {
   "cell_type": "code",
   "execution_count": 12,
   "metadata": {},
   "outputs": [
    {
     "data": {
      "text/plain": [
       "((39233619, 2), (892281, 2))"
      ]
     },
     "execution_count": 12,
     "metadata": {},
     "output_type": "execute_result"
    }
   ],
   "source": [
    "coordinates_B_geo.shape,coordinates_A_geo.shape"
   ]
  },
  {
   "cell_type": "code",
   "execution_count": 17,
   "metadata": {},
   "outputs": [],
   "source": [
    "# 使用cKDTree快速计算距离\n",
    "tree_A = cKDTree(coordinates_A_geo)\n",
    "tree_B = cKDTree(coordinates_B_geo)\n",
    "\n",
    "# 创建一个新数组用于保存输出结果，初始化为0\n",
    "output_image = np.zeros(B.shape, dtype=np.int32)\n",
    "\n",
    "# 对于A中的每个像元，找到B中距离不超过300米且值不超过A的像元值+5的所有B像元\n",
    "for value_a, coord_a in zip(values_A, coordinates_A_geo):\n",
    "    idx_B = tree_B.query_ball_point(coord_a, 300)  # 300米范围内的B像元索引\n",
    "    for idx in idx_B:\n",
    "        if values_B[idx] <= value_a + 5:\n",
    "            # 将符合条件的B像元标记为9999\n",
    "            output_image[non_zero_indices_B[0][idx], non_zero_indices_B[1][idx]] = 9999\n",
    "\n",
    "# 创建新的tif文件保存结果\n",
    "meta = {\n",
    "    'driver': 'GTiff',\n",
    "    'dtype': 'int32',\n",
    "    'nodata': None,\n",
    "    'width': B.shape[1],\n",
    "    'height': B.shape[0],\n",
    "    'count': 1,\n",
    "    'crs': srcB.crs,\n",
    "    'transform': affine_b,  # 使用从文件中提取的 transform\n",
    "    'compress': 'lzw'\n",
    "}\n",
    "\n",
    "\n",
    "with rasterio.open(r\"C:\\Users\\Runker\\Desktop\\testaaa\\result12_5.tif\", 'w', **meta) as dst:\n",
    "    dst.write(output_image, 1)\n"
   ]
  },
  {
   "cell_type": "code",
   "execution_count": null,
   "metadata": {},
   "outputs": [],
   "source": []
  },
  {
   "cell_type": "code",
   "execution_count": null,
   "metadata": {},
   "outputs": [],
   "source": []
  }
 ],
 "metadata": {
  "kernelspec": {
   "display_name": "Python 3",
   "language": "python",
   "name": "python3"
  },
  "language_info": {
   "codemirror_mode": {
    "name": "ipython",
    "version": 3
   },
   "file_extension": ".py",
   "mimetype": "text/x-python",
   "name": "python",
   "nbconvert_exporter": "python",
   "pygments_lexer": "ipython3",
   "version": "3.10.11"
  }
 },
 "nbformat": 4,
 "nbformat_minor": 2
}
