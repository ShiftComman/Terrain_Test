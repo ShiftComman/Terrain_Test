{
 "cells": [
  {
   "cell_type": "code",
   "execution_count": 1,
   "metadata": {},
   "outputs": [],
   "source": [
    "import os\n",
    "import arcpy\n",
    "from arcpy import env\n",
    "from arcpy.sa import *"
   ]
  },
  {
   "cell_type": "code",
   "execution_count": 21,
   "metadata": {},
   "outputs": [],
   "source": [
    "raster_path = r\"D:\\ArcgisData\\m5\\qx\""
   ]
  },
  {
   "cell_type": "code",
   "execution_count": 22,
   "metadata": {},
   "outputs": [],
   "source": [
    "raster_list = []\n",
    "for roots,dirs,files in os.walk(raster_path):\n",
    "    for one_file in files:\n",
    "        if one_file.endswith(\".bil\"):\n",
    "            raster_list.append(os.path.join(roots,one_file))"
   ]
  },
  {
   "cell_type": "code",
   "execution_count": 18,
   "metadata": {},
   "outputs": [],
   "source": [
    "# 镶嵌至新栅格\n",
    "def mosaic_new_raster(raster_list,out_gdb,out_name,pre_refer):\n",
    "    pre_refer_prj = arcpy.Describe(pre_refer).spatialReference\n",
    "    with arcpy.EnvManager(parallelProcessingFactor=\"0\"):\n",
    "        arcpy.management.MosaicToNewRaster(raster_list, out_gdb, out_name, pre_refer_prj, \"32_BIT_FLOAT\", None, 1, \"LAST\", \"FIRST\")"
   ]
  },
  {
   "cell_type": "code",
   "execution_count": 26,
   "metadata": {},
   "outputs": [],
   "source": [
    "out_gdb = r\"D:\\ArcGISProjects\\workspace\\shbyq\\features_data_cs.gdb\"\n",
    "out_name = \"DEM1\"\n",
    "pre_fer = r\"D:\\ArcGISProjects\\workspace\\duyun\\featuressdata_dy.gdb\\DEM\""
   ]
  },
  {
   "cell_type": "code",
   "execution_count": 24,
   "metadata": {},
   "outputs": [],
   "source": [
    "\n",
    "mosaic_new_raster(raster_list,out_gdb,out_name,pre_fer)"
   ]
  },
  {
   "cell_type": "code",
   "execution_count": 31,
   "metadata": {},
   "outputs": [],
   "source": [
    "# 处理异常值\n",
    "def Con_calc(raster,error_list):\n",
    "    # 按焦点统计\n",
    "\n",
    "\n",
    "    # 识别异常值\n",
    "    outCon1 = Con((Raster(raster) >error_list[0]) | (Raster(raster) <=error_list[1]), 1, 0)\n",
    "\n",
    "    # 使用焦点统计来处理异常值\n",
    "    neighborhood = NbrCircle(3, \"CELL\")  # 设置邻域大小和形状\n",
    "    # outFocalStat = FocalStatistics(raster, neighborhood, \"MINIMUM\")\n",
    "    outFocalStat = FocalStatistics(raster, neighborhood, \"MEAN\")\n",
    "\n",
    "    # 替换异常值\n",
    "    outRaster = Con(outCon1 == 1, 869.0, raster)\n",
    "    return outRaster\n",
    "    "
   ]
  },
  {
   "cell_type": "code",
   "execution_count": 29,
   "metadata": {},
   "outputs": [],
   "source": [
    "env.workspace = out_gdb"
   ]
  },
  {
   "cell_type": "code",
   "execution_count": 33,
   "metadata": {},
   "outputs": [],
   "source": [
    "dem_path = r\"D:\\ArcGISProjects\\workspace\\shbyq\\features_data_cs.gdb\\DEM1\"\n",
    "temp = Con_calc(dem_path,[4000,0])\n",
    "temp.save('DEM')"
   ]
  }
 ],
 "metadata": {
  "kernelspec": {
   "display_name": "Python 3",
   "language": "python",
   "name": "python3"
  },
  "language_info": {
   "codemirror_mode": {
    "name": "ipython",
    "version": 3
   },
   "file_extension": ".py",
   "mimetype": "text/x-python",
   "name": "python",
   "nbconvert_exporter": "python",
   "pygments_lexer": "ipython3",
   "version": "3.9.11"
  },
  "orig_nbformat": 4
 },
 "nbformat": 4,
 "nbformat_minor": 2
}
