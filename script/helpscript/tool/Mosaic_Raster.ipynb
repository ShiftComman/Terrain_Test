{
 "cells": [
  {
   "cell_type": "code",
   "execution_count": 6,
   "metadata": {},
   "outputs": [],
   "source": [
    "import os\n",
    "import arcpy\n",
    "from arcpy import env\n",
    "from arcpy.sa import *\n",
    "import re"
   ]
  },
  {
   "cell_type": "code",
   "execution_count": 2,
   "metadata": {},
   "outputs": [],
   "source": [
    "raster_path = r\"D:\\GEEDOWNLOAD\\sentinel2\\all\""
   ]
  },
  {
   "cell_type": "code",
   "execution_count": null,
   "metadata": {},
   "outputs": [],
   "source": []
  },
  {
   "cell_type": "code",
   "execution_count": 59,
   "metadata": {},
   "outputs": [],
   "source": [
    "raster_list = []\n",
    "for roots,dirs,files in os.walk(raster_path):\n",
    "    for one_file in files:\n",
    "        if one_file.endswith(\".tif\"):\n",
    "            raster_list.append(os.path.join(roots,one_file))\n",
    "import re\n",
    "\n",
    "\n",
    "# 使用正则表达式匹配下划线和点号之间的数字\n",
    "def find_number(path):\n",
    "    match = re.findall(r'_(\\d+)\\.', path)\n",
    "    return str(match[0]).zfill(3)\n",
    "raster_list = sorted(raster_list,key=find_number)"
   ]
  },
  {
   "cell_type": "code",
   "execution_count": 64,
   "metadata": {},
   "outputs": [],
   "source": [
    "# 镶嵌至新栅格\n",
    "def mosaic_new_raster(raster_list,out_gdb,out_name,pre_refer,bands:int):\n",
    "    pre_refer_prj = arcpy.Describe(pre_refer).spatialReference\n",
    "    with arcpy.EnvManager(parallelProcessingFactor=\"0\"):\n",
    "        arcpy.management.MosaicToNewRaster(raster_list, out_gdb, out_name, pre_refer_prj, \"32_BIT_FLOAT\", None, bands, \"LAST\", \"FIRST\")"
   ]
  },
  {
   "cell_type": "code",
   "execution_count": 63,
   "metadata": {},
   "outputs": [],
   "source": [
    "out_gdb = r\"D:\\ArcGISProjects\\workspace\\shbyq\"\n",
    "out_name = \"dy_bands14.tif\"\n",
    "pre_fer = r\"D:\\ArcGISProjects\\workspace\\shbyq\\features_data_dy.gdb\\DEM\""
   ]
  },
  {
   "cell_type": "code",
   "execution_count": 65,
   "metadata": {},
   "outputs": [],
   "source": [
    "\n",
    "mosaic_new_raster(raster_list,out_gdb,out_name,pre_fer,14)"
   ]
  },
  {
   "cell_type": "code",
   "execution_count": 19,
   "metadata": {},
   "outputs": [],
   "source": [
    "# 处理异常值\n",
    "def Con_calc(raster,error_list):\n",
    "    # 按焦点统计\n",
    "\n",
    "\n",
    "    # 识别异常值\n",
    "    outCon1 = Con((Raster(raster) >error_list[0]) | (Raster(raster) <=error_list[1]), 1, 0)\n",
    "\n",
    "    # 使用焦点统计来处理异常值\n",
    "    neighborhood = NbrCircle(3, \"CELL\")  # 设置邻域大小和形状\n",
    "    # outFocalStat = FocalStatistics(raster, neighborhood, \"MINIMUM\")\n",
    "    outFocalStat = FocalStatistics(raster, neighborhood, \"MEAN\")\n",
    "\n",
    "    # 替换异常值\n",
    "    outRaster = Con(outCon1 == 1, outFocalStat, raster)\n",
    "    return outRaster\n",
    "# 取消并行处理\n",
    "def disable_parallel_processing(func):\n",
    "    \"\"\"\"装饰器函数,取消并行处理,因为在部分PC中无法进行并行处理\"\"\"\n",
    "    def wrapper(*args, **kwargs):\n",
    "        with arcpy.EnvManager(parallelProcessingFactor=\"0\"):\n",
    "            return func(*args, **kwargs)\n",
    "    return wrapper\n",
    "\n",
    "# 填洼\n",
    "@disable_parallel_processing\n",
    "def fill_dem(dem_raster):\n",
    "    \"\"\"参数默认为最佳\"\"\"\n",
    "    fill_raster = Fill(dem_raster,)\n",
    "    return fill_raster\n",
    "    "
   ]
  },
  {
   "cell_type": "code",
   "execution_count": 12,
   "metadata": {},
   "outputs": [],
   "source": [
    "env.workspace = out_gdb"
   ]
  },
  {
   "cell_type": "code",
   "execution_count": 16,
   "metadata": {},
   "outputs": [],
   "source": [
    "dem_path = r\"D:\\ArcGISProjects\\workspace\\shbyq\\features_data_dy.gdb\\DEM2\"\n",
    "temp = Con_calc(dem_path,[4000,0])\n",
    "temp.save('DEM3')"
   ]
  },
  {
   "cell_type": "code",
   "execution_count": 20,
   "metadata": {},
   "outputs": [],
   "source": [
    "# 填洼\n",
    "fill_dem('DEM3').save('DEM4')"
   ]
  }
 ],
 "metadata": {
  "kernelspec": {
   "display_name": "Python 3",
   "language": "python",
   "name": "python3"
  },
  "language_info": {
   "codemirror_mode": {
    "name": "ipython",
    "version": 3
   },
   "file_extension": ".py",
   "mimetype": "text/x-python",
   "name": "python",
   "nbconvert_exporter": "python",
   "pygments_lexer": "ipython3",
   "version": "3.9.11"
  },
  "orig_nbformat": 4
 },
 "nbformat": 4,
 "nbformat_minor": 2
}
