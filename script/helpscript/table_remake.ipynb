{
 "cells": [
  {
   "cell_type": "code",
   "execution_count": 21,
   "metadata": {},
   "outputs": [],
   "source": [
    "import pandas as pd\n",
    "import numpy as np\n",
    "import os\n",
    "work_path = '../ArcGISProjects/syraster/out_file/'"
   ]
  },
  {
   "cell_type": "code",
   "execution_count": 3,
   "metadata": {},
   "outputs": [],
   "source": [
    "csv5_path = '../ArcGISProjects/syraster/out_file/SY_POINT_ASP_SLOP.csv'\n",
    "csv30_path = '../ArcGISProjects/syraster/out_file/SY_POINT_ASP_SLOP_30.csv'\n",
    "csv90_path = '../ArcGISProjects/syraster/out_file/SY_POINT_ASP_SLOP_90.csv'"
   ]
  },
  {
   "cell_type": "code",
   "execution_count": 4,
   "metadata": {},
   "outputs": [],
   "source": [
    "df_5 = pd.read_csv(csv5_path)\n",
    "df_30 = pd.read_csv(csv30_path)\n",
    "df_90 = pd.read_csv(csv90_path)"
   ]
  },
  {
   "cell_type": "code",
   "execution_count": 9,
   "metadata": {},
   "outputs": [
    {
     "data": {
      "text/plain": [
       "Index(['OID_', 'SY_POINT', 'X', 'Y', 'SY_ASP_Band_1', 'SY_SLOP_Band_1'], dtype='object')"
      ]
     },
     "execution_count": 9,
     "metadata": {},
     "output_type": "execute_result"
    }
   ],
   "source": [
    "df_5.columns"
   ]
  },
  {
   "cell_type": "code",
   "execution_count": 18,
   "metadata": {},
   "outputs": [
    {
     "data": {
      "text/plain": [
       "Index(['OID_', 'SY_POINT', 'X', 'Y', 'SY_ASP_30_Band_1', 'SY_SLOP_30_Band_1'], dtype='object')"
      ]
     },
     "execution_count": 18,
     "metadata": {},
     "output_type": "execute_result"
    }
   ],
   "source": [
    "df_30.columns"
   ]
  },
  {
   "cell_type": "code",
   "execution_count": 19,
   "metadata": {},
   "outputs": [
    {
     "data": {
      "text/plain": [
       "Index(['OID_', 'SY_POINT', 'X', 'Y', 'SY_ASP_90_Band_1', 'SY_SLOP_90_Band_1'], dtype='object')"
      ]
     },
     "execution_count": 19,
     "metadata": {},
     "output_type": "execute_result"
    }
   ],
   "source": [
    "df_90.columns"
   ]
  },
  {
   "cell_type": "code",
   "execution_count": 15,
   "metadata": {},
   "outputs": [],
   "source": [
    "# 坡向分类\n",
    "def classification(df, slope_column):\n",
    "    conditions = [\n",
    "        (df[slope_column] == -1),\n",
    "        (df[slope_column] > 0) & (df[slope_column] <= 22.5),\n",
    "        (df[slope_column] > 22.5) & (df[slope_column] <= 67.5),\n",
    "        (df[slope_column] > 67.5) & (df[slope_column] <= 112.5),\n",
    "        (df[slope_column] > 112.5) & (df[slope_column] <= 157.5),\n",
    "        (df[slope_column] > 157.5) & (df[slope_column] <= 202.5),\n",
    "        (df[slope_column] > 202.5) & (df[slope_column] <= 247.5),\n",
    "        (df[slope_column] > 247.5) & (df[slope_column] <= 292.5),\n",
    "        (df[slope_column] > 292.5) & (df[slope_column] <= 337.5),\n",
    "        (df[slope_column] > 337.5) & (df[slope_column] <= 360)\n",
    "    ]\n",
    "\n",
    "    choices = ['平面', '北', '东北', '东', '东南', '南', '西南', '西', '西北', '北']\n",
    "\n",
    "    df['slope'] = np.select(conditions, choices, '其它')\n",
    "    return df"
   ]
  },
  {
   "cell_type": "code",
   "execution_count": 20,
   "metadata": {},
   "outputs": [],
   "source": [
    "new_df_5 = classification(df_5,'SY_ASP_Band_1')\n",
    "new_df_30 = classification(df_30,'SY_ASP_30_Band_1')\n",
    "new_df_90 = classification(df_90,'SY_ASP_90_Band_1')"
   ]
  },
  {
   "cell_type": "code",
   "execution_count": 22,
   "metadata": {},
   "outputs": [],
   "source": [
    "# 保存到新表\n",
    "new_df_5.to_csv(os.path.join(work_path,'ASP_TEXT_5.csv'),index=False)\n",
    "new_df_30.to_csv(os.path.join(work_path,'ASP_TEXT_30.csv'),index=False)\n",
    "new_df_90.to_csv(os.path.join(work_path,'ASP_TEXT_90.csv'),index=False)"
   ]
  },
  {
   "cell_type": "code",
   "execution_count": 24,
   "metadata": {},
   "outputs": [],
   "source": [
    "# 随机森林克里格处理\n",
    "\n",
    "# 读取数据\n",
    "df_5 = pd.read_csv('../ArcGISProjects/syraster/out_file/ASP_TEXT_5.csv')\n",
    "df_30 = pd.read_csv('../ArcGISProjects/syraster/out_file/ASP_TEXT_30.csv')\n",
    "df_90 = pd.read_csv('../ArcGISProjects/syraster/out_file/ASP_TEXT_90.csv')"
   ]
  }
 ],
 "metadata": {
  "kernelspec": {
   "display_name": "base",
   "language": "python",
   "name": "python3"
  },
  "language_info": {
   "codemirror_mode": {
    "name": "ipython",
    "version": 3
   },
   "file_extension": ".py",
   "mimetype": "text/x-python",
   "name": "python",
   "nbconvert_exporter": "python",
   "pygments_lexer": "ipython3",
   "version": "3.9.12"
  },
  "orig_nbformat": 4
 },
 "nbformat": 4,
 "nbformat_minor": 2
}
