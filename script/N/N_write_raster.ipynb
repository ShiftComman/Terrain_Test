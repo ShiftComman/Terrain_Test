{
 "cells": [
  {
   "cell_type": "code",
   "execution_count": 48,
   "metadata": {},
   "outputs": [],
   "source": [
    "import arcpy\n",
    "from arcpy import env\n",
    "import pandas as pd\n",
    "import numpy as np\n",
    "from autogluon.tabular import TabularPredictor\n",
    "from pykrige.ok import OrdinaryKriging\n",
    "from sklearn.metrics import r2_score"
   ]
  },
  {
   "cell_type": "code",
   "execution_count": 50,
   "metadata": {},
   "outputs": [],
   "source": [
    "# 数组整形\n",
    "def resize_arrays(A, B, fill_value=0):\n",
    "    \"\"\"调整数组形状一致\"\"\"\n",
    "    new_shape = (max(A.shape[0], B.shape[0]), max(A.shape[1], B.shape[1]))\n",
    "\n",
    "    if A.shape != new_shape:\n",
    "        if A.shape[0] < new_shape[0]:\n",
    "            padding_rows = new_shape[0] - A.shape[0]\n",
    "            padding = np.full((padding_rows, A.shape[1]), fill_value)\n",
    "            A = np.vstack((A, padding))\n",
    "        elif A.shape[0] > new_shape[0]:\n",
    "            A = A[:new_shape[0], :]\n",
    "\n",
    "        if A.shape[1] < new_shape[1]:\n",
    "            pad_width = ((0, 0), (0, new_shape[1] - A.shape[1]))\n",
    "            A = np.pad(A, pad_width, mode='constant', constant_values=fill_value)\n",
    "        elif A.shape[1] > new_shape[1]:\n",
    "            A = A[:, :new_shape[1]]\n",
    "    \n",
    "    if B.shape != new_shape:\n",
    "        if B.shape[0] < new_shape[0]:\n",
    "            padding_rows = new_shape[0] - B.shape[0]\n",
    "            padding = np.full((padding_rows, B.shape[1]), fill_value)\n",
    "            B = np.vstack((B, padding))\n",
    "        elif B.shape[0] > new_shape[0]:\n",
    "            B = B[:new_shape[0], :]\n",
    "\n",
    "        if B.shape[1] < new_shape[1]:\n",
    "            pad_width = ((0, 0), (0, new_shape[1] - B.shape[1]))\n",
    "            B = np.pad(B, pad_width, mode='constant', constant_values=fill_value)\n",
    "        elif B.shape[1] > new_shape[1]:\n",
    "            B = B[:, :new_shape[1]]\n",
    "    \n",
    "    return A, B\n"
   ]
  },
  {
   "cell_type": "code",
   "execution_count": 70,
   "metadata": {},
   "outputs": [],
   "source": [
    "# predictor = TabularPredictor(label=label).fit(train_data,time_limit=600)\n",
    "predictor = TabularPredictor.load(r\"D:\\ArcgisData\\pred_organic\\N_pred_moudle\\zscore_normal\")"
   ]
  },
  {
   "cell_type": "code",
   "execution_count": 52,
   "metadata": {},
   "outputs": [
    {
     "data": {
      "text/plain": [
       "['DEM',\n",
       " 'TWI_5',\n",
       " 'TPI_201',\n",
       " 'TPI_101',\n",
       " 'TPI_11',\n",
       " 'TPI_3',\n",
       " 'TMP',\n",
       " 'SOILQS',\n",
       " 'SLOP',\n",
       " 'PRE',\n",
       " 'NIGTH',\n",
       " 'NDVI',\n",
       " 'DZ',\n",
       " 'DL',\n",
       " 'CUR',\n",
       " 'ASP',\n",
       " 'PLCUR',\n",
       " 'POCUR',\n",
       " 'RESULT',\n",
       " 'RESULT2']"
      ]
     },
     "execution_count": 52,
     "metadata": {},
     "output_type": "execute_result"
    }
   ],
   "source": [
    "# 设置工作环境\n",
    "env.workspace = r\"D:\\ArcgisData\\basedata\\basetrain_30m.gdb\"\n",
    "arcpy.ListRasters()"
   ]
  },
  {
   "cell_type": "code",
   "execution_count": 53,
   "metadata": {},
   "outputs": [
    {
     "data": {
      "text/plain": [
       "(['DEM',\n",
       "  'TWI_5',\n",
       "  'TPI_201',\n",
       "  'TPI_101',\n",
       "  'TPI_11',\n",
       "  'TPI_3',\n",
       "  'TMP',\n",
       "  'SOILQS',\n",
       "  'SLOP',\n",
       "  'PRE',\n",
       "  'NIGTH',\n",
       "  'NDVI',\n",
       "  'DZ',\n",
       "  'DL',\n",
       "  'ASP'],\n",
       " 15,\n",
       " 18)"
      ]
     },
     "execution_count": 53,
     "metadata": {},
     "output_type": "execute_result"
    }
   ],
   "source": [
    "# 过滤所用的特征因子\n",
    "check_list = ['X', 'Y', 'N', 'ASP', 'DEM', 'DL', 'NDVI', 'NIGTH', 'PRE', 'SLOP', 'SOILQS', 'TMP', 'TPI_11', 'TPI_101','TPI_201','TPI_3','TWI_5','DZ']\n",
    "feature_list = [_ for _ in arcpy.ListRasters() if _ in check_list ]\n",
    "feature_list,len(feature_list),len(check_list)"
   ]
  },
  {
   "cell_type": "code",
   "execution_count": 54,
   "metadata": {},
   "outputs": [
    {
     "name": "stdout",
     "output_type": "stream",
     "text": [
      "DEM (2481, 1849)\n",
      "TWI_5 (2481, 1849)\n",
      "TPI_201 (2481, 1849)\n",
      "TPI_101 (2481, 1849)\n",
      "TPI_11 (2481, 1849)\n",
      "TPI_3 (2481, 1849)\n",
      "TMP (2481, 1849)\n",
      "SOILQS (2481, 1849)\n",
      "SLOP (2481, 1849)\n",
      "PRE (2481, 1849)\n",
      "NIGTH (2481, 1849)\n",
      "NDVI (2481, 1849)\n",
      "DZ (2481, 1792)\n",
      "DL (2470, 1834)\n",
      "ASP (2481, 1849)\n"
     ]
    }
   ],
   "source": [
    "for one_raster in feature_list:\n",
    "    print(one_raster,arcpy.RasterToNumPyArray(one_raster).shape)"
   ]
  },
  {
   "cell_type": "code",
   "execution_count": 55,
   "metadata": {},
   "outputs": [],
   "source": [
    "dem_array = arcpy.RasterToNumPyArray(\"DEM\")\n",
    "dl_array = arcpy.RasterToNumPyArray(\"DL\")\n",
    "dz_array = arcpy.RasterToNumPyArray(\"DZ\")"
   ]
  },
  {
   "cell_type": "code",
   "execution_count": 56,
   "metadata": {},
   "outputs": [
    {
     "data": {
      "text/plain": [
       "((2481, 1849), (2481, 1849))"
      ]
     },
     "execution_count": 56,
     "metadata": {},
     "output_type": "execute_result"
    }
   ],
   "source": [
    "dl_array = resize_arrays(dem_array,dl_array,999)[1]\n",
    "dz_array = resize_arrays(dem_array,dz_array,8)[1]\n",
    "dl_array.shape,dz_array.shape"
   ]
  },
  {
   "cell_type": "code",
   "execution_count": null,
   "metadata": {},
   "outputs": [],
   "source": [
    "# 构造flat\n",
    "# ['X', 'Y', 'N', 'ASP', 'DEM', 'DL', 'NDVI', 'NIGTH', 'PRE', 'SLOP', 'SOILQS', 'TMP', 'TPI_11', 'TPI_101','TPI_201','TPI_3','TWI_5','DZ']"
   ]
  },
  {
   "cell_type": "code",
   "execution_count": 57,
   "metadata": {},
   "outputs": [],
   "source": [
    "\n",
    "asp = arcpy.RasterToNumPyArray(\"ASP\").flatten()\n",
    "dem = arcpy.RasterToNumPyArray(\"DEM\").flatten()\n",
    "dl = dl_array.flatten()\n",
    "ndvi = arcpy.RasterToNumPyArray(\"NDVI\").flatten()\n",
    "nigth = arcpy.RasterToNumPyArray(\"NIGTH\").flatten()\n",
    "pre = arcpy.RasterToNumPyArray(\"PRE\").flatten()\n",
    "slope = arcpy.RasterToNumPyArray(\"SLOP\").flatten()\n",
    "soilqs = arcpy.RasterToNumPyArray(\"SOILQS\").flatten()\n",
    "tmp = arcpy.RasterToNumPyArray(\"TMP\").flatten()\n",
    "tpi11 = arcpy.RasterToNumPyArray(\"TPI_11\").flatten()\n",
    "tpi101 = arcpy.RasterToNumPyArray(\"TPI_101\").flatten()\n",
    "tpi201 = arcpy.RasterToNumPyArray(\"TPI_201\").flatten()\n",
    "tpi3 = arcpy.RasterToNumPyArray(\"TPI_3\").flatten()\n",
    "twi5 = arcpy.RasterToNumPyArray(\"TWI_5\").flatten()\n",
    "dz = dz_array.flatten()\n"
   ]
  },
  {
   "cell_type": "code",
   "execution_count": 58,
   "metadata": {},
   "outputs": [
    {
     "name": "stdout",
     "output_type": "stream",
     "text": [
      "397387.5 3153427.5 30.0 30.0\n"
     ]
    }
   ],
   "source": [
    "# 构造经纬度信息\n",
    "desc = arcpy.Describe(\"DEM\")\n",
    "origin_x = desc.extent.XMin\n",
    "origin_y = desc.extent.YMax\n",
    "pixel_width = desc.meanCellWidth\n",
    "pixel_height = desc.meanCellHeight\n",
    "print(origin_x,origin_y,pixel_width,pixel_height)"
   ]
  },
  {
   "cell_type": "code",
   "execution_count": 59,
   "metadata": {},
   "outputs": [
    {
     "name": "stdout",
     "output_type": "stream",
     "text": [
      "(2481, 1849) 397432.5 452842.5\n"
     ]
    }
   ],
   "source": [
    "# 经度\n",
    "array_x = np.zeros(dem_array.shape, dtype=np.float64)\n",
    "array_x[:, 0] = 397387.5+15\n",
    "for i in range(1, dem_array.shape[1]):\n",
    "    array_x[:, i] = array_x[:, i-1] + 30\n",
    "print(array_x.shape,array_x[0,1],array_x[0,-1])"
   ]
  },
  {
   "cell_type": "code",
   "execution_count": 60,
   "metadata": {},
   "outputs": [
    {
     "name": "stdout",
     "output_type": "stream",
     "text": [
      "(2481, 1849) 3153442.5 3079042.5\n"
     ]
    }
   ],
   "source": [
    "# 纬度\n",
    "array_y = np.zeros(dem_array.shape,dtype=np.float64)\n",
    "array_y[0] = 3153427.5+15\n",
    "for i in range(1, dem_array.shape[0]):\n",
    "    array_y[i] = array_y[i-1] - 30\n",
    "print(array_y.shape,array_y[0][0],array_y[-1][0])"
   ]
  },
  {
   "cell_type": "code",
   "execution_count": 61,
   "metadata": {},
   "outputs": [],
   "source": [
    "x = array_x.flatten()\n",
    "y = array_y.flatten()"
   ]
  },
  {
   "cell_type": "code",
   "execution_count": 62,
   "metadata": {},
   "outputs": [],
   "source": [
    "features2 = np.column_stack((x,y,asp,dem,dl,ndvi,nigth,pre,slope,soilqs,tmp,tpi11,tpi101,tpi201,tpi3,twi5,dz))"
   ]
  },
  {
   "cell_type": "code",
   "execution_count": 63,
   "metadata": {},
   "outputs": [
    {
     "data": {
      "text/plain": [
       "77985273"
      ]
     },
     "execution_count": 63,
     "metadata": {},
     "output_type": "execute_result"
    }
   ],
   "source": [
    "features2.size"
   ]
  },
  {
   "cell_type": "code",
   "execution_count": 64,
   "metadata": {},
   "outputs": [],
   "source": [
    "xulian_data = pd.DataFrame(features2,columns=['X','Y','ASP','DEM','DL','NDVI','NIGHT','PRE','SLOPE','SOILQS','TMP','TPI11','TPI101','TPI201','TPI3','TWI5','DZ'])"
   ]
  },
  {
   "cell_type": "code",
   "execution_count": 65,
   "metadata": {},
   "outputs": [
    {
     "data": {
      "text/plain": [
       "(4587369, 17)"
      ]
     },
     "execution_count": 65,
     "metadata": {},
     "output_type": "execute_result"
    }
   ],
   "source": [
    "xulian_data.shape"
   ]
  },
  {
   "cell_type": "code",
   "execution_count": 66,
   "metadata": {},
   "outputs": [
    {
     "name": "stdout",
     "output_type": "stream",
     "text": [
      "0\n",
      "400000\n",
      "800000\n",
      "1200000\n",
      "1600000\n",
      "2000000\n",
      "2400000\n",
      "2800000\n",
      "3200000\n",
      "3600000\n",
      "4000000\n",
      "4400000\n"
     ]
    }
   ],
   "source": [
    "import os\n",
    "out_path = r\"D:\\ArcgisData\\pred_organic\\N_out_table\\cut_csv\"\n",
    "chunk_size = 400000\n",
    "total_rows = xulian_data.shape[0]\n",
    "for i in range(0, total_rows, chunk_size):\n",
    "    start = i\n",
    "    end = min(i + chunk_size, total_rows)\n",
    "    filename =  os.path.join(out_path,f'data_chunk_{i}.csv') # 文件名格式可以根据您的需要进行修改\n",
    "    df_chunk = xulian_data.iloc[start:end]\n",
    "    df_chunk.to_csv(filename, index=False)\n",
    "    print(i)\n",
    "\n"
   ]
  },
  {
   "cell_type": "code",
   "execution_count": 67,
   "metadata": {},
   "outputs": [
    {
     "data": {
      "text/plain": [
       "(['D:\\\\ArcgisData\\\\pred_organic\\\\N_out_table\\\\cut_csv\\\\data_chunk_0.csv',\n",
       "  'D:\\\\ArcgisData\\\\pred_organic\\\\N_out_table\\\\cut_csv\\\\data_chunk_1200000.csv',\n",
       "  'D:\\\\ArcgisData\\\\pred_organic\\\\N_out_table\\\\cut_csv\\\\data_chunk_1600000.csv',\n",
       "  'D:\\\\ArcgisData\\\\pred_organic\\\\N_out_table\\\\cut_csv\\\\data_chunk_2000000.csv',\n",
       "  'D:\\\\ArcgisData\\\\pred_organic\\\\N_out_table\\\\cut_csv\\\\data_chunk_2400000.csv',\n",
       "  'D:\\\\ArcgisData\\\\pred_organic\\\\N_out_table\\\\cut_csv\\\\data_chunk_2800000.csv',\n",
       "  'D:\\\\ArcgisData\\\\pred_organic\\\\N_out_table\\\\cut_csv\\\\data_chunk_3200000.csv',\n",
       "  'D:\\\\ArcgisData\\\\pred_organic\\\\N_out_table\\\\cut_csv\\\\data_chunk_3600000.csv',\n",
       "  'D:\\\\ArcgisData\\\\pred_organic\\\\N_out_table\\\\cut_csv\\\\data_chunk_400000.csv',\n",
       "  'D:\\\\ArcgisData\\\\pred_organic\\\\N_out_table\\\\cut_csv\\\\data_chunk_4000000.csv',\n",
       "  'D:\\\\ArcgisData\\\\pred_organic\\\\N_out_table\\\\cut_csv\\\\data_chunk_4400000.csv',\n",
       "  'D:\\\\ArcgisData\\\\pred_organic\\\\N_out_table\\\\cut_csv\\\\data_chunk_800000.csv'],\n",
       " 12)"
      ]
     },
     "execution_count": 67,
     "metadata": {},
     "output_type": "execute_result"
    }
   ],
   "source": [
    "# 读取特征表\n",
    "table_list = [os.path.join(out_path,_) for _ in os.listdir(out_path)]\n",
    "table_list,len(table_list)"
   ]
  },
  {
   "cell_type": "code",
   "execution_count": 68,
   "metadata": {},
   "outputs": [
    {
     "data": {
      "text/plain": [
       "['D:\\\\ArcgisData\\\\pred_organic\\\\N_out_table\\\\cut_csv\\\\data_chunk_0.csv',\n",
       " 'D:\\\\ArcgisData\\\\pred_organic\\\\N_out_table\\\\cut_csv\\\\data_chunk_400000.csv',\n",
       " 'D:\\\\ArcgisData\\\\pred_organic\\\\N_out_table\\\\cut_csv\\\\data_chunk_800000.csv',\n",
       " 'D:\\\\ArcgisData\\\\pred_organic\\\\N_out_table\\\\cut_csv\\\\data_chunk_1200000.csv',\n",
       " 'D:\\\\ArcgisData\\\\pred_organic\\\\N_out_table\\\\cut_csv\\\\data_chunk_1600000.csv',\n",
       " 'D:\\\\ArcgisData\\\\pred_organic\\\\N_out_table\\\\cut_csv\\\\data_chunk_2000000.csv',\n",
       " 'D:\\\\ArcgisData\\\\pred_organic\\\\N_out_table\\\\cut_csv\\\\data_chunk_2400000.csv',\n",
       " 'D:\\\\ArcgisData\\\\pred_organic\\\\N_out_table\\\\cut_csv\\\\data_chunk_2800000.csv',\n",
       " 'D:\\\\ArcgisData\\\\pred_organic\\\\N_out_table\\\\cut_csv\\\\data_chunk_3200000.csv',\n",
       " 'D:\\\\ArcgisData\\\\pred_organic\\\\N_out_table\\\\cut_csv\\\\data_chunk_3600000.csv',\n",
       " 'D:\\\\ArcgisData\\\\pred_organic\\\\N_out_table\\\\cut_csv\\\\data_chunk_4000000.csv',\n",
       " 'D:\\\\ArcgisData\\\\pred_organic\\\\N_out_table\\\\cut_csv\\\\data_chunk_4400000.csv']"
      ]
     },
     "execution_count": 68,
     "metadata": {},
     "output_type": "execute_result"
    }
   ],
   "source": [
    "# 排序列表\n",
    "\n",
    "# 使用lambda函数将文件名按照最后一个下划线后面的数字大小进行排序\n",
    "sorted_files = sorted(table_list, key=lambda x: int(x.rsplit('_', 1)[-1].split('.')[0]))\n",
    "sorted_files"
   ]
  },
  {
   "cell_type": "code",
   "execution_count": 71,
   "metadata": {},
   "outputs": [],
   "source": [
    "# 预测数据存储位置\n",
    "result_path = r\"D:\\ArcgisData\\pred_organic\\N_out_table\\pre_csv\""
   ]
  },
  {
   "cell_type": "code",
   "execution_count": 72,
   "metadata": {},
   "outputs": [
    {
     "name": "stderr",
     "output_type": "stream",
     "text": [
      "d:\\Program Files\\ArcGIS\\Clone_env2\\arcgispro-py3\\lib\\site-packages\\sklearn\\neighbors\\_regression.py:255: RuntimeWarning: invalid value encountered in true_divide\n",
      "  y_pred[:, j] = num / denom\n"
     ]
    },
    {
     "name": "stdout",
     "output_type": "stream",
     "text": [
      "1\n"
     ]
    },
    {
     "name": "stderr",
     "output_type": "stream",
     "text": [
      "d:\\Program Files\\ArcGIS\\Clone_env2\\arcgispro-py3\\lib\\site-packages\\sklearn\\neighbors\\_regression.py:255: RuntimeWarning: invalid value encountered in true_divide\n",
      "  y_pred[:, j] = num / denom\n"
     ]
    },
    {
     "name": "stdout",
     "output_type": "stream",
     "text": [
      "2\n"
     ]
    },
    {
     "name": "stderr",
     "output_type": "stream",
     "text": [
      "d:\\Program Files\\ArcGIS\\Clone_env2\\arcgispro-py3\\lib\\site-packages\\sklearn\\neighbors\\_regression.py:255: RuntimeWarning: invalid value encountered in true_divide\n",
      "  y_pred[:, j] = num / denom\n"
     ]
    },
    {
     "name": "stdout",
     "output_type": "stream",
     "text": [
      "3\n"
     ]
    },
    {
     "name": "stderr",
     "output_type": "stream",
     "text": [
      "d:\\Program Files\\ArcGIS\\Clone_env2\\arcgispro-py3\\lib\\site-packages\\sklearn\\neighbors\\_regression.py:255: RuntimeWarning: invalid value encountered in true_divide\n",
      "  y_pred[:, j] = num / denom\n"
     ]
    },
    {
     "name": "stdout",
     "output_type": "stream",
     "text": [
      "4\n"
     ]
    },
    {
     "name": "stderr",
     "output_type": "stream",
     "text": [
      "d:\\Program Files\\ArcGIS\\Clone_env2\\arcgispro-py3\\lib\\site-packages\\sklearn\\neighbors\\_regression.py:255: RuntimeWarning: invalid value encountered in true_divide\n",
      "  y_pred[:, j] = num / denom\n"
     ]
    },
    {
     "name": "stdout",
     "output_type": "stream",
     "text": [
      "5\n"
     ]
    },
    {
     "name": "stderr",
     "output_type": "stream",
     "text": [
      "d:\\Program Files\\ArcGIS\\Clone_env2\\arcgispro-py3\\lib\\site-packages\\sklearn\\neighbors\\_regression.py:255: RuntimeWarning: invalid value encountered in true_divide\n",
      "  y_pred[:, j] = num / denom\n"
     ]
    },
    {
     "name": "stdout",
     "output_type": "stream",
     "text": [
      "6\n"
     ]
    },
    {
     "name": "stderr",
     "output_type": "stream",
     "text": [
      "d:\\Program Files\\ArcGIS\\Clone_env2\\arcgispro-py3\\lib\\site-packages\\sklearn\\neighbors\\_regression.py:255: RuntimeWarning: invalid value encountered in true_divide\n",
      "  y_pred[:, j] = num / denom\n"
     ]
    },
    {
     "name": "stdout",
     "output_type": "stream",
     "text": [
      "7\n"
     ]
    },
    {
     "name": "stderr",
     "output_type": "stream",
     "text": [
      "d:\\Program Files\\ArcGIS\\Clone_env2\\arcgispro-py3\\lib\\site-packages\\sklearn\\neighbors\\_regression.py:255: RuntimeWarning: invalid value encountered in true_divide\n",
      "  y_pred[:, j] = num / denom\n"
     ]
    },
    {
     "name": "stdout",
     "output_type": "stream",
     "text": [
      "8\n"
     ]
    },
    {
     "name": "stderr",
     "output_type": "stream",
     "text": [
      "d:\\Program Files\\ArcGIS\\Clone_env2\\arcgispro-py3\\lib\\site-packages\\sklearn\\neighbors\\_regression.py:255: RuntimeWarning: invalid value encountered in true_divide\n",
      "  y_pred[:, j] = num / denom\n"
     ]
    },
    {
     "name": "stdout",
     "output_type": "stream",
     "text": [
      "9\n"
     ]
    },
    {
     "name": "stderr",
     "output_type": "stream",
     "text": [
      "d:\\Program Files\\ArcGIS\\Clone_env2\\arcgispro-py3\\lib\\site-packages\\sklearn\\neighbors\\_regression.py:255: RuntimeWarning: invalid value encountered in true_divide\n",
      "  y_pred[:, j] = num / denom\n"
     ]
    },
    {
     "name": "stdout",
     "output_type": "stream",
     "text": [
      "10\n"
     ]
    },
    {
     "name": "stderr",
     "output_type": "stream",
     "text": [
      "d:\\Program Files\\ArcGIS\\Clone_env2\\arcgispro-py3\\lib\\site-packages\\sklearn\\neighbors\\_regression.py:255: RuntimeWarning: invalid value encountered in true_divide\n",
      "  y_pred[:, j] = num / denom\n"
     ]
    },
    {
     "name": "stdout",
     "output_type": "stream",
     "text": [
      "11\n"
     ]
    },
    {
     "name": "stderr",
     "output_type": "stream",
     "text": [
      "d:\\Program Files\\ArcGIS\\Clone_env2\\arcgispro-py3\\lib\\site-packages\\sklearn\\neighbors\\_regression.py:255: RuntimeWarning: invalid value encountered in true_divide\n",
      "  y_pred[:, j] = num / denom\n"
     ]
    },
    {
     "name": "stdout",
     "output_type": "stream",
     "text": [
      "12\n"
     ]
    }
   ],
   "source": [
    "n = 0\n",
    "for one_table in sorted_files:\n",
    "    data_df = pd.read_csv(one_table)\n",
    "    temp_pred = predictor.predict(data_df)\n",
    "    temp_pred.to_csv(os.path.join(result_path,f\"{n}.csv\"))\n",
    "    n+=1\n",
    "    print(n)"
   ]
  },
  {
   "cell_type": "code",
   "execution_count": 73,
   "metadata": {},
   "outputs": [
    {
     "data": {
      "text/plain": [
       "['D:\\\\ArcgisData\\\\pred_organic\\\\N_out_table\\\\pre_csv\\\\0.csv',\n",
       " 'D:\\\\ArcgisData\\\\pred_organic\\\\N_out_table\\\\pre_csv\\\\1.csv',\n",
       " 'D:\\\\ArcgisData\\\\pred_organic\\\\N_out_table\\\\pre_csv\\\\2.csv',\n",
       " 'D:\\\\ArcgisData\\\\pred_organic\\\\N_out_table\\\\pre_csv\\\\3.csv',\n",
       " 'D:\\\\ArcgisData\\\\pred_organic\\\\N_out_table\\\\pre_csv\\\\4.csv',\n",
       " 'D:\\\\ArcgisData\\\\pred_organic\\\\N_out_table\\\\pre_csv\\\\5.csv',\n",
       " 'D:\\\\ArcgisData\\\\pred_organic\\\\N_out_table\\\\pre_csv\\\\6.csv',\n",
       " 'D:\\\\ArcgisData\\\\pred_organic\\\\N_out_table\\\\pre_csv\\\\7.csv',\n",
       " 'D:\\\\ArcgisData\\\\pred_organic\\\\N_out_table\\\\pre_csv\\\\8.csv',\n",
       " 'D:\\\\ArcgisData\\\\pred_organic\\\\N_out_table\\\\pre_csv\\\\9.csv',\n",
       " 'D:\\\\ArcgisData\\\\pred_organic\\\\N_out_table\\\\pre_csv\\\\10.csv',\n",
       " 'D:\\\\ArcgisData\\\\pred_organic\\\\N_out_table\\\\pre_csv\\\\11.csv']"
      ]
     },
     "execution_count": 73,
     "metadata": {},
     "output_type": "execute_result"
    }
   ],
   "source": [
    "# 读取预测结果\n",
    "pre_csv_list = [os.path.join(result_path,_) for _ in os.listdir(result_path)]\n",
    "pre_csv_list = sorted(pre_csv_list,key=lambda x:int(x.rsplit('\\\\', -1)[-1].split('.')[0]))\n",
    "pre_csv_list"
   ]
  },
  {
   "cell_type": "code",
   "execution_count": 74,
   "metadata": {},
   "outputs": [
    {
     "name": "stdout",
     "output_type": "stream",
     "text": [
      "D:\\ArcgisData\\pred_organic\\N_out_table\\pre_csv\\1.csv\n",
      "D:\\ArcgisData\\pred_organic\\N_out_table\\pre_csv\\2.csv\n",
      "D:\\ArcgisData\\pred_organic\\N_out_table\\pre_csv\\3.csv\n",
      "D:\\ArcgisData\\pred_organic\\N_out_table\\pre_csv\\4.csv\n",
      "D:\\ArcgisData\\pred_organic\\N_out_table\\pre_csv\\5.csv\n",
      "D:\\ArcgisData\\pred_organic\\N_out_table\\pre_csv\\6.csv\n",
      "D:\\ArcgisData\\pred_organic\\N_out_table\\pre_csv\\7.csv\n",
      "D:\\ArcgisData\\pred_organic\\N_out_table\\pre_csv\\8.csv\n",
      "D:\\ArcgisData\\pred_organic\\N_out_table\\pre_csv\\9.csv\n",
      "D:\\ArcgisData\\pred_organic\\N_out_table\\pre_csv\\10.csv\n",
      "D:\\ArcgisData\\pred_organic\\N_out_table\\pre_csv\\11.csv\n"
     ]
    }
   ],
   "source": [
    "pre_df = pd.read_csv(pre_csv_list[0])\n",
    "for one_pred in pre_csv_list[1:]:\n",
    "    temp_df = pd.read_csv(one_pred)\n",
    "    pre_df = pd.concat([pre_df,temp_df],axis=0)\n",
    "    print(one_pred)"
   ]
  },
  {
   "cell_type": "code",
   "execution_count": 75,
   "metadata": {},
   "outputs": [],
   "source": [
    "# 保存完整的预测数据\n",
    "pre_df.to_csv(os.path.join(r\"D:\\ArcgisData\\pred_organic\\N_out_table\\merge_csv\",\"result.csv\"))"
   ]
  },
  {
   "cell_type": "code",
   "execution_count": 76,
   "metadata": {},
   "outputs": [
    {
     "data": {
      "text/plain": [
       "((2481, 1849), 9174738)"
      ]
     },
     "execution_count": 76,
     "metadata": {},
     "output_type": "execute_result"
    }
   ],
   "source": [
    "dem_array.shape,pre_df.size"
   ]
  },
  {
   "cell_type": "code",
   "execution_count": 77,
   "metadata": {},
   "outputs": [
    {
     "data": {
      "text/plain": [
       "Index(['Unnamed: 0', 'N'], dtype='object')"
      ]
     },
     "execution_count": 77,
     "metadata": {},
     "output_type": "execute_result"
    }
   ],
   "source": [
    "pre_df.columns"
   ]
  },
  {
   "cell_type": "code",
   "execution_count": 78,
   "metadata": {},
   "outputs": [
    {
     "data": {
      "text/plain": [
       "array([[2.2934642, 2.2934575, 2.2934506, ..., 1.8250482, 1.8250508,\n",
       "        1.8250535],\n",
       "       [2.2934735, 2.2934668, 2.29346  , ..., 1.8250465, 1.8250492,\n",
       "        1.8250518],\n",
       "       [2.2934828, 2.293476 , 2.2934692, ..., 1.8250446, 1.8250475,\n",
       "        1.8250501],\n",
       "       ...,\n",
       "       [1.9921412, 1.9921447, 1.9921482, ..., 1.8764555, 1.8764553,\n",
       "        1.8764553],\n",
       "       [1.9921442, 1.9921477, 1.9921513, ..., 1.8764565, 1.8764565,\n",
       "        1.8764565],\n",
       "       [1.9921472, 1.9921508, 1.9921542, ..., 1.8764577, 1.8764577,\n",
       "        1.8764577]])"
      ]
     },
     "execution_count": 78,
     "metadata": {},
     "output_type": "execute_result"
    }
   ],
   "source": [
    "raster_array = np.reshape(pre_df['N'].values,dem_array.shape)\n",
    "raster_array"
   ]
  },
  {
   "cell_type": "code",
   "execution_count": 79,
   "metadata": {},
   "outputs": [],
   "source": [
    "#\n",
    "env.extent = \"DEM\""
   ]
  },
  {
   "cell_type": "code",
   "execution_count": 81,
   "metadata": {},
   "outputs": [
    {
     "name": "stdout",
     "output_type": "stream",
     "text": [
      "完成\n"
     ]
    }
   ],
   "source": [
    "\n",
    "# 将预测结果输出为栅格数据\n",
    "out_raster = arcpy.NumPyArrayToRaster(\n",
    "    raster_array,\n",
    "    arcpy.Point(arcpy.env.extent.XMin, arcpy.env.extent.YMin),\n",
    "    30,\n",
    "    30,\n",
    ")\n",
    "out_raster.save(\"RESULT3\")\n",
    "print(\"完成\")\n"
   ]
  }
 ],
 "metadata": {
  "kernelspec": {
   "display_name": "Python 3",
   "language": "python",
   "name": "python3"
  },
  "language_info": {
   "codemirror_mode": {
    "name": "ipython",
    "version": 3
   },
   "file_extension": ".py",
   "mimetype": "text/x-python",
   "name": "python",
   "nbconvert_exporter": "python",
   "pygments_lexer": "ipython3",
   "version": "3.9.11"
  },
  "orig_nbformat": 4
 },
 "nbformat": 4,
 "nbformat_minor": 2
}
