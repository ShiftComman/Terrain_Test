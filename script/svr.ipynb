{
 "cells": [
  {
   "cell_type": "code",
   "execution_count": 3,
   "metadata": {},
   "outputs": [],
   "source": [
    "from sklearn.svm import SVR\n",
    "from sklearn.model_selection import train_test_split\n",
    "from sklearn.preprocessing import StandardScaler\n",
    "from sklearn.metrics import mean_squared_error, r2_score\n",
    "import pandas as pd\n",
    "import numpy as np"
   ]
  },
  {
   "cell_type": "code",
   "execution_count": 4,
   "metadata": {},
   "outputs": [
    {
     "name": "stdout",
     "output_type": "stream",
     "text": [
      "6808\n"
     ]
    },
    {
     "data": {
      "text/plain": [
       "Ph        float64\n",
       "N         float64\n",
       "TWI5      float64\n",
       "TPI201    float64\n",
       "TPI101    float64\n",
       "TPI11     float64\n",
       "TPI3      float64\n",
       "TMP       float64\n",
       "SOILQS      int64\n",
       "SLOP      float64\n",
       "PRE       float64\n",
       "NIGTH     float64\n",
       "NDVI      float64\n",
       "DEM       float64\n",
       "CUR       float64\n",
       "ASP       float64\n",
       "PLCUR     float64\n",
       "POCUR     float64\n",
       "OSJL      float64\n",
       "LAT       float64\n",
       "LON       float64\n",
       "DZ         object\n",
       "DL         object\n",
       "dtype: object"
      ]
     },
     "execution_count": 4,
     "metadata": {},
     "output_type": "execute_result"
    }
   ],
   "source": [
    "# 读取数据\n",
    "data = pd.read_csv(r'D:\\ArcgisData\\pred_organic_p_n\\feature_table\\feature_table_result\\all_result.csv')\n",
    "print(len(data))\n",
    "# 删除有缺失值的行\n",
    "data.dropna(inplace=True)\n",
    "len(data),data.columns\n",
    "data.drop(['Unnamed: 0','GDPOINTNPSOM','P','SOM'], axis=1, inplace=True)\n",
    "data.columns\n",
    "data['DL'] = data['DL'].astype(str)\n",
    "data['DZ'] = data['DZ'].astype(str)\n",
    "data.dtypes"
   ]
  },
  {
   "cell_type": "code",
   "execution_count": 6,
   "metadata": {},
   "outputs": [
    {
     "name": "stdout",
     "output_type": "stream",
     "text": [
      "Mean Squared Error (MSE): 0.53\n",
      "R-squared (R2): 0.41\n"
     ]
    }
   ],
   "source": [
    "# 假设您已经有一个包含特征和目标变量（pH值）的数据集\n",
    "# 提取特征和目标变量\n",
    "X = data.drop('Ph', axis=1)  # 特征\n",
    "y = data['Ph']  # 目标变量\n",
    "\n",
    "# 分割数据集为训练集和测试集\n",
    "X_train, X_test, y_train, y_test = train_test_split(X, y, test_size=0.2, random_state=42)\n",
    "\n",
    "# 特征缩放\n",
    "scaler = StandardScaler()\n",
    "X_train_scaled = scaler.fit_transform(X_train)\n",
    "X_test_scaled = scaler.transform(X_test)\n",
    "\n",
    "# 创建并训练SVR模型\n",
    "# 可以根据需要调整SVR的参数，例如：kernel（核函数）、C（惩罚系数）、epsilon（容忍度）等\n",
    "svr_model = SVR(kernel='rbf', C=0.5, epsilon=0.5)\n",
    "svr_model.fit(X_train_scaled, y_train)\n",
    "\n",
    "# 使用测试集进行预测\n",
    "y_pred = svr_model.predict(X_test_scaled)\n",
    "\n",
    "# 评估模型性能\n",
    "mse = mean_squared_error(y_test, y_pred)\n",
    "r2 = r2_score(y_test, y_pred)\n",
    "\n",
    "print(f\"Mean Squared Error (MSE): {mse:.2f}\")\n",
    "print(f\"R-squared (R2): {r2:.2f}\")\n"
   ]
  }
 ],
 "metadata": {
  "kernelspec": {
   "display_name": "Python 3",
   "language": "python",
   "name": "python3"
  },
  "language_info": {
   "codemirror_mode": {
    "name": "ipython",
    "version": 3
   },
   "file_extension": ".py",
   "mimetype": "text/x-python",
   "name": "python",
   "nbconvert_exporter": "python",
   "pygments_lexer": "ipython3",
   "version": "3.9.11"
  },
  "orig_nbformat": 4
 },
 "nbformat": 4,
 "nbformat_minor": 2
}
